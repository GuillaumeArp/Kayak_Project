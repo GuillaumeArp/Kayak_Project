{
 "cells": [
  {
   "cell_type": "markdown",
   "metadata": {},
   "source": [
    "# Kayak Project"
   ]
  },
  {
   "cell_type": "markdown",
   "metadata": {},
   "source": [
    "## Imports"
   ]
  },
  {
   "cell_type": "code",
   "execution_count": 1,
   "metadata": {},
   "outputs": [],
   "source": [
    "import pandas as pd\n",
    "import numpy as np\n",
    "import plotly.express as px\n",
    "import requests\n",
    "from dotenv import load_dotenv\n",
    "import os\n",
    "import logging\n",
    "import scrapy\n",
    "from scrapy.crawler import CrawlerProcess\n",
    "from bs4 import BeautifulSoup\n",
    "import requests\n",
    "import time\n",
    "import boto3\n",
    "import datetime\n",
    "\n",
    "load_dotenv()\n",
    "%load_ext dotenv\n",
    "%dotenv\n",
    "\n",
    "# Openweathermap API\n",
    "key = os.getenv('APIKEY')\n",
    "# RDS Connection\n",
    "DBHOST = os.getenv(\"DBHOST\")\n",
    "DBUSER = os.getenv(\"DBUSER\")\n",
    "DBPASS = os.getenv(\"DBPASS\")\n",
    "DBNAME = os.getenv(\"DBNAME\")"
   ]
  },
  {
   "cell_type": "code",
   "execution_count": 2,
   "metadata": {},
   "outputs": [],
   "source": [
    "# Importing the cities list\n",
    "cities = [\"Mont Saint Michel\", \"St Malo\", \"Bayeux\", \"Le Havre\", \"Rouen\", \"Paris\", \"Amiens\", \"Lille\", \"Strasbourg\", \"Chateau du Haut Koenigsbourg\", \"Colmar\", \"Eguisheim\", \"Besancon\", \"Dijon\", \"Annecy\", \"Grenoble\", \"Lyon\", \"Gorges du Verdon\", \"Bormes les Mimosas\", \"Cassis\", \"Marseille\", \"Aix en Provence\", \"Avignon\", \"Uzes\", \"Nimes\", \"Aigues Mortes\", \"Saintes Maries de la mer\", \"Collioure\", \"Carcassonne\", \"Ariege\", \"Toulouse\", \"Montauban\", \"Biarritz\", \"Bayonne\", \"La Rochelle\"]"
   ]
  },
  {
   "cell_type": "code",
   "execution_count": 3,
   "metadata": {},
   "outputs": [
    {
     "data": {
      "text/html": [
       "<div>\n",
       "<style scoped>\n",
       "    .dataframe tbody tr th:only-of-type {\n",
       "        vertical-align: middle;\n",
       "    }\n",
       "\n",
       "    .dataframe tbody tr th {\n",
       "        vertical-align: top;\n",
       "    }\n",
       "\n",
       "    .dataframe thead th {\n",
       "        text-align: right;\n",
       "    }\n",
       "</style>\n",
       "<table border=\"1\" class=\"dataframe\">\n",
       "  <thead>\n",
       "    <tr style=\"text-align: right;\">\n",
       "      <th></th>\n",
       "      <th>id</th>\n",
       "      <th>city</th>\n",
       "    </tr>\n",
       "  </thead>\n",
       "  <tbody>\n",
       "    <tr>\n",
       "      <th>0</th>\n",
       "      <td>0</td>\n",
       "      <td>Mont Saint Michel</td>\n",
       "    </tr>\n",
       "    <tr>\n",
       "      <th>1</th>\n",
       "      <td>1</td>\n",
       "      <td>St Malo</td>\n",
       "    </tr>\n",
       "    <tr>\n",
       "      <th>2</th>\n",
       "      <td>2</td>\n",
       "      <td>Bayeux</td>\n",
       "    </tr>\n",
       "    <tr>\n",
       "      <th>3</th>\n",
       "      <td>3</td>\n",
       "      <td>Le Havre</td>\n",
       "    </tr>\n",
       "    <tr>\n",
       "      <th>4</th>\n",
       "      <td>4</td>\n",
       "      <td>Rouen</td>\n",
       "    </tr>\n",
       "    <tr>\n",
       "      <th>5</th>\n",
       "      <td>5</td>\n",
       "      <td>Paris</td>\n",
       "    </tr>\n",
       "    <tr>\n",
       "      <th>6</th>\n",
       "      <td>6</td>\n",
       "      <td>Amiens</td>\n",
       "    </tr>\n",
       "    <tr>\n",
       "      <th>7</th>\n",
       "      <td>7</td>\n",
       "      <td>Lille</td>\n",
       "    </tr>\n",
       "    <tr>\n",
       "      <th>8</th>\n",
       "      <td>8</td>\n",
       "      <td>Strasbourg</td>\n",
       "    </tr>\n",
       "    <tr>\n",
       "      <th>9</th>\n",
       "      <td>9</td>\n",
       "      <td>Chateau du Haut Koenigsbourg</td>\n",
       "    </tr>\n",
       "    <tr>\n",
       "      <th>10</th>\n",
       "      <td>10</td>\n",
       "      <td>Colmar</td>\n",
       "    </tr>\n",
       "    <tr>\n",
       "      <th>11</th>\n",
       "      <td>11</td>\n",
       "      <td>Eguisheim</td>\n",
       "    </tr>\n",
       "    <tr>\n",
       "      <th>12</th>\n",
       "      <td>12</td>\n",
       "      <td>Besancon</td>\n",
       "    </tr>\n",
       "    <tr>\n",
       "      <th>13</th>\n",
       "      <td>13</td>\n",
       "      <td>Dijon</td>\n",
       "    </tr>\n",
       "    <tr>\n",
       "      <th>14</th>\n",
       "      <td>14</td>\n",
       "      <td>Annecy</td>\n",
       "    </tr>\n",
       "    <tr>\n",
       "      <th>15</th>\n",
       "      <td>15</td>\n",
       "      <td>Grenoble</td>\n",
       "    </tr>\n",
       "    <tr>\n",
       "      <th>16</th>\n",
       "      <td>16</td>\n",
       "      <td>Lyon</td>\n",
       "    </tr>\n",
       "    <tr>\n",
       "      <th>17</th>\n",
       "      <td>17</td>\n",
       "      <td>Gorges du Verdon</td>\n",
       "    </tr>\n",
       "    <tr>\n",
       "      <th>18</th>\n",
       "      <td>18</td>\n",
       "      <td>Bormes les Mimosas</td>\n",
       "    </tr>\n",
       "    <tr>\n",
       "      <th>19</th>\n",
       "      <td>19</td>\n",
       "      <td>Cassis</td>\n",
       "    </tr>\n",
       "    <tr>\n",
       "      <th>20</th>\n",
       "      <td>20</td>\n",
       "      <td>Marseille</td>\n",
       "    </tr>\n",
       "    <tr>\n",
       "      <th>21</th>\n",
       "      <td>21</td>\n",
       "      <td>Aix en Provence</td>\n",
       "    </tr>\n",
       "    <tr>\n",
       "      <th>22</th>\n",
       "      <td>22</td>\n",
       "      <td>Avignon</td>\n",
       "    </tr>\n",
       "    <tr>\n",
       "      <th>23</th>\n",
       "      <td>23</td>\n",
       "      <td>Uzes</td>\n",
       "    </tr>\n",
       "    <tr>\n",
       "      <th>24</th>\n",
       "      <td>24</td>\n",
       "      <td>Nimes</td>\n",
       "    </tr>\n",
       "    <tr>\n",
       "      <th>25</th>\n",
       "      <td>25</td>\n",
       "      <td>Aigues Mortes</td>\n",
       "    </tr>\n",
       "    <tr>\n",
       "      <th>26</th>\n",
       "      <td>26</td>\n",
       "      <td>Saintes Maries de la mer</td>\n",
       "    </tr>\n",
       "    <tr>\n",
       "      <th>27</th>\n",
       "      <td>27</td>\n",
       "      <td>Collioure</td>\n",
       "    </tr>\n",
       "    <tr>\n",
       "      <th>28</th>\n",
       "      <td>28</td>\n",
       "      <td>Carcassonne</td>\n",
       "    </tr>\n",
       "    <tr>\n",
       "      <th>29</th>\n",
       "      <td>29</td>\n",
       "      <td>Ariege</td>\n",
       "    </tr>\n",
       "    <tr>\n",
       "      <th>30</th>\n",
       "      <td>30</td>\n",
       "      <td>Toulouse</td>\n",
       "    </tr>\n",
       "    <tr>\n",
       "      <th>31</th>\n",
       "      <td>31</td>\n",
       "      <td>Montauban</td>\n",
       "    </tr>\n",
       "    <tr>\n",
       "      <th>32</th>\n",
       "      <td>32</td>\n",
       "      <td>Biarritz</td>\n",
       "    </tr>\n",
       "    <tr>\n",
       "      <th>33</th>\n",
       "      <td>33</td>\n",
       "      <td>Bayonne</td>\n",
       "    </tr>\n",
       "    <tr>\n",
       "      <th>34</th>\n",
       "      <td>34</td>\n",
       "      <td>La Rochelle</td>\n",
       "    </tr>\n",
       "  </tbody>\n",
       "</table>\n",
       "</div>"
      ],
      "text/plain": [
       "    id                          city\n",
       "0    0             Mont Saint Michel\n",
       "1    1                       St Malo\n",
       "2    2                        Bayeux\n",
       "3    3                      Le Havre\n",
       "4    4                         Rouen\n",
       "5    5                         Paris\n",
       "6    6                        Amiens\n",
       "7    7                         Lille\n",
       "8    8                    Strasbourg\n",
       "9    9  Chateau du Haut Koenigsbourg\n",
       "10  10                        Colmar\n",
       "11  11                     Eguisheim\n",
       "12  12                      Besancon\n",
       "13  13                         Dijon\n",
       "14  14                        Annecy\n",
       "15  15                      Grenoble\n",
       "16  16                          Lyon\n",
       "17  17              Gorges du Verdon\n",
       "18  18            Bormes les Mimosas\n",
       "19  19                        Cassis\n",
       "20  20                     Marseille\n",
       "21  21               Aix en Provence\n",
       "22  22                       Avignon\n",
       "23  23                          Uzes\n",
       "24  24                         Nimes\n",
       "25  25                 Aigues Mortes\n",
       "26  26      Saintes Maries de la mer\n",
       "27  27                     Collioure\n",
       "28  28                   Carcassonne\n",
       "29  29                        Ariege\n",
       "30  30                      Toulouse\n",
       "31  31                     Montauban\n",
       "32  32                      Biarritz\n",
       "33  33                       Bayonne\n",
       "34  34                   La Rochelle"
      ]
     },
     "execution_count": 3,
     "metadata": {},
     "output_type": "execute_result"
    }
   ],
   "source": [
    "# Creating a dataframe with the cities list\n",
    "df_cities = pd.DataFrame(columns=[\"city\"])\n",
    "df_cities['city'] = cities\n",
    "df_cities.reset_index(inplace=True)\n",
    "df_cities.rename(columns={'index': 'id'}, inplace=True)\n",
    "df_cities"
   ]
  },
  {
   "cell_type": "markdown",
   "metadata": {},
   "source": [
    "## Scraping Booking.com"
   ]
  },
  {
   "cell_type": "code",
   "execution_count": 4,
   "metadata": {},
   "outputs": [],
   "source": [
    "# Creating a copy of the dataframe\n",
    "df_booking = df_cities.copy(deep=True)\n",
    "\n",
    "# Defining the spider class\n",
    "class BookingSpider(scrapy.Spider):\n",
    "    name = \"Booking_data\"\n",
    "    cities = df_booking[\"city\"]\n",
    "    start_urls = ['https://www.booking.com/index.fr.html']\n",
    "\n",
    "    def parse(self, response):\n",
    "        for i in cities:\n",
    "            yield scrapy.FormRequest.from_response(\n",
    "            response,\n",
    "            formdata={'ss': i },\n",
    "            callback=self.after_search\n",
    "        )\n",
    "    # Important note: the classes names change often and may not be correct at a later date\n",
    "    def after_search(self, response):\n",
    "        cities = response.url.split(\"ss=\")[-1].split(\"&\")[0]\n",
    "                \n",
    "        booking = response.css('.d4924c9e74')\n",
    "        \n",
    "        for k in booking:\n",
    "            \n",
    "            yield {\n",
    "                'location': cities,\n",
    "                'name': k.css('a div.fcab3ed991.a23c043802::text').getall(),\n",
    "                'url': k.css('h3.a4225678b2 a::attr(href)').getall(),\n",
    "            }\n",
    "\n",
    "        try:\n",
    "            next_page = response.css('a.paging-next').attrib[\"href\"]\n",
    "        except KeyError:\n",
    "            logging.info('No next page. Terminating crawling process.')\n",
    "        else:\n",
    "            yield response.follow(next_page, callback=self.after_search)"
   ]
  },
  {
   "cell_type": "code",
   "execution_count": 5,
   "metadata": {},
   "outputs": [
    {
     "name": "stderr",
     "output_type": "stream",
     "text": [
      "2022-04-14 22:32:20 [scrapy.utils.log] INFO: Scrapy 2.6.1 started (bot: scrapybot)\n",
      "2022-04-14 22:32:20 [scrapy.utils.log] INFO: Versions: lxml 4.8.0.0, libxml2 2.9.12, cssselect 1.1.0, parsel 1.6.0, w3lib 1.22.0, Twisted 22.2.0, Python 3.9.11 (main, Mar 29 2022, 19:08:29) - [GCC 7.5.0], pyOpenSSL 22.0.0 (OpenSSL 1.1.1n  15 Mar 2022), cryptography 36.0.0, Platform Linux-5.13.0-39-generic-x86_64-with-glibc2.31\n",
      "2022-04-14 22:32:20 [scrapy.crawler] INFO: Overridden settings:\n",
      "{'AUTOTHROTTLE_ENABLED': True,\n",
      " 'LOG_LEVEL': 20,\n",
      " 'USER_AGENT': 'Mozilla/5.0 (Windows NT 10.0; Win64; x64; rv:92.0) '\n",
      "               'Gecko/20100101 Firefox/92.0'}\n",
      "2022-04-14 22:32:20 [scrapy.extensions.telnet] INFO: Telnet Password: fae05b61e55cb43f\n",
      "2022-04-14 22:32:20 [scrapy.middleware] INFO: Enabled extensions:\n",
      "['scrapy.extensions.corestats.CoreStats',\n",
      " 'scrapy.extensions.telnet.TelnetConsole',\n",
      " 'scrapy.extensions.memusage.MemoryUsage',\n",
      " 'scrapy.extensions.feedexport.FeedExporter',\n",
      " 'scrapy.extensions.logstats.LogStats',\n",
      " 'scrapy.extensions.throttle.AutoThrottle']\n",
      "2022-04-14 22:32:20 [scrapy.middleware] INFO: Enabled downloader middlewares:\n",
      "['scrapy.downloadermiddlewares.httpauth.HttpAuthMiddleware',\n",
      " 'scrapy.downloadermiddlewares.downloadtimeout.DownloadTimeoutMiddleware',\n",
      " 'scrapy.downloadermiddlewares.defaultheaders.DefaultHeadersMiddleware',\n",
      " 'scrapy.downloadermiddlewares.useragent.UserAgentMiddleware',\n",
      " 'scrapy.downloadermiddlewares.retry.RetryMiddleware',\n",
      " 'scrapy.downloadermiddlewares.redirect.MetaRefreshMiddleware',\n",
      " 'scrapy.downloadermiddlewares.httpcompression.HttpCompressionMiddleware',\n",
      " 'scrapy.downloadermiddlewares.redirect.RedirectMiddleware',\n",
      " 'scrapy.downloadermiddlewares.cookies.CookiesMiddleware',\n",
      " 'scrapy.downloadermiddlewares.httpproxy.HttpProxyMiddleware',\n",
      " 'scrapy.downloadermiddlewares.stats.DownloaderStats']\n",
      "2022-04-14 22:32:20 [scrapy.middleware] INFO: Enabled spider middlewares:\n",
      "['scrapy.spidermiddlewares.httperror.HttpErrorMiddleware',\n",
      " 'scrapy.spidermiddlewares.offsite.OffsiteMiddleware',\n",
      " 'scrapy.spidermiddlewares.referer.RefererMiddleware',\n",
      " 'scrapy.spidermiddlewares.urllength.UrlLengthMiddleware',\n",
      " 'scrapy.spidermiddlewares.depth.DepthMiddleware']\n",
      "2022-04-14 22:32:20 [scrapy.middleware] INFO: Enabled item pipelines:\n",
      "[]\n",
      "2022-04-14 22:32:20 [scrapy.core.engine] INFO: Spider opened\n",
      "2022-04-14 22:32:20 [scrapy.extensions.logstats] INFO: Crawled 0 pages (at 0 pages/min), scraped 0 items (at 0 items/min)\n",
      "2022-04-14 22:32:20 [scrapy.extensions.telnet] INFO: Telnet console listening on 127.0.0.1:6023\n",
      "2022-04-14 22:32:28 [root] INFO: No next page. Terminating crawling process.\n",
      "2022-04-14 22:32:31 [root] INFO: No next page. Terminating crawling process.\n",
      "2022-04-14 22:32:33 [root] INFO: No next page. Terminating crawling process.\n",
      "2022-04-14 22:32:34 [root] INFO: No next page. Terminating crawling process.\n",
      "2022-04-14 22:32:35 [root] INFO: No next page. Terminating crawling process.\n",
      "2022-04-14 22:32:36 [root] INFO: No next page. Terminating crawling process.\n",
      "2022-04-14 22:32:36 [root] INFO: No next page. Terminating crawling process.\n",
      "2022-04-14 22:32:37 [root] INFO: No next page. Terminating crawling process.\n",
      "2022-04-14 22:32:37 [root] INFO: No next page. Terminating crawling process.\n",
      "2022-04-14 22:32:38 [root] INFO: No next page. Terminating crawling process.\n",
      "2022-04-14 22:32:38 [root] INFO: No next page. Terminating crawling process.\n",
      "2022-04-14 22:32:38 [root] INFO: No next page. Terminating crawling process.\n",
      "2022-04-14 22:32:39 [root] INFO: No next page. Terminating crawling process.\n",
      "2022-04-14 22:32:39 [root] INFO: No next page. Terminating crawling process.\n",
      "2022-04-14 22:32:40 [root] INFO: No next page. Terminating crawling process.\n",
      "2022-04-14 22:32:40 [root] INFO: No next page. Terminating crawling process.\n",
      "2022-04-14 22:32:41 [root] INFO: No next page. Terminating crawling process.\n",
      "2022-04-14 22:32:42 [root] INFO: No next page. Terminating crawling process.\n",
      "2022-04-14 22:32:42 [root] INFO: No next page. Terminating crawling process.\n",
      "2022-04-14 22:32:42 [root] INFO: No next page. Terminating crawling process.\n",
      "2022-04-14 22:32:43 [root] INFO: No next page. Terminating crawling process.\n",
      "2022-04-14 22:32:43 [root] INFO: No next page. Terminating crawling process.\n",
      "2022-04-14 22:32:43 [root] INFO: No next page. Terminating crawling process.\n",
      "2022-04-14 22:32:44 [root] INFO: No next page. Terminating crawling process.\n",
      "2022-04-14 22:32:44 [root] INFO: No next page. Terminating crawling process.\n",
      "2022-04-14 22:32:44 [root] INFO: No next page. Terminating crawling process.\n",
      "2022-04-14 22:32:45 [root] INFO: No next page. Terminating crawling process.\n",
      "2022-04-14 22:32:45 [root] INFO: No next page. Terminating crawling process.\n",
      "2022-04-14 22:32:46 [root] INFO: No next page. Terminating crawling process.\n",
      "2022-04-14 22:32:46 [root] INFO: No next page. Terminating crawling process.\n",
      "2022-04-14 22:32:47 [root] INFO: No next page. Terminating crawling process.\n",
      "2022-04-14 22:32:47 [root] INFO: No next page. Terminating crawling process.\n",
      "2022-04-14 22:32:47 [root] INFO: No next page. Terminating crawling process.\n",
      "2022-04-14 22:32:48 [root] INFO: No next page. Terminating crawling process.\n",
      "2022-04-14 22:32:48 [root] INFO: No next page. Terminating crawling process.\n",
      "2022-04-14 22:32:48 [scrapy.core.engine] INFO: Closing spider (finished)\n",
      "2022-04-14 22:32:48 [scrapy.extensions.feedexport] INFO: Stored json feed (35 items) in: cities.json\n",
      "2022-04-14 22:32:48 [scrapy.statscollectors] INFO: Dumping Scrapy stats:\n",
      "{'downloader/request_bytes': 50685,\n",
      " 'downloader/request_count': 36,\n",
      " 'downloader/request_method_count/GET': 36,\n",
      " 'downloader/response_bytes': 6236003,\n",
      " 'downloader/response_count': 36,\n",
      " 'downloader/response_status_count/200': 36,\n",
      " 'elapsed_time_seconds': 28.129696,\n",
      " 'feedexport/success_count/FileFeedStorage': 1,\n",
      " 'finish_reason': 'finished',\n",
      " 'finish_time': datetime.datetime(2022, 4, 14, 20, 32, 48, 888005),\n",
      " 'httpcompression/response_bytes': 41716200,\n",
      " 'httpcompression/response_count': 36,\n",
      " 'item_scraped_count': 35,\n",
      " 'log_count/INFO': 46,\n",
      " 'memusage/max': 164179968,\n",
      " 'memusage/startup': 164179968,\n",
      " 'request_depth_max': 1,\n",
      " 'response_received_count': 36,\n",
      " 'scheduler/dequeued': 36,\n",
      " 'scheduler/dequeued/memory': 36,\n",
      " 'scheduler/enqueued': 36,\n",
      " 'scheduler/enqueued/memory': 36,\n",
      " 'start_time': datetime.datetime(2022, 4, 14, 20, 32, 20, 758309)}\n",
      "2022-04-14 22:32:48 [scrapy.core.engine] INFO: Spider closed (finished)\n"
     ]
    }
   ],
   "source": [
    "# Initializing the crawler process\n",
    "filename = \"cities.json\"\n",
    "\n",
    "if filename in os.listdir():\n",
    "        os.remove(filename)\n",
    "\n",
    "process = CrawlerProcess(settings = {\n",
    "    'USER_AGENT': 'Mozilla/5.0 (Windows NT 10.0; Win64; x64; rv:92.0) Gecko/20100101 Firefox/92.0',\n",
    "    'LOG_LEVEL': logging.INFO,\n",
    "    \"FEEDS\": {\n",
    "        filename: {\"format\": \"json\"},\n",
    "    },\n",
    "    \"AUTOTHROTTLE_ENABLED\": True\n",
    "})\n",
    "\n",
    "process.crawl(BookingSpider)\n",
    "process.start()"
   ]
  },
  {
   "cell_type": "code",
   "execution_count": 5,
   "metadata": {},
   "outputs": [
    {
     "data": {
      "text/html": [
       "<div>\n",
       "<style scoped>\n",
       "    .dataframe tbody tr th:only-of-type {\n",
       "        vertical-align: middle;\n",
       "    }\n",
       "\n",
       "    .dataframe tbody tr th {\n",
       "        vertical-align: top;\n",
       "    }\n",
       "\n",
       "    .dataframe thead th {\n",
       "        text-align: right;\n",
       "    }\n",
       "</style>\n",
       "<table border=\"1\" class=\"dataframe\">\n",
       "  <thead>\n",
       "    <tr style=\"text-align: right;\">\n",
       "      <th></th>\n",
       "      <th>location</th>\n",
       "      <th>name</th>\n",
       "      <th>url</th>\n",
       "    </tr>\n",
       "  </thead>\n",
       "  <tbody>\n",
       "    <tr>\n",
       "      <th>0</th>\n",
       "      <td>Mont+Saint+Michel</td>\n",
       "      <td>[Hôtel Vert, Le Relais Saint Michel, La Mère P...</td>\n",
       "      <td>[https://www.booking.com/hotel/fr/vert.fr.html...</td>\n",
       "    </tr>\n",
       "    <tr>\n",
       "      <th>1</th>\n",
       "      <td>St+Malo</td>\n",
       "      <td>[Hotel Eden, Hotel d'Aleth, Hotel Ajoncs d'Or,...</td>\n",
       "      <td>[https://www.booking.com/hotel/fr/eden-saint-m...</td>\n",
       "    </tr>\n",
       "    <tr>\n",
       "      <th>2</th>\n",
       "      <td>Bayeux</td>\n",
       "      <td>[ibis budget Bayeux, Hôtel De Brunville et La ...</td>\n",
       "      <td>[https://www.booking.com/hotel/fr/etap-bayeux....</td>\n",
       "    </tr>\n",
       "    <tr>\n",
       "      <th>3</th>\n",
       "      <td>Le+Havre</td>\n",
       "      <td>[Holiday Inn Express - Le Havre Centre, Nomad ...</td>\n",
       "      <td>[https://www.booking.com/hotel/fr/campanile-le...</td>\n",
       "    </tr>\n",
       "    <tr>\n",
       "      <th>4</th>\n",
       "      <td>Rouen</td>\n",
       "      <td>[Radisson Blu Hotel, Rouen Centre, Maison hype...</td>\n",
       "      <td>[https://www.booking.com/hotel/fr/radisson-blu...</td>\n",
       "    </tr>\n",
       "  </tbody>\n",
       "</table>\n",
       "</div>"
      ],
      "text/plain": [
       "            location                                               name  \\\n",
       "0  Mont+Saint+Michel  [Hôtel Vert, Le Relais Saint Michel, La Mère P...   \n",
       "1            St+Malo  [Hotel Eden, Hotel d'Aleth, Hotel Ajoncs d'Or,...   \n",
       "2             Bayeux  [ibis budget Bayeux, Hôtel De Brunville et La ...   \n",
       "3           Le+Havre  [Holiday Inn Express - Le Havre Centre, Nomad ...   \n",
       "4              Rouen  [Radisson Blu Hotel, Rouen Centre, Maison hype...   \n",
       "\n",
       "                                                 url  \n",
       "0  [https://www.booking.com/hotel/fr/vert.fr.html...  \n",
       "1  [https://www.booking.com/hotel/fr/eden-saint-m...  \n",
       "2  [https://www.booking.com/hotel/fr/etap-bayeux....  \n",
       "3  [https://www.booking.com/hotel/fr/campanile-le...  \n",
       "4  [https://www.booking.com/hotel/fr/radisson-blu...  "
      ]
     },
     "execution_count": 5,
     "metadata": {},
     "output_type": "execute_result"
    }
   ],
   "source": [
    "# Reading the scraped json data into a new dataframe\n",
    "df = pd.read_json(\"cities.json\")\n",
    "df.head()"
   ]
  },
  {
   "cell_type": "code",
   "execution_count": 6,
   "metadata": {},
   "outputs": [],
   "source": [
    "# Keeping only the first 20 items from each list\n",
    "for i in range (len(df[\"location\"])):\n",
    "    df[\"name\"][i] = df[\"name\"][i][:20]\n",
    "    df[\"url\"][i] = df[\"url\"][i][:20]\n"
   ]
  },
  {
   "cell_type": "code",
   "execution_count": 7,
   "metadata": {},
   "outputs": [
    {
     "name": "stdout",
     "output_type": "stream",
     "text": [
      "Mont+Saint+Michel completed\n",
      "St+Malo completed\n",
      "Bayeux completed\n",
      "Le+Havre completed\n",
      "Rouen completed\n",
      "Paris completed\n",
      "Amiens completed\n",
      "Lille completed\n",
      "Strasbourg completed\n",
      "Chateau+du+Haut+Koenigsbourg completed\n",
      "Colmar completed\n",
      "Eguisheim completed\n",
      "Besancon completed\n",
      "Dijon completed\n",
      "Grenoble completed\n",
      "Annecy completed\n",
      "La+Rochelle completed\n",
      "Bayonne completed\n",
      "Biarritz completed\n",
      "Montauban completed\n",
      "Toulouse completed\n",
      "Ariege completed\n",
      "Carcassonne completed\n",
      "Collioure completed\n",
      "Saintes+Maries+de+la+mer completed\n",
      "Aigues+Mortes completed\n",
      "Nimes completed\n",
      "Uzes completed\n",
      "Avignon completed\n",
      "Aix+en+Provence completed\n",
      "Marseille completed\n",
      "Cassis completed\n",
      "Bormes+les+Mimosas completed\n",
      "Gorges+du+Verdon completed\n",
      "Lyon completed\n",
      "Task completed\n"
     ]
    }
   ],
   "source": [
    "# Initializing the scraper with BeautifulSoup\n",
    "lat_full = []\n",
    "lon_full = []\n",
    "description_full = []\n",
    "score_full = []\n",
    "\n",
    "navigator = 'Mozilla/5.0 (Macintosh; Intel Mac OS X 10_10_1)'\n",
    "\n",
    "for i in range(len(df[\"url\"])):\n",
    "    lat_list = []\n",
    "    lon_list = []\n",
    "    description_list = []\n",
    "    score_list = []\n",
    "    hotel_list = df[\"url\"][i]\n",
    "\n",
    "    for j in hotel_list:\n",
    "\n",
    "        # In some cases, the process will return an error on the first attempt\n",
    "        try:\n",
    "            page = requests.get(j, headers={'User-Agent': navigator})\n",
    "            soup = BeautifulSoup(page.text, 'html.parser')\n",
    "        except:\n",
    "            page = requests.get(j, headers={'User-Agent': navigator})\n",
    "            soup = BeautifulSoup(page.text, 'html.parser')\n",
    "\n",
    "        lat_list.append(soup.select('p.address.address_clean a')[0].get(\"data-atlas-latlng\").split(\",\")[0])\n",
    "        lon_list.append(soup.select('p.address.address_clean a')[0].get(\"data-atlas-latlng\").split(\",\")[1])\n",
    "        description_list.append(soup.select('div#property_description_content')[0].get_text())\n",
    "\n",
    "        try:\n",
    "            score_list.append(soup.select('div.b5cd09854e.d10a6220b4')[0].get_text())\n",
    "            \n",
    "        except:\n",
    "            # If the score is missing, setting the default value to 5.0\n",
    "            score_list.append(\"5.0\")\n",
    "\n",
    "        # Setting up a wait timer to avoid spamming the website\n",
    "        time.sleep(1.4)\n",
    "        \n",
    "    lat_full.append(lat_list)\n",
    "    lon_full.append(lon_list)\n",
    "    description_full.append(description_list)\n",
    "    score_full.append(score_list)\n",
    "    \n",
    "    # Printing the progress, the whole process takes a bit more than 40 minutes\n",
    "    print (f\"{df['location'].iloc[i]} completed\")\n",
    "\n",
    "# Adding new columns based on lists of lists gathered above    \n",
    "df[\"lat\"] = lat_full\n",
    "df[\"lon\"] = lon_full\n",
    "df[\"description\"] = description_full\n",
    "df[\"score\"] = score_full\n",
    "print('Task completed')"
   ]
  },
  {
   "cell_type": "code",
   "execution_count": 8,
   "metadata": {},
   "outputs": [
    {
     "data": {
      "text/html": [
       "<div>\n",
       "<style scoped>\n",
       "    .dataframe tbody tr th:only-of-type {\n",
       "        vertical-align: middle;\n",
       "    }\n",
       "\n",
       "    .dataframe tbody tr th {\n",
       "        vertical-align: top;\n",
       "    }\n",
       "\n",
       "    .dataframe thead th {\n",
       "        text-align: right;\n",
       "    }\n",
       "</style>\n",
       "<table border=\"1\" class=\"dataframe\">\n",
       "  <thead>\n",
       "    <tr style=\"text-align: right;\">\n",
       "      <th></th>\n",
       "      <th>name</th>\n",
       "      <th>url</th>\n",
       "      <th>lat</th>\n",
       "      <th>lon</th>\n",
       "      <th>description</th>\n",
       "      <th>score</th>\n",
       "    </tr>\n",
       "    <tr>\n",
       "      <th>location</th>\n",
       "      <th></th>\n",
       "      <th></th>\n",
       "      <th></th>\n",
       "      <th></th>\n",
       "      <th></th>\n",
       "      <th></th>\n",
       "    </tr>\n",
       "  </thead>\n",
       "  <tbody>\n",
       "    <tr>\n",
       "      <th>Mont Saint Michel</th>\n",
       "      <td>[Hôtel Vert, Le Relais Saint Michel, La Mère P...</td>\n",
       "      <td>[https://www.booking.com/hotel/fr/vert.fr.html...</td>\n",
       "      <td>[48.61470049, 48.61758727, 48.63508532, 48.614...</td>\n",
       "      <td>[-1.50961697, -1.51039615, -1.51053965, -1.510...</td>\n",
       "      <td>[\\nVous pouvez bénéficier d'une réduction Geni...</td>\n",
       "      <td>[8,1, 7,8, 7,2, 8,2, 7,3, 7,2, 8,0, 8,1, 7,2, ...</td>\n",
       "    </tr>\n",
       "    <tr>\n",
       "      <th>St Malo</th>\n",
       "      <td>[Hotel Eden, Hotel d'Aleth, Hotel Ajoncs d'Or,...</td>\n",
       "      <td>[https://www.booking.com/hotel/fr/eden-saint-m...</td>\n",
       "      <td>[48.66190919, 48.63593081, 48.64735692, 48.647...</td>\n",
       "      <td>[-1.98966533, -2.02171236, -2.02519655, -2.028...</td>\n",
       "      <td>[\\nVous pouvez bénéficier d'une réduction Geni...</td>\n",
       "      <td>[7,3, 7,9, 8,5, 7,4, 9,2, 7,9, 9,7, 8,0, 8,2, ...</td>\n",
       "    </tr>\n",
       "    <tr>\n",
       "      <th>Bayeux</th>\n",
       "      <td>[ibis budget Bayeux, Hôtel De Brunville et La ...</td>\n",
       "      <td>[https://www.booking.com/hotel/fr/etap-bayeux....</td>\n",
       "      <td>[49.25424209, 49.27815769, 49.26974024, 49.277...</td>\n",
       "      <td>[-0.64648747, -0.70351392, -0.68883955, -0.701...</td>\n",
       "      <td>[\\nL’ibis budget Bayeux vous accueille entre C...</td>\n",
       "      <td>[8,2, 7,9, 8,1, 9,8, 9,4, 8,7, 8,6, 8,6, 8,7, ...</td>\n",
       "    </tr>\n",
       "    <tr>\n",
       "      <th>Le Havre</th>\n",
       "      <td>[Holiday Inn Express - Le Havre Centre, Nomad ...</td>\n",
       "      <td>[https://www.booking.com/hotel/fr/campanile-le...</td>\n",
       "      <td>[49.49823800, 49.49331760, 49.49641693, 49.490...</td>\n",
       "      <td>[0.12883700, 0.12530688, 0.15151234, 0.0977469...</td>\n",
       "      <td>[\\nL’Holiday Inn Express - Le Havre Centre, si...</td>\n",
       "      <td>[8,2, 8,6, 7,5, 8,7, 8,5, 7,2, 8,5, 8,0, 8,4, ...</td>\n",
       "    </tr>\n",
       "    <tr>\n",
       "      <th>Rouen</th>\n",
       "      <td>[Radisson Blu Hotel, Rouen Centre, Maison hype...</td>\n",
       "      <td>[https://www.booking.com/hotel/fr/radisson-blu...</td>\n",
       "      <td>[49.44644100, 49.44465180, 49.44306423, 49.443...</td>\n",
       "      <td>[1.09412000, 1.09132620, 1.08660311, 1.0945739...</td>\n",
       "      <td>[\\nVous pouvez bénéficier d'une réduction Geni...</td>\n",
       "      <td>[8,9, 8,8, 8,6, 8,2, 7,1, 8,2, 8,2, 9,1, 7,9, ...</td>\n",
       "    </tr>\n",
       "  </tbody>\n",
       "</table>\n",
       "</div>"
      ],
      "text/plain": [
       "                                                                name  \\\n",
       "location                                                               \n",
       "Mont Saint Michel  [Hôtel Vert, Le Relais Saint Michel, La Mère P...   \n",
       "St Malo            [Hotel Eden, Hotel d'Aleth, Hotel Ajoncs d'Or,...   \n",
       "Bayeux             [ibis budget Bayeux, Hôtel De Brunville et La ...   \n",
       "Le Havre           [Holiday Inn Express - Le Havre Centre, Nomad ...   \n",
       "Rouen              [Radisson Blu Hotel, Rouen Centre, Maison hype...   \n",
       "\n",
       "                                                                 url  \\\n",
       "location                                                               \n",
       "Mont Saint Michel  [https://www.booking.com/hotel/fr/vert.fr.html...   \n",
       "St Malo            [https://www.booking.com/hotel/fr/eden-saint-m...   \n",
       "Bayeux             [https://www.booking.com/hotel/fr/etap-bayeux....   \n",
       "Le Havre           [https://www.booking.com/hotel/fr/campanile-le...   \n",
       "Rouen              [https://www.booking.com/hotel/fr/radisson-blu...   \n",
       "\n",
       "                                                                 lat  \\\n",
       "location                                                               \n",
       "Mont Saint Michel  [48.61470049, 48.61758727, 48.63508532, 48.614...   \n",
       "St Malo            [48.66190919, 48.63593081, 48.64735692, 48.647...   \n",
       "Bayeux             [49.25424209, 49.27815769, 49.26974024, 49.277...   \n",
       "Le Havre           [49.49823800, 49.49331760, 49.49641693, 49.490...   \n",
       "Rouen              [49.44644100, 49.44465180, 49.44306423, 49.443...   \n",
       "\n",
       "                                                                 lon  \\\n",
       "location                                                               \n",
       "Mont Saint Michel  [-1.50961697, -1.51039615, -1.51053965, -1.510...   \n",
       "St Malo            [-1.98966533, -2.02171236, -2.02519655, -2.028...   \n",
       "Bayeux             [-0.64648747, -0.70351392, -0.68883955, -0.701...   \n",
       "Le Havre           [0.12883700, 0.12530688, 0.15151234, 0.0977469...   \n",
       "Rouen              [1.09412000, 1.09132620, 1.08660311, 1.0945739...   \n",
       "\n",
       "                                                         description  \\\n",
       "location                                                               \n",
       "Mont Saint Michel  [\\nVous pouvez bénéficier d'une réduction Geni...   \n",
       "St Malo            [\\nVous pouvez bénéficier d'une réduction Geni...   \n",
       "Bayeux             [\\nL’ibis budget Bayeux vous accueille entre C...   \n",
       "Le Havre           [\\nL’Holiday Inn Express - Le Havre Centre, si...   \n",
       "Rouen              [\\nVous pouvez bénéficier d'une réduction Geni...   \n",
       "\n",
       "                                                               score  \n",
       "location                                                              \n",
       "Mont Saint Michel  [8,1, 7,8, 7,2, 8,2, 7,3, 7,2, 8,0, 8,1, 7,2, ...  \n",
       "St Malo            [7,3, 7,9, 8,5, 7,4, 9,2, 7,9, 9,7, 8,0, 8,2, ...  \n",
       "Bayeux             [8,2, 7,9, 8,1, 9,8, 9,4, 8,7, 8,6, 8,6, 8,7, ...  \n",
       "Le Havre           [8,2, 8,6, 7,5, 8,7, 8,5, 7,2, 8,5, 8,0, 8,4, ...  \n",
       "Rouen              [8,9, 8,8, 8,6, 8,2, 7,1, 8,2, 8,2, 9,1, 7,9, ...  "
      ]
     },
     "execution_count": 8,
     "metadata": {},
     "output_type": "execute_result"
    }
   ],
   "source": [
    "# Replacing the + in cities names and reindexing the dataframe to add the id column that will be useful to merge later\n",
    "df[\"location\"] = df[\"location\"].str.replace(\"+\", \" \", regex=True)\n",
    "df = df.set_index(\"location\")\n",
    "df = df.reindex(cities)\n",
    "df.reset_index(inplace=True)\n",
    "df.rename(columns={'index': 'id'}, inplace=True)\n",
    "df.head()"
   ]
  },
  {
   "cell_type": "code",
   "execution_count": 9,
   "metadata": {},
   "outputs": [
    {
     "data": {
      "text/html": [
       "<div>\n",
       "<style scoped>\n",
       "    .dataframe tbody tr th:only-of-type {\n",
       "        vertical-align: middle;\n",
       "    }\n",
       "\n",
       "    .dataframe tbody tr th {\n",
       "        vertical-align: top;\n",
       "    }\n",
       "\n",
       "    .dataframe thead th {\n",
       "        text-align: right;\n",
       "    }\n",
       "</style>\n",
       "<table border=\"1\" class=\"dataframe\">\n",
       "  <thead>\n",
       "    <tr style=\"text-align: right;\">\n",
       "      <th></th>\n",
       "      <th>location</th>\n",
       "      <th>name</th>\n",
       "      <th>url</th>\n",
       "      <th>lat</th>\n",
       "      <th>lon</th>\n",
       "      <th>description</th>\n",
       "      <th>score</th>\n",
       "    </tr>\n",
       "  </thead>\n",
       "  <tbody>\n",
       "    <tr>\n",
       "      <th>0</th>\n",
       "      <td>Mont Saint Michel</td>\n",
       "      <td>[Hôtel Vert, Le Relais Saint Michel, La Mère P...</td>\n",
       "      <td>[https://www.booking.com/hotel/fr/vert.fr.html...</td>\n",
       "      <td>[48.61470049, 48.61758727, 48.63508532, 48.614...</td>\n",
       "      <td>[-1.50961697, -1.51039615, -1.51053965, -1.510...</td>\n",
       "      <td>[\\nVous pouvez bénéficier d'une réduction Geni...</td>\n",
       "      <td>[8,1, 7,8, 7,2, 8,2, 7,3, 7,2, 8,0, 8,1, 7,2, ...</td>\n",
       "    </tr>\n",
       "    <tr>\n",
       "      <th>1</th>\n",
       "      <td>St Malo</td>\n",
       "      <td>[Hotel Eden, Hotel d'Aleth, Hotel Ajoncs d'Or,...</td>\n",
       "      <td>[https://www.booking.com/hotel/fr/eden-saint-m...</td>\n",
       "      <td>[48.66190919, 48.63593081, 48.64735692, 48.647...</td>\n",
       "      <td>[-1.98966533, -2.02171236, -2.02519655, -2.028...</td>\n",
       "      <td>[\\nVous pouvez bénéficier d'une réduction Geni...</td>\n",
       "      <td>[7,3, 7,9, 8,5, 7,4, 9,2, 7,9, 9,7, 8,0, 8,2, ...</td>\n",
       "    </tr>\n",
       "    <tr>\n",
       "      <th>2</th>\n",
       "      <td>Bayeux</td>\n",
       "      <td>[ibis budget Bayeux, Hôtel De Brunville et La ...</td>\n",
       "      <td>[https://www.booking.com/hotel/fr/etap-bayeux....</td>\n",
       "      <td>[49.25424209, 49.27815769, 49.26974024, 49.277...</td>\n",
       "      <td>[-0.64648747, -0.70351392, -0.68883955, -0.701...</td>\n",
       "      <td>[\\nL’ibis budget Bayeux vous accueille entre C...</td>\n",
       "      <td>[8,2, 7,9, 8,1, 9,8, 9,4, 8,7, 8,6, 8,6, 8,7, ...</td>\n",
       "    </tr>\n",
       "    <tr>\n",
       "      <th>3</th>\n",
       "      <td>Le Havre</td>\n",
       "      <td>[Holiday Inn Express - Le Havre Centre, Nomad ...</td>\n",
       "      <td>[https://www.booking.com/hotel/fr/campanile-le...</td>\n",
       "      <td>[49.49823800, 49.49331760, 49.49641693, 49.490...</td>\n",
       "      <td>[0.12883700, 0.12530688, 0.15151234, 0.0977469...</td>\n",
       "      <td>[\\nL’Holiday Inn Express - Le Havre Centre, si...</td>\n",
       "      <td>[8,2, 8,6, 7,5, 8,7, 8,5, 7,2, 8,5, 8,0, 8,4, ...</td>\n",
       "    </tr>\n",
       "    <tr>\n",
       "      <th>4</th>\n",
       "      <td>Rouen</td>\n",
       "      <td>[Radisson Blu Hotel, Rouen Centre, Maison hype...</td>\n",
       "      <td>[https://www.booking.com/hotel/fr/radisson-blu...</td>\n",
       "      <td>[49.44644100, 49.44465180, 49.44306423, 49.443...</td>\n",
       "      <td>[1.09412000, 1.09132620, 1.08660311, 1.0945739...</td>\n",
       "      <td>[\\nVous pouvez bénéficier d'une réduction Geni...</td>\n",
       "      <td>[8,9, 8,8, 8,6, 8,2, 7,1, 8,2, 8,2, 9,1, 7,9, ...</td>\n",
       "    </tr>\n",
       "  </tbody>\n",
       "</table>\n",
       "</div>"
      ],
      "text/plain": [
       "            location                                               name  \\\n",
       "0  Mont Saint Michel  [Hôtel Vert, Le Relais Saint Michel, La Mère P...   \n",
       "1            St Malo  [Hotel Eden, Hotel d'Aleth, Hotel Ajoncs d'Or,...   \n",
       "2             Bayeux  [ibis budget Bayeux, Hôtel De Brunville et La ...   \n",
       "3           Le Havre  [Holiday Inn Express - Le Havre Centre, Nomad ...   \n",
       "4              Rouen  [Radisson Blu Hotel, Rouen Centre, Maison hype...   \n",
       "\n",
       "                                                 url  \\\n",
       "0  [https://www.booking.com/hotel/fr/vert.fr.html...   \n",
       "1  [https://www.booking.com/hotel/fr/eden-saint-m...   \n",
       "2  [https://www.booking.com/hotel/fr/etap-bayeux....   \n",
       "3  [https://www.booking.com/hotel/fr/campanile-le...   \n",
       "4  [https://www.booking.com/hotel/fr/radisson-blu...   \n",
       "\n",
       "                                                 lat  \\\n",
       "0  [48.61470049, 48.61758727, 48.63508532, 48.614...   \n",
       "1  [48.66190919, 48.63593081, 48.64735692, 48.647...   \n",
       "2  [49.25424209, 49.27815769, 49.26974024, 49.277...   \n",
       "3  [49.49823800, 49.49331760, 49.49641693, 49.490...   \n",
       "4  [49.44644100, 49.44465180, 49.44306423, 49.443...   \n",
       "\n",
       "                                                 lon  \\\n",
       "0  [-1.50961697, -1.51039615, -1.51053965, -1.510...   \n",
       "1  [-1.98966533, -2.02171236, -2.02519655, -2.028...   \n",
       "2  [-0.64648747, -0.70351392, -0.68883955, -0.701...   \n",
       "3  [0.12883700, 0.12530688, 0.15151234, 0.0977469...   \n",
       "4  [1.09412000, 1.09132620, 1.08660311, 1.0945739...   \n",
       "\n",
       "                                         description  \\\n",
       "0  [\\nVous pouvez bénéficier d'une réduction Geni...   \n",
       "1  [\\nVous pouvez bénéficier d'une réduction Geni...   \n",
       "2  [\\nL’ibis budget Bayeux vous accueille entre C...   \n",
       "3  [\\nL’Holiday Inn Express - Le Havre Centre, si...   \n",
       "4  [\\nVous pouvez bénéficier d'une réduction Geni...   \n",
       "\n",
       "                                               score  \n",
       "0  [8,1, 7,8, 7,2, 8,2, 7,3, 7,2, 8,0, 8,1, 7,2, ...  \n",
       "1  [7,3, 7,9, 8,5, 7,4, 9,2, 7,9, 9,7, 8,0, 8,2, ...  \n",
       "2  [8,2, 7,9, 8,1, 9,8, 9,4, 8,7, 8,6, 8,6, 8,7, ...  \n",
       "3  [8,2, 8,6, 7,5, 8,7, 8,5, 7,2, 8,5, 8,0, 8,4, ...  \n",
       "4  [8,9, 8,8, 8,6, 8,2, 7,1, 8,2, 8,2, 9,1, 7,9, ...  "
      ]
     },
     "execution_count": 9,
     "metadata": {},
     "output_type": "execute_result"
    }
   ],
   "source": [
    "df.reset_index(inplace=True)\n",
    "df.rename(columns={'index': 'id'}, inplace=True)\n",
    "df.head()"
   ]
  },
  {
   "cell_type": "markdown",
   "metadata": {},
   "source": [
    "## Getting API Data"
   ]
  },
  {
   "cell_type": "markdown",
   "metadata": {},
   "source": [
    "### GPS Coordinates"
   ]
  },
  {
   "cell_type": "code",
   "execution_count": 10,
   "metadata": {},
   "outputs": [],
   "source": [
    "# Creating another copy of the cities dataframe to store the coordinates data from Nominatim API\n",
    "df_gps = df_cities.copy(deep=True)\n",
    "lat_list = []\n",
    "lon_list = []\n",
    "\n",
    "for i in cities:\n",
    "    # There is no Gorges du Verdon city, replacing by the closest city instead\n",
    "    if i == \"Gorges du Verdon\":\n",
    "        i = \"La%20Palud-sur-Verdon\"\n",
    "        r = requests.get(f\"https://nominatim.openstreetmap.org/search?city={i}&format=json\").json()\n",
    "        lat_list.append(r[0]['lat'])\n",
    "        lon_list.append(r[0]['lon'])\n",
    "    # Ariege is not a city, using the county instead here\n",
    "    elif i == 'Ariege':\n",
    "        r = requests.get(f\"https://nominatim.openstreetmap.org/search?county={i}&format=json\").json()\n",
    "        lat_list.append(r[0]['lat'])\n",
    "        lon_list.append(r[0]['lon'])\n",
    "    # Replacing the whitespace by a web friendly notation\n",
    "    else:\n",
    "        name = i.replace(\" \", \"%20\")\n",
    "        r = requests.get(f\"https://nominatim.openstreetmap.org/search?city={name}&format=json\").json()\n",
    "        lat_list.append(r[0]['lat'])\n",
    "        lon_list.append(r[0]['lon'])\n",
    "\n",
    "# Adding the coordinates to the dataframe   \n",
    "df_gps['lat'] = lat_list\n",
    "df_gps['lon'] = lon_list "
   ]
  },
  {
   "cell_type": "code",
   "execution_count": 11,
   "metadata": {},
   "outputs": [
    {
     "data": {
      "text/html": [
       "<div>\n",
       "<style scoped>\n",
       "    .dataframe tbody tr th:only-of-type {\n",
       "        vertical-align: middle;\n",
       "    }\n",
       "\n",
       "    .dataframe tbody tr th {\n",
       "        vertical-align: top;\n",
       "    }\n",
       "\n",
       "    .dataframe thead th {\n",
       "        text-align: right;\n",
       "    }\n",
       "</style>\n",
       "<table border=\"1\" class=\"dataframe\">\n",
       "  <thead>\n",
       "    <tr style=\"text-align: right;\">\n",
       "      <th></th>\n",
       "      <th>id</th>\n",
       "      <th>city</th>\n",
       "      <th>lat</th>\n",
       "      <th>lon</th>\n",
       "    </tr>\n",
       "  </thead>\n",
       "  <tbody>\n",
       "    <tr>\n",
       "      <th>0</th>\n",
       "      <td>0</td>\n",
       "      <td>Mont Saint Michel</td>\n",
       "      <td>48.6359541</td>\n",
       "      <td>-1.511459954959514</td>\n",
       "    </tr>\n",
       "    <tr>\n",
       "      <th>1</th>\n",
       "      <td>1</td>\n",
       "      <td>St Malo</td>\n",
       "      <td>48.649518</td>\n",
       "      <td>-2.0260409</td>\n",
       "    </tr>\n",
       "    <tr>\n",
       "      <th>2</th>\n",
       "      <td>2</td>\n",
       "      <td>Bayeux</td>\n",
       "      <td>49.2764624</td>\n",
       "      <td>-0.7024738</td>\n",
       "    </tr>\n",
       "    <tr>\n",
       "      <th>3</th>\n",
       "      <td>3</td>\n",
       "      <td>Le Havre</td>\n",
       "      <td>49.4938975</td>\n",
       "      <td>0.1079732</td>\n",
       "    </tr>\n",
       "    <tr>\n",
       "      <th>4</th>\n",
       "      <td>4</td>\n",
       "      <td>Rouen</td>\n",
       "      <td>49.4404591</td>\n",
       "      <td>1.0939658</td>\n",
       "    </tr>\n",
       "  </tbody>\n",
       "</table>\n",
       "</div>"
      ],
      "text/plain": [
       "   id               city         lat                 lon\n",
       "0   0  Mont Saint Michel  48.6359541  -1.511459954959514\n",
       "1   1            St Malo   48.649518          -2.0260409\n",
       "2   2             Bayeux  49.2764624          -0.7024738\n",
       "3   3           Le Havre  49.4938975           0.1079732\n",
       "4   4              Rouen  49.4404591           1.0939658"
      ]
     },
     "execution_count": 11,
     "metadata": {},
     "output_type": "execute_result"
    }
   ],
   "source": [
    "df_gps.head()"
   ]
  },
  {
   "cell_type": "markdown",
   "metadata": {},
   "source": [
    "### Weather Data"
   ]
  },
  {
   "cell_type": "code",
   "execution_count": 12,
   "metadata": {},
   "outputs": [],
   "source": [
    "# Getting the weather data based on coordinates from the Openweathermap API\n",
    "df_full = df_gps.copy(deep=True)\n",
    "now = datetime.datetime.now()\n",
    "temps_list = []\n",
    "rain_pop = []\n",
    "humidity_list = []\n",
    "# The days list will be used to store data as items of a list for day +1 to day +7\n",
    "days = list(range(1,8))\n",
    "\n",
    "for i in df_full.itertuples():\n",
    "    lat = i.lat\n",
    "    lon = i.lon\n",
    "    r = requests.get(f\"https://api.openweathermap.org/data/2.5/onecall?lat={lat}&lon={lon}&units=metric&appid={key}\").json()\n",
    "    weather_7_days = r['daily'][1:] # Getting the weather data for the next 7 days, first item is the current weather, which we don't want here\n",
    "    temps = [j['feels_like']['day'] for j in weather_7_days]\n",
    "    rain = [int(j['pop'] * 100) for j in weather_7_days]\n",
    "    humidity = [j['humidity'] for j in weather_7_days]\n",
    "    temps_list.append(temps)\n",
    "    rain_pop.append(rain)\n",
    "    humidity_list.append(humidity)\n",
    "    \n",
    "df_full['day_plus'] = [days for _ in range(len(df_full))]\n",
    "df_full['felt_temperature'] = temps_list\n",
    "df_full['rain_chances'] = rain_pop\n",
    "df_full['humidity'] = humidity_list\n",
    "# Calculation of a weather quality indicator, using absolute value of 35 - temperature (with a weight of 2), chances of rain as a percentage, and humidity as a percentage (with a weight of 0.5) - lower is better\n",
    "df_full['score_weather'] = df_full.apply(lambda x: abs((35 - np.mean(x['felt_temperature'])) * 2) + np.mean(x['rain_chances']) + (np.mean(x['humidity']) / 2), axis=1) \n",
    "df_full['updated_at'] = now"
   ]
  },
  {
   "cell_type": "code",
   "execution_count": 13,
   "metadata": {},
   "outputs": [
    {
     "data": {
      "text/html": [
       "<div>\n",
       "<style scoped>\n",
       "    .dataframe tbody tr th:only-of-type {\n",
       "        vertical-align: middle;\n",
       "    }\n",
       "\n",
       "    .dataframe tbody tr th {\n",
       "        vertical-align: top;\n",
       "    }\n",
       "\n",
       "    .dataframe thead th {\n",
       "        text-align: right;\n",
       "    }\n",
       "</style>\n",
       "<table border=\"1\" class=\"dataframe\">\n",
       "  <thead>\n",
       "    <tr style=\"text-align: right;\">\n",
       "      <th></th>\n",
       "      <th>id</th>\n",
       "      <th>city</th>\n",
       "      <th>lat</th>\n",
       "      <th>lon</th>\n",
       "      <th>day_plus</th>\n",
       "      <th>felt_temperature</th>\n",
       "      <th>rain_chances</th>\n",
       "      <th>humidity</th>\n",
       "      <th>score_weather</th>\n",
       "      <th>updated_at</th>\n",
       "    </tr>\n",
       "  </thead>\n",
       "  <tbody>\n",
       "    <tr>\n",
       "      <th>0</th>\n",
       "      <td>0</td>\n",
       "      <td>Mont Saint Michel</td>\n",
       "      <td>48.6359541</td>\n",
       "      <td>-1.511459954959514</td>\n",
       "      <td>[1, 2, 3, 4, 5, 6, 7]</td>\n",
       "      <td>[14.16, 13.55, 16.89, 18.08, 13.96, 14.37, 16.38]</td>\n",
       "      <td>[0, 0, 0, 0, 0, 0, 0]</td>\n",
       "      <td>[58, 54, 56, 54, 51, 53, 59]</td>\n",
       "      <td>66.817143</td>\n",
       "      <td>2022-04-25 11:23:08.325826</td>\n",
       "    </tr>\n",
       "    <tr>\n",
       "      <th>1</th>\n",
       "      <td>1</td>\n",
       "      <td>St Malo</td>\n",
       "      <td>48.649518</td>\n",
       "      <td>-2.0260409</td>\n",
       "      <td>[1, 2, 3, 4, 5, 6, 7]</td>\n",
       "      <td>[12.72, 11.96, 14.73, 14.86, 12.56, 12.06, 13.23]</td>\n",
       "      <td>[0, 0, 0, 0, 0, 0, 0]</td>\n",
       "      <td>[67, 61, 67, 71, 62, 61, 68]</td>\n",
       "      <td>76.322857</td>\n",
       "      <td>2022-04-25 11:23:08.325826</td>\n",
       "    </tr>\n",
       "    <tr>\n",
       "      <th>2</th>\n",
       "      <td>2</td>\n",
       "      <td>Bayeux</td>\n",
       "      <td>49.2764624</td>\n",
       "      <td>-0.7024738</td>\n",
       "      <td>[1, 2, 3, 4, 5, 6, 7]</td>\n",
       "      <td>[11.42, 10.69, 14.03, 13.81, 11.12, 11.53, 14.28]</td>\n",
       "      <td>[20, 0, 0, 0, 0, 0, 0]</td>\n",
       "      <td>[66, 63, 70, 73, 65, 66, 69]</td>\n",
       "      <td>81.748571</td>\n",
       "      <td>2022-04-25 11:23:08.325826</td>\n",
       "    </tr>\n",
       "    <tr>\n",
       "      <th>3</th>\n",
       "      <td>3</td>\n",
       "      <td>Le Havre</td>\n",
       "      <td>49.4938975</td>\n",
       "      <td>0.1079732</td>\n",
       "      <td>[1, 2, 3, 4, 5, 6, 7]</td>\n",
       "      <td>[11.3, 10.97, 15.09, 14.99, 11.67, 12.08, 12.99]</td>\n",
       "      <td>[6, 0, 0, 0, 0, 0, 0]</td>\n",
       "      <td>[61, 59, 59, 66, 60, 64, 67]</td>\n",
       "      <td>76.545714</td>\n",
       "      <td>2022-04-25 11:23:08.325826</td>\n",
       "    </tr>\n",
       "    <tr>\n",
       "      <th>4</th>\n",
       "      <td>4</td>\n",
       "      <td>Rouen</td>\n",
       "      <td>49.4404591</td>\n",
       "      <td>1.0939658</td>\n",
       "      <td>[1, 2, 3, 4, 5, 6, 7]</td>\n",
       "      <td>[12.43, 12.6, 16.87, 17.56, 13.58, 14.34, 15.9]</td>\n",
       "      <td>[5, 0, 0, 0, 0, 0, 0]</td>\n",
       "      <td>[56, 59, 53, 55, 51, 56, 51]</td>\n",
       "      <td>68.420000</td>\n",
       "      <td>2022-04-25 11:23:08.325826</td>\n",
       "    </tr>\n",
       "  </tbody>\n",
       "</table>\n",
       "</div>"
      ],
      "text/plain": [
       "   id               city         lat                 lon  \\\n",
       "0   0  Mont Saint Michel  48.6359541  -1.511459954959514   \n",
       "1   1            St Malo   48.649518          -2.0260409   \n",
       "2   2             Bayeux  49.2764624          -0.7024738   \n",
       "3   3           Le Havre  49.4938975           0.1079732   \n",
       "4   4              Rouen  49.4404591           1.0939658   \n",
       "\n",
       "                day_plus                                   felt_temperature  \\\n",
       "0  [1, 2, 3, 4, 5, 6, 7]  [14.16, 13.55, 16.89, 18.08, 13.96, 14.37, 16.38]   \n",
       "1  [1, 2, 3, 4, 5, 6, 7]  [12.72, 11.96, 14.73, 14.86, 12.56, 12.06, 13.23]   \n",
       "2  [1, 2, 3, 4, 5, 6, 7]  [11.42, 10.69, 14.03, 13.81, 11.12, 11.53, 14.28]   \n",
       "3  [1, 2, 3, 4, 5, 6, 7]   [11.3, 10.97, 15.09, 14.99, 11.67, 12.08, 12.99]   \n",
       "4  [1, 2, 3, 4, 5, 6, 7]    [12.43, 12.6, 16.87, 17.56, 13.58, 14.34, 15.9]   \n",
       "\n",
       "             rain_chances                      humidity  score_weather  \\\n",
       "0   [0, 0, 0, 0, 0, 0, 0]  [58, 54, 56, 54, 51, 53, 59]      66.817143   \n",
       "1   [0, 0, 0, 0, 0, 0, 0]  [67, 61, 67, 71, 62, 61, 68]      76.322857   \n",
       "2  [20, 0, 0, 0, 0, 0, 0]  [66, 63, 70, 73, 65, 66, 69]      81.748571   \n",
       "3   [6, 0, 0, 0, 0, 0, 0]  [61, 59, 59, 66, 60, 64, 67]      76.545714   \n",
       "4   [5, 0, 0, 0, 0, 0, 0]  [56, 59, 53, 55, 51, 56, 51]      68.420000   \n",
       "\n",
       "                  updated_at  \n",
       "0 2022-04-25 11:23:08.325826  \n",
       "1 2022-04-25 11:23:08.325826  \n",
       "2 2022-04-25 11:23:08.325826  \n",
       "3 2022-04-25 11:23:08.325826  \n",
       "4 2022-04-25 11:23:08.325826  "
      ]
     },
     "execution_count": 13,
     "metadata": {},
     "output_type": "execute_result"
    }
   ],
   "source": [
    "df_full.head()"
   ]
  },
  {
   "cell_type": "markdown",
   "metadata": {},
   "source": [
    "## Merging Data"
   ]
  },
  {
   "cell_type": "code",
   "execution_count": 15,
   "metadata": {},
   "outputs": [
    {
     "data": {
      "text/html": [
       "<div>\n",
       "<style scoped>\n",
       "    .dataframe tbody tr th:only-of-type {\n",
       "        vertical-align: middle;\n",
       "    }\n",
       "\n",
       "    .dataframe tbody tr th {\n",
       "        vertical-align: top;\n",
       "    }\n",
       "\n",
       "    .dataframe thead th {\n",
       "        text-align: right;\n",
       "    }\n",
       "</style>\n",
       "<table border=\"1\" class=\"dataframe\">\n",
       "  <thead>\n",
       "    <tr style=\"text-align: right;\">\n",
       "      <th></th>\n",
       "      <th>id</th>\n",
       "      <th>location</th>\n",
       "      <th>name</th>\n",
       "      <th>url</th>\n",
       "      <th>lat_hotels</th>\n",
       "      <th>lon_hotels</th>\n",
       "      <th>description</th>\n",
       "      <th>score</th>\n",
       "    </tr>\n",
       "  </thead>\n",
       "  <tbody>\n",
       "    <tr>\n",
       "      <th>0</th>\n",
       "      <td>0</td>\n",
       "      <td>Mont Saint Michel</td>\n",
       "      <td>[Hôtel Vert, Le Relais Saint Michel, La Mère P...</td>\n",
       "      <td>[https://www.booking.com/hotel/fr/vert.fr.html...</td>\n",
       "      <td>[48.61470049, 48.61758727, 48.63508532, 48.614...</td>\n",
       "      <td>[-1.50961697, -1.51039615, -1.51053965, -1.510...</td>\n",
       "      <td>[\\nVous pouvez bénéficier d'une réduction Geni...</td>\n",
       "      <td>[8,1, 7,8, 7,2, 8,2, 7,3, 7,2, 8,0, 8,1, 7,2, ...</td>\n",
       "    </tr>\n",
       "    <tr>\n",
       "      <th>1</th>\n",
       "      <td>1</td>\n",
       "      <td>St Malo</td>\n",
       "      <td>[Hotel Eden, Hotel d'Aleth, Hotel Ajoncs d'Or,...</td>\n",
       "      <td>[https://www.booking.com/hotel/fr/eden-saint-m...</td>\n",
       "      <td>[48.66190919, 48.63593081, 48.64735692, 48.647...</td>\n",
       "      <td>[-1.98966533, -2.02171236, -2.02519655, -2.028...</td>\n",
       "      <td>[\\nVous pouvez bénéficier d'une réduction Geni...</td>\n",
       "      <td>[7,3, 7,9, 8,5, 7,4, 9,2, 7,9, 9,7, 8,0, 8,2, ...</td>\n",
       "    </tr>\n",
       "    <tr>\n",
       "      <th>2</th>\n",
       "      <td>2</td>\n",
       "      <td>Bayeux</td>\n",
       "      <td>[ibis budget Bayeux, Hôtel De Brunville et La ...</td>\n",
       "      <td>[https://www.booking.com/hotel/fr/etap-bayeux....</td>\n",
       "      <td>[49.25424209, 49.27815769, 49.26974024, 49.277...</td>\n",
       "      <td>[-0.64648747, -0.70351392, -0.68883955, -0.701...</td>\n",
       "      <td>[\\nL’ibis budget Bayeux vous accueille entre C...</td>\n",
       "      <td>[8,2, 7,9, 8,1, 9,8, 9,4, 8,7, 8,6, 8,6, 8,7, ...</td>\n",
       "    </tr>\n",
       "    <tr>\n",
       "      <th>3</th>\n",
       "      <td>3</td>\n",
       "      <td>Le Havre</td>\n",
       "      <td>[Holiday Inn Express - Le Havre Centre, Nomad ...</td>\n",
       "      <td>[https://www.booking.com/hotel/fr/campanile-le...</td>\n",
       "      <td>[49.49823800, 49.49331760, 49.49641693, 49.490...</td>\n",
       "      <td>[0.12883700, 0.12530688, 0.15151234, 0.0977469...</td>\n",
       "      <td>[\\nL’Holiday Inn Express - Le Havre Centre, si...</td>\n",
       "      <td>[8,2, 8,6, 7,5, 8,7, 8,5, 7,2, 8,5, 8,0, 8,4, ...</td>\n",
       "    </tr>\n",
       "    <tr>\n",
       "      <th>4</th>\n",
       "      <td>4</td>\n",
       "      <td>Rouen</td>\n",
       "      <td>[Radisson Blu Hotel, Rouen Centre, Maison hype...</td>\n",
       "      <td>[https://www.booking.com/hotel/fr/radisson-blu...</td>\n",
       "      <td>[49.44644100, 49.44465180, 49.44306423, 49.443...</td>\n",
       "      <td>[1.09412000, 1.09132620, 1.08660311, 1.0945739...</td>\n",
       "      <td>[\\nVous pouvez bénéficier d'une réduction Geni...</td>\n",
       "      <td>[8,9, 8,8, 8,6, 8,2, 7,1, 8,2, 8,2, 9,1, 7,9, ...</td>\n",
       "    </tr>\n",
       "  </tbody>\n",
       "</table>\n",
       "</div>"
      ],
      "text/plain": [
       "   id           location                                               name  \\\n",
       "0   0  Mont Saint Michel  [Hôtel Vert, Le Relais Saint Michel, La Mère P...   \n",
       "1   1            St Malo  [Hotel Eden, Hotel d'Aleth, Hotel Ajoncs d'Or,...   \n",
       "2   2             Bayeux  [ibis budget Bayeux, Hôtel De Brunville et La ...   \n",
       "3   3           Le Havre  [Holiday Inn Express - Le Havre Centre, Nomad ...   \n",
       "4   4              Rouen  [Radisson Blu Hotel, Rouen Centre, Maison hype...   \n",
       "\n",
       "                                                 url  \\\n",
       "0  [https://www.booking.com/hotel/fr/vert.fr.html...   \n",
       "1  [https://www.booking.com/hotel/fr/eden-saint-m...   \n",
       "2  [https://www.booking.com/hotel/fr/etap-bayeux....   \n",
       "3  [https://www.booking.com/hotel/fr/campanile-le...   \n",
       "4  [https://www.booking.com/hotel/fr/radisson-blu...   \n",
       "\n",
       "                                          lat_hotels  \\\n",
       "0  [48.61470049, 48.61758727, 48.63508532, 48.614...   \n",
       "1  [48.66190919, 48.63593081, 48.64735692, 48.647...   \n",
       "2  [49.25424209, 49.27815769, 49.26974024, 49.277...   \n",
       "3  [49.49823800, 49.49331760, 49.49641693, 49.490...   \n",
       "4  [49.44644100, 49.44465180, 49.44306423, 49.443...   \n",
       "\n",
       "                                          lon_hotels  \\\n",
       "0  [-1.50961697, -1.51039615, -1.51053965, -1.510...   \n",
       "1  [-1.98966533, -2.02171236, -2.02519655, -2.028...   \n",
       "2  [-0.64648747, -0.70351392, -0.68883955, -0.701...   \n",
       "3  [0.12883700, 0.12530688, 0.15151234, 0.0977469...   \n",
       "4  [1.09412000, 1.09132620, 1.08660311, 1.0945739...   \n",
       "\n",
       "                                         description  \\\n",
       "0  [\\nVous pouvez bénéficier d'une réduction Geni...   \n",
       "1  [\\nVous pouvez bénéficier d'une réduction Geni...   \n",
       "2  [\\nL’ibis budget Bayeux vous accueille entre C...   \n",
       "3  [\\nL’Holiday Inn Express - Le Havre Centre, si...   \n",
       "4  [\\nVous pouvez bénéficier d'une réduction Geni...   \n",
       "\n",
       "                                               score  \n",
       "0  [8,1, 7,8, 7,2, 8,2, 7,3, 7,2, 8,0, 8,1, 7,2, ...  \n",
       "1  [7,3, 7,9, 8,5, 7,4, 9,2, 7,9, 9,7, 8,0, 8,2, ...  \n",
       "2  [8,2, 7,9, 8,1, 9,8, 9,4, 8,7, 8,6, 8,6, 8,7, ...  \n",
       "3  [8,2, 8,6, 7,5, 8,7, 8,5, 7,2, 8,5, 8,0, 8,4, ...  \n",
       "4  [8,9, 8,8, 8,6, 8,2, 7,1, 8,2, 8,2, 9,1, 7,9, ...  "
      ]
     },
     "execution_count": 15,
     "metadata": {},
     "output_type": "execute_result"
    }
   ],
   "source": [
    "# Renaming coordinates columns to avoid confusion between city and hotel coordinates, and resetting index to merge on the id column\n",
    "df.rename(columns={'lat': 'lat_hotels', 'lon': 'lon_hotels'}, inplace=True)\n",
    "df.reset_index(inplace=True)\n",
    "df.rename(columns={'index': 'id'}, inplace=True)\n",
    "df.head()"
   ]
  },
  {
   "cell_type": "code",
   "execution_count": 16,
   "metadata": {},
   "outputs": [
    {
     "name": "stdout",
     "output_type": "stream",
     "text": [
      "(35, 16)\n"
     ]
    }
   ],
   "source": [
    "# Merging the hotels and weather dataframes, and dropping the unnecessary location column\n",
    "df_complete = pd.merge(df_full, df, on='id')\n",
    "df_complete.drop(columns=['location'], inplace=True)\n",
    "now = datetime.datetime.now()\n",
    "df_complete['updated_at'] = now\n",
    "print(df_complete.shape)\n",
    "\n",
    "# Saving the merged dataset as a csv file\n",
    "df_complete.to_csv('df_complete.csv', index=False, header=True)"
   ]
  },
  {
   "cell_type": "markdown",
   "metadata": {},
   "source": [
    "## Storing the dataset in a S3 data lake"
   ]
  },
  {
   "cell_type": "code",
   "execution_count": 17,
   "metadata": {},
   "outputs": [],
   "source": [
    "# Loading the S3 dession and resource\n",
    "session = boto3.Session()\n",
    "s3 = boto3.resource('s3')"
   ]
  },
  {
   "cell_type": "code",
   "execution_count": 18,
   "metadata": {},
   "outputs": [],
   "source": [
    "# Uploading the file to S3\n",
    "s3.Bucket('kayak-project-garp').upload_file('df_complete.csv', 'df_complete.csv')"
   ]
  },
  {
   "cell_type": "code",
   "execution_count": 19,
   "metadata": {},
   "outputs": [
    {
     "data": {
      "text/plain": [
       "(35, 16)"
      ]
     },
     "execution_count": 19,
     "metadata": {},
     "output_type": "execute_result"
    }
   ],
   "source": [
    "# Downloading the file from S3 and checking it kept the same shape.\n",
    "df_s3 = pd.read_csv('s3://kayak-project-garp/df_complete.csv')\n",
    "df_s3.shape"
   ]
  },
  {
   "cell_type": "markdown",
   "metadata": {},
   "source": [
    "## Transforming"
   ]
  },
  {
   "cell_type": "code",
   "execution_count": 20,
   "metadata": {},
   "outputs": [],
   "source": [
    "# Splitting the dataframe into 2 tables\n",
    "\n",
    "df_weather = df_s3[['id', 'city', 'lat', 'lon', 'day_plus', 'felt_temperature', 'rain_chances', 'humidity', 'score_weather', 'updated_at']]\n",
    "df_hotels = df_s3[['id', 'city', 'name', 'url', 'lat_hotels', 'lon_hotels', 'description', 'score', 'score_weather']]"
   ]
  },
  {
   "cell_type": "code",
   "execution_count": 21,
   "metadata": {},
   "outputs": [
    {
     "data": {
      "text/html": [
       "<div>\n",
       "<style scoped>\n",
       "    .dataframe tbody tr th:only-of-type {\n",
       "        vertical-align: middle;\n",
       "    }\n",
       "\n",
       "    .dataframe tbody tr th {\n",
       "        vertical-align: top;\n",
       "    }\n",
       "\n",
       "    .dataframe thead th {\n",
       "        text-align: right;\n",
       "    }\n",
       "</style>\n",
       "<table border=\"1\" class=\"dataframe\">\n",
       "  <thead>\n",
       "    <tr style=\"text-align: right;\">\n",
       "      <th></th>\n",
       "      <th>id</th>\n",
       "      <th>city</th>\n",
       "      <th>lat</th>\n",
       "      <th>lon</th>\n",
       "      <th>day_plus</th>\n",
       "      <th>felt_temperature</th>\n",
       "      <th>rain_chances</th>\n",
       "      <th>humidity</th>\n",
       "      <th>score_weather</th>\n",
       "      <th>updated_at</th>\n",
       "    </tr>\n",
       "  </thead>\n",
       "  <tbody>\n",
       "    <tr>\n",
       "      <th>0</th>\n",
       "      <td>0</td>\n",
       "      <td>Mont Saint Michel</td>\n",
       "      <td>48.635954</td>\n",
       "      <td>-1.511460</td>\n",
       "      <td>[1, 2, 3, 4, 5, 6, 7]</td>\n",
       "      <td>[14.16, 13.55, 16.89, 18.08, 13.96, 14.37, 16.38]</td>\n",
       "      <td>[0, 0, 0, 0, 0, 0, 0]</td>\n",
       "      <td>[58, 54, 56, 54, 51, 53, 59]</td>\n",
       "      <td>66.817143</td>\n",
       "      <td>2022-04-25 11:25:51.588505</td>\n",
       "    </tr>\n",
       "    <tr>\n",
       "      <th>1</th>\n",
       "      <td>1</td>\n",
       "      <td>St Malo</td>\n",
       "      <td>48.649518</td>\n",
       "      <td>-2.026041</td>\n",
       "      <td>[1, 2, 3, 4, 5, 6, 7]</td>\n",
       "      <td>[12.72, 11.96, 14.73, 14.86, 12.56, 12.06, 13.23]</td>\n",
       "      <td>[0, 0, 0, 0, 0, 0, 0]</td>\n",
       "      <td>[67, 61, 67, 71, 62, 61, 68]</td>\n",
       "      <td>76.322857</td>\n",
       "      <td>2022-04-25 11:25:51.588505</td>\n",
       "    </tr>\n",
       "    <tr>\n",
       "      <th>2</th>\n",
       "      <td>2</td>\n",
       "      <td>Bayeux</td>\n",
       "      <td>49.276462</td>\n",
       "      <td>-0.702474</td>\n",
       "      <td>[1, 2, 3, 4, 5, 6, 7]</td>\n",
       "      <td>[11.42, 10.69, 14.03, 13.81, 11.12, 11.53, 14.28]</td>\n",
       "      <td>[20, 0, 0, 0, 0, 0, 0]</td>\n",
       "      <td>[66, 63, 70, 73, 65, 66, 69]</td>\n",
       "      <td>81.748571</td>\n",
       "      <td>2022-04-25 11:25:51.588505</td>\n",
       "    </tr>\n",
       "    <tr>\n",
       "      <th>3</th>\n",
       "      <td>3</td>\n",
       "      <td>Le Havre</td>\n",
       "      <td>49.493898</td>\n",
       "      <td>0.107973</td>\n",
       "      <td>[1, 2, 3, 4, 5, 6, 7]</td>\n",
       "      <td>[11.3, 10.97, 15.09, 14.99, 11.67, 12.08, 12.99]</td>\n",
       "      <td>[6, 0, 0, 0, 0, 0, 0]</td>\n",
       "      <td>[61, 59, 59, 66, 60, 64, 67]</td>\n",
       "      <td>76.545714</td>\n",
       "      <td>2022-04-25 11:25:51.588505</td>\n",
       "    </tr>\n",
       "    <tr>\n",
       "      <th>4</th>\n",
       "      <td>4</td>\n",
       "      <td>Rouen</td>\n",
       "      <td>49.440459</td>\n",
       "      <td>1.093966</td>\n",
       "      <td>[1, 2, 3, 4, 5, 6, 7]</td>\n",
       "      <td>[12.43, 12.6, 16.87, 17.56, 13.58, 14.34, 15.9]</td>\n",
       "      <td>[5, 0, 0, 0, 0, 0, 0]</td>\n",
       "      <td>[56, 59, 53, 55, 51, 56, 51]</td>\n",
       "      <td>68.420000</td>\n",
       "      <td>2022-04-25 11:25:51.588505</td>\n",
       "    </tr>\n",
       "  </tbody>\n",
       "</table>\n",
       "</div>"
      ],
      "text/plain": [
       "   id               city        lat       lon               day_plus  \\\n",
       "0   0  Mont Saint Michel  48.635954 -1.511460  [1, 2, 3, 4, 5, 6, 7]   \n",
       "1   1            St Malo  48.649518 -2.026041  [1, 2, 3, 4, 5, 6, 7]   \n",
       "2   2             Bayeux  49.276462 -0.702474  [1, 2, 3, 4, 5, 6, 7]   \n",
       "3   3           Le Havre  49.493898  0.107973  [1, 2, 3, 4, 5, 6, 7]   \n",
       "4   4              Rouen  49.440459  1.093966  [1, 2, 3, 4, 5, 6, 7]   \n",
       "\n",
       "                                    felt_temperature            rain_chances  \\\n",
       "0  [14.16, 13.55, 16.89, 18.08, 13.96, 14.37, 16.38]   [0, 0, 0, 0, 0, 0, 0]   \n",
       "1  [12.72, 11.96, 14.73, 14.86, 12.56, 12.06, 13.23]   [0, 0, 0, 0, 0, 0, 0]   \n",
       "2  [11.42, 10.69, 14.03, 13.81, 11.12, 11.53, 14.28]  [20, 0, 0, 0, 0, 0, 0]   \n",
       "3   [11.3, 10.97, 15.09, 14.99, 11.67, 12.08, 12.99]   [6, 0, 0, 0, 0, 0, 0]   \n",
       "4    [12.43, 12.6, 16.87, 17.56, 13.58, 14.34, 15.9]   [5, 0, 0, 0, 0, 0, 0]   \n",
       "\n",
       "                       humidity  score_weather                  updated_at  \n",
       "0  [58, 54, 56, 54, 51, 53, 59]      66.817143  2022-04-25 11:25:51.588505  \n",
       "1  [67, 61, 67, 71, 62, 61, 68]      76.322857  2022-04-25 11:25:51.588505  \n",
       "2  [66, 63, 70, 73, 65, 66, 69]      81.748571  2022-04-25 11:25:51.588505  \n",
       "3  [61, 59, 59, 66, 60, 64, 67]      76.545714  2022-04-25 11:25:51.588505  \n",
       "4  [56, 59, 53, 55, 51, 56, 51]      68.420000  2022-04-25 11:25:51.588505  "
      ]
     },
     "execution_count": 21,
     "metadata": {},
     "output_type": "execute_result"
    }
   ],
   "source": [
    "df_weather.head()"
   ]
  },
  {
   "cell_type": "code",
   "execution_count": 22,
   "metadata": {},
   "outputs": [
    {
     "data": {
      "text/html": [
       "<div>\n",
       "<style scoped>\n",
       "    .dataframe tbody tr th:only-of-type {\n",
       "        vertical-align: middle;\n",
       "    }\n",
       "\n",
       "    .dataframe tbody tr th {\n",
       "        vertical-align: top;\n",
       "    }\n",
       "\n",
       "    .dataframe thead th {\n",
       "        text-align: right;\n",
       "    }\n",
       "</style>\n",
       "<table border=\"1\" class=\"dataframe\">\n",
       "  <thead>\n",
       "    <tr style=\"text-align: right;\">\n",
       "      <th></th>\n",
       "      <th>id</th>\n",
       "      <th>city</th>\n",
       "      <th>name</th>\n",
       "      <th>url</th>\n",
       "      <th>lat_hotels</th>\n",
       "      <th>lon_hotels</th>\n",
       "      <th>description</th>\n",
       "      <th>score</th>\n",
       "      <th>score_weather</th>\n",
       "    </tr>\n",
       "  </thead>\n",
       "  <tbody>\n",
       "    <tr>\n",
       "      <th>0</th>\n",
       "      <td>0</td>\n",
       "      <td>Mont Saint Michel</td>\n",
       "      <td>['Hôtel Vert', 'Le Relais Saint Michel', 'La M...</td>\n",
       "      <td>['https://www.booking.com/hotel/fr/vert.fr.htm...</td>\n",
       "      <td>['48.61470049', '48.61758727', '48.63508532', ...</td>\n",
       "      <td>['-1.50961697', '-1.51039615', '-1.51053965', ...</td>\n",
       "      <td>[\"\\nVous pouvez bénéficier d'une réduction Gen...</td>\n",
       "      <td>['8,1', '7,8', '7,2', '8,2', '7,3', '7,2', '8,...</td>\n",
       "      <td>66.817143</td>\n",
       "    </tr>\n",
       "    <tr>\n",
       "      <th>1</th>\n",
       "      <td>1</td>\n",
       "      <td>St Malo</td>\n",
       "      <td>['Hotel Eden', \"Hotel d'Aleth\", \"Hotel Ajoncs ...</td>\n",
       "      <td>['https://www.booking.com/hotel/fr/eden-saint-...</td>\n",
       "      <td>['48.66190919', '48.63593081', '48.64735692', ...</td>\n",
       "      <td>['-1.98966533', '-2.02171236', '-2.02519655', ...</td>\n",
       "      <td>[\"\\nVous pouvez bénéficier d'une réduction Gen...</td>\n",
       "      <td>['7,3', '7,9', '8,5', '7,4', '9,2', '7,9', '9,...</td>\n",
       "      <td>76.322857</td>\n",
       "    </tr>\n",
       "    <tr>\n",
       "      <th>2</th>\n",
       "      <td>2</td>\n",
       "      <td>Bayeux</td>\n",
       "      <td>['ibis budget Bayeux', 'Hôtel De Brunville et ...</td>\n",
       "      <td>['https://www.booking.com/hotel/fr/etap-bayeux...</td>\n",
       "      <td>['49.25424209', '49.27815769', '49.26974024', ...</td>\n",
       "      <td>['-0.64648747', '-0.70351392', '-0.68883955', ...</td>\n",
       "      <td>['\\nL’ibis budget Bayeux vous accueille entre ...</td>\n",
       "      <td>['8,2', '7,9', '8,1', '9,8', '9,4', '8,7', '8,...</td>\n",
       "      <td>81.748571</td>\n",
       "    </tr>\n",
       "    <tr>\n",
       "      <th>3</th>\n",
       "      <td>3</td>\n",
       "      <td>Le Havre</td>\n",
       "      <td>['Holiday Inn Express - Le Havre Centre', 'Nom...</td>\n",
       "      <td>['https://www.booking.com/hotel/fr/campanile-l...</td>\n",
       "      <td>['49.49823800', '49.49331760', '49.49641693', ...</td>\n",
       "      <td>['0.12883700', '0.12530688', '0.15151234', '0....</td>\n",
       "      <td>[\"\\nL’Holiday Inn Express - Le Havre Centre, s...</td>\n",
       "      <td>['8,2', '8,6', '7,5', '8,7', '8,5', '7,2', '8,...</td>\n",
       "      <td>76.545714</td>\n",
       "    </tr>\n",
       "    <tr>\n",
       "      <th>4</th>\n",
       "      <td>4</td>\n",
       "      <td>Rouen</td>\n",
       "      <td>['Radisson Blu Hotel, Rouen Centre', 'Maison h...</td>\n",
       "      <td>['https://www.booking.com/hotel/fr/radisson-bl...</td>\n",
       "      <td>['49.44644100', '49.44465180', '49.44306423', ...</td>\n",
       "      <td>['1.09412000', '1.09132620', '1.08660311', '1....</td>\n",
       "      <td>[\"\\nVous pouvez bénéficier d'une réduction Gen...</td>\n",
       "      <td>['8,9', '8,8', '8,6', '8,2', '7,1', '8,2', '8,...</td>\n",
       "      <td>68.420000</td>\n",
       "    </tr>\n",
       "  </tbody>\n",
       "</table>\n",
       "</div>"
      ],
      "text/plain": [
       "   id               city                                               name  \\\n",
       "0   0  Mont Saint Michel  ['Hôtel Vert', 'Le Relais Saint Michel', 'La M...   \n",
       "1   1            St Malo  ['Hotel Eden', \"Hotel d'Aleth\", \"Hotel Ajoncs ...   \n",
       "2   2             Bayeux  ['ibis budget Bayeux', 'Hôtel De Brunville et ...   \n",
       "3   3           Le Havre  ['Holiday Inn Express - Le Havre Centre', 'Nom...   \n",
       "4   4              Rouen  ['Radisson Blu Hotel, Rouen Centre', 'Maison h...   \n",
       "\n",
       "                                                 url  \\\n",
       "0  ['https://www.booking.com/hotel/fr/vert.fr.htm...   \n",
       "1  ['https://www.booking.com/hotel/fr/eden-saint-...   \n",
       "2  ['https://www.booking.com/hotel/fr/etap-bayeux...   \n",
       "3  ['https://www.booking.com/hotel/fr/campanile-l...   \n",
       "4  ['https://www.booking.com/hotel/fr/radisson-bl...   \n",
       "\n",
       "                                          lat_hotels  \\\n",
       "0  ['48.61470049', '48.61758727', '48.63508532', ...   \n",
       "1  ['48.66190919', '48.63593081', '48.64735692', ...   \n",
       "2  ['49.25424209', '49.27815769', '49.26974024', ...   \n",
       "3  ['49.49823800', '49.49331760', '49.49641693', ...   \n",
       "4  ['49.44644100', '49.44465180', '49.44306423', ...   \n",
       "\n",
       "                                          lon_hotels  \\\n",
       "0  ['-1.50961697', '-1.51039615', '-1.51053965', ...   \n",
       "1  ['-1.98966533', '-2.02171236', '-2.02519655', ...   \n",
       "2  ['-0.64648747', '-0.70351392', '-0.68883955', ...   \n",
       "3  ['0.12883700', '0.12530688', '0.15151234', '0....   \n",
       "4  ['1.09412000', '1.09132620', '1.08660311', '1....   \n",
       "\n",
       "                                         description  \\\n",
       "0  [\"\\nVous pouvez bénéficier d'une réduction Gen...   \n",
       "1  [\"\\nVous pouvez bénéficier d'une réduction Gen...   \n",
       "2  ['\\nL’ibis budget Bayeux vous accueille entre ...   \n",
       "3  [\"\\nL’Holiday Inn Express - Le Havre Centre, s...   \n",
       "4  [\"\\nVous pouvez bénéficier d'une réduction Gen...   \n",
       "\n",
       "                                               score  score_weather  \n",
       "0  ['8,1', '7,8', '7,2', '8,2', '7,3', '7,2', '8,...      66.817143  \n",
       "1  ['7,3', '7,9', '8,5', '7,4', '9,2', '7,9', '9,...      76.322857  \n",
       "2  ['8,2', '7,9', '8,1', '9,8', '9,4', '8,7', '8,...      81.748571  \n",
       "3  ['8,2', '8,6', '7,5', '8,7', '8,5', '7,2', '8,...      76.545714  \n",
       "4  ['8,9', '8,8', '8,6', '8,2', '7,1', '8,2', '8,...      68.420000  "
      ]
     },
     "execution_count": 22,
     "metadata": {},
     "output_type": "execute_result"
    }
   ],
   "source": [
    "df_hotels.head()"
   ]
  },
  {
   "cell_type": "code",
   "execution_count": 23,
   "metadata": {},
   "outputs": [],
   "source": [
    "# The csv has converted the lists into strings, we need to revert that first for both dataframes\n",
    "df_weather_final = pd.DataFrame()\n",
    "df_weather_final[['id', 'city', 'lat', 'lon', 'score_weather']] = df_weather[['id', 'city', 'lat', 'lon', 'score_weather']]\n",
    "df_weather_final['day_plus'] = df_weather['day_plus'].apply(eval)\n",
    "df_weather_final['felt_temperature'] = df_weather['felt_temperature'].apply(eval)\n",
    "df_weather_final['rain_chances'] = df_weather['rain_chances'].apply(eval)\n",
    "df_weather_final['humidity'] = df_weather['humidity'].apply(eval)\n",
    "\n",
    "df_hotels_final = pd.DataFrame()\n",
    "df_hotels_final[['id', 'city', 'score_weather']] = df_hotels[['id', 'city', 'score_weather']]\n",
    "df_hotels_final['name'] = df_hotels['name'].apply(eval)\n",
    "df_hotels_final['url'] = df_hotels['url'].apply(eval)\n",
    "df_hotels_final['lat_hotels'] = df_hotels['lat_hotels'].apply(eval)\n",
    "df_hotels_final['lon_hotels'] = df_hotels['lon_hotels'].apply(eval)\n",
    "df_hotels_final['description'] = df_hotels['description'].apply(eval)\n",
    "df_hotels_final['score'] = df_hotels['score'].apply(eval)\n",
    "\n",
    "# We need to convert coordinates to numeric type as well\n",
    "df_weather_final[['lat', 'lon']] = df_weather[['lat', 'lon']].apply(pd.to_numeric)"
   ]
  },
  {
   "cell_type": "code",
   "execution_count": 24,
   "metadata": {},
   "outputs": [],
   "source": [
    "# We need to sort the data by weather score and explode the lists to prepare the data for warehousing and plotting\n",
    "df_weather_full = df_weather_final.sort_values('score_weather')\n",
    "df_weather_full.reset_index(inplace=True, drop=True)\n",
    "df_weather_full = df_weather_full.apply(pd.Series.explode)\n",
    "df_weather_full[['day_plus', 'felt_temperature', 'rain_chances', 'humidity']] = df_weather_full[['day_plus', 'felt_temperature', 'rain_chances', 'humidity']].apply(pd.to_numeric)\n",
    "\n",
    "df_hotels_full = df_hotels_final.sort_values('score_weather')\n",
    "df_hotels_full.reset_index(inplace=True, drop=True)\n",
    "df_hotels_full = df_hotels_full.apply(pd.Series.explode)\n",
    "df_hotels_full['description'] = df_hotels_full['description'].replace(\"\\\\n\", \"\", regex=True)\n",
    "df_hotels_full['score'] = df_hotels_full['score'].replace(\",\", \".\", regex=True)\n",
    "df_hotels_full[['lat_hotels', 'lon_hotels', 'score']] = df_hotels_full[['lat_hotels', 'lon_hotels', 'score']].apply(pd.to_numeric)"
   ]
  },
  {
   "cell_type": "code",
   "execution_count": 26,
   "metadata": {},
   "outputs": [],
   "source": [
    "# We reset the index before pushing to SQL in order to give each line a unique id\n",
    "df_weather_full_sql = df_weather_full.reset_index()\n",
    "df_weather_full_sql.reset_index(inplace=True)\n",
    "df_weather_full_sql.drop(columns = ['index'], inplace=True)\n",
    "df_weather_full_sql.rename({'level_0': 'index'}, axis=1, inplace=True)\n",
    "\n",
    "df_hotels_full_sql = df_hotels_full.reset_index()\n",
    "df_hotels_full_sql.reset_index(inplace=True)\n",
    "df_hotels_full_sql.drop(columns = ['index'], inplace=True)\n",
    "df_hotels_full_sql.rename({'level_0': 'index'}, axis=1, inplace=True)"
   ]
  },
  {
   "cell_type": "markdown",
   "metadata": {},
   "source": [
    "## Storing the transformed data in a RDS data warehouse"
   ]
  },
  {
   "cell_type": "code",
   "execution_count": 27,
   "metadata": {},
   "outputs": [],
   "source": [
    "# Importing libraries for the data warehousing and initialization of the SQL engine\n",
    "from sqlalchemy import create_engine, text\n",
    "from sqlalchemy.orm import sessionmaker\n",
    "\n",
    "engine = create_engine(f\"postgresql+psycopg2://{DBUSER}:{DBPASS}@{DBHOST}/{DBNAME}\", echo=True)\n",
    "Session = sessionmaker(bind=engine)\n",
    "session = Session()"
   ]
  },
  {
   "cell_type": "code",
   "execution_count": 28,
   "metadata": {},
   "outputs": [
    {
     "name": "stdout",
     "output_type": "stream",
     "text": [
      "2022-04-25 11:28:34,787 INFO sqlalchemy.engine.Engine select pg_catalog.version()\n",
      "2022-04-25 11:28:34,787 INFO sqlalchemy.engine.Engine [raw sql] {}\n",
      "2022-04-25 11:28:34,819 INFO sqlalchemy.engine.Engine select current_schema()\n",
      "2022-04-25 11:28:34,819 INFO sqlalchemy.engine.Engine [raw sql] {}\n",
      "2022-04-25 11:28:34,845 INFO sqlalchemy.engine.Engine show standard_conforming_strings\n",
      "2022-04-25 11:28:34,846 INFO sqlalchemy.engine.Engine [raw sql] {}\n",
      "2022-04-25 11:28:34,875 INFO sqlalchemy.engine.Engine select relname from pg_class c join pg_namespace n on n.oid=c.relnamespace where pg_catalog.pg_table_is_visible(c.oid) and relname=%(name)s\n",
      "2022-04-25 11:28:34,875 INFO sqlalchemy.engine.Engine [generated in 0.00053s] {'name': 'weather'}\n",
      "2022-04-25 11:28:34,912 INFO sqlalchemy.engine.Engine select relname from pg_class c join pg_namespace n on n.oid=c.relnamespace where pg_catalog.pg_table_is_visible(c.oid) and relname=%(name)s\n",
      "2022-04-25 11:28:34,913 INFO sqlalchemy.engine.Engine [cached since 0.03821s ago] {'name': 'weather'}\n",
      "2022-04-25 11:28:34,950 INFO sqlalchemy.engine.Engine SELECT c.relname FROM pg_class c JOIN pg_namespace n ON n.oid = c.relnamespace WHERE n.nspname = %(schema)s AND c.relkind in ('r', 'p')\n",
      "2022-04-25 11:28:34,951 INFO sqlalchemy.engine.Engine [generated in 0.00049s] {'schema': 'public'}\n",
      "2022-04-25 11:28:34,976 INFO sqlalchemy.engine.Engine \n",
      "            SELECT c.oid\n",
      "            FROM pg_catalog.pg_class c\n",
      "            LEFT JOIN pg_catalog.pg_namespace n ON n.oid = c.relnamespace\n",
      "            WHERE (pg_catalog.pg_table_is_visible(c.oid))\n",
      "            AND c.relname = %(table_name)s AND c.relkind in\n",
      "            ('r', 'v', 'm', 'f', 'p')\n",
      "        \n",
      "2022-04-25 11:28:34,976 INFO sqlalchemy.engine.Engine [generated in 0.00050s] {'table_name': 'weather'}\n",
      "2022-04-25 11:28:34,988 INFO sqlalchemy.engine.Engine \n",
      "            SELECT a.attname,\n",
      "              pg_catalog.format_type(a.atttypid, a.atttypmod),\n",
      "              (\n",
      "                SELECT pg_catalog.pg_get_expr(d.adbin, d.adrelid)\n",
      "                FROM pg_catalog.pg_attrdef d\n",
      "                WHERE d.adrelid = a.attrelid AND d.adnum = a.attnum\n",
      "                AND a.atthasdef\n",
      "              ) AS DEFAULT,\n",
      "              a.attnotnull,\n",
      "              a.attrelid as table_oid,\n",
      "              pgd.description as comment,\n",
      "              a.attgenerated as generated,\n",
      "                              (SELECT json_build_object(\n",
      "                    'always', a.attidentity = 'a',\n",
      "                    'start', s.seqstart,\n",
      "                    'increment', s.seqincrement,\n",
      "                    'minvalue', s.seqmin,\n",
      "                    'maxvalue', s.seqmax,\n",
      "                    'cache', s.seqcache,\n",
      "                    'cycle', s.seqcycle)\n",
      "                FROM pg_catalog.pg_sequence s\n",
      "                JOIN pg_catalog.pg_class c on s.seqrelid = c.\"oid\"\n",
      "                WHERE c.relkind = 'S'\n",
      "                AND a.attidentity != ''\n",
      "                AND s.seqrelid = pg_catalog.pg_get_serial_sequence(\n",
      "                    a.attrelid::regclass::text, a.attname\n",
      "                )::regclass::oid\n",
      "                ) as identity_options                \n",
      "            FROM pg_catalog.pg_attribute a\n",
      "            LEFT JOIN pg_catalog.pg_description pgd ON (\n",
      "                pgd.objoid = a.attrelid AND pgd.objsubid = a.attnum)\n",
      "            WHERE a.attrelid = %(table_oid)s\n",
      "            AND a.attnum > 0 AND NOT a.attisdropped\n",
      "            ORDER BY a.attnum\n",
      "        \n",
      "2022-04-25 11:28:34,989 INFO sqlalchemy.engine.Engine [generated in 0.00084s] {'table_oid': 16647}\n",
      "2022-04-25 11:28:35,006 INFO sqlalchemy.engine.Engine \n",
      "            SELECT t.typname as \"name\",\n",
      "               pg_catalog.format_type(t.typbasetype, t.typtypmod) as \"attype\",\n",
      "               not t.typnotnull as \"nullable\",\n",
      "               t.typdefault as \"default\",\n",
      "               pg_catalog.pg_type_is_visible(t.oid) as \"visible\",\n",
      "               n.nspname as \"schema\"\n",
      "            FROM pg_catalog.pg_type t\n",
      "               LEFT JOIN pg_catalog.pg_namespace n ON n.oid = t.typnamespace\n",
      "            WHERE t.typtype = 'd'\n",
      "        \n",
      "2022-04-25 11:28:35,007 INFO sqlalchemy.engine.Engine [generated in 0.00067s] {}\n",
      "2022-04-25 11:28:35,021 INFO sqlalchemy.engine.Engine \n",
      "            SELECT t.typname as \"name\",\n",
      "               -- no enum defaults in 8.4 at least\n",
      "               -- t.typdefault as \"default\",\n",
      "               pg_catalog.pg_type_is_visible(t.oid) as \"visible\",\n",
      "               n.nspname as \"schema\",\n",
      "               e.enumlabel as \"label\"\n",
      "            FROM pg_catalog.pg_type t\n",
      "                 LEFT JOIN pg_catalog.pg_namespace n ON n.oid = t.typnamespace\n",
      "                 LEFT JOIN pg_catalog.pg_enum e ON t.oid = e.enumtypid\n",
      "            WHERE t.typtype = 'e'\n",
      "        ORDER BY \"schema\", \"name\", e.oid\n",
      "2022-04-25 11:28:35,021 INFO sqlalchemy.engine.Engine [generated in 0.00050s] {}\n",
      "2022-04-25 11:28:35,037 INFO sqlalchemy.engine.Engine \n",
      "                SELECT a.attname\n",
      "                FROM pg_attribute a JOIN (\n",
      "                    SELECT unnest(ix.indkey) attnum,\n",
      "                           generate_subscripts(ix.indkey, 1) ord\n",
      "                    FROM pg_index ix\n",
      "                    WHERE ix.indrelid = %(table_oid)s AND ix.indisprimary\n",
      "                    ) k ON a.attnum=k.attnum\n",
      "                WHERE a.attrelid = %(table_oid)s\n",
      "                ORDER BY k.ord\n",
      "            \n",
      "2022-04-25 11:28:35,038 INFO sqlalchemy.engine.Engine [generated in 0.00047s] {'table_oid': 16647}\n",
      "2022-04-25 11:28:35,051 INFO sqlalchemy.engine.Engine \n",
      "        SELECT conname\n",
      "           FROM  pg_catalog.pg_constraint r\n",
      "           WHERE r.conrelid = %(table_oid)s AND r.contype = 'p'\n",
      "           ORDER BY 1\n",
      "        \n",
      "2022-04-25 11:28:35,051 INFO sqlalchemy.engine.Engine [generated in 0.00051s] {'table_oid': 16647}\n",
      "2022-04-25 11:28:35,065 INFO sqlalchemy.engine.Engine \n",
      "          SELECT r.conname,\n",
      "                pg_catalog.pg_get_constraintdef(r.oid, true) as condef,\n",
      "                n.nspname as conschema\n",
      "          FROM  pg_catalog.pg_constraint r,\n",
      "                pg_namespace n,\n",
      "                pg_class c\n",
      "\n",
      "          WHERE r.conrelid = %(table)s AND\n",
      "                r.contype = 'f' AND\n",
      "                c.oid = confrelid AND\n",
      "                n.oid = c.relnamespace\n",
      "          ORDER BY 1\n",
      "        \n",
      "2022-04-25 11:28:35,067 INFO sqlalchemy.engine.Engine [generated in 0.00219s] {'table': 16647}\n",
      "2022-04-25 11:28:35,082 INFO sqlalchemy.engine.Engine \n",
      "              SELECT\n",
      "                  i.relname as relname,\n",
      "                  ix.indisunique, ix.indexprs,\n",
      "                  a.attname, a.attnum, c.conrelid, ix.indkey::varchar,\n",
      "                  ix.indoption::varchar, i.reloptions, am.amname,\n",
      "                  pg_get_expr(ix.indpred, ix.indrelid),\n",
      "                  ix.indnkeyatts as indnkeyatts\n",
      "              FROM\n",
      "                  pg_class t\n",
      "                        join pg_index ix on t.oid = ix.indrelid\n",
      "                        join pg_class i on i.oid = ix.indexrelid\n",
      "                        left outer join\n",
      "                            pg_attribute a\n",
      "                            on t.oid = a.attrelid and a.attnum = ANY(ix.indkey)\n",
      "                        left outer join\n",
      "                            pg_constraint c\n",
      "                            on (ix.indrelid = c.conrelid and\n",
      "                                ix.indexrelid = c.conindid and\n",
      "                                c.contype in ('p', 'u', 'x'))\n",
      "                        left outer join\n",
      "                            pg_am am\n",
      "                            on i.relam = am.oid\n",
      "              WHERE\n",
      "                  t.relkind IN ('r', 'v', 'f', 'm', 'p')\n",
      "                  and t.oid = %(table_oid)s\n",
      "                  and ix.indisprimary = 'f'\n",
      "              ORDER BY\n",
      "                  t.relname,\n",
      "                  i.relname\n",
      "            \n",
      "2022-04-25 11:28:35,083 INFO sqlalchemy.engine.Engine [generated in 0.00066s] {'table_oid': 16647}\n",
      "2022-04-25 11:28:35,099 INFO sqlalchemy.engine.Engine \n",
      "            SELECT\n",
      "                cons.conname as name,\n",
      "                cons.conkey as key,\n",
      "                a.attnum as col_num,\n",
      "                a.attname as col_name\n",
      "            FROM\n",
      "                pg_catalog.pg_constraint cons\n",
      "                join pg_attribute a\n",
      "                  on cons.conrelid = a.attrelid AND\n",
      "                    a.attnum = ANY(cons.conkey)\n",
      "            WHERE\n",
      "                cons.conrelid = %(table_oid)s AND\n",
      "                cons.contype = 'u'\n",
      "        \n",
      "2022-04-25 11:28:35,099 INFO sqlalchemy.engine.Engine [generated in 0.00058s] {'table_oid': 16647}\n",
      "2022-04-25 11:28:35,111 INFO sqlalchemy.engine.Engine \n",
      "            SELECT\n",
      "                cons.conname as name,\n",
      "                pg_get_constraintdef(cons.oid) as src\n",
      "            FROM\n",
      "                pg_catalog.pg_constraint cons\n",
      "            WHERE\n",
      "                cons.conrelid = %(table_oid)s AND\n",
      "                cons.contype = 'c'\n",
      "        \n",
      "2022-04-25 11:28:35,112 INFO sqlalchemy.engine.Engine [generated in 0.00061s] {'table_oid': 16647}\n",
      "2022-04-25 11:28:35,124 INFO sqlalchemy.engine.Engine \n",
      "            SELECT\n",
      "                pgd.description as table_comment\n",
      "            FROM\n",
      "                pg_catalog.pg_description pgd\n",
      "            WHERE\n",
      "                pgd.objsubid = 0 AND\n",
      "                pgd.objoid = %(table_oid)s\n",
      "        \n",
      "2022-04-25 11:28:35,125 INFO sqlalchemy.engine.Engine [generated in 0.00058s] {'table_oid': 16647}\n",
      "2022-04-25 11:28:35,150 INFO sqlalchemy.engine.Engine BEGIN (implicit)\n",
      "2022-04-25 11:28:35,151 INFO sqlalchemy.engine.Engine \n",
      "DROP TABLE weather\n",
      "2022-04-25 11:28:35,151 INFO sqlalchemy.engine.Engine [no key 0.00028s] {}\n",
      "2022-04-25 11:28:35,180 INFO sqlalchemy.engine.Engine COMMIT\n",
      "2022-04-25 11:28:35,194 INFO sqlalchemy.engine.Engine BEGIN (implicit)\n",
      "2022-04-25 11:28:35,194 INFO sqlalchemy.engine.Engine \n",
      "CREATE TABLE weather (\n",
      "\tindex BIGINT, \n",
      "\tid BIGINT, \n",
      "\tcity TEXT, \n",
      "\tlat FLOAT(53), \n",
      "\tlon FLOAT(53), \n",
      "\tscore_weather FLOAT(53), \n",
      "\tday_plus BIGINT, \n",
      "\tfelt_temperature FLOAT(53), \n",
      "\train_chances BIGINT, \n",
      "\thumidity BIGINT\n",
      ")\n",
      "\n",
      "\n",
      "2022-04-25 11:28:35,195 INFO sqlalchemy.engine.Engine [no key 0.00038s] {}\n",
      "2022-04-25 11:28:35,227 INFO sqlalchemy.engine.Engine COMMIT\n",
      "2022-04-25 11:28:35,240 INFO sqlalchemy.engine.Engine BEGIN (implicit)\n",
      "2022-04-25 11:28:35,242 INFO sqlalchemy.engine.Engine INSERT INTO weather (index, id, city, lat, lon, score_weather, day_plus, felt_temperature, rain_chances, humidity) VALUES (%(index)s, %(id)s, %(city)s, %(lat)s, %(lon)s, %(score_weather)s, %(day_plus)s, %(felt_temperature)s, %(rain_chances)s, %(humidity)s)\n",
      "2022-04-25 11:28:35,242 INFO sqlalchemy.engine.Engine [generated in 0.00092s] ({'index': 0, 'id': 5, 'city': 'Paris', 'lat': 48.8588897, 'lon': 2.3200410217200766, 'score_weather': 58.260000000000005, 'day_plus': 1, 'felt_temperature': 11.47, 'rain_chances': 0, 'humidity': 55}, {'index': 1, 'id': 5, 'city': 'Paris', 'lat': 48.8588897, 'lon': 2.3200410217200766, 'score_weather': 58.260000000000005, 'day_plus': 2, 'felt_temperature': 14.54, 'rain_chances': 0, 'humidity': 45}, {'index': 2, 'id': 5, 'city': 'Paris', 'lat': 48.8588897, 'lon': 2.3200410217200766, 'score_weather': 58.260000000000005, 'day_plus': 3, 'felt_temperature': 18.46, 'rain_chances': 0, 'humidity': 39}, {'index': 3, 'id': 5, 'city': 'Paris', 'lat': 48.8588897, 'lon': 2.3200410217200766, 'score_weather': 58.260000000000005, 'day_plus': 4, 'felt_temperature': 19.04, 'rain_chances': 0, 'humidity': 35}, {'index': 4, 'id': 5, 'city': 'Paris', 'lat': 48.8588897, 'lon': 2.3200410217200766, 'score_weather': 58.260000000000005, 'day_plus': 5, 'felt_temperature': 15.89, 'rain_chances': 0, 'humidity': 40}, {'index': 5, 'id': 5, 'city': 'Paris', 'lat': 48.8588897, 'lon': 2.3200410217200766, 'score_weather': 58.260000000000005, 'day_plus': 6, 'felt_temperature': 16.27, 'rain_chances': 0, 'humidity': 35}, {'index': 6, 'id': 5, 'city': 'Paris', 'lat': 48.8588897, 'lon': 2.3200410217200766, 'score_weather': 58.260000000000005, 'day_plus': 7, 'felt_temperature': 16.67, 'rain_chances': 0, 'humidity': 36}, {'index': 7, 'id': 7, 'city': 'Lille', 'lat': 50.6365654, 'lon': 3.0635282, 'score_weather': 66.56285714285714, 'day_plus': 1, 'felt_temperature': 12.0, 'rain_chances': 17, 'humidity': 47}  ... displaying 10 of 245 total bound parameter sets ...  {'index': 243, 'id': 29, 'city': 'Ariege', 'lat': 42.9455368, 'lon': 1.4065544156065486, 'score_weather': 135.03714285714284, 'day_plus': 6, 'felt_temperature': 11.59, 'rain_chances': 68, 'humidity': 55}, {'index': 244, 'id': 29, 'city': 'Ariege', 'lat': 42.9455368, 'lon': 1.4065544156065486, 'score_weather': 135.03714285714284, 'day_plus': 7, 'felt_temperature': 12.53, 'rain_chances': 0, 'humidity': 49})\n",
      "2022-04-25 11:28:35,291 INFO sqlalchemy.engine.Engine COMMIT\n",
      "2022-04-25 11:28:35,304 INFO sqlalchemy.engine.Engine select relname from pg_class c join pg_namespace n on n.oid=c.relnamespace where pg_catalog.pg_table_is_visible(c.oid) and relname=%(name)s\n",
      "2022-04-25 11:28:35,304 INFO sqlalchemy.engine.Engine [cached since 0.4296s ago] {'name': 'hotels'}\n",
      "2022-04-25 11:28:35,339 INFO sqlalchemy.engine.Engine select relname from pg_class c join pg_namespace n on n.oid=c.relnamespace where pg_catalog.pg_table_is_visible(c.oid) and relname=%(name)s\n",
      "2022-04-25 11:28:35,340 INFO sqlalchemy.engine.Engine [cached since 0.4651s ago] {'name': 'hotels'}\n",
      "2022-04-25 11:28:35,374 INFO sqlalchemy.engine.Engine SELECT c.relname FROM pg_class c JOIN pg_namespace n ON n.oid = c.relnamespace WHERE n.nspname = %(schema)s AND c.relkind in ('r', 'p')\n",
      "2022-04-25 11:28:35,375 INFO sqlalchemy.engine.Engine [cached since 0.4245s ago] {'schema': 'public'}\n",
      "2022-04-25 11:28:35,395 INFO sqlalchemy.engine.Engine \n",
      "            SELECT c.oid\n",
      "            FROM pg_catalog.pg_class c\n",
      "            LEFT JOIN pg_catalog.pg_namespace n ON n.oid = c.relnamespace\n",
      "            WHERE (pg_catalog.pg_table_is_visible(c.oid))\n",
      "            AND c.relname = %(table_name)s AND c.relkind in\n",
      "            ('r', 'v', 'm', 'f', 'p')\n",
      "        \n",
      "2022-04-25 11:28:35,396 INFO sqlalchemy.engine.Engine [cached since 0.4202s ago] {'table_name': 'hotels'}\n",
      "2022-04-25 11:28:35,408 INFO sqlalchemy.engine.Engine \n",
      "            SELECT a.attname,\n",
      "              pg_catalog.format_type(a.atttypid, a.atttypmod),\n",
      "              (\n",
      "                SELECT pg_catalog.pg_get_expr(d.adbin, d.adrelid)\n",
      "                FROM pg_catalog.pg_attrdef d\n",
      "                WHERE d.adrelid = a.attrelid AND d.adnum = a.attnum\n",
      "                AND a.atthasdef\n",
      "              ) AS DEFAULT,\n",
      "              a.attnotnull,\n",
      "              a.attrelid as table_oid,\n",
      "              pgd.description as comment,\n",
      "              a.attgenerated as generated,\n",
      "                              (SELECT json_build_object(\n",
      "                    'always', a.attidentity = 'a',\n",
      "                    'start', s.seqstart,\n",
      "                    'increment', s.seqincrement,\n",
      "                    'minvalue', s.seqmin,\n",
      "                    'maxvalue', s.seqmax,\n",
      "                    'cache', s.seqcache,\n",
      "                    'cycle', s.seqcycle)\n",
      "                FROM pg_catalog.pg_sequence s\n",
      "                JOIN pg_catalog.pg_class c on s.seqrelid = c.\"oid\"\n",
      "                WHERE c.relkind = 'S'\n",
      "                AND a.attidentity != ''\n",
      "                AND s.seqrelid = pg_catalog.pg_get_serial_sequence(\n",
      "                    a.attrelid::regclass::text, a.attname\n",
      "                )::regclass::oid\n",
      "                ) as identity_options                \n",
      "            FROM pg_catalog.pg_attribute a\n",
      "            LEFT JOIN pg_catalog.pg_description pgd ON (\n",
      "                pgd.objoid = a.attrelid AND pgd.objsubid = a.attnum)\n",
      "            WHERE a.attrelid = %(table_oid)s\n",
      "            AND a.attnum > 0 AND NOT a.attisdropped\n",
      "            ORDER BY a.attnum\n",
      "        \n",
      "2022-04-25 11:28:35,408 INFO sqlalchemy.engine.Engine [cached since 0.4199s ago] {'table_oid': 16653}\n",
      "2022-04-25 11:28:35,422 INFO sqlalchemy.engine.Engine \n",
      "            SELECT t.typname as \"name\",\n",
      "               pg_catalog.format_type(t.typbasetype, t.typtypmod) as \"attype\",\n",
      "               not t.typnotnull as \"nullable\",\n",
      "               t.typdefault as \"default\",\n",
      "               pg_catalog.pg_type_is_visible(t.oid) as \"visible\",\n",
      "               n.nspname as \"schema\"\n",
      "            FROM pg_catalog.pg_type t\n",
      "               LEFT JOIN pg_catalog.pg_namespace n ON n.oid = t.typnamespace\n",
      "            WHERE t.typtype = 'd'\n",
      "        \n",
      "2022-04-25 11:28:35,423 INFO sqlalchemy.engine.Engine [cached since 0.417s ago] {}\n",
      "2022-04-25 11:28:35,435 INFO sqlalchemy.engine.Engine \n",
      "            SELECT t.typname as \"name\",\n",
      "               -- no enum defaults in 8.4 at least\n",
      "               -- t.typdefault as \"default\",\n",
      "               pg_catalog.pg_type_is_visible(t.oid) as \"visible\",\n",
      "               n.nspname as \"schema\",\n",
      "               e.enumlabel as \"label\"\n",
      "            FROM pg_catalog.pg_type t\n",
      "                 LEFT JOIN pg_catalog.pg_namespace n ON n.oid = t.typnamespace\n",
      "                 LEFT JOIN pg_catalog.pg_enum e ON t.oid = e.enumtypid\n",
      "            WHERE t.typtype = 'e'\n",
      "        ORDER BY \"schema\", \"name\", e.oid\n",
      "2022-04-25 11:28:35,435 INFO sqlalchemy.engine.Engine [cached since 0.4144s ago] {}\n",
      "2022-04-25 11:28:35,447 INFO sqlalchemy.engine.Engine \n",
      "                SELECT a.attname\n",
      "                FROM pg_attribute a JOIN (\n",
      "                    SELECT unnest(ix.indkey) attnum,\n",
      "                           generate_subscripts(ix.indkey, 1) ord\n",
      "                    FROM pg_index ix\n",
      "                    WHERE ix.indrelid = %(table_oid)s AND ix.indisprimary\n",
      "                    ) k ON a.attnum=k.attnum\n",
      "                WHERE a.attrelid = %(table_oid)s\n",
      "                ORDER BY k.ord\n",
      "            \n",
      "2022-04-25 11:28:35,447 INFO sqlalchemy.engine.Engine [cached since 0.4103s ago] {'table_oid': 16653}\n",
      "2022-04-25 11:28:35,460 INFO sqlalchemy.engine.Engine \n",
      "        SELECT conname\n",
      "           FROM  pg_catalog.pg_constraint r\n",
      "           WHERE r.conrelid = %(table_oid)s AND r.contype = 'p'\n",
      "           ORDER BY 1\n",
      "        \n",
      "2022-04-25 11:28:35,461 INFO sqlalchemy.engine.Engine [cached since 0.4101s ago] {'table_oid': 16653}\n",
      "2022-04-25 11:28:35,471 INFO sqlalchemy.engine.Engine \n",
      "          SELECT r.conname,\n",
      "                pg_catalog.pg_get_constraintdef(r.oid, true) as condef,\n",
      "                n.nspname as conschema\n",
      "          FROM  pg_catalog.pg_constraint r,\n",
      "                pg_namespace n,\n",
      "                pg_class c\n",
      "\n",
      "          WHERE r.conrelid = %(table)s AND\n",
      "                r.contype = 'f' AND\n",
      "                c.oid = confrelid AND\n",
      "                n.oid = c.relnamespace\n",
      "          ORDER BY 1\n",
      "        \n",
      "2022-04-25 11:28:35,472 INFO sqlalchemy.engine.Engine [cached since 0.4071s ago] {'table': 16653}\n",
      "2022-04-25 11:28:35,483 INFO sqlalchemy.engine.Engine \n",
      "              SELECT\n",
      "                  i.relname as relname,\n",
      "                  ix.indisunique, ix.indexprs,\n",
      "                  a.attname, a.attnum, c.conrelid, ix.indkey::varchar,\n",
      "                  ix.indoption::varchar, i.reloptions, am.amname,\n",
      "                  pg_get_expr(ix.indpred, ix.indrelid),\n",
      "                  ix.indnkeyatts as indnkeyatts\n",
      "              FROM\n",
      "                  pg_class t\n",
      "                        join pg_index ix on t.oid = ix.indrelid\n",
      "                        join pg_class i on i.oid = ix.indexrelid\n",
      "                        left outer join\n",
      "                            pg_attribute a\n",
      "                            on t.oid = a.attrelid and a.attnum = ANY(ix.indkey)\n",
      "                        left outer join\n",
      "                            pg_constraint c\n",
      "                            on (ix.indrelid = c.conrelid and\n",
      "                                ix.indexrelid = c.conindid and\n",
      "                                c.contype in ('p', 'u', 'x'))\n",
      "                        left outer join\n",
      "                            pg_am am\n",
      "                            on i.relam = am.oid\n",
      "              WHERE\n",
      "                  t.relkind IN ('r', 'v', 'f', 'm', 'p')\n",
      "                  and t.oid = %(table_oid)s\n",
      "                  and ix.indisprimary = 'f'\n",
      "              ORDER BY\n",
      "                  t.relname,\n",
      "                  i.relname\n",
      "            \n",
      "2022-04-25 11:28:35,483 INFO sqlalchemy.engine.Engine [cached since 0.4012s ago] {'table_oid': 16653}\n",
      "2022-04-25 11:28:35,497 INFO sqlalchemy.engine.Engine \n",
      "            SELECT\n",
      "                cons.conname as name,\n",
      "                cons.conkey as key,\n",
      "                a.attnum as col_num,\n",
      "                a.attname as col_name\n",
      "            FROM\n",
      "                pg_catalog.pg_constraint cons\n",
      "                join pg_attribute a\n",
      "                  on cons.conrelid = a.attrelid AND\n",
      "                    a.attnum = ANY(cons.conkey)\n",
      "            WHERE\n",
      "                cons.conrelid = %(table_oid)s AND\n",
      "                cons.contype = 'u'\n",
      "        \n",
      "2022-04-25 11:28:35,498 INFO sqlalchemy.engine.Engine [cached since 0.399s ago] {'table_oid': 16653}\n",
      "2022-04-25 11:28:35,511 INFO sqlalchemy.engine.Engine \n",
      "            SELECT\n",
      "                cons.conname as name,\n",
      "                pg_get_constraintdef(cons.oid) as src\n",
      "            FROM\n",
      "                pg_catalog.pg_constraint cons\n",
      "            WHERE\n",
      "                cons.conrelid = %(table_oid)s AND\n",
      "                cons.contype = 'c'\n",
      "        \n",
      "2022-04-25 11:28:35,512 INFO sqlalchemy.engine.Engine [cached since 0.4004s ago] {'table_oid': 16653}\n",
      "2022-04-25 11:28:35,527 INFO sqlalchemy.engine.Engine \n",
      "            SELECT\n",
      "                pgd.description as table_comment\n",
      "            FROM\n",
      "                pg_catalog.pg_description pgd\n",
      "            WHERE\n",
      "                pgd.objsubid = 0 AND\n",
      "                pgd.objoid = %(table_oid)s\n",
      "        \n",
      "2022-04-25 11:28:35,529 INFO sqlalchemy.engine.Engine [cached since 0.4046s ago] {'table_oid': 16653}\n",
      "2022-04-25 11:28:35,554 INFO sqlalchemy.engine.Engine BEGIN (implicit)\n",
      "2022-04-25 11:28:35,554 INFO sqlalchemy.engine.Engine \n",
      "DROP TABLE hotels\n",
      "2022-04-25 11:28:35,555 INFO sqlalchemy.engine.Engine [no key 0.00040s] {}\n",
      "2022-04-25 11:28:35,577 INFO sqlalchemy.engine.Engine COMMIT\n",
      "2022-04-25 11:28:35,590 INFO sqlalchemy.engine.Engine BEGIN (implicit)\n",
      "2022-04-25 11:28:35,591 INFO sqlalchemy.engine.Engine \n",
      "CREATE TABLE hotels (\n",
      "\tindex BIGINT, \n",
      "\tid BIGINT, \n",
      "\tcity TEXT, \n",
      "\tscore_weather FLOAT(53), \n",
      "\tname TEXT, \n",
      "\turl TEXT, \n",
      "\tlat_hotels FLOAT(53), \n",
      "\tlon_hotels FLOAT(53), \n",
      "\tdescription TEXT, \n",
      "\tscore FLOAT(53)\n",
      ")\n",
      "\n",
      "\n",
      "2022-04-25 11:28:35,591 INFO sqlalchemy.engine.Engine [no key 0.00032s] {}\n",
      "2022-04-25 11:28:35,618 INFO sqlalchemy.engine.Engine COMMIT\n",
      "2022-04-25 11:28:35,631 INFO sqlalchemy.engine.Engine BEGIN (implicit)\n",
      "2022-04-25 11:28:35,634 INFO sqlalchemy.engine.Engine INSERT INTO hotels (index, id, city, score_weather, name, url, lat_hotels, lon_hotels, description, score) VALUES (%(index)s, %(id)s, %(city)s, %(score_weather)s, %(name)s, %(url)s, %(lat_hotels)s, %(lon_hotels)s, %(description)s, %(score)s)\n",
      "2022-04-25 11:28:35,635 INFO sqlalchemy.engine.Engine [generated in 0.00226s] ({'index': 0, 'id': 5, 'city': 'Paris', 'score_weather': 58.260000000000005, 'name': 'Hôtel de Banville', 'url': 'https://www.booking.com/hotel/fr/hoteldebanvilleparis.fr.html?label=gen173nr-1FCAEoggI46AdIDVgEaBWIAQGYAQ24ARjIAQ_YAQHoAQH4AQKIAgGoAgS4Ara88JIGwAIB0g ... (151 characters truncated) ... no_rooms=1&group_children=0&req_children=0&hpos=1&hapos=1&sr_order=popularity&srpvid=f5ea62e0655600d9&srepoch=1650204226&from=searchresults#hotelTmpl', 'lat_hotels': 48.88639354, 'lon_hotels': 2.29494631, 'description': \"Vous pouvez bénéficier d'une réduction Genius dans l'établissement Hôtel de Banville\\xa0! Connectez-vous pour économiser.L’Hôtel de Banville est situ ... (742 characters truncated) ...  100 mètres de la station de métro Porte de Champerret. Des transferts aéroport privés peuvent être organisés auprès de la réception ouverte 24h/24. \", 'score': 8.4}, {'index': 1, 'id': 5, 'city': 'Paris', 'score_weather': 58.260000000000005, 'name': 'Régence Etoile', 'url': 'https://www.booking.com/hotel/fr/la-regence-etoile.fr.html?label=gen173nr-1FCAEoggI46AdIDVgEaBWIAQGYAQ24ARjIAQ_YAQHoAQH4AQKIAgGoAgS4Ara88JIGwAIB0gIkN ... (179 characters truncated) ... _children=0&hpos=2&hapos=2&sr_order=popularity&srpvid=f5ea62e0655600d9&srepoch=1650204226&from_sustainable_property_sr=1&from=searchresults#hotelTmpl', 'lat_hotels': 48.87652507, 'lon_hotels': 2.29293287, 'description': \"Vous pouvez bénéficier d'une réduction Genius dans l'établissement Régence Etoile\\xa0! Connectez-vous pour économiser.L'hôtel Régence Etoile propose  ... (857 characters truncated) ... Étoile et de sa station de métro, d’où vous pourrez rejoindre directement le quartier d'affaires de La Défense, l'opéra Garnier et Disneyland Paris. \", 'score': 8.5}, {'index': 2, 'id': 5, 'city': 'Paris', 'score_weather': 58.260000000000005, 'name': 'Room Mate Alain - Champs-Elysées', 'url': 'https://www.booking.com/hotel/fr/d-argentine.fr.html?label=gen173nr-1FCAEoggI46AdIDVgEaBWIAQGYAQ24ARjIAQ_YAQHoAQH4AQKIAgGoAgS4Ara88JIGwAIB0gIkNWE4YjM ... (173 characters truncated) ... _children=0&hpos=3&hapos=3&sr_order=popularity&srpvid=f5ea62e0655600d9&srepoch=1650204226&from_sustainable_property_sr=1&from=searchresults#hotelTmpl', 'lat_hotels': 48.87434515, 'lon_hotels': 2.28977568, 'description': \"Vous pouvez bénéficier d'une réduction Genius dans l'établissement Room Mate Alain - Champs-Elysées\\xa0! Connectez-vous pour économiser.Situé à 7 min ... (815 characters truncated) ... au quartier du Marais. Les voyageurs d’affaires seront ravis d’apprendre que le Palais des Congrès de la Porte Maillot n’est qu’à 10 minutes à pied. \", 'score': 8.5}, {'index': 3, 'id': 5, 'city': 'Paris', 'score_weather': 58.260000000000005, 'name': 'Westside Arc de Triomphe Hotel', 'url': 'https://www.booking.com/hotel/fr/westside-arc-de-triomphe.fr.html?label=gen173nr-1FCAEoggI46AdIDVgEaBWIAQGYAQ24ARjIAQ_YAQHoAQH4AQKIAgGoAgS4Ara88JIGwA ... (155 characters truncated) ... no_rooms=1&group_children=0&req_children=0&hpos=4&hapos=4&sr_order=popularity&srpvid=f5ea62e0655600d9&srepoch=1650204226&from=searchresults#hotelTmpl', 'lat_hotels': 48.88129894, 'lon_hotels': 2.29480304, 'description': \"Doté d’un bar-salon, le Westside Arc de Triomphe Hotel propose des hébergements dans une petite rue de l’élégant 17ème arrondissement de Paris, à 12  ... (749 characters truncated) ... ement le musée du Louvre. Le Westside Arc de Triomphe Hotel est à 1 km du palais des congrès de Paris. Vous trouverez un parking public à proximité. \", 'score': 8.0}, {'index': 4, 'id': 5, 'city': 'Paris', 'score_weather': 58.260000000000005, 'name': \"Hotel de L'Esperance\", 'url': 'https://www.booking.com/hotel/fr/de-l-39-esperance.fr.html?label=gen173nr-1FCAEoggI46AdIDVgEaBWIAQGYAQ24ARjIAQ_YAQHoAQH4AQKIAgGoAgS4Ara88JIGwAIB0gIkN ... (148 characters truncated) ... no_rooms=1&group_children=0&req_children=0&hpos=5&hapos=5&sr_order=popularity&srpvid=f5ea62e0655600d9&srepoch=1650204226&from=searchresults#hotelTmpl', 'lat_hotels': 48.8381576, 'lon_hotels': 2.3496155, 'description': \"Vous pouvez bénéficier d'une réduction Genius dans l'établissement Hotel de L'Esperance\\xa0! Connectez-vous pour économiser.Situé à 2 minutes à pied  ... (698 characters truncated) ... lle permet de rejoindre le centre de Paris en 20 minutes par les transports en commun. Le quartier animé de la Butte-aux-Cailles est situé à 1,5 km. \", 'score': 8.6}, {'index': 5, 'id': 5, 'city': 'Paris', 'score_weather': 58.260000000000005, 'name': 'Hotel Korner Eiffel', 'url': 'https://www.booking.com/hotel/fr/idealhotel.fr.html?label=gen173nr-1FCAEoggI46AdIDVgEaBWIAQGYAQ24ARjIAQ_YAQHoAQH4AQKIAgGoAgS4Ara88JIGwAIB0gIkNWE4YjMw ... (172 characters truncated) ... _children=0&hpos=6&hapos=6&sr_order=popularity&srpvid=f5ea62e0655600d9&srepoch=1650204226&from_sustainable_property_sr=1&from=searchresults#hotelTmpl', 'lat_hotels': 48.84659045, 'lon_hotels': 2.28857003, 'description': \"L’Hotel Korner Eiffel se trouve à 20 minutes de marche de la tour Eiffel. Une connexion Wi-Fi est disponible gratuitement dans tout l'établissement.  ... (790 characters truncated) ... à 2 km. La station de métro Dupleix se trouve à 8 minutes de marche. Elle permet d'accéder directement à l'avenue des Champs-Élysées via la ligne 6. \", 'score': 8.6}, {'index': 6, 'id': 5, 'city': 'Paris', 'score_weather': 58.260000000000005, 'name': 'Hôtel Aiglon', 'url': 'https://www.booking.com/hotel/fr/aiglon.fr.html?label=gen173nr-1FCAEoggI46AdIDVgEaBWIAQGYAQ24ARjIAQ_YAQHoAQH4AQKIAgGoAgS4Ara88JIGwAIB0gIkNWE4YjMwODkt ... (137 characters truncated) ... no_rooms=1&group_children=0&req_children=0&hpos=7&hapos=7&sr_order=popularity&srpvid=f5ea62e0655600d9&srepoch=1650204226&from=searchresults#hotelTmpl', 'lat_hotels': 48.83971177, 'lon_hotels': 2.33017266, 'description': \"Vous pouvez bénéficier d'une réduction Genius dans l'établissement Hôtel Aiglon\\xa0! Connectez-vous pour économiser.Situé au cœur du quartier de Mont ... (557 characters truncated) ... pements de l'Aiglon comprennent une réception ouverte 24h/24 avec enregistrement express, un service location de voitures et un bureau d'excursions. \", 'score': 8.7}, {'index': 7, 'id': 5, 'city': 'Paris', 'score_weather': 58.260000000000005, 'name': 'Le Grey Hotel', 'url': 'https://www.booking.com/hotel/fr/grey.fr.html?label=gen173nr-1FCAEoggI46AdIDVgEaBWIAQGYAQ24ARjIAQ_YAQHoAQH4AQKIAgGoAgS4Ara88JIGwAIB0gIkNWE4YjMwODktYj ... (135 characters truncated) ... no_rooms=1&group_children=0&req_children=0&hpos=8&hapos=8&sr_order=popularity&srpvid=f5ea62e0655600d9&srepoch=1650204226&from=searchresults#hotelTmpl', 'lat_hotels': 48.88133015, 'lon_hotels': 2.32741512, 'description': \"Vous pouvez bénéficier d'une réduction Genius dans l'établissement Le Grey Hotel\\xa0! Connectez-vous pour économiser.Situé à mi-chemin entre l'opéra  ... (933 characters truncated) ... ge vous permettra de rejoindre les Champs-Élysées et l’opéra Garnier en 15 minutes. La gare Saint-Lazare est, quant à elle, à 500 mètres de l’hôtel. \", 'score': 8.9}  ... displaying 10 of 700 total bound parameter sets ...  {'index': 698, 'id': 29, 'city': 'Ariege', 'score_weather': 135.03714285714284, 'name': 'Pyrénées Hideaway', 'url': 'https://www.booking.com/hotel/fr/pyrenees-hideaway-benac.fr.html?label=gen173nr-1FCAEoggI46AdIDVgEaBWIAQGYAQ24ARjIAQ_YAQHoAQH4AQKIAgGoAgS4Ara88JIGwAI ... (187 characters truncated) ... hildren=0&hpos=19&hapos=19&sr_order=popularity&srpvid=9e2562e31001037a&srepoch=1650204232&from_sustainable_property_sr=1&from=searchresults#hotelTmpl', 'lat_hotels': 42.95046032, 'lon_hotels': 1.51522071, 'description': \"Vous pouvez bénéficier d'une réduction Genius dans l'établissement Pyrénées Hideaway\\xa0! Connectez-vous pour économiser.Situé à Bénac, en Midi-Pyrén ... (526 characters truncated) ... rdin ou le salon commun.Vous séjournerez à 20 km de Pamiers et à 33 km de Mirepoix. L'aéroport de Carcassonne, le plus proche, est implanté à 89 km. \", 'score': 8.5}, {'index': 699, 'id': 29, 'city': 'Ariege', 'score_weather': 135.03714285714284, 'name': \"Les Granges d'Ignaux\", 'url': 'https://www.booking.com/hotel/fr/les-granges-d-39-ignaux.fr.html?label=gen173nr-1FCAEoggI46AdIDVgEaBWIAQGYAQ24ARjIAQ_YAQHoAQH4AQKIAgGoAgS4Ara88JIGwAI ... (156 characters truncated) ... _rooms=1&group_children=0&req_children=0&hpos=20&hapos=20&sr_order=popularity&srpvid=9e2562e31001037a&srepoch=1650204232&from=searchresults#hotelTmpl', 'lat_hotels': 42.7319257, 'lon_hotels': 1.83929687, 'description': \"Situé à Ignaux, à 43 km de Soldeu, l'établissement Les Granges d'Ignaux propose un salon commun et une connexion Wi-Fi gratuite.Leur salle de bains p ... (245 characters truncated) ...  randonnée dans les environs.Vous séjournerez à 36 km du Pas de la Casa et à 32 km de Foix. L'aéroport de Carcassonne, le plus proche, est à 104 km. \", 'score': 8.4})\n",
      "2022-04-25 11:28:35,850 INFO sqlalchemy.engine.Engine COMMIT\n"
     ]
    },
    {
     "data": {
      "text/plain": [
       "700"
      ]
     },
     "execution_count": 28,
     "metadata": {},
     "output_type": "execute_result"
    }
   ],
   "source": [
    "# Storing the two dataframes as SQL tables\n",
    "df_weather_full_sql.to_sql('weather', con=engine, if_exists='replace', index=False)\n",
    "df_hotels_full_sql.to_sql('hotels', con=engine, if_exists='replace', index=False)"
   ]
  },
  {
   "cell_type": "code",
   "execution_count": 29,
   "metadata": {},
   "outputs": [
    {
     "name": "stdout",
     "output_type": "stream",
     "text": [
      "2022-04-25 11:28:38,272 INFO sqlalchemy.engine.Engine select relname from pg_class c join pg_namespace n on n.oid=c.relnamespace where pg_catalog.pg_table_is_visible(c.oid) and relname=%(name)s\n",
      "2022-04-25 11:28:38,274 INFO sqlalchemy.engine.Engine [cached since 3.399s ago] {'name': 'SELECT * FROM weather LIMIT 21'}\n",
      "2022-04-25 11:28:38,310 INFO sqlalchemy.engine.Engine SELECT * FROM weather LIMIT 21\n",
      "2022-04-25 11:28:38,311 INFO sqlalchemy.engine.Engine [generated in 0.00056s] {}\n"
     ]
    },
    {
     "data": {
      "text/html": [
       "<div>\n",
       "<style scoped>\n",
       "    .dataframe tbody tr th:only-of-type {\n",
       "        vertical-align: middle;\n",
       "    }\n",
       "\n",
       "    .dataframe tbody tr th {\n",
       "        vertical-align: top;\n",
       "    }\n",
       "\n",
       "    .dataframe thead th {\n",
       "        text-align: right;\n",
       "    }\n",
       "</style>\n",
       "<table border=\"1\" class=\"dataframe\">\n",
       "  <thead>\n",
       "    <tr style=\"text-align: right;\">\n",
       "      <th></th>\n",
       "      <th>index</th>\n",
       "      <th>id</th>\n",
       "      <th>city</th>\n",
       "      <th>lat</th>\n",
       "      <th>lon</th>\n",
       "      <th>score_weather</th>\n",
       "      <th>day_plus</th>\n",
       "      <th>felt_temperature</th>\n",
       "      <th>rain_chances</th>\n",
       "      <th>humidity</th>\n",
       "    </tr>\n",
       "  </thead>\n",
       "  <tbody>\n",
       "    <tr>\n",
       "      <th>0</th>\n",
       "      <td>0</td>\n",
       "      <td>5</td>\n",
       "      <td>Paris</td>\n",
       "      <td>48.858890</td>\n",
       "      <td>2.320041</td>\n",
       "      <td>58.260000</td>\n",
       "      <td>1</td>\n",
       "      <td>11.47</td>\n",
       "      <td>0</td>\n",
       "      <td>55</td>\n",
       "    </tr>\n",
       "    <tr>\n",
       "      <th>1</th>\n",
       "      <td>1</td>\n",
       "      <td>5</td>\n",
       "      <td>Paris</td>\n",
       "      <td>48.858890</td>\n",
       "      <td>2.320041</td>\n",
       "      <td>58.260000</td>\n",
       "      <td>2</td>\n",
       "      <td>14.54</td>\n",
       "      <td>0</td>\n",
       "      <td>45</td>\n",
       "    </tr>\n",
       "    <tr>\n",
       "      <th>2</th>\n",
       "      <td>2</td>\n",
       "      <td>5</td>\n",
       "      <td>Paris</td>\n",
       "      <td>48.858890</td>\n",
       "      <td>2.320041</td>\n",
       "      <td>58.260000</td>\n",
       "      <td>3</td>\n",
       "      <td>18.46</td>\n",
       "      <td>0</td>\n",
       "      <td>39</td>\n",
       "    </tr>\n",
       "    <tr>\n",
       "      <th>3</th>\n",
       "      <td>3</td>\n",
       "      <td>5</td>\n",
       "      <td>Paris</td>\n",
       "      <td>48.858890</td>\n",
       "      <td>2.320041</td>\n",
       "      <td>58.260000</td>\n",
       "      <td>4</td>\n",
       "      <td>19.04</td>\n",
       "      <td>0</td>\n",
       "      <td>35</td>\n",
       "    </tr>\n",
       "    <tr>\n",
       "      <th>4</th>\n",
       "      <td>4</td>\n",
       "      <td>5</td>\n",
       "      <td>Paris</td>\n",
       "      <td>48.858890</td>\n",
       "      <td>2.320041</td>\n",
       "      <td>58.260000</td>\n",
       "      <td>5</td>\n",
       "      <td>15.89</td>\n",
       "      <td>0</td>\n",
       "      <td>40</td>\n",
       "    </tr>\n",
       "    <tr>\n",
       "      <th>5</th>\n",
       "      <td>5</td>\n",
       "      <td>5</td>\n",
       "      <td>Paris</td>\n",
       "      <td>48.858890</td>\n",
       "      <td>2.320041</td>\n",
       "      <td>58.260000</td>\n",
       "      <td>6</td>\n",
       "      <td>16.27</td>\n",
       "      <td>0</td>\n",
       "      <td>35</td>\n",
       "    </tr>\n",
       "    <tr>\n",
       "      <th>6</th>\n",
       "      <td>6</td>\n",
       "      <td>5</td>\n",
       "      <td>Paris</td>\n",
       "      <td>48.858890</td>\n",
       "      <td>2.320041</td>\n",
       "      <td>58.260000</td>\n",
       "      <td>7</td>\n",
       "      <td>16.67</td>\n",
       "      <td>0</td>\n",
       "      <td>36</td>\n",
       "    </tr>\n",
       "    <tr>\n",
       "      <th>7</th>\n",
       "      <td>7</td>\n",
       "      <td>7</td>\n",
       "      <td>Lille</td>\n",
       "      <td>50.636565</td>\n",
       "      <td>3.063528</td>\n",
       "      <td>66.562857</td>\n",
       "      <td>1</td>\n",
       "      <td>12.00</td>\n",
       "      <td>17</td>\n",
       "      <td>47</td>\n",
       "    </tr>\n",
       "    <tr>\n",
       "      <th>8</th>\n",
       "      <td>8</td>\n",
       "      <td>7</td>\n",
       "      <td>Lille</td>\n",
       "      <td>50.636565</td>\n",
       "      <td>3.063528</td>\n",
       "      <td>66.562857</td>\n",
       "      <td>2</td>\n",
       "      <td>12.17</td>\n",
       "      <td>0</td>\n",
       "      <td>50</td>\n",
       "    </tr>\n",
       "    <tr>\n",
       "      <th>9</th>\n",
       "      <td>9</td>\n",
       "      <td>7</td>\n",
       "      <td>Lille</td>\n",
       "      <td>50.636565</td>\n",
       "      <td>3.063528</td>\n",
       "      <td>66.562857</td>\n",
       "      <td>3</td>\n",
       "      <td>17.16</td>\n",
       "      <td>0</td>\n",
       "      <td>41</td>\n",
       "    </tr>\n",
       "    <tr>\n",
       "      <th>10</th>\n",
       "      <td>10</td>\n",
       "      <td>7</td>\n",
       "      <td>Lille</td>\n",
       "      <td>50.636565</td>\n",
       "      <td>3.063528</td>\n",
       "      <td>66.562857</td>\n",
       "      <td>4</td>\n",
       "      <td>15.88</td>\n",
       "      <td>0</td>\n",
       "      <td>47</td>\n",
       "    </tr>\n",
       "    <tr>\n",
       "      <th>11</th>\n",
       "      <td>11</td>\n",
       "      <td>7</td>\n",
       "      <td>Lille</td>\n",
       "      <td>50.636565</td>\n",
       "      <td>3.063528</td>\n",
       "      <td>66.562857</td>\n",
       "      <td>5</td>\n",
       "      <td>13.05</td>\n",
       "      <td>0</td>\n",
       "      <td>45</td>\n",
       "    </tr>\n",
       "    <tr>\n",
       "      <th>12</th>\n",
       "      <td>12</td>\n",
       "      <td>7</td>\n",
       "      <td>Lille</td>\n",
       "      <td>50.636565</td>\n",
       "      <td>3.063528</td>\n",
       "      <td>66.562857</td>\n",
       "      <td>6</td>\n",
       "      <td>13.45</td>\n",
       "      <td>0</td>\n",
       "      <td>40</td>\n",
       "    </tr>\n",
       "    <tr>\n",
       "      <th>13</th>\n",
       "      <td>13</td>\n",
       "      <td>7</td>\n",
       "      <td>Lille</td>\n",
       "      <td>50.636565</td>\n",
       "      <td>3.063528</td>\n",
       "      <td>66.562857</td>\n",
       "      <td>7</td>\n",
       "      <td>15.82</td>\n",
       "      <td>2</td>\n",
       "      <td>42</td>\n",
       "    </tr>\n",
       "    <tr>\n",
       "      <th>14</th>\n",
       "      <td>14</td>\n",
       "      <td>0</td>\n",
       "      <td>Mont Saint Michel</td>\n",
       "      <td>48.635954</td>\n",
       "      <td>-1.511460</td>\n",
       "      <td>66.817143</td>\n",
       "      <td>1</td>\n",
       "      <td>14.16</td>\n",
       "      <td>0</td>\n",
       "      <td>58</td>\n",
       "    </tr>\n",
       "    <tr>\n",
       "      <th>15</th>\n",
       "      <td>15</td>\n",
       "      <td>0</td>\n",
       "      <td>Mont Saint Michel</td>\n",
       "      <td>48.635954</td>\n",
       "      <td>-1.511460</td>\n",
       "      <td>66.817143</td>\n",
       "      <td>2</td>\n",
       "      <td>13.55</td>\n",
       "      <td>0</td>\n",
       "      <td>54</td>\n",
       "    </tr>\n",
       "    <tr>\n",
       "      <th>16</th>\n",
       "      <td>16</td>\n",
       "      <td>0</td>\n",
       "      <td>Mont Saint Michel</td>\n",
       "      <td>48.635954</td>\n",
       "      <td>-1.511460</td>\n",
       "      <td>66.817143</td>\n",
       "      <td>3</td>\n",
       "      <td>16.89</td>\n",
       "      <td>0</td>\n",
       "      <td>56</td>\n",
       "    </tr>\n",
       "    <tr>\n",
       "      <th>17</th>\n",
       "      <td>17</td>\n",
       "      <td>0</td>\n",
       "      <td>Mont Saint Michel</td>\n",
       "      <td>48.635954</td>\n",
       "      <td>-1.511460</td>\n",
       "      <td>66.817143</td>\n",
       "      <td>4</td>\n",
       "      <td>18.08</td>\n",
       "      <td>0</td>\n",
       "      <td>54</td>\n",
       "    </tr>\n",
       "    <tr>\n",
       "      <th>18</th>\n",
       "      <td>18</td>\n",
       "      <td>0</td>\n",
       "      <td>Mont Saint Michel</td>\n",
       "      <td>48.635954</td>\n",
       "      <td>-1.511460</td>\n",
       "      <td>66.817143</td>\n",
       "      <td>5</td>\n",
       "      <td>13.96</td>\n",
       "      <td>0</td>\n",
       "      <td>51</td>\n",
       "    </tr>\n",
       "    <tr>\n",
       "      <th>19</th>\n",
       "      <td>19</td>\n",
       "      <td>0</td>\n",
       "      <td>Mont Saint Michel</td>\n",
       "      <td>48.635954</td>\n",
       "      <td>-1.511460</td>\n",
       "      <td>66.817143</td>\n",
       "      <td>6</td>\n",
       "      <td>14.37</td>\n",
       "      <td>0</td>\n",
       "      <td>53</td>\n",
       "    </tr>\n",
       "    <tr>\n",
       "      <th>20</th>\n",
       "      <td>20</td>\n",
       "      <td>0</td>\n",
       "      <td>Mont Saint Michel</td>\n",
       "      <td>48.635954</td>\n",
       "      <td>-1.511460</td>\n",
       "      <td>66.817143</td>\n",
       "      <td>7</td>\n",
       "      <td>16.38</td>\n",
       "      <td>0</td>\n",
       "      <td>59</td>\n",
       "    </tr>\n",
       "  </tbody>\n",
       "</table>\n",
       "</div>"
      ],
      "text/plain": [
       "    index  id               city        lat       lon  score_weather  \\\n",
       "0       0   5              Paris  48.858890  2.320041      58.260000   \n",
       "1       1   5              Paris  48.858890  2.320041      58.260000   \n",
       "2       2   5              Paris  48.858890  2.320041      58.260000   \n",
       "3       3   5              Paris  48.858890  2.320041      58.260000   \n",
       "4       4   5              Paris  48.858890  2.320041      58.260000   \n",
       "5       5   5              Paris  48.858890  2.320041      58.260000   \n",
       "6       6   5              Paris  48.858890  2.320041      58.260000   \n",
       "7       7   7              Lille  50.636565  3.063528      66.562857   \n",
       "8       8   7              Lille  50.636565  3.063528      66.562857   \n",
       "9       9   7              Lille  50.636565  3.063528      66.562857   \n",
       "10     10   7              Lille  50.636565  3.063528      66.562857   \n",
       "11     11   7              Lille  50.636565  3.063528      66.562857   \n",
       "12     12   7              Lille  50.636565  3.063528      66.562857   \n",
       "13     13   7              Lille  50.636565  3.063528      66.562857   \n",
       "14     14   0  Mont Saint Michel  48.635954 -1.511460      66.817143   \n",
       "15     15   0  Mont Saint Michel  48.635954 -1.511460      66.817143   \n",
       "16     16   0  Mont Saint Michel  48.635954 -1.511460      66.817143   \n",
       "17     17   0  Mont Saint Michel  48.635954 -1.511460      66.817143   \n",
       "18     18   0  Mont Saint Michel  48.635954 -1.511460      66.817143   \n",
       "19     19   0  Mont Saint Michel  48.635954 -1.511460      66.817143   \n",
       "20     20   0  Mont Saint Michel  48.635954 -1.511460      66.817143   \n",
       "\n",
       "    day_plus  felt_temperature  rain_chances  humidity  \n",
       "0          1             11.47             0        55  \n",
       "1          2             14.54             0        45  \n",
       "2          3             18.46             0        39  \n",
       "3          4             19.04             0        35  \n",
       "4          5             15.89             0        40  \n",
       "5          6             16.27             0        35  \n",
       "6          7             16.67             0        36  \n",
       "7          1             12.00            17        47  \n",
       "8          2             12.17             0        50  \n",
       "9          3             17.16             0        41  \n",
       "10         4             15.88             0        47  \n",
       "11         5             13.05             0        45  \n",
       "12         6             13.45             0        40  \n",
       "13         7             15.82             2        42  \n",
       "14         1             14.16             0        58  \n",
       "15         2             13.55             0        54  \n",
       "16         3             16.89             0        56  \n",
       "17         4             18.08             0        54  \n",
       "18         5             13.96             0        51  \n",
       "19         6             14.37             0        53  \n",
       "20         7             16.38             0        59  "
      ]
     },
     "execution_count": 29,
     "metadata": {},
     "output_type": "execute_result"
    }
   ],
   "source": [
    "# Testing the data with a query\n",
    "query = text(\"SELECT * FROM weather LIMIT 21\")\n",
    "pd.read_sql(query, engine)"
   ]
  },
  {
   "cell_type": "code",
   "execution_count": 30,
   "metadata": {},
   "outputs": [
    {
     "name": "stdout",
     "output_type": "stream",
     "text": [
      "2022-04-25 11:28:41,969 INFO sqlalchemy.engine.Engine select relname from pg_class c join pg_namespace n on n.oid=c.relnamespace where pg_catalog.pg_table_is_visible(c.oid) and relname=%(name)s\n",
      "2022-04-25 11:28:41,970 INFO sqlalchemy.engine.Engine [cached since 7.095s ago] {'name': 'SELECT * FROM hotels LIMIT 40'}\n",
      "2022-04-25 11:28:42,002 INFO sqlalchemy.engine.Engine SELECT * FROM hotels LIMIT 40\n",
      "2022-04-25 11:28:42,003 INFO sqlalchemy.engine.Engine [generated in 0.00057s] {}\n"
     ]
    },
    {
     "data": {
      "text/html": [
       "<div>\n",
       "<style scoped>\n",
       "    .dataframe tbody tr th:only-of-type {\n",
       "        vertical-align: middle;\n",
       "    }\n",
       "\n",
       "    .dataframe tbody tr th {\n",
       "        vertical-align: top;\n",
       "    }\n",
       "\n",
       "    .dataframe thead th {\n",
       "        text-align: right;\n",
       "    }\n",
       "</style>\n",
       "<table border=\"1\" class=\"dataframe\">\n",
       "  <thead>\n",
       "    <tr style=\"text-align: right;\">\n",
       "      <th></th>\n",
       "      <th>index</th>\n",
       "      <th>id</th>\n",
       "      <th>city</th>\n",
       "      <th>score_weather</th>\n",
       "      <th>name</th>\n",
       "      <th>url</th>\n",
       "      <th>lat_hotels</th>\n",
       "      <th>lon_hotels</th>\n",
       "      <th>description</th>\n",
       "      <th>score</th>\n",
       "    </tr>\n",
       "  </thead>\n",
       "  <tbody>\n",
       "    <tr>\n",
       "      <th>0</th>\n",
       "      <td>0</td>\n",
       "      <td>5</td>\n",
       "      <td>Paris</td>\n",
       "      <td>58.260000</td>\n",
       "      <td>Hôtel de Banville</td>\n",
       "      <td>https://www.booking.com/hotel/fr/hoteldebanvil...</td>\n",
       "      <td>48.886394</td>\n",
       "      <td>2.294946</td>\n",
       "      <td>Vous pouvez bénéficier d'une réduction Genius ...</td>\n",
       "      <td>8.4</td>\n",
       "    </tr>\n",
       "    <tr>\n",
       "      <th>1</th>\n",
       "      <td>1</td>\n",
       "      <td>5</td>\n",
       "      <td>Paris</td>\n",
       "      <td>58.260000</td>\n",
       "      <td>Régence Etoile</td>\n",
       "      <td>https://www.booking.com/hotel/fr/la-regence-et...</td>\n",
       "      <td>48.876525</td>\n",
       "      <td>2.292933</td>\n",
       "      <td>Vous pouvez bénéficier d'une réduction Genius ...</td>\n",
       "      <td>8.5</td>\n",
       "    </tr>\n",
       "    <tr>\n",
       "      <th>2</th>\n",
       "      <td>2</td>\n",
       "      <td>5</td>\n",
       "      <td>Paris</td>\n",
       "      <td>58.260000</td>\n",
       "      <td>Room Mate Alain - Champs-Elysées</td>\n",
       "      <td>https://www.booking.com/hotel/fr/d-argentine.f...</td>\n",
       "      <td>48.874345</td>\n",
       "      <td>2.289776</td>\n",
       "      <td>Vous pouvez bénéficier d'une réduction Genius ...</td>\n",
       "      <td>8.5</td>\n",
       "    </tr>\n",
       "    <tr>\n",
       "      <th>3</th>\n",
       "      <td>3</td>\n",
       "      <td>5</td>\n",
       "      <td>Paris</td>\n",
       "      <td>58.260000</td>\n",
       "      <td>Westside Arc de Triomphe Hotel</td>\n",
       "      <td>https://www.booking.com/hotel/fr/westside-arc-...</td>\n",
       "      <td>48.881299</td>\n",
       "      <td>2.294803</td>\n",
       "      <td>Doté d’un bar-salon, le Westside Arc de Triomp...</td>\n",
       "      <td>8.0</td>\n",
       "    </tr>\n",
       "    <tr>\n",
       "      <th>4</th>\n",
       "      <td>34</td>\n",
       "      <td>7</td>\n",
       "      <td>Lille</td>\n",
       "      <td>66.562857</td>\n",
       "      <td>Best Hôtel Lille</td>\n",
       "      <td>https://www.booking.com/hotel/fr/besthotel_lil...</td>\n",
       "      <td>50.626040</td>\n",
       "      <td>3.051903</td>\n",
       "      <td>Le Best Hôtel Lille est un hôtel-restaurant si...</td>\n",
       "      <td>7.7</td>\n",
       "    </tr>\n",
       "    <tr>\n",
       "      <th>5</th>\n",
       "      <td>4</td>\n",
       "      <td>5</td>\n",
       "      <td>Paris</td>\n",
       "      <td>58.260000</td>\n",
       "      <td>Hotel de L'Esperance</td>\n",
       "      <td>https://www.booking.com/hotel/fr/de-l-39-esper...</td>\n",
       "      <td>48.838158</td>\n",
       "      <td>2.349616</td>\n",
       "      <td>Vous pouvez bénéficier d'une réduction Genius ...</td>\n",
       "      <td>8.6</td>\n",
       "    </tr>\n",
       "    <tr>\n",
       "      <th>6</th>\n",
       "      <td>5</td>\n",
       "      <td>5</td>\n",
       "      <td>Paris</td>\n",
       "      <td>58.260000</td>\n",
       "      <td>Hotel Korner Eiffel</td>\n",
       "      <td>https://www.booking.com/hotel/fr/idealhotel.fr...</td>\n",
       "      <td>48.846590</td>\n",
       "      <td>2.288570</td>\n",
       "      <td>L’Hotel Korner Eiffel se trouve à 20 minutes d...</td>\n",
       "      <td>8.6</td>\n",
       "    </tr>\n",
       "    <tr>\n",
       "      <th>7</th>\n",
       "      <td>6</td>\n",
       "      <td>5</td>\n",
       "      <td>Paris</td>\n",
       "      <td>58.260000</td>\n",
       "      <td>Hôtel Aiglon</td>\n",
       "      <td>https://www.booking.com/hotel/fr/aiglon.fr.htm...</td>\n",
       "      <td>48.839712</td>\n",
       "      <td>2.330173</td>\n",
       "      <td>Vous pouvez bénéficier d'une réduction Genius ...</td>\n",
       "      <td>8.7</td>\n",
       "    </tr>\n",
       "    <tr>\n",
       "      <th>8</th>\n",
       "      <td>7</td>\n",
       "      <td>5</td>\n",
       "      <td>Paris</td>\n",
       "      <td>58.260000</td>\n",
       "      <td>Le Grey Hotel</td>\n",
       "      <td>https://www.booking.com/hotel/fr/grey.fr.html?...</td>\n",
       "      <td>48.881330</td>\n",
       "      <td>2.327415</td>\n",
       "      <td>Vous pouvez bénéficier d'une réduction Genius ...</td>\n",
       "      <td>8.9</td>\n",
       "    </tr>\n",
       "    <tr>\n",
       "      <th>9</th>\n",
       "      <td>13</td>\n",
       "      <td>5</td>\n",
       "      <td>Paris</td>\n",
       "      <td>58.260000</td>\n",
       "      <td>Hotel Petit Lafayette</td>\n",
       "      <td>https://www.booking.com/hotel/fr/holiday-villa...</td>\n",
       "      <td>48.876067</td>\n",
       "      <td>2.345675</td>\n",
       "      <td>Vous pouvez bénéficier d'une réduction Genius ...</td>\n",
       "      <td>8.8</td>\n",
       "    </tr>\n",
       "    <tr>\n",
       "      <th>10</th>\n",
       "      <td>8</td>\n",
       "      <td>5</td>\n",
       "      <td>Paris</td>\n",
       "      <td>58.260000</td>\n",
       "      <td>Austin's Arts Et Metiers Hotel</td>\n",
       "      <td>https://www.booking.com/hotel/fr/austin-s-arts...</td>\n",
       "      <td>48.866011</td>\n",
       "      <td>2.357098</td>\n",
       "      <td>Vous pouvez bénéficier d'une réduction Genius ...</td>\n",
       "      <td>8.4</td>\n",
       "    </tr>\n",
       "    <tr>\n",
       "      <th>11</th>\n",
       "      <td>9</td>\n",
       "      <td>5</td>\n",
       "      <td>Paris</td>\n",
       "      <td>58.260000</td>\n",
       "      <td>Grand Hôtel Amelot</td>\n",
       "      <td>https://www.booking.com/hotel/fr/grand-amelot-...</td>\n",
       "      <td>48.859257</td>\n",
       "      <td>2.368409</td>\n",
       "      <td>Vous pouvez bénéficier d'une réduction Genius ...</td>\n",
       "      <td>8.1</td>\n",
       "    </tr>\n",
       "    <tr>\n",
       "      <th>12</th>\n",
       "      <td>10</td>\n",
       "      <td>5</td>\n",
       "      <td>Paris</td>\n",
       "      <td>58.260000</td>\n",
       "      <td>Le Pigalle Hotel</td>\n",
       "      <td>https://www.booking.com/hotel/fr/le-pigalle-pa...</td>\n",
       "      <td>48.881667</td>\n",
       "      <td>2.337328</td>\n",
       "      <td>Vous pouvez bénéficier d'une réduction Genius ...</td>\n",
       "      <td>8.7</td>\n",
       "    </tr>\n",
       "    <tr>\n",
       "      <th>13</th>\n",
       "      <td>11</td>\n",
       "      <td>5</td>\n",
       "      <td>Paris</td>\n",
       "      <td>58.260000</td>\n",
       "      <td>Grand Hotel Francais</td>\n",
       "      <td>https://www.booking.com/hotel/fr/hotelfrancais...</td>\n",
       "      <td>48.851585</td>\n",
       "      <td>2.390827</td>\n",
       "      <td>Le Grand Hotel Français est un hôtel design si...</td>\n",
       "      <td>8.7</td>\n",
       "    </tr>\n",
       "    <tr>\n",
       "      <th>14</th>\n",
       "      <td>12</td>\n",
       "      <td>5</td>\n",
       "      <td>Paris</td>\n",
       "      <td>58.260000</td>\n",
       "      <td>Hotel Elysees Opera</td>\n",
       "      <td>https://www.booking.com/hotel/fr/america.fr.ht...</td>\n",
       "      <td>48.881415</td>\n",
       "      <td>2.324553</td>\n",
       "      <td>Vous pouvez bénéficier d'une réduction Genius ...</td>\n",
       "      <td>8.3</td>\n",
       "    </tr>\n",
       "    <tr>\n",
       "      <th>15</th>\n",
       "      <td>14</td>\n",
       "      <td>5</td>\n",
       "      <td>Paris</td>\n",
       "      <td>58.260000</td>\n",
       "      <td>HotelHome Paris 16</td>\n",
       "      <td>https://www.booking.com/hotel/fr/residencejasm...</td>\n",
       "      <td>48.850575</td>\n",
       "      <td>2.267432</td>\n",
       "      <td>Vous pouvez bénéficier d'une réduction Genius ...</td>\n",
       "      <td>8.5</td>\n",
       "    </tr>\n",
       "    <tr>\n",
       "      <th>16</th>\n",
       "      <td>15</td>\n",
       "      <td>5</td>\n",
       "      <td>Paris</td>\n",
       "      <td>58.260000</td>\n",
       "      <td>Sweet Inn - Turenne</td>\n",
       "      <td>https://www.booking.com/hotel/fr/sweet-inn-le-...</td>\n",
       "      <td>48.864444</td>\n",
       "      <td>2.364885</td>\n",
       "      <td>Vous pouvez bénéficier d'une réduction Genius ...</td>\n",
       "      <td>8.7</td>\n",
       "    </tr>\n",
       "    <tr>\n",
       "      <th>17</th>\n",
       "      <td>16</td>\n",
       "      <td>5</td>\n",
       "      <td>Paris</td>\n",
       "      <td>58.260000</td>\n",
       "      <td>Holiday Inn Paris Gare de l'Est, an IHG Hotel</td>\n",
       "      <td>https://www.booking.com/hotel/fr/mercure-termi...</td>\n",
       "      <td>48.875974</td>\n",
       "      <td>2.359005</td>\n",
       "      <td>L'Holiday Inn Paris Gare de l'Est est situé en...</td>\n",
       "      <td>7.8</td>\n",
       "    </tr>\n",
       "    <tr>\n",
       "      <th>18</th>\n",
       "      <td>17</td>\n",
       "      <td>5</td>\n",
       "      <td>Paris</td>\n",
       "      <td>58.260000</td>\n",
       "      <td>Hotel Lutetia</td>\n",
       "      <td>https://www.booking.com/hotel/fr/lutetia-paris...</td>\n",
       "      <td>48.851244</td>\n",
       "      <td>2.327238</td>\n",
       "      <td>L’Hotel Lutetia - The Leading Hotels of the Wo...</td>\n",
       "      <td>8.9</td>\n",
       "    </tr>\n",
       "    <tr>\n",
       "      <th>19</th>\n",
       "      <td>18</td>\n",
       "      <td>5</td>\n",
       "      <td>Paris</td>\n",
       "      <td>58.260000</td>\n",
       "      <td>B&amp;B Hôtel Paris 17 Batignolles</td>\n",
       "      <td>https://www.booking.com/hotel/fr/parisboulevar...</td>\n",
       "      <td>48.894314</td>\n",
       "      <td>2.312344</td>\n",
       "      <td>Le B&amp;B Hôtel Paris 17 Batignolles est situé da...</td>\n",
       "      <td>8.1</td>\n",
       "    </tr>\n",
       "    <tr>\n",
       "      <th>20</th>\n",
       "      <td>19</td>\n",
       "      <td>5</td>\n",
       "      <td>Paris</td>\n",
       "      <td>58.260000</td>\n",
       "      <td>MEININGER Hotel Paris Porte de Vincennes</td>\n",
       "      <td>https://www.booking.com/hotel/fr/meininger-par...</td>\n",
       "      <td>48.844105</td>\n",
       "      <td>2.413063</td>\n",
       "      <td>Doté d'un bar et d'un salon commun, le MEINING...</td>\n",
       "      <td>8.1</td>\n",
       "    </tr>\n",
       "    <tr>\n",
       "      <th>21</th>\n",
       "      <td>20</td>\n",
       "      <td>7</td>\n",
       "      <td>Lille</td>\n",
       "      <td>66.562857</td>\n",
       "      <td>Hotel Lille Europe</td>\n",
       "      <td>https://www.booking.com/hotel/fr/lille-europe....</td>\n",
       "      <td>50.637888</td>\n",
       "      <td>3.072685</td>\n",
       "      <td>Vous pouvez bénéficier d'une réduction Genius ...</td>\n",
       "      <td>8.1</td>\n",
       "    </tr>\n",
       "    <tr>\n",
       "      <th>22</th>\n",
       "      <td>21</td>\n",
       "      <td>7</td>\n",
       "      <td>Lille</td>\n",
       "      <td>66.562857</td>\n",
       "      <td>NOCNOC - La Villa Cachee</td>\n",
       "      <td>https://www.booking.com/hotel/fr/la-villa-cach...</td>\n",
       "      <td>50.629146</td>\n",
       "      <td>3.064199</td>\n",
       "      <td>Vous pouvez bénéficier d'une réduction Genius ...</td>\n",
       "      <td>8.4</td>\n",
       "    </tr>\n",
       "    <tr>\n",
       "      <th>23</th>\n",
       "      <td>22</td>\n",
       "      <td>7</td>\n",
       "      <td>Lille</td>\n",
       "      <td>66.562857</td>\n",
       "      <td>Moxy Lille City</td>\n",
       "      <td>https://www.booking.com/hotel/fr/moxy-lille-ci...</td>\n",
       "      <td>50.627831</td>\n",
       "      <td>3.063592</td>\n",
       "      <td>Le Moxy Lille City est situé à Lille, à 700 mè...</td>\n",
       "      <td>8.7</td>\n",
       "    </tr>\n",
       "    <tr>\n",
       "      <th>24</th>\n",
       "      <td>23</td>\n",
       "      <td>7</td>\n",
       "      <td>Lille</td>\n",
       "      <td>66.562857</td>\n",
       "      <td>ibis Styles Lille Centre Gare Beffroi</td>\n",
       "      <td>https://www.booking.com/hotel/fr/ibis-styles-l...</td>\n",
       "      <td>50.632382</td>\n",
       "      <td>3.067943</td>\n",
       "      <td>L’ibis Styles Lille Centre Gare Beffroi vous a...</td>\n",
       "      <td>7.8</td>\n",
       "    </tr>\n",
       "    <tr>\n",
       "      <th>25</th>\n",
       "      <td>24</td>\n",
       "      <td>7</td>\n",
       "      <td>Lille</td>\n",
       "      <td>66.562857</td>\n",
       "      <td>Hôtel Calm Lille</td>\n",
       "      <td>https://www.booking.com/hotel/fr/calm-lille.fr...</td>\n",
       "      <td>50.635288</td>\n",
       "      <td>3.069707</td>\n",
       "      <td>Vous pouvez bénéficier d'une réduction Genius ...</td>\n",
       "      <td>7.8</td>\n",
       "    </tr>\n",
       "    <tr>\n",
       "      <th>26</th>\n",
       "      <td>25</td>\n",
       "      <td>7</td>\n",
       "      <td>Lille</td>\n",
       "      <td>66.562857</td>\n",
       "      <td>Holiday Inn Express Lille Centre, an IHG Hotel</td>\n",
       "      <td>https://www.booking.com/hotel/fr/expressbyholi...</td>\n",
       "      <td>50.630759</td>\n",
       "      <td>3.058088</td>\n",
       "      <td>L'Holiday Inn Express Lille Centre est situé d...</td>\n",
       "      <td>8.1</td>\n",
       "    </tr>\n",
       "    <tr>\n",
       "      <th>27</th>\n",
       "      <td>26</td>\n",
       "      <td>7</td>\n",
       "      <td>Lille</td>\n",
       "      <td>66.562857</td>\n",
       "      <td>Grand Hotel Bellevue - Grand Place</td>\n",
       "      <td>https://www.booking.com/hotel/fr/grandhotelbel...</td>\n",
       "      <td>50.636547</td>\n",
       "      <td>3.062342</td>\n",
       "      <td>Vous pouvez bénéficier d'une réduction Genius ...</td>\n",
       "      <td>8.5</td>\n",
       "    </tr>\n",
       "    <tr>\n",
       "      <th>28</th>\n",
       "      <td>27</td>\n",
       "      <td>7</td>\n",
       "      <td>Lille</td>\n",
       "      <td>66.562857</td>\n",
       "      <td>Hotel Art Deco Euralille</td>\n",
       "      <td>https://www.booking.com/hotel/fr/hotelsrtdecor...</td>\n",
       "      <td>50.646022</td>\n",
       "      <td>3.075871</td>\n",
       "      <td>Vous pouvez bénéficier d'une réduction Genius ...</td>\n",
       "      <td>7.8</td>\n",
       "    </tr>\n",
       "    <tr>\n",
       "      <th>29</th>\n",
       "      <td>33</td>\n",
       "      <td>7</td>\n",
       "      <td>Lille</td>\n",
       "      <td>66.562857</td>\n",
       "      <td>Residhotel Lille Vauban</td>\n",
       "      <td>https://www.booking.com/hotel/fr/residhotel-li...</td>\n",
       "      <td>50.632207</td>\n",
       "      <td>3.046686</td>\n",
       "      <td>Le Residhotel Lille Vauban est idéalement inst...</td>\n",
       "      <td>8.0</td>\n",
       "    </tr>\n",
       "    <tr>\n",
       "      <th>30</th>\n",
       "      <td>28</td>\n",
       "      <td>7</td>\n",
       "      <td>Lille</td>\n",
       "      <td>66.562857</td>\n",
       "      <td>Eklo Hotels Lille</td>\n",
       "      <td>https://www.booking.com/hotel/fr/eklo-hotels-l...</td>\n",
       "      <td>50.620033</td>\n",
       "      <td>3.084567</td>\n",
       "      <td>Doté d'une terrasse, l'Eklo Hotels Lille est s...</td>\n",
       "      <td>7.7</td>\n",
       "    </tr>\n",
       "    <tr>\n",
       "      <th>31</th>\n",
       "      <td>29</td>\n",
       "      <td>7</td>\n",
       "      <td>Lille</td>\n",
       "      <td>66.562857</td>\n",
       "      <td>Séjours &amp; Affaires Lille Europe</td>\n",
       "      <td>https://www.booking.com/hotel/fr/residence-lil...</td>\n",
       "      <td>50.636470</td>\n",
       "      <td>3.074909</td>\n",
       "      <td>La résidence Séjours &amp; Affaires Lille Europe e...</td>\n",
       "      <td>7.4</td>\n",
       "    </tr>\n",
       "    <tr>\n",
       "      <th>32</th>\n",
       "      <td>30</td>\n",
       "      <td>7</td>\n",
       "      <td>Lille</td>\n",
       "      <td>66.562857</td>\n",
       "      <td>Novotel Suites Lille Europe</td>\n",
       "      <td>https://www.booking.com/hotel/fr/suitehotel-li...</td>\n",
       "      <td>50.638833</td>\n",
       "      <td>3.076681</td>\n",
       "      <td>Installé dans le centre-ville de Lille, l’hôte...</td>\n",
       "      <td>8.2</td>\n",
       "    </tr>\n",
       "    <tr>\n",
       "      <th>33</th>\n",
       "      <td>31</td>\n",
       "      <td>7</td>\n",
       "      <td>Lille</td>\n",
       "      <td>66.562857</td>\n",
       "      <td>OKKO Hotels Lille Centre</td>\n",
       "      <td>https://www.booking.com/hotel/fr/okko-hotels-l...</td>\n",
       "      <td>50.634074</td>\n",
       "      <td>3.064229</td>\n",
       "      <td>Installé à Lille, l’OKKO Hotels Lille Centre p...</td>\n",
       "      <td>8.8</td>\n",
       "    </tr>\n",
       "    <tr>\n",
       "      <th>34</th>\n",
       "      <td>32</td>\n",
       "      <td>7</td>\n",
       "      <td>Lille</td>\n",
       "      <td>66.562857</td>\n",
       "      <td>Lille City Hotel</td>\n",
       "      <td>https://www.booking.com/hotel/fr/misterbeddeli...</td>\n",
       "      <td>50.633599</td>\n",
       "      <td>3.063281</td>\n",
       "      <td>Le Lille City Hotel est un établissement abord...</td>\n",
       "      <td>7.0</td>\n",
       "    </tr>\n",
       "    <tr>\n",
       "      <th>35</th>\n",
       "      <td>35</td>\n",
       "      <td>7</td>\n",
       "      <td>Lille</td>\n",
       "      <td>66.562857</td>\n",
       "      <td>Grand Hôtel Lille</td>\n",
       "      <td>https://www.booking.com/hotel/fr/le-grand-hote...</td>\n",
       "      <td>50.636857</td>\n",
       "      <td>3.067943</td>\n",
       "      <td>Situé dans le centre de Lille, juste à côté de...</td>\n",
       "      <td>8.1</td>\n",
       "    </tr>\n",
       "    <tr>\n",
       "      <th>36</th>\n",
       "      <td>36</td>\n",
       "      <td>7</td>\n",
       "      <td>Lille</td>\n",
       "      <td>66.562857</td>\n",
       "      <td>Appart'City Confort Lille Grand Palais</td>\n",
       "      <td>https://www.booking.com/hotel/fr/appart-city-l...</td>\n",
       "      <td>50.629058</td>\n",
       "      <td>3.081134</td>\n",
       "      <td>Dans le centre-ville de Lille, l’établissement...</td>\n",
       "      <td>7.3</td>\n",
       "    </tr>\n",
       "    <tr>\n",
       "      <th>37</th>\n",
       "      <td>37</td>\n",
       "      <td>7</td>\n",
       "      <td>Lille</td>\n",
       "      <td>66.562857</td>\n",
       "      <td>Hôtel Saint Maurice</td>\n",
       "      <td>https://www.booking.com/hotel/fr/hotelsaintmau...</td>\n",
       "      <td>50.635571</td>\n",
       "      <td>3.067833</td>\n",
       "      <td>L’Hôtel Saint Maurice est situé dans une zone ...</td>\n",
       "      <td>7.7</td>\n",
       "    </tr>\n",
       "    <tr>\n",
       "      <th>38</th>\n",
       "      <td>38</td>\n",
       "      <td>7</td>\n",
       "      <td>Lille</td>\n",
       "      <td>66.562857</td>\n",
       "      <td>Campanile Lille Euralille</td>\n",
       "      <td>https://www.booking.com/hotel/fr/campanile-lil...</td>\n",
       "      <td>50.645698</td>\n",
       "      <td>3.072110</td>\n",
       "      <td>Vous pouvez bénéficier d'une réduction Genius ...</td>\n",
       "      <td>8.2</td>\n",
       "    </tr>\n",
       "    <tr>\n",
       "      <th>39</th>\n",
       "      <td>44</td>\n",
       "      <td>0</td>\n",
       "      <td>Mont Saint Michel</td>\n",
       "      <td>66.817143</td>\n",
       "      <td>Les Terrasses Poulard</td>\n",
       "      <td>https://www.booking.com/hotel/fr/les-terrasses...</td>\n",
       "      <td>48.635349</td>\n",
       "      <td>-1.510379</td>\n",
       "      <td>Vous pouvez bénéficier d'une réduction Genius ...</td>\n",
       "      <td>7.3</td>\n",
       "    </tr>\n",
       "  </tbody>\n",
       "</table>\n",
       "</div>"
      ],
      "text/plain": [
       "    index  id               city  score_weather  \\\n",
       "0       0   5              Paris      58.260000   \n",
       "1       1   5              Paris      58.260000   \n",
       "2       2   5              Paris      58.260000   \n",
       "3       3   5              Paris      58.260000   \n",
       "4      34   7              Lille      66.562857   \n",
       "5       4   5              Paris      58.260000   \n",
       "6       5   5              Paris      58.260000   \n",
       "7       6   5              Paris      58.260000   \n",
       "8       7   5              Paris      58.260000   \n",
       "9      13   5              Paris      58.260000   \n",
       "10      8   5              Paris      58.260000   \n",
       "11      9   5              Paris      58.260000   \n",
       "12     10   5              Paris      58.260000   \n",
       "13     11   5              Paris      58.260000   \n",
       "14     12   5              Paris      58.260000   \n",
       "15     14   5              Paris      58.260000   \n",
       "16     15   5              Paris      58.260000   \n",
       "17     16   5              Paris      58.260000   \n",
       "18     17   5              Paris      58.260000   \n",
       "19     18   5              Paris      58.260000   \n",
       "20     19   5              Paris      58.260000   \n",
       "21     20   7              Lille      66.562857   \n",
       "22     21   7              Lille      66.562857   \n",
       "23     22   7              Lille      66.562857   \n",
       "24     23   7              Lille      66.562857   \n",
       "25     24   7              Lille      66.562857   \n",
       "26     25   7              Lille      66.562857   \n",
       "27     26   7              Lille      66.562857   \n",
       "28     27   7              Lille      66.562857   \n",
       "29     33   7              Lille      66.562857   \n",
       "30     28   7              Lille      66.562857   \n",
       "31     29   7              Lille      66.562857   \n",
       "32     30   7              Lille      66.562857   \n",
       "33     31   7              Lille      66.562857   \n",
       "34     32   7              Lille      66.562857   \n",
       "35     35   7              Lille      66.562857   \n",
       "36     36   7              Lille      66.562857   \n",
       "37     37   7              Lille      66.562857   \n",
       "38     38   7              Lille      66.562857   \n",
       "39     44   0  Mont Saint Michel      66.817143   \n",
       "\n",
       "                                              name  \\\n",
       "0                                Hôtel de Banville   \n",
       "1                                   Régence Etoile   \n",
       "2                 Room Mate Alain - Champs-Elysées   \n",
       "3                   Westside Arc de Triomphe Hotel   \n",
       "4                                 Best Hôtel Lille   \n",
       "5                             Hotel de L'Esperance   \n",
       "6                              Hotel Korner Eiffel   \n",
       "7                                     Hôtel Aiglon   \n",
       "8                                    Le Grey Hotel   \n",
       "9                            Hotel Petit Lafayette   \n",
       "10                  Austin's Arts Et Metiers Hotel   \n",
       "11                              Grand Hôtel Amelot   \n",
       "12                                Le Pigalle Hotel   \n",
       "13                            Grand Hotel Francais   \n",
       "14                             Hotel Elysees Opera   \n",
       "15                              HotelHome Paris 16   \n",
       "16                             Sweet Inn - Turenne   \n",
       "17   Holiday Inn Paris Gare de l'Est, an IHG Hotel   \n",
       "18                                   Hotel Lutetia   \n",
       "19                  B&B Hôtel Paris 17 Batignolles   \n",
       "20        MEININGER Hotel Paris Porte de Vincennes   \n",
       "21                              Hotel Lille Europe   \n",
       "22                        NOCNOC - La Villa Cachee   \n",
       "23                                 Moxy Lille City   \n",
       "24           ibis Styles Lille Centre Gare Beffroi   \n",
       "25                                Hôtel Calm Lille   \n",
       "26  Holiday Inn Express Lille Centre, an IHG Hotel   \n",
       "27              Grand Hotel Bellevue - Grand Place   \n",
       "28                        Hotel Art Deco Euralille   \n",
       "29                         Residhotel Lille Vauban   \n",
       "30                               Eklo Hotels Lille   \n",
       "31                 Séjours & Affaires Lille Europe   \n",
       "32                     Novotel Suites Lille Europe   \n",
       "33                        OKKO Hotels Lille Centre   \n",
       "34                                Lille City Hotel   \n",
       "35                               Grand Hôtel Lille   \n",
       "36          Appart'City Confort Lille Grand Palais   \n",
       "37                             Hôtel Saint Maurice   \n",
       "38                       Campanile Lille Euralille   \n",
       "39                           Les Terrasses Poulard   \n",
       "\n",
       "                                                  url  lat_hotels  lon_hotels  \\\n",
       "0   https://www.booking.com/hotel/fr/hoteldebanvil...   48.886394    2.294946   \n",
       "1   https://www.booking.com/hotel/fr/la-regence-et...   48.876525    2.292933   \n",
       "2   https://www.booking.com/hotel/fr/d-argentine.f...   48.874345    2.289776   \n",
       "3   https://www.booking.com/hotel/fr/westside-arc-...   48.881299    2.294803   \n",
       "4   https://www.booking.com/hotel/fr/besthotel_lil...   50.626040    3.051903   \n",
       "5   https://www.booking.com/hotel/fr/de-l-39-esper...   48.838158    2.349616   \n",
       "6   https://www.booking.com/hotel/fr/idealhotel.fr...   48.846590    2.288570   \n",
       "7   https://www.booking.com/hotel/fr/aiglon.fr.htm...   48.839712    2.330173   \n",
       "8   https://www.booking.com/hotel/fr/grey.fr.html?...   48.881330    2.327415   \n",
       "9   https://www.booking.com/hotel/fr/holiday-villa...   48.876067    2.345675   \n",
       "10  https://www.booking.com/hotel/fr/austin-s-arts...   48.866011    2.357098   \n",
       "11  https://www.booking.com/hotel/fr/grand-amelot-...   48.859257    2.368409   \n",
       "12  https://www.booking.com/hotel/fr/le-pigalle-pa...   48.881667    2.337328   \n",
       "13  https://www.booking.com/hotel/fr/hotelfrancais...   48.851585    2.390827   \n",
       "14  https://www.booking.com/hotel/fr/america.fr.ht...   48.881415    2.324553   \n",
       "15  https://www.booking.com/hotel/fr/residencejasm...   48.850575    2.267432   \n",
       "16  https://www.booking.com/hotel/fr/sweet-inn-le-...   48.864444    2.364885   \n",
       "17  https://www.booking.com/hotel/fr/mercure-termi...   48.875974    2.359005   \n",
       "18  https://www.booking.com/hotel/fr/lutetia-paris...   48.851244    2.327238   \n",
       "19  https://www.booking.com/hotel/fr/parisboulevar...   48.894314    2.312344   \n",
       "20  https://www.booking.com/hotel/fr/meininger-par...   48.844105    2.413063   \n",
       "21  https://www.booking.com/hotel/fr/lille-europe....   50.637888    3.072685   \n",
       "22  https://www.booking.com/hotel/fr/la-villa-cach...   50.629146    3.064199   \n",
       "23  https://www.booking.com/hotel/fr/moxy-lille-ci...   50.627831    3.063592   \n",
       "24  https://www.booking.com/hotel/fr/ibis-styles-l...   50.632382    3.067943   \n",
       "25  https://www.booking.com/hotel/fr/calm-lille.fr...   50.635288    3.069707   \n",
       "26  https://www.booking.com/hotel/fr/expressbyholi...   50.630759    3.058088   \n",
       "27  https://www.booking.com/hotel/fr/grandhotelbel...   50.636547    3.062342   \n",
       "28  https://www.booking.com/hotel/fr/hotelsrtdecor...   50.646022    3.075871   \n",
       "29  https://www.booking.com/hotel/fr/residhotel-li...   50.632207    3.046686   \n",
       "30  https://www.booking.com/hotel/fr/eklo-hotels-l...   50.620033    3.084567   \n",
       "31  https://www.booking.com/hotel/fr/residence-lil...   50.636470    3.074909   \n",
       "32  https://www.booking.com/hotel/fr/suitehotel-li...   50.638833    3.076681   \n",
       "33  https://www.booking.com/hotel/fr/okko-hotels-l...   50.634074    3.064229   \n",
       "34  https://www.booking.com/hotel/fr/misterbeddeli...   50.633599    3.063281   \n",
       "35  https://www.booking.com/hotel/fr/le-grand-hote...   50.636857    3.067943   \n",
       "36  https://www.booking.com/hotel/fr/appart-city-l...   50.629058    3.081134   \n",
       "37  https://www.booking.com/hotel/fr/hotelsaintmau...   50.635571    3.067833   \n",
       "38  https://www.booking.com/hotel/fr/campanile-lil...   50.645698    3.072110   \n",
       "39  https://www.booking.com/hotel/fr/les-terrasses...   48.635349   -1.510379   \n",
       "\n",
       "                                          description  score  \n",
       "0   Vous pouvez bénéficier d'une réduction Genius ...    8.4  \n",
       "1   Vous pouvez bénéficier d'une réduction Genius ...    8.5  \n",
       "2   Vous pouvez bénéficier d'une réduction Genius ...    8.5  \n",
       "3   Doté d’un bar-salon, le Westside Arc de Triomp...    8.0  \n",
       "4   Le Best Hôtel Lille est un hôtel-restaurant si...    7.7  \n",
       "5   Vous pouvez bénéficier d'une réduction Genius ...    8.6  \n",
       "6   L’Hotel Korner Eiffel se trouve à 20 minutes d...    8.6  \n",
       "7   Vous pouvez bénéficier d'une réduction Genius ...    8.7  \n",
       "8   Vous pouvez bénéficier d'une réduction Genius ...    8.9  \n",
       "9   Vous pouvez bénéficier d'une réduction Genius ...    8.8  \n",
       "10  Vous pouvez bénéficier d'une réduction Genius ...    8.4  \n",
       "11  Vous pouvez bénéficier d'une réduction Genius ...    8.1  \n",
       "12  Vous pouvez bénéficier d'une réduction Genius ...    8.7  \n",
       "13  Le Grand Hotel Français est un hôtel design si...    8.7  \n",
       "14  Vous pouvez bénéficier d'une réduction Genius ...    8.3  \n",
       "15  Vous pouvez bénéficier d'une réduction Genius ...    8.5  \n",
       "16  Vous pouvez bénéficier d'une réduction Genius ...    8.7  \n",
       "17  L'Holiday Inn Paris Gare de l'Est est situé en...    7.8  \n",
       "18  L’Hotel Lutetia - The Leading Hotels of the Wo...    8.9  \n",
       "19  Le B&B Hôtel Paris 17 Batignolles est situé da...    8.1  \n",
       "20  Doté d'un bar et d'un salon commun, le MEINING...    8.1  \n",
       "21  Vous pouvez bénéficier d'une réduction Genius ...    8.1  \n",
       "22  Vous pouvez bénéficier d'une réduction Genius ...    8.4  \n",
       "23  Le Moxy Lille City est situé à Lille, à 700 mè...    8.7  \n",
       "24  L’ibis Styles Lille Centre Gare Beffroi vous a...    7.8  \n",
       "25  Vous pouvez bénéficier d'une réduction Genius ...    7.8  \n",
       "26  L'Holiday Inn Express Lille Centre est situé d...    8.1  \n",
       "27  Vous pouvez bénéficier d'une réduction Genius ...    8.5  \n",
       "28  Vous pouvez bénéficier d'une réduction Genius ...    7.8  \n",
       "29  Le Residhotel Lille Vauban est idéalement inst...    8.0  \n",
       "30  Doté d'une terrasse, l'Eklo Hotels Lille est s...    7.7  \n",
       "31  La résidence Séjours & Affaires Lille Europe e...    7.4  \n",
       "32  Installé dans le centre-ville de Lille, l’hôte...    8.2  \n",
       "33  Installé à Lille, l’OKKO Hotels Lille Centre p...    8.8  \n",
       "34  Le Lille City Hotel est un établissement abord...    7.0  \n",
       "35  Situé dans le centre de Lille, juste à côté de...    8.1  \n",
       "36  Dans le centre-ville de Lille, l’établissement...    7.3  \n",
       "37  L’Hôtel Saint Maurice est situé dans une zone ...    7.7  \n",
       "38  Vous pouvez bénéficier d'une réduction Genius ...    8.2  \n",
       "39  Vous pouvez bénéficier d'une réduction Genius ...    7.3  "
      ]
     },
     "execution_count": 30,
     "metadata": {},
     "output_type": "execute_result"
    }
   ],
   "source": [
    "query = text(\"SELECT * FROM hotels LIMIT 40\")\n",
    "pd.read_sql(query, engine)"
   ]
  },
  {
   "cell_type": "markdown",
   "metadata": {},
   "source": [
    "## Plotting Maps"
   ]
  },
  {
   "cell_type": "code",
   "execution_count": 31,
   "metadata": {},
   "outputs": [],
   "source": [
    "# Creating a new column to be used to determine the size of the points in the plot\n",
    "df_weather_full['inverted_score'] = max(df_weather_full['score_weather']) - df_weather_full['score_weather']"
   ]
  },
  {
   "cell_type": "markdown",
   "metadata": {},
   "source": [
    "### Weather Map"
   ]
  },
  {
   "cell_type": "code",
   "execution_count": 32,
   "metadata": {},
   "outputs": [
    {
     "data": {
      "application/vnd.plotly.v1+json": {
       "config": {
        "plotlyServerURL": "https://plot.ly"
       },
       "data": [
        {
         "customdata": [
          [
           48.8588897,
           2.3200410217200766,
           1,
           0,
           55,
           11.47,
           76.77714285714283
          ],
          [
           50.6365654,
           3.0635282,
           1,
           17,
           47,
           12,
           68.4742857142857
          ],
          [
           48.6359541,
           -1.511459954959514,
           1,
           0,
           58,
           14.16,
           68.21999999999998
          ],
          [
           49.8941708,
           2.2956951,
           1,
           0,
           53,
           12.21,
           67.39714285714284
          ],
          [
           49.4404591,
           1.0939658,
           1,
           5,
           56,
           12.43,
           66.61714285714284
          ]
         ],
         "hovertemplate": "<b>%{hovertext}</b><br><br>Rain Chances=%{customdata[3]}<br>Humidity=%{customdata[4]}<br>Felt Temperature=%{marker.color}<extra></extra>",
         "hovertext": [
          "Paris",
          "Lille",
          "Mont Saint Michel",
          "Amiens",
          "Rouen"
         ],
         "lat": [
          48.8588897,
          50.6365654,
          48.6359541,
          49.8941708,
          49.4404591
         ],
         "legendgroup": "",
         "lon": [
          2.3200410217200766,
          3.0635282,
          -1.511459954959514,
          2.2956951,
          1.0939658
         ],
         "marker": {
          "color": [
           11.47,
           12,
           14.16,
           12.21,
           12.43
          ],
          "coloraxis": "coloraxis",
          "size": [
           76.77714285714283,
           68.4742857142857,
           68.21999999999998,
           67.39714285714284,
           66.61714285714284
          ],
          "sizemode": "area",
          "sizeref": 0.06267521865889211
         },
         "mode": "markers",
         "name": "",
         "showlegend": false,
         "subplot": "mapbox",
         "type": "scattermapbox"
        }
       ],
       "frames": [
        {
         "data": [
          {
           "customdata": [
            [
             48.8588897,
             2.3200410217200766,
             1,
             0,
             55,
             11.47,
             76.77714285714283
            ],
            [
             50.6365654,
             3.0635282,
             1,
             17,
             47,
             12,
             68.4742857142857
            ],
            [
             48.6359541,
             -1.511459954959514,
             1,
             0,
             58,
             14.16,
             68.21999999999998
            ],
            [
             49.8941708,
             2.2956951,
             1,
             0,
             53,
             12.21,
             67.39714285714284
            ],
            [
             49.4404591,
             1.0939658,
             1,
             5,
             56,
             12.43,
             66.61714285714284
            ]
           ],
           "hovertemplate": "<b>%{hovertext}</b><br><br>Rain Chances=%{customdata[3]}<br>Humidity=%{customdata[4]}<br>Felt Temperature=%{marker.color}<extra></extra>",
           "hovertext": [
            "Paris",
            "Lille",
            "Mont Saint Michel",
            "Amiens",
            "Rouen"
           ],
           "lat": [
            48.8588897,
            50.6365654,
            48.6359541,
            49.8941708,
            49.4404591
           ],
           "legendgroup": "",
           "lon": [
            2.3200410217200766,
            3.0635282,
            -1.511459954959514,
            2.2956951,
            1.0939658
           ],
           "marker": {
            "color": [
             11.47,
             12,
             14.16,
             12.21,
             12.43
            ],
            "coloraxis": "coloraxis",
            "size": [
             76.77714285714283,
             68.4742857142857,
             68.21999999999998,
             67.39714285714284,
             66.61714285714284
            ],
            "sizemode": "area",
            "sizeref": 0.06267521865889211
           },
           "mode": "markers",
           "name": "",
           "showlegend": false,
           "subplot": "mapbox",
           "type": "scattermapbox"
          }
         ],
         "name": "1"
        },
        {
         "data": [
          {
           "customdata": [
            [
             48.8588897,
             2.3200410217200766,
             2,
             0,
             45,
             14.54,
             76.77714285714283
            ],
            [
             50.6365654,
             3.0635282,
             2,
             0,
             50,
             12.17,
             68.4742857142857
            ],
            [
             48.6359541,
             -1.511459954959514,
             2,
             0,
             54,
             13.55,
             68.21999999999998
            ],
            [
             49.8941708,
             2.2956951,
             2,
             0,
             59,
             12.33,
             67.39714285714284
            ],
            [
             49.4404591,
             1.0939658,
             2,
             0,
             59,
             12.6,
             66.61714285714284
            ]
           ],
           "hovertemplate": "<b>%{hovertext}</b><br><br>Rain Chances=%{customdata[3]}<br>Humidity=%{customdata[4]}<br>Felt Temperature=%{marker.color}<extra></extra>",
           "hovertext": [
            "Paris",
            "Lille",
            "Mont Saint Michel",
            "Amiens",
            "Rouen"
           ],
           "lat": [
            48.8588897,
            50.6365654,
            48.6359541,
            49.8941708,
            49.4404591
           ],
           "legendgroup": "",
           "lon": [
            2.3200410217200766,
            3.0635282,
            -1.511459954959514,
            2.2956951,
            1.0939658
           ],
           "marker": {
            "color": [
             14.54,
             12.17,
             13.55,
             12.33,
             12.6
            ],
            "coloraxis": "coloraxis",
            "size": [
             76.77714285714283,
             68.4742857142857,
             68.21999999999998,
             67.39714285714284,
             66.61714285714284
            ],
            "sizemode": "area",
            "sizeref": 0.06267521865889211
           },
           "mode": "markers",
           "name": "",
           "showlegend": false,
           "subplot": "mapbox",
           "type": "scattermapbox"
          }
         ],
         "name": "2"
        },
        {
         "data": [
          {
           "customdata": [
            [
             48.8588897,
             2.3200410217200766,
             3,
             0,
             39,
             18.46,
             76.77714285714283
            ],
            [
             50.6365654,
             3.0635282,
             3,
             0,
             41,
             17.16,
             68.4742857142857
            ],
            [
             48.6359541,
             -1.511459954959514,
             3,
             0,
             56,
             16.89,
             68.21999999999998
            ],
            [
             49.8941708,
             2.2956951,
             3,
             0,
             49,
             16.93,
             67.39714285714284
            ],
            [
             49.4404591,
             1.0939658,
             3,
             0,
             53,
             16.87,
             66.61714285714284
            ]
           ],
           "hovertemplate": "<b>%{hovertext}</b><br><br>Rain Chances=%{customdata[3]}<br>Humidity=%{customdata[4]}<br>Felt Temperature=%{marker.color}<extra></extra>",
           "hovertext": [
            "Paris",
            "Lille",
            "Mont Saint Michel",
            "Amiens",
            "Rouen"
           ],
           "lat": [
            48.8588897,
            50.6365654,
            48.6359541,
            49.8941708,
            49.4404591
           ],
           "legendgroup": "",
           "lon": [
            2.3200410217200766,
            3.0635282,
            -1.511459954959514,
            2.2956951,
            1.0939658
           ],
           "marker": {
            "color": [
             18.46,
             17.16,
             16.89,
             16.93,
             16.87
            ],
            "coloraxis": "coloraxis",
            "size": [
             76.77714285714283,
             68.4742857142857,
             68.21999999999998,
             67.39714285714284,
             66.61714285714284
            ],
            "sizemode": "area",
            "sizeref": 0.06267521865889211
           },
           "mode": "markers",
           "name": "",
           "showlegend": false,
           "subplot": "mapbox",
           "type": "scattermapbox"
          }
         ],
         "name": "3"
        },
        {
         "data": [
          {
           "customdata": [
            [
             48.8588897,
             2.3200410217200766,
             4,
             0,
             35,
             19.04,
             76.77714285714283
            ],
            [
             50.6365654,
             3.0635282,
             4,
             0,
             47,
             15.88,
             68.4742857142857
            ],
            [
             48.6359541,
             -1.511459954959514,
             4,
             0,
             54,
             18.08,
             68.21999999999998
            ],
            [
             49.8941708,
             2.2956951,
             4,
             0,
             54,
             16.92,
             67.39714285714284
            ],
            [
             49.4404591,
             1.0939658,
             4,
             0,
             55,
             17.56,
             66.61714285714284
            ]
           ],
           "hovertemplate": "<b>%{hovertext}</b><br><br>Rain Chances=%{customdata[3]}<br>Humidity=%{customdata[4]}<br>Felt Temperature=%{marker.color}<extra></extra>",
           "hovertext": [
            "Paris",
            "Lille",
            "Mont Saint Michel",
            "Amiens",
            "Rouen"
           ],
           "lat": [
            48.8588897,
            50.6365654,
            48.6359541,
            49.8941708,
            49.4404591
           ],
           "legendgroup": "",
           "lon": [
            2.3200410217200766,
            3.0635282,
            -1.511459954959514,
            2.2956951,
            1.0939658
           ],
           "marker": {
            "color": [
             19.04,
             15.88,
             18.08,
             16.92,
             17.56
            ],
            "coloraxis": "coloraxis",
            "size": [
             76.77714285714283,
             68.4742857142857,
             68.21999999999998,
             67.39714285714284,
             66.61714285714284
            ],
            "sizemode": "area",
            "sizeref": 0.06267521865889211
           },
           "mode": "markers",
           "name": "",
           "showlegend": false,
           "subplot": "mapbox",
           "type": "scattermapbox"
          }
         ],
         "name": "4"
        },
        {
         "data": [
          {
           "customdata": [
            [
             48.8588897,
             2.3200410217200766,
             5,
             0,
             40,
             15.89,
             76.77714285714283
            ],
            [
             50.6365654,
             3.0635282,
             5,
             0,
             45,
             13.05,
             68.4742857142857
            ],
            [
             48.6359541,
             -1.511459954959514,
             5,
             0,
             51,
             13.96,
             68.21999999999998
            ],
            [
             49.8941708,
             2.2956951,
             5,
             0,
             49,
             13.03,
             67.39714285714284
            ],
            [
             49.4404591,
             1.0939658,
             5,
             0,
             51,
             13.58,
             66.61714285714284
            ]
           ],
           "hovertemplate": "<b>%{hovertext}</b><br><br>Rain Chances=%{customdata[3]}<br>Humidity=%{customdata[4]}<br>Felt Temperature=%{marker.color}<extra></extra>",
           "hovertext": [
            "Paris",
            "Lille",
            "Mont Saint Michel",
            "Amiens",
            "Rouen"
           ],
           "lat": [
            48.8588897,
            50.6365654,
            48.6359541,
            49.8941708,
            49.4404591
           ],
           "legendgroup": "",
           "lon": [
            2.3200410217200766,
            3.0635282,
            -1.511459954959514,
            2.2956951,
            1.0939658
           ],
           "marker": {
            "color": [
             15.89,
             13.05,
             13.96,
             13.03,
             13.58
            ],
            "coloraxis": "coloraxis",
            "size": [
             76.77714285714283,
             68.4742857142857,
             68.21999999999998,
             67.39714285714284,
             66.61714285714284
            ],
            "sizemode": "area",
            "sizeref": 0.06267521865889211
           },
           "mode": "markers",
           "name": "",
           "showlegend": false,
           "subplot": "mapbox",
           "type": "scattermapbox"
          }
         ],
         "name": "5"
        },
        {
         "data": [
          {
           "customdata": [
            [
             48.8588897,
             2.3200410217200766,
             6,
             0,
             35,
             16.27,
             76.77714285714283
            ],
            [
             50.6365654,
             3.0635282,
             6,
             0,
             40,
             13.45,
             68.4742857142857
            ],
            [
             48.6359541,
             -1.511459954959514,
             6,
             0,
             53,
             14.37,
             68.21999999999998
            ],
            [
             49.8941708,
             2.2956951,
             6,
             0,
             51,
             13.95,
             67.39714285714284
            ],
            [
             49.4404591,
             1.0939658,
             6,
             0,
             56,
             14.34,
             66.61714285714284
            ]
           ],
           "hovertemplate": "<b>%{hovertext}</b><br><br>Rain Chances=%{customdata[3]}<br>Humidity=%{customdata[4]}<br>Felt Temperature=%{marker.color}<extra></extra>",
           "hovertext": [
            "Paris",
            "Lille",
            "Mont Saint Michel",
            "Amiens",
            "Rouen"
           ],
           "lat": [
            48.8588897,
            50.6365654,
            48.6359541,
            49.8941708,
            49.4404591
           ],
           "legendgroup": "",
           "lon": [
            2.3200410217200766,
            3.0635282,
            -1.511459954959514,
            2.2956951,
            1.0939658
           ],
           "marker": {
            "color": [
             16.27,
             13.45,
             14.37,
             13.95,
             14.34
            ],
            "coloraxis": "coloraxis",
            "size": [
             76.77714285714283,
             68.4742857142857,
             68.21999999999998,
             67.39714285714284,
             66.61714285714284
            ],
            "sizemode": "area",
            "sizeref": 0.06267521865889211
           },
           "mode": "markers",
           "name": "",
           "showlegend": false,
           "subplot": "mapbox",
           "type": "scattermapbox"
          }
         ],
         "name": "6"
        },
        {
         "data": [
          {
           "customdata": [
            [
             48.8588897,
             2.3200410217200766,
             7,
             0,
             36,
             16.67,
             76.77714285714283
            ],
            [
             50.6365654,
             3.0635282,
             7,
             2,
             42,
             15.82,
             68.4742857142857
            ],
            [
             48.6359541,
             -1.511459954959514,
             7,
             0,
             59,
             16.38,
             68.21999999999998
            ],
            [
             49.8941708,
             2.2956951,
             7,
             0,
             52,
             14.64,
             67.39714285714284
            ],
            [
             49.4404591,
             1.0939658,
             7,
             0,
             51,
             15.9,
             66.61714285714284
            ]
           ],
           "hovertemplate": "<b>%{hovertext}</b><br><br>Rain Chances=%{customdata[3]}<br>Humidity=%{customdata[4]}<br>Felt Temperature=%{marker.color}<extra></extra>",
           "hovertext": [
            "Paris",
            "Lille",
            "Mont Saint Michel",
            "Amiens",
            "Rouen"
           ],
           "lat": [
            48.8588897,
            50.6365654,
            48.6359541,
            49.8941708,
            49.4404591
           ],
           "legendgroup": "",
           "lon": [
            2.3200410217200766,
            3.0635282,
            -1.511459954959514,
            2.2956951,
            1.0939658
           ],
           "marker": {
            "color": [
             16.67,
             15.82,
             16.38,
             14.64,
             15.9
            ],
            "coloraxis": "coloraxis",
            "size": [
             76.77714285714283,
             68.4742857142857,
             68.21999999999998,
             67.39714285714284,
             66.61714285714284
            ],
            "sizemode": "area",
            "sizeref": 0.06267521865889211
           },
           "mode": "markers",
           "name": "",
           "showlegend": false,
           "subplot": "mapbox",
           "type": "scattermapbox"
          }
         ],
         "name": "7"
        }
       ],
       "layout": {
        "coloraxis": {
         "cmax": 19.04,
         "cmin": 11.47,
         "colorbar": {
          "title": {
           "text": "Felt Temperature"
          }
         },
         "colorscale": [
          [
           0,
           "rgb(0,0,255)"
          ],
          [
           1,
           "rgb(255,0,0)"
          ]
         ]
        },
        "height": 800,
        "legend": {
         "itemsizing": "constant",
         "tracegroupgap": 0
        },
        "mapbox": {
         "accesstoken": "pk.eyJ1Ijoidm9ud2VuIiwiYSI6ImNsMWM0dmZnazA0N2gzZG8wa2N1OTM0ZDEifQ.lCZ3DFaUYPS5XIJCWi6yNA",
         "center": {
          "lat": 49.493207819999995,
          "lon": 1.4523540333521126
         },
         "domain": {
          "x": [
           0,
           1
          ],
          "y": [
           0,
           1
          ]
         },
         "zoom": 4.7
        },
        "margin": {
         "t": 60
        },
        "sliders": [
         {
          "active": 0,
          "currentvalue": {
           "prefix": "day_plus="
          },
          "len": 0.9,
          "pad": {
           "b": 10,
           "t": 60
          },
          "steps": [
           {
            "args": [
             [
              "1"
             ],
             {
              "frame": {
               "duration": 0,
               "redraw": true
              },
              "fromcurrent": true,
              "mode": "immediate",
              "transition": {
               "duration": 0,
               "easing": "linear"
              }
             }
            ],
            "label": "1",
            "method": "animate"
           },
           {
            "args": [
             [
              "2"
             ],
             {
              "frame": {
               "duration": 0,
               "redraw": true
              },
              "fromcurrent": true,
              "mode": "immediate",
              "transition": {
               "duration": 0,
               "easing": "linear"
              }
             }
            ],
            "label": "2",
            "method": "animate"
           },
           {
            "args": [
             [
              "3"
             ],
             {
              "frame": {
               "duration": 0,
               "redraw": true
              },
              "fromcurrent": true,
              "mode": "immediate",
              "transition": {
               "duration": 0,
               "easing": "linear"
              }
             }
            ],
            "label": "3",
            "method": "animate"
           },
           {
            "args": [
             [
              "4"
             ],
             {
              "frame": {
               "duration": 0,
               "redraw": true
              },
              "fromcurrent": true,
              "mode": "immediate",
              "transition": {
               "duration": 0,
               "easing": "linear"
              }
             }
            ],
            "label": "4",
            "method": "animate"
           },
           {
            "args": [
             [
              "5"
             ],
             {
              "frame": {
               "duration": 0,
               "redraw": true
              },
              "fromcurrent": true,
              "mode": "immediate",
              "transition": {
               "duration": 0,
               "easing": "linear"
              }
             }
            ],
            "label": "5",
            "method": "animate"
           },
           {
            "args": [
             [
              "6"
             ],
             {
              "frame": {
               "duration": 0,
               "redraw": true
              },
              "fromcurrent": true,
              "mode": "immediate",
              "transition": {
               "duration": 0,
               "easing": "linear"
              }
             }
            ],
            "label": "6",
            "method": "animate"
           },
           {
            "args": [
             [
              "7"
             ],
             {
              "frame": {
               "duration": 0,
               "redraw": true
              },
              "fromcurrent": true,
              "mode": "immediate",
              "transition": {
               "duration": 0,
               "easing": "linear"
              }
             }
            ],
            "label": "7",
            "method": "animate"
           }
          ],
          "x": 0.1,
          "xanchor": "left",
          "y": 0,
          "yanchor": "top"
         }
        ],
        "template": {
         "data": {
          "bar": [
           {
            "error_x": {
             "color": "#f2f5fa"
            },
            "error_y": {
             "color": "#f2f5fa"
            },
            "marker": {
             "line": {
              "color": "rgb(17,17,17)",
              "width": 0.5
             },
             "pattern": {
              "fillmode": "overlay",
              "size": 10,
              "solidity": 0.2
             }
            },
            "type": "bar"
           }
          ],
          "barpolar": [
           {
            "marker": {
             "line": {
              "color": "rgb(17,17,17)",
              "width": 0.5
             },
             "pattern": {
              "fillmode": "overlay",
              "size": 10,
              "solidity": 0.2
             }
            },
            "type": "barpolar"
           }
          ],
          "carpet": [
           {
            "aaxis": {
             "endlinecolor": "#A2B1C6",
             "gridcolor": "#506784",
             "linecolor": "#506784",
             "minorgridcolor": "#506784",
             "startlinecolor": "#A2B1C6"
            },
            "baxis": {
             "endlinecolor": "#A2B1C6",
             "gridcolor": "#506784",
             "linecolor": "#506784",
             "minorgridcolor": "#506784",
             "startlinecolor": "#A2B1C6"
            },
            "type": "carpet"
           }
          ],
          "choropleth": [
           {
            "colorbar": {
             "outlinewidth": 0,
             "ticks": ""
            },
            "type": "choropleth"
           }
          ],
          "contour": [
           {
            "colorbar": {
             "outlinewidth": 0,
             "ticks": ""
            },
            "colorscale": [
             [
              0,
              "#0d0887"
             ],
             [
              0.1111111111111111,
              "#46039f"
             ],
             [
              0.2222222222222222,
              "#7201a8"
             ],
             [
              0.3333333333333333,
              "#9c179e"
             ],
             [
              0.4444444444444444,
              "#bd3786"
             ],
             [
              0.5555555555555556,
              "#d8576b"
             ],
             [
              0.6666666666666666,
              "#ed7953"
             ],
             [
              0.7777777777777778,
              "#fb9f3a"
             ],
             [
              0.8888888888888888,
              "#fdca26"
             ],
             [
              1,
              "#f0f921"
             ]
            ],
            "type": "contour"
           }
          ],
          "contourcarpet": [
           {
            "colorbar": {
             "outlinewidth": 0,
             "ticks": ""
            },
            "type": "contourcarpet"
           }
          ],
          "heatmap": [
           {
            "colorbar": {
             "outlinewidth": 0,
             "ticks": ""
            },
            "colorscale": [
             [
              0,
              "#0d0887"
             ],
             [
              0.1111111111111111,
              "#46039f"
             ],
             [
              0.2222222222222222,
              "#7201a8"
             ],
             [
              0.3333333333333333,
              "#9c179e"
             ],
             [
              0.4444444444444444,
              "#bd3786"
             ],
             [
              0.5555555555555556,
              "#d8576b"
             ],
             [
              0.6666666666666666,
              "#ed7953"
             ],
             [
              0.7777777777777778,
              "#fb9f3a"
             ],
             [
              0.8888888888888888,
              "#fdca26"
             ],
             [
              1,
              "#f0f921"
             ]
            ],
            "type": "heatmap"
           }
          ],
          "heatmapgl": [
           {
            "colorbar": {
             "outlinewidth": 0,
             "ticks": ""
            },
            "colorscale": [
             [
              0,
              "#0d0887"
             ],
             [
              0.1111111111111111,
              "#46039f"
             ],
             [
              0.2222222222222222,
              "#7201a8"
             ],
             [
              0.3333333333333333,
              "#9c179e"
             ],
             [
              0.4444444444444444,
              "#bd3786"
             ],
             [
              0.5555555555555556,
              "#d8576b"
             ],
             [
              0.6666666666666666,
              "#ed7953"
             ],
             [
              0.7777777777777778,
              "#fb9f3a"
             ],
             [
              0.8888888888888888,
              "#fdca26"
             ],
             [
              1,
              "#f0f921"
             ]
            ],
            "type": "heatmapgl"
           }
          ],
          "histogram": [
           {
            "marker": {
             "pattern": {
              "fillmode": "overlay",
              "size": 10,
              "solidity": 0.2
             }
            },
            "type": "histogram"
           }
          ],
          "histogram2d": [
           {
            "colorbar": {
             "outlinewidth": 0,
             "ticks": ""
            },
            "colorscale": [
             [
              0,
              "#0d0887"
             ],
             [
              0.1111111111111111,
              "#46039f"
             ],
             [
              0.2222222222222222,
              "#7201a8"
             ],
             [
              0.3333333333333333,
              "#9c179e"
             ],
             [
              0.4444444444444444,
              "#bd3786"
             ],
             [
              0.5555555555555556,
              "#d8576b"
             ],
             [
              0.6666666666666666,
              "#ed7953"
             ],
             [
              0.7777777777777778,
              "#fb9f3a"
             ],
             [
              0.8888888888888888,
              "#fdca26"
             ],
             [
              1,
              "#f0f921"
             ]
            ],
            "type": "histogram2d"
           }
          ],
          "histogram2dcontour": [
           {
            "colorbar": {
             "outlinewidth": 0,
             "ticks": ""
            },
            "colorscale": [
             [
              0,
              "#0d0887"
             ],
             [
              0.1111111111111111,
              "#46039f"
             ],
             [
              0.2222222222222222,
              "#7201a8"
             ],
             [
              0.3333333333333333,
              "#9c179e"
             ],
             [
              0.4444444444444444,
              "#bd3786"
             ],
             [
              0.5555555555555556,
              "#d8576b"
             ],
             [
              0.6666666666666666,
              "#ed7953"
             ],
             [
              0.7777777777777778,
              "#fb9f3a"
             ],
             [
              0.8888888888888888,
              "#fdca26"
             ],
             [
              1,
              "#f0f921"
             ]
            ],
            "type": "histogram2dcontour"
           }
          ],
          "mesh3d": [
           {
            "colorbar": {
             "outlinewidth": 0,
             "ticks": ""
            },
            "type": "mesh3d"
           }
          ],
          "parcoords": [
           {
            "line": {
             "colorbar": {
              "outlinewidth": 0,
              "ticks": ""
             }
            },
            "type": "parcoords"
           }
          ],
          "pie": [
           {
            "automargin": true,
            "type": "pie"
           }
          ],
          "scatter": [
           {
            "marker": {
             "line": {
              "color": "#283442"
             }
            },
            "type": "scatter"
           }
          ],
          "scatter3d": [
           {
            "line": {
             "colorbar": {
              "outlinewidth": 0,
              "ticks": ""
             }
            },
            "marker": {
             "colorbar": {
              "outlinewidth": 0,
              "ticks": ""
             }
            },
            "type": "scatter3d"
           }
          ],
          "scattercarpet": [
           {
            "marker": {
             "colorbar": {
              "outlinewidth": 0,
              "ticks": ""
             }
            },
            "type": "scattercarpet"
           }
          ],
          "scattergeo": [
           {
            "marker": {
             "colorbar": {
              "outlinewidth": 0,
              "ticks": ""
             }
            },
            "type": "scattergeo"
           }
          ],
          "scattergl": [
           {
            "marker": {
             "line": {
              "color": "#283442"
             }
            },
            "type": "scattergl"
           }
          ],
          "scattermapbox": [
           {
            "marker": {
             "colorbar": {
              "outlinewidth": 0,
              "ticks": ""
             }
            },
            "type": "scattermapbox"
           }
          ],
          "scatterpolar": [
           {
            "marker": {
             "colorbar": {
              "outlinewidth": 0,
              "ticks": ""
             }
            },
            "type": "scatterpolar"
           }
          ],
          "scatterpolargl": [
           {
            "marker": {
             "colorbar": {
              "outlinewidth": 0,
              "ticks": ""
             }
            },
            "type": "scatterpolargl"
           }
          ],
          "scatterternary": [
           {
            "marker": {
             "colorbar": {
              "outlinewidth": 0,
              "ticks": ""
             }
            },
            "type": "scatterternary"
           }
          ],
          "surface": [
           {
            "colorbar": {
             "outlinewidth": 0,
             "ticks": ""
            },
            "colorscale": [
             [
              0,
              "#0d0887"
             ],
             [
              0.1111111111111111,
              "#46039f"
             ],
             [
              0.2222222222222222,
              "#7201a8"
             ],
             [
              0.3333333333333333,
              "#9c179e"
             ],
             [
              0.4444444444444444,
              "#bd3786"
             ],
             [
              0.5555555555555556,
              "#d8576b"
             ],
             [
              0.6666666666666666,
              "#ed7953"
             ],
             [
              0.7777777777777778,
              "#fb9f3a"
             ],
             [
              0.8888888888888888,
              "#fdca26"
             ],
             [
              1,
              "#f0f921"
             ]
            ],
            "type": "surface"
           }
          ],
          "table": [
           {
            "cells": {
             "fill": {
              "color": "#506784"
             },
             "line": {
              "color": "rgb(17,17,17)"
             }
            },
            "header": {
             "fill": {
              "color": "#2a3f5f"
             },
             "line": {
              "color": "rgb(17,17,17)"
             }
            },
            "type": "table"
           }
          ]
         },
         "layout": {
          "annotationdefaults": {
           "arrowcolor": "#f2f5fa",
           "arrowhead": 0,
           "arrowwidth": 1
          },
          "autotypenumbers": "strict",
          "coloraxis": {
           "colorbar": {
            "outlinewidth": 0,
            "ticks": ""
           }
          },
          "colorscale": {
           "diverging": [
            [
             0,
             "#8e0152"
            ],
            [
             0.1,
             "#c51b7d"
            ],
            [
             0.2,
             "#de77ae"
            ],
            [
             0.3,
             "#f1b6da"
            ],
            [
             0.4,
             "#fde0ef"
            ],
            [
             0.5,
             "#f7f7f7"
            ],
            [
             0.6,
             "#e6f5d0"
            ],
            [
             0.7,
             "#b8e186"
            ],
            [
             0.8,
             "#7fbc41"
            ],
            [
             0.9,
             "#4d9221"
            ],
            [
             1,
             "#276419"
            ]
           ],
           "sequential": [
            [
             0,
             "#0d0887"
            ],
            [
             0.1111111111111111,
             "#46039f"
            ],
            [
             0.2222222222222222,
             "#7201a8"
            ],
            [
             0.3333333333333333,
             "#9c179e"
            ],
            [
             0.4444444444444444,
             "#bd3786"
            ],
            [
             0.5555555555555556,
             "#d8576b"
            ],
            [
             0.6666666666666666,
             "#ed7953"
            ],
            [
             0.7777777777777778,
             "#fb9f3a"
            ],
            [
             0.8888888888888888,
             "#fdca26"
            ],
            [
             1,
             "#f0f921"
            ]
           ],
           "sequentialminus": [
            [
             0,
             "#0d0887"
            ],
            [
             0.1111111111111111,
             "#46039f"
            ],
            [
             0.2222222222222222,
             "#7201a8"
            ],
            [
             0.3333333333333333,
             "#9c179e"
            ],
            [
             0.4444444444444444,
             "#bd3786"
            ],
            [
             0.5555555555555556,
             "#d8576b"
            ],
            [
             0.6666666666666666,
             "#ed7953"
            ],
            [
             0.7777777777777778,
             "#fb9f3a"
            ],
            [
             0.8888888888888888,
             "#fdca26"
            ],
            [
             1,
             "#f0f921"
            ]
           ]
          },
          "colorway": [
           "#636efa",
           "#EF553B",
           "#00cc96",
           "#ab63fa",
           "#FFA15A",
           "#19d3f3",
           "#FF6692",
           "#B6E880",
           "#FF97FF",
           "#FECB52"
          ],
          "font": {
           "color": "#f2f5fa"
          },
          "geo": {
           "bgcolor": "rgb(17,17,17)",
           "lakecolor": "rgb(17,17,17)",
           "landcolor": "rgb(17,17,17)",
           "showlakes": true,
           "showland": true,
           "subunitcolor": "#506784"
          },
          "hoverlabel": {
           "align": "left"
          },
          "hovermode": "closest",
          "mapbox": {
           "style": "dark"
          },
          "paper_bgcolor": "rgb(17,17,17)",
          "plot_bgcolor": "rgb(17,17,17)",
          "polar": {
           "angularaxis": {
            "gridcolor": "#506784",
            "linecolor": "#506784",
            "ticks": ""
           },
           "bgcolor": "rgb(17,17,17)",
           "radialaxis": {
            "gridcolor": "#506784",
            "linecolor": "#506784",
            "ticks": ""
           }
          },
          "scene": {
           "xaxis": {
            "backgroundcolor": "rgb(17,17,17)",
            "gridcolor": "#506784",
            "gridwidth": 2,
            "linecolor": "#506784",
            "showbackground": true,
            "ticks": "",
            "zerolinecolor": "#C8D4E3"
           },
           "yaxis": {
            "backgroundcolor": "rgb(17,17,17)",
            "gridcolor": "#506784",
            "gridwidth": 2,
            "linecolor": "#506784",
            "showbackground": true,
            "ticks": "",
            "zerolinecolor": "#C8D4E3"
           },
           "zaxis": {
            "backgroundcolor": "rgb(17,17,17)",
            "gridcolor": "#506784",
            "gridwidth": 2,
            "linecolor": "#506784",
            "showbackground": true,
            "ticks": "",
            "zerolinecolor": "#C8D4E3"
           }
          },
          "shapedefaults": {
           "line": {
            "color": "#f2f5fa"
           }
          },
          "sliderdefaults": {
           "bgcolor": "#C8D4E3",
           "bordercolor": "rgb(17,17,17)",
           "borderwidth": 1,
           "tickwidth": 0
          },
          "ternary": {
           "aaxis": {
            "gridcolor": "#506784",
            "linecolor": "#506784",
            "ticks": ""
           },
           "baxis": {
            "gridcolor": "#506784",
            "linecolor": "#506784",
            "ticks": ""
           },
           "bgcolor": "rgb(17,17,17)",
           "caxis": {
            "gridcolor": "#506784",
            "linecolor": "#506784",
            "ticks": ""
           }
          },
          "title": {
           "x": 0.05
          },
          "updatemenudefaults": {
           "bgcolor": "#506784",
           "borderwidth": 0
          },
          "xaxis": {
           "automargin": true,
           "gridcolor": "#283442",
           "linecolor": "#506784",
           "ticks": "",
           "title": {
            "standoff": 15
           },
           "zerolinecolor": "#283442",
           "zerolinewidth": 2
          },
          "yaxis": {
           "automargin": true,
           "gridcolor": "#283442",
           "linecolor": "#506784",
           "ticks": "",
           "title": {
            "standoff": 15
           },
           "zerolinecolor": "#283442",
           "zerolinewidth": 2
          }
         }
        },
        "title": {
         "text": "The 5 cities with the best weather over the next 7 days",
         "x": 0.5
        },
        "updatemenus": [
         {
          "buttons": [
           {
            "args": [
             null,
             {
              "frame": {
               "duration": 500,
               "redraw": true
              },
              "fromcurrent": true,
              "mode": "immediate",
              "transition": {
               "duration": 500,
               "easing": "linear"
              }
             }
            ],
            "label": "&#9654;",
            "method": "animate"
           },
           {
            "args": [
             [
              null
             ],
             {
              "frame": {
               "duration": 0,
               "redraw": true
              },
              "fromcurrent": true,
              "mode": "immediate",
              "transition": {
               "duration": 0,
               "easing": "linear"
              }
             }
            ],
            "label": "&#9724;",
            "method": "animate"
           }
          ],
          "direction": "left",
          "pad": {
           "r": 10,
           "t": 70
          },
          "showactive": false,
          "type": "buttons",
          "x": 0.1,
          "xanchor": "right",
          "y": 0,
          "yanchor": "top"
         }
        ],
        "width": 1100
       }
      }
     },
     "metadata": {},
     "output_type": "display_data"
    }
   ],
   "source": [
    "# Creating a plotly scatter mapbox showing the 5 cities with the lowest weather score\n",
    "px.set_mapbox_access_token(open(\".mapbox_token\").read())\n",
    "\n",
    "fig = px.scatter_mapbox(\n",
    "    df_weather_full[:35],\n",
    "    lat='lat',\n",
    "    lon='lon',\n",
    "    color='felt_temperature',\n",
    "    size='inverted_score',\n",
    "    color_continuous_scale=px.colors.sequential.Bluered,\n",
    "    size_max=35,\n",
    "    zoom=4.7,\n",
    "    range_color = [min(df_weather_full[:35]['felt_temperature']), max(df_weather_full[:35]['felt_temperature'])],\n",
    "    hover_name='city',\n",
    "    hover_data={\n",
    "        'lat': False,\n",
    "        'lon': False,\n",
    "        'day_plus': False,\n",
    "        'rain_chances': True,\n",
    "        'humidity': True,\n",
    "        'felt_temperature': True,\n",
    "        'inverted_score': False,\n",
    "        },\n",
    "    animation_frame='day_plus',\n",
    "    labels={'felt_temperature': 'Felt Temperature', 'rain_chances': 'Rain Chances', 'humidity': 'Humidity'}\n",
    ")\n",
    "\n",
    "fig.update_layout(\n",
    "    width = 1100,\n",
    "    height = 800,\n",
    "    template='plotly_dark',\n",
    "    title_x=0.5,\n",
    "    title_text='The 5 cities with the best weather over the next 7 days')\n",
    "fig.show()"
   ]
  },
  {
   "cell_type": "markdown",
   "metadata": {},
   "source": [
    "### Hotels Map"
   ]
  },
  {
   "cell_type": "code",
   "execution_count": 33,
   "metadata": {},
   "outputs": [
    {
     "data": {
      "application/vnd.plotly.v1+json": {
       "config": {
        "plotlyServerURL": "https://plot.ly"
       },
       "data": [
        {
         "customdata": [
          [
           48.88639354,
           2.29494631,
           "Hôtel de Banville",
           "https://www.booking.com/hotel/fr/hoteldebanvilleparis.fr.html?label=gen173nr-1FCAEoggI46AdIDVgEaBWIAQGYAQ24ARjIAQ_YAQHoAQH4AQKIAgGoAgS4Ara88JIGwAIB0gIkNWE4YjMwODktYjRkMy00ZDE1LTk4OTAtYjRiYTQwYmEyZmNh2AIF4AIB&sid=c4fdd21590cb73b4380894d200fc2e72&aid=304142&ucfs=1&arphpl=1&group_adults=2&req_adults=2&no_rooms=1&group_children=0&req_children=0&hpos=1&hapos=1&sr_order=popularity&srpvid=f5ea62e0655600d9&srepoch=1650204226&from=searchresults#hotelTmpl",
           "Vous pouvez bénéficier d'une réduction Genius dans l'établissement Hôtel de Banville ! Connectez-vous pour économiser.L’Hôtel de Banville est situé à seulement 15 minutes à pied des Champs-Élysées et de l'Arc de Triomphe. Il vous propose des hébergements modernes, dotés d’une connexion Wi-Fi gratuite.Toutes les chambres disposent d'une salle de bains privative et certaines possèdent un balcon ou offrent une vue sur la tour Eiffel. Insonorisées, elles sont équipées de la climatisation et d'une télévision à écran plat.Un petit-déjeuner buffet composé de viennoiseries faites maison est servi tous les jours dans le hall. Vous pourrez également vous détendre près de la cheminée du bar.L'Hôtel de Banville est situé à 2 minutes à pied des restaurants de la place du Maréchal-Juin et à proximité du centre de conventions de la Porte Maillot et de l'Espace Champerret. Vous séjournerez à 100 mètres de la station de métro Porte de Champerret. Des transferts aéroport privés peuvent être organisés auprès de la réception ouverte 24h/24. ",
           58.260000000000005,
           5
          ],
          [
           48.87652507,
           2.29293287,
           "Régence Etoile",
           "https://www.booking.com/hotel/fr/la-regence-etoile.fr.html?label=gen173nr-1FCAEoggI46AdIDVgEaBWIAQGYAQ24ARjIAQ_YAQHoAQH4AQKIAgGoAgS4Ara88JIGwAIB0gIkNWE4YjMwODktYjRkMy00ZDE1LTk4OTAtYjRiYTQwYmEyZmNh2AIF4AIB&sid=c4fdd21590cb73b4380894d200fc2e72&aid=304142&ucfs=1&arphpl=1&group_adults=2&req_adults=2&no_rooms=1&group_children=0&req_children=0&hpos=2&hapos=2&sr_order=popularity&srpvid=f5ea62e0655600d9&srepoch=1650204226&from_sustainable_property_sr=1&from=searchresults#hotelTmpl",
           "Vous pouvez bénéficier d'une réduction Genius dans l'établissement Régence Etoile ! Connectez-vous pour économiser.L'hôtel Régence Etoile propose des hébergements élégants et climatisés dotés d’une connexion Wi-Fi gratuite à 3 minutes de marche des Champs-Élysées et de l'Arc de Triomphe.Toutes les chambres du Regence Etoile disposent d'une télévision par satellite à écran plat, d'un minibar et d'une salle de bains ou d'une salle d'eau privatives. Certaines possèdent un balcon ou une terrasse, et celles donnant sur l'avenue Carnot offrent une vue sur l'Arc de Triomphe.Un petit-déjeuner buffet est servi tous les matins dans la salle prévue à cet effet. Vous pourrez également prendre un verre au bar-salon de l'hôtel.La réception de l’établissement est ouverte 24h/24, et un service de concierge est assuré.Un service de navette à destination de l'aéroport de Paris-Charles-de-Gaulle est disponible à 2 minutes de marche. L’hôtel Régence Etoile se trouve à 280 mètres de la gare Charles de Gaulle-Étoile et de sa station de métro, d’où vous pourrez rejoindre directement le quartier d'affaires de La Défense, l'opéra Garnier et Disneyland Paris. ",
           58.260000000000005,
           5
          ],
          [
           48.87434515,
           2.28977568,
           "Room Mate Alain - Champs-Elysées",
           "https://www.booking.com/hotel/fr/d-argentine.fr.html?label=gen173nr-1FCAEoggI46AdIDVgEaBWIAQGYAQ24ARjIAQ_YAQHoAQH4AQKIAgGoAgS4Ara88JIGwAIB0gIkNWE4YjMwODktYjRkMy00ZDE1LTk4OTAtYjRiYTQwYmEyZmNh2AIF4AIB&sid=c4fdd21590cb73b4380894d200fc2e72&aid=304142&ucfs=1&arphpl=1&group_adults=2&req_adults=2&no_rooms=1&group_children=0&req_children=0&hpos=3&hapos=3&sr_order=popularity&srpvid=f5ea62e0655600d9&srepoch=1650204226&from_sustainable_property_sr=1&from=searchresults#hotelTmpl",
           "Vous pouvez bénéficier d'une réduction Genius dans l'établissement Room Mate Alain - Champs-Elysées ! Connectez-vous pour économiser.Situé à 7 minutes de marche de l’avenue des Champs-Élysées, le boutique hôtel Room Mate Alain - Champs-Elysées occupe une maison de ville parisienne. Il met à votre disposition un spa, une salle de sport, un bar et un restaurant. Une connexion Wi-Fi est accessible gratuitement dans tout l’établissement.Décorées dans des tons neutres, les chambres lumineuses du Room Mate Alain - Champs-Elysées sont dotées d'une télévision à écran LCD ainsi que d'un minibar. Chacune possède une salle de bains privative en marbre et certaines bénéficient d’un balcon privé donnant sur l’avenue Foch.Le petit-déjeuner est servi chaque matin dans le bar-salon, orné de lustres en verre de Murano.L’établissement se trouve à 100 mètres de la station de métro Argentine qui permet un accès direct à la place de la Concorde, au musée du Louvre et au quartier du Marais. Les voyageurs d’affaires seront ravis d’apprendre que le Palais des Congrès de la Porte Maillot n’est qu’à 10 minutes à pied. ",
           58.260000000000005,
           5
          ],
          [
           48.88129894,
           2.29480304,
           "Westside Arc de Triomphe Hotel",
           "https://www.booking.com/hotel/fr/westside-arc-de-triomphe.fr.html?label=gen173nr-1FCAEoggI46AdIDVgEaBWIAQGYAQ24ARjIAQ_YAQHoAQH4AQKIAgGoAgS4Ara88JIGwAIB0gIkNWE4YjMwODktYjRkMy00ZDE1LTk4OTAtYjRiYTQwYmEyZmNh2AIF4AIB&sid=c4fdd21590cb73b4380894d200fc2e72&aid=304142&ucfs=1&arphpl=1&group_adults=2&req_adults=2&no_rooms=1&group_children=0&req_children=0&hpos=4&hapos=4&sr_order=popularity&srpvid=f5ea62e0655600d9&srepoch=1650204226&from=searchresults#hotelTmpl",
           "Doté d’un bar-salon, le Westside Arc de Triomphe Hotel propose des hébergements dans une petite rue de l’élégant 17ème arrondissement de Paris, à 12 minutes de marche de l’Arc de Triomphe et de la célèbre avenue des Champs-Élysées. Une connexion Wi-Fi est disponible gratuitement.Toutes les chambres sont climatisées et disposent d’une télévision par satellite à écran LED disponible gratuitement. Certaines offrent une vue sur le 17ème arrondissement ou les toits de Paris. Un plateau de courtoisie est fourni.Le petit-déjeuner peut être servi en chambre ou sous forme de buffet. Vous pourrez également prendre un verre au bar ou passer commande via le service d'étage tout au long de la journée.Un service de concierge et un bureau d’excursions sont à votre disposition pour organiser vos visites et excursions. La station de métro Pereire, située à 500 mètres, vous permettra de rejoindre directement le musée du Louvre. Le Westside Arc de Triomphe Hotel est à 1 km du palais des congrès de Paris. Vous trouverez un parking public à proximité. ",
           58.260000000000005,
           5
          ],
          [
           48.8381576,
           2.3496155,
           "Hotel de L'Esperance",
           "https://www.booking.com/hotel/fr/de-l-39-esperance.fr.html?label=gen173nr-1FCAEoggI46AdIDVgEaBWIAQGYAQ24ARjIAQ_YAQHoAQH4AQKIAgGoAgS4Ara88JIGwAIB0gIkNWE4YjMwODktYjRkMy00ZDE1LTk4OTAtYjRiYTQwYmEyZmNh2AIF4AIB&sid=c4fdd21590cb73b4380894d200fc2e72&aid=304142&ucfs=1&arphpl=1&group_adults=2&req_adults=2&no_rooms=1&group_children=0&req_children=0&hpos=5&hapos=5&sr_order=popularity&srpvid=f5ea62e0655600d9&srepoch=1650204226&from=searchresults#hotelTmpl",
           "Vous pouvez bénéficier d'une réduction Genius dans l'établissement Hotel de L'Esperance ! Connectez-vous pour économiser.Situé à 2 minutes à pied de la très animée rue Mouffetard à Paris, l'Hôtel de l'Espérance dispose d'une cour intérieure. Vous rejoindrez la place Monge et le Quartier latin en 10 minutes de marche et vous profiterez d'une connexion Wi-Fi gratuite dans tout l'établissement.Chaque chambre climatisée est équipée d'une télévision à écran plat et d'une salle de bains privative avec baignoire ou douche.L’Hôtel de L'Espérance possède une réception ouverte 24h/24 et une bagagerie et assure un service de concierge. Vous profiterez aussi de distributeurs automatiques de collations et de boissons.En outre, il assure un service de location de voitures. La station de métro Censier-Daubenton se trouve à 350 mètres de l'hôtel. Elle permet de rejoindre le centre de Paris en 20 minutes par les transports en commun. Le quartier animé de la Butte-aux-Cailles est situé à 1,5 km. ",
           58.260000000000005,
           5
          ],
          [
           48.84659045,
           2.28857003,
           "Hotel Korner Eiffel",
           "https://www.booking.com/hotel/fr/idealhotel.fr.html?label=gen173nr-1FCAEoggI46AdIDVgEaBWIAQGYAQ24ARjIAQ_YAQHoAQH4AQKIAgGoAgS4Ara88JIGwAIB0gIkNWE4YjMwODktYjRkMy00ZDE1LTk4OTAtYjRiYTQwYmEyZmNh2AIF4AIB&sid=c4fdd21590cb73b4380894d200fc2e72&aid=304142&ucfs=1&arphpl=1&group_adults=2&req_adults=2&no_rooms=1&group_children=0&req_children=0&hpos=6&hapos=6&sr_order=popularity&srpvid=f5ea62e0655600d9&srepoch=1650204226&from_sustainable_property_sr=1&from=searchresults#hotelTmpl",
           "L’Hotel Korner Eiffel se trouve à 20 minutes de marche de la tour Eiffel. Une connexion Wi-Fi est disponible gratuitement dans tout l'établissement. Des boissons chaudes gratuites vous seront servies à l'arrivée.Sobrement décorées, les chambres sont dotées d’une télévision par satellite à écran plat avec les chaînes Canal+, d’un coffre-fort et d’un sèche-cheveux. Elles sont toutes accessibles par un ascenseur.Un petit-déjeuner buffet est servi tous les jours à partir de 4h00. Il se compose de confitures maison, de différentes sortes de thés ainsi que d'une machine à café Nespresso.La réception de l'Hotel Korner Eiffel est ouverte 24h/24. Vous pourrez faire vos achats au centre commercial Beaugrenelle et dans la rue du Commerce, à 500 mètres.La station de métro Charles Michels, située à 2 minutes à pied, vous permettra de rejoindre directement le quartier Latin. Le parc des expositions de Paris-Porte de Versailles vous attend à 2 km. La station de métro Dupleix se trouve à 8 minutes de marche. Elle permet d'accéder directement à l'avenue des Champs-Élysées via la ligne 6. ",
           58.260000000000005,
           5
          ],
          [
           48.83971177,
           2.33017266,
           "Hôtel Aiglon",
           "https://www.booking.com/hotel/fr/aiglon.fr.html?label=gen173nr-1FCAEoggI46AdIDVgEaBWIAQGYAQ24ARjIAQ_YAQHoAQH4AQKIAgGoAgS4Ara88JIGwAIB0gIkNWE4YjMwODktYjRkMy00ZDE1LTk4OTAtYjRiYTQwYmEyZmNh2AIF4AIB&sid=c4fdd21590cb73b4380894d200fc2e72&aid=304142&ucfs=1&arphpl=1&group_adults=2&req_adults=2&no_rooms=1&group_children=0&req_children=0&hpos=7&hapos=7&sr_order=popularity&srpvid=f5ea62e0655600d9&srepoch=1650204226&from=searchresults#hotelTmpl",
           "Vous pouvez bénéficier d'une réduction Genius dans l'établissement Hôtel Aiglon ! Connectez-vous pour économiser.Situé au cœur du quartier de Montparnasse, cet hôtel design est à seulement 30 mètres de la station de métro Raspail. Les chambres sont modernes et élégantes avec connexion Wi-Fi gratuite.Chaque chambre de l'Aiglon est insonorisée, climatisée et équipée d'un minibar et d'une télévision satellite. Elles sont toutes accessibles par ascenseur.L'hôtel Aiglon sert un petit déjeuner continental chaque matin, que vous pourrez déguster dans la salle à manger ou dans le confort de votre chambre. Vous pourrez vous détendre avec un verre au bar ou dans le salon avec bibliothèque.Les autres équipements de l'Aiglon comprennent une réception ouverte 24h/24 avec enregistrement express, un service location de voitures et un bureau d'excursions. ",
           58.260000000000005,
           5
          ],
          [
           48.88133015,
           2.32741512,
           "Le Grey Hotel",
           "https://www.booking.com/hotel/fr/grey.fr.html?label=gen173nr-1FCAEoggI46AdIDVgEaBWIAQGYAQ24ARjIAQ_YAQHoAQH4AQKIAgGoAgS4Ara88JIGwAIB0gIkNWE4YjMwODktYjRkMy00ZDE1LTk4OTAtYjRiYTQwYmEyZmNh2AIF4AIB&sid=c4fdd21590cb73b4380894d200fc2e72&aid=304142&ucfs=1&arphpl=1&group_adults=2&req_adults=2&no_rooms=1&group_children=0&req_children=0&hpos=8&hapos=8&sr_order=popularity&srpvid=f5ea62e0655600d9&srepoch=1650204226&from=searchresults#hotelTmpl",
           "Vous pouvez bénéficier d'une réduction Genius dans l'établissement Le Grey Hotel ! Connectez-vous pour économiser.Situé à mi-chemin entre l'opéra Garnier et le quartier Montmartre, le Grey Hôtel est un boutique hôtel proposant des chambres élégantes avec une connexion Wi-Fi gratuite et une télévision à écran LCD. Il comporte une bagagerie et une réception ouverte 24h/24.Desservies par un ascenseur, les chambres à la décoration contemporaine sont climatisées. Elles possèdent une salle de bains pourvue d’une douche à effet pluie ou d’une baignoire et d’articles de toilette gratuits. Les chambres non-fumeurs et insonorisées comprennent un coffre-fort et un minibar.Vous pourrez savourer un petit-déjeuner buffet continental le matin. L’hôtel compte un salon et un bar. Du thé, du café et des collations sont servis gratuitement tout au long de la journée. Un service d'étage est assuré et vous trouverez de nombreuses brasseries et restaurants dans les environs.Le Grey Hotel se trouve à 20 minutes à pied des grands magasins. Implantée à 100 mètres, la station de métro Liège vous permettra de rejoindre les Champs-Élysées et l’opéra Garnier en 15 minutes. La gare Saint-Lazare est, quant à elle, à 500 mètres de l’hôtel. ",
           58.260000000000005,
           5
          ],
          [
           48.86601094,
           2.35709757,
           "Austin's Arts Et Metiers Hotel",
           "https://www.booking.com/hotel/fr/austin-s-arts-et-metiers.fr.html?label=gen173nr-1FCAEoggI46AdIDVgEaBWIAQGYAQ24ARjIAQ_YAQHoAQH4AQKIAgGoAgS4Ara88JIGwAIB0gIkNWE4YjMwODktYjRkMy00ZDE1LTk4OTAtYjRiYTQwYmEyZmNh2AIF4AIB&sid=c4fdd21590cb73b4380894d200fc2e72&aid=304142&ucfs=1&arphpl=1&group_adults=2&req_adults=2&no_rooms=1&group_children=0&req_children=0&hpos=9&hapos=9&sr_order=popularity&srpvid=f5ea62e0655600d9&srepoch=1650204226&from_sustainable_property_sr=1&from=searchresults#hotelTmpl",
           "Vous pouvez bénéficier d'une réduction Genius dans l'établissement Austin's Arts Et Metiers Hotel ! Connectez-vous pour économiser.L’Austin’s Hotel est situé dans le quartier du Marais, dans le centre de Paris, à 500 mètres de la place de la République et à 600 mètres du centre Pompidou. L’hôtel dispose d’une réception ouverte 24h/24 qui propose des ordinateurs avec connexion Internet gratuite.Toutes les chambres insonorisées de l’Austin’s Arts Et Metiers Hotel disposent de la climatisation, d’une télévision par satellite à écran plat et d’une connexion Wi-Fi gratuite.L’hôtel sert un petit-déjeuner continental que vous pourrez déguster dans la salle de petit-déjeuner ou dans le confort de votre chambre. Un plateau de courtoisie avec du thé, du café et du lait est mis à disposition dans chaque chambre.L'Austin's Arts Et Metiers Hotel se trouve à 30 mètres de la station de métro Arts & Métiers. De là, vous pourrez rejoindre les stations de métro Hôtel de Ville et Opéra en 10 minutes. ",
           58.260000000000005,
           5
          ],
          [
           48.8592568,
           2.3684085,
           "Grand Hôtel Amelot",
           "https://www.booking.com/hotel/fr/grand-amelot-paris4.fr.html?label=gen173nr-1FCAEoggI46AdIDVgEaBWIAQGYAQ24ARjIAQ_YAQHoAQH4AQKIAgGoAgS4Ara88JIGwAIB0gIkNWE4YjMwODktYjRkMy00ZDE1LTk4OTAtYjRiYTQwYmEyZmNh2AIF4AIB&sid=c4fdd21590cb73b4380894d200fc2e72&aid=304142&ucfs=1&arphpl=1&group_adults=2&req_adults=2&no_rooms=1&group_children=0&req_children=0&hpos=10&hapos=10&sr_order=popularity&srpvid=f5ea62e0655600d9&srepoch=1650204226&from_sustainable_property_sr=1&from=searchresults#hotelTmpl",
           "Vous pouvez bénéficier d'une réduction Genius dans l'établissement Grand Hôtel Amelot ! Connectez-vous pour économiser.Situé dans le 11ème arrondissement de Paris, à 5 minutes à pied du quartier du Marais et de la Place des Vosges, le Grand Hôtel Amelot propose une réception ouverte 24h/24, une bagagerie et un service de concierge.Toutes ses chambres climatisées disposent d'une télévision à écran plat, d'un coffre-fort et d'une armoire. Leur salle de bains privative est pourvue d'une baignoire ou d'une douche.Un petit-déjeuner vous servi chaque matin au Grand Hôtel Amelot. De nombreux restaurants vous accueilleront à quelques minutes à pied.Vous profiterez d'une connexion Wi-Fi gratuite dans l'ensemble de l'établissement. Il vous sera possible de vous garer dans un parking privé à proximité. Enfin, vous rejoindrez directement la tour Eiffel et l'opéra Garnier depuis la station de métro Chemin Vert, située à 240 mètres de l'hôtel. ",
           58.260000000000005,
           5
          ],
          [
           48.88166743,
           2.33732789,
           "Le Pigalle Hotel",
           "https://www.booking.com/hotel/fr/le-pigalle-paris2.fr.html?label=gen173nr-1FCAEoggI46AdIDVgEaBWIAQGYAQ24ARjIAQ_YAQHoAQH4AQKIAgGoAgS4Ara88JIGwAIB0gIkNWE4YjMwODktYjRkMy00ZDE1LTk4OTAtYjRiYTQwYmEyZmNh2AIF4AIB&sid=c4fdd21590cb73b4380894d200fc2e72&aid=304142&ucfs=1&arphpl=1&group_adults=2&req_adults=2&no_rooms=1&group_children=0&req_children=0&hpos=11&hapos=11&sr_order=popularity&srpvid=f5ea62e0655600d9&srepoch=1650204226&from=searchresults#hotelTmpl",
           "Vous pouvez bénéficier d'une réduction Genius dans l'établissement Le Pigalle Hotel ! Connectez-vous pour économiser.L'établissement Le Pigalle Hôtel est situé dans le 9ème arrondissement de Paris, à seulement 5 minutes à pied du Moulin Rouge. Vous pourrez vous détendre au bar sur place et déguster des collations au restaurant. Depuis la station de métro Pigalle, à tout juste 1 minute à pied, vous pourrez rejoindre directement l'Arc de Triomphe.Toutes les chambres présentent une décoration individuelle sur un thème précis, comme par exemple le côté historique, contemporain ou multiculturel du quartier de Pigalle. Elles comprennent des objets uniques, souvenirs, livres et meubles chinés.La réception est ouverte 24h/24.Le Sacré-Cœur se trouve à 800 mètres du Pigalle Hotel, tandis que l'opéra Garnier vous attend à 1,2 km. Enfin, l'aéroport de Paris-Orly est implanté à 17 km. ",
           58.260000000000005,
           5
          ],
          [
           48.85158544,
           2.39082724,
           "Grand Hotel Francais",
           "https://www.booking.com/hotel/fr/hotelfrancais.fr.html?label=gen173nr-1FCAEoggI46AdIDVgEaBWIAQGYAQ24ARjIAQ_YAQHoAQH4AQKIAgGoAgS4Ara88JIGwAIB0gIkNWE4YjMwODktYjRkMy00ZDE1LTk4OTAtYjRiYTQwYmEyZmNh2AIF4AIB&sid=c4fdd21590cb73b4380894d200fc2e72&aid=304142&ucfs=1&arphpl=1&group_adults=2&req_adults=2&no_rooms=1&group_children=0&req_children=0&hpos=12&hapos=12&sr_order=popularity&srpvid=f5ea62e0655600d9&srepoch=1650204226&from_sustainable_property_sr=1&from=searchresults#hotelTmpl",
           "Le Grand Hotel Français est un hôtel design situé dans le centre de Paris, à moins de 15 minutes à pied du cimetière du Père Lachaise et à 500 mètres de la place de la Nation. Ses chambres climatisées sont dotées d'une connexion Wi-Fi gratuite.Les chambres insonorisées du Grand Hôtel Français sont toutes décorées de manière unique. Elles sont pourvues d'une télévision par satellite à écran plat, ainsi que d'une salle de bains privative avec douche d'hydromassage ou à l'italienne.L'hôtel possède une réception ouverte 24h/24, un ascenseur et un bar.Le Grand Hôtel Français se trouve à 150 mètres de la station de métro Rue des Boulets et à 500 mètres de la station de métro et de RER Nation. ",
           58.260000000000005,
           5
          ],
          [
           48.88141526,
           2.32455321,
           "Hotel Elysees Opera",
           "https://www.booking.com/hotel/fr/america.fr.html?label=gen173nr-1FCAEoggI46AdIDVgEaBWIAQGYAQ24ARjIAQ_YAQHoAQH4AQKIAgGoAgS4Ara88JIGwAIB0gIkNWE4YjMwODktYjRkMy00ZDE1LTk4OTAtYjRiYTQwYmEyZmNh2AIF4AIB&sid=c4fdd21590cb73b4380894d200fc2e72&aid=304142&ucfs=1&arphpl=1&group_adults=2&req_adults=2&no_rooms=1&group_children=0&req_children=0&hpos=13&hapos=13&sr_order=popularity&srpvid=f5ea62e0655600d9&srepoch=1650204226&from=searchresults#hotelTmpl",
           "Vous pouvez bénéficier d'une réduction Genius dans l'établissement Hotel Elysees Opera ! Connectez-vous pour économiser.Situé dans le très chic 8ème arrondissement de Paris, cet hôtel propose des chambres modernes dotées d’un balcon. Il dispose d’une réception ouverte 24h/24, d’un bureau d'excursions et d’un service de billetterie.Décorées avec simplicité, toutes les chambres insonorisées comprennent une télévision par câble à écran plat et une connexion Wi-Fi gratuite. Leur salle de bains privative est pourvue d’un sèche-cheveux.L’Elysees Opera Hotel vous servira chaque matin un petit-déjeuner buffet dans une salle dédiée. Vous pourrez prendre un verre au bar tout en lisant les journaux mis à votre disposition. Un service d’étage est en outre assuré.La station de métro Rome, à 350 mètres de l’Elysees Opera, permet de rejoindre le Moulin Rouge. Le parc Monceau se trouve à seulement 15 minutes à pied. Un service de navette aéroport pourra être organisé sur demande. ",
           58.260000000000005,
           5
          ],
          [
           48.87606691,
           2.34567493,
           "Hotel Petit Lafayette",
           "https://www.booking.com/hotel/fr/holiday-villa-lafayette-paris.fr.html?label=gen173nr-1FCAEoggI46AdIDVgEaBWIAQGYAQ24ARjIAQ_YAQHoAQH4AQKIAgGoAgS4Ara88JIGwAIB0gIkNWE4YjMwODktYjRkMy00ZDE1LTk4OTAtYjRiYTQwYmEyZmNh2AIF4AIB&sid=c4fdd21590cb73b4380894d200fc2e72&aid=304142&ucfs=1&arphpl=1&group_adults=2&req_adults=2&no_rooms=1&group_children=0&req_children=0&hpos=14&hapos=14&sr_order=popularity&srpvid=f5ea62e0655600d9&srepoch=1650204226&from_sustainable_property_sr=1&from=searchresults#hotelTmpl",
           "Vous pouvez bénéficier d'une réduction Genius dans l'établissement Hotel Petit Lafayette ! Connectez-vous pour économiser.L'Hotel Petit Lafayette est situé au cœur de Paris, entre le boulevard Montmartre et la rue Lafayette, près de la station de métro Cadet. Il vous propose des hébergements modernes.Les chambres disposent d'une salle de bains privative, d'un bureau, d'une télévision par satellite et d'une connexion Wi-Fi gratuite.Un petit-déjeuner complet est servi tous les matins.L'hôtel se trouve à quelques pas du célèbre Opéra Garnier et de grands magasins tels que le Printemps et les Galeries Lafayette. Enfin, l'Hotel Petit Lafayette est installé à 1 km de la Gare du Nord et de la Gare de l'Est. ",
           58.260000000000005,
           5
          ],
          [
           48.85057501,
           2.26743221,
           "HotelHome Paris 16",
           "https://www.booking.com/hotel/fr/residencejasmin.fr.html?label=gen173nr-1FCAEoggI46AdIDVgEaBWIAQGYAQ24ARjIAQ_YAQHoAQH4AQKIAgGoAgS4Ara88JIGwAIB0gIkNWE4YjMwODktYjRkMy00ZDE1LTk4OTAtYjRiYTQwYmEyZmNh2AIF4AIB&sid=c4fdd21590cb73b4380894d200fc2e72&aid=304142&ucfs=1&arphpl=1&group_adults=2&req_adults=2&no_rooms=1&group_children=0&req_children=0&hpos=15&hapos=15&sr_order=popularity&srpvid=f5ea62e0655600d9&srepoch=1650204226&from_sustainable_property_sr=1&from=searchresults#hotelTmpl",
           "Vous pouvez bénéficier d'une réduction Genius dans l'établissement HotelHome Paris 16 ! Connectez-vous pour économiser.L'HotelHome Paris 16 est situé dans le XVIème arrondissement de Paris, à 1,5 km du Bois de Boulogne. Il propose des appartements climatisés dotés d'une connexion Wi-Fi gratuite.Les appartements de l'HotelHome Paris 16 disposent d'un coin salon avec une télévision par satellite et d'une cuisine ou d'une kitchenette avec four micro-ondes, réfrigérateur et bouilloire. Ils disposent également d'un coin repas et d'une salle de bains moderne avec baignoire ou douche.Vous pourrez profiter du jardin et de la terrasse de cette résidence pendant votre séjour. Une blanchisserie est également disponible au sous-sol de l'immeuble.Le personnel de la réception de l'hôtel vous propose d'organiser des services de garde d'enfants et de faire des réservations pour le dîner et vos sorties touristiques.L'HotelHome Paris 16 se trouve à 300 mètres de la station de métro Jasmin, qui offre un accès direct à la Tour Eiffel et aux Champs-Élysées. La Seine est à 800 mètres et le parc André Citroën est à 20 minutes de marche de l'hôtel. ",
           58.260000000000005,
           5
          ],
          [
           48.8644438,
           2.3648845,
           "Sweet Inn - Turenne",
           "https://www.booking.com/hotel/fr/sweet-inn-le-marais-turenne.fr.html?label=gen173nr-1FCAEoggI46AdIDVgEaBWIAQGYAQ24ARjIAQ_YAQHoAQH4AQKIAgGoAgS4Ara88JIGwAIB0gIkNWE4YjMwODktYjRkMy00ZDE1LTk4OTAtYjRiYTQwYmEyZmNh2AIF4AIB&sid=c4fdd21590cb73b4380894d200fc2e72&aid=304142&ucfs=1&arphpl=1&group_adults=2&req_adults=2&no_rooms=1&group_children=0&req_children=0&hpos=16&hapos=16&sr_order=popularity&srpvid=f5ea62e0655600d9&srepoch=1650204226&from=searchresults#hotelTmpl",
           "Vous pouvez bénéficier d'une réduction Genius dans l'établissement Sweet Inn - Turenne ! Connectez-vous pour économiser.Situé dans le centre de Paris, à moins de 1,4 km du centre Pompidou et à 1,6 km de l'opéra Bastille, le Sweet Inn - Turenne propose des hébergements avec connexion Wi-Fi gratuite.Tous les logements comprennent un canapé, un coin salon, une télévision à écran plat, une cuisine bien équipée avec un coin repas, un coffre-fort et une salle de bains privative pourvue d'un sèche-cheveux. Un lave-vaisselle, un micro-ondes, un réfrigérateur, une bouilloire et une machine à café sont également fournis.Vous séjournerez à 2,9 km de la Sainte-Chapelle et à 3,1 km du musée du Louvre. L'aéroport de Paris-Orly, le plus proche, est implanté à 16 km. ",
           58.260000000000005,
           5
          ],
          [
           48.87597385,
           2.35900484,
           "Holiday Inn Paris Gare de l'Est, an IHG Hotel",
           "https://www.booking.com/hotel/fr/mercure-terminus-est.fr.html?label=gen173nr-1FCAEoggI46AdIDVgEaBWIAQGYAQ24ARjIAQ_YAQHoAQH4AQKIAgGoAgS4Ara88JIGwAIB0gIkNWE4YjMwODktYjRkMy00ZDE1LTk4OTAtYjRiYTQwYmEyZmNh2AIF4AIB&sid=c4fdd21590cb73b4380894d200fc2e72&aid=304142&ucfs=1&arphpl=1&group_adults=2&req_adults=2&no_rooms=1&group_children=0&req_children=0&hpos=17&hapos=17&sr_order=popularity&srpvid=f5ea62e0655600d9&srepoch=1650204226&from=searchresults#hotelTmpl",
           "L'Holiday Inn Paris Gare de l'Est est situé en face de la gare de l'Est et de sa station de métro, ce qui vous permettra de rejoindre directement des sites d'intérêt tels que Saint-Michel et le Quartier latin. L'hôtel dispose d'un bar dans le hall avec des fenêtres en verre au plomb.Les chambres de l'Holiday Inn Paris Gare de l'Est présentent une décoration contemporaine. Elles sont équipées d'une télévision par satellite à écran LCD et d'une machine à café.Un buffet de style américain est servi tous les matins dans la salle de petit-déjeuner ou en chambre. Le Paris Gare de l'Est Holiday Inn dispose d'une réception ouverte 24h/24. Vous pourrez profiter d'une connexion Wi-Fi gratuite dans tout l'établissement, ainsi que d'une connexion par câble dans votre chambre.La gare du Nord toute proche se trouve à seulement 5 minutes à pied de l'hôtel. Vous rejoindrez le musée des arts et métiers en 20 minutes de marche. ",
           58.260000000000005,
           5
          ],
          [
           48.851244,
           2.327238,
           "Hotel Lutetia",
           "https://www.booking.com/hotel/fr/lutetia-paris12.fr.html?label=gen173nr-1FCAEoggI46AdIDVgEaBWIAQGYAQ24ARjIAQ_YAQHoAQH4AQKIAgGoAgS4Ara88JIGwAIB0gIkNWE4YjMwODktYjRkMy00ZDE1LTk4OTAtYjRiYTQwYmEyZmNh2AIF4AIB&sid=c4fdd21590cb73b4380894d200fc2e72&aid=304142&ucfs=1&arphpl=1&group_adults=2&req_adults=2&no_rooms=1&group_children=0&req_children=0&hpos=18&hapos=18&sr_order=popularity&srpvid=f5ea62e0655600d9&srepoch=1650204226&from_sustainable_property_sr=1&from=searchresults#hotelTmpl",
           "L’Hotel Lutetia - The Leading Hotels of the World est un établissement de luxe emblématique situé dans le quartier de Saint-Germain-des-Prés à Paris. Implanté sur la rive gauche de la Seine, il se trouve à 5 minutes à pied du grand magasin Le Bon Marché et à 2 km du Musée du Louvre.Véritable lieu d’intérêt parisien, l’hôtel propose 184 chambres, dont 40 suites et 7 suites signature. Chacune d’entre elles dispose d’une connexion Wi-Fi gratuite, d’un système de divertissement Bang & Olufsen, d’une station multimédia et d’une salle de bains en marbre avec des articles de toilette Hermès gratuits. Certaines chambres comprennent un balcon donnant sur la tour Eiffel, tandis que certaines suites sont pourvues d’un toit-terrasse jouissant d’une vue à 360 ° sur Paris.Après une journée bien remplie, vous pourrez vous détendre dans le centre holistique de bien-être Akasha doté d’une salle de sport, d’un sauna, d’un hammam et d’une piscine intérieure de 17 mètres baignée de lumière naturelle. Par ailleurs, une large gamme de soins de spa est dispensée moyennant des frais supplémentaires.Plusieurs types de petits-déjeuners vous seront proposés chaque matin, y compris des formules sans gluten, halal, kasher et végétariennes. Pour le déjeuner et le dîner, vous pourrez vous rendre à la célèbre brasserie Lutetia ou au restaurant Saint-Germain. Vous aurez également accès à deux cours intérieures différentes, où vous aurez la possibilité de prendre un repas léger. L’hôtel dispose aussi d’un élégant salon à cigares et d’un bar de jazz conçu par Jean Michel Willmotte. ",
           58.260000000000005,
           5
          ],
          [
           48.89431407,
           2.31234401,
           "B&B Hôtel Paris 17 Batignolles",
           "https://www.booking.com/hotel/fr/parisboulevardberthier.fr.html?label=gen173nr-1FCAEoggI46AdIDVgEaBWIAQGYAQ24ARjIAQ_YAQHoAQH4AQKIAgGoAgS4Ara88JIGwAIB0gIkNWE4YjMwODktYjRkMy00ZDE1LTk4OTAtYjRiYTQwYmEyZmNh2AIF4AIB&sid=c4fdd21590cb73b4380894d200fc2e72&aid=304142&ucfs=1&arphpl=1&group_adults=2&req_adults=2&no_rooms=1&group_children=0&req_children=0&hpos=19&hapos=19&sr_order=popularity&srpvid=f5ea62e0655600d9&srepoch=1650204226&from=searchresults#hotelTmpl",
           "Le B&B Hôtel Paris 17 Batignolles est situé dans le nord-ouest de Paris, à seulement 50 mètres de la station de métro et gare RER Porte de Clichy. L’établissement propose des chambres élégantes insonorisées et climatisées, une connexion Wi-Fi gratuite ainsi qu’un restaurant sur place.Toutes les chambres sont dotées d’un bureau, d’un coffre-fort, d’un plateau/bouilloire et d’une télévision par satellite à écran LCD. La salle de bains privative est pourvue d’une baignoire ainsi que d’un sèche-cheveux.Chaque jour, un petit-déjeuner buffet composé de plats sucrés et salés tels que des croissants, de la baguette, du pain multigrains, des pommes, des produits laitiers, de la charcuterie, des œufs brouillés ainsi que du bacon est servi sur demande. Pour le déjeuner et le dîner, vous pourrez profiter d’un menu de saison à la carte, du lundi au vendredi.La réception est ouverte 24h/24.Cet hôtel se trouve à 2 km du Moulin Rouge, dans le célèbre quartier de Montmartre. Sur place, vous disposerez d’un parking souterrain privé La station de métro et gare RER Porte de Clichy vous permettra de rejoindre directement la tour Eiffel, les Champs-Élysées et la cathédrale Notre-Dame. ",
           58.260000000000005,
           5
          ],
          [
           48.844105,
           2.413063,
           "MEININGER Hotel Paris Porte de Vincennes",
           "https://www.booking.com/hotel/fr/meininger-paris-porte-de-vincennes.fr.html?label=gen173nr-1FCAEoggI46AdIDVgEaBWIAQGYAQ24ARjIAQ_YAQHoAQH4AQKIAgGoAgS4Ara88JIGwAIB0gIkNWE4YjMwODktYjRkMy00ZDE1LTk4OTAtYjRiYTQwYmEyZmNh2AIF4AIB&sid=c4fdd21590cb73b4380894d200fc2e72&aid=304142&ucfs=1&arphpl=1&group_adults=2&req_adults=2&no_rooms=1&group_children=0&req_children=0&hpos=20&hapos=20&sr_order=popularity&srpvid=f5ea62e0655600d9&srepoch=1650204226&from_sustainable_property_sr=1&from=searchresults#hotelTmpl",
           "Doté d'un bar et d'un salon commun, le MEININGER Hotel Paris Porte de Vincennes est situé à Paris, à 4,3 km de l'opéra Bastille et à 6 km du Centre Pompidou. Il propose une réception ouverte 24h/24, une cuisine commune et une connexion Wi-Fi gratuite dans l'ensemble de ses locaux. L'hôtel propose des chambres familiales.Les chambres comprennent un coin salon, une télévision par câble à écran plat ainsi qu'une salle de bains privative pourvue d'un sèche-cheveux et d'une douche. Le linge de lit et les serviettes sont fournis.Un petit-déjeuner continental est servi tous les matins sur place.Le MEININGER Hotel Paris Porte de Vincennes possède une terrasse.Vous séjournerez à 6 km de la Sainte-Chapelle et à 7 km du musée du Louvre. L'aéroport de Paris-Orly, le plus proche, est implanté à 16 km. ",
           58.260000000000005,
           5
          ],
          [
           50.63788756,
           3.072685,
           "Hotel Lille Europe",
           "https://www.booking.com/hotel/fr/lille-europe.fr.html?label=gen173nr-1FCAEoggI46AdIDVgEaBWIAQGYAQ24ARjIAQ_YAQHoAQH4AQKIAgGoAgS4Ara88JIGwAIB0gIkNWE4YjMwODktYjRkMy00ZDE1LTk4OTAtYjRiYTQwYmEyZmNh2AIF4AIB&sid=c4fdd21590cb73b4380894d200fc2e72&aid=304142&ucfs=1&arphpl=1&group_adults=2&req_adults=2&no_rooms=1&group_children=0&req_children=0&hpos=1&hapos=1&sr_order=popularity&srpvid=ee3c62e01ad80362&srepoch=1650204227&from=searchresults#hotelTmpl",
           "Vous pouvez bénéficier d'une réduction Genius dans l'établissement Hotel Lille Europe ! Connectez-vous pour économiser.L'Hotel Lille Europe est un établissement 3 étoiles situé au cœur du quartier des affaires international, à seulement 250 mètres de la gare de Lille-Flandres et à 17 minutes de route du stade Pierre-Mauroy. Il propose une réception ouverte 24h/24 et une connexion Internet gratuite.Présentant une décoration colorée, les chambres sont insonorisées et disposent d'une télévision par câble. Leur salle de bains privative est pourvue d'un sèche-cheveux. Toutes les chambres sont desservies par un ascenseur.Un petit-déjeuner buffet est servi tous les matins dans la salle prévue à cet effet. Cette dernière est dotée d'un micro-ondes et d'une vue panoramique sur les environs.L'établissement est accessible par l'autoroute N356. Vous séjournerez à 750 mètres de l'Opéra de Lille, à 10 minutes de marche de la cathédrale Notre-Dame-de-la-Treille, à 1,1 km du centre de conventions Nouveau Siècle et à 1,3 km du Grand Palais. Un parking privé sur place est disponible uniquement sur demande. ",
           66.56285714285714,
           7
          ],
          [
           50.62914624,
           3.06419907,
           "NOCNOC - La Villa Cachee",
           "https://www.booking.com/hotel/fr/la-villa-cachee-prox-gare-lille-flandre-metro.fr.html?label=gen173nr-1FCAEoggI46AdIDVgEaBWIAQGYAQ24ARjIAQ_YAQHoAQH4AQKIAgGoAgS4Ara88JIGwAIB0gIkNWE4YjMwODktYjRkMy00ZDE1LTk4OTAtYjRiYTQwYmEyZmNh2AIF4AIB&sid=c4fdd21590cb73b4380894d200fc2e72&aid=304142&ucfs=1&arphpl=1&group_adults=2&req_adults=2&no_rooms=1&group_children=0&req_children=0&hpos=2&hapos=2&sr_order=popularity&srpvid=ee3c62e01ad80362&srepoch=1650204227&from=searchresults#hotelTmpl",
           "Vous pouvez bénéficier d'une réduction Genius dans l'établissement NOCNOC - La Villa Cachee ! Connectez-vous pour économiser.Doté d'une connexion Wi-Fi et d'un parking privé gratuits, le NOCNOC - La Villa Cachee est situé à Lille, à seulement 400 mètres de la maison Coilliot. Vous séjournerez à 2,2 km du Zénith et du Grand Palais de Lille.Cette villa comprend 6 chambres, une télévision à écran plat, un lave-linge et 6 salles de bains pourvues d'une douche. Sa cuisine est équipée d'un lave-vaisselle et d'un micro-ondes. Les serviettes et le linge de lit sont fournis.Vous pourrez profiter d'une terrasse.Vous séjournerez à proximité de la braderie de Lille, de l'hospice Gantois et du grand magasin Printemps. L'aéroport de Lille, le plus proche, est à 9 km. ",
           66.56285714285714,
           7
          ],
          [
           50.627831,
           3.063592,
           "Moxy Lille City",
           "https://www.booking.com/hotel/fr/moxy-lille-city-center-france.fr.html?label=gen173nr-1FCAEoggI46AdIDVgEaBWIAQGYAQ24ARjIAQ_YAQHoAQH4AQKIAgGoAgS4Ara88JIGwAIB0gIkNWE4YjMwODktYjRkMy00ZDE1LTk4OTAtYjRiYTQwYmEyZmNh2AIF4AIB&sid=c4fdd21590cb73b4380894d200fc2e72&aid=304142&ucfs=1&arphpl=1&group_adults=2&req_adults=2&no_rooms=1&group_children=0&req_children=0&hpos=3&hapos=3&sr_order=popularity&srpvid=ee3c62e01ad80362&srepoch=1650204227&from=searchresults#hotelTmpl",
           "Le Moxy Lille City est situé à Lille, à 700 mètres de la braderie de Lille. Il propose des hébergements avec une terrasse et un parking privé. Doté d’un bar, cet hôtel 3 étoiles propose des chambres climatisées avec connexion Wi-Fi gratuite et salle de bains privative. En outre, vous pourrez profiter d’une salle de sport, d’animations en soirée et d’une réception ouverte 24h/24.Les chambres possèdent une télévision à écran plat et un sèche-cheveux.Un petit-déjeuner buffet est servi tous les jours au Moxy Lille City.Les sites d'intérêt à proximité de l'hébergement incluent la maison Coilliot, le grand magasin Printemps et la salle de concert l'Aéronef. L’aéroport de Lille-Lesquin, le plus proche, se trouve à 8 km du Moxy Lille City. ",
           66.56285714285714,
           7
          ],
          [
           50.63238245,
           3.06794286,
           "ibis Styles Lille Centre Gare Beffroi",
           "https://www.booking.com/hotel/fr/ibis-styles-lille-centre-gare-beffroi.fr.html?label=gen173nr-1FCAEoggI46AdIDVgEaBWIAQGYAQ24ARjIAQ_YAQHoAQH4AQKIAgGoAgS4Ara88JIGwAIB0gIkNWE4YjMwODktYjRkMy00ZDE1LTk4OTAtYjRiYTQwYmEyZmNh2AIF4AIB&sid=c4fdd21590cb73b4380894d200fc2e72&aid=304142&ucfs=1&arphpl=1&group_adults=2&req_adults=2&no_rooms=1&group_children=0&req_children=0&hpos=4&hapos=4&sr_order=popularity&srpvid=ee3c62e01ad80362&srepoch=1650204227&from=searchresults#hotelTmpl",
           "L’ibis Styles Lille Centre Gare Beffroi vous accueille dans le centre-ville de Lille, à 600 mètres des gares de Lille-Europe et de Lille-Flandres. Le centre des congrès Lille Grand Palais et le complexe Nouveau Siècle se trouvent à 1 km.Toutes les chambres comprennent une télévision à écran plat, une connexion Wi-Fi gratuite et une salle d’eau privative.Chaque matin, le petit-déjeuner vous sera servi. Vous pourrez vous détendre avec une boisson dans le bar sur place. Des événements d’entreprise peuvent être organisés dans les 3 salles de réunion modernes.Le quartier commerçant et d’affaires Euralille se trouve à 10 minutes de marche. Vous rejoindrez le stade Pierre-Mauroy en 15 minutes de route. ",
           66.56285714285714,
           7
          ],
          [
           50.63528798,
           3.06970725,
           "Hôtel Calm Lille",
           "https://www.booking.com/hotel/fr/calm-lille.fr.html?label=gen173nr-1FCAEoggI46AdIDVgEaBWIAQGYAQ24ARjIAQ_YAQHoAQH4AQKIAgGoAgS4Ara88JIGwAIB0gIkNWE4YjMwODktYjRkMy00ZDE1LTk4OTAtYjRiYTQwYmEyZmNh2AIF4AIB&sid=c4fdd21590cb73b4380894d200fc2e72&aid=304142&ucfs=1&arphpl=1&group_adults=2&req_adults=2&no_rooms=1&group_children=0&req_children=0&hpos=5&hapos=5&sr_order=popularity&srpvid=ee3c62e01ad80362&srepoch=1650204227&from=searchresults#hotelTmpl",
           "Vous pouvez bénéficier d'une réduction Genius dans l'établissement Hôtel Calm Lille ! Connectez-vous pour économiser.L'Hôtel Calm Lille est situé dans le centre-ville de Lille, à seulement 3 minutes à pied de la gare de Lille Flandres, ainsi qu'à 1 km du centre de conventions Grand Palais et de la salle de spectacle Le Nouveau Siècle. La connexion Wi-Fi est accessible gratuitement dans l'ensemble de l'établissement.Les chambres sont équipées d'une télévision à écran plat, d'une salle de bains privative avec baignoire ou douche, d'une armoire et d'un bureau.La réception de l'hôtel est ouverte 24h/24 et une bagagerie est à votre disposition. Vous pourrez emprunter un sèche-cheveux à la réception.L'Hôtel Calm Lille se trouve à 26 km de Courtrai, à 44 km d'Arras et à 27 km d'Ypres. Vous séjournerez aussi à 8 km de l'aéroport de Lille-Lesquin et à 16 minutes en voiture du stade Pierre-Mauroy. ",
           66.56285714285714,
           7
          ],
          [
           50.63075938,
           3.05808842,
           "Holiday Inn Express Lille Centre, an IHG Hotel",
           "https://www.booking.com/hotel/fr/expressbyholidayinnlille.fr.html?label=gen173nr-1FCAEoggI46AdIDVgEaBWIAQGYAQ24ARjIAQ_YAQHoAQH4AQKIAgGoAgS4Ara88JIGwAIB0gIkNWE4YjMwODktYjRkMy00ZDE1LTk4OTAtYjRiYTQwYmEyZmNh2AIF4AIB&sid=c4fdd21590cb73b4380894d200fc2e72&aid=304142&ucfs=1&arphpl=1&group_adults=2&req_adults=2&no_rooms=1&group_children=0&req_children=0&hpos=6&hapos=6&sr_order=popularity&srpvid=ee3c62e01ad80362&srepoch=1650204227&from=searchresults#hotelTmpl",
           "L'Holiday Inn Express Lille Centre est situé dans le centre de Lille, à 350 mètres du Palais des Beaux Arts et à 9 km du stade Pierre Mauroy. Vous séjournerez à 900 mètres du centre de conventions Le Nouveau Siècle et à 2 km de Lille Grand Palais.Les chambres de l'Holiday Inn Express Lille Centre sont équipées d'une télévision à écran plat, d'un téléphone, d'un sèche-cheveux et d'un plateau/bouilloire. Elles sont toutes desservies par un ascenseur. Vous bénéficierez gratuitement d'une connexion Wi-Fi.Un petit-déjeuner buffet est servi tous les matins.L'Holiday Inn Express Lille Centre propose une réception ouverte 24h/24, un parking souterrain sécurisé (sous réserve de disponibilité), une salle de réunion et un service de nettoyage à sec.La station de métro la plus proche est celle de République Beaux Arts, qui vous permettra d'accéder directement aux gares Lille Europe et Lille Flandres. L'hôtel se trouve à 800 mètres de la grand-place et à 1,5 km de la citadelle de Lille. ",
           66.56285714285714,
           7
          ],
          [
           50.63654707,
           3.06234241,
           "Grand Hotel Bellevue - Grand Place",
           "https://www.booking.com/hotel/fr/grandhotelbellevue.fr.html?label=gen173nr-1FCAEoggI46AdIDVgEaBWIAQGYAQ24ARjIAQ_YAQHoAQH4AQKIAgGoAgS4Ara88JIGwAIB0gIkNWE4YjMwODktYjRkMy00ZDE1LTk4OTAtYjRiYTQwYmEyZmNh2AIF4AIB&sid=c4fdd21590cb73b4380894d200fc2e72&aid=304142&ucfs=1&arphpl=1&group_adults=2&req_adults=2&no_rooms=1&group_children=0&req_children=0&hpos=7&hapos=7&sr_order=popularity&srpvid=ee3c62e01ad80362&srepoch=1650204227&from_sustainable_property_sr=1&from=searchresults#hotelTmpl",
           "Vous pouvez bénéficier d'une réduction Genius dans l'établissement Grand Hotel Bellevue - Grand Place ! Connectez-vous pour économiser.Situé sur la Grand-Place, dans le Vieux-Lille, le Grand Hotel Bellevue - Grand Place occupe un bâtiment à l'architecture flamande. Ses chambres disposent d'une salle de bains en marbre et de mobilier d'époque. La station de métro Rihour est accessible à 100 mètres. Vous pourrez rejoindre le centre de conventions Le Nouveau Siècle en 2 minutes à pied et le Lille Grand Palais se trouve à 1,4 km.Cet hôtel a été rénové en 2018. Toutes les chambres sont équipées de la climatisation, de la télévision par satellite et d'une connexion Wi-Fi gratuite. Élégantes et insonorisées, elles comprennent un minibar. Certaines disposent d'un plateau/bouilloire. Le personnel se tient à votre disposition 24h/24.Vous aurez droit à un petit-déjeuner buffet copieux tous les matins. Vous pourrez déguster des cocktails au bar Le Windsor et trouverez des restaurants à 50 mètres.Le centre historique est accessible en 5 minutes à pied et la gare de Lille-Flandres se trouve à 900 mètres. Le parc du Bois de Boulogne et la Citadelle vous attendent à 1,5 km tandis que l'aéroport de Lille-Lesquin se situe à 11 km. Des salles de réunions sont à votre disposition sur place. Vous trouverez un parking public à 100 mètres. ",
           66.56285714285714,
           7
          ],
          [
           50.64602156,
           3.07587147,
           "Hotel Art Deco Euralille",
           "https://www.booking.com/hotel/fr/hotelsrtdecoromarinlille.fr.html?label=gen173nr-1FCAEoggI46AdIDVgEaBWIAQGYAQ24ARjIAQ_YAQHoAQH4AQKIAgGoAgS4Ara88JIGwAIB0gIkNWE4YjMwODktYjRkMy00ZDE1LTk4OTAtYjRiYTQwYmEyZmNh2AIF4AIB&sid=c4fdd21590cb73b4380894d200fc2e72&aid=304142&ucfs=1&arphpl=1&group_adults=2&req_adults=2&no_rooms=1&group_children=0&req_children=0&hpos=8&hapos=8&sr_order=popularity&srpvid=ee3c62e01ad80362&srepoch=1650204227&from_sustainable_property_sr=1&from=searchresults#hotelTmpl",
           "Vous pouvez bénéficier d'une réduction Genius dans l'établissement Hotel Art Deco Euralille ! Connectez-vous pour économiser.Situé au cœur du quartier des affaires d’Euralille, l’Hotel Art Deco Euralille propose un bar à 1 km de la gare de Lille-Europe, à 20 minutes de la Grand-Place ainsi qu'à 1,7 km du grand palais de Lille et du centre de conventions Nouveau Siècle.Présentant un décor Art déco, les chambres lumineuses et climatisées comprennent une télévision par satellite et une connexion Wi-Fi gratuite. Les chambres sont en outre toutes desservies par un ascenseur.En soirée, vous pourrez vous détendre dans le bar de l'hôtel, doté d'un plafond en vitraux des années 1930 et de chaises en cuir. L’établissement possède également une bibliothèque.En face de l’hôtel, vous trouverez la station de métro et arrêt de tramway Romarin, qui permet d'accéder directement à la gare de Lille-Flandres. ",
           66.56285714285714,
           7
          ],
          [
           50.62003296,
           3.08456697,
           "Eklo Hotels Lille",
           "https://www.booking.com/hotel/fr/eklo-hotels-lille.fr.html?label=gen173nr-1FCAEoggI46AdIDVgEaBWIAQGYAQ24ARjIAQ_YAQHoAQH4AQKIAgGoAgS4Ara88JIGwAIB0gIkNWE4YjMwODktYjRkMy00ZDE1LTk4OTAtYjRiYTQwYmEyZmNh2AIF4AIB&sid=c4fdd21590cb73b4380894d200fc2e72&aid=304142&ucfs=1&arphpl=1&group_adults=2&req_adults=2&no_rooms=1&group_children=0&req_children=0&hpos=9&hapos=9&sr_order=popularity&srpvid=ee3c62e01ad80362&srepoch=1650204227&from_sustainable_property_sr=1&from=searchresults#hotelTmpl",
           "Doté d'une terrasse, l'Eklo Hotels Lille est situé à Lille dans le Nord-Pas-de-Calais, à 2 km du Zénith. Vous séjournerez à 2,6 km de Lille Flandres et à 2,7 km de Lille Europe.Les chambres disposent d'une salle de bains privative. Les autres prestations (comme les articles de toilette et le départ tardif) entraînent des frais supplémentaires.Un bar et une réception ouverte 24h/24 sont présents. Le restaurant Barbapizz' prépare des pizzas et des salades. Un petit-déjeuner continental en libre-service est servi tous les jours moyennant un supplément.Vous profiterez d'une cuisine commune, d'une bibliothèque, de jeux de société et d'un baby-foot. Un service de location de vélos et des bornes de recharge pour voitures électriques sont disponibles moyennant des frais supplémentaires. L'aéroport de Lille-Lesquin, le plus proche, se trouve à 7 km. Un parking privé gratuit est aménagé sur place. ",
           66.56285714285714,
           7
          ],
          [
           50.63647023,
           3.07490923,
           "Séjours & Affaires Lille Europe",
           "https://www.booking.com/hotel/fr/residence-lille-europe.fr.html?label=gen173nr-1FCAEoggI46AdIDVgEaBWIAQGYAQ24ARjIAQ_YAQHoAQH4AQKIAgGoAgS4Ara88JIGwAIB0gIkNWE4YjMwODktYjRkMy00ZDE1LTk4OTAtYjRiYTQwYmEyZmNh2AIF4AIB&sid=c4fdd21590cb73b4380894d200fc2e72&aid=304142&ucfs=1&arphpl=1&group_adults=2&req_adults=2&no_rooms=1&group_children=0&req_children=0&hpos=10&hapos=10&sr_order=popularity&srpvid=ee3c62e01ad80362&srepoch=1650204227&from=searchresults#hotelTmpl",
           "La résidence Séjours & Affaires Lille Europe est située dans le centre-ville de Lille, au cœur du quartier des affaires. Vous séjournerez entre les gares Lille-Flandres et Lille-Europe, à moins de 600 mètres de chacune. L'établissement propose des appartements avec connexion Internet gratuite à 8 km du stade Pierre Mauroy, à 1,2 km du centre de conventions Nouveau Siècle et à 850 mètres du Grand Palais de Lille.Tous les studios et appartements comprennent une télévision par câble à écran plat. Chacun dispose d'un bureau, d'un canapé-lit et d'une salle de bains privative avec baignoire ou douche.Un petit-déjeuner buffet est servi chaque matin. Vous pourrez préparer les autres repas dans votre kitchenette entièrement équipée pourvue d'un coin repas et de plaques de cuisson.La résidence Séjours & Affaires Lille Europe est facilement accessible depuis l'autoroute N356, à 12 minutes de route. Enfin, vous rejoindrez la citadelle de Lille en 30 minutes de marche et l'aéroport de Lille-Lesquin se trouve à 10,8 km. ",
           66.56285714285714,
           7
          ],
          [
           50.63883337,
           3.07668149,
           "Novotel Suites Lille Europe",
           "https://www.booking.com/hotel/fr/suitehotel-lille-europe.fr.html?label=gen173nr-1FCAEoggI46AdIDVgEaBWIAQGYAQ24ARjIAQ_YAQHoAQH4AQKIAgGoAgS4Ara88JIGwAIB0gIkNWE4YjMwODktYjRkMy00ZDE1LTk4OTAtYjRiYTQwYmEyZmNh2AIF4AIB&sid=c4fdd21590cb73b4380894d200fc2e72&aid=304142&ucfs=1&arphpl=1&group_adults=2&req_adults=2&no_rooms=1&group_children=0&req_children=0&hpos=11&hapos=11&sr_order=popularity&srpvid=ee3c62e01ad80362&srepoch=1650204227&from_sustainable_property_sr=1&from=searchresults#hotelTmpl",
           "Installé dans le centre-ville de Lille, l’hôtel 4 étoiles Novotel Suites Lille Europe vous accueille à seulement 600 mètres de la gare de Lille-Flandres, à 11 minutes à pied du complexe Lille Grand Palais et à 10 km du stade Pierre-Mauroy. Cet établissement propose une salle de sport ainsi que des suites avec connexion Wi-Fi gratuite et micro-ondes.Toutes les suites modernes sont équipées d’une télévision à écran plat et d’un plateau/bouilloire. Leur salle de bains privative est pourvue d’un sèche-cheveux. Tous les logements sont desservis par un ascenseur.Chaque matin, vous pourrez déguster un petit-déjeuner buffet au Novotel Suites. Vous pourrez également savourer un verre au bar Comptoir Nomade, confortablement assis dans un fauteuil. La Boutique Gourmande de l’hôtel vend des produits d’épicerie fine.La réception est ouverte 24h/24.Le Novotel Suites Lille Europe se trouve à 800 mètres du Zénith de Lille, à 1,3 km du palais des Beaux-Arts et à 1,7 km du centre de conventions du Nouveau Siècle. ",
           66.56285714285714,
           7
          ],
          [
           50.634074,
           3.064229,
           "OKKO Hotels Lille Centre",
           "https://www.booking.com/hotel/fr/okko-hotels-lille-centre.fr.html?label=gen173nr-1FCAEoggI46AdIDVgEaBWIAQGYAQ24ARjIAQ_YAQHoAQH4AQKIAgGoAgS4Ara88JIGwAIB0gIkNWE4YjMwODktYjRkMy00ZDE1LTk4OTAtYjRiYTQwYmEyZmNh2AIF4AIB&sid=c4fdd21590cb73b4380894d200fc2e72&aid=304142&ucfs=1&arphpl=1&group_adults=2&req_adults=2&no_rooms=1&group_children=0&req_children=0&hpos=12&hapos=12&sr_order=popularity&srpvid=ee3c62e01ad80362&srepoch=1650204227&from_sustainable_property_sr=1&from=searchresults#hotelTmpl",
           "Installé à Lille, l’OKKO Hotels Lille Centre possède un bar, un restaurant, un salon commun et une salle de sport. L’établissement vous propose notamment une réception ouverte 24h/24, un service d’étage et une connexion Wi-Fi gratuite dans l’ensemble de ses locaux. Vous aurez aussi la possibilité de savourer un verre au snack-bar.Les chambres climatisées de l’hôtel comportent un bureau, une machine à café, un coffre-fort, une télévision à écran plat ainsi qu’une salle de bains privative pourvue d’une douche. Chaque logement l’OKKO Hotels Lille Centre est doté de linge de lit et de serviettes de toilette.Le matin, vous pourrez savourer un petit-déjeuner buffet ou continental.Cet établissement 4 étoiles met à votre disposition un sauna et une terrasse.Vous pourrez également profiter du centre d'affaires, du télécopieur et du photocopieur de l’OKKO Hotels Lille Centre.Vous séjournerez à proximité de lieux d’intérêt prisés de la ville, comme le grand magasin Printemps, la Grand-Place et l’opéra de Lille. L’aéroport de Lille-Lesquin, le plus proche, se trouve à 8 km de l’OKKO Hotels Lille Centre. ",
           66.56285714285714,
           7
          ],
          [
           50.63359887,
           3.06328118,
           "Lille City Hotel",
           "https://www.booking.com/hotel/fr/misterbeddelille.fr.html?label=gen173nr-1FCAEoggI46AdIDVgEaBWIAQGYAQ24ARjIAQ_YAQHoAQH4AQKIAgGoAgS4Ara88JIGwAIB0gIkNWE4YjMwODktYjRkMy00ZDE1LTk4OTAtYjRiYTQwYmEyZmNh2AIF4AIB&sid=c4fdd21590cb73b4380894d200fc2e72&aid=304142&ucfs=1&arphpl=1&group_adults=2&req_adults=2&no_rooms=1&group_children=0&req_children=0&hpos=13&hapos=13&sr_order=popularity&srpvid=ee3c62e01ad80362&srepoch=1650204227&from_sustainable_property_sr=1&from=searchresults#hotelTmpl",
           "Le Lille City Hotel est un établissement abordable situé dans le centre-ville de Lille, dans une rue piétonne et commerçante, à 260 mètres du Palais des Beaux Arts, à 1,2 km de Lille Grand Palais et à 9 km du stade Pierre Mauroy. Les chambres sont équipées d’une télévision par satellite et d’une connexion Internet gratuite.Toutes les chambres du Lille City Hotel sont climatisées et disposent d'un téléphone. Desservies par un ascenseur, elles sont également pourvues d’une salle de bains privative.Le Lille City Hotel sert un petit-déjeuner buffet chaque matin. Vous trouverez de nombreux restaurants à quelques minutes de marche.La gare de Lille-Flandres se situe à seulement 10 minutes à pied du Lille City Hotel. Enfin, l’opéra et le centre de conventions Le Nouveau Siècle sont à 600 mètres, tandis que le centre historique vous attend à 1 km. ",
           66.56285714285714,
           7
          ],
          [
           50.63220722,
           3.04668635,
           "Residhotel Lille Vauban",
           "https://www.booking.com/hotel/fr/residhotel-lille-vauban.fr.html?label=gen173nr-1FCAEoggI46AdIDVgEaBWIAQGYAQ24ARjIAQ_YAQHoAQH4AQKIAgGoAgS4Ara88JIGwAIB0gIkNWE4YjMwODktYjRkMy00ZDE1LTk4OTAtYjRiYTQwYmEyZmNh2AIF4AIB&sid=c4fdd21590cb73b4380894d200fc2e72&aid=304142&ucfs=1&arphpl=1&group_adults=2&req_adults=2&no_rooms=1&group_children=0&req_children=0&hpos=14&hapos=14&sr_order=popularity&srpvid=ee3c62e01ad80362&srepoch=1650204227&from=searchresults#hotelTmpl",
           "Le Residhotel Lille Vauban est idéalement installé dans le quartier résidentiel de Vauban, à seulement 20 minutes de marche de la vieille ville de Lille. Il propose des hébergements avec une connexion Wi-Fi gratuite.Les studios comprennent une télévision à écran plat, un bureau et une kitchenette avec une machine à café Nespresso. Les appartements possèdent une cuisine avec une machine à café Nespresso, un coin repas et une pièce à vivre. Chaque logement dispose d'une salle de bains privative.Moyennant un supplément, vous pourrez déguster un petit-déjeuner buffet.Enfin, depuis l'appart'hôtel Residhotel Lille Vauban, vous rejoindrez les 45 hectares du bois de Boulogne en seulement 10 minutes à pied, tandis que la Grand'Place et le centre de conventions Nouveau Siècle sont accessibles à 20 minutes de marche. ",
           66.56285714285714,
           7
          ],
          [
           50.62603955,
           3.05190325,
           "Best Hôtel Lille",
           "https://www.booking.com/hotel/fr/besthotel_lille.fr.html?label=gen173nr-1FCAEoggI46AdIDVgEaBWIAQGYAQ24ARjIAQ_YAQHoAQH4AQKIAgGoAgS4Ara88JIGwAIB0gIkNWE4YjMwODktYjRkMy00ZDE1LTk4OTAtYjRiYTQwYmEyZmNh2AIF4AIB&sid=c4fdd21590cb73b4380894d200fc2e72&aid=304142&ucfs=1&arphpl=1&group_adults=2&req_adults=2&no_rooms=1&group_children=0&req_children=0&hpos=15&hapos=15&sr_order=popularity&srpvid=ee3c62e01ad80362&srepoch=1650204227&from_sustainable_property_sr=1&from=searchresults#hotelTmpl",
           "Le Best Hôtel Lille est un hôtel-restaurant situé dans le centre-ville de Lille, à proximité de la station de métro Gambetta, à 300 mètres de la Maison Folie de Wazemmes et à 1 km du musée des beaux-arts. Le Lille Grand Palais se trouve à 2 km.Cet établissement est idéal pour les voyages d'affaires et les séjours de loisirs. Facilement accessible par les routes principales, il propose un parking couvert sécurisé, un local à vélos et un restaurant buffet.Les chambres disposent d'un bureau et d'une connexion Wi-Fi haut débit gratuite.Le centre de conventions Nouveau Siècle est à 1,6 km. ",
           66.56285714285714,
           7
          ],
          [
           50.63685668,
           3.06794286,
           "Grand Hôtel Lille",
           "https://www.booking.com/hotel/fr/le-grand-hotel.fr.html?label=gen173nr-1FCAEoggI46AdIDVgEaBWIAQGYAQ24ARjIAQ_YAQHoAQH4AQKIAgGoAgS4Ara88JIGwAIB0gIkNWE4YjMwODktYjRkMy00ZDE1LTk4OTAtYjRiYTQwYmEyZmNh2AIF4AIB&sid=c4fdd21590cb73b4380894d200fc2e72&aid=304142&ucfs=1&arphpl=1&group_adults=2&req_adults=2&no_rooms=1&group_children=0&req_children=0&hpos=16&hapos=16&sr_order=popularity&srpvid=ee3c62e01ad80362&srepoch=1650204227&from=searchresults#hotelTmpl",
           "Situé dans le centre de Lille, juste à côté de la gare de Lille-Flandres, le Grand Hôtel Lille dispose d'une réception ouverte 24h/24, d'une bagagerie et d'un ascenseur. L'hôtel vous accueille à 900 mètres du Grand Palais de Lille et à 650 mètres du centre de conventions Nouveau Siècle. Il se trouve à seulement 300 mètres de la Grand'Place et à 5 minutes à pied du Vieux-Lille.Toutes les chambres sont équipées d'une télévision par satellite à écran plat et d'un téléphone. Leur salle de bains privative est pourvue d'un sèche-cheveux.Un petit-déjeuner buffet est servi chaque matin sur place. Vous trouverez plusieurs restaurants à quelques minutes de marche.Le Grand Hôtel Lille met à votre disposition un service d'étage et une connexion Wi-Fi gratuite. L'établissement est à 600 mètres de la gare de Lille-Europe, tandis que la station de métro Gare Lille-Flandres vous attend à seulement 50 mètres. Enfin, vous séjournerez à 18 minutes de route du stade Pierre-Mauroy. ",
           66.56285714285714,
           7
          ],
          [
           50.62905798,
           3.08113396,
           "Appart'City Confort Lille Grand Palais",
           "https://www.booking.com/hotel/fr/appart-city-lille-grand-palais.fr.html?label=gen173nr-1FCAEoggI46AdIDVgEaBWIAQGYAQ24ARjIAQ_YAQHoAQH4AQKIAgGoAgS4Ara88JIGwAIB0gIkNWE4YjMwODktYjRkMy00ZDE1LTk4OTAtYjRiYTQwYmEyZmNh2AIF4AIB&sid=c4fdd21590cb73b4380894d200fc2e72&aid=304142&ucfs=1&arphpl=1&group_adults=2&req_adults=2&no_rooms=1&group_children=0&req_children=0&hpos=17&hapos=17&sr_order=popularity&srpvid=ee3c62e01ad80362&srepoch=1650204227&from_sustainable_property_sr=1&from=searchresults#hotelTmpl",
           "Dans le centre-ville de Lille, l’établissement Appart’City Confort Lille Grand Palais vous accueille à 700 mètres du Grand Palais et à 15 minutes en voiture du centre de conventions de Lille Grand Palais. Il possède des appartements modernes dotés d'une connexion Wi-Fi gratuite et d'une télévision à écran plat. Un parking public est disponible sur place.Insonorisés et desservis par un ascenseur, les appartements comptent une kitchenette équipée d’un micro-ondes, d’un réfrigérateur et d’une cafetière. Il sont dotés d’un coin salon et d’un coin repas. Les salles de bains sont privatives.Un petit-déjeuner buffet est servi du lundi au dimanche et se compose de différents pains, dont du pain sans gluten, des viennoiseries, des boissons fraîches et chaudes. Du fromage et des yaourts sont également proposés. Des distributeurs automatiques de boissons se trouvent à la réception.Vous séjournerez à 1 km de la gare de Lille-Flandres, à 900 mètres de la station de métro Lille Grand Palais et à 12 minutes de route du stade Pierre-Mauroy. ",
           66.56285714285714,
           7
          ],
          [
           50.63557145,
           3.06783289,
           "Hôtel Saint Maurice",
           "https://www.booking.com/hotel/fr/hotelsaintmaurice.fr.html?label=gen173nr-1FCAEoggI46AdIDVgEaBWIAQGYAQ24ARjIAQ_YAQHoAQH4AQKIAgGoAgS4Ara88JIGwAIB0gIkNWE4YjMwODktYjRkMy00ZDE1LTk4OTAtYjRiYTQwYmEyZmNh2AIF4AIB&sid=c4fdd21590cb73b4380894d200fc2e72&aid=304142&ucfs=1&arphpl=1&group_adults=2&req_adults=2&no_rooms=1&group_children=0&req_children=0&hpos=18&hapos=18&sr_order=popularity&srpvid=ee3c62e01ad80362&srepoch=1650204227&from=searchresults#hotelTmpl",
           "L’Hôtel Saint Maurice est situé dans une zone piétonne paisible du centre de Lille, à côté de l’église gothique Saint-Maurice. Vous bénéficierez gratuitement d’une connexion Wi-Fi dans l’ensemble des locaux. Le centre de conventions Nouveau Siècle est à moins de 1 km.L’Hôtel Saint Maurice propose 38 chambres accessibles par ascenseur. Les chambres comportent une télévision à écran plat et une connexion Wi-Fi gratuite.L’établissement est implanté à 10 minutes à pied de la vieille ville et de ses musées, à moins de 500 mètres de la Grand’Place et à 1,5 km du parc des expositions Lille Grand Palais. Un parking public est disponible moyennant un supplément à proximité de l’hôtel. ",
           66.56285714285714,
           7
          ],
          [
           50.6456983,
           3.07210967,
           "Campanile Lille Euralille",
           "https://www.booking.com/hotel/fr/campanile-lille-euralille-xml.fr.html?label=gen173nr-1FCAEoggI46AdIDVgEaBWIAQGYAQ24ARjIAQ_YAQHoAQH4AQKIAgGoAgS4Ara88JIGwAIB0gIkNWE4YjMwODktYjRkMy00ZDE1LTk4OTAtYjRiYTQwYmEyZmNh2AIF4AIB&sid=c4fdd21590cb73b4380894d200fc2e72&aid=304142&ucfs=1&arphpl=1&group_adults=2&req_adults=2&no_rooms=1&group_children=0&req_children=0&hpos=19&hapos=19&sr_order=popularity&srpvid=ee3c62e01ad80362&srepoch=1650204227&from_sustainable_property_sr=1&from=searchresults#hotelTmpl",
           "Vous pouvez bénéficier d'une réduction Genius dans l'établissement Campanile Lille Euralille ! Connectez-vous pour économiser.Le Campanile Lille Euralille vous accueille à 1 km de la gare de Lille-Europe, à 2 km de la Grand-Place et à moins de 300 mètres de l'arrêt de tramway Romarin. Il possède une réception ouverte 24h/24 et un restaurant. Le stade Pierre-Mauroy est à 10 km.Les chambres comprennent une connexion Wi-Fi gratuite et une télévision par câble et satellite à écran plat. Leur salle de bains privative est pourvue d'une baignoire ou d'une douche et d'un sèche-cheveux.Chaque matin, un petit-déjeuner buffet est servi moyennant des frais supplémentaires. Vous pourrez également savourer la cuisine du restaurant de l'hôtel.Un parking extérieur est disponible moyennant des frais supplémentaires. Vous séjournerez à 2 km du centre commercial Euralille, à 2,5 km du Palais des beaux-arts et de la citadelle de Lille, à 2 km du centre de conventions Nouveau Siècle, ainsi qu'à 10 km des aéroports de Roubaix et de Lille-Lesquin. ",
           66.56285714285714,
           7
          ],
          [
           50.63786885,
           3.0546277,
           "Alliance Lille - Couvent Des Minimes",
           "https://www.booking.com/hotel/fr/alliance-lille-couvent-des-minimes.fr.html?label=gen173nr-1FCAEoggI46AdIDVgEaBWIAQGYAQ24ARjIAQ_YAQHoAQH4AQKIAgGoAgS4Ara88JIGwAIB0gIkNWE4YjMwODktYjRkMy00ZDE1LTk4OTAtYjRiYTQwYmEyZmNh2AIF4AIB&sid=c4fdd21590cb73b4380894d200fc2e72&aid=304142&ucfs=1&arphpl=1&group_adults=2&req_adults=2&no_rooms=1&group_children=0&req_children=0&hpos=20&hapos=20&sr_order=popularity&srpvid=ee3c62e01ad80362&srepoch=1650204227&from_sustainable_property_sr=1&from=searchresults#hotelTmpl",
           "Vous pouvez bénéficier d'une réduction Genius dans l'établissement Alliance Lille - Couvent Des Minimes ! Connectez-vous pour économiser.L'Alliance Lille - Couvent Des Minimes occupe un ancien couvent du XVIIe siècle situé à 5 minutes du centre de Lille. Doté d'un salon luxueux et d'une terrasse surmontée d'une immense verrière, il se trouve à 450 mètres du centre de conventions Nouveau Siècle.Présentant une décoration élégante, toutes les chambres et suites sont équipées de la climatisation, d'un minibar ainsi que d'une télévision par satellite avec Canal+. Elles possèdent également une salle de bains en marbre et une connexion Wi-Fi gratuite.Le restaurant Le Jardin du Cloître propose un petit-déjeuner buffet tous les jours ainsi qu'une cuisine locale préparée avec des produits frais du marché. Des spectacles sont organisés tous les soirs au piano-bar L'Échiquier.Cet établissement est accessible à seulement 150 mètres du bois de Boulogne, un verdoyant parc de 50 hectares. Les gares SNCF/TGV de Lille-Europe et de Lille-Flandres sont implantées à 15 minutes en voiture. Vous pourrez rejoindre le parc des expositions Lille Grand Palais à 6 km de l'Alliance Lille - Couvent Des Minimes, tout comme le stade Pierre Mauroy. ",
           66.56285714285714,
           7
          ],
          [
           48.61470049,
           -1.50961697,
           "Hôtel Vert",
           "https://www.booking.com/hotel/fr/vert.fr.html?label=gen173nr-1FCAEoggI46AdIDVgEaBWIAQGYAQ24ARjIAQ_YAQHoAQH4AQKIAgGoAgS4Ara88JIGwAIB0gIkNWE4YjMwODktYjRkMy00ZDE1LTk4OTAtYjRiYTQwYmEyZmNh2AIF4AIB&sid=c4fdd21590cb73b4380894d200fc2e72&aid=304142&ucfs=1&arphpl=1&group_adults=2&req_adults=2&no_rooms=1&group_children=0&req_children=0&hpos=1&hapos=1&sr_order=popularity&srpvid=c0b562dc4881029f&srepoch=1650204219&from=searchresults#hotelTmpl",
           "Vous pouvez bénéficier d'une réduction Genius dans l'établissement Hôtel Vert ! Connectez-vous pour économiser.Situé à 2 km du Mont-Saint-Michel, sur la côte normande, l'Hôtel Vert propose des chambres décorées dans des tons pastel dotées d'une salle de bains privative, d'une télévision ainsi que d'une connexion Wi-Fi gratuite.Vous pourrez savourer une cuisine régionale au restaurant La Rôtisserie. Le bar L'Équinoxe s'ouvre sur une terrasse privée.Le Vert Hotel possède également une réception ouverte 24h/24, un parking privé, un supermarché sur place et une boutique de souvenirs. ",
           66.81714285714285,
           0
          ],
          [
           48.61758727,
           -1.51039615,
           "Le Relais Saint Michel",
           "https://www.booking.com/hotel/fr/le-relais-saint-michel.fr.html?label=gen173nr-1FCAEoggI46AdIDVgEaBWIAQGYAQ24ARjIAQ_YAQHoAQH4AQKIAgGoAgS4Ara88JIGwAIB0gIkNWE4YjMwODktYjRkMy00ZDE1LTk4OTAtYjRiYTQwYmEyZmNh2AIF4AIB&sid=c4fdd21590cb73b4380894d200fc2e72&aid=304142&ucfs=1&arphpl=1&group_adults=2&req_adults=2&no_rooms=1&group_children=0&req_children=0&hpos=2&hapos=2&sr_order=popularity&srpvid=c0b562dc4881029f&srepoch=1650204219&from=searchresults#hotelTmpl",
           "Vous pouvez bénéficier d'une réduction Genius dans l'établissement Le Relais Saint Michel ! Connectez-vous pour économiser.Le Relais Saint Michel vous accueille face à la baie du Mont-Saint-Michel. Les chambres de cet hôtel (à l'exception de la chambre lits jumeaux Saint-Michel avec vue intérieure) possèdent toutes une terrasse privée et certaines vous offrent une vue panoramique sur le Mont-Saint-Michel.Insonorisées, confortables et spacieuses, les chambres sont dotées d'équipements modernes, dont un minibar et une connexion Wi-Fi gratuite. Leurs salles de bains sont privatives.Le restaurant de l'hôtel vous servira une cuisine traditionnelle. Lors de votre séjour, vous pourrez prendre un verre ou un repas sur la terrasse qui offre une vue sur le Mont-Saint-Michel.Un service de navette gratuit s'arrête en face de l'établissement et relie le célèbre Mont-Saint-Michel en seulement 10 minutes. Des gilets de sécurité vous seront proposés si vous souhaitez faire une promenade la nuit. Par ailleurs, si vous arrivez en voiture, vous pourrez profiter d'un espace de stationnement surveillé moyennant des frais supplémentaires. ",
           66.81714285714285,
           0
          ],
          [
           48.63508532,
           -1.51053965,
           "La Mère Poulard",
           "https://www.booking.com/hotel/fr/la-mere-poulard.fr.html?label=gen173nr-1FCAEoggI46AdIDVgEaBWIAQGYAQ24ARjIAQ_YAQHoAQH4AQKIAgGoAgS4Ara88JIGwAIB0gIkNWE4YjMwODktYjRkMy00ZDE1LTk4OTAtYjRiYTQwYmEyZmNh2AIF4AIB&sid=c4fdd21590cb73b4380894d200fc2e72&aid=304142&ucfs=1&arphpl=1&group_adults=2&req_adults=2&no_rooms=1&group_children=0&req_children=0&hpos=3&hapos=3&sr_order=popularity&srpvid=c0b562dc4881029f&srepoch=1650204219&from=searchresults#hotelTmpl",
           "Vous pouvez bénéficier d'une réduction Genius dans l'établissement La Mère Poulard ! Connectez-vous pour économiser.Occupant un bâtiment historique, l'hôtel La Mère Poulard jouit d'un emplacement idéal au cœur du Mont-Saint-Michel. Décorées dans un style classique, ses chambres donnent sur la baie, l'abbaye ou la cité médiévale.Toutes les chambres de l'hôtel La Mère Poulard sont équipées d'une télévision à écran plat et d'une connexion Wi-Fi gratuite. Leur salle de bains privative comporte une baignoire.Au prestigieux restaurant de l'hôtel La Mère Poulard, vous pourrez savourer des plats traditionnels dont sa fameuse omelette connue dans le monde entier. Vous pourrez tranquillement prendre un verre au piano-bar qui surplombe la baie du Mont-Saint-Michel.L'hôtel possède un magasin spécialisé dans les produits gastronomiques régionaux. La réception est ouverte 24h/24.Vous pourrez choisir parmi de nombreuses activités dont les randonnées pédestres, les balades à vélo ou bien la visite du Mont-Saint-Michel. Avranches se trouve à 23 minutes de route et Saint-Malo à 45 minutes de La Mère Poulard. ",
           66.81714285714285,
           0
          ],
          [
           48.61424653,
           -1.51054502,
           "Mercure Mont Saint Michel",
           "https://www.booking.com/hotel/fr/mont-saint-michel.fr.html?label=gen173nr-1FCAEoggI46AdIDVgEaBWIAQGYAQ24ARjIAQ_YAQHoAQH4AQKIAgGoAgS4Ara88JIGwAIB0gIkNWE4YjMwODktYjRkMy00ZDE1LTk4OTAtYjRiYTQwYmEyZmNh2AIF4AIB&sid=c4fdd21590cb73b4380894d200fc2e72&aid=304142&ucfs=1&arphpl=1&group_adults=2&req_adults=2&no_rooms=1&group_children=0&req_children=0&hpos=4&hapos=4&sr_order=popularity&srpvid=c0b562dc4881029f&srepoch=1650204219&from_sustainable_property_sr=1&from=searchresults#hotelTmpl",
           "Installé dans des espaces verts à seulement 2 km de l'abbaye du Mont-Saint-Michel, le Mercure Mont Saint Michel propose des chambres spacieuses avec salle de bains privative, un bar-restaurant et de nombreuses places de parking gratuites.Les chambres du Mercure Mont Saint Michel sont dotées de la climatisation, d'un plateau/bouilloire et d'une télévision par satellite/câble à écran plat.Le restaurant Le Pré Salé, célèbre dans la région, prépare de délicieux fruits de mer ainsi que des spécialités régionales. Le bar Le Normandy sert des boissons dans un cadre convivial et décontracté.Le Mercure Mont Saint Michel vous accueille à 6,5 km de Pontorson et à 52 km de Saint-Malo. ",
           66.81714285714285,
           0
          ],
          [
           48.63534943,
           -1.51037872,
           "Les Terrasses Poulard",
           "https://www.booking.com/hotel/fr/les-terrasses-poulard.fr.html?label=gen173nr-1FCAEoggI46AdIDVgEaBWIAQGYAQ24ARjIAQ_YAQHoAQH4AQKIAgGoAgS4Ara88JIGwAIB0gIkNWE4YjMwODktYjRkMy00ZDE1LTk4OTAtYjRiYTQwYmEyZmNh2AIF4AIB&sid=c4fdd21590cb73b4380894d200fc2e72&aid=304142&ucfs=1&arphpl=1&group_adults=2&req_adults=2&no_rooms=1&group_children=0&req_children=0&hpos=5&hapos=5&sr_order=popularity&srpvid=c0b562dc4881029f&srepoch=1650204219&from=searchresults#hotelTmpl",
           "Vous pouvez bénéficier d'une réduction Genius dans l'établissement Les Terrasses Poulard ! Connectez-vous pour économiser.Occupant 2 bâtiments différents au cœur du Mont-Saint-Michel, l'établissement historique Les Terrasses Poulard propose des hébergements avec une vue sur la baie, le village et la rue.Décorées dans un style moderne, les chambres sont accessibles par des escaliers. Certaines présentent de grandes fenêtres donnant sur la baie. Toutes sont dotées d'une télévision et d'une salle de bains privative.Le petit-déjeuner est servi au restaurant de l'Auberge de la Mère Poulard, à 2 minutes à pied. Spécialisé dans la cuisine française et régionale, le restaurant est aussi ouvert pour le déjeuner et le dîner. Vous pourrez également prendre vos repas, des boissons et des collations au restaurant La Confiance sur place.L'établissement Les Terrasses Poulard comporte un bar, ainsi qu'une réception ouverte 24h/24 avec une bagagerie.La région constitue un cadre idéal pour diverses activités telles que la pêche, le vélo et la randonnée à pied. ",
           66.81714285714285,
           0
          ],
          [
           48.61688155,
           -1.51091784,
           "Hotel De La Digue",
           "https://www.booking.com/hotel/fr/de-la-digue.fr.html?label=gen173nr-1FCAEoggI46AdIDVgEaBWIAQGYAQ24ARjIAQ_YAQHoAQH4AQKIAgGoAgS4Ara88JIGwAIB0gIkNWE4YjMwODktYjRkMy00ZDE1LTk4OTAtYjRiYTQwYmEyZmNh2AIF4AIB&sid=c4fdd21590cb73b4380894d200fc2e72&aid=304142&ucfs=1&arphpl=1&group_adults=2&req_adults=2&no_rooms=1&group_children=0&req_children=0&hpos=6&hapos=6&sr_order=popularity&srpvid=c0b562dc4881029f&srepoch=1650204219&from=searchresults#hotelTmpl",
           "Cet établissement est à 1 minute à pied de la plage. L'hôtel De La Digue est un établissement traditionnel situé en Normandie, à seulement 5 minutes en navette ou à 30 minutes de marche du Mont-Saint-Michel. La connexion Wi-Fi est gratuite dans l'ensemble des locaux. Le restaurant sur place sert une cuisine française classique et offre une vue panoramique sur le Mont-Saint-Michel.Spacieuses et joliment décorées, les chambres sont dotées d'une télévision. Certaines chambres doubles donnent sur la rivière Couesnon.Vous pourrez prendre un verre au bar de l'hôtel ou sur la terrasse. ",
           66.81714285714285,
           0
          ],
          [
           48.61538141,
           -1.51070997,
           "Hotel Gabriel",
           "https://www.booking.com/hotel/fr/hotel-gabriel.fr.html?label=gen173nr-1FCAEoggI46AdIDVgEaBWIAQGYAQ24ARjIAQ_YAQHoAQH4AQKIAgGoAgS4Ara88JIGwAIB0gIkNWE4YjMwODktYjRkMy00ZDE1LTk4OTAtYjRiYTQwYmEyZmNh2AIF4AIB&sid=c4fdd21590cb73b4380894d200fc2e72&aid=304142&ucfs=1&arphpl=1&group_adults=2&req_adults=2&no_rooms=1&group_children=0&req_children=0&hpos=7&hapos=7&sr_order=popularity&srpvid=c0b562dc4881029f&srepoch=1650204219&from=searchresults#hotelTmpl",
           "Vous pouvez bénéficier d'une réduction Genius dans l'établissement Hotel Gabriel ! Connectez-vous pour économiser.L’Hotel Gabriel se trouve à 1,6 km du Mont-Saint-Michel. L’établissement est à seulement 25 minutes à pied des remparts de la vieille ville. Il propose une connexion Wi-Fi gratuite ainsi que des chambres avec salle de bains privative.Accessibles par des escaliers, les chambres spacieuses de l'hôtel comprennent la télévision par satellite. Chaque hébergement dispose d’une salle de bains pourvue d’une douche.Un petit-déjeuner buffet est disponible tous les matins. La Rôtisserie sert des spécialités normandes et bretonnes.L’Hotel Gabriel est situé à 6 minutes en voiture de l’autoroute E401. Vous séjournerez également à 7,3 km de la gare TGV de Pontorson qui dessert Paris. ",
           66.81714285714285,
           0
          ],
          [
           48.63568798,
           -1.50988251,
           "Auberge Saint Pierre",
           "https://www.booking.com/hotel/fr/auberge-saint-pierre.fr.html?label=gen173nr-1FCAEoggI46AdIDVgEaBWIAQGYAQ24ARjIAQ_YAQHoAQH4AQKIAgGoAgS4Ara88JIGwAIB0gIkNWE4YjMwODktYjRkMy00ZDE1LTk4OTAtYjRiYTQwYmEyZmNh2AIF4AIB&sid=c4fdd21590cb73b4380894d200fc2e72&aid=304142&ucfs=1&arphpl=1&group_adults=2&req_adults=2&no_rooms=1&group_children=0&req_children=0&hpos=8&hapos=8&sr_order=popularity&srpvid=c0b562dc4881029f&srepoch=1650204219&from=searchresults#hotelTmpl",
           "L'Auberge Saint-Pierre occupe une maison à colombages du XIVe siècle située au Mont-Saint-Michel, une île accessible à marée basse. Elle allie le charme d'époque des poutres apparentes à des éléments de confort moderne comme une télévision et une connexion Wi-Fi gratuite. Les chambres de l'Auberge Saint Pierre disposent d'une salle de bains privative avec une baignoire ou une douche. Certaines offrent une vue sur la mer. L'établissement sert un petit-déjeuner buffet tous les matins. Vous pourrez prendre vos repas au restaurant authentique présent sur place qui sert une cuisine normande traditionnelle et des plats de poisson.Installé dans la rue principale menant à l'abbaye, cet hôtel constitue un pied-à-terre idéal pour visiter le mont Saint-Michel. Certaines chambres se trouvent dans 2 bâtiments séparés accessibles par de nombreuses marches. ",
           66.81714285714285,
           0
          ],
          [
           48.61293783,
           -1.51010513,
           "Le Saint Aubert",
           "https://www.booking.com/hotel/fr/hotel-saint-aubert.fr.html?label=gen173nr-1FCAEoggI46AdIDVgEaBWIAQGYAQ24ARjIAQ_YAQHoAQH4AQKIAgGoAgS4Ara88JIGwAIB0gIkNWE4YjMwODktYjRkMy00ZDE1LTk4OTAtYjRiYTQwYmEyZmNh2AIF4AIB&sid=c4fdd21590cb73b4380894d200fc2e72&aid=304142&ucfs=1&arphpl=1&group_adults=2&req_adults=2&no_rooms=1&group_children=0&req_children=0&hpos=9&hapos=9&sr_order=popularity&srpvid=c0b562dc4881029f&srepoch=1650204219&from=searchresults#hotelTmpl",
           "Niché dans un écrin de verdure, à seulement 2 km du Mont-Saint-Michel, Le Saint Aubert vous accueille dans un cadre chaleureux et convivial.Cet établissement vous propose des chambres paisibles et confortables entourées de jardins fleuris.Après une journée de découverte du Mont-Saint-Michel, vous pourrez déguster une délicieuse cuisine régionale dans le cadre pittoresque d'une ancienne ferme.Le personnel serviable sera heureux de vous recommander un grand nombre de sites d'intérêt et les visites à faire dans la région. ",
           66.81714285714285,
           0
          ],
          [
           48.63602298,
           -1.50989592,
           "Le Mouton Blanc",
           "https://www.booking.com/hotel/fr/le-mouton-blanc-le-mont-saint-michel.fr.html?label=gen173nr-1FCAEoggI46AdIDVgEaBWIAQGYAQ24ARjIAQ_YAQHoAQH4AQKIAgGoAgS4Ara88JIGwAIB0gIkNWE4YjMwODktYjRkMy00ZDE1LTk4OTAtYjRiYTQwYmEyZmNh2AIF4AIB&sid=c4fdd21590cb73b4380894d200fc2e72&aid=304142&ucfs=1&arphpl=1&group_adults=2&req_adults=2&no_rooms=1&group_children=0&req_children=0&hpos=10&hapos=10&sr_order=popularity&srpvid=c0b562dc4881029f&srepoch=1650204219&from=searchresults#hotelTmpl",
           "Vous pouvez bénéficier d'une réduction Genius dans l'établissement Le Mouton Blanc ! Connectez-vous pour économiser.Situé au pied de l'abbaye, le Mouton Blanc Hotel vous accueille dans son bâtiment historique datant du XIVe siècle. Il propose des chambres confortables avec une décoration simple et accueillante.Les chambres sont réparties dans 3 bâtiments dont un offre des vues sur le Mont-Saint-Michel et un autre comporte des chambres de style médiéval.Le restaurant du Mouton Blanc vous servira une cuisine locale traditionnelle dans la salle à manger ou sur la terrasse. Vous dégusterez aussi un petit-déjeuner chaque matin.Enfin lors de votre séjour au Mouton Blanc Hotel, vous pourrez bénéficier de services personnalisés sur demande pour des visites, des loisirs et d'autres activités. ",
           66.81714285714285,
           0
          ],
          [
           48.636063,
           -1.511457,
           "La Vieille Auberge",
           "https://www.booking.com/hotel/fr/la-vieille-auberge-le-mont-saint-michel.fr.html?label=gen173nr-1FCAEoggI46AdIDVgEaBWIAQGYAQ24ARjIAQ_YAQHoAQH4AQKIAgGoAgS4Ara88JIGwAIB0gIkNWE4YjMwODktYjRkMy00ZDE1LTk4OTAtYjRiYTQwYmEyZmNh2AIF4AIB&sid=c4fdd21590cb73b4380894d200fc2e72&aid=304142&ucfs=1&arphpl=1&group_adults=2&req_adults=2&no_rooms=1&group_children=0&req_children=0&hpos=11&hapos=11&sr_order=popularity&srpvid=c0b562dc4881029f&srepoch=1650204219&from=searchresults#hotelTmpl",
           "La Vieille Auberge vous accueille dans le village médiéval du Mont-Saint-Michel, à quelques pas de la célèbre abbaye du Mont-Saint-Michel. L’établissement propose une connexion Wi-Fi gratuite, un restaurant et une terrasse avec vue sur la baie du Mont-Saint-Michel.Les chambres sont aménagées dans 2 bâtiments annexes et accessibles par de multiples escaliers. Un bâtiment comprend des chambres standard donnant sur la rue principale et l’autre bâtiment, situé en haut du village, abrite des chambres avec vue sur la mer. Tous les logements disposent d’une télévision à écran plat et d’une salle de bains privative avec une baignoire ou une douche.L’hôtel comporte un bar et un restaurant servant une cuisine française traditionnelle.Vous séjournerez à 24 km d’Avranches et à 49 km de Cancale. La ville de Dol-de-Bretagne se trouve à 30 km. ",
           66.81714285714285,
           0
          ],
          [
           48.6162627,
           -1.51090577,
           "Le Relais Du Roy",
           "https://www.booking.com/hotel/fr/le-relais-du-roy.fr.html?label=gen173nr-1FCAEoggI46AdIDVgEaBWIAQGYAQ24ARjIAQ_YAQHoAQH4AQKIAgGoAgS4Ara88JIGwAIB0gIkNWE4YjMwODktYjRkMy00ZDE1LTk4OTAtYjRiYTQwYmEyZmNh2AIF4AIB&sid=c4fdd21590cb73b4380894d200fc2e72&aid=304142&ucfs=1&arphpl=1&group_adults=2&req_adults=2&no_rooms=1&group_children=0&req_children=0&hpos=12&hapos=12&sr_order=popularity&srpvid=c0b562dc4881029f&srepoch=1650204219&from=searchresults#hotelTmpl",
           "Vous pouvez bénéficier d'une réduction Genius dans l'établissement Le Relais Du Roy ! Connectez-vous pour économiser.Le Relais Du Roy est un hôtel 3 étoiles situé au bord du Couesnon, à seulement 1,5 km du Mont Saint-Michel et à 50 mètres de la navette gratuite.Décorées dans un style classique, toutes les chambres comprennent une télévision par satellite à écran plat, un téléphone et un plateau de bienvenue. Elles comprennent également une salle de bains privative pourvue d’une baignoire ou d’une douche, d’articles de toilettes gratuits et d’un sèche-cheveux. Certaines chambres possèdent un balcon.Un petit-déjeuner buffet est servi tous les matins.Une épicerie se trouve à moins de 3 minutes à pied. La ville de Pontorson est quant à elle accessible à 7 km. Un espace de stationnement privé est disponible moyennant des frais supplémentaires. ",
           66.81714285714285,
           0
          ],
          [
           48.63573406,
           -1.50986105,
           "Hôtel la Croix Blanche",
           "https://www.booking.com/hotel/fr/ha-el-la-croix-blanche.fr.html?label=gen173nr-1FCAEoggI46AdIDVgEaBWIAQGYAQ24ARjIAQ_YAQHoAQH4AQKIAgGoAgS4Ara88JIGwAIB0gIkNWE4YjMwODktYjRkMy00ZDE1LTk4OTAtYjRiYTQwYmEyZmNh2AIF4AIB&sid=c4fdd21590cb73b4380894d200fc2e72&aid=304142&ucfs=1&arphpl=1&group_adults=2&req_adults=2&no_rooms=1&group_children=0&req_children=0&hpos=13&hapos=13&sr_order=popularity&srpvid=c0b562dc4881029f&srepoch=1650204219&from=searchresults#hotelTmpl",
           "Situé au cœur du village médiéval du Mont-Saint-Michel, l'Hôtel La Croix Blanche possède une terrasse et un bar.Les chambres de l'Hôtel La Croix Blanche disposent d'une télévision par satellite à écran plat et d'un minibar. Gratuit Une connexion Wi-Fi est disponible gratuitement.En plus de la visite du Mont-Saint-Michel et de son abbaye, vous pourrez vous rendre à Saint-Malo, à 50 km de l'hôtel. La gare de Dol-de-Bretagne est à 30 km. ",
           66.81714285714285,
           0
          ],
          [
           48.61599318,
           -1.48825318,
           "Auberge de la Baie",
           "https://www.booking.com/hotel/fr/auberge-de-la-baie.fr.html?label=gen173nr-1FCAEoggI46AdIDVgEaBWIAQGYAQ24ARjIAQ_YAQHoAQH4AQKIAgGoAgS4Ara88JIGwAIB0gIkNWE4YjMwODktYjRkMy00ZDE1LTk4OTAtYjRiYTQwYmEyZmNh2AIF4AIB&sid=c4fdd21590cb73b4380894d200fc2e72&aid=304142&ucfs=1&arphpl=1&group_adults=2&req_adults=2&no_rooms=1&group_children=0&req_children=0&hpos=14&hapos=14&sr_order=popularity&srpvid=c0b562dc4881029f&srepoch=1650204219&from=searchresults#hotelTmpl",
           "Vous pouvez bénéficier d'une réduction Genius dans l'établissement Auberge de la Baie ! Connectez-vous pour économiser.Situé dans la campagne normande, cet hôtel vous propose une connexion Wi-Fi gratuite et un restaurant doté d'une terrasse sur place.Toutes les chambres modernes de l'Auberge de la Baie comprennent une télévision par satellite à écran plat. Elles sont toutes équipées d'une salle de bains privative et d'un sèche-cheveux.Le restaurant climatisé de l'hôtel comporte une terrasse couverte et propose une cuisine normande traditionnelle, des fruits de mer et des spécialités locales. Un petit-déjeuner buffet est servi chaque matin.Un parking gratuit est disponible sur place et la ville d'Avranches est implantée à 23 km. L'hôtel se trouve à 45 minutes en voiture des plages de Saint-Malo et Rennes est accessible en 1h en voiture. ",
           66.81714285714285,
           0
          ],
          [
           48.6041875,
           -1.51159912,
           "Chambres d'Hôtes Les Vieilles Digues",
           "https://www.booking.com/hotel/fr/chambres-d-ha-tes-les-vieilles-digues.fr.html?label=gen173nr-1FCAEoggI46AdIDVgEaBWIAQGYAQ24ARjIAQ_YAQHoAQH4AQKIAgGoAgS4Ara88JIGwAIB0gIkNWE4YjMwODktYjRkMy00ZDE1LTk4OTAtYjRiYTQwYmEyZmNh2AIF4AIB&sid=c4fdd21590cb73b4380894d200fc2e72&aid=304142&ucfs=1&arphpl=1&group_adults=2&req_adults=2&no_rooms=1&group_children=0&req_children=0&hpos=15&hapos=15&sr_order=popularity&srpvid=c0b562dc4881029f&srepoch=1650204219&from=searchresults#hotelTmpl",
           "Occupant une maison bretonne restaurée, l'établissement à la gestion familiale Chambres d'Hôtes Les Vieilles Digues est situé à Beauvoir, à 3 km du Mont-Saint-Michel. Doté d'un parc fleuri de 3 000 m², il propose des chambres pourvues de meubles d'époque, d'une connexion Wi-Fi gratiote et d'une salle de bains privative.Toutes les chambres élégantes des Vieilles Digues disposent d'une entrée privée et d'articles de toilette gratuits. Celles du rez-de-chaussée comprennent des portes-fenêtres avec accès direct au patio, doté de chaises longues.Le petit-déjeuner comprend des boissons chaudes, du jus d'orange, des yaourts, du fromage et des céréales. En outre, des baguettes fraîches sont livrées tous les jours par le boulanger local. Les propriétaires sont à votre disposition pour vous recommander de bons restaurants à proximité.Vous pourrez vous promener le long de la rivière Le Couesnon, qui se trouve à 200 mètres des Vieilles Digues. Les villes de Saint-Malo et Cancale sont accessibles en 45 minutes de route, tandis qu la gare de Pontorson est à 5 km. Un parking privé est disponible gratuitement sur place. ",
           66.81714285714285,
           0
          ],
          [
           48.59648217,
           -1.50314692,
           "Apparthôtel Mont Saint Michel - Résidence Fleurdumont",
           "https://www.booking.com/hotel/fr/residence-fleurdumont.fr.html?label=gen173nr-1FCAEoggI46AdIDVgEaBWIAQGYAQ24ARjIAQ_YAQHoAQH4AQKIAgGoAgS4Ara88JIGwAIB0gIkNWE4YjMwODktYjRkMy00ZDE1LTk4OTAtYjRiYTQwYmEyZmNh2AIF4AIB&sid=c4fdd21590cb73b4380894d200fc2e72&aid=304142&ucfs=1&arphpl=1&group_adults=2&req_adults=2&no_rooms=1&group_children=0&req_children=0&hpos=16&hapos=16&sr_order=popularity&srpvid=c0b562dc4881029f&srepoch=1650204219&from=searchresults#hotelTmpl",
           "Vous pouvez bénéficier d'une réduction Genius dans l'établissement Apparthôtel Mont Saint Michel - Résidence Fleurdumont ! Connectez-vous pour économiser.La Résidence Fleurdumont vous propose un hébergement accueillant volontiers les animaux domestiques. Il est situé à Beauvoir, à 4,4 km de l’abbaye du Mont-Saint-Michel. La Résidence Fleurdumont comprend également une piscine extérieure ouverte en saison, un court de tennis et un terrain de pétanque. Le stationnement privé sur place est gratuit.Tous les hébergements comprennent une terrasse ou un balcon, ainsi qu'une télévision. La Résidence Fleurdumont dispose aussi d'une connexion Wi-Fi gratuite. Des serviettes et du linge de lit sont fournis.Les logements comportent un kitchenette équipée d'un micro-ondes, d'un réfrigérateur, de plaques de cuisson et d'une machine à café. Un kit petit-déjeuner est proposé tous les matins.L'aéroport Dinard Bretagne, le plus proche, est installé à 42 km. ",
           66.81714285714285,
           0
          ],
          [
           48.59771334,
           -1.51309848,
           "Le Beauvoir",
           "https://www.booking.com/hotel/fr/le-beauvoir-beauvoir.fr.html?label=gen173nr-1FCAEoggI46AdIDVgEaBWIAQGYAQ24ARjIAQ_YAQHoAQH4AQKIAgGoAgS4Ara88JIGwAIB0gIkNWE4YjMwODktYjRkMy00ZDE1LTk4OTAtYjRiYTQwYmEyZmNh2AIF4AIB&sid=c4fdd21590cb73b4380894d200fc2e72&aid=304142&ucfs=1&arphpl=1&group_adults=2&req_adults=2&no_rooms=1&group_children=0&req_children=0&hpos=17&hapos=17&sr_order=popularity&srpvid=c0b562dc4881029f&srepoch=1650204219&from=searchresults#hotelTmpl",
           "Vous pouvez bénéficier d'une réduction Genius dans l'établissement Le Beauvoir ! Connectez-vous pour économiser.Le Beauvoir est situé à 4 kilomètres du Mont-Saint-Michel et à 20 minutes en voiture de Cancale. Il dispose d'un parking privé gratuit et d'un restaurant.Toutes les chambres sont dotées d'une salle de bains privative et d'une télévision avec les chaînes du satellite.Vous dégusterez une cuisine française traditionnelle dans le restaurant et vous détendrez dans le bar avec une boisson en soirée. Un petit déjeuner buffet est servi chaque matin.Le Beauvoir est à 4 kilomètres de Pontorson et à proximité de la Serre aux Alligators. ",
           66.81714285714285,
           0
          ],
          [
           48.61411436,
           -1.50431424,
           "La Jacotière",
           "https://www.booking.com/hotel/fr/la-jacotia-re.fr.html?label=gen173nr-1FCAEoggI46AdIDVgEaBWIAQGYAQ24ARjIAQ_YAQHoAQH4AQKIAgGoAgS4Ara88JIGwAIB0gIkNWE4YjMwODktYjRkMy00ZDE1LTk4OTAtYjRiYTQwYmEyZmNh2AIF4AIB&sid=c4fdd21590cb73b4380894d200fc2e72&aid=304142&ucfs=1&arphpl=1&group_adults=2&req_adults=2&no_rooms=1&group_children=0&req_children=0&hpos=18&hapos=18&sr_order=popularity&srpvid=c0b562dc4881029f&srepoch=1650204219&from=searchresults#hotelTmpl",
           "Implantée à Ardevon, la maison d'hôtes La Jacotière occupe une ancienne ferme rénovée pourvue d'un jardin et d'une terrasse meublée donnant sur le Mont-Saint-Michel, situé à seulement 3 km. Une connexion Wi-Fi est disponible gratuitement.Les chambres comprennent une télévision, un bureau, une armoire et une salle de bains privative dotée d'une douche. Le studio comporte également une cuisine équipée d'un four micro-ondes et d'une cuisinière.Le petit-déjeuner est servi dans la grande salle à manger. À 5 minutes à pied, vous trouverez des supermarchés, des bars et des restaurants proposant une cuisine traditionnelle et internationale.La maison d'hôtes met aussi à votre disposition des guides listant les excursions à faire dans les environs. Un service de navette est proposé à proximité pour partir à la découverte du Mont-Saint-Michel. La gare de Pontorson se situe à 8,5 km, tandis que Saint-Malo et Granville se trouvent à 46 km. ",
           66.81714285714285,
           0
          ],
          [
           48.59706233,
           -1.51303947,
           "Hotel Rose",
           "https://www.booking.com/hotel/fr/gue-de-beauvoir.fr.html?label=gen173nr-1FCAEoggI46AdIDVgEaBWIAQGYAQ24ARjIAQ_YAQHoAQH4AQKIAgGoAgS4Ara88JIGwAIB0gIkNWE4YjMwODktYjRkMy00ZDE1LTk4OTAtYjRiYTQwYmEyZmNh2AIF4AIB&sid=c4fdd21590cb73b4380894d200fc2e72&aid=304142&ucfs=1&arphpl=1&group_adults=2&req_adults=2&no_rooms=1&group_children=0&req_children=0&hpos=19&hapos=19&sr_order=popularity&srpvid=c0b562dc4881029f&srepoch=1650204219&from_sustainable_property_sr=1&from=searchresults#hotelTmpl",
           "Vous pouvez bénéficier d'une réduction Genius dans l'établissement Hotel Rose ! Connectez-vous pour économiser.Proposant des bungalows indépendants et bien conçus ainsi que des chambres installées dans l'annexe d'un bâtiment du XIXe siècle, l'Hotel Rose vous propose un séjour confortable et paisible.La résidence est située dans un parc verdoyant regorgeant d'arbres et de fleurs. Certains hébergements s'ouvrent sur la rivière qui mène au célèbre Mont-Saint-Michel et présentent un cadre reposant. Tous les bungalows sont indépendants et respectueux de l'environnement. Ils peuvent accueillir quatre personnes (ou cinq sur demande).Vous pourrez prendre un délicieux petit-déjeuner, déguster une boisson ou encore profiter d'un moment de détente sur la véranda du manoir ou à l'ombre des arbres.L'Hotel Rose dispose également d'un salon commun avec un piano, une connexion Wi-Fi gratuite, des jeux et de nombreux livres. À proximité, vous pourrez pratiquer la randonnée à pied ou le vélo en toute tranquillité, puis déguster une cuisine traditionnelle et régionale dans l'un des restaurants locaux. ",
           66.81714285714285,
           0
          ],
          [
           48.61591354,
           -1.46560172,
           "A L'Ombre du Mont St Michel",
           "https://www.booking.com/hotel/fr/a-l-ombre-du-mont-st-michel.fr.html?label=gen173nr-1FCAEoggI46AdIDVgEaBWIAQGYAQ24ARjIAQ_YAQHoAQH4AQKIAgGoAgS4Ara88JIGwAIB0gIkNWE4YjMwODktYjRkMy00ZDE1LTk4OTAtYjRiYTQwYmEyZmNh2AIF4AIB&sid=c4fdd21590cb73b4380894d200fc2e72&aid=304142&ucfs=1&arphpl=1&group_adults=2&req_adults=2&no_rooms=1&group_children=0&req_children=0&hpos=20&hapos=20&sr_order=popularity&srpvid=c0b562dc4881029f&srepoch=1650204219&from_sustainable_property_sr=1&from=searchresults#hotelTmpl",
           "Dotée d'une piscine extérieure et d'un jardin, la chambre d'hôtes A L'Ombre du Mont St Michel est située dans la campagne de Huisnes-sur-Mer, à seulement 2 km du Mont Saint-Michel. Une connexion Wi-Fi gratuite est accessible dans l'ensemble des pièces.Les chambres sont équipées d'un réfrigérateur, d'un micro-ondes, d'un bureau et d'un coin salon. Leur terrasse donne sur le jardin. Leur salle de bains privative est munie d’un sèche-cheveux ainsi que d’une baignoire ou d’une douche.Inclus dans le tarif, le petit-déjeuner est servi tous les matins en chambre. Il se compose de crêpes maison, de charcuterie, de fromage, de pain d'épices, de confiture et de fruits. Des œufs peuvent également être servis sur réservation préalable.Vous pourrez vous détendre dans le salon commun. Un parking privé est disponible gratuitement sur place. ",
           66.81714285714285,
           0
          ],
          [
           49.8916762,
           2.30775386,
           "Holiday Inn Express Amiens, an IHG Hotel",
           "https://www.booking.com/hotel/fr/express-by-holiday-inn.fr.html?label=gen173nr-1FCAEoggI46AdIDVgEaBWIAQGYAQ24ARjIAQ_YAQHoAQH4AQKIAgGoAgS4Ara88JIGwAIB0gIkNWE4YjMwODktYjRkMy00ZDE1LTk4OTAtYjRiYTQwYmEyZmNh2AIF4AIB&sid=c4fdd21590cb73b4380894d200fc2e72&aid=304142&ucfs=1&arphpl=1&group_adults=2&req_adults=2&no_rooms=1&group_children=0&req_children=0&hpos=1&hapos=1&sr_order=popularity&srpvid=486662e044b1000f&srepoch=1650204226&from_sustainable_property_sr=1&from=searchresults#hotelTmpl",
           "Rénové en avril 2015, le Holiday Inn Express Amiens comprend des chambres confortables avec une connexion Wi-Fi gratuite. Vous séjournerez dans le centre d’Amiens, à seulement 50 mètres de la gare et à 10 minutes à pied de la cathédrale.Desservis par un ascenseur, tous les hébergements incluent la climatisation, un coffre-fort, une machine à expresso et une télévision haute définition par satellite à écran plat.Chaque matin, le Holiday Inn Express Amiens sert gratuitement un petit-déjeuner buffet. Vous trouverez de nombreux restaurants dans les environs.Cet établissement non-fumeurs propose un bar, une salle de sport ainsi que des services de repassage et de blanchisserie. Situé dans les environs, un parking public souterrain est accessible aux voitures d’une hauteur maximale de 1,80 mètre. ",
           67.64,
           6
          ],
          [
           49.8953831,
           2.297772,
           "Le Majestic Cathédrale",
           "https://www.booking.com/hotel/fr/le-duplex-amiens-pleine-vue-cathedrale.fr.html?label=gen173nr-1FCAEoggI46AdIDVgEaBWIAQGYAQ24ARjIAQ_YAQHoAQH4AQKIAgGoAgS4Ara88JIGwAIB0gIkNWE4YjMwODktYjRkMy00ZDE1LTk4OTAtYjRiYTQwYmEyZmNh2AIF4AIB&sid=c4fdd21590cb73b4380894d200fc2e72&aid=304142&ucfs=1&arphpl=1&group_adults=2&req_adults=2&no_rooms=1&group_children=0&req_children=0&hpos=2&hapos=2&sr_order=popularity&srpvid=486662e044b1000f&srepoch=1650204226&from=searchresults#hotelTmpl",
           "Vous pouvez bénéficier d'une réduction Genius dans l'établissement Le Majestic Cathédrale ! Connectez-vous pour économiser.Situé à Amiens, à 1,7 km du Zénith, l'établissement Le Majestic Cathédrale propose un salon commun, une connexion Wi-Fi gratuite, une cuisine commune et un service d'étage. Offrant une vue sur la ville, il se trouve à 500 mètres du musée de Berny et à moins de 1 km du parc des jardins flottants.Cet appartement comprend 2 chambres, une cuisine avec lave-vaisselle, une télévision à écran plat, un coin salon et une salle de bains avec douche. Les serviettes et le linge de lit sont fournis.Un service de location de voitures est assuré sur place. La région est prisée pour pratiquer la randonnée.Vous séjournerez à 400 mètres du tribunal de grande instance d'Amiens et à 3,2 km de l'université de Picardie Jules Verne. L'aéroport de Beauvais-Tillé, le plus proche, est à 50 km. ",
           67.64,
           6
          ],
          [
           49.92513403,
           2.30457276,
           "Comfort Hotel Amiens Nord",
           "https://www.booking.com/hotel/fr/kyriad-amiens-nord-xml.fr.html?label=gen173nr-1FCAEoggI46AdIDVgEaBWIAQGYAQ24ARjIAQ_YAQHoAQH4AQKIAgGoAgS4Ara88JIGwAIB0gIkNWE4YjMwODktYjRkMy00ZDE1LTk4OTAtYjRiYTQwYmEyZmNh2AIF4AIB&sid=c4fdd21590cb73b4380894d200fc2e72&aid=304142&ucfs=1&arphpl=1&group_adults=2&req_adults=2&no_rooms=1&group_children=0&req_children=0&hpos=3&hapos=3&sr_order=popularity&srpvid=486662e044b1000f&srepoch=1650204226&from=searchresults#hotelTmpl",
           "Doté d’une terrasse, le Comfort Hotel Amiens Nord propose des hébergements à seulement 4 km du centre-ville d’Amiens. Des salles de réunion sont à votre disposition sur place. Un parking privé et une connexion Wi-Fi sont disponibles gratuitement.Les chambres disposent d’une télévision par satellite à écran plat. Leur salle de bains privative est pourvue d’une baignoire, d’un sèche-cheveux et d’articles de toilette gratuits.Un petit-déjeuner buffet est servi tous les matins.L’établissement se trouve à seulement 5 km du zoo, de la cathédrale et du centre historique d’Amiens. La gare d’Amiens est située à 4,5 km, et l’autoroute A16 est accessible à 20 km. ",
           67.64,
           6
          ],
          [
           49.89444519,
           2.30094239,
           "Hotel Le Prieuré et La Résidence",
           "https://www.booking.com/hotel/fr/le-prieure-amiens.fr.html?label=gen173nr-1FCAEoggI46AdIDVgEaBWIAQGYAQ24ARjIAQ_YAQHoAQH4AQKIAgGoAgS4Ara88JIGwAIB0gIkNWE4YjMwODktYjRkMy00ZDE1LTk4OTAtYjRiYTQwYmEyZmNh2AIF4AIB&sid=c4fdd21590cb73b4380894d200fc2e72&aid=304142&ucfs=1&arphpl=1&group_adults=2&req_adults=2&no_rooms=1&group_children=0&req_children=0&hpos=4&hapos=4&sr_order=popularity&srpvid=486662e044b1000f&srepoch=1650204226&from=searchresults#hotelTmpl",
           "L'Hotel Le Prieuré et La Résidence est situé dans le centre-ville d'Amiens, au pied de la cathédrale. Il propose une connexion Wi-Fi gratuite et des chambres décorées de manière personnalisée avec un mobilier d'époque.Les chambres du Prieuré et La Résidence comprennent une salle de bains privative munie d'une baignoire ou d'une douche. Elles comportent également une télévision et un sèche-cheveux.Un petit-déjeuner buffet est servi tous les matins dans la salle à manger du Prieuré ornée de lustres en cristal. Vous pourrez vous détendre sur la terrasse et dans la cour de l'établissement.L'Hotel Le Prieuré et La Résidence se trouve à seulement 900 mètres de la gare SNCF d'Amiens. L'aéroport d'Amiens-Glisy est à 15 minutes en voiture. ",
           67.64,
           6
          ],
          [
           49.88714842,
           2.3116109,
           "Odalys City Amiens Blamont",
           "https://www.booking.com/hotel/fr/appart-39-odalys-blamont.fr.html?label=gen173nr-1FCAEoggI46AdIDVgEaBWIAQGYAQ24ARjIAQ_YAQHoAQH4AQKIAgGoAgS4Ara88JIGwAIB0gIkNWE4YjMwODktYjRkMy00ZDE1LTk4OTAtYjRiYTQwYmEyZmNh2AIF4AIB&sid=c4fdd21590cb73b4380894d200fc2e72&aid=304142&ucfs=1&arphpl=1&group_adults=2&req_adults=2&no_rooms=1&group_children=0&req_children=0&hpos=5&hapos=5&sr_order=popularity&srpvid=486662e044b1000f&srepoch=1650204226&from_sustainable_property_sr=1&from=searchresults#hotelTmpl",
           "Vous pouvez bénéficier d'une réduction Genius dans l'établissement Odalys City Amiens Blamont ! Connectez-vous pour économiser.Situé à 2,8 km du Zénith d'Amiens et à 900 mètres du musée Berny à Amiens, l'Odalys City Amiens Blamont propose des hébergements avec une connexion Wi-Fi gratuite.Tous les studios comprennent une kitchenette entièrement équipée avec micro-ondes, une bouilloire et un réfrigérateur. Vous profiterez d'une télévision à écran plat.À pied, vous rejoindrez les jardins flottants d'Amiens en 13 minutes et le tribunal de grande instance d'Amiens en 11 minutes. L'aéroport de Paris-Beauvais-Tillé est situé à 50 km. ",
           67.64,
           6
          ],
          [
           49.894229,
           2.305778,
           "Les Augustins",
           "https://www.booking.com/hotel/fr/les-augustins-amiens.fr.html?label=gen173nr-1FCAEoggI46AdIDVgEaBWIAQGYAQ24ARjIAQ_YAQHoAQH4AQKIAgGoAgS4Ara88JIGwAIB0gIkNWE4YjMwODktYjRkMy00ZDE1LTk4OTAtYjRiYTQwYmEyZmNh2AIF4AIB&sid=c4fdd21590cb73b4380894d200fc2e72&aid=304142&ucfs=1&arphpl=1&group_adults=2&req_adults=2&no_rooms=1&group_children=0&req_children=0&hpos=6&hapos=6&sr_order=popularity&srpvid=486662e044b1000f&srepoch=1650204226&from=searchresults#hotelTmpl",
           "Vous pouvez bénéficier d'une réduction Genius dans l'établissement Les Augustins ! Connectez-vous pour économiser.Situé à Amiens, à proximité du musée Berny, du parc des jardins flottants et du tribunal de grande instance d'Amiens, l'établissement Les Augustins propose une connexion Wi-Fi gratuite.Tous les logements disposent d'une télévision par câble à écran plat, de matériel de repassage, d'une armoire et d'un coin salon avec un canapé. Leur cuisine est équipée d'un micro-ondes et d'un réfrigérateur. Leur salle de bains privative est pourvue d'une douche, d'un sèche-cheveux et d'articles de toilette gratuits.Vous séjournerez à 3 km du Zénith d'Amiens et à 5 km de l'université de Picardie Jules Verne. L'aéroport le plus proche, celui de Beauvais-Tillé, est situé à 64 km. ",
           67.64,
           6
          ],
          [
           49.89183258,
           2.30599433,
           "Hotel Central Anzac",
           "https://www.booking.com/hotel/fr/central-anzac.fr.html?label=gen173nr-1FCAEoggI46AdIDVgEaBWIAQGYAQ24ARjIAQ_YAQHoAQH4AQKIAgGoAgS4Ara88JIGwAIB0gIkNWE4YjMwODktYjRkMy00ZDE1LTk4OTAtYjRiYTQwYmEyZmNh2AIF4AIB&sid=c4fdd21590cb73b4380894d200fc2e72&aid=304142&ucfs=1&arphpl=1&group_adults=2&req_adults=2&no_rooms=1&group_children=0&req_children=0&hpos=7&hapos=7&sr_order=popularity&srpvid=486662e044b1000f&srepoch=1650204226&from=searchresults#hotelTmpl",
           "Bénéficiant d'un emplacement central, l'Hotel Central Anzac propose un hébergement moderne et un petit-déjeuner continental, à 2 minutes à pied de la gare et à 7 minutes de marche de la cathédrale d'Amiens.Décorées de tons chauds leur octroyant une atmosphère chaleureuse, les chambres comprennent une télévision par satellite et une connexion Wi-Fi.Chaque matin, le petit-déjeuner est servi dans le coin repas. Il est composé d'une sélection de pâtisseries fraîches faites maison et de confitures préparées à partir de produits de saison. Vous aurez la possibilité de choisir entre un petit-déjeuner continental et anglais complet. En outre, des journaux sont fournis à la réception.Enfin, l'hôtel est à 10 minutes à pied du quartier de Saint Leu et à 15 minutes des célèbres canaux. ",
           67.64,
           6
          ],
          [
           49.887694,
           2.294524,
           "Maison Longuevie",
           "https://www.booking.com/hotel/fr/longuevie.fr.html?label=gen173nr-1FCAEoggI46AdIDVgEaBWIAQGYAQ24ARjIAQ_YAQHoAQH4AQKIAgGoAgS4Ara88JIGwAIB0gIkNWE4YjMwODktYjRkMy00ZDE1LTk4OTAtYjRiYTQwYmEyZmNh2AIF4AIB&sid=c4fdd21590cb73b4380894d200fc2e72&aid=304142&ucfs=1&arphpl=1&group_adults=2&req_adults=2&no_rooms=1&group_children=0&req_children=0&hpos=8&hapos=8&sr_order=popularity&srpvid=486662e044b1000f&srepoch=1650204226&from=searchresults#hotelTmpl",
           "Vous pouvez bénéficier d'une réduction Genius dans l'établissement Maison Longuevie ! Connectez-vous pour économiser.Doté d’un jardin et d’une terrasse, le Maison Longuevie propose des hébergements avec une télévision à écran plat et une connexion Wi-Fi gratuite à Amiens, à 400 mètres du musée de Picardie.Un petit-déjeuner continental est servi sur place.Cette chambre d’hôtes se trouve à 1,9 km des hortillonnages et du Zénith d'Amiens. L’aéroport le plus proche, celui de Beauvais-Tillé, est situé à 62 km. ",
           67.64,
           6
          ],
          [
           49.90235783,
           2.31428465,
           "Gite Amiens",
           "https://www.booking.com/hotel/fr/gite-amiens.fr.html?label=gen173nr-1FCAEoggI46AdIDVgEaBWIAQGYAQ24ARjIAQ_YAQHoAQH4AQKIAgGoAgS4Ara88JIGwAIB0gIkNWE4YjMwODktYjRkMy00ZDE1LTk4OTAtYjRiYTQwYmEyZmNh2AIF4AIB&sid=c4fdd21590cb73b4380894d200fc2e72&aid=304142&ucfs=1&arphpl=1&group_adults=2&req_adults=2&no_rooms=1&group_children=0&req_children=0&hpos=9&hapos=9&sr_order=popularity&srpvid=486662e044b1000f&srepoch=1650204226&from=searchresults#hotelTmpl",
           "Vous pouvez bénéficier d'une réduction Genius dans l'établissement Gite Amiens ! Connectez-vous pour économiser.Situé à Amiens, à seulement 5 minutes à pied du parc Saint-Pierre, le Gite Amiens dispose d'une terrasse avec mobilier de jardin. La gare d'Amiens est idéalement située à 1,4 km.Cette maison de vacances mitoyenne dispose d'un coin salon, d'une télévision, d'une salle de bains avec douche et de 3 chambres. La cuisine est entièrement équipée avec un four, un four micro-ondes et un lave-vaisselle.Vous trouverez des épiceries et des restaurants à quelques minutes de marche. Une connexion Wi-Fi est disponible gratuitement. Le centre-ville est à 2 km et la salle de concert Zénith d'Amiens à 3 km. ",
           67.64,
           6
          ],
          [
           49.8965252,
           2.2825902,
           "Le toit des Fédérés",
           "https://www.booking.com/hotel/fr/le-toit-des-federes.fr.html?label=gen173nr-1FCAEoggI46AdIDVgEaBWIAQGYAQ24ARjIAQ_YAQHoAQH4AQKIAgGoAgS4Ara88JIGwAIB0gIkNWE4YjMwODktYjRkMy00ZDE1LTk4OTAtYjRiYTQwYmEyZmNh2AIF4AIB&sid=c4fdd21590cb73b4380894d200fc2e72&aid=304142&ucfs=1&arphpl=1&group_adults=2&req_adults=2&no_rooms=1&group_children=0&req_children=0&hpos=10&hapos=10&sr_order=popularity&srpvid=486662e044b1000f&srepoch=1650204226&from=searchresults#hotelTmpl",
           "Vous pouvez bénéficier d'une réduction Genius dans l'établissement Le toit des Fédérés ! Connectez-vous pour économiser.Situé à Amiens, à seulement 1 km du Zénith, l'établissement Le toit des Fédérés propose un hébergement avec vue sur la ville. Vous bénéficierez gratuitement d'une connexion Wi-Fi et d'un parking privé. Cet appartement se trouve à 1,7 km du tribunal de grande instance d'Amiens et à 3,5 km de l'université de Picardie Jules Verne.Cet appartement comprend 2 chambres, une télévision à écran plat, un coin salon et une salle de bains. Sa cuisine est équipée d'un micro-ondes et d'un réfrigérateur. Les serviettes et le linge de lit sont fournis.Vous séjournerez à 3 km du musée Berny et du parc des jardins flottants. L'aéroport le plus proche, celui de Beauvais-Tillé, est situé à 53 km. ",
           67.64,
           6
          ],
          [
           49.89193885,
           2.30575562,
           "Au Spatial",
           "https://www.booking.com/hotel/fr/au-spatial.fr.html?label=gen173nr-1FCAEoggI46AdIDVgEaBWIAQGYAQ24ARjIAQ_YAQHoAQH4AQKIAgGoAgS4Ara88JIGwAIB0gIkNWE4YjMwODktYjRkMy00ZDE1LTk4OTAtYjRiYTQwYmEyZmNh2AIF4AIB&sid=c4fdd21590cb73b4380894d200fc2e72&aid=304142&ucfs=1&arphpl=1&group_adults=2&req_adults=2&no_rooms=1&group_children=0&req_children=0&hpos=11&hapos=11&sr_order=popularity&srpvid=486662e044b1000f&srepoch=1650204226&from_sustainable_property_sr=1&from=searchresults#hotelTmpl",
           "L'établissement Au Spatial est situé au cœur d'Amiens. La gare et la cathédrale de la ville se trouvent respectivement à 2 minutes et 6 minutes de marche. Une connexion Wi-Fi est disponible gratuitement.Toutes les chambres comportent une télévision à écran plat avec les chaînes Canal + et BBC. Leur salle de bains privative est pourvue d'une douche ou d'une baignoire.Un petit-déjeuner buffet est servi chaque matin dans la salle prévue à cette effet. Le buffet comprend des confitures maison, des céréales, des viennoiseries, du pain, du fromage, de la charcuterie et des yaourts.Le zoo d'Amiens est situé à 3 km de l'hôtel Au Spatial. Un parking privé est à votre disposition sur place, moyennant un supplément journalier et sous réserve de disponibilité. ",
           67.64,
           6
          ],
          [
           49.89013675,
           2.29853201,
           "Charmant T2 Hyper-centre, Netflix, Gare",
           "https://www.booking.com/hotel/fr/charmant-t2-hyper-centre-netflix-gare.fr.html?label=gen173nr-1FCAEoggI46AdIDVgEaBWIAQGYAQ24ARjIAQ_YAQHoAQH4AQKIAgGoAgS4Ara88JIGwAIB0gIkNWE4YjMwODktYjRkMy00ZDE1LTk4OTAtYjRiYTQwYmEyZmNh2AIF4AIB&sid=c4fdd21590cb73b4380894d200fc2e72&aid=304142&ucfs=1&arphpl=1&group_adults=2&req_adults=2&no_rooms=1&group_children=0&req_children=0&hpos=12&hapos=12&sr_order=popularity&srpvid=486662e044b1000f&srepoch=1650204226&from=searchresults#hotelTmpl",
           "Situé à Amiens, à 400 mètres du musée Berny, le Charmant T2 Hyper-centre, Netflix, Gare dispose d'un salon avec une télévision. Il se trouve à 1,9 km du Zénith d'Amiens et dispose d'une connexion Wi-Fi gratuite ainsi que d'une réception ouverte 24h/24.Cet appartement comprend une chambre, un lave-linge et une salle de bains pourvue d'un sèche-cheveux. Sa cuisine est équipée d'un micro-ondes et d'un réfrigérateur.Vous séjournerez à 1,2 km du parc des jardins flottants et à 400 mètres du tribunal de grande instance d'Amiens. L'aéroport de Beauvais-Tillé, le plus proche, est à 50 km. ",
           67.64,
           6
          ],
          [
           49.889702,
           2.2984392,
           "Une Maison en ville, Chambre d'hôtes, Hyper centre d'Amiens",
           "https://www.booking.com/hotel/fr/une-maison-en-ville-amiens.fr.html?label=gen173nr-1FCAEoggI46AdIDVgEaBWIAQGYAQ24ARjIAQ_YAQHoAQH4AQKIAgGoAgS4Ara88JIGwAIB0gIkNWE4YjMwODktYjRkMy00ZDE1LTk4OTAtYjRiYTQwYmEyZmNh2AIF4AIB&sid=c4fdd21590cb73b4380894d200fc2e72&aid=304142&ucfs=1&arphpl=1&group_adults=2&req_adults=2&no_rooms=1&group_children=0&req_children=0&hpos=13&hapos=13&sr_order=popularity&srpvid=486662e044b1000f&srepoch=1650204226&from=searchresults#hotelTmpl",
           "Vous pouvez bénéficier d'une réduction Genius dans l'établissement Une Maison en ville, Chambre d'hôtes, Hyper centre d'Amiens ! Connectez-vous pour économiser.Doté d’un jardin, d’un salon commun et d’une connexion Wi-Fi gratuite, l’établissement Une Maison En Ville Chambre d’hotes propose des hébergements à Amiens, à 1,7 km des Hortillonnages et à 2,5 km du Zénith d'Amiens.Toutes les chambres comprennent une salle de bains privative pourvue d’une douche, d’un sèche-cheveux et d’articles de toilette gratuits.Cette chambre d'hôtes sert un petit-déjeuner continental tous les matins.Vous pourrez également profiter d’une terrasse.L'établissement Une Maison En Ville Chambre d’hotes se trouve à 700 mètres de la cathédrale Notre-Dame d’Amiens et à 2,2 km du musée de l’Hôtel de Berny ainsi que du tribunal de grande instance d’Amiens. L’aéroport le plus proche, celui de Beauvais-Tillé, est situé à 62 km. ",
           67.64,
           6
          ],
          [
           49.887125,
           2.295143,
           "Ginkgo Maison d'hôtes",
           "https://www.booking.com/hotel/fr/ginkgo-maison-d-39-hotes.fr.html?label=gen173nr-1FCAEoggI46AdIDVgEaBWIAQGYAQ24ARjIAQ_YAQHoAQH4AQKIAgGoAgS4Ara88JIGwAIB0gIkNWE4YjMwODktYjRkMy00ZDE1LTk4OTAtYjRiYTQwYmEyZmNh2AIF4AIB&sid=c4fdd21590cb73b4380894d200fc2e72&aid=304142&ucfs=1&arphpl=1&group_adults=2&req_adults=2&no_rooms=1&group_children=0&req_children=0&hpos=14&hapos=14&sr_order=popularity&srpvid=486662e044b1000f&srepoch=1650204226&from=searchresults#hotelTmpl",
           "Installé à Amiens, à moins de 2,3 km du Zénith, le Ginkgo Maison d’hôtes propose un service de concierge, des chambres non-fumeurs, un salon commun, un jardin et une connexion Wi-Fi gratuite dans l’ensemble des locaux. Cet établissement possède des chambres familiales et une terrasse bien exposée. Vous séjournerez à 2,2 km du tribunal de grande instance d’Amiens et à 3,5 km de l’université de Picardie Jules Verne.Les chambres de la maison d'hôtes disposent d’un bureau, d’une télévision à écran plat et d’une salle de bains privative. Le linge de lit et les serviettes de toilette sont fournis. Certaines chambres offrent une vue sur la ville et toutes sont équipées d'une machine à café. Les logements comportent une armoire et une bouilloire.Un petit-déjeuner continental est servi le matin.Les hortillonnages se trouvent à 1,8 km du Ginkgo Maison d'hôtes, tandis que le musée de Berny est à 2,1 km. L’aéroport de Paris-Beauvais-Tillé, le plus proche, est situé à 53 km de la maison d'hôtes. ",
           67.64,
           6
          ],
          [
           49.888542,
           2.331349,
           "Comme une parenthèse au coeur des hortillonnages",
           "https://www.booking.com/hotel/fr/comme-une-parenthese-au-coeur-des-hortillonnages.fr.html?label=gen173nr-1FCAEoggI46AdIDVgEaBWIAQGYAQ24ARjIAQ_YAQHoAQH4AQKIAgGoAgS4Ara88JIGwAIB0gIkNWE4YjMwODktYjRkMy00ZDE1LTk4OTAtYjRiYTQwYmEyZmNh2AIF4AIB&sid=c4fdd21590cb73b4380894d200fc2e72&aid=304142&ucfs=1&arphpl=1&group_adults=2&req_adults=2&no_rooms=1&group_children=0&req_children=0&hpos=15&hapos=15&sr_order=popularity&srpvid=486662e044b1000f&srepoch=1650204226&from=searchresults#hotelTmpl",
           "Vous pouvez bénéficier d'une réduction Genius dans l'établissement Comme une parenthèse au coeur des hortillonnages ! Connectez-vous pour économiser.Situé à Amiens, à moins de 5 km du Zénith d'Amiens et à 2 km du parc des jardins flottants, l'établissement Comme une parenthèse au coeur des hortillonnages propose des hébergements avec un jardin. Vous bénéficierez gratuitement d'une connexion Wi-Fi et d'un parking privé. Il propose des chambres familiales et un barbecue. Vous pourrez profiter d'une vue sur le jardin.Toutes les chambres de cette maison d'hôtes comprennent une armoire, une terrasse avec vue sur la rivière, une salle de bains privative, une télévision, du linge de lit et des serviettes. Toutes les chambres du Comme une parenthèse au coeur des hortillonnages comprennent un coin salon.Un petit-déjeuner continental est servi sur place.Vous pourrez pratiquer diverses activités à Amiens et dans ses environs, telles que le vélo, la pêche et le canoë-kayak.Vous séjournerez à 2,5 km du musée Berny et à 2,6 km du tribunal de grande instance d'Amiens. L'aéroport le plus proche, celui de Beauvais-Tillé, est situé à 65 km. ",
           67.64,
           6
          ],
          [
           49.885365,
           2.269669,
           "Le Vivier",
           "https://www.booking.com/hotel/fr/le-vivier-amiens.fr.html?label=gen173nr-1FCAEoggI46AdIDVgEaBWIAQGYAQ24ARjIAQ_YAQHoAQH4AQKIAgGoAgS4Ara88JIGwAIB0gIkNWE4YjMwODktYjRkMy00ZDE1LTk4OTAtYjRiYTQwYmEyZmNh2AIF4AIB&sid=c4fdd21590cb73b4380894d200fc2e72&aid=304142&ucfs=1&arphpl=1&group_adults=2&req_adults=2&no_rooms=1&group_children=0&req_children=0&hpos=16&hapos=16&sr_order=popularity&srpvid=486662e044b1000f&srepoch=1650204226&from=searchresults#hotelTmpl",
           "Vous pouvez bénéficier d'une réduction Genius dans l'établissement Le Vivier ! Connectez-vous pour économiser.Situé à Amiens, à 1,9 km du Zénith, l'établissement Le Vivier propose un restaurant, un parking privé gratuit, un bar et un salon commun. Doté d'un jardin et d'une terrasse, il se trouve à 3,7 km du musée Berny et du parc des jardins flottants. Il propose une réception ouverte 24h/24 et un service d'étage.Les chambres comprennent un bureau, une télévision à écran plat, une salle de bains privative, du linge de lit et des serviettes. Chaque chambre dispose d'un coffre-fort et d'une connexion Wi-Fi gratuite. Certaines offrent une vue sur le jardin. Toutes comprennent une armoire et une bouilloire.Le Vivier sert un petit-déjeuner continental ou anglais/irlandais complet.Vous pourrez pratiquer diverses activités à Amiens et dans ses environs, telles que le golf.Un centre d'affaires ainsi que des salles de réunion et de banquet sont également disponibles sur place.Vous séjournerez à 2,7 km de l'université de Picardie Jules Verne et à 3,7 km du tribunal de grande instance d'Amiens. L'aéroport le plus proche, celui de Beauvais-Tillé, est situé à 62 km. ",
           67.64,
           6
          ],
          [
           49.891422,
           2.304996,
           "ibis Styles Amiens Centre",
           "https://www.booking.com/hotel/fr/ibis-styles-amiens-centre.fr.html?label=gen173nr-1FCAEoggI46AdIDVgEaBWIAQGYAQ24ARjIAQ_YAQHoAQH4AQKIAgGoAgS4Ara88JIGwAIB0gIkNWE4YjMwODktYjRkMy00ZDE1LTk4OTAtYjRiYTQwYmEyZmNh2AIF4AIB&sid=c4fdd21590cb73b4380894d200fc2e72&aid=304142&ucfs=1&arphpl=1&group_adults=2&req_adults=2&no_rooms=1&group_children=0&req_children=0&hpos=17&hapos=17&sr_order=popularity&srpvid=486662e044b1000f&srepoch=1650204226&from_sustainable_property_sr=1&from=searchresults#hotelTmpl",
           "Situé à Amiens, à 3,4 km du Zénith, l'ibis Styles Amiens Centre propose des chambres climatisées et un bar. Il propose une réception ouverte 24h/24, un salon commun et une connexion Wi-Fi gratuite dans l'ensemble de ses locaux. L'hôtel propose des chambres familiales.Toutes les chambres comprennent une armoire, une télévision à écran plat, une salle de bains privative, du linge de lit et des serviettes.L'ibis Styles Amiens Centre sert un petit-déjeuner continental ou buffet.Une terrasse bien exposée est présente.Vous séjournerez à proximité du musée Berny, du parc des jardins flottants et du tribunal de grande instance d'Amiens. L'aéroport de Beauvais-Tillé, le plus proche, est implanté à 64 km. ",
           67.64,
           6
          ],
          [
           49.891591,
           2.313573,
           "ibis budget Amiens Centre Gare",
           "https://www.booking.com/hotel/fr/ibis-budget-amiens-centre-gare.fr.html?label=gen173nr-1FCAEoggI46AdIDVgEaBWIAQGYAQ24ARjIAQ_YAQHoAQH4AQKIAgGoAgS4Ara88JIGwAIB0gIkNWE4YjMwODktYjRkMy00ZDE1LTk4OTAtYjRiYTQwYmEyZmNh2AIF4AIB&sid=c4fdd21590cb73b4380894d200fc2e72&aid=304142&ucfs=1&arphpl=1&group_adults=2&req_adults=2&no_rooms=1&group_children=0&req_children=0&hpos=18&hapos=18&sr_order=popularity&srpvid=486662e044b1000f&srepoch=1650204226&from_sustainable_property_sr=1&from=searchresults#hotelTmpl",
           "L'ibis budget Amiens Centre Gare est situé dans le centre-ville d'Amiens, à 5 minutes à pied de la gare d'Amiens et à 15 minutes à pied de la cathédrale Notre-Dame d'Amiens. L'hôtel propose une connexion Wi-Fi gratuite.Toutes les chambres climatisées disposent d'une télévision à écran plat et d'une salle de bains privative équipée d'une douche.Un petit-déjeuner buffet est servi sur place tous les matins.Enfin, l'aéroport de Paris Beauvais-Tillé, le plus proche, est implanté à 50 km. ",
           67.64,
           6
          ],
          [
           49.89571084,
           2.29956239,
           "Mercure Amiens Cathédrale",
           "https://www.booking.com/hotel/fr/mercure-amiens-cathdrale.fr.html?label=gen173nr-1FCAEoggI46AdIDVgEaBWIAQGYAQ24ARjIAQ_YAQHoAQH4AQKIAgGoAgS4Ara88JIGwAIB0gIkNWE4YjMwODktYjRkMy00ZDE1LTk4OTAtYjRiYTQwYmEyZmNh2AIF4AIB&sid=c4fdd21590cb73b4380894d200fc2e72&aid=304142&ucfs=1&arphpl=1&group_adults=2&req_adults=2&no_rooms=1&group_children=0&req_children=0&hpos=19&hapos=19&sr_order=popularity&srpvid=486662e044b1000f&srepoch=1650204226&from_sustainable_property_sr=1&from=searchresults#hotelTmpl",
           "L’hôtel 4 étoiles Mercure Amiens Cathédrale vous accueille en face de la plus grande cathédrale médiévale de France, classée au patrimoine mondial de l'Unesco.D’une superficie comprise entre 25 et 41m2, toutes les chambres et suites ont été récemment rénovées. Spacieuses et insonorisées, elles bénéficient de la climatisation en été. Les hébergements sont équipés d'une connexion Wi-Fi gratuite et d'une télévision par satellite à écran plat recevant des chaînes françaises et internationales. Vous bénéficierez également d’un plateau/bouilloire et d’un minibar comportant une bouteille d'eau gratuite.Sur place, le restaurant l'Échanson sert une large gamme de plats raffinés ainsi que des spécialités à base de produits locaux et régionaux. ",
           67.64,
           6
          ],
          [
           49.891999,
           2.29197,
           "ibis Amiens Centre Cathedrale",
           "https://www.booking.com/hotel/fr/ibis-amiens-centre-cathedrale.fr.html?label=gen173nr-1FCAEoggI46AdIDVgEaBWIAQGYAQ24ARjIAQ_YAQHoAQH4AQKIAgGoAgS4Ara88JIGwAIB0gIkNWE4YjMwODktYjRkMy00ZDE1LTk4OTAtYjRiYTQwYmEyZmNh2AIF4AIB&sid=c4fdd21590cb73b4380894d200fc2e72&aid=304142&ucfs=1&arphpl=1&group_adults=2&req_adults=2&no_rooms=1&group_children=0&req_children=0&hpos=20&hapos=20&sr_order=popularity&srpvid=486662e044b1000f&srepoch=1650204226&from_sustainable_property_sr=1&from=searchresults#hotelTmpl",
           "Doté d'un restaurant et d'une connexion Wi-Fi gratuite, l'ibis Amiens Centre Cathédrale est situé dans le centre d'Amiens.Les chambres possèdent une télévision à écran plat et un bureau. Les salles de bains privatives sont pourvues d'une douche.L'hôtel comporte une réception ouverte 24h/24, un bar, un snack-bar et une bagagerie. Vous savourerez quotidiennement un petit-déjeuner buffet composé de plats sucrés et salés, parmi lesquels des œufs, de la salade de fruits, des yaourts et des jus de fruits. Des viennoiseries cuites sur place et des madeleines fraîches sont aussi proposées, ainsi qu'une boisson chaude et un fruit à emporter. Un petit-déjeuner plus léger est servi à partir de 4h00.Vous séjournerez à 1,3 km du Zénith d'Amiens, à 800 mètres du Musée de l'Hôtel de Berny et à 1,1 km de la gare ferroviaire d'Amiens. L'aéroport de Beauvais-Tillé se trouve à 50 km. Le parking est accessible moyennant des frais supplémentaires. ",
           67.64,
           6
          ],
          [
           49.446441,
           1.09412,
           "Radisson Blu Hotel, Rouen Centre",
           "https://www.booking.com/hotel/fr/radisson-blu-rouen-centre.fr.html?label=gen173nr-1FCAEoggI46AdIDVgEaBWIAQGYAQ24ARjIAQ_YAQHoAQH4AQKIAgGoAgS4Ara88JIGwAIB0gIkNWE4YjMwODktYjRkMy00ZDE1LTk4OTAtYjRiYTQwYmEyZmNh2AIF4AIB&sid=c4fdd21590cb73b4380894d200fc2e72&aid=304142&ucfs=1&arphpl=1&group_adults=2&req_adults=2&no_rooms=1&group_children=0&req_children=0&hpos=1&hapos=1&sr_order=popularity&srpvid=946262e0abff0002&srepoch=1650204225&from_sustainable_property_sr=1&from=searchresults#hotelTmpl",
           "Vous pouvez bénéficier d'une réduction Genius dans l'établissement Radisson Blu Hotel, Rouen Centre ! Connectez-vous pour économiser.Situé à Rouen, le Radisson Blu Hotel, Rouen Centre dispose d'un restaurant servant des plats locaux de haute qualité, d'une salle de sport, d'un bar et d'un salon commun. Il propose des chambres familiales et une terrasse. Il propose une réception ouverte 24h/24, un service de navette, un service d'étage et une connexion Wi-Fi gratuite.Toutes les chambres comprennent une armoire, une télévision et une salle de bains privative.Le Radisson Blu Hotel, Rouen Centre sert un petit-déjeuner continental ou buffet.L'établissement possède également un centre d'affaires et vous pourrez consulter les journaux du Radisson Blu Hotel, Rouen Centre. Un parking privé est disponible moyennant des frais supplémentaires.La cathédrale Notre-Dame de Rouen se trouve à 700 mètres de l'hôtel. Enfin, l'aéroport de Deauville-Normandie, le plus proche, est implanté à 68 km du Radisson Blu Hotel, Rouen Centre. ",
           68.42,
           4
          ],
          [
           49.4446518,
           1.0913262,
           "Maison hypercentre Rouen tout confort",
           "https://www.booking.com/hotel/fr/maison-hypercentre-rouen-tout-confort.fr.html?label=gen173nr-1FCAEoggI46AdIDVgEaBWIAQGYAQ24ARjIAQ_YAQHoAQH4AQKIAgGoAgS4Ara88JIGwAIB0gIkNWE4YjMwODktYjRkMy00ZDE1LTk4OTAtYjRiYTQwYmEyZmNh2AIF4AIB&sid=c4fdd21590cb73b4380894d200fc2e72&aid=304142&ucfs=1&arphpl=1&group_adults=2&req_adults=2&no_rooms=1&group_children=0&req_children=0&hpos=2&hapos=2&sr_order=popularity&srpvid=946262e0abff0002&srepoch=1650204225&from=searchresults#hotelTmpl",
           "Vous pouvez bénéficier d'une réduction Genius dans l'établissement Maison hypercentre Rouen tout confort ! Connectez-vous pour économiser.Située dans le centre de Rouen, à seulement 700 mètres de la cathédrale Notre-Dame, la Maison hypercentre Rouen tout confort offre une vue sur la ville et propose une connexion Wi-Fi gratuite.Cet appartement comprend 2 chambres, une télévision par satellite à écran plat, une cuisine équipée d'un lave-vaisselle et d'un micro-ondes ainsi qu'une salle de bains pourvue d'une douche.Enfin, l'aéroport de Deauville-Normandie, le plus proche, est implanté à 68 km de la Maison hypercentre Rouen tout confort. ",
           68.42,
           4
          ],
          [
           49.44306423,
           1.08660311,
           "Best Western Plus Hotel Litteraire Gustave Flaubert",
           "https://www.booking.com/hotel/fr/hotellitterairegustaveflaubert.fr.html?label=gen173nr-1FCAEoggI46AdIDVgEaBWIAQGYAQ24ARjIAQ_YAQHoAQH4AQKIAgGoAgS4Ara88JIGwAIB0gIkNWE4YjMwODktYjRkMy00ZDE1LTk4OTAtYjRiYTQwYmEyZmNh2AIF4AIB&sid=c4fdd21590cb73b4380894d200fc2e72&aid=304142&ucfs=1&arphpl=1&group_adults=2&req_adults=2&no_rooms=1&group_children=0&req_children=0&hpos=3&hapos=3&sr_order=popularity&srpvid=946262e0abff0002&srepoch=1650204225&from_sustainable_property_sr=1&from=searchresults#hotelTmpl",
           "Vous pouvez bénéficier d'une réduction Genius dans l'établissement Best Western Plus Hotel Litteraire Gustave Flaubert ! Connectez-vous pour économiser.Situé dans le centre historique de Rouen, à 3 km du Kindarena, le Best Western Plus Hotel Litteraire Gustave Flaubert propose des hébergements à la décoration inspirée par l’œuvre littéraire de Gustave Flaubert. Une connexion Wi-Fi gratuite est accessible dans l’ensemble de l’établissement.Les chambres élégantes disposent d’une télévision par satellite à écran plat. Chacune est également pourvue d’une salle de bains privative. Certaines possèdent une station d'accueil pour iPod.Chaque matin, le petit-déjeuner vous sera servi dans la salle dédiée ou dans le confort de votre chambre. Après une journée bien remplie, vous pourrez vous détendre en savourant un verre dans le salon à cocktails de l’hôtel. Par ailleurs, vous trouverez de nombreux restaurants français et internationaux dans les environs.Vous séjournerez à seulement 10 minutes de marche de la cathédrale Notre-Dame de Rouen et à 800 mètres du musée des Beaux-Arts. Un parking privé est accessible sur réservation et moyennant des frais supplémentaires. Des places de stationnement publiques sont également disponibles autour du BEST WESTERN Hôtel Littéraire Gustave Flaubert. ",
           68.42,
           4
          ],
          [
           49.44332714,
           1.09457396,
           "Le Vieux Carré",
           "https://www.booking.com/hotel/fr/le-vieux-carre.fr.html?label=gen173nr-1FCAEoggI46AdIDVgEaBWIAQGYAQ24ARjIAQ_YAQHoAQH4AQKIAgGoAgS4Ara88JIGwAIB0gIkNWE4YjMwODktYjRkMy00ZDE1LTk4OTAtYjRiYTQwYmEyZmNh2AIF4AIB&sid=c4fdd21590cb73b4380894d200fc2e72&aid=304142&ucfs=1&arphpl=1&group_adults=2&req_adults=2&no_rooms=1&group_children=0&req_children=0&hpos=4&hapos=4&sr_order=popularity&srpvid=946262e0abff0002&srepoch=1650204225&from=searchresults#hotelTmpl",
           "L'hôtel Le Vieux Carré est situé dans le centre de Rouen, dans une zone piétonne, à seulement 850 mètres de la gare de Rouen-Rive-Droite. Il dispose de chambres avec salle de bains privative ainsi que d'une cour intérieure fleurie et arborée.Le restaurant du Vieux Carré sert tous les jours un petit-déjeuner continental et le déjeuner. Dans l'après-midi, il se transforme en salon de thé servant des pâtisseries gastronomiques. Vous pourrez prendre vos repas en plein air, dans la cour.Chaque chambre du Vieux Carré est équipée d'une télévision et d'un téléphone. Leur salles de bains privatives sont pourvues d'une baignoire. De plus, une connexion Wi-Fi est mise gratuitement à votre disposition dans l'ensemble de l'établissement.La salon commun est agrémenté de poutres apparentes et d'un mobilier en bois. Vous apprécierez de vous détendre dans les fauteuils au coin du feu.Le Vieux Carré se trouve à 400 mètres de la cathédrale Notre-Dame et à 450 mètres du musée des Beaux-Arts de Rouen. Vous trouverez un parking public à proximité. ",
           68.42,
           4
          ],
          [
           49.43948371,
           1.08725488,
           "Kyriad Direct Rouen Centre Gare",
           "https://www.booking.com/hotel/fr/hotelleviking.fr.html?label=gen173nr-1FCAEoggI46AdIDVgEaBWIAQGYAQ24ARjIAQ_YAQHoAQH4AQKIAgGoAgS4Ara88JIGwAIB0gIkNWE4YjMwODktYjRkMy00ZDE1LTk4OTAtYjRiYTQwYmEyZmNh2AIF4AIB&sid=c4fdd21590cb73b4380894d200fc2e72&aid=304142&ucfs=1&arphpl=1&group_adults=2&req_adults=2&no_rooms=1&group_children=0&req_children=0&hpos=5&hapos=5&sr_order=popularity&srpvid=946262e0abff0002&srepoch=1650204225&from_sustainable_property_sr=1&from=searchresults#hotelTmpl",
           "Vous pouvez bénéficier d'une réduction Genius dans l'établissement Kyriad Direct Rouen Centre Gare ! Connectez-vous pour économiser.Situé au cœur de Rouen, cet hôtel propose une connexion Wi-Fi payante. Doté d’une terrasse offrant une vue dégagée sur la Seine, cet hôtel se trouve à 1,2 km de la cathédrale de Rouen.Toutes les chambres disposent d'une télévision par satellite à écran plat avec des chaînes internationales. Elles comprennent une salle de bains privative, et certaines possèdent un balcon privé donnant sur le fleuve.Un petit-déjeuner est servi tous les matins, et vous pourrez prendre un verre dans le bar-salon de l’établissement.Un parking public payant se trouve à proximité, et l'hôtel se situe à 10 minutes de la gare de Rouen-Rive-Droite. ",
           68.42,
           4
          ],
          [
           49.44117285,
           1.09517545,
           "Mercure Rouen Centre Cathédrale",
           "https://www.booking.com/hotel/fr/mercure-rouen-centre.fr.html?label=gen173nr-1FCAEoggI46AdIDVgEaBWIAQGYAQ24ARjIAQ_YAQHoAQH4AQKIAgGoAgS4Ara88JIGwAIB0gIkNWE4YjMwODktYjRkMy00ZDE1LTk4OTAtYjRiYTQwYmEyZmNh2AIF4AIB&sid=c4fdd21590cb73b4380894d200fc2e72&aid=304142&ucfs=1&arphpl=1&group_adults=2&req_adults=2&no_rooms=1&group_children=0&req_children=0&hpos=6&hapos=6&sr_order=popularity&srpvid=946262e0abff0002&srepoch=1650204225&from_sustainable_property_sr=1&from=searchresults#hotelTmpl",
           "Le Mercure Rouen Centre Cathédrale propose des chambres climatisées dotées d'une télévision par satellite, d'une connexion Wi-Fi gratuite et d'une salle de bains privative dans le centre de Rouen, à 160 mètres de la cathédrale Notre-Dame et à 3 km du palais des sports de Rouen.L'établissement sert un petit-déjeuner complet que vous pourrez déguster dans le confort de votre chambre. Un petit-déjeuner express est également disponible. Vous pourrez par ailleurs prendre un verre au bar de l'hôtel.Le Mercure Rouen Centre se trouve à seulement quelques pas de la place du Vieux Marché et du Gros-Horloge. La gare de Rouen est située à seulement 1 km. L'établissement met un parking privé souterrain à votre disposition. ",
           68.42,
           4
          ],
          [
           49.44197641,
           1.09243892,
           "Les Initiés",
           "https://www.booking.com/hotel/fr/les-inities-rouen.fr.html?label=gen173nr-1FCAEoggI46AdIDVgEaBWIAQGYAQ24ARjIAQ_YAQHoAQH4AQKIAgGoAgS4Ara88JIGwAIB0gIkNWE4YjMwODktYjRkMy00ZDE1LTk4OTAtYjRiYTQwYmEyZmNh2AIF4AIB&sid=c4fdd21590cb73b4380894d200fc2e72&aid=304142&ucfs=1&arphpl=1&group_adults=2&req_adults=2&no_rooms=1&group_children=0&req_children=0&hpos=7&hapos=7&sr_order=popularity&srpvid=946262e0abff0002&srepoch=1650204225&from=searchresults#hotelTmpl",
           "Installé au cœur du centre historique de Rouen, l'établissement Les Initiés est situé à seulement 10 minutes à pied de la gare de Rouen-Rive-Droite et à 3 km du stade Kindarena. En face du palais de justice, il propose des chambres décorées de façon personnalisée avec une connexion Wi-Fi gratuite et une salle de bains privative.Un petit-déjeuner continental vous sera servi tous les matins du lundi au samedi. Il est disponible le dimanche sur réservation. Offrant une vue sur le palais de justice, le bar-brasserie des Initiés prépare une cuisine régionale.Le Gros-Horloge vous attend à seulement 150 mètres de l'Hôtel Les Initiés, tandis que la cathédrale Notre-Dame se trouve à 5 minutes à pied. L'emplacement de l'établissement est idéal pour découvrir la capitale historique de Normandie. ",
           68.42,
           4
          ],
          [
           49.444544,
           1.091178,
           "L'Autel - Jaccuzi - Centre d'historique",
           "https://www.booking.com/hotel/fr/l-39-autel-rouen.fr.html?label=gen173nr-1FCAEoggI46AdIDVgEaBWIAQGYAQ24ARjIAQ_YAQHoAQH4AQKIAgGoAgS4Ara88JIGwAIB0gIkNWE4YjMwODktYjRkMy00ZDE1LTk4OTAtYjRiYTQwYmEyZmNh2AIF4AIB&sid=c4fdd21590cb73b4380894d200fc2e72&aid=304142&ucfs=1&arphpl=1&group_adults=2&req_adults=2&no_rooms=1&group_children=0&req_children=0&hpos=8&hapos=8&sr_order=popularity&srpvid=946262e0abff0002&srepoch=1650204225&from=searchresults#hotelTmpl",
           "Vous pouvez bénéficier d'une réduction Genius dans l'établissement L'Autel - Jaccuzi - Centre d'historique ! Connectez-vous pour économiser.Situé à Rouen, à 500 mètres de la cathédrale Notre-Dame, l'établissement L'Autel - Jaccuzi - Centre d'histoire dispose d'un salon avec une télévision à écran plat et d'une connexion Wi-Fi gratuite.Cet appartement comprend une chambre, une cuisine équipée d'un lave-vaisselle et d'un micro-ondes, ainsi que 2 salles de bains pourvues d'un jacuzzi, de chaussons et d'un lave-linge. Les serviettes et le linge de lit sont fournis.Vous pourrez profiter d'un sauna sur place.L'aéroport de Deauville-Normandie, le plus proche, est implanté à 68 km. ",
           68.42,
           4
          ],
          [
           49.44011681,
           1.09693363,
           "Hôtel De La Cathédrale",
           "https://www.booking.com/hotel/fr/de-la-cathedrale.fr.html?label=gen173nr-1FCAEoggI46AdIDVgEaBWIAQGYAQ24ARjIAQ_YAQHoAQH4AQKIAgGoAgS4Ara88JIGwAIB0gIkNWE4YjMwODktYjRkMy00ZDE1LTk4OTAtYjRiYTQwYmEyZmNh2AIF4AIB&sid=c4fdd21590cb73b4380894d200fc2e72&aid=304142&ucfs=1&arphpl=1&group_adults=2&req_adults=2&no_rooms=1&group_children=0&req_children=0&hpos=9&hapos=9&sr_order=popularity&srpvid=946262e0abff0002&srepoch=1650204225&from=searchresults#hotelTmpl",
           "Arborant une façade à colombages datant du XVIIe siècle, l'Hôtel De La Cathédrale est situé à seulement 50 mètres de la cathédrale de Rouen, en plein cœur du centre historique de la ville. Cet établissement vous accueille à 4 km de la salle omnisports Kindarena. Lors de votre séjour, vous pourrez prendre un goûter dans une salle s'ouvrant sur la terrasse. Un parking public sécurisé et payant est accessible à proximité.Les chambres à la décoration personnalisée comprennent toutes une télévision par câble à écran plat. Certaines possèdent un coin salon. Leur salle de bains privative est pourvue d'un sèche-cheveux.Chaque matin, un petit-déjeuner buffet est servi dans la salle à manger, décorée dans un style normand traditionnel.Vous séjournerez à 5 minutes à pied de l'église de Saint-Ouen. Enfin, l'Hôtel De La Cathédrale se trouve à seulement 1,6 km de la gare de Rouen-Rive-Droite. ",
           68.42,
           4
          ],
          [
           49.429988,
           1.072398,
           "Holiday Inn Express - Rouen Centre - Rive Gauche, an IHG Hotel",
           "https://www.booking.com/hotel/fr/holiday-inn-express-rouen-centre-rive-gauche.fr.html?label=gen173nr-1FCAEoggI46AdIDVgEaBWIAQGYAQ24ARjIAQ_YAQHoAQH4AQKIAgGoAgS4Ara88JIGwAIB0gIkNWE4YjMwODktYjRkMy00ZDE1LTk4OTAtYjRiYTQwYmEyZmNh2AIF4AIB&sid=c4fdd21590cb73b4380894d200fc2e72&aid=304142&ucfs=1&arphpl=1&group_adults=2&req_adults=2&no_rooms=1&group_children=0&req_children=0&hpos=10&hapos=10&sr_order=popularity&srpvid=946262e0abff0002&srepoch=1650204225&from=searchresults#hotelTmpl",
           "Installé à 3,1 km de la cathédrale Notre-Dame de Rouen, l’Holiday Inn Express - Rouen Centre - Rive Gauche, an IHG Hotel vous propose un restaurant, un parking privé, un bar et un salon commun. L’établissement dispose d’une réception ouverte 24h/24 et d’une connexion Wi-Fi gratuite.Les chambres de l’hôtel comprennent la climatisation, un bureau, une bouilloire, un coffre-fort et une télévision à écran plat. Leur salle de bains privative est pourvue d’une douche. Les serviettes de toilette et le linge de lit sont fournis dans chaque hébergement.Le matin, vous pourrez déguster un petit-déjeuner buffet ou continental sur place.L’Holiday Inn Express - Rouen Centre - Rive Gauche, an IHG Hotel se trouve à 3,2 km du Kindarena, le palais des sports de Rouen. L’aéroport de Deauville-Normandie, le plus proche, est accessible à 86 km. ",
           68.42,
           4
          ],
          [
           49.43783419,
           1.09725282,
           "Hotel De Quebec",
           "https://www.booking.com/hotel/fr/alive-hotel-de-quebec.fr.html?label=gen173nr-1FCAEoggI46AdIDVgEaBWIAQGYAQ24ARjIAQ_YAQHoAQH4AQKIAgGoAgS4Ara88JIGwAIB0gIkNWE4YjMwODktYjRkMy00ZDE1LTk4OTAtYjRiYTQwYmEyZmNh2AIF4AIB&sid=c4fdd21590cb73b4380894d200fc2e72&aid=304142&ucfs=1&arphpl=1&group_adults=2&req_adults=2&no_rooms=1&group_children=0&req_children=0&hpos=11&hapos=11&sr_order=popularity&srpvid=946262e0abff0002&srepoch=1650204225&from=searchresults#hotelTmpl",
           "L'Alive Hôtel de Québec vous accueille dans un quartier paisible au cœur de Rouen. Situé à 3 km de la salle omnisports Kindarena et à 5 minutes de marche de la vieille ville et de la cathédrale de Rouen, l'établissement fournit une connexion Wi-Fi gratuite.Durant votre séjour, vous pourrez commencer la journée avec un petit-déjeuner buffet. Moyennant des frais supplémentaires, vous aurez aussi la possibilité de déguster le petit-déjeuner dans le confort de votre chambre.L'hôtel met à votre disposition un salon commun pour vos moments de détente. De plus, son emplacement proche de la vieille ville vous permettra de découvrir ses rues étroites, ses antiquaires et ses jolies églises.L'Alive Hôtel de Québec se trouve à 20 minutes de marche de la gare de Rouen Rive Droite et à 800 mètres de l'arrêt de tramway Théâtre des Arts. ",
           68.42,
           4
          ],
          [
           49.4385349,
           1.09345078,
           "The Originals City, Hôtel Notre Dame, Rouen",
           "https://www.booking.com/hotel/fr/hotel-notre-dame.fr.html?label=gen173nr-1FCAEoggI46AdIDVgEaBWIAQGYAQ24ARjIAQ_YAQHoAQH4AQKIAgGoAgS4Ara88JIGwAIB0gIkNWE4YjMwODktYjRkMy00ZDE1LTk4OTAtYjRiYTQwYmEyZmNh2AIF4AIB&sid=c4fdd21590cb73b4380894d200fc2e72&aid=304142&ucfs=1&arphpl=1&group_adults=2&req_adults=2&no_rooms=1&group_children=0&req_children=0&hpos=12&hapos=12&sr_order=popularity&srpvid=946262e0abff0002&srepoch=1650204225&from_sustainable_property_sr=1&from=searchresults#hotelTmpl",
           "L’Hotel The Originals Rouen Notre-Dame vous accueille dans le centre de Rouen, entre la cathédrale et la Seine. Il se trouve à 3 km du stade Kindarena.Les chambres comportent une télévision. En outre, vous bénéficierez gratuitement d’une connexion Wi-Fi. De nombreuses chambres ont été rénovées en 2019.Un petit-déjeuner est également servi chaque matin moyennant des frais supplémentaires.Vous séjournerez à quelques minutes à pied de la cathédrale gothique Notre-Dame, de l’horloge astronomique Gros-Horloge et de l’église Sainte-Jeanne-d'Arc.Veuillez noter que cet établissement n'est pas adapté aux personnes à mobilité réduite. ",
           68.42,
           4
          ],
          [
           49.43869536,
           1.1092034,
           "Brit Hotel Confort Rouen Centre",
           "https://www.booking.com/hotel/fr/le-relais-des-2-rivieres.fr.html?label=gen173nr-1FCAEoggI46AdIDVgEaBWIAQGYAQ24ARjIAQ_YAQHoAQH4AQKIAgGoAgS4Ara88JIGwAIB0gIkNWE4YjMwODktYjRkMy00ZDE1LTk4OTAtYjRiYTQwYmEyZmNh2AIF4AIB&sid=c4fdd21590cb73b4380894d200fc2e72&aid=304142&ucfs=1&arphpl=1&group_adults=2&req_adults=2&no_rooms=1&group_children=0&req_children=0&hpos=13&hapos=13&sr_order=popularity&srpvid=946262e0abff0002&srepoch=1650204225&from_sustainable_property_sr=1&from=searchresults#hotelTmpl",
           "Vous pouvez bénéficier d'une réduction Genius dans l'établissement Brit Hotel Confort Rouen Centre ! Connectez-vous pour économiser.Le Brit Hotel Confort Rouen Centre se situe dans le centre de Rouen, à proximité de la faculté de médecine et à 4 km de la salle omnisports Le Kindarena. Il propose des chambres avec salle de bains privative, une terrasse et une connexion Wi-Fi gratuite.Les chambres comprennent un bureau et une télévision par satellite à écran plat.Chaque matin, le Brit Hotel Confort Rouen Centre sert un petit-déjeuner buffet. Sur place, vous disposerez aussi de distributeurs automatiques.Vous séjournerez à 650 mètres du Centre de formation médicale. Enfin, le Brit Hotel Confort Rouen Centre se trouve à 1,5 km de la cathédrale de la ville et 8 minutes en voiture de la gare de Rouen-Rive-Droite. ",
           68.42,
           4
          ],
          [
           49.437454,
           1.096183,
           "Ibis Styles Rouen Centre Cathédrale",
           "https://www.booking.com/hotel/fr/ibis-styles-rouen-centre-cathedrale.fr.html?label=gen173nr-1FCAEoggI46AdIDVgEaBWIAQGYAQ24ARjIAQ_YAQHoAQH4AQKIAgGoAgS4Ara88JIGwAIB0gIkNWE4YjMwODktYjRkMy00ZDE1LTk4OTAtYjRiYTQwYmEyZmNh2AIF4AIB&sid=c4fdd21590cb73b4380894d200fc2e72&aid=304142&ucfs=1&arphpl=1&group_adults=2&req_adults=2&no_rooms=1&group_children=0&req_children=0&hpos=14&hapos=14&sr_order=popularity&srpvid=946262e0abff0002&srepoch=1650204225&from_sustainable_property_sr=1&from=searchresults#hotelTmpl",
           "Doté d'une connexion Wi-Fi gratuite et d'une terrasse, l'Ibis Styles Rouen Centre Cathédrale propose des hébergements à Rouen, à 1,6 km de la gare de la ville ainsi qu'à 3 km du palais des sports du Kindarena. Les animaux domestiques sont les bienvenus. De plus, un parking public est accessible à proximité de l'établissement moyennant des frais supplémentaires.Certaines chambres offrent une vue sur le fleuve ou la ville, tandis que d'autres disposent d'un balcon. Chacune d'entre elles comprend une salle de bains privative et une télévision à écran plat.Lors de votre séjour, vous pourrez déguster un petit-déjeuner buffet sur place.La cathédrale Notre-Dame de Rouen se trouve à 200 mètres de l'ibis Styles Rouen Centre Cathédrale, tandis que l'hôpital universitaire de Rouen est à 900 mètres. Enfin, l'aéroport de Beauvais-Tillé, le plus proche, se situe à 73 km. ",
           68.42,
           4
          ],
          [
           49.442178,
           1.088876,
           "Hôtel de Bourgtheroulde, Autograph Collection",
           "https://www.booking.com/hotel/fr/de-bourgtheroulde.fr.html?label=gen173nr-1FCAEoggI46AdIDVgEaBWIAQGYAQ24ARjIAQ_YAQHoAQH4AQKIAgGoAgS4Ara88JIGwAIB0gIkNWE4YjMwODktYjRkMy00ZDE1LTk4OTAtYjRiYTQwYmEyZmNh2AIF4AIB&sid=c4fdd21590cb73b4380894d200fc2e72&aid=304142&ucfs=1&arphpl=1&group_adults=2&req_adults=2&no_rooms=1&group_children=0&req_children=0&hpos=15&hapos=15&sr_order=popularity&srpvid=946262e0abff0002&srepoch=1650204225&from_sustainable_property_sr=1&from=searchresults#hotelTmpl",
           "Ce boutique hôtel vous accueille dans le centre historique de Rouen, à côté du Gros-Horloge et à 2 km de la salle omnisports Kindarena. Vous bénéficierez d’un accès gratuit à la piscine intérieure, à la salle de sport et au spa où sont proposés un sauna, un hammam et une gamme de soins.Toutes les chambres climatisées de l’Hotel de Bourgtheroulde comprennent une connexion Wi-Fi gratuite, une télévision à écran plat et une salle de bains privative. Certains hébergements donnent sur la galerie d’Aumale, la place de la Pucelle ou le temple Saint-Éloi.Le restaurant L’Aumale sert une cuisine traditionnelle préparée à base de produits régionaux. L’établissement propose également un petit-déjeuner buffet. Vous aurez la possibilité de prendre un verre au bar ou sur la terrasse.Lors de votre séjour, vous pourrez visiter la ville et ses sites d’intérêt, comme la cathédrale Notre-Dame et la place du Vieux-Marché. Vous séjournerez à 1 km de la gare de Rouen-Rive-Droite. Un parking privé est disponible sur place, sur réservation. ",
           68.42,
           4
          ],
          [
           49.44569975,
           1.094523,
           "Hotel Morand",
           "https://www.booking.com/hotel/fr/lemorand.fr.html?label=gen173nr-1FCAEoggI46AdIDVgEaBWIAQGYAQ24ARjIAQ_YAQHoAQH4AQKIAgGoAgS4Ara88JIGwAIB0gIkNWE4YjMwODktYjRkMy00ZDE1LTk4OTAtYjRiYTQwYmEyZmNh2AIF4AIB&sid=c4fdd21590cb73b4380894d200fc2e72&aid=304142&ucfs=1&arphpl=1&group_adults=2&req_adults=2&no_rooms=1&group_children=0&req_children=0&hpos=16&hapos=16&sr_order=popularity&srpvid=946262e0abff0002&srepoch=1650204225&from=searchresults#hotelTmpl",
           "L’Hotel Morand est un ancien relais de poste rénové, datant du XVIIe siècle. Cet établissement vous accueille dans le centre historique de Rouen, à 400 mètres de la gare SNCF de Saint-Paul. Une connexion Wi-Fi est disponible gratuitement dans l’ensemble des locaux.Toutes les chambres de l'Hotel Morand sont équipées d'un plateau/bouilloire et d'une télévision à écran plat. Leur salle de bains privative est pourvue d’une douche et d’un sèche-cheveux.Un petit-déjeuner continental est servi tous les matins sur place. Vous pourrez vous détendre dans le salon muni d’une cheminée et de poutres apparentes.Le Morand se trouve en face du musée des Beaux-Arts et à 2 minutes à pied de la cathédrale de Rouen. ",
           68.42,
           4
          ],
          [
           49.443658,
           1.090557,
           "studi'home",
           "https://www.booking.com/hotel/fr/studi-39-home.fr.html?label=gen173nr-1FCAEoggI46AdIDVgEaBWIAQGYAQ24ARjIAQ_YAQHoAQH4AQKIAgGoAgS4Ara88JIGwAIB0gIkNWE4YjMwODktYjRkMy00ZDE1LTk4OTAtYjRiYTQwYmEyZmNh2AIF4AIB&sid=c4fdd21590cb73b4380894d200fc2e72&aid=304142&ucfs=1&arphpl=1&group_adults=2&req_adults=2&no_rooms=1&group_children=0&req_children=0&hpos=17&hapos=17&sr_order=popularity&srpvid=946262e0abff0002&srepoch=1650204225&from=searchresults#hotelTmpl",
           "Vous pouvez bénéficier d'une réduction Genius dans l'établissement studi'home ! Connectez-vous pour économiser.Situé dans le centre de Rouen, à 600 mètres de la cathédrale Notre-Dame, le studi'home propose des hébergements bien équipés avec connexion Wi-Fi gratuite.Tous les logements comprennent un coin salon avec un canapé ainsi qu'une cuisine entièrement équipée avec un micro-ondes, un réfrigérateur, un four et des plaques de cuisson. Un grille-pain et une machine à café sont également fournis.L'aéroport de Deauville-Normandie, le plus proche, est à 80 km. ",
           68.42,
           4
          ],
          [
           49.444266,
           1.096321,
           "Nuit Zen Rouen - Jacuzzi - Centre Historique",
           "https://www.booking.com/hotel/fr/nuit-zen-rouen.fr.html?label=gen173nr-1FCAEoggI46AdIDVgEaBWIAQGYAQ24ARjIAQ_YAQHoAQH4AQKIAgGoAgS4Ara88JIGwAIB0gIkNWE4YjMwODktYjRkMy00ZDE1LTk4OTAtYjRiYTQwYmEyZmNh2AIF4AIB&sid=c4fdd21590cb73b4380894d200fc2e72&aid=304142&ucfs=1&arphpl=1&group_adults=2&req_adults=2&no_rooms=1&group_children=0&req_children=0&hpos=18&hapos=18&sr_order=popularity&srpvid=946262e0abff0002&srepoch=1650204225&from=searchresults#hotelTmpl",
           "Vous pouvez bénéficier d'une réduction Genius dans l'établissement Nuit Zen Rouen - Jacuzzi - Centre Historique ! Connectez-vous pour économiser.Situé à 500 mètres de la cathédrale Notre-Dame de Rouen, le Nuit Zen Rouen - Jacuzzi - Centre Historique propose un hébergement avec accès à un jacuzzi. Vous bénéficierez gratuitement d'un parking privé et d'une connexion Wi-Fi.Cet appartement comprend 3 chambres, une télévision par câble à écran plat, un lave-linge et une salle de bains pourvue d'une douche. Sa cuisine est équipée d'un micro-ondes et d'un lave-vaisselle. Les serviettes et le linge de lit sont fournis.L'aéroport de Beauvais-Tillé, le plus proche, est à 85 km. ",
           68.42,
           4
          ],
          [
           49.44530171,
           1.09545842,
           "Gîte Beffroy",
           "https://www.booking.com/hotel/fr/gite-beffroy.fr.html?label=gen173nr-1FCAEoggI46AdIDVgEaBWIAQGYAQ24ARjIAQ_YAQHoAQH4AQKIAgGoAgS4Ara88JIGwAIB0gIkNWE4YjMwODktYjRkMy00ZDE1LTk4OTAtYjRiYTQwYmEyZmNh2AIF4AIB&sid=c4fdd21590cb73b4380894d200fc2e72&aid=304142&ucfs=1&arphpl=1&group_adults=2&req_adults=2&no_rooms=1&group_children=0&req_children=0&hpos=19&hapos=19&sr_order=popularity&srpvid=946262e0abff0002&srepoch=1650204225&from=searchresults#hotelTmpl",
           "Le Gîte Beffroy est un appartement indépendant situé au cœur de Rouen, à seulement 160 mètres du musée des beaux-arts de Rouen. Cet appartement 1 chambre est installé dans un gîte avec un jardin et dispose d'une connexion Wi-Fi gratuite.Il comprend un salon muni d'une télévision à écran plat et d'un lecteur DVD ainsi qu'une cuisine équipée d'un four micro-ondes, d'un four et d'ustensiles de cuisine. Vous disposerez d'un lave-linge et la salle de bains est pourvue d'une douche et d'un sèche-cheveux.Vous trouverez un parking privé gratuit sur place ainsi que des boutiques et des restaurants dans les environs. L'appartement se situe à 600 mètres de l'église de Saint-Ouen et à 750 mètres de la cathédrale de Rouen. ",
           68.42,
           4
          ],
          [
           49.4462806,
           1.0868884,
           "Cosy'Appart - LA CAUCHOISE",
           "https://www.booking.com/hotel/fr/la-cauchoise-appart-spacieux-moderne.fr.html?label=gen173nr-1FCAEoggI46AdIDVgEaBWIAQGYAQ24ARjIAQ_YAQHoAQH4AQKIAgGoAgS4Ara88JIGwAIB0gIkNWE4YjMwODktYjRkMy00ZDE1LTk4OTAtYjRiYTQwYmEyZmNh2AIF4AIB&sid=c4fdd21590cb73b4380894d200fc2e72&aid=304142&ucfs=1&arphpl=1&group_adults=2&req_adults=2&no_rooms=1&group_children=0&req_children=0&hpos=20&hapos=20&sr_order=popularity&srpvid=946262e0abff0002&srepoch=1650204225&from=searchresults#hotelTmpl",
           "Vous pouvez bénéficier d'une réduction Genius dans l'établissement Cosy'Appart - LA CAUCHOISE ! Connectez-vous pour économiser.Situé à Rouen, à seulement 2,1 km de la cathédrale Notre-Dame, le Cosy'Appart - LA CAUCHOISE propose un hébergement avec vue sur la ville, connexion Wi-Fi et parking privé gratuits.Cet appartement comprend 2 chambres, une télévision par satellite à écran plat, un lave-linge et une salle de bains pourvue d'une douche. Sa cuisine est équipée d'un micro-ondes et d'un réfrigérateur. Les serviettes et le linge de lit sont fournis.L'aéroport de Beauvais-Tillé, le plus proche, est à 86 km. ",
           68.42,
           4
          ]
         ],
         "hovertemplate": "<b>%{hovertext}</b><br><br>Score=%{marker.color}<br>name=%{customdata[2]}<extra></extra>",
         "hovertext": [
          "Paris",
          "Paris",
          "Paris",
          "Paris",
          "Paris",
          "Paris",
          "Paris",
          "Paris",
          "Paris",
          "Paris",
          "Paris",
          "Paris",
          "Paris",
          "Paris",
          "Paris",
          "Paris",
          "Paris",
          "Paris",
          "Paris",
          "Paris",
          "Lille",
          "Lille",
          "Lille",
          "Lille",
          "Lille",
          "Lille",
          "Lille",
          "Lille",
          "Lille",
          "Lille",
          "Lille",
          "Lille",
          "Lille",
          "Lille",
          "Lille",
          "Lille",
          "Lille",
          "Lille",
          "Lille",
          "Lille",
          "Mont Saint Michel",
          "Mont Saint Michel",
          "Mont Saint Michel",
          "Mont Saint Michel",
          "Mont Saint Michel",
          "Mont Saint Michel",
          "Mont Saint Michel",
          "Mont Saint Michel",
          "Mont Saint Michel",
          "Mont Saint Michel",
          "Mont Saint Michel",
          "Mont Saint Michel",
          "Mont Saint Michel",
          "Mont Saint Michel",
          "Mont Saint Michel",
          "Mont Saint Michel",
          "Mont Saint Michel",
          "Mont Saint Michel",
          "Mont Saint Michel",
          "Mont Saint Michel",
          "Amiens",
          "Amiens",
          "Amiens",
          "Amiens",
          "Amiens",
          "Amiens",
          "Amiens",
          "Amiens",
          "Amiens",
          "Amiens",
          "Amiens",
          "Amiens",
          "Amiens",
          "Amiens",
          "Amiens",
          "Amiens",
          "Amiens",
          "Amiens",
          "Amiens",
          "Amiens",
          "Rouen",
          "Rouen",
          "Rouen",
          "Rouen",
          "Rouen",
          "Rouen",
          "Rouen",
          "Rouen",
          "Rouen",
          "Rouen",
          "Rouen",
          "Rouen",
          "Rouen",
          "Rouen",
          "Rouen",
          "Rouen",
          "Rouen",
          "Rouen",
          "Rouen",
          "Rouen"
         ],
         "lat": [
          48.88639354,
          48.87652507,
          48.87434515,
          48.88129894,
          48.8381576,
          48.84659045,
          48.83971177,
          48.88133015,
          48.86601094,
          48.8592568,
          48.88166743,
          48.85158544,
          48.88141526,
          48.87606691,
          48.85057501,
          48.8644438,
          48.87597385,
          48.851244,
          48.89431407,
          48.844105,
          50.63788756,
          50.62914624,
          50.627831,
          50.63238245,
          50.63528798,
          50.63075938,
          50.63654707,
          50.64602156,
          50.62003296,
          50.63647023,
          50.63883337,
          50.634074,
          50.63359887,
          50.63220722,
          50.62603955,
          50.63685668,
          50.62905798,
          50.63557145,
          50.6456983,
          50.63786885,
          48.61470049,
          48.61758727,
          48.63508532,
          48.61424653,
          48.63534943,
          48.61688155,
          48.61538141,
          48.63568798,
          48.61293783,
          48.63602298,
          48.636063,
          48.6162627,
          48.63573406,
          48.61599318,
          48.6041875,
          48.59648217,
          48.59771334,
          48.61411436,
          48.59706233,
          48.61591354,
          49.8916762,
          49.8953831,
          49.92513403,
          49.89444519,
          49.88714842,
          49.894229,
          49.89183258,
          49.887694,
          49.90235783,
          49.8965252,
          49.89193885,
          49.89013675,
          49.889702,
          49.887125,
          49.888542,
          49.885365,
          49.891422,
          49.891591,
          49.89571084,
          49.891999,
          49.446441,
          49.4446518,
          49.44306423,
          49.44332714,
          49.43948371,
          49.44117285,
          49.44197641,
          49.444544,
          49.44011681,
          49.429988,
          49.43783419,
          49.4385349,
          49.43869536,
          49.437454,
          49.442178,
          49.44569975,
          49.443658,
          49.444266,
          49.44530171,
          49.4462806
         ],
         "legendgroup": "",
         "lon": [
          2.29494631,
          2.29293287,
          2.28977568,
          2.29480304,
          2.3496155,
          2.28857003,
          2.33017266,
          2.32741512,
          2.35709757,
          2.3684085,
          2.33732789,
          2.39082724,
          2.32455321,
          2.34567493,
          2.26743221,
          2.3648845,
          2.35900484,
          2.327238,
          2.31234401,
          2.413063,
          3.072685,
          3.06419907,
          3.063592,
          3.06794286,
          3.06970725,
          3.05808842,
          3.06234241,
          3.07587147,
          3.08456697,
          3.07490923,
          3.07668149,
          3.064229,
          3.06328118,
          3.04668635,
          3.05190325,
          3.06794286,
          3.08113396,
          3.06783289,
          3.07210967,
          3.0546277,
          -1.50961697,
          -1.51039615,
          -1.51053965,
          -1.51054502,
          -1.51037872,
          -1.51091784,
          -1.51070997,
          -1.50988251,
          -1.51010513,
          -1.50989592,
          -1.511457,
          -1.51090577,
          -1.50986105,
          -1.48825318,
          -1.51159912,
          -1.50314692,
          -1.51309848,
          -1.50431424,
          -1.51303947,
          -1.46560172,
          2.30775386,
          2.297772,
          2.30457276,
          2.30094239,
          2.3116109,
          2.305778,
          2.30599433,
          2.294524,
          2.31428465,
          2.2825902,
          2.30575562,
          2.29853201,
          2.2984392,
          2.295143,
          2.331349,
          2.269669,
          2.304996,
          2.313573,
          2.29956239,
          2.29197,
          1.09412,
          1.0913262,
          1.08660311,
          1.09457396,
          1.08725488,
          1.09517545,
          1.09243892,
          1.091178,
          1.09693363,
          1.072398,
          1.09725282,
          1.09345078,
          1.1092034,
          1.096183,
          1.088876,
          1.094523,
          1.090557,
          1.096321,
          1.09545842,
          1.0868884
         ],
         "marker": {
          "color": [
           8.4,
           8.5,
           8.5,
           8,
           8.6,
           8.6,
           8.7,
           8.9,
           8.4,
           8.1,
           8.7,
           8.7,
           8.3,
           8.8,
           8.5,
           8.7,
           7.8,
           8.9,
           8.1,
           8.1,
           8.1,
           8.4,
           8.7,
           7.8,
           7.8,
           8.1,
           8.5,
           7.8,
           7.7,
           7.4,
           8.2,
           8.8,
           7,
           8,
           7.7,
           8.1,
           7.3,
           7.7,
           8.2,
           7.7,
           8.1,
           7.8,
           7.2,
           8.2,
           7.3,
           7.2,
           8,
           8.1,
           7.2,
           7.2,
           7.4,
           8,
           7.6,
           8.3,
           9.4,
           8,
           7.7,
           9.4,
           8.7,
           9.2,
           8.1,
           9.3,
           6.9,
           8.4,
           8.2,
           7.9,
           7.7,
           9.5,
           8.7,
           7.9,
           7.3,
           9,
           9.2,
           9.4,
           9,
           8.4,
           8.7,
           8.2,
           8.3,
           7.4,
           8.9,
           8.8,
           8.6,
           8.2,
           7.1,
           8.2,
           8.2,
           9.1,
           7.9,
           8.5,
           8.4,
           7.4,
           7.5,
           7.4,
           8.5,
           7.4,
           8.6,
           9.2,
           9.2,
           8.6
          ],
          "coloraxis": "coloraxis",
          "size": [
           8.4,
           8.5,
           8.5,
           8,
           8.6,
           8.6,
           8.7,
           8.9,
           8.4,
           8.1,
           8.7,
           8.7,
           8.3,
           8.8,
           8.5,
           8.7,
           7.8,
           8.9,
           8.1,
           8.1,
           8.1,
           8.4,
           8.7,
           7.8,
           7.8,
           8.1,
           8.5,
           7.8,
           7.7,
           7.4,
           8.2,
           8.8,
           7,
           8,
           7.7,
           8.1,
           7.3,
           7.7,
           8.2,
           7.7,
           8.1,
           7.8,
           7.2,
           8.2,
           7.3,
           7.2,
           8,
           8.1,
           7.2,
           7.2,
           7.4,
           8,
           7.6,
           8.3,
           9.4,
           8,
           7.7,
           9.4,
           8.7,
           9.2,
           8.1,
           9.3,
           6.9,
           8.4,
           8.2,
           7.9,
           7.7,
           9.5,
           8.7,
           7.9,
           7.3,
           9,
           9.2,
           9.4,
           9,
           8.4,
           8.7,
           8.2,
           8.3,
           7.4,
           8.9,
           8.8,
           8.6,
           8.2,
           7.1,
           8.2,
           8.2,
           9.1,
           7.9,
           8.5,
           8.4,
           7.4,
           7.5,
           7.4,
           8.5,
           7.4,
           8.6,
           9.2,
           9.2,
           8.6
          ],
          "sizemode": "area",
          "sizeref": 0.0152
         },
         "mode": "markers",
         "name": "",
         "showlegend": false,
         "subplot": "mapbox",
         "type": "scattermapbox"
        }
       ],
       "layout": {
        "coloraxis": {
         "cmax": 9.5,
         "cmin": 6.9,
         "colorbar": {
          "title": {
           "text": "Score"
          }
         },
         "colorscale": [
          [
           0,
           "rgb(165,0,38)"
          ],
          [
           0.1,
           "rgb(215,48,39)"
          ],
          [
           0.2,
           "rgb(244,109,67)"
          ],
          [
           0.3,
           "rgb(253,174,97)"
          ],
          [
           0.4,
           "rgb(254,224,139)"
          ],
          [
           0.5,
           "rgb(255,255,191)"
          ],
          [
           0.6,
           "rgb(217,239,139)"
          ],
          [
           0.7,
           "rgb(166,217,106)"
          ],
          [
           0.8,
           "rgb(102,189,99)"
          ],
          [
           0.9,
           "rgb(26,152,80)"
          ],
          [
           1,
           "rgb(0,104,55)"
          ]
         ]
        },
        "height": 800,
        "legend": {
         "itemsizing": "constant",
         "tracegroupgap": 0
        },
        "mapbox": {
         "accesstoken": "pk.eyJ1Ijoidm9ud2VuIiwiYSI6ImNsMWM0dmZnazA0N2gzZG8wa2N1OTM0ZDEifQ.lCZ3DFaUYPS5XIJCWi6yNA",
         "center": {
          "lat": 49.49071217300002,
          "lon": 1.4572768358999995
         },
         "domain": {
          "x": [
           0,
           1
          ],
          "y": [
           0,
           1
          ]
         },
         "zoom": 4.7
        },
        "margin": {
         "t": 60
        },
        "template": {
         "data": {
          "bar": [
           {
            "error_x": {
             "color": "#f2f5fa"
            },
            "error_y": {
             "color": "#f2f5fa"
            },
            "marker": {
             "line": {
              "color": "rgb(17,17,17)",
              "width": 0.5
             },
             "pattern": {
              "fillmode": "overlay",
              "size": 10,
              "solidity": 0.2
             }
            },
            "type": "bar"
           }
          ],
          "barpolar": [
           {
            "marker": {
             "line": {
              "color": "rgb(17,17,17)",
              "width": 0.5
             },
             "pattern": {
              "fillmode": "overlay",
              "size": 10,
              "solidity": 0.2
             }
            },
            "type": "barpolar"
           }
          ],
          "carpet": [
           {
            "aaxis": {
             "endlinecolor": "#A2B1C6",
             "gridcolor": "#506784",
             "linecolor": "#506784",
             "minorgridcolor": "#506784",
             "startlinecolor": "#A2B1C6"
            },
            "baxis": {
             "endlinecolor": "#A2B1C6",
             "gridcolor": "#506784",
             "linecolor": "#506784",
             "minorgridcolor": "#506784",
             "startlinecolor": "#A2B1C6"
            },
            "type": "carpet"
           }
          ],
          "choropleth": [
           {
            "colorbar": {
             "outlinewidth": 0,
             "ticks": ""
            },
            "type": "choropleth"
           }
          ],
          "contour": [
           {
            "colorbar": {
             "outlinewidth": 0,
             "ticks": ""
            },
            "colorscale": [
             [
              0,
              "#0d0887"
             ],
             [
              0.1111111111111111,
              "#46039f"
             ],
             [
              0.2222222222222222,
              "#7201a8"
             ],
             [
              0.3333333333333333,
              "#9c179e"
             ],
             [
              0.4444444444444444,
              "#bd3786"
             ],
             [
              0.5555555555555556,
              "#d8576b"
             ],
             [
              0.6666666666666666,
              "#ed7953"
             ],
             [
              0.7777777777777778,
              "#fb9f3a"
             ],
             [
              0.8888888888888888,
              "#fdca26"
             ],
             [
              1,
              "#f0f921"
             ]
            ],
            "type": "contour"
           }
          ],
          "contourcarpet": [
           {
            "colorbar": {
             "outlinewidth": 0,
             "ticks": ""
            },
            "type": "contourcarpet"
           }
          ],
          "heatmap": [
           {
            "colorbar": {
             "outlinewidth": 0,
             "ticks": ""
            },
            "colorscale": [
             [
              0,
              "#0d0887"
             ],
             [
              0.1111111111111111,
              "#46039f"
             ],
             [
              0.2222222222222222,
              "#7201a8"
             ],
             [
              0.3333333333333333,
              "#9c179e"
             ],
             [
              0.4444444444444444,
              "#bd3786"
             ],
             [
              0.5555555555555556,
              "#d8576b"
             ],
             [
              0.6666666666666666,
              "#ed7953"
             ],
             [
              0.7777777777777778,
              "#fb9f3a"
             ],
             [
              0.8888888888888888,
              "#fdca26"
             ],
             [
              1,
              "#f0f921"
             ]
            ],
            "type": "heatmap"
           }
          ],
          "heatmapgl": [
           {
            "colorbar": {
             "outlinewidth": 0,
             "ticks": ""
            },
            "colorscale": [
             [
              0,
              "#0d0887"
             ],
             [
              0.1111111111111111,
              "#46039f"
             ],
             [
              0.2222222222222222,
              "#7201a8"
             ],
             [
              0.3333333333333333,
              "#9c179e"
             ],
             [
              0.4444444444444444,
              "#bd3786"
             ],
             [
              0.5555555555555556,
              "#d8576b"
             ],
             [
              0.6666666666666666,
              "#ed7953"
             ],
             [
              0.7777777777777778,
              "#fb9f3a"
             ],
             [
              0.8888888888888888,
              "#fdca26"
             ],
             [
              1,
              "#f0f921"
             ]
            ],
            "type": "heatmapgl"
           }
          ],
          "histogram": [
           {
            "marker": {
             "pattern": {
              "fillmode": "overlay",
              "size": 10,
              "solidity": 0.2
             }
            },
            "type": "histogram"
           }
          ],
          "histogram2d": [
           {
            "colorbar": {
             "outlinewidth": 0,
             "ticks": ""
            },
            "colorscale": [
             [
              0,
              "#0d0887"
             ],
             [
              0.1111111111111111,
              "#46039f"
             ],
             [
              0.2222222222222222,
              "#7201a8"
             ],
             [
              0.3333333333333333,
              "#9c179e"
             ],
             [
              0.4444444444444444,
              "#bd3786"
             ],
             [
              0.5555555555555556,
              "#d8576b"
             ],
             [
              0.6666666666666666,
              "#ed7953"
             ],
             [
              0.7777777777777778,
              "#fb9f3a"
             ],
             [
              0.8888888888888888,
              "#fdca26"
             ],
             [
              1,
              "#f0f921"
             ]
            ],
            "type": "histogram2d"
           }
          ],
          "histogram2dcontour": [
           {
            "colorbar": {
             "outlinewidth": 0,
             "ticks": ""
            },
            "colorscale": [
             [
              0,
              "#0d0887"
             ],
             [
              0.1111111111111111,
              "#46039f"
             ],
             [
              0.2222222222222222,
              "#7201a8"
             ],
             [
              0.3333333333333333,
              "#9c179e"
             ],
             [
              0.4444444444444444,
              "#bd3786"
             ],
             [
              0.5555555555555556,
              "#d8576b"
             ],
             [
              0.6666666666666666,
              "#ed7953"
             ],
             [
              0.7777777777777778,
              "#fb9f3a"
             ],
             [
              0.8888888888888888,
              "#fdca26"
             ],
             [
              1,
              "#f0f921"
             ]
            ],
            "type": "histogram2dcontour"
           }
          ],
          "mesh3d": [
           {
            "colorbar": {
             "outlinewidth": 0,
             "ticks": ""
            },
            "type": "mesh3d"
           }
          ],
          "parcoords": [
           {
            "line": {
             "colorbar": {
              "outlinewidth": 0,
              "ticks": ""
             }
            },
            "type": "parcoords"
           }
          ],
          "pie": [
           {
            "automargin": true,
            "type": "pie"
           }
          ],
          "scatter": [
           {
            "marker": {
             "line": {
              "color": "#283442"
             }
            },
            "type": "scatter"
           }
          ],
          "scatter3d": [
           {
            "line": {
             "colorbar": {
              "outlinewidth": 0,
              "ticks": ""
             }
            },
            "marker": {
             "colorbar": {
              "outlinewidth": 0,
              "ticks": ""
             }
            },
            "type": "scatter3d"
           }
          ],
          "scattercarpet": [
           {
            "marker": {
             "colorbar": {
              "outlinewidth": 0,
              "ticks": ""
             }
            },
            "type": "scattercarpet"
           }
          ],
          "scattergeo": [
           {
            "marker": {
             "colorbar": {
              "outlinewidth": 0,
              "ticks": ""
             }
            },
            "type": "scattergeo"
           }
          ],
          "scattergl": [
           {
            "marker": {
             "line": {
              "color": "#283442"
             }
            },
            "type": "scattergl"
           }
          ],
          "scattermapbox": [
           {
            "marker": {
             "colorbar": {
              "outlinewidth": 0,
              "ticks": ""
             }
            },
            "type": "scattermapbox"
           }
          ],
          "scatterpolar": [
           {
            "marker": {
             "colorbar": {
              "outlinewidth": 0,
              "ticks": ""
             }
            },
            "type": "scatterpolar"
           }
          ],
          "scatterpolargl": [
           {
            "marker": {
             "colorbar": {
              "outlinewidth": 0,
              "ticks": ""
             }
            },
            "type": "scatterpolargl"
           }
          ],
          "scatterternary": [
           {
            "marker": {
             "colorbar": {
              "outlinewidth": 0,
              "ticks": ""
             }
            },
            "type": "scatterternary"
           }
          ],
          "surface": [
           {
            "colorbar": {
             "outlinewidth": 0,
             "ticks": ""
            },
            "colorscale": [
             [
              0,
              "#0d0887"
             ],
             [
              0.1111111111111111,
              "#46039f"
             ],
             [
              0.2222222222222222,
              "#7201a8"
             ],
             [
              0.3333333333333333,
              "#9c179e"
             ],
             [
              0.4444444444444444,
              "#bd3786"
             ],
             [
              0.5555555555555556,
              "#d8576b"
             ],
             [
              0.6666666666666666,
              "#ed7953"
             ],
             [
              0.7777777777777778,
              "#fb9f3a"
             ],
             [
              0.8888888888888888,
              "#fdca26"
             ],
             [
              1,
              "#f0f921"
             ]
            ],
            "type": "surface"
           }
          ],
          "table": [
           {
            "cells": {
             "fill": {
              "color": "#506784"
             },
             "line": {
              "color": "rgb(17,17,17)"
             }
            },
            "header": {
             "fill": {
              "color": "#2a3f5f"
             },
             "line": {
              "color": "rgb(17,17,17)"
             }
            },
            "type": "table"
           }
          ]
         },
         "layout": {
          "annotationdefaults": {
           "arrowcolor": "#f2f5fa",
           "arrowhead": 0,
           "arrowwidth": 1
          },
          "autotypenumbers": "strict",
          "coloraxis": {
           "colorbar": {
            "outlinewidth": 0,
            "ticks": ""
           }
          },
          "colorscale": {
           "diverging": [
            [
             0,
             "#8e0152"
            ],
            [
             0.1,
             "#c51b7d"
            ],
            [
             0.2,
             "#de77ae"
            ],
            [
             0.3,
             "#f1b6da"
            ],
            [
             0.4,
             "#fde0ef"
            ],
            [
             0.5,
             "#f7f7f7"
            ],
            [
             0.6,
             "#e6f5d0"
            ],
            [
             0.7,
             "#b8e186"
            ],
            [
             0.8,
             "#7fbc41"
            ],
            [
             0.9,
             "#4d9221"
            ],
            [
             1,
             "#276419"
            ]
           ],
           "sequential": [
            [
             0,
             "#0d0887"
            ],
            [
             0.1111111111111111,
             "#46039f"
            ],
            [
             0.2222222222222222,
             "#7201a8"
            ],
            [
             0.3333333333333333,
             "#9c179e"
            ],
            [
             0.4444444444444444,
             "#bd3786"
            ],
            [
             0.5555555555555556,
             "#d8576b"
            ],
            [
             0.6666666666666666,
             "#ed7953"
            ],
            [
             0.7777777777777778,
             "#fb9f3a"
            ],
            [
             0.8888888888888888,
             "#fdca26"
            ],
            [
             1,
             "#f0f921"
            ]
           ],
           "sequentialminus": [
            [
             0,
             "#0d0887"
            ],
            [
             0.1111111111111111,
             "#46039f"
            ],
            [
             0.2222222222222222,
             "#7201a8"
            ],
            [
             0.3333333333333333,
             "#9c179e"
            ],
            [
             0.4444444444444444,
             "#bd3786"
            ],
            [
             0.5555555555555556,
             "#d8576b"
            ],
            [
             0.6666666666666666,
             "#ed7953"
            ],
            [
             0.7777777777777778,
             "#fb9f3a"
            ],
            [
             0.8888888888888888,
             "#fdca26"
            ],
            [
             1,
             "#f0f921"
            ]
           ]
          },
          "colorway": [
           "#636efa",
           "#EF553B",
           "#00cc96",
           "#ab63fa",
           "#FFA15A",
           "#19d3f3",
           "#FF6692",
           "#B6E880",
           "#FF97FF",
           "#FECB52"
          ],
          "font": {
           "color": "#f2f5fa"
          },
          "geo": {
           "bgcolor": "rgb(17,17,17)",
           "lakecolor": "rgb(17,17,17)",
           "landcolor": "rgb(17,17,17)",
           "showlakes": true,
           "showland": true,
           "subunitcolor": "#506784"
          },
          "hoverlabel": {
           "align": "left"
          },
          "hovermode": "closest",
          "mapbox": {
           "style": "dark"
          },
          "paper_bgcolor": "rgb(17,17,17)",
          "plot_bgcolor": "rgb(17,17,17)",
          "polar": {
           "angularaxis": {
            "gridcolor": "#506784",
            "linecolor": "#506784",
            "ticks": ""
           },
           "bgcolor": "rgb(17,17,17)",
           "radialaxis": {
            "gridcolor": "#506784",
            "linecolor": "#506784",
            "ticks": ""
           }
          },
          "scene": {
           "xaxis": {
            "backgroundcolor": "rgb(17,17,17)",
            "gridcolor": "#506784",
            "gridwidth": 2,
            "linecolor": "#506784",
            "showbackground": true,
            "ticks": "",
            "zerolinecolor": "#C8D4E3"
           },
           "yaxis": {
            "backgroundcolor": "rgb(17,17,17)",
            "gridcolor": "#506784",
            "gridwidth": 2,
            "linecolor": "#506784",
            "showbackground": true,
            "ticks": "",
            "zerolinecolor": "#C8D4E3"
           },
           "zaxis": {
            "backgroundcolor": "rgb(17,17,17)",
            "gridcolor": "#506784",
            "gridwidth": 2,
            "linecolor": "#506784",
            "showbackground": true,
            "ticks": "",
            "zerolinecolor": "#C8D4E3"
           }
          },
          "shapedefaults": {
           "line": {
            "color": "#f2f5fa"
           }
          },
          "sliderdefaults": {
           "bgcolor": "#C8D4E3",
           "bordercolor": "rgb(17,17,17)",
           "borderwidth": 1,
           "tickwidth": 0
          },
          "ternary": {
           "aaxis": {
            "gridcolor": "#506784",
            "linecolor": "#506784",
            "ticks": ""
           },
           "baxis": {
            "gridcolor": "#506784",
            "linecolor": "#506784",
            "ticks": ""
           },
           "bgcolor": "rgb(17,17,17)",
           "caxis": {
            "gridcolor": "#506784",
            "linecolor": "#506784",
            "ticks": ""
           }
          },
          "title": {
           "x": 0.05
          },
          "updatemenudefaults": {
           "bgcolor": "#506784",
           "borderwidth": 0
          },
          "xaxis": {
           "automargin": true,
           "gridcolor": "#283442",
           "linecolor": "#506784",
           "ticks": "",
           "title": {
            "standoff": 15
           },
           "zerolinecolor": "#283442",
           "zerolinewidth": 2
          },
          "yaxis": {
           "automargin": true,
           "gridcolor": "#283442",
           "linecolor": "#506784",
           "ticks": "",
           "title": {
            "standoff": 15
           },
           "zerolinecolor": "#283442",
           "zerolinewidth": 2
          }
         }
        },
        "title": {
         "text": "20 best hotels from the 5 cities with the best weather",
         "x": 0.5
        },
        "width": 1100
       }
      }
     },
     "metadata": {},
     "output_type": "display_data"
    }
   ],
   "source": [
    "# Creating a plotly scatter mapbox showing the 20 hotels from the previous 5 top cities\n",
    "px.set_mapbox_access_token(open(\".mapbox_token\").read())\n",
    "\n",
    "fig = px.scatter_mapbox(\n",
    "    df_hotels_full[:100],\n",
    "    lat='lat_hotels',\n",
    "    lon='lon_hotels',\n",
    "    color='score',\n",
    "    color_continuous_scale=px.colors.diverging.RdYlGn,\n",
    "    size='score',\n",
    "    size_max=25,\n",
    "    zoom=4.7,\n",
    "    range_color = [min(df_hotels_full[:100]['score']), max(df_hotels_full[:100]['score'])],\n",
    "    hover_name='city',\n",
    "    hover_data={\n",
    "        'lat_hotels': False,\n",
    "        'lon_hotels': False,\n",
    "        'name': True,\n",
    "        'url': False,\n",
    "        'description': False,\n",
    "        'score_weather': False,\n",
    "        'id': False,\n",
    "        },\n",
    "    labels={'score': 'Score', 'city': 'City'}\n",
    ")\n",
    "\n",
    "fig.update_layout(\n",
    "    width = 1100,\n",
    "    height = 800,\n",
    "    template='plotly_dark',\n",
    "    title_x=0.5,\n",
    "    title_text='20 best hotels from the 5 cities with the best weather')\n",
    "fig.show()"
   ]
  }
 ],
 "metadata": {
  "interpreter": {
   "hash": "398748c372d42d99dcfa9ac8f694c5d292e22baf2e524ae29249ce2ce8b32818"
  },
  "kernelspec": {
   "display_name": "Python 3.9.10 ('base')",
   "language": "python",
   "name": "python3"
  },
  "language_info": {
   "codemirror_mode": {
    "name": "ipython",
    "version": 3
   },
   "file_extension": ".py",
   "mimetype": "text/x-python",
   "name": "python",
   "nbconvert_exporter": "python",
   "pygments_lexer": "ipython3",
   "version": "3.9.12"
  },
  "orig_nbformat": 4
 },
 "nbformat": 4,
 "nbformat_minor": 2
}
