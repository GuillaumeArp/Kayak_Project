{
 "cells": [
  {
   "cell_type": "markdown",
   "metadata": {},
   "source": [
    "# Kayak Project"
   ]
  },
  {
   "cell_type": "markdown",
   "metadata": {},
   "source": [
    "## Imports"
   ]
  },
  {
   "cell_type": "code",
   "execution_count": 22,
   "metadata": {},
   "outputs": [
    {
     "name": "stdout",
     "output_type": "stream",
     "text": [
      "The dotenv extension is already loaded. To reload it, use:\n",
      "  %reload_ext dotenv\n"
     ]
    }
   ],
   "source": [
    "import pandas as pd\n",
    "import numpy as np\n",
    "import plotly.express as px\n",
    "import requests\n",
    "from dotenv import load_dotenv\n",
    "import os\n",
    "import logging\n",
    "import scrapy\n",
    "from scrapy.crawler import CrawlerProcess\n",
    "from bs4 import BeautifulSoup\n",
    "import requests\n",
    "import time\n",
    "import boto3\n",
    "import datetime\n",
    "\n",
    "load_dotenv()\n",
    "%load_ext dotenv\n",
    "%dotenv\n",
    "\n",
    "# Openweathermap API\n",
    "key = os.getenv('APIKEY')\n",
    "# RDS Connection\n",
    "DBHOST = os.getenv(\"DBHOST\")\n",
    "DBUSER = os.getenv(\"DBUSER\")\n",
    "DBPASS = os.getenv(\"DBPASS\")\n",
    "DBNAME = os.getenv(\"DBNAME\")"
   ]
  },
  {
   "cell_type": "code",
   "execution_count": 23,
   "metadata": {},
   "outputs": [],
   "source": [
    "# Importing the cities list\n",
    "cities = [\"Mont Saint Michel\", \"St Malo\", \"Bayeux\", \"Le Havre\", \"Rouen\", \"Paris\", \"Amiens\", \"Lille\", \"Strasbourg\", \"Chateau du Haut Koenigsbourg\", \"Colmar\", \"Eguisheim\", \"Besancon\", \"Dijon\", \"Annecy\", \"Grenoble\", \"Lyon\", \"Gorges du Verdon\", \"Bormes les Mimosas\", \"Cassis\", \"Marseille\", \"Aix en Provence\", \"Avignon\", \"Uzes\", \"Nimes\", \"Aigues Mortes\", \"Saintes Maries de la mer\", \"Collioure\", \"Carcassonne\", \"Ariege\", \"Toulouse\", \"Montauban\", \"Biarritz\", \"Bayonne\", \"La Rochelle\"]"
   ]
  },
  {
   "cell_type": "code",
   "execution_count": 24,
   "metadata": {},
   "outputs": [
    {
     "data": {
      "text/html": [
       "<div>\n",
       "<style scoped>\n",
       "    .dataframe tbody tr th:only-of-type {\n",
       "        vertical-align: middle;\n",
       "    }\n",
       "\n",
       "    .dataframe tbody tr th {\n",
       "        vertical-align: top;\n",
       "    }\n",
       "\n",
       "    .dataframe thead th {\n",
       "        text-align: right;\n",
       "    }\n",
       "</style>\n",
       "<table border=\"1\" class=\"dataframe\">\n",
       "  <thead>\n",
       "    <tr style=\"text-align: right;\">\n",
       "      <th></th>\n",
       "      <th>id</th>\n",
       "      <th>city</th>\n",
       "    </tr>\n",
       "  </thead>\n",
       "  <tbody>\n",
       "    <tr>\n",
       "      <th>0</th>\n",
       "      <td>0</td>\n",
       "      <td>Mont Saint Michel</td>\n",
       "    </tr>\n",
       "    <tr>\n",
       "      <th>1</th>\n",
       "      <td>1</td>\n",
       "      <td>St Malo</td>\n",
       "    </tr>\n",
       "    <tr>\n",
       "      <th>2</th>\n",
       "      <td>2</td>\n",
       "      <td>Bayeux</td>\n",
       "    </tr>\n",
       "    <tr>\n",
       "      <th>3</th>\n",
       "      <td>3</td>\n",
       "      <td>Le Havre</td>\n",
       "    </tr>\n",
       "    <tr>\n",
       "      <th>4</th>\n",
       "      <td>4</td>\n",
       "      <td>Rouen</td>\n",
       "    </tr>\n",
       "    <tr>\n",
       "      <th>5</th>\n",
       "      <td>5</td>\n",
       "      <td>Paris</td>\n",
       "    </tr>\n",
       "    <tr>\n",
       "      <th>6</th>\n",
       "      <td>6</td>\n",
       "      <td>Amiens</td>\n",
       "    </tr>\n",
       "    <tr>\n",
       "      <th>7</th>\n",
       "      <td>7</td>\n",
       "      <td>Lille</td>\n",
       "    </tr>\n",
       "    <tr>\n",
       "      <th>8</th>\n",
       "      <td>8</td>\n",
       "      <td>Strasbourg</td>\n",
       "    </tr>\n",
       "    <tr>\n",
       "      <th>9</th>\n",
       "      <td>9</td>\n",
       "      <td>Chateau du Haut Koenigsbourg</td>\n",
       "    </tr>\n",
       "    <tr>\n",
       "      <th>10</th>\n",
       "      <td>10</td>\n",
       "      <td>Colmar</td>\n",
       "    </tr>\n",
       "    <tr>\n",
       "      <th>11</th>\n",
       "      <td>11</td>\n",
       "      <td>Eguisheim</td>\n",
       "    </tr>\n",
       "    <tr>\n",
       "      <th>12</th>\n",
       "      <td>12</td>\n",
       "      <td>Besancon</td>\n",
       "    </tr>\n",
       "    <tr>\n",
       "      <th>13</th>\n",
       "      <td>13</td>\n",
       "      <td>Dijon</td>\n",
       "    </tr>\n",
       "    <tr>\n",
       "      <th>14</th>\n",
       "      <td>14</td>\n",
       "      <td>Annecy</td>\n",
       "    </tr>\n",
       "    <tr>\n",
       "      <th>15</th>\n",
       "      <td>15</td>\n",
       "      <td>Grenoble</td>\n",
       "    </tr>\n",
       "    <tr>\n",
       "      <th>16</th>\n",
       "      <td>16</td>\n",
       "      <td>Lyon</td>\n",
       "    </tr>\n",
       "    <tr>\n",
       "      <th>17</th>\n",
       "      <td>17</td>\n",
       "      <td>Gorges du Verdon</td>\n",
       "    </tr>\n",
       "    <tr>\n",
       "      <th>18</th>\n",
       "      <td>18</td>\n",
       "      <td>Bormes les Mimosas</td>\n",
       "    </tr>\n",
       "    <tr>\n",
       "      <th>19</th>\n",
       "      <td>19</td>\n",
       "      <td>Cassis</td>\n",
       "    </tr>\n",
       "    <tr>\n",
       "      <th>20</th>\n",
       "      <td>20</td>\n",
       "      <td>Marseille</td>\n",
       "    </tr>\n",
       "    <tr>\n",
       "      <th>21</th>\n",
       "      <td>21</td>\n",
       "      <td>Aix en Provence</td>\n",
       "    </tr>\n",
       "    <tr>\n",
       "      <th>22</th>\n",
       "      <td>22</td>\n",
       "      <td>Avignon</td>\n",
       "    </tr>\n",
       "    <tr>\n",
       "      <th>23</th>\n",
       "      <td>23</td>\n",
       "      <td>Uzes</td>\n",
       "    </tr>\n",
       "    <tr>\n",
       "      <th>24</th>\n",
       "      <td>24</td>\n",
       "      <td>Nimes</td>\n",
       "    </tr>\n",
       "    <tr>\n",
       "      <th>25</th>\n",
       "      <td>25</td>\n",
       "      <td>Aigues Mortes</td>\n",
       "    </tr>\n",
       "    <tr>\n",
       "      <th>26</th>\n",
       "      <td>26</td>\n",
       "      <td>Saintes Maries de la mer</td>\n",
       "    </tr>\n",
       "    <tr>\n",
       "      <th>27</th>\n",
       "      <td>27</td>\n",
       "      <td>Collioure</td>\n",
       "    </tr>\n",
       "    <tr>\n",
       "      <th>28</th>\n",
       "      <td>28</td>\n",
       "      <td>Carcassonne</td>\n",
       "    </tr>\n",
       "    <tr>\n",
       "      <th>29</th>\n",
       "      <td>29</td>\n",
       "      <td>Ariege</td>\n",
       "    </tr>\n",
       "    <tr>\n",
       "      <th>30</th>\n",
       "      <td>30</td>\n",
       "      <td>Toulouse</td>\n",
       "    </tr>\n",
       "    <tr>\n",
       "      <th>31</th>\n",
       "      <td>31</td>\n",
       "      <td>Montauban</td>\n",
       "    </tr>\n",
       "    <tr>\n",
       "      <th>32</th>\n",
       "      <td>32</td>\n",
       "      <td>Biarritz</td>\n",
       "    </tr>\n",
       "    <tr>\n",
       "      <th>33</th>\n",
       "      <td>33</td>\n",
       "      <td>Bayonne</td>\n",
       "    </tr>\n",
       "    <tr>\n",
       "      <th>34</th>\n",
       "      <td>34</td>\n",
       "      <td>La Rochelle</td>\n",
       "    </tr>\n",
       "  </tbody>\n",
       "</table>\n",
       "</div>"
      ],
      "text/plain": [
       "    id                          city\n",
       "0    0             Mont Saint Michel\n",
       "1    1                       St Malo\n",
       "2    2                        Bayeux\n",
       "3    3                      Le Havre\n",
       "4    4                         Rouen\n",
       "5    5                         Paris\n",
       "6    6                        Amiens\n",
       "7    7                         Lille\n",
       "8    8                    Strasbourg\n",
       "9    9  Chateau du Haut Koenigsbourg\n",
       "10  10                        Colmar\n",
       "11  11                     Eguisheim\n",
       "12  12                      Besancon\n",
       "13  13                         Dijon\n",
       "14  14                        Annecy\n",
       "15  15                      Grenoble\n",
       "16  16                          Lyon\n",
       "17  17              Gorges du Verdon\n",
       "18  18            Bormes les Mimosas\n",
       "19  19                        Cassis\n",
       "20  20                     Marseille\n",
       "21  21               Aix en Provence\n",
       "22  22                       Avignon\n",
       "23  23                          Uzes\n",
       "24  24                         Nimes\n",
       "25  25                 Aigues Mortes\n",
       "26  26      Saintes Maries de la mer\n",
       "27  27                     Collioure\n",
       "28  28                   Carcassonne\n",
       "29  29                        Ariege\n",
       "30  30                      Toulouse\n",
       "31  31                     Montauban\n",
       "32  32                      Biarritz\n",
       "33  33                       Bayonne\n",
       "34  34                   La Rochelle"
      ]
     },
     "execution_count": 24,
     "metadata": {},
     "output_type": "execute_result"
    }
   ],
   "source": [
    "# Creating a dataframe with the cities list\n",
    "df_cities = pd.DataFrame(columns=[\"city\"])\n",
    "df_cities['city'] = cities\n",
    "df_cities.reset_index(inplace=True)\n",
    "df_cities.rename(columns={'index': 'id'}, inplace=True)\n",
    "df_cities"
   ]
  },
  {
   "cell_type": "markdown",
   "metadata": {},
   "source": [
    "## Scraping Booking.com"
   ]
  },
  {
   "cell_type": "code",
   "execution_count": 25,
   "metadata": {},
   "outputs": [],
   "source": [
    "# Creating a copy of the dataframe\n",
    "df_booking = df_cities.copy(deep=True)\n",
    "\n",
    "# Defining the spider class\n",
    "class BookingSpider(scrapy.Spider):\n",
    "    name = \"Booking_data\"\n",
    "    cities = df_booking[\"city\"]\n",
    "    start_urls = ['https://www.booking.com/index.fr.html']\n",
    "\n",
    "    def parse(self, response):\n",
    "        for i in cities:\n",
    "            yield scrapy.FormRequest.from_response(\n",
    "            response,\n",
    "            formdata={'ss': i },\n",
    "            callback=self.after_search\n",
    "        )\n",
    "    # Important note: the classes names change often and may not be correct at a later date\n",
    "    def after_search(self, response):\n",
    "        cities = response.url.split(\"ss=\")[-1].split(\"&\")[0]\n",
    "                \n",
    "        booking = response.css('.d4924c9e74')\n",
    "        \n",
    "        for k in booking:\n",
    "            \n",
    "            yield {\n",
    "                'location': cities,\n",
    "                'name': k.css('a div.fcab3ed991.a23c043802::text').getall(),\n",
    "                'url': k.css('h3.a4225678b2 a::attr(href)').getall(),\n",
    "            }\n",
    "\n",
    "        try:\n",
    "            next_page = response.css('a.paging-next').attrib[\"href\"]\n",
    "        except KeyError:\n",
    "            logging.info('No next page. Terminating crawling process.')\n",
    "        else:\n",
    "            yield response.follow(next_page, callback=self.after_search)"
   ]
  },
  {
   "cell_type": "code",
   "execution_count": 5,
   "metadata": {},
   "outputs": [
    {
     "name": "stderr",
     "output_type": "stream",
     "text": [
      "2022-04-14 22:32:20 [scrapy.utils.log] INFO: Scrapy 2.6.1 started (bot: scrapybot)\n",
      "2022-04-14 22:32:20 [scrapy.utils.log] INFO: Versions: lxml 4.8.0.0, libxml2 2.9.12, cssselect 1.1.0, parsel 1.6.0, w3lib 1.22.0, Twisted 22.2.0, Python 3.9.11 (main, Mar 29 2022, 19:08:29) - [GCC 7.5.0], pyOpenSSL 22.0.0 (OpenSSL 1.1.1n  15 Mar 2022), cryptography 36.0.0, Platform Linux-5.13.0-39-generic-x86_64-with-glibc2.31\n",
      "2022-04-14 22:32:20 [scrapy.crawler] INFO: Overridden settings:\n",
      "{'AUTOTHROTTLE_ENABLED': True,\n",
      " 'LOG_LEVEL': 20,\n",
      " 'USER_AGENT': 'Mozilla/5.0 (Windows NT 10.0; Win64; x64; rv:92.0) '\n",
      "               'Gecko/20100101 Firefox/92.0'}\n",
      "2022-04-14 22:32:20 [scrapy.extensions.telnet] INFO: Telnet Password: fae05b61e55cb43f\n",
      "2022-04-14 22:32:20 [scrapy.middleware] INFO: Enabled extensions:\n",
      "['scrapy.extensions.corestats.CoreStats',\n",
      " 'scrapy.extensions.telnet.TelnetConsole',\n",
      " 'scrapy.extensions.memusage.MemoryUsage',\n",
      " 'scrapy.extensions.feedexport.FeedExporter',\n",
      " 'scrapy.extensions.logstats.LogStats',\n",
      " 'scrapy.extensions.throttle.AutoThrottle']\n",
      "2022-04-14 22:32:20 [scrapy.middleware] INFO: Enabled downloader middlewares:\n",
      "['scrapy.downloadermiddlewares.httpauth.HttpAuthMiddleware',\n",
      " 'scrapy.downloadermiddlewares.downloadtimeout.DownloadTimeoutMiddleware',\n",
      " 'scrapy.downloadermiddlewares.defaultheaders.DefaultHeadersMiddleware',\n",
      " 'scrapy.downloadermiddlewares.useragent.UserAgentMiddleware',\n",
      " 'scrapy.downloadermiddlewares.retry.RetryMiddleware',\n",
      " 'scrapy.downloadermiddlewares.redirect.MetaRefreshMiddleware',\n",
      " 'scrapy.downloadermiddlewares.httpcompression.HttpCompressionMiddleware',\n",
      " 'scrapy.downloadermiddlewares.redirect.RedirectMiddleware',\n",
      " 'scrapy.downloadermiddlewares.cookies.CookiesMiddleware',\n",
      " 'scrapy.downloadermiddlewares.httpproxy.HttpProxyMiddleware',\n",
      " 'scrapy.downloadermiddlewares.stats.DownloaderStats']\n",
      "2022-04-14 22:32:20 [scrapy.middleware] INFO: Enabled spider middlewares:\n",
      "['scrapy.spidermiddlewares.httperror.HttpErrorMiddleware',\n",
      " 'scrapy.spidermiddlewares.offsite.OffsiteMiddleware',\n",
      " 'scrapy.spidermiddlewares.referer.RefererMiddleware',\n",
      " 'scrapy.spidermiddlewares.urllength.UrlLengthMiddleware',\n",
      " 'scrapy.spidermiddlewares.depth.DepthMiddleware']\n",
      "2022-04-14 22:32:20 [scrapy.middleware] INFO: Enabled item pipelines:\n",
      "[]\n",
      "2022-04-14 22:32:20 [scrapy.core.engine] INFO: Spider opened\n",
      "2022-04-14 22:32:20 [scrapy.extensions.logstats] INFO: Crawled 0 pages (at 0 pages/min), scraped 0 items (at 0 items/min)\n",
      "2022-04-14 22:32:20 [scrapy.extensions.telnet] INFO: Telnet console listening on 127.0.0.1:6023\n",
      "2022-04-14 22:32:28 [root] INFO: No next page. Terminating crawling process.\n",
      "2022-04-14 22:32:31 [root] INFO: No next page. Terminating crawling process.\n",
      "2022-04-14 22:32:33 [root] INFO: No next page. Terminating crawling process.\n",
      "2022-04-14 22:32:34 [root] INFO: No next page. Terminating crawling process.\n",
      "2022-04-14 22:32:35 [root] INFO: No next page. Terminating crawling process.\n",
      "2022-04-14 22:32:36 [root] INFO: No next page. Terminating crawling process.\n",
      "2022-04-14 22:32:36 [root] INFO: No next page. Terminating crawling process.\n",
      "2022-04-14 22:32:37 [root] INFO: No next page. Terminating crawling process.\n",
      "2022-04-14 22:32:37 [root] INFO: No next page. Terminating crawling process.\n",
      "2022-04-14 22:32:38 [root] INFO: No next page. Terminating crawling process.\n",
      "2022-04-14 22:32:38 [root] INFO: No next page. Terminating crawling process.\n",
      "2022-04-14 22:32:38 [root] INFO: No next page. Terminating crawling process.\n",
      "2022-04-14 22:32:39 [root] INFO: No next page. Terminating crawling process.\n",
      "2022-04-14 22:32:39 [root] INFO: No next page. Terminating crawling process.\n",
      "2022-04-14 22:32:40 [root] INFO: No next page. Terminating crawling process.\n",
      "2022-04-14 22:32:40 [root] INFO: No next page. Terminating crawling process.\n",
      "2022-04-14 22:32:41 [root] INFO: No next page. Terminating crawling process.\n",
      "2022-04-14 22:32:42 [root] INFO: No next page. Terminating crawling process.\n",
      "2022-04-14 22:32:42 [root] INFO: No next page. Terminating crawling process.\n",
      "2022-04-14 22:32:42 [root] INFO: No next page. Terminating crawling process.\n",
      "2022-04-14 22:32:43 [root] INFO: No next page. Terminating crawling process.\n",
      "2022-04-14 22:32:43 [root] INFO: No next page. Terminating crawling process.\n",
      "2022-04-14 22:32:43 [root] INFO: No next page. Terminating crawling process.\n",
      "2022-04-14 22:32:44 [root] INFO: No next page. Terminating crawling process.\n",
      "2022-04-14 22:32:44 [root] INFO: No next page. Terminating crawling process.\n",
      "2022-04-14 22:32:44 [root] INFO: No next page. Terminating crawling process.\n",
      "2022-04-14 22:32:45 [root] INFO: No next page. Terminating crawling process.\n",
      "2022-04-14 22:32:45 [root] INFO: No next page. Terminating crawling process.\n",
      "2022-04-14 22:32:46 [root] INFO: No next page. Terminating crawling process.\n",
      "2022-04-14 22:32:46 [root] INFO: No next page. Terminating crawling process.\n",
      "2022-04-14 22:32:47 [root] INFO: No next page. Terminating crawling process.\n",
      "2022-04-14 22:32:47 [root] INFO: No next page. Terminating crawling process.\n",
      "2022-04-14 22:32:47 [root] INFO: No next page. Terminating crawling process.\n",
      "2022-04-14 22:32:48 [root] INFO: No next page. Terminating crawling process.\n",
      "2022-04-14 22:32:48 [root] INFO: No next page. Terminating crawling process.\n",
      "2022-04-14 22:32:48 [scrapy.core.engine] INFO: Closing spider (finished)\n",
      "2022-04-14 22:32:48 [scrapy.extensions.feedexport] INFO: Stored json feed (35 items) in: cities.json\n",
      "2022-04-14 22:32:48 [scrapy.statscollectors] INFO: Dumping Scrapy stats:\n",
      "{'downloader/request_bytes': 50685,\n",
      " 'downloader/request_count': 36,\n",
      " 'downloader/request_method_count/GET': 36,\n",
      " 'downloader/response_bytes': 6236003,\n",
      " 'downloader/response_count': 36,\n",
      " 'downloader/response_status_count/200': 36,\n",
      " 'elapsed_time_seconds': 28.129696,\n",
      " 'feedexport/success_count/FileFeedStorage': 1,\n",
      " 'finish_reason': 'finished',\n",
      " 'finish_time': datetime.datetime(2022, 4, 14, 20, 32, 48, 888005),\n",
      " 'httpcompression/response_bytes': 41716200,\n",
      " 'httpcompression/response_count': 36,\n",
      " 'item_scraped_count': 35,\n",
      " 'log_count/INFO': 46,\n",
      " 'memusage/max': 164179968,\n",
      " 'memusage/startup': 164179968,\n",
      " 'request_depth_max': 1,\n",
      " 'response_received_count': 36,\n",
      " 'scheduler/dequeued': 36,\n",
      " 'scheduler/dequeued/memory': 36,\n",
      " 'scheduler/enqueued': 36,\n",
      " 'scheduler/enqueued/memory': 36,\n",
      " 'start_time': datetime.datetime(2022, 4, 14, 20, 32, 20, 758309)}\n",
      "2022-04-14 22:32:48 [scrapy.core.engine] INFO: Spider closed (finished)\n"
     ]
    }
   ],
   "source": [
    "# Initializing the crawler process\n",
    "filename = \"cities.json\"\n",
    "\n",
    "if filename in os.listdir():\n",
    "        os.remove(filename)\n",
    "\n",
    "process = CrawlerProcess(settings = {\n",
    "    'USER_AGENT': 'Mozilla/5.0 (Windows NT 10.0; Win64; x64; rv:92.0) Gecko/20100101 Firefox/92.0',\n",
    "    'LOG_LEVEL': logging.INFO,\n",
    "    \"FEEDS\": {\n",
    "        filename: {\"format\": \"json\"},\n",
    "    },\n",
    "    \"AUTOTHROTTLE_ENABLED\": True\n",
    "})\n",
    "\n",
    "process.crawl(BookingSpider)\n",
    "process.start()"
   ]
  },
  {
   "cell_type": "code",
   "execution_count": 26,
   "metadata": {},
   "outputs": [
    {
     "data": {
      "text/html": [
       "<div>\n",
       "<style scoped>\n",
       "    .dataframe tbody tr th:only-of-type {\n",
       "        vertical-align: middle;\n",
       "    }\n",
       "\n",
       "    .dataframe tbody tr th {\n",
       "        vertical-align: top;\n",
       "    }\n",
       "\n",
       "    .dataframe thead th {\n",
       "        text-align: right;\n",
       "    }\n",
       "</style>\n",
       "<table border=\"1\" class=\"dataframe\">\n",
       "  <thead>\n",
       "    <tr style=\"text-align: right;\">\n",
       "      <th></th>\n",
       "      <th>location</th>\n",
       "      <th>name</th>\n",
       "      <th>url</th>\n",
       "    </tr>\n",
       "  </thead>\n",
       "  <tbody>\n",
       "    <tr>\n",
       "      <th>0</th>\n",
       "      <td>Mont+Saint+Michel</td>\n",
       "      <td>[Hôtel Vert, Le Relais Saint Michel, La Mère P...</td>\n",
       "      <td>[https://www.booking.com/hotel/fr/vert.fr.html...</td>\n",
       "    </tr>\n",
       "    <tr>\n",
       "      <th>1</th>\n",
       "      <td>St+Malo</td>\n",
       "      <td>[Hotel Eden, Hotel d'Aleth, Hotel Ajoncs d'Or,...</td>\n",
       "      <td>[https://www.booking.com/hotel/fr/eden-saint-m...</td>\n",
       "    </tr>\n",
       "    <tr>\n",
       "      <th>2</th>\n",
       "      <td>Bayeux</td>\n",
       "      <td>[ibis budget Bayeux, Hôtel De Brunville et La ...</td>\n",
       "      <td>[https://www.booking.com/hotel/fr/etap-bayeux....</td>\n",
       "    </tr>\n",
       "    <tr>\n",
       "      <th>3</th>\n",
       "      <td>Le+Havre</td>\n",
       "      <td>[Holiday Inn Express - Le Havre Centre, Nomad ...</td>\n",
       "      <td>[https://www.booking.com/hotel/fr/campanile-le...</td>\n",
       "    </tr>\n",
       "    <tr>\n",
       "      <th>4</th>\n",
       "      <td>Rouen</td>\n",
       "      <td>[Radisson Blu Hotel, Rouen Centre, Maison hype...</td>\n",
       "      <td>[https://www.booking.com/hotel/fr/radisson-blu...</td>\n",
       "    </tr>\n",
       "  </tbody>\n",
       "</table>\n",
       "</div>"
      ],
      "text/plain": [
       "            location                                               name  \\\n",
       "0  Mont+Saint+Michel  [Hôtel Vert, Le Relais Saint Michel, La Mère P...   \n",
       "1            St+Malo  [Hotel Eden, Hotel d'Aleth, Hotel Ajoncs d'Or,...   \n",
       "2             Bayeux  [ibis budget Bayeux, Hôtel De Brunville et La ...   \n",
       "3           Le+Havre  [Holiday Inn Express - Le Havre Centre, Nomad ...   \n",
       "4              Rouen  [Radisson Blu Hotel, Rouen Centre, Maison hype...   \n",
       "\n",
       "                                                 url  \n",
       "0  [https://www.booking.com/hotel/fr/vert.fr.html...  \n",
       "1  [https://www.booking.com/hotel/fr/eden-saint-m...  \n",
       "2  [https://www.booking.com/hotel/fr/etap-bayeux....  \n",
       "3  [https://www.booking.com/hotel/fr/campanile-le...  \n",
       "4  [https://www.booking.com/hotel/fr/radisson-blu...  "
      ]
     },
     "execution_count": 26,
     "metadata": {},
     "output_type": "execute_result"
    }
   ],
   "source": [
    "# Reading the scraped json data into a new dataframe\n",
    "df = pd.read_json(\"cities.json\")\n",
    "df.head()"
   ]
  },
  {
   "cell_type": "code",
   "execution_count": 27,
   "metadata": {},
   "outputs": [],
   "source": [
    "# Keeping only the first 20 items from each list\n",
    "for i in range (len(df[\"location\"])):\n",
    "    df[\"name\"][i] = df[\"name\"][i][:20]\n",
    "    df[\"url\"][i] = df[\"url\"][i][:20]\n"
   ]
  },
  {
   "cell_type": "code",
   "execution_count": 28,
   "metadata": {},
   "outputs": [
    {
     "name": "stdout",
     "output_type": "stream",
     "text": [
      "Mont+Saint+Michel completed\n",
      "St+Malo completed\n",
      "Bayeux completed\n",
      "Le+Havre completed\n",
      "Rouen completed\n",
      "Paris completed\n",
      "Amiens completed\n",
      "Lille completed\n",
      "Strasbourg completed\n",
      "Chateau+du+Haut+Koenigsbourg completed\n",
      "Colmar completed\n",
      "Eguisheim completed\n",
      "Besancon completed\n",
      "Dijon completed\n",
      "Grenoble completed\n",
      "Annecy completed\n",
      "La+Rochelle completed\n",
      "Bayonne completed\n",
      "Biarritz completed\n",
      "Montauban completed\n",
      "Toulouse completed\n",
      "Ariege completed\n",
      "Carcassonne completed\n",
      "Collioure completed\n",
      "Saintes+Maries+de+la+mer completed\n",
      "Aigues+Mortes completed\n",
      "Nimes completed\n",
      "Uzes completed\n",
      "Avignon completed\n",
      "Aix+en+Provence completed\n",
      "Marseille completed\n",
      "Cassis completed\n",
      "Bormes+les+Mimosas completed\n",
      "Gorges+du+Verdon completed\n",
      "Lyon completed\n",
      "Task completed\n"
     ]
    }
   ],
   "source": [
    "# Initializing the scraper with BeautifulSoup\n",
    "lat_full = []\n",
    "lon_full = []\n",
    "description_full = []\n",
    "score_full = []\n",
    "\n",
    "navigator = 'Mozilla/5.0 (Macintosh; Intel Mac OS X 10_10_1)'\n",
    "\n",
    "for i in range(len(df[\"url\"])):\n",
    "    lat_list = []\n",
    "    lon_list = []\n",
    "    description_list = []\n",
    "    score_list = []\n",
    "    hotel_list = df[\"url\"][i]\n",
    "\n",
    "    for j in hotel_list:\n",
    "\n",
    "        # In some cases, the process will return an error on the first attempt\n",
    "        try:\n",
    "            page = requests.get(j, headers={'User-Agent': navigator})\n",
    "            soup = BeautifulSoup(page.text, 'html.parser')\n",
    "        except:\n",
    "            page = requests.get(j, headers={'User-Agent': navigator})\n",
    "            soup = BeautifulSoup(page.text, 'html.parser')\n",
    "\n",
    "        lat_list.append(soup.select('p.address.address_clean a')[0].get(\"data-atlas-latlng\").split(\",\")[0])\n",
    "        lon_list.append(soup.select('p.address.address_clean a')[0].get(\"data-atlas-latlng\").split(\",\")[1])\n",
    "        description_list.append(soup.select('div#property_description_content')[0].get_text())\n",
    "\n",
    "        try:\n",
    "            score_list.append(soup.select('div.b5cd09854e.d10a6220b4')[0].get_text())\n",
    "            \n",
    "        except:\n",
    "            # If the score is missing, setting the default value to 5.0\n",
    "            score_list.append(\"5.0\")\n",
    "\n",
    "        # Setting up a wait timer to avoid spamming the website\n",
    "        time.sleep(1.4)\n",
    "        \n",
    "    lat_full.append(lat_list)\n",
    "    lon_full.append(lon_list)\n",
    "    description_full.append(description_list)\n",
    "    score_full.append(score_list)\n",
    "    \n",
    "    # Printing the progress, the whole process takes a bit more than 40 minutes\n",
    "    print (f\"{df['location'].iloc[i]} completed\")\n",
    "\n",
    "# Adding new columns based on lists of lists gathered above    \n",
    "df[\"lat\"] = lat_full\n",
    "df[\"lon\"] = lon_full\n",
    "df[\"description\"] = description_full\n",
    "df[\"score\"] = score_full\n",
    "print('Task completed')"
   ]
  },
  {
   "cell_type": "code",
   "execution_count": 29,
   "metadata": {},
   "outputs": [],
   "source": [
    "# Replacing the + in cities names and reindexing the dataframe to add the id column that will be useful to merge later\n",
    "df[\"location\"] = df[\"location\"].str.replace(\"+\", \" \", regex=True)\n",
    "df = df.set_index(\"location\")\n",
    "df = df.reindex(cities)\n",
    "df.reset_index(inplace=True)\n",
    "df.reset_index(inplace=True)\n",
    "df.rename(columns={'index': 'id'}, inplace=True)\n",
    "df.to_csv('df_bs4.csv', index=False)"
   ]
  },
  {
   "cell_type": "markdown",
   "metadata": {},
   "source": [
    "## Getting API Data"
   ]
  },
  {
   "cell_type": "markdown",
   "metadata": {},
   "source": [
    "### GPS Coordinates"
   ]
  },
  {
   "cell_type": "code",
   "execution_count": 30,
   "metadata": {},
   "outputs": [],
   "source": [
    "# Creating another copy of the cities dataframe to store the coordinates data from Nominatim API\n",
    "df_gps = df_cities.copy(deep=True)\n",
    "lat_list = []\n",
    "lon_list = []\n",
    "\n",
    "for i in cities:\n",
    "    # There is no Gorges du Verdon city, replacing by the closest city instead\n",
    "    if i == \"Gorges du Verdon\":\n",
    "        i = \"La%20Palud-sur-Verdon\"\n",
    "        r = requests.get(f\"https://nominatim.openstreetmap.org/search?city={i}&format=json\").json()\n",
    "        lat_list.append(r[0]['lat'])\n",
    "        lon_list.append(r[0]['lon'])\n",
    "    # Ariege is not a city, using the county instead here\n",
    "    elif i == 'Ariege':\n",
    "        r = requests.get(f\"https://nominatim.openstreetmap.org/search?county={i}&format=json\").json()\n",
    "        lat_list.append(r[0]['lat'])\n",
    "        lon_list.append(r[0]['lon'])\n",
    "    # Replacing the whitespace by a web friendly notation\n",
    "    else:\n",
    "        name = i.replace(\" \", \"%20\")\n",
    "        r = requests.get(f\"https://nominatim.openstreetmap.org/search?city={name}&format=json\").json()\n",
    "        lat_list.append(r[0]['lat'])\n",
    "        lon_list.append(r[0]['lon'])\n",
    " \n",
    "# Adding the coordinates to the dataframe   \n",
    "df_gps['lat'] = lat_list\n",
    "df_gps['lon'] = lon_list "
   ]
  },
  {
   "cell_type": "code",
   "execution_count": 31,
   "metadata": {},
   "outputs": [
    {
     "data": {
      "text/html": [
       "<div>\n",
       "<style scoped>\n",
       "    .dataframe tbody tr th:only-of-type {\n",
       "        vertical-align: middle;\n",
       "    }\n",
       "\n",
       "    .dataframe tbody tr th {\n",
       "        vertical-align: top;\n",
       "    }\n",
       "\n",
       "    .dataframe thead th {\n",
       "        text-align: right;\n",
       "    }\n",
       "</style>\n",
       "<table border=\"1\" class=\"dataframe\">\n",
       "  <thead>\n",
       "    <tr style=\"text-align: right;\">\n",
       "      <th></th>\n",
       "      <th>id</th>\n",
       "      <th>city</th>\n",
       "      <th>lat</th>\n",
       "      <th>lon</th>\n",
       "    </tr>\n",
       "  </thead>\n",
       "  <tbody>\n",
       "    <tr>\n",
       "      <th>0</th>\n",
       "      <td>0</td>\n",
       "      <td>Mont Saint Michel</td>\n",
       "      <td>48.6359541</td>\n",
       "      <td>-1.511459954959514</td>\n",
       "    </tr>\n",
       "    <tr>\n",
       "      <th>1</th>\n",
       "      <td>1</td>\n",
       "      <td>St Malo</td>\n",
       "      <td>48.649518</td>\n",
       "      <td>-2.0260409</td>\n",
       "    </tr>\n",
       "    <tr>\n",
       "      <th>2</th>\n",
       "      <td>2</td>\n",
       "      <td>Bayeux</td>\n",
       "      <td>49.2764624</td>\n",
       "      <td>-0.7024738</td>\n",
       "    </tr>\n",
       "    <tr>\n",
       "      <th>3</th>\n",
       "      <td>3</td>\n",
       "      <td>Le Havre</td>\n",
       "      <td>49.4938975</td>\n",
       "      <td>0.1079732</td>\n",
       "    </tr>\n",
       "    <tr>\n",
       "      <th>4</th>\n",
       "      <td>4</td>\n",
       "      <td>Rouen</td>\n",
       "      <td>49.4404591</td>\n",
       "      <td>1.0939658</td>\n",
       "    </tr>\n",
       "  </tbody>\n",
       "</table>\n",
       "</div>"
      ],
      "text/plain": [
       "   id               city         lat                 lon\n",
       "0   0  Mont Saint Michel  48.6359541  -1.511459954959514\n",
       "1   1            St Malo   48.649518          -2.0260409\n",
       "2   2             Bayeux  49.2764624          -0.7024738\n",
       "3   3           Le Havre  49.4938975           0.1079732\n",
       "4   4              Rouen  49.4404591           1.0939658"
      ]
     },
     "execution_count": 31,
     "metadata": {},
     "output_type": "execute_result"
    }
   ],
   "source": [
    "df_gps.head()"
   ]
  },
  {
   "cell_type": "markdown",
   "metadata": {},
   "source": [
    "### Weather Data"
   ]
  },
  {
   "cell_type": "code",
   "execution_count": 33,
   "metadata": {},
   "outputs": [
    {
     "ename": "KeyError",
     "evalue": "'daily'",
     "output_type": "error",
     "traceback": [
      "\u001b[0;31m---------------------------------------------------------------------------\u001b[0m",
      "\u001b[0;31mKeyError\u001b[0m                                  Traceback (most recent call last)",
      "\u001b[1;32m/Users/guillaumearp/Python_Projects/Kayak_Project/kayak.ipynb Cell 18'\u001b[0m in \u001b[0;36m<cell line: 9>\u001b[0;34m()\u001b[0m\n\u001b[1;32m     <a href='vscode-notebook-cell:/Users/guillaumearp/Python_Projects/Kayak_Project/kayak.ipynb#ch0000017?line=10'>11</a>\u001b[0m lon \u001b[39m=\u001b[39m i\u001b[39m.\u001b[39mlon\n\u001b[1;32m     <a href='vscode-notebook-cell:/Users/guillaumearp/Python_Projects/Kayak_Project/kayak.ipynb#ch0000017?line=11'>12</a>\u001b[0m r \u001b[39m=\u001b[39m requests\u001b[39m.\u001b[39mget(\u001b[39mf\u001b[39m\u001b[39m\"\u001b[39m\u001b[39mhttps://api.openweathermap.org/data/2.5/onecall?lat=\u001b[39m\u001b[39m{\u001b[39;00mlat\u001b[39m}\u001b[39;00m\u001b[39m&lon=\u001b[39m\u001b[39m{\u001b[39;00mlon\u001b[39m}\u001b[39;00m\u001b[39m&units=metric&appid=\u001b[39m\u001b[39m{\u001b[39;00mkey\u001b[39m}\u001b[39;00m\u001b[39m\"\u001b[39m)\u001b[39m.\u001b[39mjson()\n\u001b[0;32m---> <a href='vscode-notebook-cell:/Users/guillaumearp/Python_Projects/Kayak_Project/kayak.ipynb#ch0000017?line=12'>13</a>\u001b[0m weather_7_days \u001b[39m=\u001b[39m r[\u001b[39m'\u001b[39;49m\u001b[39mdaily\u001b[39;49m\u001b[39m'\u001b[39;49m][\u001b[39m1\u001b[39m:] \u001b[39m# Getting the weather data for the next 7 days, first item is the current weather, which we don't want here\u001b[39;00m\n\u001b[1;32m     <a href='vscode-notebook-cell:/Users/guillaumearp/Python_Projects/Kayak_Project/kayak.ipynb#ch0000017?line=13'>14</a>\u001b[0m temps \u001b[39m=\u001b[39m [j[\u001b[39m'\u001b[39m\u001b[39mfeels_like\u001b[39m\u001b[39m'\u001b[39m][\u001b[39m'\u001b[39m\u001b[39mday\u001b[39m\u001b[39m'\u001b[39m] \u001b[39mfor\u001b[39;00m j \u001b[39min\u001b[39;00m weather_7_days]\n\u001b[1;32m     <a href='vscode-notebook-cell:/Users/guillaumearp/Python_Projects/Kayak_Project/kayak.ipynb#ch0000017?line=14'>15</a>\u001b[0m rain \u001b[39m=\u001b[39m [\u001b[39mint\u001b[39m(j[\u001b[39m'\u001b[39m\u001b[39mpop\u001b[39m\u001b[39m'\u001b[39m] \u001b[39m*\u001b[39m \u001b[39m100\u001b[39m) \u001b[39mfor\u001b[39;00m j \u001b[39min\u001b[39;00m weather_7_days]\n",
      "\u001b[0;31mKeyError\u001b[0m: 'daily'"
     ]
    }
   ],
   "source": [
    "# Getting the weather data based on coordinates from the Openweathermap API\n",
    "df_full = df_gps.copy(deep=True)\n",
    "temps_list = []\n",
    "rain_pop = []\n",
    "humidity_list = []\n",
    "# The days list will be used to store data as items of a list for day +1 to day +7\n",
    "days = list(range(1,8))\n",
    "\n",
    "for i in df_full.itertuples():\n",
    "    lat = i.lat\n",
    "    lon = i.lon\n",
    "    r = requests.get(f\"https://api.openweathermap.org/data/2.5/onecall?lat={lat}&lon={lon}&units=metric&appid={key}\").json()\n",
    "    weather_7_days = r['daily'][1:] # Getting the weather data for the next 7 days, first item is the current weather, which we don't want here\n",
    "    temps = [j['feels_like']['day'] for j in weather_7_days]\n",
    "    rain = [int(j['pop'] * 100) for j in weather_7_days]\n",
    "    humidity = [j['humidity'] for j in weather_7_days]\n",
    "    temps_list.append(temps)\n",
    "    rain_pop.append(rain)\n",
    "    humidity_list.append(humidity)\n",
    "    \n",
    "df_full['day_plus'] = [days for _ in range(len(df_full))]\n",
    "df_full['felt_temperature'] = temps_list\n",
    "df_full['rain_chances'] = rain_pop\n",
    "df_full['humidity'] = humidity_list\n",
    "# Calculation of a weather quality indicator, using absolute value of 35 - temperature (with a weight of 2), chances of rain as a percentage, and humidity as a percentage (with a weight of 0.5) - lower is better\n",
    "df_full['score_weather'] = df_full.apply(lambda x: abs((35 - np.mean(x['felt_temperature'])) * 2) + np.mean(x['rain_chances']) + (np.mean(x['humidity']) / 2), axis=1)   "
   ]
  },
  {
   "cell_type": "code",
   "execution_count": 36,
   "metadata": {},
   "outputs": [
    {
     "data": {
      "text/plain": [
       "<Response [429]>"
      ]
     },
     "execution_count": 36,
     "metadata": {},
     "output_type": "execute_result"
    }
   ],
   "source": [
    "requests.get(f\"https://api.openweathermap.org/data/2.5/onecall?lat={lat}&lon={lon}&units=metric&appid={key}\")"
   ]
  },
  {
   "cell_type": "code",
   "execution_count": null,
   "metadata": {},
   "outputs": [
    {
     "data": {
      "text/html": [
       "<div>\n",
       "<style scoped>\n",
       "    .dataframe tbody tr th:only-of-type {\n",
       "        vertical-align: middle;\n",
       "    }\n",
       "\n",
       "    .dataframe tbody tr th {\n",
       "        vertical-align: top;\n",
       "    }\n",
       "\n",
       "    .dataframe thead th {\n",
       "        text-align: right;\n",
       "    }\n",
       "</style>\n",
       "<table border=\"1\" class=\"dataframe\">\n",
       "  <thead>\n",
       "    <tr style=\"text-align: right;\">\n",
       "      <th></th>\n",
       "      <th>id</th>\n",
       "      <th>city</th>\n",
       "      <th>lat</th>\n",
       "      <th>lon</th>\n",
       "      <th>day_plus</th>\n",
       "      <th>felt_temperature</th>\n",
       "      <th>rain_chances</th>\n",
       "      <th>humidity</th>\n",
       "      <th>score_weather</th>\n",
       "    </tr>\n",
       "  </thead>\n",
       "  <tbody>\n",
       "    <tr>\n",
       "      <th>0</th>\n",
       "      <td>0</td>\n",
       "      <td>Mont Saint Michel</td>\n",
       "      <td>48.6359541</td>\n",
       "      <td>-1.511459954959514</td>\n",
       "      <td>[1, 2, 3, 4, 5, 6, 7]</td>\n",
       "      <td>[15.67, 16.18, 12.48, 15.19, 13.85, 14.85, 17.06]</td>\n",
       "      <td>[0, 0, 85, 100, 6, 0, 77]</td>\n",
       "      <td>[50, 56, 87, 59, 58, 54, 66]</td>\n",
       "      <td>108.920000</td>\n",
       "    </tr>\n",
       "    <tr>\n",
       "      <th>1</th>\n",
       "      <td>1</td>\n",
       "      <td>St Malo</td>\n",
       "      <td>48.649518</td>\n",
       "      <td>-2.0260409</td>\n",
       "      <td>[1, 2, 3, 4, 5, 6, 7]</td>\n",
       "      <td>[13.36, 13.98, 11.35, 12.99, 11.72, 12.41, 14.74]</td>\n",
       "      <td>[0, 6, 79, 100, 13, 1, 63]</td>\n",
       "      <td>[59, 67, 89, 69, 67, 67, 76]</td>\n",
       "      <td>116.842857</td>\n",
       "    </tr>\n",
       "    <tr>\n",
       "      <th>2</th>\n",
       "      <td>2</td>\n",
       "      <td>Bayeux</td>\n",
       "      <td>49.2764624</td>\n",
       "      <td>-0.7024738</td>\n",
       "      <td>[1, 2, 3, 4, 5, 6, 7]</td>\n",
       "      <td>[13.74, 12.72, 11.53, 12.14, 11.07, 11.7, 10.62]</td>\n",
       "      <td>[0, 0, 71, 77, 0, 0, 87]</td>\n",
       "      <td>[63, 72, 86, 69, 64, 63, 86]</td>\n",
       "      <td>115.637143</td>\n",
       "    </tr>\n",
       "    <tr>\n",
       "      <th>3</th>\n",
       "      <td>3</td>\n",
       "      <td>Le Havre</td>\n",
       "      <td>49.4938975</td>\n",
       "      <td>0.1079732</td>\n",
       "      <td>[1, 2, 3, 4, 5, 6, 7]</td>\n",
       "      <td>[13.5, 12.63, 14.55, 11.81, 9.59, 10.51, 13.71]</td>\n",
       "      <td>[0, 0, 51, 47, 0, 0, 49]</td>\n",
       "      <td>[61, 69, 70, 66, 67, 65, 65]</td>\n",
       "      <td>99.414286</td>\n",
       "    </tr>\n",
       "    <tr>\n",
       "      <th>4</th>\n",
       "      <td>4</td>\n",
       "      <td>Rouen</td>\n",
       "      <td>49.4404591</td>\n",
       "      <td>1.0939658</td>\n",
       "      <td>[1, 2, 3, 4, 5, 6, 7]</td>\n",
       "      <td>[14.58, 13.61, 15.52, 12.71, 12.44, 13.26, 15.75]</td>\n",
       "      <td>[0, 0, 46, 33, 20, 0, 0]</td>\n",
       "      <td>[57, 64, 67, 60, 58, 58, 59]</td>\n",
       "      <td>86.394286</td>\n",
       "    </tr>\n",
       "  </tbody>\n",
       "</table>\n",
       "</div>"
      ],
      "text/plain": [
       "   id               city         lat                 lon  \\\n",
       "0   0  Mont Saint Michel  48.6359541  -1.511459954959514   \n",
       "1   1            St Malo   48.649518          -2.0260409   \n",
       "2   2             Bayeux  49.2764624          -0.7024738   \n",
       "3   3           Le Havre  49.4938975           0.1079732   \n",
       "4   4              Rouen  49.4404591           1.0939658   \n",
       "\n",
       "                day_plus                                   felt_temperature  \\\n",
       "0  [1, 2, 3, 4, 5, 6, 7]  [15.67, 16.18, 12.48, 15.19, 13.85, 14.85, 17.06]   \n",
       "1  [1, 2, 3, 4, 5, 6, 7]  [13.36, 13.98, 11.35, 12.99, 11.72, 12.41, 14.74]   \n",
       "2  [1, 2, 3, 4, 5, 6, 7]   [13.74, 12.72, 11.53, 12.14, 11.07, 11.7, 10.62]   \n",
       "3  [1, 2, 3, 4, 5, 6, 7]    [13.5, 12.63, 14.55, 11.81, 9.59, 10.51, 13.71]   \n",
       "4  [1, 2, 3, 4, 5, 6, 7]  [14.58, 13.61, 15.52, 12.71, 12.44, 13.26, 15.75]   \n",
       "\n",
       "                 rain_chances                      humidity  score_weather  \n",
       "0   [0, 0, 85, 100, 6, 0, 77]  [50, 56, 87, 59, 58, 54, 66]     108.920000  \n",
       "1  [0, 6, 79, 100, 13, 1, 63]  [59, 67, 89, 69, 67, 67, 76]     116.842857  \n",
       "2    [0, 0, 71, 77, 0, 0, 87]  [63, 72, 86, 69, 64, 63, 86]     115.637143  \n",
       "3    [0, 0, 51, 47, 0, 0, 49]  [61, 69, 70, 66, 67, 65, 65]      99.414286  \n",
       "4    [0, 0, 46, 33, 20, 0, 0]  [57, 64, 67, 60, 58, 58, 59]      86.394286  "
      ]
     },
     "execution_count": 12,
     "metadata": {},
     "output_type": "execute_result"
    }
   ],
   "source": [
    "df_full.head()"
   ]
  },
  {
   "cell_type": "markdown",
   "metadata": {},
   "source": [
    "## Merging Data"
   ]
  },
  {
   "cell_type": "code",
   "execution_count": null,
   "metadata": {},
   "outputs": [],
   "source": [
    "# Renaming coordinates columns to avoid confusion between city and hotel coordinates\n",
    "df.rename(columns={'lat': 'lat_hotels', 'lon': 'lon_hotels'}, inplace=True)"
   ]
  },
  {
   "cell_type": "code",
   "execution_count": null,
   "metadata": {},
   "outputs": [
    {
     "name": "stdout",
     "output_type": "stream",
     "text": [
      "(35, 15)\n"
     ]
    }
   ],
   "source": [
    "# Merging the hotels and weather dataframes, and dropping the unnecessary location column\n",
    "df_complete = pd.merge(df_full, df, on='id')\n",
    "df_complete.drop(columns=['location'], inplace=True)\n",
    "now = datetime.datetime.now()\n",
    "df_complete['updated_at'] = now\n",
    "print(df_complete.shape)\n",
    "\n",
    "# Saving the merged dataset as a csv file\n",
    "df_complete.to_csv('df_complete.csv', index=False, header=True)"
   ]
  },
  {
   "cell_type": "markdown",
   "metadata": {},
   "source": [
    "## Storing the dataset in a S3 data lake"
   ]
  },
  {
   "cell_type": "code",
   "execution_count": null,
   "metadata": {},
   "outputs": [],
   "source": [
    "# Loading the S3 dession and resource\n",
    "session = boto3.Session()\n",
    "s3 = boto3.resource('s3')"
   ]
  },
  {
   "cell_type": "code",
   "execution_count": null,
   "metadata": {},
   "outputs": [],
   "source": [
    "# Uploading the file to S3\n",
    "s3.Bucket('kayak-project-garp').upload_file('df_complete.csv', 'df_complete.csv')"
   ]
  },
  {
   "cell_type": "code",
   "execution_count": null,
   "metadata": {},
   "outputs": [
    {
     "data": {
      "text/plain": [
       "(35, 16)"
      ]
     },
     "execution_count": 7,
     "metadata": {},
     "output_type": "execute_result"
    }
   ],
   "source": [
    "# Downloading the file from S3 and checking it kept the same shape.\n",
    "df_s3 = pd.read_csv('s3://kayak-project-garp/df_complete.csv')\n",
    "df_s3.shape"
   ]
  },
  {
   "cell_type": "markdown",
   "metadata": {},
   "source": [
    "## Transforming"
   ]
  },
  {
   "cell_type": "code",
   "execution_count": null,
   "metadata": {},
   "outputs": [],
   "source": [
    "# Splitting the dataframe into 2 tables\n",
    "\n",
    "df_weather = df_s3[['id', 'city', 'lat', 'lon', 'day_plus', 'felt_temperature', 'rain_chances', 'humidity', 'score_weather']]\n",
    "df_hotels = df_s3[['id', 'city', 'name', 'url', 'lat_hotels', 'lon_hotels', 'description', 'score', 'score_weather']]"
   ]
  },
  {
   "cell_type": "code",
   "execution_count": null,
   "metadata": {},
   "outputs": [
    {
     "data": {
      "text/html": [
       "<div>\n",
       "<style scoped>\n",
       "    .dataframe tbody tr th:only-of-type {\n",
       "        vertical-align: middle;\n",
       "    }\n",
       "\n",
       "    .dataframe tbody tr th {\n",
       "        vertical-align: top;\n",
       "    }\n",
       "\n",
       "    .dataframe thead th {\n",
       "        text-align: right;\n",
       "    }\n",
       "</style>\n",
       "<table border=\"1\" class=\"dataframe\">\n",
       "  <thead>\n",
       "    <tr style=\"text-align: right;\">\n",
       "      <th></th>\n",
       "      <th>id</th>\n",
       "      <th>city</th>\n",
       "      <th>lat</th>\n",
       "      <th>lon</th>\n",
       "      <th>day_plus</th>\n",
       "      <th>felt_temperature</th>\n",
       "      <th>rain_chances</th>\n",
       "      <th>humidity</th>\n",
       "      <th>score_weather</th>\n",
       "    </tr>\n",
       "  </thead>\n",
       "  <tbody>\n",
       "    <tr>\n",
       "      <th>0</th>\n",
       "      <td>0</td>\n",
       "      <td>Mont Saint Michel</td>\n",
       "      <td>48.635954</td>\n",
       "      <td>-1.511460</td>\n",
       "      <td>[1, 2, 3, 4, 5, 6, 7]</td>\n",
       "      <td>[16.49, 12.81, 14.74, 14.83, 15.44, 18.17, 19.31]</td>\n",
       "      <td>[72, 4, 0, 0, 33, 31, 36]</td>\n",
       "      <td>[61, 64, 53, 52, 59, 67, 60]</td>\n",
       "      <td>92.917143</td>\n",
       "    </tr>\n",
       "    <tr>\n",
       "      <th>1</th>\n",
       "      <td>1</td>\n",
       "      <td>St Malo</td>\n",
       "      <td>48.649518</td>\n",
       "      <td>-2.026041</td>\n",
       "      <td>[1, 2, 3, 4, 5, 6, 7]</td>\n",
       "      <td>[13.73, 11.48, 12.75, 13.03, 13.1, 15.51, 16.39]</td>\n",
       "      <td>[81, 3, 0, 0, 30, 33, 23]</td>\n",
       "      <td>[77, 68, 63, 62, 72, 73, 71]</td>\n",
       "      <td>101.574286</td>\n",
       "    </tr>\n",
       "    <tr>\n",
       "      <th>2</th>\n",
       "      <td>2</td>\n",
       "      <td>Bayeux</td>\n",
       "      <td>49.276462</td>\n",
       "      <td>-0.702474</td>\n",
       "      <td>[1, 2, 3, 4, 5, 6, 7]</td>\n",
       "      <td>[12.89, 10.4, 12.16, 11.22, 13.23, 16.18, 15.91]</td>\n",
       "      <td>[80, 0, 0, 0, 0, 22, 0]</td>\n",
       "      <td>[73, 72, 67, 63, 71, 69, 69]</td>\n",
       "      <td>92.860000</td>\n",
       "    </tr>\n",
       "    <tr>\n",
       "      <th>3</th>\n",
       "      <td>3</td>\n",
       "      <td>Le Havre</td>\n",
       "      <td>49.493898</td>\n",
       "      <td>0.107973</td>\n",
       "      <td>[1, 2, 3, 4, 5, 6, 7]</td>\n",
       "      <td>[12.84, 11.51, 12.31, 12.08, 14.94, 15.96, 15.4]</td>\n",
       "      <td>[88, 2, 0, 0, 0, 0, 0]</td>\n",
       "      <td>[70, 70, 63, 60, 59, 68, 69]</td>\n",
       "      <td>88.488571</td>\n",
       "    </tr>\n",
       "    <tr>\n",
       "      <th>4</th>\n",
       "      <td>4</td>\n",
       "      <td>Rouen</td>\n",
       "      <td>49.440459</td>\n",
       "      <td>1.093966</td>\n",
       "      <td>[1, 2, 3, 4, 5, 6, 7]</td>\n",
       "      <td>[15.42, 13.54, 13.91, 13.99, 16.97, 19.3, 17.3]</td>\n",
       "      <td>[70, 42, 0, 0, 0, 0, 0]</td>\n",
       "      <td>[61, 61, 54, 55, 52, 52, 58]</td>\n",
       "      <td>82.520000</td>\n",
       "    </tr>\n",
       "  </tbody>\n",
       "</table>\n",
       "</div>"
      ],
      "text/plain": [
       "   id               city        lat       lon               day_plus  \\\n",
       "0   0  Mont Saint Michel  48.635954 -1.511460  [1, 2, 3, 4, 5, 6, 7]   \n",
       "1   1            St Malo  48.649518 -2.026041  [1, 2, 3, 4, 5, 6, 7]   \n",
       "2   2             Bayeux  49.276462 -0.702474  [1, 2, 3, 4, 5, 6, 7]   \n",
       "3   3           Le Havre  49.493898  0.107973  [1, 2, 3, 4, 5, 6, 7]   \n",
       "4   4              Rouen  49.440459  1.093966  [1, 2, 3, 4, 5, 6, 7]   \n",
       "\n",
       "                                    felt_temperature  \\\n",
       "0  [16.49, 12.81, 14.74, 14.83, 15.44, 18.17, 19.31]   \n",
       "1   [13.73, 11.48, 12.75, 13.03, 13.1, 15.51, 16.39]   \n",
       "2   [12.89, 10.4, 12.16, 11.22, 13.23, 16.18, 15.91]   \n",
       "3   [12.84, 11.51, 12.31, 12.08, 14.94, 15.96, 15.4]   \n",
       "4    [15.42, 13.54, 13.91, 13.99, 16.97, 19.3, 17.3]   \n",
       "\n",
       "                rain_chances                      humidity  score_weather  \n",
       "0  [72, 4, 0, 0, 33, 31, 36]  [61, 64, 53, 52, 59, 67, 60]      92.917143  \n",
       "1  [81, 3, 0, 0, 30, 33, 23]  [77, 68, 63, 62, 72, 73, 71]     101.574286  \n",
       "2    [80, 0, 0, 0, 0, 22, 0]  [73, 72, 67, 63, 71, 69, 69]      92.860000  \n",
       "3     [88, 2, 0, 0, 0, 0, 0]  [70, 70, 63, 60, 59, 68, 69]      88.488571  \n",
       "4    [70, 42, 0, 0, 0, 0, 0]  [61, 61, 54, 55, 52, 52, 58]      82.520000  "
      ]
     },
     "execution_count": 9,
     "metadata": {},
     "output_type": "execute_result"
    }
   ],
   "source": [
    "df_weather.head()"
   ]
  },
  {
   "cell_type": "code",
   "execution_count": null,
   "metadata": {},
   "outputs": [
    {
     "data": {
      "text/html": [
       "<div>\n",
       "<style scoped>\n",
       "    .dataframe tbody tr th:only-of-type {\n",
       "        vertical-align: middle;\n",
       "    }\n",
       "\n",
       "    .dataframe tbody tr th {\n",
       "        vertical-align: top;\n",
       "    }\n",
       "\n",
       "    .dataframe thead th {\n",
       "        text-align: right;\n",
       "    }\n",
       "</style>\n",
       "<table border=\"1\" class=\"dataframe\">\n",
       "  <thead>\n",
       "    <tr style=\"text-align: right;\">\n",
       "      <th></th>\n",
       "      <th>id</th>\n",
       "      <th>city</th>\n",
       "      <th>name</th>\n",
       "      <th>url</th>\n",
       "      <th>lat_hotels</th>\n",
       "      <th>lon_hotels</th>\n",
       "      <th>description</th>\n",
       "      <th>score</th>\n",
       "      <th>score_weather</th>\n",
       "    </tr>\n",
       "  </thead>\n",
       "  <tbody>\n",
       "    <tr>\n",
       "      <th>0</th>\n",
       "      <td>0</td>\n",
       "      <td>Mont Saint Michel</td>\n",
       "      <td>['Le Relais Saint Michel', 'La Mère Poulard', ...</td>\n",
       "      <td>['https://www.booking.com/hotel/fr/le-relais-s...</td>\n",
       "      <td>['48.61758727', '48.63508532', '48.61424653', ...</td>\n",
       "      <td>['-1.51039615', '-1.51053965', '-1.51054502', ...</td>\n",
       "      <td>[\"\\nVous pouvez bénéficier d'une réduction Gen...</td>\n",
       "      <td>['7,8', '7,2', '8,2', '7,3', '7,2', '8,1', '8,...</td>\n",
       "      <td>92.917143</td>\n",
       "    </tr>\n",
       "    <tr>\n",
       "      <th>1</th>\n",
       "      <td>1</td>\n",
       "      <td>St Malo</td>\n",
       "      <td>['Studio cocooning', 'Apartment, St Malo', 'Pe...</td>\n",
       "      <td>['https://www.booking.com/hotel/fr/studio-coco...</td>\n",
       "      <td>['48.65537970', '48.65874000', '48.65956907', ...</td>\n",
       "      <td>['-2.00327690', '-1.97702800', '-1.98920718', ...</td>\n",
       "      <td>[\"\\nVous pouvez bénéficier d'une réduction Gen...</td>\n",
       "      <td>['9,5', '5.0', '9,3', '8,7', '7,5', '5.0', '7,...</td>\n",
       "      <td>101.574286</td>\n",
       "    </tr>\n",
       "    <tr>\n",
       "      <th>2</th>\n",
       "      <td>2</td>\n",
       "      <td>Bayeux</td>\n",
       "      <td>['Premiere Classe Bayeux', 'ibis budget Bayeux...</td>\n",
       "      <td>['https://www.booking.com/hotel/fr/premiere-cl...</td>\n",
       "      <td>['49.26942872', '49.25424209', '49.27571400', ...</td>\n",
       "      <td>['-0.70668697', '-0.64648747', '-0.69804200', ...</td>\n",
       "      <td>[\"\\nVous pouvez bénéficier d'une réduction Gen...</td>\n",
       "      <td>['7,7', '8,2', '9,7', '5.0', '7,8', '8,1', '7,...</td>\n",
       "      <td>92.860000</td>\n",
       "    </tr>\n",
       "    <tr>\n",
       "      <th>3</th>\n",
       "      <td>3</td>\n",
       "      <td>Le Havre</td>\n",
       "      <td>['Holiday Inn Express - Le Havre Centre', 'Ibi...</td>\n",
       "      <td>['https://www.booking.com/hotel/fr/campanile-l...</td>\n",
       "      <td>['49.49823800', '49.49424468', '49.49331760', ...</td>\n",
       "      <td>['0.12883700', '0.14285243', '0.12530688', '0....</td>\n",
       "      <td>[\"\\nL’Holiday Inn Express - Le Havre Centre, s...</td>\n",
       "      <td>['8,2', '8,4', '8,6', '8,1', '8.8', '7,5', '8,...</td>\n",
       "      <td>88.488571</td>\n",
       "    </tr>\n",
       "    <tr>\n",
       "      <th>4</th>\n",
       "      <td>4</td>\n",
       "      <td>Rouen</td>\n",
       "      <td>['Maison hypercentre Rouen tout confort', \"L'A...</td>\n",
       "      <td>['https://www.booking.com/hotel/fr/maison-hype...</td>\n",
       "      <td>['49.44465180', '49.44454400', '49.43572312', ...</td>\n",
       "      <td>['1.09132620', '1.09117800', '1.10273123', '1....</td>\n",
       "      <td>[\"\\nVous pouvez bénéficier d'une réduction Gen...</td>\n",
       "      <td>['8,8', '9,1', '8,2', '8,9', '9,1', '8,5', '8,...</td>\n",
       "      <td>82.520000</td>\n",
       "    </tr>\n",
       "  </tbody>\n",
       "</table>\n",
       "</div>"
      ],
      "text/plain": [
       "   id               city                                               name  \\\n",
       "0   0  Mont Saint Michel  ['Le Relais Saint Michel', 'La Mère Poulard', ...   \n",
       "1   1            St Malo  ['Studio cocooning', 'Apartment, St Malo', 'Pe...   \n",
       "2   2             Bayeux  ['Premiere Classe Bayeux', 'ibis budget Bayeux...   \n",
       "3   3           Le Havre  ['Holiday Inn Express - Le Havre Centre', 'Ibi...   \n",
       "4   4              Rouen  ['Maison hypercentre Rouen tout confort', \"L'A...   \n",
       "\n",
       "                                                 url  \\\n",
       "0  ['https://www.booking.com/hotel/fr/le-relais-s...   \n",
       "1  ['https://www.booking.com/hotel/fr/studio-coco...   \n",
       "2  ['https://www.booking.com/hotel/fr/premiere-cl...   \n",
       "3  ['https://www.booking.com/hotel/fr/campanile-l...   \n",
       "4  ['https://www.booking.com/hotel/fr/maison-hype...   \n",
       "\n",
       "                                          lat_hotels  \\\n",
       "0  ['48.61758727', '48.63508532', '48.61424653', ...   \n",
       "1  ['48.65537970', '48.65874000', '48.65956907', ...   \n",
       "2  ['49.26942872', '49.25424209', '49.27571400', ...   \n",
       "3  ['49.49823800', '49.49424468', '49.49331760', ...   \n",
       "4  ['49.44465180', '49.44454400', '49.43572312', ...   \n",
       "\n",
       "                                          lon_hotels  \\\n",
       "0  ['-1.51039615', '-1.51053965', '-1.51054502', ...   \n",
       "1  ['-2.00327690', '-1.97702800', '-1.98920718', ...   \n",
       "2  ['-0.70668697', '-0.64648747', '-0.69804200', ...   \n",
       "3  ['0.12883700', '0.14285243', '0.12530688', '0....   \n",
       "4  ['1.09132620', '1.09117800', '1.10273123', '1....   \n",
       "\n",
       "                                         description  \\\n",
       "0  [\"\\nVous pouvez bénéficier d'une réduction Gen...   \n",
       "1  [\"\\nVous pouvez bénéficier d'une réduction Gen...   \n",
       "2  [\"\\nVous pouvez bénéficier d'une réduction Gen...   \n",
       "3  [\"\\nL’Holiday Inn Express - Le Havre Centre, s...   \n",
       "4  [\"\\nVous pouvez bénéficier d'une réduction Gen...   \n",
       "\n",
       "                                               score  score_weather  \n",
       "0  ['7,8', '7,2', '8,2', '7,3', '7,2', '8,1', '8,...      92.917143  \n",
       "1  ['9,5', '5.0', '9,3', '8,7', '7,5', '5.0', '7,...     101.574286  \n",
       "2  ['7,7', '8,2', '9,7', '5.0', '7,8', '8,1', '7,...      92.860000  \n",
       "3  ['8,2', '8,4', '8,6', '8,1', '8.8', '7,5', '8,...      88.488571  \n",
       "4  ['8,8', '9,1', '8,2', '8,9', '9,1', '8,5', '8,...      82.520000  "
      ]
     },
     "execution_count": 10,
     "metadata": {},
     "output_type": "execute_result"
    }
   ],
   "source": [
    "df_hotels.head()"
   ]
  },
  {
   "cell_type": "code",
   "execution_count": null,
   "metadata": {},
   "outputs": [],
   "source": [
    "# The csv has converted the lists into strings, we need to revert that first for both dataframes\n",
    "df_weather_final = pd.DataFrame()\n",
    "df_weather_final[['id', 'city', 'lat', 'lon', 'score_weather']] = df_weather[['id', 'city', 'lat', 'lon', 'score_weather']]\n",
    "df_weather_final['day_plus'] = df_weather['day_plus'].apply(eval)\n",
    "df_weather_final['felt_temperature'] = df_weather['felt_temperature'].apply(eval)\n",
    "df_weather_final['rain_chances'] = df_weather['rain_chances'].apply(eval)\n",
    "df_weather_final['humidity'] = df_weather['humidity'].apply(eval)\n",
    "\n",
    "df_hotels_final = pd.DataFrame()\n",
    "df_hotels_final[['id', 'city', 'score_weather']] = df_hotels[['id', 'city', 'score_weather']]\n",
    "df_hotels_final['name'] = df_hotels['name'].apply(eval)\n",
    "df_hotels_final['url'] = df_hotels['url'].apply(eval)\n",
    "df_hotels_final['lat_hotels'] = df_hotels['lat_hotels'].apply(eval)\n",
    "df_hotels_final['lon_hotels'] = df_hotels['lon_hotels'].apply(eval)\n",
    "df_hotels_final['description'] = df_hotels['description'].apply(eval)\n",
    "df_hotels_final['score'] = df_hotels['score'].apply(eval)\n",
    "\n",
    "# We need to convert coordinates to numeric type as well\n",
    "df_weather_final[['lat', 'lon']] = df_weather[['lat', 'lon']].apply(pd.to_numeric)"
   ]
  },
  {
   "cell_type": "code",
   "execution_count": null,
   "metadata": {},
   "outputs": [],
   "source": [
    "# We need to sort the data by weather score and explode the lists to prepare the data for warehousing and plotting\n",
    "df_weather_full = df_weather_final.sort_values('score_weather')\n",
    "df_weather_full.reset_index(inplace=True, drop=True)\n",
    "df_weather_full = df_weather_full.apply(pd.Series.explode)\n",
    "df_weather_full[['day_plus', 'felt_temperature', 'rain_chances', 'humidity']] = df_weather_full[['day_plus', 'felt_temperature', 'rain_chances', 'humidity']].apply(pd.to_numeric)\n",
    "\n",
    "df_hotels_full = df_hotels_final.sort_values('score_weather')\n",
    "df_hotels_full.reset_index(inplace=True, drop=True)\n",
    "df_hotels_full = df_hotels_full.apply(pd.Series.explode)\n",
    "df_hotels_full['description'] = df_hotels_full['description'].replace(\"\\\\n\", \"\", regex=True)\n",
    "df_hotels_full['score'] = df_hotels_full['score'].replace(\",\", \".\", regex=True)\n",
    "df_hotels_full[['lat_hotels', 'lon_hotels', 'score']] = df_hotels_full[['lat_hotels', 'lon_hotels', 'score']].apply(pd.to_numeric)"
   ]
  },
  {
   "cell_type": "code",
   "execution_count": null,
   "metadata": {},
   "outputs": [],
   "source": [
    "# We reset the index before pushing to SQL in order to give each line a unique id\n",
    "df_weather_full_sql = df_weather_full.reset_index()\n",
    "df_weather_full_sql.reset_index(inplace=True)\n",
    "df_weather_full_sql.drop(columns = ['index', 'updated_at'], inplace=True)\n",
    "df_weather_full_sql.rename({'level_0': 'index'}, axis=1, inplace=True)\n",
    "\n",
    "df_hotels_full_sql = df_hotels_full.reset_index()\n",
    "df_hotels_full_sql.reset_index(inplace=True)\n",
    "df_hotels_full_sql.drop(columns = ['index', 'updated_at'], inplace=True)\n",
    "df_hotels_full_sql.rename({'level_0': 'index'}, axis=1, inplace=True)"
   ]
  },
  {
   "cell_type": "markdown",
   "metadata": {},
   "source": [
    "## Storing the transformed data in a RDS data warehouse"
   ]
  },
  {
   "cell_type": "code",
   "execution_count": null,
   "metadata": {},
   "outputs": [],
   "source": [
    "# Importing libraries for the data warehousing and initialization of the SQL engine\n",
    "from sqlalchemy import create_engine, text\n",
    "from sqlalchemy.orm import sessionmaker\n",
    "\n",
    "engine = create_engine(f\"postgresql+psycopg2://{DBUSER}:{DBPASS}@{DBHOST}/{DBNAME}\", echo=True)\n",
    "Session = sessionmaker(bind=engine)\n",
    "session = Session()"
   ]
  },
  {
   "cell_type": "code",
   "execution_count": null,
   "metadata": {},
   "outputs": [
    {
     "name": "stdout",
     "output_type": "stream",
     "text": [
      "2022-04-23 18:33:07,651 INFO sqlalchemy.engine.Engine select pg_catalog.version()\n",
      "2022-04-23 18:33:07,652 INFO sqlalchemy.engine.Engine [raw sql] {}\n",
      "2022-04-23 18:33:07,678 INFO sqlalchemy.engine.Engine select current_schema()\n",
      "2022-04-23 18:33:07,678 INFO sqlalchemy.engine.Engine [raw sql] {}\n",
      "2022-04-23 18:33:07,702 INFO sqlalchemy.engine.Engine show standard_conforming_strings\n",
      "2022-04-23 18:33:07,702 INFO sqlalchemy.engine.Engine [raw sql] {}\n",
      "2022-04-23 18:33:07,729 INFO sqlalchemy.engine.Engine select relname from pg_class c join pg_namespace n on n.oid=c.relnamespace where pg_catalog.pg_table_is_visible(c.oid) and relname=%(name)s\n",
      "2022-04-23 18:33:07,729 INFO sqlalchemy.engine.Engine [generated in 0.00043s] {'name': 'weather'}\n",
      "2022-04-23 18:33:07,769 INFO sqlalchemy.engine.Engine select relname from pg_class c join pg_namespace n on n.oid=c.relnamespace where pg_catalog.pg_table_is_visible(c.oid) and relname=%(name)s\n",
      "2022-04-23 18:33:07,770 INFO sqlalchemy.engine.Engine [cached since 0.04095s ago] {'name': 'weather'}\n",
      "2022-04-23 18:33:07,810 INFO sqlalchemy.engine.Engine SELECT c.relname FROM pg_class c JOIN pg_namespace n ON n.oid = c.relnamespace WHERE n.nspname = %(schema)s AND c.relkind in ('r', 'p')\n",
      "2022-04-23 18:33:07,810 INFO sqlalchemy.engine.Engine [generated in 0.00073s] {'schema': 'public'}\n",
      "2022-04-23 18:33:07,836 INFO sqlalchemy.engine.Engine \n",
      "            SELECT c.oid\n",
      "            FROM pg_catalog.pg_class c\n",
      "            LEFT JOIN pg_catalog.pg_namespace n ON n.oid = c.relnamespace\n",
      "            WHERE (pg_catalog.pg_table_is_visible(c.oid))\n",
      "            AND c.relname = %(table_name)s AND c.relkind in\n",
      "            ('r', 'v', 'm', 'f', 'p')\n",
      "        \n",
      "2022-04-23 18:33:07,837 INFO sqlalchemy.engine.Engine [generated in 0.00061s] {'table_name': 'weather'}\n",
      "2022-04-23 18:33:07,851 INFO sqlalchemy.engine.Engine \n",
      "            SELECT a.attname,\n",
      "              pg_catalog.format_type(a.atttypid, a.atttypmod),\n",
      "              (\n",
      "                SELECT pg_catalog.pg_get_expr(d.adbin, d.adrelid)\n",
      "                FROM pg_catalog.pg_attrdef d\n",
      "                WHERE d.adrelid = a.attrelid AND d.adnum = a.attnum\n",
      "                AND a.atthasdef\n",
      "              ) AS DEFAULT,\n",
      "              a.attnotnull,\n",
      "              a.attrelid as table_oid,\n",
      "              pgd.description as comment,\n",
      "              a.attgenerated as generated,\n",
      "                              (SELECT json_build_object(\n",
      "                    'always', a.attidentity = 'a',\n",
      "                    'start', s.seqstart,\n",
      "                    'increment', s.seqincrement,\n",
      "                    'minvalue', s.seqmin,\n",
      "                    'maxvalue', s.seqmax,\n",
      "                    'cache', s.seqcache,\n",
      "                    'cycle', s.seqcycle)\n",
      "                FROM pg_catalog.pg_sequence s\n",
      "                JOIN pg_catalog.pg_class c on s.seqrelid = c.\"oid\"\n",
      "                WHERE c.relkind = 'S'\n",
      "                AND a.attidentity != ''\n",
      "                AND s.seqrelid = pg_catalog.pg_get_serial_sequence(\n",
      "                    a.attrelid::regclass::text, a.attname\n",
      "                )::regclass::oid\n",
      "                ) as identity_options                \n",
      "            FROM pg_catalog.pg_attribute a\n",
      "            LEFT JOIN pg_catalog.pg_description pgd ON (\n",
      "                pgd.objoid = a.attrelid AND pgd.objsubid = a.attnum)\n",
      "            WHERE a.attrelid = %(table_oid)s\n",
      "            AND a.attnum > 0 AND NOT a.attisdropped\n",
      "            ORDER BY a.attnum\n",
      "        \n",
      "2022-04-23 18:33:07,851 INFO sqlalchemy.engine.Engine [generated in 0.00045s] {'table_oid': 16629}\n",
      "2022-04-23 18:33:07,867 INFO sqlalchemy.engine.Engine \n",
      "            SELECT t.typname as \"name\",\n",
      "               pg_catalog.format_type(t.typbasetype, t.typtypmod) as \"attype\",\n",
      "               not t.typnotnull as \"nullable\",\n",
      "               t.typdefault as \"default\",\n",
      "               pg_catalog.pg_type_is_visible(t.oid) as \"visible\",\n",
      "               n.nspname as \"schema\"\n",
      "            FROM pg_catalog.pg_type t\n",
      "               LEFT JOIN pg_catalog.pg_namespace n ON n.oid = t.typnamespace\n",
      "            WHERE t.typtype = 'd'\n",
      "        \n",
      "2022-04-23 18:33:07,868 INFO sqlalchemy.engine.Engine [generated in 0.00039s] {}\n",
      "2022-04-23 18:33:07,880 INFO sqlalchemy.engine.Engine \n",
      "            SELECT t.typname as \"name\",\n",
      "               -- no enum defaults in 8.4 at least\n",
      "               -- t.typdefault as \"default\",\n",
      "               pg_catalog.pg_type_is_visible(t.oid) as \"visible\",\n",
      "               n.nspname as \"schema\",\n",
      "               e.enumlabel as \"label\"\n",
      "            FROM pg_catalog.pg_type t\n",
      "                 LEFT JOIN pg_catalog.pg_namespace n ON n.oid = t.typnamespace\n",
      "                 LEFT JOIN pg_catalog.pg_enum e ON t.oid = e.enumtypid\n",
      "            WHERE t.typtype = 'e'\n",
      "        ORDER BY \"schema\", \"name\", e.oid\n",
      "2022-04-23 18:33:07,880 INFO sqlalchemy.engine.Engine [generated in 0.00041s] {}\n",
      "2022-04-23 18:33:07,895 INFO sqlalchemy.engine.Engine \n",
      "                SELECT a.attname\n",
      "                FROM pg_attribute a JOIN (\n",
      "                    SELECT unnest(ix.indkey) attnum,\n",
      "                           generate_subscripts(ix.indkey, 1) ord\n",
      "                    FROM pg_index ix\n",
      "                    WHERE ix.indrelid = %(table_oid)s AND ix.indisprimary\n",
      "                    ) k ON a.attnum=k.attnum\n",
      "                WHERE a.attrelid = %(table_oid)s\n",
      "                ORDER BY k.ord\n",
      "            \n",
      "2022-04-23 18:33:07,895 INFO sqlalchemy.engine.Engine [generated in 0.00061s] {'table_oid': 16629}\n",
      "2022-04-23 18:33:07,907 INFO sqlalchemy.engine.Engine \n",
      "        SELECT conname\n",
      "           FROM  pg_catalog.pg_constraint r\n",
      "           WHERE r.conrelid = %(table_oid)s AND r.contype = 'p'\n",
      "           ORDER BY 1\n",
      "        \n",
      "2022-04-23 18:33:07,908 INFO sqlalchemy.engine.Engine [generated in 0.00060s] {'table_oid': 16629}\n",
      "2022-04-23 18:33:07,923 INFO sqlalchemy.engine.Engine \n",
      "          SELECT r.conname,\n",
      "                pg_catalog.pg_get_constraintdef(r.oid, true) as condef,\n",
      "                n.nspname as conschema\n",
      "          FROM  pg_catalog.pg_constraint r,\n",
      "                pg_namespace n,\n",
      "                pg_class c\n",
      "\n",
      "          WHERE r.conrelid = %(table)s AND\n",
      "                r.contype = 'f' AND\n",
      "                c.oid = confrelid AND\n",
      "                n.oid = c.relnamespace\n",
      "          ORDER BY 1\n",
      "        \n",
      "2022-04-23 18:33:07,924 INFO sqlalchemy.engine.Engine [generated in 0.00051s] {'table': 16629}\n",
      "2022-04-23 18:33:07,937 INFO sqlalchemy.engine.Engine \n",
      "              SELECT\n",
      "                  i.relname as relname,\n",
      "                  ix.indisunique, ix.indexprs,\n",
      "                  a.attname, a.attnum, c.conrelid, ix.indkey::varchar,\n",
      "                  ix.indoption::varchar, i.reloptions, am.amname,\n",
      "                  pg_get_expr(ix.indpred, ix.indrelid),\n",
      "                  ix.indnkeyatts as indnkeyatts\n",
      "              FROM\n",
      "                  pg_class t\n",
      "                        join pg_index ix on t.oid = ix.indrelid\n",
      "                        join pg_class i on i.oid = ix.indexrelid\n",
      "                        left outer join\n",
      "                            pg_attribute a\n",
      "                            on t.oid = a.attrelid and a.attnum = ANY(ix.indkey)\n",
      "                        left outer join\n",
      "                            pg_constraint c\n",
      "                            on (ix.indrelid = c.conrelid and\n",
      "                                ix.indexrelid = c.conindid and\n",
      "                                c.contype in ('p', 'u', 'x'))\n",
      "                        left outer join\n",
      "                            pg_am am\n",
      "                            on i.relam = am.oid\n",
      "              WHERE\n",
      "                  t.relkind IN ('r', 'v', 'f', 'm', 'p')\n",
      "                  and t.oid = %(table_oid)s\n",
      "                  and ix.indisprimary = 'f'\n",
      "              ORDER BY\n",
      "                  t.relname,\n",
      "                  i.relname\n",
      "            \n",
      "2022-04-23 18:33:07,937 INFO sqlalchemy.engine.Engine [generated in 0.00040s] {'table_oid': 16629}\n",
      "2022-04-23 18:33:07,952 INFO sqlalchemy.engine.Engine \n",
      "            SELECT\n",
      "                cons.conname as name,\n",
      "                cons.conkey as key,\n",
      "                a.attnum as col_num,\n",
      "                a.attname as col_name\n",
      "            FROM\n",
      "                pg_catalog.pg_constraint cons\n",
      "                join pg_attribute a\n",
      "                  on cons.conrelid = a.attrelid AND\n",
      "                    a.attnum = ANY(cons.conkey)\n",
      "            WHERE\n",
      "                cons.conrelid = %(table_oid)s AND\n",
      "                cons.contype = 'u'\n",
      "        \n",
      "2022-04-23 18:33:07,953 INFO sqlalchemy.engine.Engine [generated in 0.00054s] {'table_oid': 16629}\n",
      "2022-04-23 18:33:07,965 INFO sqlalchemy.engine.Engine \n",
      "            SELECT\n",
      "                cons.conname as name,\n",
      "                pg_get_constraintdef(cons.oid) as src\n",
      "            FROM\n",
      "                pg_catalog.pg_constraint cons\n",
      "            WHERE\n",
      "                cons.conrelid = %(table_oid)s AND\n",
      "                cons.contype = 'c'\n",
      "        \n",
      "2022-04-23 18:33:07,965 INFO sqlalchemy.engine.Engine [generated in 0.00044s] {'table_oid': 16629}\n",
      "2022-04-23 18:33:07,977 INFO sqlalchemy.engine.Engine \n",
      "            SELECT\n",
      "                pgd.description as table_comment\n",
      "            FROM\n",
      "                pg_catalog.pg_description pgd\n",
      "            WHERE\n",
      "                pgd.objsubid = 0 AND\n",
      "                pgd.objoid = %(table_oid)s\n",
      "        \n",
      "2022-04-23 18:33:07,978 INFO sqlalchemy.engine.Engine [generated in 0.00048s] {'table_oid': 16629}\n",
      "2022-04-23 18:33:08,004 INFO sqlalchemy.engine.Engine BEGIN (implicit)\n",
      "2022-04-23 18:33:08,005 INFO sqlalchemy.engine.Engine \n",
      "DROP TABLE weather\n",
      "2022-04-23 18:33:08,005 INFO sqlalchemy.engine.Engine [no key 0.00025s] {}\n",
      "2022-04-23 18:33:08,031 INFO sqlalchemy.engine.Engine COMMIT\n",
      "2022-04-23 18:33:08,046 INFO sqlalchemy.engine.Engine BEGIN (implicit)\n",
      "2022-04-23 18:33:08,047 INFO sqlalchemy.engine.Engine \n",
      "CREATE TABLE weather (\n",
      "\tindex BIGINT, \n",
      "\tid BIGINT, \n",
      "\tcity TEXT, \n",
      "\tlat FLOAT(53), \n",
      "\tlon FLOAT(53), \n",
      "\tscore_weather FLOAT(53), \n",
      "\tday_plus BIGINT, \n",
      "\tfelt_temperature FLOAT(53), \n",
      "\train_chances BIGINT, \n",
      "\thumidity BIGINT\n",
      ")\n",
      "\n",
      "\n",
      "2022-04-23 18:33:08,047 INFO sqlalchemy.engine.Engine [no key 0.00030s] {}\n",
      "2022-04-23 18:33:08,075 INFO sqlalchemy.engine.Engine COMMIT\n",
      "2022-04-23 18:33:08,090 INFO sqlalchemy.engine.Engine BEGIN (implicit)\n",
      "2022-04-23 18:33:08,092 INFO sqlalchemy.engine.Engine INSERT INTO weather (index, id, city, lat, lon, score_weather, day_plus, felt_temperature, rain_chances, humidity) VALUES (%(index)s, %(id)s, %(city)s, %(lat)s, %(lon)s, %(score_weather)s, %(day_plus)s, %(felt_temperature)s, %(rain_chances)s, %(humidity)s)\n",
      "2022-04-23 18:33:08,092 INFO sqlalchemy.engine.Engine [generated in 0.00090s] ({'index': 0, 'id': 7, 'city': 'Lille', 'lat': 50.6365654, 'lon': 3.0635282, 'score_weather': 68.31428571428572, 'day_plus': 1, 'felt_temperature': 15.55, 'rain_chances': 18, 'humidity': 47}, {'index': 1, 'id': 7, 'city': 'Lille', 'lat': 50.6365654, 'lon': 3.0635282, 'score_weather': 68.31428571428572, 'day_plus': 2, 'felt_temperature': 11.91, 'rain_chances': 22, 'humidity': 57}, {'index': 2, 'id': 7, 'city': 'Lille', 'lat': 50.6365654, 'lon': 3.0635282, 'score_weather': 68.31428571428572, 'day_plus': 3, 'felt_temperature': 13.2, 'rain_chances': 0, 'humidity': 41}, {'index': 3, 'id': 7, 'city': 'Lille', 'lat': 50.6365654, 'lon': 3.0635282, 'score_weather': 68.31428571428572, 'day_plus': 4, 'felt_temperature': 13.27, 'rain_chances': 0, 'humidity': 46}, {'index': 4, 'id': 7, 'city': 'Lille', 'lat': 50.6365654, 'lon': 3.0635282, 'score_weather': 68.31428571428572, 'day_plus': 5, 'felt_temperature': 17.86, 'rain_chances': 0, 'humidity': 39}, {'index': 5, 'id': 7, 'city': 'Lille', 'lat': 50.6365654, 'lon': 3.0635282, 'score_weather': 68.31428571428572, 'day_plus': 6, 'felt_temperature': 18.71, 'rain_chances': 0, 'humidity': 46}, {'index': 6, 'id': 7, 'city': 'Lille', 'lat': 50.6365654, 'lon': 3.0635282, 'score_weather': 68.31428571428572, 'day_plus': 7, 'felt_temperature': 15.15, 'rain_chances': 0, 'humidity': 43}, {'index': 7, 'id': 21, 'city': 'Aix en Provence', 'lat': 43.5298424, 'lon': 5.4474738, 'score_weather': 70.3, 'day_plus': 1, 'felt_temperature': 10.58, 'rain_chances': 94, 'humidity': 82}  ... displaying 10 of 245 total bound parameter sets ...  {'index': 243, 'id': 29, 'city': 'Ariege', 'lat': 42.9455368, 'lon': 1.4065544156065486, 'score_weather': 147.8542857142857, 'day_plus': 6, 'felt_temperature': 9.82, 'rain_chances': 63, 'humidity': 65}, {'index': 244, 'id': 29, 'city': 'Ariege', 'lat': 42.9455368, 'lon': 1.4065544156065486, 'score_weather': 147.8542857142857, 'day_plus': 7, 'felt_temperature': 14.86, 'rain_chances': 32, 'humidity': 53})\n",
      "2022-04-23 18:33:08,139 INFO sqlalchemy.engine.Engine COMMIT\n",
      "2022-04-23 18:33:08,153 INFO sqlalchemy.engine.Engine select relname from pg_class c join pg_namespace n on n.oid=c.relnamespace where pg_catalog.pg_table_is_visible(c.oid) and relname=%(name)s\n",
      "2022-04-23 18:33:08,154 INFO sqlalchemy.engine.Engine [cached since 0.4249s ago] {'name': 'hotels'}\n",
      "2022-04-23 18:33:08,190 INFO sqlalchemy.engine.Engine select relname from pg_class c join pg_namespace n on n.oid=c.relnamespace where pg_catalog.pg_table_is_visible(c.oid) and relname=%(name)s\n",
      "2022-04-23 18:33:08,191 INFO sqlalchemy.engine.Engine [cached since 0.462s ago] {'name': 'hotels'}\n",
      "2022-04-23 18:33:08,227 INFO sqlalchemy.engine.Engine SELECT c.relname FROM pg_class c JOIN pg_namespace n ON n.oid = c.relnamespace WHERE n.nspname = %(schema)s AND c.relkind in ('r', 'p')\n",
      "2022-04-23 18:33:08,228 INFO sqlalchemy.engine.Engine [cached since 0.418s ago] {'schema': 'public'}\n",
      "2022-04-23 18:33:08,253 INFO sqlalchemy.engine.Engine \n",
      "            SELECT c.oid\n",
      "            FROM pg_catalog.pg_class c\n",
      "            LEFT JOIN pg_catalog.pg_namespace n ON n.oid = c.relnamespace\n",
      "            WHERE (pg_catalog.pg_table_is_visible(c.oid))\n",
      "            AND c.relname = %(table_name)s AND c.relkind in\n",
      "            ('r', 'v', 'm', 'f', 'p')\n",
      "        \n",
      "2022-04-23 18:33:08,253 INFO sqlalchemy.engine.Engine [cached since 0.4169s ago] {'table_name': 'hotels'}\n",
      "2022-04-23 18:33:08,266 INFO sqlalchemy.engine.Engine \n",
      "            SELECT a.attname,\n",
      "              pg_catalog.format_type(a.atttypid, a.atttypmod),\n",
      "              (\n",
      "                SELECT pg_catalog.pg_get_expr(d.adbin, d.adrelid)\n",
      "                FROM pg_catalog.pg_attrdef d\n",
      "                WHERE d.adrelid = a.attrelid AND d.adnum = a.attnum\n",
      "                AND a.atthasdef\n",
      "              ) AS DEFAULT,\n",
      "              a.attnotnull,\n",
      "              a.attrelid as table_oid,\n",
      "              pgd.description as comment,\n",
      "              a.attgenerated as generated,\n",
      "                              (SELECT json_build_object(\n",
      "                    'always', a.attidentity = 'a',\n",
      "                    'start', s.seqstart,\n",
      "                    'increment', s.seqincrement,\n",
      "                    'minvalue', s.seqmin,\n",
      "                    'maxvalue', s.seqmax,\n",
      "                    'cache', s.seqcache,\n",
      "                    'cycle', s.seqcycle)\n",
      "                FROM pg_catalog.pg_sequence s\n",
      "                JOIN pg_catalog.pg_class c on s.seqrelid = c.\"oid\"\n",
      "                WHERE c.relkind = 'S'\n",
      "                AND a.attidentity != ''\n",
      "                AND s.seqrelid = pg_catalog.pg_get_serial_sequence(\n",
      "                    a.attrelid::regclass::text, a.attname\n",
      "                )::regclass::oid\n",
      "                ) as identity_options                \n",
      "            FROM pg_catalog.pg_attribute a\n",
      "            LEFT JOIN pg_catalog.pg_description pgd ON (\n",
      "                pgd.objoid = a.attrelid AND pgd.objsubid = a.attnum)\n",
      "            WHERE a.attrelid = %(table_oid)s\n",
      "            AND a.attnum > 0 AND NOT a.attisdropped\n",
      "            ORDER BY a.attnum\n",
      "        \n",
      "2022-04-23 18:33:08,266 INFO sqlalchemy.engine.Engine [cached since 0.4153s ago] {'table_oid': 16635}\n",
      "2022-04-23 18:33:08,280 INFO sqlalchemy.engine.Engine \n",
      "            SELECT t.typname as \"name\",\n",
      "               pg_catalog.format_type(t.typbasetype, t.typtypmod) as \"attype\",\n",
      "               not t.typnotnull as \"nullable\",\n",
      "               t.typdefault as \"default\",\n",
      "               pg_catalog.pg_type_is_visible(t.oid) as \"visible\",\n",
      "               n.nspname as \"schema\"\n",
      "            FROM pg_catalog.pg_type t\n",
      "               LEFT JOIN pg_catalog.pg_namespace n ON n.oid = t.typnamespace\n",
      "            WHERE t.typtype = 'd'\n",
      "        \n",
      "2022-04-23 18:33:08,280 INFO sqlalchemy.engine.Engine [cached since 0.4126s ago] {}\n",
      "2022-04-23 18:33:08,292 INFO sqlalchemy.engine.Engine \n",
      "            SELECT t.typname as \"name\",\n",
      "               -- no enum defaults in 8.4 at least\n",
      "               -- t.typdefault as \"default\",\n",
      "               pg_catalog.pg_type_is_visible(t.oid) as \"visible\",\n",
      "               n.nspname as \"schema\",\n",
      "               e.enumlabel as \"label\"\n",
      "            FROM pg_catalog.pg_type t\n",
      "                 LEFT JOIN pg_catalog.pg_namespace n ON n.oid = t.typnamespace\n",
      "                 LEFT JOIN pg_catalog.pg_enum e ON t.oid = e.enumtypid\n",
      "            WHERE t.typtype = 'e'\n",
      "        ORDER BY \"schema\", \"name\", e.oid\n",
      "2022-04-23 18:33:08,293 INFO sqlalchemy.engine.Engine [cached since 0.4127s ago] {}\n",
      "2022-04-23 18:33:08,305 INFO sqlalchemy.engine.Engine \n",
      "                SELECT a.attname\n",
      "                FROM pg_attribute a JOIN (\n",
      "                    SELECT unnest(ix.indkey) attnum,\n",
      "                           generate_subscripts(ix.indkey, 1) ord\n",
      "                    FROM pg_index ix\n",
      "                    WHERE ix.indrelid = %(table_oid)s AND ix.indisprimary\n",
      "                    ) k ON a.attnum=k.attnum\n",
      "                WHERE a.attrelid = %(table_oid)s\n",
      "                ORDER BY k.ord\n",
      "            \n",
      "2022-04-23 18:33:08,305 INFO sqlalchemy.engine.Engine [cached since 0.4109s ago] {'table_oid': 16635}\n",
      "2022-04-23 18:33:08,318 INFO sqlalchemy.engine.Engine \n",
      "        SELECT conname\n",
      "           FROM  pg_catalog.pg_constraint r\n",
      "           WHERE r.conrelid = %(table_oid)s AND r.contype = 'p'\n",
      "           ORDER BY 1\n",
      "        \n",
      "2022-04-23 18:33:08,319 INFO sqlalchemy.engine.Engine [cached since 0.4114s ago] {'table_oid': 16635}\n",
      "2022-04-23 18:33:08,333 INFO sqlalchemy.engine.Engine \n",
      "          SELECT r.conname,\n",
      "                pg_catalog.pg_get_constraintdef(r.oid, true) as condef,\n",
      "                n.nspname as conschema\n",
      "          FROM  pg_catalog.pg_constraint r,\n",
      "                pg_namespace n,\n",
      "                pg_class c\n",
      "\n",
      "          WHERE r.conrelid = %(table)s AND\n",
      "                r.contype = 'f' AND\n",
      "                c.oid = confrelid AND\n",
      "                n.oid = c.relnamespace\n",
      "          ORDER BY 1\n",
      "        \n",
      "2022-04-23 18:33:08,333 INFO sqlalchemy.engine.Engine [cached since 0.4101s ago] {'table': 16635}\n",
      "2022-04-23 18:33:08,345 INFO sqlalchemy.engine.Engine \n",
      "              SELECT\n",
      "                  i.relname as relname,\n",
      "                  ix.indisunique, ix.indexprs,\n",
      "                  a.attname, a.attnum, c.conrelid, ix.indkey::varchar,\n",
      "                  ix.indoption::varchar, i.reloptions, am.amname,\n",
      "                  pg_get_expr(ix.indpred, ix.indrelid),\n",
      "                  ix.indnkeyatts as indnkeyatts\n",
      "              FROM\n",
      "                  pg_class t\n",
      "                        join pg_index ix on t.oid = ix.indrelid\n",
      "                        join pg_class i on i.oid = ix.indexrelid\n",
      "                        left outer join\n",
      "                            pg_attribute a\n",
      "                            on t.oid = a.attrelid and a.attnum = ANY(ix.indkey)\n",
      "                        left outer join\n",
      "                            pg_constraint c\n",
      "                            on (ix.indrelid = c.conrelid and\n",
      "                                ix.indexrelid = c.conindid and\n",
      "                                c.contype in ('p', 'u', 'x'))\n",
      "                        left outer join\n",
      "                            pg_am am\n",
      "                            on i.relam = am.oid\n",
      "              WHERE\n",
      "                  t.relkind IN ('r', 'v', 'f', 'm', 'p')\n",
      "                  and t.oid = %(table_oid)s\n",
      "                  and ix.indisprimary = 'f'\n",
      "              ORDER BY\n",
      "                  t.relname,\n",
      "                  i.relname\n",
      "            \n",
      "2022-04-23 18:33:08,346 INFO sqlalchemy.engine.Engine [cached since 0.4095s ago] {'table_oid': 16635}\n",
      "2022-04-23 18:33:08,360 INFO sqlalchemy.engine.Engine \n",
      "            SELECT\n",
      "                cons.conname as name,\n",
      "                cons.conkey as key,\n",
      "                a.attnum as col_num,\n",
      "                a.attname as col_name\n",
      "            FROM\n",
      "                pg_catalog.pg_constraint cons\n",
      "                join pg_attribute a\n",
      "                  on cons.conrelid = a.attrelid AND\n",
      "                    a.attnum = ANY(cons.conkey)\n",
      "            WHERE\n",
      "                cons.conrelid = %(table_oid)s AND\n",
      "                cons.contype = 'u'\n",
      "        \n",
      "2022-04-23 18:33:08,361 INFO sqlalchemy.engine.Engine [cached since 0.4083s ago] {'table_oid': 16635}\n",
      "2022-04-23 18:33:08,373 INFO sqlalchemy.engine.Engine \n",
      "            SELECT\n",
      "                cons.conname as name,\n",
      "                pg_get_constraintdef(cons.oid) as src\n",
      "            FROM\n",
      "                pg_catalog.pg_constraint cons\n",
      "            WHERE\n",
      "                cons.conrelid = %(table_oid)s AND\n",
      "                cons.contype = 'c'\n",
      "        \n",
      "2022-04-23 18:33:08,374 INFO sqlalchemy.engine.Engine [cached since 0.4093s ago] {'table_oid': 16635}\n",
      "2022-04-23 18:33:08,390 INFO sqlalchemy.engine.Engine \n",
      "            SELECT\n",
      "                pgd.description as table_comment\n",
      "            FROM\n",
      "                pg_catalog.pg_description pgd\n",
      "            WHERE\n",
      "                pgd.objsubid = 0 AND\n",
      "                pgd.objoid = %(table_oid)s\n",
      "        \n",
      "2022-04-23 18:33:08,392 INFO sqlalchemy.engine.Engine [cached since 0.4144s ago] {'table_oid': 16635}\n",
      "2022-04-23 18:33:08,416 INFO sqlalchemy.engine.Engine BEGIN (implicit)\n",
      "2022-04-23 18:33:08,416 INFO sqlalchemy.engine.Engine \n",
      "DROP TABLE hotels\n",
      "2022-04-23 18:33:08,416 INFO sqlalchemy.engine.Engine [no key 0.00022s] {}\n",
      "2022-04-23 18:33:08,440 INFO sqlalchemy.engine.Engine COMMIT\n",
      "2022-04-23 18:33:08,455 INFO sqlalchemy.engine.Engine BEGIN (implicit)\n",
      "2022-04-23 18:33:08,455 INFO sqlalchemy.engine.Engine \n",
      "CREATE TABLE hotels (\n",
      "\tindex BIGINT, \n",
      "\tid BIGINT, \n",
      "\tcity TEXT, \n",
      "\tscore_weather FLOAT(53), \n",
      "\tname TEXT, \n",
      "\turl TEXT, \n",
      "\tlat_hotels FLOAT(53), \n",
      "\tlon_hotels FLOAT(53), \n",
      "\tdescription TEXT, \n",
      "\tscore FLOAT(53)\n",
      ")\n",
      "\n",
      "\n",
      "2022-04-23 18:33:08,456 INFO sqlalchemy.engine.Engine [no key 0.00032s] {}\n",
      "2022-04-23 18:33:08,482 INFO sqlalchemy.engine.Engine COMMIT\n",
      "2022-04-23 18:33:08,496 INFO sqlalchemy.engine.Engine BEGIN (implicit)\n",
      "2022-04-23 18:33:08,499 INFO sqlalchemy.engine.Engine INSERT INTO hotels (index, id, city, score_weather, name, url, lat_hotels, lon_hotels, description, score) VALUES (%(index)s, %(id)s, %(city)s, %(score_weather)s, %(name)s, %(url)s, %(lat_hotels)s, %(lon_hotels)s, %(description)s, %(score)s)\n",
      "2022-04-23 18:33:08,500 INFO sqlalchemy.engine.Engine [generated in 0.00240s] ({'index': 0, 'id': 7, 'city': 'Lille', 'score_weather': 68.31428571428572, 'name': 'NOCNOC - La Villa Cachee', 'url': 'https://www.booking.com/hotel/fr/la-villa-cachee-prox-gare-lille-flandre-metro.fr.html?label=gen173nr-1FCAEoggI46AdIDVgEaE2IAQGYAQ24ARfIAQ_YAQHoAQH4A ... (176 characters truncated) ... no_rooms=1&group_children=0&req_children=0&hpos=1&hapos=1&sr_order=popularity&srpvid=1da19071a9fd0339&srepoch=1649968357&from=searchresults#hotelTmpl', 'lat_hotels': 50.62914624, 'lon_hotels': 3.06419907, 'description': \"Vous pouvez bénéficier d'une réduction Genius dans l'établissement NOCNOC - La Villa Cachee\\xa0! Connectez-vous pour économiser.Doté d'une connexion  ... (474 characters truncated) ... éjournerez à proximité de la braderie de Lille, de l'hospice Gantois et du grand magasin Printemps. L'aéroport de Lille, le plus proche, est à 9 km. \", 'score': 8.4}, {'index': 1, 'id': 7, 'city': 'Lille', 'score_weather': 68.31428571428572, 'name': 'Hotel Lille Europe', 'url': 'https://www.booking.com/hotel/fr/lille-europe.fr.html?label=gen173nr-1FCAEoggI46AdIDVgEaE2IAQGYAQ24ARfIAQ_YAQHoAQH4AQKIAgGoAgO4AtSJ4pIGwAIB0gIkMWMyOT ... (143 characters truncated) ... no_rooms=1&group_children=0&req_children=0&hpos=2&hapos=2&sr_order=popularity&srpvid=1da19071a9fd0339&srepoch=1649968357&from=searchresults#hotelTmpl', 'lat_hotels': 50.63788756, 'lon_hotels': 3.072685, 'description': \"Vous pouvez bénéficier d'une réduction Genius dans l'établissement Hotel Lille Europe\\xa0! Connectez-vous pour économiser.L'Hotel Lille Europe est un ... (811 characters truncated) ... lle, à 1,1 km du centre de conventions Nouveau Siècle et à 1,3 km du Grand Palais. Un parking privé sur place est disponible uniquement sur demande. \", 'score': 8.1}, {'index': 2, 'id': 7, 'city': 'Lille', 'score_weather': 68.31428571428572, 'name': 'Moxy Lille City', 'url': 'https://www.booking.com/hotel/fr/moxy-lille-city-center-france.fr.html?label=gen173nr-1FCAEoggI46AdIDVgEaE2IAQGYAQ24ARfIAQ_YAQHoAQH4AQKIAgGoAgO4AtSJ4 ... (160 characters truncated) ... no_rooms=1&group_children=0&req_children=0&hpos=3&hapos=3&sr_order=popularity&srpvid=1da19071a9fd0339&srepoch=1649968357&from=searchresults#hotelTmpl', 'lat_hotels': 50.627831, 'lon_hotels': 3.063592, 'description': \"Le Moxy Lille City est situé à Lille, à 700 mètres de la braderie de Lille. Il propose des hébergements avec une terrasse et un parking privé. Doté d ... (444 characters truncated) ... liot, le grand magasin Printemps et la salle de concert l'Aéronef. L’aéroport de Lille-Lesquin, le plus proche, se trouve à 8 km du Moxy Lille City. \", 'score': 8.7}, {'index': 3, 'id': 7, 'city': 'Lille', 'score_weather': 68.31428571428572, 'name': 'B&B Hôtel Lille Centre Grand Palais', 'url': 'https://www.booking.com/hotel/fr/b-b-lille-centre-grand-palais.fr.html?label=gen173nr-1FCAEoggI46AdIDVgEaE2IAQGYAQ24ARfIAQ_YAQHoAQH4AQKIAgGoAgO4AtSJ4 ... (191 characters truncated) ... _children=0&hpos=4&hapos=4&sr_order=popularity&srpvid=1da19071a9fd0339&srepoch=1649968357&from_sustainable_property_sr=1&from=searchresults#hotelTmpl', 'lat_hotels': 50.6281375, 'lon_hotels': 3.08142364, 'description': \"Le B&B Hôtel Lille Centre Grand Palais est situé à 5 minutes de marche de la station de métro Lille Grand Palais. L’établissement propose des chambre ... (293 characters truncated) ...  complexe Lille Grand Palais. Un parking souterrain privé gratuit est accessible sous réserve de disponibilité et sur réservation auprès de l'hôtel. \", 'score': 7.9}, {'index': 4, 'id': 7, 'city': 'Lille', 'score_weather': 68.31428571428572, 'name': 'ibis Styles Lille Centre Gare Beffroi', 'url': 'https://www.booking.com/hotel/fr/ibis-styles-lille-centre-gare-beffroi.fr.html?label=gen173nr-1FCAEoggI46AdIDVgEaE2IAQGYAQ24ARfIAQ_YAQHoAQH4AQKIAgGoA ... (168 characters truncated) ... no_rooms=1&group_children=0&req_children=0&hpos=5&hapos=5&sr_order=popularity&srpvid=1da19071a9fd0339&srepoch=1649968357&from=searchresults#hotelTmpl', 'lat_hotels': 50.63238245, 'lon_hotels': 3.06794286, 'description': 'L’ibis Styles Lille Centre Gare Beffroi vous accueille dans le centre-ville de Lille, à 600 mètres des gares de Lille-Europe et de Lille-Flandres. Le ... (407 characters truncated) ... rnes.Le quartier commerçant et d’affaires Euralille se trouve à 10 minutes de marche. Vous rejoindrez le stade Pierre-Mauroy en 15 minutes de route. ', 'score': 7.8}, {'index': 5, 'id': 7, 'city': 'Lille', 'score_weather': 68.31428571428572, 'name': 'Hôtel Calm Lille', 'url': 'https://www.booking.com/hotel/fr/calm-lille.fr.html?label=gen173nr-1FCAEoggI46AdIDVgEaE2IAQGYAQ24ARfIAQ_YAQHoAQH4AQKIAgGoAgO4AtSJ4pIGwAIB0gIkMWMyOTgz ... (141 characters truncated) ... no_rooms=1&group_children=0&req_children=0&hpos=6&hapos=6&sr_order=popularity&srpvid=1da19071a9fd0339&srepoch=1649968357&from=searchresults#hotelTmpl', 'lat_hotels': 50.63528798, 'lon_hotels': 3.06970725, 'description': \"Vous pouvez bénéficier d'une réduction Genius dans l'établissement Hôtel Calm Lille\\xa0! Connectez-vous pour économiser.L'Hôtel Calm Lille est situé  ... (606 characters truncated) ...  à 44 km d'Arras et à 27 km d'Ypres. Vous séjournerez aussi à 8 km de l'aéroport de Lille-Lesquin et à 16 minutes en voiture du stade Pierre-Mauroy. \", 'score': 7.8}, {'index': 6, 'id': 7, 'city': 'Lille', 'score_weather': 68.31428571428572, 'name': 'ibis budget Lille Centre', 'url': 'https://www.booking.com/hotel/fr/ibis-budget-lille-centre.fr.html?label=gen173nr-1FCAEoggI46AdIDVgEaE2IAQGYAQ24ARfIAQ_YAQHoAQH4AQKIAgGoAgO4AtSJ4pIGwA ... (155 characters truncated) ... no_rooms=1&group_children=0&req_children=0&hpos=7&hapos=7&sr_order=popularity&srpvid=1da19071a9fd0339&srepoch=1649968357&from=searchresults#hotelTmpl', 'lat_hotels': 50.64241422, 'lon_hotels': 3.06787005, 'description': \"L’ibis budget Lille Centre propose des hébergements à Lille, à 400 mètres de la Grand-Place et du Vieux-Lille. Il propose une réception ouverte 24h/2 ... (358 characters truncated) ... ntre est à 750 mètres de la gare de Lille-Europe et à 600 mètres de celle de Lille-Flandres. Enfin, l’aéroport de Lille-Lesquin est distant de 8 km. \", 'score': 7.1}, {'index': 7, 'id': 7, 'city': 'Lille', 'score_weather': 68.31428571428572, 'name': 'LoveLoc', 'url': 'https://www.booking.com/hotel/fr/tip-top-studio.fr.html?label=gen173nr-1FCAEoggI46AdIDVgEaE2IAQGYAQ24ARfIAQ_YAQHoAQH4AQKIAgGoAgO4AtSJ4pIGwAIB0gIkMWMy ... (176 characters truncated) ... _children=0&hpos=8&hapos=8&sr_order=popularity&srpvid=1da19071a9fd0339&srepoch=1649968357&from_sustainable_property_sr=1&from=searchresults#hotelTmpl', 'lat_hotels': 50.6372416, 'lon_hotels': 3.0691052, 'description': \"Situé à Lille, à 300 mètres de l'opéra, le LoveLoc propose un restaurant, une connexion Wi-Fi gratuite, un service de concierge et un bureau d'excurs ... (588 characters truncated) ... ille. Moyennant des frais supplémentaires, l'établissement assure un service de navette aéroport, le plus proche étant celui de Lille, situé à 8 km. \", 'score': 5.0}  ... displaying 10 of 700 total bound parameter sets ...  {'index': 698, 'id': 29, 'city': 'Ariege', 'score_weather': 147.8542857142857, 'name': 'Hostellerie de La Poste', 'url': 'https://www.booking.com/hotel/fr/hostellerie-de-la-poste-oust.fr.html?label=gen173nr-1FCAEoggI46AdIDVgEaE2IAQGYAQ24ARfIAQ_YAQHoAQH4AQKIAgGoAgO4AtSJ4p ... (161 characters truncated) ... _rooms=1&group_children=0&req_children=0&hpos=19&hapos=19&sr_order=popularity&srpvid=548e9075f6fd012a&srepoch=1649968363&from=searchresults#hotelTmpl', 'lat_hotels': 42.874712, 'lon_hotels': 1.21583998, 'description': \"Située au sein du parc naturel régional des Pyrénées ariégeoises, l'Hostellerie De La Poste se trouve dans le village d'Oust. Elle possède une piscin ... (563 characters truncated) ... e parc aventure Séquoia Vertigo est situé à 20 km de l'établissement. La gare de Foix se trouve à 34 km. Un parking public est disponible sur place. \", 'score': 8.1}, {'index': 699, 'id': 29, 'city': 'Ariege', 'score_weather': 147.8542857142857, 'name': 'Logis Hotel Restaurant LA BARGUILLERE', 'url': 'https://www.booking.com/hotel/fr/la-barguillere.fr.html?label=gen173nr-1FCAEoggI46AdIDVgEaE2IAQGYAQ24ARfIAQ_YAQHoAQH4AQKIAgGoAgO4AtSJ4pIGwAIB0gIkMWMy ... (178 characters truncated) ... hildren=0&hpos=20&hapos=20&sr_order=popularity&srpvid=548e9075f6fd012a&srepoch=1649968363&from_sustainable_property_sr=1&from=searchresults#hotelTmpl', 'lat_hotels': 42.9609334, 'lon_hotels': 1.55871212, 'description': \"Vous pouvez bénéficier d'une réduction Genius dans l'établissement Logis Hotel Restaurant LA BARGUILLERE\\xa0! Connectez-vous pour économiser.L’Logis  ... (667 characters truncated) ... is Hotel Restaurant LA BARGUILLERE est à 10 minutes de route du château de Foix. La région est très appréciée des amateurs de pêche et de randonnée. \", 'score': 8.8})\n",
      "2022-04-23 18:33:08,690 INFO sqlalchemy.engine.Engine COMMIT\n"
     ]
    },
    {
     "data": {
      "text/plain": [
       "700"
      ]
     },
     "execution_count": 15,
     "metadata": {},
     "output_type": "execute_result"
    }
   ],
   "source": [
    "# Storing the two dataframes as SQL tables\n",
    "df_weather_full_sql.to_sql('weather', con=engine, if_exists='replace', index=False)\n",
    "df_hotels_full_sql.to_sql('hotels', con=engine, if_exists='replace', index=False)"
   ]
  },
  {
   "cell_type": "code",
   "execution_count": null,
   "metadata": {},
   "outputs": [
    {
     "name": "stdout",
     "output_type": "stream",
     "text": [
      "2022-04-23 18:33:08,754 INFO sqlalchemy.engine.Engine select relname from pg_class c join pg_namespace n on n.oid=c.relnamespace where pg_catalog.pg_table_is_visible(c.oid) and relname=%(name)s\n",
      "2022-04-23 18:33:08,755 INFO sqlalchemy.engine.Engine [cached since 1.026s ago] {'name': 'SELECT * FROM weather LIMIT 21'}\n",
      "2022-04-23 18:33:08,794 INFO sqlalchemy.engine.Engine SELECT * FROM weather LIMIT 21\n",
      "2022-04-23 18:33:08,794 INFO sqlalchemy.engine.Engine [generated in 0.00042s] {}\n"
     ]
    },
    {
     "data": {
      "text/html": [
       "<div>\n",
       "<style scoped>\n",
       "    .dataframe tbody tr th:only-of-type {\n",
       "        vertical-align: middle;\n",
       "    }\n",
       "\n",
       "    .dataframe tbody tr th {\n",
       "        vertical-align: top;\n",
       "    }\n",
       "\n",
       "    .dataframe thead th {\n",
       "        text-align: right;\n",
       "    }\n",
       "</style>\n",
       "<table border=\"1\" class=\"dataframe\">\n",
       "  <thead>\n",
       "    <tr style=\"text-align: right;\">\n",
       "      <th></th>\n",
       "      <th>index</th>\n",
       "      <th>id</th>\n",
       "      <th>city</th>\n",
       "      <th>lat</th>\n",
       "      <th>lon</th>\n",
       "      <th>score_weather</th>\n",
       "      <th>day_plus</th>\n",
       "      <th>felt_temperature</th>\n",
       "      <th>rain_chances</th>\n",
       "      <th>humidity</th>\n",
       "    </tr>\n",
       "  </thead>\n",
       "  <tbody>\n",
       "    <tr>\n",
       "      <th>0</th>\n",
       "      <td>0</td>\n",
       "      <td>7</td>\n",
       "      <td>Lille</td>\n",
       "      <td>50.636565</td>\n",
       "      <td>3.063528</td>\n",
       "      <td>68.314286</td>\n",
       "      <td>1</td>\n",
       "      <td>15.55</td>\n",
       "      <td>18</td>\n",
       "      <td>47</td>\n",
       "    </tr>\n",
       "    <tr>\n",
       "      <th>1</th>\n",
       "      <td>1</td>\n",
       "      <td>7</td>\n",
       "      <td>Lille</td>\n",
       "      <td>50.636565</td>\n",
       "      <td>3.063528</td>\n",
       "      <td>68.314286</td>\n",
       "      <td>2</td>\n",
       "      <td>11.91</td>\n",
       "      <td>22</td>\n",
       "      <td>57</td>\n",
       "    </tr>\n",
       "    <tr>\n",
       "      <th>2</th>\n",
       "      <td>2</td>\n",
       "      <td>7</td>\n",
       "      <td>Lille</td>\n",
       "      <td>50.636565</td>\n",
       "      <td>3.063528</td>\n",
       "      <td>68.314286</td>\n",
       "      <td>3</td>\n",
       "      <td>13.20</td>\n",
       "      <td>0</td>\n",
       "      <td>41</td>\n",
       "    </tr>\n",
       "    <tr>\n",
       "      <th>3</th>\n",
       "      <td>3</td>\n",
       "      <td>7</td>\n",
       "      <td>Lille</td>\n",
       "      <td>50.636565</td>\n",
       "      <td>3.063528</td>\n",
       "      <td>68.314286</td>\n",
       "      <td>4</td>\n",
       "      <td>13.27</td>\n",
       "      <td>0</td>\n",
       "      <td>46</td>\n",
       "    </tr>\n",
       "    <tr>\n",
       "      <th>4</th>\n",
       "      <td>4</td>\n",
       "      <td>7</td>\n",
       "      <td>Lille</td>\n",
       "      <td>50.636565</td>\n",
       "      <td>3.063528</td>\n",
       "      <td>68.314286</td>\n",
       "      <td>5</td>\n",
       "      <td>17.86</td>\n",
       "      <td>0</td>\n",
       "      <td>39</td>\n",
       "    </tr>\n",
       "    <tr>\n",
       "      <th>5</th>\n",
       "      <td>5</td>\n",
       "      <td>7</td>\n",
       "      <td>Lille</td>\n",
       "      <td>50.636565</td>\n",
       "      <td>3.063528</td>\n",
       "      <td>68.314286</td>\n",
       "      <td>6</td>\n",
       "      <td>18.71</td>\n",
       "      <td>0</td>\n",
       "      <td>46</td>\n",
       "    </tr>\n",
       "    <tr>\n",
       "      <th>6</th>\n",
       "      <td>6</td>\n",
       "      <td>7</td>\n",
       "      <td>Lille</td>\n",
       "      <td>50.636565</td>\n",
       "      <td>3.063528</td>\n",
       "      <td>68.314286</td>\n",
       "      <td>7</td>\n",
       "      <td>15.15</td>\n",
       "      <td>0</td>\n",
       "      <td>43</td>\n",
       "    </tr>\n",
       "    <tr>\n",
       "      <th>7</th>\n",
       "      <td>7</td>\n",
       "      <td>21</td>\n",
       "      <td>Aix en Provence</td>\n",
       "      <td>43.529842</td>\n",
       "      <td>5.447474</td>\n",
       "      <td>70.300000</td>\n",
       "      <td>1</td>\n",
       "      <td>10.58</td>\n",
       "      <td>94</td>\n",
       "      <td>82</td>\n",
       "    </tr>\n",
       "    <tr>\n",
       "      <th>8</th>\n",
       "      <td>8</td>\n",
       "      <td>21</td>\n",
       "      <td>Aix en Provence</td>\n",
       "      <td>43.529842</td>\n",
       "      <td>5.447474</td>\n",
       "      <td>70.300000</td>\n",
       "      <td>2</td>\n",
       "      <td>16.83</td>\n",
       "      <td>0</td>\n",
       "      <td>49</td>\n",
       "    </tr>\n",
       "    <tr>\n",
       "      <th>9</th>\n",
       "      <td>9</td>\n",
       "      <td>21</td>\n",
       "      <td>Aix en Provence</td>\n",
       "      <td>43.529842</td>\n",
       "      <td>5.447474</td>\n",
       "      <td>70.300000</td>\n",
       "      <td>3</td>\n",
       "      <td>19.81</td>\n",
       "      <td>0</td>\n",
       "      <td>35</td>\n",
       "    </tr>\n",
       "    <tr>\n",
       "      <th>10</th>\n",
       "      <td>10</td>\n",
       "      <td>21</td>\n",
       "      <td>Aix en Provence</td>\n",
       "      <td>43.529842</td>\n",
       "      <td>5.447474</td>\n",
       "      <td>70.300000</td>\n",
       "      <td>4</td>\n",
       "      <td>20.24</td>\n",
       "      <td>0</td>\n",
       "      <td>40</td>\n",
       "    </tr>\n",
       "    <tr>\n",
       "      <th>11</th>\n",
       "      <td>11</td>\n",
       "      <td>21</td>\n",
       "      <td>Aix en Provence</td>\n",
       "      <td>43.529842</td>\n",
       "      <td>5.447474</td>\n",
       "      <td>70.300000</td>\n",
       "      <td>5</td>\n",
       "      <td>19.60</td>\n",
       "      <td>1</td>\n",
       "      <td>43</td>\n",
       "    </tr>\n",
       "    <tr>\n",
       "      <th>12</th>\n",
       "      <td>12</td>\n",
       "      <td>21</td>\n",
       "      <td>Aix en Provence</td>\n",
       "      <td>43.529842</td>\n",
       "      <td>5.447474</td>\n",
       "      <td>70.300000</td>\n",
       "      <td>6</td>\n",
       "      <td>21.26</td>\n",
       "      <td>1</td>\n",
       "      <td>40</td>\n",
       "    </tr>\n",
       "    <tr>\n",
       "      <th>13</th>\n",
       "      <td>13</td>\n",
       "      <td>21</td>\n",
       "      <td>Aix en Provence</td>\n",
       "      <td>43.529842</td>\n",
       "      <td>5.447474</td>\n",
       "      <td>70.300000</td>\n",
       "      <td>7</td>\n",
       "      <td>21.63</td>\n",
       "      <td>0</td>\n",
       "      <td>43</td>\n",
       "    </tr>\n",
       "    <tr>\n",
       "      <th>14</th>\n",
       "      <td>14</td>\n",
       "      <td>24</td>\n",
       "      <td>Nimes</td>\n",
       "      <td>43.837425</td>\n",
       "      <td>4.360069</td>\n",
       "      <td>72.051429</td>\n",
       "      <td>1</td>\n",
       "      <td>10.37</td>\n",
       "      <td>100</td>\n",
       "      <td>89</td>\n",
       "    </tr>\n",
       "    <tr>\n",
       "      <th>15</th>\n",
       "      <td>15</td>\n",
       "      <td>24</td>\n",
       "      <td>Nimes</td>\n",
       "      <td>43.837425</td>\n",
       "      <td>4.360069</td>\n",
       "      <td>72.051429</td>\n",
       "      <td>2</td>\n",
       "      <td>18.07</td>\n",
       "      <td>7</td>\n",
       "      <td>47</td>\n",
       "    </tr>\n",
       "    <tr>\n",
       "      <th>16</th>\n",
       "      <td>16</td>\n",
       "      <td>24</td>\n",
       "      <td>Nimes</td>\n",
       "      <td>43.837425</td>\n",
       "      <td>4.360069</td>\n",
       "      <td>72.051429</td>\n",
       "      <td>3</td>\n",
       "      <td>20.96</td>\n",
       "      <td>0</td>\n",
       "      <td>35</td>\n",
       "    </tr>\n",
       "    <tr>\n",
       "      <th>17</th>\n",
       "      <td>17</td>\n",
       "      <td>24</td>\n",
       "      <td>Nimes</td>\n",
       "      <td>43.837425</td>\n",
       "      <td>4.360069</td>\n",
       "      <td>72.051429</td>\n",
       "      <td>4</td>\n",
       "      <td>20.61</td>\n",
       "      <td>0</td>\n",
       "      <td>39</td>\n",
       "    </tr>\n",
       "    <tr>\n",
       "      <th>18</th>\n",
       "      <td>18</td>\n",
       "      <td>24</td>\n",
       "      <td>Nimes</td>\n",
       "      <td>43.837425</td>\n",
       "      <td>4.360069</td>\n",
       "      <td>72.051429</td>\n",
       "      <td>5</td>\n",
       "      <td>19.34</td>\n",
       "      <td>10</td>\n",
       "      <td>50</td>\n",
       "    </tr>\n",
       "    <tr>\n",
       "      <th>19</th>\n",
       "      <td>19</td>\n",
       "      <td>24</td>\n",
       "      <td>Nimes</td>\n",
       "      <td>43.837425</td>\n",
       "      <td>4.360069</td>\n",
       "      <td>72.051429</td>\n",
       "      <td>6</td>\n",
       "      <td>22.86</td>\n",
       "      <td>1</td>\n",
       "      <td>43</td>\n",
       "    </tr>\n",
       "    <tr>\n",
       "      <th>20</th>\n",
       "      <td>20</td>\n",
       "      <td>24</td>\n",
       "      <td>Nimes</td>\n",
       "      <td>43.837425</td>\n",
       "      <td>4.360069</td>\n",
       "      <td>72.051429</td>\n",
       "      <td>7</td>\n",
       "      <td>24.11</td>\n",
       "      <td>0</td>\n",
       "      <td>35</td>\n",
       "    </tr>\n",
       "  </tbody>\n",
       "</table>\n",
       "</div>"
      ],
      "text/plain": [
       "    index  id             city        lat       lon  score_weather  day_plus  \\\n",
       "0       0   7            Lille  50.636565  3.063528      68.314286         1   \n",
       "1       1   7            Lille  50.636565  3.063528      68.314286         2   \n",
       "2       2   7            Lille  50.636565  3.063528      68.314286         3   \n",
       "3       3   7            Lille  50.636565  3.063528      68.314286         4   \n",
       "4       4   7            Lille  50.636565  3.063528      68.314286         5   \n",
       "5       5   7            Lille  50.636565  3.063528      68.314286         6   \n",
       "6       6   7            Lille  50.636565  3.063528      68.314286         7   \n",
       "7       7  21  Aix en Provence  43.529842  5.447474      70.300000         1   \n",
       "8       8  21  Aix en Provence  43.529842  5.447474      70.300000         2   \n",
       "9       9  21  Aix en Provence  43.529842  5.447474      70.300000         3   \n",
       "10     10  21  Aix en Provence  43.529842  5.447474      70.300000         4   \n",
       "11     11  21  Aix en Provence  43.529842  5.447474      70.300000         5   \n",
       "12     12  21  Aix en Provence  43.529842  5.447474      70.300000         6   \n",
       "13     13  21  Aix en Provence  43.529842  5.447474      70.300000         7   \n",
       "14     14  24            Nimes  43.837425  4.360069      72.051429         1   \n",
       "15     15  24            Nimes  43.837425  4.360069      72.051429         2   \n",
       "16     16  24            Nimes  43.837425  4.360069      72.051429         3   \n",
       "17     17  24            Nimes  43.837425  4.360069      72.051429         4   \n",
       "18     18  24            Nimes  43.837425  4.360069      72.051429         5   \n",
       "19     19  24            Nimes  43.837425  4.360069      72.051429         6   \n",
       "20     20  24            Nimes  43.837425  4.360069      72.051429         7   \n",
       "\n",
       "    felt_temperature  rain_chances  humidity  \n",
       "0              15.55            18        47  \n",
       "1              11.91            22        57  \n",
       "2              13.20             0        41  \n",
       "3              13.27             0        46  \n",
       "4              17.86             0        39  \n",
       "5              18.71             0        46  \n",
       "6              15.15             0        43  \n",
       "7              10.58            94        82  \n",
       "8              16.83             0        49  \n",
       "9              19.81             0        35  \n",
       "10             20.24             0        40  \n",
       "11             19.60             1        43  \n",
       "12             21.26             1        40  \n",
       "13             21.63             0        43  \n",
       "14             10.37           100        89  \n",
       "15             18.07             7        47  \n",
       "16             20.96             0        35  \n",
       "17             20.61             0        39  \n",
       "18             19.34            10        50  \n",
       "19             22.86             1        43  \n",
       "20             24.11             0        35  "
      ]
     },
     "execution_count": 16,
     "metadata": {},
     "output_type": "execute_result"
    }
   ],
   "source": [
    "# Testing the data with a query\n",
    "query = text(\"SELECT * FROM weather LIMIT 21\")\n",
    "pd.read_sql(query, engine)"
   ]
  },
  {
   "cell_type": "code",
   "execution_count": null,
   "metadata": {},
   "outputs": [
    {
     "name": "stdout",
     "output_type": "stream",
     "text": [
      "2022-04-23 18:33:08,903 INFO sqlalchemy.engine.Engine select relname from pg_class c join pg_namespace n on n.oid=c.relnamespace where pg_catalog.pg_table_is_visible(c.oid) and relname=%(name)s\n",
      "2022-04-23 18:33:08,903 INFO sqlalchemy.engine.Engine [cached since 1.175s ago] {'name': 'SELECT * FROM hotels LIMIT 40'}\n",
      "2022-04-23 18:33:08,939 INFO sqlalchemy.engine.Engine SELECT * FROM hotels LIMIT 40\n",
      "2022-04-23 18:33:08,940 INFO sqlalchemy.engine.Engine [generated in 0.00043s] {}\n"
     ]
    },
    {
     "data": {
      "text/html": [
       "<div>\n",
       "<style scoped>\n",
       "    .dataframe tbody tr th:only-of-type {\n",
       "        vertical-align: middle;\n",
       "    }\n",
       "\n",
       "    .dataframe tbody tr th {\n",
       "        vertical-align: top;\n",
       "    }\n",
       "\n",
       "    .dataframe thead th {\n",
       "        text-align: right;\n",
       "    }\n",
       "</style>\n",
       "<table border=\"1\" class=\"dataframe\">\n",
       "  <thead>\n",
       "    <tr style=\"text-align: right;\">\n",
       "      <th></th>\n",
       "      <th>index</th>\n",
       "      <th>id</th>\n",
       "      <th>city</th>\n",
       "      <th>score_weather</th>\n",
       "      <th>name</th>\n",
       "      <th>url</th>\n",
       "      <th>lat_hotels</th>\n",
       "      <th>lon_hotels</th>\n",
       "      <th>description</th>\n",
       "      <th>score</th>\n",
       "    </tr>\n",
       "  </thead>\n",
       "  <tbody>\n",
       "    <tr>\n",
       "      <th>0</th>\n",
       "      <td>0</td>\n",
       "      <td>7</td>\n",
       "      <td>Lille</td>\n",
       "      <td>68.314286</td>\n",
       "      <td>NOCNOC - La Villa Cachee</td>\n",
       "      <td>https://www.booking.com/hotel/fr/la-villa-cach...</td>\n",
       "      <td>50.629146</td>\n",
       "      <td>3.064199</td>\n",
       "      <td>Vous pouvez bénéficier d'une réduction Genius ...</td>\n",
       "      <td>8.4</td>\n",
       "    </tr>\n",
       "    <tr>\n",
       "      <th>1</th>\n",
       "      <td>1</td>\n",
       "      <td>7</td>\n",
       "      <td>Lille</td>\n",
       "      <td>68.314286</td>\n",
       "      <td>Hotel Lille Europe</td>\n",
       "      <td>https://www.booking.com/hotel/fr/lille-europe....</td>\n",
       "      <td>50.637888</td>\n",
       "      <td>3.072685</td>\n",
       "      <td>Vous pouvez bénéficier d'une réduction Genius ...</td>\n",
       "      <td>8.1</td>\n",
       "    </tr>\n",
       "    <tr>\n",
       "      <th>2</th>\n",
       "      <td>2</td>\n",
       "      <td>7</td>\n",
       "      <td>Lille</td>\n",
       "      <td>68.314286</td>\n",
       "      <td>Moxy Lille City</td>\n",
       "      <td>https://www.booking.com/hotel/fr/moxy-lille-ci...</td>\n",
       "      <td>50.627831</td>\n",
       "      <td>3.063592</td>\n",
       "      <td>Le Moxy Lille City est situé à Lille, à 700 mè...</td>\n",
       "      <td>8.7</td>\n",
       "    </tr>\n",
       "    <tr>\n",
       "      <th>3</th>\n",
       "      <td>3</td>\n",
       "      <td>7</td>\n",
       "      <td>Lille</td>\n",
       "      <td>68.314286</td>\n",
       "      <td>B&amp;B Hôtel Lille Centre Grand Palais</td>\n",
       "      <td>https://www.booking.com/hotel/fr/b-b-lille-cen...</td>\n",
       "      <td>50.628138</td>\n",
       "      <td>3.081424</td>\n",
       "      <td>Le B&amp;B Hôtel Lille Centre Grand Palais est sit...</td>\n",
       "      <td>7.9</td>\n",
       "    </tr>\n",
       "    <tr>\n",
       "      <th>4</th>\n",
       "      <td>4</td>\n",
       "      <td>7</td>\n",
       "      <td>Lille</td>\n",
       "      <td>68.314286</td>\n",
       "      <td>ibis Styles Lille Centre Gare Beffroi</td>\n",
       "      <td>https://www.booking.com/hotel/fr/ibis-styles-l...</td>\n",
       "      <td>50.632382</td>\n",
       "      <td>3.067943</td>\n",
       "      <td>L’ibis Styles Lille Centre Gare Beffroi vous a...</td>\n",
       "      <td>7.8</td>\n",
       "    </tr>\n",
       "    <tr>\n",
       "      <th>5</th>\n",
       "      <td>233</td>\n",
       "      <td>4</td>\n",
       "      <td>Rouen</td>\n",
       "      <td>82.520000</td>\n",
       "      <td>Superbe appartement St sever</td>\n",
       "      <td>https://www.booking.com/hotel/fr/superbe-appar...</td>\n",
       "      <td>49.428775</td>\n",
       "      <td>1.080964</td>\n",
       "      <td>Le Superbe appartement St Sever est situé à Ro...</td>\n",
       "      <td>5.0</td>\n",
       "    </tr>\n",
       "    <tr>\n",
       "      <th>6</th>\n",
       "      <td>5</td>\n",
       "      <td>7</td>\n",
       "      <td>Lille</td>\n",
       "      <td>68.314286</td>\n",
       "      <td>Hôtel Calm Lille</td>\n",
       "      <td>https://www.booking.com/hotel/fr/calm-lille.fr...</td>\n",
       "      <td>50.635288</td>\n",
       "      <td>3.069707</td>\n",
       "      <td>Vous pouvez bénéficier d'une réduction Genius ...</td>\n",
       "      <td>7.8</td>\n",
       "    </tr>\n",
       "    <tr>\n",
       "      <th>7</th>\n",
       "      <td>6</td>\n",
       "      <td>7</td>\n",
       "      <td>Lille</td>\n",
       "      <td>68.314286</td>\n",
       "      <td>ibis budget Lille Centre</td>\n",
       "      <td>https://www.booking.com/hotel/fr/ibis-budget-l...</td>\n",
       "      <td>50.642414</td>\n",
       "      <td>3.067870</td>\n",
       "      <td>L’ibis budget Lille Centre propose des héberge...</td>\n",
       "      <td>7.1</td>\n",
       "    </tr>\n",
       "    <tr>\n",
       "      <th>8</th>\n",
       "      <td>7</td>\n",
       "      <td>7</td>\n",
       "      <td>Lille</td>\n",
       "      <td>68.314286</td>\n",
       "      <td>LoveLoc</td>\n",
       "      <td>https://www.booking.com/hotel/fr/tip-top-studi...</td>\n",
       "      <td>50.637242</td>\n",
       "      <td>3.069105</td>\n",
       "      <td>Situé à Lille, à 300 mètres de l'opéra, le Lov...</td>\n",
       "      <td>5.0</td>\n",
       "    </tr>\n",
       "    <tr>\n",
       "      <th>9</th>\n",
       "      <td>8</td>\n",
       "      <td>7</td>\n",
       "      <td>Lille</td>\n",
       "      <td>68.314286</td>\n",
       "      <td>Holiday Inn Express Lille Centre, an IHG Hotel</td>\n",
       "      <td>https://www.booking.com/hotel/fr/expressbyholi...</td>\n",
       "      <td>50.630759</td>\n",
       "      <td>3.058088</td>\n",
       "      <td>L'Holiday Inn Express Lille Centre est situé d...</td>\n",
       "      <td>8.1</td>\n",
       "    </tr>\n",
       "    <tr>\n",
       "      <th>10</th>\n",
       "      <td>9</td>\n",
       "      <td>7</td>\n",
       "      <td>Lille</td>\n",
       "      <td>68.314286</td>\n",
       "      <td>Grand Hotel Bellevue - Grand Place</td>\n",
       "      <td>https://www.booking.com/hotel/fr/grandhotelbel...</td>\n",
       "      <td>50.636547</td>\n",
       "      <td>3.062342</td>\n",
       "      <td>Vous pouvez bénéficier d'une réduction Genius ...</td>\n",
       "      <td>8.5</td>\n",
       "    </tr>\n",
       "    <tr>\n",
       "      <th>11</th>\n",
       "      <td>10</td>\n",
       "      <td>7</td>\n",
       "      <td>Lille</td>\n",
       "      <td>68.314286</td>\n",
       "      <td>Mama Shelter Lille</td>\n",
       "      <td>https://www.booking.com/hotel/fr/mama-shelter-...</td>\n",
       "      <td>50.639065</td>\n",
       "      <td>3.070951</td>\n",
       "      <td>Le Mama Shelter Lille est situé dans le centre...</td>\n",
       "      <td>8.5</td>\n",
       "    </tr>\n",
       "    <tr>\n",
       "      <th>12</th>\n",
       "      <td>11</td>\n",
       "      <td>7</td>\n",
       "      <td>Lille</td>\n",
       "      <td>68.314286</td>\n",
       "      <td>Lille Centre - Nice cozy &amp; functional apTerrace</td>\n",
       "      <td>https://www.booking.com/hotel/fr/lille-centre-...</td>\n",
       "      <td>50.628510</td>\n",
       "      <td>3.051873</td>\n",
       "      <td>Situé à Lille, à 400 mètres de la braderie de ...</td>\n",
       "      <td>7.2</td>\n",
       "    </tr>\n",
       "    <tr>\n",
       "      <th>13</th>\n",
       "      <td>12</td>\n",
       "      <td>7</td>\n",
       "      <td>Lille</td>\n",
       "      <td>68.314286</td>\n",
       "      <td>ibis Lille Centre Gares</td>\n",
       "      <td>https://www.booking.com/hotel/fr/ibis-lille-ce...</td>\n",
       "      <td>50.634704</td>\n",
       "      <td>3.070800</td>\n",
       "      <td>Situé à 100 mètres de la gare de Lille Flandre...</td>\n",
       "      <td>7.9</td>\n",
       "    </tr>\n",
       "    <tr>\n",
       "      <th>14</th>\n",
       "      <td>13</td>\n",
       "      <td>7</td>\n",
       "      <td>Lille</td>\n",
       "      <td>68.314286</td>\n",
       "      <td>Première Classe Lille Centre</td>\n",
       "      <td>https://www.booking.com/hotel/fr/premiere-clas...</td>\n",
       "      <td>50.637285</td>\n",
       "      <td>3.068448</td>\n",
       "      <td>Le Première Classe Lille Centre vous accueille...</td>\n",
       "      <td>6.2</td>\n",
       "    </tr>\n",
       "    <tr>\n",
       "      <th>15</th>\n",
       "      <td>14</td>\n",
       "      <td>7</td>\n",
       "      <td>Lille</td>\n",
       "      <td>68.314286</td>\n",
       "      <td>Hotel Chagnot</td>\n",
       "      <td>https://www.booking.com/hotel/fr/hotel-balladi...</td>\n",
       "      <td>50.636246</td>\n",
       "      <td>3.069242</td>\n",
       "      <td>L'Hotel Chagnot est situé dans le centre-ville...</td>\n",
       "      <td>7.9</td>\n",
       "    </tr>\n",
       "    <tr>\n",
       "      <th>16</th>\n",
       "      <td>15</td>\n",
       "      <td>7</td>\n",
       "      <td>Lille</td>\n",
       "      <td>68.314286</td>\n",
       "      <td>ibis Lille Centre Grand Palais</td>\n",
       "      <td>https://www.booking.com/hotel/fr/ibis-lille-ce...</td>\n",
       "      <td>50.633198</td>\n",
       "      <td>3.074477</td>\n",
       "      <td>L'ibis Lille Centre Grand Palais est situé à L...</td>\n",
       "      <td>8.2</td>\n",
       "    </tr>\n",
       "    <tr>\n",
       "      <th>17</th>\n",
       "      <td>16</td>\n",
       "      <td>7</td>\n",
       "      <td>Lille</td>\n",
       "      <td>68.314286</td>\n",
       "      <td>Little Suite - Louise</td>\n",
       "      <td>https://www.booking.com/hotel/fr/little-suite-...</td>\n",
       "      <td>50.640823</td>\n",
       "      <td>3.064917</td>\n",
       "      <td>Cet appartement se situe dans le centre de Lil...</td>\n",
       "      <td>7.6</td>\n",
       "    </tr>\n",
       "    <tr>\n",
       "      <th>18</th>\n",
       "      <td>17</td>\n",
       "      <td>7</td>\n",
       "      <td>Lille</td>\n",
       "      <td>68.314286</td>\n",
       "      <td>Hotel Art Deco Euralille</td>\n",
       "      <td>https://www.booking.com/hotel/fr/hotelsrtdecor...</td>\n",
       "      <td>50.646022</td>\n",
       "      <td>3.075871</td>\n",
       "      <td>Vous pouvez bénéficier d'une réduction Genius ...</td>\n",
       "      <td>7.9</td>\n",
       "    </tr>\n",
       "    <tr>\n",
       "      <th>19</th>\n",
       "      <td>18</td>\n",
       "      <td>7</td>\n",
       "      <td>Lille</td>\n",
       "      <td>68.314286</td>\n",
       "      <td>Lille Centre - Nice and functional ap</td>\n",
       "      <td>https://www.booking.com/hotel/fr/lille-grand-p...</td>\n",
       "      <td>50.641430</td>\n",
       "      <td>3.065780</td>\n",
       "      <td>Le Lille Centre - Nice and functional ap propo...</td>\n",
       "      <td>9.0</td>\n",
       "    </tr>\n",
       "    <tr>\n",
       "      <th>20</th>\n",
       "      <td>19</td>\n",
       "      <td>7</td>\n",
       "      <td>Lille</td>\n",
       "      <td>68.314286</td>\n",
       "      <td>La Petite Place le Gîte et le Couvert de la Po...</td>\n",
       "      <td>https://www.booking.com/hotel/fr/triplex-au-co...</td>\n",
       "      <td>50.643086</td>\n",
       "      <td>3.067507</td>\n",
       "      <td>Doté d'un restaurant, d'un bar et d'un salon c...</td>\n",
       "      <td>9.0</td>\n",
       "    </tr>\n",
       "    <tr>\n",
       "      <th>21</th>\n",
       "      <td>20</td>\n",
       "      <td>21</td>\n",
       "      <td>Aix en Provence</td>\n",
       "      <td>70.300000</td>\n",
       "      <td>TheCamp Hotel&amp;Lodges - Aix en Provence</td>\n",
       "      <td>https://www.booking.com/hotel/fr/thecamp-amp-l...</td>\n",
       "      <td>43.496316</td>\n",
       "      <td>5.342152</td>\n",
       "      <td>Vous pouvez bénéficier d'une réduction Genius ...</td>\n",
       "      <td>8.5</td>\n",
       "    </tr>\n",
       "    <tr>\n",
       "      <th>22</th>\n",
       "      <td>21</td>\n",
       "      <td>21</td>\n",
       "      <td>Aix en Provence</td>\n",
       "      <td>70.300000</td>\n",
       "      <td>Odalys City Aix en Provence L'Atrium</td>\n",
       "      <td>https://www.booking.com/hotel/fr/atrium-d-anai...</td>\n",
       "      <td>43.524091</td>\n",
       "      <td>5.455216</td>\n",
       "      <td>Vous pouvez bénéficier d'une réduction Genius ...</td>\n",
       "      <td>7.4</td>\n",
       "    </tr>\n",
       "    <tr>\n",
       "      <th>23</th>\n",
       "      <td>22</td>\n",
       "      <td>21</td>\n",
       "      <td>Aix en Provence</td>\n",
       "      <td>70.300000</td>\n",
       "      <td>Nice apartment for 4 people in the center of A...</td>\n",
       "      <td>https://www.booking.com/hotel/fr/nice-apartmen...</td>\n",
       "      <td>43.518571</td>\n",
       "      <td>5.458349</td>\n",
       "      <td>Situé à Aix-en-Provence, à proximité du cours ...</td>\n",
       "      <td>5.0</td>\n",
       "    </tr>\n",
       "    <tr>\n",
       "      <th>24</th>\n",
       "      <td>23</td>\n",
       "      <td>21</td>\n",
       "      <td>Aix en Provence</td>\n",
       "      <td>70.300000</td>\n",
       "      <td>Furnished apartment with terrace in the center...</td>\n",
       "      <td>https://www.booking.com/hotel/fr/furnished-apa...</td>\n",
       "      <td>43.526627</td>\n",
       "      <td>5.446262</td>\n",
       "      <td>Situé dans le centre historique d'Aix-en-Prove...</td>\n",
       "      <td>5.0</td>\n",
       "    </tr>\n",
       "    <tr>\n",
       "      <th>25</th>\n",
       "      <td>24</td>\n",
       "      <td>21</td>\n",
       "      <td>Aix en Provence</td>\n",
       "      <td>70.300000</td>\n",
       "      <td>Séjours &amp; Affaires Aix-en-Provence Mirabeau</td>\n",
       "      <td>https://www.booking.com/hotel/fr/residence-mir...</td>\n",
       "      <td>43.525241</td>\n",
       "      <td>5.441266</td>\n",
       "      <td>Vous pouvez bénéficier d'une réduction Genius ...</td>\n",
       "      <td>8.2</td>\n",
       "    </tr>\n",
       "    <tr>\n",
       "      <th>26</th>\n",
       "      <td>25</td>\n",
       "      <td>21</td>\n",
       "      <td>Aix en Provence</td>\n",
       "      <td>70.300000</td>\n",
       "      <td>Campanile Aix-en-Provence Sud - Pont de l'Arc</td>\n",
       "      <td>https://www.booking.com/hotel/fr/campanile-aix...</td>\n",
       "      <td>43.511916</td>\n",
       "      <td>5.436654</td>\n",
       "      <td>Installé à Aix-en-Provence, à 3 km du centre h...</td>\n",
       "      <td>7.4</td>\n",
       "    </tr>\n",
       "    <tr>\n",
       "      <th>27</th>\n",
       "      <td>26</td>\n",
       "      <td>21</td>\n",
       "      <td>Aix en Provence</td>\n",
       "      <td>70.300000</td>\n",
       "      <td>Furnished apartment in the heart of the city c...</td>\n",
       "      <td>https://www.booking.com/hotel/fr/furnished-apa...</td>\n",
       "      <td>43.530170</td>\n",
       "      <td>5.447350</td>\n",
       "      <td>Doté d'une connexion Wi-Fi gratuite et offrant...</td>\n",
       "      <td>5.0</td>\n",
       "    </tr>\n",
       "    <tr>\n",
       "      <th>28</th>\n",
       "      <td>27</td>\n",
       "      <td>21</td>\n",
       "      <td>Aix en Provence</td>\n",
       "      <td>70.300000</td>\n",
       "      <td>ibis budget Aix en Provence</td>\n",
       "      <td>https://www.booking.com/hotel/fr/etap-aix-en-p...</td>\n",
       "      <td>43.494530</td>\n",
       "      <td>5.368881</td>\n",
       "      <td>L'ibis budget Aix en Provence est situé en pér...</td>\n",
       "      <td>7.7</td>\n",
       "    </tr>\n",
       "    <tr>\n",
       "      <th>29</th>\n",
       "      <td>28</td>\n",
       "      <td>21</td>\n",
       "      <td>Aix en Provence</td>\n",
       "      <td>70.300000</td>\n",
       "      <td>Joli T2 avec parking à deux pas du centre vill...</td>\n",
       "      <td>https://www.booking.com/hotel/fr/joli-t2-avec-...</td>\n",
       "      <td>43.530129</td>\n",
       "      <td>5.458953</td>\n",
       "      <td>Doté d'une terrasse, le Joli T2 avec parking à...</td>\n",
       "      <td>5.0</td>\n",
       "    </tr>\n",
       "    <tr>\n",
       "      <th>30</th>\n",
       "      <td>29</td>\n",
       "      <td>21</td>\n",
       "      <td>Aix en Provence</td>\n",
       "      <td>70.300000</td>\n",
       "      <td>Furnished apartment in the heart of the city n...</td>\n",
       "      <td>https://www.booking.com/hotel/fr/furnished-apa...</td>\n",
       "      <td>43.531277</td>\n",
       "      <td>5.449440</td>\n",
       "      <td>Situé dans le centre d'Aix-en-Provence, à seul...</td>\n",
       "      <td>5.0</td>\n",
       "    </tr>\n",
       "    <tr>\n",
       "      <th>31</th>\n",
       "      <td>30</td>\n",
       "      <td>21</td>\n",
       "      <td>Aix en Provence</td>\n",
       "      <td>70.300000</td>\n",
       "      <td>L'Appartement Mathilde</td>\n",
       "      <td>https://www.booking.com/hotel/fr/appartement-m...</td>\n",
       "      <td>43.530952</td>\n",
       "      <td>5.446678</td>\n",
       "      <td>Les Appartements Clarisse et Mathilde sont des...</td>\n",
       "      <td>9.1</td>\n",
       "    </tr>\n",
       "    <tr>\n",
       "      <th>32</th>\n",
       "      <td>31</td>\n",
       "      <td>21</td>\n",
       "      <td>Aix en Provence</td>\n",
       "      <td>70.300000</td>\n",
       "      <td>Le Concorde</td>\n",
       "      <td>https://www.booking.com/hotel/fr/le-concorde-s...</td>\n",
       "      <td>43.524612</td>\n",
       "      <td>5.453754</td>\n",
       "      <td>Le Concorde est idéalement situé dans le centr...</td>\n",
       "      <td>8.0</td>\n",
       "    </tr>\n",
       "    <tr>\n",
       "      <th>33</th>\n",
       "      <td>32</td>\n",
       "      <td>21</td>\n",
       "      <td>Aix en Provence</td>\n",
       "      <td>70.300000</td>\n",
       "      <td>Air-conditioned apartment with a small furnish...</td>\n",
       "      <td>https://www.booking.com/hotel/fr/air-condition...</td>\n",
       "      <td>43.529128</td>\n",
       "      <td>5.445380</td>\n",
       "      <td>Situé dans le centre-ville d'Aix-en-Provence, ...</td>\n",
       "      <td>5.0</td>\n",
       "    </tr>\n",
       "    <tr>\n",
       "      <th>34</th>\n",
       "      <td>33</td>\n",
       "      <td>21</td>\n",
       "      <td>Aix en Provence</td>\n",
       "      <td>70.300000</td>\n",
       "      <td>Triplex apartment with furnished rooftop terra...</td>\n",
       "      <td>https://www.booking.com/hotel/fr/triplex-apart...</td>\n",
       "      <td>43.530079</td>\n",
       "      <td>5.449492</td>\n",
       "      <td>Le Triplex apartment with furnished rooftop te...</td>\n",
       "      <td>5.0</td>\n",
       "    </tr>\n",
       "    <tr>\n",
       "      <th>35</th>\n",
       "      <td>34</td>\n",
       "      <td>21</td>\n",
       "      <td>Aix en Provence</td>\n",
       "      <td>70.300000</td>\n",
       "      <td>Private apartment with furnished terrace garde...</td>\n",
       "      <td>https://www.booking.com/hotel/fr/private-apart...</td>\n",
       "      <td>43.519135</td>\n",
       "      <td>5.454833</td>\n",
       "      <td>Situé à Aix-en-Provence, à 1,5 km de la cathéd...</td>\n",
       "      <td>5.0</td>\n",
       "    </tr>\n",
       "    <tr>\n",
       "      <th>36</th>\n",
       "      <td>589</td>\n",
       "      <td>31</td>\n",
       "      <td>Montauban</td>\n",
       "      <td>117.994286</td>\n",
       "      <td>hotelF1 Montauban</td>\n",
       "      <td>https://www.booking.com/hotel/fr/hotelf1-monta...</td>\n",
       "      <td>44.007347</td>\n",
       "      <td>1.385129</td>\n",
       "      <td>L'hotelF1 Montauban vous accueille à Montauban...</td>\n",
       "      <td>5.5</td>\n",
       "    </tr>\n",
       "    <tr>\n",
       "      <th>37</th>\n",
       "      <td>35</td>\n",
       "      <td>21</td>\n",
       "      <td>Aix en Provence</td>\n",
       "      <td>70.300000</td>\n",
       "      <td>La Farigoule</td>\n",
       "      <td>https://www.booking.com/hotel/fr/la-farigoule-...</td>\n",
       "      <td>43.531148</td>\n",
       "      <td>5.474076</td>\n",
       "      <td>Situé à Aix-en-Provence, en Provence-Alpes-Côt...</td>\n",
       "      <td>9.2</td>\n",
       "    </tr>\n",
       "    <tr>\n",
       "      <th>38</th>\n",
       "      <td>36</td>\n",
       "      <td>21</td>\n",
       "      <td>Aix en Provence</td>\n",
       "      <td>70.300000</td>\n",
       "      <td>ibis Aix en Provence</td>\n",
       "      <td>https://www.booking.com/hotel/fr/hatel-ibis-ai...</td>\n",
       "      <td>43.511387</td>\n",
       "      <td>5.464824</td>\n",
       "      <td>L'Hotel Ibis Aix en Provence est situé dans un...</td>\n",
       "      <td>7.8</td>\n",
       "    </tr>\n",
       "    <tr>\n",
       "      <th>39</th>\n",
       "      <td>37</td>\n",
       "      <td>21</td>\n",
       "      <td>Aix en Provence</td>\n",
       "      <td>70.300000</td>\n",
       "      <td>B&amp;B Hôtel Aix-en-Provence Pont de l'Arc</td>\n",
       "      <td>https://www.booking.com/hotel/fr/b-amp-b-aix-e...</td>\n",
       "      <td>43.511171</td>\n",
       "      <td>5.444680</td>\n",
       "      <td>Doté d'une connexion Wi-Fi gratuite, le B&amp;B Hô...</td>\n",
       "      <td>7.0</td>\n",
       "    </tr>\n",
       "  </tbody>\n",
       "</table>\n",
       "</div>"
      ],
      "text/plain": [
       "    index  id             city  score_weather  \\\n",
       "0       0   7            Lille      68.314286   \n",
       "1       1   7            Lille      68.314286   \n",
       "2       2   7            Lille      68.314286   \n",
       "3       3   7            Lille      68.314286   \n",
       "4       4   7            Lille      68.314286   \n",
       "5     233   4            Rouen      82.520000   \n",
       "6       5   7            Lille      68.314286   \n",
       "7       6   7            Lille      68.314286   \n",
       "8       7   7            Lille      68.314286   \n",
       "9       8   7            Lille      68.314286   \n",
       "10      9   7            Lille      68.314286   \n",
       "11     10   7            Lille      68.314286   \n",
       "12     11   7            Lille      68.314286   \n",
       "13     12   7            Lille      68.314286   \n",
       "14     13   7            Lille      68.314286   \n",
       "15     14   7            Lille      68.314286   \n",
       "16     15   7            Lille      68.314286   \n",
       "17     16   7            Lille      68.314286   \n",
       "18     17   7            Lille      68.314286   \n",
       "19     18   7            Lille      68.314286   \n",
       "20     19   7            Lille      68.314286   \n",
       "21     20  21  Aix en Provence      70.300000   \n",
       "22     21  21  Aix en Provence      70.300000   \n",
       "23     22  21  Aix en Provence      70.300000   \n",
       "24     23  21  Aix en Provence      70.300000   \n",
       "25     24  21  Aix en Provence      70.300000   \n",
       "26     25  21  Aix en Provence      70.300000   \n",
       "27     26  21  Aix en Provence      70.300000   \n",
       "28     27  21  Aix en Provence      70.300000   \n",
       "29     28  21  Aix en Provence      70.300000   \n",
       "30     29  21  Aix en Provence      70.300000   \n",
       "31     30  21  Aix en Provence      70.300000   \n",
       "32     31  21  Aix en Provence      70.300000   \n",
       "33     32  21  Aix en Provence      70.300000   \n",
       "34     33  21  Aix en Provence      70.300000   \n",
       "35     34  21  Aix en Provence      70.300000   \n",
       "36    589  31        Montauban     117.994286   \n",
       "37     35  21  Aix en Provence      70.300000   \n",
       "38     36  21  Aix en Provence      70.300000   \n",
       "39     37  21  Aix en Provence      70.300000   \n",
       "\n",
       "                                                 name  \\\n",
       "0                            NOCNOC - La Villa Cachee   \n",
       "1                                  Hotel Lille Europe   \n",
       "2                                     Moxy Lille City   \n",
       "3                 B&B Hôtel Lille Centre Grand Palais   \n",
       "4               ibis Styles Lille Centre Gare Beffroi   \n",
       "5                        Superbe appartement St sever   \n",
       "6                                    Hôtel Calm Lille   \n",
       "7                            ibis budget Lille Centre   \n",
       "8                                             LoveLoc   \n",
       "9      Holiday Inn Express Lille Centre, an IHG Hotel   \n",
       "10                 Grand Hotel Bellevue - Grand Place   \n",
       "11                                 Mama Shelter Lille   \n",
       "12    Lille Centre - Nice cozy & functional apTerrace   \n",
       "13                            ibis Lille Centre Gares   \n",
       "14                       Première Classe Lille Centre   \n",
       "15                                      Hotel Chagnot   \n",
       "16                     ibis Lille Centre Grand Palais   \n",
       "17                              Little Suite - Louise   \n",
       "18                           Hotel Art Deco Euralille   \n",
       "19              Lille Centre - Nice and functional ap   \n",
       "20  La Petite Place le Gîte et le Couvert de la Po...   \n",
       "21             TheCamp Hotel&Lodges - Aix en Provence   \n",
       "22               Odalys City Aix en Provence L'Atrium   \n",
       "23  Nice apartment for 4 people in the center of A...   \n",
       "24  Furnished apartment with terrace in the center...   \n",
       "25        Séjours & Affaires Aix-en-Provence Mirabeau   \n",
       "26      Campanile Aix-en-Provence Sud - Pont de l'Arc   \n",
       "27  Furnished apartment in the heart of the city c...   \n",
       "28                        ibis budget Aix en Provence   \n",
       "29  Joli T2 avec parking à deux pas du centre vill...   \n",
       "30  Furnished apartment in the heart of the city n...   \n",
       "31                             L'Appartement Mathilde   \n",
       "32                                        Le Concorde   \n",
       "33  Air-conditioned apartment with a small furnish...   \n",
       "34  Triplex apartment with furnished rooftop terra...   \n",
       "35  Private apartment with furnished terrace garde...   \n",
       "36                                  hotelF1 Montauban   \n",
       "37                                       La Farigoule   \n",
       "38                               ibis Aix en Provence   \n",
       "39            B&B Hôtel Aix-en-Provence Pont de l'Arc   \n",
       "\n",
       "                                                  url  lat_hotels  lon_hotels  \\\n",
       "0   https://www.booking.com/hotel/fr/la-villa-cach...   50.629146    3.064199   \n",
       "1   https://www.booking.com/hotel/fr/lille-europe....   50.637888    3.072685   \n",
       "2   https://www.booking.com/hotel/fr/moxy-lille-ci...   50.627831    3.063592   \n",
       "3   https://www.booking.com/hotel/fr/b-b-lille-cen...   50.628138    3.081424   \n",
       "4   https://www.booking.com/hotel/fr/ibis-styles-l...   50.632382    3.067943   \n",
       "5   https://www.booking.com/hotel/fr/superbe-appar...   49.428775    1.080964   \n",
       "6   https://www.booking.com/hotel/fr/calm-lille.fr...   50.635288    3.069707   \n",
       "7   https://www.booking.com/hotel/fr/ibis-budget-l...   50.642414    3.067870   \n",
       "8   https://www.booking.com/hotel/fr/tip-top-studi...   50.637242    3.069105   \n",
       "9   https://www.booking.com/hotel/fr/expressbyholi...   50.630759    3.058088   \n",
       "10  https://www.booking.com/hotel/fr/grandhotelbel...   50.636547    3.062342   \n",
       "11  https://www.booking.com/hotel/fr/mama-shelter-...   50.639065    3.070951   \n",
       "12  https://www.booking.com/hotel/fr/lille-centre-...   50.628510    3.051873   \n",
       "13  https://www.booking.com/hotel/fr/ibis-lille-ce...   50.634704    3.070800   \n",
       "14  https://www.booking.com/hotel/fr/premiere-clas...   50.637285    3.068448   \n",
       "15  https://www.booking.com/hotel/fr/hotel-balladi...   50.636246    3.069242   \n",
       "16  https://www.booking.com/hotel/fr/ibis-lille-ce...   50.633198    3.074477   \n",
       "17  https://www.booking.com/hotel/fr/little-suite-...   50.640823    3.064917   \n",
       "18  https://www.booking.com/hotel/fr/hotelsrtdecor...   50.646022    3.075871   \n",
       "19  https://www.booking.com/hotel/fr/lille-grand-p...   50.641430    3.065780   \n",
       "20  https://www.booking.com/hotel/fr/triplex-au-co...   50.643086    3.067507   \n",
       "21  https://www.booking.com/hotel/fr/thecamp-amp-l...   43.496316    5.342152   \n",
       "22  https://www.booking.com/hotel/fr/atrium-d-anai...   43.524091    5.455216   \n",
       "23  https://www.booking.com/hotel/fr/nice-apartmen...   43.518571    5.458349   \n",
       "24  https://www.booking.com/hotel/fr/furnished-apa...   43.526627    5.446262   \n",
       "25  https://www.booking.com/hotel/fr/residence-mir...   43.525241    5.441266   \n",
       "26  https://www.booking.com/hotel/fr/campanile-aix...   43.511916    5.436654   \n",
       "27  https://www.booking.com/hotel/fr/furnished-apa...   43.530170    5.447350   \n",
       "28  https://www.booking.com/hotel/fr/etap-aix-en-p...   43.494530    5.368881   \n",
       "29  https://www.booking.com/hotel/fr/joli-t2-avec-...   43.530129    5.458953   \n",
       "30  https://www.booking.com/hotel/fr/furnished-apa...   43.531277    5.449440   \n",
       "31  https://www.booking.com/hotel/fr/appartement-m...   43.530952    5.446678   \n",
       "32  https://www.booking.com/hotel/fr/le-concorde-s...   43.524612    5.453754   \n",
       "33  https://www.booking.com/hotel/fr/air-condition...   43.529128    5.445380   \n",
       "34  https://www.booking.com/hotel/fr/triplex-apart...   43.530079    5.449492   \n",
       "35  https://www.booking.com/hotel/fr/private-apart...   43.519135    5.454833   \n",
       "36  https://www.booking.com/hotel/fr/hotelf1-monta...   44.007347    1.385129   \n",
       "37  https://www.booking.com/hotel/fr/la-farigoule-...   43.531148    5.474076   \n",
       "38  https://www.booking.com/hotel/fr/hatel-ibis-ai...   43.511387    5.464824   \n",
       "39  https://www.booking.com/hotel/fr/b-amp-b-aix-e...   43.511171    5.444680   \n",
       "\n",
       "                                          description  score  \n",
       "0   Vous pouvez bénéficier d'une réduction Genius ...    8.4  \n",
       "1   Vous pouvez bénéficier d'une réduction Genius ...    8.1  \n",
       "2   Le Moxy Lille City est situé à Lille, à 700 mè...    8.7  \n",
       "3   Le B&B Hôtel Lille Centre Grand Palais est sit...    7.9  \n",
       "4   L’ibis Styles Lille Centre Gare Beffroi vous a...    7.8  \n",
       "5   Le Superbe appartement St Sever est situé à Ro...    5.0  \n",
       "6   Vous pouvez bénéficier d'une réduction Genius ...    7.8  \n",
       "7   L’ibis budget Lille Centre propose des héberge...    7.1  \n",
       "8   Situé à Lille, à 300 mètres de l'opéra, le Lov...    5.0  \n",
       "9   L'Holiday Inn Express Lille Centre est situé d...    8.1  \n",
       "10  Vous pouvez bénéficier d'une réduction Genius ...    8.5  \n",
       "11  Le Mama Shelter Lille est situé dans le centre...    8.5  \n",
       "12  Situé à Lille, à 400 mètres de la braderie de ...    7.2  \n",
       "13  Situé à 100 mètres de la gare de Lille Flandre...    7.9  \n",
       "14  Le Première Classe Lille Centre vous accueille...    6.2  \n",
       "15  L'Hotel Chagnot est situé dans le centre-ville...    7.9  \n",
       "16  L'ibis Lille Centre Grand Palais est situé à L...    8.2  \n",
       "17  Cet appartement se situe dans le centre de Lil...    7.6  \n",
       "18  Vous pouvez bénéficier d'une réduction Genius ...    7.9  \n",
       "19  Le Lille Centre - Nice and functional ap propo...    9.0  \n",
       "20  Doté d'un restaurant, d'un bar et d'un salon c...    9.0  \n",
       "21  Vous pouvez bénéficier d'une réduction Genius ...    8.5  \n",
       "22  Vous pouvez bénéficier d'une réduction Genius ...    7.4  \n",
       "23  Situé à Aix-en-Provence, à proximité du cours ...    5.0  \n",
       "24  Situé dans le centre historique d'Aix-en-Prove...    5.0  \n",
       "25  Vous pouvez bénéficier d'une réduction Genius ...    8.2  \n",
       "26  Installé à Aix-en-Provence, à 3 km du centre h...    7.4  \n",
       "27  Doté d'une connexion Wi-Fi gratuite et offrant...    5.0  \n",
       "28  L'ibis budget Aix en Provence est situé en pér...    7.7  \n",
       "29  Doté d'une terrasse, le Joli T2 avec parking à...    5.0  \n",
       "30  Situé dans le centre d'Aix-en-Provence, à seul...    5.0  \n",
       "31  Les Appartements Clarisse et Mathilde sont des...    9.1  \n",
       "32  Le Concorde est idéalement situé dans le centr...    8.0  \n",
       "33  Situé dans le centre-ville d'Aix-en-Provence, ...    5.0  \n",
       "34  Le Triplex apartment with furnished rooftop te...    5.0  \n",
       "35  Situé à Aix-en-Provence, à 1,5 km de la cathéd...    5.0  \n",
       "36  L'hotelF1 Montauban vous accueille à Montauban...    5.5  \n",
       "37  Situé à Aix-en-Provence, en Provence-Alpes-Côt...    9.2  \n",
       "38  L'Hotel Ibis Aix en Provence est situé dans un...    7.8  \n",
       "39  Doté d'une connexion Wi-Fi gratuite, le B&B Hô...    7.0  "
      ]
     },
     "execution_count": 17,
     "metadata": {},
     "output_type": "execute_result"
    }
   ],
   "source": [
    "query = text(\"SELECT * FROM hotels LIMIT 40\")\n",
    "pd.read_sql(query, engine)"
   ]
  },
  {
   "cell_type": "markdown",
   "metadata": {},
   "source": [
    "## Plotting Maps"
   ]
  },
  {
   "cell_type": "code",
   "execution_count": null,
   "metadata": {},
   "outputs": [],
   "source": [
    "# Creating a new column to be used to determine the size of the points in the plot\n",
    "df_weather_full['inverted_score'] = max(df_weather_full['score_weather']) - df_weather_full['score_weather']"
   ]
  },
  {
   "cell_type": "markdown",
   "metadata": {},
   "source": [
    "### Weather Map"
   ]
  },
  {
   "cell_type": "code",
   "execution_count": null,
   "metadata": {},
   "outputs": [
    {
     "data": {
      "application/vnd.plotly.v1+json": {
       "config": {
        "plotlyServerURL": "https://plot.ly"
       },
       "data": [
        {
         "customdata": [
          [
           50.6365654,
           3.0635282,
           1,
           18,
           47,
           15.55,
           79.53999999999999
          ],
          [
           43.5298424,
           5.4474738,
           1,
           94,
           82,
           10.58,
           77.55428571428571
          ],
          [
           43.8374249,
           4.3600687,
           1,
           100,
           89,
           10.37,
           75.80285714285714
          ],
          [
           48.8588897,
           2.3200410217200766,
           1,
           18,
           50,
           15.7,
           75.7942857142857
          ],
          [
           43.9492493,
           4.8059012,
           1,
           100,
           89,
           10.27,
           74.94285714285714
          ]
         ],
         "hovertemplate": "<b>%{hovertext}</b><br><br>Rain Chances=%{customdata[3]}<br>Humidity=%{customdata[4]}<br>Felt Temperature=%{marker.color}<extra></extra>",
         "hovertext": [
          "Lille",
          "Aix en Provence",
          "Nimes",
          "Paris",
          "Avignon"
         ],
         "lat": [
          50.6365654,
          43.5298424,
          43.8374249,
          48.8588897,
          43.9492493
         ],
         "legendgroup": "",
         "lon": [
          3.0635282,
          5.4474738,
          4.3600687,
          2.3200410217200766,
          4.8059012
         ],
         "marker": {
          "color": [
           15.55,
           10.58,
           10.37,
           15.7,
           10.27
          ],
          "coloraxis": "coloraxis",
          "size": [
           79.53999999999999,
           77.55428571428571,
           75.80285714285714,
           75.7942857142857,
           74.94285714285714
          ],
          "sizemode": "area",
          "sizeref": 0.06493061224489795
         },
         "mode": "markers",
         "name": "",
         "showlegend": false,
         "subplot": "mapbox",
         "type": "scattermapbox"
        }
       ],
       "frames": [
        {
         "data": [
          {
           "customdata": [
            [
             50.6365654,
             3.0635282,
             1,
             18,
             47,
             15.55,
             79.53999999999999
            ],
            [
             43.5298424,
             5.4474738,
             1,
             94,
             82,
             10.58,
             77.55428571428571
            ],
            [
             43.8374249,
             4.3600687,
             1,
             100,
             89,
             10.37,
             75.80285714285714
            ],
            [
             48.8588897,
             2.3200410217200766,
             1,
             18,
             50,
             15.7,
             75.7942857142857
            ],
            [
             43.9492493,
             4.8059012,
             1,
             100,
             89,
             10.27,
             74.94285714285714
            ]
           ],
           "hovertemplate": "<b>%{hovertext}</b><br><br>Rain Chances=%{customdata[3]}<br>Humidity=%{customdata[4]}<br>Felt Temperature=%{marker.color}<extra></extra>",
           "hovertext": [
            "Lille",
            "Aix en Provence",
            "Nimes",
            "Paris",
            "Avignon"
           ],
           "lat": [
            50.6365654,
            43.5298424,
            43.8374249,
            48.8588897,
            43.9492493
           ],
           "legendgroup": "",
           "lon": [
            3.0635282,
            5.4474738,
            4.3600687,
            2.3200410217200766,
            4.8059012
           ],
           "marker": {
            "color": [
             15.55,
             10.58,
             10.37,
             15.7,
             10.27
            ],
            "coloraxis": "coloraxis",
            "size": [
             79.53999999999999,
             77.55428571428571,
             75.80285714285714,
             75.7942857142857,
             74.94285714285714
            ],
            "sizemode": "area",
            "sizeref": 0.06493061224489795
           },
           "mode": "markers",
           "name": "",
           "showlegend": false,
           "subplot": "mapbox",
           "type": "scattermapbox"
          }
         ],
         "name": "1"
        },
        {
         "data": [
          {
           "customdata": [
            [
             50.6365654,
             3.0635282,
             2,
             22,
             57,
             11.91,
             79.53999999999999
            ],
            [
             43.5298424,
             5.4474738,
             2,
             0,
             49,
             16.83,
             77.55428571428571
            ],
            [
             43.8374249,
             4.3600687,
             2,
             7,
             47,
             18.07,
             75.80285714285714
            ],
            [
             48.8588897,
             2.3200410217200766,
             2,
             88,
             43,
             15.49,
             75.7942857142857
            ],
            [
             43.9492493,
             4.8059012,
             2,
             12,
             50,
             17.78,
             74.94285714285714
            ]
           ],
           "hovertemplate": "<b>%{hovertext}</b><br><br>Rain Chances=%{customdata[3]}<br>Humidity=%{customdata[4]}<br>Felt Temperature=%{marker.color}<extra></extra>",
           "hovertext": [
            "Lille",
            "Aix en Provence",
            "Nimes",
            "Paris",
            "Avignon"
           ],
           "lat": [
            50.6365654,
            43.5298424,
            43.8374249,
            48.8588897,
            43.9492493
           ],
           "legendgroup": "",
           "lon": [
            3.0635282,
            5.4474738,
            4.3600687,
            2.3200410217200766,
            4.8059012
           ],
           "marker": {
            "color": [
             11.91,
             16.83,
             18.07,
             15.49,
             17.78
            ],
            "coloraxis": "coloraxis",
            "size": [
             79.53999999999999,
             77.55428571428571,
             75.80285714285714,
             75.7942857142857,
             74.94285714285714
            ],
            "sizemode": "area",
            "sizeref": 0.06493061224489795
           },
           "mode": "markers",
           "name": "",
           "showlegend": false,
           "subplot": "mapbox",
           "type": "scattermapbox"
          }
         ],
         "name": "2"
        },
        {
         "data": [
          {
           "customdata": [
            [
             50.6365654,
             3.0635282,
             3,
             0,
             41,
             13.2,
             79.53999999999999
            ],
            [
             43.5298424,
             5.4474738,
             3,
             0,
             35,
             19.81,
             77.55428571428571
            ],
            [
             43.8374249,
             4.3600687,
             3,
             0,
             35,
             20.96,
             75.80285714285714
            ],
            [
             48.8588897,
             2.3200410217200766,
             3,
             0,
             40,
             15.2,
             75.7942857142857
            ],
            [
             43.9492493,
             4.8059012,
             3,
             0,
             42,
             20.51,
             74.94285714285714
            ]
           ],
           "hovertemplate": "<b>%{hovertext}</b><br><br>Rain Chances=%{customdata[3]}<br>Humidity=%{customdata[4]}<br>Felt Temperature=%{marker.color}<extra></extra>",
           "hovertext": [
            "Lille",
            "Aix en Provence",
            "Nimes",
            "Paris",
            "Avignon"
           ],
           "lat": [
            50.6365654,
            43.5298424,
            43.8374249,
            48.8588897,
            43.9492493
           ],
           "legendgroup": "",
           "lon": [
            3.0635282,
            5.4474738,
            4.3600687,
            2.3200410217200766,
            4.8059012
           ],
           "marker": {
            "color": [
             13.2,
             19.81,
             20.96,
             15.2,
             20.51
            ],
            "coloraxis": "coloraxis",
            "size": [
             79.53999999999999,
             77.55428571428571,
             75.80285714285714,
             75.7942857142857,
             74.94285714285714
            ],
            "sizemode": "area",
            "sizeref": 0.06493061224489795
           },
           "mode": "markers",
           "name": "",
           "showlegend": false,
           "subplot": "mapbox",
           "type": "scattermapbox"
          }
         ],
         "name": "3"
        },
        {
         "data": [
          {
           "customdata": [
            [
             50.6365654,
             3.0635282,
             4,
             0,
             46,
             13.27,
             79.53999999999999
            ],
            [
             43.5298424,
             5.4474738,
             4,
             0,
             40,
             20.24,
             77.55428571428571
            ],
            [
             43.8374249,
             4.3600687,
             4,
             0,
             39,
             20.61,
             75.80285714285714
            ],
            [
             48.8588897,
             2.3200410217200766,
             4,
             0,
             39,
             16.18,
             75.7942857142857
            ],
            [
             43.9492493,
             4.8059012,
             4,
             0,
             36,
             21.31,
             74.94285714285714
            ]
           ],
           "hovertemplate": "<b>%{hovertext}</b><br><br>Rain Chances=%{customdata[3]}<br>Humidity=%{customdata[4]}<br>Felt Temperature=%{marker.color}<extra></extra>",
           "hovertext": [
            "Lille",
            "Aix en Provence",
            "Nimes",
            "Paris",
            "Avignon"
           ],
           "lat": [
            50.6365654,
            43.5298424,
            43.8374249,
            48.8588897,
            43.9492493
           ],
           "legendgroup": "",
           "lon": [
            3.0635282,
            5.4474738,
            4.3600687,
            2.3200410217200766,
            4.8059012
           ],
           "marker": {
            "color": [
             13.27,
             20.24,
             20.61,
             16.18,
             21.31
            ],
            "coloraxis": "coloraxis",
            "size": [
             79.53999999999999,
             77.55428571428571,
             75.80285714285714,
             75.7942857142857,
             74.94285714285714
            ],
            "sizemode": "area",
            "sizeref": 0.06493061224489795
           },
           "mode": "markers",
           "name": "",
           "showlegend": false,
           "subplot": "mapbox",
           "type": "scattermapbox"
          }
         ],
         "name": "4"
        },
        {
         "data": [
          {
           "customdata": [
            [
             50.6365654,
             3.0635282,
             5,
             0,
             39,
             17.86,
             79.53999999999999
            ],
            [
             43.5298424,
             5.4474738,
             5,
             1,
             43,
             19.6,
             77.55428571428571
            ],
            [
             43.8374249,
             4.3600687,
             5,
             10,
             50,
             19.34,
             75.80285714285714
            ],
            [
             48.8588897,
             2.3200410217200766,
             5,
             6,
             41,
             19.06,
             75.7942857142857
            ],
            [
             43.9492493,
             4.8059012,
             5,
             4,
             47,
             20.16,
             74.94285714285714
            ]
           ],
           "hovertemplate": "<b>%{hovertext}</b><br><br>Rain Chances=%{customdata[3]}<br>Humidity=%{customdata[4]}<br>Felt Temperature=%{marker.color}<extra></extra>",
           "hovertext": [
            "Lille",
            "Aix en Provence",
            "Nimes",
            "Paris",
            "Avignon"
           ],
           "lat": [
            50.6365654,
            43.5298424,
            43.8374249,
            48.8588897,
            43.9492493
           ],
           "legendgroup": "",
           "lon": [
            3.0635282,
            5.4474738,
            4.3600687,
            2.3200410217200766,
            4.8059012
           ],
           "marker": {
            "color": [
             17.86,
             19.6,
             19.34,
             19.06,
             20.16
            ],
            "coloraxis": "coloraxis",
            "size": [
             79.53999999999999,
             77.55428571428571,
             75.80285714285714,
             75.7942857142857,
             74.94285714285714
            ],
            "sizemode": "area",
            "sizeref": 0.06493061224489795
           },
           "mode": "markers",
           "name": "",
           "showlegend": false,
           "subplot": "mapbox",
           "type": "scattermapbox"
          }
         ],
         "name": "5"
        },
        {
         "data": [
          {
           "customdata": [
            [
             50.6365654,
             3.0635282,
             6,
             0,
             46,
             18.71,
             79.53999999999999
            ],
            [
             43.5298424,
             5.4474738,
             6,
             1,
             40,
             21.26,
             77.55428571428571
            ],
            [
             43.8374249,
             4.3600687,
             6,
             1,
             43,
             22.86,
             75.80285714285714
            ],
            [
             48.8588897,
             2.3200410217200766,
             6,
             0,
             37,
             20.97,
             75.7942857142857
            ],
            [
             43.9492493,
             4.8059012,
             6,
             5,
             44,
             23.21,
             74.94285714285714
            ]
           ],
           "hovertemplate": "<b>%{hovertext}</b><br><br>Rain Chances=%{customdata[3]}<br>Humidity=%{customdata[4]}<br>Felt Temperature=%{marker.color}<extra></extra>",
           "hovertext": [
            "Lille",
            "Aix en Provence",
            "Nimes",
            "Paris",
            "Avignon"
           ],
           "lat": [
            50.6365654,
            43.5298424,
            43.8374249,
            48.8588897,
            43.9492493
           ],
           "legendgroup": "",
           "lon": [
            3.0635282,
            5.4474738,
            4.3600687,
            2.3200410217200766,
            4.8059012
           ],
           "marker": {
            "color": [
             18.71,
             21.26,
             22.86,
             20.97,
             23.21
            ],
            "coloraxis": "coloraxis",
            "size": [
             79.53999999999999,
             77.55428571428571,
             75.80285714285714,
             75.7942857142857,
             74.94285714285714
            ],
            "sizemode": "area",
            "sizeref": 0.06493061224489795
           },
           "mode": "markers",
           "name": "",
           "showlegend": false,
           "subplot": "mapbox",
           "type": "scattermapbox"
          }
         ],
         "name": "6"
        },
        {
         "data": [
          {
           "customdata": [
            [
             50.6365654,
             3.0635282,
             7,
             0,
             43,
             15.15,
             79.53999999999999
            ],
            [
             43.5298424,
             5.4474738,
             7,
             0,
             43,
             21.63,
             77.55428571428571
            ],
            [
             43.8374249,
             4.3600687,
             7,
             0,
             35,
             24.11,
             75.80285714285714
            ],
            [
             48.8588897,
             2.3200410217200766,
             7,
             0,
             39,
             18.44,
             75.7942857142857
            ],
            [
             43.9492493,
             4.8059012,
             7,
             0,
             37,
             23.32,
             74.94285714285714
            ]
           ],
           "hovertemplate": "<b>%{hovertext}</b><br><br>Rain Chances=%{customdata[3]}<br>Humidity=%{customdata[4]}<br>Felt Temperature=%{marker.color}<extra></extra>",
           "hovertext": [
            "Lille",
            "Aix en Provence",
            "Nimes",
            "Paris",
            "Avignon"
           ],
           "lat": [
            50.6365654,
            43.5298424,
            43.8374249,
            48.8588897,
            43.9492493
           ],
           "legendgroup": "",
           "lon": [
            3.0635282,
            5.4474738,
            4.3600687,
            2.3200410217200766,
            4.8059012
           ],
           "marker": {
            "color": [
             15.15,
             21.63,
             24.11,
             18.44,
             23.32
            ],
            "coloraxis": "coloraxis",
            "size": [
             79.53999999999999,
             77.55428571428571,
             75.80285714285714,
             75.7942857142857,
             74.94285714285714
            ],
            "sizemode": "area",
            "sizeref": 0.06493061224489795
           },
           "mode": "markers",
           "name": "",
           "showlegend": false,
           "subplot": "mapbox",
           "type": "scattermapbox"
          }
         ],
         "name": "7"
        }
       ],
       "layout": {
        "coloraxis": {
         "cmax": 24.11,
         "cmin": 10.27,
         "colorbar": {
          "title": {
           "text": "Felt Temperature"
          }
         },
         "colorscale": [
          [
           0,
           "rgb(0,0,255)"
          ],
          [
           1,
           "rgb(255,0,0)"
          ]
         ]
        },
        "height": 800,
        "legend": {
         "itemsizing": "constant",
         "tracegroupgap": 0
        },
        "mapbox": {
         "accesstoken": "pk.eyJ1Ijoidm9ud2VuIiwiYSI6ImNsMWM0dmZnazA0N2gzZG8wa2N1OTM0ZDEifQ.lCZ3DFaUYPS5XIJCWi6yNA",
         "center": {
          "lat": 46.16239434,
          "lon": 3.9994025843440153
         },
         "domain": {
          "x": [
           0,
           1
          ],
          "y": [
           0,
           1
          ]
         },
         "zoom": 4.7
        },
        "margin": {
         "t": 60
        },
        "sliders": [
         {
          "active": 0,
          "currentvalue": {
           "prefix": "day_plus="
          },
          "len": 0.9,
          "pad": {
           "b": 10,
           "t": 60
          },
          "steps": [
           {
            "args": [
             [
              "1"
             ],
             {
              "frame": {
               "duration": 0,
               "redraw": true
              },
              "fromcurrent": true,
              "mode": "immediate",
              "transition": {
               "duration": 0,
               "easing": "linear"
              }
             }
            ],
            "label": "1",
            "method": "animate"
           },
           {
            "args": [
             [
              "2"
             ],
             {
              "frame": {
               "duration": 0,
               "redraw": true
              },
              "fromcurrent": true,
              "mode": "immediate",
              "transition": {
               "duration": 0,
               "easing": "linear"
              }
             }
            ],
            "label": "2",
            "method": "animate"
           },
           {
            "args": [
             [
              "3"
             ],
             {
              "frame": {
               "duration": 0,
               "redraw": true
              },
              "fromcurrent": true,
              "mode": "immediate",
              "transition": {
               "duration": 0,
               "easing": "linear"
              }
             }
            ],
            "label": "3",
            "method": "animate"
           },
           {
            "args": [
             [
              "4"
             ],
             {
              "frame": {
               "duration": 0,
               "redraw": true
              },
              "fromcurrent": true,
              "mode": "immediate",
              "transition": {
               "duration": 0,
               "easing": "linear"
              }
             }
            ],
            "label": "4",
            "method": "animate"
           },
           {
            "args": [
             [
              "5"
             ],
             {
              "frame": {
               "duration": 0,
               "redraw": true
              },
              "fromcurrent": true,
              "mode": "immediate",
              "transition": {
               "duration": 0,
               "easing": "linear"
              }
             }
            ],
            "label": "5",
            "method": "animate"
           },
           {
            "args": [
             [
              "6"
             ],
             {
              "frame": {
               "duration": 0,
               "redraw": true
              },
              "fromcurrent": true,
              "mode": "immediate",
              "transition": {
               "duration": 0,
               "easing": "linear"
              }
             }
            ],
            "label": "6",
            "method": "animate"
           },
           {
            "args": [
             [
              "7"
             ],
             {
              "frame": {
               "duration": 0,
               "redraw": true
              },
              "fromcurrent": true,
              "mode": "immediate",
              "transition": {
               "duration": 0,
               "easing": "linear"
              }
             }
            ],
            "label": "7",
            "method": "animate"
           }
          ],
          "x": 0.1,
          "xanchor": "left",
          "y": 0,
          "yanchor": "top"
         }
        ],
        "template": {
         "data": {
          "bar": [
           {
            "error_x": {
             "color": "#f2f5fa"
            },
            "error_y": {
             "color": "#f2f5fa"
            },
            "marker": {
             "line": {
              "color": "rgb(17,17,17)",
              "width": 0.5
             },
             "pattern": {
              "fillmode": "overlay",
              "size": 10,
              "solidity": 0.2
             }
            },
            "type": "bar"
           }
          ],
          "barpolar": [
           {
            "marker": {
             "line": {
              "color": "rgb(17,17,17)",
              "width": 0.5
             },
             "pattern": {
              "fillmode": "overlay",
              "size": 10,
              "solidity": 0.2
             }
            },
            "type": "barpolar"
           }
          ],
          "carpet": [
           {
            "aaxis": {
             "endlinecolor": "#A2B1C6",
             "gridcolor": "#506784",
             "linecolor": "#506784",
             "minorgridcolor": "#506784",
             "startlinecolor": "#A2B1C6"
            },
            "baxis": {
             "endlinecolor": "#A2B1C6",
             "gridcolor": "#506784",
             "linecolor": "#506784",
             "minorgridcolor": "#506784",
             "startlinecolor": "#A2B1C6"
            },
            "type": "carpet"
           }
          ],
          "choropleth": [
           {
            "colorbar": {
             "outlinewidth": 0,
             "ticks": ""
            },
            "type": "choropleth"
           }
          ],
          "contour": [
           {
            "colorbar": {
             "outlinewidth": 0,
             "ticks": ""
            },
            "colorscale": [
             [
              0,
              "#0d0887"
             ],
             [
              0.1111111111111111,
              "#46039f"
             ],
             [
              0.2222222222222222,
              "#7201a8"
             ],
             [
              0.3333333333333333,
              "#9c179e"
             ],
             [
              0.4444444444444444,
              "#bd3786"
             ],
             [
              0.5555555555555556,
              "#d8576b"
             ],
             [
              0.6666666666666666,
              "#ed7953"
             ],
             [
              0.7777777777777778,
              "#fb9f3a"
             ],
             [
              0.8888888888888888,
              "#fdca26"
             ],
             [
              1,
              "#f0f921"
             ]
            ],
            "type": "contour"
           }
          ],
          "contourcarpet": [
           {
            "colorbar": {
             "outlinewidth": 0,
             "ticks": ""
            },
            "type": "contourcarpet"
           }
          ],
          "heatmap": [
           {
            "colorbar": {
             "outlinewidth": 0,
             "ticks": ""
            },
            "colorscale": [
             [
              0,
              "#0d0887"
             ],
             [
              0.1111111111111111,
              "#46039f"
             ],
             [
              0.2222222222222222,
              "#7201a8"
             ],
             [
              0.3333333333333333,
              "#9c179e"
             ],
             [
              0.4444444444444444,
              "#bd3786"
             ],
             [
              0.5555555555555556,
              "#d8576b"
             ],
             [
              0.6666666666666666,
              "#ed7953"
             ],
             [
              0.7777777777777778,
              "#fb9f3a"
             ],
             [
              0.8888888888888888,
              "#fdca26"
             ],
             [
              1,
              "#f0f921"
             ]
            ],
            "type": "heatmap"
           }
          ],
          "heatmapgl": [
           {
            "colorbar": {
             "outlinewidth": 0,
             "ticks": ""
            },
            "colorscale": [
             [
              0,
              "#0d0887"
             ],
             [
              0.1111111111111111,
              "#46039f"
             ],
             [
              0.2222222222222222,
              "#7201a8"
             ],
             [
              0.3333333333333333,
              "#9c179e"
             ],
             [
              0.4444444444444444,
              "#bd3786"
             ],
             [
              0.5555555555555556,
              "#d8576b"
             ],
             [
              0.6666666666666666,
              "#ed7953"
             ],
             [
              0.7777777777777778,
              "#fb9f3a"
             ],
             [
              0.8888888888888888,
              "#fdca26"
             ],
             [
              1,
              "#f0f921"
             ]
            ],
            "type": "heatmapgl"
           }
          ],
          "histogram": [
           {
            "marker": {
             "pattern": {
              "fillmode": "overlay",
              "size": 10,
              "solidity": 0.2
             }
            },
            "type": "histogram"
           }
          ],
          "histogram2d": [
           {
            "colorbar": {
             "outlinewidth": 0,
             "ticks": ""
            },
            "colorscale": [
             [
              0,
              "#0d0887"
             ],
             [
              0.1111111111111111,
              "#46039f"
             ],
             [
              0.2222222222222222,
              "#7201a8"
             ],
             [
              0.3333333333333333,
              "#9c179e"
             ],
             [
              0.4444444444444444,
              "#bd3786"
             ],
             [
              0.5555555555555556,
              "#d8576b"
             ],
             [
              0.6666666666666666,
              "#ed7953"
             ],
             [
              0.7777777777777778,
              "#fb9f3a"
             ],
             [
              0.8888888888888888,
              "#fdca26"
             ],
             [
              1,
              "#f0f921"
             ]
            ],
            "type": "histogram2d"
           }
          ],
          "histogram2dcontour": [
           {
            "colorbar": {
             "outlinewidth": 0,
             "ticks": ""
            },
            "colorscale": [
             [
              0,
              "#0d0887"
             ],
             [
              0.1111111111111111,
              "#46039f"
             ],
             [
              0.2222222222222222,
              "#7201a8"
             ],
             [
              0.3333333333333333,
              "#9c179e"
             ],
             [
              0.4444444444444444,
              "#bd3786"
             ],
             [
              0.5555555555555556,
              "#d8576b"
             ],
             [
              0.6666666666666666,
              "#ed7953"
             ],
             [
              0.7777777777777778,
              "#fb9f3a"
             ],
             [
              0.8888888888888888,
              "#fdca26"
             ],
             [
              1,
              "#f0f921"
             ]
            ],
            "type": "histogram2dcontour"
           }
          ],
          "mesh3d": [
           {
            "colorbar": {
             "outlinewidth": 0,
             "ticks": ""
            },
            "type": "mesh3d"
           }
          ],
          "parcoords": [
           {
            "line": {
             "colorbar": {
              "outlinewidth": 0,
              "ticks": ""
             }
            },
            "type": "parcoords"
           }
          ],
          "pie": [
           {
            "automargin": true,
            "type": "pie"
           }
          ],
          "scatter": [
           {
            "marker": {
             "line": {
              "color": "#283442"
             }
            },
            "type": "scatter"
           }
          ],
          "scatter3d": [
           {
            "line": {
             "colorbar": {
              "outlinewidth": 0,
              "ticks": ""
             }
            },
            "marker": {
             "colorbar": {
              "outlinewidth": 0,
              "ticks": ""
             }
            },
            "type": "scatter3d"
           }
          ],
          "scattercarpet": [
           {
            "marker": {
             "colorbar": {
              "outlinewidth": 0,
              "ticks": ""
             }
            },
            "type": "scattercarpet"
           }
          ],
          "scattergeo": [
           {
            "marker": {
             "colorbar": {
              "outlinewidth": 0,
              "ticks": ""
             }
            },
            "type": "scattergeo"
           }
          ],
          "scattergl": [
           {
            "marker": {
             "line": {
              "color": "#283442"
             }
            },
            "type": "scattergl"
           }
          ],
          "scattermapbox": [
           {
            "marker": {
             "colorbar": {
              "outlinewidth": 0,
              "ticks": ""
             }
            },
            "type": "scattermapbox"
           }
          ],
          "scatterpolar": [
           {
            "marker": {
             "colorbar": {
              "outlinewidth": 0,
              "ticks": ""
             }
            },
            "type": "scatterpolar"
           }
          ],
          "scatterpolargl": [
           {
            "marker": {
             "colorbar": {
              "outlinewidth": 0,
              "ticks": ""
             }
            },
            "type": "scatterpolargl"
           }
          ],
          "scatterternary": [
           {
            "marker": {
             "colorbar": {
              "outlinewidth": 0,
              "ticks": ""
             }
            },
            "type": "scatterternary"
           }
          ],
          "surface": [
           {
            "colorbar": {
             "outlinewidth": 0,
             "ticks": ""
            },
            "colorscale": [
             [
              0,
              "#0d0887"
             ],
             [
              0.1111111111111111,
              "#46039f"
             ],
             [
              0.2222222222222222,
              "#7201a8"
             ],
             [
              0.3333333333333333,
              "#9c179e"
             ],
             [
              0.4444444444444444,
              "#bd3786"
             ],
             [
              0.5555555555555556,
              "#d8576b"
             ],
             [
              0.6666666666666666,
              "#ed7953"
             ],
             [
              0.7777777777777778,
              "#fb9f3a"
             ],
             [
              0.8888888888888888,
              "#fdca26"
             ],
             [
              1,
              "#f0f921"
             ]
            ],
            "type": "surface"
           }
          ],
          "table": [
           {
            "cells": {
             "fill": {
              "color": "#506784"
             },
             "line": {
              "color": "rgb(17,17,17)"
             }
            },
            "header": {
             "fill": {
              "color": "#2a3f5f"
             },
             "line": {
              "color": "rgb(17,17,17)"
             }
            },
            "type": "table"
           }
          ]
         },
         "layout": {
          "annotationdefaults": {
           "arrowcolor": "#f2f5fa",
           "arrowhead": 0,
           "arrowwidth": 1
          },
          "autotypenumbers": "strict",
          "coloraxis": {
           "colorbar": {
            "outlinewidth": 0,
            "ticks": ""
           }
          },
          "colorscale": {
           "diverging": [
            [
             0,
             "#8e0152"
            ],
            [
             0.1,
             "#c51b7d"
            ],
            [
             0.2,
             "#de77ae"
            ],
            [
             0.3,
             "#f1b6da"
            ],
            [
             0.4,
             "#fde0ef"
            ],
            [
             0.5,
             "#f7f7f7"
            ],
            [
             0.6,
             "#e6f5d0"
            ],
            [
             0.7,
             "#b8e186"
            ],
            [
             0.8,
             "#7fbc41"
            ],
            [
             0.9,
             "#4d9221"
            ],
            [
             1,
             "#276419"
            ]
           ],
           "sequential": [
            [
             0,
             "#0d0887"
            ],
            [
             0.1111111111111111,
             "#46039f"
            ],
            [
             0.2222222222222222,
             "#7201a8"
            ],
            [
             0.3333333333333333,
             "#9c179e"
            ],
            [
             0.4444444444444444,
             "#bd3786"
            ],
            [
             0.5555555555555556,
             "#d8576b"
            ],
            [
             0.6666666666666666,
             "#ed7953"
            ],
            [
             0.7777777777777778,
             "#fb9f3a"
            ],
            [
             0.8888888888888888,
             "#fdca26"
            ],
            [
             1,
             "#f0f921"
            ]
           ],
           "sequentialminus": [
            [
             0,
             "#0d0887"
            ],
            [
             0.1111111111111111,
             "#46039f"
            ],
            [
             0.2222222222222222,
             "#7201a8"
            ],
            [
             0.3333333333333333,
             "#9c179e"
            ],
            [
             0.4444444444444444,
             "#bd3786"
            ],
            [
             0.5555555555555556,
             "#d8576b"
            ],
            [
             0.6666666666666666,
             "#ed7953"
            ],
            [
             0.7777777777777778,
             "#fb9f3a"
            ],
            [
             0.8888888888888888,
             "#fdca26"
            ],
            [
             1,
             "#f0f921"
            ]
           ]
          },
          "colorway": [
           "#636efa",
           "#EF553B",
           "#00cc96",
           "#ab63fa",
           "#FFA15A",
           "#19d3f3",
           "#FF6692",
           "#B6E880",
           "#FF97FF",
           "#FECB52"
          ],
          "font": {
           "color": "#f2f5fa"
          },
          "geo": {
           "bgcolor": "rgb(17,17,17)",
           "lakecolor": "rgb(17,17,17)",
           "landcolor": "rgb(17,17,17)",
           "showlakes": true,
           "showland": true,
           "subunitcolor": "#506784"
          },
          "hoverlabel": {
           "align": "left"
          },
          "hovermode": "closest",
          "mapbox": {
           "style": "dark"
          },
          "paper_bgcolor": "rgb(17,17,17)",
          "plot_bgcolor": "rgb(17,17,17)",
          "polar": {
           "angularaxis": {
            "gridcolor": "#506784",
            "linecolor": "#506784",
            "ticks": ""
           },
           "bgcolor": "rgb(17,17,17)",
           "radialaxis": {
            "gridcolor": "#506784",
            "linecolor": "#506784",
            "ticks": ""
           }
          },
          "scene": {
           "xaxis": {
            "backgroundcolor": "rgb(17,17,17)",
            "gridcolor": "#506784",
            "gridwidth": 2,
            "linecolor": "#506784",
            "showbackground": true,
            "ticks": "",
            "zerolinecolor": "#C8D4E3"
           },
           "yaxis": {
            "backgroundcolor": "rgb(17,17,17)",
            "gridcolor": "#506784",
            "gridwidth": 2,
            "linecolor": "#506784",
            "showbackground": true,
            "ticks": "",
            "zerolinecolor": "#C8D4E3"
           },
           "zaxis": {
            "backgroundcolor": "rgb(17,17,17)",
            "gridcolor": "#506784",
            "gridwidth": 2,
            "linecolor": "#506784",
            "showbackground": true,
            "ticks": "",
            "zerolinecolor": "#C8D4E3"
           }
          },
          "shapedefaults": {
           "line": {
            "color": "#f2f5fa"
           }
          },
          "sliderdefaults": {
           "bgcolor": "#C8D4E3",
           "bordercolor": "rgb(17,17,17)",
           "borderwidth": 1,
           "tickwidth": 0
          },
          "ternary": {
           "aaxis": {
            "gridcolor": "#506784",
            "linecolor": "#506784",
            "ticks": ""
           },
           "baxis": {
            "gridcolor": "#506784",
            "linecolor": "#506784",
            "ticks": ""
           },
           "bgcolor": "rgb(17,17,17)",
           "caxis": {
            "gridcolor": "#506784",
            "linecolor": "#506784",
            "ticks": ""
           }
          },
          "title": {
           "x": 0.05
          },
          "updatemenudefaults": {
           "bgcolor": "#506784",
           "borderwidth": 0
          },
          "xaxis": {
           "automargin": true,
           "gridcolor": "#283442",
           "linecolor": "#506784",
           "ticks": "",
           "title": {
            "standoff": 15
           },
           "zerolinecolor": "#283442",
           "zerolinewidth": 2
          },
          "yaxis": {
           "automargin": true,
           "gridcolor": "#283442",
           "linecolor": "#506784",
           "ticks": "",
           "title": {
            "standoff": 15
           },
           "zerolinecolor": "#283442",
           "zerolinewidth": 2
          }
         }
        },
        "title": {
         "text": "The 5 cities with the best weather over the next 7 days",
         "x": 0.5
        },
        "updatemenus": [
         {
          "buttons": [
           {
            "args": [
             null,
             {
              "frame": {
               "duration": 500,
               "redraw": true
              },
              "fromcurrent": true,
              "mode": "immediate",
              "transition": {
               "duration": 500,
               "easing": "linear"
              }
             }
            ],
            "label": "&#9654;",
            "method": "animate"
           },
           {
            "args": [
             [
              null
             ],
             {
              "frame": {
               "duration": 0,
               "redraw": true
              },
              "fromcurrent": true,
              "mode": "immediate",
              "transition": {
               "duration": 0,
               "easing": "linear"
              }
             }
            ],
            "label": "&#9724;",
            "method": "animate"
           }
          ],
          "direction": "left",
          "pad": {
           "r": 10,
           "t": 70
          },
          "showactive": false,
          "type": "buttons",
          "x": 0.1,
          "xanchor": "right",
          "y": 0,
          "yanchor": "top"
         }
        ],
        "width": 1100
       }
      }
     },
     "metadata": {},
     "output_type": "display_data"
    }
   ],
   "source": [
    "# Creating a plotly scatter mapbox showing the 5 cities with the lowest weather score\n",
    "px.set_mapbox_access_token(open(\".mapbox_token\").read())\n",
    "\n",
    "fig = px.scatter_mapbox(\n",
    "    df_weather_full[:35],\n",
    "    lat='lat',\n",
    "    lon='lon',\n",
    "    color='felt_temperature',\n",
    "    size='inverted_score',\n",
    "    color_continuous_scale=px.colors.sequential.Bluered,\n",
    "    size_max=35,\n",
    "    zoom=4.7,\n",
    "    range_color = [min(df_weather_full[:35]['felt_temperature']), max(df_weather_full[:35]['felt_temperature'])],\n",
    "    hover_name='city',\n",
    "    hover_data={\n",
    "        'lat': False,\n",
    "        'lon': False,\n",
    "        'day_plus': False,\n",
    "        'rain_chances': True,\n",
    "        'humidity': True,\n",
    "        'felt_temperature': True,\n",
    "        'inverted_score': False,\n",
    "        },\n",
    "    animation_frame='day_plus',\n",
    "    labels={'felt_temperature': 'Felt Temperature', 'rain_chances': 'Rain Chances', 'humidity': 'Humidity'}\n",
    ")\n",
    "\n",
    "fig.update_layout(\n",
    "    width = 1100,\n",
    "    height = 800,\n",
    "    template='plotly_dark',\n",
    "    title_x=0.5,\n",
    "    title_text='The 5 cities with the best weather over the next 7 days')\n",
    "fig.show()"
   ]
  },
  {
   "cell_type": "markdown",
   "metadata": {},
   "source": [
    "### Hotels Map"
   ]
  },
  {
   "cell_type": "code",
   "execution_count": null,
   "metadata": {},
   "outputs": [
    {
     "data": {
      "application/vnd.plotly.v1+json": {
       "config": {
        "plotlyServerURL": "https://plot.ly"
       },
       "data": [
        {
         "customdata": [
          [
           50.62914624,
           3.06419907,
           "NOCNOC - La Villa Cachee",
           "https://www.booking.com/hotel/fr/la-villa-cachee-prox-gare-lille-flandre-metro.fr.html?label=gen173nr-1FCAEoggI46AdIDVgEaE2IAQGYAQ24ARfIAQ_YAQHoAQH4AQKIAgGoAgO4AtSJ4pIGwAIB0gIkMWMyOTgzZDEtZjVkYS00NmJhLWFiOTctNTM5MmFiZTgyZjVl2AIF4AIB&sid=c0f0407a1e2da13c863358a90e64eb78&aid=304142&ucfs=1&arphpl=1&group_adults=2&req_adults=2&no_rooms=1&group_children=0&req_children=0&hpos=1&hapos=1&sr_order=popularity&srpvid=1da19071a9fd0339&srepoch=1649968357&from=searchresults#hotelTmpl",
           "Vous pouvez bénéficier d'une réduction Genius dans l'établissement NOCNOC - La Villa Cachee ! Connectez-vous pour économiser.Doté d'une connexion Wi-Fi et d'un parking privé gratuits, le NOCNOC - La Villa Cachee est situé à Lille, à seulement 400 mètres de la maison Coilliot. Cette villa se trouve à 2,2 km du Zénith de Lille et du Grand Palais.Cette villa comprend 6 chambres, une télévision à écran plat, un lave-linge et 6 salles de bains pourvues d'une douche. Sa cuisine est équipée d'un lave-vaisselle et d'un micro-ondes. Les serviettes et le linge de lit sont fournis.Vous pourrez profiter d'une terrasse.Vous séjournerez à proximité de la braderie de Lille, de l'hospice Gantois et du grand magasin Printemps. L'aéroport de Lille, le plus proche, est à 9 km. ",
           68.31428571428572,
           7
          ],
          [
           50.63788756,
           3.072685,
           "Hotel Lille Europe",
           "https://www.booking.com/hotel/fr/lille-europe.fr.html?label=gen173nr-1FCAEoggI46AdIDVgEaE2IAQGYAQ24ARfIAQ_YAQHoAQH4AQKIAgGoAgO4AtSJ4pIGwAIB0gIkMWMyOTgzZDEtZjVkYS00NmJhLWFiOTctNTM5MmFiZTgyZjVl2AIF4AIB&sid=c0f0407a1e2da13c863358a90e64eb78&aid=304142&ucfs=1&arphpl=1&group_adults=2&req_adults=2&no_rooms=1&group_children=0&req_children=0&hpos=2&hapos=2&sr_order=popularity&srpvid=1da19071a9fd0339&srepoch=1649968357&from=searchresults#hotelTmpl",
           "Vous pouvez bénéficier d'une réduction Genius dans l'établissement Hotel Lille Europe ! Connectez-vous pour économiser.L'Hotel Lille Europe est un établissement 3 étoiles situé au cœur du quartier des affaires international, à seulement 250 mètres de la gare de Lille-Flandres et à 17 minutes de route du stade Pierre-Mauroy. Il propose une réception ouverte 24h/24 et une connexion Internet gratuite.Présentant une décoration colorée, les chambres sont insonorisées et disposent d'une télévision par câble. Leur salle de bains privative est pourvue d'un sèche-cheveux. Toutes les chambres sont desservies par un ascenseur.Un petit-déjeuner buffet est servi tous les matins dans la salle prévue à cet effet. Cette dernière est dotée d'un micro-ondes et d'une vue panoramique sur les environs.L'établissement est accessible par l'autoroute N356. Vous séjournerez à 750 mètres de l'Opéra de Lille, à 10 minutes de marche de la cathédrale Notre-Dame-de-la-Treille, à 1,1 km du centre de conventions Nouveau Siècle et à 1,3 km du Grand Palais. Un parking privé sur place est disponible uniquement sur demande. ",
           68.31428571428572,
           7
          ],
          [
           50.627831,
           3.063592,
           "Moxy Lille City",
           "https://www.booking.com/hotel/fr/moxy-lille-city-center-france.fr.html?label=gen173nr-1FCAEoggI46AdIDVgEaE2IAQGYAQ24ARfIAQ_YAQHoAQH4AQKIAgGoAgO4AtSJ4pIGwAIB0gIkMWMyOTgzZDEtZjVkYS00NmJhLWFiOTctNTM5MmFiZTgyZjVl2AIF4AIB&sid=c0f0407a1e2da13c863358a90e64eb78&aid=304142&ucfs=1&arphpl=1&group_adults=2&req_adults=2&no_rooms=1&group_children=0&req_children=0&hpos=3&hapos=3&sr_order=popularity&srpvid=1da19071a9fd0339&srepoch=1649968357&from=searchresults#hotelTmpl",
           "Le Moxy Lille City est situé à Lille, à 700 mètres de la braderie de Lille. Il propose des hébergements avec une terrasse et un parking privé. Doté d’un bar, cet hôtel 3 étoiles propose des chambres climatisées avec connexion Wi-Fi gratuite et salle de bains privative. En outre, vous pourrez profiter d’une salle de sport, d’animations en soirée et d’une réception ouverte 24h/24.Les chambres possèdent une télévision à écran plat et un sèche-cheveux.Un petit-déjeuner buffet est servi tous les jours au Moxy Lille City.Les sites d'intérêt à proximité de l'hébergement incluent la maison Coilliot, le grand magasin Printemps et la salle de concert l'Aéronef. L’aéroport de Lille-Lesquin, le plus proche, se trouve à 8 km du Moxy Lille City. ",
           68.31428571428572,
           7
          ],
          [
           50.6281375,
           3.08142364,
           "B&B Hôtel Lille Centre Grand Palais",
           "https://www.booking.com/hotel/fr/b-b-lille-centre-grand-palais.fr.html?label=gen173nr-1FCAEoggI46AdIDVgEaE2IAQGYAQ24ARfIAQ_YAQHoAQH4AQKIAgGoAgO4AtSJ4pIGwAIB0gIkMWMyOTgzZDEtZjVkYS00NmJhLWFiOTctNTM5MmFiZTgyZjVl2AIF4AIB&sid=c0f0407a1e2da13c863358a90e64eb78&aid=304142&ucfs=1&arphpl=1&group_adults=2&req_adults=2&no_rooms=1&group_children=0&req_children=0&hpos=4&hapos=4&sr_order=popularity&srpvid=1da19071a9fd0339&srepoch=1649968357&from_sustainable_property_sr=1&from=searchresults#hotelTmpl",
           "Le B&B Hôtel Lille Centre Grand Palais est situé à 5 minutes de marche de la station de métro Lille Grand Palais. L’établissement propose des chambres insonorisées avec une salle de bains privative, une télévision par satellite à écran plat et une connexion Wi-Fi gratuite illimitée. Sa réception est ouverte 24h/24.Un petit-déjeuner buffet est servi chaque matin au B&B Lille Centre Grand Palais.Le B&B Lille Centre se trouve à 600 mètres du complexe Lille Grand Palais. Un parking souterrain privé gratuit est accessible sous réserve de disponibilité et sur réservation auprès de l'hôtel. ",
           68.31428571428572,
           7
          ],
          [
           50.63238245,
           3.06794286,
           "ibis Styles Lille Centre Gare Beffroi",
           "https://www.booking.com/hotel/fr/ibis-styles-lille-centre-gare-beffroi.fr.html?label=gen173nr-1FCAEoggI46AdIDVgEaE2IAQGYAQ24ARfIAQ_YAQHoAQH4AQKIAgGoAgO4AtSJ4pIGwAIB0gIkMWMyOTgzZDEtZjVkYS00NmJhLWFiOTctNTM5MmFiZTgyZjVl2AIF4AIB&sid=c0f0407a1e2da13c863358a90e64eb78&aid=304142&ucfs=1&arphpl=1&group_adults=2&req_adults=2&no_rooms=1&group_children=0&req_children=0&hpos=5&hapos=5&sr_order=popularity&srpvid=1da19071a9fd0339&srepoch=1649968357&from=searchresults#hotelTmpl",
           "L’ibis Styles Lille Centre Gare Beffroi vous accueille dans le centre-ville de Lille, à 600 mètres des gares de Lille-Europe et de Lille-Flandres. Le centre des congrès Lille Grand Palais et le complexe Nouveau Siècle se trouvent à 1 km.Toutes les chambres comprennent une télévision à écran plat, une connexion Wi-Fi gratuite et une salle d’eau privative.Chaque matin, le petit-déjeuner vous sera servi. Vous pourrez vous détendre avec une boisson dans le bar sur place. Des événements d’entreprise peuvent être organisés dans les 3 salles de réunion modernes.Le quartier commerçant et d’affaires Euralille se trouve à 10 minutes de marche. Vous rejoindrez le stade Pierre-Mauroy en 15 minutes de route. ",
           68.31428571428572,
           7
          ],
          [
           50.63528798,
           3.06970725,
           "Hôtel Calm Lille",
           "https://www.booking.com/hotel/fr/calm-lille.fr.html?label=gen173nr-1FCAEoggI46AdIDVgEaE2IAQGYAQ24ARfIAQ_YAQHoAQH4AQKIAgGoAgO4AtSJ4pIGwAIB0gIkMWMyOTgzZDEtZjVkYS00NmJhLWFiOTctNTM5MmFiZTgyZjVl2AIF4AIB&sid=c0f0407a1e2da13c863358a90e64eb78&aid=304142&ucfs=1&arphpl=1&group_adults=2&req_adults=2&no_rooms=1&group_children=0&req_children=0&hpos=6&hapos=6&sr_order=popularity&srpvid=1da19071a9fd0339&srepoch=1649968357&from=searchresults#hotelTmpl",
           "Vous pouvez bénéficier d'une réduction Genius dans l'établissement Hôtel Calm Lille ! Connectez-vous pour économiser.L'Hôtel Calm Lille est situé dans le centre-ville de Lille, à seulement 3 minutes à pied de la gare de Lille Flandres, ainsi qu'à 1 km du centre de conventions Grand Palais et de la salle de spectacle Le Nouveau Siècle. La connexion Wi-Fi est accessible gratuitement dans l'ensemble de l'établissement.Les chambres sont équipées d'une télévision à écran plat, d'une salle de bains privative avec baignoire ou douche, d'une armoire et d'un bureau.La réception de l'hôtel est ouverte 24h/24 et une bagagerie est à votre disposition. Vous pourrez emprunter un sèche-cheveux à la réception.L'Hôtel Calm Lille se trouve à 26 km de Courtrai, à 44 km d'Arras et à 27 km d'Ypres. Vous séjournerez aussi à 8 km de l'aéroport de Lille-Lesquin et à 16 minutes en voiture du stade Pierre-Mauroy. ",
           68.31428571428572,
           7
          ],
          [
           50.64241422,
           3.06787005,
           "ibis budget Lille Centre",
           "https://www.booking.com/hotel/fr/ibis-budget-lille-centre.fr.html?label=gen173nr-1FCAEoggI46AdIDVgEaE2IAQGYAQ24ARfIAQ_YAQHoAQH4AQKIAgGoAgO4AtSJ4pIGwAIB0gIkMWMyOTgzZDEtZjVkYS00NmJhLWFiOTctNTM5MmFiZTgyZjVl2AIF4AIB&sid=c0f0407a1e2da13c863358a90e64eb78&aid=304142&ucfs=1&arphpl=1&group_adults=2&req_adults=2&no_rooms=1&group_children=0&req_children=0&hpos=7&hapos=7&sr_order=popularity&srpvid=1da19071a9fd0339&srepoch=1649968357&from=searchresults#hotelTmpl",
           "L’ibis budget Lille Centre propose des hébergements à Lille, à 400 mètres de la Grand-Place et du Vieux-Lille. Il propose une réception ouverte 24h/24 et une connexion Wi-Fi gratuite.Desservie par un ascenseur, chaque chambre non-fumeurs dispose d'une télévision, d’un bureau et d'une salle de bains privative avec douche. Le linge de lit est fourni. Des distributeurs automatiques de boissons sont présents sur place, et vous trouverez de nombreux restaurants dans les environs.L’hôtel ibis Budget Lille Centre est à 750 mètres de la gare de Lille-Europe et à 600 mètres de celle de Lille-Flandres. Enfin, l’aéroport de Lille-Lesquin est distant de 8 km. ",
           68.31428571428572,
           7
          ],
          [
           50.6372416,
           3.0691052,
           "LoveLoc",
           "https://www.booking.com/hotel/fr/tip-top-studio.fr.html?label=gen173nr-1FCAEoggI46AdIDVgEaE2IAQGYAQ24ARfIAQ_YAQHoAQH4AQKIAgGoAgO4AtSJ4pIGwAIB0gIkMWMyOTgzZDEtZjVkYS00NmJhLWFiOTctNTM5MmFiZTgyZjVl2AIF4AIB&sid=c0f0407a1e2da13c863358a90e64eb78&aid=304142&ucfs=1&arphpl=1&group_adults=2&req_adults=2&no_rooms=1&group_children=0&req_children=0&hpos=8&hapos=8&sr_order=popularity&srpvid=1da19071a9fd0339&srepoch=1649968357&from_sustainable_property_sr=1&from=searchresults#hotelTmpl",
           "Situé à Lille, à 300 mètres de l'opéra, le LoveLoc propose un restaurant, une connexion Wi-Fi gratuite, un service de concierge et un bureau d'excursions. Occupant un bâtiment datant de 1930, il se trouve à 500 mètres de l'école de commerce SKEMA de Lille et à 600 mètres du grand magasin Printemps.Cet appartement comprend une chambre, une télévision à écran plat, un lave-linge et une salle de bains pourvue d'une douche. Sa cuisine est équipée d'un micro-ondes et d'un réfrigérateur. Les serviettes et le linge de lit sont fournis.Un service de location de voitures est assuré sur place. La région est prisée pour pratiquer le vélo et la randonnée.Vous séjournerez à proximité de l'Aéronef, de la Grand-Place et du quartier du Vieux-Lille. Moyennant des frais supplémentaires, l'établissement assure un service de navette aéroport, le plus proche étant celui de Lille, situé à 8 km. ",
           68.31428571428572,
           7
          ],
          [
           50.63075938,
           3.05808842,
           "Holiday Inn Express Lille Centre, an IHG Hotel",
           "https://www.booking.com/hotel/fr/expressbyholidayinnlille.fr.html?label=gen173nr-1FCAEoggI46AdIDVgEaE2IAQGYAQ24ARfIAQ_YAQHoAQH4AQKIAgGoAgO4AtSJ4pIGwAIB0gIkMWMyOTgzZDEtZjVkYS00NmJhLWFiOTctNTM5MmFiZTgyZjVl2AIF4AIB&sid=c0f0407a1e2da13c863358a90e64eb78&aid=304142&ucfs=1&arphpl=1&group_adults=2&req_adults=2&no_rooms=1&group_children=0&req_children=0&hpos=9&hapos=9&sr_order=popularity&srpvid=1da19071a9fd0339&srepoch=1649968357&from=searchresults#hotelTmpl",
           "L'Holiday Inn Express Lille Centre est situé dans le centre de Lille, à 350 mètres du Palais des Beaux Arts et à 9 km du stade Pierre Mauroy. Vous séjournerez à 900 mètres du centre de conventions Le Nouveau Siècle et à 2 km de Lille Grand Palais.Les chambres de l'Holiday Inn Express Lille Centre sont équipées d'une télévision à écran plat, d'un téléphone, d'un sèche-cheveux et d'un plateau/bouilloire. Elles sont toutes desservies par un ascenseur. Vous bénéficierez gratuitement d'une connexion Wi-Fi.Un petit-déjeuner buffet est servi tous les matins.L'Holiday Inn Express Lille Centre propose une réception ouverte 24h/24, un parking souterrain sécurisé (sous réserve de disponibilité), une salle de réunion et un service de nettoyage à sec.La station de métro la plus proche est celle de République Beaux Arts, qui vous permettra d'accéder directement aux gares Lille Europe et Lille Flandres. L'hôtel se trouve à 800 mètres de la grand-place et à 1,5 km de la citadelle de Lille. ",
           68.31428571428572,
           7
          ],
          [
           50.63654707,
           3.06234241,
           "Grand Hotel Bellevue - Grand Place",
           "https://www.booking.com/hotel/fr/grandhotelbellevue.fr.html?label=gen173nr-1FCAEoggI46AdIDVgEaE2IAQGYAQ24ARfIAQ_YAQHoAQH4AQKIAgGoAgO4AtSJ4pIGwAIB0gIkMWMyOTgzZDEtZjVkYS00NmJhLWFiOTctNTM5MmFiZTgyZjVl2AIF4AIB&sid=c0f0407a1e2da13c863358a90e64eb78&aid=304142&ucfs=1&arphpl=1&group_adults=2&req_adults=2&no_rooms=1&group_children=0&req_children=0&hpos=10&hapos=10&sr_order=popularity&srpvid=1da19071a9fd0339&srepoch=1649968357&from_sustainable_property_sr=1&from=searchresults#hotelTmpl",
           "Vous pouvez bénéficier d'une réduction Genius dans l'établissement Grand Hotel Bellevue - Grand Place ! Connectez-vous pour économiser.Situé sur la Grand-Place, dans le Vieux-Lille, le Grand Hotel Bellevue - Grand Place occupe un bâtiment à l'architecture flamande. Ses chambres disposent d'une salle de bains en marbre et de mobilier d'époque. La station de métro Rihour est accessible à 100 mètres. Vous pourrez rejoindre le centre de conventions Le Nouveau Siècle en 2 minutes à pied et le Lille Grand Palais se trouve à 1,4 km.Cet hôtel a été rénové en 2018. Toutes les chambres sont équipées de la climatisation, de la télévision par satellite et d'une connexion Wi-Fi gratuite. Élégantes et insonorisées, elles comprennent un minibar. Certaines disposent d'un plateau/bouilloire. Le personnel se tient à votre disposition 24h/24.Vous aurez droit à un petit-déjeuner buffet copieux tous les matins. Vous pourrez déguster des cocktails au bar Le Windsor et trouverez des restaurants à 50 mètres.Le centre historique est accessible en 5 minutes à pied et la gare de Lille-Flandres se trouve à 900 mètres. Le parc du Bois de Boulogne et la Citadelle vous attendent à 1,5 km tandis que l'aéroport de Lille-Lesquin se situe à 11 km. Des salles de réunions sont à votre disposition sur place. Vous trouverez un parking public à 100 mètres. ",
           68.31428571428572,
           7
          ],
          [
           50.639065,
           3.070951,
           "Mama Shelter Lille",
           "https://www.booking.com/hotel/fr/mama-shelter-lille.fr.html?label=gen173nr-1FCAEoggI46AdIDVgEaE2IAQGYAQ24ARfIAQ_YAQHoAQH4AQKIAgGoAgO4AtSJ4pIGwAIB0gIkMWMyOTgzZDEtZjVkYS00NmJhLWFiOTctNTM5MmFiZTgyZjVl2AIF4AIB&sid=c0f0407a1e2da13c863358a90e64eb78&aid=304142&ucfs=1&arphpl=1&group_adults=2&req_adults=2&no_rooms=1&group_children=0&req_children=0&hpos=11&hapos=11&sr_order=popularity&srpvid=1da19071a9fd0339&srepoch=1649968357&from=searchresults#hotelTmpl",
           "Le Mama Shelter Lille est situé dans le centre de Lille, à 4 minutes à pied de la gare et de la station de métro Lille Flandres ainsi qu'à 7 minutes de marche de la gare Lille Europe. Cet hôtel se trouve à 600 mètres de la Grand-Place et de l'opéra de Lille.Les chambres sont munies de la climatisation, d'une connexion Wi-Fi gratuite et de vidéos à la demande gratuites. Leur salle de bains privative est pourvue d'une douche, d'un sèche-cheveux et d'articles de toilette gratuits.Tous les matins, vous pourrez déguster un petit-déjeuner buffet. Le restaurant sert des repas faits maison. Vous pourrez également déguster des cocktails au bar ou sur le toit.Parlant 5 langues, le personnel de la réception ouverte 24h/24 se tient à votre entière disposition. Lors de votre séjour, vous pourrez profiter d'une blanchisserie, d'un service de conciergerie et d'un parking.Vous séjournerez à 350 mètres du centre commercial Euralille, à 1,4 km du palais des beaux-arts de Lille et à 850 mètres de la cathédrale Notre-Dame de la Treille. L'aéroport de Lille-Lesquin est à 11 km. ",
           68.31428571428572,
           7
          ],
          [
           50.62851,
           3.051873,
           "Lille Centre - Nice cozy & functional apTerrace",
           "https://www.booking.com/hotel/fr/lille-centre-superbe-appartement-avec-terrasse.fr.html?label=gen173nr-1FCAEoggI46AdIDVgEaE2IAQGYAQ24ARfIAQ_YAQHoAQH4AQKIAgGoAgO4AtSJ4pIGwAIB0gIkMWMyOTgzZDEtZjVkYS00NmJhLWFiOTctNTM5MmFiZTgyZjVl2AIF4AIB&sid=c0f0407a1e2da13c863358a90e64eb78&aid=304142&ucfs=1&arphpl=1&group_adults=2&req_adults=2&no_rooms=1&group_children=0&req_children=0&hpos=12&hapos=12&sr_order=popularity&srpvid=1da19071a9fd0339&srepoch=1649968357&from=searchresults#hotelTmpl",
           "Situé à Lille, à 400 mètres de la braderie de Lille, l'établissement Le Lille Centre - Nice cozy & functional apTerrace propose des hébergements avec une terrasse, une connexion Wi-Fi gratuite et une réception ouverte 24h/24. Vous profiterez d'une terrasse privée.Cet appartement comprend 3 chambres, une cuisine avec lave-vaisselle, une télévision, un coin salon et 3 salles de bains avec douche. Les serviettes et le linge de lit sont fournis.Vous séjournerez à proximité de la maison Coilliot, du grand magasin Printemps et du zoo de Lille. L'aéroport de Lille, le plus proche, est implanté à 7 km. Centre de Lille Nice fonctionnel et. ",
           68.31428571428572,
           7
          ],
          [
           50.63470383,
           3.07080008,
           "ibis Lille Centre Gares",
           "https://www.booking.com/hotel/fr/ibis-lille-centre-gares.fr.html?label=gen173nr-1FCAEoggI46AdIDVgEaE2IAQGYAQ24ARfIAQ_YAQHoAQH4AQKIAgGoAgO4AtSJ4pIGwAIB0gIkMWMyOTgzZDEtZjVkYS00NmJhLWFiOTctNTM5MmFiZTgyZjVl2AIF4AIB&sid=c0f0407a1e2da13c863358a90e64eb78&aid=304142&ucfs=1&arphpl=1&group_adults=2&req_adults=2&no_rooms=1&group_children=0&req_children=0&hpos=13&hapos=13&sr_order=popularity&srpvid=1da19071a9fd0339&srepoch=1649968357&from=searchresults#hotelTmpl",
           "Situé à 100 mètres de la gare de Lille Flandres et à moins de 10 minutes à pied de la gare de Lille Europe, l'ibis Lille Centre Gares vous propose une réception ouverte 24h/24, un ascenseur, une terrasse et une connexion Wi-Fi gratuite dans l'ensemble de ses locaux. Le centre de congrès Lille Grand Palais se trouve à 650 mètres.Les chambres de l'ibis Lille Centre Gares sont dotées d'une télévision à écran plat, d'un téléphone et d'un bureau. Leur salle de bains privative est pourvue d'une douche et de toilettes.L'hôtel sert chaque jour un petit-déjeuner buffet composé de plats sucrés et salés, comme des œufs, de la salade de fruits, des yaourts et des jus de fruit. Des viennoiseries cuites sur place et des madeleines fraîches sont aussi proposées, ainsi qu'une boisson chaude et un fruit à emporter. En dehors des horaires réguliers, vous aurez la possibilité de déguster un petit-déjeuner plus léger à partir de 4h00.Le restaurant ibis Kitchen propose une cuisine française traditionnelle. Des coffres-forts sont disponibles sur demande et vous pourrez également profiter de 3 salles de réunion.L'ibis Lille Centre Gares se trouve à 8 km de l'aéroport de Lille-Lesquin et à 1 km du Vieux-Lille. Un parking privé est accessible moyennant des frais supplémentaires et sous réserve de disponibilité. ",
           68.31428571428572,
           7
          ],
          [
           50.63728452,
           3.06844845,
           "Première Classe Lille Centre",
           "https://www.booking.com/hotel/fr/premiere-classe-lille.fr.html?label=gen173nr-1FCAEoggI46AdIDVgEaE2IAQGYAQ24ARfIAQ_YAQHoAQH4AQKIAgGoAgO4AtSJ4pIGwAIB0gIkMWMyOTgzZDEtZjVkYS00NmJhLWFiOTctNTM5MmFiZTgyZjVl2AIF4AIB&sid=c0f0407a1e2da13c863358a90e64eb78&aid=304142&ucfs=1&arphpl=1&group_adults=2&req_adults=2&no_rooms=1&group_children=0&req_children=0&hpos=14&hapos=14&sr_order=popularity&srpvid=1da19071a9fd0339&srepoch=1649968357&from=searchresults#hotelTmpl",
           "Le Première Classe Lille Centre vous accueille dans le centre-ville de Lille, à seulement 200 mètres de la gare/station de métro de Lille-Flandres. Le centre des conventions Lille Grand Palais et le complexe du Nouveau Siècle sont à 10 minutes à pied. L'établissement propose des hébergements dotés d'une connexion Wi-Fi gratuite et d'une télévision par satellite à écran plat.Toutes les chambres sont desservies par un ascenseur et comprennent une salle de bains privative pourvue d'une douche.La réception de l'hôtel est ouverte 24h/24.La gare TGV de Lille-Europe se trouve à 800 mètres du Première Classe Lille Centre. La cathédrale Notre-Dame-de-la-Treille est accessible en moins de 10 minutes à pied. ",
           68.31428571428572,
           7
          ],
          [
           50.63624596,
           3.06924239,
           "Hotel Chagnot",
           "https://www.booking.com/hotel/fr/hotel-balladins-superior-lille-centre.fr.html?label=gen173nr-1FCAEoggI46AdIDVgEaE2IAQGYAQ24ARfIAQ_YAQHoAQH4AQKIAgGoAgO4AtSJ4pIGwAIB0gIkMWMyOTgzZDEtZjVkYS00NmJhLWFiOTctNTM5MmFiZTgyZjVl2AIF4AIB&sid=c0f0407a1e2da13c863358a90e64eb78&aid=304142&ucfs=1&arphpl=1&group_adults=2&req_adults=2&no_rooms=1&group_children=0&req_children=0&hpos=15&hapos=15&sr_order=popularity&srpvid=1da19071a9fd0339&srepoch=1649968357&from=searchresults#hotelTmpl",
           "L'Hotel Chagnot est situé dans le centre-ville de Lille, juste en face de la gare de Lille-Flandres et à 10 minutes à pied de la gare de Lille-Europe. L’établissement propose des hébergements modernes et une connexion Wi-Fi gratuite. Les centres de conventions Nouveau Siècle et Lille Grand Palais se trouvent à 1 km.Tous les hébergements insonorisés comprennent une télévision par satellite à écran plat et 1 salle de bains privative pourvue d’une douche.L'Hotel Chagnot sert un petit-déjeuner express à emporter.L’aéroport de Lille-Lesquin est implanté à 8,8 km de l’hôtel. Le musée du Palais des Beaux-Arts se trouve à 15 minutes à pied de l'hôtel. Vous rejoindrez les grands magasins Printemps et Galeries Lafayette en 10 minutes de marche, tandis que l’opéra de Lille vous attend à 450 mètres. Le stade Pierre Mauroy est accessible en 16 minutes de route. ",
           68.31428571428572,
           7
          ],
          [
           50.63319849,
           3.07447681,
           "ibis Lille Centre Grand Palais",
           "https://www.booking.com/hotel/fr/ibis-lille-centre-grand-palais.fr.html?label=gen173nr-1FCAEoggI46AdIDVgEaE2IAQGYAQ24ARfIAQ_YAQHoAQH4AQKIAgGoAgO4AtSJ4pIGwAIB0gIkMWMyOTgzZDEtZjVkYS00NmJhLWFiOTctNTM5MmFiZTgyZjVl2AIF4AIB&sid=c0f0407a1e2da13c863358a90e64eb78&aid=304142&ucfs=1&arphpl=1&group_adults=2&req_adults=2&no_rooms=1&group_children=0&req_children=0&hpos=16&hapos=16&sr_order=popularity&srpvid=1da19071a9fd0339&srepoch=1649968357&from_sustainable_property_sr=1&from=searchresults#hotelTmpl",
           "L'ibis Lille Centre Grand Palais est situé à Lille, à moins de 300 mètres de la station de métro Mairie de Lille et à 550 mètres du centre de conventions Lille Grand Palais. Il propose une connexion Wi-Fi gratuite et une réception ouverte 24h/24.Affichant un intérieur moderne, toutes les chambres comprennent un bureau et une salle de bains privative.Chaque matin, vous savourerez un petit-déjeuner buffet composé de mets sucrés et salés, tels que des œufs, de la salade de fruits, des yaourts et des jus de fruits. Des viennoiseries cuites sur place et des madeleines fraîches sont aussi proposées, ainsi qu'une boisson chaude et un fruit à emporter. En dehors des horaires du buffet, un petit-déjeuner plus léger est disponible à partir de 4h00. Par ailleurs, vous pourrez prendre un verre et déguster une collation au bar sur place.Vous séjournerez à 400 mètres du Zénith de Lille et à 1,5 km du centre de conventions Nouveau Siècle. Enfin, l'ibis Lille Centre Grand Palais se trouve à 7 km de l'aéroport de Lille-Lesquin et à 9 km du stade Pierre Mauroy. ",
           68.31428571428572,
           7
          ],
          [
           50.64082324,
           3.06491666,
           "Little Suite - Louise",
           "https://www.booking.com/hotel/fr/little-suite-louise.fr.html?label=gen173nr-1FCAEoggI46AdIDVgEaE2IAQGYAQ24ARfIAQ_YAQHoAQH4AQKIAgGoAgO4AtSJ4pIGwAIB0gIkMWMyOTgzZDEtZjVkYS00NmJhLWFiOTctNTM5MmFiZTgyZjVl2AIF4AIB&sid=c0f0407a1e2da13c863358a90e64eb78&aid=304142&ucfs=1&arphpl=1&group_adults=2&req_adults=2&no_rooms=1&group_children=0&req_children=0&hpos=17&hapos=17&sr_order=popularity&srpvid=1da19071a9fd0339&srepoch=1649968357&from=searchresults#hotelTmpl",
           "Cet appartement se situe dans le centre de Lille, à 300 mètres de la cathédrale Notre-Dame-de-la-Treille. Cet hébergement indépendant est doté d'une chambre avec vue sur la ville et d'un coin salon aux murs en pierre. Une connexion Wi-Fi gratuite est disponible.Doté de meubles uniques, cet appartement dispose de parquet, d'une armoire ainsi que d'une salle de bains privative munie d'une baignoire et d'un sèche-cheveux.La cuisine est équipée d'un four micro-ondes, d'un réfrigérateur et de plaques de cuisson électriques. Un grille-pain et une bouilloire électrique sont également disponibles.Le Little Suite - Louise se situe à 500 mètres de la place du Général-de-Gaulle. Vous trouverez de nombreux commerces et restaurants dans les environs. Un parking privé est disponible non loin de l'appartement, moyennant des frais supplémentaires. ",
           68.31428571428572,
           7
          ],
          [
           50.64602156,
           3.07587147,
           "Hotel Art Deco Euralille",
           "https://www.booking.com/hotel/fr/hotelsrtdecoromarinlille.fr.html?label=gen173nr-1FCAEoggI46AdIDVgEaE2IAQGYAQ24ARfIAQ_YAQHoAQH4AQKIAgGoAgO4AtSJ4pIGwAIB0gIkMWMyOTgzZDEtZjVkYS00NmJhLWFiOTctNTM5MmFiZTgyZjVl2AIF4AIB&sid=c0f0407a1e2da13c863358a90e64eb78&aid=304142&ucfs=1&arphpl=1&group_adults=2&req_adults=2&no_rooms=1&group_children=0&req_children=0&hpos=18&hapos=18&sr_order=popularity&srpvid=1da19071a9fd0339&srepoch=1649968357&from_sustainable_property_sr=1&from=searchresults#hotelTmpl",
           "Vous pouvez bénéficier d'une réduction Genius dans l'établissement Hotel Art Deco Euralille ! Connectez-vous pour économiser.Situé au cœur du quartier des affaires d’Euralille, l’Hotel Art Deco Euralille propose un bar à 1 km de la gare de Lille-Europe, à 20 minutes de la Grand-Place ainsi qu'à 1,7 km du grand palais de Lille et du centre de conventions Nouveau Siècle.Présentant un décor Art déco, les chambres lumineuses et climatisées comprennent une télévision par satellite et une connexion Wi-Fi gratuite. Les chambres sont en outre toutes desservies par un ascenseur.En soirée, vous pourrez vous détendre dans le bar de l'hôtel, doté d'un plafond en vitraux des années 1930 et de chaises en cuir. L’établissement possède également une bibliothèque.En face de l’hôtel, vous trouverez la station de métro et arrêt de tramway Romarin, qui permet d'accéder directement à la gare de Lille-Flandres. ",
           68.31428571428572,
           7
          ],
          [
           50.64143,
           3.06578,
           "Lille Centre - Nice and functional ap",
           "https://www.booking.com/hotel/fr/lille-grand-place-superbe-appart-60m2-2ch.fr.html?label=gen173nr-1FCAEoggI46AdIDVgEaE2IAQGYAQ24ARfIAQ_YAQHoAQH4AQKIAgGoAgO4AtSJ4pIGwAIB0gIkMWMyOTgzZDEtZjVkYS00NmJhLWFiOTctNTM5MmFiZTgyZjVl2AIF4AIB&sid=c0f0407a1e2da13c863358a90e64eb78&aid=304142&ucfs=1&arphpl=1&group_adults=2&req_adults=2&no_rooms=1&group_children=0&req_children=0&hpos=19&hapos=19&sr_order=popularity&srpvid=1da19071a9fd0339&srepoch=1649968357&from=searchresults#hotelTmpl",
           "Le Lille Centre - Nice and functional ap propose un hébergement avec connexion Wi-Fi gratuite à Lille, à 200 mètres du quartier du Vieux-Lille, à 400 mètres de l'opéra et à 500 mètres de la Grand-Place. Cet appartement se trouve à 1,2 km de l'Hospice Gantois et à 1,5 km de la braderie de Lille.Cet appartement comprend 2 chambres, une télévision, un lave-linge et une salle de bains pourvue d'une douche. Sa cuisine est équipée d'un micro-ondes et d'un réfrigérateur. Les serviettes et le linge de lit sont fournis.Vous séjournerez à proximité du grand magasin Printemps, de l'Aéronef et de l'école de commerce SKEMA de Lille. L'aéroport de Lille, le plus proche, est implanté à 8 km. ",
           68.31428571428572,
           7
          ],
          [
           50.6430864,
           3.067507,
           "La Petite Place le Gîte et le Couvert de la Porte de Gand",
           "https://www.booking.com/hotel/fr/triplex-au-coeur-du-vieux-lille-comme-a-la-maison.fr.html?label=gen173nr-1FCAEoggI46AdIDVgEaE2IAQGYAQ24ARfIAQ_YAQHoAQH4AQKIAgGoAgO4AtSJ4pIGwAIB0gIkMWMyOTgzZDEtZjVkYS00NmJhLWFiOTctNTM5MmFiZTgyZjVl2AIF4AIB&sid=c0f0407a1e2da13c863358a90e64eb78&aid=304142&ucfs=1&arphpl=1&group_adults=2&req_adults=2&no_rooms=1&group_children=0&req_children=0&hpos=20&hapos=20&sr_order=popularity&srpvid=1da19071a9fd0339&srepoch=1649968357&from_sustainable_property_sr=1&from=searchresults#hotelTmpl",
           "Doté d'un restaurant, d'un bar et d'un salon commun, l'établissement La Petite Place le Gîte et le Couvert de la Porte de Gand propose un hébergement avec une connexion Wi-Fi gratuite et une vue sur la ville à Lille. Il est situé à 500 mètres du quartier du Vieux-Lille et dispose d'une cuisine commune.Cet appartement comprend 2 chambres, une télévision par satellite à écran plat, un lave-linge et 2 salles de bains pourvues d'une douche. Sa cuisine est équipée d'un micro-ondes et d'un réfrigérateur. Les serviettes et le linge de lit sont fournis.Un barbecue est à votre disposition sur place. Un service de location de voitures est assuré sur place et vous pourrez faire de la randonnée dans les environs.Vous séjournerez à proximité de l'opéra de Lille, de la Grand-Place et de l'Aéronef. L'aéroport de Lille, le plus proche, est implanté à 8 km. Un service de navette aéroport est assuré moyennant des frais supplémentaires. ",
           68.31428571428572,
           7
          ],
          [
           43.496316,
           5.342152,
           "TheCamp Hotel&Lodges - Aix en Provence",
           "https://www.booking.com/hotel/fr/thecamp-amp-lodges.fr.html?label=gen173nr-1FCAEoggI46AdIDVgEaE2IAQGYAQ24ARfIAQ_YAQHoAQH4AQKIAgGoAgO4AtSJ4pIGwAIB0gIkMWMyOTgzZDEtZjVkYS00NmJhLWFiOTctNTM5MmFiZTgyZjVl2AIF4AIB&sid=c0f0407a1e2da13c863358a90e64eb78&aid=304142&ucfs=1&arphpl=1&group_adults=2&req_adults=2&no_rooms=1&group_children=0&req_children=0&hpos=1&hapos=1&sr_order=popularity&srpvid=6aa49076755100b3&srepoch=1649968366&from_sustainable_property_sr=1&from=searchresults#hotelTmpl",
           "Vous pouvez bénéficier d'une réduction Genius dans l'établissement TheCamp Hotel&Lodges - Aix en Provence ! Connectez-vous pour économiser.Situé à Aix-en-Provence, à 9 km du cours Mirabeau, l'établissement TheCamp Hotel&Lodges - Aix en Provence propose une piscine extérieure ouverte en saison, un parking privé gratuit, une salle de sport et un jardin. Il propose des chambres familiales et une terrasse bien exposée. Certains logements possèdent un balcon avec vue sur la piscine.Toutes les chambres sont équipées de la climatisation, d'une télévision par satellite à écran plat, d'une bouilloire et d'un bureau. Certains logements disposent d'un coffre-fort. Leur salle de bains privative est pourvue d'une armoire.Un petit-déjeuner buffet ou continental est servi sur place.Vous pourrez pratiquer diverses activités à Aix-en-Provence et dans ses environs, telles que le vélo et la randonnée.Vous séjournerez à 2,7 km du parc technologique de la Duranne et à 9 km de la cathédrale Saint-Sauveur. L'aéroport de Marseille-Provence, le plus proche, est implanté à 12 km. ",
           70.3,
           21
          ],
          [
           43.52409101,
           5.45521617,
           "Odalys City Aix en Provence L'Atrium",
           "https://www.booking.com/hotel/fr/atrium-d-anaite.fr.html?label=gen173nr-1FCAEoggI46AdIDVgEaE2IAQGYAQ24ARfIAQ_YAQHoAQH4AQKIAgGoAgO4AtSJ4pIGwAIB0gIkMWMyOTgzZDEtZjVkYS00NmJhLWFiOTctNTM5MmFiZTgyZjVl2AIF4AIB&sid=c0f0407a1e2da13c863358a90e64eb78&aid=304142&ucfs=1&arphpl=1&group_adults=2&req_adults=2&no_rooms=1&group_children=0&req_children=0&hpos=2&hapos=2&sr_order=popularity&srpvid=6aa49076755100b3&srepoch=1649968366&from_sustainable_property_sr=1&from=searchresults#hotelTmpl",
           "Vous pouvez bénéficier d'une réduction Genius dans l'établissement Odalys City Aix en Provence L'Atrium ! Connectez-vous pour économiser.Situé à Aix-en-Provence, l'Odalys City Aix en Provence L'Atrium propose des appartements d'une chambre et des studios indépendants avec une connexion Wi-Fi gratuite. Le centre-ville historique et la gare sont à 10 minutes de marche, tandis que les boutiques du cours Mirabeau sont à 5 minutes à pied.Les studios et les appartements disposent d'une télévision par câble satellite à écran plat. Leur salle de bains privative comprend une baignoire ou une douche. Leur kitchenette est équipée de plaques de cuisson, d'un micro-ondes et d'un réfrigérateur.Moyennant un supplément, vous pourrez déguster un petit-déjeuner complet dans la salle prévue à cet effet.L'Odalys City Aix en Provence L'Atrium se trouve à 30 minutes de route de la montagne Sainte-Victoire. Le musée Granet est à 4 minutes de marche. L'aéroport de Marseille Provence est à 25 minutes en voiture. Un parking privé sur place est accessible moyennant un supplément et sous réserve de disponibilité. ",
           70.3,
           21
          ],
          [
           43.5185712,
           5.4583487,
           "Nice apartment for 4 people in the center of Aix-en-Provence",
           "https://www.booking.com/hotel/fr/nice-apartment-for-4-people-in-the-center-of-aix-en-provence.fr.html?label=gen173nr-1FCAEoggI46AdIDVgEaE2IAQGYAQ24ARfIAQ_YAQHoAQH4AQKIAgGoAgO4AtSJ4pIGwAIB0gIkMWMyOTgzZDEtZjVkYS00NmJhLWFiOTctNTM5MmFiZTgyZjVl2AIF4AIB&sid=c0f0407a1e2da13c863358a90e64eb78&aid=304142&ucfs=1&arphpl=1&group_adults=2&req_adults=2&no_rooms=1&group_children=0&req_children=0&hpos=3&hapos=3&sr_order=popularity&srpvid=6aa49076755100b3&srepoch=1649968366&from=searchresults#hotelTmpl",
           "Situé à Aix-en-Provence, à proximité du cours Mirabeau, de la cathédrale Saint-Sauveur et du centre des congrès, le Nice apartment for 4 people in the center of Aix-en-Provence dispose d'un casino.Tous les logements disposent d'un balcon offrant une vue sur la ville, d'une télévision, d'un coin repas, d'une cuisine bien équipée ainsi que d'une salle de bains privative avec baignoire, sèche-cheveux et articles de toilette gratuits. Un micro-ondes, un réfrigérateur et une machine à café sont également fournis.Vous séjournerez à proximité de l'université Centre Schuman Aix-Marseille, du musée Granet et du lycée militaire d'Aix-en-Provence. L'aéroport le plus proche, celui de Marseille Provence, est situé à 21 km. ",
           70.3,
           21
          ],
          [
           43.526627,
           5.446262,
           "Furnished apartment with terrace in the center of Aix-en-Provence",
           "https://www.booking.com/hotel/fr/furnished-apartment-with-terrace-in-the-center-of-aix-en-provence.fr.html?label=gen173nr-1FCAEoggI46AdIDVgEaE2IAQGYAQ24ARfIAQ_YAQHoAQH4AQKIAgGoAgO4AtSJ4pIGwAIB0gIkMWMyOTgzZDEtZjVkYS00NmJhLWFiOTctNTM5MmFiZTgyZjVl2AIF4AIB&sid=c0f0407a1e2da13c863358a90e64eb78&aid=304142&ucfs=1&arphpl=1&group_adults=2&req_adults=2&no_rooms=1&group_children=0&req_children=0&hpos=4&hapos=4&sr_order=popularity&srpvid=6aa49076755100b3&srepoch=1649968366&from=searchresults#hotelTmpl",
           "Situé dans le centre historique d'Aix-en-Provence, à proximité du cours Mirabeau, le Furnished apartment with terrace in the center of Aix-en-Provence dispose d'une connexion Wi-Fi gratuite et d'un lave-linge. Il se trouve à 400 mètres de l'hôtel de ville d'Aix-en-Provence et à 500 mètres du musée Granet.Cet appartement comprend 2 chambres, une salle de bains, du linge de lit, des serviettes, une télévision, un coin repas, une cuisine entièrement équipée et une terrasse avec vue sur la ville.Vous séjournerez à proximité de la cathédrale Saint-Sauveur, du centre d'art Caumont et du tribunal de commerce Greffe d'Aix-en-Provence. L'aéroport le plus proche, celui de Marseille Provence, est situé à 20 km. ",
           70.3,
           21
          ],
          [
           43.52524078,
           5.441266,
           "Séjours & Affaires Aix-en-Provence Mirabeau",
           "https://www.booking.com/hotel/fr/residence-mirabeau.fr.html?label=gen173nr-1FCAEoggI46AdIDVgEaE2IAQGYAQ24ARfIAQ_YAQHoAQH4AQKIAgGoAgO4AtSJ4pIGwAIB0gIkMWMyOTgzZDEtZjVkYS00NmJhLWFiOTctNTM5MmFiZTgyZjVl2AIF4AIB&sid=c0f0407a1e2da13c863358a90e64eb78&aid=304142&ucfs=1&arphpl=1&group_adults=2&req_adults=2&no_rooms=1&group_children=0&req_children=0&hpos=5&hapos=5&sr_order=popularity&srpvid=6aa49076755100b3&srepoch=1649968366&from=searchresults#hotelTmpl",
           "Vous pouvez bénéficier d'une réduction Genius dans l'établissement Séjours & Affaires Aix-en-Provence Mirabeau ! Connectez-vous pour économiser.Cette résidence Séjours & Affaires est située à Aix-en-Provence, à proximité du cours Mirabeau. Elle propose des studios meublés et une connexion Wi-Fi gratuite.Tous les studios du Séjours & Affaires Aix-en-Provence Mirabeau sont insonorisés et disposent d'une kitchenette complète équipée d'un réfrigérateur, d'un four micro-ondes, de plaques de cuisson et de vaisselle. Ils sont tous desservis par un ascenseur.Les studios comprennent un canapé-lit, et le ménage, qui inclut le changement du linge, est effectué une fois par semaine. ",
           70.3,
           21
          ],
          [
           43.51191632,
           5.43665394,
           "Campanile Aix-en-Provence Sud - Pont de l'Arc",
           "https://www.booking.com/hotel/fr/campanile-aix-en-provence-sud.fr.html?label=gen173nr-1FCAEoggI46AdIDVgEaE2IAQGYAQ24ARfIAQ_YAQHoAQH4AQKIAgGoAgO4AtSJ4pIGwAIB0gIkMWMyOTgzZDEtZjVkYS00NmJhLWFiOTctNTM5MmFiZTgyZjVl2AIF4AIB&sid=c0f0407a1e2da13c863358a90e64eb78&aid=304142&ucfs=1&arphpl=1&group_adults=2&req_adults=2&no_rooms=1&group_children=0&req_children=0&hpos=6&hapos=6&sr_order=popularity&srpvid=6aa49076755100b3&srepoch=1649968366&from_sustainable_property_sr=1&from=searchresults#hotelTmpl",
           "Installé à Aix-en-Provence, à 3 km du centre historique et du cours Mirabeau, le Campanile Aix-en-Provence Sud - Pont de l’Arc vous propose des hébergements climatisés avec une connexion Wi-Fi gratuite.Toutes les chambres sont équipées d’une télévision à écran plat. Chaque logement est doté d’un plateau/bouilloire.L’hôtel sert tous les matins un petit-déjeuner buffet. Le restaurant sur place prépare une cuisine française contemporaine, que vous pourrez savourer sur la terrasse en été. Un buffet composé de plats chauds et froids est également disponible.L’hôtel possède un ascenseur et un parking privé gratuit sur place. Un bus desservant directement le centre-ville s’arrête en face de l’hôtel.L’établissement se trouve à 13 km de la gare TGV d’Aix-en-Provence et à 8 km de la salle polyvalente Arena du Pays d’Aix. L’aéroport Marseille-Provence est accessible en 20 minutes de route. ",
           70.3,
           21
          ],
          [
           43.53017,
           5.44735,
           "Furnished apartment in the heart of the city close to all the amenities",
           "https://www.booking.com/hotel/fr/furnished-apartment-in-the-heart-of-the-city-close-to-all-the-amenities.fr.html?label=gen173nr-1FCAEoggI46AdIDVgEaE2IAQGYAQ24ARfIAQ_YAQHoAQH4AQKIAgGoAgO4AtSJ4pIGwAIB0gIkMWMyOTgzZDEtZjVkYS00NmJhLWFiOTctNTM5MmFiZTgyZjVl2AIF4AIB&sid=c0f0407a1e2da13c863358a90e64eb78&aid=304142&ucfs=1&arphpl=1&group_adults=2&req_adults=2&no_rooms=1&group_children=0&req_children=0&hpos=7&hapos=7&sr_order=popularity&srpvid=6aa49076755100b3&srepoch=1649968366&from=searchresults#hotelTmpl",
           "Doté d'une connexion Wi-Fi gratuite et offrant une vue sur la ville, le Furnished apartment in the heart of the city close to all the facilities est situé à Aix-en-Provence, à seulement 200 mètres de la cathédrale Saint-Sauveur. Il se trouve à 400 mètres du cours Mirabeau et dispose d'un parking privé.Cet appartement comprend une chambre ainsi qu'une salle de bains pourvue d'un sèche-cheveux et d'articles de toilette gratuits. Ce logement comprend un coin salon ainsi qu'une cuisine équipée d'un lave-vaisselle et d'un réfrigérateur.Vous séjournerez à quelques pas de l'hôtel de ville d'Aix-en-Provence et à 200 mètres de l'université Sciences Po Aix. L'aéroport de Marseille-Provence, le plus proche, est implanté à 21 km. ",
           70.3,
           21
          ],
          [
           43.49453015,
           5.36888123,
           "ibis budget Aix en Provence",
           "https://www.booking.com/hotel/fr/etap-aix-en-provence-les-milles.fr.html?label=gen173nr-1FCAEoggI46AdIDVgEaE2IAQGYAQ24ARfIAQ_YAQHoAQH4AQKIAgGoAgO4AtSJ4pIGwAIB0gIkMWMyOTgzZDEtZjVkYS00NmJhLWFiOTctNTM5MmFiZTgyZjVl2AIF4AIB&sid=c0f0407a1e2da13c863358a90e64eb78&aid=304142&ucfs=1&arphpl=1&group_adults=2&req_adults=2&no_rooms=1&group_children=0&req_children=0&hpos=8&hapos=8&sr_order=popularity&srpvid=6aa49076755100b3&srepoch=1649968366&from=searchresults#hotelTmpl",
           "L'ibis budget Aix en Provence est situé en périphérie d'Aix-en-Provence, à 5 km du centre-ville. Ses chambres insonorisées sont munies d'une connexion Wi-Fi gratuite.Décorées avec simplicité, toutes les chambres comprennent la climatisation, une télévision par satellite à écran plat et une salle de bains privative pourvue d'une douche.Chaque matin, l'ibis budget Aix en Provence sert un petit-déjeuner continental dans la salle à manger. De plus, vous disposerez d'un micro-ondes dans le hall.Sur place, vous bénéficierez aussi d'un parking privé gratuit. Vous rejoindrez le club de golf d'Aix-Marseille à seulement 5 minutes en voiture, la salle de spectacles Arena d'Aix-en-Provence à 5 km et Marseille à 25 km. Enfin, un parking Park & Ride avec des navettes pour l'aéroport et la gare TGV est accessible à 1 km de l'ibis budget Aix en Provence. ",
           70.3,
           21
          ],
          [
           43.5301292,
           5.4589527,
           "Joli T2 avec parking à deux pas du centre ville historique",
           "https://www.booking.com/hotel/fr/joli-t2-avec-parking-a-deux-pas-du-centre-ville-historique.fr.html?label=gen173nr-1FCAEoggI46AdIDVgEaE2IAQGYAQ24ARfIAQ_YAQHoAQH4AQKIAgGoAgO4AtSJ4pIGwAIB0gIkMWMyOTgzZDEtZjVkYS00NmJhLWFiOTctNTM5MmFiZTgyZjVl2AIF4AIB&sid=c0f0407a1e2da13c863358a90e64eb78&aid=304142&ucfs=1&arphpl=1&group_adults=2&req_adults=2&no_rooms=1&group_children=0&req_children=0&hpos=9&hapos=9&sr_order=popularity&srpvid=6aa49076755100b3&srepoch=1649968366&from=searchresults#hotelTmpl",
           "Doté d'une terrasse, le Joli T2 avec parking à deux pas du centre ville historique est situé à Aix-en-Provence, à moins de 1 km du cours Mirabeau, à 12 minutes à pied de la cathédrale Saint-Sauveur et à 400 mètres du lycée militaire d'Aix-en-Provence. Vous bénéficierez gratuitement d'un parking privé et d'une connexion Wi-Fi.Cet appartement climatisé comprend une chambre séparée, une cuisine entièrement équipée et une salle de bains. Il dispose également d'une télévision à écran plat.Vous séjournerez à proximité de la Haute Cour d'Aix-en-Provence, du centre des congrès et du musée Granet. L'aéroport le plus proche, celui de Marseille Provence, est situé à 22 km. ",
           70.3,
           21
          ],
          [
           43.531277,
           5.44944,
           "Furnished apartment in the heart of the city near all the amenities",
           "https://www.booking.com/hotel/fr/furnished-apartment-in-the-heart-of-the-city-near-all-the-amenities.fr.html?label=gen173nr-1FCAEoggI46AdIDVgEaE2IAQGYAQ24ARfIAQ_YAQHoAQH4AQKIAgGoAgO4AtSJ4pIGwAIB0gIkMWMyOTgzZDEtZjVkYS00NmJhLWFiOTctNTM5MmFiZTgyZjVl2AIF4AIB&sid=c0f0407a1e2da13c863358a90e64eb78&aid=304142&ucfs=1&arphpl=1&group_adults=2&req_adults=2&no_rooms=1&group_children=0&req_children=0&hpos=10&hapos=10&sr_order=popularity&srpvid=6aa49076755100b3&srepoch=1649968366&from=searchresults#hotelTmpl",
           "Situé dans le centre d'Aix-en-Provence, à seulement 200 mètres de la cathédrale Saint-Sauveur et à 500 mètres du cours Mirabeau, le Furnished apartment in the heart of the city near all the facilities propose un hébergement avec vue sur la ville et connexion Wi-Fi gratuite. Cet appartement se trouve à 600 mètres du centre d'art de Caumont et à 700 mètres du musée Granet.Cet appartement comprend une chambre, une cuisine avec un micro-ondes et un réfrigérateur, une télévision, un coin salon et une salle de bains. Les serviettes et le linge de lit sont fournis.Vous séjournerez à proximité de l'hôtel de ville d'Aix-en-Provence, de l'université Sciences Po Aix et du tribunal de commerce Greffe d'Aix-en-Provence. L'aéroport le plus proche, celui de Marseille Provence, est situé à 21 km. ",
           70.3,
           21
          ],
          [
           43.53095239,
           5.44667758,
           "L'Appartement Mathilde",
           "https://www.booking.com/hotel/fr/appartement-marie-antoinette.fr.html?label=gen173nr-1FCAEoggI46AdIDVgEaE2IAQGYAQ24ARfIAQ_YAQHoAQH4AQKIAgGoAgO4AtSJ4pIGwAIB0gIkMWMyOTgzZDEtZjVkYS00NmJhLWFiOTctNTM5MmFiZTgyZjVl2AIF4AIB&sid=c0f0407a1e2da13c863358a90e64eb78&aid=304142&ucfs=1&arphpl=1&group_adults=2&req_adults=2&no_rooms=1&group_children=0&req_children=0&hpos=11&hapos=11&sr_order=popularity&srpvid=6aa49076755100b3&srepoch=1649968366&from=searchresults#hotelTmpl",
           "Les Appartements Clarisse et Mathilde sont des hébergements indépendants de luxe situés dans le centre historique d'Aix-en-Provence, à 6 minutes à pied de la place Bellegarde. La connexion Wi-Fi est gratuite.Accessibles par un escalier, les appartements disposent d'une télévision par câble à écran plat, d'un coin repas, d'un lave-linge et d'un salon. La salle de bains est pourvue d'une baignoire et d'une douche.La cuisine entièrement équipée comprend un four, une cuisinière, un lave-vaisselle, un micro-ondes et une machine à café. Vous trouverez des bars et des restaurants à quelques minutes de marche.Les Appartements Clarisse et Mathilde sont à 28 km de l'aéroport de Marseille. Vous rejoindrez la gare d'Aix-en-Provence en 5 minutes de route. ",
           70.3,
           21
          ],
          [
           43.52461222,
           5.45375437,
           "Le Concorde",
           "https://www.booking.com/hotel/fr/le-concorde-sarl-aix-en-provence.fr.html?label=gen173nr-1FCAEoggI46AdIDVgEaE2IAQGYAQ24ARfIAQ_YAQHoAQH4AQKIAgGoAgO4AtSJ4pIGwAIB0gIkMWMyOTgzZDEtZjVkYS00NmJhLWFiOTctNTM5MmFiZTgyZjVl2AIF4AIB&sid=c0f0407a1e2da13c863358a90e64eb78&aid=304142&ucfs=1&arphpl=1&group_adults=2&req_adults=2&no_rooms=1&group_children=0&req_children=0&hpos=12&hapos=12&sr_order=popularity&srpvid=6aa49076755100b3&srepoch=1649968366&from=searchresults#hotelTmpl",
           "Le Concorde est idéalement situé dans le centre d’Aix-en-Provence, à seulement 5 minutes à pied du célèbre cours Mirabeau et à proximité du musée Granet. Cet établissement possède un jardin fleuri.Les chambres sont toutes équipées d'une télévision, de la climatisation et d'une connexion Wi-Fi.Le matin, un petit-déjeuner copieux est servi dans la salle dédiée ou dans la cour.Si vous arrivez en voiture, vous pourrez accéder à un grand garage privé en sous-sol disponible moyennant un supplément, pour vous permettre de partir à la découverte de la ville sans vous inquiéter du stationnement. ",
           70.3,
           21
          ],
          [
           43.5291277,
           5.4453804,
           "Air-conditioned apartment with a small furnished terrace in the city center",
           "https://www.booking.com/hotel/fr/air-conditioned-apartment-with-a-small-furnished-terrace-in-the-city-center.fr.html?label=gen173nr-1FCAEoggI46AdIDVgEaE2IAQGYAQ24ARfIAQ_YAQHoAQH4AQKIAgGoAgO4AtSJ4pIGwAIB0gIkMWMyOTgzZDEtZjVkYS00NmJhLWFiOTctNTM5MmFiZTgyZjVl2AIF4AIB&sid=c0f0407a1e2da13c863358a90e64eb78&aid=304142&ucfs=1&arphpl=1&group_adults=2&req_adults=2&no_rooms=1&group_children=0&req_children=0&hpos=13&hapos=13&sr_order=popularity&srpvid=6aa49076755100b3&srepoch=1649968366&from=searchresults#hotelTmpl",
           "Situé dans le centre-ville d'Aix-en-Provence, à proximité de la cathédrale Saint-Sauveur et du cours Mirabeau, l'appartement climatisé dispose d'une petite terrasse meublée, d'une connexion Wi-Fi gratuite, de la climatisation et d'équipements ménagers tels qu'un four micro-ondes et une bouilloire. Cet appartement se trouve à 500 mètres du tribunal de commerce Greffe d'Aix-en-Provence et à 700 mètres de la bibliothèque Mejanes.Cet appartement comprend une chambre, une salle de bains, du linge de lit, des serviettes, une télévision par satellite, un coin repas, une cuisine entièrement équipée et un balcon avec vue sur la ville.Vous séjournerez à proximité de l'hôtel de ville d'Aix-en-Provence, de l'université Sciences Po Aix et du centre d'art Caumont. L'aéroport de Marseille-Provence, le plus proche, est à 21 km. ",
           70.3,
           21
          ],
          [
           43.5300789,
           5.4494921,
           "Triplex apartment with furnished rooftop terrace in the heart of the city",
           "https://www.booking.com/hotel/fr/triplex-apartment-with-furnished-rooftop-terrace-in-the-heart-of-the-city.fr.html?label=gen173nr-1FCAEoggI46AdIDVgEaE2IAQGYAQ24ARfIAQ_YAQHoAQH4AQKIAgGoAgO4AtSJ4pIGwAIB0gIkMWMyOTgzZDEtZjVkYS00NmJhLWFiOTctNTM5MmFiZTgyZjVl2AIF4AIB&sid=c0f0407a1e2da13c863358a90e64eb78&aid=304142&ucfs=1&arphpl=1&group_adults=2&req_adults=2&no_rooms=1&group_children=0&req_children=0&hpos=14&hapos=14&sr_order=popularity&srpvid=6aa49076755100b3&srepoch=1649968366&from=searchresults#hotelTmpl",
           "Le Triplex apartment with furnished rooftop terrace in the heart of the city est situé dans le centre historique d'Aix-en-Provence, à 400 mètres du cours Mirabeau, à 100 mètres de l'hôtel de ville et à 300 mètres de l'université Sciences Po Aix. Il est situé à 300 mètres de la cathédrale Saint-Sauveur et dispose d'une connexion Wi-Fi gratuite ainsi que d'une réception ouverte 24h/24.Cet appartement comprend une chambre, une salle de bains, du linge de lit, des serviettes, une télévision, un coin repas, une cuisine entièrement équipée et une terrasse avec vue sur la ville.Vous séjournerez à proximité du greffe du tribunal de commerce d'Aix-en-Provence, du centre d'art Caumont et du musée Granet. L'aéroport de Marseille-Provence, le plus proche, est implanté à 21 km. ",
           70.3,
           21
          ],
          [
           43.519135,
           5.454833,
           "Private apartment with furnished terrace garden & parking near amenities",
           "https://www.booking.com/hotel/fr/private-apartment-with-furnished-terrace-garden-parking-near-amenities.fr.html?label=gen173nr-1FCAEoggI46AdIDVgEaE2IAQGYAQ24ARfIAQ_YAQHoAQH4AQKIAgGoAgO4AtSJ4pIGwAIB0gIkMWMyOTgzZDEtZjVkYS00NmJhLWFiOTctNTM5MmFiZTgyZjVl2AIF4AIB&sid=c0f0407a1e2da13c863358a90e64eb78&aid=304142&ucfs=1&arphpl=1&group_adults=2&req_adults=2&no_rooms=1&group_children=0&req_children=0&hpos=15&hapos=15&sr_order=popularity&srpvid=6aa49076755100b3&srepoch=1649968366&from=searchresults#hotelTmpl",
           "Situé à Aix-en-Provence, à 1,5 km de la cathédrale Saint-Sauveur, à 600 mètres du Centre Schuman de l'université d'Aix-Marseille et à 700 mètres du centre des congrès d'Aix-en-Provence, le Private apartment with furnished terrace garden & parking near facilities propose un hébergement avec une terrasse et une connexion Wi-Fi gratuite. Situé à moins de 1 km du cours Mirabeau, l'établissement possède un jardin et un parking privé gratuit.Cet appartement comprend 2 chambres, une télévision, une cuisine équipée avec un lave-vaisselle et un micro-ondes, ainsi qu'une salle de bains pourvue d'une douche. Les serviettes et le linge de lit sont fournis.Vous séjournerez à proximité du musée Granet, de la Haute Cour d'Aix-en-Provence et du centre d'art Caumont. L'aéroport de Marseille-Provence, le plus proche, est implanté à 21 km. ",
           70.3,
           21
          ],
          [
           43.531148,
           5.474076,
           "La Farigoule",
           "https://www.booking.com/hotel/fr/la-farigoule-aix-en-provence.fr.html?label=gen173nr-1FCAEoggI46AdIDVgEaE2IAQGYAQ24ARfIAQ_YAQHoAQH4AQKIAgGoAgO4AtSJ4pIGwAIB0gIkMWMyOTgzZDEtZjVkYS00NmJhLWFiOTctNTM5MmFiZTgyZjVl2AIF4AIB&sid=c0f0407a1e2da13c863358a90e64eb78&aid=304142&ucfs=1&arphpl=1&group_adults=2&req_adults=2&no_rooms=1&group_children=0&req_children=0&hpos=16&hapos=16&sr_order=popularity&srpvid=6aa49076755100b3&srepoch=1649968366&from=searchresults#hotelTmpl",
           "Situé à Aix-en-Provence, en Provence-Alpes-Côte d'Azur, l'établissement La Farigoule propose un parking privé gratuit.Revêtus de carrelage, les logements climatisés comprennent une salle de bains privative, une télévision à écran plat, une connexion Wi-Fi gratuite, une armoire, un salon, une cuisine équipée, une terrasse et une vue sur la piscine. Un lave-vaisselle, un micro-ondes, un réfrigérateur et une machine à café sont également fournis.Une aire de jeux pour enfants est à votre disposition sur place.Vous pourrez vous baigner dans la piscine extérieure, faire du vélo ou de la randonnée dans les environs ou vous détendre dans le jardin.Vous séjournerez à 4 km de la cathédrale Saint-Sauveur et à 5 km du cours Mirabeau. L'aéroport de Marseille-Provence, le plus proche, est implanté à 31 km. ",
           70.3,
           21
          ],
          [
           43.51138683,
           5.46482384,
           "ibis Aix en Provence",
           "https://www.booking.com/hotel/fr/hatel-ibis-aix-en-provence.fr.html?label=gen173nr-1FCAEoggI46AdIDVgEaE2IAQGYAQ24ARfIAQ_YAQHoAQH4AQKIAgGoAgO4AtSJ4pIGwAIB0gIkMWMyOTgzZDEtZjVkYS00NmJhLWFiOTctNTM5MmFiZTgyZjVl2AIF4AIB&sid=c0f0407a1e2da13c863358a90e64eb78&aid=304142&ucfs=1&arphpl=1&group_adults=2&req_adults=2&no_rooms=1&group_children=0&req_children=0&hpos=17&hapos=17&sr_order=popularity&srpvid=6aa49076755100b3&srepoch=1649968366&from=searchresults#hotelTmpl",
           "L'Hotel Ibis Aix en Provence est situé dans un cadre verdoyant, à 2 km du centre-ville. Il dispose d'une piscine extérieure et d'un restaurant sur place. Vous bénéficierez gratuitement d'une connexion Wi-Fi et d'un parking privé sur place.Chaque chambre climatisée comprend une télévision à écran plat, ainsi qu'une salle de bains privative équipée d'une douche et d'un sèche-cheveux.Tous les matins, vous savourerez un petit-déjeuner buffet composé de plats sucrés et salés, tels que des œufs, de la salade de fruits, des yaourts et des jus de fruits. Des viennoiseries cuites sur place et des madeleines fraîches sont aussi proposées ainsi qu'une boisson chaude et un fruit à emporter. Un petit-déjeuner plus léger est servi à partir de 4h00.Vous pourrez également déguster une cuisine internationale au restaurant New Pasta and Noodles, doté d'une terrasse donnant sur le jardin.En voiture, vous rejoindrez l'autoroute A8 en 2 minutes et la gare d'Aix-en-Provence en 7 minutes. Enfin, Marseille est accessible à 25 minutes de route depuis l'ibis Aix en Provence. ",
           70.3,
           21
          ],
          [
           43.5111713,
           5.4446805,
           "B&B Hôtel Aix-en-Provence Pont de l'Arc",
           "https://www.booking.com/hotel/fr/b-amp-b-aix-en-provence-pont-de-l-39-arc.fr.html?label=gen173nr-1FCAEoggI46AdIDVgEaE2IAQGYAQ24ARfIAQ_YAQHoAQH4AQKIAgGoAgO4AtSJ4pIGwAIB0gIkMWMyOTgzZDEtZjVkYS00NmJhLWFiOTctNTM5MmFiZTgyZjVl2AIF4AIB&sid=c0f0407a1e2da13c863358a90e64eb78&aid=304142&ucfs=1&arphpl=1&group_adults=2&req_adults=2&no_rooms=1&group_children=0&req_children=0&hpos=18&hapos=18&sr_order=popularity&srpvid=6aa49076755100b3&srepoch=1649968366&from=searchresults#hotelTmpl",
           "Doté d'une connexion Wi-Fi gratuite, le B&B Hôtel Aix-en-Provence Pont de l'Arc est situé à Aix-en-Provence. Cet établissement 2 étoiles propose des chambres climatisées avec salle de bains privative. Le cours Mirabeau est à 2,3 km de là.Accessibles par un escalier, toutes les chambres sont équipées d'une télévision à écran plat.Un petit-déjeuner buffet est servi chaque matin. Un micro-ondes commun ainsi qu'un distributeur automatique de boissons et de collations sont à votre disposition..La cathédrale Saint-Sauveur se trouve à 2,7 km du B&B Hôtel Aix-en-Provence Pont de l'Arc. L'aéroport de Marseille-Provence, le plus proche, est établi à 25 km. ",
           70.3,
           21
          ],
          [
           43.53168552,
           5.45164067,
           "Villa Zola",
           "https://www.booking.com/hotel/fr/villa-zola-aix-en-provence.fr.html?label=gen173nr-1FCAEoggI46AdIDVgEaE2IAQGYAQ24ARfIAQ_YAQHoAQH4AQKIAgGoAgO4AtSJ4pIGwAIB0gIkMWMyOTgzZDEtZjVkYS00NmJhLWFiOTctNTM5MmFiZTgyZjVl2AIF4AIB&sid=c0f0407a1e2da13c863358a90e64eb78&aid=304142&ucfs=1&arphpl=1&group_adults=2&req_adults=2&no_rooms=1&group_children=0&req_children=0&hpos=19&hapos=19&sr_order=popularity&srpvid=6aa49076755100b3&srepoch=1649968366&from=searchresults#hotelTmpl",
           "La Villa Zola est située à Aix-en-Provence, à 400 mètres de l'université Sciences Po et à 600 mètres du greffe du tribunal de commerce. Vous bénéficierez gratuitement d'une connexion Wi-Fi et d'un parking privé sur place.Les logements comprennent la climatisation, une télévision à écran plat ainsi qu'une salle de bains privative pourvue d'une douche et d'un sèche-cheveux. Un micro-ondes, un réfrigérateur, des plaques de cuisson, une bouilloire et une machine à café sont également fournis.Ce Bed & Breakfast sert un petit-déjeuner continental tous les matins.Vous séjournerez à proximité de la cathédrale Saint-Sauveur, du cours Mirabeau et de l'hôtel de ville d'Aix-en-Provence. L'aéroport de Marseille-Provence, le plus proche, est implanté à 21 km. ",
           70.3,
           21
          ],
          [
           43.526037,
           5.408456,
           "Comfortable apartment for 4 in Aix-en-Provence",
           "https://www.booking.com/hotel/fr/comfortable-apartment-for-4-in-aix-en-provence.fr.html?label=gen173nr-1FCAEoggI46AdIDVgEaE2IAQGYAQ24ARfIAQ_YAQHoAQH4AQKIAgGoAgO4AtSJ4pIGwAIB0gIkMWMyOTgzZDEtZjVkYS00NmJhLWFiOTctNTM5MmFiZTgyZjVl2AIF4AIB&sid=c0f0407a1e2da13c863358a90e64eb78&aid=304142&ucfs=1&arphpl=1&group_adults=2&req_adults=2&no_rooms=1&group_children=0&req_children=0&hpos=20&hapos=20&sr_order=popularity&srpvid=6aa49076755100b3&srepoch=1649968366&from=searchresults#hotelTmpl",
           "Situé à Aix-en-Provence, à 3,2 km de la cathédrale Saint-Sauveur et du cours Mirabeau, le Comfortable apartment for 4 propose une connexion Wi-Fi gratuite et la climatisation. Offrant une vue sur la ville, il se trouve à 1,4 km de la fondation Vasarely et à 2,1 km de l'école de commerce ESG Aix-en-Provence.Cet appartement comprend une chambre, un salon, une télévision, une cuisine équipée avec un coin repas ainsi qu'une salle de bains pourvue d'une baignoire ou d'une douche et d'un lave-linge. Les serviettes et le linge de lit sont fournis.Vous séjournerez à 2,3 km du centre commercial Carrefour La Pioline et à 2,5 km de la bibliothèque Mejanes. L'aéroport de Marseille-Provence, le plus proche, est implanté à 18 km. ",
           70.3,
           21
          ],
          [
           43.8388151,
           4.35481846,
           "Royal Hôtel",
           "https://www.booking.com/hotel/fr/royal.fr.html?label=gen173nr-1FCAEoggI46AdIDVgEaE2IAQGYAQ24ARfIAQ_YAQHoAQH4AQKIAgGoAgO4AtSJ4pIGwAIB0gIkMWMyOTgzZDEtZjVkYS00NmJhLWFiOTctNTM5MmFiZTgyZjVl2AIF4AIB&sid=c0f0407a1e2da13c863358a90e64eb78&aid=304142&ucfs=1&arphpl=1&group_adults=2&req_adults=2&no_rooms=1&group_children=0&req_children=0&hpos=1&hapos=1&sr_order=popularity&srpvid=d8cd9076a0d30059&srepoch=1649968365&from=searchresults#hotelTmpl",
           "Vous pouvez bénéficier d'une réduction Genius dans l'établissement Royal Hôtel ! Connectez-vous pour économiser.Situé au cœur de Nîmes, le Royal Hôtel dispose d'un restaurant sur place, La Bodéguita, qui s'ouvre sur la place Assas. L'hôtel se trouve à moins de 3 minutes à pied du temple Maison Carrée et de la galerie d'art moderne Carré d'Art. Une connexion Wi-Fi est disponible gratuitement.L'établissement accepte les chiens de moins de 10 kg.Accessible par un escalier, chaque chambre comprend la climatisation, une télévision à écran plat et une vue sur le patio intérieur ou la place Assas. Certains logements comprennent un coin salon, idéal pour se détendre après une journée bien remplie. Les chambres comprennent une salle de bains privative.Le petit-déjeuner est servi tous les jours et se compose d'une sélection de produits bio frais. Vous pourrez déguster une cuisine espagnole et du poisson à la plancha au restaurant. Vous pourrez déguster des tapas sur la terrasse du bar.Des soirées tango sont organisées sur la place Assas en juillet et en août. Des spectacles d'art et des expositions sont régulièrement organisés sur la place.Le parc des expositions de Nîmes se trouve à 2,7 km du Royal Hôtel. L'aéroport de Montpellier-Méditerranée est implanté à 53 km. ",
           72.05142857142857,
           24
          ],
          [
           43.8320559,
           4.3673645,
           "ibis budget Nimes Centre Gare",
           "https://www.booking.com/hotel/fr/ibis-budget-nimes-centre-gare.fr.html?label=gen173nr-1FCAEoggI46AdIDVgEaE2IAQGYAQ24ARfIAQ_YAQHoAQH4AQKIAgGoAgO4AtSJ4pIGwAIB0gIkMWMyOTgzZDEtZjVkYS00NmJhLWFiOTctNTM5MmFiZTgyZjVl2AIF4AIB&sid=c0f0407a1e2da13c863358a90e64eb78&aid=304142&ucfs=1&arphpl=1&group_adults=2&req_adults=2&no_rooms=1&group_children=0&req_children=0&hpos=2&hapos=2&sr_order=popularity&srpvid=d8cd9076a0d30059&srepoch=1649968365&from_sustainable_property_sr=1&from=searchresults#hotelTmpl",
           "Situé à seulement 50 mètres de la gare de Nîmes, l'ibis Budget Nîmes Centre Gare vous propose une réception ouverte 24h/24, une bagagerie et une connexion Wi-Fi gratuite dans l'ensemble de l'établissement. Le centre-ville est accessible en 5 minutes à pied.Toutes les chambres sont climatisées et insonorisées. Elles sont dotées d'une télévision par satellite à écran plat et d'un bureau. Elles contiennent aussi une salle de bains privative.L'hôtel vous propose un petit-déjeuner buffet tous les jours. Des boissons et des collations rapides sont également disponibles dans les distributeurs automatiques se trouvant sur place.Montpellier et Le Grau-du-Roi sont à 45 minutes de route. L'aéroport de Nîmes-Alès-Camargue est idéalement situé à 10 minutes en voiture et vous trouverez un parking privé à proximité. ",
           72.05142857142857,
           24
          ],
          [
           43.85147223,
           4.36088863,
           "Loft ravissant proche du centre-ville",
           "https://www.booking.com/hotel/fr/loft-ravissant-proche-du-centre-ville.fr.html?label=gen173nr-1FCAEoggI46AdIDVgEaE2IAQGYAQ24ARfIAQ_YAQHoAQH4AQKIAgGoAgO4AtSJ4pIGwAIB0gIkMWMyOTgzZDEtZjVkYS00NmJhLWFiOTctNTM5MmFiZTgyZjVl2AIF4AIB&sid=c0f0407a1e2da13c863358a90e64eb78&aid=304142&ucfs=1&arphpl=1&group_adults=2&req_adults=2&no_rooms=1&group_children=0&req_children=0&hpos=3&hapos=3&sr_order=popularity&srpvid=d8cd9076a0d30059&srepoch=1649968365&from_sustainable_property_sr=1&from=searchresults#hotelTmpl",
           "Situé à Nîmes, à 3,7 km du parc des expositions et à 1,5 km de la cathédrale, le Loft ravissant proche du centre-ville propose une connexion Wi-Fi gratuite et la climatisation. Occupant un bâtiment datant de 1966, cet appartement se trouve à 1,5 km de la bibliothèque Carré d'Art et à 1,6 km du musée d'art contemporain.Cet appartement comprend une chambre, un lave-linge et une salle de bains pourvue d'un sèche-cheveux. Sa cuisine est équipée d'un lave-vaisselle et d'un micro-ondes. Les serviettes et le linge de lit sont fournis.Vous séjournerez à proximité de la place de l'Horloge, de l'école des beaux-arts de Nîmes et de la Maison Carree. L'aéroport de Nîmes-Alès-Camargue-Cévennes, le plus proche, est implanté à 11 km. ",
           72.05142857142857,
           24
          ],
          [
           43.8281614,
           4.3547902,
           "B&B Hôtel Nîmes Centre Arènes",
           "https://www.booking.com/hotel/fr/b-amp-b-nimes-centre-ville.fr.html?label=gen173nr-1FCAEoggI46AdIDVgEaE2IAQGYAQ24ARfIAQ_YAQHoAQH4AQKIAgGoAgO4AtSJ4pIGwAIB0gIkMWMyOTgzZDEtZjVkYS00NmJhLWFiOTctNTM5MmFiZTgyZjVl2AIF4AIB&sid=c0f0407a1e2da13c863358a90e64eb78&aid=304142&ucfs=1&arphpl=1&group_adults=2&req_adults=2&no_rooms=1&group_children=0&req_children=0&hpos=4&hapos=4&sr_order=popularity&srpvid=d8cd9076a0d30059&srepoch=1649968365&from=searchresults#hotelTmpl",
           "Situé à Nîmes, à 950 mètres des arènes, le B&B Hôtel Nîmes Centre Arènes propose une connexion Wi-Fi gratuite.Les chambres climatisées disposent d’une télévision à écran plat. Leur salle de bains privative est pourvue d'une douche. Vous profiterez d'une vue sur la ville depuis votre chambre. Le linge de lit et du matériel de repassage sont fournis.L'établissement possède un distributeur automatique.L'arrêt de tramway Dhuoda se trouve à 2 minutes à pied et vous mènera à l'Arènes de Nîmes et au centre-ville historique.L'aéroport de Montpellier-Méditerranée est situé à 50 km. Vous bénéficierez d'un parking privé doté de places de stationnement limitées. ",
           72.05142857142857,
           24
          ],
          [
           43.82476592,
           4.36904624,
           "Best Western L'Orangerie",
           "https://www.booking.com/hotel/fr/bestwestern-lorangerie.fr.html?label=gen173nr-1FCAEoggI46AdIDVgEaE2IAQGYAQ24ARfIAQ_YAQHoAQH4AQKIAgGoAgO4AtSJ4pIGwAIB0gIkMWMyOTgzZDEtZjVkYS00NmJhLWFiOTctNTM5MmFiZTgyZjVl2AIF4AIB&sid=c0f0407a1e2da13c863358a90e64eb78&aid=304142&ucfs=1&arphpl=1&group_adults=2&req_adults=2&no_rooms=1&group_children=0&req_children=0&hpos=5&hapos=5&sr_order=popularity&srpvid=d8cd9076a0d30059&srepoch=1649968365&from=searchresults#hotelTmpl",
           "Occupant un bâtiment de style XIXe siècle, le Best Western L’Orangerie est situé à 1 km du centre historique de Nîmes et est entouré d’un parc avec des platanes centenaires. L’établissement possède un sauna et une piscine extérieure.Cet établissement entièrement non-fumeurs propose des chambres conçues individuellement et décorées dans des couleurs provençales chaudes. Elles comprennent la climatisation, une télévision par satellite à écran plat et une connexion Wi-Fi gratuite.L'établissement dispose également de 3 salles de réception pour les événements.Un parking privé gratuit est disponible sur place et est réservé aux clients de l'hôtel. ",
           72.05142857142857,
           24
          ],
          [
           43.84014318,
           4.35833485,
           "La Balade Nîmoise Center Car Park AC",
           "https://www.booking.com/hotel/fr/la-balade-nimoise-centre-parking-clim.fr.html?label=gen173nr-1FCAEoggI46AdIDVgEaE2IAQGYAQ24ARfIAQ_YAQHoAQH4AQKIAgGoAgO4AtSJ4pIGwAIB0gIkMWMyOTgzZDEtZjVkYS00NmJhLWFiOTctNTM5MmFiZTgyZjVl2AIF4AIB&sid=c0f0407a1e2da13c863358a90e64eb78&aid=304142&ucfs=1&arphpl=1&group_adults=2&req_adults=2&no_rooms=1&group_children=0&req_children=0&hpos=6&hapos=6&sr_order=popularity&srpvid=d8cd9076a0d30059&srepoch=1649968365&from=searchresults#hotelTmpl",
           "Situé dans le centre de Nîmes, à 2,5 km du parc des expositions de la ville et à 200 mètres de la place de l'Horloge, La Balade Nîmoise Center Car Park AC dispose de la climatisation. Cette maison de vacances propose gratuitement un parking privé, une connexion Wi-Fi et une réception ouverte 24h/24.Cette maison de vacances comprend une chambre, un salon, une télévision, une cuisine équipée avec un coin repas ainsi qu'une salle de bains pourvue d'une baignoire ou d'une douche et d'un lave-linge. Les serviettes et le linge de lit sont fournis.Vous séjournerez à proximité de la cathédrale de Nîmes, de la Maison Carree et de la bibliothèque Carré d'Art. L'aéroport le plus proche, celui de Nîmes-Garons, est situé à 10 km. ",
           72.05142857142857,
           24
          ],
          [
           43.81389059,
           4.34434175,
           "ibis Nîmes Ouest - A9",
           "https://www.booking.com/hotel/fr/ibis-na-r-mes-ouest.fr.html?label=gen173nr-1FCAEoggI46AdIDVgEaE2IAQGYAQ24ARfIAQ_YAQHoAQH4AQKIAgGoAgO4AtSJ4pIGwAIB0gIkMWMyOTgzZDEtZjVkYS00NmJhLWFiOTctNTM5MmFiZTgyZjVl2AIF4AIB&sid=c0f0407a1e2da13c863358a90e64eb78&aid=304142&ucfs=1&arphpl=1&group_adults=2&req_adults=2&no_rooms=1&group_children=0&req_children=0&hpos=7&hapos=7&sr_order=popularity&srpvid=d8cd9076a0d30059&srepoch=1649968365&from_sustainable_property_sr=1&from=searchresults#hotelTmpl",
           "Situé à côté de la sortie 25 sur l’autoroute A9, l’ibis Nîmes Ouest - A9 se trouve à 4 km du centre-ville de Nîmes et à 12 km de l’aéroport de Nîmes. Cet hôtel propose une piscine extérieure et une connexion Wi-Fi gratuite.Les chambres climatisées de l’ibis Nîmes Ouest sont équipées d’une télévision à écran plat, d’une radio et d’un bureau. La salle de bains privative est pourvue d’une douche ou d’une baignoire, et toutes les chambres sont desservies par un ascenseur.Tous les matins, vous pourrez déguster un petit-déjeuner buffet composé de mets sucrés et salés tels que des œufs, de la salade de fruits, des yaourts et des jus de fruits. Des viennoiseries faites sur place, des madeleines françaises fraîches, une boisson chaude et un fruit sont proposés à emporter.Veuillez noter que le restaurant est ouvert du lundi au vendredi sur demande.Le restaurant de l’établissement est fermé les samedis et dimanches, mais vous trouverez plusieurs autres restaurants à proximité de l’hôtel.Les collations sont servies les samedis et dimanches, et le bar avec terrasse est également accessible.La réception de l’ibis vous accueille 24h/24, et vous pourrez lire la presse quotidienne sur place.Le parcours de golf de Vacquerolles se trouve à 7 km. Le pont du Gard , ancien aqueduc romain, se situe à 25 km, et la ville historique d’Uzès est à 40 minutes de route. Le parking surveillé sur place est gratuit. ",
           72.05142857142857,
           24
          ],
          [
           43.83175755,
           4.36697356,
           "ibis Styles Nimes Gare Centre",
           "https://www.booking.com/hotel/fr/ibis-styles-nimes-centre-gare.fr.html?label=gen173nr-1FCAEoggI46AdIDVgEaE2IAQGYAQ24ARfIAQ_YAQHoAQH4AQKIAgGoAgO4AtSJ4pIGwAIB0gIkMWMyOTgzZDEtZjVkYS00NmJhLWFiOTctNTM5MmFiZTgyZjVl2AIF4AIB&sid=c0f0407a1e2da13c863358a90e64eb78&aid=304142&ucfs=1&arphpl=1&group_adults=2&req_adults=2&no_rooms=1&group_children=0&req_children=0&hpos=8&hapos=8&sr_order=popularity&srpvid=d8cd9076a0d30059&srepoch=1649968365&from=searchresults#hotelTmpl",
           "Situé en face de la gare de Nîmes, cet hôtel propose des chambres abordables dotées d'une connexion Wi-Fi gratuite et de la télévision par satellite. Un petit-déjeuner buffet est servi tous les matins et la réception est ouverte 24h/24.Affichant un style contemporain, les chambres climatisées sont équipées d'une télévision à écran plat et d'une radio. Chacune possède une salle de bains privative pourvue d'une douche et d'un sèche-cheveux.À l'Ibis Styles Nîmes Centre Gare, vous pourrez siroter un verre au bar, qui est ouvert toute la journée. De plus, l'hôtel met à votre disposition des journaux et une bagagerie.Les arènes de Nîmes, son centre historique et la cathédrale de Nîmes sont accessibles en 10 minutes à pied. ",
           72.05142857142857,
           24
          ],
          [
           43.83423753,
           4.3607904,
           "Odalys City Nîmes Le Cheval Blanc",
           "https://www.booking.com/hotel/fr/le-cheval-blanc.fr.html?label=gen173nr-1FCAEoggI46AdIDVgEaE2IAQGYAQ24ARfIAQ_YAQHoAQH4AQKIAgGoAgO4AtSJ4pIGwAIB0gIkMWMyOTgzZDEtZjVkYS00NmJhLWFiOTctNTM5MmFiZTgyZjVl2AIF4AIB&sid=c0f0407a1e2da13c863358a90e64eb78&aid=304142&ucfs=1&arphpl=1&group_adults=2&req_adults=2&no_rooms=1&group_children=0&req_children=0&hpos=9&hapos=9&sr_order=popularity&srpvid=d8cd9076a0d30059&srepoch=1649968365&from_sustainable_property_sr=1&from=searchresults#hotelTmpl",
           "Vous pouvez bénéficier d'une réduction Genius dans l'établissement Odalys City Nîmes Le Cheval Blanc ! Connectez-vous pour économiser.L'Odalys City Nîmes Le Cheval Blanc est situé dans le cœur historique de Nîmes, en face des arènes romaines et à 5 minutes à pied de la gare ferroviaire.Les studios et les appartements disposent de la climatisation, d'une kitchenette, d'une télévision par câble à écran plat avec les chaînes du bouquet Canal+ et d'une salle de bains privative. Elles sont desservies par un ascenseur.Cet établissement sert un petit-déjeuner quotidien que vous pourrez déguster dans votre chambre sur demande. À proximité, vous trouverez un restaurant proposant une cuisine traditionnelle française.Le Cheval Blanc permet de rejoindre aisément de nombreux sites touristiques, commerces et restaurants de la ville. Il est placé à moins de 10 minutes de marche de la Maison Carrée et du musée d'art moderne Carré d'Art. ",
           72.05142857142857,
           24
          ],
          [
           43.81470735,
           4.3448326,
           "Kyriad Nîmes Ouest A9",
           "https://www.booking.com/hotel/fr/kyriad-na-r-mes-ouest.fr.html?label=gen173nr-1FCAEoggI46AdIDVgEaE2IAQGYAQ24ARfIAQ_YAQHoAQH4AQKIAgGoAgO4AtSJ4pIGwAIB0gIkMWMyOTgzZDEtZjVkYS00NmJhLWFiOTctNTM5MmFiZTgyZjVl2AIF4AIB&sid=c0f0407a1e2da13c863358a90e64eb78&aid=304142&ucfs=1&arphpl=1&group_adults=2&req_adults=2&no_rooms=1&group_children=0&req_children=0&hpos=10&hapos=10&sr_order=popularity&srpvid=d8cd9076a0d30059&srepoch=1649968365&from_sustainable_property_sr=1&from=searchresults#hotelTmpl",
           "Idéalement situé à 10 minutes en voiture du centre de Nîmes et à 2 km de la sortie 25 de l’autoroute A9, l’établissement 3 étoiles Kyriad Nîmes Ouest propose une connexion Wi-Fi à 20 Mb/s gratuite et des coins salon extérieurs.Décorées dans des tons méditerranéens, les chambres du Kyriad Nîmes Ouest A9 comprennent un plateau/bouilloire et une télévision à écran plat avec des chaînes internationales, comme les chaînes des bouquets Canal+. Leur salle de bains privative est pourvue d’articles de toilette gratuits.Un petit-déjeuner buffet est servi chaque matin dans la salle prévue à cet effet ou dans le jardin. Vous savourerez un apéritif au bar-salon avant de dîner dans l’un des restaurants des environs.Le parking privé sur place est gratuit. L’aéroport de Nîmes-Garons est implanté à 15 minutes de route. Les parcours de golf de Vacquerolles et de Nîmes Campagne se trouvent à 20 minutes en voiture. Cet établissement Kyriad comporte une réception ouverte 24h/24. ",
           72.05142857142857,
           24
          ],
          [
           43.83387353,
           4.36143396,
           "Appart'City Confort Nimes Arenes",
           "https://www.booking.com/hotel/fr/appart-39-city-nimes.fr.html?label=gen173nr-1FCAEoggI46AdIDVgEaE2IAQGYAQ24ARfIAQ_YAQHoAQH4AQKIAgGoAgO4AtSJ4pIGwAIB0gIkMWMyOTgzZDEtZjVkYS00NmJhLWFiOTctNTM5MmFiZTgyZjVl2AIF4AIB&sid=c0f0407a1e2da13c863358a90e64eb78&aid=304142&ucfs=1&arphpl=1&group_adults=2&req_adults=2&no_rooms=1&group_children=0&req_children=0&hpos=11&hapos=11&sr_order=popularity&srpvid=d8cd9076a0d30059&srepoch=1649968365&from_sustainable_property_sr=1&from=searchresults#hotelTmpl",
           "L'Appart'City Confort Nîmes Arenes est situé dans le centre historique de Nîmes, à 1 minute à pied des arènes, à 300 mètres de la gare et à proximité d'un parking public souterrain. La connexion Wi-Fi est gratuite.Les studios et les appartements de l'Appart'City Confort Nimes Arenes disposent d'une télévision à écran plat et d'un coin salon. Leur kitchenette entièrement équipée comporte un micro-ondes et des plaques de cuisson. La salle de bains privative est pourvue d'une baignoire ou d'une douche.Le petit-déjeuner est composé d'une variété de pains, de croissants, de salade de fruits, de fruits frais et de divers fromages. Des yaourts et de nombreux thés bios sont également proposés.Enfin, l'aéroport de Nîmes-Garons, le plus proche, est à Garons/Saint-Gilles, à 12 km de l'Appart'City Confort Nimes Arenes. ",
           72.05142857142857,
           24
          ],
          [
           43.83775973,
           4.36387226,
           "Kyriad Nimes Centre",
           "https://www.booking.com/hotel/fr/kyriadnimescentre.fr.html?label=gen173nr-1FCAEoggI46AdIDVgEaE2IAQGYAQ24ARfIAQ_YAQHoAQH4AQKIAgGoAgO4AtSJ4pIGwAIB0gIkMWMyOTgzZDEtZjVkYS00NmJhLWFiOTctNTM5MmFiZTgyZjVl2AIF4AIB&sid=c0f0407a1e2da13c863358a90e64eb78&aid=304142&ucfs=1&arphpl=1&group_adults=2&req_adults=2&no_rooms=1&group_children=0&req_children=0&hpos=12&hapos=12&sr_order=popularity&srpvid=d8cd9076a0d30059&srepoch=1649968365&from=searchresults#hotelTmpl",
           "L'hôtel Kyriad Nimes Centre est situé au cœur de Nîmes, dans le plus vieux quartier de la ville, à proximité des arènes romaines, de la Maison Carrée, des musées et des rues commerçantes. Vous bénéficierez d’une connexion Wi-Fi gratuite.Toutes les chambres disposent de la climatisation, de double vitrage et d'une salle de bains privative avec un sèche-cheveux. Les hébergements incluent une télévision à écran plat et un plateau/bouilloire avec des biscuits.Vous pourrez savourer chaque matin un petit-déjeuner dans le confort de votre chambre. Vous profiterez d’une réception ouverte 24h/24 et d’un parking sécurisé sur place, sur réservation et sous réserve de disponibilité. ",
           72.05142857142857,
           24
          ],
          [
           43.83436329,
           4.36533675,
           "Hotel Majestic",
           "https://www.booking.com/hotel/fr/majestic-nimes.fr.html?label=gen173nr-1FCAEoggI46AdIDVgEaE2IAQGYAQ24ARfIAQ_YAQHoAQH4AQKIAgGoAgO4AtSJ4pIGwAIB0gIkMWMyOTgzZDEtZjVkYS00NmJhLWFiOTctNTM5MmFiZTgyZjVl2AIF4AIB&sid=c0f0407a1e2da13c863358a90e64eb78&aid=304142&ucfs=1&arphpl=1&group_adults=2&req_adults=2&no_rooms=1&group_children=0&req_children=0&hpos=13&hapos=13&sr_order=popularity&srpvid=d8cd9076a0d30059&srepoch=1649968365&from=searchresults#hotelTmpl",
           "Rénové en 2019, l'Hotel Majestic est situé à Nîmes, à seulement 320 mètres des arènes et du centre-ville de Nîmes. Vous serez aussi à 600 mètres du musée de la Romanité, à 1 km de la Maison Carrée et à 30 km from pont du Gard. La connexion Wi-Fi est gratuite.Les logements climatisés comprennent une télévision par câble à écran plat. La salle de bains privative est pourvue d'un sèche-cheveux et d'articles de toilette gratuits.Tout au long de l'année, vous pourrez déguster des boissons chaudes ou froides dans le patio. Le petit-déjeuner est servi tous les matins. Le personnel se fera un plaisir de vous conseiller sur les visites à faire dans la région.L'Hotel Majestic se trouve à seulement 300 mètres de la gare TGV de Nîmes. Enfin, vous serez à 52 km de l'aéroport de Montpellier-Méditerranée. ",
           72.05142857142857,
           24
          ],
          [
           43.82273112,
           4.36412573,
           "Campanile Nîmes Centre Mas-Carbonnel",
           "https://www.booking.com/hotel/fr/campanile-nimes-centre-mas-carbonnel.fr.html?label=gen173nr-1FCAEoggI46AdIDVgEaE2IAQGYAQ24ARfIAQ_YAQHoAQH4AQKIAgGoAgO4AtSJ4pIGwAIB0gIkMWMyOTgzZDEtZjVkYS00NmJhLWFiOTctNTM5MmFiZTgyZjVl2AIF4AIB&sid=c0f0407a1e2da13c863358a90e64eb78&aid=304142&ucfs=1&arphpl=1&group_adults=2&req_adults=2&no_rooms=1&group_children=0&req_children=0&hpos=14&hapos=14&sr_order=popularity&srpvid=d8cd9076a0d30059&srepoch=1649968365&from=searchresults#hotelTmpl",
           "Doté d'une connexion Wi-Fi gratuite, le Campanile Nîmes Centre Mas-Carbonnel est un hôtel 3 étoiles proposant des hébergements à Nîmes, à moins de 20 minutes de marche de la gare, de la Maison Carrée et des arènes de la ville. Sa réception est ouverte 24h/24, et des journaux quotidiens sont disponibles.Les chambres sont climatisées et disposent d'un plateau/bouilloire. Leur salle de bains privative est pourvue d'une baignoire ou d'une douche.Vous pourrez regarder les chaînes RMC Sport dans votre chambre et dans le salon de l'hôtel. Une salle de sport est disponible à moins de 1 minute de marche.Le Campanile Nîmes Centre Mas-Carbonnel est à 45 minutes de route des plages de La Grande-Motte et du Grau-du-Roi. Vous pourrez profiter d'un parking privé sécurisé moyennant des frais supplémentaires. Des places de stationnement en bord de rue sont disponibles gratuitement à proximité. ",
           72.05142857142857,
           24
          ],
          [
           43.83542065,
           4.36340421,
           "Novotel Atria Nimes Centre",
           "https://www.booking.com/hotel/fr/atria-nimes-centre.fr.html?label=gen173nr-1FCAEoggI46AdIDVgEaE2IAQGYAQ24ARfIAQ_YAQHoAQH4AQKIAgGoAgO4AtSJ4pIGwAIB0gIkMWMyOTgzZDEtZjVkYS00NmJhLWFiOTctNTM5MmFiZTgyZjVl2AIF4AIB&sid=c0f0407a1e2da13c863358a90e64eb78&aid=304142&ucfs=1&arphpl=1&group_adults=2&req_adults=2&no_rooms=1&group_children=0&req_children=0&hpos=15&hapos=15&sr_order=popularity&srpvid=d8cd9076a0d30059&srepoch=1649968365&from=searchresults#hotelTmpl",
           "Le Novotel Atria Nîmes Centre vous accueille dans le centre-ville de Nîmes, à quelques minutes de la gare, des célèbres arènes romaines et de la place principale.Le Novotel Atria Nîmes Centre convient aux voyageurs d’affaires et aux vacanciers. Il comporte 119 chambres confortables et climatisées, un restaurant, un bar ainsi que 9 salles de conférence idéales pour les réunions et les séminaires.Un petit-déjeuner buffet est servi tous les jours et le restaurant de l’hôtel propose une cuisine française. Vous pourrez vous détendre au bar, qui propose des boissons et des collations.Récompensé pour son respect de l’environnement, cet hôtel moderne et bien entretenu vous propose un service attentionné. ",
           72.05142857142857,
           24
          ],
          [
           43.841024,
           4.359022,
           "Chez Pepito et Chez Zaza Rooftop",
           "https://www.booking.com/hotel/fr/chez-pepito.fr.html?label=gen173nr-1FCAEoggI46AdIDVgEaE2IAQGYAQ24ARfIAQ_YAQHoAQH4AQKIAgGoAgO4AtSJ4pIGwAIB0gIkMWMyOTgzZDEtZjVkYS00NmJhLWFiOTctNTM5MmFiZTgyZjVl2AIF4AIB&sid=c0f0407a1e2da13c863358a90e64eb78&aid=304142&ucfs=1&arphpl=1&group_adults=2&req_adults=2&no_rooms=1&group_children=0&req_children=0&hpos=16&hapos=16&sr_order=popularity&srpvid=d8cd9076a0d30059&srepoch=1649968365&from_sustainable_property_sr=1&from=searchresults#hotelTmpl",
           "Doté d'une terrasse et offrant une vue sur la ville, l'établissement Chez Pepito et Chez Zaza Rooftop propose des hébergements à Nîmes, à proximité de la cathédrale, de l'école des beaux-arts et de la Maison Carree. La connexion Wi-Fi est gratuite. Un parking privé est disponible sur place.Tous les logements disposent d'une télévision par satellite à écran plat, de matériel de repassage, d'une armoire et d'un coin salon avec canapé. Leur cuisine est équipée d'un lave-vaisselle et d'un micro-ondes. Leur salle de bains privative est pourvue d'une douche, d'un sèche-cheveux et d'articles de toilette gratuits.Vous séjournerez à proximité de la bibliothèque Carré d'Art, du musée d'art contemporain et des jardins de la Fontaine. L'aéroport de Nîmes-Alès-Camargue-Cévennes, le plus proche, est implanté à 16 km. ",
           72.05142857142857,
           24
          ],
          [
           43.83959476,
           4.3610841,
           "Best Western Marquis de la Baume",
           "https://www.booking.com/hotel/fr/ha-tel-la-baume.fr.html?label=gen173nr-1FCAEoggI46AdIDVgEaE2IAQGYAQ24ARfIAQ_YAQHoAQH4AQKIAgGoAgO4AtSJ4pIGwAIB0gIkMWMyOTgzZDEtZjVkYS00NmJhLWFiOTctNTM5MmFiZTgyZjVl2AIF4AIB&sid=c0f0407a1e2da13c863358a90e64eb78&aid=304142&ucfs=1&arphpl=1&group_adults=2&req_adults=2&no_rooms=1&group_children=0&req_children=0&hpos=17&hapos=17&sr_order=popularity&srpvid=d8cd9076a0d30059&srepoch=1649968365&from=searchresults#hotelTmpl",
           "Situé dans le centre de la ville historique de Nîmes, le Best Western Marquis de la Baume occupe une maison de ville du XVIIe siècle, à seulement 3,7 km du parc des expositions de Nîmes et à 650 mètres des arènes. Une connexion est accessible gratuitement.Les chambres disposent de la climatisation, d'une télévision par satellite à écran plat, d'un minibar, ainsi que d'une bouilloire électrique. Leur salle de bains privative est munie d'une baignoire ou d'une douche, d'un sèche-cheveux et d'articles de toilette gratuits.Un petit-déjeuner buffet vous sera servi tous les jours dans le confort de votre chambre ou dans le patio intérieur, par beau temps.L'établissement possède aussi une réception ouverte 24h/24 et un bar.L'hôtel n'est qu'à 10 minutes à pied du Colisée et de la tour Magne. Un parking public est disponible à proximité. ",
           72.05142857142857,
           24
          ],
          [
           43.831676,
           4.3602026,
           "Appart charme Arenes Nimes",
           "https://www.booking.com/hotel/fr/appart-charme-arenes-nimes.fr.html?label=gen173nr-1FCAEoggI46AdIDVgEaE2IAQGYAQ24ARfIAQ_YAQHoAQH4AQKIAgGoAgO4AtSJ4pIGwAIB0gIkMWMyOTgzZDEtZjVkYS00NmJhLWFiOTctNTM5MmFiZTgyZjVl2AIF4AIB&sid=c0f0407a1e2da13c863358a90e64eb78&aid=304142&ucfs=1&arphpl=1&group_adults=2&req_adults=2&no_rooms=1&group_children=0&req_children=0&hpos=18&hapos=18&sr_order=popularity&srpvid=d8cd9076a0d30059&srepoch=1649968365&from=searchresults#hotelTmpl",
           "Doté d'une connexion Wi-Fi gratuite et offrant une vue sur le jardin, l'Appart charme Arènes Nîmes vous accueille à Nîmes, à seulement 1,6 km du parc des expositions de Nîmes et à 400 mètres du palais de justice. La mairie de Nîmes et l'école des Beaux-Arts sont accessibles en moins de 8 minutes à pied depuis l'appartement. Un parking sécurisé gratuit est présent.L'appartement dispose de 2 chambres climatisées et d'une cuisine entièrement équipée avec un lave-vaisselle. Il comprend également une salle de bains avec baignoire.Vous rejoindrez la bibliothèque Carré d'Art en 10 minutes à pied. Enfin, l'aéroport de Nimes-Ales-Camargue-Cevennes est distant de 9 km. ",
           72.05142857142857,
           24
          ],
          [
           43.8388343,
           4.3699188,
           "Appartement Spacieux de Grand Standing",
           "https://www.booking.com/hotel/fr/appartement-spacieux-de-grand-standing-de-200-m2.fr.html?label=gen173nr-1FCAEoggI46AdIDVgEaE2IAQGYAQ24ARfIAQ_YAQHoAQH4AQKIAgGoAgO4AtSJ4pIGwAIB0gIkMWMyOTgzZDEtZjVkYS00NmJhLWFiOTctNTM5MmFiZTgyZjVl2AIF4AIB&sid=c0f0407a1e2da13c863358a90e64eb78&aid=304142&ucfs=1&arphpl=1&group_adults=2&req_adults=2&no_rooms=1&group_children=0&req_children=0&hpos=19&hapos=19&sr_order=popularity&srpvid=d8cd9076a0d30059&srepoch=1649968365&from=searchresults#hotelTmpl",
           "Cet établissement est à 1 minute à pied de la plage. Situé à Nîmes, à 3,5 km du parc des expositions et à 1,4 km de la cathédrale, L'Appartement Spacieux de Grand Standing propose un hébergement avec une connexion Wi-Fi gratuite, la climatisation, un salon commun et un barbecue. Vous aurez accès à un billard, une table de ping-pong et un parking privé gratuit.L'appartement comprend 3 chambres, une salle de bains, du linge de lit, des serviettes, une télévision à écran plat, un coin repas, une cuisine entièrement équipée et une terrasse avec vue sur la ville.Vous pourrez faire du vélo dans les environs ou profiter de la terrasse bien exposée.Vous séjournerez à proximité de l'école des beaux-arts de Nîmes, de la Maison Carree et de la place de l'Horloge. L'aéroport de Nîmes-Alès-Camargue-Cévennes, le plus proche, est implanté à 14 km. ",
           72.05142857142857,
           24
          ],
          [
           43.8302457,
           4.3644799,
           "Appart Cosy, Mezzanine Clim et Terrasse à 200m de la Gare",
           "https://www.booking.com/hotel/fr/appart-cosy-avec-mezzanine-et-belle-terrasse-a-200-m-de-la-gare.fr.html?label=gen173nr-1FCAEoggI46AdIDVgEaE2IAQGYAQ24ARfIAQ_YAQHoAQH4AQKIAgGoAgO4AtSJ4pIGwAIB0gIkMWMyOTgzZDEtZjVkYS00NmJhLWFiOTctNTM5MmFiZTgyZjVl2AIF4AIB&sid=c0f0407a1e2da13c863358a90e64eb78&aid=304142&ucfs=1&arphpl=1&group_adults=2&req_adults=2&no_rooms=1&group_children=0&req_children=0&hpos=20&hapos=20&sr_order=popularity&srpvid=d8cd9076a0d30059&srepoch=1649968365&from=searchresults#hotelTmpl",
           "Situé à Nîmes, à 1,7 km du parc des expositions et à 500 mètres du musée des beaux-arts, l'Appart Cosy avec Mezzanine et Belle Terrasse - L'établissement à 200 m de la Gare propose des hébergements avec une connexion Wi-Fi gratuite, la climatisation et une terrasse. Offrant une vue sur la ville, il se trouve à 700 mètres du palais de justice de Nîmes et à moins de 1 km de l'esplanade Charles-de-Gaulle.Cet appartement comprend 2 chambres, une télévision à écran plat, un coin salon et une salle de bains pourvue d'une douche. Sa cuisine est équipée d'un lave-vaisselle et d'un micro-ondes. Les serviettes et le linge de lit sont fournis.Vous séjournerez à proximité de l'hôtel de ville, de l'école des beaux-arts et de la cathédrale de Nîmes. L'aéroport de Nîmes-Alès-Camargue-Cévennes, le plus proche, est à 12 km. ",
           72.05142857142857,
           24
          ],
          [
           48.88639354,
           2.29494631,
           "Hôtel de Banville",
           "https://www.booking.com/hotel/fr/hoteldebanvilleparis.fr.html?label=gen173nr-1FCAEoggI46AdIDVgEaE2IAQGYAQ24ARfIAQ_YAQHoAQH4AQKIAgGoAgO4AtSJ4pIGwAIB0gIkMWMyOTgzZDEtZjVkYS00NmJhLWFiOTctNTM5MmFiZTgyZjVl2AIF4AIB&sid=c0f0407a1e2da13c863358a90e64eb78&aid=304142&ucfs=1&arphpl=1&group_adults=2&req_adults=2&no_rooms=1&group_children=0&req_children=0&hpos=1&hapos=1&sr_order=popularity&srpvid=32eb90718f460435&srepoch=1649968356&from=searchresults#hotelTmpl",
           "Vous pouvez bénéficier d'une réduction Genius dans l'établissement Hôtel de Banville ! Connectez-vous pour économiser.L’Hôtel de Banville est situé à seulement 15 minutes à pied des Champs-Élysées et de l'Arc de Triomphe. Il vous propose des hébergements modernes, dotés d’une connexion Wi-Fi gratuite.Toutes les chambres disposent d'une salle de bains privative et certaines possèdent un balcon ou offrent une vue sur la tour Eiffel. Insonorisées, elles sont équipées de la climatisation et d'une télévision à écran plat.Un petit-déjeuner buffet composé de viennoiseries faites maison est servi tous les jours dans le hall. Vous pourrez également vous détendre près de la cheminée du bar.L'Hôtel de Banville est situé à 2 minutes à pied des restaurants de la place du Maréchal-Juin et à proximité du centre de conventions de la Porte Maillot et de l'Espace Champerret. Vous séjournerez à 100 mètres de la station de métro Porte de Champerret. Des transferts aéroport privés peuvent être organisés auprès de la réception ouverte 24h/24. ",
           72.06,
           5
          ],
          [
           48.87434515,
           2.28977568,
           "Room Mate Alain - Champs-Elysées",
           "https://www.booking.com/hotel/fr/d-argentine.fr.html?label=gen173nr-1FCAEoggI46AdIDVgEaE2IAQGYAQ24ARfIAQ_YAQHoAQH4AQKIAgGoAgO4AtSJ4pIGwAIB0gIkMWMyOTgzZDEtZjVkYS00NmJhLWFiOTctNTM5MmFiZTgyZjVl2AIF4AIB&sid=c0f0407a1e2da13c863358a90e64eb78&aid=304142&ucfs=1&arphpl=1&group_adults=2&req_adults=2&no_rooms=1&group_children=0&req_children=0&hpos=2&hapos=2&sr_order=popularity&srpvid=32eb90718f460435&srepoch=1649968356&from_sustainable_property_sr=1&from=searchresults#hotelTmpl",
           "Vous pouvez bénéficier d'une réduction Genius dans l'établissement Room Mate Alain - Champs-Elysées ! Connectez-vous pour économiser.Situé à 7 minutes de marche de l’avenue des Champs-Élysées, le boutique hôtel Room Mate Alain - Champs-Elysées occupe une maison de ville parisienne. Il met à votre disposition un spa, une salle de sport, un bar et un restaurant. Une connexion Wi-Fi est accessible gratuitement dans tout l’établissement.Décorées dans des tons neutres, les chambres lumineuses du Room Mate Alain - Champs-Elysées sont dotées d'une télévision à écran LCD ainsi que d'un minibar. Chacune possède une salle de bains privative en marbre et certaines bénéficient d’un balcon privé donnant sur l’avenue Foch.Le petit-déjeuner est servi chaque matin dans le bar-salon, orné de lustres en verre de Murano.L’établissement se trouve à 100 mètres de la station de métro Argentine qui permet un accès direct à la place de la Concorde, au musée du Louvre et au quartier du Marais. Les voyageurs d’affaires seront ravis d’apprendre que le Palais des Congrès de la Porte Maillot n’est qu’à 10 minutes à pied. ",
           72.06,
           5
          ],
          [
           48.88129894,
           2.29480304,
           "Westside Arc de Triomphe Hotel",
           "https://www.booking.com/hotel/fr/westside-arc-de-triomphe.fr.html?label=gen173nr-1FCAEoggI46AdIDVgEaE2IAQGYAQ24ARfIAQ_YAQHoAQH4AQKIAgGoAgO4AtSJ4pIGwAIB0gIkMWMyOTgzZDEtZjVkYS00NmJhLWFiOTctNTM5MmFiZTgyZjVl2AIF4AIB&sid=c0f0407a1e2da13c863358a90e64eb78&aid=304142&ucfs=1&arphpl=1&group_adults=2&req_adults=2&no_rooms=1&group_children=0&req_children=0&hpos=3&hapos=3&sr_order=popularity&srpvid=32eb90718f460435&srepoch=1649968356&from=searchresults#hotelTmpl",
           "Doté d’un bar-salon, le Westside Arc de Triomphe Hotel propose des hébergements dans une petite rue de l’élégant 17ème arrondissement de Paris, à 12 minutes de marche de l’Arc de Triomphe et de la célèbre avenue des Champs-Élysées. Une connexion Wi-Fi est disponible gratuitement.Toutes les chambres sont climatisées et disposent d’une télévision par satellite à écran LED disponible gratuitement. Certaines offrent une vue sur le 17ème arrondissement ou les toits de Paris. Un plateau de courtoisie est fourni.Le petit-déjeuner peut être servi en chambre ou sous forme de buffet. Vous pourrez également prendre un verre au bar ou passer commande via le service d'étage tout au long de la journée.Un service de concierge et un bureau d’excursions sont à votre disposition pour organiser vos visites et excursions. La station de métro Pereire, située à 500 mètres, vous permettra de rejoindre directement le musée du Louvre. Le Westside Arc de Triomphe Hotel est à 1 km du palais des congrès de Paris. Vous trouverez un parking public à proximité. ",
           72.06,
           5
          ],
          [
           48.8381576,
           2.3496155,
           "Hotel de L'Esperance",
           "https://www.booking.com/hotel/fr/de-l-39-esperance.fr.html?label=gen173nr-1FCAEoggI46AdIDVgEaE2IAQGYAQ24ARfIAQ_YAQHoAQH4AQKIAgGoAgO4AtSJ4pIGwAIB0gIkMWMyOTgzZDEtZjVkYS00NmJhLWFiOTctNTM5MmFiZTgyZjVl2AIF4AIB&sid=c0f0407a1e2da13c863358a90e64eb78&aid=304142&ucfs=1&arphpl=1&group_adults=2&req_adults=2&no_rooms=1&group_children=0&req_children=0&hpos=4&hapos=4&sr_order=popularity&srpvid=32eb90718f460435&srepoch=1649968356&from=searchresults#hotelTmpl",
           "Vous pouvez bénéficier d'une réduction Genius dans l'établissement Hotel de L'Esperance ! Connectez-vous pour économiser.Situé à 2 minutes à pied de la très animée rue Mouffetard à Paris, l'Hôtel de l'Espérance dispose d'une cour intérieure. Vous rejoindrez la place Monge et le Quartier latin en 10 minutes de marche et vous profiterez d'une connexion Wi-Fi gratuite dans tout l'établissement.Chaque chambre climatisée est équipée d'une télévision à écran plat et d'une salle de bains privative avec baignoire ou douche.L’Hôtel de L'Espérance possède une réception ouverte 24h/24 et une bagagerie et assure un service de concierge. Vous profiterez aussi de distributeurs automatiques de collations et de boissons.En outre, il assure un service de location de voitures. La station de métro Censier-Daubenton se trouve à 350 mètres de l'hôtel. Elle permet de rejoindre le centre de Paris en 20 minutes par les transports en commun. Le quartier animé de la Butte-aux-Cailles est situé à 1,5 km. ",
           72.06,
           5
          ],
          [
           48.84659045,
           2.28857003,
           "Hotel Korner Eiffel",
           "https://www.booking.com/hotel/fr/idealhotel.fr.html?label=gen173nr-1FCAEoggI46AdIDVgEaE2IAQGYAQ24ARfIAQ_YAQHoAQH4AQKIAgGoAgO4AtSJ4pIGwAIB0gIkMWMyOTgzZDEtZjVkYS00NmJhLWFiOTctNTM5MmFiZTgyZjVl2AIF4AIB&sid=c0f0407a1e2da13c863358a90e64eb78&aid=304142&ucfs=1&arphpl=1&group_adults=2&req_adults=2&no_rooms=1&group_children=0&req_children=0&hpos=5&hapos=5&sr_order=popularity&srpvid=32eb90718f460435&srepoch=1649968356&from_sustainable_property_sr=1&from=searchresults#hotelTmpl",
           "L’Hotel Korner Eiffel se trouve à 20 minutes de marche de la tour Eiffel. Une connexion Wi-Fi est disponible gratuitement dans tout l'établissement. Des boissons chaudes gratuites vous seront servies à l'arrivée.Sobrement décorées, les chambres sont dotées d’une télévision par satellite à écran plat avec les chaînes Canal+, d’un coffre-fort et d’un sèche-cheveux. Elles sont toutes accessibles par un ascenseur.Un petit-déjeuner buffet est servi tous les jours à partir de 4h00. Il se compose de confitures maison, de différentes sortes de thés ainsi que d'une machine à café Nespresso.La réception de l'Hotel Korner Eiffel est ouverte 24h/24. Vous pourrez faire vos achats au centre commercial Beaugrenelle et dans la rue du Commerce, à 500 mètres.La station de métro Charles Michels, située à 2 minutes à pied, vous permettra de rejoindre directement le quartier Latin. Le parc des expositions de Paris-Porte de Versailles vous attend à 2 km. La station de métro Dupleix se trouve à 8 minutes de marche. Elle permet d'accéder directement à l'avenue des Champs-Élysées via la ligne 6. ",
           72.06,
           5
          ],
          [
           48.88133015,
           2.32741512,
           "Le Grey Hotel",
           "https://www.booking.com/hotel/fr/grey.fr.html?label=gen173nr-1FCAEoggI46AdIDVgEaE2IAQGYAQ24ARfIAQ_YAQHoAQH4AQKIAgGoAgO4AtSJ4pIGwAIB0gIkMWMyOTgzZDEtZjVkYS00NmJhLWFiOTctNTM5MmFiZTgyZjVl2AIF4AIB&sid=c0f0407a1e2da13c863358a90e64eb78&aid=304142&ucfs=1&arphpl=1&group_adults=2&req_adults=2&no_rooms=1&group_children=0&req_children=0&hpos=6&hapos=6&sr_order=popularity&srpvid=32eb90718f460435&srepoch=1649968356&from=searchresults#hotelTmpl",
           "Vous pouvez bénéficier d'une réduction Genius dans l'établissement Le Grey Hotel ! Connectez-vous pour économiser.Situé à mi-chemin entre l'opéra Garnier et le quartier Montmartre, le Grey Hôtel est un boutique hôtel proposant des chambres élégantes avec une connexion Wi-Fi gratuite et une télévision à écran LCD. Il comporte une bagagerie et une réception ouverte 24h/24.Desservies par un ascenseur, les chambres à la décoration contemporaine sont climatisées. Elles possèdent une salle de bains pourvue d’une douche à effet pluie ou d’une baignoire et d’articles de toilette gratuits. Les chambres non-fumeurs et insonorisées comprennent un coffre-fort et un minibar.Vous pourrez savourer un petit-déjeuner buffet continental le matin. L’hôtel compte un salon et un bar. Du thé, du café et des collations sont servis gratuitement tout au long de la journée. Un service d'étage est assuré et vous trouverez de nombreuses brasseries et restaurants dans les environs.Le Grey Hotel se trouve à 20 minutes à pied des grands magasins. Implantée à 100 mètres, la station de métro Liège vous permettra de rejoindre les Champs-Élysées et l’opéra Garnier en 15 minutes. La gare Saint-Lazare est, quant à elle, à 500 mètres de l’hôtel. ",
           72.06,
           5
          ],
          [
           48.86601094,
           2.35709757,
           "Austin's Arts Et Metiers Hotel",
           "https://www.booking.com/hotel/fr/austin-s-arts-et-metiers.fr.html?label=gen173nr-1FCAEoggI46AdIDVgEaE2IAQGYAQ24ARfIAQ_YAQHoAQH4AQKIAgGoAgO4AtSJ4pIGwAIB0gIkMWMyOTgzZDEtZjVkYS00NmJhLWFiOTctNTM5MmFiZTgyZjVl2AIF4AIB&sid=c0f0407a1e2da13c863358a90e64eb78&aid=304142&ucfs=1&arphpl=1&group_adults=2&req_adults=2&no_rooms=1&group_children=0&req_children=0&hpos=7&hapos=7&sr_order=popularity&srpvid=32eb90718f460435&srepoch=1649968356&from_sustainable_property_sr=1&from=searchresults#hotelTmpl",
           "Vous pouvez bénéficier d'une réduction Genius dans l'établissement Austin's Arts Et Metiers Hotel ! Connectez-vous pour économiser.L’Austin’s Hotel est situé dans le quartier du Marais, dans le centre de Paris, à 500 mètres de la place de la République et à 600 mètres du centre Pompidou. L’hôtel dispose d’une réception ouverte 24h/24 qui propose des ordinateurs avec connexion Internet gratuite.Toutes les chambres insonorisées de l’Austin’s Arts Et Metiers Hotel disposent de la climatisation, d’une télévision par satellite à écran plat et d’une connexion Wi-Fi gratuite.L’hôtel sert un petit-déjeuner continental que vous pourrez déguster dans la salle de petit-déjeuner ou dans le confort de votre chambre. Un plateau de courtoisie avec du thé, du café et du lait est mis à disposition dans chaque chambre.L'Austin's Arts Et Metiers Hotel se trouve à 30 mètres de la station de métro Arts & Métiers. De là, vous pourrez rejoindre les stations de métro Hôtel de Ville et Opéra en 10 minutes. ",
           72.06,
           5
          ],
          [
           48.8592568,
           2.3684085,
           "Grand Hôtel Amelot",
           "https://www.booking.com/hotel/fr/grand-amelot-paris4.fr.html?label=gen173nr-1FCAEoggI46AdIDVgEaE2IAQGYAQ24ARfIAQ_YAQHoAQH4AQKIAgGoAgO4AtSJ4pIGwAIB0gIkMWMyOTgzZDEtZjVkYS00NmJhLWFiOTctNTM5MmFiZTgyZjVl2AIF4AIB&sid=c0f0407a1e2da13c863358a90e64eb78&aid=304142&ucfs=1&arphpl=1&group_adults=2&req_adults=2&no_rooms=1&group_children=0&req_children=0&hpos=8&hapos=8&sr_order=popularity&srpvid=32eb90718f460435&srepoch=1649968356&from_sustainable_property_sr=1&from=searchresults#hotelTmpl",
           "Vous pouvez bénéficier d'une réduction Genius dans l'établissement Grand Hôtel Amelot ! Connectez-vous pour économiser.Situé dans le 11ème arrondissement de Paris, à 5 minutes à pied du quartier du Marais et de la Place des Vosges, le Grand Hôtel Amelot propose une réception ouverte 24h/24, une bagagerie et un service de concierge.Toutes ses chambres climatisées disposent d'une télévision à écran plat, d'un coffre-fort et d'une armoire. Leur salle de bains privative est pourvue d'une baignoire ou d'une douche.Un petit-déjeuner vous servi chaque matin au Grand Hôtel Amelot. De nombreux restaurants vous accueilleront à quelques minutes à pied.Vous profiterez d'une connexion Wi-Fi gratuite dans l'ensemble de l'établissement. Il vous sera possible de vous garer dans un parking privé à proximité. Enfin, vous rejoindrez directement la tour Eiffel et l'opéra Garnier depuis la station de métro Chemin Vert, située à 240 mètres de l'hôtel. ",
           72.06,
           5
          ],
          [
           48.85158544,
           2.39082724,
           "Grand Hotel Francais",
           "https://www.booking.com/hotel/fr/hotelfrancais.fr.html?label=gen173nr-1FCAEoggI46AdIDVgEaE2IAQGYAQ24ARfIAQ_YAQHoAQH4AQKIAgGoAgO4AtSJ4pIGwAIB0gIkMWMyOTgzZDEtZjVkYS00NmJhLWFiOTctNTM5MmFiZTgyZjVl2AIF4AIB&sid=c0f0407a1e2da13c863358a90e64eb78&aid=304142&ucfs=1&arphpl=1&group_adults=2&req_adults=2&no_rooms=1&group_children=0&req_children=0&hpos=9&hapos=9&sr_order=popularity&srpvid=32eb90718f460435&srepoch=1649968356&from_sustainable_property_sr=1&from=searchresults#hotelTmpl",
           "Le Grand Hotel Français est un hôtel design situé dans le centre de Paris, à moins de 15 minutes à pied du cimetière du Père Lachaise et à 500 mètres de la place de la Nation. Ses chambres climatisées sont dotées d'une connexion Wi-Fi gratuite.Les chambres insonorisées du Grand Hôtel Français sont toutes décorées de manière unique. Elles sont pourvues d'une télévision par satellite à écran plat, ainsi que d'une salle de bains privative avec douche d'hydromassage ou à l'italienne.L'hôtel possède une réception ouverte 24h/24, un ascenseur et un bar.Le Grand Hôtel Français se trouve à 150 mètres de la station de métro Rue des Boulets et à 500 mètres de la station de métro et de RER Nation. ",
           72.06,
           5
          ],
          [
           48.88141526,
           2.32455321,
           "Hotel Elysees Opera",
           "https://www.booking.com/hotel/fr/america.fr.html?label=gen173nr-1FCAEoggI46AdIDVgEaE2IAQGYAQ24ARfIAQ_YAQHoAQH4AQKIAgGoAgO4AtSJ4pIGwAIB0gIkMWMyOTgzZDEtZjVkYS00NmJhLWFiOTctNTM5MmFiZTgyZjVl2AIF4AIB&sid=c0f0407a1e2da13c863358a90e64eb78&aid=304142&ucfs=1&arphpl=1&group_adults=2&req_adults=2&no_rooms=1&group_children=0&req_children=0&hpos=10&hapos=10&sr_order=popularity&srpvid=32eb90718f460435&srepoch=1649968356&from=searchresults#hotelTmpl",
           "Vous pouvez bénéficier d'une réduction Genius dans l'établissement Hotel Elysees Opera ! Connectez-vous pour économiser.Situé dans le très chic 8ème arrondissement de Paris, cet hôtel propose des chambres modernes dotées d’un balcon. Il dispose d’une réception ouverte 24h/24, d’un bureau d'excursions et d’un service de billetterie.Décorées avec simplicité, toutes les chambres insonorisées comprennent une télévision par câble à écran plat et une connexion Wi-Fi gratuite. Leur salle de bains privative est pourvue d’un sèche-cheveux.L’Elysees Opera Hotel vous servira chaque matin un petit-déjeuner buffet dans une salle dédiée. Vous pourrez prendre un verre au bar tout en lisant les journaux mis à votre disposition. Un service d’étage est en outre assuré.La station de métro Rome, à 350 mètres de l’Elysees Opera, permet de rejoindre le Moulin Rouge. Le parc Monceau se trouve à seulement 15 minutes à pied. Un service de navette aéroport pourra être organisé sur demande. ",
           72.06,
           5
          ],
          [
           48.87606691,
           2.34567493,
           "Hotel Petit Lafayette",
           "https://www.booking.com/hotel/fr/holiday-villa-lafayette-paris.fr.html?label=gen173nr-1FCAEoggI46AdIDVgEaE2IAQGYAQ24ARfIAQ_YAQHoAQH4AQKIAgGoAgO4AtSJ4pIGwAIB0gIkMWMyOTgzZDEtZjVkYS00NmJhLWFiOTctNTM5MmFiZTgyZjVl2AIF4AIB&sid=c0f0407a1e2da13c863358a90e64eb78&aid=304142&ucfs=1&arphpl=1&group_adults=2&req_adults=2&no_rooms=1&group_children=0&req_children=0&hpos=11&hapos=11&sr_order=popularity&srpvid=32eb90718f460435&srepoch=1649968356&from_sustainable_property_sr=1&from=searchresults#hotelTmpl",
           "Vous pouvez bénéficier d'une réduction Genius dans l'établissement Hotel Petit Lafayette ! Connectez-vous pour économiser.L'Hotel Petit Lafayette est situé au cœur de Paris, entre le boulevard Montmartre et la rue Lafayette, près de la station de métro Cadet. Il vous propose des hébergements modernes.Les chambres disposent d'une salle de bains privative, d'un bureau, d'une télévision par satellite et d'une connexion Wi-Fi gratuite.Un petit-déjeuner complet est servi tous les matins.L'hôtel se trouve à quelques pas du célèbre Opéra Garnier et de grands magasins tels que le Printemps et les Galeries Lafayette. Enfin, l'Hotel Petit Lafayette est installé à 1 km de la Gare du Nord et de la Gare de l'Est. ",
           72.06,
           5
          ],
          [
           48.85057501,
           2.26743221,
           "HotelHome Paris 16",
           "https://www.booking.com/hotel/fr/residencejasmin.fr.html?label=gen173nr-1FCAEoggI46AdIDVgEaE2IAQGYAQ24ARfIAQ_YAQHoAQH4AQKIAgGoAgO4AtSJ4pIGwAIB0gIkMWMyOTgzZDEtZjVkYS00NmJhLWFiOTctNTM5MmFiZTgyZjVl2AIF4AIB&sid=c0f0407a1e2da13c863358a90e64eb78&aid=304142&ucfs=1&arphpl=1&group_adults=2&req_adults=2&no_rooms=1&group_children=0&req_children=0&hpos=12&hapos=12&sr_order=popularity&srpvid=32eb90718f460435&srepoch=1649968356&from_sustainable_property_sr=1&from=searchresults#hotelTmpl",
           "Vous pouvez bénéficier d'une réduction Genius dans l'établissement HotelHome Paris 16 ! Connectez-vous pour économiser.L'HotelHome Paris 16 est situé dans le XVIème arrondissement de Paris, à 1,5 km du Bois de Boulogne. Il propose des appartements climatisés dotés d'une connexion Wi-Fi gratuite.Les appartements de l'HotelHome Paris 16 disposent d'un coin salon avec une télévision par satellite et d'une cuisine ou d'une kitchenette avec four micro-ondes, réfrigérateur et bouilloire. Ils disposent également d'un coin repas et d'une salle de bains moderne avec baignoire ou douche.Vous pourrez profiter du jardin et de la terrasse de cette résidence pendant votre séjour. Une blanchisserie est également disponible au sous-sol de l'immeuble.Le personnel de la réception de l'hôtel vous propose d'organiser des services de garde d'enfants et de faire des réservations pour le dîner et vos sorties touristiques.L'HotelHome Paris 16 se trouve à 300 mètres de la station de métro Jasmin, qui offre un accès direct à la Tour Eiffel et aux Champs-Élysées. La Seine est à 800 mètres et le parc André Citroën est à 20 minutes de marche de l'hôtel. ",
           72.06,
           5
          ],
          [
           48.8644438,
           2.3648845,
           "Sweet Inn - Turenne",
           "https://www.booking.com/hotel/fr/sweet-inn-le-marais-turenne.fr.html?label=gen173nr-1FCAEoggI46AdIDVgEaE2IAQGYAQ24ARfIAQ_YAQHoAQH4AQKIAgGoAgO4AtSJ4pIGwAIB0gIkMWMyOTgzZDEtZjVkYS00NmJhLWFiOTctNTM5MmFiZTgyZjVl2AIF4AIB&sid=c0f0407a1e2da13c863358a90e64eb78&aid=304142&ucfs=1&arphpl=1&group_adults=2&req_adults=2&no_rooms=1&group_children=0&req_children=0&hpos=13&hapos=13&sr_order=popularity&srpvid=32eb90718f460435&srepoch=1649968356&from=searchresults#hotelTmpl",
           "Vous pouvez bénéficier d'une réduction Genius dans l'établissement Sweet Inn - Turenne ! Connectez-vous pour économiser.Situé dans le centre de Paris, à moins de 1,4 km du centre Pompidou et à 1,6 km de l'opéra Bastille, le Sweet Inn - Turenne propose des hébergements avec connexion Wi-Fi gratuite.Tous les logements comprennent un canapé, un coin salon, une télévision à écran plat, une cuisine bien équipée avec un coin repas, un coffre-fort et une salle de bains privative pourvue d'un sèche-cheveux. Un lave-vaisselle, un micro-ondes, un réfrigérateur, une bouilloire et une machine à café sont également fournis.Vous séjournerez à 2,9 km de la Sainte-Chapelle et à 3,1 km du musée du Louvre. L'aéroport de Paris-Orly, le plus proche, est implanté à 16 km. ",
           72.06,
           5
          ],
          [
           48.851244,
           2.327238,
           "Hotel Lutetia",
           "https://www.booking.com/hotel/fr/lutetia-paris12.fr.html?label=gen173nr-1FCAEoggI46AdIDVgEaE2IAQGYAQ24ARfIAQ_YAQHoAQH4AQKIAgGoAgO4AtSJ4pIGwAIB0gIkMWMyOTgzZDEtZjVkYS00NmJhLWFiOTctNTM5MmFiZTgyZjVl2AIF4AIB&sid=c0f0407a1e2da13c863358a90e64eb78&aid=304142&ucfs=1&arphpl=1&group_adults=2&req_adults=2&no_rooms=1&group_children=0&req_children=0&hpos=14&hapos=14&sr_order=popularity&srpvid=32eb90718f460435&srepoch=1649968356&from_sustainable_property_sr=1&from=searchresults#hotelTmpl",
           "L’Hotel Lutetia - The Leading Hotels of the World est un établissement de luxe emblématique situé dans le quartier de Saint-Germain-des-Prés à Paris. Implanté sur la rive gauche de la Seine, il se trouve à 5 minutes à pied du grand magasin Le Bon Marché et à 2 km du Musée du Louvre.Véritable lieu d’intérêt parisien, l’hôtel propose 184 chambres, dont 40 suites et 7 suites signature. Chacune d’entre elles dispose d’une connexion Wi-Fi gratuite, d’un système de divertissement Bang & Olufsen, d’une station multimédia et d’une salle de bains en marbre avec des articles de toilette Hermès gratuits. Certaines chambres comprennent un balcon donnant sur la tour Eiffel, tandis que certaines suites sont pourvues d’un toit-terrasse jouissant d’une vue à 360 ° sur Paris.Après une journée bien remplie, vous pourrez vous détendre dans le centre holistique de bien-être Akasha doté d’une salle de sport, d’un sauna, d’un hammam et d’une piscine intérieure de 17 mètres baignée de lumière naturelle. Par ailleurs, une large gamme de soins de spa est dispensée moyennant des frais supplémentaires.Plusieurs types de petits-déjeuners vous seront proposés chaque matin, y compris des formules sans gluten, halal, kasher et végétariennes. Pour le déjeuner et le dîner, vous pourrez vous rendre à la célèbre brasserie Lutetia ou au restaurant Saint-Germain. Vous aurez également accès à deux cours intérieures différentes, où vous aurez la possibilité de prendre un repas léger. L’hôtel dispose aussi d’un élégant salon à cigares et d’un bar de jazz conçu par Jean Michel Willmotte. ",
           72.06,
           5
          ],
          [
           48.846155,
           2.280192,
           "71 m with balcony and wifi near the Seine",
           "https://www.booking.com/hotel/fr/71-m-with-balcony-and-wifi-near-the-seine.fr.html?label=gen173nr-1FCAEoggI46AdIDVgEaE2IAQGYAQ24ARfIAQ_YAQHoAQH4AQKIAgGoAgO4AtSJ4pIGwAIB0gIkMWMyOTgzZDEtZjVkYS00NmJhLWFiOTctNTM5MmFiZTgyZjVl2AIF4AIB&sid=c0f0407a1e2da13c863358a90e64eb78&aid=304142&ucfs=1&arphpl=1&group_adults=2&req_adults=2&no_rooms=1&group_children=0&req_children=0&hpos=15&hapos=15&sr_order=popularity&srpvid=32eb90718f460435&srepoch=1649968356&from=searchresults#hotelTmpl",
           "Dans le 15e arr. Situé dans le quartier de Paris, à proximité de Paris Expo - Porte de Versailles, à 71 mètres d'un balcon et d'une connexion Wi-Fi gratuite, le Paris Expo - Porte de Versailles dispose d'un lave-linge. Cet appartement se trouve à 2,8 km du musée Rodin et à 3,3 km de l'Arc de Triomphe.Cet appartement comprend 2 chambres, une salle de bains, du linge de lit, des serviettes, une télévision, un coin repas, une cuisine entièrement équipée et un balcon avec vue sur la ville.Vous séjournerez à 1,7 km de la tour Eiffel et à 2,1 km du Parc des Princes. L'aéroport le plus proche, celui de Paris-Orly, est situé à 14 km. ",
           72.06,
           5
          ],
          [
           48.84700437,
           2.30141312,
           "Ibis Paris Tour Eiffel Cambronne 15ème",
           "https://www.booking.com/hotel/fr/ibis-paris-tour-eiffel.fr.html?label=gen173nr-1FCAEoggI46AdIDVgEaE2IAQGYAQ24ARfIAQ_YAQHoAQH4AQKIAgGoAgO4AtSJ4pIGwAIB0gIkMWMyOTgzZDEtZjVkYS00NmJhLWFiOTctNTM5MmFiZTgyZjVl2AIF4AIB&sid=c0f0407a1e2da13c863358a90e64eb78&aid=304142&ucfs=1&arphpl=1&group_adults=2&req_adults=2&no_rooms=1&group_children=0&req_children=0&hpos=16&hapos=16&sr_order=popularity&srpvid=32eb90718f460435&srepoch=1649968356&from=searchresults#hotelTmpl",
           "Situé dans le 15ème arrondissement de Paris, à seulement 15 minutes à pied de la tour Eiffel, l'ibis Paris Tour Eiffel dispose d'une réception ouverte 24h/24, d'une connexion Wi-Fi gratuite dans l'ensemble de ses locaux et d'une bagagerie. La station de métro Cambronne se trouve à 150 mètres seulement.Les chambres sont toutes pourvues d'une télévision par satellite à écran plat, d'une armoire, d'un bureau et d'un téléphone. Leur salle de bains privative comprend un sèche-cheveux.Un petit-déjeuner buffet, composé de plats sucrés et salés, comme des œufs, de la salade de fruits, des yaourts et des jus, est disponible chaque matin. Des viennoiseries cuites sur place et des madeleines fraîches sont aussi proposées, ainsi qu'une boisson chaude et un fruit à emporter. Un petit-déjeuner plus léger est servi à partir de 4h00.Les rives de la Seine et l'hôtel des Invalides sont accessibles en 15 minutes à pied. La station RER Champs de Mars située à 1 km de l'ibis Paris Tour Eiffel vous permettra de rejoindre directement le château de Versailles. ",
           72.06,
           5
          ],
          [
           48.8933961,
           2.3615899,
           "Home Suite Home Roses 2BR",
           "https://www.booking.com/hotel/fr/home-suite-home-roses-2br.fr.html?label=gen173nr-1FCAEoggI46AdIDVgEaE2IAQGYAQ24ARfIAQ_YAQHoAQH4AQKIAgGoAgO4AtSJ4pIGwAIB0gIkMWMyOTgzZDEtZjVkYS00NmJhLWFiOTctNTM5MmFiZTgyZjVl2AIF4AIB&sid=c0f0407a1e2da13c863358a90e64eb78&aid=304142&ucfs=1&arphpl=1&group_adults=2&req_adults=2&no_rooms=1&group_children=0&req_children=0&hpos=17&hapos=17&sr_order=popularity&srpvid=32eb90718f460435&srepoch=1649968356&from=searchresults#hotelTmpl",
           "Situé à Paris, à 1,6 km du Sacré-Cœur et à 2 km de la salle de concert La Cigale, le Home Suite Home Roses 2BR propose une connexion Wi-Fi gratuite et la climatisation.Cet appartement comprend 2 chambres, une télévision à écran plat, un coin salon et une salle de bains pourvue d'une douche. Sa cuisine est équipée d'un micro-ondes et d'un réfrigérateur.Vous séjournerez à 3,2 km de l'opéra Garnier et à 3,7 km du centre Pompidou. L'aéroport de Paris-Orly, le plus proche, est à 18 km. ",
           72.06,
           5
          ],
          [
           48.87911118,
           2.3277073,
           "Amazing apartment under the roof in Paris 8th",
           "https://www.booking.com/hotel/fr/amazing-apartment-under-the-roof-in-paris-8th.fr.html?label=gen173nr-1FCAEoggI46AdIDVgEaE2IAQGYAQ24ARfIAQ_YAQHoAQH4AQKIAgGoAgO4AtSJ4pIGwAIB0gIkMWMyOTgzZDEtZjVkYS00NmJhLWFiOTctNTM5MmFiZTgyZjVl2AIF4AIB&sid=c0f0407a1e2da13c863358a90e64eb78&aid=304142&ucfs=1&arphpl=1&group_adults=2&req_adults=2&no_rooms=1&group_children=0&req_children=0&hpos=18&hapos=18&sr_order=popularity&srpvid=32eb90718f460435&srepoch=1649968356&from=searchresults#hotelTmpl",
           "Offrant une vue sur la ville, l'Amazing apartment under the roof in Paris 8th est un hébergement situé à Paris, à moins de 1 km de la salle de concert La Cigale et à 17 minutes à pied du Sacré-Cœur. Situé à moins de 1 km de l'Opéra Garnier, il dispose d'une connexion Wi-Fi gratuite et d'une réception ouverte 24h/24.Cet appartement climatisé comprend 2 chambres, un salon, une cuisine entièrement équipée avec un micro-ondes et une bouilloire ainsi qu'une salle de bains pourvue d'une douche et d'un sèche-cheveux. Les serviettes et le linge de lit sont fournis.Vous séjournerez à 1,7 km du musée de l'Orangerie et à 1,8 km du jardin des Tuileries. L'aéroport de Paris-Orly, le plus proche, est implanté à 17 km. ",
           72.06,
           5
          ],
          [
           48.83028,
           2.341702,
           "Bright new apartment with wifi",
           "https://www.booking.com/hotel/fr/bright-new-apartment-with-wifi.fr.html?label=gen173nr-1FCAEoggI46AdIDVgEaE2IAQGYAQ24ARfIAQ_YAQHoAQH4AQKIAgGoAgO4AtSJ4pIGwAIB0gIkMWMyOTgzZDEtZjVkYS00NmJhLWFiOTctNTM5MmFiZTgyZjVl2AIF4AIB&sid=c0f0407a1e2da13c863358a90e64eb78&aid=304142&ucfs=1&arphpl=1&group_adults=2&req_adults=2&no_rooms=1&group_children=0&req_children=0&hpos=19&hapos=19&sr_order=popularity&srpvid=32eb90718f460435&srepoch=1649968356&from=searchresults#hotelTmpl",
           "Situé à Paris, à 1,9 km du jardin du Luxembourg, le Bright new apartment with wifi propose un hébergement avec une cuisine. Offrant une vue sur la ville, il se trouve à 2,6 km de la cathédrale Notre-Dame et à 2,8 km de la Sainte-Chapelle.Doté de 2 chambres, cet appartement comprend une salle de bains avec baignoire ou douche et sèche-cheveux. Les serviettes et le linge de lit sont fournis.Vous séjournerez à 3,2 km de l'opéra Bastille et à 3,4 km du musée Rodin. L'aéroport de Paris-Orly est à 11 km. ",
           72.06,
           5
          ],
          [
           48.8552307,
           2.3262666,
           "GuestReady - Lovely Bright Flat with Private Patio",
           "https://www.booking.com/hotel/fr/guestready-lovely-bright-flat-with-private-patio.fr.html?label=gen173nr-1FCAEoggI46AdIDVgEaE2IAQGYAQ24ARfIAQ_YAQHoAQH4AQKIAgGoAgO4AtSJ4pIGwAIB0gIkMWMyOTgzZDEtZjVkYS00NmJhLWFiOTctNTM5MmFiZTgyZjVl2AIF4AIB&sid=c0f0407a1e2da13c863358a90e64eb78&aid=304142&ucfs=1&arphpl=1&group_adults=2&req_adults=2&no_rooms=1&group_children=0&req_children=0&hpos=20&hapos=20&sr_order=popularity&srpvid=32eb90718f460435&srepoch=1649968356&from=searchresults#hotelTmpl",
           "Situé dans le centre de Paris, à seulement 600 mètres du musée d'Orsay et à 800 mètres du musée Rodin, le GuestReady - Lovely Bright Flat with Private Patio propose un hébergement avec vue sur la ville et connexion Wi-Fi gratuite. Vous séjournerez à 1,2 km du jardin du Luxembourg et à 1,4 km de la Sainte-Chapelle.Cet appartement comprend une chambre, une télévision, un lave-linge et une salle de bains pourvue d'une douche. Sa cuisine est équipée d'un micro-ondes et d'un lave-vaisselle. Les serviettes et le linge de lit sont fournis.Vous pourrez faire du vélo dans les environs.Vous séjournerez à proximité du jardin des Tuileries, du musée de l'Orangerie et du musée du Louvre. L'aéroport de Paris-Orly, le plus proche, est implanté à 14 km. ",
           72.06,
           5
          ],
          [
           43.95034438,
           4.81153785,
           "Maison XIXe et Jardin en Intramuros",
           "https://www.booking.com/hotel/fr/maison-xixe-et-jardin-en-intramuros.fr.html?label=gen173nr-1FCAEoggI46AdIDVgEaE2IAQGYAQ24ARfIAQ_YAQHoAQH4AQKIAgGoAgO4AtSJ4pIGwAIB0gIkMWMyOTgzZDEtZjVkYS00NmJhLWFiOTctNTM5MmFiZTgyZjVl2AIF4AIB&sid=c0f0407a1e2da13c863358a90e64eb78&aid=304142&ucfs=1&arphpl=1&group_adults=2&req_adults=2&no_rooms=1&group_children=0&req_children=0&hpos=1&hapos=1&sr_order=popularity&srpvid=61639076fa7305dc&srepoch=1649968366&from=searchresults#hotelTmpl",
           "Vous pouvez bénéficier d'une réduction Genius dans l'établissement Maison XIXe et Jardin en Intramuros ! Connectez-vous pour économiser.La Maison XIXe et jardin en intramuros est située dans le centre-ville d'Avignon. Cette maison de vacances dispose d'une connexion Wi-Fi gratuite. L'établissement se trouve à 5 minutes à pied du palais des papes et à moins de 300 mètres de nombreux bars, restaurants et boutiques.Cette élégante maison de vacances dispose de la climatisation, d'un coin salon et de 2 télévisions à écran plat. La cuisine entièrement équipée comporte un lave-vaisselle et un four micro-ondes. La salle de bains privative est pourvue d'une baignoire ancienne, d'une douche et de toilettes. Les chambres offrent une vue sur le jardin.La Maison XIXe et jardin en intramuros possède un jardin. Si vous souhaitez visiter les environs, vous pourrez vous rendre à la gare centrale d'Avignon, à 1 km.Cette maison de vacances se trouve à 10 km de l'aéroport d'Avignon-Provence et à 70 km de l'aéroport de Marseille Provence. ",
           72.91142857142857,
           22
          ],
          [
           43.951836,
           4.812205,
           "La Maison Grivolas",
           "https://www.booking.com/hotel/fr/la-maison-grivolas.fr.html?label=gen173nr-1FCAEoggI46AdIDVgEaE2IAQGYAQ24ARfIAQ_YAQHoAQH4AQKIAgGoAgO4AtSJ4pIGwAIB0gIkMWMyOTgzZDEtZjVkYS00NmJhLWFiOTctNTM5MmFiZTgyZjVl2AIF4AIB&sid=c0f0407a1e2da13c863358a90e64eb78&aid=304142&ucfs=1&arphpl=1&group_adults=2&req_adults=2&no_rooms=1&group_children=0&req_children=0&hpos=2&hapos=2&sr_order=popularity&srpvid=61639076fa7305dc&srepoch=1649968366&from=searchresults#hotelTmpl",
           "Installé à Avignon, à 500 mètres du Palais des papes, La Maison Grivolas propose un jardin, une connexion Wi-Fi gratuite, une cuisine commune et une piscine extérieure. Il vous accueille à 600 mètres du pont d’Avignon et à 500 mètres de l’université d’Avignon.Toutes les chambres de la maison d'hôtes disposent d'un coin salon et d'une salle de bains privative avec douche et articles de toilette gratuits. Offrant une vue sur la ville, elles comprennent également la climatisation et une armoire.Le matin, La Maison Grivolas sert un petit-déjeuner continental ou buffet.Vous pourrez aussi profiter de la terrasse.Vous séjournerez à 1 km de la médiathèque Ceccano et à 2 km du tribunal de grande instance d'Avignon. L'aéroport d'Avignon-Provence se trouve à 8,7 km de La Maison Grivolas. ",
           72.91142857142857,
           22
          ],
          [
           43.951729,
           4.810339,
           "A l'ombre du Palais",
           "https://www.booking.com/hotel/fr/a-l-39-ombre-du-palais.fr.html?label=gen173nr-1FCAEoggI46AdIDVgEaE2IAQGYAQ24ARfIAQ_YAQHoAQH4AQKIAgGoAgO4AtSJ4pIGwAIB0gIkMWMyOTgzZDEtZjVkYS00NmJhLWFiOTctNTM5MmFiZTgyZjVl2AIF4AIB&sid=c0f0407a1e2da13c863358a90e64eb78&aid=304142&ucfs=1&arphpl=1&group_adults=2&req_adults=2&no_rooms=1&group_children=0&req_children=0&hpos=3&hapos=3&sr_order=popularity&srpvid=61639076fa7305dc&srepoch=1649968366&from_sustainable_property_sr=1&from=searchresults#hotelTmpl",
           "Vous pouvez bénéficier d'une réduction Genius dans l'établissement A l'ombre du Palais ! Connectez-vous pour économiser.Situé à 500 mètres du palais des Papes et à 10 minutes à pied du pont d'Avignon, l'établissement A l'ombre du Palais propose des hébergements avec une terrasse commune meublée et une connexion Wi-Fi gratuite.Les hébergements comprennent tous un coin salon avec la télévision par satellite, une kitchenette avec un coin repas et une salle de bains privative. Un micro-ondes, un réfrigérateur et une bouilloire sont à votre disposition.Après une journée de randonnée, de vélo ou de pêche, vous pourrez vous détendre dans le salon commun ou sur le toit-terrasse. Vous aurez également accès à une cuisine commune tout équipée avec un four et un coin repas pouvant asseoir 16 personnes. Vous pourrez utiliser la buanderie, dotée d'un lave-linge, d'un sèche-linge et de matériel de repassage. Un barbecue commun est également à votre disposition sur demande et moyennant des frais supplémentaires.L'établissement se trouve à moins de 5 minutes à pied de nombreux magasins et restaurants.Les lieux d'intérêt remarquables à proximité de l'appart'hôtel incluent le pont d’Avignon, l’université d’Avignon et la médiathèque Ceccano. La gare TGV d'Avignon est à 15 minutes de route. L'aéroport de Montpellier-Méditerranée est le plus proche, à 93 km de l'établissement A l'ombre du Palais. ",
           72.91142857142857,
           22
          ],
          [
           43.94917757,
           4.81083119,
           "CLIMATISATION-Hypercentre-PARKING-COSY CARNOT-AVIGNONSMILE",
           "https://www.booking.com/hotel/fr/hypercentre-cosy-carnot-avignonsmile.fr.html?label=gen173nr-1FCAEoggI46AdIDVgEaE2IAQGYAQ24ARfIAQ_YAQHoAQH4AQKIAgGoAgO4AtSJ4pIGwAIB0gIkMWMyOTgzZDEtZjVkYS00NmJhLWFiOTctNTM5MmFiZTgyZjVl2AIF4AIB&sid=c0f0407a1e2da13c863358a90e64eb78&aid=304142&ucfs=1&arphpl=1&group_adults=2&req_adults=2&no_rooms=1&group_children=0&req_children=0&hpos=4&hapos=4&sr_order=popularity&srpvid=61639076fa7305dc&srepoch=1649968366&from=searchresults#hotelTmpl",
           "Vous pouvez bénéficier d'une réduction Genius dans l'établissement CLIMATISATION-Hypercentre-PARKING-COSY CARNOT-AVIGNONSMILE ! Connectez-vous pour économiser.Situé en plein cœur d'Avignon, à proximité du pont d'Avignon et de l'hôtel de ville, le CLIMATISATION-Hypercentre-PARKING-COSY CARNOT-AVIGNONSMILE propose une connexion Wi-Fi gratuite, la climatisation et des équipements ménagers tels qu'un réfrigérateur et une bouilloire. Offrant une vue sur la ville, il se trouve à 3,6 km du palais des papes et à 600 mètres de la médiathèque Ceccano.Cet appartement comprend une chambre, une télévision par câble à écran plat, un lave-linge et une salle de bains pourvue d'une douche. Sa cuisine est équipée d'un micro-ondes et d'un lave-vaisselle. Les serviettes et le linge de lit sont fournis.Vous séjournerez à proximité de la CCI du Vaucluse, de l'université d'Avignon et du tribunal de première instance d'Avignon. L'aéroport d'Avignon-Provence, le plus proche, est implanté à 10 km. ",
           72.91142857142857,
           22
          ],
          [
           43.946273,
           4.818023,
           "Avignon appartement",
           "https://www.booking.com/hotel/fr/1-avignon.fr.html?label=gen173nr-1FCAEoggI46AdIDVgEaE2IAQGYAQ24ARfIAQ_YAQHoAQH4AQKIAgGoAgO4AtSJ4pIGwAIB0gIkMWMyOTgzZDEtZjVkYS00NmJhLWFiOTctNTM5MmFiZTgyZjVl2AIF4AIB&sid=c0f0407a1e2da13c863358a90e64eb78&aid=304142&ucfs=1&arphpl=1&group_adults=2&req_adults=2&no_rooms=1&group_children=0&req_children=0&hpos=5&hapos=5&sr_order=popularity&srpvid=61639076fa7305dc&srepoch=1649968366&from=searchresults#hotelTmpl",
           "Situé à Avignon, à 2,7 km du palais des Papes, à 1,9 km du pont d'Avignon et à 800 mètres du tribunal de première instance, l'Avignon appartement propose un hébergement avec une terrasse et une connexion Wi-Fi gratuite. Il se trouve à 2,3 km de l'hôtel de ville d'Avignon et à 2,4 km de la médiathèque Ceccano.Cet appartement comprend une chambre, un salon, une télévision à écran plat, une cuisine équipée avec un coin repas ainsi qu'une salle de bains pourvue d'une douche et d'un lave-linge.Vous séjournerez à 1,5 km de l'université d'Avignon et à 1,6 km de la CCI de Vaucluse. L'aéroport d'Avignon-Provence, le plus proche, est implanté à 9 km. ",
           72.91142857142857,
           22
          ],
          [
           43.94603672,
           4.80586946,
           "Résidence UXCO République ex Suiteasy",
           "https://www.booking.com/hotel/fr/avignon-ra-c-publique.fr.html?label=gen173nr-1FCAEoggI46AdIDVgEaE2IAQGYAQ24ARfIAQ_YAQHoAQH4AQKIAgGoAgO4AtSJ4pIGwAIB0gIkMWMyOTgzZDEtZjVkYS00NmJhLWFiOTctNTM5MmFiZTgyZjVl2AIF4AIB&sid=c0f0407a1e2da13c863358a90e64eb78&aid=304142&ucfs=1&arphpl=1&group_adults=2&req_adults=2&no_rooms=1&group_children=0&req_children=0&hpos=6&hapos=6&sr_order=popularity&srpvid=61639076fa7305dc&srepoch=1649968366&from=searchresults#hotelTmpl",
           "Vous pouvez bénéficier d'une réduction Genius dans l'établissement Résidence UXCO République ex Suiteasy ! Connectez-vous pour économiser.Situés dans la rue principale d'Avignon, à proximité des principaux musées, boutiques et restaurants, ces appartements contemporains sont dotés d'une connexion Internet gratuite. La gare centrale d'Avignon se trouve à 3 minutes à pied.Tous les studios et les appartements de l'Avignon République sont desservis par un ascenseur. Ils sont pourvus de parquet et d'une kitchenette entièrement équipée avec un réfrigérateur, une cuisinière et une cafetière. La salle de bains comprend une baignoire ou une douche. Du linge de maison et des serviettes sont fournis gratuitement.Vous trouverez une épicerie à 50 mètres de l'établissement. Vous pourrez également choisir l'un des restaurants du centre-ville. Le palais des Papes est situé à 800 mètres et la route des vins est accessible à 10 km.En juillet, vous pourrez profiter du célèbre festival de théâtre d'Avignon. La gare TGV est située à 1 km tandis que l'aéroport d'Avignon-Caumont se trouve à 20 minutes de route. ",
           72.91142857142857,
           22
          ],
          [
           43.94375631,
           4.79815236,
           "ibis budget Avignon Centre",
           "https://www.booking.com/hotel/fr/ibis-budget-avignon-centre.fr.html?label=gen173nr-1FCAEoggI46AdIDVgEaE2IAQGYAQ24ARfIAQ_YAQHoAQH4AQKIAgGoAgO4AtSJ4pIGwAIB0gIkMWMyOTgzZDEtZjVkYS00NmJhLWFiOTctNTM5MmFiZTgyZjVl2AIF4AIB&sid=c0f0407a1e2da13c863358a90e64eb78&aid=304142&ucfs=1&arphpl=1&group_adults=2&req_adults=2&no_rooms=1&group_children=0&req_children=0&hpos=7&hapos=7&sr_order=popularity&srpvid=61639076fa7305dc&srepoch=1649968366&from=searchresults#hotelTmpl",
           "Situé à Avignon, l'ibis budget Avignon Centre propose une connexion Wi-Fi gratuite, à 30 minutes de route d'Orange et du pont du Gard, ainsi qu'à 1,3 km du palais des papes.Offrant une vue sur la ville et le jardin, les chambres climatisées comprennent une télévision par câble et satellite. La salle de bain privative est pourvue d'articles de toilettes gratuits, ainsi que d'une baignoire ou d'une douche.L'ibis budget Avignon Centre comporte une réception ouverte 24/24, une terrasse et un bar. L’hôtel comporte aussi un salon commun et un distributeur automatique.Vous séjournerez à 600 mètres de la gare centrale d'Avignon est à 4 km de la gare de TGV d'Avignon. L'aéroport de Marseille-Provence est implanté à 83 km. Un parking public payant est mis à votre disposition à 100 mètres et un parking public gratuit est se trouve à 200 mètres de l'hôtel. ",
           72.91142857142857,
           22
          ],
          [
           43.94856677,
           4.80601476,
           "Le Bancasse",
           "https://www.booking.com/hotel/fr/le-bancasse.fr.html?label=gen173nr-1FCAEoggI46AdIDVgEaE2IAQGYAQ24ARfIAQ_YAQHoAQH4AQKIAgGoAgO4AtSJ4pIGwAIB0gIkMWMyOTgzZDEtZjVkYS00NmJhLWFiOTctNTM5MmFiZTgyZjVl2AIF4AIB&sid=c0f0407a1e2da13c863358a90e64eb78&aid=304142&ucfs=1&arphpl=1&group_adults=2&req_adults=2&no_rooms=1&group_children=0&req_children=0&hpos=8&hapos=8&sr_order=popularity&srpvid=61639076fa7305dc&srepoch=1649968366&from_sustainable_property_sr=1&from=searchresults#hotelTmpl",
           "Situé dans le centre d'Avignon, à proximité du palais des papes et du pont d'Avignon, l'établissement Le Bancasse propose une connexion Wi-Fi gratuite, la climatisation et des équipements ménagers tels qu'un réfrigérateur et une bouilloire. Offrant une vue sur la ville, il se trouve à 90 mètres de l'hôtel de ville d'Avignon et à 300 mètres de la médiathèque Ceccano.Cet appartement comprend 3 chambres, une télévision à écran plat, un lave-linge et 2 salles de bains pourvues d'une douche. Sa cuisine est équipée d'un lave-vaisselle et d'un micro-ondes. Les serviettes et le linge de lit sont fournis.Vous séjournerez à proximité de la CCI du Vaucluse, de l'université d'Avignon et du tribunal de première instance d'Avignon. L'aéroport d'Avignon-Provence, le plus proche, est à 9 km. ",
           72.91142857142857,
           22
          ],
          [
           43.94963777,
           4.80635896,
           "Kyriad Avignon - Palais des Papes",
           "https://www.booking.com/hotel/fr/kyriad-avignon-palais-des-papes-xml.fr.html?label=gen173nr-1FCAEoggI46AdIDVgEaE2IAQGYAQ24ARfIAQ_YAQHoAQH4AQKIAgGoAgO4AtSJ4pIGwAIB0gIkMWMyOTgzZDEtZjVkYS00NmJhLWFiOTctNTM5MmFiZTgyZjVl2AIF4AIB&sid=c0f0407a1e2da13c863358a90e64eb78&aid=304142&ucfs=1&arphpl=1&group_adults=2&req_adults=2&no_rooms=1&group_children=0&req_children=0&hpos=9&hapos=9&sr_order=popularity&srpvid=61639076fa7305dc&srepoch=1649968366&from_sustainable_property_sr=1&from=searchresults#hotelTmpl",
           "Le Kyriad Avignon - Palais des Papes vous accueille sur la place de l'Horloge, dans la zone piétonne du centre historique d'Avignon. Il propose des hébergements climatisés dotés d'une télévision avec Canal +, d'un plateau de courtoisie et d'une connexion Wi-Fi gratuite.Vous séjournerez face à l'opéra, à 75 mètres du Palais des Papes ainsi qu'à proximité du musée du Petit palais et du pont d'Avignon.Installé au cœur de la Provence, l'hôtel Kyriad Avignon - Palais des Papes est distant de 20 km de Saint-Rémy-de-Provence et de 40 km d'Arles. Un parking public se trouve à proximité. ",
           72.91142857142857,
           22
          ],
          [
           43.937406,
           4.8118707,
           "Appartement de standing proche des remparts",
           "https://www.booking.com/hotel/fr/appartement-de-standing-proche-des-remparts.fr.html?label=gen173nr-1FCAEoggI46AdIDVgEaE2IAQGYAQ24ARfIAQ_YAQHoAQH4AQKIAgGoAgO4AtSJ4pIGwAIB0gIkMWMyOTgzZDEtZjVkYS00NmJhLWFiOTctNTM5MmFiZTgyZjVl2AIF4AIB&sid=c0f0407a1e2da13c863358a90e64eb78&aid=304142&ucfs=1&arphpl=1&group_adults=2&req_adults=2&no_rooms=1&group_children=0&req_children=0&hpos=10&hapos=10&sr_order=popularity&srpvid=61639076fa7305dc&srepoch=1649968366&from=searchresults#hotelTmpl",
           "L'Appartement de standing proche des remparts est situé à Avignon, à 1,7 km du palais des papes, à 1,9 km du pont d'Avignon et à moins de 1 km du tribunal de première instance. Cet appartement se trouve à 1,4 km de l'hôtel de ville et à 1,8 km de l'école supérieure d'art d'Avignon ESAA.L'appartement comprend 4 chambres, 2 salles de bains, du linge de lit, des serviettes, une télévision par satellite à écran plat, une cuisine entièrement équipée et un balcon avec vue sur la ville.Vous séjournerez à proximité de la CCI du Vaucluse, de la médiathèque Ceccano et de l'université d'Avignon. L'aéroport d'Avignon-Provence, le plus proche, est implanté à 8 km. ",
           72.91142857142857,
           22
          ],
          [
           43.94403213,
           4.80533168,
           "Hôtel Le Bristol",
           "https://www.booking.com/hotel/fr/hotel-bristol-avignon.fr.html?label=gen173nr-1FCAEoggI46AdIDVgEaE2IAQGYAQ24ARfIAQ_YAQHoAQH4AQKIAgGoAgO4AtSJ4pIGwAIB0gIkMWMyOTgzZDEtZjVkYS00NmJhLWFiOTctNTM5MmFiZTgyZjVl2AIF4AIB&sid=c0f0407a1e2da13c863358a90e64eb78&aid=304142&ucfs=1&arphpl=1&group_adults=2&req_adults=2&no_rooms=1&group_children=0&req_children=0&hpos=11&hapos=11&sr_order=popularity&srpvid=61639076fa7305dc&srepoch=1649968366&from=searchresults#hotelTmpl",
           "Vous pouvez bénéficier d'une réduction Genius dans l'établissement Hôtel Le Bristol ! Connectez-vous pour économiser.Idéalement situé à l’intérieur des remparts du centre d’Avignon, l’Hôtel Le Bristol vous propose des chambres climatisées, un bar, une connexion Wi-Fi gratuite et un salon commun. Il assure un service de concierge. La réception est ouverte 24h/24.À seulement 15 minutes à pied du Palais des Papes, les chambres comprennent un bureau, une télévision à écran plat et une salle de bains privative.Vous pourrez savourer un petit-déjeuner buffet sur place.L’aéroport d'Avignon-Provence, le plus proche de l’Hôtel Le Bristol, se trouve à 9 km. ",
           72.91142857142857,
           22
          ],
          [
           43.9521723,
           4.8151677,
           "Le Nid",
           "https://www.booking.com/hotel/fr/le-nid-avignon1.fr.html?label=gen173nr-1FCAEoggI46AdIDVgEaE2IAQGYAQ24ARfIAQ_YAQHoAQH4AQKIAgGoAgO4AtSJ4pIGwAIB0gIkMWMyOTgzZDEtZjVkYS00NmJhLWFiOTctNTM5MmFiZTgyZjVl2AIF4AIB&sid=c0f0407a1e2da13c863358a90e64eb78&aid=304142&ucfs=1&arphpl=1&group_adults=2&req_adults=2&no_rooms=1&group_children=0&req_children=0&hpos=12&hapos=12&sr_order=popularity&srpvid=61639076fa7305dc&srepoch=1649968366&from=searchresults#hotelTmpl",
           "Situé au cœur d'Avignon, à proximité du palais des papes et du pont d'Avignon, l'établissement Le Nid propose une connexion Wi-Fi gratuite, la climatisation et des équipements ménagers tels qu'un réfrigérateur et une bouilloire. Vous pourrez pratiquer diverses activités dans les environs, telles que la pêche et la randonnée.Cet appartement comprend 2 chambres, une télévision à écran plat, un lave-linge et 2 salles de bains pourvues d'une douche. Sa cuisine est équipée d'un lave-vaisselle et d'un micro-ondes. Les serviettes et le linge de lit sont fournis.Le personnel de la réception ouverte 24h/24 parle français et anglais.Une terrasse est à votre disposition sur place.Vous séjournerez à proximité de l'université d'Avignon, de l'hôtel de ville et du tribunal de première instance. L'aéroport d'Avignon-Provence, le plus proche, est à 9 km. ",
           72.91142857142857,
           22
          ],
          [
           43.94447438,
           4.81275544,
           "MAISON DE CHARME AVEC COUR, proche rue des Teinturiers",
           "https://www.booking.com/hotel/fr/maison-de-charme-avec-cour-proche-rue-des-teinturiers.fr.html?label=gen173nr-1FCAEoggI46AdIDVgEaE2IAQGYAQ24ARfIAQ_YAQHoAQH4AQKIAgGoAgO4AtSJ4pIGwAIB0gIkMWMyOTgzZDEtZjVkYS00NmJhLWFiOTctNTM5MmFiZTgyZjVl2AIF4AIB&sid=c0f0407a1e2da13c863358a90e64eb78&aid=304142&ucfs=1&arphpl=1&group_adults=2&req_adults=2&no_rooms=1&group_children=0&req_children=0&hpos=13&hapos=13&sr_order=popularity&srpvid=61639076fa7305dc&srepoch=1649968366&from=searchresults#hotelTmpl",
           "Située à Avignon, à moins de 1 km du Palais des Papes, la MAISON DE CHARME AVEC COUR, proche rue des Teinturiers propose un hébergement avec un balcon et une connexion Wi-Fi gratuite. Vous séjournerez à 14 minutes de marche du pont d'Avignon et à 300 mètres du palais de justice. Vous séjournerez également à 800 mètres de l'hôtel de ville et à 2,6 km de l'école supérieure d'art ESAA d'Avignon.La villa possède 2 chambres, un lave-linge, une télévision par câble à écran plat, une salle de bains munie d’une baignoire ainsi qu’une cuisine équipée avec un micro-ondes et un réfrigérateur. Les serviettes de toilette et le linge de lit sont fournis.Vous pourrez profiter d’une terrasse et d’un barbecue.Parmi les sites d'intérêt à proximité de la MAISON DE CHARME AVEC COUR, proche rue des Teinturiers, vous trouverez la médiathèque Ceccano, la CCI du Vaucluse et l'université d'Avignon. L’aéroport le plus proche, celui d’Avignon-Provence, est installé à 8 km. ",
           72.91142857142857,
           22
          ],
          [
           43.9446351,
           4.809773,
           "Maison Hélie",
           "https://www.booking.com/hotel/fr/maison-helie.fr.html?label=gen173nr-1FCAEoggI46AdIDVgEaE2IAQGYAQ24ARfIAQ_YAQHoAQH4AQKIAgGoAgO4AtSJ4pIGwAIB0gIkMWMyOTgzZDEtZjVkYS00NmJhLWFiOTctNTM5MmFiZTgyZjVl2AIF4AIB&sid=c0f0407a1e2da13c863358a90e64eb78&aid=304142&ucfs=1&arphpl=1&group_adults=2&req_adults=2&no_rooms=1&group_children=0&req_children=0&hpos=14&hapos=14&sr_order=popularity&srpvid=61639076fa7305dc&srepoch=1649968366&from=searchresults#hotelTmpl",
           "Située à Avignon, à moins de 1 km du palais des Papes, à 13 minutes à pied du pont d'Avignon et à 300 mètres de la médiathèque Ceccano, la Maison Hélie propose un hébergement avec une terrasse et une connexion Wi-Fi gratuite. Cet appartement se trouve à 800 mètres de l'université d'Avignon et à 2,6 km de l'école supérieure d'art d'Avignon ESAA.Cet appartement comprend une chambre, une télévision à écran plat et une cuisine.Vous séjournerez à proximité de la CCI du Vaucluse, du tribunal de première instance d'Avignon et de l'hôtel de ville d'Avignon. L'aéroport d'Avignon-Provence, le plus proche, est à 8 km. ",
           72.91142857142857,
           22
          ],
          [
           43.9048925,
           4.89553034,
           "Best Western Hôtel Le Paradou Avignon Sud.",
           "https://www.booking.com/hotel/fr/paradouavignon.fr.html?label=gen173nr-1FCAEoggI46AdIDVgEaE2IAQGYAQ24ARfIAQ_YAQHoAQH4AQKIAgGoAgO4AtSJ4pIGwAIB0gIkMWMyOTgzZDEtZjVkYS00NmJhLWFiOTctNTM5MmFiZTgyZjVl2AIF4AIB&sid=c0f0407a1e2da13c863358a90e64eb78&aid=304142&ucfs=1&arphpl=1&group_adults=2&req_adults=2&no_rooms=1&group_children=0&req_children=0&hpos=15&hapos=15&sr_order=popularity&srpvid=61639076fa7305dc&srepoch=1649968366&from=searchresults#hotelTmpl",
           "Situé dans un parc à Avignon Sud-Montfavet, le Best Western Hôtel Le Paradou Avignon Sud. propose une connexion Wi-Fi gratuite disponible dans l'ensemble de l'établissement. Vous séjournerez à 15 minutes en voiture du centre-ville d'Avignon.Offrant une vue sur la piscine ou le jardin, les chambres insonorisées et climatisées possèdent une télévision par câble. Leur salle de bains privative est pourvue d'une baignoire, d'articles de toilette mis gracieusement à votre disposition et d'un sèche-cheveux.L'hôtel comporte un restaurant préparant des plats provençaux variés et un bar.La région est appréciée pour le golf. L'aéroport d'Avignon-Provence est installé à proximité. Vous bénéficierez gratuitement d'un parking privé sur place. ",
           72.91142857142857,
           22
          ],
          [
           43.94756619,
           4.80603039,
           "Hôtel Danieli",
           "https://www.booking.com/hotel/fr/hoteldanieli.fr.html?label=gen173nr-1FCAEoggI46AdIDVgEaE2IAQGYAQ24ARfIAQ_YAQHoAQH4AQKIAgGoAgO4AtSJ4pIGwAIB0gIkMWMyOTgzZDEtZjVkYS00NmJhLWFiOTctNTM5MmFiZTgyZjVl2AIF4AIB&sid=c0f0407a1e2da13c863358a90e64eb78&aid=304142&ucfs=1&arphpl=1&group_adults=2&req_adults=2&no_rooms=1&group_children=0&req_children=0&hpos=16&hapos=16&sr_order=popularity&srpvid=61639076fa7305dc&srepoch=1649968366&from=searchresults#hotelTmpl",
           "Vous pouvez bénéficier d'une réduction Genius dans l'établissement Hôtel Danieli ! Connectez-vous pour économiser.L'Hôtel Danieli est situé au cœur de la vieille ville d'Avignon, à 400 mètres du Palais des Papes et à 10 minutes à pied du pont d'Avignon. Les peintures dans cet hôtel ont été réalisées par Yvan Osscini.L'hôtel propose des chambres climatisées dotées d'une télévision à écran plat, d'un bureau et d'une armoire. Leur salle de bains privative est pourvue d’une baignoire ou d’une douche et d’un sèche-cheveux.Le petit-déjeuner est servi dans cet établissement et un distributeur automatique est disponible pour d'autres collations. Vous trouverez des épiceries et restaurants à moins de 150 mètres de l’établissement.La gare centrale d’Avignon est à 10 minutes à pied. ",
           72.91142857142857,
           22
          ],
          [
           43.9499383,
           4.8065625,
           "Cosy and large flat in the hypercentre of Avignon Provence - Welkeys",
           "https://www.booking.com/hotel/fr/cosy-and-large-flat-in-the-hypercentre-of-avignon-provence-welkeys.fr.html?label=gen173nr-1FCAEoggI46AdIDVgEaE2IAQGYAQ24ARfIAQ_YAQHoAQH4AQKIAgGoAgO4AtSJ4pIGwAIB0gIkMWMyOTgzZDEtZjVkYS00NmJhLWFiOTctNTM5MmFiZTgyZjVl2AIF4AIB&sid=c0f0407a1e2da13c863358a90e64eb78&aid=304142&ucfs=1&arphpl=1&group_adults=2&req_adults=2&no_rooms=1&group_children=0&req_children=0&hpos=17&hapos=17&sr_order=popularity&srpvid=61639076fa7305dc&srepoch=1649968366&from=searchresults#hotelTmpl",
           "Le Cosy and large flat in the hypercentre of Avignon Provence - Welkeys est situé dans le centre-ville d'Avignon, à 400 mètres du pont d'Avignon, de l'hôtel de ville et de la médiathèque Ceccano. Cet hébergement climatisé se trouve à 200 mètres du palais des papes. Vous bénéficierez gratuitement d'une connexion Wi-Fi et d'un parking privé sur place.Cet appartement comprend 3 chambres, 2 salles de bains, du linge de lit, des serviettes, une télévision par satellite, un coin repas, une cuisine entièrement équipée et un balcon avec vue sur la ville.Vous séjournerez à proximité de la CCI du Vaucluse, de l'université d'Avignon et du tribunal de première instance d'Avignon. L'aéroport d'Avignon-Provence, le plus proche, est implanté à 9 km. ",
           72.91142857142857,
           22
          ],
          [
           43.9427354,
           4.80243623,
           "Novotel Avignon Centre",
           "https://www.booking.com/hotel/fr/novotel-avignon-centre.fr.html?label=gen173nr-1FCAEoggI46AdIDVgEaE2IAQGYAQ24ARfIAQ_YAQHoAQH4AQKIAgGoAgO4AtSJ4pIGwAIB0gIkMWMyOTgzZDEtZjVkYS00NmJhLWFiOTctNTM5MmFiZTgyZjVl2AIF4AIB&sid=c0f0407a1e2da13c863358a90e64eb78&aid=304142&ucfs=1&arphpl=1&group_adults=2&req_adults=2&no_rooms=1&group_children=0&req_children=0&hpos=18&hapos=18&sr_order=popularity&srpvid=61639076fa7305dc&srepoch=1649968366&from_sustainable_property_sr=1&from=searchresults#hotelTmpl",
           "Installé à côté de la gare ferroviaire d’Avignon, le Novotel Avignon Centrevous propose une piscine extérieure et un salon de beauté. Il possède également une salle de sport ainsi qu’un spa avec un sauna, un jacuzzi et un hammam. Une connexion Wi-Fi est disponible gratuitement dans l’ensemble des locaux.Décorées dans un style contemporain, les chambres climatisées du Novotel Avignon disposent d’une télévision à écran plat et d’un minibar. Leur salle de bains privative est pourvue d’une baignoire ou d’une douche.Le petit-déjeuner est servi tous les matins dans les chambres ou dans la salle dédiée de l’hôtel donnant sur la terrasse. Vous pourrez manger ou boire un verre commandé au bar sur la terrasse quand le temps le permet.Des massages sont disponibles sur place moyennant des frais supplémentaires et l’hôtel comporte une aire de jeux pour enfants.Ouverts 24h/24, la réception et le bureau d’excursions pourront vous conseiller pour visiter le centre-ville d’Avignon, accessible en 10 minutes à pied. Le pont d'Avignon est à 17 minutes de marche. Un parking public est disponible sur place moyennant des frais supplémentaires. ",
           72.91142857142857,
           22
          ],
          [
           43.9489379,
           4.8080526,
           "Avignon : Duplex près du palais des Papes",
           "https://www.booking.com/hotel/fr/avignon-duplex-pres-du-palais-des-papes.fr.html?label=gen173nr-1FCAEoggI46AdIDVgEaE2IAQGYAQ24ARfIAQ_YAQHoAQH4AQKIAgGoAgO4AtSJ4pIGwAIB0gIkMWMyOTgzZDEtZjVkYS00NmJhLWFiOTctNTM5MmFiZTgyZjVl2AIF4AIB&sid=c0f0407a1e2da13c863358a90e64eb78&aid=304142&ucfs=1&arphpl=1&group_adults=2&req_adults=2&no_rooms=1&group_children=0&req_children=0&hpos=19&hapos=19&sr_order=popularity&srpvid=61639076fa7305dc&srepoch=1649968366&from=searchresults#hotelTmpl",
           "Situé dans le centre-ville d'Avignon, à proximité du palais des Papes, l'Avignon: Duplex près du palais des Papes dispose d'une connexion Wi-Fi gratuite et d'un lave-linge. Cet appartement se trouve à 600 mètres de la CCI de Vaucluse et à 700 mètres de l'université d'Avignon.Cet appartement comprend une chambre, une télévision à écran plat, un coin salon et une salle de bains pourvue d'une douche. Sa cuisine est équipée d'un lave-vaisselle et d'un micro-ondes. Les serviettes et le linge de lit sont fournis.Vous séjournerez à proximité du pont d'Avignon, de l'hôtel de ville et de la médiathèque Ceccano. L'aéroport d'Avignon-Provence, le plus proche, est implanté à 9 km. ",
           72.91142857142857,
           22
          ],
          [
           43.9499695,
           4.8052701,
           "Cosy apartment in the hypercentre of Avignon in the Provence- Welkeys",
           "https://www.booking.com/hotel/fr/cosy-apartment-in-the-hypercentre-of-avignon-in-the-provence-welkeys.fr.html?label=gen173nr-1FCAEoggI46AdIDVgEaE2IAQGYAQ24ARfIAQ_YAQHoAQH4AQKIAgGoAgO4AtSJ4pIGwAIB0gIkMWMyOTgzZDEtZjVkYS00NmJhLWFiOTctNTM5MmFiZTgyZjVl2AIF4AIB&sid=c0f0407a1e2da13c863358a90e64eb78&aid=304142&ucfs=1&arphpl=1&group_adults=2&req_adults=2&no_rooms=1&group_children=0&req_children=0&hpos=20&hapos=20&sr_order=popularity&srpvid=61639076fa7305dc&srepoch=1649968366&from=searchresults#hotelTmpl",
           "Situé dans le centre d'Avignon, à proximité du palais des papes et du pont d'Avignon, le Cosy apartment in the hypercentre of Avignon in the Provence- Welkeys propose une connexion Wi-Fi gratuite, la climatisation et des équipements ménagers tels qu'un réfrigérateur et une bouilloire. Offrant une vue sur la ville, il se trouve à 80 mètres de l'hôtel de ville d'Avignon et à 400 mètres de la médiathèque Ceccano.Cet appartement comprend une chambre, une télévision par satellite, un lave-linge et une salle de bains pourvue d'une douche. Sa cuisine est équipée d'un micro-ondes et d'un lave-vaisselle. Les serviettes et le linge de lit sont fournis.Vous séjournerez à proximité de la CCI du Vaucluse, de l'université d'Avignon et du tribunal de première instance d'Avignon. L'aéroport d'Avignon-Provence, le plus proche, est implanté à 9 km. ",
           72.91142857142857,
           22
          ]
         ],
         "hovertemplate": "<b>%{hovertext}</b><br><br>Score=%{marker.color}<br>name=%{customdata[2]}<extra></extra>",
         "hovertext": [
          "Lille",
          "Lille",
          "Lille",
          "Lille",
          "Lille",
          "Lille",
          "Lille",
          "Lille",
          "Lille",
          "Lille",
          "Lille",
          "Lille",
          "Lille",
          "Lille",
          "Lille",
          "Lille",
          "Lille",
          "Lille",
          "Lille",
          "Lille",
          "Aix en Provence",
          "Aix en Provence",
          "Aix en Provence",
          "Aix en Provence",
          "Aix en Provence",
          "Aix en Provence",
          "Aix en Provence",
          "Aix en Provence",
          "Aix en Provence",
          "Aix en Provence",
          "Aix en Provence",
          "Aix en Provence",
          "Aix en Provence",
          "Aix en Provence",
          "Aix en Provence",
          "Aix en Provence",
          "Aix en Provence",
          "Aix en Provence",
          "Aix en Provence",
          "Aix en Provence",
          "Nimes",
          "Nimes",
          "Nimes",
          "Nimes",
          "Nimes",
          "Nimes",
          "Nimes",
          "Nimes",
          "Nimes",
          "Nimes",
          "Nimes",
          "Nimes",
          "Nimes",
          "Nimes",
          "Nimes",
          "Nimes",
          "Nimes",
          "Nimes",
          "Nimes",
          "Nimes",
          "Paris",
          "Paris",
          "Paris",
          "Paris",
          "Paris",
          "Paris",
          "Paris",
          "Paris",
          "Paris",
          "Paris",
          "Paris",
          "Paris",
          "Paris",
          "Paris",
          "Paris",
          "Paris",
          "Paris",
          "Paris",
          "Paris",
          "Paris",
          "Avignon",
          "Avignon",
          "Avignon",
          "Avignon",
          "Avignon",
          "Avignon",
          "Avignon",
          "Avignon",
          "Avignon",
          "Avignon",
          "Avignon",
          "Avignon",
          "Avignon",
          "Avignon",
          "Avignon",
          "Avignon",
          "Avignon",
          "Avignon",
          "Avignon",
          "Avignon"
         ],
         "lat": [
          50.62914624,
          50.63788756,
          50.627831,
          50.6281375,
          50.63238245,
          50.63528798,
          50.64241422,
          50.6372416,
          50.63075938,
          50.63654707,
          50.639065,
          50.62851,
          50.63470383,
          50.63728452,
          50.63624596,
          50.63319849,
          50.64082324,
          50.64602156,
          50.64143,
          50.6430864,
          43.496316,
          43.52409101,
          43.5185712,
          43.526627,
          43.52524078,
          43.51191632,
          43.53017,
          43.49453015,
          43.5301292,
          43.531277,
          43.53095239,
          43.52461222,
          43.5291277,
          43.5300789,
          43.519135,
          43.531148,
          43.51138683,
          43.5111713,
          43.53168552,
          43.526037,
          43.8388151,
          43.8320559,
          43.85147223,
          43.8281614,
          43.82476592,
          43.84014318,
          43.81389059,
          43.83175755,
          43.83423753,
          43.81470735,
          43.83387353,
          43.83775973,
          43.83436329,
          43.82273112,
          43.83542065,
          43.841024,
          43.83959476,
          43.831676,
          43.8388343,
          43.8302457,
          48.88639354,
          48.87434515,
          48.88129894,
          48.8381576,
          48.84659045,
          48.88133015,
          48.86601094,
          48.8592568,
          48.85158544,
          48.88141526,
          48.87606691,
          48.85057501,
          48.8644438,
          48.851244,
          48.846155,
          48.84700437,
          48.8933961,
          48.87911118,
          48.83028,
          48.8552307,
          43.95034438,
          43.951836,
          43.951729,
          43.94917757,
          43.946273,
          43.94603672,
          43.94375631,
          43.94856677,
          43.94963777,
          43.937406,
          43.94403213,
          43.9521723,
          43.94447438,
          43.9446351,
          43.9048925,
          43.94756619,
          43.9499383,
          43.9427354,
          43.9489379,
          43.9499695
         ],
         "legendgroup": "",
         "lon": [
          3.06419907,
          3.072685,
          3.063592,
          3.08142364,
          3.06794286,
          3.06970725,
          3.06787005,
          3.0691052,
          3.05808842,
          3.06234241,
          3.070951,
          3.051873,
          3.07080008,
          3.06844845,
          3.06924239,
          3.07447681,
          3.06491666,
          3.07587147,
          3.06578,
          3.067507,
          5.342152,
          5.45521617,
          5.4583487,
          5.446262,
          5.441266,
          5.43665394,
          5.44735,
          5.36888123,
          5.4589527,
          5.44944,
          5.44667758,
          5.45375437,
          5.4453804,
          5.4494921,
          5.454833,
          5.474076,
          5.46482384,
          5.4446805,
          5.45164067,
          5.408456,
          4.35481846,
          4.3673645,
          4.36088863,
          4.3547902,
          4.36904624,
          4.35833485,
          4.34434175,
          4.36697356,
          4.3607904,
          4.3448326,
          4.36143396,
          4.36387226,
          4.36533675,
          4.36412573,
          4.36340421,
          4.359022,
          4.3610841,
          4.3602026,
          4.3699188,
          4.3644799,
          2.29494631,
          2.28977568,
          2.29480304,
          2.3496155,
          2.28857003,
          2.32741512,
          2.35709757,
          2.3684085,
          2.39082724,
          2.32455321,
          2.34567493,
          2.26743221,
          2.3648845,
          2.327238,
          2.280192,
          2.30141312,
          2.3615899,
          2.3277073,
          2.341702,
          2.3262666,
          4.81153785,
          4.812205,
          4.810339,
          4.81083119,
          4.818023,
          4.80586946,
          4.79815236,
          4.80601476,
          4.80635896,
          4.8118707,
          4.80533168,
          4.8151677,
          4.81275544,
          4.809773,
          4.89553034,
          4.80603039,
          4.8065625,
          4.80243623,
          4.8080526,
          4.8052701
         ],
         "marker": {
          "color": [
           8.4,
           8.1,
           8.7,
           7.9,
           7.8,
           7.8,
           7.1,
           5,
           8.1,
           8.5,
           8.5,
           7.2,
           7.9,
           6.2,
           7.9,
           8.2,
           7.6,
           7.9,
           9,
           9,
           8.5,
           7.4,
           5,
           5,
           8.2,
           7.4,
           5,
           7.7,
           5,
           5,
           9.1,
           8,
           5,
           5,
           5,
           9.2,
           7.8,
           7,
           8.9,
           5,
           8.2,
           8,
           9.2,
           7.4,
           7.9,
           8.8,
           7.8,
           8.3,
           7.9,
           7.8,
           8.8,
           6.9,
           8.6,
           6.9,
           7.9,
           8.6,
           7.9,
           9.4,
           9.6,
           9.2,
           8.4,
           8.5,
           8,
           8.6,
           8.6,
           8.9,
           8.4,
           8.1,
           8.7,
           8.3,
           8.8,
           8.6,
           8.7,
           8.9,
           5,
           7.4,
           5,
           5,
           5,
           9,
           9.1,
           9.7,
           8.4,
           8.9,
           5,
           7.5,
           7.7,
           9.5,
           8.1,
           9.7,
           8.1,
           10,
           9.6,
           5,
           7.9,
           7.5,
           9.8,
           7.9,
           10,
           5
          ],
          "coloraxis": "coloraxis",
          "size": [
           8.4,
           8.1,
           8.7,
           7.9,
           7.8,
           7.8,
           7.1,
           5,
           8.1,
           8.5,
           8.5,
           7.2,
           7.9,
           6.2,
           7.9,
           8.2,
           7.6,
           7.9,
           9,
           9,
           8.5,
           7.4,
           5,
           5,
           8.2,
           7.4,
           5,
           7.7,
           5,
           5,
           9.1,
           8,
           5,
           5,
           5,
           9.2,
           7.8,
           7,
           8.9,
           5,
           8.2,
           8,
           9.2,
           7.4,
           7.9,
           8.8,
           7.8,
           8.3,
           7.9,
           7.8,
           8.8,
           6.9,
           8.6,
           6.9,
           7.9,
           8.6,
           7.9,
           9.4,
           9.6,
           9.2,
           8.4,
           8.5,
           8,
           8.6,
           8.6,
           8.9,
           8.4,
           8.1,
           8.7,
           8.3,
           8.8,
           8.6,
           8.7,
           8.9,
           5,
           7.4,
           5,
           5,
           5,
           9,
           9.1,
           9.7,
           8.4,
           8.9,
           5,
           7.5,
           7.7,
           9.5,
           8.1,
           9.7,
           8.1,
           10,
           9.6,
           5,
           7.9,
           7.5,
           9.8,
           7.9,
           10,
           5
          ],
          "sizemode": "area",
          "sizeref": 0.016
         },
         "mode": "markers",
         "name": "",
         "showlegend": false,
         "subplot": "mapbox",
         "type": "scattermapbox"
        }
       ],
       "layout": {
        "coloraxis": {
         "cmax": 10,
         "cmin": 5,
         "colorbar": {
          "title": {
           "text": "Score"
          }
         },
         "colorscale": [
          [
           0,
           "rgb(165,0,38)"
          ],
          [
           0.1,
           "rgb(215,48,39)"
          ],
          [
           0.2,
           "rgb(244,109,67)"
          ],
          [
           0.3,
           "rgb(253,174,97)"
          ],
          [
           0.4,
           "rgb(254,224,139)"
          ],
          [
           0.5,
           "rgb(255,255,191)"
          ],
          [
           0.6,
           "rgb(217,239,139)"
          ],
          [
           0.7,
           "rgb(166,217,106)"
          ],
          [
           0.8,
           "rgb(102,189,99)"
          ],
          [
           0.9,
           "rgb(26,152,80)"
          ],
          [
           1,
           "rgb(0,104,55)"
          ]
         ]
        },
        "height": 800,
        "legend": {
         "itemsizing": "constant",
         "tracegroupgap": 0
        },
        "mapbox": {
         "accesstoken": "pk.eyJ1Ijoidm9ud2VuIiwiYSI6ImNsMWM0dmZnazA0N2gzZG8wa2N1OTM0ZDEifQ.lCZ3DFaUYPS5XIJCWi6yNA",
         "center": {
          "lat": 46.1597174591,
          "lon": 4.0015844648
         },
         "domain": {
          "x": [
           0,
           1
          ],
          "y": [
           0,
           1
          ]
         },
         "zoom": 4.7
        },
        "margin": {
         "t": 60
        },
        "template": {
         "data": {
          "bar": [
           {
            "error_x": {
             "color": "#f2f5fa"
            },
            "error_y": {
             "color": "#f2f5fa"
            },
            "marker": {
             "line": {
              "color": "rgb(17,17,17)",
              "width": 0.5
             },
             "pattern": {
              "fillmode": "overlay",
              "size": 10,
              "solidity": 0.2
             }
            },
            "type": "bar"
           }
          ],
          "barpolar": [
           {
            "marker": {
             "line": {
              "color": "rgb(17,17,17)",
              "width": 0.5
             },
             "pattern": {
              "fillmode": "overlay",
              "size": 10,
              "solidity": 0.2
             }
            },
            "type": "barpolar"
           }
          ],
          "carpet": [
           {
            "aaxis": {
             "endlinecolor": "#A2B1C6",
             "gridcolor": "#506784",
             "linecolor": "#506784",
             "minorgridcolor": "#506784",
             "startlinecolor": "#A2B1C6"
            },
            "baxis": {
             "endlinecolor": "#A2B1C6",
             "gridcolor": "#506784",
             "linecolor": "#506784",
             "minorgridcolor": "#506784",
             "startlinecolor": "#A2B1C6"
            },
            "type": "carpet"
           }
          ],
          "choropleth": [
           {
            "colorbar": {
             "outlinewidth": 0,
             "ticks": ""
            },
            "type": "choropleth"
           }
          ],
          "contour": [
           {
            "colorbar": {
             "outlinewidth": 0,
             "ticks": ""
            },
            "colorscale": [
             [
              0,
              "#0d0887"
             ],
             [
              0.1111111111111111,
              "#46039f"
             ],
             [
              0.2222222222222222,
              "#7201a8"
             ],
             [
              0.3333333333333333,
              "#9c179e"
             ],
             [
              0.4444444444444444,
              "#bd3786"
             ],
             [
              0.5555555555555556,
              "#d8576b"
             ],
             [
              0.6666666666666666,
              "#ed7953"
             ],
             [
              0.7777777777777778,
              "#fb9f3a"
             ],
             [
              0.8888888888888888,
              "#fdca26"
             ],
             [
              1,
              "#f0f921"
             ]
            ],
            "type": "contour"
           }
          ],
          "contourcarpet": [
           {
            "colorbar": {
             "outlinewidth": 0,
             "ticks": ""
            },
            "type": "contourcarpet"
           }
          ],
          "heatmap": [
           {
            "colorbar": {
             "outlinewidth": 0,
             "ticks": ""
            },
            "colorscale": [
             [
              0,
              "#0d0887"
             ],
             [
              0.1111111111111111,
              "#46039f"
             ],
             [
              0.2222222222222222,
              "#7201a8"
             ],
             [
              0.3333333333333333,
              "#9c179e"
             ],
             [
              0.4444444444444444,
              "#bd3786"
             ],
             [
              0.5555555555555556,
              "#d8576b"
             ],
             [
              0.6666666666666666,
              "#ed7953"
             ],
             [
              0.7777777777777778,
              "#fb9f3a"
             ],
             [
              0.8888888888888888,
              "#fdca26"
             ],
             [
              1,
              "#f0f921"
             ]
            ],
            "type": "heatmap"
           }
          ],
          "heatmapgl": [
           {
            "colorbar": {
             "outlinewidth": 0,
             "ticks": ""
            },
            "colorscale": [
             [
              0,
              "#0d0887"
             ],
             [
              0.1111111111111111,
              "#46039f"
             ],
             [
              0.2222222222222222,
              "#7201a8"
             ],
             [
              0.3333333333333333,
              "#9c179e"
             ],
             [
              0.4444444444444444,
              "#bd3786"
             ],
             [
              0.5555555555555556,
              "#d8576b"
             ],
             [
              0.6666666666666666,
              "#ed7953"
             ],
             [
              0.7777777777777778,
              "#fb9f3a"
             ],
             [
              0.8888888888888888,
              "#fdca26"
             ],
             [
              1,
              "#f0f921"
             ]
            ],
            "type": "heatmapgl"
           }
          ],
          "histogram": [
           {
            "marker": {
             "pattern": {
              "fillmode": "overlay",
              "size": 10,
              "solidity": 0.2
             }
            },
            "type": "histogram"
           }
          ],
          "histogram2d": [
           {
            "colorbar": {
             "outlinewidth": 0,
             "ticks": ""
            },
            "colorscale": [
             [
              0,
              "#0d0887"
             ],
             [
              0.1111111111111111,
              "#46039f"
             ],
             [
              0.2222222222222222,
              "#7201a8"
             ],
             [
              0.3333333333333333,
              "#9c179e"
             ],
             [
              0.4444444444444444,
              "#bd3786"
             ],
             [
              0.5555555555555556,
              "#d8576b"
             ],
             [
              0.6666666666666666,
              "#ed7953"
             ],
             [
              0.7777777777777778,
              "#fb9f3a"
             ],
             [
              0.8888888888888888,
              "#fdca26"
             ],
             [
              1,
              "#f0f921"
             ]
            ],
            "type": "histogram2d"
           }
          ],
          "histogram2dcontour": [
           {
            "colorbar": {
             "outlinewidth": 0,
             "ticks": ""
            },
            "colorscale": [
             [
              0,
              "#0d0887"
             ],
             [
              0.1111111111111111,
              "#46039f"
             ],
             [
              0.2222222222222222,
              "#7201a8"
             ],
             [
              0.3333333333333333,
              "#9c179e"
             ],
             [
              0.4444444444444444,
              "#bd3786"
             ],
             [
              0.5555555555555556,
              "#d8576b"
             ],
             [
              0.6666666666666666,
              "#ed7953"
             ],
             [
              0.7777777777777778,
              "#fb9f3a"
             ],
             [
              0.8888888888888888,
              "#fdca26"
             ],
             [
              1,
              "#f0f921"
             ]
            ],
            "type": "histogram2dcontour"
           }
          ],
          "mesh3d": [
           {
            "colorbar": {
             "outlinewidth": 0,
             "ticks": ""
            },
            "type": "mesh3d"
           }
          ],
          "parcoords": [
           {
            "line": {
             "colorbar": {
              "outlinewidth": 0,
              "ticks": ""
             }
            },
            "type": "parcoords"
           }
          ],
          "pie": [
           {
            "automargin": true,
            "type": "pie"
           }
          ],
          "scatter": [
           {
            "marker": {
             "line": {
              "color": "#283442"
             }
            },
            "type": "scatter"
           }
          ],
          "scatter3d": [
           {
            "line": {
             "colorbar": {
              "outlinewidth": 0,
              "ticks": ""
             }
            },
            "marker": {
             "colorbar": {
              "outlinewidth": 0,
              "ticks": ""
             }
            },
            "type": "scatter3d"
           }
          ],
          "scattercarpet": [
           {
            "marker": {
             "colorbar": {
              "outlinewidth": 0,
              "ticks": ""
             }
            },
            "type": "scattercarpet"
           }
          ],
          "scattergeo": [
           {
            "marker": {
             "colorbar": {
              "outlinewidth": 0,
              "ticks": ""
             }
            },
            "type": "scattergeo"
           }
          ],
          "scattergl": [
           {
            "marker": {
             "line": {
              "color": "#283442"
             }
            },
            "type": "scattergl"
           }
          ],
          "scattermapbox": [
           {
            "marker": {
             "colorbar": {
              "outlinewidth": 0,
              "ticks": ""
             }
            },
            "type": "scattermapbox"
           }
          ],
          "scatterpolar": [
           {
            "marker": {
             "colorbar": {
              "outlinewidth": 0,
              "ticks": ""
             }
            },
            "type": "scatterpolar"
           }
          ],
          "scatterpolargl": [
           {
            "marker": {
             "colorbar": {
              "outlinewidth": 0,
              "ticks": ""
             }
            },
            "type": "scatterpolargl"
           }
          ],
          "scatterternary": [
           {
            "marker": {
             "colorbar": {
              "outlinewidth": 0,
              "ticks": ""
             }
            },
            "type": "scatterternary"
           }
          ],
          "surface": [
           {
            "colorbar": {
             "outlinewidth": 0,
             "ticks": ""
            },
            "colorscale": [
             [
              0,
              "#0d0887"
             ],
             [
              0.1111111111111111,
              "#46039f"
             ],
             [
              0.2222222222222222,
              "#7201a8"
             ],
             [
              0.3333333333333333,
              "#9c179e"
             ],
             [
              0.4444444444444444,
              "#bd3786"
             ],
             [
              0.5555555555555556,
              "#d8576b"
             ],
             [
              0.6666666666666666,
              "#ed7953"
             ],
             [
              0.7777777777777778,
              "#fb9f3a"
             ],
             [
              0.8888888888888888,
              "#fdca26"
             ],
             [
              1,
              "#f0f921"
             ]
            ],
            "type": "surface"
           }
          ],
          "table": [
           {
            "cells": {
             "fill": {
              "color": "#506784"
             },
             "line": {
              "color": "rgb(17,17,17)"
             }
            },
            "header": {
             "fill": {
              "color": "#2a3f5f"
             },
             "line": {
              "color": "rgb(17,17,17)"
             }
            },
            "type": "table"
           }
          ]
         },
         "layout": {
          "annotationdefaults": {
           "arrowcolor": "#f2f5fa",
           "arrowhead": 0,
           "arrowwidth": 1
          },
          "autotypenumbers": "strict",
          "coloraxis": {
           "colorbar": {
            "outlinewidth": 0,
            "ticks": ""
           }
          },
          "colorscale": {
           "diverging": [
            [
             0,
             "#8e0152"
            ],
            [
             0.1,
             "#c51b7d"
            ],
            [
             0.2,
             "#de77ae"
            ],
            [
             0.3,
             "#f1b6da"
            ],
            [
             0.4,
             "#fde0ef"
            ],
            [
             0.5,
             "#f7f7f7"
            ],
            [
             0.6,
             "#e6f5d0"
            ],
            [
             0.7,
             "#b8e186"
            ],
            [
             0.8,
             "#7fbc41"
            ],
            [
             0.9,
             "#4d9221"
            ],
            [
             1,
             "#276419"
            ]
           ],
           "sequential": [
            [
             0,
             "#0d0887"
            ],
            [
             0.1111111111111111,
             "#46039f"
            ],
            [
             0.2222222222222222,
             "#7201a8"
            ],
            [
             0.3333333333333333,
             "#9c179e"
            ],
            [
             0.4444444444444444,
             "#bd3786"
            ],
            [
             0.5555555555555556,
             "#d8576b"
            ],
            [
             0.6666666666666666,
             "#ed7953"
            ],
            [
             0.7777777777777778,
             "#fb9f3a"
            ],
            [
             0.8888888888888888,
             "#fdca26"
            ],
            [
             1,
             "#f0f921"
            ]
           ],
           "sequentialminus": [
            [
             0,
             "#0d0887"
            ],
            [
             0.1111111111111111,
             "#46039f"
            ],
            [
             0.2222222222222222,
             "#7201a8"
            ],
            [
             0.3333333333333333,
             "#9c179e"
            ],
            [
             0.4444444444444444,
             "#bd3786"
            ],
            [
             0.5555555555555556,
             "#d8576b"
            ],
            [
             0.6666666666666666,
             "#ed7953"
            ],
            [
             0.7777777777777778,
             "#fb9f3a"
            ],
            [
             0.8888888888888888,
             "#fdca26"
            ],
            [
             1,
             "#f0f921"
            ]
           ]
          },
          "colorway": [
           "#636efa",
           "#EF553B",
           "#00cc96",
           "#ab63fa",
           "#FFA15A",
           "#19d3f3",
           "#FF6692",
           "#B6E880",
           "#FF97FF",
           "#FECB52"
          ],
          "font": {
           "color": "#f2f5fa"
          },
          "geo": {
           "bgcolor": "rgb(17,17,17)",
           "lakecolor": "rgb(17,17,17)",
           "landcolor": "rgb(17,17,17)",
           "showlakes": true,
           "showland": true,
           "subunitcolor": "#506784"
          },
          "hoverlabel": {
           "align": "left"
          },
          "hovermode": "closest",
          "mapbox": {
           "style": "dark"
          },
          "paper_bgcolor": "rgb(17,17,17)",
          "plot_bgcolor": "rgb(17,17,17)",
          "polar": {
           "angularaxis": {
            "gridcolor": "#506784",
            "linecolor": "#506784",
            "ticks": ""
           },
           "bgcolor": "rgb(17,17,17)",
           "radialaxis": {
            "gridcolor": "#506784",
            "linecolor": "#506784",
            "ticks": ""
           }
          },
          "scene": {
           "xaxis": {
            "backgroundcolor": "rgb(17,17,17)",
            "gridcolor": "#506784",
            "gridwidth": 2,
            "linecolor": "#506784",
            "showbackground": true,
            "ticks": "",
            "zerolinecolor": "#C8D4E3"
           },
           "yaxis": {
            "backgroundcolor": "rgb(17,17,17)",
            "gridcolor": "#506784",
            "gridwidth": 2,
            "linecolor": "#506784",
            "showbackground": true,
            "ticks": "",
            "zerolinecolor": "#C8D4E3"
           },
           "zaxis": {
            "backgroundcolor": "rgb(17,17,17)",
            "gridcolor": "#506784",
            "gridwidth": 2,
            "linecolor": "#506784",
            "showbackground": true,
            "ticks": "",
            "zerolinecolor": "#C8D4E3"
           }
          },
          "shapedefaults": {
           "line": {
            "color": "#f2f5fa"
           }
          },
          "sliderdefaults": {
           "bgcolor": "#C8D4E3",
           "bordercolor": "rgb(17,17,17)",
           "borderwidth": 1,
           "tickwidth": 0
          },
          "ternary": {
           "aaxis": {
            "gridcolor": "#506784",
            "linecolor": "#506784",
            "ticks": ""
           },
           "baxis": {
            "gridcolor": "#506784",
            "linecolor": "#506784",
            "ticks": ""
           },
           "bgcolor": "rgb(17,17,17)",
           "caxis": {
            "gridcolor": "#506784",
            "linecolor": "#506784",
            "ticks": ""
           }
          },
          "title": {
           "x": 0.05
          },
          "updatemenudefaults": {
           "bgcolor": "#506784",
           "borderwidth": 0
          },
          "xaxis": {
           "automargin": true,
           "gridcolor": "#283442",
           "linecolor": "#506784",
           "ticks": "",
           "title": {
            "standoff": 15
           },
           "zerolinecolor": "#283442",
           "zerolinewidth": 2
          },
          "yaxis": {
           "automargin": true,
           "gridcolor": "#283442",
           "linecolor": "#506784",
           "ticks": "",
           "title": {
            "standoff": 15
           },
           "zerolinecolor": "#283442",
           "zerolinewidth": 2
          }
         }
        },
        "title": {
         "text": "20 best hotels from the 5 cities with the best weather",
         "x": 0.5
        },
        "width": 1100
       }
      }
     },
     "metadata": {},
     "output_type": "display_data"
    }
   ],
   "source": [
    "# Creating a plotly scatter mapbox showing the 20 hotels from the previous 5 top cities\n",
    "px.set_mapbox_access_token(open(\".mapbox_token\").read())\n",
    "\n",
    "fig = px.scatter_mapbox(\n",
    "    df_hotels_full[:100],\n",
    "    lat='lat_hotels',\n",
    "    lon='lon_hotels',\n",
    "    color='score',\n",
    "    color_continuous_scale=px.colors.diverging.RdYlGn,\n",
    "    size='score',\n",
    "    size_max=25,\n",
    "    zoom=4.7,\n",
    "    range_color = [min(df_hotels_full[:100]['score']), max(df_hotels_full[:100]['score'])],\n",
    "    hover_name='city',\n",
    "    hover_data={\n",
    "        'lat_hotels': False,\n",
    "        'lon_hotels': False,\n",
    "        'name': True,\n",
    "        'url': False,\n",
    "        'description': False,\n",
    "        'score_weather': False,\n",
    "        'id': False,\n",
    "        },\n",
    "    labels={'score': 'Score', 'city': 'City'}\n",
    ")\n",
    "\n",
    "fig.update_layout(\n",
    "    width = 1100,\n",
    "    height = 800,\n",
    "    template='plotly_dark',\n",
    "    title_x=0.5,\n",
    "    title_text='20 best hotels from the 5 cities with the best weather')\n",
    "fig.show()"
   ]
  }
 ],
 "metadata": {
  "interpreter": {
   "hash": "398748c372d42d99dcfa9ac8f694c5d292e22baf2e524ae29249ce2ce8b32818"
  },
  "kernelspec": {
   "display_name": "Python 3.9.10 ('base')",
   "language": "python",
   "name": "python3"
  },
  "language_info": {
   "codemirror_mode": {
    "name": "ipython",
    "version": 3
   },
   "file_extension": ".py",
   "mimetype": "text/x-python",
   "name": "python",
   "nbconvert_exporter": "python",
   "pygments_lexer": "ipython3",
   "version": "3.9.12"
  },
  "orig_nbformat": 4
 },
 "nbformat": 4,
 "nbformat_minor": 2
}
