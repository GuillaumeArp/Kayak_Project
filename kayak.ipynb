{
 "cells": [
  {
   "cell_type": "markdown",
   "metadata": {},
   "source": [
    "# Kayak Project"
   ]
  },
  {
   "cell_type": "markdown",
   "metadata": {},
   "source": [
    "## Imports"
   ]
  },
  {
   "cell_type": "code",
   "execution_count": 1,
   "metadata": {},
   "outputs": [],
   "source": [
    "import pandas as pd\n",
    "import numpy as np\n",
    "import plotly.express as px\n",
    "import requests\n",
    "from dotenv import load_dotenv\n",
    "import os\n",
    "import logging\n",
    "import scrapy\n",
    "from scrapy.crawler import CrawlerProcess\n",
    "from bs4 import BeautifulSoup\n",
    "import requests\n",
    "import time\n",
    "\n",
    "load_dotenv()\n",
    "%load_ext dotenv\n",
    "%dotenv\n",
    "\n",
    "key = os.getenv('APIKEY')"
   ]
  },
  {
   "cell_type": "code",
   "execution_count": 2,
   "metadata": {},
   "outputs": [],
   "source": [
    "cities = [\"Mont Saint Michel\", \"St Malo\", \"Bayeux\", \"Le Havre\", \"Rouen\", \"Paris\", \"Amiens\", \"Lille\", \"Strasbourg\", \"Chateau du Haut Koenigsbourg\", \"Colmar\", \"Eguisheim\", \"Besancon\", \"Dijon\", \"Annecy\", \"Grenoble\", \"Lyon\", \"Gorges du Verdon\", \"Bormes les Mimosas\", \"Cassis\", \"Marseille\", \"Aix en Provence\", \"Avignon\", \"Uzes\", \"Nimes\", \"Aigues Mortes\", \"Saintes Maries de la mer\", \"Collioure\", \"Carcassonne\", \"Ariege\", \"Toulouse\", \"Montauban\", \"Biarritz\", \"Bayonne\", \"La Rochelle\"]"
   ]
  },
  {
   "cell_type": "code",
   "execution_count": 3,
   "metadata": {},
   "outputs": [
    {
     "data": {
      "text/html": [
       "<div>\n",
       "<style scoped>\n",
       "    .dataframe tbody tr th:only-of-type {\n",
       "        vertical-align: middle;\n",
       "    }\n",
       "\n",
       "    .dataframe tbody tr th {\n",
       "        vertical-align: top;\n",
       "    }\n",
       "\n",
       "    .dataframe thead th {\n",
       "        text-align: right;\n",
       "    }\n",
       "</style>\n",
       "<table border=\"1\" class=\"dataframe\">\n",
       "  <thead>\n",
       "    <tr style=\"text-align: right;\">\n",
       "      <th></th>\n",
       "      <th>id</th>\n",
       "      <th>city</th>\n",
       "    </tr>\n",
       "  </thead>\n",
       "  <tbody>\n",
       "    <tr>\n",
       "      <th>0</th>\n",
       "      <td>0</td>\n",
       "      <td>Mont Saint Michel</td>\n",
       "    </tr>\n",
       "    <tr>\n",
       "      <th>1</th>\n",
       "      <td>1</td>\n",
       "      <td>St Malo</td>\n",
       "    </tr>\n",
       "    <tr>\n",
       "      <th>2</th>\n",
       "      <td>2</td>\n",
       "      <td>Bayeux</td>\n",
       "    </tr>\n",
       "    <tr>\n",
       "      <th>3</th>\n",
       "      <td>3</td>\n",
       "      <td>Le Havre</td>\n",
       "    </tr>\n",
       "    <tr>\n",
       "      <th>4</th>\n",
       "      <td>4</td>\n",
       "      <td>Rouen</td>\n",
       "    </tr>\n",
       "    <tr>\n",
       "      <th>5</th>\n",
       "      <td>5</td>\n",
       "      <td>Paris</td>\n",
       "    </tr>\n",
       "    <tr>\n",
       "      <th>6</th>\n",
       "      <td>6</td>\n",
       "      <td>Amiens</td>\n",
       "    </tr>\n",
       "    <tr>\n",
       "      <th>7</th>\n",
       "      <td>7</td>\n",
       "      <td>Lille</td>\n",
       "    </tr>\n",
       "    <tr>\n",
       "      <th>8</th>\n",
       "      <td>8</td>\n",
       "      <td>Strasbourg</td>\n",
       "    </tr>\n",
       "    <tr>\n",
       "      <th>9</th>\n",
       "      <td>9</td>\n",
       "      <td>Chateau du Haut Koenigsbourg</td>\n",
       "    </tr>\n",
       "    <tr>\n",
       "      <th>10</th>\n",
       "      <td>10</td>\n",
       "      <td>Colmar</td>\n",
       "    </tr>\n",
       "    <tr>\n",
       "      <th>11</th>\n",
       "      <td>11</td>\n",
       "      <td>Eguisheim</td>\n",
       "    </tr>\n",
       "    <tr>\n",
       "      <th>12</th>\n",
       "      <td>12</td>\n",
       "      <td>Besancon</td>\n",
       "    </tr>\n",
       "    <tr>\n",
       "      <th>13</th>\n",
       "      <td>13</td>\n",
       "      <td>Dijon</td>\n",
       "    </tr>\n",
       "    <tr>\n",
       "      <th>14</th>\n",
       "      <td>14</td>\n",
       "      <td>Annecy</td>\n",
       "    </tr>\n",
       "    <tr>\n",
       "      <th>15</th>\n",
       "      <td>15</td>\n",
       "      <td>Grenoble</td>\n",
       "    </tr>\n",
       "    <tr>\n",
       "      <th>16</th>\n",
       "      <td>16</td>\n",
       "      <td>Lyon</td>\n",
       "    </tr>\n",
       "    <tr>\n",
       "      <th>17</th>\n",
       "      <td>17</td>\n",
       "      <td>Gorges du Verdon</td>\n",
       "    </tr>\n",
       "    <tr>\n",
       "      <th>18</th>\n",
       "      <td>18</td>\n",
       "      <td>Bormes les Mimosas</td>\n",
       "    </tr>\n",
       "    <tr>\n",
       "      <th>19</th>\n",
       "      <td>19</td>\n",
       "      <td>Cassis</td>\n",
       "    </tr>\n",
       "    <tr>\n",
       "      <th>20</th>\n",
       "      <td>20</td>\n",
       "      <td>Marseille</td>\n",
       "    </tr>\n",
       "    <tr>\n",
       "      <th>21</th>\n",
       "      <td>21</td>\n",
       "      <td>Aix en Provence</td>\n",
       "    </tr>\n",
       "    <tr>\n",
       "      <th>22</th>\n",
       "      <td>22</td>\n",
       "      <td>Avignon</td>\n",
       "    </tr>\n",
       "    <tr>\n",
       "      <th>23</th>\n",
       "      <td>23</td>\n",
       "      <td>Uzes</td>\n",
       "    </tr>\n",
       "    <tr>\n",
       "      <th>24</th>\n",
       "      <td>24</td>\n",
       "      <td>Nimes</td>\n",
       "    </tr>\n",
       "    <tr>\n",
       "      <th>25</th>\n",
       "      <td>25</td>\n",
       "      <td>Aigues Mortes</td>\n",
       "    </tr>\n",
       "    <tr>\n",
       "      <th>26</th>\n",
       "      <td>26</td>\n",
       "      <td>Saintes Maries de la mer</td>\n",
       "    </tr>\n",
       "    <tr>\n",
       "      <th>27</th>\n",
       "      <td>27</td>\n",
       "      <td>Collioure</td>\n",
       "    </tr>\n",
       "    <tr>\n",
       "      <th>28</th>\n",
       "      <td>28</td>\n",
       "      <td>Carcassonne</td>\n",
       "    </tr>\n",
       "    <tr>\n",
       "      <th>29</th>\n",
       "      <td>29</td>\n",
       "      <td>Ariege</td>\n",
       "    </tr>\n",
       "    <tr>\n",
       "      <th>30</th>\n",
       "      <td>30</td>\n",
       "      <td>Toulouse</td>\n",
       "    </tr>\n",
       "    <tr>\n",
       "      <th>31</th>\n",
       "      <td>31</td>\n",
       "      <td>Montauban</td>\n",
       "    </tr>\n",
       "    <tr>\n",
       "      <th>32</th>\n",
       "      <td>32</td>\n",
       "      <td>Biarritz</td>\n",
       "    </tr>\n",
       "    <tr>\n",
       "      <th>33</th>\n",
       "      <td>33</td>\n",
       "      <td>Bayonne</td>\n",
       "    </tr>\n",
       "    <tr>\n",
       "      <th>34</th>\n",
       "      <td>34</td>\n",
       "      <td>La Rochelle</td>\n",
       "    </tr>\n",
       "  </tbody>\n",
       "</table>\n",
       "</div>"
      ],
      "text/plain": [
       "    id                          city\n",
       "0    0             Mont Saint Michel\n",
       "1    1                       St Malo\n",
       "2    2                        Bayeux\n",
       "3    3                      Le Havre\n",
       "4    4                         Rouen\n",
       "5    5                         Paris\n",
       "6    6                        Amiens\n",
       "7    7                         Lille\n",
       "8    8                    Strasbourg\n",
       "9    9  Chateau du Haut Koenigsbourg\n",
       "10  10                        Colmar\n",
       "11  11                     Eguisheim\n",
       "12  12                      Besancon\n",
       "13  13                         Dijon\n",
       "14  14                        Annecy\n",
       "15  15                      Grenoble\n",
       "16  16                          Lyon\n",
       "17  17              Gorges du Verdon\n",
       "18  18            Bormes les Mimosas\n",
       "19  19                        Cassis\n",
       "20  20                     Marseille\n",
       "21  21               Aix en Provence\n",
       "22  22                       Avignon\n",
       "23  23                          Uzes\n",
       "24  24                         Nimes\n",
       "25  25                 Aigues Mortes\n",
       "26  26      Saintes Maries de la mer\n",
       "27  27                     Collioure\n",
       "28  28                   Carcassonne\n",
       "29  29                        Ariege\n",
       "30  30                      Toulouse\n",
       "31  31                     Montauban\n",
       "32  32                      Biarritz\n",
       "33  33                       Bayonne\n",
       "34  34                   La Rochelle"
      ]
     },
     "execution_count": 3,
     "metadata": {},
     "output_type": "execute_result"
    }
   ],
   "source": [
    "df_cities = pd.DataFrame(columns=[\"city\"])\n",
    "df_cities['city'] = cities\n",
    "df_cities.reset_index(inplace=True)\n",
    "df_cities.rename(columns={'index': 'id'}, inplace=True)\n",
    "df_cities"
   ]
  },
  {
   "cell_type": "markdown",
   "metadata": {},
   "source": [
    "## Scraping Booking.com"
   ]
  },
  {
   "cell_type": "code",
   "execution_count": 4,
   "metadata": {},
   "outputs": [],
   "source": [
    "df_booking = df_cities.copy(deep=True)\n",
    "\n",
    "class BookingSpider(scrapy.Spider):\n",
    "    name = \"Booking_data\"\n",
    "    cities = df_booking[\"city\"]\n",
    "    start_urls = ['https://www.booking.com/index.fr.html']\n",
    "\n",
    "    def parse(self, response):\n",
    "        for x in cities:\n",
    "            yield scrapy.FormRequest.from_response(\n",
    "            response,\n",
    "            formdata={'ss': x },\n",
    "            callback=self.after_search\n",
    "        )\n",
    "\n",
    "    def after_search(self, response):\n",
    "        cities = response.url.split(\"ss=\")[-1].split(\"&\")[0]\n",
    "                \n",
    "        booking = response.css('.d4924c9e74')\n",
    "        \n",
    "        for data in booking:\n",
    "            \n",
    "            yield {\n",
    "                'location': cities,\n",
    "                'name': data.css('a div.fcab3ed991.a23c043802::text').getall(),\n",
    "                'url': data.css('h3.a4225678b2 a::attr(href)').getall(),\n",
    "                # 'score': data.css('div.b5cd09854e.d10a6220b4::text').getall(),\n",
    "                # 'description': data.css('div.d8eab2cf7f::text').getall(),\n",
    "            }\n",
    "\n",
    "        try:\n",
    "            next_page = response.css('a.paging-next').attrib[\"href\"]\n",
    "        except KeyError:\n",
    "            logging.info('No next page. Terminating crawling process.')\n",
    "        else:\n",
    "            yield response.follow(next_page, callback=self.after_search)"
   ]
  },
  {
   "cell_type": "code",
   "execution_count": 5,
   "metadata": {},
   "outputs": [
    {
     "name": "stderr",
     "output_type": "stream",
     "text": [
      "2022-04-13 21:39:48 [scrapy.utils.log] INFO: Scrapy 2.6.1 started (bot: scrapybot)\n",
      "2022-04-13 21:39:48 [scrapy.utils.log] INFO: Versions: lxml 4.8.0.0, libxml2 2.9.4, cssselect 1.1.0, parsel 1.6.0, w3lib 1.22.0, Twisted 22.2.0, Python 3.9.10 | packaged by conda-forge | (main, Feb  1 2022, 21:27:43) - [Clang 11.1.0 ], pyOpenSSL 22.0.0 (OpenSSL 1.1.1n  15 Mar 2022), cryptography 36.0.1, Platform macOS-12.3.1-arm64-arm-64bit\n",
      "2022-04-13 21:39:48 [scrapy.crawler] INFO: Overridden settings:\n",
      "{'AUTOTHROTTLE_ENABLED': True,\n",
      " 'LOG_LEVEL': 20,\n",
      " 'USER_AGENT': 'Mozilla/5.0 (Windows NT 10.0; Win64; x64; rv:92.0) '\n",
      "               'Gecko/20100101 Firefox/92.0'}\n",
      "2022-04-13 21:39:48 [scrapy.extensions.telnet] INFO: Telnet Password: b3178f7049a58bbe\n",
      "2022-04-13 21:39:48 [scrapy.middleware] INFO: Enabled extensions:\n",
      "['scrapy.extensions.corestats.CoreStats',\n",
      " 'scrapy.extensions.telnet.TelnetConsole',\n",
      " 'scrapy.extensions.memusage.MemoryUsage',\n",
      " 'scrapy.extensions.feedexport.FeedExporter',\n",
      " 'scrapy.extensions.logstats.LogStats',\n",
      " 'scrapy.extensions.throttle.AutoThrottle']\n",
      "2022-04-13 21:39:49 [scrapy.middleware] INFO: Enabled downloader middlewares:\n",
      "['scrapy.downloadermiddlewares.httpauth.HttpAuthMiddleware',\n",
      " 'scrapy.downloadermiddlewares.downloadtimeout.DownloadTimeoutMiddleware',\n",
      " 'scrapy.downloadermiddlewares.defaultheaders.DefaultHeadersMiddleware',\n",
      " 'scrapy.downloadermiddlewares.useragent.UserAgentMiddleware',\n",
      " 'scrapy.downloadermiddlewares.retry.RetryMiddleware',\n",
      " 'scrapy.downloadermiddlewares.redirect.MetaRefreshMiddleware',\n",
      " 'scrapy.downloadermiddlewares.httpcompression.HttpCompressionMiddleware',\n",
      " 'scrapy.downloadermiddlewares.redirect.RedirectMiddleware',\n",
      " 'scrapy.downloadermiddlewares.cookies.CookiesMiddleware',\n",
      " 'scrapy.downloadermiddlewares.httpproxy.HttpProxyMiddleware',\n",
      " 'scrapy.downloadermiddlewares.stats.DownloaderStats']\n",
      "2022-04-13 21:39:49 [scrapy.middleware] INFO: Enabled spider middlewares:\n",
      "['scrapy.spidermiddlewares.httperror.HttpErrorMiddleware',\n",
      " 'scrapy.spidermiddlewares.offsite.OffsiteMiddleware',\n",
      " 'scrapy.spidermiddlewares.referer.RefererMiddleware',\n",
      " 'scrapy.spidermiddlewares.urllength.UrlLengthMiddleware',\n",
      " 'scrapy.spidermiddlewares.depth.DepthMiddleware']\n",
      "2022-04-13 21:39:49 [scrapy.middleware] INFO: Enabled item pipelines:\n",
      "[]\n",
      "2022-04-13 21:39:49 [scrapy.core.engine] INFO: Spider opened\n",
      "2022-04-13 21:39:49 [scrapy.extensions.logstats] INFO: Crawled 0 pages (at 0 pages/min), scraped 0 items (at 0 items/min)\n",
      "2022-04-13 21:39:49 [scrapy.extensions.telnet] INFO: Telnet console listening on 127.0.0.1:6023\n",
      "2022-04-13 21:39:49 [scrapy.core.scraper] ERROR: Error downloading <GET https://www.booking.com/index.fr.html>\n",
      "Traceback (most recent call last):\n",
      "  File \"/Users/guillaumearp/miniforge3/lib/python3.9/site-packages/twisted/internet/defer.py\", line 1656, in _inlineCallbacks\n",
      "    result = current_context.run(\n",
      "  File \"/Users/guillaumearp/miniforge3/lib/python3.9/site-packages/twisted/python/failure.py\", line 489, in throwExceptionIntoGenerator\n",
      "    return g.throw(self.type, self.value, self.tb)\n",
      "  File \"/Users/guillaumearp/miniforge3/lib/python3.9/site-packages/scrapy/core/downloader/middleware.py\", line 49, in process_request\n",
      "    return (yield download_func(request=request, spider=spider))\n",
      "  File \"/Users/guillaumearp/miniforge3/lib/python3.9/site-packages/scrapy/utils/defer.py\", line 67, in mustbe_deferred\n",
      "    result = f(*args, **kw)\n",
      "  File \"/Users/guillaumearp/miniforge3/lib/python3.9/site-packages/scrapy/core/downloader/handlers/__init__.py\", line 75, in download_request\n",
      "    return handler.download_request(request, spider)\n",
      "  File \"/Users/guillaumearp/miniforge3/lib/python3.9/site-packages/scrapy/core/downloader/handlers/http11.py\", line 65, in download_request\n",
      "    return agent.download_request(request)\n",
      "  File \"/Users/guillaumearp/miniforge3/lib/python3.9/site-packages/scrapy/core/downloader/handlers/http11.py\", line 340, in download_request\n",
      "    d = agent.request(method, to_bytes(url, encoding='ascii'), headers, bodyproducer)\n",
      "  File \"/Users/guillaumearp/miniforge3/lib/python3.9/site-packages/twisted/web/client.py\", line 1148, in request\n",
      "    endpoint = self._getEndpoint(parsedURI)\n",
      "  File \"/Users/guillaumearp/miniforge3/lib/python3.9/site-packages/twisted/web/client.py\", line 1132, in _getEndpoint\n",
      "    return self._endpointFactory.endpointForURI(uri)\n",
      "  File \"/Users/guillaumearp/miniforge3/lib/python3.9/site-packages/twisted/web/client.py\", line 1003, in endpointForURI\n",
      "    connectionCreator = self._policyForHTTPS.creatorForNetloc(\n",
      "  File \"/Users/guillaumearp/miniforge3/lib/python3.9/site-packages/scrapy/core/downloader/contextfactory.py\", line 67, in creatorForNetloc\n",
      "    return ScrapyClientTLSOptions(hostname.decode(\"ascii\"), self.getContext(),\n",
      "  File \"/Users/guillaumearp/miniforge3/lib/python3.9/site-packages/scrapy/core/downloader/contextfactory.py\", line 64, in getContext\n",
      "    return self.getCertificateOptions().getContext()\n",
      "  File \"/Users/guillaumearp/miniforge3/lib/python3.9/site-packages/twisted/internet/_sslverify.py\", line 1632, in getContext\n",
      "    self._context = self._makeContext()\n",
      "  File \"/Users/guillaumearp/miniforge3/lib/python3.9/site-packages/twisted/internet/_sslverify.py\", line 1663, in _makeContext\n",
      "    ctx.set_verify(verifyFlags, _verifyCallback)\n",
      "  File \"/Users/guillaumearp/miniforge3/lib/python3.9/site-packages/OpenSSL/SSL.py\", line 1128, in set_verify\n",
      "    self._verify_helper = _VerifyHelper(callback)\n",
      "  File \"/Users/guillaumearp/miniforge3/lib/python3.9/site-packages/OpenSSL/SSL.py\", line 359, in __init__\n",
      "    self.callback = _ffi.callback(\n",
      "MemoryError: Cannot allocate write+execute memory for ffi.callback(). You might be running on a system that prevents this. For more information, see https://cffi.readthedocs.io/en/latest/using.html#callbacks\n",
      "2022-04-13 21:39:49 [scrapy.core.engine] INFO: Closing spider (finished)\n",
      "2022-04-13 21:39:49 [scrapy.statscollectors] INFO: Dumping Scrapy stats:\n",
      "{'downloader/exception_count': 1,\n",
      " 'downloader/exception_type_count/builtins.MemoryError': 1,\n",
      " 'downloader/request_bytes': 276,\n",
      " 'downloader/request_count': 1,\n",
      " 'downloader/request_method_count/GET': 1,\n",
      " 'elapsed_time_seconds': 0.317086,\n",
      " 'finish_reason': 'finished',\n",
      " 'finish_time': datetime.datetime(2022, 4, 13, 19, 39, 49, 501581),\n",
      " 'log_count/ERROR': 1,\n",
      " 'log_count/INFO': 10,\n",
      " 'memusage/max': 152698880,\n",
      " 'memusage/startup': 152698880,\n",
      " 'scheduler/dequeued': 1,\n",
      " 'scheduler/dequeued/memory': 1,\n",
      " 'scheduler/enqueued': 1,\n",
      " 'scheduler/enqueued/memory': 1,\n",
      " 'start_time': datetime.datetime(2022, 4, 13, 19, 39, 49, 184495)}\n",
      "2022-04-13 21:39:49 [scrapy.core.engine] INFO: Spider closed (finished)\n"
     ]
    }
   ],
   "source": [
    "filename = \"cities.json\"\n",
    "\n",
    "if filename in os.listdir():\n",
    "        os.remove(filename)\n",
    "\n",
    "process = CrawlerProcess(settings = {\n",
    "    'USER_AGENT': 'Mozilla/5.0 (Windows NT 10.0; Win64; x64; rv:92.0) Gecko/20100101 Firefox/92.0',\n",
    "    'LOG_LEVEL': logging.INFO,\n",
    "    \"FEEDS\": {\n",
    "        filename: {\"format\": \"json\"},\n",
    "    },\n",
    "    \"AUTOTHROTTLE_ENABLED\": True\n",
    "})\n",
    "\n",
    "process.crawl(BookingSpider)\n",
    "process.start()"
   ]
  },
  {
   "cell_type": "code",
   "execution_count": null,
   "metadata": {},
   "outputs": [],
   "source": [
    "df = pd.read_json(\"cities.json\")\n",
    "df.head()"
   ]
  },
  {
   "cell_type": "code",
   "execution_count": null,
   "metadata": {},
   "outputs": [],
   "source": [
    "for i in range (len(df[\"location\"])):\n",
    "    df[\"name\"][i] = df[\"name\"][i][0:20]\n",
    "    df[\"url\"][i] = df[\"url\"][i][0:20]"
   ]
  },
  {
   "cell_type": "code",
   "execution_count": null,
   "metadata": {},
   "outputs": [],
   "source": [
    "df[df['url'].isna()]"
   ]
  },
  {
   "cell_type": "code",
   "execution_count": null,
   "metadata": {},
   "outputs": [],
   "source": [
    "df[\"lat\"] = 0\n",
    "df[\"lon\"] = 0\n",
    "df[\"description\"] = \"test\"\n",
    "df[\"score\"] = 0.0\n",
    "\n",
    "navigator = 'Mozilla/5.0 (Macintosh; Intel Mac OS X 10_10_1)'\n",
    "\n",
    "for i in range(len(df[\"url\"])):\n",
    "    lat_list = []\n",
    "    lon_list = []\n",
    "    description_list = []\n",
    "    score_list = []\n",
    "\n",
    "    hotel_list = df[\"url\"][i]\n",
    "\n",
    "    for i2 in hotel_list:\n",
    "\n",
    "        try:\n",
    "            page = requests.get(i2, headers={'User-Agent': navigator})\n",
    "            soup = BeautifulSoup(page.text, 'html.parser')\n",
    "        except:\n",
    "            page = requests.get(i2, headers={'User-Agent': navigator})\n",
    "            soup = BeautifulSoup(page.text, 'html.parser')\n",
    "\n",
    "        lat_list.append(soup.select('p.address.address_clean a')[0].get(\"data-atlas-latlng\").split(\",\")[0])\n",
    "        lon_list.append(soup.select('p.address.address_clean a')[0].get(\"data-atlas-latlng\").split(\",\")[1])\n",
    "        description_list.append(soup.select('div#property_description_content')[0].get_text())\n",
    "\n",
    "        try:\n",
    "            score_list.append(soup.select('div.b5cd09854e.d10a6220b4')[0].get_text())\n",
    "            \n",
    "        except:\n",
    "            # Some hotels dont have a score yet but I still need one for the visualization. I set it to 0.\n",
    "            score_list.append(\"0.0\")\n",
    "\n",
    "        time.sleep(1.4)\n",
    "  \n",
    "    df[\"lat\"][i] = lat_list\n",
    "    df[\"lon\"][i] = lon_list\n",
    "    df[\"description\"][i] = description_list\n",
    "    df[\"score\"][i] = score_list\n",
    "    \n",
    "    print (f\"city {df['location'].iloc[i]} done\")"
   ]
  },
  {
   "cell_type": "code",
   "execution_count": null,
   "metadata": {},
   "outputs": [],
   "source": [
    "df[\"location\"] = df[\"location\"].str.replace(\"+\", \" \")\n",
    "df = df.set_index(\"location\")\n",
    "df = df.reindex(cities)\n",
    "df.reset_index(inplace=True)\n",
    "\n",
    "df.reset_index(inplace=True)\n",
    "df.rename(columns={'index': 'id'}, inplace=True)\n",
    "df.head(2)"
   ]
  },
  {
   "cell_type": "code",
   "execution_count": null,
   "metadata": {},
   "outputs": [],
   "source": [
    "df2 = df.copy()\n",
    "\n",
    "df_name = df2[\"name\"].explode()\n",
    "df_url = df2[\"url\"].explode()\n",
    "df_lat = df2[\"lat\"].explode()\n",
    "df_lon = df2[\"lon\"].explode()\n",
    "df_description = df2[\"description\"].explode()\n",
    "df_score = df2[\"score\"].explode()"
   ]
  },
  {
   "cell_type": "code",
   "execution_count": null,
   "metadata": {},
   "outputs": [],
   "source": [
    "df_final = pd.concat([df_name, df_url, df_lat, df_lon, df_description, df_score], axis=1)\n",
    "df_final.reset_index().head()"
   ]
  },
  {
   "cell_type": "code",
   "execution_count": null,
   "metadata": {},
   "outputs": [],
   "source": [
    "df_final[\"score\"].replace(\",\", \".\", regex=True, inplace=True)"
   ]
  },
  {
   "cell_type": "code",
   "execution_count": null,
   "metadata": {},
   "outputs": [],
   "source": [
    "df_final.info()"
   ]
  },
  {
   "cell_type": "code",
   "execution_count": null,
   "metadata": {},
   "outputs": [],
   "source": [
    "px.set_mapbox_access_token(open(\".mapbox_token\").read())\n",
    "fig = px.scatter_mapbox(\n",
    "    df_final.sort_values('name'),\n",
    "    lat='lat',\n",
    "    lon='lon',\n",
    "    color='score',\n",
    "    size='score',\n",
    "    color_continuous_scale=px.colors.diverging.Picnic,\n",
    "    size_max=30,\n",
    "    zoom=5,\n",
    "    hover_name='name'\n",
    ")\n",
    "\n",
    "fig.update_layout(width = 1300, height = 800, template='plotly_dark' ,title='Weather')\n",
    "fig.show()"
   ]
  },
  {
   "cell_type": "markdown",
   "metadata": {},
   "source": [
    "## Getting API Data"
   ]
  },
  {
   "cell_type": "markdown",
   "metadata": {},
   "source": [
    "### GPS Coordinates"
   ]
  },
  {
   "cell_type": "code",
   "execution_count": 4,
   "metadata": {},
   "outputs": [],
   "source": [
    "def get_gps(df):\n",
    "\n",
    "    df_new = df.copy(deep=True)\n",
    "    lat_list = []\n",
    "    lon_list = []\n",
    "    for i in cities:\n",
    "        if i == \"Gorges du Verdon\":\n",
    "            i = \"La%20Palud-sur-Verdon\"\n",
    "            r = requests.get(f\"https://nominatim.openstreetmap.org/search?city={i}&format=json\").json()\n",
    "            lat_list.append(r[0]['lat'])\n",
    "            lon_list.append(r[0]['lon'])\n",
    "        elif i == 'Ariege':\n",
    "            r = requests.get(f\"https://nominatim.openstreetmap.org/search?county={i}&format=json\").json()\n",
    "            lat_list.append(r[0]['lat'])\n",
    "            lon_list.append(r[0]['lon'])\n",
    "        else:\n",
    "            name = i.replace(\" \", \"%20\")\n",
    "            r = requests.get(f\"https://nominatim.openstreetmap.org/search?city={name}&format=json\").json()\n",
    "            lat_list.append(r[0]['lat'])\n",
    "            lon_list.append(r[0]['lon'])\n",
    "        \n",
    "    df_new['lat'] = lat_list\n",
    "    df_new['lon'] = lon_list \n",
    "    return df_new"
   ]
  },
  {
   "cell_type": "code",
   "execution_count": 5,
   "metadata": {},
   "outputs": [
    {
     "data": {
      "text/html": [
       "<div>\n",
       "<style scoped>\n",
       "    .dataframe tbody tr th:only-of-type {\n",
       "        vertical-align: middle;\n",
       "    }\n",
       "\n",
       "    .dataframe tbody tr th {\n",
       "        vertical-align: top;\n",
       "    }\n",
       "\n",
       "    .dataframe thead th {\n",
       "        text-align: right;\n",
       "    }\n",
       "</style>\n",
       "<table border=\"1\" class=\"dataframe\">\n",
       "  <thead>\n",
       "    <tr style=\"text-align: right;\">\n",
       "      <th></th>\n",
       "      <th>id</th>\n",
       "      <th>city</th>\n",
       "      <th>lat</th>\n",
       "      <th>lon</th>\n",
       "    </tr>\n",
       "  </thead>\n",
       "  <tbody>\n",
       "    <tr>\n",
       "      <th>0</th>\n",
       "      <td>0</td>\n",
       "      <td>Mont Saint Michel</td>\n",
       "      <td>48.6359541</td>\n",
       "      <td>-1.511459954959514</td>\n",
       "    </tr>\n",
       "    <tr>\n",
       "      <th>1</th>\n",
       "      <td>1</td>\n",
       "      <td>St Malo</td>\n",
       "      <td>48.649518</td>\n",
       "      <td>-2.0260409</td>\n",
       "    </tr>\n",
       "    <tr>\n",
       "      <th>2</th>\n",
       "      <td>2</td>\n",
       "      <td>Bayeux</td>\n",
       "      <td>49.2764624</td>\n",
       "      <td>-0.7024738</td>\n",
       "    </tr>\n",
       "    <tr>\n",
       "      <th>3</th>\n",
       "      <td>3</td>\n",
       "      <td>Le Havre</td>\n",
       "      <td>49.4938975</td>\n",
       "      <td>0.1079732</td>\n",
       "    </tr>\n",
       "    <tr>\n",
       "      <th>4</th>\n",
       "      <td>4</td>\n",
       "      <td>Rouen</td>\n",
       "      <td>49.4404591</td>\n",
       "      <td>1.0939658</td>\n",
       "    </tr>\n",
       "    <tr>\n",
       "      <th>5</th>\n",
       "      <td>5</td>\n",
       "      <td>Paris</td>\n",
       "      <td>48.8588897</td>\n",
       "      <td>2.3200410217200766</td>\n",
       "    </tr>\n",
       "    <tr>\n",
       "      <th>6</th>\n",
       "      <td>6</td>\n",
       "      <td>Amiens</td>\n",
       "      <td>49.8941708</td>\n",
       "      <td>2.2956951</td>\n",
       "    </tr>\n",
       "    <tr>\n",
       "      <th>7</th>\n",
       "      <td>7</td>\n",
       "      <td>Lille</td>\n",
       "      <td>50.6365654</td>\n",
       "      <td>3.0635282</td>\n",
       "    </tr>\n",
       "    <tr>\n",
       "      <th>8</th>\n",
       "      <td>8</td>\n",
       "      <td>Strasbourg</td>\n",
       "      <td>48.584614</td>\n",
       "      <td>7.7507127</td>\n",
       "    </tr>\n",
       "    <tr>\n",
       "      <th>9</th>\n",
       "      <td>9</td>\n",
       "      <td>Chateau du Haut Koenigsbourg</td>\n",
       "      <td>48.2495226</td>\n",
       "      <td>7.3454923</td>\n",
       "    </tr>\n",
       "    <tr>\n",
       "      <th>10</th>\n",
       "      <td>10</td>\n",
       "      <td>Colmar</td>\n",
       "      <td>48.0777517</td>\n",
       "      <td>7.3579641</td>\n",
       "    </tr>\n",
       "    <tr>\n",
       "      <th>11</th>\n",
       "      <td>11</td>\n",
       "      <td>Eguisheim</td>\n",
       "      <td>48.0447968</td>\n",
       "      <td>7.3079618</td>\n",
       "    </tr>\n",
       "    <tr>\n",
       "      <th>12</th>\n",
       "      <td>12</td>\n",
       "      <td>Besancon</td>\n",
       "      <td>47.2380222</td>\n",
       "      <td>6.0243622</td>\n",
       "    </tr>\n",
       "    <tr>\n",
       "      <th>13</th>\n",
       "      <td>13</td>\n",
       "      <td>Dijon</td>\n",
       "      <td>47.3215806</td>\n",
       "      <td>5.0414701</td>\n",
       "    </tr>\n",
       "    <tr>\n",
       "      <th>14</th>\n",
       "      <td>14</td>\n",
       "      <td>Annecy</td>\n",
       "      <td>45.8992348</td>\n",
       "      <td>6.1288847</td>\n",
       "    </tr>\n",
       "    <tr>\n",
       "      <th>15</th>\n",
       "      <td>15</td>\n",
       "      <td>Grenoble</td>\n",
       "      <td>45.1875602</td>\n",
       "      <td>5.7357819</td>\n",
       "    </tr>\n",
       "    <tr>\n",
       "      <th>16</th>\n",
       "      <td>16</td>\n",
       "      <td>Lyon</td>\n",
       "      <td>45.7578137</td>\n",
       "      <td>4.8320114</td>\n",
       "    </tr>\n",
       "    <tr>\n",
       "      <th>17</th>\n",
       "      <td>17</td>\n",
       "      <td>Gorges du Verdon</td>\n",
       "      <td>43.7796864</td>\n",
       "      <td>6.3413854</td>\n",
       "    </tr>\n",
       "    <tr>\n",
       "      <th>18</th>\n",
       "      <td>18</td>\n",
       "      <td>Bormes les Mimosas</td>\n",
       "      <td>43.1572172</td>\n",
       "      <td>6.329253867921363</td>\n",
       "    </tr>\n",
       "    <tr>\n",
       "      <th>19</th>\n",
       "      <td>19</td>\n",
       "      <td>Cassis</td>\n",
       "      <td>43.2140359</td>\n",
       "      <td>5.5396318</td>\n",
       "    </tr>\n",
       "    <tr>\n",
       "      <th>20</th>\n",
       "      <td>20</td>\n",
       "      <td>Marseille</td>\n",
       "      <td>43.2961743</td>\n",
       "      <td>5.3699525</td>\n",
       "    </tr>\n",
       "    <tr>\n",
       "      <th>21</th>\n",
       "      <td>21</td>\n",
       "      <td>Aix en Provence</td>\n",
       "      <td>43.5298424</td>\n",
       "      <td>5.4474738</td>\n",
       "    </tr>\n",
       "    <tr>\n",
       "      <th>22</th>\n",
       "      <td>22</td>\n",
       "      <td>Avignon</td>\n",
       "      <td>43.9492493</td>\n",
       "      <td>4.8059012</td>\n",
       "    </tr>\n",
       "    <tr>\n",
       "      <th>23</th>\n",
       "      <td>23</td>\n",
       "      <td>Uzes</td>\n",
       "      <td>44.0121279</td>\n",
       "      <td>4.4196718</td>\n",
       "    </tr>\n",
       "    <tr>\n",
       "      <th>24</th>\n",
       "      <td>24</td>\n",
       "      <td>Nimes</td>\n",
       "      <td>43.8374249</td>\n",
       "      <td>4.3600687</td>\n",
       "    </tr>\n",
       "    <tr>\n",
       "      <th>25</th>\n",
       "      <td>25</td>\n",
       "      <td>Aigues Mortes</td>\n",
       "      <td>43.5658225</td>\n",
       "      <td>4.1912837</td>\n",
       "    </tr>\n",
       "    <tr>\n",
       "      <th>26</th>\n",
       "      <td>26</td>\n",
       "      <td>Saintes Maries de la mer</td>\n",
       "      <td>43.4522771</td>\n",
       "      <td>4.4287172</td>\n",
       "    </tr>\n",
       "    <tr>\n",
       "      <th>27</th>\n",
       "      <td>27</td>\n",
       "      <td>Collioure</td>\n",
       "      <td>42.52505</td>\n",
       "      <td>3.0831554</td>\n",
       "    </tr>\n",
       "    <tr>\n",
       "      <th>28</th>\n",
       "      <td>28</td>\n",
       "      <td>Carcassonne</td>\n",
       "      <td>43.2130358</td>\n",
       "      <td>2.3491069</td>\n",
       "    </tr>\n",
       "    <tr>\n",
       "      <th>29</th>\n",
       "      <td>29</td>\n",
       "      <td>Ariege</td>\n",
       "      <td>42.9455368</td>\n",
       "      <td>1.4065544156065486</td>\n",
       "    </tr>\n",
       "    <tr>\n",
       "      <th>30</th>\n",
       "      <td>30</td>\n",
       "      <td>Toulouse</td>\n",
       "      <td>43.6044622</td>\n",
       "      <td>1.4442469</td>\n",
       "    </tr>\n",
       "    <tr>\n",
       "      <th>31</th>\n",
       "      <td>31</td>\n",
       "      <td>Montauban</td>\n",
       "      <td>44.0175835</td>\n",
       "      <td>1.3549991</td>\n",
       "    </tr>\n",
       "    <tr>\n",
       "      <th>32</th>\n",
       "      <td>32</td>\n",
       "      <td>Biarritz</td>\n",
       "      <td>43.4832523</td>\n",
       "      <td>-1.5592776</td>\n",
       "    </tr>\n",
       "    <tr>\n",
       "      <th>33</th>\n",
       "      <td>33</td>\n",
       "      <td>Bayonne</td>\n",
       "      <td>43.4933379</td>\n",
       "      <td>-1.475099</td>\n",
       "    </tr>\n",
       "    <tr>\n",
       "      <th>34</th>\n",
       "      <td>34</td>\n",
       "      <td>La Rochelle</td>\n",
       "      <td>46.1591126</td>\n",
       "      <td>-1.1520434</td>\n",
       "    </tr>\n",
       "  </tbody>\n",
       "</table>\n",
       "</div>"
      ],
      "text/plain": [
       "    id                          city         lat                 lon\n",
       "0    0             Mont Saint Michel  48.6359541  -1.511459954959514\n",
       "1    1                       St Malo   48.649518          -2.0260409\n",
       "2    2                        Bayeux  49.2764624          -0.7024738\n",
       "3    3                      Le Havre  49.4938975           0.1079732\n",
       "4    4                         Rouen  49.4404591           1.0939658\n",
       "5    5                         Paris  48.8588897  2.3200410217200766\n",
       "6    6                        Amiens  49.8941708           2.2956951\n",
       "7    7                         Lille  50.6365654           3.0635282\n",
       "8    8                    Strasbourg   48.584614           7.7507127\n",
       "9    9  Chateau du Haut Koenigsbourg  48.2495226           7.3454923\n",
       "10  10                        Colmar  48.0777517           7.3579641\n",
       "11  11                     Eguisheim  48.0447968           7.3079618\n",
       "12  12                      Besancon  47.2380222           6.0243622\n",
       "13  13                         Dijon  47.3215806           5.0414701\n",
       "14  14                        Annecy  45.8992348           6.1288847\n",
       "15  15                      Grenoble  45.1875602           5.7357819\n",
       "16  16                          Lyon  45.7578137           4.8320114\n",
       "17  17              Gorges du Verdon  43.7796864           6.3413854\n",
       "18  18            Bormes les Mimosas  43.1572172   6.329253867921363\n",
       "19  19                        Cassis  43.2140359           5.5396318\n",
       "20  20                     Marseille  43.2961743           5.3699525\n",
       "21  21               Aix en Provence  43.5298424           5.4474738\n",
       "22  22                       Avignon  43.9492493           4.8059012\n",
       "23  23                          Uzes  44.0121279           4.4196718\n",
       "24  24                         Nimes  43.8374249           4.3600687\n",
       "25  25                 Aigues Mortes  43.5658225           4.1912837\n",
       "26  26      Saintes Maries de la mer  43.4522771           4.4287172\n",
       "27  27                     Collioure    42.52505           3.0831554\n",
       "28  28                   Carcassonne  43.2130358           2.3491069\n",
       "29  29                        Ariege  42.9455368  1.4065544156065486\n",
       "30  30                      Toulouse  43.6044622           1.4442469\n",
       "31  31                     Montauban  44.0175835           1.3549991\n",
       "32  32                      Biarritz  43.4832523          -1.5592776\n",
       "33  33                       Bayonne  43.4933379           -1.475099\n",
       "34  34                   La Rochelle  46.1591126          -1.1520434"
      ]
     },
     "execution_count": 5,
     "metadata": {},
     "output_type": "execute_result"
    }
   ],
   "source": [
    "df_gps = get_gps(df_cities)\n",
    "df_gps"
   ]
  },
  {
   "cell_type": "markdown",
   "metadata": {},
   "source": [
    "### Weather Data"
   ]
  },
  {
   "cell_type": "code",
   "execution_count": 24,
   "metadata": {},
   "outputs": [],
   "source": [
    "def get_weather(df):\n",
    "    \n",
    "    df_new = df.copy(deep=True)\n",
    "    temps_list = []\n",
    "    rain_pop = []\n",
    "    humidity_list = []\n",
    "    days = list(range(1,8))\n",
    "    \n",
    "    for i in df.itertuples():\n",
    "        lat = i.lat\n",
    "        lon = i.lon\n",
    "        r = requests.get(f\"https://api.openweathermap.org/data/2.5/onecall?lat={lat}&lon={lon}&units=metric&appid={key}\").json()\n",
    "        weather_7_days = r['daily'][1:]\n",
    "        temps = [i['feels_like']['day'] for i in weather_7_days]\n",
    "        rain = [i['pop'] * 100 for i in weather_7_days]\n",
    "        humidity = [i['humidity'] for i in weather_7_days]\n",
    "        temps_list.append(temps)\n",
    "        rain_pop.append(rain)\n",
    "        humidity_list.append(humidity)\n",
    "        \n",
    "    df_new['day_plus'] = [days for _ in range(len(df))]\n",
    "    df_new['felt_temperature'] = temps_list\n",
    "    df_new['rain_chances'] = rain_pop\n",
    "    df_new['humidity'] = humidity_list\n",
    "    df_new['score'] = df_new.apply(lambda x: ((35 - np.mean(x['felt_temperature'])) * 2) + np.mean(x['rain_chances']) + (np.mean(x['humidity']) / 2), axis=1)\n",
    "    \n",
    "    return df_new\n",
    "    "
   ]
  },
  {
   "cell_type": "code",
   "execution_count": 25,
   "metadata": {},
   "outputs": [
    {
     "data": {
      "text/html": [
       "<div>\n",
       "<style scoped>\n",
       "    .dataframe tbody tr th:only-of-type {\n",
       "        vertical-align: middle;\n",
       "    }\n",
       "\n",
       "    .dataframe tbody tr th {\n",
       "        vertical-align: top;\n",
       "    }\n",
       "\n",
       "    .dataframe thead th {\n",
       "        text-align: right;\n",
       "    }\n",
       "</style>\n",
       "<table border=\"1\" class=\"dataframe\">\n",
       "  <thead>\n",
       "    <tr style=\"text-align: right;\">\n",
       "      <th></th>\n",
       "      <th>id</th>\n",
       "      <th>city</th>\n",
       "      <th>lat</th>\n",
       "      <th>lon</th>\n",
       "      <th>day_plus</th>\n",
       "      <th>felt_temperature</th>\n",
       "      <th>rain_chances</th>\n",
       "      <th>humidity</th>\n",
       "      <th>score</th>\n",
       "    </tr>\n",
       "  </thead>\n",
       "  <tbody>\n",
       "    <tr>\n",
       "      <th>0</th>\n",
       "      <td>0</td>\n",
       "      <td>Mont Saint Michel</td>\n",
       "      <td>48.6359541</td>\n",
       "      <td>-1.511459954959514</td>\n",
       "      <td>[1, 2, 3, 4, 5, 6, 7]</td>\n",
       "      <td>[17.48, 18.47, 15.31, 10.6, 10.91, 7.45, 11.52]</td>\n",
       "      <td>[56.99999999999999, 0, 0, 38.0, 79.0, 82.0, 87.0]</td>\n",
       "      <td>[72, 60, 50, 80, 68, 85, 72]</td>\n",
       "      <td>127.574286</td>\n",
       "    </tr>\n",
       "    <tr>\n",
       "      <th>1</th>\n",
       "      <td>1</td>\n",
       "      <td>St Malo</td>\n",
       "      <td>48.649518</td>\n",
       "      <td>-2.0260409</td>\n",
       "      <td>[1, 2, 3, 4, 5, 6, 7]</td>\n",
       "      <td>[14.66, 15.23, 14.15, 10.06, 9.83, 6.6, 10.4]</td>\n",
       "      <td>[24.0, 0, 0, 38.0, 62.0, 98.0, 83.0]</td>\n",
       "      <td>[75, 75, 58, 72, 70, 84, 75]</td>\n",
       "      <td>126.805714</td>\n",
       "    </tr>\n",
       "    <tr>\n",
       "      <th>2</th>\n",
       "      <td>2</td>\n",
       "      <td>Bayeux</td>\n",
       "      <td>49.2764624</td>\n",
       "      <td>-0.7024738</td>\n",
       "      <td>[1, 2, 3, 4, 5, 6, 7]</td>\n",
       "      <td>[18.04, 16.27, 14.39, 10.03, 10.31, 10.82, 9.25]</td>\n",
       "      <td>[49.0, 0, 0, 55.00000000000001, 68.0, 38.0, 53.0]</td>\n",
       "      <td>[69, 67, 51, 90, 70, 67, 79]</td>\n",
       "      <td>117.325714</td>\n",
       "    </tr>\n",
       "    <tr>\n",
       "      <th>3</th>\n",
       "      <td>3</td>\n",
       "      <td>Le Havre</td>\n",
       "      <td>49.4938975</td>\n",
       "      <td>0.1079732</td>\n",
       "      <td>[1, 2, 3, 4, 5, 6, 7]</td>\n",
       "      <td>[14.82, 14.48, 12.82, 10.52, 9.46, 10.44, 10.4]</td>\n",
       "      <td>[13.0, 0, 0, 72.0, 47.0, 20.0, 56.00000000000001]</td>\n",
       "      <td>[75, 70, 53, 93, 72, 58, 73]</td>\n",
       "      <td>111.302857</td>\n",
       "    </tr>\n",
       "    <tr>\n",
       "      <th>4</th>\n",
       "      <td>4</td>\n",
       "      <td>Rouen</td>\n",
       "      <td>49.4404591</td>\n",
       "      <td>1.0939658</td>\n",
       "      <td>[1, 2, 3, 4, 5, 6, 7]</td>\n",
       "      <td>[17.96, 16.5, 14.2, 15.56, 9.97, 12.64, 12.84]</td>\n",
       "      <td>[3.0, 0, 0, 65.0, 82.0, 28.000000000000004, 65.0]</td>\n",
       "      <td>[60, 60, 49, 56, 75, 51, 53]</td>\n",
       "      <td>105.094286</td>\n",
       "    </tr>\n",
       "    <tr>\n",
       "      <th>5</th>\n",
       "      <td>5</td>\n",
       "      <td>Paris</td>\n",
       "      <td>48.8588897</td>\n",
       "      <td>2.3200410217200766</td>\n",
       "      <td>[1, 2, 3, 4, 5, 6, 7]</td>\n",
       "      <td>[18.24, 16.73, 15.48, 16.52, 12.97, 13.87, 14.95]</td>\n",
       "      <td>[10.0, 0, 0, 0, 70.0, 2.0, 38.0]</td>\n",
       "      <td>[51, 45, 31, 29, 55, 38, 40]</td>\n",
       "      <td>76.711429</td>\n",
       "    </tr>\n",
       "    <tr>\n",
       "      <th>6</th>\n",
       "      <td>6</td>\n",
       "      <td>Amiens</td>\n",
       "      <td>49.8941708</td>\n",
       "      <td>2.2956951</td>\n",
       "      <td>[1, 2, 3, 4, 5, 6, 7]</td>\n",
       "      <td>[16.55, 15.44, 13.97, 14.79, 9.75, 11.63, 13.74]</td>\n",
       "      <td>[0, 0, 0, 0, 89.0, 57.99999999999999, 26.0]</td>\n",
       "      <td>[63, 54, 46, 44, 87, 61, 51]</td>\n",
       "      <td>96.322857</td>\n",
       "    </tr>\n",
       "    <tr>\n",
       "      <th>7</th>\n",
       "      <td>7</td>\n",
       "      <td>Lille</td>\n",
       "      <td>50.6365654</td>\n",
       "      <td>3.0635282</td>\n",
       "      <td>[1, 2, 3, 4, 5, 6, 7]</td>\n",
       "      <td>[15.74, 15.23, 14.64, 15.38, 11.84, 11.22, 14.22]</td>\n",
       "      <td>[0, 0, 0, 0, 57.99999999999999, 65.0, 0]</td>\n",
       "      <td>[54, 47, 35, 36, 62, 63, 47]</td>\n",
       "      <td>84.065714</td>\n",
       "    </tr>\n",
       "    <tr>\n",
       "      <th>8</th>\n",
       "      <td>8</td>\n",
       "      <td>Strasbourg</td>\n",
       "      <td>48.584614</td>\n",
       "      <td>7.7507127</td>\n",
       "      <td>[1, 2, 3, 4, 5, 6, 7]</td>\n",
       "      <td>[17.33, 12.93, 13.76, 13.2, 13.99, 9.14, 14.21]</td>\n",
       "      <td>[7.000000000000001, 0, 0, 0, 0, 95.0, 37.0]</td>\n",
       "      <td>[59, 50, 35, 41, 50, 91, 58]</td>\n",
       "      <td>90.268571</td>\n",
       "    </tr>\n",
       "    <tr>\n",
       "      <th>9</th>\n",
       "      <td>9</td>\n",
       "      <td>Chateau du Haut Koenigsbourg</td>\n",
       "      <td>48.2495226</td>\n",
       "      <td>7.3454923</td>\n",
       "      <td>[1, 2, 3, 4, 5, 6, 7]</td>\n",
       "      <td>[14.93, 10.15, 9.98, 9.56, 11.31, 6.25, 11.04]</td>\n",
       "      <td>[14.000000000000002, 0, 0, 0, 0, 100, 49.0]</td>\n",
       "      <td>[59, 51, 36, 40, 48, 89, 54]</td>\n",
       "      <td>99.294286</td>\n",
       "    </tr>\n",
       "    <tr>\n",
       "      <th>10</th>\n",
       "      <td>10</td>\n",
       "      <td>Colmar</td>\n",
       "      <td>48.0777517</td>\n",
       "      <td>7.3579641</td>\n",
       "      <td>[1, 2, 3, 4, 5, 6, 7]</td>\n",
       "      <td>[17.87, 13.75, 13.75, 12.77, 14.41, 9.42, 14.16]</td>\n",
       "      <td>[18.0, 0, 0, 0, 0, 100, 57.99999999999999]</td>\n",
       "      <td>[62, 50, 36, 41, 49, 87, 56]</td>\n",
       "      <td>94.891429</td>\n",
       "    </tr>\n",
       "    <tr>\n",
       "      <th>11</th>\n",
       "      <td>11</td>\n",
       "      <td>Eguisheim</td>\n",
       "      <td>48.0447968</td>\n",
       "      <td>7.3079618</td>\n",
       "      <td>[1, 2, 3, 4, 5, 6, 7]</td>\n",
       "      <td>[17.93, 13.69, 13.68, 12.85, 14.57, 9.48, 14.29]</td>\n",
       "      <td>[19.0, 0, 0, 0, 0, 100, 61.0]</td>\n",
       "      <td>[62, 50, 36, 39, 49, 87, 55]</td>\n",
       "      <td>95.145714</td>\n",
       "    </tr>\n",
       "    <tr>\n",
       "      <th>12</th>\n",
       "      <td>12</td>\n",
       "      <td>Besancon</td>\n",
       "      <td>47.2380222</td>\n",
       "      <td>6.0243622</td>\n",
       "      <td>[1, 2, 3, 4, 5, 6, 7]</td>\n",
       "      <td>[17.77, 15.35, 14.77, 13.68, 14.03, 10.34, 8.51]</td>\n",
       "      <td>[13.0, 0, 0, 0, 86.0, 100, 69.0]</td>\n",
       "      <td>[67, 54, 36, 39, 52, 74, 93]</td>\n",
       "      <td>110.942857</td>\n",
       "    </tr>\n",
       "    <tr>\n",
       "      <th>13</th>\n",
       "      <td>13</td>\n",
       "      <td>Dijon</td>\n",
       "      <td>47.3215806</td>\n",
       "      <td>5.0414701</td>\n",
       "      <td>[1, 2, 3, 4, 5, 6, 7]</td>\n",
       "      <td>[17.75, 14.97, 13.35, 13.18, 13.03, 10.34, 10.3]</td>\n",
       "      <td>[0, 0, 0, 0, 75.0, 76.0, 39.0]</td>\n",
       "      <td>[60, 62, 47, 48, 61, 75, 77]</td>\n",
       "      <td>101.308571</td>\n",
       "    </tr>\n",
       "    <tr>\n",
       "      <th>14</th>\n",
       "      <td>14</td>\n",
       "      <td>Annecy</td>\n",
       "      <td>45.8992348</td>\n",
       "      <td>6.1288847</td>\n",
       "      <td>[1, 2, 3, 4, 5, 6, 7]</td>\n",
       "      <td>[17.52, 14.83, 13.44, 14.23, 15.12, 6.22, 8.32]</td>\n",
       "      <td>[12.0, 0, 0, 0, 70.0, 100, 52.0]</td>\n",
       "      <td>[66, 66, 50, 39, 44, 96, 94]</td>\n",
       "      <td>110.305714</td>\n",
       "    </tr>\n",
       "    <tr>\n",
       "      <th>15</th>\n",
       "      <td>15</td>\n",
       "      <td>Grenoble</td>\n",
       "      <td>45.1875602</td>\n",
       "      <td>5.7357819</td>\n",
       "      <td>[1, 2, 3, 4, 5, 6, 7]</td>\n",
       "      <td>[19.7, 15.01, 17.56, 16.63, 17.37, 8.34, 8.52]</td>\n",
       "      <td>[15.0, 0, 0, 0, 100, 100, 61.0]</td>\n",
       "      <td>[65, 77, 51, 34, 43, 96, 96]</td>\n",
       "      <td>112.962857</td>\n",
       "    </tr>\n",
       "    <tr>\n",
       "      <th>16</th>\n",
       "      <td>16</td>\n",
       "      <td>Lyon</td>\n",
       "      <td>45.7578137</td>\n",
       "      <td>4.8320114</td>\n",
       "      <td>[1, 2, 3, 4, 5, 6, 7]</td>\n",
       "      <td>[19.41, 18.17, 15.49, 15.21, 15.34, 12.3, 10.31]</td>\n",
       "      <td>[0, 0, 0, 0, 100, 100, 25.0]</td>\n",
       "      <td>[56, 49, 41, 38, 51, 58, 71]</td>\n",
       "      <td>97.791429</td>\n",
       "    </tr>\n",
       "    <tr>\n",
       "      <th>17</th>\n",
       "      <td>17</td>\n",
       "      <td>Gorges du Verdon</td>\n",
       "      <td>43.7796864</td>\n",
       "      <td>6.3413854</td>\n",
       "      <td>[1, 2, 3, 4, 5, 6, 7]</td>\n",
       "      <td>[19.63, 19.65, 9.24, 11.73, 12.4, 6.63, 9.15]</td>\n",
       "      <td>[3.0, 15.0, 32.0, 0, 63.0, 100, 100]</td>\n",
       "      <td>[37, 37, 72, 46, 46, 82, 67]</td>\n",
       "      <td>117.091429</td>\n",
       "    </tr>\n",
       "    <tr>\n",
       "      <th>18</th>\n",
       "      <td>18</td>\n",
       "      <td>Bormes les Mimosas</td>\n",
       "      <td>43.1572172</td>\n",
       "      <td>6.329253867921363</td>\n",
       "      <td>[1, 2, 3, 4, 5, 6, 7]</td>\n",
       "      <td>[19.61, 19.45, 14.59, 12.2, 14.96, 13.05, 15.59]</td>\n",
       "      <td>[0, 4.0, 0, 0, 38.0, 100, 92.0]</td>\n",
       "      <td>[46, 51, 57, 68, 61, 80, 56]</td>\n",
       "      <td>102.085714</td>\n",
       "    </tr>\n",
       "    <tr>\n",
       "      <th>19</th>\n",
       "      <td>19</td>\n",
       "      <td>Cassis</td>\n",
       "      <td>43.2140359</td>\n",
       "      <td>5.5396318</td>\n",
       "      <td>[1, 2, 3, 4, 5, 6, 7]</td>\n",
       "      <td>[18.92, 18.56, 15.71, 14.36, 14.69, 11.4, 15.51]</td>\n",
       "      <td>[0, 0, 0, 0, 89.0, 90.0, 34.0]</td>\n",
       "      <td>[45, 61, 60, 65, 68, 90, 53]</td>\n",
       "      <td>100.814286</td>\n",
       "    </tr>\n",
       "  </tbody>\n",
       "</table>\n",
       "</div>"
      ],
      "text/plain": [
       "    id                          city         lat                 lon  \\\n",
       "0    0             Mont Saint Michel  48.6359541  -1.511459954959514   \n",
       "1    1                       St Malo   48.649518          -2.0260409   \n",
       "2    2                        Bayeux  49.2764624          -0.7024738   \n",
       "3    3                      Le Havre  49.4938975           0.1079732   \n",
       "4    4                         Rouen  49.4404591           1.0939658   \n",
       "5    5                         Paris  48.8588897  2.3200410217200766   \n",
       "6    6                        Amiens  49.8941708           2.2956951   \n",
       "7    7                         Lille  50.6365654           3.0635282   \n",
       "8    8                    Strasbourg   48.584614           7.7507127   \n",
       "9    9  Chateau du Haut Koenigsbourg  48.2495226           7.3454923   \n",
       "10  10                        Colmar  48.0777517           7.3579641   \n",
       "11  11                     Eguisheim  48.0447968           7.3079618   \n",
       "12  12                      Besancon  47.2380222           6.0243622   \n",
       "13  13                         Dijon  47.3215806           5.0414701   \n",
       "14  14                        Annecy  45.8992348           6.1288847   \n",
       "15  15                      Grenoble  45.1875602           5.7357819   \n",
       "16  16                          Lyon  45.7578137           4.8320114   \n",
       "17  17              Gorges du Verdon  43.7796864           6.3413854   \n",
       "18  18            Bormes les Mimosas  43.1572172   6.329253867921363   \n",
       "19  19                        Cassis  43.2140359           5.5396318   \n",
       "\n",
       "                 day_plus                                   felt_temperature  \\\n",
       "0   [1, 2, 3, 4, 5, 6, 7]    [17.48, 18.47, 15.31, 10.6, 10.91, 7.45, 11.52]   \n",
       "1   [1, 2, 3, 4, 5, 6, 7]      [14.66, 15.23, 14.15, 10.06, 9.83, 6.6, 10.4]   \n",
       "2   [1, 2, 3, 4, 5, 6, 7]   [18.04, 16.27, 14.39, 10.03, 10.31, 10.82, 9.25]   \n",
       "3   [1, 2, 3, 4, 5, 6, 7]    [14.82, 14.48, 12.82, 10.52, 9.46, 10.44, 10.4]   \n",
       "4   [1, 2, 3, 4, 5, 6, 7]     [17.96, 16.5, 14.2, 15.56, 9.97, 12.64, 12.84]   \n",
       "5   [1, 2, 3, 4, 5, 6, 7]  [18.24, 16.73, 15.48, 16.52, 12.97, 13.87, 14.95]   \n",
       "6   [1, 2, 3, 4, 5, 6, 7]   [16.55, 15.44, 13.97, 14.79, 9.75, 11.63, 13.74]   \n",
       "7   [1, 2, 3, 4, 5, 6, 7]  [15.74, 15.23, 14.64, 15.38, 11.84, 11.22, 14.22]   \n",
       "8   [1, 2, 3, 4, 5, 6, 7]    [17.33, 12.93, 13.76, 13.2, 13.99, 9.14, 14.21]   \n",
       "9   [1, 2, 3, 4, 5, 6, 7]     [14.93, 10.15, 9.98, 9.56, 11.31, 6.25, 11.04]   \n",
       "10  [1, 2, 3, 4, 5, 6, 7]   [17.87, 13.75, 13.75, 12.77, 14.41, 9.42, 14.16]   \n",
       "11  [1, 2, 3, 4, 5, 6, 7]   [17.93, 13.69, 13.68, 12.85, 14.57, 9.48, 14.29]   \n",
       "12  [1, 2, 3, 4, 5, 6, 7]   [17.77, 15.35, 14.77, 13.68, 14.03, 10.34, 8.51]   \n",
       "13  [1, 2, 3, 4, 5, 6, 7]   [17.75, 14.97, 13.35, 13.18, 13.03, 10.34, 10.3]   \n",
       "14  [1, 2, 3, 4, 5, 6, 7]    [17.52, 14.83, 13.44, 14.23, 15.12, 6.22, 8.32]   \n",
       "15  [1, 2, 3, 4, 5, 6, 7]     [19.7, 15.01, 17.56, 16.63, 17.37, 8.34, 8.52]   \n",
       "16  [1, 2, 3, 4, 5, 6, 7]   [19.41, 18.17, 15.49, 15.21, 15.34, 12.3, 10.31]   \n",
       "17  [1, 2, 3, 4, 5, 6, 7]      [19.63, 19.65, 9.24, 11.73, 12.4, 6.63, 9.15]   \n",
       "18  [1, 2, 3, 4, 5, 6, 7]   [19.61, 19.45, 14.59, 12.2, 14.96, 13.05, 15.59]   \n",
       "19  [1, 2, 3, 4, 5, 6, 7]   [18.92, 18.56, 15.71, 14.36, 14.69, 11.4, 15.51]   \n",
       "\n",
       "                                         rain_chances  \\\n",
       "0   [56.99999999999999, 0, 0, 38.0, 79.0, 82.0, 87.0]   \n",
       "1                [24.0, 0, 0, 38.0, 62.0, 98.0, 83.0]   \n",
       "2   [49.0, 0, 0, 55.00000000000001, 68.0, 38.0, 53.0]   \n",
       "3   [13.0, 0, 0, 72.0, 47.0, 20.0, 56.00000000000001]   \n",
       "4   [3.0, 0, 0, 65.0, 82.0, 28.000000000000004, 65.0]   \n",
       "5                    [10.0, 0, 0, 0, 70.0, 2.0, 38.0]   \n",
       "6         [0, 0, 0, 0, 89.0, 57.99999999999999, 26.0]   \n",
       "7            [0, 0, 0, 0, 57.99999999999999, 65.0, 0]   \n",
       "8         [7.000000000000001, 0, 0, 0, 0, 95.0, 37.0]   \n",
       "9         [14.000000000000002, 0, 0, 0, 0, 100, 49.0]   \n",
       "10         [18.0, 0, 0, 0, 0, 100, 57.99999999999999]   \n",
       "11                      [19.0, 0, 0, 0, 0, 100, 61.0]   \n",
       "12                   [13.0, 0, 0, 0, 86.0, 100, 69.0]   \n",
       "13                     [0, 0, 0, 0, 75.0, 76.0, 39.0]   \n",
       "14                   [12.0, 0, 0, 0, 70.0, 100, 52.0]   \n",
       "15                    [15.0, 0, 0, 0, 100, 100, 61.0]   \n",
       "16                       [0, 0, 0, 0, 100, 100, 25.0]   \n",
       "17               [3.0, 15.0, 32.0, 0, 63.0, 100, 100]   \n",
       "18                    [0, 4.0, 0, 0, 38.0, 100, 92.0]   \n",
       "19                     [0, 0, 0, 0, 89.0, 90.0, 34.0]   \n",
       "\n",
       "                        humidity       score  \n",
       "0   [72, 60, 50, 80, 68, 85, 72]  127.574286  \n",
       "1   [75, 75, 58, 72, 70, 84, 75]  126.805714  \n",
       "2   [69, 67, 51, 90, 70, 67, 79]  117.325714  \n",
       "3   [75, 70, 53, 93, 72, 58, 73]  111.302857  \n",
       "4   [60, 60, 49, 56, 75, 51, 53]  105.094286  \n",
       "5   [51, 45, 31, 29, 55, 38, 40]   76.711429  \n",
       "6   [63, 54, 46, 44, 87, 61, 51]   96.322857  \n",
       "7   [54, 47, 35, 36, 62, 63, 47]   84.065714  \n",
       "8   [59, 50, 35, 41, 50, 91, 58]   90.268571  \n",
       "9   [59, 51, 36, 40, 48, 89, 54]   99.294286  \n",
       "10  [62, 50, 36, 41, 49, 87, 56]   94.891429  \n",
       "11  [62, 50, 36, 39, 49, 87, 55]   95.145714  \n",
       "12  [67, 54, 36, 39, 52, 74, 93]  110.942857  \n",
       "13  [60, 62, 47, 48, 61, 75, 77]  101.308571  \n",
       "14  [66, 66, 50, 39, 44, 96, 94]  110.305714  \n",
       "15  [65, 77, 51, 34, 43, 96, 96]  112.962857  \n",
       "16  [56, 49, 41, 38, 51, 58, 71]   97.791429  \n",
       "17  [37, 37, 72, 46, 46, 82, 67]  117.091429  \n",
       "18  [46, 51, 57, 68, 61, 80, 56]  102.085714  \n",
       "19  [45, 61, 60, 65, 68, 90, 53]  100.814286  "
      ]
     },
     "execution_count": 25,
     "metadata": {},
     "output_type": "execute_result"
    }
   ],
   "source": [
    "df_full = get_weather(df_gps)\n",
    "df_full.head(20)"
   ]
  },
  {
   "cell_type": "code",
   "execution_count": 26,
   "metadata": {},
   "outputs": [
    {
     "data": {
      "text/html": [
       "<div>\n",
       "<style scoped>\n",
       "    .dataframe tbody tr th:only-of-type {\n",
       "        vertical-align: middle;\n",
       "    }\n",
       "\n",
       "    .dataframe tbody tr th {\n",
       "        vertical-align: top;\n",
       "    }\n",
       "\n",
       "    .dataframe thead th {\n",
       "        text-align: right;\n",
       "    }\n",
       "</style>\n",
       "<table border=\"1\" class=\"dataframe\">\n",
       "  <thead>\n",
       "    <tr style=\"text-align: right;\">\n",
       "      <th></th>\n",
       "      <th>id</th>\n",
       "      <th>city</th>\n",
       "      <th>lat</th>\n",
       "      <th>lon</th>\n",
       "      <th>day_plus</th>\n",
       "      <th>felt_temperature</th>\n",
       "      <th>rain_chances</th>\n",
       "      <th>humidity</th>\n",
       "      <th>score</th>\n",
       "    </tr>\n",
       "  </thead>\n",
       "  <tbody>\n",
       "    <tr>\n",
       "      <th>0</th>\n",
       "      <td>5</td>\n",
       "      <td>Paris</td>\n",
       "      <td>48.858890</td>\n",
       "      <td>2.320041</td>\n",
       "      <td>1</td>\n",
       "      <td>18.24</td>\n",
       "      <td>10.0</td>\n",
       "      <td>51</td>\n",
       "      <td>76.711429</td>\n",
       "    </tr>\n",
       "    <tr>\n",
       "      <th>0</th>\n",
       "      <td>5</td>\n",
       "      <td>Paris</td>\n",
       "      <td>48.858890</td>\n",
       "      <td>2.320041</td>\n",
       "      <td>2</td>\n",
       "      <td>16.73</td>\n",
       "      <td>0.0</td>\n",
       "      <td>45</td>\n",
       "      <td>76.711429</td>\n",
       "    </tr>\n",
       "    <tr>\n",
       "      <th>0</th>\n",
       "      <td>5</td>\n",
       "      <td>Paris</td>\n",
       "      <td>48.858890</td>\n",
       "      <td>2.320041</td>\n",
       "      <td>3</td>\n",
       "      <td>15.48</td>\n",
       "      <td>0.0</td>\n",
       "      <td>31</td>\n",
       "      <td>76.711429</td>\n",
       "    </tr>\n",
       "    <tr>\n",
       "      <th>0</th>\n",
       "      <td>5</td>\n",
       "      <td>Paris</td>\n",
       "      <td>48.858890</td>\n",
       "      <td>2.320041</td>\n",
       "      <td>4</td>\n",
       "      <td>16.52</td>\n",
       "      <td>0.0</td>\n",
       "      <td>29</td>\n",
       "      <td>76.711429</td>\n",
       "    </tr>\n",
       "    <tr>\n",
       "      <th>0</th>\n",
       "      <td>5</td>\n",
       "      <td>Paris</td>\n",
       "      <td>48.858890</td>\n",
       "      <td>2.320041</td>\n",
       "      <td>5</td>\n",
       "      <td>12.97</td>\n",
       "      <td>70.0</td>\n",
       "      <td>55</td>\n",
       "      <td>76.711429</td>\n",
       "    </tr>\n",
       "    <tr>\n",
       "      <th>0</th>\n",
       "      <td>5</td>\n",
       "      <td>Paris</td>\n",
       "      <td>48.858890</td>\n",
       "      <td>2.320041</td>\n",
       "      <td>6</td>\n",
       "      <td>13.87</td>\n",
       "      <td>2.0</td>\n",
       "      <td>38</td>\n",
       "      <td>76.711429</td>\n",
       "    </tr>\n",
       "    <tr>\n",
       "      <th>0</th>\n",
       "      <td>5</td>\n",
       "      <td>Paris</td>\n",
       "      <td>48.858890</td>\n",
       "      <td>2.320041</td>\n",
       "      <td>7</td>\n",
       "      <td>14.95</td>\n",
       "      <td>38.0</td>\n",
       "      <td>40</td>\n",
       "      <td>76.711429</td>\n",
       "    </tr>\n",
       "    <tr>\n",
       "      <th>1</th>\n",
       "      <td>24</td>\n",
       "      <td>Nimes</td>\n",
       "      <td>43.837425</td>\n",
       "      <td>4.360069</td>\n",
       "      <td>1</td>\n",
       "      <td>23.74</td>\n",
       "      <td>2.0</td>\n",
       "      <td>38</td>\n",
       "      <td>80.188571</td>\n",
       "    </tr>\n",
       "    <tr>\n",
       "      <th>1</th>\n",
       "      <td>24</td>\n",
       "      <td>Nimes</td>\n",
       "      <td>43.837425</td>\n",
       "      <td>4.360069</td>\n",
       "      <td>2</td>\n",
       "      <td>22.68</td>\n",
       "      <td>0.0</td>\n",
       "      <td>34</td>\n",
       "      <td>80.188571</td>\n",
       "    </tr>\n",
       "    <tr>\n",
       "      <th>1</th>\n",
       "      <td>24</td>\n",
       "      <td>Nimes</td>\n",
       "      <td>43.837425</td>\n",
       "      <td>4.360069</td>\n",
       "      <td>3</td>\n",
       "      <td>20.39</td>\n",
       "      <td>0.0</td>\n",
       "      <td>36</td>\n",
       "      <td>80.188571</td>\n",
       "    </tr>\n",
       "    <tr>\n",
       "      <th>1</th>\n",
       "      <td>24</td>\n",
       "      <td>Nimes</td>\n",
       "      <td>43.837425</td>\n",
       "      <td>4.360069</td>\n",
       "      <td>4</td>\n",
       "      <td>18.76</td>\n",
       "      <td>0.0</td>\n",
       "      <td>45</td>\n",
       "      <td>80.188571</td>\n",
       "    </tr>\n",
       "    <tr>\n",
       "      <th>1</th>\n",
       "      <td>24</td>\n",
       "      <td>Nimes</td>\n",
       "      <td>43.837425</td>\n",
       "      <td>4.360069</td>\n",
       "      <td>5</td>\n",
       "      <td>19.02</td>\n",
       "      <td>100.0</td>\n",
       "      <td>41</td>\n",
       "      <td>80.188571</td>\n",
       "    </tr>\n",
       "    <tr>\n",
       "      <th>1</th>\n",
       "      <td>24</td>\n",
       "      <td>Nimes</td>\n",
       "      <td>43.837425</td>\n",
       "      <td>4.360069</td>\n",
       "      <td>6</td>\n",
       "      <td>13.62</td>\n",
       "      <td>100.0</td>\n",
       "      <td>55</td>\n",
       "      <td>80.188571</td>\n",
       "    </tr>\n",
       "    <tr>\n",
       "      <th>1</th>\n",
       "      <td>24</td>\n",
       "      <td>Nimes</td>\n",
       "      <td>43.837425</td>\n",
       "      <td>4.360069</td>\n",
       "      <td>7</td>\n",
       "      <td>18.13</td>\n",
       "      <td>1.0</td>\n",
       "      <td>33</td>\n",
       "      <td>80.188571</td>\n",
       "    </tr>\n",
       "    <tr>\n",
       "      <th>2</th>\n",
       "      <td>23</td>\n",
       "      <td>Uzes</td>\n",
       "      <td>44.012128</td>\n",
       "      <td>4.419672</td>\n",
       "      <td>1</td>\n",
       "      <td>22.78</td>\n",
       "      <td>1.0</td>\n",
       "      <td>41</td>\n",
       "      <td>81.965714</td>\n",
       "    </tr>\n",
       "    <tr>\n",
       "      <th>2</th>\n",
       "      <td>23</td>\n",
       "      <td>Uzes</td>\n",
       "      <td>44.012128</td>\n",
       "      <td>4.419672</td>\n",
       "      <td>2</td>\n",
       "      <td>21.47</td>\n",
       "      <td>0.0</td>\n",
       "      <td>37</td>\n",
       "      <td>81.965714</td>\n",
       "    </tr>\n",
       "    <tr>\n",
       "      <th>2</th>\n",
       "      <td>23</td>\n",
       "      <td>Uzes</td>\n",
       "      <td>44.012128</td>\n",
       "      <td>4.419672</td>\n",
       "      <td>3</td>\n",
       "      <td>20.49</td>\n",
       "      <td>0.0</td>\n",
       "      <td>33</td>\n",
       "      <td>81.965714</td>\n",
       "    </tr>\n",
       "    <tr>\n",
       "      <th>2</th>\n",
       "      <td>23</td>\n",
       "      <td>Uzes</td>\n",
       "      <td>44.012128</td>\n",
       "      <td>4.419672</td>\n",
       "      <td>4</td>\n",
       "      <td>18.65</td>\n",
       "      <td>0.0</td>\n",
       "      <td>42</td>\n",
       "      <td>81.965714</td>\n",
       "    </tr>\n",
       "    <tr>\n",
       "      <th>2</th>\n",
       "      <td>23</td>\n",
       "      <td>Uzes</td>\n",
       "      <td>44.012128</td>\n",
       "      <td>4.419672</td>\n",
       "      <td>5</td>\n",
       "      <td>18.69</td>\n",
       "      <td>100.0</td>\n",
       "      <td>37</td>\n",
       "      <td>81.965714</td>\n",
       "    </tr>\n",
       "    <tr>\n",
       "      <th>2</th>\n",
       "      <td>23</td>\n",
       "      <td>Uzes</td>\n",
       "      <td>44.012128</td>\n",
       "      <td>4.419672</td>\n",
       "      <td>6</td>\n",
       "      <td>11.99</td>\n",
       "      <td>100.0</td>\n",
       "      <td>60</td>\n",
       "      <td>81.965714</td>\n",
       "    </tr>\n",
       "    <tr>\n",
       "      <th>2</th>\n",
       "      <td>23</td>\n",
       "      <td>Uzes</td>\n",
       "      <td>44.012128</td>\n",
       "      <td>4.419672</td>\n",
       "      <td>7</td>\n",
       "      <td>16.80</td>\n",
       "      <td>1.0</td>\n",
       "      <td>37</td>\n",
       "      <td>81.965714</td>\n",
       "    </tr>\n",
       "    <tr>\n",
       "      <th>3</th>\n",
       "      <td>27</td>\n",
       "      <td>Collioure</td>\n",
       "      <td>42.525050</td>\n",
       "      <td>3.083155</td>\n",
       "      <td>1</td>\n",
       "      <td>21.28</td>\n",
       "      <td>0.0</td>\n",
       "      <td>52</td>\n",
       "      <td>83.865714</td>\n",
       "    </tr>\n",
       "    <tr>\n",
       "      <th>3</th>\n",
       "      <td>27</td>\n",
       "      <td>Collioure</td>\n",
       "      <td>42.525050</td>\n",
       "      <td>3.083155</td>\n",
       "      <td>2</td>\n",
       "      <td>22.08</td>\n",
       "      <td>0.0</td>\n",
       "      <td>43</td>\n",
       "      <td>83.865714</td>\n",
       "    </tr>\n",
       "    <tr>\n",
       "      <th>3</th>\n",
       "      <td>27</td>\n",
       "      <td>Collioure</td>\n",
       "      <td>42.525050</td>\n",
       "      <td>3.083155</td>\n",
       "      <td>3</td>\n",
       "      <td>17.75</td>\n",
       "      <td>0.0</td>\n",
       "      <td>59</td>\n",
       "      <td>83.865714</td>\n",
       "    </tr>\n",
       "    <tr>\n",
       "      <th>3</th>\n",
       "      <td>27</td>\n",
       "      <td>Collioure</td>\n",
       "      <td>42.525050</td>\n",
       "      <td>3.083155</td>\n",
       "      <td>4</td>\n",
       "      <td>19.70</td>\n",
       "      <td>3.0</td>\n",
       "      <td>44</td>\n",
       "      <td>83.865714</td>\n",
       "    </tr>\n",
       "    <tr>\n",
       "      <th>3</th>\n",
       "      <td>27</td>\n",
       "      <td>Collioure</td>\n",
       "      <td>42.525050</td>\n",
       "      <td>3.083155</td>\n",
       "      <td>5</td>\n",
       "      <td>14.10</td>\n",
       "      <td>79.0</td>\n",
       "      <td>76</td>\n",
       "      <td>83.865714</td>\n",
       "    </tr>\n",
       "    <tr>\n",
       "      <th>3</th>\n",
       "      <td>27</td>\n",
       "      <td>Collioure</td>\n",
       "      <td>42.525050</td>\n",
       "      <td>3.083155</td>\n",
       "      <td>6</td>\n",
       "      <td>13.01</td>\n",
       "      <td>69.0</td>\n",
       "      <td>50</td>\n",
       "      <td>83.865714</td>\n",
       "    </tr>\n",
       "    <tr>\n",
       "      <th>3</th>\n",
       "      <td>27</td>\n",
       "      <td>Collioure</td>\n",
       "      <td>42.525050</td>\n",
       "      <td>3.083155</td>\n",
       "      <td>7</td>\n",
       "      <td>16.55</td>\n",
       "      <td>9.0</td>\n",
       "      <td>48</td>\n",
       "      <td>83.865714</td>\n",
       "    </tr>\n",
       "    <tr>\n",
       "      <th>4</th>\n",
       "      <td>7</td>\n",
       "      <td>Lille</td>\n",
       "      <td>50.636565</td>\n",
       "      <td>3.063528</td>\n",
       "      <td>1</td>\n",
       "      <td>15.74</td>\n",
       "      <td>0.0</td>\n",
       "      <td>54</td>\n",
       "      <td>84.065714</td>\n",
       "    </tr>\n",
       "    <tr>\n",
       "      <th>4</th>\n",
       "      <td>7</td>\n",
       "      <td>Lille</td>\n",
       "      <td>50.636565</td>\n",
       "      <td>3.063528</td>\n",
       "      <td>2</td>\n",
       "      <td>15.23</td>\n",
       "      <td>0.0</td>\n",
       "      <td>47</td>\n",
       "      <td>84.065714</td>\n",
       "    </tr>\n",
       "    <tr>\n",
       "      <th>4</th>\n",
       "      <td>7</td>\n",
       "      <td>Lille</td>\n",
       "      <td>50.636565</td>\n",
       "      <td>3.063528</td>\n",
       "      <td>3</td>\n",
       "      <td>14.64</td>\n",
       "      <td>0.0</td>\n",
       "      <td>35</td>\n",
       "      <td>84.065714</td>\n",
       "    </tr>\n",
       "    <tr>\n",
       "      <th>4</th>\n",
       "      <td>7</td>\n",
       "      <td>Lille</td>\n",
       "      <td>50.636565</td>\n",
       "      <td>3.063528</td>\n",
       "      <td>4</td>\n",
       "      <td>15.38</td>\n",
       "      <td>0.0</td>\n",
       "      <td>36</td>\n",
       "      <td>84.065714</td>\n",
       "    </tr>\n",
       "    <tr>\n",
       "      <th>4</th>\n",
       "      <td>7</td>\n",
       "      <td>Lille</td>\n",
       "      <td>50.636565</td>\n",
       "      <td>3.063528</td>\n",
       "      <td>5</td>\n",
       "      <td>11.84</td>\n",
       "      <td>58.0</td>\n",
       "      <td>62</td>\n",
       "      <td>84.065714</td>\n",
       "    </tr>\n",
       "    <tr>\n",
       "      <th>4</th>\n",
       "      <td>7</td>\n",
       "      <td>Lille</td>\n",
       "      <td>50.636565</td>\n",
       "      <td>3.063528</td>\n",
       "      <td>6</td>\n",
       "      <td>11.22</td>\n",
       "      <td>65.0</td>\n",
       "      <td>63</td>\n",
       "      <td>84.065714</td>\n",
       "    </tr>\n",
       "    <tr>\n",
       "      <th>4</th>\n",
       "      <td>7</td>\n",
       "      <td>Lille</td>\n",
       "      <td>50.636565</td>\n",
       "      <td>3.063528</td>\n",
       "      <td>7</td>\n",
       "      <td>14.22</td>\n",
       "      <td>0.0</td>\n",
       "      <td>47</td>\n",
       "      <td>84.065714</td>\n",
       "    </tr>\n",
       "  </tbody>\n",
       "</table>\n",
       "</div>"
      ],
      "text/plain": [
       "   id       city        lat       lon  day_plus  felt_temperature  \\\n",
       "0   5      Paris  48.858890  2.320041         1             18.24   \n",
       "0   5      Paris  48.858890  2.320041         2             16.73   \n",
       "0   5      Paris  48.858890  2.320041         3             15.48   \n",
       "0   5      Paris  48.858890  2.320041         4             16.52   \n",
       "0   5      Paris  48.858890  2.320041         5             12.97   \n",
       "0   5      Paris  48.858890  2.320041         6             13.87   \n",
       "0   5      Paris  48.858890  2.320041         7             14.95   \n",
       "1  24      Nimes  43.837425  4.360069         1             23.74   \n",
       "1  24      Nimes  43.837425  4.360069         2             22.68   \n",
       "1  24      Nimes  43.837425  4.360069         3             20.39   \n",
       "1  24      Nimes  43.837425  4.360069         4             18.76   \n",
       "1  24      Nimes  43.837425  4.360069         5             19.02   \n",
       "1  24      Nimes  43.837425  4.360069         6             13.62   \n",
       "1  24      Nimes  43.837425  4.360069         7             18.13   \n",
       "2  23       Uzes  44.012128  4.419672         1             22.78   \n",
       "2  23       Uzes  44.012128  4.419672         2             21.47   \n",
       "2  23       Uzes  44.012128  4.419672         3             20.49   \n",
       "2  23       Uzes  44.012128  4.419672         4             18.65   \n",
       "2  23       Uzes  44.012128  4.419672         5             18.69   \n",
       "2  23       Uzes  44.012128  4.419672         6             11.99   \n",
       "2  23       Uzes  44.012128  4.419672         7             16.80   \n",
       "3  27  Collioure  42.525050  3.083155         1             21.28   \n",
       "3  27  Collioure  42.525050  3.083155         2             22.08   \n",
       "3  27  Collioure  42.525050  3.083155         3             17.75   \n",
       "3  27  Collioure  42.525050  3.083155         4             19.70   \n",
       "3  27  Collioure  42.525050  3.083155         5             14.10   \n",
       "3  27  Collioure  42.525050  3.083155         6             13.01   \n",
       "3  27  Collioure  42.525050  3.083155         7             16.55   \n",
       "4   7      Lille  50.636565  3.063528         1             15.74   \n",
       "4   7      Lille  50.636565  3.063528         2             15.23   \n",
       "4   7      Lille  50.636565  3.063528         3             14.64   \n",
       "4   7      Lille  50.636565  3.063528         4             15.38   \n",
       "4   7      Lille  50.636565  3.063528         5             11.84   \n",
       "4   7      Lille  50.636565  3.063528         6             11.22   \n",
       "4   7      Lille  50.636565  3.063528         7             14.22   \n",
       "\n",
       "   rain_chances  humidity      score  \n",
       "0          10.0        51  76.711429  \n",
       "0           0.0        45  76.711429  \n",
       "0           0.0        31  76.711429  \n",
       "0           0.0        29  76.711429  \n",
       "0          70.0        55  76.711429  \n",
       "0           2.0        38  76.711429  \n",
       "0          38.0        40  76.711429  \n",
       "1           2.0        38  80.188571  \n",
       "1           0.0        34  80.188571  \n",
       "1           0.0        36  80.188571  \n",
       "1           0.0        45  80.188571  \n",
       "1         100.0        41  80.188571  \n",
       "1         100.0        55  80.188571  \n",
       "1           1.0        33  80.188571  \n",
       "2           1.0        41  81.965714  \n",
       "2           0.0        37  81.965714  \n",
       "2           0.0        33  81.965714  \n",
       "2           0.0        42  81.965714  \n",
       "2         100.0        37  81.965714  \n",
       "2         100.0        60  81.965714  \n",
       "2           1.0        37  81.965714  \n",
       "3           0.0        52  83.865714  \n",
       "3           0.0        43  83.865714  \n",
       "3           0.0        59  83.865714  \n",
       "3           3.0        44  83.865714  \n",
       "3          79.0        76  83.865714  \n",
       "3          69.0        50  83.865714  \n",
       "3           9.0        48  83.865714  \n",
       "4           0.0        54  84.065714  \n",
       "4           0.0        47  84.065714  \n",
       "4           0.0        35  84.065714  \n",
       "4           0.0        36  84.065714  \n",
       "4          58.0        62  84.065714  \n",
       "4          65.0        63  84.065714  \n",
       "4           0.0        47  84.065714  "
      ]
     },
     "execution_count": 26,
     "metadata": {},
     "output_type": "execute_result"
    }
   ],
   "source": [
    "def df_map(df):\n",
    "\n",
    "    df_sorted = df_full.sort_values('score').head()\n",
    "    df_sorted.reset_index(inplace=True, drop=True)\n",
    "    df_sorted = df_sorted.apply(pd.Series.explode)\n",
    "    df_sorted[['lat', 'lon', 'day_plus', 'felt_temperature', 'rain_chances', 'humidity']] = df_sorted[['lat', 'lon', 'day_plus', 'felt_temperature', 'rain_chances', 'humidity']].apply(pd.to_numeric)\n",
    "    return df_sorted\n",
    "\n",
    "df_plotly = df_map(df_full)\n",
    "\n",
    "df_plotly"
   ]
  },
  {
   "cell_type": "code",
   "execution_count": 27,
   "metadata": {},
   "outputs": [
    {
     "data": {
      "application/vnd.plotly.v1+json": {
       "config": {
        "plotlyServerURL": "https://plot.ly"
       },
       "data": [
        {
         "customdata": [
          [
           48.8588897,
           2.3200410217200766,
           1,
           10,
           51,
           18.24
          ],
          [
           44.0121279,
           4.4196718,
           1,
           1,
           41,
           22.78
          ],
          [
           42.52505,
           3.0831554,
           1,
           0,
           52,
           21.28
          ],
          [
           43.8374249,
           4.3600687,
           1,
           2,
           38,
           23.74
          ],
          [
           50.6365654,
           3.0635282,
           1,
           0,
           54,
           15.74
          ]
         ],
         "hovertemplate": "<b>%{hovertext}</b><br><br>humidity=%{customdata[4]}<br>rain_chances=%{customdata[3]}<br>felt_temperature=%{marker.color}<extra></extra>",
         "hovertext": [
          "Paris",
          "Uzes",
          "Collioure",
          "Nimes",
          "Lille"
         ],
         "lat": [
          48.8588897,
          44.0121279,
          42.52505,
          43.8374249,
          50.6365654
         ],
         "legendgroup": "",
         "lon": [
          2.3200410217200766,
          4.4196718,
          3.0831554,
          4.3600687,
          3.0635282
         ],
         "marker": {
          "color": [
           18.24,
           22.78,
           21.28,
           23.74,
           15.74
          ],
          "coloraxis": "coloraxis",
          "size": [
           51,
           41,
           52,
           38,
           54
          ],
          "sizemode": "area",
          "sizeref": 0.08444444444444445
         },
         "mode": "markers",
         "name": "",
         "showlegend": false,
         "subplot": "mapbox",
         "type": "scattermapbox"
        }
       ],
       "frames": [
        {
         "data": [
          {
           "customdata": [
            [
             48.8588897,
             2.3200410217200766,
             1,
             10,
             51,
             18.24
            ],
            [
             44.0121279,
             4.4196718,
             1,
             1,
             41,
             22.78
            ],
            [
             42.52505,
             3.0831554,
             1,
             0,
             52,
             21.28
            ],
            [
             43.8374249,
             4.3600687,
             1,
             2,
             38,
             23.74
            ],
            [
             50.6365654,
             3.0635282,
             1,
             0,
             54,
             15.74
            ]
           ],
           "hovertemplate": "<b>%{hovertext}</b><br><br>humidity=%{customdata[4]}<br>rain_chances=%{customdata[3]}<br>felt_temperature=%{marker.color}<extra></extra>",
           "hovertext": [
            "Paris",
            "Uzes",
            "Collioure",
            "Nimes",
            "Lille"
           ],
           "lat": [
            48.8588897,
            44.0121279,
            42.52505,
            43.8374249,
            50.6365654
           ],
           "legendgroup": "",
           "lon": [
            2.3200410217200766,
            4.4196718,
            3.0831554,
            4.3600687,
            3.0635282
           ],
           "marker": {
            "color": [
             18.24,
             22.78,
             21.28,
             23.74,
             15.74
            ],
            "coloraxis": "coloraxis",
            "size": [
             51,
             41,
             52,
             38,
             54
            ],
            "sizemode": "area",
            "sizeref": 0.08444444444444445
           },
           "mode": "markers",
           "name": "",
           "showlegend": false,
           "subplot": "mapbox",
           "type": "scattermapbox"
          }
         ],
         "name": "1"
        },
        {
         "data": [
          {
           "customdata": [
            [
             42.52505,
             3.0831554,
             2,
             0,
             43,
             22.08
            ],
            [
             44.0121279,
             4.4196718,
             2,
             0,
             37,
             21.47
            ],
            [
             43.8374249,
             4.3600687,
             2,
             0,
             34,
             22.68
            ],
            [
             48.8588897,
             2.3200410217200766,
             2,
             0,
             45,
             16.73
            ],
            [
             50.6365654,
             3.0635282,
             2,
             0,
             47,
             15.23
            ]
           ],
           "hovertemplate": "<b>%{hovertext}</b><br><br>humidity=%{customdata[4]}<br>rain_chances=%{customdata[3]}<br>felt_temperature=%{marker.color}<extra></extra>",
           "hovertext": [
            "Collioure",
            "Uzes",
            "Nimes",
            "Paris",
            "Lille"
           ],
           "lat": [
            42.52505,
            44.0121279,
            43.8374249,
            48.8588897,
            50.6365654
           ],
           "legendgroup": "",
           "lon": [
            3.0831554,
            4.4196718,
            4.3600687,
            2.3200410217200766,
            3.0635282
           ],
           "marker": {
            "color": [
             22.08,
             21.47,
             22.68,
             16.73,
             15.23
            ],
            "coloraxis": "coloraxis",
            "size": [
             43,
             37,
             34,
             45,
             47
            ],
            "sizemode": "area",
            "sizeref": 0.08444444444444445
           },
           "mode": "markers",
           "name": "",
           "showlegend": false,
           "subplot": "mapbox",
           "type": "scattermapbox"
          }
         ],
         "name": "2"
        },
        {
         "data": [
          {
           "customdata": [
            [
             50.6365654,
             3.0635282,
             3,
             0,
             35,
             14.64
            ],
            [
             43.8374249,
             4.3600687,
             3,
             0,
             36,
             20.39
            ],
            [
             42.52505,
             3.0831554,
             3,
             0,
             59,
             17.75
            ],
            [
             48.8588897,
             2.3200410217200766,
             3,
             0,
             31,
             15.48
            ],
            [
             44.0121279,
             4.4196718,
             3,
             0,
             33,
             20.49
            ]
           ],
           "hovertemplate": "<b>%{hovertext}</b><br><br>humidity=%{customdata[4]}<br>rain_chances=%{customdata[3]}<br>felt_temperature=%{marker.color}<extra></extra>",
           "hovertext": [
            "Lille",
            "Nimes",
            "Collioure",
            "Paris",
            "Uzes"
           ],
           "lat": [
            50.6365654,
            43.8374249,
            42.52505,
            48.8588897,
            44.0121279
           ],
           "legendgroup": "",
           "lon": [
            3.0635282,
            4.3600687,
            3.0831554,
            2.3200410217200766,
            4.4196718
           ],
           "marker": {
            "color": [
             14.64,
             20.39,
             17.75,
             15.48,
             20.49
            ],
            "coloraxis": "coloraxis",
            "size": [
             35,
             36,
             59,
             31,
             33
            ],
            "sizemode": "area",
            "sizeref": 0.08444444444444445
           },
           "mode": "markers",
           "name": "",
           "showlegend": false,
           "subplot": "mapbox",
           "type": "scattermapbox"
          }
         ],
         "name": "3"
        },
        {
         "data": [
          {
           "customdata": [
            [
             42.52505,
             3.0831554,
             4,
             3,
             44,
             19.7
            ],
            [
             50.6365654,
             3.0635282,
             4,
             0,
             36,
             15.38
            ],
            [
             44.0121279,
             4.4196718,
             4,
             0,
             42,
             18.65
            ],
            [
             48.8588897,
             2.3200410217200766,
             4,
             0,
             29,
             16.52
            ],
            [
             43.8374249,
             4.3600687,
             4,
             0,
             45,
             18.76
            ]
           ],
           "hovertemplate": "<b>%{hovertext}</b><br><br>humidity=%{customdata[4]}<br>rain_chances=%{customdata[3]}<br>felt_temperature=%{marker.color}<extra></extra>",
           "hovertext": [
            "Collioure",
            "Lille",
            "Uzes",
            "Paris",
            "Nimes"
           ],
           "lat": [
            42.52505,
            50.6365654,
            44.0121279,
            48.8588897,
            43.8374249
           ],
           "legendgroup": "",
           "lon": [
            3.0831554,
            3.0635282,
            4.4196718,
            2.3200410217200766,
            4.3600687
           ],
           "marker": {
            "color": [
             19.7,
             15.38,
             18.65,
             16.52,
             18.76
            ],
            "coloraxis": "coloraxis",
            "size": [
             44,
             36,
             42,
             29,
             45
            ],
            "sizemode": "area",
            "sizeref": 0.08444444444444445
           },
           "mode": "markers",
           "name": "",
           "showlegend": false,
           "subplot": "mapbox",
           "type": "scattermapbox"
          }
         ],
         "name": "4"
        },
        {
         "data": [
          {
           "customdata": [
            [
             44.0121279,
             4.4196718,
             5,
             100,
             37,
             18.69
            ],
            [
             50.6365654,
             3.0635282,
             5,
             57.99999999999999,
             62,
             11.84
            ],
            [
             48.8588897,
             2.3200410217200766,
             5,
             70,
             55,
             12.97
            ],
            [
             43.8374249,
             4.3600687,
             5,
             100,
             41,
             19.02
            ],
            [
             42.52505,
             3.0831554,
             5,
             79,
             76,
             14.1
            ]
           ],
           "hovertemplate": "<b>%{hovertext}</b><br><br>humidity=%{customdata[4]}<br>rain_chances=%{customdata[3]}<br>felt_temperature=%{marker.color}<extra></extra>",
           "hovertext": [
            "Uzes",
            "Lille",
            "Paris",
            "Nimes",
            "Collioure"
           ],
           "lat": [
            44.0121279,
            50.6365654,
            48.8588897,
            43.8374249,
            42.52505
           ],
           "legendgroup": "",
           "lon": [
            4.4196718,
            3.0635282,
            2.3200410217200766,
            4.3600687,
            3.0831554
           ],
           "marker": {
            "color": [
             18.69,
             11.84,
             12.97,
             19.02,
             14.1
            ],
            "coloraxis": "coloraxis",
            "size": [
             37,
             62,
             55,
             41,
             76
            ],
            "sizemode": "area",
            "sizeref": 0.08444444444444445
           },
           "mode": "markers",
           "name": "",
           "showlegend": false,
           "subplot": "mapbox",
           "type": "scattermapbox"
          }
         ],
         "name": "5"
        },
        {
         "data": [
          {
           "customdata": [
            [
             48.8588897,
             2.3200410217200766,
             6,
             2,
             38,
             13.87
            ],
            [
             42.52505,
             3.0831554,
             6,
             69,
             50,
             13.01
            ],
            [
             43.8374249,
             4.3600687,
             6,
             100,
             55,
             13.62
            ],
            [
             44.0121279,
             4.4196718,
             6,
             100,
             60,
             11.99
            ],
            [
             50.6365654,
             3.0635282,
             6,
             65,
             63,
             11.22
            ]
           ],
           "hovertemplate": "<b>%{hovertext}</b><br><br>humidity=%{customdata[4]}<br>rain_chances=%{customdata[3]}<br>felt_temperature=%{marker.color}<extra></extra>",
           "hovertext": [
            "Paris",
            "Collioure",
            "Nimes",
            "Uzes",
            "Lille"
           ],
           "lat": [
            48.8588897,
            42.52505,
            43.8374249,
            44.0121279,
            50.6365654
           ],
           "legendgroup": "",
           "lon": [
            2.3200410217200766,
            3.0831554,
            4.3600687,
            4.4196718,
            3.0635282
           ],
           "marker": {
            "color": [
             13.87,
             13.01,
             13.62,
             11.99,
             11.22
            ],
            "coloraxis": "coloraxis",
            "size": [
             38,
             50,
             55,
             60,
             63
            ],
            "sizemode": "area",
            "sizeref": 0.08444444444444445
           },
           "mode": "markers",
           "name": "",
           "showlegend": false,
           "subplot": "mapbox",
           "type": "scattermapbox"
          }
         ],
         "name": "6"
        },
        {
         "data": [
          {
           "customdata": [
            [
             42.52505,
             3.0831554,
             7,
             9,
             48,
             16.55
            ],
            [
             48.8588897,
             2.3200410217200766,
             7,
             38,
             40,
             14.95
            ],
            [
             43.8374249,
             4.3600687,
             7,
             1,
             33,
             18.13
            ],
            [
             44.0121279,
             4.4196718,
             7,
             1,
             37,
             16.8
            ],
            [
             50.6365654,
             3.0635282,
             7,
             0,
             47,
             14.22
            ]
           ],
           "hovertemplate": "<b>%{hovertext}</b><br><br>humidity=%{customdata[4]}<br>rain_chances=%{customdata[3]}<br>felt_temperature=%{marker.color}<extra></extra>",
           "hovertext": [
            "Collioure",
            "Paris",
            "Nimes",
            "Uzes",
            "Lille"
           ],
           "lat": [
            42.52505,
            48.8588897,
            43.8374249,
            44.0121279,
            50.6365654
           ],
           "legendgroup": "",
           "lon": [
            3.0831554,
            2.3200410217200766,
            4.3600687,
            4.4196718,
            3.0635282
           ],
           "marker": {
            "color": [
             16.55,
             14.95,
             18.13,
             16.8,
             14.22
            ],
            "coloraxis": "coloraxis",
            "size": [
             48,
             40,
             33,
             37,
             47
            ],
            "sizemode": "area",
            "sizeref": 0.08444444444444445
           },
           "mode": "markers",
           "name": "",
           "showlegend": false,
           "subplot": "mapbox",
           "type": "scattermapbox"
          }
         ],
         "name": "7"
        }
       ],
       "layout": {
        "coloraxis": {
         "colorbar": {
          "title": {
           "text": "felt_temperature"
          }
         },
         "colorscale": [
          [
           0,
           "rgb(0,0,255)"
          ],
          [
           1,
           "rgb(255,0,0)"
          ]
         ]
        },
        "height": 800,
        "legend": {
         "itemsizing": "constant",
         "tracegroupgap": 0
        },
        "mapbox": {
         "accesstoken": "pk.eyJ1Ijoidm9ud2VuIiwiYSI6ImNsMWM0dmZnazA0N2gzZG8wa2N1OTM0ZDEifQ.lCZ3DFaUYPS5XIJCWi6yNA",
         "center": {
          "lat": 45.97401158,
          "lon": 3.449293024344015
         },
         "domain": {
          "x": [
           0,
           1
          ],
          "y": [
           0,
           1
          ]
         },
         "zoom": 4.7
        },
        "margin": {
         "t": 60
        },
        "sliders": [
         {
          "active": 0,
          "currentvalue": {
           "prefix": "day_plus="
          },
          "len": 0.9,
          "pad": {
           "b": 10,
           "t": 60
          },
          "steps": [
           {
            "args": [
             [
              "1"
             ],
             {
              "frame": {
               "duration": 0,
               "redraw": true
              },
              "fromcurrent": true,
              "mode": "immediate",
              "transition": {
               "duration": 0,
               "easing": "linear"
              }
             }
            ],
            "label": "1",
            "method": "animate"
           },
           {
            "args": [
             [
              "2"
             ],
             {
              "frame": {
               "duration": 0,
               "redraw": true
              },
              "fromcurrent": true,
              "mode": "immediate",
              "transition": {
               "duration": 0,
               "easing": "linear"
              }
             }
            ],
            "label": "2",
            "method": "animate"
           },
           {
            "args": [
             [
              "3"
             ],
             {
              "frame": {
               "duration": 0,
               "redraw": true
              },
              "fromcurrent": true,
              "mode": "immediate",
              "transition": {
               "duration": 0,
               "easing": "linear"
              }
             }
            ],
            "label": "3",
            "method": "animate"
           },
           {
            "args": [
             [
              "4"
             ],
             {
              "frame": {
               "duration": 0,
               "redraw": true
              },
              "fromcurrent": true,
              "mode": "immediate",
              "transition": {
               "duration": 0,
               "easing": "linear"
              }
             }
            ],
            "label": "4",
            "method": "animate"
           },
           {
            "args": [
             [
              "5"
             ],
             {
              "frame": {
               "duration": 0,
               "redraw": true
              },
              "fromcurrent": true,
              "mode": "immediate",
              "transition": {
               "duration": 0,
               "easing": "linear"
              }
             }
            ],
            "label": "5",
            "method": "animate"
           },
           {
            "args": [
             [
              "6"
             ],
             {
              "frame": {
               "duration": 0,
               "redraw": true
              },
              "fromcurrent": true,
              "mode": "immediate",
              "transition": {
               "duration": 0,
               "easing": "linear"
              }
             }
            ],
            "label": "6",
            "method": "animate"
           },
           {
            "args": [
             [
              "7"
             ],
             {
              "frame": {
               "duration": 0,
               "redraw": true
              },
              "fromcurrent": true,
              "mode": "immediate",
              "transition": {
               "duration": 0,
               "easing": "linear"
              }
             }
            ],
            "label": "7",
            "method": "animate"
           }
          ],
          "x": 0.1,
          "xanchor": "left",
          "y": 0,
          "yanchor": "top"
         }
        ],
        "template": {
         "data": {
          "bar": [
           {
            "error_x": {
             "color": "#f2f5fa"
            },
            "error_y": {
             "color": "#f2f5fa"
            },
            "marker": {
             "line": {
              "color": "rgb(17,17,17)",
              "width": 0.5
             },
             "pattern": {
              "fillmode": "overlay",
              "size": 10,
              "solidity": 0.2
             }
            },
            "type": "bar"
           }
          ],
          "barpolar": [
           {
            "marker": {
             "line": {
              "color": "rgb(17,17,17)",
              "width": 0.5
             },
             "pattern": {
              "fillmode": "overlay",
              "size": 10,
              "solidity": 0.2
             }
            },
            "type": "barpolar"
           }
          ],
          "carpet": [
           {
            "aaxis": {
             "endlinecolor": "#A2B1C6",
             "gridcolor": "#506784",
             "linecolor": "#506784",
             "minorgridcolor": "#506784",
             "startlinecolor": "#A2B1C6"
            },
            "baxis": {
             "endlinecolor": "#A2B1C6",
             "gridcolor": "#506784",
             "linecolor": "#506784",
             "minorgridcolor": "#506784",
             "startlinecolor": "#A2B1C6"
            },
            "type": "carpet"
           }
          ],
          "choropleth": [
           {
            "colorbar": {
             "outlinewidth": 0,
             "ticks": ""
            },
            "type": "choropleth"
           }
          ],
          "contour": [
           {
            "colorbar": {
             "outlinewidth": 0,
             "ticks": ""
            },
            "colorscale": [
             [
              0,
              "#0d0887"
             ],
             [
              0.1111111111111111,
              "#46039f"
             ],
             [
              0.2222222222222222,
              "#7201a8"
             ],
             [
              0.3333333333333333,
              "#9c179e"
             ],
             [
              0.4444444444444444,
              "#bd3786"
             ],
             [
              0.5555555555555556,
              "#d8576b"
             ],
             [
              0.6666666666666666,
              "#ed7953"
             ],
             [
              0.7777777777777778,
              "#fb9f3a"
             ],
             [
              0.8888888888888888,
              "#fdca26"
             ],
             [
              1,
              "#f0f921"
             ]
            ],
            "type": "contour"
           }
          ],
          "contourcarpet": [
           {
            "colorbar": {
             "outlinewidth": 0,
             "ticks": ""
            },
            "type": "contourcarpet"
           }
          ],
          "heatmap": [
           {
            "colorbar": {
             "outlinewidth": 0,
             "ticks": ""
            },
            "colorscale": [
             [
              0,
              "#0d0887"
             ],
             [
              0.1111111111111111,
              "#46039f"
             ],
             [
              0.2222222222222222,
              "#7201a8"
             ],
             [
              0.3333333333333333,
              "#9c179e"
             ],
             [
              0.4444444444444444,
              "#bd3786"
             ],
             [
              0.5555555555555556,
              "#d8576b"
             ],
             [
              0.6666666666666666,
              "#ed7953"
             ],
             [
              0.7777777777777778,
              "#fb9f3a"
             ],
             [
              0.8888888888888888,
              "#fdca26"
             ],
             [
              1,
              "#f0f921"
             ]
            ],
            "type": "heatmap"
           }
          ],
          "heatmapgl": [
           {
            "colorbar": {
             "outlinewidth": 0,
             "ticks": ""
            },
            "colorscale": [
             [
              0,
              "#0d0887"
             ],
             [
              0.1111111111111111,
              "#46039f"
             ],
             [
              0.2222222222222222,
              "#7201a8"
             ],
             [
              0.3333333333333333,
              "#9c179e"
             ],
             [
              0.4444444444444444,
              "#bd3786"
             ],
             [
              0.5555555555555556,
              "#d8576b"
             ],
             [
              0.6666666666666666,
              "#ed7953"
             ],
             [
              0.7777777777777778,
              "#fb9f3a"
             ],
             [
              0.8888888888888888,
              "#fdca26"
             ],
             [
              1,
              "#f0f921"
             ]
            ],
            "type": "heatmapgl"
           }
          ],
          "histogram": [
           {
            "marker": {
             "pattern": {
              "fillmode": "overlay",
              "size": 10,
              "solidity": 0.2
             }
            },
            "type": "histogram"
           }
          ],
          "histogram2d": [
           {
            "colorbar": {
             "outlinewidth": 0,
             "ticks": ""
            },
            "colorscale": [
             [
              0,
              "#0d0887"
             ],
             [
              0.1111111111111111,
              "#46039f"
             ],
             [
              0.2222222222222222,
              "#7201a8"
             ],
             [
              0.3333333333333333,
              "#9c179e"
             ],
             [
              0.4444444444444444,
              "#bd3786"
             ],
             [
              0.5555555555555556,
              "#d8576b"
             ],
             [
              0.6666666666666666,
              "#ed7953"
             ],
             [
              0.7777777777777778,
              "#fb9f3a"
             ],
             [
              0.8888888888888888,
              "#fdca26"
             ],
             [
              1,
              "#f0f921"
             ]
            ],
            "type": "histogram2d"
           }
          ],
          "histogram2dcontour": [
           {
            "colorbar": {
             "outlinewidth": 0,
             "ticks": ""
            },
            "colorscale": [
             [
              0,
              "#0d0887"
             ],
             [
              0.1111111111111111,
              "#46039f"
             ],
             [
              0.2222222222222222,
              "#7201a8"
             ],
             [
              0.3333333333333333,
              "#9c179e"
             ],
             [
              0.4444444444444444,
              "#bd3786"
             ],
             [
              0.5555555555555556,
              "#d8576b"
             ],
             [
              0.6666666666666666,
              "#ed7953"
             ],
             [
              0.7777777777777778,
              "#fb9f3a"
             ],
             [
              0.8888888888888888,
              "#fdca26"
             ],
             [
              1,
              "#f0f921"
             ]
            ],
            "type": "histogram2dcontour"
           }
          ],
          "mesh3d": [
           {
            "colorbar": {
             "outlinewidth": 0,
             "ticks": ""
            },
            "type": "mesh3d"
           }
          ],
          "parcoords": [
           {
            "line": {
             "colorbar": {
              "outlinewidth": 0,
              "ticks": ""
             }
            },
            "type": "parcoords"
           }
          ],
          "pie": [
           {
            "automargin": true,
            "type": "pie"
           }
          ],
          "scatter": [
           {
            "marker": {
             "line": {
              "color": "#283442"
             }
            },
            "type": "scatter"
           }
          ],
          "scatter3d": [
           {
            "line": {
             "colorbar": {
              "outlinewidth": 0,
              "ticks": ""
             }
            },
            "marker": {
             "colorbar": {
              "outlinewidth": 0,
              "ticks": ""
             }
            },
            "type": "scatter3d"
           }
          ],
          "scattercarpet": [
           {
            "marker": {
             "colorbar": {
              "outlinewidth": 0,
              "ticks": ""
             }
            },
            "type": "scattercarpet"
           }
          ],
          "scattergeo": [
           {
            "marker": {
             "colorbar": {
              "outlinewidth": 0,
              "ticks": ""
             }
            },
            "type": "scattergeo"
           }
          ],
          "scattergl": [
           {
            "marker": {
             "line": {
              "color": "#283442"
             }
            },
            "type": "scattergl"
           }
          ],
          "scattermapbox": [
           {
            "marker": {
             "colorbar": {
              "outlinewidth": 0,
              "ticks": ""
             }
            },
            "type": "scattermapbox"
           }
          ],
          "scatterpolar": [
           {
            "marker": {
             "colorbar": {
              "outlinewidth": 0,
              "ticks": ""
             }
            },
            "type": "scatterpolar"
           }
          ],
          "scatterpolargl": [
           {
            "marker": {
             "colorbar": {
              "outlinewidth": 0,
              "ticks": ""
             }
            },
            "type": "scatterpolargl"
           }
          ],
          "scatterternary": [
           {
            "marker": {
             "colorbar": {
              "outlinewidth": 0,
              "ticks": ""
             }
            },
            "type": "scatterternary"
           }
          ],
          "surface": [
           {
            "colorbar": {
             "outlinewidth": 0,
             "ticks": ""
            },
            "colorscale": [
             [
              0,
              "#0d0887"
             ],
             [
              0.1111111111111111,
              "#46039f"
             ],
             [
              0.2222222222222222,
              "#7201a8"
             ],
             [
              0.3333333333333333,
              "#9c179e"
             ],
             [
              0.4444444444444444,
              "#bd3786"
             ],
             [
              0.5555555555555556,
              "#d8576b"
             ],
             [
              0.6666666666666666,
              "#ed7953"
             ],
             [
              0.7777777777777778,
              "#fb9f3a"
             ],
             [
              0.8888888888888888,
              "#fdca26"
             ],
             [
              1,
              "#f0f921"
             ]
            ],
            "type": "surface"
           }
          ],
          "table": [
           {
            "cells": {
             "fill": {
              "color": "#506784"
             },
             "line": {
              "color": "rgb(17,17,17)"
             }
            },
            "header": {
             "fill": {
              "color": "#2a3f5f"
             },
             "line": {
              "color": "rgb(17,17,17)"
             }
            },
            "type": "table"
           }
          ]
         },
         "layout": {
          "annotationdefaults": {
           "arrowcolor": "#f2f5fa",
           "arrowhead": 0,
           "arrowwidth": 1
          },
          "autotypenumbers": "strict",
          "coloraxis": {
           "colorbar": {
            "outlinewidth": 0,
            "ticks": ""
           }
          },
          "colorscale": {
           "diverging": [
            [
             0,
             "#8e0152"
            ],
            [
             0.1,
             "#c51b7d"
            ],
            [
             0.2,
             "#de77ae"
            ],
            [
             0.3,
             "#f1b6da"
            ],
            [
             0.4,
             "#fde0ef"
            ],
            [
             0.5,
             "#f7f7f7"
            ],
            [
             0.6,
             "#e6f5d0"
            ],
            [
             0.7,
             "#b8e186"
            ],
            [
             0.8,
             "#7fbc41"
            ],
            [
             0.9,
             "#4d9221"
            ],
            [
             1,
             "#276419"
            ]
           ],
           "sequential": [
            [
             0,
             "#0d0887"
            ],
            [
             0.1111111111111111,
             "#46039f"
            ],
            [
             0.2222222222222222,
             "#7201a8"
            ],
            [
             0.3333333333333333,
             "#9c179e"
            ],
            [
             0.4444444444444444,
             "#bd3786"
            ],
            [
             0.5555555555555556,
             "#d8576b"
            ],
            [
             0.6666666666666666,
             "#ed7953"
            ],
            [
             0.7777777777777778,
             "#fb9f3a"
            ],
            [
             0.8888888888888888,
             "#fdca26"
            ],
            [
             1,
             "#f0f921"
            ]
           ],
           "sequentialminus": [
            [
             0,
             "#0d0887"
            ],
            [
             0.1111111111111111,
             "#46039f"
            ],
            [
             0.2222222222222222,
             "#7201a8"
            ],
            [
             0.3333333333333333,
             "#9c179e"
            ],
            [
             0.4444444444444444,
             "#bd3786"
            ],
            [
             0.5555555555555556,
             "#d8576b"
            ],
            [
             0.6666666666666666,
             "#ed7953"
            ],
            [
             0.7777777777777778,
             "#fb9f3a"
            ],
            [
             0.8888888888888888,
             "#fdca26"
            ],
            [
             1,
             "#f0f921"
            ]
           ]
          },
          "colorway": [
           "#636efa",
           "#EF553B",
           "#00cc96",
           "#ab63fa",
           "#FFA15A",
           "#19d3f3",
           "#FF6692",
           "#B6E880",
           "#FF97FF",
           "#FECB52"
          ],
          "font": {
           "color": "#f2f5fa"
          },
          "geo": {
           "bgcolor": "rgb(17,17,17)",
           "lakecolor": "rgb(17,17,17)",
           "landcolor": "rgb(17,17,17)",
           "showlakes": true,
           "showland": true,
           "subunitcolor": "#506784"
          },
          "hoverlabel": {
           "align": "left"
          },
          "hovermode": "closest",
          "mapbox": {
           "style": "dark"
          },
          "paper_bgcolor": "rgb(17,17,17)",
          "plot_bgcolor": "rgb(17,17,17)",
          "polar": {
           "angularaxis": {
            "gridcolor": "#506784",
            "linecolor": "#506784",
            "ticks": ""
           },
           "bgcolor": "rgb(17,17,17)",
           "radialaxis": {
            "gridcolor": "#506784",
            "linecolor": "#506784",
            "ticks": ""
           }
          },
          "scene": {
           "xaxis": {
            "backgroundcolor": "rgb(17,17,17)",
            "gridcolor": "#506784",
            "gridwidth": 2,
            "linecolor": "#506784",
            "showbackground": true,
            "ticks": "",
            "zerolinecolor": "#C8D4E3"
           },
           "yaxis": {
            "backgroundcolor": "rgb(17,17,17)",
            "gridcolor": "#506784",
            "gridwidth": 2,
            "linecolor": "#506784",
            "showbackground": true,
            "ticks": "",
            "zerolinecolor": "#C8D4E3"
           },
           "zaxis": {
            "backgroundcolor": "rgb(17,17,17)",
            "gridcolor": "#506784",
            "gridwidth": 2,
            "linecolor": "#506784",
            "showbackground": true,
            "ticks": "",
            "zerolinecolor": "#C8D4E3"
           }
          },
          "shapedefaults": {
           "line": {
            "color": "#f2f5fa"
           }
          },
          "sliderdefaults": {
           "bgcolor": "#C8D4E3",
           "bordercolor": "rgb(17,17,17)",
           "borderwidth": 1,
           "tickwidth": 0
          },
          "ternary": {
           "aaxis": {
            "gridcolor": "#506784",
            "linecolor": "#506784",
            "ticks": ""
           },
           "baxis": {
            "gridcolor": "#506784",
            "linecolor": "#506784",
            "ticks": ""
           },
           "bgcolor": "rgb(17,17,17)",
           "caxis": {
            "gridcolor": "#506784",
            "linecolor": "#506784",
            "ticks": ""
           }
          },
          "title": {
           "x": 0.05
          },
          "updatemenudefaults": {
           "bgcolor": "#506784",
           "borderwidth": 0
          },
          "xaxis": {
           "automargin": true,
           "gridcolor": "#283442",
           "linecolor": "#506784",
           "ticks": "",
           "title": {
            "standoff": 15
           },
           "zerolinecolor": "#283442",
           "zerolinewidth": 2
          },
          "yaxis": {
           "automargin": true,
           "gridcolor": "#283442",
           "linecolor": "#506784",
           "ticks": "",
           "title": {
            "standoff": 15
           },
           "zerolinecolor": "#283442",
           "zerolinewidth": 2
          }
         }
        },
        "title": {
         "text": "Weather"
        },
        "updatemenus": [
         {
          "buttons": [
           {
            "args": [
             null,
             {
              "frame": {
               "duration": 500,
               "redraw": true
              },
              "fromcurrent": true,
              "mode": "immediate",
              "transition": {
               "duration": 500,
               "easing": "linear"
              }
             }
            ],
            "label": "&#9654;",
            "method": "animate"
           },
           {
            "args": [
             [
              null
             ],
             {
              "frame": {
               "duration": 0,
               "redraw": true
              },
              "fromcurrent": true,
              "mode": "immediate",
              "transition": {
               "duration": 0,
               "easing": "linear"
              }
             }
            ],
            "label": "&#9724;",
            "method": "animate"
           }
          ],
          "direction": "left",
          "pad": {
           "r": 10,
           "t": 70
          },
          "showactive": false,
          "type": "buttons",
          "x": 0.1,
          "xanchor": "right",
          "y": 0,
          "yanchor": "top"
         }
        ],
        "width": 1300
       }
      }
     },
     "metadata": {},
     "output_type": "display_data"
    }
   ],
   "source": [
    "px.set_mapbox_access_token(open(\".mapbox_token\").read())\n",
    "fig = px.scatter_mapbox(\n",
    "    df_plotly.sort_values('day_plus'),\n",
    "    lat='lat',\n",
    "    lon='lon',\n",
    "    color='felt_temperature',\n",
    "    size='humidity',\n",
    "    color_continuous_scale=px.colors.sequential.Bluered,\n",
    "    size_max=30,\n",
    "    zoom=4.7,\n",
    "    hover_name='city',\n",
    "    hover_data={\n",
    "        'lat': False,\n",
    "        'lon': False,\n",
    "        'day_plus': False,\n",
    "        'rain_chances': True,\n",
    "        'humidity': True,\n",
    "        'felt_temperature': True        \n",
    "        },\n",
    "    animation_frame='day_plus'\n",
    ")\n",
    "\n",
    "fig.update_layout(width = 1300, height = 800, template='plotly_dark' ,title='Weather')\n",
    "fig.show()"
   ]
  }
 ],
 "metadata": {
  "interpreter": {
   "hash": "398748c372d42d99dcfa9ac8f694c5d292e22baf2e524ae29249ce2ce8b32818"
  },
  "kernelspec": {
   "display_name": "Python 3.9.10 ('base')",
   "language": "python",
   "name": "python3"
  },
  "language_info": {
   "codemirror_mode": {
    "name": "ipython",
    "version": 3
   },
   "file_extension": ".py",
   "mimetype": "text/x-python",
   "name": "python",
   "nbconvert_exporter": "python",
   "pygments_lexer": "ipython3",
   "version": "3.9.10"
  },
  "orig_nbformat": 4
 },
 "nbformat": 4,
 "nbformat_minor": 2
}
