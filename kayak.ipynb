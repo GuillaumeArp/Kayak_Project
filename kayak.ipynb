{
 "cells": [
  {
   "cell_type": "markdown",
   "metadata": {},
   "source": [
    "# Kayak Project"
   ]
  },
  {
   "cell_type": "markdown",
   "metadata": {},
   "source": [
    "## Imports"
   ]
  },
  {
   "cell_type": "code",
   "execution_count": 101,
   "metadata": {},
   "outputs": [
    {
     "name": "stdout",
     "output_type": "stream",
     "text": [
      "The dotenv extension is already loaded. To reload it, use:\n",
      "  %reload_ext dotenv\n"
     ]
    }
   ],
   "source": [
    "\n",
    "import pandas as pd\n",
    "import numpy as np\n",
    "import plotly.express as px\n",
    "import requests\n",
    "from dotenv import load_dotenv\n",
    "import os\n",
    "import logging\n",
    "import scrapy\n",
    "from scrapy.crawler import CrawlerProcess\n",
    "from bs4 import BeautifulSoup\n",
    "import requests\n",
    "import time\n",
    "import boto3\n",
    "\n",
    "load_dotenv()\n",
    "%load_ext dotenv\n",
    "%dotenv\n",
    "\n",
    "# Openweathermap API\n",
    "key = os.getenv('APIKEY')\n",
    "# RDS Connection\n",
    "DBHOST = os.getenv(\"DBHOST\")\n",
    "DBUSER = os.getenv(\"DBUSER\")\n",
    "DBPASS = os.getenv(\"DBPASS\")\n",
    "DBNAME = os.getenv(\"DBNAME\")"
   ]
  },
  {
   "cell_type": "code",
   "execution_count": 102,
   "metadata": {},
   "outputs": [],
   "source": [
    "# Importing the cities list\n",
    "cities = [\"Mont Saint Michel\", \"St Malo\", \"Bayeux\", \"Le Havre\", \"Rouen\", \"Paris\", \"Amiens\", \"Lille\", \"Strasbourg\", \"Chateau du Haut Koenigsbourg\", \"Colmar\", \"Eguisheim\", \"Besancon\", \"Dijon\", \"Annecy\", \"Grenoble\", \"Lyon\", \"Gorges du Verdon\", \"Bormes les Mimosas\", \"Cassis\", \"Marseille\", \"Aix en Provence\", \"Avignon\", \"Uzes\", \"Nimes\", \"Aigues Mortes\", \"Saintes Maries de la mer\", \"Collioure\", \"Carcassonne\", \"Ariege\", \"Toulouse\", \"Montauban\", \"Biarritz\", \"Bayonne\", \"La Rochelle\"]"
   ]
  },
  {
   "cell_type": "code",
   "execution_count": 103,
   "metadata": {},
   "outputs": [
    {
     "data": {
      "text/html": [
       "<div>\n",
       "<style scoped>\n",
       "    .dataframe tbody tr th:only-of-type {\n",
       "        vertical-align: middle;\n",
       "    }\n",
       "\n",
       "    .dataframe tbody tr th {\n",
       "        vertical-align: top;\n",
       "    }\n",
       "\n",
       "    .dataframe thead th {\n",
       "        text-align: right;\n",
       "    }\n",
       "</style>\n",
       "<table border=\"1\" class=\"dataframe\">\n",
       "  <thead>\n",
       "    <tr style=\"text-align: right;\">\n",
       "      <th></th>\n",
       "      <th>id</th>\n",
       "      <th>city</th>\n",
       "    </tr>\n",
       "  </thead>\n",
       "  <tbody>\n",
       "    <tr>\n",
       "      <th>0</th>\n",
       "      <td>0</td>\n",
       "      <td>Mont Saint Michel</td>\n",
       "    </tr>\n",
       "    <tr>\n",
       "      <th>1</th>\n",
       "      <td>1</td>\n",
       "      <td>St Malo</td>\n",
       "    </tr>\n",
       "    <tr>\n",
       "      <th>2</th>\n",
       "      <td>2</td>\n",
       "      <td>Bayeux</td>\n",
       "    </tr>\n",
       "    <tr>\n",
       "      <th>3</th>\n",
       "      <td>3</td>\n",
       "      <td>Le Havre</td>\n",
       "    </tr>\n",
       "    <tr>\n",
       "      <th>4</th>\n",
       "      <td>4</td>\n",
       "      <td>Rouen</td>\n",
       "    </tr>\n",
       "    <tr>\n",
       "      <th>5</th>\n",
       "      <td>5</td>\n",
       "      <td>Paris</td>\n",
       "    </tr>\n",
       "    <tr>\n",
       "      <th>6</th>\n",
       "      <td>6</td>\n",
       "      <td>Amiens</td>\n",
       "    </tr>\n",
       "    <tr>\n",
       "      <th>7</th>\n",
       "      <td>7</td>\n",
       "      <td>Lille</td>\n",
       "    </tr>\n",
       "    <tr>\n",
       "      <th>8</th>\n",
       "      <td>8</td>\n",
       "      <td>Strasbourg</td>\n",
       "    </tr>\n",
       "    <tr>\n",
       "      <th>9</th>\n",
       "      <td>9</td>\n",
       "      <td>Chateau du Haut Koenigsbourg</td>\n",
       "    </tr>\n",
       "    <tr>\n",
       "      <th>10</th>\n",
       "      <td>10</td>\n",
       "      <td>Colmar</td>\n",
       "    </tr>\n",
       "    <tr>\n",
       "      <th>11</th>\n",
       "      <td>11</td>\n",
       "      <td>Eguisheim</td>\n",
       "    </tr>\n",
       "    <tr>\n",
       "      <th>12</th>\n",
       "      <td>12</td>\n",
       "      <td>Besancon</td>\n",
       "    </tr>\n",
       "    <tr>\n",
       "      <th>13</th>\n",
       "      <td>13</td>\n",
       "      <td>Dijon</td>\n",
       "    </tr>\n",
       "    <tr>\n",
       "      <th>14</th>\n",
       "      <td>14</td>\n",
       "      <td>Annecy</td>\n",
       "    </tr>\n",
       "    <tr>\n",
       "      <th>15</th>\n",
       "      <td>15</td>\n",
       "      <td>Grenoble</td>\n",
       "    </tr>\n",
       "    <tr>\n",
       "      <th>16</th>\n",
       "      <td>16</td>\n",
       "      <td>Lyon</td>\n",
       "    </tr>\n",
       "    <tr>\n",
       "      <th>17</th>\n",
       "      <td>17</td>\n",
       "      <td>Gorges du Verdon</td>\n",
       "    </tr>\n",
       "    <tr>\n",
       "      <th>18</th>\n",
       "      <td>18</td>\n",
       "      <td>Bormes les Mimosas</td>\n",
       "    </tr>\n",
       "    <tr>\n",
       "      <th>19</th>\n",
       "      <td>19</td>\n",
       "      <td>Cassis</td>\n",
       "    </tr>\n",
       "    <tr>\n",
       "      <th>20</th>\n",
       "      <td>20</td>\n",
       "      <td>Marseille</td>\n",
       "    </tr>\n",
       "    <tr>\n",
       "      <th>21</th>\n",
       "      <td>21</td>\n",
       "      <td>Aix en Provence</td>\n",
       "    </tr>\n",
       "    <tr>\n",
       "      <th>22</th>\n",
       "      <td>22</td>\n",
       "      <td>Avignon</td>\n",
       "    </tr>\n",
       "    <tr>\n",
       "      <th>23</th>\n",
       "      <td>23</td>\n",
       "      <td>Uzes</td>\n",
       "    </tr>\n",
       "    <tr>\n",
       "      <th>24</th>\n",
       "      <td>24</td>\n",
       "      <td>Nimes</td>\n",
       "    </tr>\n",
       "    <tr>\n",
       "      <th>25</th>\n",
       "      <td>25</td>\n",
       "      <td>Aigues Mortes</td>\n",
       "    </tr>\n",
       "    <tr>\n",
       "      <th>26</th>\n",
       "      <td>26</td>\n",
       "      <td>Saintes Maries de la mer</td>\n",
       "    </tr>\n",
       "    <tr>\n",
       "      <th>27</th>\n",
       "      <td>27</td>\n",
       "      <td>Collioure</td>\n",
       "    </tr>\n",
       "    <tr>\n",
       "      <th>28</th>\n",
       "      <td>28</td>\n",
       "      <td>Carcassonne</td>\n",
       "    </tr>\n",
       "    <tr>\n",
       "      <th>29</th>\n",
       "      <td>29</td>\n",
       "      <td>Ariege</td>\n",
       "    </tr>\n",
       "    <tr>\n",
       "      <th>30</th>\n",
       "      <td>30</td>\n",
       "      <td>Toulouse</td>\n",
       "    </tr>\n",
       "    <tr>\n",
       "      <th>31</th>\n",
       "      <td>31</td>\n",
       "      <td>Montauban</td>\n",
       "    </tr>\n",
       "    <tr>\n",
       "      <th>32</th>\n",
       "      <td>32</td>\n",
       "      <td>Biarritz</td>\n",
       "    </tr>\n",
       "    <tr>\n",
       "      <th>33</th>\n",
       "      <td>33</td>\n",
       "      <td>Bayonne</td>\n",
       "    </tr>\n",
       "    <tr>\n",
       "      <th>34</th>\n",
       "      <td>34</td>\n",
       "      <td>La Rochelle</td>\n",
       "    </tr>\n",
       "  </tbody>\n",
       "</table>\n",
       "</div>"
      ],
      "text/plain": [
       "    id                          city\n",
       "0    0             Mont Saint Michel\n",
       "1    1                       St Malo\n",
       "2    2                        Bayeux\n",
       "3    3                      Le Havre\n",
       "4    4                         Rouen\n",
       "5    5                         Paris\n",
       "6    6                        Amiens\n",
       "7    7                         Lille\n",
       "8    8                    Strasbourg\n",
       "9    9  Chateau du Haut Koenigsbourg\n",
       "10  10                        Colmar\n",
       "11  11                     Eguisheim\n",
       "12  12                      Besancon\n",
       "13  13                         Dijon\n",
       "14  14                        Annecy\n",
       "15  15                      Grenoble\n",
       "16  16                          Lyon\n",
       "17  17              Gorges du Verdon\n",
       "18  18            Bormes les Mimosas\n",
       "19  19                        Cassis\n",
       "20  20                     Marseille\n",
       "21  21               Aix en Provence\n",
       "22  22                       Avignon\n",
       "23  23                          Uzes\n",
       "24  24                         Nimes\n",
       "25  25                 Aigues Mortes\n",
       "26  26      Saintes Maries de la mer\n",
       "27  27                     Collioure\n",
       "28  28                   Carcassonne\n",
       "29  29                        Ariege\n",
       "30  30                      Toulouse\n",
       "31  31                     Montauban\n",
       "32  32                      Biarritz\n",
       "33  33                       Bayonne\n",
       "34  34                   La Rochelle"
      ]
     },
     "execution_count": 103,
     "metadata": {},
     "output_type": "execute_result"
    }
   ],
   "source": [
    "# Creating a dataframe with the cities list\n",
    "df_cities = pd.DataFrame(columns=[\"city\"])\n",
    "df_cities['city'] = cities\n",
    "df_cities.reset_index(inplace=True)\n",
    "df_cities.rename(columns={'index': 'id'}, inplace=True)\n",
    "df_cities"
   ]
  },
  {
   "cell_type": "markdown",
   "metadata": {},
   "source": [
    "## Scraping Booking.com"
   ]
  },
  {
   "cell_type": "code",
   "execution_count": 4,
   "metadata": {},
   "outputs": [],
   "source": [
    "# Creating a copy of the dataframe\n",
    "df_booking = df_cities.copy(deep=True)\n",
    "\n",
    "# Defining the spider class\n",
    "class BookingSpider(scrapy.Spider):\n",
    "    name = \"Booking_data\"\n",
    "    cities = df_booking[\"city\"]\n",
    "    start_urls = ['https://www.booking.com/index.fr.html']\n",
    "\n",
    "    def parse(self, response):\n",
    "        for i in cities:\n",
    "            yield scrapy.FormRequest.from_response(\n",
    "            response,\n",
    "            formdata={'ss': i },\n",
    "            callback=self.after_search\n",
    "        )\n",
    "    # Important note: the classes names change often and may not be correct at a later date\n",
    "    def after_search(self, response):\n",
    "        cities = response.url.split(\"ss=\")[-1].split(\"&\")[0]\n",
    "                \n",
    "        booking = response.css('.d4924c9e74')\n",
    "        \n",
    "        for k in booking:\n",
    "            \n",
    "            yield {\n",
    "                'location': cities,\n",
    "                'name': k.css('a div.fcab3ed991.a23c043802::text').getall(),\n",
    "                'url': k.css('h3.a4225678b2 a::attr(href)').getall(),\n",
    "            }\n",
    "\n",
    "        try:\n",
    "            next_page = response.css('a.paging-next').attrib[\"href\"]\n",
    "        except KeyError:\n",
    "            logging.info('No next page. Terminating crawling process.')\n",
    "        else:\n",
    "            yield response.follow(next_page, callback=self.after_search)"
   ]
  },
  {
   "cell_type": "code",
   "execution_count": 5,
   "metadata": {},
   "outputs": [
    {
     "name": "stderr",
     "output_type": "stream",
     "text": [
      "2022-04-14 22:32:20 [scrapy.utils.log] INFO: Scrapy 2.6.1 started (bot: scrapybot)\n",
      "2022-04-14 22:32:20 [scrapy.utils.log] INFO: Versions: lxml 4.8.0.0, libxml2 2.9.12, cssselect 1.1.0, parsel 1.6.0, w3lib 1.22.0, Twisted 22.2.0, Python 3.9.11 (main, Mar 29 2022, 19:08:29) - [GCC 7.5.0], pyOpenSSL 22.0.0 (OpenSSL 1.1.1n  15 Mar 2022), cryptography 36.0.0, Platform Linux-5.13.0-39-generic-x86_64-with-glibc2.31\n",
      "2022-04-14 22:32:20 [scrapy.crawler] INFO: Overridden settings:\n",
      "{'AUTOTHROTTLE_ENABLED': True,\n",
      " 'LOG_LEVEL': 20,\n",
      " 'USER_AGENT': 'Mozilla/5.0 (Windows NT 10.0; Win64; x64; rv:92.0) '\n",
      "               'Gecko/20100101 Firefox/92.0'}\n",
      "2022-04-14 22:32:20 [scrapy.extensions.telnet] INFO: Telnet Password: fae05b61e55cb43f\n",
      "2022-04-14 22:32:20 [scrapy.middleware] INFO: Enabled extensions:\n",
      "['scrapy.extensions.corestats.CoreStats',\n",
      " 'scrapy.extensions.telnet.TelnetConsole',\n",
      " 'scrapy.extensions.memusage.MemoryUsage',\n",
      " 'scrapy.extensions.feedexport.FeedExporter',\n",
      " 'scrapy.extensions.logstats.LogStats',\n",
      " 'scrapy.extensions.throttle.AutoThrottle']\n",
      "2022-04-14 22:32:20 [scrapy.middleware] INFO: Enabled downloader middlewares:\n",
      "['scrapy.downloadermiddlewares.httpauth.HttpAuthMiddleware',\n",
      " 'scrapy.downloadermiddlewares.downloadtimeout.DownloadTimeoutMiddleware',\n",
      " 'scrapy.downloadermiddlewares.defaultheaders.DefaultHeadersMiddleware',\n",
      " 'scrapy.downloadermiddlewares.useragent.UserAgentMiddleware',\n",
      " 'scrapy.downloadermiddlewares.retry.RetryMiddleware',\n",
      " 'scrapy.downloadermiddlewares.redirect.MetaRefreshMiddleware',\n",
      " 'scrapy.downloadermiddlewares.httpcompression.HttpCompressionMiddleware',\n",
      " 'scrapy.downloadermiddlewares.redirect.RedirectMiddleware',\n",
      " 'scrapy.downloadermiddlewares.cookies.CookiesMiddleware',\n",
      " 'scrapy.downloadermiddlewares.httpproxy.HttpProxyMiddleware',\n",
      " 'scrapy.downloadermiddlewares.stats.DownloaderStats']\n",
      "2022-04-14 22:32:20 [scrapy.middleware] INFO: Enabled spider middlewares:\n",
      "['scrapy.spidermiddlewares.httperror.HttpErrorMiddleware',\n",
      " 'scrapy.spidermiddlewares.offsite.OffsiteMiddleware',\n",
      " 'scrapy.spidermiddlewares.referer.RefererMiddleware',\n",
      " 'scrapy.spidermiddlewares.urllength.UrlLengthMiddleware',\n",
      " 'scrapy.spidermiddlewares.depth.DepthMiddleware']\n",
      "2022-04-14 22:32:20 [scrapy.middleware] INFO: Enabled item pipelines:\n",
      "[]\n",
      "2022-04-14 22:32:20 [scrapy.core.engine] INFO: Spider opened\n",
      "2022-04-14 22:32:20 [scrapy.extensions.logstats] INFO: Crawled 0 pages (at 0 pages/min), scraped 0 items (at 0 items/min)\n",
      "2022-04-14 22:32:20 [scrapy.extensions.telnet] INFO: Telnet console listening on 127.0.0.1:6023\n",
      "2022-04-14 22:32:28 [root] INFO: No next page. Terminating crawling process.\n",
      "2022-04-14 22:32:31 [root] INFO: No next page. Terminating crawling process.\n",
      "2022-04-14 22:32:33 [root] INFO: No next page. Terminating crawling process.\n",
      "2022-04-14 22:32:34 [root] INFO: No next page. Terminating crawling process.\n",
      "2022-04-14 22:32:35 [root] INFO: No next page. Terminating crawling process.\n",
      "2022-04-14 22:32:36 [root] INFO: No next page. Terminating crawling process.\n",
      "2022-04-14 22:32:36 [root] INFO: No next page. Terminating crawling process.\n",
      "2022-04-14 22:32:37 [root] INFO: No next page. Terminating crawling process.\n",
      "2022-04-14 22:32:37 [root] INFO: No next page. Terminating crawling process.\n",
      "2022-04-14 22:32:38 [root] INFO: No next page. Terminating crawling process.\n",
      "2022-04-14 22:32:38 [root] INFO: No next page. Terminating crawling process.\n",
      "2022-04-14 22:32:38 [root] INFO: No next page. Terminating crawling process.\n",
      "2022-04-14 22:32:39 [root] INFO: No next page. Terminating crawling process.\n",
      "2022-04-14 22:32:39 [root] INFO: No next page. Terminating crawling process.\n",
      "2022-04-14 22:32:40 [root] INFO: No next page. Terminating crawling process.\n",
      "2022-04-14 22:32:40 [root] INFO: No next page. Terminating crawling process.\n",
      "2022-04-14 22:32:41 [root] INFO: No next page. Terminating crawling process.\n",
      "2022-04-14 22:32:42 [root] INFO: No next page. Terminating crawling process.\n",
      "2022-04-14 22:32:42 [root] INFO: No next page. Terminating crawling process.\n",
      "2022-04-14 22:32:42 [root] INFO: No next page. Terminating crawling process.\n",
      "2022-04-14 22:32:43 [root] INFO: No next page. Terminating crawling process.\n",
      "2022-04-14 22:32:43 [root] INFO: No next page. Terminating crawling process.\n",
      "2022-04-14 22:32:43 [root] INFO: No next page. Terminating crawling process.\n",
      "2022-04-14 22:32:44 [root] INFO: No next page. Terminating crawling process.\n",
      "2022-04-14 22:32:44 [root] INFO: No next page. Terminating crawling process.\n",
      "2022-04-14 22:32:44 [root] INFO: No next page. Terminating crawling process.\n",
      "2022-04-14 22:32:45 [root] INFO: No next page. Terminating crawling process.\n",
      "2022-04-14 22:32:45 [root] INFO: No next page. Terminating crawling process.\n",
      "2022-04-14 22:32:46 [root] INFO: No next page. Terminating crawling process.\n",
      "2022-04-14 22:32:46 [root] INFO: No next page. Terminating crawling process.\n",
      "2022-04-14 22:32:47 [root] INFO: No next page. Terminating crawling process.\n",
      "2022-04-14 22:32:47 [root] INFO: No next page. Terminating crawling process.\n",
      "2022-04-14 22:32:47 [root] INFO: No next page. Terminating crawling process.\n",
      "2022-04-14 22:32:48 [root] INFO: No next page. Terminating crawling process.\n",
      "2022-04-14 22:32:48 [root] INFO: No next page. Terminating crawling process.\n",
      "2022-04-14 22:32:48 [scrapy.core.engine] INFO: Closing spider (finished)\n",
      "2022-04-14 22:32:48 [scrapy.extensions.feedexport] INFO: Stored json feed (35 items) in: cities.json\n",
      "2022-04-14 22:32:48 [scrapy.statscollectors] INFO: Dumping Scrapy stats:\n",
      "{'downloader/request_bytes': 50685,\n",
      " 'downloader/request_count': 36,\n",
      " 'downloader/request_method_count/GET': 36,\n",
      " 'downloader/response_bytes': 6236003,\n",
      " 'downloader/response_count': 36,\n",
      " 'downloader/response_status_count/200': 36,\n",
      " 'elapsed_time_seconds': 28.129696,\n",
      " 'feedexport/success_count/FileFeedStorage': 1,\n",
      " 'finish_reason': 'finished',\n",
      " 'finish_time': datetime.datetime(2022, 4, 14, 20, 32, 48, 888005),\n",
      " 'httpcompression/response_bytes': 41716200,\n",
      " 'httpcompression/response_count': 36,\n",
      " 'item_scraped_count': 35,\n",
      " 'log_count/INFO': 46,\n",
      " 'memusage/max': 164179968,\n",
      " 'memusage/startup': 164179968,\n",
      " 'request_depth_max': 1,\n",
      " 'response_received_count': 36,\n",
      " 'scheduler/dequeued': 36,\n",
      " 'scheduler/dequeued/memory': 36,\n",
      " 'scheduler/enqueued': 36,\n",
      " 'scheduler/enqueued/memory': 36,\n",
      " 'start_time': datetime.datetime(2022, 4, 14, 20, 32, 20, 758309)}\n",
      "2022-04-14 22:32:48 [scrapy.core.engine] INFO: Spider closed (finished)\n"
     ]
    }
   ],
   "source": [
    "# Initializing the crawler process\n",
    "filename = \"cities.json\"\n",
    "\n",
    "if filename in os.listdir():\n",
    "        os.remove(filename)\n",
    "\n",
    "process = CrawlerProcess(settings = {\n",
    "    'USER_AGENT': 'Mozilla/5.0 (Windows NT 10.0; Win64; x64; rv:92.0) Gecko/20100101 Firefox/92.0',\n",
    "    'LOG_LEVEL': logging.INFO,\n",
    "    \"FEEDS\": {\n",
    "        filename: {\"format\": \"json\"},\n",
    "    },\n",
    "    \"AUTOTHROTTLE_ENABLED\": True\n",
    "})\n",
    "\n",
    "process.crawl(BookingSpider)\n",
    "process.start()"
   ]
  },
  {
   "cell_type": "code",
   "execution_count": 10,
   "metadata": {},
   "outputs": [
    {
     "data": {
      "text/html": [
       "<div>\n",
       "<style scoped>\n",
       "    .dataframe tbody tr th:only-of-type {\n",
       "        vertical-align: middle;\n",
       "    }\n",
       "\n",
       "    .dataframe tbody tr th {\n",
       "        vertical-align: top;\n",
       "    }\n",
       "\n",
       "    .dataframe thead th {\n",
       "        text-align: right;\n",
       "    }\n",
       "</style>\n",
       "<table border=\"1\" class=\"dataframe\">\n",
       "  <thead>\n",
       "    <tr style=\"text-align: right;\">\n",
       "      <th></th>\n",
       "      <th>location</th>\n",
       "      <th>name</th>\n",
       "      <th>url</th>\n",
       "    </tr>\n",
       "  </thead>\n",
       "  <tbody>\n",
       "    <tr>\n",
       "      <th>0</th>\n",
       "      <td>Mont+Saint+Michel</td>\n",
       "      <td>[Le Relais Saint Michel, La Mère Poulard, Merc...</td>\n",
       "      <td>[https://www.booking.com/hotel/fr/le-relais-sa...</td>\n",
       "    </tr>\n",
       "    <tr>\n",
       "      <th>1</th>\n",
       "      <td>St+Malo</td>\n",
       "      <td>[Studio cocooning, Apartment, St Malo, Petite ...</td>\n",
       "      <td>[https://www.booking.com/hotel/fr/studio-cocoo...</td>\n",
       "    </tr>\n",
       "    <tr>\n",
       "      <th>2</th>\n",
       "      <td>Bayeux</td>\n",
       "      <td>[Premiere Classe Bayeux, ibis budget Bayeux, L...</td>\n",
       "      <td>[https://www.booking.com/hotel/fr/premiere-cla...</td>\n",
       "    </tr>\n",
       "    <tr>\n",
       "      <th>3</th>\n",
       "      <td>Le+Havre</td>\n",
       "      <td>[Holiday Inn Express - Le Havre Centre, Ibis B...</td>\n",
       "      <td>[https://www.booking.com/hotel/fr/campanile-le...</td>\n",
       "    </tr>\n",
       "    <tr>\n",
       "      <th>4</th>\n",
       "      <td>Rouen</td>\n",
       "      <td>[Maison hypercentre Rouen tout confort, L'Aute...</td>\n",
       "      <td>[https://www.booking.com/hotel/fr/maison-hyper...</td>\n",
       "    </tr>\n",
       "  </tbody>\n",
       "</table>\n",
       "</div>"
      ],
      "text/plain": [
       "            location                                               name  \\\n",
       "0  Mont+Saint+Michel  [Le Relais Saint Michel, La Mère Poulard, Merc...   \n",
       "1            St+Malo  [Studio cocooning, Apartment, St Malo, Petite ...   \n",
       "2             Bayeux  [Premiere Classe Bayeux, ibis budget Bayeux, L...   \n",
       "3           Le+Havre  [Holiday Inn Express - Le Havre Centre, Ibis B...   \n",
       "4              Rouen  [Maison hypercentre Rouen tout confort, L'Aute...   \n",
       "\n",
       "                                                 url  \n",
       "0  [https://www.booking.com/hotel/fr/le-relais-sa...  \n",
       "1  [https://www.booking.com/hotel/fr/studio-cocoo...  \n",
       "2  [https://www.booking.com/hotel/fr/premiere-cla...  \n",
       "3  [https://www.booking.com/hotel/fr/campanile-le...  \n",
       "4  [https://www.booking.com/hotel/fr/maison-hyper...  "
      ]
     },
     "execution_count": 10,
     "metadata": {},
     "output_type": "execute_result"
    }
   ],
   "source": [
    "# Reading the scraped json data into a new dataframe\n",
    "df = pd.read_json(\"cities.json\")\n",
    "df.head()"
   ]
  },
  {
   "cell_type": "code",
   "execution_count": 11,
   "metadata": {},
   "outputs": [],
   "source": [
    "# Keeping only the first 20 items from each list\n",
    "for i in range (len(df[\"location\"])):\n",
    "    df[\"name\"][i] = df[\"name\"][i][:20]\n",
    "    df[\"url\"][i] = df[\"url\"][i][:20]\n"
   ]
  },
  {
   "cell_type": "code",
   "execution_count": 13,
   "metadata": {},
   "outputs": [
    {
     "name": "stdout",
     "output_type": "stream",
     "text": [
      "city Mont+Saint+Michel done\n",
      "city St+Malo done\n",
      "city Bayeux done\n",
      "city Le+Havre done\n",
      "city Rouen done\n",
      "city Paris done\n",
      "city Amiens done\n",
      "city Lille done\n",
      "city Strasbourg done\n",
      "city Chateau+du+Haut+Koenigsbourg done\n",
      "city Colmar done\n",
      "city Eguisheim done\n",
      "city Besancon done\n",
      "city Dijon done\n",
      "city Annecy done\n",
      "city Grenoble done\n",
      "city La+Rochelle done\n",
      "city Bayonne done\n",
      "city Biarritz done\n",
      "city Montauban done\n",
      "city Toulouse done\n",
      "city Ariege done\n",
      "city Carcassonne done\n",
      "city Collioure done\n",
      "city Saintes+Maries+de+la+mer done\n",
      "city Aigues+Mortes done\n",
      "city Nimes done\n",
      "city Uzes done\n",
      "city Avignon done\n",
      "city Aix+en+Provence done\n",
      "city Marseille done\n",
      "city Cassis done\n",
      "city Bormes+les+Mimosas done\n",
      "city Gorges+du+Verdon done\n",
      "city Lyon done\n"
     ]
    }
   ],
   "source": [
    "# Initializing the scraper with BeautifulSoup\n",
    "\n",
    "lat_full = []\n",
    "lon_full = []\n",
    "description_full = []\n",
    "score_full = []\n",
    "\n",
    "navigator = 'Mozilla/5.0 (Macintosh; Intel Mac OS X 10_10_1)'\n",
    "\n",
    "for i in range(len(df[\"url\"])):\n",
    "    lat_list = []\n",
    "    lon_list = []\n",
    "    description_list = []\n",
    "    score_list = []\n",
    "    hotel_list = df[\"url\"][i]\n",
    "\n",
    "    for j in hotel_list:\n",
    "\n",
    "        # In some cases, the process will return an error on the first attempt\n",
    "        try:\n",
    "            page = requests.get(j, headers={'User-Agent': navigator})\n",
    "            soup = BeautifulSoup(page.text, 'html.parser')\n",
    "        except:\n",
    "            page = requests.get(j, headers={'User-Agent': navigator})\n",
    "            soup = BeautifulSoup(page.text, 'html.parser')\n",
    "\n",
    "        lat_list.append(soup.select('p.address.address_clean a')[0].get(\"data-atlas-latlng\").split(\",\")[0])\n",
    "        lon_list.append(soup.select('p.address.address_clean a')[0].get(\"data-atlas-latlng\").split(\",\")[1])\n",
    "        description_list.append(soup.select('div#property_description_content')[0].get_text())\n",
    "\n",
    "        try:\n",
    "            score_list.append(soup.select('div.b5cd09854e.d10a6220b4')[0].get_text())\n",
    "            \n",
    "        except:\n",
    "            # If the score is missing, setting the default value to 5.0\n",
    "            score_list.append(\"5.0\")\n",
    "\n",
    "        # Setting up a wait timer to avoid spamming the website\n",
    "        time.sleep(1.4)\n",
    "        \n",
    "    lat_full.append(lat_list)\n",
    "    lon_full.append(lon_list)\n",
    "    description_full.append(description_list)\n",
    "    score_full.append(score_list)\n",
    "    \n",
    "    # Printing the progress, the whole process takes a bit more than 40 minutes\n",
    "    print (f\"{df['location'].iloc[i]} completed\")\n",
    "\n",
    "# Adding new columns based on lists of lists gathered above    \n",
    "df[\"lat\"] = lat_full\n",
    "df[\"lon\"] = lon_full\n",
    "df[\"description\"] = description_full\n",
    "df[\"score\"] = score_full"
   ]
  },
  {
   "cell_type": "code",
   "execution_count": null,
   "metadata": {},
   "outputs": [],
   "source": [
    "# Replacing the + in cities names and reindexing the dataframe to add the id column that will be useful to merge later\n",
    "df[\"location\"] = df[\"location\"].str.replace(\"+\", \" \", regex=True)\n",
    "df = df.set_index(\"location\")\n",
    "df = df.reindex(cities)\n",
    "df.reset_index(inplace=True)\n",
    "df.reset_index(inplace=True)\n",
    "df.rename(columns={'index': 'id'}, inplace=True)"
   ]
  },
  {
   "cell_type": "code",
   "execution_count": null,
   "metadata": {},
   "outputs": [],
   "source": [
    "# px.set_mapbox_access_token(open(\".mapbox_token\").read())\n",
    "# fig = px.scatter_mapbox(\n",
    "#     df_hotels.sort_values('name'),\n",
    "#     lat='lat',\n",
    "#     lon='lon',\n",
    "#     color='score',\n",
    "#     size='score',\n",
    "#     color_continuous_scale=px.colors.sequential.Bluered,\n",
    "#     size_max=30,\n",
    "#     zoom=5,\n",
    "#     hover_name='name'\n",
    "# )\n",
    "\n",
    "# fig.update_layout(width = 1300, height = 800, template='plotly_dark' ,title='Weather')\n",
    "# fig.show()"
   ]
  },
  {
   "cell_type": "markdown",
   "metadata": {},
   "source": [
    "## Getting API Data"
   ]
  },
  {
   "cell_type": "markdown",
   "metadata": {},
   "source": [
    "### GPS Coordinates"
   ]
  },
  {
   "cell_type": "code",
   "execution_count": 104,
   "metadata": {},
   "outputs": [],
   "source": [
    "# Creating another copy of the cities dataframe to store the coordinates data from Nominatim API\n",
    "df_gps = df_cities.copy(deep=True)\n",
    "lat_list = []\n",
    "lon_list = []\n",
    "\n",
    "for i in cities:\n",
    "    # There is no Gorges du Verdon city, replacing by the closest city instead\n",
    "    if i == \"Gorges du Verdon\":\n",
    "        i = \"La%20Palud-sur-Verdon\"\n",
    "        r = requests.get(f\"https://nominatim.openstreetmap.org/search?city={i}&format=json\").json()\n",
    "        lat_list.append(r[0]['lat'])\n",
    "        lon_list.append(r[0]['lon'])\n",
    "    # Ariege is not a city, using the county instead here\n",
    "    elif i == 'Ariege':\n",
    "        r = requests.get(f\"https://nominatim.openstreetmap.org/search?county={i}&format=json\").json()\n",
    "        lat_list.append(r[0]['lat'])\n",
    "        lon_list.append(r[0]['lon'])\n",
    "    # Replacing the whitespace by a web friendly notation\n",
    "    else:\n",
    "        name = i.replace(\" \", \"%20\")\n",
    "        r = requests.get(f\"https://nominatim.openstreetmap.org/search?city={name}&format=json\").json()\n",
    "        lat_list.append(r[0]['lat'])\n",
    "        lon_list.append(r[0]['lon'])\n",
    " \n",
    "# Adding the coordinates to the dataframe   \n",
    "df_gps['lat'] = lat_list\n",
    "df_gps['lon'] = lon_list "
   ]
  },
  {
   "cell_type": "code",
   "execution_count": 106,
   "metadata": {},
   "outputs": [
    {
     "data": {
      "text/html": [
       "<div>\n",
       "<style scoped>\n",
       "    .dataframe tbody tr th:only-of-type {\n",
       "        vertical-align: middle;\n",
       "    }\n",
       "\n",
       "    .dataframe tbody tr th {\n",
       "        vertical-align: top;\n",
       "    }\n",
       "\n",
       "    .dataframe thead th {\n",
       "        text-align: right;\n",
       "    }\n",
       "</style>\n",
       "<table border=\"1\" class=\"dataframe\">\n",
       "  <thead>\n",
       "    <tr style=\"text-align: right;\">\n",
       "      <th></th>\n",
       "      <th>id</th>\n",
       "      <th>city</th>\n",
       "      <th>lat</th>\n",
       "      <th>lon</th>\n",
       "    </tr>\n",
       "  </thead>\n",
       "  <tbody>\n",
       "    <tr>\n",
       "      <th>0</th>\n",
       "      <td>0</td>\n",
       "      <td>Mont Saint Michel</td>\n",
       "      <td>48.6359541</td>\n",
       "      <td>-1.511459954959514</td>\n",
       "    </tr>\n",
       "    <tr>\n",
       "      <th>1</th>\n",
       "      <td>1</td>\n",
       "      <td>St Malo</td>\n",
       "      <td>48.649518</td>\n",
       "      <td>-2.0260409</td>\n",
       "    </tr>\n",
       "    <tr>\n",
       "      <th>2</th>\n",
       "      <td>2</td>\n",
       "      <td>Bayeux</td>\n",
       "      <td>49.2764624</td>\n",
       "      <td>-0.7024738</td>\n",
       "    </tr>\n",
       "    <tr>\n",
       "      <th>3</th>\n",
       "      <td>3</td>\n",
       "      <td>Le Havre</td>\n",
       "      <td>49.4938975</td>\n",
       "      <td>0.1079732</td>\n",
       "    </tr>\n",
       "    <tr>\n",
       "      <th>4</th>\n",
       "      <td>4</td>\n",
       "      <td>Rouen</td>\n",
       "      <td>49.4404591</td>\n",
       "      <td>1.0939658</td>\n",
       "    </tr>\n",
       "  </tbody>\n",
       "</table>\n",
       "</div>"
      ],
      "text/plain": [
       "   id               city         lat                 lon\n",
       "0   0  Mont Saint Michel  48.6359541  -1.511459954959514\n",
       "1   1            St Malo   48.649518          -2.0260409\n",
       "2   2             Bayeux  49.2764624          -0.7024738\n",
       "3   3           Le Havre  49.4938975           0.1079732\n",
       "4   4              Rouen  49.4404591           1.0939658"
      ]
     },
     "execution_count": 106,
     "metadata": {},
     "output_type": "execute_result"
    }
   ],
   "source": [
    "df_gps.head()"
   ]
  },
  {
   "cell_type": "markdown",
   "metadata": {},
   "source": [
    "### Weather Data"
   ]
  },
  {
   "cell_type": "code",
   "execution_count": 109,
   "metadata": {},
   "outputs": [],
   "source": [
    "# Getting the weather data based on coordinates from the Openweathermap API\n",
    "df_full = df_gps.copy(deep=True)\n",
    "temps_list = []\n",
    "rain_pop = []\n",
    "humidity_list = []\n",
    "# The days list will be used to store data as items of a list for day +1 to day +7\n",
    "days = list(range(1,8))\n",
    "\n",
    "for i in df.itertuples():\n",
    "    lat = i.lat\n",
    "    lon = i.lon\n",
    "    r = requests.get(f\"https://api.openweathermap.org/data/2.5/onecall?lat={lat}&lon={lon}&units=metric&appid={key}\").json()\n",
    "    weather_7_days = r['daily'][1:] # Getting the weather data for the next 7 days, first item is the current weather, which we don't want here\n",
    "    temps = [j['feels_like']['day'] for j in weather_7_days]\n",
    "    rain = [int(j['pop'] * 100) for j in weather_7_days]\n",
    "    humidity = [j['humidity'] for j in weather_7_days]\n",
    "    temps_list.append(temps)\n",
    "    rain_pop.append(rain)\n",
    "    humidity_list.append(humidity)\n",
    "    \n",
    "df_full['day_plus'] = [days for _ in range(len(df))]\n",
    "df_full['felt_temperature'] = temps_list\n",
    "df_full['rain_chances'] = rain_pop\n",
    "df_full['humidity'] = humidity_list\n",
    "# Calculation of a weather quality indicator, using absolute value of 35 - temperature (with a weight of 2), chances of rain as a percentage, and humidity as a percentage (with a weight of 0.5) - lower is better\n",
    "df_full['score_weather'] = df_full.apply(lambda x: abs((35 - np.mean(x['felt_temperature'])) * 2) + np.mean(x['rain_chances']) + (np.mean(x['humidity']) / 2), axis=1)   "
   ]
  },
  {
   "cell_type": "code",
   "execution_count": 112,
   "metadata": {},
   "outputs": [
    {
     "data": {
      "text/html": [
       "<div>\n",
       "<style scoped>\n",
       "    .dataframe tbody tr th:only-of-type {\n",
       "        vertical-align: middle;\n",
       "    }\n",
       "\n",
       "    .dataframe tbody tr th {\n",
       "        vertical-align: top;\n",
       "    }\n",
       "\n",
       "    .dataframe thead th {\n",
       "        text-align: right;\n",
       "    }\n",
       "</style>\n",
       "<table border=\"1\" class=\"dataframe\">\n",
       "  <thead>\n",
       "    <tr style=\"text-align: right;\">\n",
       "      <th></th>\n",
       "      <th>id</th>\n",
       "      <th>city</th>\n",
       "      <th>lat</th>\n",
       "      <th>lon</th>\n",
       "      <th>day_plus</th>\n",
       "      <th>felt_temperature</th>\n",
       "      <th>rain_chances</th>\n",
       "      <th>humidity</th>\n",
       "      <th>score_weather</th>\n",
       "    </tr>\n",
       "  </thead>\n",
       "  <tbody>\n",
       "    <tr>\n",
       "      <th>0</th>\n",
       "      <td>0</td>\n",
       "      <td>Mont Saint Michel</td>\n",
       "      <td>48.6359541</td>\n",
       "      <td>-1.511459954959514</td>\n",
       "      <td>[1, 2, 3, 4, 5, 6, 7]</td>\n",
       "      <td>[15.83, 15.06, 15, 15.98, 13.56, 15.26, 14.15]</td>\n",
       "      <td>[43, 24, 49, 100, 86, 45, 24]</td>\n",
       "      <td>[59, 48, 60, 66, 72, 61, 67]</td>\n",
       "      <td>123.974286</td>\n",
       "    </tr>\n",
       "    <tr>\n",
       "      <th>1</th>\n",
       "      <td>1</td>\n",
       "      <td>St Malo</td>\n",
       "      <td>48.649518</td>\n",
       "      <td>-2.0260409</td>\n",
       "      <td>[1, 2, 3, 4, 5, 6, 7]</td>\n",
       "      <td>[12.29, 13.22, 13.46, 13.7, 12.37, 12.76, 12.97]</td>\n",
       "      <td>[37, 23, 60, 98, 76, 38, 8]</td>\n",
       "      <td>[79, 59, 69, 75, 76, 74, 72]</td>\n",
       "      <td>128.637143</td>\n",
       "    </tr>\n",
       "    <tr>\n",
       "      <th>2</th>\n",
       "      <td>2</td>\n",
       "      <td>Bayeux</td>\n",
       "      <td>49.2764624</td>\n",
       "      <td>-0.7024738</td>\n",
       "      <td>[1, 2, 3, 4, 5, 6, 7]</td>\n",
       "      <td>[12.54, 12.48, 11.93, 15.25, 12.8, 12.83, 12.12]</td>\n",
       "      <td>[10, 0, 0, 97, 89, 0, 19]</td>\n",
       "      <td>[71, 61, 71, 72, 79, 65, 67]</td>\n",
       "      <td>109.728571</td>\n",
       "    </tr>\n",
       "    <tr>\n",
       "      <th>3</th>\n",
       "      <td>3</td>\n",
       "      <td>Le Havre</td>\n",
       "      <td>49.4938975</td>\n",
       "      <td>0.1079732</td>\n",
       "      <td>[1, 2, 3, 4, 5, 6, 7]</td>\n",
       "      <td>[13.34, 12.66, 12.82, 14.04, 10.5, 11.9, 12.36]</td>\n",
       "      <td>[0, 0, 0, 100, 75, 25, 18]</td>\n",
       "      <td>[68, 56, 67, 75, 94, 67, 61]</td>\n",
       "      <td>110.965714</td>\n",
       "    </tr>\n",
       "    <tr>\n",
       "      <th>4</th>\n",
       "      <td>4</td>\n",
       "      <td>Rouen</td>\n",
       "      <td>49.4404591</td>\n",
       "      <td>1.0939658</td>\n",
       "      <td>[1, 2, 3, 4, 5, 6, 7]</td>\n",
       "      <td>[14.93, 13.59, 14.52, 15.67, 10.08, 13.9, 13.95]</td>\n",
       "      <td>[0, 0, 0, 100, 56, 55, 7]</td>\n",
       "      <td>[58, 53, 63, 77, 93, 59, 55]</td>\n",
       "      <td>106.245714</td>\n",
       "    </tr>\n",
       "  </tbody>\n",
       "</table>\n",
       "</div>"
      ],
      "text/plain": [
       "   id               city         lat                 lon  \\\n",
       "0   0  Mont Saint Michel  48.6359541  -1.511459954959514   \n",
       "1   1            St Malo   48.649518          -2.0260409   \n",
       "2   2             Bayeux  49.2764624          -0.7024738   \n",
       "3   3           Le Havre  49.4938975           0.1079732   \n",
       "4   4              Rouen  49.4404591           1.0939658   \n",
       "\n",
       "                day_plus                                  felt_temperature  \\\n",
       "0  [1, 2, 3, 4, 5, 6, 7]    [15.83, 15.06, 15, 15.98, 13.56, 15.26, 14.15]   \n",
       "1  [1, 2, 3, 4, 5, 6, 7]  [12.29, 13.22, 13.46, 13.7, 12.37, 12.76, 12.97]   \n",
       "2  [1, 2, 3, 4, 5, 6, 7]  [12.54, 12.48, 11.93, 15.25, 12.8, 12.83, 12.12]   \n",
       "3  [1, 2, 3, 4, 5, 6, 7]   [13.34, 12.66, 12.82, 14.04, 10.5, 11.9, 12.36]   \n",
       "4  [1, 2, 3, 4, 5, 6, 7]  [14.93, 13.59, 14.52, 15.67, 10.08, 13.9, 13.95]   \n",
       "\n",
       "                    rain_chances                      humidity  score_weather  \n",
       "0  [43, 24, 49, 100, 86, 45, 24]  [59, 48, 60, 66, 72, 61, 67]     123.974286  \n",
       "1    [37, 23, 60, 98, 76, 38, 8]  [79, 59, 69, 75, 76, 74, 72]     128.637143  \n",
       "2      [10, 0, 0, 97, 89, 0, 19]  [71, 61, 71, 72, 79, 65, 67]     109.728571  \n",
       "3     [0, 0, 0, 100, 75, 25, 18]  [68, 56, 67, 75, 94, 67, 61]     110.965714  \n",
       "4      [0, 0, 0, 100, 56, 55, 7]  [58, 53, 63, 77, 93, 59, 55]     106.245714  "
      ]
     },
     "execution_count": 112,
     "metadata": {},
     "output_type": "execute_result"
    }
   ],
   "source": [
    "df_full.head()"
   ]
  },
  {
   "cell_type": "code",
   "execution_count": 51,
   "metadata": {},
   "outputs": [
    {
     "data": {
      "application/vnd.plotly.v1+json": {
       "config": {
        "plotlyServerURL": "https://plot.ly"
       },
       "data": [
        {
         "customdata": [
          [
           43.5298424,
           5.4474738,
           1,
           1,
           33,
           21.87
          ],
          [
           44.0121279,
           4.4196718,
           1,
           1,
           41,
           22.67
          ],
          [
           43.2140359,
           5.5396318,
           1,
           0,
           43,
           18.71
          ],
          [
           43.8374249,
           4.3600687,
           1,
           2,
           39,
           23.66
          ],
          [
           43.2961743,
           5.3699525,
           1,
           0,
           50,
           18.9
          ]
         ],
         "hovertemplate": "<b>%{hovertext}</b><br><br>humidity=%{customdata[4]}<br>rain_chances=%{customdata[3]}<br>felt_temperature=%{marker.color}<extra></extra>",
         "hovertext": [
          "Aix en Provence",
          "Uzes",
          "Cassis",
          "Nimes",
          "Marseille"
         ],
         "lat": [
          43.5298424,
          44.0121279,
          43.2140359,
          43.8374249,
          43.2961743
         ],
         "legendgroup": "",
         "lon": [
          5.4474738,
          4.4196718,
          5.5396318,
          4.3600687,
          5.3699525
         ],
         "marker": {
          "color": [
           21.87,
           22.67,
           18.71,
           23.66,
           18.9
          ],
          "coloraxis": "coloraxis",
          "size": [
           33,
           41,
           43,
           39,
           50
          ],
          "sizemode": "area",
          "sizeref": 0.07777777777777778
         },
         "mode": "markers",
         "name": "",
         "showlegend": false,
         "subplot": "mapbox",
         "type": "scattermapbox"
        }
       ],
       "frames": [
        {
         "data": [
          {
           "customdata": [
            [
             43.5298424,
             5.4474738,
             1,
             1,
             33,
             21.87
            ],
            [
             44.0121279,
             4.4196718,
             1,
             1,
             41,
             22.67
            ],
            [
             43.2140359,
             5.5396318,
             1,
             0,
             43,
             18.71
            ],
            [
             43.8374249,
             4.3600687,
             1,
             2,
             39,
             23.66
            ],
            [
             43.2961743,
             5.3699525,
             1,
             0,
             50,
             18.9
            ]
           ],
           "hovertemplate": "<b>%{hovertext}</b><br><br>humidity=%{customdata[4]}<br>rain_chances=%{customdata[3]}<br>felt_temperature=%{marker.color}<extra></extra>",
           "hovertext": [
            "Aix en Provence",
            "Uzes",
            "Cassis",
            "Nimes",
            "Marseille"
           ],
           "lat": [
            43.5298424,
            44.0121279,
            43.2140359,
            43.8374249,
            43.2961743
           ],
           "legendgroup": "",
           "lon": [
            5.4474738,
            4.4196718,
            5.5396318,
            4.3600687,
            5.3699525
           ],
           "marker": {
            "color": [
             21.87,
             22.67,
             18.71,
             23.66,
             18.9
            ],
            "coloraxis": "coloraxis",
            "size": [
             33,
             41,
             43,
             39,
             50
            ],
            "sizemode": "area",
            "sizeref": 0.07777777777777778
           },
           "mode": "markers",
           "name": "",
           "showlegend": false,
           "subplot": "mapbox",
           "type": "scattermapbox"
          }
         ],
         "name": "1"
        },
        {
         "data": [
          {
           "customdata": [
            [
             43.2140359,
             5.5396318,
             2,
             0,
             60,
             18.72
            ],
            [
             44.0121279,
             4.4196718,
             2,
             0,
             36,
             21.33
            ],
            [
             43.8374249,
             4.3600687,
             2,
             0,
             33,
             22.79
            ],
            [
             43.5298424,
             5.4474738,
             2,
             0,
             40,
             23.09
            ],
            [
             43.2961743,
             5.3699525,
             2,
             0,
             59,
             19.21
            ]
           ],
           "hovertemplate": "<b>%{hovertext}</b><br><br>humidity=%{customdata[4]}<br>rain_chances=%{customdata[3]}<br>felt_temperature=%{marker.color}<extra></extra>",
           "hovertext": [
            "Cassis",
            "Uzes",
            "Nimes",
            "Aix en Provence",
            "Marseille"
           ],
           "lat": [
            43.2140359,
            44.0121279,
            43.8374249,
            43.5298424,
            43.2961743
           ],
           "legendgroup": "",
           "lon": [
            5.5396318,
            4.4196718,
            4.3600687,
            5.4474738,
            5.3699525
           ],
           "marker": {
            "color": [
             18.72,
             21.33,
             22.79,
             23.09,
             19.21
            ],
            "coloraxis": "coloraxis",
            "size": [
             60,
             36,
             33,
             40,
             59
            ],
            "sizemode": "area",
            "sizeref": 0.07777777777777778
           },
           "mode": "markers",
           "name": "",
           "showlegend": false,
           "subplot": "mapbox",
           "type": "scattermapbox"
          }
         ],
         "name": "2"
        },
        {
         "data": [
          {
           "customdata": [
            [
             43.2961743,
             5.3699525,
             3,
             0,
             59,
             15.38
            ],
            [
             43.8374249,
             4.3600687,
             3,
             0,
             39,
             19.51
            ],
            [
             43.2140359,
             5.5396318,
             3,
             1,
             61,
             15.05
            ],
            [
             43.5298424,
             5.4474738,
             3,
             0,
             42,
             18.47
            ],
            [
             44.0121279,
             4.4196718,
             3,
             0,
             38,
             19.44
            ]
           ],
           "hovertemplate": "<b>%{hovertext}</b><br><br>humidity=%{customdata[4]}<br>rain_chances=%{customdata[3]}<br>felt_temperature=%{marker.color}<extra></extra>",
           "hovertext": [
            "Marseille",
            "Nimes",
            "Cassis",
            "Aix en Provence",
            "Uzes"
           ],
           "lat": [
            43.2961743,
            43.8374249,
            43.2140359,
            43.5298424,
            44.0121279
           ],
           "legendgroup": "",
           "lon": [
            5.3699525,
            4.3600687,
            5.5396318,
            5.4474738,
            4.4196718
           ],
           "marker": {
            "color": [
             15.38,
             19.51,
             15.05,
             18.47,
             19.44
            ],
            "coloraxis": "coloraxis",
            "size": [
             59,
             39,
             61,
             42,
             38
            ],
            "sizemode": "area",
            "sizeref": 0.07777777777777778
           },
           "mode": "markers",
           "name": "",
           "showlegend": false,
           "subplot": "mapbox",
           "type": "scattermapbox"
          }
         ],
         "name": "3"
        },
        {
         "data": [
          {
           "customdata": [
            [
             43.2140359,
             5.5396318,
             4,
             0,
             57,
             15.35
            ],
            [
             43.2961743,
             5.3699525,
             4,
             0,
             58,
             15.37
            ],
            [
             44.0121279,
             4.4196718,
             4,
             0,
             36,
             19.93
            ],
            [
             43.5298424,
             5.4474738,
             4,
             0,
             41,
             17.98
            ],
            [
             43.8374249,
             4.3600687,
             4,
             0,
             39,
             19.99
            ]
           ],
           "hovertemplate": "<b>%{hovertext}</b><br><br>humidity=%{customdata[4]}<br>rain_chances=%{customdata[3]}<br>felt_temperature=%{marker.color}<extra></extra>",
           "hovertext": [
            "Cassis",
            "Marseille",
            "Uzes",
            "Aix en Provence",
            "Nimes"
           ],
           "lat": [
            43.2140359,
            43.2961743,
            44.0121279,
            43.5298424,
            43.8374249
           ],
           "legendgroup": "",
           "lon": [
            5.5396318,
            5.3699525,
            4.4196718,
            5.4474738,
            4.3600687
           ],
           "marker": {
            "color": [
             15.35,
             15.37,
             19.93,
             17.98,
             19.99
            ],
            "coloraxis": "coloraxis",
            "size": [
             57,
             58,
             36,
             41,
             39
            ],
            "sizemode": "area",
            "sizeref": 0.07777777777777778
           },
           "mode": "markers",
           "name": "",
           "showlegend": false,
           "subplot": "mapbox",
           "type": "scattermapbox"
          }
         ],
         "name": "4"
        },
        {
         "data": [
          {
           "customdata": [
            [
             44.0121279,
             4.4196718,
             5,
             1,
             32,
             20.05
            ],
            [
             43.2961743,
             5.3699525,
             5,
             0,
             68,
             15.2
            ],
            [
             43.5298424,
             5.4474738,
             5,
             0,
             51,
             17.03
            ],
            [
             43.8374249,
             4.3600687,
             5,
             2,
             29,
             20.84
            ],
            [
             43.2140359,
             5.5396318,
             5,
             0,
             70,
             14.54
            ]
           ],
           "hovertemplate": "<b>%{hovertext}</b><br><br>humidity=%{customdata[4]}<br>rain_chances=%{customdata[3]}<br>felt_temperature=%{marker.color}<extra></extra>",
           "hovertext": [
            "Uzes",
            "Marseille",
            "Aix en Provence",
            "Nimes",
            "Cassis"
           ],
           "lat": [
            44.0121279,
            43.2961743,
            43.5298424,
            43.8374249,
            43.2140359
           ],
           "legendgroup": "",
           "lon": [
            4.4196718,
            5.3699525,
            5.4474738,
            4.3600687,
            5.5396318
           ],
           "marker": {
            "color": [
             20.05,
             15.2,
             17.03,
             20.84,
             14.54
            ],
            "coloraxis": "coloraxis",
            "size": [
             32,
             68,
             51,
             29,
             70
            ],
            "sizemode": "area",
            "sizeref": 0.07777777777777778
           },
           "mode": "markers",
           "name": "",
           "showlegend": false,
           "subplot": "mapbox",
           "type": "scattermapbox"
          }
         ],
         "name": "5"
        },
        {
         "data": [
          {
           "customdata": [
            [
             43.5298424,
             5.4474738,
             6,
             8,
             52,
             15.07
            ],
            [
             43.2140359,
             5.5396318,
             6,
             0,
             59,
             14.72
            ],
            [
             43.8374249,
             4.3600687,
             6,
             47,
             59,
             15.99
            ],
            [
             44.0121279,
             4.4196718,
             6,
             56.99999999999999,
             62,
             15.76
            ],
            [
             43.2961743,
             5.3699525,
             6,
             5,
             61,
             14.69
            ]
           ],
           "hovertemplate": "<b>%{hovertext}</b><br><br>humidity=%{customdata[4]}<br>rain_chances=%{customdata[3]}<br>felt_temperature=%{marker.color}<extra></extra>",
           "hovertext": [
            "Aix en Provence",
            "Cassis",
            "Nimes",
            "Uzes",
            "Marseille"
           ],
           "lat": [
            43.5298424,
            43.2140359,
            43.8374249,
            44.0121279,
            43.2961743
           ],
           "legendgroup": "",
           "lon": [
            5.4474738,
            5.5396318,
            4.3600687,
            4.4196718,
            5.3699525
           ],
           "marker": {
            "color": [
             15.07,
             14.72,
             15.99,
             15.76,
             14.69
            ],
            "coloraxis": "coloraxis",
            "size": [
             52,
             59,
             59,
             62,
             61
            ],
            "sizemode": "area",
            "sizeref": 0.07777777777777778
           },
           "mode": "markers",
           "name": "",
           "showlegend": false,
           "subplot": "mapbox",
           "type": "scattermapbox"
          }
         ],
         "name": "6"
        },
        {
         "data": [
          {
           "customdata": [
            [
             43.2140359,
             5.5396318,
             7,
             1,
             43,
             17.02
            ],
            [
             43.5298424,
             5.4474738,
             7,
             2,
             34,
             17.43
            ],
            [
             43.8374249,
             4.3600687,
             7,
             28.999999999999996,
             35,
             18
            ],
            [
             44.0121279,
             4.4196718,
             7,
             38,
             33,
             18.07
            ],
            [
             43.2961743,
             5.3699525,
             7,
             2,
             43,
             16.88
            ]
           ],
           "hovertemplate": "<b>%{hovertext}</b><br><br>humidity=%{customdata[4]}<br>rain_chances=%{customdata[3]}<br>felt_temperature=%{marker.color}<extra></extra>",
           "hovertext": [
            "Cassis",
            "Aix en Provence",
            "Nimes",
            "Uzes",
            "Marseille"
           ],
           "lat": [
            43.2140359,
            43.5298424,
            43.8374249,
            44.0121279,
            43.2961743
           ],
           "legendgroup": "",
           "lon": [
            5.5396318,
            5.4474738,
            4.3600687,
            4.4196718,
            5.3699525
           ],
           "marker": {
            "color": [
             17.02,
             17.43,
             18,
             18.07,
             16.88
            ],
            "coloraxis": "coloraxis",
            "size": [
             43,
             34,
             35,
             33,
             43
            ],
            "sizemode": "area",
            "sizeref": 0.07777777777777778
           },
           "mode": "markers",
           "name": "",
           "showlegend": false,
           "subplot": "mapbox",
           "type": "scattermapbox"
          }
         ],
         "name": "7"
        }
       ],
       "layout": {
        "coloraxis": {
         "colorbar": {
          "title": {
           "text": "felt_temperature"
          }
         },
         "colorscale": [
          [
           0,
           "rgb(0,0,255)"
          ],
          [
           1,
           "rgb(255,0,0)"
          ]
         ]
        },
        "height": 800,
        "legend": {
         "itemsizing": "constant",
         "tracegroupgap": 0
        },
        "mapbox": {
         "accesstoken": "pk.eyJ1Ijoidm9ud2VuIiwiYSI6ImNsMWM0dmZnazA0N2gzZG8wa2N1OTM0ZDEifQ.lCZ3DFaUYPS5XIJCWi6yNA",
         "center": {
          "lat": 43.57792108000001,
          "lon": 5.02735972
         },
         "domain": {
          "x": [
           0,
           1
          ],
          "y": [
           0,
           1
          ]
         },
         "zoom": 4.7
        },
        "margin": {
         "t": 60
        },
        "sliders": [
         {
          "active": 0,
          "currentvalue": {
           "prefix": "day_plus="
          },
          "len": 0.9,
          "pad": {
           "b": 10,
           "t": 60
          },
          "steps": [
           {
            "args": [
             [
              "1"
             ],
             {
              "frame": {
               "duration": 0,
               "redraw": true
              },
              "fromcurrent": true,
              "mode": "immediate",
              "transition": {
               "duration": 0,
               "easing": "linear"
              }
             }
            ],
            "label": "1",
            "method": "animate"
           },
           {
            "args": [
             [
              "2"
             ],
             {
              "frame": {
               "duration": 0,
               "redraw": true
              },
              "fromcurrent": true,
              "mode": "immediate",
              "transition": {
               "duration": 0,
               "easing": "linear"
              }
             }
            ],
            "label": "2",
            "method": "animate"
           },
           {
            "args": [
             [
              "3"
             ],
             {
              "frame": {
               "duration": 0,
               "redraw": true
              },
              "fromcurrent": true,
              "mode": "immediate",
              "transition": {
               "duration": 0,
               "easing": "linear"
              }
             }
            ],
            "label": "3",
            "method": "animate"
           },
           {
            "args": [
             [
              "4"
             ],
             {
              "frame": {
               "duration": 0,
               "redraw": true
              },
              "fromcurrent": true,
              "mode": "immediate",
              "transition": {
               "duration": 0,
               "easing": "linear"
              }
             }
            ],
            "label": "4",
            "method": "animate"
           },
           {
            "args": [
             [
              "5"
             ],
             {
              "frame": {
               "duration": 0,
               "redraw": true
              },
              "fromcurrent": true,
              "mode": "immediate",
              "transition": {
               "duration": 0,
               "easing": "linear"
              }
             }
            ],
            "label": "5",
            "method": "animate"
           },
           {
            "args": [
             [
              "6"
             ],
             {
              "frame": {
               "duration": 0,
               "redraw": true
              },
              "fromcurrent": true,
              "mode": "immediate",
              "transition": {
               "duration": 0,
               "easing": "linear"
              }
             }
            ],
            "label": "6",
            "method": "animate"
           },
           {
            "args": [
             [
              "7"
             ],
             {
              "frame": {
               "duration": 0,
               "redraw": true
              },
              "fromcurrent": true,
              "mode": "immediate",
              "transition": {
               "duration": 0,
               "easing": "linear"
              }
             }
            ],
            "label": "7",
            "method": "animate"
           }
          ],
          "x": 0.1,
          "xanchor": "left",
          "y": 0,
          "yanchor": "top"
         }
        ],
        "template": {
         "data": {
          "bar": [
           {
            "error_x": {
             "color": "#f2f5fa"
            },
            "error_y": {
             "color": "#f2f5fa"
            },
            "marker": {
             "line": {
              "color": "rgb(17,17,17)",
              "width": 0.5
             },
             "pattern": {
              "fillmode": "overlay",
              "size": 10,
              "solidity": 0.2
             }
            },
            "type": "bar"
           }
          ],
          "barpolar": [
           {
            "marker": {
             "line": {
              "color": "rgb(17,17,17)",
              "width": 0.5
             },
             "pattern": {
              "fillmode": "overlay",
              "size": 10,
              "solidity": 0.2
             }
            },
            "type": "barpolar"
           }
          ],
          "carpet": [
           {
            "aaxis": {
             "endlinecolor": "#A2B1C6",
             "gridcolor": "#506784",
             "linecolor": "#506784",
             "minorgridcolor": "#506784",
             "startlinecolor": "#A2B1C6"
            },
            "baxis": {
             "endlinecolor": "#A2B1C6",
             "gridcolor": "#506784",
             "linecolor": "#506784",
             "minorgridcolor": "#506784",
             "startlinecolor": "#A2B1C6"
            },
            "type": "carpet"
           }
          ],
          "choropleth": [
           {
            "colorbar": {
             "outlinewidth": 0,
             "ticks": ""
            },
            "type": "choropleth"
           }
          ],
          "contour": [
           {
            "colorbar": {
             "outlinewidth": 0,
             "ticks": ""
            },
            "colorscale": [
             [
              0,
              "#0d0887"
             ],
             [
              0.1111111111111111,
              "#46039f"
             ],
             [
              0.2222222222222222,
              "#7201a8"
             ],
             [
              0.3333333333333333,
              "#9c179e"
             ],
             [
              0.4444444444444444,
              "#bd3786"
             ],
             [
              0.5555555555555556,
              "#d8576b"
             ],
             [
              0.6666666666666666,
              "#ed7953"
             ],
             [
              0.7777777777777778,
              "#fb9f3a"
             ],
             [
              0.8888888888888888,
              "#fdca26"
             ],
             [
              1,
              "#f0f921"
             ]
            ],
            "type": "contour"
           }
          ],
          "contourcarpet": [
           {
            "colorbar": {
             "outlinewidth": 0,
             "ticks": ""
            },
            "type": "contourcarpet"
           }
          ],
          "heatmap": [
           {
            "colorbar": {
             "outlinewidth": 0,
             "ticks": ""
            },
            "colorscale": [
             [
              0,
              "#0d0887"
             ],
             [
              0.1111111111111111,
              "#46039f"
             ],
             [
              0.2222222222222222,
              "#7201a8"
             ],
             [
              0.3333333333333333,
              "#9c179e"
             ],
             [
              0.4444444444444444,
              "#bd3786"
             ],
             [
              0.5555555555555556,
              "#d8576b"
             ],
             [
              0.6666666666666666,
              "#ed7953"
             ],
             [
              0.7777777777777778,
              "#fb9f3a"
             ],
             [
              0.8888888888888888,
              "#fdca26"
             ],
             [
              1,
              "#f0f921"
             ]
            ],
            "type": "heatmap"
           }
          ],
          "heatmapgl": [
           {
            "colorbar": {
             "outlinewidth": 0,
             "ticks": ""
            },
            "colorscale": [
             [
              0,
              "#0d0887"
             ],
             [
              0.1111111111111111,
              "#46039f"
             ],
             [
              0.2222222222222222,
              "#7201a8"
             ],
             [
              0.3333333333333333,
              "#9c179e"
             ],
             [
              0.4444444444444444,
              "#bd3786"
             ],
             [
              0.5555555555555556,
              "#d8576b"
             ],
             [
              0.6666666666666666,
              "#ed7953"
             ],
             [
              0.7777777777777778,
              "#fb9f3a"
             ],
             [
              0.8888888888888888,
              "#fdca26"
             ],
             [
              1,
              "#f0f921"
             ]
            ],
            "type": "heatmapgl"
           }
          ],
          "histogram": [
           {
            "marker": {
             "pattern": {
              "fillmode": "overlay",
              "size": 10,
              "solidity": 0.2
             }
            },
            "type": "histogram"
           }
          ],
          "histogram2d": [
           {
            "colorbar": {
             "outlinewidth": 0,
             "ticks": ""
            },
            "colorscale": [
             [
              0,
              "#0d0887"
             ],
             [
              0.1111111111111111,
              "#46039f"
             ],
             [
              0.2222222222222222,
              "#7201a8"
             ],
             [
              0.3333333333333333,
              "#9c179e"
             ],
             [
              0.4444444444444444,
              "#bd3786"
             ],
             [
              0.5555555555555556,
              "#d8576b"
             ],
             [
              0.6666666666666666,
              "#ed7953"
             ],
             [
              0.7777777777777778,
              "#fb9f3a"
             ],
             [
              0.8888888888888888,
              "#fdca26"
             ],
             [
              1,
              "#f0f921"
             ]
            ],
            "type": "histogram2d"
           }
          ],
          "histogram2dcontour": [
           {
            "colorbar": {
             "outlinewidth": 0,
             "ticks": ""
            },
            "colorscale": [
             [
              0,
              "#0d0887"
             ],
             [
              0.1111111111111111,
              "#46039f"
             ],
             [
              0.2222222222222222,
              "#7201a8"
             ],
             [
              0.3333333333333333,
              "#9c179e"
             ],
             [
              0.4444444444444444,
              "#bd3786"
             ],
             [
              0.5555555555555556,
              "#d8576b"
             ],
             [
              0.6666666666666666,
              "#ed7953"
             ],
             [
              0.7777777777777778,
              "#fb9f3a"
             ],
             [
              0.8888888888888888,
              "#fdca26"
             ],
             [
              1,
              "#f0f921"
             ]
            ],
            "type": "histogram2dcontour"
           }
          ],
          "mesh3d": [
           {
            "colorbar": {
             "outlinewidth": 0,
             "ticks": ""
            },
            "type": "mesh3d"
           }
          ],
          "parcoords": [
           {
            "line": {
             "colorbar": {
              "outlinewidth": 0,
              "ticks": ""
             }
            },
            "type": "parcoords"
           }
          ],
          "pie": [
           {
            "automargin": true,
            "type": "pie"
           }
          ],
          "scatter": [
           {
            "marker": {
             "line": {
              "color": "#283442"
             }
            },
            "type": "scatter"
           }
          ],
          "scatter3d": [
           {
            "line": {
             "colorbar": {
              "outlinewidth": 0,
              "ticks": ""
             }
            },
            "marker": {
             "colorbar": {
              "outlinewidth": 0,
              "ticks": ""
             }
            },
            "type": "scatter3d"
           }
          ],
          "scattercarpet": [
           {
            "marker": {
             "colorbar": {
              "outlinewidth": 0,
              "ticks": ""
             }
            },
            "type": "scattercarpet"
           }
          ],
          "scattergeo": [
           {
            "marker": {
             "colorbar": {
              "outlinewidth": 0,
              "ticks": ""
             }
            },
            "type": "scattergeo"
           }
          ],
          "scattergl": [
           {
            "marker": {
             "line": {
              "color": "#283442"
             }
            },
            "type": "scattergl"
           }
          ],
          "scattermapbox": [
           {
            "marker": {
             "colorbar": {
              "outlinewidth": 0,
              "ticks": ""
             }
            },
            "type": "scattermapbox"
           }
          ],
          "scatterpolar": [
           {
            "marker": {
             "colorbar": {
              "outlinewidth": 0,
              "ticks": ""
             }
            },
            "type": "scatterpolar"
           }
          ],
          "scatterpolargl": [
           {
            "marker": {
             "colorbar": {
              "outlinewidth": 0,
              "ticks": ""
             }
            },
            "type": "scatterpolargl"
           }
          ],
          "scatterternary": [
           {
            "marker": {
             "colorbar": {
              "outlinewidth": 0,
              "ticks": ""
             }
            },
            "type": "scatterternary"
           }
          ],
          "surface": [
           {
            "colorbar": {
             "outlinewidth": 0,
             "ticks": ""
            },
            "colorscale": [
             [
              0,
              "#0d0887"
             ],
             [
              0.1111111111111111,
              "#46039f"
             ],
             [
              0.2222222222222222,
              "#7201a8"
             ],
             [
              0.3333333333333333,
              "#9c179e"
             ],
             [
              0.4444444444444444,
              "#bd3786"
             ],
             [
              0.5555555555555556,
              "#d8576b"
             ],
             [
              0.6666666666666666,
              "#ed7953"
             ],
             [
              0.7777777777777778,
              "#fb9f3a"
             ],
             [
              0.8888888888888888,
              "#fdca26"
             ],
             [
              1,
              "#f0f921"
             ]
            ],
            "type": "surface"
           }
          ],
          "table": [
           {
            "cells": {
             "fill": {
              "color": "#506784"
             },
             "line": {
              "color": "rgb(17,17,17)"
             }
            },
            "header": {
             "fill": {
              "color": "#2a3f5f"
             },
             "line": {
              "color": "rgb(17,17,17)"
             }
            },
            "type": "table"
           }
          ]
         },
         "layout": {
          "annotationdefaults": {
           "arrowcolor": "#f2f5fa",
           "arrowhead": 0,
           "arrowwidth": 1
          },
          "autotypenumbers": "strict",
          "coloraxis": {
           "colorbar": {
            "outlinewidth": 0,
            "ticks": ""
           }
          },
          "colorscale": {
           "diverging": [
            [
             0,
             "#8e0152"
            ],
            [
             0.1,
             "#c51b7d"
            ],
            [
             0.2,
             "#de77ae"
            ],
            [
             0.3,
             "#f1b6da"
            ],
            [
             0.4,
             "#fde0ef"
            ],
            [
             0.5,
             "#f7f7f7"
            ],
            [
             0.6,
             "#e6f5d0"
            ],
            [
             0.7,
             "#b8e186"
            ],
            [
             0.8,
             "#7fbc41"
            ],
            [
             0.9,
             "#4d9221"
            ],
            [
             1,
             "#276419"
            ]
           ],
           "sequential": [
            [
             0,
             "#0d0887"
            ],
            [
             0.1111111111111111,
             "#46039f"
            ],
            [
             0.2222222222222222,
             "#7201a8"
            ],
            [
             0.3333333333333333,
             "#9c179e"
            ],
            [
             0.4444444444444444,
             "#bd3786"
            ],
            [
             0.5555555555555556,
             "#d8576b"
            ],
            [
             0.6666666666666666,
             "#ed7953"
            ],
            [
             0.7777777777777778,
             "#fb9f3a"
            ],
            [
             0.8888888888888888,
             "#fdca26"
            ],
            [
             1,
             "#f0f921"
            ]
           ],
           "sequentialminus": [
            [
             0,
             "#0d0887"
            ],
            [
             0.1111111111111111,
             "#46039f"
            ],
            [
             0.2222222222222222,
             "#7201a8"
            ],
            [
             0.3333333333333333,
             "#9c179e"
            ],
            [
             0.4444444444444444,
             "#bd3786"
            ],
            [
             0.5555555555555556,
             "#d8576b"
            ],
            [
             0.6666666666666666,
             "#ed7953"
            ],
            [
             0.7777777777777778,
             "#fb9f3a"
            ],
            [
             0.8888888888888888,
             "#fdca26"
            ],
            [
             1,
             "#f0f921"
            ]
           ]
          },
          "colorway": [
           "#636efa",
           "#EF553B",
           "#00cc96",
           "#ab63fa",
           "#FFA15A",
           "#19d3f3",
           "#FF6692",
           "#B6E880",
           "#FF97FF",
           "#FECB52"
          ],
          "font": {
           "color": "#f2f5fa"
          },
          "geo": {
           "bgcolor": "rgb(17,17,17)",
           "lakecolor": "rgb(17,17,17)",
           "landcolor": "rgb(17,17,17)",
           "showlakes": true,
           "showland": true,
           "subunitcolor": "#506784"
          },
          "hoverlabel": {
           "align": "left"
          },
          "hovermode": "closest",
          "mapbox": {
           "style": "dark"
          },
          "paper_bgcolor": "rgb(17,17,17)",
          "plot_bgcolor": "rgb(17,17,17)",
          "polar": {
           "angularaxis": {
            "gridcolor": "#506784",
            "linecolor": "#506784",
            "ticks": ""
           },
           "bgcolor": "rgb(17,17,17)",
           "radialaxis": {
            "gridcolor": "#506784",
            "linecolor": "#506784",
            "ticks": ""
           }
          },
          "scene": {
           "xaxis": {
            "backgroundcolor": "rgb(17,17,17)",
            "gridcolor": "#506784",
            "gridwidth": 2,
            "linecolor": "#506784",
            "showbackground": true,
            "ticks": "",
            "zerolinecolor": "#C8D4E3"
           },
           "yaxis": {
            "backgroundcolor": "rgb(17,17,17)",
            "gridcolor": "#506784",
            "gridwidth": 2,
            "linecolor": "#506784",
            "showbackground": true,
            "ticks": "",
            "zerolinecolor": "#C8D4E3"
           },
           "zaxis": {
            "backgroundcolor": "rgb(17,17,17)",
            "gridcolor": "#506784",
            "gridwidth": 2,
            "linecolor": "#506784",
            "showbackground": true,
            "ticks": "",
            "zerolinecolor": "#C8D4E3"
           }
          },
          "shapedefaults": {
           "line": {
            "color": "#f2f5fa"
           }
          },
          "sliderdefaults": {
           "bgcolor": "#C8D4E3",
           "bordercolor": "rgb(17,17,17)",
           "borderwidth": 1,
           "tickwidth": 0
          },
          "ternary": {
           "aaxis": {
            "gridcolor": "#506784",
            "linecolor": "#506784",
            "ticks": ""
           },
           "baxis": {
            "gridcolor": "#506784",
            "linecolor": "#506784",
            "ticks": ""
           },
           "bgcolor": "rgb(17,17,17)",
           "caxis": {
            "gridcolor": "#506784",
            "linecolor": "#506784",
            "ticks": ""
           }
          },
          "title": {
           "x": 0.05
          },
          "updatemenudefaults": {
           "bgcolor": "#506784",
           "borderwidth": 0
          },
          "xaxis": {
           "automargin": true,
           "gridcolor": "#283442",
           "linecolor": "#506784",
           "ticks": "",
           "title": {
            "standoff": 15
           },
           "zerolinecolor": "#283442",
           "zerolinewidth": 2
          },
          "yaxis": {
           "automargin": true,
           "gridcolor": "#283442",
           "linecolor": "#506784",
           "ticks": "",
           "title": {
            "standoff": 15
           },
           "zerolinecolor": "#283442",
           "zerolinewidth": 2
          }
         }
        },
        "title": {
         "text": "Weather"
        },
        "updatemenus": [
         {
          "buttons": [
           {
            "args": [
             null,
             {
              "frame": {
               "duration": 500,
               "redraw": true
              },
              "fromcurrent": true,
              "mode": "immediate",
              "transition": {
               "duration": 500,
               "easing": "linear"
              }
             }
            ],
            "label": "&#9654;",
            "method": "animate"
           },
           {
            "args": [
             [
              null
             ],
             {
              "frame": {
               "duration": 0,
               "redraw": true
              },
              "fromcurrent": true,
              "mode": "immediate",
              "transition": {
               "duration": 0,
               "easing": "linear"
              }
             }
            ],
            "label": "&#9724;",
            "method": "animate"
           }
          ],
          "direction": "left",
          "pad": {
           "r": 10,
           "t": 70
          },
          "showactive": false,
          "type": "buttons",
          "x": 0.1,
          "xanchor": "right",
          "y": 0,
          "yanchor": "top"
         }
        ],
        "width": 1300
       }
      }
     },
     "metadata": {},
     "output_type": "display_data"
    }
   ],
   "source": [
    "# px.set_mapbox_access_token(open(\".mapbox_token\").read())\n",
    "# fig = px.scatter_mapbox(\n",
    "#     df_plotly.sort_values('day_plus'),\n",
    "#     lat='lat',\n",
    "#     lon='lon',\n",
    "#     color='felt_temperature',\n",
    "#     size='humidity',\n",
    "#     color_continuous_scale=px.colors.sequential.Bluered,\n",
    "#     size_max=30,\n",
    "#     zoom=4.7,\n",
    "#     hover_name='city',\n",
    "#     hover_data={\n",
    "#         'lat': False,\n",
    "#         'lon': False,\n",
    "#         'day_plus': False,\n",
    "#         'rain_chances': True,\n",
    "#         'humidity': True,\n",
    "#         'felt_temperature': True        \n",
    "#         },\n",
    "#     animation_frame='day_plus'\n",
    "# )\n",
    "\n",
    "# fig.update_layout(width = 1300, height = 800, template='plotly_dark' ,title='Weather')\n",
    "# fig.show()"
   ]
  },
  {
   "cell_type": "markdown",
   "metadata": {},
   "source": [
    "## Merging Data"
   ]
  },
  {
   "cell_type": "code",
   "execution_count": null,
   "metadata": {},
   "outputs": [],
   "source": [
    "# Renaming coordinates columns to avoid confusion between city and hotel coordinates\n",
    "df.rename(columns={'lat': 'lat_hotels', 'lon': 'lon_hotels'}, inplace=True)"
   ]
  },
  {
   "cell_type": "code",
   "execution_count": 58,
   "metadata": {},
   "outputs": [],
   "source": [
    "# Merging the hotels and weather dataframes, and dropping the unnecessary location column\n",
    "df_complete = pd.merge(df_full, df, on='id')\n",
    "df_complete.drop(columns=['location'], inplace=True)\n",
    "print(df_complete.shape)\n",
    "\n",
    "# Saving the merged dataset as a csv file\n",
    "df_complete.to_csv('df_complete.csv', index=False, header=True)"
   ]
  },
  {
   "cell_type": "markdown",
   "metadata": {},
   "source": [
    "## Storing the dataset in a S3 data lake"
   ]
  },
  {
   "cell_type": "code",
   "execution_count": 10,
   "metadata": {},
   "outputs": [],
   "source": [
    "# Loading the S3 dession and resource\n",
    "session = boto3.Session()\n",
    "s3 = boto3.resource('s3')"
   ]
  },
  {
   "cell_type": "code",
   "execution_count": 11,
   "metadata": {},
   "outputs": [],
   "source": [
    "# Uploading the file to S3\n",
    "s3.Bucket('kayak-project-garp').upload_file('df_complete.csv', 'df_complete.csv')"
   ]
  },
  {
   "cell_type": "code",
   "execution_count": 13,
   "metadata": {},
   "outputs": [
    {
     "data": {
      "text/plain": [
       "(35, 16)"
      ]
     },
     "execution_count": 13,
     "metadata": {},
     "output_type": "execute_result"
    }
   ],
   "source": [
    "# Downloading the file from S3 and checking it kept the same shape.\n",
    "df_s3 = pd.read_csv('s3://kayak-project-garp/df_complete.csv')\n",
    "df_s3.shape"
   ]
  },
  {
   "cell_type": "markdown",
   "metadata": {},
   "source": [
    "## Transforming"
   ]
  },
  {
   "cell_type": "code",
   "execution_count": 45,
   "metadata": {},
   "outputs": [],
   "source": [
    "# Splitting the dataframe into 2 tables\n",
    "\n",
    "df_weather = df_s3[['id', 'city', 'lat', 'lon', 'day_plus', 'felt_temperature', 'rain_chances', 'humidity', 'score_weather']]\n",
    "df_hotels = df_s3[['id', 'city', 'name', 'url', 'lat_hotels', 'lon_hotels', 'description', 'score', 'score_weather']]"
   ]
  },
  {
   "cell_type": "code",
   "execution_count": 27,
   "metadata": {},
   "outputs": [
    {
     "data": {
      "text/html": [
       "<div>\n",
       "<style scoped>\n",
       "    .dataframe tbody tr th:only-of-type {\n",
       "        vertical-align: middle;\n",
       "    }\n",
       "\n",
       "    .dataframe tbody tr th {\n",
       "        vertical-align: top;\n",
       "    }\n",
       "\n",
       "    .dataframe thead th {\n",
       "        text-align: right;\n",
       "    }\n",
       "</style>\n",
       "<table border=\"1\" class=\"dataframe\">\n",
       "  <thead>\n",
       "    <tr style=\"text-align: right;\">\n",
       "      <th></th>\n",
       "      <th>id</th>\n",
       "      <th>city</th>\n",
       "      <th>lat</th>\n",
       "      <th>lon</th>\n",
       "      <th>day_plus</th>\n",
       "      <th>felt_temperature</th>\n",
       "      <th>rain_chances</th>\n",
       "      <th>humidity</th>\n",
       "      <th>score_weather</th>\n",
       "    </tr>\n",
       "  </thead>\n",
       "  <tbody>\n",
       "    <tr>\n",
       "      <th>0</th>\n",
       "      <td>0</td>\n",
       "      <td>Mont Saint Michel</td>\n",
       "      <td>48.635954</td>\n",
       "      <td>-1.511460</td>\n",
       "      <td>[1, 2, 3, 4, 5, 6, 7]</td>\n",
       "      <td>[17.62, 18.3, 15.16, 10.7, 12.04, 9.64, 10.46]</td>\n",
       "      <td>[69.0, 0, 0, 0, 0, 67.0, 96.0]</td>\n",
       "      <td>[71, 59, 50, 84, 67, 95, 66]</td>\n",
       "      <td>111.451429</td>\n",
       "    </tr>\n",
       "    <tr>\n",
       "      <th>1</th>\n",
       "      <td>1</td>\n",
       "      <td>St Malo</td>\n",
       "      <td>48.649518</td>\n",
       "      <td>-2.026041</td>\n",
       "      <td>[1, 2, 3, 4, 5, 6, 7]</td>\n",
       "      <td>[14.67, 15.18, 13.59, 9.95, 10.35, 11.25, 9.65]</td>\n",
       "      <td>[47.0, 0, 0, 0, 0, 98.0, 93.0]</td>\n",
       "      <td>[80, 72, 56, 79, 71, 89, 71]</td>\n",
       "      <td>116.817143</td>\n",
       "    </tr>\n",
       "    <tr>\n",
       "      <th>2</th>\n",
       "      <td>2</td>\n",
       "      <td>Bayeux</td>\n",
       "      <td>49.276462</td>\n",
       "      <td>-0.702474</td>\n",
       "      <td>[1, 2, 3, 4, 5, 6, 7]</td>\n",
       "      <td>[17.97, 16.15, 14.29, 9.73, 10.77, 10.25, 9.08]</td>\n",
       "      <td>[28.999999999999996, 0, 0, 4.0, 0, 61.0, 96.0]</td>\n",
       "      <td>[68, 68, 52, 89, 68, 90, 68]</td>\n",
       "      <td>107.860000</td>\n",
       "    </tr>\n",
       "    <tr>\n",
       "      <th>3</th>\n",
       "      <td>3</td>\n",
       "      <td>Le Havre</td>\n",
       "      <td>49.493898</td>\n",
       "      <td>0.107973</td>\n",
       "      <td>[1, 2, 3, 4, 5, 6, 7]</td>\n",
       "      <td>[15.04, 14.54, 12.27, 11.81, 10.59, 9.79, 6.27]</td>\n",
       "      <td>[0, 0, 0, 0, 9.0, 76.0, 94.0]</td>\n",
       "      <td>[74, 70, 54, 68, 74, 78, 81]</td>\n",
       "      <td>108.268571</td>\n",
       "    </tr>\n",
       "    <tr>\n",
       "      <th>4</th>\n",
       "      <td>4</td>\n",
       "      <td>Rouen</td>\n",
       "      <td>49.440459</td>\n",
       "      <td>1.093966</td>\n",
       "      <td>[1, 2, 3, 4, 5, 6, 7]</td>\n",
       "      <td>[17.9, 16.29, 13.83, 15.38, 12.96, 8.98, 7.94]</td>\n",
       "      <td>[4.0, 0, 0, 0, 50.0, 81.0, 75.0]</td>\n",
       "      <td>[61, 60, 50, 56, 78, 84, 93]</td>\n",
       "      <td>107.777143</td>\n",
       "    </tr>\n",
       "  </tbody>\n",
       "</table>\n",
       "</div>"
      ],
      "text/plain": [
       "   id               city        lat       lon               day_plus  \\\n",
       "0   0  Mont Saint Michel  48.635954 -1.511460  [1, 2, 3, 4, 5, 6, 7]   \n",
       "1   1            St Malo  48.649518 -2.026041  [1, 2, 3, 4, 5, 6, 7]   \n",
       "2   2             Bayeux  49.276462 -0.702474  [1, 2, 3, 4, 5, 6, 7]   \n",
       "3   3           Le Havre  49.493898  0.107973  [1, 2, 3, 4, 5, 6, 7]   \n",
       "4   4              Rouen  49.440459  1.093966  [1, 2, 3, 4, 5, 6, 7]   \n",
       "\n",
       "                                  felt_temperature  \\\n",
       "0   [17.62, 18.3, 15.16, 10.7, 12.04, 9.64, 10.46]   \n",
       "1  [14.67, 15.18, 13.59, 9.95, 10.35, 11.25, 9.65]   \n",
       "2  [17.97, 16.15, 14.29, 9.73, 10.77, 10.25, 9.08]   \n",
       "3  [15.04, 14.54, 12.27, 11.81, 10.59, 9.79, 6.27]   \n",
       "4   [17.9, 16.29, 13.83, 15.38, 12.96, 8.98, 7.94]   \n",
       "\n",
       "                                     rain_chances  \\\n",
       "0                  [69.0, 0, 0, 0, 0, 67.0, 96.0]   \n",
       "1                  [47.0, 0, 0, 0, 0, 98.0, 93.0]   \n",
       "2  [28.999999999999996, 0, 0, 4.0, 0, 61.0, 96.0]   \n",
       "3                   [0, 0, 0, 0, 9.0, 76.0, 94.0]   \n",
       "4                [4.0, 0, 0, 0, 50.0, 81.0, 75.0]   \n",
       "\n",
       "                       humidity  score_weather  \n",
       "0  [71, 59, 50, 84, 67, 95, 66]     111.451429  \n",
       "1  [80, 72, 56, 79, 71, 89, 71]     116.817143  \n",
       "2  [68, 68, 52, 89, 68, 90, 68]     107.860000  \n",
       "3  [74, 70, 54, 68, 74, 78, 81]     108.268571  \n",
       "4  [61, 60, 50, 56, 78, 84, 93]     107.777143  "
      ]
     },
     "execution_count": 27,
     "metadata": {},
     "output_type": "execute_result"
    }
   ],
   "source": [
    "df_weather.head()"
   ]
  },
  {
   "cell_type": "code",
   "execution_count": 28,
   "metadata": {},
   "outputs": [
    {
     "data": {
      "text/html": [
       "<div>\n",
       "<style scoped>\n",
       "    .dataframe tbody tr th:only-of-type {\n",
       "        vertical-align: middle;\n",
       "    }\n",
       "\n",
       "    .dataframe tbody tr th {\n",
       "        vertical-align: top;\n",
       "    }\n",
       "\n",
       "    .dataframe thead th {\n",
       "        text-align: right;\n",
       "    }\n",
       "</style>\n",
       "<table border=\"1\" class=\"dataframe\">\n",
       "  <thead>\n",
       "    <tr style=\"text-align: right;\">\n",
       "      <th></th>\n",
       "      <th>id</th>\n",
       "      <th>city</th>\n",
       "      <th>name</th>\n",
       "      <th>url</th>\n",
       "      <th>lat_hotels</th>\n",
       "      <th>lon_hotels</th>\n",
       "      <th>description</th>\n",
       "      <th>score</th>\n",
       "    </tr>\n",
       "  </thead>\n",
       "  <tbody>\n",
       "    <tr>\n",
       "      <th>0</th>\n",
       "      <td>0</td>\n",
       "      <td>Mont Saint Michel</td>\n",
       "      <td>['Le Relais Saint Michel', 'La Mère Poulard', ...</td>\n",
       "      <td>['https://www.booking.com/hotel/fr/le-relais-s...</td>\n",
       "      <td>['48.61758727', '48.63508532', '48.61424653', ...</td>\n",
       "      <td>['-1.51039615', '-1.51053965', '-1.51054502', ...</td>\n",
       "      <td>[\"\\nVous pouvez bénéficier d'une réduction Gen...</td>\n",
       "      <td>['7,8', '7,2', '8,2', '7,3', '7,2', '8,1', '8,...</td>\n",
       "    </tr>\n",
       "    <tr>\n",
       "      <th>1</th>\n",
       "      <td>1</td>\n",
       "      <td>St Malo</td>\n",
       "      <td>['Studio cocooning', 'Apartment, St Malo', 'Pe...</td>\n",
       "      <td>['https://www.booking.com/hotel/fr/studio-coco...</td>\n",
       "      <td>['48.65537970', '48.65874000', '48.65956907', ...</td>\n",
       "      <td>['-2.00327690', '-1.97702800', '-1.98920718', ...</td>\n",
       "      <td>[\"\\nVous pouvez bénéficier d'une réduction Gen...</td>\n",
       "      <td>['9,5', '0.0', '9,3', '8,7', '7,5', '0.0', '7,...</td>\n",
       "    </tr>\n",
       "    <tr>\n",
       "      <th>2</th>\n",
       "      <td>2</td>\n",
       "      <td>Bayeux</td>\n",
       "      <td>['Premiere Classe Bayeux', 'ibis budget Bayeux...</td>\n",
       "      <td>['https://www.booking.com/hotel/fr/premiere-cl...</td>\n",
       "      <td>['49.26942872', '49.25424209', '49.27571400', ...</td>\n",
       "      <td>['-0.70668697', '-0.64648747', '-0.69804200', ...</td>\n",
       "      <td>[\"\\nVous pouvez bénéficier d'une réduction Gen...</td>\n",
       "      <td>['7,7', '8,2', '9,7', '0.0', '7,8', '8,1', '7,...</td>\n",
       "    </tr>\n",
       "    <tr>\n",
       "      <th>3</th>\n",
       "      <td>3</td>\n",
       "      <td>Le Havre</td>\n",
       "      <td>['Holiday Inn Express - Le Havre Centre', 'Ibi...</td>\n",
       "      <td>['https://www.booking.com/hotel/fr/campanile-l...</td>\n",
       "      <td>['49.49823800', '49.49424468', '49.49331760', ...</td>\n",
       "      <td>['0.12883700', '0.14285243', '0.12530688', '0....</td>\n",
       "      <td>[\"\\nL’Holiday Inn Express - Le Havre Centre, s...</td>\n",
       "      <td>['8,2', '8,4', '8,6', '8,1', '0.0', '7,5', '8,...</td>\n",
       "    </tr>\n",
       "    <tr>\n",
       "      <th>4</th>\n",
       "      <td>4</td>\n",
       "      <td>Rouen</td>\n",
       "      <td>['Maison hypercentre Rouen tout confort', \"L'A...</td>\n",
       "      <td>['https://www.booking.com/hotel/fr/maison-hype...</td>\n",
       "      <td>['49.44465180', '49.44454400', '49.43572312', ...</td>\n",
       "      <td>['1.09132620', '1.09117800', '1.10273123', '1....</td>\n",
       "      <td>[\"\\nVous pouvez bénéficier d'une réduction Gen...</td>\n",
       "      <td>['8,8', '9,1', '8,2', '8,9', '9,2', '8,5', '8,...</td>\n",
       "    </tr>\n",
       "  </tbody>\n",
       "</table>\n",
       "</div>"
      ],
      "text/plain": [
       "   id               city                                               name  \\\n",
       "0   0  Mont Saint Michel  ['Le Relais Saint Michel', 'La Mère Poulard', ...   \n",
       "1   1            St Malo  ['Studio cocooning', 'Apartment, St Malo', 'Pe...   \n",
       "2   2             Bayeux  ['Premiere Classe Bayeux', 'ibis budget Bayeux...   \n",
       "3   3           Le Havre  ['Holiday Inn Express - Le Havre Centre', 'Ibi...   \n",
       "4   4              Rouen  ['Maison hypercentre Rouen tout confort', \"L'A...   \n",
       "\n",
       "                                                 url  \\\n",
       "0  ['https://www.booking.com/hotel/fr/le-relais-s...   \n",
       "1  ['https://www.booking.com/hotel/fr/studio-coco...   \n",
       "2  ['https://www.booking.com/hotel/fr/premiere-cl...   \n",
       "3  ['https://www.booking.com/hotel/fr/campanile-l...   \n",
       "4  ['https://www.booking.com/hotel/fr/maison-hype...   \n",
       "\n",
       "                                          lat_hotels  \\\n",
       "0  ['48.61758727', '48.63508532', '48.61424653', ...   \n",
       "1  ['48.65537970', '48.65874000', '48.65956907', ...   \n",
       "2  ['49.26942872', '49.25424209', '49.27571400', ...   \n",
       "3  ['49.49823800', '49.49424468', '49.49331760', ...   \n",
       "4  ['49.44465180', '49.44454400', '49.43572312', ...   \n",
       "\n",
       "                                          lon_hotels  \\\n",
       "0  ['-1.51039615', '-1.51053965', '-1.51054502', ...   \n",
       "1  ['-2.00327690', '-1.97702800', '-1.98920718', ...   \n",
       "2  ['-0.70668697', '-0.64648747', '-0.69804200', ...   \n",
       "3  ['0.12883700', '0.14285243', '0.12530688', '0....   \n",
       "4  ['1.09132620', '1.09117800', '1.10273123', '1....   \n",
       "\n",
       "                                         description  \\\n",
       "0  [\"\\nVous pouvez bénéficier d'une réduction Gen...   \n",
       "1  [\"\\nVous pouvez bénéficier d'une réduction Gen...   \n",
       "2  [\"\\nVous pouvez bénéficier d'une réduction Gen...   \n",
       "3  [\"\\nL’Holiday Inn Express - Le Havre Centre, s...   \n",
       "4  [\"\\nVous pouvez bénéficier d'une réduction Gen...   \n",
       "\n",
       "                                               score  \n",
       "0  ['7,8', '7,2', '8,2', '7,3', '7,2', '8,1', '8,...  \n",
       "1  ['9,5', '0.0', '9,3', '8,7', '7,5', '0.0', '7,...  \n",
       "2  ['7,7', '8,2', '9,7', '0.0', '7,8', '8,1', '7,...  \n",
       "3  ['8,2', '8,4', '8,6', '8,1', '0.0', '7,5', '8,...  \n",
       "4  ['8,8', '9,1', '8,2', '8,9', '9,2', '8,5', '8,...  "
      ]
     },
     "execution_count": 28,
     "metadata": {},
     "output_type": "execute_result"
    }
   ],
   "source": [
    "df_hotels.head()"
   ]
  },
  {
   "cell_type": "code",
   "execution_count": 84,
   "metadata": {},
   "outputs": [],
   "source": [
    "# The csv has converted the lists into strings, we need to revert that first for both dataframes\n",
    "df_weather_final = pd.DataFrame()\n",
    "df_weather_final[['id', 'city', 'lat', 'lon', 'score_weather']] = df_weather[['id', 'city', 'lat', 'lon', 'score_weather']]\n",
    "df_weather_final['day_plus'] = df_weather['day_plus'].apply(eval)\n",
    "df_weather_final['felt_temperature'] = df_weather['felt_temperature'].apply(eval)\n",
    "df_weather_final['rain_chances'] = df_weather['rain_chances'].apply(eval)\n",
    "df_weather_final['humidity'] = df_weather['humidity'].apply(eval)\n",
    "\n",
    "df_hotels_final = pd.DataFrame()\n",
    "df_hotels_final[['id', 'city', 'score_weather']] = df_hotels[['id', 'city', 'score_weather']]\n",
    "df_hotels_final['name'] = df_hotels['name'].apply(eval)\n",
    "df_hotels_final['url'] = df_hotels['url'].apply(eval)\n",
    "df_hotels_final['lat_hotels'] = df_hotels['lat_hotels'].apply(eval)\n",
    "df_hotels_final['lon_hotels'] = df_hotels['lon_hotels'].apply(eval)\n",
    "df_hotels_final['description'] = df_hotels['description'].apply(eval)\n",
    "df_hotels_final['score'] = df_hotels['score'].apply(eval)\n",
    "\n",
    "# We need to convert coordinates to numeric type as well\n",
    "df_weather_final[['lat', 'lon']] = df_weather[['lat', 'lon']].apply(pd.to_numeric)"
   ]
  },
  {
   "cell_type": "code",
   "execution_count": 85,
   "metadata": {},
   "outputs": [],
   "source": [
    "# We need to sort the data by weather score and explode the lists to prepare the data for warehousing and plotting\n",
    "df_weather_full = df_weather_final.sort_values('score_weather')\n",
    "df_weather_full.reset_index(inplace=True, drop=True)\n",
    "df_weather_full = df_weather_full.apply(pd.Series.explode)\n",
    "df_weather_full[['day_plus', 'felt_temperature', 'rain_chances', 'humidity']] = df_weather_full[['day_plus', 'felt_temperature', 'rain_chances', 'humidity']].apply(pd.to_numeric)\n",
    "\n",
    "df_hotels_full = df_hotels_final.sort_values('score_weather')\n",
    "df_hotels_full.reset_index(inplace=True, drop=True)\n",
    "df_hotels_full = df_hotels_full.apply(pd.Series.explode)\n",
    "df_hotels_full['description'] = df_hotels_full['description'].replace(\"\\\\n\", \"\", regex=True)\n",
    "df_hotels_full['score'] = df_hotels_full['score'].replace(\",\", \".\", regex=True)\n",
    "df_hotels_full[['lat_hotels', 'lon_hotels', 'score']] = df_hotels_full[['lat_hotels', 'lon_hotels', 'score']].apply(pd.to_numeric)"
   ]
  },
  {
   "cell_type": "code",
   "execution_count": 87,
   "metadata": {},
   "outputs": [
    {
     "data": {
      "text/html": [
       "<div>\n",
       "<style scoped>\n",
       "    .dataframe tbody tr th:only-of-type {\n",
       "        vertical-align: middle;\n",
       "    }\n",
       "\n",
       "    .dataframe tbody tr th {\n",
       "        vertical-align: top;\n",
       "    }\n",
       "\n",
       "    .dataframe thead th {\n",
       "        text-align: right;\n",
       "    }\n",
       "</style>\n",
       "<table border=\"1\" class=\"dataframe\">\n",
       "  <thead>\n",
       "    <tr style=\"text-align: right;\">\n",
       "      <th></th>\n",
       "      <th>id</th>\n",
       "      <th>city</th>\n",
       "      <th>score_weather</th>\n",
       "      <th>name</th>\n",
       "      <th>url</th>\n",
       "      <th>lat_hotels</th>\n",
       "      <th>lon_hotels</th>\n",
       "      <th>description</th>\n",
       "      <th>score</th>\n",
       "    </tr>\n",
       "  </thead>\n",
       "  <tbody>\n",
       "    <tr>\n",
       "      <th>0</th>\n",
       "      <td>21</td>\n",
       "      <td>Aix en Provence</td>\n",
       "      <td>55.088571</td>\n",
       "      <td>TheCamp Hotel&amp;Lodges - Aix en Provence</td>\n",
       "      <td>https://www.booking.com/hotel/fr/thecamp-amp-l...</td>\n",
       "      <td>43.496316</td>\n",
       "      <td>5.342152</td>\n",
       "      <td>Vous pouvez bénéficier d'une réduction Genius ...</td>\n",
       "      <td>8.5</td>\n",
       "    </tr>\n",
       "    <tr>\n",
       "      <th>0</th>\n",
       "      <td>21</td>\n",
       "      <td>Aix en Provence</td>\n",
       "      <td>55.088571</td>\n",
       "      <td>Odalys City Aix en Provence L'Atrium</td>\n",
       "      <td>https://www.booking.com/hotel/fr/atrium-d-anai...</td>\n",
       "      <td>43.524091</td>\n",
       "      <td>5.455216</td>\n",
       "      <td>Vous pouvez bénéficier d'une réduction Genius ...</td>\n",
       "      <td>7.4</td>\n",
       "    </tr>\n",
       "    <tr>\n",
       "      <th>0</th>\n",
       "      <td>21</td>\n",
       "      <td>Aix en Provence</td>\n",
       "      <td>55.088571</td>\n",
       "      <td>Nice apartment for 4 people in the center of A...</td>\n",
       "      <td>https://www.booking.com/hotel/fr/nice-apartmen...</td>\n",
       "      <td>43.518571</td>\n",
       "      <td>5.458349</td>\n",
       "      <td>Situé à Aix-en-Provence, à proximité du cours ...</td>\n",
       "      <td>0.0</td>\n",
       "    </tr>\n",
       "    <tr>\n",
       "      <th>0</th>\n",
       "      <td>21</td>\n",
       "      <td>Aix en Provence</td>\n",
       "      <td>55.088571</td>\n",
       "      <td>Furnished apartment with terrace in the center...</td>\n",
       "      <td>https://www.booking.com/hotel/fr/furnished-apa...</td>\n",
       "      <td>43.526627</td>\n",
       "      <td>5.446262</td>\n",
       "      <td>Situé dans le centre historique d'Aix-en-Prove...</td>\n",
       "      <td>0.0</td>\n",
       "    </tr>\n",
       "    <tr>\n",
       "      <th>0</th>\n",
       "      <td>21</td>\n",
       "      <td>Aix en Provence</td>\n",
       "      <td>55.088571</td>\n",
       "      <td>Séjours &amp; Affaires Aix-en-Provence Mirabeau</td>\n",
       "      <td>https://www.booking.com/hotel/fr/residence-mir...</td>\n",
       "      <td>43.525241</td>\n",
       "      <td>5.441266</td>\n",
       "      <td>Vous pouvez bénéficier d'une réduction Genius ...</td>\n",
       "      <td>8.2</td>\n",
       "    </tr>\n",
       "    <tr>\n",
       "      <th>...</th>\n",
       "      <td>...</td>\n",
       "      <td>...</td>\n",
       "      <td>...</td>\n",
       "      <td>...</td>\n",
       "      <td>...</td>\n",
       "      <td>...</td>\n",
       "      <td>...</td>\n",
       "      <td>...</td>\n",
       "      <td>...</td>\n",
       "    </tr>\n",
       "    <tr>\n",
       "      <th>4</th>\n",
       "      <td>20</td>\n",
       "      <td>Marseille</td>\n",
       "      <td>66.391429</td>\n",
       "      <td>Climatisé Gare StCHARLES 4 chambres Grand Balc...</td>\n",
       "      <td>https://www.booking.com/hotel/fr/climatise-gar...</td>\n",
       "      <td>43.306098</td>\n",
       "      <td>5.381638</td>\n",
       "      <td>Situé dans le quartier Saint-Charles à Marseil...</td>\n",
       "      <td>9.4</td>\n",
       "    </tr>\n",
       "    <tr>\n",
       "      <th>4</th>\n",
       "      <td>20</td>\n",
       "      <td>Marseille</td>\n",
       "      <td>66.391429</td>\n",
       "      <td>Sherwood</td>\n",
       "      <td>https://www.booking.com/hotel/fr/grand-apparte...</td>\n",
       "      <td>43.295631</td>\n",
       "      <td>5.379223</td>\n",
       "      <td>Le Sherwood propose un hébergement avec connex...</td>\n",
       "      <td>0.0</td>\n",
       "    </tr>\n",
       "    <tr>\n",
       "      <th>4</th>\n",
       "      <td>20</td>\n",
       "      <td>Marseille</td>\n",
       "      <td>66.391429</td>\n",
       "      <td>Le Paradis-Prado vélodrome parc Chanot plage à...</td>\n",
       "      <td>https://www.booking.com/hotel/fr/le-paradis-pr...</td>\n",
       "      <td>43.270241</td>\n",
       "      <td>5.386880</td>\n",
       "      <td>Doté d'une connexion Wi-Fi gratuite et offrant...</td>\n",
       "      <td>0.0</td>\n",
       "    </tr>\n",
       "    <tr>\n",
       "      <th>4</th>\n",
       "      <td>20</td>\n",
       "      <td>Marseille</td>\n",
       "      <td>66.391429</td>\n",
       "      <td>Studio Calme et Lumineux proche gare St Charles</td>\n",
       "      <td>https://www.booking.com/hotel/fr/studio-proche...</td>\n",
       "      <td>43.306563</td>\n",
       "      <td>5.380532</td>\n",
       "      <td>Situé à Marseille, à 1,2 km du centre commerci...</td>\n",
       "      <td>0.0</td>\n",
       "    </tr>\n",
       "    <tr>\n",
       "      <th>4</th>\n",
       "      <td>20</td>\n",
       "      <td>Marseille</td>\n",
       "      <td>66.391429</td>\n",
       "      <td>Beau T2 Historique-Panier/Vieux Port-60m2 avec...</td>\n",
       "      <td>https://www.booking.com/hotel/fr/beau-t2-histo...</td>\n",
       "      <td>43.297613</td>\n",
       "      <td>5.367828</td>\n",
       "      <td>Situé à Marseille, à moins de 700 mètres du mu...</td>\n",
       "      <td>9.6</td>\n",
       "    </tr>\n",
       "  </tbody>\n",
       "</table>\n",
       "<p>100 rows × 9 columns</p>\n",
       "</div>"
      ],
      "text/plain": [
       "    id             city  score_weather  \\\n",
       "0   21  Aix en Provence      55.088571   \n",
       "0   21  Aix en Provence      55.088571   \n",
       "0   21  Aix en Provence      55.088571   \n",
       "0   21  Aix en Provence      55.088571   \n",
       "0   21  Aix en Provence      55.088571   \n",
       "..  ..              ...            ...   \n",
       "4   20        Marseille      66.391429   \n",
       "4   20        Marseille      66.391429   \n",
       "4   20        Marseille      66.391429   \n",
       "4   20        Marseille      66.391429   \n",
       "4   20        Marseille      66.391429   \n",
       "\n",
       "                                                 name  \\\n",
       "0              TheCamp Hotel&Lodges - Aix en Provence   \n",
       "0                Odalys City Aix en Provence L'Atrium   \n",
       "0   Nice apartment for 4 people in the center of A...   \n",
       "0   Furnished apartment with terrace in the center...   \n",
       "0         Séjours & Affaires Aix-en-Provence Mirabeau   \n",
       "..                                                ...   \n",
       "4   Climatisé Gare StCHARLES 4 chambres Grand Balc...   \n",
       "4                                            Sherwood   \n",
       "4   Le Paradis-Prado vélodrome parc Chanot plage à...   \n",
       "4     Studio Calme et Lumineux proche gare St Charles   \n",
       "4   Beau T2 Historique-Panier/Vieux Port-60m2 avec...   \n",
       "\n",
       "                                                  url  lat_hotels  lon_hotels  \\\n",
       "0   https://www.booking.com/hotel/fr/thecamp-amp-l...   43.496316    5.342152   \n",
       "0   https://www.booking.com/hotel/fr/atrium-d-anai...   43.524091    5.455216   \n",
       "0   https://www.booking.com/hotel/fr/nice-apartmen...   43.518571    5.458349   \n",
       "0   https://www.booking.com/hotel/fr/furnished-apa...   43.526627    5.446262   \n",
       "0   https://www.booking.com/hotel/fr/residence-mir...   43.525241    5.441266   \n",
       "..                                                ...         ...         ...   \n",
       "4   https://www.booking.com/hotel/fr/climatise-gar...   43.306098    5.381638   \n",
       "4   https://www.booking.com/hotel/fr/grand-apparte...   43.295631    5.379223   \n",
       "4   https://www.booking.com/hotel/fr/le-paradis-pr...   43.270241    5.386880   \n",
       "4   https://www.booking.com/hotel/fr/studio-proche...   43.306563    5.380532   \n",
       "4   https://www.booking.com/hotel/fr/beau-t2-histo...   43.297613    5.367828   \n",
       "\n",
       "                                          description  score  \n",
       "0   Vous pouvez bénéficier d'une réduction Genius ...    8.5  \n",
       "0   Vous pouvez bénéficier d'une réduction Genius ...    7.4  \n",
       "0   Situé à Aix-en-Provence, à proximité du cours ...    0.0  \n",
       "0   Situé dans le centre historique d'Aix-en-Prove...    0.0  \n",
       "0   Vous pouvez bénéficier d'une réduction Genius ...    8.2  \n",
       "..                                                ...    ...  \n",
       "4   Situé dans le quartier Saint-Charles à Marseil...    9.4  \n",
       "4   Le Sherwood propose un hébergement avec connex...    0.0  \n",
       "4   Doté d'une connexion Wi-Fi gratuite et offrant...    0.0  \n",
       "4   Situé à Marseille, à 1,2 km du centre commerci...    0.0  \n",
       "4   Situé à Marseille, à moins de 700 mètres du mu...    9.6  \n",
       "\n",
       "[100 rows x 9 columns]"
      ]
     },
     "execution_count": 87,
     "metadata": {},
     "output_type": "execute_result"
    }
   ],
   "source": [
    "df_hotels_full[:100]"
   ]
  },
  {
   "cell_type": "markdown",
   "metadata": {},
   "source": [
    "## Storing the transformed data in a RDS data warehouse"
   ]
  },
  {
   "cell_type": "code",
   "execution_count": 91,
   "metadata": {},
   "outputs": [],
   "source": [
    "# Importing libraries for the data warehousing and initialization of the SQL engine\n",
    "from sqlalchemy import create_engine, text\n",
    "from sqlalchemy.orm import sessionmaker\n",
    "\n",
    "engine = create_engine(f\"postgresql+psycopg2://{DBUSER}:{DBPASS}@{DBHOST}/{DBNAME}\", echo=True)\n",
    "Session = sessionmaker(bind=engine)\n",
    "session = Session()"
   ]
  },
  {
   "cell_type": "code",
   "execution_count": null,
   "metadata": {},
   "outputs": [],
   "source": [
    "# Storing the two dataframes as SQL tables\n",
    "df_weather_full.to_sql('weather', con=engine, if_exists='replace')\n",
    "df_hotels_full.to_sql('hotels', con=engine, if_exists='replace')"
   ]
  },
  {
   "cell_type": "code",
   "execution_count": 97,
   "metadata": {},
   "outputs": [
    {
     "name": "stdout",
     "output_type": "stream",
     "text": [
      "2022-04-19 00:36:06,655 INFO sqlalchemy.engine.Engine select relname from pg_class c join pg_namespace n on n.oid=c.relnamespace where pg_catalog.pg_table_is_visible(c.oid) and relname=%(name)s\n",
      "2022-04-19 00:36:06,656 INFO sqlalchemy.engine.Engine [cached since 298s ago] {'name': 'SELECT * FROM weather LIMIT 21'}\n",
      "2022-04-19 00:36:06,687 INFO sqlalchemy.engine.Engine SELECT * FROM weather LIMIT 21\n",
      "2022-04-19 00:36:06,688 INFO sqlalchemy.engine.Engine [generated in 0.00053s] {}\n"
     ]
    },
    {
     "data": {
      "text/html": [
       "<div>\n",
       "<style scoped>\n",
       "    .dataframe tbody tr th:only-of-type {\n",
       "        vertical-align: middle;\n",
       "    }\n",
       "\n",
       "    .dataframe tbody tr th {\n",
       "        vertical-align: top;\n",
       "    }\n",
       "\n",
       "    .dataframe thead th {\n",
       "        text-align: right;\n",
       "    }\n",
       "</style>\n",
       "<table border=\"1\" class=\"dataframe\">\n",
       "  <thead>\n",
       "    <tr style=\"text-align: right;\">\n",
       "      <th></th>\n",
       "      <th>id</th>\n",
       "      <th>city</th>\n",
       "      <th>lat</th>\n",
       "      <th>lon</th>\n",
       "      <th>score_weather</th>\n",
       "      <th>day_plus</th>\n",
       "      <th>felt_temperature</th>\n",
       "      <th>rain_chances</th>\n",
       "      <th>humidity</th>\n",
       "    </tr>\n",
       "  </thead>\n",
       "  <tbody>\n",
       "    <tr>\n",
       "      <th>0</th>\n",
       "      <td>21</td>\n",
       "      <td>Aix en Provence</td>\n",
       "      <td>43.529842</td>\n",
       "      <td>5.447474</td>\n",
       "      <td>55.088571</td>\n",
       "      <td>1</td>\n",
       "      <td>21.87</td>\n",
       "      <td>1.0</td>\n",
       "      <td>33</td>\n",
       "    </tr>\n",
       "    <tr>\n",
       "      <th>1</th>\n",
       "      <td>21</td>\n",
       "      <td>Aix en Provence</td>\n",
       "      <td>43.529842</td>\n",
       "      <td>5.447474</td>\n",
       "      <td>55.088571</td>\n",
       "      <td>2</td>\n",
       "      <td>23.09</td>\n",
       "      <td>0.0</td>\n",
       "      <td>40</td>\n",
       "    </tr>\n",
       "    <tr>\n",
       "      <th>2</th>\n",
       "      <td>21</td>\n",
       "      <td>Aix en Provence</td>\n",
       "      <td>43.529842</td>\n",
       "      <td>5.447474</td>\n",
       "      <td>55.088571</td>\n",
       "      <td>3</td>\n",
       "      <td>18.47</td>\n",
       "      <td>0.0</td>\n",
       "      <td>42</td>\n",
       "    </tr>\n",
       "    <tr>\n",
       "      <th>3</th>\n",
       "      <td>21</td>\n",
       "      <td>Aix en Provence</td>\n",
       "      <td>43.529842</td>\n",
       "      <td>5.447474</td>\n",
       "      <td>55.088571</td>\n",
       "      <td>4</td>\n",
       "      <td>17.98</td>\n",
       "      <td>0.0</td>\n",
       "      <td>41</td>\n",
       "    </tr>\n",
       "    <tr>\n",
       "      <th>4</th>\n",
       "      <td>21</td>\n",
       "      <td>Aix en Provence</td>\n",
       "      <td>43.529842</td>\n",
       "      <td>5.447474</td>\n",
       "      <td>55.088571</td>\n",
       "      <td>5</td>\n",
       "      <td>17.03</td>\n",
       "      <td>0.0</td>\n",
       "      <td>51</td>\n",
       "    </tr>\n",
       "    <tr>\n",
       "      <th>5</th>\n",
       "      <td>21</td>\n",
       "      <td>Aix en Provence</td>\n",
       "      <td>43.529842</td>\n",
       "      <td>5.447474</td>\n",
       "      <td>55.088571</td>\n",
       "      <td>6</td>\n",
       "      <td>15.07</td>\n",
       "      <td>8.0</td>\n",
       "      <td>52</td>\n",
       "    </tr>\n",
       "    <tr>\n",
       "      <th>6</th>\n",
       "      <td>21</td>\n",
       "      <td>Aix en Provence</td>\n",
       "      <td>43.529842</td>\n",
       "      <td>5.447474</td>\n",
       "      <td>55.088571</td>\n",
       "      <td>7</td>\n",
       "      <td>17.43</td>\n",
       "      <td>2.0</td>\n",
       "      <td>34</td>\n",
       "    </tr>\n",
       "    <tr>\n",
       "      <th>7</th>\n",
       "      <td>24</td>\n",
       "      <td>Nimes</td>\n",
       "      <td>43.837425</td>\n",
       "      <td>4.360069</td>\n",
       "      <td>60.705714</td>\n",
       "      <td>1</td>\n",
       "      <td>23.66</td>\n",
       "      <td>2.0</td>\n",
       "      <td>39</td>\n",
       "    </tr>\n",
       "    <tr>\n",
       "      <th>8</th>\n",
       "      <td>24</td>\n",
       "      <td>Nimes</td>\n",
       "      <td>43.837425</td>\n",
       "      <td>4.360069</td>\n",
       "      <td>60.705714</td>\n",
       "      <td>2</td>\n",
       "      <td>22.79</td>\n",
       "      <td>0.0</td>\n",
       "      <td>33</td>\n",
       "    </tr>\n",
       "    <tr>\n",
       "      <th>9</th>\n",
       "      <td>24</td>\n",
       "      <td>Nimes</td>\n",
       "      <td>43.837425</td>\n",
       "      <td>4.360069</td>\n",
       "      <td>60.705714</td>\n",
       "      <td>3</td>\n",
       "      <td>19.51</td>\n",
       "      <td>0.0</td>\n",
       "      <td>39</td>\n",
       "    </tr>\n",
       "    <tr>\n",
       "      <th>10</th>\n",
       "      <td>24</td>\n",
       "      <td>Nimes</td>\n",
       "      <td>43.837425</td>\n",
       "      <td>4.360069</td>\n",
       "      <td>60.705714</td>\n",
       "      <td>4</td>\n",
       "      <td>19.99</td>\n",
       "      <td>0.0</td>\n",
       "      <td>39</td>\n",
       "    </tr>\n",
       "    <tr>\n",
       "      <th>11</th>\n",
       "      <td>24</td>\n",
       "      <td>Nimes</td>\n",
       "      <td>43.837425</td>\n",
       "      <td>4.360069</td>\n",
       "      <td>60.705714</td>\n",
       "      <td>5</td>\n",
       "      <td>20.84</td>\n",
       "      <td>2.0</td>\n",
       "      <td>29</td>\n",
       "    </tr>\n",
       "    <tr>\n",
       "      <th>12</th>\n",
       "      <td>24</td>\n",
       "      <td>Nimes</td>\n",
       "      <td>43.837425</td>\n",
       "      <td>4.360069</td>\n",
       "      <td>60.705714</td>\n",
       "      <td>6</td>\n",
       "      <td>15.99</td>\n",
       "      <td>47.0</td>\n",
       "      <td>59</td>\n",
       "    </tr>\n",
       "    <tr>\n",
       "      <th>13</th>\n",
       "      <td>24</td>\n",
       "      <td>Nimes</td>\n",
       "      <td>43.837425</td>\n",
       "      <td>4.360069</td>\n",
       "      <td>60.705714</td>\n",
       "      <td>7</td>\n",
       "      <td>18.00</td>\n",
       "      <td>29.0</td>\n",
       "      <td>35</td>\n",
       "    </tr>\n",
       "    <tr>\n",
       "      <th>14</th>\n",
       "      <td>23</td>\n",
       "      <td>Uzes</td>\n",
       "      <td>44.012128</td>\n",
       "      <td>4.419672</td>\n",
       "      <td>64.500000</td>\n",
       "      <td>1</td>\n",
       "      <td>22.67</td>\n",
       "      <td>1.0</td>\n",
       "      <td>41</td>\n",
       "    </tr>\n",
       "    <tr>\n",
       "      <th>15</th>\n",
       "      <td>23</td>\n",
       "      <td>Uzes</td>\n",
       "      <td>44.012128</td>\n",
       "      <td>4.419672</td>\n",
       "      <td>64.500000</td>\n",
       "      <td>2</td>\n",
       "      <td>21.33</td>\n",
       "      <td>0.0</td>\n",
       "      <td>36</td>\n",
       "    </tr>\n",
       "    <tr>\n",
       "      <th>16</th>\n",
       "      <td>23</td>\n",
       "      <td>Uzes</td>\n",
       "      <td>44.012128</td>\n",
       "      <td>4.419672</td>\n",
       "      <td>64.500000</td>\n",
       "      <td>3</td>\n",
       "      <td>19.44</td>\n",
       "      <td>0.0</td>\n",
       "      <td>38</td>\n",
       "    </tr>\n",
       "    <tr>\n",
       "      <th>17</th>\n",
       "      <td>23</td>\n",
       "      <td>Uzes</td>\n",
       "      <td>44.012128</td>\n",
       "      <td>4.419672</td>\n",
       "      <td>64.500000</td>\n",
       "      <td>4</td>\n",
       "      <td>19.93</td>\n",
       "      <td>0.0</td>\n",
       "      <td>36</td>\n",
       "    </tr>\n",
       "    <tr>\n",
       "      <th>18</th>\n",
       "      <td>23</td>\n",
       "      <td>Uzes</td>\n",
       "      <td>44.012128</td>\n",
       "      <td>4.419672</td>\n",
       "      <td>64.500000</td>\n",
       "      <td>5</td>\n",
       "      <td>20.05</td>\n",
       "      <td>1.0</td>\n",
       "      <td>32</td>\n",
       "    </tr>\n",
       "    <tr>\n",
       "      <th>19</th>\n",
       "      <td>23</td>\n",
       "      <td>Uzes</td>\n",
       "      <td>44.012128</td>\n",
       "      <td>4.419672</td>\n",
       "      <td>64.500000</td>\n",
       "      <td>6</td>\n",
       "      <td>15.76</td>\n",
       "      <td>57.0</td>\n",
       "      <td>62</td>\n",
       "    </tr>\n",
       "    <tr>\n",
       "      <th>20</th>\n",
       "      <td>23</td>\n",
       "      <td>Uzes</td>\n",
       "      <td>44.012128</td>\n",
       "      <td>4.419672</td>\n",
       "      <td>64.500000</td>\n",
       "      <td>7</td>\n",
       "      <td>18.07</td>\n",
       "      <td>38.0</td>\n",
       "      <td>33</td>\n",
       "    </tr>\n",
       "  </tbody>\n",
       "</table>\n",
       "</div>"
      ],
      "text/plain": [
       "    id             city        lat       lon  score_weather  day_plus  \\\n",
       "0   21  Aix en Provence  43.529842  5.447474      55.088571         1   \n",
       "1   21  Aix en Provence  43.529842  5.447474      55.088571         2   \n",
       "2   21  Aix en Provence  43.529842  5.447474      55.088571         3   \n",
       "3   21  Aix en Provence  43.529842  5.447474      55.088571         4   \n",
       "4   21  Aix en Provence  43.529842  5.447474      55.088571         5   \n",
       "5   21  Aix en Provence  43.529842  5.447474      55.088571         6   \n",
       "6   21  Aix en Provence  43.529842  5.447474      55.088571         7   \n",
       "7   24            Nimes  43.837425  4.360069      60.705714         1   \n",
       "8   24            Nimes  43.837425  4.360069      60.705714         2   \n",
       "9   24            Nimes  43.837425  4.360069      60.705714         3   \n",
       "10  24            Nimes  43.837425  4.360069      60.705714         4   \n",
       "11  24            Nimes  43.837425  4.360069      60.705714         5   \n",
       "12  24            Nimes  43.837425  4.360069      60.705714         6   \n",
       "13  24            Nimes  43.837425  4.360069      60.705714         7   \n",
       "14  23             Uzes  44.012128  4.419672      64.500000         1   \n",
       "15  23             Uzes  44.012128  4.419672      64.500000         2   \n",
       "16  23             Uzes  44.012128  4.419672      64.500000         3   \n",
       "17  23             Uzes  44.012128  4.419672      64.500000         4   \n",
       "18  23             Uzes  44.012128  4.419672      64.500000         5   \n",
       "19  23             Uzes  44.012128  4.419672      64.500000         6   \n",
       "20  23             Uzes  44.012128  4.419672      64.500000         7   \n",
       "\n",
       "    felt_temperature  rain_chances  humidity  \n",
       "0              21.87           1.0        33  \n",
       "1              23.09           0.0        40  \n",
       "2              18.47           0.0        42  \n",
       "3              17.98           0.0        41  \n",
       "4              17.03           0.0        51  \n",
       "5              15.07           8.0        52  \n",
       "6              17.43           2.0        34  \n",
       "7              23.66           2.0        39  \n",
       "8              22.79           0.0        33  \n",
       "9              19.51           0.0        39  \n",
       "10             19.99           0.0        39  \n",
       "11             20.84           2.0        29  \n",
       "12             15.99          47.0        59  \n",
       "13             18.00          29.0        35  \n",
       "14             22.67           1.0        41  \n",
       "15             21.33           0.0        36  \n",
       "16             19.44           0.0        38  \n",
       "17             19.93           0.0        36  \n",
       "18             20.05           1.0        32  \n",
       "19             15.76          57.0        62  \n",
       "20             18.07          38.0        33  "
      ]
     },
     "execution_count": 97,
     "metadata": {},
     "output_type": "execute_result"
    }
   ],
   "source": [
    "# Testing the data with a query\n",
    "query = text(\"SELECT * FROM weather LIMIT 21\")\n",
    "pd.read_sql(query, engine)"
   ]
  },
  {
   "cell_type": "code",
   "execution_count": 98,
   "metadata": {},
   "outputs": [
    {
     "name": "stdout",
     "output_type": "stream",
     "text": [
      "2022-04-19 00:36:31,769 INFO sqlalchemy.engine.Engine select relname from pg_class c join pg_namespace n on n.oid=c.relnamespace where pg_catalog.pg_table_is_visible(c.oid) and relname=%(name)s\n",
      "2022-04-19 00:36:31,770 INFO sqlalchemy.engine.Engine [cached since 323.2s ago] {'name': 'SELECT * FROM hotels LIMIT 40'}\n",
      "2022-04-19 00:36:31,801 INFO sqlalchemy.engine.Engine SELECT * FROM hotels LIMIT 40\n",
      "2022-04-19 00:36:31,802 INFO sqlalchemy.engine.Engine [generated in 0.00068s] {}\n"
     ]
    },
    {
     "data": {
      "text/html": [
       "<div>\n",
       "<style scoped>\n",
       "    .dataframe tbody tr th:only-of-type {\n",
       "        vertical-align: middle;\n",
       "    }\n",
       "\n",
       "    .dataframe tbody tr th {\n",
       "        vertical-align: top;\n",
       "    }\n",
       "\n",
       "    .dataframe thead th {\n",
       "        text-align: right;\n",
       "    }\n",
       "</style>\n",
       "<table border=\"1\" class=\"dataframe\">\n",
       "  <thead>\n",
       "    <tr style=\"text-align: right;\">\n",
       "      <th></th>\n",
       "      <th>id</th>\n",
       "      <th>city</th>\n",
       "      <th>score_weather</th>\n",
       "      <th>name</th>\n",
       "      <th>url</th>\n",
       "      <th>lat_hotels</th>\n",
       "      <th>lon_hotels</th>\n",
       "      <th>description</th>\n",
       "      <th>score</th>\n",
       "    </tr>\n",
       "  </thead>\n",
       "  <tbody>\n",
       "    <tr>\n",
       "      <th>0</th>\n",
       "      <td>21</td>\n",
       "      <td>Aix en Provence</td>\n",
       "      <td>55.088571</td>\n",
       "      <td>TheCamp Hotel&amp;Lodges - Aix en Provence</td>\n",
       "      <td>https://www.booking.com/hotel/fr/thecamp-amp-l...</td>\n",
       "      <td>43.496316</td>\n",
       "      <td>5.342152</td>\n",
       "      <td>Vous pouvez bénéficier d'une réduction Genius ...</td>\n",
       "      <td>8.5</td>\n",
       "    </tr>\n",
       "    <tr>\n",
       "      <th>1</th>\n",
       "      <td>21</td>\n",
       "      <td>Aix en Provence</td>\n",
       "      <td>55.088571</td>\n",
       "      <td>Odalys City Aix en Provence L'Atrium</td>\n",
       "      <td>https://www.booking.com/hotel/fr/atrium-d-anai...</td>\n",
       "      <td>43.524091</td>\n",
       "      <td>5.455216</td>\n",
       "      <td>Vous pouvez bénéficier d'une réduction Genius ...</td>\n",
       "      <td>7.4</td>\n",
       "    </tr>\n",
       "    <tr>\n",
       "      <th>2</th>\n",
       "      <td>21</td>\n",
       "      <td>Aix en Provence</td>\n",
       "      <td>55.088571</td>\n",
       "      <td>Nice apartment for 4 people in the center of A...</td>\n",
       "      <td>https://www.booking.com/hotel/fr/nice-apartmen...</td>\n",
       "      <td>43.518571</td>\n",
       "      <td>5.458349</td>\n",
       "      <td>Situé à Aix-en-Provence, à proximité du cours ...</td>\n",
       "      <td>0.0</td>\n",
       "    </tr>\n",
       "    <tr>\n",
       "      <th>3</th>\n",
       "      <td>21</td>\n",
       "      <td>Aix en Provence</td>\n",
       "      <td>55.088571</td>\n",
       "      <td>Furnished apartment with terrace in the center...</td>\n",
       "      <td>https://www.booking.com/hotel/fr/furnished-apa...</td>\n",
       "      <td>43.526627</td>\n",
       "      <td>5.446262</td>\n",
       "      <td>Situé dans le centre historique d'Aix-en-Prove...</td>\n",
       "      <td>0.0</td>\n",
       "    </tr>\n",
       "    <tr>\n",
       "      <th>4</th>\n",
       "      <td>21</td>\n",
       "      <td>Aix en Provence</td>\n",
       "      <td>55.088571</td>\n",
       "      <td>Séjours &amp; Affaires Aix-en-Provence Mirabeau</td>\n",
       "      <td>https://www.booking.com/hotel/fr/residence-mir...</td>\n",
       "      <td>43.525241</td>\n",
       "      <td>5.441266</td>\n",
       "      <td>Vous pouvez bénéficier d'une réduction Genius ...</td>\n",
       "      <td>8.2</td>\n",
       "    </tr>\n",
       "    <tr>\n",
       "      <th>5</th>\n",
       "      <td>21</td>\n",
       "      <td>Aix en Provence</td>\n",
       "      <td>55.088571</td>\n",
       "      <td>Campanile Aix-en-Provence Sud - Pont de l'Arc</td>\n",
       "      <td>https://www.booking.com/hotel/fr/campanile-aix...</td>\n",
       "      <td>43.511916</td>\n",
       "      <td>5.436654</td>\n",
       "      <td>Installé à Aix-en-Provence, à 3 km du centre h...</td>\n",
       "      <td>7.4</td>\n",
       "    </tr>\n",
       "    <tr>\n",
       "      <th>6</th>\n",
       "      <td>21</td>\n",
       "      <td>Aix en Provence</td>\n",
       "      <td>55.088571</td>\n",
       "      <td>Furnished apartment in the heart of the city c...</td>\n",
       "      <td>https://www.booking.com/hotel/fr/furnished-apa...</td>\n",
       "      <td>43.530170</td>\n",
       "      <td>5.447350</td>\n",
       "      <td>Doté d'une connexion Wi-Fi gratuite et offrant...</td>\n",
       "      <td>0.0</td>\n",
       "    </tr>\n",
       "    <tr>\n",
       "      <th>7</th>\n",
       "      <td>21</td>\n",
       "      <td>Aix en Provence</td>\n",
       "      <td>55.088571</td>\n",
       "      <td>ibis budget Aix en Provence</td>\n",
       "      <td>https://www.booking.com/hotel/fr/etap-aix-en-p...</td>\n",
       "      <td>43.494530</td>\n",
       "      <td>5.368881</td>\n",
       "      <td>L'ibis budget Aix en Provence est situé en pér...</td>\n",
       "      <td>7.7</td>\n",
       "    </tr>\n",
       "    <tr>\n",
       "      <th>8</th>\n",
       "      <td>21</td>\n",
       "      <td>Aix en Provence</td>\n",
       "      <td>55.088571</td>\n",
       "      <td>Joli T2 avec parking à deux pas du centre vill...</td>\n",
       "      <td>https://www.booking.com/hotel/fr/joli-t2-avec-...</td>\n",
       "      <td>43.530129</td>\n",
       "      <td>5.458953</td>\n",
       "      <td>Doté d'une terrasse, le Joli T2 avec parking à...</td>\n",
       "      <td>0.0</td>\n",
       "    </tr>\n",
       "    <tr>\n",
       "      <th>9</th>\n",
       "      <td>21</td>\n",
       "      <td>Aix en Provence</td>\n",
       "      <td>55.088571</td>\n",
       "      <td>Furnished apartment in the heart of the city n...</td>\n",
       "      <td>https://www.booking.com/hotel/fr/furnished-apa...</td>\n",
       "      <td>43.531277</td>\n",
       "      <td>5.449440</td>\n",
       "      <td>Situé dans le centre d'Aix-en-Provence, à seul...</td>\n",
       "      <td>0.0</td>\n",
       "    </tr>\n",
       "    <tr>\n",
       "      <th>10</th>\n",
       "      <td>21</td>\n",
       "      <td>Aix en Provence</td>\n",
       "      <td>55.088571</td>\n",
       "      <td>L'Appartement Mathilde</td>\n",
       "      <td>https://www.booking.com/hotel/fr/appartement-m...</td>\n",
       "      <td>43.530952</td>\n",
       "      <td>5.446678</td>\n",
       "      <td>Les Appartements Clarisse et Mathilde sont des...</td>\n",
       "      <td>9.1</td>\n",
       "    </tr>\n",
       "    <tr>\n",
       "      <th>11</th>\n",
       "      <td>21</td>\n",
       "      <td>Aix en Provence</td>\n",
       "      <td>55.088571</td>\n",
       "      <td>Le Concorde</td>\n",
       "      <td>https://www.booking.com/hotel/fr/le-concorde-s...</td>\n",
       "      <td>43.524612</td>\n",
       "      <td>5.453754</td>\n",
       "      <td>Le Concorde est idéalement situé dans le centr...</td>\n",
       "      <td>8.0</td>\n",
       "    </tr>\n",
       "    <tr>\n",
       "      <th>12</th>\n",
       "      <td>21</td>\n",
       "      <td>Aix en Provence</td>\n",
       "      <td>55.088571</td>\n",
       "      <td>Air-conditioned apartment with a small furnish...</td>\n",
       "      <td>https://www.booking.com/hotel/fr/air-condition...</td>\n",
       "      <td>43.529128</td>\n",
       "      <td>5.445380</td>\n",
       "      <td>Situé dans le centre-ville d'Aix-en-Provence, ...</td>\n",
       "      <td>0.0</td>\n",
       "    </tr>\n",
       "    <tr>\n",
       "      <th>13</th>\n",
       "      <td>21</td>\n",
       "      <td>Aix en Provence</td>\n",
       "      <td>55.088571</td>\n",
       "      <td>Triplex apartment with furnished rooftop terra...</td>\n",
       "      <td>https://www.booking.com/hotel/fr/triplex-apart...</td>\n",
       "      <td>43.530079</td>\n",
       "      <td>5.449492</td>\n",
       "      <td>Le Triplex apartment with furnished rooftop te...</td>\n",
       "      <td>0.0</td>\n",
       "    </tr>\n",
       "    <tr>\n",
       "      <th>14</th>\n",
       "      <td>21</td>\n",
       "      <td>Aix en Provence</td>\n",
       "      <td>55.088571</td>\n",
       "      <td>Private apartment with furnished terrace garde...</td>\n",
       "      <td>https://www.booking.com/hotel/fr/private-apart...</td>\n",
       "      <td>43.519135</td>\n",
       "      <td>5.454833</td>\n",
       "      <td>Situé à Aix-en-Provence, à 1,5 km de la cathéd...</td>\n",
       "      <td>0.0</td>\n",
       "    </tr>\n",
       "    <tr>\n",
       "      <th>15</th>\n",
       "      <td>21</td>\n",
       "      <td>Aix en Provence</td>\n",
       "      <td>55.088571</td>\n",
       "      <td>La Farigoule</td>\n",
       "      <td>https://www.booking.com/hotel/fr/la-farigoule-...</td>\n",
       "      <td>43.531148</td>\n",
       "      <td>5.474076</td>\n",
       "      <td>Situé à Aix-en-Provence, en Provence-Alpes-Côt...</td>\n",
       "      <td>9.2</td>\n",
       "    </tr>\n",
       "    <tr>\n",
       "      <th>16</th>\n",
       "      <td>21</td>\n",
       "      <td>Aix en Provence</td>\n",
       "      <td>55.088571</td>\n",
       "      <td>ibis Aix en Provence</td>\n",
       "      <td>https://www.booking.com/hotel/fr/hatel-ibis-ai...</td>\n",
       "      <td>43.511387</td>\n",
       "      <td>5.464824</td>\n",
       "      <td>L'Hotel Ibis Aix en Provence est situé dans un...</td>\n",
       "      <td>7.8</td>\n",
       "    </tr>\n",
       "    <tr>\n",
       "      <th>17</th>\n",
       "      <td>21</td>\n",
       "      <td>Aix en Provence</td>\n",
       "      <td>55.088571</td>\n",
       "      <td>B&amp;B Hôtel Aix-en-Provence Pont de l'Arc</td>\n",
       "      <td>https://www.booking.com/hotel/fr/b-amp-b-aix-e...</td>\n",
       "      <td>43.511171</td>\n",
       "      <td>5.444680</td>\n",
       "      <td>Doté d'une connexion Wi-Fi gratuite, le B&amp;B Hô...</td>\n",
       "      <td>7.1</td>\n",
       "    </tr>\n",
       "    <tr>\n",
       "      <th>18</th>\n",
       "      <td>21</td>\n",
       "      <td>Aix en Provence</td>\n",
       "      <td>55.088571</td>\n",
       "      <td>Villa Zola</td>\n",
       "      <td>https://www.booking.com/hotel/fr/villa-zola-ai...</td>\n",
       "      <td>43.531686</td>\n",
       "      <td>5.451641</td>\n",
       "      <td>La Villa Zola est située à Aix-en-Provence, à ...</td>\n",
       "      <td>8.9</td>\n",
       "    </tr>\n",
       "    <tr>\n",
       "      <th>19</th>\n",
       "      <td>21</td>\n",
       "      <td>Aix en Provence</td>\n",
       "      <td>55.088571</td>\n",
       "      <td>Comfortable apartment for 4 in Aix-en-Provence</td>\n",
       "      <td>https://www.booking.com/hotel/fr/comfortable-a...</td>\n",
       "      <td>43.526037</td>\n",
       "      <td>5.408456</td>\n",
       "      <td>Situé à Aix-en-Provence, à 3,2 km de la cathéd...</td>\n",
       "      <td>0.0</td>\n",
       "    </tr>\n",
       "    <tr>\n",
       "      <th>20</th>\n",
       "      <td>24</td>\n",
       "      <td>Nimes</td>\n",
       "      <td>60.705714</td>\n",
       "      <td>Royal Hôtel</td>\n",
       "      <td>https://www.booking.com/hotel/fr/royal.fr.html...</td>\n",
       "      <td>43.838815</td>\n",
       "      <td>4.354818</td>\n",
       "      <td>Vous pouvez bénéficier d'une réduction Genius ...</td>\n",
       "      <td>8.2</td>\n",
       "    </tr>\n",
       "    <tr>\n",
       "      <th>21</th>\n",
       "      <td>24</td>\n",
       "      <td>Nimes</td>\n",
       "      <td>60.705714</td>\n",
       "      <td>ibis budget Nimes Centre Gare</td>\n",
       "      <td>https://www.booking.com/hotel/fr/ibis-budget-n...</td>\n",
       "      <td>43.832056</td>\n",
       "      <td>4.367364</td>\n",
       "      <td>Situé à seulement 50 mètres de la gare de Nîme...</td>\n",
       "      <td>8.0</td>\n",
       "    </tr>\n",
       "    <tr>\n",
       "      <th>22</th>\n",
       "      <td>24</td>\n",
       "      <td>Nimes</td>\n",
       "      <td>60.705714</td>\n",
       "      <td>Loft ravissant proche du centre-ville</td>\n",
       "      <td>https://www.booking.com/hotel/fr/loft-ravissan...</td>\n",
       "      <td>43.851472</td>\n",
       "      <td>4.360889</td>\n",
       "      <td>Situé à Nîmes, à 3,7 km du parc des exposition...</td>\n",
       "      <td>9.5</td>\n",
       "    </tr>\n",
       "    <tr>\n",
       "      <th>23</th>\n",
       "      <td>24</td>\n",
       "      <td>Nimes</td>\n",
       "      <td>60.705714</td>\n",
       "      <td>B&amp;B Hôtel Nîmes Centre Arènes</td>\n",
       "      <td>https://www.booking.com/hotel/fr/b-amp-b-nimes...</td>\n",
       "      <td>43.828161</td>\n",
       "      <td>4.354790</td>\n",
       "      <td>Situé à Nîmes, à 950 mètres des arènes, le B&amp;B...</td>\n",
       "      <td>7.4</td>\n",
       "    </tr>\n",
       "    <tr>\n",
       "      <th>24</th>\n",
       "      <td>24</td>\n",
       "      <td>Nimes</td>\n",
       "      <td>60.705714</td>\n",
       "      <td>Best Western L'Orangerie</td>\n",
       "      <td>https://www.booking.com/hotel/fr/bestwestern-l...</td>\n",
       "      <td>43.824766</td>\n",
       "      <td>4.369046</td>\n",
       "      <td>Occupant un bâtiment de style XIXe siècle, le ...</td>\n",
       "      <td>7.9</td>\n",
       "    </tr>\n",
       "    <tr>\n",
       "      <th>25</th>\n",
       "      <td>24</td>\n",
       "      <td>Nimes</td>\n",
       "      <td>60.705714</td>\n",
       "      <td>La Balade Nîmoise Center Car Park AC</td>\n",
       "      <td>https://www.booking.com/hotel/fr/la-balade-nim...</td>\n",
       "      <td>43.840143</td>\n",
       "      <td>4.358335</td>\n",
       "      <td>Situé dans le centre de Nîmes, à 2,5 km du par...</td>\n",
       "      <td>8.8</td>\n",
       "    </tr>\n",
       "    <tr>\n",
       "      <th>26</th>\n",
       "      <td>24</td>\n",
       "      <td>Nimes</td>\n",
       "      <td>60.705714</td>\n",
       "      <td>ibis Nîmes Ouest - A9</td>\n",
       "      <td>https://www.booking.com/hotel/fr/ibis-na-r-mes...</td>\n",
       "      <td>43.813891</td>\n",
       "      <td>4.344342</td>\n",
       "      <td>Situé à côté de la sortie 25 sur l’autoroute A...</td>\n",
       "      <td>7.8</td>\n",
       "    </tr>\n",
       "    <tr>\n",
       "      <th>27</th>\n",
       "      <td>24</td>\n",
       "      <td>Nimes</td>\n",
       "      <td>60.705714</td>\n",
       "      <td>ibis Styles Nimes Gare Centre</td>\n",
       "      <td>https://www.booking.com/hotel/fr/ibis-styles-n...</td>\n",
       "      <td>43.831758</td>\n",
       "      <td>4.366974</td>\n",
       "      <td>Situé en face de la gare de Nîmes, cet hôtel p...</td>\n",
       "      <td>8.3</td>\n",
       "    </tr>\n",
       "    <tr>\n",
       "      <th>28</th>\n",
       "      <td>24</td>\n",
       "      <td>Nimes</td>\n",
       "      <td>60.705714</td>\n",
       "      <td>Odalys City Nîmes Le Cheval Blanc</td>\n",
       "      <td>https://www.booking.com/hotel/fr/le-cheval-bla...</td>\n",
       "      <td>43.834238</td>\n",
       "      <td>4.360790</td>\n",
       "      <td>Vous pouvez bénéficier d'une réduction Genius ...</td>\n",
       "      <td>7.9</td>\n",
       "    </tr>\n",
       "    <tr>\n",
       "      <th>29</th>\n",
       "      <td>24</td>\n",
       "      <td>Nimes</td>\n",
       "      <td>60.705714</td>\n",
       "      <td>Kyriad Nîmes Ouest A9</td>\n",
       "      <td>https://www.booking.com/hotel/fr/kyriad-na-r-m...</td>\n",
       "      <td>43.814707</td>\n",
       "      <td>4.344833</td>\n",
       "      <td>Idéalement situé à 10 minutes en voiture du ce...</td>\n",
       "      <td>7.8</td>\n",
       "    </tr>\n",
       "    <tr>\n",
       "      <th>30</th>\n",
       "      <td>24</td>\n",
       "      <td>Nimes</td>\n",
       "      <td>60.705714</td>\n",
       "      <td>Appart'City Confort Nimes Arenes</td>\n",
       "      <td>https://www.booking.com/hotel/fr/appart-39-cit...</td>\n",
       "      <td>43.833874</td>\n",
       "      <td>4.361434</td>\n",
       "      <td>L'Appart'City Confort Nîmes Arenes est situé d...</td>\n",
       "      <td>8.8</td>\n",
       "    </tr>\n",
       "    <tr>\n",
       "      <th>31</th>\n",
       "      <td>24</td>\n",
       "      <td>Nimes</td>\n",
       "      <td>60.705714</td>\n",
       "      <td>Kyriad Nimes Centre</td>\n",
       "      <td>https://www.booking.com/hotel/fr/kyriadnimesce...</td>\n",
       "      <td>43.837760</td>\n",
       "      <td>4.363872</td>\n",
       "      <td>L'hôtel Kyriad Nimes Centre est situé au cœur ...</td>\n",
       "      <td>6.9</td>\n",
       "    </tr>\n",
       "    <tr>\n",
       "      <th>32</th>\n",
       "      <td>24</td>\n",
       "      <td>Nimes</td>\n",
       "      <td>60.705714</td>\n",
       "      <td>Hotel Majestic</td>\n",
       "      <td>https://www.booking.com/hotel/fr/majestic-nime...</td>\n",
       "      <td>43.834363</td>\n",
       "      <td>4.365337</td>\n",
       "      <td>Rénové en 2019, l'Hotel Majestic est situé à N...</td>\n",
       "      <td>8.6</td>\n",
       "    </tr>\n",
       "    <tr>\n",
       "      <th>33</th>\n",
       "      <td>24</td>\n",
       "      <td>Nimes</td>\n",
       "      <td>60.705714</td>\n",
       "      <td>Campanile Nîmes Centre Mas-Carbonnel</td>\n",
       "      <td>https://www.booking.com/hotel/fr/campanile-nim...</td>\n",
       "      <td>43.822731</td>\n",
       "      <td>4.364126</td>\n",
       "      <td>Doté d'une connexion Wi-Fi gratuite, le Campan...</td>\n",
       "      <td>7.0</td>\n",
       "    </tr>\n",
       "    <tr>\n",
       "      <th>34</th>\n",
       "      <td>24</td>\n",
       "      <td>Nimes</td>\n",
       "      <td>60.705714</td>\n",
       "      <td>Novotel Atria Nimes Centre</td>\n",
       "      <td>https://www.booking.com/hotel/fr/atria-nimes-c...</td>\n",
       "      <td>43.835421</td>\n",
       "      <td>4.363404</td>\n",
       "      <td>Le Novotel Atria Nîmes Centre vous accueille d...</td>\n",
       "      <td>7.9</td>\n",
       "    </tr>\n",
       "    <tr>\n",
       "      <th>35</th>\n",
       "      <td>24</td>\n",
       "      <td>Nimes</td>\n",
       "      <td>60.705714</td>\n",
       "      <td>Chez Pepito et Chez Zaza Rooftop</td>\n",
       "      <td>https://www.booking.com/hotel/fr/chez-pepito.f...</td>\n",
       "      <td>43.841024</td>\n",
       "      <td>4.359022</td>\n",
       "      <td>Doté d'une terrasse et offrant une vue sur la ...</td>\n",
       "      <td>8.6</td>\n",
       "    </tr>\n",
       "    <tr>\n",
       "      <th>36</th>\n",
       "      <td>23</td>\n",
       "      <td>Uzes</td>\n",
       "      <td>64.500000</td>\n",
       "      <td>Appartement dans Hotel de Flaux</td>\n",
       "      <td>https://www.booking.com/hotel/fr/appartement-d...</td>\n",
       "      <td>44.012020</td>\n",
       "      <td>4.419434</td>\n",
       "      <td>Vous pouvez bénéficier d'une réduction Genius ...</td>\n",
       "      <td>9.5</td>\n",
       "    </tr>\n",
       "    <tr>\n",
       "      <th>37</th>\n",
       "      <td>24</td>\n",
       "      <td>Nimes</td>\n",
       "      <td>60.705714</td>\n",
       "      <td>Best Western Marquis de la Baume</td>\n",
       "      <td>https://www.booking.com/hotel/fr/ha-tel-la-bau...</td>\n",
       "      <td>43.839595</td>\n",
       "      <td>4.361084</td>\n",
       "      <td>Situé dans le centre de la ville historique de...</td>\n",
       "      <td>7.9</td>\n",
       "    </tr>\n",
       "    <tr>\n",
       "      <th>38</th>\n",
       "      <td>24</td>\n",
       "      <td>Nimes</td>\n",
       "      <td>60.705714</td>\n",
       "      <td>Appart charme Arenes Nimes</td>\n",
       "      <td>https://www.booking.com/hotel/fr/appart-charme...</td>\n",
       "      <td>43.831676</td>\n",
       "      <td>4.360203</td>\n",
       "      <td>Doté d'une connexion Wi-Fi gratuite et offrant...</td>\n",
       "      <td>9.4</td>\n",
       "    </tr>\n",
       "    <tr>\n",
       "      <th>39</th>\n",
       "      <td>24</td>\n",
       "      <td>Nimes</td>\n",
       "      <td>60.705714</td>\n",
       "      <td>Appartement Spacieux de Grand Standing</td>\n",
       "      <td>https://www.booking.com/hotel/fr/appartement-s...</td>\n",
       "      <td>43.838834</td>\n",
       "      <td>4.369919</td>\n",
       "      <td>Cet établissement est à 1 minute à pied de la ...</td>\n",
       "      <td>9.6</td>\n",
       "    </tr>\n",
       "  </tbody>\n",
       "</table>\n",
       "</div>"
      ],
      "text/plain": [
       "    id             city  score_weather  \\\n",
       "0   21  Aix en Provence      55.088571   \n",
       "1   21  Aix en Provence      55.088571   \n",
       "2   21  Aix en Provence      55.088571   \n",
       "3   21  Aix en Provence      55.088571   \n",
       "4   21  Aix en Provence      55.088571   \n",
       "5   21  Aix en Provence      55.088571   \n",
       "6   21  Aix en Provence      55.088571   \n",
       "7   21  Aix en Provence      55.088571   \n",
       "8   21  Aix en Provence      55.088571   \n",
       "9   21  Aix en Provence      55.088571   \n",
       "10  21  Aix en Provence      55.088571   \n",
       "11  21  Aix en Provence      55.088571   \n",
       "12  21  Aix en Provence      55.088571   \n",
       "13  21  Aix en Provence      55.088571   \n",
       "14  21  Aix en Provence      55.088571   \n",
       "15  21  Aix en Provence      55.088571   \n",
       "16  21  Aix en Provence      55.088571   \n",
       "17  21  Aix en Provence      55.088571   \n",
       "18  21  Aix en Provence      55.088571   \n",
       "19  21  Aix en Provence      55.088571   \n",
       "20  24            Nimes      60.705714   \n",
       "21  24            Nimes      60.705714   \n",
       "22  24            Nimes      60.705714   \n",
       "23  24            Nimes      60.705714   \n",
       "24  24            Nimes      60.705714   \n",
       "25  24            Nimes      60.705714   \n",
       "26  24            Nimes      60.705714   \n",
       "27  24            Nimes      60.705714   \n",
       "28  24            Nimes      60.705714   \n",
       "29  24            Nimes      60.705714   \n",
       "30  24            Nimes      60.705714   \n",
       "31  24            Nimes      60.705714   \n",
       "32  24            Nimes      60.705714   \n",
       "33  24            Nimes      60.705714   \n",
       "34  24            Nimes      60.705714   \n",
       "35  24            Nimes      60.705714   \n",
       "36  23             Uzes      64.500000   \n",
       "37  24            Nimes      60.705714   \n",
       "38  24            Nimes      60.705714   \n",
       "39  24            Nimes      60.705714   \n",
       "\n",
       "                                                 name  \\\n",
       "0              TheCamp Hotel&Lodges - Aix en Provence   \n",
       "1                Odalys City Aix en Provence L'Atrium   \n",
       "2   Nice apartment for 4 people in the center of A...   \n",
       "3   Furnished apartment with terrace in the center...   \n",
       "4         Séjours & Affaires Aix-en-Provence Mirabeau   \n",
       "5       Campanile Aix-en-Provence Sud - Pont de l'Arc   \n",
       "6   Furnished apartment in the heart of the city c...   \n",
       "7                         ibis budget Aix en Provence   \n",
       "8   Joli T2 avec parking à deux pas du centre vill...   \n",
       "9   Furnished apartment in the heart of the city n...   \n",
       "10                             L'Appartement Mathilde   \n",
       "11                                        Le Concorde   \n",
       "12  Air-conditioned apartment with a small furnish...   \n",
       "13  Triplex apartment with furnished rooftop terra...   \n",
       "14  Private apartment with furnished terrace garde...   \n",
       "15                                       La Farigoule   \n",
       "16                               ibis Aix en Provence   \n",
       "17            B&B Hôtel Aix-en-Provence Pont de l'Arc   \n",
       "18                                         Villa Zola   \n",
       "19     Comfortable apartment for 4 in Aix-en-Provence   \n",
       "20                                        Royal Hôtel   \n",
       "21                      ibis budget Nimes Centre Gare   \n",
       "22              Loft ravissant proche du centre-ville   \n",
       "23                      B&B Hôtel Nîmes Centre Arènes   \n",
       "24                           Best Western L'Orangerie   \n",
       "25               La Balade Nîmoise Center Car Park AC   \n",
       "26                              ibis Nîmes Ouest - A9   \n",
       "27                      ibis Styles Nimes Gare Centre   \n",
       "28                  Odalys City Nîmes Le Cheval Blanc   \n",
       "29                              Kyriad Nîmes Ouest A9   \n",
       "30                   Appart'City Confort Nimes Arenes   \n",
       "31                                Kyriad Nimes Centre   \n",
       "32                                     Hotel Majestic   \n",
       "33               Campanile Nîmes Centre Mas-Carbonnel   \n",
       "34                         Novotel Atria Nimes Centre   \n",
       "35                   Chez Pepito et Chez Zaza Rooftop   \n",
       "36                    Appartement dans Hotel de Flaux   \n",
       "37                   Best Western Marquis de la Baume   \n",
       "38                         Appart charme Arenes Nimes   \n",
       "39             Appartement Spacieux de Grand Standing   \n",
       "\n",
       "                                                  url  lat_hotels  lon_hotels  \\\n",
       "0   https://www.booking.com/hotel/fr/thecamp-amp-l...   43.496316    5.342152   \n",
       "1   https://www.booking.com/hotel/fr/atrium-d-anai...   43.524091    5.455216   \n",
       "2   https://www.booking.com/hotel/fr/nice-apartmen...   43.518571    5.458349   \n",
       "3   https://www.booking.com/hotel/fr/furnished-apa...   43.526627    5.446262   \n",
       "4   https://www.booking.com/hotel/fr/residence-mir...   43.525241    5.441266   \n",
       "5   https://www.booking.com/hotel/fr/campanile-aix...   43.511916    5.436654   \n",
       "6   https://www.booking.com/hotel/fr/furnished-apa...   43.530170    5.447350   \n",
       "7   https://www.booking.com/hotel/fr/etap-aix-en-p...   43.494530    5.368881   \n",
       "8   https://www.booking.com/hotel/fr/joli-t2-avec-...   43.530129    5.458953   \n",
       "9   https://www.booking.com/hotel/fr/furnished-apa...   43.531277    5.449440   \n",
       "10  https://www.booking.com/hotel/fr/appartement-m...   43.530952    5.446678   \n",
       "11  https://www.booking.com/hotel/fr/le-concorde-s...   43.524612    5.453754   \n",
       "12  https://www.booking.com/hotel/fr/air-condition...   43.529128    5.445380   \n",
       "13  https://www.booking.com/hotel/fr/triplex-apart...   43.530079    5.449492   \n",
       "14  https://www.booking.com/hotel/fr/private-apart...   43.519135    5.454833   \n",
       "15  https://www.booking.com/hotel/fr/la-farigoule-...   43.531148    5.474076   \n",
       "16  https://www.booking.com/hotel/fr/hatel-ibis-ai...   43.511387    5.464824   \n",
       "17  https://www.booking.com/hotel/fr/b-amp-b-aix-e...   43.511171    5.444680   \n",
       "18  https://www.booking.com/hotel/fr/villa-zola-ai...   43.531686    5.451641   \n",
       "19  https://www.booking.com/hotel/fr/comfortable-a...   43.526037    5.408456   \n",
       "20  https://www.booking.com/hotel/fr/royal.fr.html...   43.838815    4.354818   \n",
       "21  https://www.booking.com/hotel/fr/ibis-budget-n...   43.832056    4.367364   \n",
       "22  https://www.booking.com/hotel/fr/loft-ravissan...   43.851472    4.360889   \n",
       "23  https://www.booking.com/hotel/fr/b-amp-b-nimes...   43.828161    4.354790   \n",
       "24  https://www.booking.com/hotel/fr/bestwestern-l...   43.824766    4.369046   \n",
       "25  https://www.booking.com/hotel/fr/la-balade-nim...   43.840143    4.358335   \n",
       "26  https://www.booking.com/hotel/fr/ibis-na-r-mes...   43.813891    4.344342   \n",
       "27  https://www.booking.com/hotel/fr/ibis-styles-n...   43.831758    4.366974   \n",
       "28  https://www.booking.com/hotel/fr/le-cheval-bla...   43.834238    4.360790   \n",
       "29  https://www.booking.com/hotel/fr/kyriad-na-r-m...   43.814707    4.344833   \n",
       "30  https://www.booking.com/hotel/fr/appart-39-cit...   43.833874    4.361434   \n",
       "31  https://www.booking.com/hotel/fr/kyriadnimesce...   43.837760    4.363872   \n",
       "32  https://www.booking.com/hotel/fr/majestic-nime...   43.834363    4.365337   \n",
       "33  https://www.booking.com/hotel/fr/campanile-nim...   43.822731    4.364126   \n",
       "34  https://www.booking.com/hotel/fr/atria-nimes-c...   43.835421    4.363404   \n",
       "35  https://www.booking.com/hotel/fr/chez-pepito.f...   43.841024    4.359022   \n",
       "36  https://www.booking.com/hotel/fr/appartement-d...   44.012020    4.419434   \n",
       "37  https://www.booking.com/hotel/fr/ha-tel-la-bau...   43.839595    4.361084   \n",
       "38  https://www.booking.com/hotel/fr/appart-charme...   43.831676    4.360203   \n",
       "39  https://www.booking.com/hotel/fr/appartement-s...   43.838834    4.369919   \n",
       "\n",
       "                                          description  score  \n",
       "0   Vous pouvez bénéficier d'une réduction Genius ...    8.5  \n",
       "1   Vous pouvez bénéficier d'une réduction Genius ...    7.4  \n",
       "2   Situé à Aix-en-Provence, à proximité du cours ...    0.0  \n",
       "3   Situé dans le centre historique d'Aix-en-Prove...    0.0  \n",
       "4   Vous pouvez bénéficier d'une réduction Genius ...    8.2  \n",
       "5   Installé à Aix-en-Provence, à 3 km du centre h...    7.4  \n",
       "6   Doté d'une connexion Wi-Fi gratuite et offrant...    0.0  \n",
       "7   L'ibis budget Aix en Provence est situé en pér...    7.7  \n",
       "8   Doté d'une terrasse, le Joli T2 avec parking à...    0.0  \n",
       "9   Situé dans le centre d'Aix-en-Provence, à seul...    0.0  \n",
       "10  Les Appartements Clarisse et Mathilde sont des...    9.1  \n",
       "11  Le Concorde est idéalement situé dans le centr...    8.0  \n",
       "12  Situé dans le centre-ville d'Aix-en-Provence, ...    0.0  \n",
       "13  Le Triplex apartment with furnished rooftop te...    0.0  \n",
       "14  Situé à Aix-en-Provence, à 1,5 km de la cathéd...    0.0  \n",
       "15  Situé à Aix-en-Provence, en Provence-Alpes-Côt...    9.2  \n",
       "16  L'Hotel Ibis Aix en Provence est situé dans un...    7.8  \n",
       "17  Doté d'une connexion Wi-Fi gratuite, le B&B Hô...    7.1  \n",
       "18  La Villa Zola est située à Aix-en-Provence, à ...    8.9  \n",
       "19  Situé à Aix-en-Provence, à 3,2 km de la cathéd...    0.0  \n",
       "20  Vous pouvez bénéficier d'une réduction Genius ...    8.2  \n",
       "21  Situé à seulement 50 mètres de la gare de Nîme...    8.0  \n",
       "22  Situé à Nîmes, à 3,7 km du parc des exposition...    9.5  \n",
       "23  Situé à Nîmes, à 950 mètres des arènes, le B&B...    7.4  \n",
       "24  Occupant un bâtiment de style XIXe siècle, le ...    7.9  \n",
       "25  Situé dans le centre de Nîmes, à 2,5 km du par...    8.8  \n",
       "26  Situé à côté de la sortie 25 sur l’autoroute A...    7.8  \n",
       "27  Situé en face de la gare de Nîmes, cet hôtel p...    8.3  \n",
       "28  Vous pouvez bénéficier d'une réduction Genius ...    7.9  \n",
       "29  Idéalement situé à 10 minutes en voiture du ce...    7.8  \n",
       "30  L'Appart'City Confort Nîmes Arenes est situé d...    8.8  \n",
       "31  L'hôtel Kyriad Nimes Centre est situé au cœur ...    6.9  \n",
       "32  Rénové en 2019, l'Hotel Majestic est situé à N...    8.6  \n",
       "33  Doté d'une connexion Wi-Fi gratuite, le Campan...    7.0  \n",
       "34  Le Novotel Atria Nîmes Centre vous accueille d...    7.9  \n",
       "35  Doté d'une terrasse et offrant une vue sur la ...    8.6  \n",
       "36  Vous pouvez bénéficier d'une réduction Genius ...    9.5  \n",
       "37  Situé dans le centre de la ville historique de...    7.9  \n",
       "38  Doté d'une connexion Wi-Fi gratuite et offrant...    9.4  \n",
       "39  Cet établissement est à 1 minute à pied de la ...    9.6  "
      ]
     },
     "execution_count": 98,
     "metadata": {},
     "output_type": "execute_result"
    }
   ],
   "source": [
    "query = text(\"SELECT * FROM hotels LIMIT 40\")\n",
    "pd.read_sql(query, engine)"
   ]
  },
  {
   "cell_type": "code",
   "execution_count": null,
   "metadata": {},
   "outputs": [],
   "source": []
  }
 ],
 "metadata": {
  "interpreter": {
   "hash": "398748c372d42d99dcfa9ac8f694c5d292e22baf2e524ae29249ce2ce8b32818"
  },
  "kernelspec": {
   "display_name": "Python 3.9.10 ('base')",
   "language": "python",
   "name": "python3"
  },
  "language_info": {
   "codemirror_mode": {
    "name": "ipython",
    "version": 3
   },
   "file_extension": ".py",
   "mimetype": "text/x-python",
   "name": "python",
   "nbconvert_exporter": "python",
   "pygments_lexer": "ipython3",
   "version": "3.9.10"
  },
  "orig_nbformat": 4
 },
 "nbformat": 4,
 "nbformat_minor": 2
}
