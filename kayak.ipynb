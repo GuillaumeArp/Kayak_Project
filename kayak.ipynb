{
 "cells": [
  {
   "cell_type": "markdown",
   "metadata": {},
   "source": [
    "# Kayak Project"
   ]
  },
  {
   "cell_type": "markdown",
   "metadata": {},
   "source": [
    "## Imports"
   ]
  },
  {
   "cell_type": "code",
   "execution_count": 1,
   "metadata": {},
   "outputs": [],
   "source": [
    "import pandas as pd\n",
    "import plotly.express as px\n",
    "import requests\n",
    "from dotenv import load_dotenv\n",
    "import os\n",
    "import logging\n",
    "import scrapy\n",
    "from scrapy.crawler import CrawlerProcess\n",
    "from bs4 import BeautifulSoup\n",
    "import requests\n",
    "import time\n",
    "\n",
    "load_dotenv()\n",
    "%load_ext dotenv\n",
    "%dotenv\n",
    "\n",
    "key = os.getenv('APIKEY')"
   ]
  },
  {
   "cell_type": "code",
   "execution_count": 2,
   "metadata": {},
   "outputs": [],
   "source": [
    "cities = [\"Mont Saint Michel\", \"St Malo\", \"Bayeux\", \"Le Havre\", \"Rouen\", \"Paris\", \"Amiens\", \"Lille\", \"Strasbourg\", \"Chateau du Haut Koenigsbourg\", \"Colmar\", \"Eguisheim\", \"Besancon\", \"Dijon\", \"Annecy\", \"Grenoble\", \"Lyon\", \"Gorges du Verdon\", \"Bormes les Mimosas\", \"Cassis\", \"Marseille\", \"Aix en Provence\", \"Avignon\", \"Uzes\", \"Nimes\", \"Aigues Mortes\", \"Saintes Maries de la mer\", \"Collioure\", \"Carcassonne\", \"Ariege\", \"Toulouse\", \"Montauban\", \"Biarritz\", \"Bayonne\", \"La Rochelle\"]"
   ]
  },
  {
   "cell_type": "code",
   "execution_count": 3,
   "metadata": {},
   "outputs": [
    {
     "data": {
      "text/html": [
       "<div>\n",
       "<style scoped>\n",
       "    .dataframe tbody tr th:only-of-type {\n",
       "        vertical-align: middle;\n",
       "    }\n",
       "\n",
       "    .dataframe tbody tr th {\n",
       "        vertical-align: top;\n",
       "    }\n",
       "\n",
       "    .dataframe thead th {\n",
       "        text-align: right;\n",
       "    }\n",
       "</style>\n",
       "<table border=\"1\" class=\"dataframe\">\n",
       "  <thead>\n",
       "    <tr style=\"text-align: right;\">\n",
       "      <th></th>\n",
       "      <th>id</th>\n",
       "      <th>city</th>\n",
       "    </tr>\n",
       "  </thead>\n",
       "  <tbody>\n",
       "    <tr>\n",
       "      <th>0</th>\n",
       "      <td>0</td>\n",
       "      <td>Mont Saint Michel</td>\n",
       "    </tr>\n",
       "    <tr>\n",
       "      <th>1</th>\n",
       "      <td>1</td>\n",
       "      <td>St Malo</td>\n",
       "    </tr>\n",
       "    <tr>\n",
       "      <th>2</th>\n",
       "      <td>2</td>\n",
       "      <td>Bayeux</td>\n",
       "    </tr>\n",
       "    <tr>\n",
       "      <th>3</th>\n",
       "      <td>3</td>\n",
       "      <td>Le Havre</td>\n",
       "    </tr>\n",
       "    <tr>\n",
       "      <th>4</th>\n",
       "      <td>4</td>\n",
       "      <td>Rouen</td>\n",
       "    </tr>\n",
       "    <tr>\n",
       "      <th>5</th>\n",
       "      <td>5</td>\n",
       "      <td>Paris</td>\n",
       "    </tr>\n",
       "    <tr>\n",
       "      <th>6</th>\n",
       "      <td>6</td>\n",
       "      <td>Amiens</td>\n",
       "    </tr>\n",
       "    <tr>\n",
       "      <th>7</th>\n",
       "      <td>7</td>\n",
       "      <td>Lille</td>\n",
       "    </tr>\n",
       "    <tr>\n",
       "      <th>8</th>\n",
       "      <td>8</td>\n",
       "      <td>Strasbourg</td>\n",
       "    </tr>\n",
       "    <tr>\n",
       "      <th>9</th>\n",
       "      <td>9</td>\n",
       "      <td>Chateau du Haut Koenigsbourg</td>\n",
       "    </tr>\n",
       "    <tr>\n",
       "      <th>10</th>\n",
       "      <td>10</td>\n",
       "      <td>Colmar</td>\n",
       "    </tr>\n",
       "    <tr>\n",
       "      <th>11</th>\n",
       "      <td>11</td>\n",
       "      <td>Eguisheim</td>\n",
       "    </tr>\n",
       "    <tr>\n",
       "      <th>12</th>\n",
       "      <td>12</td>\n",
       "      <td>Besancon</td>\n",
       "    </tr>\n",
       "    <tr>\n",
       "      <th>13</th>\n",
       "      <td>13</td>\n",
       "      <td>Dijon</td>\n",
       "    </tr>\n",
       "    <tr>\n",
       "      <th>14</th>\n",
       "      <td>14</td>\n",
       "      <td>Annecy</td>\n",
       "    </tr>\n",
       "    <tr>\n",
       "      <th>15</th>\n",
       "      <td>15</td>\n",
       "      <td>Grenoble</td>\n",
       "    </tr>\n",
       "    <tr>\n",
       "      <th>16</th>\n",
       "      <td>16</td>\n",
       "      <td>Lyon</td>\n",
       "    </tr>\n",
       "    <tr>\n",
       "      <th>17</th>\n",
       "      <td>17</td>\n",
       "      <td>Gorges du Verdon</td>\n",
       "    </tr>\n",
       "    <tr>\n",
       "      <th>18</th>\n",
       "      <td>18</td>\n",
       "      <td>Bormes les Mimosas</td>\n",
       "    </tr>\n",
       "    <tr>\n",
       "      <th>19</th>\n",
       "      <td>19</td>\n",
       "      <td>Cassis</td>\n",
       "    </tr>\n",
       "    <tr>\n",
       "      <th>20</th>\n",
       "      <td>20</td>\n",
       "      <td>Marseille</td>\n",
       "    </tr>\n",
       "    <tr>\n",
       "      <th>21</th>\n",
       "      <td>21</td>\n",
       "      <td>Aix en Provence</td>\n",
       "    </tr>\n",
       "    <tr>\n",
       "      <th>22</th>\n",
       "      <td>22</td>\n",
       "      <td>Avignon</td>\n",
       "    </tr>\n",
       "    <tr>\n",
       "      <th>23</th>\n",
       "      <td>23</td>\n",
       "      <td>Uzes</td>\n",
       "    </tr>\n",
       "    <tr>\n",
       "      <th>24</th>\n",
       "      <td>24</td>\n",
       "      <td>Nimes</td>\n",
       "    </tr>\n",
       "    <tr>\n",
       "      <th>25</th>\n",
       "      <td>25</td>\n",
       "      <td>Aigues Mortes</td>\n",
       "    </tr>\n",
       "    <tr>\n",
       "      <th>26</th>\n",
       "      <td>26</td>\n",
       "      <td>Saintes Maries de la mer</td>\n",
       "    </tr>\n",
       "    <tr>\n",
       "      <th>27</th>\n",
       "      <td>27</td>\n",
       "      <td>Collioure</td>\n",
       "    </tr>\n",
       "    <tr>\n",
       "      <th>28</th>\n",
       "      <td>28</td>\n",
       "      <td>Carcassonne</td>\n",
       "    </tr>\n",
       "    <tr>\n",
       "      <th>29</th>\n",
       "      <td>29</td>\n",
       "      <td>Ariege</td>\n",
       "    </tr>\n",
       "    <tr>\n",
       "      <th>30</th>\n",
       "      <td>30</td>\n",
       "      <td>Toulouse</td>\n",
       "    </tr>\n",
       "    <tr>\n",
       "      <th>31</th>\n",
       "      <td>31</td>\n",
       "      <td>Montauban</td>\n",
       "    </tr>\n",
       "    <tr>\n",
       "      <th>32</th>\n",
       "      <td>32</td>\n",
       "      <td>Biarritz</td>\n",
       "    </tr>\n",
       "    <tr>\n",
       "      <th>33</th>\n",
       "      <td>33</td>\n",
       "      <td>Bayonne</td>\n",
       "    </tr>\n",
       "    <tr>\n",
       "      <th>34</th>\n",
       "      <td>34</td>\n",
       "      <td>La Rochelle</td>\n",
       "    </tr>\n",
       "  </tbody>\n",
       "</table>\n",
       "</div>"
      ],
      "text/plain": [
       "    id                          city\n",
       "0    0             Mont Saint Michel\n",
       "1    1                       St Malo\n",
       "2    2                        Bayeux\n",
       "3    3                      Le Havre\n",
       "4    4                         Rouen\n",
       "5    5                         Paris\n",
       "6    6                        Amiens\n",
       "7    7                         Lille\n",
       "8    8                    Strasbourg\n",
       "9    9  Chateau du Haut Koenigsbourg\n",
       "10  10                        Colmar\n",
       "11  11                     Eguisheim\n",
       "12  12                      Besancon\n",
       "13  13                         Dijon\n",
       "14  14                        Annecy\n",
       "15  15                      Grenoble\n",
       "16  16                          Lyon\n",
       "17  17              Gorges du Verdon\n",
       "18  18            Bormes les Mimosas\n",
       "19  19                        Cassis\n",
       "20  20                     Marseille\n",
       "21  21               Aix en Provence\n",
       "22  22                       Avignon\n",
       "23  23                          Uzes\n",
       "24  24                         Nimes\n",
       "25  25                 Aigues Mortes\n",
       "26  26      Saintes Maries de la mer\n",
       "27  27                     Collioure\n",
       "28  28                   Carcassonne\n",
       "29  29                        Ariege\n",
       "30  30                      Toulouse\n",
       "31  31                     Montauban\n",
       "32  32                      Biarritz\n",
       "33  33                       Bayonne\n",
       "34  34                   La Rochelle"
      ]
     },
     "execution_count": 3,
     "metadata": {},
     "output_type": "execute_result"
    }
   ],
   "source": [
    "df_cities = pd.DataFrame(columns=[\"city\"])\n",
    "df_cities['city'] = cities\n",
    "df_cities.reset_index(inplace=True)\n",
    "df_cities.rename(columns={'index': 'id'}, inplace=True)\n",
    "df_cities"
   ]
  },
  {
   "cell_type": "markdown",
   "metadata": {},
   "source": [
    "## Scraping Booking.com"
   ]
  },
  {
   "cell_type": "code",
   "execution_count": 4,
   "metadata": {},
   "outputs": [],
   "source": [
    "df_booking = df_cities.copy(deep=True)\n",
    "\n",
    "class BookingSpider(scrapy.Spider):\n",
    "    name = \"Booking_data\"\n",
    "    cities = df_booking[\"city\"]\n",
    "    start_urls = ['https://www.booking.com/index.fr.html']\n",
    "\n",
    "    def parse(self, response):\n",
    "        for x in cities:\n",
    "            yield scrapy.FormRequest.from_response(\n",
    "            response,\n",
    "            formdata={'ss': x },\n",
    "            callback=self.after_search\n",
    "        )\n",
    "\n",
    "    def after_search(self, response):\n",
    "        cities = response.url.split(\"ss=\")[-1].split(\"&\")[0]\n",
    "                \n",
    "        booking = response.css('.d4924c9e74')\n",
    "        \n",
    "        for data in booking:\n",
    "            \n",
    "            yield {\n",
    "                'location': cities,\n",
    "                'name': data.css('a div.fcab3ed991.a23c043802::text').getall(),\n",
    "                'url': data.css('h3.a4225678b2 a::attr(href)').getall(),\n",
    "                # 'score': data.css('div.b5cd09854e.d10a6220b4::text').getall(),\n",
    "                # 'description': data.css('div.d8eab2cf7f::text').getall(),\n",
    "            }\n",
    "\n",
    "        try:\n",
    "            next_page = response.css('a.paging-next').attrib[\"href\"]\n",
    "        except KeyError:\n",
    "            logging.info('No next page. Terminating crawling process.')\n",
    "        else:\n",
    "            yield response.follow(next_page, callback=self.after_search)"
   ]
  },
  {
   "cell_type": "code",
   "execution_count": 5,
   "metadata": {},
   "outputs": [
    {
     "name": "stderr",
     "output_type": "stream",
     "text": [
      "2022-04-13 21:39:48 [scrapy.utils.log] INFO: Scrapy 2.6.1 started (bot: scrapybot)\n",
      "2022-04-13 21:39:48 [scrapy.utils.log] INFO: Versions: lxml 4.8.0.0, libxml2 2.9.4, cssselect 1.1.0, parsel 1.6.0, w3lib 1.22.0, Twisted 22.2.0, Python 3.9.10 | packaged by conda-forge | (main, Feb  1 2022, 21:27:43) - [Clang 11.1.0 ], pyOpenSSL 22.0.0 (OpenSSL 1.1.1n  15 Mar 2022), cryptography 36.0.1, Platform macOS-12.3.1-arm64-arm-64bit\n",
      "2022-04-13 21:39:48 [scrapy.crawler] INFO: Overridden settings:\n",
      "{'AUTOTHROTTLE_ENABLED': True,\n",
      " 'LOG_LEVEL': 20,\n",
      " 'USER_AGENT': 'Mozilla/5.0 (Windows NT 10.0; Win64; x64; rv:92.0) '\n",
      "               'Gecko/20100101 Firefox/92.0'}\n",
      "2022-04-13 21:39:48 [scrapy.extensions.telnet] INFO: Telnet Password: b3178f7049a58bbe\n",
      "2022-04-13 21:39:48 [scrapy.middleware] INFO: Enabled extensions:\n",
      "['scrapy.extensions.corestats.CoreStats',\n",
      " 'scrapy.extensions.telnet.TelnetConsole',\n",
      " 'scrapy.extensions.memusage.MemoryUsage',\n",
      " 'scrapy.extensions.feedexport.FeedExporter',\n",
      " 'scrapy.extensions.logstats.LogStats',\n",
      " 'scrapy.extensions.throttle.AutoThrottle']\n",
      "2022-04-13 21:39:49 [scrapy.middleware] INFO: Enabled downloader middlewares:\n",
      "['scrapy.downloadermiddlewares.httpauth.HttpAuthMiddleware',\n",
      " 'scrapy.downloadermiddlewares.downloadtimeout.DownloadTimeoutMiddleware',\n",
      " 'scrapy.downloadermiddlewares.defaultheaders.DefaultHeadersMiddleware',\n",
      " 'scrapy.downloadermiddlewares.useragent.UserAgentMiddleware',\n",
      " 'scrapy.downloadermiddlewares.retry.RetryMiddleware',\n",
      " 'scrapy.downloadermiddlewares.redirect.MetaRefreshMiddleware',\n",
      " 'scrapy.downloadermiddlewares.httpcompression.HttpCompressionMiddleware',\n",
      " 'scrapy.downloadermiddlewares.redirect.RedirectMiddleware',\n",
      " 'scrapy.downloadermiddlewares.cookies.CookiesMiddleware',\n",
      " 'scrapy.downloadermiddlewares.httpproxy.HttpProxyMiddleware',\n",
      " 'scrapy.downloadermiddlewares.stats.DownloaderStats']\n",
      "2022-04-13 21:39:49 [scrapy.middleware] INFO: Enabled spider middlewares:\n",
      "['scrapy.spidermiddlewares.httperror.HttpErrorMiddleware',\n",
      " 'scrapy.spidermiddlewares.offsite.OffsiteMiddleware',\n",
      " 'scrapy.spidermiddlewares.referer.RefererMiddleware',\n",
      " 'scrapy.spidermiddlewares.urllength.UrlLengthMiddleware',\n",
      " 'scrapy.spidermiddlewares.depth.DepthMiddleware']\n",
      "2022-04-13 21:39:49 [scrapy.middleware] INFO: Enabled item pipelines:\n",
      "[]\n",
      "2022-04-13 21:39:49 [scrapy.core.engine] INFO: Spider opened\n",
      "2022-04-13 21:39:49 [scrapy.extensions.logstats] INFO: Crawled 0 pages (at 0 pages/min), scraped 0 items (at 0 items/min)\n",
      "2022-04-13 21:39:49 [scrapy.extensions.telnet] INFO: Telnet console listening on 127.0.0.1:6023\n",
      "2022-04-13 21:39:49 [scrapy.core.scraper] ERROR: Error downloading <GET https://www.booking.com/index.fr.html>\n",
      "Traceback (most recent call last):\n",
      "  File \"/Users/guillaumearp/miniforge3/lib/python3.9/site-packages/twisted/internet/defer.py\", line 1656, in _inlineCallbacks\n",
      "    result = current_context.run(\n",
      "  File \"/Users/guillaumearp/miniforge3/lib/python3.9/site-packages/twisted/python/failure.py\", line 489, in throwExceptionIntoGenerator\n",
      "    return g.throw(self.type, self.value, self.tb)\n",
      "  File \"/Users/guillaumearp/miniforge3/lib/python3.9/site-packages/scrapy/core/downloader/middleware.py\", line 49, in process_request\n",
      "    return (yield download_func(request=request, spider=spider))\n",
      "  File \"/Users/guillaumearp/miniforge3/lib/python3.9/site-packages/scrapy/utils/defer.py\", line 67, in mustbe_deferred\n",
      "    result = f(*args, **kw)\n",
      "  File \"/Users/guillaumearp/miniforge3/lib/python3.9/site-packages/scrapy/core/downloader/handlers/__init__.py\", line 75, in download_request\n",
      "    return handler.download_request(request, spider)\n",
      "  File \"/Users/guillaumearp/miniforge3/lib/python3.9/site-packages/scrapy/core/downloader/handlers/http11.py\", line 65, in download_request\n",
      "    return agent.download_request(request)\n",
      "  File \"/Users/guillaumearp/miniforge3/lib/python3.9/site-packages/scrapy/core/downloader/handlers/http11.py\", line 340, in download_request\n",
      "    d = agent.request(method, to_bytes(url, encoding='ascii'), headers, bodyproducer)\n",
      "  File \"/Users/guillaumearp/miniforge3/lib/python3.9/site-packages/twisted/web/client.py\", line 1148, in request\n",
      "    endpoint = self._getEndpoint(parsedURI)\n",
      "  File \"/Users/guillaumearp/miniforge3/lib/python3.9/site-packages/twisted/web/client.py\", line 1132, in _getEndpoint\n",
      "    return self._endpointFactory.endpointForURI(uri)\n",
      "  File \"/Users/guillaumearp/miniforge3/lib/python3.9/site-packages/twisted/web/client.py\", line 1003, in endpointForURI\n",
      "    connectionCreator = self._policyForHTTPS.creatorForNetloc(\n",
      "  File \"/Users/guillaumearp/miniforge3/lib/python3.9/site-packages/scrapy/core/downloader/contextfactory.py\", line 67, in creatorForNetloc\n",
      "    return ScrapyClientTLSOptions(hostname.decode(\"ascii\"), self.getContext(),\n",
      "  File \"/Users/guillaumearp/miniforge3/lib/python3.9/site-packages/scrapy/core/downloader/contextfactory.py\", line 64, in getContext\n",
      "    return self.getCertificateOptions().getContext()\n",
      "  File \"/Users/guillaumearp/miniforge3/lib/python3.9/site-packages/twisted/internet/_sslverify.py\", line 1632, in getContext\n",
      "    self._context = self._makeContext()\n",
      "  File \"/Users/guillaumearp/miniforge3/lib/python3.9/site-packages/twisted/internet/_sslverify.py\", line 1663, in _makeContext\n",
      "    ctx.set_verify(verifyFlags, _verifyCallback)\n",
      "  File \"/Users/guillaumearp/miniforge3/lib/python3.9/site-packages/OpenSSL/SSL.py\", line 1128, in set_verify\n",
      "    self._verify_helper = _VerifyHelper(callback)\n",
      "  File \"/Users/guillaumearp/miniforge3/lib/python3.9/site-packages/OpenSSL/SSL.py\", line 359, in __init__\n",
      "    self.callback = _ffi.callback(\n",
      "MemoryError: Cannot allocate write+execute memory for ffi.callback(). You might be running on a system that prevents this. For more information, see https://cffi.readthedocs.io/en/latest/using.html#callbacks\n",
      "2022-04-13 21:39:49 [scrapy.core.engine] INFO: Closing spider (finished)\n",
      "2022-04-13 21:39:49 [scrapy.statscollectors] INFO: Dumping Scrapy stats:\n",
      "{'downloader/exception_count': 1,\n",
      " 'downloader/exception_type_count/builtins.MemoryError': 1,\n",
      " 'downloader/request_bytes': 276,\n",
      " 'downloader/request_count': 1,\n",
      " 'downloader/request_method_count/GET': 1,\n",
      " 'elapsed_time_seconds': 0.317086,\n",
      " 'finish_reason': 'finished',\n",
      " 'finish_time': datetime.datetime(2022, 4, 13, 19, 39, 49, 501581),\n",
      " 'log_count/ERROR': 1,\n",
      " 'log_count/INFO': 10,\n",
      " 'memusage/max': 152698880,\n",
      " 'memusage/startup': 152698880,\n",
      " 'scheduler/dequeued': 1,\n",
      " 'scheduler/dequeued/memory': 1,\n",
      " 'scheduler/enqueued': 1,\n",
      " 'scheduler/enqueued/memory': 1,\n",
      " 'start_time': datetime.datetime(2022, 4, 13, 19, 39, 49, 184495)}\n",
      "2022-04-13 21:39:49 [scrapy.core.engine] INFO: Spider closed (finished)\n"
     ]
    }
   ],
   "source": [
    "filename = \"cities.json\"\n",
    "\n",
    "if filename in os.listdir():\n",
    "        os.remove(filename)\n",
    "\n",
    "process = CrawlerProcess(settings = {\n",
    "    'USER_AGENT': 'Mozilla/5.0 (Windows NT 10.0; Win64; x64; rv:92.0) Gecko/20100101 Firefox/92.0',\n",
    "    'LOG_LEVEL': logging.INFO,\n",
    "    \"FEEDS\": {\n",
    "        filename: {\"format\": \"json\"},\n",
    "    },\n",
    "    \"AUTOTHROTTLE_ENABLED\": True\n",
    "})\n",
    "\n",
    "process.crawl(BookingSpider)\n",
    "process.start()"
   ]
  },
  {
   "cell_type": "code",
   "execution_count": null,
   "metadata": {},
   "outputs": [],
   "source": [
    "df = pd.read_json(\"cities.json\")\n",
    "df.head()"
   ]
  },
  {
   "cell_type": "code",
   "execution_count": null,
   "metadata": {},
   "outputs": [],
   "source": [
    "for i in range (len(df[\"location\"])):\n",
    "    df[\"name\"][i] = df[\"name\"][i][0:20]\n",
    "    df[\"url\"][i] = df[\"url\"][i][0:20]"
   ]
  },
  {
   "cell_type": "code",
   "execution_count": null,
   "metadata": {},
   "outputs": [],
   "source": [
    "df[df['url'].isna()]"
   ]
  },
  {
   "cell_type": "code",
   "execution_count": null,
   "metadata": {},
   "outputs": [],
   "source": [
    "df[\"lat\"] = 0\n",
    "df[\"lon\"] = 0\n",
    "df[\"description\"] = \"test\"\n",
    "df[\"score\"] = 0.0\n",
    "\n",
    "navigator = 'Mozilla/5.0 (Macintosh; Intel Mac OS X 10_10_1)'\n",
    "\n",
    "for i in range(len(df[\"url\"])):\n",
    "    lat_list = []\n",
    "    lon_list = []\n",
    "    description_list = []\n",
    "    score_list = []\n",
    "\n",
    "    hotel_list = df[\"url\"][i]\n",
    "\n",
    "    for i2 in hotel_list:\n",
    "\n",
    "        try:\n",
    "            page = requests.get(i2, headers={'User-Agent': navigator})\n",
    "            soup = BeautifulSoup(page.text, 'html.parser')\n",
    "        except:\n",
    "            page = requests.get(i2, headers={'User-Agent': navigator})\n",
    "            soup = BeautifulSoup(page.text, 'html.parser')\n",
    "\n",
    "        lat_list.append(soup.select('p.address.address_clean a')[0].get(\"data-atlas-latlng\").split(\",\")[0])\n",
    "        lon_list.append(soup.select('p.address.address_clean a')[0].get(\"data-atlas-latlng\").split(\",\")[1])\n",
    "        description_list.append(soup.select('div#property_description_content')[0].get_text())\n",
    "\n",
    "        try:\n",
    "            score_list.append(soup.select('div.b5cd09854e.d10a6220b4')[0].get_text())\n",
    "            \n",
    "        except:\n",
    "            # Some hotels dont have a score yet but I still need one for the visualization. I set it to 0.\n",
    "            score_list.append(\"0.0\")\n",
    "\n",
    "        time.sleep(1.4)\n",
    "  \n",
    "    df[\"lat\"][i] = lat_list\n",
    "    df[\"lon\"][i] = lon_list\n",
    "    df[\"description\"][i] = description_list\n",
    "    df[\"score\"][i] = score_list\n",
    "    \n",
    "    print (f\"city {df['location'].iloc[i]} done\")"
   ]
  },
  {
   "cell_type": "code",
   "execution_count": null,
   "metadata": {},
   "outputs": [],
   "source": [
    "df[\"location\"] = df[\"location\"].str.replace(\"+\", \" \")\n",
    "df = df.set_index(\"location\")\n",
    "df = df.reindex(cities)\n",
    "df.reset_index(inplace=True)\n",
    "\n",
    "df.reset_index(inplace=True)\n",
    "df.rename(columns={'index': 'id'}, inplace=True)\n",
    "df.head(2)"
   ]
  },
  {
   "cell_type": "code",
   "execution_count": null,
   "metadata": {},
   "outputs": [],
   "source": [
    "df2 = df.copy()\n",
    "\n",
    "df_name = df2[\"name\"].explode()\n",
    "df_url = df2[\"url\"].explode()\n",
    "df_lat = df2[\"lat\"].explode()\n",
    "df_lon = df2[\"lon\"].explode()\n",
    "df_description = df2[\"description\"].explode()\n",
    "df_score = df2[\"score\"].explode()"
   ]
  },
  {
   "cell_type": "code",
   "execution_count": null,
   "metadata": {},
   "outputs": [],
   "source": [
    "df_final = pd.concat([df_name, df_url, df_lat, df_lon, df_description, df_score], axis=1)\n",
    "df_final.reset_index().head()"
   ]
  },
  {
   "cell_type": "code",
   "execution_count": null,
   "metadata": {},
   "outputs": [],
   "source": [
    "df_final[\"score\"].replace(\",\", \".\", regex=True, inplace=True)"
   ]
  },
  {
   "cell_type": "code",
   "execution_count": null,
   "metadata": {},
   "outputs": [],
   "source": [
    "df_final.info()"
   ]
  },
  {
   "cell_type": "code",
   "execution_count": null,
   "metadata": {},
   "outputs": [],
   "source": [
    "px.set_mapbox_access_token(open(\".mapbox_token\").read())\n",
    "fig = px.scatter_mapbox(\n",
    "    df_final.sort_values('name'),\n",
    "    lat='lat',\n",
    "    lon='lon',\n",
    "    color='score',\n",
    "    size='score',\n",
    "    color_continuous_scale=px.colors.diverging.Picnic,\n",
    "    size_max=30,\n",
    "    zoom=5,\n",
    "    hover_name='name'\n",
    ")\n",
    "\n",
    "fig.update_layout(width = 1300, height = 800, template='plotly_dark' ,title='Weather')\n",
    "fig.show()"
   ]
  },
  {
   "cell_type": "markdown",
   "metadata": {},
   "source": [
    "## Getting API Data"
   ]
  },
  {
   "cell_type": "markdown",
   "metadata": {},
   "source": [
    "### GPS Coordinates"
   ]
  },
  {
   "cell_type": "code",
   "execution_count": 4,
   "metadata": {},
   "outputs": [],
   "source": [
    "def get_gps(df):\n",
    "\n",
    "    df_new = df.copy(deep=True)\n",
    "    lat_list = []\n",
    "    lon_list = []\n",
    "    for i in cities:\n",
    "        if i == \"Gorges du Verdon\":\n",
    "            i = \"La%20Palud-sur-Verdon\"\n",
    "            r = requests.get(f\"https://nominatim.openstreetmap.org/search?city={i}&format=json\").json()\n",
    "            lat_list.append(r[0]['lat'])\n",
    "            lon_list.append(r[0]['lon'])\n",
    "        elif i == 'Ariege':\n",
    "            r = requests.get(f\"https://nominatim.openstreetmap.org/search?county={i}&format=json\").json()\n",
    "            lat_list.append(r[0]['lat'])\n",
    "            lon_list.append(r[0]['lon'])\n",
    "        else:\n",
    "            name = i.replace(\" \", \"%20\")\n",
    "            r = requests.get(f\"https://nominatim.openstreetmap.org/search?city={name}&format=json\").json()\n",
    "            lat_list.append(r[0]['lat'])\n",
    "            lon_list.append(r[0]['lon'])\n",
    "        \n",
    "    df_new['lat'] = lat_list\n",
    "    df_new['lon'] = lon_list \n",
    "    return df_new"
   ]
  },
  {
   "cell_type": "code",
   "execution_count": 5,
   "metadata": {},
   "outputs": [
    {
     "data": {
      "text/html": [
       "<div>\n",
       "<style scoped>\n",
       "    .dataframe tbody tr th:only-of-type {\n",
       "        vertical-align: middle;\n",
       "    }\n",
       "\n",
       "    .dataframe tbody tr th {\n",
       "        vertical-align: top;\n",
       "    }\n",
       "\n",
       "    .dataframe thead th {\n",
       "        text-align: right;\n",
       "    }\n",
       "</style>\n",
       "<table border=\"1\" class=\"dataframe\">\n",
       "  <thead>\n",
       "    <tr style=\"text-align: right;\">\n",
       "      <th></th>\n",
       "      <th>id</th>\n",
       "      <th>city</th>\n",
       "      <th>lat</th>\n",
       "      <th>lon</th>\n",
       "    </tr>\n",
       "  </thead>\n",
       "  <tbody>\n",
       "    <tr>\n",
       "      <th>0</th>\n",
       "      <td>0</td>\n",
       "      <td>Mont Saint Michel</td>\n",
       "      <td>48.6359541</td>\n",
       "      <td>-1.511459954959514</td>\n",
       "    </tr>\n",
       "    <tr>\n",
       "      <th>1</th>\n",
       "      <td>1</td>\n",
       "      <td>St Malo</td>\n",
       "      <td>48.649518</td>\n",
       "      <td>-2.0260409</td>\n",
       "    </tr>\n",
       "    <tr>\n",
       "      <th>2</th>\n",
       "      <td>2</td>\n",
       "      <td>Bayeux</td>\n",
       "      <td>49.2764624</td>\n",
       "      <td>-0.7024738</td>\n",
       "    </tr>\n",
       "    <tr>\n",
       "      <th>3</th>\n",
       "      <td>3</td>\n",
       "      <td>Le Havre</td>\n",
       "      <td>49.4938975</td>\n",
       "      <td>0.1079732</td>\n",
       "    </tr>\n",
       "    <tr>\n",
       "      <th>4</th>\n",
       "      <td>4</td>\n",
       "      <td>Rouen</td>\n",
       "      <td>49.4404591</td>\n",
       "      <td>1.0939658</td>\n",
       "    </tr>\n",
       "    <tr>\n",
       "      <th>5</th>\n",
       "      <td>5</td>\n",
       "      <td>Paris</td>\n",
       "      <td>48.8588897</td>\n",
       "      <td>2.3200410217200766</td>\n",
       "    </tr>\n",
       "    <tr>\n",
       "      <th>6</th>\n",
       "      <td>6</td>\n",
       "      <td>Amiens</td>\n",
       "      <td>49.8941708</td>\n",
       "      <td>2.2956951</td>\n",
       "    </tr>\n",
       "    <tr>\n",
       "      <th>7</th>\n",
       "      <td>7</td>\n",
       "      <td>Lille</td>\n",
       "      <td>50.6365654</td>\n",
       "      <td>3.0635282</td>\n",
       "    </tr>\n",
       "    <tr>\n",
       "      <th>8</th>\n",
       "      <td>8</td>\n",
       "      <td>Strasbourg</td>\n",
       "      <td>48.584614</td>\n",
       "      <td>7.7507127</td>\n",
       "    </tr>\n",
       "    <tr>\n",
       "      <th>9</th>\n",
       "      <td>9</td>\n",
       "      <td>Chateau du Haut Koenigsbourg</td>\n",
       "      <td>48.2495226</td>\n",
       "      <td>7.3454923</td>\n",
       "    </tr>\n",
       "    <tr>\n",
       "      <th>10</th>\n",
       "      <td>10</td>\n",
       "      <td>Colmar</td>\n",
       "      <td>48.0777517</td>\n",
       "      <td>7.3579641</td>\n",
       "    </tr>\n",
       "    <tr>\n",
       "      <th>11</th>\n",
       "      <td>11</td>\n",
       "      <td>Eguisheim</td>\n",
       "      <td>48.0447968</td>\n",
       "      <td>7.3079618</td>\n",
       "    </tr>\n",
       "    <tr>\n",
       "      <th>12</th>\n",
       "      <td>12</td>\n",
       "      <td>Besancon</td>\n",
       "      <td>47.2380222</td>\n",
       "      <td>6.0243622</td>\n",
       "    </tr>\n",
       "    <tr>\n",
       "      <th>13</th>\n",
       "      <td>13</td>\n",
       "      <td>Dijon</td>\n",
       "      <td>47.3215806</td>\n",
       "      <td>5.0414701</td>\n",
       "    </tr>\n",
       "    <tr>\n",
       "      <th>14</th>\n",
       "      <td>14</td>\n",
       "      <td>Annecy</td>\n",
       "      <td>45.8992348</td>\n",
       "      <td>6.1288847</td>\n",
       "    </tr>\n",
       "    <tr>\n",
       "      <th>15</th>\n",
       "      <td>15</td>\n",
       "      <td>Grenoble</td>\n",
       "      <td>45.1875602</td>\n",
       "      <td>5.7357819</td>\n",
       "    </tr>\n",
       "    <tr>\n",
       "      <th>16</th>\n",
       "      <td>16</td>\n",
       "      <td>Lyon</td>\n",
       "      <td>45.7578137</td>\n",
       "      <td>4.8320114</td>\n",
       "    </tr>\n",
       "    <tr>\n",
       "      <th>17</th>\n",
       "      <td>17</td>\n",
       "      <td>Gorges du Verdon</td>\n",
       "      <td>43.7796864</td>\n",
       "      <td>6.3413854</td>\n",
       "    </tr>\n",
       "    <tr>\n",
       "      <th>18</th>\n",
       "      <td>18</td>\n",
       "      <td>Bormes les Mimosas</td>\n",
       "      <td>43.1572172</td>\n",
       "      <td>6.329253867921363</td>\n",
       "    </tr>\n",
       "    <tr>\n",
       "      <th>19</th>\n",
       "      <td>19</td>\n",
       "      <td>Cassis</td>\n",
       "      <td>43.2140359</td>\n",
       "      <td>5.5396318</td>\n",
       "    </tr>\n",
       "    <tr>\n",
       "      <th>20</th>\n",
       "      <td>20</td>\n",
       "      <td>Marseille</td>\n",
       "      <td>43.2961743</td>\n",
       "      <td>5.3699525</td>\n",
       "    </tr>\n",
       "    <tr>\n",
       "      <th>21</th>\n",
       "      <td>21</td>\n",
       "      <td>Aix en Provence</td>\n",
       "      <td>43.5298424</td>\n",
       "      <td>5.4474738</td>\n",
       "    </tr>\n",
       "    <tr>\n",
       "      <th>22</th>\n",
       "      <td>22</td>\n",
       "      <td>Avignon</td>\n",
       "      <td>43.9492493</td>\n",
       "      <td>4.8059012</td>\n",
       "    </tr>\n",
       "    <tr>\n",
       "      <th>23</th>\n",
       "      <td>23</td>\n",
       "      <td>Uzes</td>\n",
       "      <td>44.0121279</td>\n",
       "      <td>4.4196718</td>\n",
       "    </tr>\n",
       "    <tr>\n",
       "      <th>24</th>\n",
       "      <td>24</td>\n",
       "      <td>Nimes</td>\n",
       "      <td>43.8374249</td>\n",
       "      <td>4.3600687</td>\n",
       "    </tr>\n",
       "    <tr>\n",
       "      <th>25</th>\n",
       "      <td>25</td>\n",
       "      <td>Aigues Mortes</td>\n",
       "      <td>43.5658225</td>\n",
       "      <td>4.1912837</td>\n",
       "    </tr>\n",
       "    <tr>\n",
       "      <th>26</th>\n",
       "      <td>26</td>\n",
       "      <td>Saintes Maries de la mer</td>\n",
       "      <td>43.4522771</td>\n",
       "      <td>4.4287172</td>\n",
       "    </tr>\n",
       "    <tr>\n",
       "      <th>27</th>\n",
       "      <td>27</td>\n",
       "      <td>Collioure</td>\n",
       "      <td>42.52505</td>\n",
       "      <td>3.0831554</td>\n",
       "    </tr>\n",
       "    <tr>\n",
       "      <th>28</th>\n",
       "      <td>28</td>\n",
       "      <td>Carcassonne</td>\n",
       "      <td>43.2130358</td>\n",
       "      <td>2.3491069</td>\n",
       "    </tr>\n",
       "    <tr>\n",
       "      <th>29</th>\n",
       "      <td>29</td>\n",
       "      <td>Ariege</td>\n",
       "      <td>42.9455368</td>\n",
       "      <td>1.4065544156065486</td>\n",
       "    </tr>\n",
       "    <tr>\n",
       "      <th>30</th>\n",
       "      <td>30</td>\n",
       "      <td>Toulouse</td>\n",
       "      <td>43.6044622</td>\n",
       "      <td>1.4442469</td>\n",
       "    </tr>\n",
       "    <tr>\n",
       "      <th>31</th>\n",
       "      <td>31</td>\n",
       "      <td>Montauban</td>\n",
       "      <td>44.0175835</td>\n",
       "      <td>1.3549991</td>\n",
       "    </tr>\n",
       "    <tr>\n",
       "      <th>32</th>\n",
       "      <td>32</td>\n",
       "      <td>Biarritz</td>\n",
       "      <td>43.4832523</td>\n",
       "      <td>-1.5592776</td>\n",
       "    </tr>\n",
       "    <tr>\n",
       "      <th>33</th>\n",
       "      <td>33</td>\n",
       "      <td>Bayonne</td>\n",
       "      <td>43.4933379</td>\n",
       "      <td>-1.475099</td>\n",
       "    </tr>\n",
       "    <tr>\n",
       "      <th>34</th>\n",
       "      <td>34</td>\n",
       "      <td>La Rochelle</td>\n",
       "      <td>46.1591126</td>\n",
       "      <td>-1.1520434</td>\n",
       "    </tr>\n",
       "  </tbody>\n",
       "</table>\n",
       "</div>"
      ],
      "text/plain": [
       "    id                          city         lat                 lon\n",
       "0    0             Mont Saint Michel  48.6359541  -1.511459954959514\n",
       "1    1                       St Malo   48.649518          -2.0260409\n",
       "2    2                        Bayeux  49.2764624          -0.7024738\n",
       "3    3                      Le Havre  49.4938975           0.1079732\n",
       "4    4                         Rouen  49.4404591           1.0939658\n",
       "5    5                         Paris  48.8588897  2.3200410217200766\n",
       "6    6                        Amiens  49.8941708           2.2956951\n",
       "7    7                         Lille  50.6365654           3.0635282\n",
       "8    8                    Strasbourg   48.584614           7.7507127\n",
       "9    9  Chateau du Haut Koenigsbourg  48.2495226           7.3454923\n",
       "10  10                        Colmar  48.0777517           7.3579641\n",
       "11  11                     Eguisheim  48.0447968           7.3079618\n",
       "12  12                      Besancon  47.2380222           6.0243622\n",
       "13  13                         Dijon  47.3215806           5.0414701\n",
       "14  14                        Annecy  45.8992348           6.1288847\n",
       "15  15                      Grenoble  45.1875602           5.7357819\n",
       "16  16                          Lyon  45.7578137           4.8320114\n",
       "17  17              Gorges du Verdon  43.7796864           6.3413854\n",
       "18  18            Bormes les Mimosas  43.1572172   6.329253867921363\n",
       "19  19                        Cassis  43.2140359           5.5396318\n",
       "20  20                     Marseille  43.2961743           5.3699525\n",
       "21  21               Aix en Provence  43.5298424           5.4474738\n",
       "22  22                       Avignon  43.9492493           4.8059012\n",
       "23  23                          Uzes  44.0121279           4.4196718\n",
       "24  24                         Nimes  43.8374249           4.3600687\n",
       "25  25                 Aigues Mortes  43.5658225           4.1912837\n",
       "26  26      Saintes Maries de la mer  43.4522771           4.4287172\n",
       "27  27                     Collioure    42.52505           3.0831554\n",
       "28  28                   Carcassonne  43.2130358           2.3491069\n",
       "29  29                        Ariege  42.9455368  1.4065544156065486\n",
       "30  30                      Toulouse  43.6044622           1.4442469\n",
       "31  31                     Montauban  44.0175835           1.3549991\n",
       "32  32                      Biarritz  43.4832523          -1.5592776\n",
       "33  33                       Bayonne  43.4933379           -1.475099\n",
       "34  34                   La Rochelle  46.1591126          -1.1520434"
      ]
     },
     "execution_count": 5,
     "metadata": {},
     "output_type": "execute_result"
    }
   ],
   "source": [
    "df_gps = get_gps(df_cities)\n",
    "df_gps"
   ]
  },
  {
   "cell_type": "markdown",
   "metadata": {},
   "source": [
    "### Weather Data"
   ]
  },
  {
   "cell_type": "code",
   "execution_count": 6,
   "metadata": {},
   "outputs": [],
   "source": [
    "def get_weather(df):\n",
    "    \n",
    "    df_new = df.copy(deep=True)\n",
    "    temps_list = []\n",
    "    rain_pop = []\n",
    "    humidity_list = []\n",
    "    days = list(range(1,8))\n",
    "    \n",
    "    for i in df.itertuples():\n",
    "        lat = i.lat\n",
    "        lon = i.lon\n",
    "        r = requests.get(f\"https://api.openweathermap.org/data/2.5/onecall?lat={lat}&lon={lon}&units=metric&appid={key}\").json()\n",
    "        weather_7_days = r['daily'][1:]\n",
    "        temps = [i['feels_like']['day'] for i in weather_7_days]\n",
    "        rain = [i['pop'] * 100 for i in weather_7_days]\n",
    "        humidity = [i['humidity'] for i in weather_7_days]\n",
    "        temps_list.append(temps)\n",
    "        rain_pop.append(rain)\n",
    "        humidity_list.append(humidity)\n",
    "        \n",
    "    df_new['day_plus'] = [days for _ in range(len(df))]\n",
    "    df_new['felt_temperatures'] = temps_list\n",
    "    df_new['rain_chances'] = rain_pop\n",
    "    df_new['humidity'] = humidity_list\n",
    "    \n",
    "    df_new = df_new.set_index(['id']).apply(pd.Series.explode).reset_index()\n",
    "    df_new[['lat', 'lon', 'day_plus', 'felt_temperatures', 'rain_chances', 'humidity']] = df_new[['lat', 'lon', 'day_plus', 'felt_temperatures', 'rain_chances', 'humidity']].apply(pd.to_numeric)\n",
    "    return df_new\n",
    "    "
   ]
  },
  {
   "cell_type": "code",
   "execution_count": 7,
   "metadata": {},
   "outputs": [
    {
     "data": {
      "text/html": [
       "<div>\n",
       "<style scoped>\n",
       "    .dataframe tbody tr th:only-of-type {\n",
       "        vertical-align: middle;\n",
       "    }\n",
       "\n",
       "    .dataframe tbody tr th {\n",
       "        vertical-align: top;\n",
       "    }\n",
       "\n",
       "    .dataframe thead th {\n",
       "        text-align: right;\n",
       "    }\n",
       "</style>\n",
       "<table border=\"1\" class=\"dataframe\">\n",
       "  <thead>\n",
       "    <tr style=\"text-align: right;\">\n",
       "      <th></th>\n",
       "      <th>id</th>\n",
       "      <th>city</th>\n",
       "      <th>lat</th>\n",
       "      <th>lon</th>\n",
       "      <th>day_plus</th>\n",
       "      <th>felt_temperatures</th>\n",
       "      <th>rain_chances</th>\n",
       "      <th>humidity</th>\n",
       "    </tr>\n",
       "  </thead>\n",
       "  <tbody>\n",
       "    <tr>\n",
       "      <th>0</th>\n",
       "      <td>0</td>\n",
       "      <td>Mont Saint Michel</td>\n",
       "      <td>48.635954</td>\n",
       "      <td>-1.511460</td>\n",
       "      <td>1</td>\n",
       "      <td>16.87</td>\n",
       "      <td>63.0</td>\n",
       "      <td>74</td>\n",
       "    </tr>\n",
       "    <tr>\n",
       "      <th>1</th>\n",
       "      <td>0</td>\n",
       "      <td>Mont Saint Michel</td>\n",
       "      <td>48.635954</td>\n",
       "      <td>-1.511460</td>\n",
       "      <td>2</td>\n",
       "      <td>18.68</td>\n",
       "      <td>0.0</td>\n",
       "      <td>59</td>\n",
       "    </tr>\n",
       "    <tr>\n",
       "      <th>2</th>\n",
       "      <td>0</td>\n",
       "      <td>Mont Saint Michel</td>\n",
       "      <td>48.635954</td>\n",
       "      <td>-1.511460</td>\n",
       "      <td>3</td>\n",
       "      <td>16.02</td>\n",
       "      <td>2.0</td>\n",
       "      <td>53</td>\n",
       "    </tr>\n",
       "    <tr>\n",
       "      <th>3</th>\n",
       "      <td>0</td>\n",
       "      <td>Mont Saint Michel</td>\n",
       "      <td>48.635954</td>\n",
       "      <td>-1.511460</td>\n",
       "      <td>4</td>\n",
       "      <td>11.03</td>\n",
       "      <td>28.0</td>\n",
       "      <td>67</td>\n",
       "    </tr>\n",
       "    <tr>\n",
       "      <th>4</th>\n",
       "      <td>0</td>\n",
       "      <td>Mont Saint Michel</td>\n",
       "      <td>48.635954</td>\n",
       "      <td>-1.511460</td>\n",
       "      <td>5</td>\n",
       "      <td>10.45</td>\n",
       "      <td>28.0</td>\n",
       "      <td>70</td>\n",
       "    </tr>\n",
       "    <tr>\n",
       "      <th>5</th>\n",
       "      <td>0</td>\n",
       "      <td>Mont Saint Michel</td>\n",
       "      <td>48.635954</td>\n",
       "      <td>-1.511460</td>\n",
       "      <td>6</td>\n",
       "      <td>11.44</td>\n",
       "      <td>19.0</td>\n",
       "      <td>66</td>\n",
       "    </tr>\n",
       "    <tr>\n",
       "      <th>6</th>\n",
       "      <td>0</td>\n",
       "      <td>Mont Saint Michel</td>\n",
       "      <td>48.635954</td>\n",
       "      <td>-1.511460</td>\n",
       "      <td>7</td>\n",
       "      <td>13.50</td>\n",
       "      <td>82.0</td>\n",
       "      <td>70</td>\n",
       "    </tr>\n",
       "    <tr>\n",
       "      <th>7</th>\n",
       "      <td>1</td>\n",
       "      <td>St Malo</td>\n",
       "      <td>48.649518</td>\n",
       "      <td>-2.026041</td>\n",
       "      <td>1</td>\n",
       "      <td>15.62</td>\n",
       "      <td>34.0</td>\n",
       "      <td>73</td>\n",
       "    </tr>\n",
       "    <tr>\n",
       "      <th>8</th>\n",
       "      <td>1</td>\n",
       "      <td>St Malo</td>\n",
       "      <td>48.649518</td>\n",
       "      <td>-2.026041</td>\n",
       "      <td>2</td>\n",
       "      <td>15.43</td>\n",
       "      <td>5.0</td>\n",
       "      <td>75</td>\n",
       "    </tr>\n",
       "    <tr>\n",
       "      <th>9</th>\n",
       "      <td>1</td>\n",
       "      <td>St Malo</td>\n",
       "      <td>48.649518</td>\n",
       "      <td>-2.026041</td>\n",
       "      <td>3</td>\n",
       "      <td>14.72</td>\n",
       "      <td>13.0</td>\n",
       "      <td>64</td>\n",
       "    </tr>\n",
       "    <tr>\n",
       "      <th>10</th>\n",
       "      <td>1</td>\n",
       "      <td>St Malo</td>\n",
       "      <td>48.649518</td>\n",
       "      <td>-2.026041</td>\n",
       "      <td>4</td>\n",
       "      <td>10.38</td>\n",
       "      <td>27.0</td>\n",
       "      <td>67</td>\n",
       "    </tr>\n",
       "    <tr>\n",
       "      <th>11</th>\n",
       "      <td>1</td>\n",
       "      <td>St Malo</td>\n",
       "      <td>48.649518</td>\n",
       "      <td>-2.026041</td>\n",
       "      <td>5</td>\n",
       "      <td>10.06</td>\n",
       "      <td>37.0</td>\n",
       "      <td>64</td>\n",
       "    </tr>\n",
       "    <tr>\n",
       "      <th>12</th>\n",
       "      <td>1</td>\n",
       "      <td>St Malo</td>\n",
       "      <td>48.649518</td>\n",
       "      <td>-2.026041</td>\n",
       "      <td>6</td>\n",
       "      <td>10.71</td>\n",
       "      <td>39.0</td>\n",
       "      <td>69</td>\n",
       "    </tr>\n",
       "    <tr>\n",
       "      <th>13</th>\n",
       "      <td>1</td>\n",
       "      <td>St Malo</td>\n",
       "      <td>48.649518</td>\n",
       "      <td>-2.026041</td>\n",
       "      <td>7</td>\n",
       "      <td>11.17</td>\n",
       "      <td>100.0</td>\n",
       "      <td>82</td>\n",
       "    </tr>\n",
       "    <tr>\n",
       "      <th>14</th>\n",
       "      <td>2</td>\n",
       "      <td>Bayeux</td>\n",
       "      <td>49.276462</td>\n",
       "      <td>-0.702474</td>\n",
       "      <td>1</td>\n",
       "      <td>17.93</td>\n",
       "      <td>49.0</td>\n",
       "      <td>69</td>\n",
       "    </tr>\n",
       "    <tr>\n",
       "      <th>15</th>\n",
       "      <td>2</td>\n",
       "      <td>Bayeux</td>\n",
       "      <td>49.276462</td>\n",
       "      <td>-0.702474</td>\n",
       "      <td>2</td>\n",
       "      <td>16.37</td>\n",
       "      <td>0.0</td>\n",
       "      <td>69</td>\n",
       "    </tr>\n",
       "    <tr>\n",
       "      <th>16</th>\n",
       "      <td>2</td>\n",
       "      <td>Bayeux</td>\n",
       "      <td>49.276462</td>\n",
       "      <td>-0.702474</td>\n",
       "      <td>3</td>\n",
       "      <td>15.09</td>\n",
       "      <td>0.0</td>\n",
       "      <td>54</td>\n",
       "    </tr>\n",
       "    <tr>\n",
       "      <th>17</th>\n",
       "      <td>2</td>\n",
       "      <td>Bayeux</td>\n",
       "      <td>49.276462</td>\n",
       "      <td>-0.702474</td>\n",
       "      <td>4</td>\n",
       "      <td>10.69</td>\n",
       "      <td>26.0</td>\n",
       "      <td>74</td>\n",
       "    </tr>\n",
       "    <tr>\n",
       "      <th>18</th>\n",
       "      <td>2</td>\n",
       "      <td>Bayeux</td>\n",
       "      <td>49.276462</td>\n",
       "      <td>-0.702474</td>\n",
       "      <td>5</td>\n",
       "      <td>10.14</td>\n",
       "      <td>62.0</td>\n",
       "      <td>73</td>\n",
       "    </tr>\n",
       "    <tr>\n",
       "      <th>19</th>\n",
       "      <td>2</td>\n",
       "      <td>Bayeux</td>\n",
       "      <td>49.276462</td>\n",
       "      <td>-0.702474</td>\n",
       "      <td>6</td>\n",
       "      <td>11.64</td>\n",
       "      <td>37.0</td>\n",
       "      <td>68</td>\n",
       "    </tr>\n",
       "  </tbody>\n",
       "</table>\n",
       "</div>"
      ],
      "text/plain": [
       "    id               city        lat       lon  day_plus  felt_temperatures  \\\n",
       "0    0  Mont Saint Michel  48.635954 -1.511460         1              16.87   \n",
       "1    0  Mont Saint Michel  48.635954 -1.511460         2              18.68   \n",
       "2    0  Mont Saint Michel  48.635954 -1.511460         3              16.02   \n",
       "3    0  Mont Saint Michel  48.635954 -1.511460         4              11.03   \n",
       "4    0  Mont Saint Michel  48.635954 -1.511460         5              10.45   \n",
       "5    0  Mont Saint Michel  48.635954 -1.511460         6              11.44   \n",
       "6    0  Mont Saint Michel  48.635954 -1.511460         7              13.50   \n",
       "7    1            St Malo  48.649518 -2.026041         1              15.62   \n",
       "8    1            St Malo  48.649518 -2.026041         2              15.43   \n",
       "9    1            St Malo  48.649518 -2.026041         3              14.72   \n",
       "10   1            St Malo  48.649518 -2.026041         4              10.38   \n",
       "11   1            St Malo  48.649518 -2.026041         5              10.06   \n",
       "12   1            St Malo  48.649518 -2.026041         6              10.71   \n",
       "13   1            St Malo  48.649518 -2.026041         7              11.17   \n",
       "14   2             Bayeux  49.276462 -0.702474         1              17.93   \n",
       "15   2             Bayeux  49.276462 -0.702474         2              16.37   \n",
       "16   2             Bayeux  49.276462 -0.702474         3              15.09   \n",
       "17   2             Bayeux  49.276462 -0.702474         4              10.69   \n",
       "18   2             Bayeux  49.276462 -0.702474         5              10.14   \n",
       "19   2             Bayeux  49.276462 -0.702474         6              11.64   \n",
       "\n",
       "    rain_chances  humidity  \n",
       "0           63.0        74  \n",
       "1            0.0        59  \n",
       "2            2.0        53  \n",
       "3           28.0        67  \n",
       "4           28.0        70  \n",
       "5           19.0        66  \n",
       "6           82.0        70  \n",
       "7           34.0        73  \n",
       "8            5.0        75  \n",
       "9           13.0        64  \n",
       "10          27.0        67  \n",
       "11          37.0        64  \n",
       "12          39.0        69  \n",
       "13         100.0        82  \n",
       "14          49.0        69  \n",
       "15           0.0        69  \n",
       "16           0.0        54  \n",
       "17          26.0        74  \n",
       "18          62.0        73  \n",
       "19          37.0        68  "
      ]
     },
     "execution_count": 7,
     "metadata": {},
     "output_type": "execute_result"
    }
   ],
   "source": [
    "df_full = get_weather(df_gps)\n",
    "df_full.head(20)"
   ]
  },
  {
   "cell_type": "code",
   "execution_count": 8,
   "metadata": {},
   "outputs": [
    {
     "name": "stdout",
     "output_type": "stream",
     "text": [
      "<class 'pandas.core.frame.DataFrame'>\n",
      "RangeIndex: 245 entries, 0 to 244\n",
      "Data columns (total 9 columns):\n",
      " #   Column                 Non-Null Count  Dtype  \n",
      "---  ------                 --------------  -----  \n",
      " 0   id                     245 non-null    int64  \n",
      " 1   city                   245 non-null    object \n",
      " 2   lat                    245 non-null    float64\n",
      " 3   lon                    245 non-null    float64\n",
      " 4   day_plus               245 non-null    int64  \n",
      " 5   felt_temperatures      245 non-null    float64\n",
      " 6   rain_chances           245 non-null    float64\n",
      " 7   humidity               245 non-null    int64  \n",
      " 8   rain_chances_inverted  245 non-null    float64\n",
      "dtypes: float64(5), int64(3), object(1)\n",
      "memory usage: 17.4+ KB\n"
     ]
    }
   ],
   "source": [
    "df_full['rain_chances_inverted'] = 100 - df_full['rain_chances']\n",
    "df_full.info()"
   ]
  },
  {
   "cell_type": "code",
   "execution_count": 12,
   "metadata": {},
   "outputs": [
    {
     "data": {
      "text/html": [
       "<div>\n",
       "<style scoped>\n",
       "    .dataframe tbody tr th:only-of-type {\n",
       "        vertical-align: middle;\n",
       "    }\n",
       "\n",
       "    .dataframe tbody tr th {\n",
       "        vertical-align: top;\n",
       "    }\n",
       "\n",
       "    .dataframe thead th {\n",
       "        text-align: right;\n",
       "    }\n",
       "</style>\n",
       "<table border=\"1\" class=\"dataframe\">\n",
       "  <thead>\n",
       "    <tr style=\"text-align: right;\">\n",
       "      <th></th>\n",
       "      <th>id</th>\n",
       "      <th>city</th>\n",
       "      <th>lat</th>\n",
       "      <th>lon</th>\n",
       "      <th>day_plus</th>\n",
       "      <th>felt_temperatures</th>\n",
       "      <th>rain_chances</th>\n",
       "      <th>humidity</th>\n",
       "      <th>rain_chances_inverted</th>\n",
       "      <th>score</th>\n",
       "    </tr>\n",
       "  </thead>\n",
       "  <tbody>\n",
       "    <tr>\n",
       "      <th>0</th>\n",
       "      <td>0</td>\n",
       "      <td>Mont Saint Michel</td>\n",
       "      <td>48.635954</td>\n",
       "      <td>-1.511460</td>\n",
       "      <td>1</td>\n",
       "      <td>16.87</td>\n",
       "      <td>63.0</td>\n",
       "      <td>74</td>\n",
       "      <td>37.0</td>\n",
       "      <td>136.26</td>\n",
       "    </tr>\n",
       "    <tr>\n",
       "      <th>1</th>\n",
       "      <td>0</td>\n",
       "      <td>Mont Saint Michel</td>\n",
       "      <td>48.635954</td>\n",
       "      <td>-1.511460</td>\n",
       "      <td>2</td>\n",
       "      <td>18.68</td>\n",
       "      <td>0.0</td>\n",
       "      <td>59</td>\n",
       "      <td>100.0</td>\n",
       "      <td>62.14</td>\n",
       "    </tr>\n",
       "    <tr>\n",
       "      <th>2</th>\n",
       "      <td>0</td>\n",
       "      <td>Mont Saint Michel</td>\n",
       "      <td>48.635954</td>\n",
       "      <td>-1.511460</td>\n",
       "      <td>3</td>\n",
       "      <td>16.02</td>\n",
       "      <td>2.0</td>\n",
       "      <td>53</td>\n",
       "      <td>98.0</td>\n",
       "      <td>66.46</td>\n",
       "    </tr>\n",
       "    <tr>\n",
       "      <th>3</th>\n",
       "      <td>0</td>\n",
       "      <td>Mont Saint Michel</td>\n",
       "      <td>48.635954</td>\n",
       "      <td>-1.511460</td>\n",
       "      <td>4</td>\n",
       "      <td>11.03</td>\n",
       "      <td>28.0</td>\n",
       "      <td>67</td>\n",
       "      <td>72.0</td>\n",
       "      <td>109.44</td>\n",
       "    </tr>\n",
       "    <tr>\n",
       "      <th>4</th>\n",
       "      <td>0</td>\n",
       "      <td>Mont Saint Michel</td>\n",
       "      <td>48.635954</td>\n",
       "      <td>-1.511460</td>\n",
       "      <td>5</td>\n",
       "      <td>10.45</td>\n",
       "      <td>28.0</td>\n",
       "      <td>70</td>\n",
       "      <td>72.0</td>\n",
       "      <td>112.10</td>\n",
       "    </tr>\n",
       "    <tr>\n",
       "      <th>5</th>\n",
       "      <td>0</td>\n",
       "      <td>Mont Saint Michel</td>\n",
       "      <td>48.635954</td>\n",
       "      <td>-1.511460</td>\n",
       "      <td>6</td>\n",
       "      <td>11.44</td>\n",
       "      <td>19.0</td>\n",
       "      <td>66</td>\n",
       "      <td>81.0</td>\n",
       "      <td>99.12</td>\n",
       "    </tr>\n",
       "    <tr>\n",
       "      <th>6</th>\n",
       "      <td>0</td>\n",
       "      <td>Mont Saint Michel</td>\n",
       "      <td>48.635954</td>\n",
       "      <td>-1.511460</td>\n",
       "      <td>7</td>\n",
       "      <td>13.50</td>\n",
       "      <td>82.0</td>\n",
       "      <td>70</td>\n",
       "      <td>18.0</td>\n",
       "      <td>160.00</td>\n",
       "    </tr>\n",
       "    <tr>\n",
       "      <th>7</th>\n",
       "      <td>1</td>\n",
       "      <td>St Malo</td>\n",
       "      <td>48.649518</td>\n",
       "      <td>-2.026041</td>\n",
       "      <td>1</td>\n",
       "      <td>15.62</td>\n",
       "      <td>34.0</td>\n",
       "      <td>73</td>\n",
       "      <td>66.0</td>\n",
       "      <td>109.26</td>\n",
       "    </tr>\n",
       "    <tr>\n",
       "      <th>8</th>\n",
       "      <td>1</td>\n",
       "      <td>St Malo</td>\n",
       "      <td>48.649518</td>\n",
       "      <td>-2.026041</td>\n",
       "      <td>2</td>\n",
       "      <td>15.43</td>\n",
       "      <td>5.0</td>\n",
       "      <td>75</td>\n",
       "      <td>95.0</td>\n",
       "      <td>81.64</td>\n",
       "    </tr>\n",
       "    <tr>\n",
       "      <th>9</th>\n",
       "      <td>1</td>\n",
       "      <td>St Malo</td>\n",
       "      <td>48.649518</td>\n",
       "      <td>-2.026041</td>\n",
       "      <td>3</td>\n",
       "      <td>14.72</td>\n",
       "      <td>13.0</td>\n",
       "      <td>64</td>\n",
       "      <td>87.0</td>\n",
       "      <td>85.56</td>\n",
       "    </tr>\n",
       "    <tr>\n",
       "      <th>10</th>\n",
       "      <td>1</td>\n",
       "      <td>St Malo</td>\n",
       "      <td>48.649518</td>\n",
       "      <td>-2.026041</td>\n",
       "      <td>4</td>\n",
       "      <td>10.38</td>\n",
       "      <td>27.0</td>\n",
       "      <td>67</td>\n",
       "      <td>73.0</td>\n",
       "      <td>109.74</td>\n",
       "    </tr>\n",
       "    <tr>\n",
       "      <th>11</th>\n",
       "      <td>1</td>\n",
       "      <td>St Malo</td>\n",
       "      <td>48.649518</td>\n",
       "      <td>-2.026041</td>\n",
       "      <td>5</td>\n",
       "      <td>10.06</td>\n",
       "      <td>37.0</td>\n",
       "      <td>64</td>\n",
       "      <td>63.0</td>\n",
       "      <td>118.88</td>\n",
       "    </tr>\n",
       "    <tr>\n",
       "      <th>12</th>\n",
       "      <td>1</td>\n",
       "      <td>St Malo</td>\n",
       "      <td>48.649518</td>\n",
       "      <td>-2.026041</td>\n",
       "      <td>6</td>\n",
       "      <td>10.71</td>\n",
       "      <td>39.0</td>\n",
       "      <td>69</td>\n",
       "      <td>61.0</td>\n",
       "      <td>122.08</td>\n",
       "    </tr>\n",
       "    <tr>\n",
       "      <th>13</th>\n",
       "      <td>1</td>\n",
       "      <td>St Malo</td>\n",
       "      <td>48.649518</td>\n",
       "      <td>-2.026041</td>\n",
       "      <td>7</td>\n",
       "      <td>11.17</td>\n",
       "      <td>100.0</td>\n",
       "      <td>82</td>\n",
       "      <td>0.0</td>\n",
       "      <td>188.66</td>\n",
       "    </tr>\n",
       "    <tr>\n",
       "      <th>14</th>\n",
       "      <td>2</td>\n",
       "      <td>Bayeux</td>\n",
       "      <td>49.276462</td>\n",
       "      <td>-0.702474</td>\n",
       "      <td>1</td>\n",
       "      <td>17.93</td>\n",
       "      <td>49.0</td>\n",
       "      <td>69</td>\n",
       "      <td>51.0</td>\n",
       "      <td>117.64</td>\n",
       "    </tr>\n",
       "  </tbody>\n",
       "</table>\n",
       "</div>"
      ],
      "text/plain": [
       "    id               city        lat       lon  day_plus  felt_temperatures  \\\n",
       "0    0  Mont Saint Michel  48.635954 -1.511460         1              16.87   \n",
       "1    0  Mont Saint Michel  48.635954 -1.511460         2              18.68   \n",
       "2    0  Mont Saint Michel  48.635954 -1.511460         3              16.02   \n",
       "3    0  Mont Saint Michel  48.635954 -1.511460         4              11.03   \n",
       "4    0  Mont Saint Michel  48.635954 -1.511460         5              10.45   \n",
       "5    0  Mont Saint Michel  48.635954 -1.511460         6              11.44   \n",
       "6    0  Mont Saint Michel  48.635954 -1.511460         7              13.50   \n",
       "7    1            St Malo  48.649518 -2.026041         1              15.62   \n",
       "8    1            St Malo  48.649518 -2.026041         2              15.43   \n",
       "9    1            St Malo  48.649518 -2.026041         3              14.72   \n",
       "10   1            St Malo  48.649518 -2.026041         4              10.38   \n",
       "11   1            St Malo  48.649518 -2.026041         5              10.06   \n",
       "12   1            St Malo  48.649518 -2.026041         6              10.71   \n",
       "13   1            St Malo  48.649518 -2.026041         7              11.17   \n",
       "14   2             Bayeux  49.276462 -0.702474         1              17.93   \n",
       "\n",
       "    rain_chances  humidity  rain_chances_inverted   score  \n",
       "0           63.0        74                   37.0  136.26  \n",
       "1            0.0        59                  100.0   62.14  \n",
       "2            2.0        53                   98.0   66.46  \n",
       "3           28.0        67                   72.0  109.44  \n",
       "4           28.0        70                   72.0  112.10  \n",
       "5           19.0        66                   81.0   99.12  \n",
       "6           82.0        70                   18.0  160.00  \n",
       "7           34.0        73                   66.0  109.26  \n",
       "8            5.0        75                   95.0   81.64  \n",
       "9           13.0        64                   87.0   85.56  \n",
       "10          27.0        67                   73.0  109.74  \n",
       "11          37.0        64                   63.0  118.88  \n",
       "12          39.0        69                   61.0  122.08  \n",
       "13         100.0        82                    0.0  188.66  \n",
       "14          49.0        69                   51.0  117.64  "
      ]
     },
     "execution_count": 12,
     "metadata": {},
     "output_type": "execute_result"
    }
   ],
   "source": [
    "df_full['score'] = df_full.apply(lambda x: ((35 - x['felt_temperatures']) * 2) + x['rain_chances'] + (x['humidity'] / 2), axis=1)\n",
    "df_full.head(15)"
   ]
  },
  {
   "cell_type": "code",
   "execution_count": 9,
   "metadata": {},
   "outputs": [
    {
     "data": {
      "application/vnd.plotly.v1+json": {
       "config": {
        "plotlyServerURL": "https://plot.ly"
       },
       "data": [
        {
         "hovertemplate": "<b>%{hovertext}</b><br><br>day_plus=1<br>humidity=%{marker.size}<br>lat=%{lat}<br>lon=%{lon}<br>felt_temperatures=%{marker.color}<extra></extra>",
         "hovertext": [
          "Mont Saint Michel",
          "Lille",
          "Chateau du Haut Koenigsbourg",
          "Saintes Maries de la mer",
          "Montauban",
          "Rouen",
          "Grenoble",
          "Marseille",
          "Avignon",
          "Dijon",
          "Toulouse",
          "Paris",
          "Strasbourg",
          "Collioure",
          "Ariege",
          "Amiens",
          "Annecy",
          "Aix en Provence",
          "Le Havre",
          "Biarritz",
          "Carcassonne",
          "Aigues Mortes",
          "St Malo",
          "Uzes",
          "Besancon",
          "Eguisheim",
          "Bormes les Mimosas",
          "La Rochelle",
          "Nimes",
          "Bayeux",
          "Gorges du Verdon",
          "Colmar",
          "Lyon",
          "Cassis",
          "Bayonne"
         ],
         "lat": [
          48.6359541,
          50.6365654,
          48.2495226,
          43.4522771,
          44.0175835,
          49.4404591,
          45.1875602,
          43.2961743,
          43.9492493,
          47.3215806,
          43.6044622,
          48.8588897,
          48.584614,
          42.52505,
          42.9455368,
          49.8941708,
          45.8992348,
          43.5298424,
          49.4938975,
          43.4832523,
          43.2130358,
          43.5658225,
          48.649518,
          44.0121279,
          47.2380222,
          48.0447968,
          43.1572172,
          46.1591126,
          43.8374249,
          49.2764624,
          43.7796864,
          48.0777517,
          45.7578137,
          43.2140359,
          43.4933379
         ],
         "legendgroup": "",
         "lon": [
          -1.511459954959514,
          3.0635282,
          7.3454923,
          4.4287172,
          1.3549991,
          1.0939658,
          5.7357819,
          5.3699525,
          4.8059012,
          5.0414701,
          1.4442469,
          2.3200410217200766,
          7.7507127,
          3.0831554,
          1.4065544156065486,
          2.2956951,
          6.1288847,
          5.4474738,
          0.1079732,
          -1.5592776,
          2.3491069,
          4.1912837,
          -2.0260409,
          4.4196718,
          6.0243622,
          7.3079618,
          6.329253867921363,
          -1.1520434,
          4.3600687,
          -0.7024738,
          6.3413854,
          7.3579641,
          4.8320114,
          5.5396318,
          -1.475099
         ],
         "marker": {
          "color": [
           16.05,
           16.75,
           12.3,
           18.09,
           17.51,
           17.4,
           20.71,
           18.62,
           21.79,
           17.35,
           17.4,
           18.42,
           14.48,
           17.61,
           11.61,
           16.56,
           18.45,
           21.26,
           12.93,
           14.78,
           19.36,
           19.22,
           14.75,
           20.82,
           17.59,
           15.48,
           18.39,
           15.7,
           21.72,
           16.7,
           18.34,
           15.54,
           19.38,
           18.87,
           15.39
          ],
          "coloraxis": "coloraxis",
          "size": [
           68,
           57,
           87,
           58,
           66,
           65,
           57,
           44,
           43,
           63,
           59,
           53,
           87,
           55,
           50,
           65,
           63,
           30,
           77,
           80,
           49,
           54,
           71,
           49,
           68,
           89,
           45,
           77,
           46,
           68,
           29,
           88,
           55,
           43,
           77
          ],
          "sizemode": "area",
          "sizeref": 0.11
         },
         "mode": "markers",
         "name": "",
         "showlegend": false,
         "subplot": "mapbox",
         "type": "scattermapbox"
        }
       ],
       "frames": [
        {
         "data": [
          {
           "hovertemplate": "<b>%{hovertext}</b><br><br>day_plus=1<br>humidity=%{marker.size}<br>lat=%{lat}<br>lon=%{lon}<br>felt_temperatures=%{marker.color}<extra></extra>",
           "hovertext": [
            "Mont Saint Michel",
            "Lille",
            "Chateau du Haut Koenigsbourg",
            "Saintes Maries de la mer",
            "Montauban",
            "Rouen",
            "Grenoble",
            "Marseille",
            "Avignon",
            "Dijon",
            "Toulouse",
            "Paris",
            "Strasbourg",
            "Collioure",
            "Ariege",
            "Amiens",
            "Annecy",
            "Aix en Provence",
            "Le Havre",
            "Biarritz",
            "Carcassonne",
            "Aigues Mortes",
            "St Malo",
            "Uzes",
            "Besancon",
            "Eguisheim",
            "Bormes les Mimosas",
            "La Rochelle",
            "Nimes",
            "Bayeux",
            "Gorges du Verdon",
            "Colmar",
            "Lyon",
            "Cassis",
            "Bayonne"
           ],
           "lat": [
            48.6359541,
            50.6365654,
            48.2495226,
            43.4522771,
            44.0175835,
            49.4404591,
            45.1875602,
            43.2961743,
            43.9492493,
            47.3215806,
            43.6044622,
            48.8588897,
            48.584614,
            42.52505,
            42.9455368,
            49.8941708,
            45.8992348,
            43.5298424,
            49.4938975,
            43.4832523,
            43.2130358,
            43.5658225,
            48.649518,
            44.0121279,
            47.2380222,
            48.0447968,
            43.1572172,
            46.1591126,
            43.8374249,
            49.2764624,
            43.7796864,
            48.0777517,
            45.7578137,
            43.2140359,
            43.4933379
           ],
           "legendgroup": "",
           "lon": [
            -1.511459954959514,
            3.0635282,
            7.3454923,
            4.4287172,
            1.3549991,
            1.0939658,
            5.7357819,
            5.3699525,
            4.8059012,
            5.0414701,
            1.4442469,
            2.3200410217200766,
            7.7507127,
            3.0831554,
            1.4065544156065486,
            2.2956951,
            6.1288847,
            5.4474738,
            0.1079732,
            -1.5592776,
            2.3491069,
            4.1912837,
            -2.0260409,
            4.4196718,
            6.0243622,
            7.3079618,
            6.329253867921363,
            -1.1520434,
            4.3600687,
            -0.7024738,
            6.3413854,
            7.3579641,
            4.8320114,
            5.5396318,
            -1.475099
           ],
           "marker": {
            "color": [
             16.05,
             16.75,
             12.3,
             18.09,
             17.51,
             17.4,
             20.71,
             18.62,
             21.79,
             17.35,
             17.4,
             18.42,
             14.48,
             17.61,
             11.61,
             16.56,
             18.45,
             21.26,
             12.93,
             14.78,
             19.36,
             19.22,
             14.75,
             20.82,
             17.59,
             15.48,
             18.39,
             15.7,
             21.72,
             16.7,
             18.34,
             15.54,
             19.38,
             18.87,
             15.39
            ],
            "coloraxis": "coloraxis",
            "size": [
             68,
             57,
             87,
             58,
             66,
             65,
             57,
             44,
             43,
             63,
             59,
             53,
             87,
             55,
             50,
             65,
             63,
             30,
             77,
             80,
             49,
             54,
             71,
             49,
             68,
             89,
             45,
             77,
             46,
             68,
             29,
             88,
             55,
             43,
             77
            ],
            "sizemode": "area",
            "sizeref": 0.11
           },
           "mode": "markers",
           "name": "",
           "showlegend": false,
           "subplot": "mapbox",
           "type": "scattermapbox"
          }
         ],
         "name": "1"
        },
        {
         "data": [
          {
           "hovertemplate": "<b>%{hovertext}</b><br><br>day_plus=2<br>humidity=%{marker.size}<br>lat=%{lat}<br>lon=%{lon}<br>felt_temperatures=%{marker.color}<extra></extra>",
           "hovertext": [
            "Dijon",
            "Eguisheim",
            "Collioure",
            "Lille",
            "Nimes",
            "Aigues Mortes",
            "Besancon",
            "Colmar",
            "Gorges du Verdon",
            "Saintes Maries de la mer",
            "Avignon",
            "Strasbourg",
            "Chateau du Haut Koenigsbourg",
            "Ariege",
            "Aix en Provence",
            "Cassis",
            "Biarritz",
            "Lyon",
            "Le Havre",
            "Carcassonne",
            "Grenoble",
            "Montauban",
            "Bayeux",
            "Marseille",
            "Rouen",
            "Paris",
            "St Malo",
            "La Rochelle",
            "Annecy",
            "Uzes",
            "Bormes les Mimosas",
            "Mont Saint Michel",
            "Amiens",
            "Toulouse",
            "Bayonne"
           ],
           "lat": [
            47.3215806,
            48.0447968,
            42.52505,
            50.6365654,
            43.8374249,
            43.5658225,
            47.2380222,
            48.0777517,
            43.7796864,
            43.4522771,
            43.9492493,
            48.584614,
            48.2495226,
            42.9455368,
            43.5298424,
            43.2140359,
            43.4832523,
            45.7578137,
            49.4938975,
            43.2130358,
            45.1875602,
            44.0175835,
            49.2764624,
            43.2961743,
            49.4404591,
            48.8588897,
            48.649518,
            46.1591126,
            45.8992348,
            44.0121279,
            43.1572172,
            48.6359541,
            49.8941708,
            43.6044622,
            43.4933379
           ],
           "legendgroup": "",
           "lon": [
            5.0414701,
            7.3079618,
            3.0831554,
            3.0635282,
            4.3600687,
            4.1912837,
            6.0243622,
            7.3579641,
            6.3413854,
            4.4287172,
            4.8059012,
            7.7507127,
            7.3454923,
            1.4065544156065486,
            5.4474738,
            5.5396318,
            -1.5592776,
            4.8320114,
            0.1079732,
            2.3491069,
            5.7357819,
            1.3549991,
            -0.7024738,
            5.3699525,
            1.0939658,
            2.3200410217200766,
            -2.0260409,
            -1.1520434,
            6.1288847,
            4.4196718,
            6.329253867921363,
            -1.511459954959514,
            2.2956951,
            1.4442469,
            -1.475099
           ],
           "marker": {
            "color": [
             17.86,
             17.95,
             21.24,
             16.04,
             23.69,
             20.53,
             18.46,
             17.91,
             19.6,
             19.45,
             22.75,
             17.14,
             14.6,
             13.56,
             21.72,
             18.41,
             14.86,
             19.49,
             14.89,
             20.62,
             17.98,
             19.39,
             17.5,
             18.53,
             17.84,
             17.25,
             15.3,
             16.62,
             17.57,
             22.72,
             19.45,
             17.24,
             16.29,
             19.42,
             15.49
            ],
            "coloraxis": "coloraxis",
            "size": [
             62,
             63,
             52,
             53,
             38,
             50,
             64,
             64,
             39,
             56,
             47,
             62,
             63,
             59,
             37,
             44,
             80,
             59,
             77,
             58,
             76,
             67,
             71,
             49,
             68,
             56,
             71,
             72,
             67,
             40,
             45,
             71,
             66,
             64,
             78
            ],
            "sizemode": "area",
            "sizeref": 0.11
           },
           "mode": "markers",
           "name": "",
           "showlegend": false,
           "subplot": "mapbox",
           "type": "scattermapbox"
          }
         ],
         "name": "2"
        },
        {
         "data": [
          {
           "hovertemplate": "<b>%{hovertext}</b><br><br>day_plus=3<br>humidity=%{marker.size}<br>lat=%{lat}<br>lon=%{lon}<br>felt_temperatures=%{marker.color}<extra></extra>",
           "hovertext": [
            "Bormes les Mimosas",
            "Lyon",
            "Cassis",
            "Avignon",
            "Grenoble",
            "Marseille",
            "Annecy",
            "Dijon",
            "Aix en Provence",
            "Besancon",
            "Uzes",
            "Saintes Maries de la mer",
            "Eguisheim",
            "Mont Saint Michel",
            "La Rochelle",
            "St Malo",
            "Bayonne",
            "Bayeux",
            "Biarritz",
            "Le Havre",
            "Montauban",
            "Rouen",
            "Toulouse",
            "Paris",
            "Ariege",
            "Amiens",
            "Gorges du Verdon",
            "Chateau du Haut Koenigsbourg",
            "Lille",
            "Nimes",
            "Colmar",
            "Collioure",
            "Strasbourg",
            "Aigues Mortes",
            "Carcassonne"
           ],
           "lat": [
            43.1572172,
            45.7578137,
            43.2140359,
            43.9492493,
            45.1875602,
            43.2961743,
            45.8992348,
            47.3215806,
            43.5298424,
            47.2380222,
            44.0121279,
            43.4522771,
            48.0447968,
            48.6359541,
            46.1591126,
            48.649518,
            43.4933379,
            49.2764624,
            43.4832523,
            49.4938975,
            44.0175835,
            49.4404591,
            43.6044622,
            48.8588897,
            42.9455368,
            49.8941708,
            43.7796864,
            48.2495226,
            50.6365654,
            43.8374249,
            48.0777517,
            42.52505,
            48.584614,
            43.5658225,
            43.2130358
           ],
           "legendgroup": "",
           "lon": [
            6.329253867921363,
            4.8320114,
            5.5396318,
            4.8059012,
            5.7357819,
            5.3699525,
            6.1288847,
            5.0414701,
            5.4474738,
            6.0243622,
            4.4196718,
            4.4287172,
            7.3079618,
            -1.511459954959514,
            -1.1520434,
            -2.0260409,
            -1.475099,
            -0.7024738,
            -1.5592776,
            0.1079732,
            1.3549991,
            1.0939658,
            1.4442469,
            2.3200410217200766,
            1.4065544156065486,
            2.2956951,
            6.3413854,
            7.3454923,
            3.0635282,
            4.3600687,
            7.3579641,
            3.0831554,
            7.7507127,
            4.1912837,
            2.3491069
           ],
           "marker": {
            "color": [
             18.86,
             18.14,
             18.32,
             20.3,
             14.22,
             18.76,
             14.24,
             14.73,
             22.31,
             15.18,
             20.78,
             19.53,
             12.93,
             18.36,
             17.68,
             15.25,
             16.46,
             16.04,
             15.55,
             14.49,
             19.66,
             16.72,
             19.3,
             16.93,
             11.37,
             15.41,
             18.49,
             9.13,
             14.56,
             22.01,
             12.96,
             21.25,
             12.24,
             21.12,
             19.8
            ],
            "coloraxis": "coloraxis",
            "size": [
             54,
             47,
             62,
             46,
             79,
             60,
             67,
             58,
             43,
             55,
             41,
             48,
             52,
             63,
             70,
             77,
             75,
             70,
             79,
             71,
             48,
             62,
             53,
             44,
             68,
             56,
             39,
             52,
             47,
             38,
             52,
             47,
             48,
             42,
             54
            ],
            "sizemode": "area",
            "sizeref": 0.11
           },
           "mode": "markers",
           "name": "",
           "showlegend": false,
           "subplot": "mapbox",
           "type": "scattermapbox"
          }
         ],
         "name": "3"
        },
        {
         "data": [
          {
           "hovertemplate": "<b>%{hovertext}</b><br><br>day_plus=4<br>humidity=%{marker.size}<br>lat=%{lat}<br>lon=%{lon}<br>felt_temperatures=%{marker.color}<extra></extra>",
           "hovertext": [
            "La Rochelle",
            "Nimes",
            "Bormes les Mimosas",
            "Bayonne",
            "Avignon",
            "Biarritz",
            "Carcassonne",
            "Cassis",
            "Montauban",
            "Saintes Maries de la mer",
            "Toulouse",
            "Collioure",
            "Uzes",
            "Ariege",
            "Aix en Provence",
            "Aigues Mortes",
            "Marseille",
            "Gorges du Verdon",
            "Besancon",
            "Bayeux",
            "Colmar",
            "Eguisheim",
            "Amiens",
            "Grenoble",
            "Chateau du Haut Koenigsbourg",
            "Annecy",
            "Dijon",
            "St Malo",
            "Le Havre",
            "Lyon",
            "Rouen",
            "Strasbourg",
            "Mont Saint Michel",
            "Lille",
            "Paris"
           ],
           "lat": [
            46.1591126,
            43.8374249,
            43.1572172,
            43.4933379,
            43.9492493,
            43.4832523,
            43.2130358,
            43.2140359,
            44.0175835,
            43.4522771,
            43.6044622,
            42.52505,
            44.0121279,
            42.9455368,
            43.5298424,
            43.5658225,
            43.2961743,
            43.7796864,
            47.2380222,
            49.2764624,
            48.0777517,
            48.0447968,
            49.8941708,
            45.1875602,
            48.2495226,
            45.8992348,
            47.3215806,
            48.649518,
            49.4938975,
            45.7578137,
            49.4404591,
            48.584614,
            48.6359541,
            50.6365654,
            48.8588897
           ],
           "legendgroup": "",
           "lon": [
            -1.1520434,
            4.3600687,
            6.329253867921363,
            -1.475099,
            4.8059012,
            -1.5592776,
            2.3491069,
            5.5396318,
            1.3549991,
            4.4287172,
            1.4442469,
            3.0831554,
            4.4196718,
            1.4065544156065486,
            5.4474738,
            4.1912837,
            5.3699525,
            6.3413854,
            6.0243622,
            -0.7024738,
            7.3579641,
            7.3079618,
            2.2956951,
            5.7357819,
            7.3454923,
            6.1288847,
            5.0414701,
            -2.0260409,
            0.1079732,
            4.8320114,
            1.0939658,
            7.7507127,
            -1.511459954959514,
            3.0635282,
            2.3200410217200766
           ],
           "marker": {
            "color": [
             14.7,
             20.06,
             14.98,
             17.03,
             19.35,
             16.24,
             21.41,
             15.58,
             18.85,
             15.75,
             19.26,
             17.82,
             19.25,
             14.85,
             18.04,
             17.24,
             15.18,
             13.51,
             14.29,
             14.06,
             12.7,
             12.48,
             14.25,
             18.22,
             9.08,
             13.21,
             12.89,
             13.43,
             13.04,
             14.83,
             14.67,
             13.01,
             14.56,
             14.6,
             15.97
            ],
            "coloraxis": "coloraxis",
            "size": [
             61,
             29,
             58,
             67,
             36,
             71,
             35,
             61,
             45,
             55,
             44,
             55,
             32,
             39,
             48,
             43,
             62,
             54,
             37,
             54,
             36,
             36,
             44,
             54,
             35,
             54,
             47,
             57,
             53,
             42,
             48,
             34,
             54,
             34,
             29
            ],
            "sizemode": "area",
            "sizeref": 0.11
           },
           "mode": "markers",
           "name": "",
           "showlegend": false,
           "subplot": "mapbox",
           "type": "scattermapbox"
          }
         ],
         "name": "4"
        },
        {
         "data": [
          {
           "hovertemplate": "<b>%{hovertext}</b><br><br>day_plus=5<br>humidity=%{marker.size}<br>lat=%{lat}<br>lon=%{lon}<br>felt_temperatures=%{marker.color}<extra></extra>",
           "hovertext": [
            "Eguisheim",
            "Toulouse",
            "Uzes",
            "Ariege",
            "Rouen",
            "Gorges du Verdon",
            "Colmar",
            "Avignon",
            "Carcassonne",
            "Chateau du Haut Koenigsbourg",
            "Aigues Mortes",
            "Amiens",
            "Collioure",
            "Strasbourg",
            "Saintes Maries de la mer",
            "Paris",
            "Nimes",
            "Besancon",
            "Bayeux",
            "Grenoble",
            "Cassis",
            "Lille",
            "Biarritz",
            "Annecy",
            "Marseille",
            "St Malo",
            "Bormes les Mimosas",
            "Bayonne",
            "Montauban",
            "Dijon",
            "Mont Saint Michel",
            "Aix en Provence",
            "Le Havre",
            "La Rochelle",
            "Lyon"
           ],
           "lat": [
            48.0447968,
            43.6044622,
            44.0121279,
            42.9455368,
            49.4404591,
            43.7796864,
            48.0777517,
            43.9492493,
            43.2130358,
            48.2495226,
            43.5658225,
            49.8941708,
            42.52505,
            48.584614,
            43.4522771,
            48.8588897,
            43.8374249,
            47.2380222,
            49.2764624,
            45.1875602,
            43.2140359,
            50.6365654,
            43.4832523,
            45.8992348,
            43.2961743,
            48.649518,
            43.1572172,
            43.4933379,
            44.0175835,
            47.3215806,
            48.6359541,
            43.5298424,
            49.4938975,
            46.1591126,
            45.7578137
           ],
           "legendgroup": "",
           "lon": [
            7.3079618,
            1.4442469,
            4.4196718,
            1.4065544156065486,
            1.0939658,
            6.3413854,
            7.3579641,
            4.8059012,
            2.3491069,
            7.3454923,
            4.1912837,
            2.2956951,
            3.0831554,
            7.7507127,
            4.4287172,
            2.3200410217200766,
            4.3600687,
            6.0243622,
            -0.7024738,
            5.7357819,
            5.5396318,
            3.0635282,
            -1.5592776,
            6.1288847,
            5.3699525,
            -2.0260409,
            6.329253867921363,
            -1.475099,
            1.3549991,
            5.0414701,
            -1.511459954959514,
            5.4474738,
            0.1079732,
            -1.1520434,
            4.8320114
           ],
           "marker": {
            "color": [
             12.62,
             17.28,
             19.84,
             9.18,
             14.43,
             12.32,
             12.7,
             20.43,
             17.86,
             9.56,
             16.28,
             13.56,
             20.03,
             13.36,
             14.82,
             15.5,
             20.32,
             13.85,
             8.17,
             18.29,
             14.49,
             13.95,
             11,
             14.03,
             14.49,
             10.93,
             14.49,
             10.99,
             14.94,
             13.31,
             11.31,
             16.71,
             11.18,
             11.44,
             17.78
            ],
            "coloraxis": "coloraxis",
            "size": [
             39,
             53,
             41,
             63,
             60,
             50,
             40,
             40,
             51,
             39,
             58,
             50,
             45,
             36,
             65,
             32,
             40,
             40,
             96,
             36,
             65,
             38,
             88,
             44,
             66,
             72,
             54,
             89,
             61,
             53,
             75,
             48,
             75,
             75,
             40
            ],
            "sizemode": "area",
            "sizeref": 0.11
           },
           "mode": "markers",
           "name": "",
           "showlegend": false,
           "subplot": "mapbox",
           "type": "scattermapbox"
          }
         ],
         "name": "5"
        },
        {
         "data": [
          {
           "hovertemplate": "<b>%{hovertext}</b><br><br>day_plus=6<br>humidity=%{marker.size}<br>lat=%{lat}<br>lon=%{lon}<br>felt_temperatures=%{marker.color}<extra></extra>",
           "hovertext": [
            "Mont Saint Michel",
            "Collioure",
            "Amiens",
            "Bayonne",
            "Toulouse",
            "Paris",
            "Carcassonne",
            "Biarritz",
            "Bayeux",
            "Ariege",
            "Montauban",
            "Rouen",
            "Le Havre",
            "St Malo",
            "Lille",
            "Strasbourg",
            "Annecy",
            "Besancon",
            "Cassis",
            "Uzes",
            "Grenoble",
            "Dijon",
            "Colmar",
            "Nimes",
            "Bormes les Mimosas",
            "Eguisheim",
            "Avignon",
            "Chateau du Haut Koenigsbourg",
            "Aigues Mortes",
            "Lyon",
            "Aix en Provence",
            "Gorges du Verdon",
            "La Rochelle",
            "Saintes Maries de la mer",
            "Marseille"
           ],
           "lat": [
            48.6359541,
            42.52505,
            49.8941708,
            43.4933379,
            43.6044622,
            48.8588897,
            43.2130358,
            43.4832523,
            49.2764624,
            42.9455368,
            44.0175835,
            49.4404591,
            49.4938975,
            48.649518,
            50.6365654,
            48.584614,
            45.8992348,
            47.2380222,
            43.2140359,
            44.0121279,
            45.1875602,
            47.3215806,
            48.0777517,
            43.8374249,
            43.1572172,
            48.0447968,
            43.9492493,
            48.2495226,
            43.5658225,
            45.7578137,
            43.5298424,
            43.7796864,
            46.1591126,
            43.4522771,
            43.2961743
           ],
           "legendgroup": "",
           "lon": [
            -1.511459954959514,
            3.0831554,
            2.2956951,
            -1.475099,
            1.4442469,
            2.3200410217200766,
            2.3491069,
            -1.5592776,
            -0.7024738,
            1.4065544156065486,
            1.3549991,
            1.0939658,
            0.1079732,
            -2.0260409,
            3.0635282,
            7.7507127,
            6.1288847,
            6.0243622,
            5.5396318,
            4.4196718,
            5.7357819,
            5.0414701,
            7.3579641,
            4.3600687,
            6.329253867921363,
            7.3079618,
            4.8059012,
            7.3454923,
            4.1912837,
            4.8320114,
            5.4474738,
            6.3413854,
            -1.1520434,
            4.4287172,
            5.3699525
           ],
           "marker": {
            "color": [
             11.85,
             7.2,
             9.78,
             11.15,
             3.94,
             14.29,
             4.2,
             11.08,
             12.33,
             0.22,
             5.52,
             13.78,
             10.97,
             9.77,
             12.65,
             12.01,
             11.18,
             8.69,
             12.86,
             9.93,
             11.48,
             10.12,
             11.59,
             11.01,
             11.45,
             11.33,
             11.29,
             9.08,
             12.01,
             8.72,
             11.28,
             5.2,
             11.55,
             11.88,
             13.24
            ],
            "coloraxis": "coloraxis",
            "size": [
             74,
             87,
             71,
             84,
             92,
             48,
             91,
             83,
             65,
             99,
             91,
             60,
             72,
             82,
             39,
             50,
             77,
             95,
             85,
             92,
             88,
             75,
             57,
             92,
             94,
             58,
             85,
             52,
             91,
             88,
             82,
             87,
             71,
             89,
             82
            ],
            "sizemode": "area",
            "sizeref": 0.11
           },
           "mode": "markers",
           "name": "",
           "showlegend": false,
           "subplot": "mapbox",
           "type": "scattermapbox"
          }
         ],
         "name": "6"
        },
        {
         "data": [
          {
           "hovertemplate": "<b>%{hovertext}</b><br><br>day_plus=7<br>humidity=%{marker.size}<br>lat=%{lat}<br>lon=%{lon}<br>felt_temperatures=%{marker.color}<extra></extra>",
           "hovertext": [
            "Annecy",
            "Marseille",
            "Saintes Maries de la mer",
            "Grenoble",
            "Biarritz",
            "St Malo",
            "Bormes les Mimosas",
            "Bayonne",
            "Mont Saint Michel",
            "Lyon",
            "Gorges du Verdon",
            "Cassis",
            "Bayeux",
            "Le Havre",
            "Dijon",
            "Strasbourg",
            "Collioure",
            "Amiens",
            "Aigues Mortes",
            "Chateau du Haut Koenigsbourg",
            "Nimes",
            "Carcassonne",
            "Paris",
            "Montauban",
            "Colmar",
            "Ariege",
            "Rouen",
            "Eguisheim",
            "Avignon",
            "Toulouse",
            "Lille",
            "Besancon",
            "Aix en Provence",
            "Uzes",
            "La Rochelle"
           ],
           "lat": [
            45.8992348,
            43.2961743,
            43.4522771,
            45.1875602,
            43.4832523,
            48.649518,
            43.1572172,
            43.4933379,
            48.6359541,
            45.7578137,
            43.7796864,
            43.2140359,
            49.2764624,
            49.4938975,
            47.3215806,
            48.584614,
            42.52505,
            49.8941708,
            43.5658225,
            48.2495226,
            43.8374249,
            43.2130358,
            48.8588897,
            44.0175835,
            48.0777517,
            42.9455368,
            49.4404591,
            48.0447968,
            43.9492493,
            43.6044622,
            50.6365654,
            47.2380222,
            43.5298424,
            44.0121279,
            46.1591126
           ],
           "legendgroup": "",
           "lon": [
            6.1288847,
            5.3699525,
            4.4287172,
            5.7357819,
            -1.5592776,
            -2.0260409,
            6.329253867921363,
            -1.475099,
            -1.511459954959514,
            4.8320114,
            6.3413854,
            5.5396318,
            -0.7024738,
            0.1079732,
            5.0414701,
            7.7507127,
            3.0831554,
            2.2956951,
            4.1912837,
            7.3454923,
            4.3600687,
            2.3491069,
            2.3200410217200766,
            1.3549991,
            7.3579641,
            1.4065544156065486,
            1.0939658,
            7.3079618,
            4.8059012,
            1.4442469,
            3.0635282,
            6.0243622,
            5.4474738,
            4.4196718,
            -1.1520434
           ],
           "marker": {
            "color": [
             10.46,
             11.96,
             12.94,
             6.33,
             10.15,
             10.13,
             12.9,
             10.12,
             11.59,
             5.5,
             6.08,
             11.76,
             9.88,
             10.57,
             10.99,
             14.17,
             12.65,
             12.66,
             13.08,
             10.4,
             13.31,
             13.71,
             14.09,
             12.99,
             13.23,
             1.05,
             12.66,
             13.16,
             10.89,
             11.55,
             13.11,
             14.04,
             10.83,
             12.64,
             11.57
            ],
            "coloraxis": "coloraxis",
            "size": [
             73,
             66,
             63,
             99,
             80,
             73,
             63,
             82,
             69,
             90,
             95,
             67,
             67,
             63,
             81,
             56,
             63,
             57,
             60,
             56,
             55,
             49,
             47,
             60,
             59,
             90,
             57,
             59,
             76,
             66,
             44,
             64,
             69,
             58,
             76
            ],
            "sizemode": "area",
            "sizeref": 0.11
           },
           "mode": "markers",
           "name": "",
           "showlegend": false,
           "subplot": "mapbox",
           "type": "scattermapbox"
          }
         ],
         "name": "7"
        }
       ],
       "layout": {
        "coloraxis": {
         "colorbar": {
          "title": {
           "text": "felt_temperatures"
          }
         },
         "colorscale": [
          [
           0,
           "rgb(0,0,255)"
          ],
          [
           0.1,
           "rgb(51,153,255)"
          ],
          [
           0.2,
           "rgb(102,204,255)"
          ],
          [
           0.3,
           "rgb(153,204,255)"
          ],
          [
           0.4,
           "rgb(204,204,255)"
          ],
          [
           0.5,
           "rgb(255,255,255)"
          ],
          [
           0.6,
           "rgb(255,204,255)"
          ],
          [
           0.7,
           "rgb(255,153,255)"
          ],
          [
           0.8,
           "rgb(255,102,204)"
          ],
          [
           0.9,
           "rgb(255,102,102)"
          ],
          [
           1,
           "rgb(255,0,0)"
          ]
         ]
        },
        "height": 800,
        "legend": {
         "itemsizing": "constant",
         "tracegroupgap": 0
        },
        "mapbox": {
         "accesstoken": "pk.eyJ1Ijoidm9ud2VuIiwiYSI6ImNsMWM0dmZnazA0N2gzZG8wa2N1OTM0ZDEifQ.lCZ3DFaUYPS5XIJCWi6yNA",
         "center": {
          "lat": 45.84234407428571,
          "lon": 3.3957386442939566
         },
         "domain": {
          "x": [
           0,
           1
          ],
          "y": [
           0,
           1
          ]
         },
         "zoom": 5
        },
        "margin": {
         "t": 60
        },
        "sliders": [
         {
          "active": 0,
          "currentvalue": {
           "prefix": "day_plus="
          },
          "len": 0.9,
          "pad": {
           "b": 10,
           "t": 60
          },
          "steps": [
           {
            "args": [
             [
              "1"
             ],
             {
              "frame": {
               "duration": 0,
               "redraw": true
              },
              "fromcurrent": true,
              "mode": "immediate",
              "transition": {
               "duration": 0,
               "easing": "linear"
              }
             }
            ],
            "label": "1",
            "method": "animate"
           },
           {
            "args": [
             [
              "2"
             ],
             {
              "frame": {
               "duration": 0,
               "redraw": true
              },
              "fromcurrent": true,
              "mode": "immediate",
              "transition": {
               "duration": 0,
               "easing": "linear"
              }
             }
            ],
            "label": "2",
            "method": "animate"
           },
           {
            "args": [
             [
              "3"
             ],
             {
              "frame": {
               "duration": 0,
               "redraw": true
              },
              "fromcurrent": true,
              "mode": "immediate",
              "transition": {
               "duration": 0,
               "easing": "linear"
              }
             }
            ],
            "label": "3",
            "method": "animate"
           },
           {
            "args": [
             [
              "4"
             ],
             {
              "frame": {
               "duration": 0,
               "redraw": true
              },
              "fromcurrent": true,
              "mode": "immediate",
              "transition": {
               "duration": 0,
               "easing": "linear"
              }
             }
            ],
            "label": "4",
            "method": "animate"
           },
           {
            "args": [
             [
              "5"
             ],
             {
              "frame": {
               "duration": 0,
               "redraw": true
              },
              "fromcurrent": true,
              "mode": "immediate",
              "transition": {
               "duration": 0,
               "easing": "linear"
              }
             }
            ],
            "label": "5",
            "method": "animate"
           },
           {
            "args": [
             [
              "6"
             ],
             {
              "frame": {
               "duration": 0,
               "redraw": true
              },
              "fromcurrent": true,
              "mode": "immediate",
              "transition": {
               "duration": 0,
               "easing": "linear"
              }
             }
            ],
            "label": "6",
            "method": "animate"
           },
           {
            "args": [
             [
              "7"
             ],
             {
              "frame": {
               "duration": 0,
               "redraw": true
              },
              "fromcurrent": true,
              "mode": "immediate",
              "transition": {
               "duration": 0,
               "easing": "linear"
              }
             }
            ],
            "label": "7",
            "method": "animate"
           }
          ],
          "x": 0.1,
          "xanchor": "left",
          "y": 0,
          "yanchor": "top"
         }
        ],
        "template": {
         "data": {
          "bar": [
           {
            "error_x": {
             "color": "#f2f5fa"
            },
            "error_y": {
             "color": "#f2f5fa"
            },
            "marker": {
             "line": {
              "color": "rgb(17,17,17)",
              "width": 0.5
             },
             "pattern": {
              "fillmode": "overlay",
              "size": 10,
              "solidity": 0.2
             }
            },
            "type": "bar"
           }
          ],
          "barpolar": [
           {
            "marker": {
             "line": {
              "color": "rgb(17,17,17)",
              "width": 0.5
             },
             "pattern": {
              "fillmode": "overlay",
              "size": 10,
              "solidity": 0.2
             }
            },
            "type": "barpolar"
           }
          ],
          "carpet": [
           {
            "aaxis": {
             "endlinecolor": "#A2B1C6",
             "gridcolor": "#506784",
             "linecolor": "#506784",
             "minorgridcolor": "#506784",
             "startlinecolor": "#A2B1C6"
            },
            "baxis": {
             "endlinecolor": "#A2B1C6",
             "gridcolor": "#506784",
             "linecolor": "#506784",
             "minorgridcolor": "#506784",
             "startlinecolor": "#A2B1C6"
            },
            "type": "carpet"
           }
          ],
          "choropleth": [
           {
            "colorbar": {
             "outlinewidth": 0,
             "ticks": ""
            },
            "type": "choropleth"
           }
          ],
          "contour": [
           {
            "colorbar": {
             "outlinewidth": 0,
             "ticks": ""
            },
            "colorscale": [
             [
              0,
              "#0d0887"
             ],
             [
              0.1111111111111111,
              "#46039f"
             ],
             [
              0.2222222222222222,
              "#7201a8"
             ],
             [
              0.3333333333333333,
              "#9c179e"
             ],
             [
              0.4444444444444444,
              "#bd3786"
             ],
             [
              0.5555555555555556,
              "#d8576b"
             ],
             [
              0.6666666666666666,
              "#ed7953"
             ],
             [
              0.7777777777777778,
              "#fb9f3a"
             ],
             [
              0.8888888888888888,
              "#fdca26"
             ],
             [
              1,
              "#f0f921"
             ]
            ],
            "type": "contour"
           }
          ],
          "contourcarpet": [
           {
            "colorbar": {
             "outlinewidth": 0,
             "ticks": ""
            },
            "type": "contourcarpet"
           }
          ],
          "heatmap": [
           {
            "colorbar": {
             "outlinewidth": 0,
             "ticks": ""
            },
            "colorscale": [
             [
              0,
              "#0d0887"
             ],
             [
              0.1111111111111111,
              "#46039f"
             ],
             [
              0.2222222222222222,
              "#7201a8"
             ],
             [
              0.3333333333333333,
              "#9c179e"
             ],
             [
              0.4444444444444444,
              "#bd3786"
             ],
             [
              0.5555555555555556,
              "#d8576b"
             ],
             [
              0.6666666666666666,
              "#ed7953"
             ],
             [
              0.7777777777777778,
              "#fb9f3a"
             ],
             [
              0.8888888888888888,
              "#fdca26"
             ],
             [
              1,
              "#f0f921"
             ]
            ],
            "type": "heatmap"
           }
          ],
          "heatmapgl": [
           {
            "colorbar": {
             "outlinewidth": 0,
             "ticks": ""
            },
            "colorscale": [
             [
              0,
              "#0d0887"
             ],
             [
              0.1111111111111111,
              "#46039f"
             ],
             [
              0.2222222222222222,
              "#7201a8"
             ],
             [
              0.3333333333333333,
              "#9c179e"
             ],
             [
              0.4444444444444444,
              "#bd3786"
             ],
             [
              0.5555555555555556,
              "#d8576b"
             ],
             [
              0.6666666666666666,
              "#ed7953"
             ],
             [
              0.7777777777777778,
              "#fb9f3a"
             ],
             [
              0.8888888888888888,
              "#fdca26"
             ],
             [
              1,
              "#f0f921"
             ]
            ],
            "type": "heatmapgl"
           }
          ],
          "histogram": [
           {
            "marker": {
             "pattern": {
              "fillmode": "overlay",
              "size": 10,
              "solidity": 0.2
             }
            },
            "type": "histogram"
           }
          ],
          "histogram2d": [
           {
            "colorbar": {
             "outlinewidth": 0,
             "ticks": ""
            },
            "colorscale": [
             [
              0,
              "#0d0887"
             ],
             [
              0.1111111111111111,
              "#46039f"
             ],
             [
              0.2222222222222222,
              "#7201a8"
             ],
             [
              0.3333333333333333,
              "#9c179e"
             ],
             [
              0.4444444444444444,
              "#bd3786"
             ],
             [
              0.5555555555555556,
              "#d8576b"
             ],
             [
              0.6666666666666666,
              "#ed7953"
             ],
             [
              0.7777777777777778,
              "#fb9f3a"
             ],
             [
              0.8888888888888888,
              "#fdca26"
             ],
             [
              1,
              "#f0f921"
             ]
            ],
            "type": "histogram2d"
           }
          ],
          "histogram2dcontour": [
           {
            "colorbar": {
             "outlinewidth": 0,
             "ticks": ""
            },
            "colorscale": [
             [
              0,
              "#0d0887"
             ],
             [
              0.1111111111111111,
              "#46039f"
             ],
             [
              0.2222222222222222,
              "#7201a8"
             ],
             [
              0.3333333333333333,
              "#9c179e"
             ],
             [
              0.4444444444444444,
              "#bd3786"
             ],
             [
              0.5555555555555556,
              "#d8576b"
             ],
             [
              0.6666666666666666,
              "#ed7953"
             ],
             [
              0.7777777777777778,
              "#fb9f3a"
             ],
             [
              0.8888888888888888,
              "#fdca26"
             ],
             [
              1,
              "#f0f921"
             ]
            ],
            "type": "histogram2dcontour"
           }
          ],
          "mesh3d": [
           {
            "colorbar": {
             "outlinewidth": 0,
             "ticks": ""
            },
            "type": "mesh3d"
           }
          ],
          "parcoords": [
           {
            "line": {
             "colorbar": {
              "outlinewidth": 0,
              "ticks": ""
             }
            },
            "type": "parcoords"
           }
          ],
          "pie": [
           {
            "automargin": true,
            "type": "pie"
           }
          ],
          "scatter": [
           {
            "marker": {
             "line": {
              "color": "#283442"
             }
            },
            "type": "scatter"
           }
          ],
          "scatter3d": [
           {
            "line": {
             "colorbar": {
              "outlinewidth": 0,
              "ticks": ""
             }
            },
            "marker": {
             "colorbar": {
              "outlinewidth": 0,
              "ticks": ""
             }
            },
            "type": "scatter3d"
           }
          ],
          "scattercarpet": [
           {
            "marker": {
             "colorbar": {
              "outlinewidth": 0,
              "ticks": ""
             }
            },
            "type": "scattercarpet"
           }
          ],
          "scattergeo": [
           {
            "marker": {
             "colorbar": {
              "outlinewidth": 0,
              "ticks": ""
             }
            },
            "type": "scattergeo"
           }
          ],
          "scattergl": [
           {
            "marker": {
             "line": {
              "color": "#283442"
             }
            },
            "type": "scattergl"
           }
          ],
          "scattermapbox": [
           {
            "marker": {
             "colorbar": {
              "outlinewidth": 0,
              "ticks": ""
             }
            },
            "type": "scattermapbox"
           }
          ],
          "scatterpolar": [
           {
            "marker": {
             "colorbar": {
              "outlinewidth": 0,
              "ticks": ""
             }
            },
            "type": "scatterpolar"
           }
          ],
          "scatterpolargl": [
           {
            "marker": {
             "colorbar": {
              "outlinewidth": 0,
              "ticks": ""
             }
            },
            "type": "scatterpolargl"
           }
          ],
          "scatterternary": [
           {
            "marker": {
             "colorbar": {
              "outlinewidth": 0,
              "ticks": ""
             }
            },
            "type": "scatterternary"
           }
          ],
          "surface": [
           {
            "colorbar": {
             "outlinewidth": 0,
             "ticks": ""
            },
            "colorscale": [
             [
              0,
              "#0d0887"
             ],
             [
              0.1111111111111111,
              "#46039f"
             ],
             [
              0.2222222222222222,
              "#7201a8"
             ],
             [
              0.3333333333333333,
              "#9c179e"
             ],
             [
              0.4444444444444444,
              "#bd3786"
             ],
             [
              0.5555555555555556,
              "#d8576b"
             ],
             [
              0.6666666666666666,
              "#ed7953"
             ],
             [
              0.7777777777777778,
              "#fb9f3a"
             ],
             [
              0.8888888888888888,
              "#fdca26"
             ],
             [
              1,
              "#f0f921"
             ]
            ],
            "type": "surface"
           }
          ],
          "table": [
           {
            "cells": {
             "fill": {
              "color": "#506784"
             },
             "line": {
              "color": "rgb(17,17,17)"
             }
            },
            "header": {
             "fill": {
              "color": "#2a3f5f"
             },
             "line": {
              "color": "rgb(17,17,17)"
             }
            },
            "type": "table"
           }
          ]
         },
         "layout": {
          "annotationdefaults": {
           "arrowcolor": "#f2f5fa",
           "arrowhead": 0,
           "arrowwidth": 1
          },
          "autotypenumbers": "strict",
          "coloraxis": {
           "colorbar": {
            "outlinewidth": 0,
            "ticks": ""
           }
          },
          "colorscale": {
           "diverging": [
            [
             0,
             "#8e0152"
            ],
            [
             0.1,
             "#c51b7d"
            ],
            [
             0.2,
             "#de77ae"
            ],
            [
             0.3,
             "#f1b6da"
            ],
            [
             0.4,
             "#fde0ef"
            ],
            [
             0.5,
             "#f7f7f7"
            ],
            [
             0.6,
             "#e6f5d0"
            ],
            [
             0.7,
             "#b8e186"
            ],
            [
             0.8,
             "#7fbc41"
            ],
            [
             0.9,
             "#4d9221"
            ],
            [
             1,
             "#276419"
            ]
           ],
           "sequential": [
            [
             0,
             "#0d0887"
            ],
            [
             0.1111111111111111,
             "#46039f"
            ],
            [
             0.2222222222222222,
             "#7201a8"
            ],
            [
             0.3333333333333333,
             "#9c179e"
            ],
            [
             0.4444444444444444,
             "#bd3786"
            ],
            [
             0.5555555555555556,
             "#d8576b"
            ],
            [
             0.6666666666666666,
             "#ed7953"
            ],
            [
             0.7777777777777778,
             "#fb9f3a"
            ],
            [
             0.8888888888888888,
             "#fdca26"
            ],
            [
             1,
             "#f0f921"
            ]
           ],
           "sequentialminus": [
            [
             0,
             "#0d0887"
            ],
            [
             0.1111111111111111,
             "#46039f"
            ],
            [
             0.2222222222222222,
             "#7201a8"
            ],
            [
             0.3333333333333333,
             "#9c179e"
            ],
            [
             0.4444444444444444,
             "#bd3786"
            ],
            [
             0.5555555555555556,
             "#d8576b"
            ],
            [
             0.6666666666666666,
             "#ed7953"
            ],
            [
             0.7777777777777778,
             "#fb9f3a"
            ],
            [
             0.8888888888888888,
             "#fdca26"
            ],
            [
             1,
             "#f0f921"
            ]
           ]
          },
          "colorway": [
           "#636efa",
           "#EF553B",
           "#00cc96",
           "#ab63fa",
           "#FFA15A",
           "#19d3f3",
           "#FF6692",
           "#B6E880",
           "#FF97FF",
           "#FECB52"
          ],
          "font": {
           "color": "#f2f5fa"
          },
          "geo": {
           "bgcolor": "rgb(17,17,17)",
           "lakecolor": "rgb(17,17,17)",
           "landcolor": "rgb(17,17,17)",
           "showlakes": true,
           "showland": true,
           "subunitcolor": "#506784"
          },
          "hoverlabel": {
           "align": "left"
          },
          "hovermode": "closest",
          "mapbox": {
           "style": "dark"
          },
          "paper_bgcolor": "rgb(17,17,17)",
          "plot_bgcolor": "rgb(17,17,17)",
          "polar": {
           "angularaxis": {
            "gridcolor": "#506784",
            "linecolor": "#506784",
            "ticks": ""
           },
           "bgcolor": "rgb(17,17,17)",
           "radialaxis": {
            "gridcolor": "#506784",
            "linecolor": "#506784",
            "ticks": ""
           }
          },
          "scene": {
           "xaxis": {
            "backgroundcolor": "rgb(17,17,17)",
            "gridcolor": "#506784",
            "gridwidth": 2,
            "linecolor": "#506784",
            "showbackground": true,
            "ticks": "",
            "zerolinecolor": "#C8D4E3"
           },
           "yaxis": {
            "backgroundcolor": "rgb(17,17,17)",
            "gridcolor": "#506784",
            "gridwidth": 2,
            "linecolor": "#506784",
            "showbackground": true,
            "ticks": "",
            "zerolinecolor": "#C8D4E3"
           },
           "zaxis": {
            "backgroundcolor": "rgb(17,17,17)",
            "gridcolor": "#506784",
            "gridwidth": 2,
            "linecolor": "#506784",
            "showbackground": true,
            "ticks": "",
            "zerolinecolor": "#C8D4E3"
           }
          },
          "shapedefaults": {
           "line": {
            "color": "#f2f5fa"
           }
          },
          "sliderdefaults": {
           "bgcolor": "#C8D4E3",
           "bordercolor": "rgb(17,17,17)",
           "borderwidth": 1,
           "tickwidth": 0
          },
          "ternary": {
           "aaxis": {
            "gridcolor": "#506784",
            "linecolor": "#506784",
            "ticks": ""
           },
           "baxis": {
            "gridcolor": "#506784",
            "linecolor": "#506784",
            "ticks": ""
           },
           "bgcolor": "rgb(17,17,17)",
           "caxis": {
            "gridcolor": "#506784",
            "linecolor": "#506784",
            "ticks": ""
           }
          },
          "title": {
           "x": 0.05
          },
          "updatemenudefaults": {
           "bgcolor": "#506784",
           "borderwidth": 0
          },
          "xaxis": {
           "automargin": true,
           "gridcolor": "#283442",
           "linecolor": "#506784",
           "ticks": "",
           "title": {
            "standoff": 15
           },
           "zerolinecolor": "#283442",
           "zerolinewidth": 2
          },
          "yaxis": {
           "automargin": true,
           "gridcolor": "#283442",
           "linecolor": "#506784",
           "ticks": "",
           "title": {
            "standoff": 15
           },
           "zerolinecolor": "#283442",
           "zerolinewidth": 2
          }
         }
        },
        "title": {
         "text": "Weather"
        },
        "updatemenus": [
         {
          "buttons": [
           {
            "args": [
             null,
             {
              "frame": {
               "duration": 500,
               "redraw": true
              },
              "fromcurrent": true,
              "mode": "immediate",
              "transition": {
               "duration": 500,
               "easing": "linear"
              }
             }
            ],
            "label": "&#9654;",
            "method": "animate"
           },
           {
            "args": [
             [
              null
             ],
             {
              "frame": {
               "duration": 0,
               "redraw": true
              },
              "fromcurrent": true,
              "mode": "immediate",
              "transition": {
               "duration": 0,
               "easing": "linear"
              }
             }
            ],
            "label": "&#9724;",
            "method": "animate"
           }
          ],
          "direction": "left",
          "pad": {
           "r": 10,
           "t": 70
          },
          "showactive": false,
          "type": "buttons",
          "x": 0.1,
          "xanchor": "right",
          "y": 0,
          "yanchor": "top"
         }
        ],
        "width": 1300
       }
      }
     },
     "metadata": {},
     "output_type": "display_data"
    }
   ],
   "source": [
    "px.set_mapbox_access_token(open(\".mapbox_token\").read())\n",
    "fig = px.scatter_mapbox(\n",
    "    df_full.sort_values('day_plus'),\n",
    "    lat='lat',\n",
    "    lon='lon',\n",
    "    color='felt_temperatures',\n",
    "    size='humidity',\n",
    "    color_continuous_scale=px.colors.diverging.Picnic,\n",
    "    size_max=30,\n",
    "    zoom=5,\n",
    "    hover_name='city',\n",
    "    animation_frame='day_plus'\n",
    ")\n",
    "\n",
    "fig.update_layout(width = 1300, height = 800, template='plotly_dark' ,title='Weather')\n",
    "fig.show()"
   ]
  }
 ],
 "metadata": {
  "interpreter": {
   "hash": "398748c372d42d99dcfa9ac8f694c5d292e22baf2e524ae29249ce2ce8b32818"
  },
  "kernelspec": {
   "display_name": "Python 3.9.10 ('base')",
   "language": "python",
   "name": "python3"
  },
  "language_info": {
   "codemirror_mode": {
    "name": "ipython",
    "version": 3
   },
   "file_extension": ".py",
   "mimetype": "text/x-python",
   "name": "python",
   "nbconvert_exporter": "python",
   "pygments_lexer": "ipython3",
   "version": "3.9.10"
  },
  "orig_nbformat": 4
 },
 "nbformat": 4,
 "nbformat_minor": 2
}
