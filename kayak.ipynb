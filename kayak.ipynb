{
 "cells": [
  {
   "cell_type": "markdown",
   "metadata": {},
   "source": [
    "# Kayak Project"
   ]
  },
  {
   "cell_type": "markdown",
   "metadata": {},
   "source": [
    "## Imports"
   ]
  },
  {
   "cell_type": "code",
   "execution_count": 1,
   "metadata": {},
   "outputs": [],
   "source": [
    "import pandas as pd\n",
    "import plotly.express as px\n",
    "import requests\n",
    "from dotenv import load_dotenv\n",
    "import os\n",
    "\n",
    "load_dotenv()\n",
    "%load_ext dotenv\n",
    "%dotenv\n",
    "\n",
    "key = os.getenv('APIKEY')"
   ]
  },
  {
   "cell_type": "code",
   "execution_count": 2,
   "metadata": {},
   "outputs": [],
   "source": [
    "cities = [\"Mont Saint Michel\", \"St Malo\", \"Bayeux\", \"Le Havre\", \"Rouen\", \"Paris\", \"Amiens\", \"Lille\", \"Strasbourg\", \"Chateau du Haut Koenigsbourg\", \"Colmar\", \"Eguisheim\", \"Besancon\", \"Dijon\", \"Annecy\", \"Grenoble\", \"Lyon\", \"Gorges du Verdon\", \"Bormes les Mimosas\", \"Cassis\", \"Marseille\", \"Aix en Provence\", \"Avignon\", \"Uzes\", \"Nimes\", \"Aigues Mortes\", \"Saintes Maries de la mer\", \"Collioure\", \"Carcassonne\", \"Ariege\", \"Toulouse\", \"Montauban\", \"Biarritz\", \"Bayonne\", \"La Rochelle\"]"
   ]
  },
  {
   "cell_type": "code",
   "execution_count": 3,
   "metadata": {},
   "outputs": [
    {
     "data": {
      "text/html": [
       "<div>\n",
       "<style scoped>\n",
       "    .dataframe tbody tr th:only-of-type {\n",
       "        vertical-align: middle;\n",
       "    }\n",
       "\n",
       "    .dataframe tbody tr th {\n",
       "        vertical-align: top;\n",
       "    }\n",
       "\n",
       "    .dataframe thead th {\n",
       "        text-align: right;\n",
       "    }\n",
       "</style>\n",
       "<table border=\"1\" class=\"dataframe\">\n",
       "  <thead>\n",
       "    <tr style=\"text-align: right;\">\n",
       "      <th></th>\n",
       "      <th>id</th>\n",
       "      <th>city</th>\n",
       "    </tr>\n",
       "  </thead>\n",
       "  <tbody>\n",
       "    <tr>\n",
       "      <th>0</th>\n",
       "      <td>0</td>\n",
       "      <td>Mont Saint Michel</td>\n",
       "    </tr>\n",
       "    <tr>\n",
       "      <th>1</th>\n",
       "      <td>1</td>\n",
       "      <td>St Malo</td>\n",
       "    </tr>\n",
       "    <tr>\n",
       "      <th>2</th>\n",
       "      <td>2</td>\n",
       "      <td>Bayeux</td>\n",
       "    </tr>\n",
       "    <tr>\n",
       "      <th>3</th>\n",
       "      <td>3</td>\n",
       "      <td>Le Havre</td>\n",
       "    </tr>\n",
       "    <tr>\n",
       "      <th>4</th>\n",
       "      <td>4</td>\n",
       "      <td>Rouen</td>\n",
       "    </tr>\n",
       "    <tr>\n",
       "      <th>5</th>\n",
       "      <td>5</td>\n",
       "      <td>Paris</td>\n",
       "    </tr>\n",
       "    <tr>\n",
       "      <th>6</th>\n",
       "      <td>6</td>\n",
       "      <td>Amiens</td>\n",
       "    </tr>\n",
       "    <tr>\n",
       "      <th>7</th>\n",
       "      <td>7</td>\n",
       "      <td>Lille</td>\n",
       "    </tr>\n",
       "    <tr>\n",
       "      <th>8</th>\n",
       "      <td>8</td>\n",
       "      <td>Strasbourg</td>\n",
       "    </tr>\n",
       "    <tr>\n",
       "      <th>9</th>\n",
       "      <td>9</td>\n",
       "      <td>Chateau du Haut Koenigsbourg</td>\n",
       "    </tr>\n",
       "    <tr>\n",
       "      <th>10</th>\n",
       "      <td>10</td>\n",
       "      <td>Colmar</td>\n",
       "    </tr>\n",
       "    <tr>\n",
       "      <th>11</th>\n",
       "      <td>11</td>\n",
       "      <td>Eguisheim</td>\n",
       "    </tr>\n",
       "    <tr>\n",
       "      <th>12</th>\n",
       "      <td>12</td>\n",
       "      <td>Besancon</td>\n",
       "    </tr>\n",
       "    <tr>\n",
       "      <th>13</th>\n",
       "      <td>13</td>\n",
       "      <td>Dijon</td>\n",
       "    </tr>\n",
       "    <tr>\n",
       "      <th>14</th>\n",
       "      <td>14</td>\n",
       "      <td>Annecy</td>\n",
       "    </tr>\n",
       "    <tr>\n",
       "      <th>15</th>\n",
       "      <td>15</td>\n",
       "      <td>Grenoble</td>\n",
       "    </tr>\n",
       "    <tr>\n",
       "      <th>16</th>\n",
       "      <td>16</td>\n",
       "      <td>Lyon</td>\n",
       "    </tr>\n",
       "    <tr>\n",
       "      <th>17</th>\n",
       "      <td>17</td>\n",
       "      <td>Gorges du Verdon</td>\n",
       "    </tr>\n",
       "    <tr>\n",
       "      <th>18</th>\n",
       "      <td>18</td>\n",
       "      <td>Bormes les Mimosas</td>\n",
       "    </tr>\n",
       "    <tr>\n",
       "      <th>19</th>\n",
       "      <td>19</td>\n",
       "      <td>Cassis</td>\n",
       "    </tr>\n",
       "    <tr>\n",
       "      <th>20</th>\n",
       "      <td>20</td>\n",
       "      <td>Marseille</td>\n",
       "    </tr>\n",
       "    <tr>\n",
       "      <th>21</th>\n",
       "      <td>21</td>\n",
       "      <td>Aix en Provence</td>\n",
       "    </tr>\n",
       "    <tr>\n",
       "      <th>22</th>\n",
       "      <td>22</td>\n",
       "      <td>Avignon</td>\n",
       "    </tr>\n",
       "    <tr>\n",
       "      <th>23</th>\n",
       "      <td>23</td>\n",
       "      <td>Uzes</td>\n",
       "    </tr>\n",
       "    <tr>\n",
       "      <th>24</th>\n",
       "      <td>24</td>\n",
       "      <td>Nimes</td>\n",
       "    </tr>\n",
       "    <tr>\n",
       "      <th>25</th>\n",
       "      <td>25</td>\n",
       "      <td>Aigues Mortes</td>\n",
       "    </tr>\n",
       "    <tr>\n",
       "      <th>26</th>\n",
       "      <td>26</td>\n",
       "      <td>Saintes Maries de la mer</td>\n",
       "    </tr>\n",
       "    <tr>\n",
       "      <th>27</th>\n",
       "      <td>27</td>\n",
       "      <td>Collioure</td>\n",
       "    </tr>\n",
       "    <tr>\n",
       "      <th>28</th>\n",
       "      <td>28</td>\n",
       "      <td>Carcassonne</td>\n",
       "    </tr>\n",
       "    <tr>\n",
       "      <th>29</th>\n",
       "      <td>29</td>\n",
       "      <td>Ariege</td>\n",
       "    </tr>\n",
       "    <tr>\n",
       "      <th>30</th>\n",
       "      <td>30</td>\n",
       "      <td>Toulouse</td>\n",
       "    </tr>\n",
       "    <tr>\n",
       "      <th>31</th>\n",
       "      <td>31</td>\n",
       "      <td>Montauban</td>\n",
       "    </tr>\n",
       "    <tr>\n",
       "      <th>32</th>\n",
       "      <td>32</td>\n",
       "      <td>Biarritz</td>\n",
       "    </tr>\n",
       "    <tr>\n",
       "      <th>33</th>\n",
       "      <td>33</td>\n",
       "      <td>Bayonne</td>\n",
       "    </tr>\n",
       "    <tr>\n",
       "      <th>34</th>\n",
       "      <td>34</td>\n",
       "      <td>La Rochelle</td>\n",
       "    </tr>\n",
       "  </tbody>\n",
       "</table>\n",
       "</div>"
      ],
      "text/plain": [
       "    id                          city\n",
       "0    0             Mont Saint Michel\n",
       "1    1                       St Malo\n",
       "2    2                        Bayeux\n",
       "3    3                      Le Havre\n",
       "4    4                         Rouen\n",
       "5    5                         Paris\n",
       "6    6                        Amiens\n",
       "7    7                         Lille\n",
       "8    8                    Strasbourg\n",
       "9    9  Chateau du Haut Koenigsbourg\n",
       "10  10                        Colmar\n",
       "11  11                     Eguisheim\n",
       "12  12                      Besancon\n",
       "13  13                         Dijon\n",
       "14  14                        Annecy\n",
       "15  15                      Grenoble\n",
       "16  16                          Lyon\n",
       "17  17              Gorges du Verdon\n",
       "18  18            Bormes les Mimosas\n",
       "19  19                        Cassis\n",
       "20  20                     Marseille\n",
       "21  21               Aix en Provence\n",
       "22  22                       Avignon\n",
       "23  23                          Uzes\n",
       "24  24                         Nimes\n",
       "25  25                 Aigues Mortes\n",
       "26  26      Saintes Maries de la mer\n",
       "27  27                     Collioure\n",
       "28  28                   Carcassonne\n",
       "29  29                        Ariege\n",
       "30  30                      Toulouse\n",
       "31  31                     Montauban\n",
       "32  32                      Biarritz\n",
       "33  33                       Bayonne\n",
       "34  34                   La Rochelle"
      ]
     },
     "execution_count": 3,
     "metadata": {},
     "output_type": "execute_result"
    }
   ],
   "source": [
    "df_cities = pd.DataFrame(columns=[\"city\"])\n",
    "df_cities['city'] = cities\n",
    "df_cities.reset_index(inplace=True)\n",
    "df_cities.rename(columns={'index': 'id'}, inplace=True)\n",
    "df_cities"
   ]
  },
  {
   "cell_type": "markdown",
   "metadata": {},
   "source": [
    "## Getting API Data"
   ]
  },
  {
   "cell_type": "markdown",
   "metadata": {},
   "source": [
    "### GPS Coordinates"
   ]
  },
  {
   "cell_type": "code",
   "execution_count": 4,
   "metadata": {},
   "outputs": [],
   "source": [
    "def get_gps(df):\n",
    "\n",
    "    df_new = df.copy(deep=True)\n",
    "    lat_list = []\n",
    "    lon_list = []\n",
    "    for i in cities:\n",
    "        if i == \"Gorges du Verdon\":\n",
    "            i = \"La%20Palud-sur-Verdon\"\n",
    "            r = requests.get(f\"https://nominatim.openstreetmap.org/search?city={i}&format=json\").json()\n",
    "            lat_list.append(r[0]['lat'])\n",
    "            lon_list.append(r[0]['lon'])\n",
    "        elif i == 'Ariege':\n",
    "            r = requests.get(f\"https://nominatim.openstreetmap.org/search?county={i}&format=json\").json()\n",
    "            lat_list.append(r[0]['lat'])\n",
    "            lon_list.append(r[0]['lon'])\n",
    "        else:\n",
    "            name = i.replace(\" \", \"%20\")\n",
    "            r = requests.get(f\"https://nominatim.openstreetmap.org/search?city={name}&format=json\").json()\n",
    "            lat_list.append(r[0]['lat'])\n",
    "            lon_list.append(r[0]['lon'])\n",
    "        \n",
    "    df_new['lat'] = lat_list\n",
    "    df_new['lon'] = lon_list \n",
    "    return df_new"
   ]
  },
  {
   "cell_type": "code",
   "execution_count": 5,
   "metadata": {},
   "outputs": [
    {
     "data": {
      "text/html": [
       "<div>\n",
       "<style scoped>\n",
       "    .dataframe tbody tr th:only-of-type {\n",
       "        vertical-align: middle;\n",
       "    }\n",
       "\n",
       "    .dataframe tbody tr th {\n",
       "        vertical-align: top;\n",
       "    }\n",
       "\n",
       "    .dataframe thead th {\n",
       "        text-align: right;\n",
       "    }\n",
       "</style>\n",
       "<table border=\"1\" class=\"dataframe\">\n",
       "  <thead>\n",
       "    <tr style=\"text-align: right;\">\n",
       "      <th></th>\n",
       "      <th>id</th>\n",
       "      <th>city</th>\n",
       "      <th>lat</th>\n",
       "      <th>lon</th>\n",
       "    </tr>\n",
       "  </thead>\n",
       "  <tbody>\n",
       "    <tr>\n",
       "      <th>0</th>\n",
       "      <td>0</td>\n",
       "      <td>Mont Saint Michel</td>\n",
       "      <td>48.6359541</td>\n",
       "      <td>-1.511459954959514</td>\n",
       "    </tr>\n",
       "    <tr>\n",
       "      <th>1</th>\n",
       "      <td>1</td>\n",
       "      <td>St Malo</td>\n",
       "      <td>48.649518</td>\n",
       "      <td>-2.0260409</td>\n",
       "    </tr>\n",
       "    <tr>\n",
       "      <th>2</th>\n",
       "      <td>2</td>\n",
       "      <td>Bayeux</td>\n",
       "      <td>49.2764624</td>\n",
       "      <td>-0.7024738</td>\n",
       "    </tr>\n",
       "    <tr>\n",
       "      <th>3</th>\n",
       "      <td>3</td>\n",
       "      <td>Le Havre</td>\n",
       "      <td>49.4938975</td>\n",
       "      <td>0.1079732</td>\n",
       "    </tr>\n",
       "    <tr>\n",
       "      <th>4</th>\n",
       "      <td>4</td>\n",
       "      <td>Rouen</td>\n",
       "      <td>49.4404591</td>\n",
       "      <td>1.0939658</td>\n",
       "    </tr>\n",
       "    <tr>\n",
       "      <th>5</th>\n",
       "      <td>5</td>\n",
       "      <td>Paris</td>\n",
       "      <td>48.8588897</td>\n",
       "      <td>2.3200410217200766</td>\n",
       "    </tr>\n",
       "    <tr>\n",
       "      <th>6</th>\n",
       "      <td>6</td>\n",
       "      <td>Amiens</td>\n",
       "      <td>49.8941708</td>\n",
       "      <td>2.2956951</td>\n",
       "    </tr>\n",
       "    <tr>\n",
       "      <th>7</th>\n",
       "      <td>7</td>\n",
       "      <td>Lille</td>\n",
       "      <td>50.6365654</td>\n",
       "      <td>3.0635282</td>\n",
       "    </tr>\n",
       "    <tr>\n",
       "      <th>8</th>\n",
       "      <td>8</td>\n",
       "      <td>Strasbourg</td>\n",
       "      <td>48.584614</td>\n",
       "      <td>7.7507127</td>\n",
       "    </tr>\n",
       "    <tr>\n",
       "      <th>9</th>\n",
       "      <td>9</td>\n",
       "      <td>Chateau du Haut Koenigsbourg</td>\n",
       "      <td>48.2495226</td>\n",
       "      <td>7.3454923</td>\n",
       "    </tr>\n",
       "    <tr>\n",
       "      <th>10</th>\n",
       "      <td>10</td>\n",
       "      <td>Colmar</td>\n",
       "      <td>48.0777517</td>\n",
       "      <td>7.3579641</td>\n",
       "    </tr>\n",
       "    <tr>\n",
       "      <th>11</th>\n",
       "      <td>11</td>\n",
       "      <td>Eguisheim</td>\n",
       "      <td>48.0447968</td>\n",
       "      <td>7.3079618</td>\n",
       "    </tr>\n",
       "    <tr>\n",
       "      <th>12</th>\n",
       "      <td>12</td>\n",
       "      <td>Besancon</td>\n",
       "      <td>47.2380222</td>\n",
       "      <td>6.0243622</td>\n",
       "    </tr>\n",
       "    <tr>\n",
       "      <th>13</th>\n",
       "      <td>13</td>\n",
       "      <td>Dijon</td>\n",
       "      <td>47.3215806</td>\n",
       "      <td>5.0414701</td>\n",
       "    </tr>\n",
       "    <tr>\n",
       "      <th>14</th>\n",
       "      <td>14</td>\n",
       "      <td>Annecy</td>\n",
       "      <td>45.8992348</td>\n",
       "      <td>6.1288847</td>\n",
       "    </tr>\n",
       "    <tr>\n",
       "      <th>15</th>\n",
       "      <td>15</td>\n",
       "      <td>Grenoble</td>\n",
       "      <td>45.1875602</td>\n",
       "      <td>5.7357819</td>\n",
       "    </tr>\n",
       "    <tr>\n",
       "      <th>16</th>\n",
       "      <td>16</td>\n",
       "      <td>Lyon</td>\n",
       "      <td>45.7578137</td>\n",
       "      <td>4.8320114</td>\n",
       "    </tr>\n",
       "    <tr>\n",
       "      <th>17</th>\n",
       "      <td>17</td>\n",
       "      <td>Gorges du Verdon</td>\n",
       "      <td>43.7796864</td>\n",
       "      <td>6.3413854</td>\n",
       "    </tr>\n",
       "    <tr>\n",
       "      <th>18</th>\n",
       "      <td>18</td>\n",
       "      <td>Bormes les Mimosas</td>\n",
       "      <td>43.1572172</td>\n",
       "      <td>6.329253867921363</td>\n",
       "    </tr>\n",
       "    <tr>\n",
       "      <th>19</th>\n",
       "      <td>19</td>\n",
       "      <td>Cassis</td>\n",
       "      <td>43.2140359</td>\n",
       "      <td>5.5396318</td>\n",
       "    </tr>\n",
       "    <tr>\n",
       "      <th>20</th>\n",
       "      <td>20</td>\n",
       "      <td>Marseille</td>\n",
       "      <td>43.2961743</td>\n",
       "      <td>5.3699525</td>\n",
       "    </tr>\n",
       "    <tr>\n",
       "      <th>21</th>\n",
       "      <td>21</td>\n",
       "      <td>Aix en Provence</td>\n",
       "      <td>43.5298424</td>\n",
       "      <td>5.4474738</td>\n",
       "    </tr>\n",
       "    <tr>\n",
       "      <th>22</th>\n",
       "      <td>22</td>\n",
       "      <td>Avignon</td>\n",
       "      <td>43.9492493</td>\n",
       "      <td>4.8059012</td>\n",
       "    </tr>\n",
       "    <tr>\n",
       "      <th>23</th>\n",
       "      <td>23</td>\n",
       "      <td>Uzes</td>\n",
       "      <td>44.0121279</td>\n",
       "      <td>4.4196718</td>\n",
       "    </tr>\n",
       "    <tr>\n",
       "      <th>24</th>\n",
       "      <td>24</td>\n",
       "      <td>Nimes</td>\n",
       "      <td>43.8374249</td>\n",
       "      <td>4.3600687</td>\n",
       "    </tr>\n",
       "    <tr>\n",
       "      <th>25</th>\n",
       "      <td>25</td>\n",
       "      <td>Aigues Mortes</td>\n",
       "      <td>43.5658225</td>\n",
       "      <td>4.1912837</td>\n",
       "    </tr>\n",
       "    <tr>\n",
       "      <th>26</th>\n",
       "      <td>26</td>\n",
       "      <td>Saintes Maries de la mer</td>\n",
       "      <td>43.4522771</td>\n",
       "      <td>4.4287172</td>\n",
       "    </tr>\n",
       "    <tr>\n",
       "      <th>27</th>\n",
       "      <td>27</td>\n",
       "      <td>Collioure</td>\n",
       "      <td>42.52505</td>\n",
       "      <td>3.0831554</td>\n",
       "    </tr>\n",
       "    <tr>\n",
       "      <th>28</th>\n",
       "      <td>28</td>\n",
       "      <td>Carcassonne</td>\n",
       "      <td>43.2130358</td>\n",
       "      <td>2.3491069</td>\n",
       "    </tr>\n",
       "    <tr>\n",
       "      <th>29</th>\n",
       "      <td>29</td>\n",
       "      <td>Ariege</td>\n",
       "      <td>42.9455368</td>\n",
       "      <td>1.4065544156065486</td>\n",
       "    </tr>\n",
       "    <tr>\n",
       "      <th>30</th>\n",
       "      <td>30</td>\n",
       "      <td>Toulouse</td>\n",
       "      <td>43.6044622</td>\n",
       "      <td>1.4442469</td>\n",
       "    </tr>\n",
       "    <tr>\n",
       "      <th>31</th>\n",
       "      <td>31</td>\n",
       "      <td>Montauban</td>\n",
       "      <td>44.0175835</td>\n",
       "      <td>1.3549991</td>\n",
       "    </tr>\n",
       "    <tr>\n",
       "      <th>32</th>\n",
       "      <td>32</td>\n",
       "      <td>Biarritz</td>\n",
       "      <td>43.4832523</td>\n",
       "      <td>-1.5592776</td>\n",
       "    </tr>\n",
       "    <tr>\n",
       "      <th>33</th>\n",
       "      <td>33</td>\n",
       "      <td>Bayonne</td>\n",
       "      <td>43.4933379</td>\n",
       "      <td>-1.475099</td>\n",
       "    </tr>\n",
       "    <tr>\n",
       "      <th>34</th>\n",
       "      <td>34</td>\n",
       "      <td>La Rochelle</td>\n",
       "      <td>46.1591126</td>\n",
       "      <td>-1.1520434</td>\n",
       "    </tr>\n",
       "  </tbody>\n",
       "</table>\n",
       "</div>"
      ],
      "text/plain": [
       "    id                          city         lat                 lon\n",
       "0    0             Mont Saint Michel  48.6359541  -1.511459954959514\n",
       "1    1                       St Malo   48.649518          -2.0260409\n",
       "2    2                        Bayeux  49.2764624          -0.7024738\n",
       "3    3                      Le Havre  49.4938975           0.1079732\n",
       "4    4                         Rouen  49.4404591           1.0939658\n",
       "5    5                         Paris  48.8588897  2.3200410217200766\n",
       "6    6                        Amiens  49.8941708           2.2956951\n",
       "7    7                         Lille  50.6365654           3.0635282\n",
       "8    8                    Strasbourg   48.584614           7.7507127\n",
       "9    9  Chateau du Haut Koenigsbourg  48.2495226           7.3454923\n",
       "10  10                        Colmar  48.0777517           7.3579641\n",
       "11  11                     Eguisheim  48.0447968           7.3079618\n",
       "12  12                      Besancon  47.2380222           6.0243622\n",
       "13  13                         Dijon  47.3215806           5.0414701\n",
       "14  14                        Annecy  45.8992348           6.1288847\n",
       "15  15                      Grenoble  45.1875602           5.7357819\n",
       "16  16                          Lyon  45.7578137           4.8320114\n",
       "17  17              Gorges du Verdon  43.7796864           6.3413854\n",
       "18  18            Bormes les Mimosas  43.1572172   6.329253867921363\n",
       "19  19                        Cassis  43.2140359           5.5396318\n",
       "20  20                     Marseille  43.2961743           5.3699525\n",
       "21  21               Aix en Provence  43.5298424           5.4474738\n",
       "22  22                       Avignon  43.9492493           4.8059012\n",
       "23  23                          Uzes  44.0121279           4.4196718\n",
       "24  24                         Nimes  43.8374249           4.3600687\n",
       "25  25                 Aigues Mortes  43.5658225           4.1912837\n",
       "26  26      Saintes Maries de la mer  43.4522771           4.4287172\n",
       "27  27                     Collioure    42.52505           3.0831554\n",
       "28  28                   Carcassonne  43.2130358           2.3491069\n",
       "29  29                        Ariege  42.9455368  1.4065544156065486\n",
       "30  30                      Toulouse  43.6044622           1.4442469\n",
       "31  31                     Montauban  44.0175835           1.3549991\n",
       "32  32                      Biarritz  43.4832523          -1.5592776\n",
       "33  33                       Bayonne  43.4933379           -1.475099\n",
       "34  34                   La Rochelle  46.1591126          -1.1520434"
      ]
     },
     "execution_count": 5,
     "metadata": {},
     "output_type": "execute_result"
    }
   ],
   "source": [
    "df_gps = get_gps(df_cities)\n",
    "df_gps"
   ]
  },
  {
   "cell_type": "markdown",
   "metadata": {},
   "source": [
    "### Weather Data"
   ]
  },
  {
   "cell_type": "code",
   "execution_count": 6,
   "metadata": {},
   "outputs": [],
   "source": [
    "def get_weather(df):\n",
    "    \n",
    "    df_new = df.copy(deep=True)\n",
    "    temps_list = []\n",
    "    rain_pop = []\n",
    "    humidity_list = []\n",
    "    days = list(range(1,8))\n",
    "    \n",
    "    for i in df.itertuples():\n",
    "        lat = i.lat\n",
    "        lon = i.lon\n",
    "        r = requests.get(f\"https://api.openweathermap.org/data/2.5/onecall?lat={lat}&lon={lon}&units=metric&appid={key}\").json()\n",
    "        weather_7_days = r['daily'][1:]\n",
    "        temps = [i['feels_like']['day'] for i in weather_7_days]\n",
    "        rain = [i['pop'] * 100 for i in weather_7_days]\n",
    "        humidity = [i['humidity'] for i in weather_7_days]\n",
    "        temps_list.append(temps)\n",
    "        rain_pop.append(rain)\n",
    "        humidity_list.append(humidity)\n",
    "        \n",
    "    df_new['day_plus'] = [days for _ in range(len(df))]\n",
    "    df_new['felt_temperatures'] = temps_list\n",
    "    df_new['rain_chances'] = rain_pop\n",
    "    df_new['humidity'] = humidity_list\n",
    "    \n",
    "    df_new = df_new.set_index(['id']).apply(pd.Series.explode).reset_index()\n",
    "    df_new[['lat', 'lon', 'day_plus', 'felt_temperatures', 'rain_chances', 'humidity']] = df_new[['lat', 'lon', 'day_plus', 'felt_temperatures', 'rain_chances', 'humidity']].apply(pd.to_numeric)\n",
    "    return df_new\n",
    "    "
   ]
  },
  {
   "cell_type": "code",
   "execution_count": 7,
   "metadata": {},
   "outputs": [
    {
     "data": {
      "text/html": [
       "<div>\n",
       "<style scoped>\n",
       "    .dataframe tbody tr th:only-of-type {\n",
       "        vertical-align: middle;\n",
       "    }\n",
       "\n",
       "    .dataframe tbody tr th {\n",
       "        vertical-align: top;\n",
       "    }\n",
       "\n",
       "    .dataframe thead th {\n",
       "        text-align: right;\n",
       "    }\n",
       "</style>\n",
       "<table border=\"1\" class=\"dataframe\">\n",
       "  <thead>\n",
       "    <tr style=\"text-align: right;\">\n",
       "      <th></th>\n",
       "      <th>id</th>\n",
       "      <th>city</th>\n",
       "      <th>lat</th>\n",
       "      <th>lon</th>\n",
       "      <th>day_plus</th>\n",
       "      <th>felt_temperatures</th>\n",
       "      <th>rain_chances</th>\n",
       "      <th>humidity</th>\n",
       "    </tr>\n",
       "  </thead>\n",
       "  <tbody>\n",
       "    <tr>\n",
       "      <th>0</th>\n",
       "      <td>0</td>\n",
       "      <td>Mont Saint Michel</td>\n",
       "      <td>48.635954</td>\n",
       "      <td>-1.511460</td>\n",
       "      <td>1</td>\n",
       "      <td>9.68</td>\n",
       "      <td>100.0</td>\n",
       "      <td>90</td>\n",
       "    </tr>\n",
       "    <tr>\n",
       "      <th>1</th>\n",
       "      <td>0</td>\n",
       "      <td>Mont Saint Michel</td>\n",
       "      <td>48.635954</td>\n",
       "      <td>-1.511460</td>\n",
       "      <td>2</td>\n",
       "      <td>8.45</td>\n",
       "      <td>75.0</td>\n",
       "      <td>52</td>\n",
       "    </tr>\n",
       "    <tr>\n",
       "      <th>2</th>\n",
       "      <td>0</td>\n",
       "      <td>Mont Saint Michel</td>\n",
       "      <td>48.635954</td>\n",
       "      <td>-1.511460</td>\n",
       "      <td>3</td>\n",
       "      <td>10.47</td>\n",
       "      <td>0.0</td>\n",
       "      <td>59</td>\n",
       "    </tr>\n",
       "    <tr>\n",
       "      <th>3</th>\n",
       "      <td>0</td>\n",
       "      <td>Mont Saint Michel</td>\n",
       "      <td>48.635954</td>\n",
       "      <td>-1.511460</td>\n",
       "      <td>4</td>\n",
       "      <td>13.43</td>\n",
       "      <td>98.0</td>\n",
       "      <td>60</td>\n",
       "    </tr>\n",
       "    <tr>\n",
       "      <th>4</th>\n",
       "      <td>0</td>\n",
       "      <td>Mont Saint Michel</td>\n",
       "      <td>48.635954</td>\n",
       "      <td>-1.511460</td>\n",
       "      <td>5</td>\n",
       "      <td>12.48</td>\n",
       "      <td>100.0</td>\n",
       "      <td>93</td>\n",
       "    </tr>\n",
       "    <tr>\n",
       "      <th>...</th>\n",
       "      <td>...</td>\n",
       "      <td>...</td>\n",
       "      <td>...</td>\n",
       "      <td>...</td>\n",
       "      <td>...</td>\n",
       "      <td>...</td>\n",
       "      <td>...</td>\n",
       "      <td>...</td>\n",
       "    </tr>\n",
       "    <tr>\n",
       "      <th>240</th>\n",
       "      <td>34</td>\n",
       "      <td>La Rochelle</td>\n",
       "      <td>46.159113</td>\n",
       "      <td>-1.152043</td>\n",
       "      <td>3</td>\n",
       "      <td>10.82</td>\n",
       "      <td>0.0</td>\n",
       "      <td>53</td>\n",
       "    </tr>\n",
       "    <tr>\n",
       "      <th>241</th>\n",
       "      <td>34</td>\n",
       "      <td>La Rochelle</td>\n",
       "      <td>46.159113</td>\n",
       "      <td>-1.152043</td>\n",
       "      <td>4</td>\n",
       "      <td>16.01</td>\n",
       "      <td>84.0</td>\n",
       "      <td>68</td>\n",
       "    </tr>\n",
       "    <tr>\n",
       "      <th>242</th>\n",
       "      <td>34</td>\n",
       "      <td>La Rochelle</td>\n",
       "      <td>46.159113</td>\n",
       "      <td>-1.152043</td>\n",
       "      <td>5</td>\n",
       "      <td>11.00</td>\n",
       "      <td>100.0</td>\n",
       "      <td>94</td>\n",
       "    </tr>\n",
       "    <tr>\n",
       "      <th>243</th>\n",
       "      <td>34</td>\n",
       "      <td>La Rochelle</td>\n",
       "      <td>46.159113</td>\n",
       "      <td>-1.152043</td>\n",
       "      <td>6</td>\n",
       "      <td>13.18</td>\n",
       "      <td>93.0</td>\n",
       "      <td>83</td>\n",
       "    </tr>\n",
       "    <tr>\n",
       "      <th>244</th>\n",
       "      <td>34</td>\n",
       "      <td>La Rochelle</td>\n",
       "      <td>46.159113</td>\n",
       "      <td>-1.152043</td>\n",
       "      <td>7</td>\n",
       "      <td>13.18</td>\n",
       "      <td>39.0</td>\n",
       "      <td>84</td>\n",
       "    </tr>\n",
       "  </tbody>\n",
       "</table>\n",
       "<p>245 rows × 8 columns</p>\n",
       "</div>"
      ],
      "text/plain": [
       "     id               city        lat       lon  day_plus  felt_temperatures  \\\n",
       "0     0  Mont Saint Michel  48.635954 -1.511460         1               9.68   \n",
       "1     0  Mont Saint Michel  48.635954 -1.511460         2               8.45   \n",
       "2     0  Mont Saint Michel  48.635954 -1.511460         3              10.47   \n",
       "3     0  Mont Saint Michel  48.635954 -1.511460         4              13.43   \n",
       "4     0  Mont Saint Michel  48.635954 -1.511460         5              12.48   \n",
       "..   ..                ...        ...       ...       ...                ...   \n",
       "240  34        La Rochelle  46.159113 -1.152043         3              10.82   \n",
       "241  34        La Rochelle  46.159113 -1.152043         4              16.01   \n",
       "242  34        La Rochelle  46.159113 -1.152043         5              11.00   \n",
       "243  34        La Rochelle  46.159113 -1.152043         6              13.18   \n",
       "244  34        La Rochelle  46.159113 -1.152043         7              13.18   \n",
       "\n",
       "     rain_chances  humidity  \n",
       "0           100.0        90  \n",
       "1            75.0        52  \n",
       "2             0.0        59  \n",
       "3            98.0        60  \n",
       "4           100.0        93  \n",
       "..            ...       ...  \n",
       "240           0.0        53  \n",
       "241          84.0        68  \n",
       "242         100.0        94  \n",
       "243          93.0        83  \n",
       "244          39.0        84  \n",
       "\n",
       "[245 rows x 8 columns]"
      ]
     },
     "execution_count": 7,
     "metadata": {},
     "output_type": "execute_result"
    }
   ],
   "source": [
    "df_full = get_weather(df_gps)\n",
    "df_full"
   ]
  },
  {
   "cell_type": "code",
   "execution_count": 8,
   "metadata": {},
   "outputs": [
    {
     "name": "stdout",
     "output_type": "stream",
     "text": [
      "<class 'pandas.core.frame.DataFrame'>\n",
      "RangeIndex: 245 entries, 0 to 244\n",
      "Data columns (total 9 columns):\n",
      " #   Column                 Non-Null Count  Dtype  \n",
      "---  ------                 --------------  -----  \n",
      " 0   id                     245 non-null    int64  \n",
      " 1   city                   245 non-null    object \n",
      " 2   lat                    245 non-null    float64\n",
      " 3   lon                    245 non-null    float64\n",
      " 4   day_plus               245 non-null    int64  \n",
      " 5   felt_temperatures      245 non-null    float64\n",
      " 6   rain_chances           245 non-null    float64\n",
      " 7   humidity               245 non-null    int64  \n",
      " 8   rain_chances_inverted  245 non-null    float64\n",
      "dtypes: float64(5), int64(3), object(1)\n",
      "memory usage: 17.4+ KB\n"
     ]
    }
   ],
   "source": [
    "df_full['rain_chances_inverted'] = 100 - df_full['rain_chances']\n",
    "df_full.info()"
   ]
  },
  {
   "cell_type": "code",
   "execution_count": 9,
   "metadata": {},
   "outputs": [
    {
     "data": {
      "application/vnd.plotly.v1+json": {
       "config": {
        "plotlyServerURL": "https://plot.ly"
       },
       "data": [
        {
         "hovertemplate": "day_plus=1<br>rain_chances_inverted=%{marker.size}<br>lat=%{lat}<br>lon=%{lon}<br>felt_temperatures=%{marker.color}<extra></extra>",
         "lat": [
          48.6359541,
          50.6365654,
          48.2495226,
          43.4522771,
          44.0175835,
          49.4404591,
          45.1875602,
          43.2961743,
          43.9492493,
          47.3215806,
          43.6044622,
          48.8588897,
          48.584614,
          42.52505,
          42.9455368,
          49.8941708,
          45.8992348,
          43.5298424,
          49.4938975,
          43.4832523,
          43.2130358,
          43.5658225,
          48.649518,
          44.0121279,
          47.2380222,
          48.0447968,
          43.1572172,
          46.1591126,
          43.8374249,
          49.2764624,
          43.7796864,
          48.0777517,
          45.7578137,
          43.2140359,
          43.4933379
         ],
         "legendgroup": "",
         "lon": [
          -1.511459954959514,
          3.0635282,
          7.3454923,
          4.4287172,
          1.3549991,
          1.0939658,
          5.7357819,
          5.3699525,
          4.8059012,
          5.0414701,
          1.4442469,
          2.3200410217200766,
          7.7507127,
          3.0831554,
          1.4065544156065486,
          2.2956951,
          6.1288847,
          5.4474738,
          0.1079732,
          -1.5592776,
          2.3491069,
          4.1912837,
          -2.0260409,
          4.4196718,
          6.0243622,
          7.3079618,
          6.329253867921363,
          -1.1520434,
          4.3600687,
          -0.7024738,
          6.3413854,
          7.3579641,
          4.8320114,
          5.5396318,
          -1.475099
         ],
         "marker": {
          "color": [
           9.68,
           4.09,
           3.6,
           15.46,
           16.3,
           -0.1,
           14.8,
           16.19,
           20.22,
           10.6,
           17.49,
           4.71,
           5.55,
           17.58,
           11.66,
           2.37,
           11.44,
           18.16,
           0.23,
           15.72,
           18.82,
           16.51,
           5.74,
           19.29,
           10.33,
           10.25,
           17.79,
           12.89,
           19.92,
           -0.23,
           15.14,
           9.73,
           14.7,
           16.25,
           15.93
          ],
          "coloraxis": "coloraxis",
          "size": [
           0,
           11,
           0,
           95,
           39,
           0,
           1,
           99,
           76,
           0,
           72,
           0,
           0,
           95,
           44.99999999999999,
           0,
           0,
           90,
           0,
           43.99999999999999,
           63,
           89,
           0,
           88,
           0,
           0,
           100,
           0,
           88,
           0,
           75,
           0,
           12,
           100,
           43.00000000000001
          ],
          "sizemode": "area",
          "sizeref": 0.04
         },
         "mode": "markers",
         "name": "",
         "showlegend": false,
         "subplot": "mapbox",
         "type": "scattermapbox"
        }
       ],
       "frames": [
        {
         "data": [
          {
           "hovertemplate": "day_plus=1<br>rain_chances_inverted=%{marker.size}<br>lat=%{lat}<br>lon=%{lon}<br>felt_temperatures=%{marker.color}<extra></extra>",
           "lat": [
            48.6359541,
            50.6365654,
            48.2495226,
            43.4522771,
            44.0175835,
            49.4404591,
            45.1875602,
            43.2961743,
            43.9492493,
            47.3215806,
            43.6044622,
            48.8588897,
            48.584614,
            42.52505,
            42.9455368,
            49.8941708,
            45.8992348,
            43.5298424,
            49.4938975,
            43.4832523,
            43.2130358,
            43.5658225,
            48.649518,
            44.0121279,
            47.2380222,
            48.0447968,
            43.1572172,
            46.1591126,
            43.8374249,
            49.2764624,
            43.7796864,
            48.0777517,
            45.7578137,
            43.2140359,
            43.4933379
           ],
           "legendgroup": "",
           "lon": [
            -1.511459954959514,
            3.0635282,
            7.3454923,
            4.4287172,
            1.3549991,
            1.0939658,
            5.7357819,
            5.3699525,
            4.8059012,
            5.0414701,
            1.4442469,
            2.3200410217200766,
            7.7507127,
            3.0831554,
            1.4065544156065486,
            2.2956951,
            6.1288847,
            5.4474738,
            0.1079732,
            -1.5592776,
            2.3491069,
            4.1912837,
            -2.0260409,
            4.4196718,
            6.0243622,
            7.3079618,
            6.329253867921363,
            -1.1520434,
            4.3600687,
            -0.7024738,
            6.3413854,
            7.3579641,
            4.8320114,
            5.5396318,
            -1.475099
           ],
           "marker": {
            "color": [
             9.68,
             4.09,
             3.6,
             15.46,
             16.3,
             -0.1,
             14.8,
             16.19,
             20.22,
             10.6,
             17.49,
             4.71,
             5.55,
             17.58,
             11.66,
             2.37,
             11.44,
             18.16,
             0.23,
             15.72,
             18.82,
             16.51,
             5.74,
             19.29,
             10.33,
             10.25,
             17.79,
             12.89,
             19.92,
             -0.23,
             15.14,
             9.73,
             14.7,
             16.25,
             15.93
            ],
            "coloraxis": "coloraxis",
            "size": [
             0,
             11,
             0,
             95,
             39,
             0,
             1,
             99,
             76,
             0,
             72,
             0,
             0,
             95,
             44.99999999999999,
             0,
             0,
             90,
             0,
             43.99999999999999,
             63,
             89,
             0,
             88,
             0,
             0,
             100,
             0,
             88,
             0,
             75,
             0,
             12,
             100,
             43.00000000000001
            ],
            "sizemode": "area",
            "sizeref": 0.04
           },
           "mode": "markers",
           "name": "",
           "showlegend": false,
           "subplot": "mapbox",
           "type": "scattermapbox"
          }
         ],
         "name": "1"
        },
        {
         "data": [
          {
           "hovertemplate": "day_plus=2<br>rain_chances_inverted=%{marker.size}<br>lat=%{lat}<br>lon=%{lon}<br>felt_temperatures=%{marker.color}<extra></extra>",
           "lat": [
            47.3215806,
            48.0447968,
            42.52505,
            50.6365654,
            43.8374249,
            43.5658225,
            47.2380222,
            48.0777517,
            43.7796864,
            43.4522771,
            43.9492493,
            48.584614,
            48.2495226,
            42.9455368,
            43.5298424,
            43.2140359,
            43.4832523,
            45.7578137,
            49.4938975,
            43.2130358,
            45.1875602,
            44.0175835,
            49.2764624,
            43.2961743,
            49.4404591,
            48.8588897,
            48.649518,
            46.1591126,
            45.8992348,
            44.0121279,
            43.1572172,
            48.6359541,
            49.8941708,
            43.6044622,
            43.4933379
           ],
           "legendgroup": "",
           "lon": [
            5.0414701,
            7.3079618,
            3.0831554,
            3.0635282,
            4.3600687,
            4.1912837,
            6.0243622,
            7.3579641,
            6.3413854,
            4.4287172,
            4.8059012,
            7.7507127,
            7.3454923,
            1.4065544156065486,
            5.4474738,
            5.5396318,
            -1.5592776,
            4.8320114,
            0.1079732,
            2.3491069,
            5.7357819,
            1.3549991,
            -0.7024738,
            5.3699525,
            1.0939658,
            2.3200410217200766,
            -2.0260409,
            -1.1520434,
            6.1288847,
            4.4196718,
            6.329253867921363,
            -1.511459954959514,
            2.2956951,
            1.4442469,
            -1.475099
           ],
           "marker": {
            "color": [
             6.17,
             6.16,
             11.41,
             5.71,
             11.87,
             12.05,
             6.08,
             6.02,
             3.33,
             11.55,
             11.1,
             4.5,
             1.25,
             -0.23,
             9.66,
             10.47,
             11.11,
             6.76,
             5.31,
             10.25,
             2.1,
             10.1,
             6.8,
             10.51,
             6.42,
             7.87,
             7.69,
             8.56,
             4.03,
             11.1,
             12.26,
             8.45,
             5.7,
             9.87,
             11.67
            ],
            "coloraxis": "coloraxis",
            "size": [
             0,
             0,
             67,
             40,
             98,
             100,
             0,
             0,
             86,
             100,
             87,
             0,
             0,
             34,
             98,
             100,
             43.99999999999999,
             41,
             3,
             69,
             9,
             81,
             23,
             100,
             17,
             34,
             28,
             87,
             0,
             97,
             100,
             25,
             71,
             60,
             43.00000000000001
            ],
            "sizemode": "area",
            "sizeref": 0.04
           },
           "mode": "markers",
           "name": "",
           "showlegend": false,
           "subplot": "mapbox",
           "type": "scattermapbox"
          }
         ],
         "name": "2"
        },
        {
         "data": [
          {
           "hovertemplate": "day_plus=3<br>rain_chances_inverted=%{marker.size}<br>lat=%{lat}<br>lon=%{lon}<br>felt_temperatures=%{marker.color}<extra></extra>",
           "lat": [
            43.1572172,
            45.7578137,
            43.2140359,
            43.9492493,
            45.1875602,
            43.2961743,
            45.8992348,
            47.3215806,
            43.5298424,
            47.2380222,
            44.0121279,
            43.4522771,
            48.0447968,
            48.6359541,
            46.1591126,
            48.649518,
            43.4933379,
            49.2764624,
            43.4832523,
            49.4938975,
            44.0175835,
            49.4404591,
            43.6044622,
            48.8588897,
            42.9455368,
            49.8941708,
            43.7796864,
            48.2495226,
            50.6365654,
            43.8374249,
            48.0777517,
            42.52505,
            48.584614,
            43.5658225,
            43.2130358
           ],
           "legendgroup": "",
           "lon": [
            6.329253867921363,
            4.8320114,
            5.5396318,
            4.8059012,
            5.7357819,
            5.3699525,
            6.1288847,
            5.0414701,
            5.4474738,
            6.0243622,
            4.4196718,
            4.4287172,
            7.3079618,
            -1.511459954959514,
            -1.1520434,
            -2.0260409,
            -1.475099,
            -0.7024738,
            -1.5592776,
            0.1079732,
            1.3549991,
            1.0939658,
            1.4442469,
            2.3200410217200766,
            1.4065544156065486,
            2.2956951,
            6.3413854,
            7.3454923,
            3.0635282,
            4.3600687,
            7.3579641,
            3.0831554,
            7.7507127,
            4.1912837,
            2.3491069
           ],
           "marker": {
            "color": [
             12.45,
             10.5,
             11.57,
             13.81,
             10.97,
             11.89,
             9.2,
             8.35,
             13.33,
             8.64,
             13.67,
             12.84,
             9.67,
             10.47,
             10.82,
             9.8,
             16.62,
             9.82,
             16.12,
             8.72,
             13.94,
             9.47,
             14.49,
             9.96,
             10.34,
             9.68,
             9.65,
             6.91,
             9.27,
             14.4,
             9.88,
             13.24,
             9.62,
             13.76,
             14.92
            ],
            "coloraxis": "coloraxis",
            "size": [
             100,
             100,
             100,
             100,
             100,
             100,
             94,
             100,
             100,
             71,
             100,
             100,
             66,
             100,
             100,
             100,
             100,
             100,
             100,
             94,
             100,
             86,
             100,
             100,
             100,
             80,
             100,
             72,
             100,
             100,
             64,
             100,
             56,
             100,
             100
            ],
            "sizemode": "area",
            "sizeref": 0.04
           },
           "mode": "markers",
           "name": "",
           "showlegend": false,
           "subplot": "mapbox",
           "type": "scattermapbox"
          }
         ],
         "name": "3"
        },
        {
         "data": [
          {
           "hovertemplate": "day_plus=4<br>rain_chances_inverted=%{marker.size}<br>lat=%{lat}<br>lon=%{lon}<br>felt_temperatures=%{marker.color}<extra></extra>",
           "lat": [
            46.1591126,
            43.8374249,
            43.1572172,
            43.4933379,
            43.9492493,
            43.4832523,
            43.2130358,
            43.2140359,
            44.0175835,
            43.4522771,
            43.6044622,
            42.52505,
            44.0121279,
            42.9455368,
            43.5298424,
            43.5658225,
            43.2961743,
            43.7796864,
            47.2380222,
            49.2764624,
            48.0777517,
            48.0447968,
            49.8941708,
            45.1875602,
            48.2495226,
            45.8992348,
            47.3215806,
            48.649518,
            49.4938975,
            45.7578137,
            49.4404591,
            48.584614,
            48.6359541,
            50.6365654,
            48.8588897
           ],
           "legendgroup": "",
           "lon": [
            -1.1520434,
            4.3600687,
            6.329253867921363,
            -1.475099,
            4.8059012,
            -1.5592776,
            2.3491069,
            5.5396318,
            1.3549991,
            4.4287172,
            1.4442469,
            3.0831554,
            4.4196718,
            1.4065544156065486,
            5.4474738,
            4.1912837,
            5.3699525,
            6.3413854,
            6.0243622,
            -0.7024738,
            7.3579641,
            7.3079618,
            2.2956951,
            5.7357819,
            7.3454923,
            6.1288847,
            5.0414701,
            -2.0260409,
            0.1079732,
            4.8320114,
            1.0939658,
            7.7507127,
            -1.511459954959514,
            3.0635282,
            2.3200410217200766
           ],
           "marker": {
            "color": [
             16.01,
             15.16,
             13.23,
             21.23,
             15.1,
             20.18,
             14.46,
             14.47,
             16.85,
             12.95,
             16.18,
             16.55,
             14.01,
             15.56,
             15.76,
             13.34,
             14.03,
             11.47,
             14.83,
             11.81,
             10.87,
             10.95,
             10.5,
             17.61,
             8.35,
             14.63,
             12.02,
             12.22,
             10.57,
             16.06,
             11.23,
             11.35,
             13.43,
             10.74,
             12.49
            ],
            "coloraxis": "coloraxis",
            "size": [
             16,
             100,
             100,
             15,
             100,
             17,
             97,
             100,
             100,
             100,
             100,
             99,
             100,
             100,
             100,
             99,
             100,
             100,
             100,
             83,
             100,
             100,
             100,
             100,
             100,
             100,
             100,
             7,
             80,
             100,
             100,
             100,
             2,
             100,
             100
            ],
            "sizemode": "area",
            "sizeref": 0.04
           },
           "mode": "markers",
           "name": "",
           "showlegend": false,
           "subplot": "mapbox",
           "type": "scattermapbox"
          }
         ],
         "name": "4"
        },
        {
         "data": [
          {
           "hovertemplate": "day_plus=5<br>rain_chances_inverted=%{marker.size}<br>lat=%{lat}<br>lon=%{lon}<br>felt_temperatures=%{marker.color}<extra></extra>",
           "lat": [
            48.0447968,
            43.6044622,
            44.0121279,
            42.9455368,
            49.4404591,
            43.7796864,
            48.0777517,
            43.9492493,
            43.2130358,
            48.2495226,
            43.5658225,
            49.8941708,
            42.52505,
            48.584614,
            43.4522771,
            48.8588897,
            43.8374249,
            47.2380222,
            49.2764624,
            45.1875602,
            43.2140359,
            50.6365654,
            43.4832523,
            45.8992348,
            43.2961743,
            48.649518,
            43.1572172,
            43.4933379,
            44.0175835,
            47.3215806,
            48.6359541,
            43.5298424,
            49.4938975,
            46.1591126,
            45.7578137
           ],
           "legendgroup": "",
           "lon": [
            7.3079618,
            1.4442469,
            4.4196718,
            1.4065544156065486,
            1.0939658,
            6.3413854,
            7.3579641,
            4.8059012,
            2.3491069,
            7.3454923,
            4.1912837,
            2.2956951,
            3.0831554,
            7.7507127,
            4.4287172,
            2.3200410217200766,
            4.3600687,
            6.0243622,
            -0.7024738,
            5.7357819,
            5.5396318,
            3.0635282,
            -1.5592776,
            6.1288847,
            5.3699525,
            -2.0260409,
            6.329253867921363,
            -1.475099,
            1.3549991,
            5.0414701,
            -1.511459954959514,
            5.4474738,
            0.1079732,
            -1.1520434,
            4.8320114
           ],
           "marker": {
            "color": [
             15.51,
             13.82,
             17.78,
             9.57,
             15.64,
             14.77,
             15.29,
             19.54,
             11.79,
             12.01,
             15.03,
             15.49,
             13.28,
             13.9,
             15.15,
             16.52,
             17.81,
             17.42,
             11.57,
             22.11,
             17.01,
             15.25,
             14.58,
             15.96,
             17.16,
             11.46,
             13.61,
             15.04,
             13.25,
             16.14,
             12.48,
             17.05,
             12.98,
             11,
             15.85
            ],
            "coloraxis": "coloraxis",
            "size": [
             100,
             0,
             8,
             12,
             0,
             59,
             100,
             18,
             15,
             100,
             23,
             29,
             23,
             100,
             19,
             5,
             12,
             50,
             4,
             18,
             74,
             72,
             3,
             51,
             60,
             0,
             100,
             5,
             0,
             0,
             0,
             55,
             0,
             0,
             32
            ],
            "sizemode": "area",
            "sizeref": 0.04
           },
           "mode": "markers",
           "name": "",
           "showlegend": false,
           "subplot": "mapbox",
           "type": "scattermapbox"
          }
         ],
         "name": "5"
        },
        {
         "data": [
          {
           "hovertemplate": "day_plus=6<br>rain_chances_inverted=%{marker.size}<br>lat=%{lat}<br>lon=%{lon}<br>felt_temperatures=%{marker.color}<extra></extra>",
           "lat": [
            48.6359541,
            42.52505,
            49.8941708,
            43.4933379,
            43.6044622,
            48.8588897,
            43.2130358,
            43.4832523,
            49.2764624,
            42.9455368,
            44.0175835,
            49.4404591,
            49.4938975,
            48.649518,
            50.6365654,
            48.584614,
            45.8992348,
            47.2380222,
            43.2140359,
            44.0121279,
            45.1875602,
            47.3215806,
            48.0777517,
            43.8374249,
            43.1572172,
            48.0447968,
            43.9492493,
            48.2495226,
            43.5658225,
            45.7578137,
            43.5298424,
            43.7796864,
            46.1591126,
            43.4522771,
            43.2961743
           ],
           "legendgroup": "",
           "lon": [
            -1.511459954959514,
            3.0831554,
            2.2956951,
            -1.475099,
            1.4442469,
            2.3200410217200766,
            2.3491069,
            -1.5592776,
            -0.7024738,
            1.4065544156065486,
            1.3549991,
            1.0939658,
            0.1079732,
            -2.0260409,
            3.0635282,
            7.7507127,
            6.1288847,
            6.0243622,
            5.5396318,
            4.4196718,
            5.7357819,
            5.0414701,
            7.3579641,
            4.3600687,
            6.329253867921363,
            7.3079618,
            4.8059012,
            7.3454923,
            4.1912837,
            4.8320114,
            5.4474738,
            6.3413854,
            -1.1520434,
            4.4287172,
            5.3699525
           ],
           "marker": {
            "color": [
             12.5,
             14.58,
             12.39,
             14.36,
             14.46,
             13.88,
             11.35,
             13.85,
             11.95,
             6.75,
             15.03,
             12.97,
             11.59,
             11.96,
             12.41,
             16.36,
             9.83,
             13.09,
             12.38,
             10.46,
             11.11,
             13.85,
             15.28,
             11.06,
             10.92,
             15.15,
             11.31,
             12.23,
             11.57,
             13.89,
             10.3,
             7.4,
             13.18,
             11.29,
             12.16
            ],
            "coloraxis": "coloraxis",
            "size": [
             31,
             61,
             16,
             86,
             0,
             54,
             19,
             91,
             29,
             12,
             4,
             0,
             2,
             50,
             46,
             29,
             0,
             0,
             0,
             0,
             0,
             0,
             15,
             0,
             0,
             14,
             0,
             18,
             0,
             0,
             0,
             0,
             7,
             0,
             0
            ],
            "sizemode": "area",
            "sizeref": 0.04
           },
           "mode": "markers",
           "name": "",
           "showlegend": false,
           "subplot": "mapbox",
           "type": "scattermapbox"
          }
         ],
         "name": "6"
        },
        {
         "data": [
          {
           "hovertemplate": "day_plus=7<br>rain_chances_inverted=%{marker.size}<br>lat=%{lat}<br>lon=%{lon}<br>felt_temperatures=%{marker.color}<extra></extra>",
           "lat": [
            45.8992348,
            43.2961743,
            43.4522771,
            45.1875602,
            43.4832523,
            48.649518,
            43.1572172,
            43.4933379,
            48.6359541,
            45.7578137,
            43.7796864,
            43.2140359,
            49.2764624,
            49.4938975,
            47.3215806,
            48.584614,
            42.52505,
            49.8941708,
            43.5658225,
            48.2495226,
            43.8374249,
            43.2130358,
            48.8588897,
            44.0175835,
            48.0777517,
            42.9455368,
            49.4404591,
            48.0447968,
            43.9492493,
            43.6044622,
            50.6365654,
            47.2380222,
            43.5298424,
            44.0121279,
            46.1591126
           ],
           "legendgroup": "",
           "lon": [
            6.1288847,
            5.3699525,
            4.4287172,
            5.7357819,
            -1.5592776,
            -2.0260409,
            6.329253867921363,
            -1.475099,
            -1.511459954959514,
            4.8320114,
            6.3413854,
            5.5396318,
            -0.7024738,
            0.1079732,
            5.0414701,
            7.7507127,
            3.0831554,
            2.2956951,
            4.1912837,
            7.3454923,
            4.3600687,
            2.3491069,
            2.3200410217200766,
            1.3549991,
            7.3579641,
            1.4065544156065486,
            1.0939658,
            7.3079618,
            4.8059012,
            1.4442469,
            3.0635282,
            6.0243622,
            5.4474738,
            4.4196718,
            -1.1520434
           ],
           "marker": {
            "color": [
             13.7,
             17.88,
             17.62,
             14.81,
             14.13,
             11.71,
             16.94,
             14.71,
             12.97,
             15.76,
             12.51,
             17.9,
             13.52,
             13.11,
             13.88,
             16.44,
             18.06,
             14.78,
             18.46,
             13.63,
             20.2,
             15.66,
             16.44,
             14.48,
             16.95,
             9.89,
             16.05,
             17.15,
             19.11,
             15.85,
             14.53,
             13.72,
             19.38,
             19.33,
             13.18
            ],
            "coloraxis": "coloraxis",
            "size": [
             35,
             69,
             99,
             66,
             80,
             0,
             4,
             80,
             0,
             76,
             10,
             51,
             0,
             25,
             65,
             25,
             100,
             69,
             100,
             29,
             100,
             68,
             87,
             67,
             36,
             18,
             32,
             39,
             100,
             34,
             80,
             41,
             77,
             100,
             61
            ],
            "sizemode": "area",
            "sizeref": 0.04
           },
           "mode": "markers",
           "name": "",
           "showlegend": false,
           "subplot": "mapbox",
           "type": "scattermapbox"
          }
         ],
         "name": "7"
        }
       ],
       "layout": {
        "coloraxis": {
         "colorbar": {
          "title": {
           "text": "felt_temperatures"
          }
         },
         "colorscale": [
          [
           0,
           "rgb(0,0,255)"
          ],
          [
           0.1,
           "rgb(51,153,255)"
          ],
          [
           0.2,
           "rgb(102,204,255)"
          ],
          [
           0.3,
           "rgb(153,204,255)"
          ],
          [
           0.4,
           "rgb(204,204,255)"
          ],
          [
           0.5,
           "rgb(255,255,255)"
          ],
          [
           0.6,
           "rgb(255,204,255)"
          ],
          [
           0.7,
           "rgb(255,153,255)"
          ],
          [
           0.8,
           "rgb(255,102,204)"
          ],
          [
           0.9,
           "rgb(255,102,102)"
          ],
          [
           1,
           "rgb(255,0,0)"
          ]
         ]
        },
        "height": 800,
        "legend": {
         "itemsizing": "constant",
         "tracegroupgap": 0
        },
        "mapbox": {
         "accesstoken": "pk.eyJ1Ijoidm9ud2VuIiwiYSI6ImNsMWM0dmZnazA0N2gzZG8wa2N1OTM0ZDEifQ.lCZ3DFaUYPS5XIJCWi6yNA",
         "center": {
          "lat": 45.84234407428571,
          "lon": 3.3957386442939566
         },
         "domain": {
          "x": [
           0,
           1
          ],
          "y": [
           0,
           1
          ]
         },
         "zoom": 4
        },
        "margin": {
         "t": 60
        },
        "sliders": [
         {
          "active": 0,
          "currentvalue": {
           "prefix": "day_plus="
          },
          "len": 0.9,
          "pad": {
           "b": 10,
           "t": 60
          },
          "steps": [
           {
            "args": [
             [
              "1"
             ],
             {
              "frame": {
               "duration": 0,
               "redraw": true
              },
              "fromcurrent": true,
              "mode": "immediate",
              "transition": {
               "duration": 0,
               "easing": "linear"
              }
             }
            ],
            "label": "1",
            "method": "animate"
           },
           {
            "args": [
             [
              "2"
             ],
             {
              "frame": {
               "duration": 0,
               "redraw": true
              },
              "fromcurrent": true,
              "mode": "immediate",
              "transition": {
               "duration": 0,
               "easing": "linear"
              }
             }
            ],
            "label": "2",
            "method": "animate"
           },
           {
            "args": [
             [
              "3"
             ],
             {
              "frame": {
               "duration": 0,
               "redraw": true
              },
              "fromcurrent": true,
              "mode": "immediate",
              "transition": {
               "duration": 0,
               "easing": "linear"
              }
             }
            ],
            "label": "3",
            "method": "animate"
           },
           {
            "args": [
             [
              "4"
             ],
             {
              "frame": {
               "duration": 0,
               "redraw": true
              },
              "fromcurrent": true,
              "mode": "immediate",
              "transition": {
               "duration": 0,
               "easing": "linear"
              }
             }
            ],
            "label": "4",
            "method": "animate"
           },
           {
            "args": [
             [
              "5"
             ],
             {
              "frame": {
               "duration": 0,
               "redraw": true
              },
              "fromcurrent": true,
              "mode": "immediate",
              "transition": {
               "duration": 0,
               "easing": "linear"
              }
             }
            ],
            "label": "5",
            "method": "animate"
           },
           {
            "args": [
             [
              "6"
             ],
             {
              "frame": {
               "duration": 0,
               "redraw": true
              },
              "fromcurrent": true,
              "mode": "immediate",
              "transition": {
               "duration": 0,
               "easing": "linear"
              }
             }
            ],
            "label": "6",
            "method": "animate"
           },
           {
            "args": [
             [
              "7"
             ],
             {
              "frame": {
               "duration": 0,
               "redraw": true
              },
              "fromcurrent": true,
              "mode": "immediate",
              "transition": {
               "duration": 0,
               "easing": "linear"
              }
             }
            ],
            "label": "7",
            "method": "animate"
           }
          ],
          "x": 0.1,
          "xanchor": "left",
          "y": 0,
          "yanchor": "top"
         }
        ],
        "template": {
         "data": {
          "bar": [
           {
            "error_x": {
             "color": "#f2f5fa"
            },
            "error_y": {
             "color": "#f2f5fa"
            },
            "marker": {
             "line": {
              "color": "rgb(17,17,17)",
              "width": 0.5
             },
             "pattern": {
              "fillmode": "overlay",
              "size": 10,
              "solidity": 0.2
             }
            },
            "type": "bar"
           }
          ],
          "barpolar": [
           {
            "marker": {
             "line": {
              "color": "rgb(17,17,17)",
              "width": 0.5
             },
             "pattern": {
              "fillmode": "overlay",
              "size": 10,
              "solidity": 0.2
             }
            },
            "type": "barpolar"
           }
          ],
          "carpet": [
           {
            "aaxis": {
             "endlinecolor": "#A2B1C6",
             "gridcolor": "#506784",
             "linecolor": "#506784",
             "minorgridcolor": "#506784",
             "startlinecolor": "#A2B1C6"
            },
            "baxis": {
             "endlinecolor": "#A2B1C6",
             "gridcolor": "#506784",
             "linecolor": "#506784",
             "minorgridcolor": "#506784",
             "startlinecolor": "#A2B1C6"
            },
            "type": "carpet"
           }
          ],
          "choropleth": [
           {
            "colorbar": {
             "outlinewidth": 0,
             "ticks": ""
            },
            "type": "choropleth"
           }
          ],
          "contour": [
           {
            "colorbar": {
             "outlinewidth": 0,
             "ticks": ""
            },
            "colorscale": [
             [
              0,
              "#0d0887"
             ],
             [
              0.1111111111111111,
              "#46039f"
             ],
             [
              0.2222222222222222,
              "#7201a8"
             ],
             [
              0.3333333333333333,
              "#9c179e"
             ],
             [
              0.4444444444444444,
              "#bd3786"
             ],
             [
              0.5555555555555556,
              "#d8576b"
             ],
             [
              0.6666666666666666,
              "#ed7953"
             ],
             [
              0.7777777777777778,
              "#fb9f3a"
             ],
             [
              0.8888888888888888,
              "#fdca26"
             ],
             [
              1,
              "#f0f921"
             ]
            ],
            "type": "contour"
           }
          ],
          "contourcarpet": [
           {
            "colorbar": {
             "outlinewidth": 0,
             "ticks": ""
            },
            "type": "contourcarpet"
           }
          ],
          "heatmap": [
           {
            "colorbar": {
             "outlinewidth": 0,
             "ticks": ""
            },
            "colorscale": [
             [
              0,
              "#0d0887"
             ],
             [
              0.1111111111111111,
              "#46039f"
             ],
             [
              0.2222222222222222,
              "#7201a8"
             ],
             [
              0.3333333333333333,
              "#9c179e"
             ],
             [
              0.4444444444444444,
              "#bd3786"
             ],
             [
              0.5555555555555556,
              "#d8576b"
             ],
             [
              0.6666666666666666,
              "#ed7953"
             ],
             [
              0.7777777777777778,
              "#fb9f3a"
             ],
             [
              0.8888888888888888,
              "#fdca26"
             ],
             [
              1,
              "#f0f921"
             ]
            ],
            "type": "heatmap"
           }
          ],
          "heatmapgl": [
           {
            "colorbar": {
             "outlinewidth": 0,
             "ticks": ""
            },
            "colorscale": [
             [
              0,
              "#0d0887"
             ],
             [
              0.1111111111111111,
              "#46039f"
             ],
             [
              0.2222222222222222,
              "#7201a8"
             ],
             [
              0.3333333333333333,
              "#9c179e"
             ],
             [
              0.4444444444444444,
              "#bd3786"
             ],
             [
              0.5555555555555556,
              "#d8576b"
             ],
             [
              0.6666666666666666,
              "#ed7953"
             ],
             [
              0.7777777777777778,
              "#fb9f3a"
             ],
             [
              0.8888888888888888,
              "#fdca26"
             ],
             [
              1,
              "#f0f921"
             ]
            ],
            "type": "heatmapgl"
           }
          ],
          "histogram": [
           {
            "marker": {
             "pattern": {
              "fillmode": "overlay",
              "size": 10,
              "solidity": 0.2
             }
            },
            "type": "histogram"
           }
          ],
          "histogram2d": [
           {
            "colorbar": {
             "outlinewidth": 0,
             "ticks": ""
            },
            "colorscale": [
             [
              0,
              "#0d0887"
             ],
             [
              0.1111111111111111,
              "#46039f"
             ],
             [
              0.2222222222222222,
              "#7201a8"
             ],
             [
              0.3333333333333333,
              "#9c179e"
             ],
             [
              0.4444444444444444,
              "#bd3786"
             ],
             [
              0.5555555555555556,
              "#d8576b"
             ],
             [
              0.6666666666666666,
              "#ed7953"
             ],
             [
              0.7777777777777778,
              "#fb9f3a"
             ],
             [
              0.8888888888888888,
              "#fdca26"
             ],
             [
              1,
              "#f0f921"
             ]
            ],
            "type": "histogram2d"
           }
          ],
          "histogram2dcontour": [
           {
            "colorbar": {
             "outlinewidth": 0,
             "ticks": ""
            },
            "colorscale": [
             [
              0,
              "#0d0887"
             ],
             [
              0.1111111111111111,
              "#46039f"
             ],
             [
              0.2222222222222222,
              "#7201a8"
             ],
             [
              0.3333333333333333,
              "#9c179e"
             ],
             [
              0.4444444444444444,
              "#bd3786"
             ],
             [
              0.5555555555555556,
              "#d8576b"
             ],
             [
              0.6666666666666666,
              "#ed7953"
             ],
             [
              0.7777777777777778,
              "#fb9f3a"
             ],
             [
              0.8888888888888888,
              "#fdca26"
             ],
             [
              1,
              "#f0f921"
             ]
            ],
            "type": "histogram2dcontour"
           }
          ],
          "mesh3d": [
           {
            "colorbar": {
             "outlinewidth": 0,
             "ticks": ""
            },
            "type": "mesh3d"
           }
          ],
          "parcoords": [
           {
            "line": {
             "colorbar": {
              "outlinewidth": 0,
              "ticks": ""
             }
            },
            "type": "parcoords"
           }
          ],
          "pie": [
           {
            "automargin": true,
            "type": "pie"
           }
          ],
          "scatter": [
           {
            "marker": {
             "line": {
              "color": "#283442"
             }
            },
            "type": "scatter"
           }
          ],
          "scatter3d": [
           {
            "line": {
             "colorbar": {
              "outlinewidth": 0,
              "ticks": ""
             }
            },
            "marker": {
             "colorbar": {
              "outlinewidth": 0,
              "ticks": ""
             }
            },
            "type": "scatter3d"
           }
          ],
          "scattercarpet": [
           {
            "marker": {
             "colorbar": {
              "outlinewidth": 0,
              "ticks": ""
             }
            },
            "type": "scattercarpet"
           }
          ],
          "scattergeo": [
           {
            "marker": {
             "colorbar": {
              "outlinewidth": 0,
              "ticks": ""
             }
            },
            "type": "scattergeo"
           }
          ],
          "scattergl": [
           {
            "marker": {
             "line": {
              "color": "#283442"
             }
            },
            "type": "scattergl"
           }
          ],
          "scattermapbox": [
           {
            "marker": {
             "colorbar": {
              "outlinewidth": 0,
              "ticks": ""
             }
            },
            "type": "scattermapbox"
           }
          ],
          "scatterpolar": [
           {
            "marker": {
             "colorbar": {
              "outlinewidth": 0,
              "ticks": ""
             }
            },
            "type": "scatterpolar"
           }
          ],
          "scatterpolargl": [
           {
            "marker": {
             "colorbar": {
              "outlinewidth": 0,
              "ticks": ""
             }
            },
            "type": "scatterpolargl"
           }
          ],
          "scatterternary": [
           {
            "marker": {
             "colorbar": {
              "outlinewidth": 0,
              "ticks": ""
             }
            },
            "type": "scatterternary"
           }
          ],
          "surface": [
           {
            "colorbar": {
             "outlinewidth": 0,
             "ticks": ""
            },
            "colorscale": [
             [
              0,
              "#0d0887"
             ],
             [
              0.1111111111111111,
              "#46039f"
             ],
             [
              0.2222222222222222,
              "#7201a8"
             ],
             [
              0.3333333333333333,
              "#9c179e"
             ],
             [
              0.4444444444444444,
              "#bd3786"
             ],
             [
              0.5555555555555556,
              "#d8576b"
             ],
             [
              0.6666666666666666,
              "#ed7953"
             ],
             [
              0.7777777777777778,
              "#fb9f3a"
             ],
             [
              0.8888888888888888,
              "#fdca26"
             ],
             [
              1,
              "#f0f921"
             ]
            ],
            "type": "surface"
           }
          ],
          "table": [
           {
            "cells": {
             "fill": {
              "color": "#506784"
             },
             "line": {
              "color": "rgb(17,17,17)"
             }
            },
            "header": {
             "fill": {
              "color": "#2a3f5f"
             },
             "line": {
              "color": "rgb(17,17,17)"
             }
            },
            "type": "table"
           }
          ]
         },
         "layout": {
          "annotationdefaults": {
           "arrowcolor": "#f2f5fa",
           "arrowhead": 0,
           "arrowwidth": 1
          },
          "autotypenumbers": "strict",
          "coloraxis": {
           "colorbar": {
            "outlinewidth": 0,
            "ticks": ""
           }
          },
          "colorscale": {
           "diverging": [
            [
             0,
             "#8e0152"
            ],
            [
             0.1,
             "#c51b7d"
            ],
            [
             0.2,
             "#de77ae"
            ],
            [
             0.3,
             "#f1b6da"
            ],
            [
             0.4,
             "#fde0ef"
            ],
            [
             0.5,
             "#f7f7f7"
            ],
            [
             0.6,
             "#e6f5d0"
            ],
            [
             0.7,
             "#b8e186"
            ],
            [
             0.8,
             "#7fbc41"
            ],
            [
             0.9,
             "#4d9221"
            ],
            [
             1,
             "#276419"
            ]
           ],
           "sequential": [
            [
             0,
             "#0d0887"
            ],
            [
             0.1111111111111111,
             "#46039f"
            ],
            [
             0.2222222222222222,
             "#7201a8"
            ],
            [
             0.3333333333333333,
             "#9c179e"
            ],
            [
             0.4444444444444444,
             "#bd3786"
            ],
            [
             0.5555555555555556,
             "#d8576b"
            ],
            [
             0.6666666666666666,
             "#ed7953"
            ],
            [
             0.7777777777777778,
             "#fb9f3a"
            ],
            [
             0.8888888888888888,
             "#fdca26"
            ],
            [
             1,
             "#f0f921"
            ]
           ],
           "sequentialminus": [
            [
             0,
             "#0d0887"
            ],
            [
             0.1111111111111111,
             "#46039f"
            ],
            [
             0.2222222222222222,
             "#7201a8"
            ],
            [
             0.3333333333333333,
             "#9c179e"
            ],
            [
             0.4444444444444444,
             "#bd3786"
            ],
            [
             0.5555555555555556,
             "#d8576b"
            ],
            [
             0.6666666666666666,
             "#ed7953"
            ],
            [
             0.7777777777777778,
             "#fb9f3a"
            ],
            [
             0.8888888888888888,
             "#fdca26"
            ],
            [
             1,
             "#f0f921"
            ]
           ]
          },
          "colorway": [
           "#636efa",
           "#EF553B",
           "#00cc96",
           "#ab63fa",
           "#FFA15A",
           "#19d3f3",
           "#FF6692",
           "#B6E880",
           "#FF97FF",
           "#FECB52"
          ],
          "font": {
           "color": "#f2f5fa"
          },
          "geo": {
           "bgcolor": "rgb(17,17,17)",
           "lakecolor": "rgb(17,17,17)",
           "landcolor": "rgb(17,17,17)",
           "showlakes": true,
           "showland": true,
           "subunitcolor": "#506784"
          },
          "hoverlabel": {
           "align": "left"
          },
          "hovermode": "closest",
          "mapbox": {
           "style": "dark"
          },
          "paper_bgcolor": "rgb(17,17,17)",
          "plot_bgcolor": "rgb(17,17,17)",
          "polar": {
           "angularaxis": {
            "gridcolor": "#506784",
            "linecolor": "#506784",
            "ticks": ""
           },
           "bgcolor": "rgb(17,17,17)",
           "radialaxis": {
            "gridcolor": "#506784",
            "linecolor": "#506784",
            "ticks": ""
           }
          },
          "scene": {
           "xaxis": {
            "backgroundcolor": "rgb(17,17,17)",
            "gridcolor": "#506784",
            "gridwidth": 2,
            "linecolor": "#506784",
            "showbackground": true,
            "ticks": "",
            "zerolinecolor": "#C8D4E3"
           },
           "yaxis": {
            "backgroundcolor": "rgb(17,17,17)",
            "gridcolor": "#506784",
            "gridwidth": 2,
            "linecolor": "#506784",
            "showbackground": true,
            "ticks": "",
            "zerolinecolor": "#C8D4E3"
           },
           "zaxis": {
            "backgroundcolor": "rgb(17,17,17)",
            "gridcolor": "#506784",
            "gridwidth": 2,
            "linecolor": "#506784",
            "showbackground": true,
            "ticks": "",
            "zerolinecolor": "#C8D4E3"
           }
          },
          "shapedefaults": {
           "line": {
            "color": "#f2f5fa"
           }
          },
          "sliderdefaults": {
           "bgcolor": "#C8D4E3",
           "bordercolor": "rgb(17,17,17)",
           "borderwidth": 1,
           "tickwidth": 0
          },
          "ternary": {
           "aaxis": {
            "gridcolor": "#506784",
            "linecolor": "#506784",
            "ticks": ""
           },
           "baxis": {
            "gridcolor": "#506784",
            "linecolor": "#506784",
            "ticks": ""
           },
           "bgcolor": "rgb(17,17,17)",
           "caxis": {
            "gridcolor": "#506784",
            "linecolor": "#506784",
            "ticks": ""
           }
          },
          "title": {
           "x": 0.05
          },
          "updatemenudefaults": {
           "bgcolor": "#506784",
           "borderwidth": 0
          },
          "xaxis": {
           "automargin": true,
           "gridcolor": "#283442",
           "linecolor": "#506784",
           "ticks": "",
           "title": {
            "standoff": 15
           },
           "zerolinecolor": "#283442",
           "zerolinewidth": 2
          },
          "yaxis": {
           "automargin": true,
           "gridcolor": "#283442",
           "linecolor": "#506784",
           "ticks": "",
           "title": {
            "standoff": 15
           },
           "zerolinecolor": "#283442",
           "zerolinewidth": 2
          }
         }
        },
        "title": {
         "text": "Weather"
        },
        "updatemenus": [
         {
          "buttons": [
           {
            "args": [
             null,
             {
              "frame": {
               "duration": 500,
               "redraw": true
              },
              "fromcurrent": true,
              "mode": "immediate",
              "transition": {
               "duration": 500,
               "easing": "linear"
              }
             }
            ],
            "label": "&#9654;",
            "method": "animate"
           },
           {
            "args": [
             [
              null
             ],
             {
              "frame": {
               "duration": 0,
               "redraw": true
              },
              "fromcurrent": true,
              "mode": "immediate",
              "transition": {
               "duration": 0,
               "easing": "linear"
              }
             }
            ],
            "label": "&#9724;",
            "method": "animate"
           }
          ],
          "direction": "left",
          "pad": {
           "r": 10,
           "t": 70
          },
          "showactive": false,
          "type": "buttons",
          "x": 0.1,
          "xanchor": "right",
          "y": 0,
          "yanchor": "top"
         }
        ],
        "width": 1300
       }
      }
     },
     "metadata": {},
     "output_type": "display_data"
    }
   ],
   "source": [
    "px.set_mapbox_access_token(open(\".mapbox_token\").read())\n",
    "fig = px.scatter_mapbox(\n",
    "    df_full.sort_values('day_plus'),\n",
    "    lat='lat',\n",
    "    lon='lon',\n",
    "    color='felt_temperatures',\n",
    "    size='humidity',\n",
    "    color_continuous_scale=px.colors.diverging.Picnic,\n",
    "    size_max=30,\n",
    "    zoom=5,\n",
    "    hover_name='city',\n",
    "    animation_frame='day_plus'\n",
    ")\n",
    "\n",
    "fig.update_layout(width = 1300, height = 800, template='plotly_dark' ,title='Weather')\n",
    "fig.show()"
   ]
  },
  {
   "cell_type": "code",
   "execution_count": null,
   "metadata": {},
   "outputs": [],
   "source": []
  }
 ],
 "metadata": {
  "interpreter": {
   "hash": "398748c372d42d99dcfa9ac8f694c5d292e22baf2e524ae29249ce2ce8b32818"
  },
  "kernelspec": {
   "display_name": "Python 3.9.10 ('base')",
   "language": "python",
   "name": "python3"
  },
  "language_info": {
   "codemirror_mode": {
    "name": "ipython",
    "version": 3
   },
   "file_extension": ".py",
   "mimetype": "text/x-python",
   "name": "python",
   "nbconvert_exporter": "python",
   "pygments_lexer": "ipython3",
   "version": "3.9.10"
  },
  "orig_nbformat": 4
 },
 "nbformat": 4,
 "nbformat_minor": 2
}
