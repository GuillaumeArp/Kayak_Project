{
 "cells": [
  {
   "cell_type": "markdown",
   "metadata": {},
   "source": [
    "# Kayak Project"
   ]
  },
  {
   "cell_type": "markdown",
   "metadata": {},
   "source": [
    "## Imports"
   ]
  },
  {
   "cell_type": "code",
   "execution_count": 56,
   "metadata": {},
   "outputs": [
    {
     "name": "stdout",
     "output_type": "stream",
     "text": [
      "The dotenv extension is already loaded. To reload it, use:\n",
      "  %reload_ext dotenv\n"
     ]
    }
   ],
   "source": [
    "import pandas as pd\n",
    "import numpy as np\n",
    "import plotly.express as px\n",
    "import requests\n",
    "from dotenv import load_dotenv\n",
    "import os\n",
    "import logging\n",
    "import scrapy\n",
    "from scrapy.crawler import CrawlerProcess\n",
    "from bs4 import BeautifulSoup\n",
    "import requests\n",
    "import time\n",
    "import boto3\n",
    "\n",
    "load_dotenv()\n",
    "%load_ext dotenv\n",
    "%dotenv\n",
    "\n",
    "# Openweathermap API\n",
    "key = os.getenv('APIKEY')\n",
    "# RDS Connection\n",
    "DBHOST = os.getenv(\"DBHOST\")\n",
    "DBUSER = os.getenv(\"DBUSER\")\n",
    "DBPASS = os.getenv(\"DBPASS\")\n",
    "DBNAME = os.getenv(\"DBNAME\")"
   ]
  },
  {
   "cell_type": "code",
   "execution_count": 57,
   "metadata": {},
   "outputs": [],
   "source": [
    "# Importing the cities list\n",
    "cities = [\"Mont Saint Michel\", \"St Malo\", \"Bayeux\", \"Le Havre\", \"Rouen\", \"Paris\", \"Amiens\", \"Lille\", \"Strasbourg\", \"Chateau du Haut Koenigsbourg\", \"Colmar\", \"Eguisheim\", \"Besancon\", \"Dijon\", \"Annecy\", \"Grenoble\", \"Lyon\", \"Gorges du Verdon\", \"Bormes les Mimosas\", \"Cassis\", \"Marseille\", \"Aix en Provence\", \"Avignon\", \"Uzes\", \"Nimes\", \"Aigues Mortes\", \"Saintes Maries de la mer\", \"Collioure\", \"Carcassonne\", \"Ariege\", \"Toulouse\", \"Montauban\", \"Biarritz\", \"Bayonne\", \"La Rochelle\"]"
   ]
  },
  {
   "cell_type": "code",
   "execution_count": 58,
   "metadata": {},
   "outputs": [
    {
     "data": {
      "text/html": [
       "<div>\n",
       "<style scoped>\n",
       "    .dataframe tbody tr th:only-of-type {\n",
       "        vertical-align: middle;\n",
       "    }\n",
       "\n",
       "    .dataframe tbody tr th {\n",
       "        vertical-align: top;\n",
       "    }\n",
       "\n",
       "    .dataframe thead th {\n",
       "        text-align: right;\n",
       "    }\n",
       "</style>\n",
       "<table border=\"1\" class=\"dataframe\">\n",
       "  <thead>\n",
       "    <tr style=\"text-align: right;\">\n",
       "      <th></th>\n",
       "      <th>id</th>\n",
       "      <th>city</th>\n",
       "    </tr>\n",
       "  </thead>\n",
       "  <tbody>\n",
       "    <tr>\n",
       "      <th>0</th>\n",
       "      <td>0</td>\n",
       "      <td>Mont Saint Michel</td>\n",
       "    </tr>\n",
       "    <tr>\n",
       "      <th>1</th>\n",
       "      <td>1</td>\n",
       "      <td>St Malo</td>\n",
       "    </tr>\n",
       "    <tr>\n",
       "      <th>2</th>\n",
       "      <td>2</td>\n",
       "      <td>Bayeux</td>\n",
       "    </tr>\n",
       "    <tr>\n",
       "      <th>3</th>\n",
       "      <td>3</td>\n",
       "      <td>Le Havre</td>\n",
       "    </tr>\n",
       "    <tr>\n",
       "      <th>4</th>\n",
       "      <td>4</td>\n",
       "      <td>Rouen</td>\n",
       "    </tr>\n",
       "    <tr>\n",
       "      <th>5</th>\n",
       "      <td>5</td>\n",
       "      <td>Paris</td>\n",
       "    </tr>\n",
       "    <tr>\n",
       "      <th>6</th>\n",
       "      <td>6</td>\n",
       "      <td>Amiens</td>\n",
       "    </tr>\n",
       "    <tr>\n",
       "      <th>7</th>\n",
       "      <td>7</td>\n",
       "      <td>Lille</td>\n",
       "    </tr>\n",
       "    <tr>\n",
       "      <th>8</th>\n",
       "      <td>8</td>\n",
       "      <td>Strasbourg</td>\n",
       "    </tr>\n",
       "    <tr>\n",
       "      <th>9</th>\n",
       "      <td>9</td>\n",
       "      <td>Chateau du Haut Koenigsbourg</td>\n",
       "    </tr>\n",
       "    <tr>\n",
       "      <th>10</th>\n",
       "      <td>10</td>\n",
       "      <td>Colmar</td>\n",
       "    </tr>\n",
       "    <tr>\n",
       "      <th>11</th>\n",
       "      <td>11</td>\n",
       "      <td>Eguisheim</td>\n",
       "    </tr>\n",
       "    <tr>\n",
       "      <th>12</th>\n",
       "      <td>12</td>\n",
       "      <td>Besancon</td>\n",
       "    </tr>\n",
       "    <tr>\n",
       "      <th>13</th>\n",
       "      <td>13</td>\n",
       "      <td>Dijon</td>\n",
       "    </tr>\n",
       "    <tr>\n",
       "      <th>14</th>\n",
       "      <td>14</td>\n",
       "      <td>Annecy</td>\n",
       "    </tr>\n",
       "    <tr>\n",
       "      <th>15</th>\n",
       "      <td>15</td>\n",
       "      <td>Grenoble</td>\n",
       "    </tr>\n",
       "    <tr>\n",
       "      <th>16</th>\n",
       "      <td>16</td>\n",
       "      <td>Lyon</td>\n",
       "    </tr>\n",
       "    <tr>\n",
       "      <th>17</th>\n",
       "      <td>17</td>\n",
       "      <td>Gorges du Verdon</td>\n",
       "    </tr>\n",
       "    <tr>\n",
       "      <th>18</th>\n",
       "      <td>18</td>\n",
       "      <td>Bormes les Mimosas</td>\n",
       "    </tr>\n",
       "    <tr>\n",
       "      <th>19</th>\n",
       "      <td>19</td>\n",
       "      <td>Cassis</td>\n",
       "    </tr>\n",
       "    <tr>\n",
       "      <th>20</th>\n",
       "      <td>20</td>\n",
       "      <td>Marseille</td>\n",
       "    </tr>\n",
       "    <tr>\n",
       "      <th>21</th>\n",
       "      <td>21</td>\n",
       "      <td>Aix en Provence</td>\n",
       "    </tr>\n",
       "    <tr>\n",
       "      <th>22</th>\n",
       "      <td>22</td>\n",
       "      <td>Avignon</td>\n",
       "    </tr>\n",
       "    <tr>\n",
       "      <th>23</th>\n",
       "      <td>23</td>\n",
       "      <td>Uzes</td>\n",
       "    </tr>\n",
       "    <tr>\n",
       "      <th>24</th>\n",
       "      <td>24</td>\n",
       "      <td>Nimes</td>\n",
       "    </tr>\n",
       "    <tr>\n",
       "      <th>25</th>\n",
       "      <td>25</td>\n",
       "      <td>Aigues Mortes</td>\n",
       "    </tr>\n",
       "    <tr>\n",
       "      <th>26</th>\n",
       "      <td>26</td>\n",
       "      <td>Saintes Maries de la mer</td>\n",
       "    </tr>\n",
       "    <tr>\n",
       "      <th>27</th>\n",
       "      <td>27</td>\n",
       "      <td>Collioure</td>\n",
       "    </tr>\n",
       "    <tr>\n",
       "      <th>28</th>\n",
       "      <td>28</td>\n",
       "      <td>Carcassonne</td>\n",
       "    </tr>\n",
       "    <tr>\n",
       "      <th>29</th>\n",
       "      <td>29</td>\n",
       "      <td>Ariege</td>\n",
       "    </tr>\n",
       "    <tr>\n",
       "      <th>30</th>\n",
       "      <td>30</td>\n",
       "      <td>Toulouse</td>\n",
       "    </tr>\n",
       "    <tr>\n",
       "      <th>31</th>\n",
       "      <td>31</td>\n",
       "      <td>Montauban</td>\n",
       "    </tr>\n",
       "    <tr>\n",
       "      <th>32</th>\n",
       "      <td>32</td>\n",
       "      <td>Biarritz</td>\n",
       "    </tr>\n",
       "    <tr>\n",
       "      <th>33</th>\n",
       "      <td>33</td>\n",
       "      <td>Bayonne</td>\n",
       "    </tr>\n",
       "    <tr>\n",
       "      <th>34</th>\n",
       "      <td>34</td>\n",
       "      <td>La Rochelle</td>\n",
       "    </tr>\n",
       "  </tbody>\n",
       "</table>\n",
       "</div>"
      ],
      "text/plain": [
       "    id                          city\n",
       "0    0             Mont Saint Michel\n",
       "1    1                       St Malo\n",
       "2    2                        Bayeux\n",
       "3    3                      Le Havre\n",
       "4    4                         Rouen\n",
       "5    5                         Paris\n",
       "6    6                        Amiens\n",
       "7    7                         Lille\n",
       "8    8                    Strasbourg\n",
       "9    9  Chateau du Haut Koenigsbourg\n",
       "10  10                        Colmar\n",
       "11  11                     Eguisheim\n",
       "12  12                      Besancon\n",
       "13  13                         Dijon\n",
       "14  14                        Annecy\n",
       "15  15                      Grenoble\n",
       "16  16                          Lyon\n",
       "17  17              Gorges du Verdon\n",
       "18  18            Bormes les Mimosas\n",
       "19  19                        Cassis\n",
       "20  20                     Marseille\n",
       "21  21               Aix en Provence\n",
       "22  22                       Avignon\n",
       "23  23                          Uzes\n",
       "24  24                         Nimes\n",
       "25  25                 Aigues Mortes\n",
       "26  26      Saintes Maries de la mer\n",
       "27  27                     Collioure\n",
       "28  28                   Carcassonne\n",
       "29  29                        Ariege\n",
       "30  30                      Toulouse\n",
       "31  31                     Montauban\n",
       "32  32                      Biarritz\n",
       "33  33                       Bayonne\n",
       "34  34                   La Rochelle"
      ]
     },
     "execution_count": 58,
     "metadata": {},
     "output_type": "execute_result"
    }
   ],
   "source": [
    "# Creating a dataframe with the cities list\n",
    "df_cities = pd.DataFrame(columns=[\"city\"])\n",
    "df_cities['city'] = cities\n",
    "df_cities.reset_index(inplace=True)\n",
    "df_cities.rename(columns={'index': 'id'}, inplace=True)\n",
    "df_cities"
   ]
  },
  {
   "cell_type": "markdown",
   "metadata": {},
   "source": [
    "## Scraping Booking.com"
   ]
  },
  {
   "cell_type": "code",
   "execution_count": 4,
   "metadata": {},
   "outputs": [],
   "source": [
    "# Creating a copy of the dataframe\n",
    "df_booking = df_cities.copy(deep=True)\n",
    "\n",
    "# Defining the spider class\n",
    "class BookingSpider(scrapy.Spider):\n",
    "    name = \"Booking_data\"\n",
    "    cities = df_booking[\"city\"]\n",
    "    start_urls = ['https://www.booking.com/index.fr.html']\n",
    "\n",
    "    def parse(self, response):\n",
    "        for i in cities:\n",
    "            yield scrapy.FormRequest.from_response(\n",
    "            response,\n",
    "            formdata={'ss': i },\n",
    "            callback=self.after_search\n",
    "        )\n",
    "    # Important note: the classes names change often and may not be correct at a later date\n",
    "    def after_search(self, response):\n",
    "        cities = response.url.split(\"ss=\")[-1].split(\"&\")[0]\n",
    "                \n",
    "        booking = response.css('.d4924c9e74')\n",
    "        \n",
    "        for k in booking:\n",
    "            \n",
    "            yield {\n",
    "                'location': cities,\n",
    "                'name': k.css('a div.fcab3ed991.a23c043802::text').getall(),\n",
    "                'url': k.css('h3.a4225678b2 a::attr(href)').getall(),\n",
    "            }\n",
    "\n",
    "        try:\n",
    "            next_page = response.css('a.paging-next').attrib[\"href\"]\n",
    "        except KeyError:\n",
    "            logging.info('No next page. Terminating crawling process.')\n",
    "        else:\n",
    "            yield response.follow(next_page, callback=self.after_search)"
   ]
  },
  {
   "cell_type": "code",
   "execution_count": 5,
   "metadata": {},
   "outputs": [
    {
     "name": "stderr",
     "output_type": "stream",
     "text": [
      "2022-04-14 22:32:20 [scrapy.utils.log] INFO: Scrapy 2.6.1 started (bot: scrapybot)\n",
      "2022-04-14 22:32:20 [scrapy.utils.log] INFO: Versions: lxml 4.8.0.0, libxml2 2.9.12, cssselect 1.1.0, parsel 1.6.0, w3lib 1.22.0, Twisted 22.2.0, Python 3.9.11 (main, Mar 29 2022, 19:08:29) - [GCC 7.5.0], pyOpenSSL 22.0.0 (OpenSSL 1.1.1n  15 Mar 2022), cryptography 36.0.0, Platform Linux-5.13.0-39-generic-x86_64-with-glibc2.31\n",
      "2022-04-14 22:32:20 [scrapy.crawler] INFO: Overridden settings:\n",
      "{'AUTOTHROTTLE_ENABLED': True,\n",
      " 'LOG_LEVEL': 20,\n",
      " 'USER_AGENT': 'Mozilla/5.0 (Windows NT 10.0; Win64; x64; rv:92.0) '\n",
      "               'Gecko/20100101 Firefox/92.0'}\n",
      "2022-04-14 22:32:20 [scrapy.extensions.telnet] INFO: Telnet Password: fae05b61e55cb43f\n",
      "2022-04-14 22:32:20 [scrapy.middleware] INFO: Enabled extensions:\n",
      "['scrapy.extensions.corestats.CoreStats',\n",
      " 'scrapy.extensions.telnet.TelnetConsole',\n",
      " 'scrapy.extensions.memusage.MemoryUsage',\n",
      " 'scrapy.extensions.feedexport.FeedExporter',\n",
      " 'scrapy.extensions.logstats.LogStats',\n",
      " 'scrapy.extensions.throttle.AutoThrottle']\n",
      "2022-04-14 22:32:20 [scrapy.middleware] INFO: Enabled downloader middlewares:\n",
      "['scrapy.downloadermiddlewares.httpauth.HttpAuthMiddleware',\n",
      " 'scrapy.downloadermiddlewares.downloadtimeout.DownloadTimeoutMiddleware',\n",
      " 'scrapy.downloadermiddlewares.defaultheaders.DefaultHeadersMiddleware',\n",
      " 'scrapy.downloadermiddlewares.useragent.UserAgentMiddleware',\n",
      " 'scrapy.downloadermiddlewares.retry.RetryMiddleware',\n",
      " 'scrapy.downloadermiddlewares.redirect.MetaRefreshMiddleware',\n",
      " 'scrapy.downloadermiddlewares.httpcompression.HttpCompressionMiddleware',\n",
      " 'scrapy.downloadermiddlewares.redirect.RedirectMiddleware',\n",
      " 'scrapy.downloadermiddlewares.cookies.CookiesMiddleware',\n",
      " 'scrapy.downloadermiddlewares.httpproxy.HttpProxyMiddleware',\n",
      " 'scrapy.downloadermiddlewares.stats.DownloaderStats']\n",
      "2022-04-14 22:32:20 [scrapy.middleware] INFO: Enabled spider middlewares:\n",
      "['scrapy.spidermiddlewares.httperror.HttpErrorMiddleware',\n",
      " 'scrapy.spidermiddlewares.offsite.OffsiteMiddleware',\n",
      " 'scrapy.spidermiddlewares.referer.RefererMiddleware',\n",
      " 'scrapy.spidermiddlewares.urllength.UrlLengthMiddleware',\n",
      " 'scrapy.spidermiddlewares.depth.DepthMiddleware']\n",
      "2022-04-14 22:32:20 [scrapy.middleware] INFO: Enabled item pipelines:\n",
      "[]\n",
      "2022-04-14 22:32:20 [scrapy.core.engine] INFO: Spider opened\n",
      "2022-04-14 22:32:20 [scrapy.extensions.logstats] INFO: Crawled 0 pages (at 0 pages/min), scraped 0 items (at 0 items/min)\n",
      "2022-04-14 22:32:20 [scrapy.extensions.telnet] INFO: Telnet console listening on 127.0.0.1:6023\n",
      "2022-04-14 22:32:28 [root] INFO: No next page. Terminating crawling process.\n",
      "2022-04-14 22:32:31 [root] INFO: No next page. Terminating crawling process.\n",
      "2022-04-14 22:32:33 [root] INFO: No next page. Terminating crawling process.\n",
      "2022-04-14 22:32:34 [root] INFO: No next page. Terminating crawling process.\n",
      "2022-04-14 22:32:35 [root] INFO: No next page. Terminating crawling process.\n",
      "2022-04-14 22:32:36 [root] INFO: No next page. Terminating crawling process.\n",
      "2022-04-14 22:32:36 [root] INFO: No next page. Terminating crawling process.\n",
      "2022-04-14 22:32:37 [root] INFO: No next page. Terminating crawling process.\n",
      "2022-04-14 22:32:37 [root] INFO: No next page. Terminating crawling process.\n",
      "2022-04-14 22:32:38 [root] INFO: No next page. Terminating crawling process.\n",
      "2022-04-14 22:32:38 [root] INFO: No next page. Terminating crawling process.\n",
      "2022-04-14 22:32:38 [root] INFO: No next page. Terminating crawling process.\n",
      "2022-04-14 22:32:39 [root] INFO: No next page. Terminating crawling process.\n",
      "2022-04-14 22:32:39 [root] INFO: No next page. Terminating crawling process.\n",
      "2022-04-14 22:32:40 [root] INFO: No next page. Terminating crawling process.\n",
      "2022-04-14 22:32:40 [root] INFO: No next page. Terminating crawling process.\n",
      "2022-04-14 22:32:41 [root] INFO: No next page. Terminating crawling process.\n",
      "2022-04-14 22:32:42 [root] INFO: No next page. Terminating crawling process.\n",
      "2022-04-14 22:32:42 [root] INFO: No next page. Terminating crawling process.\n",
      "2022-04-14 22:32:42 [root] INFO: No next page. Terminating crawling process.\n",
      "2022-04-14 22:32:43 [root] INFO: No next page. Terminating crawling process.\n",
      "2022-04-14 22:32:43 [root] INFO: No next page. Terminating crawling process.\n",
      "2022-04-14 22:32:43 [root] INFO: No next page. Terminating crawling process.\n",
      "2022-04-14 22:32:44 [root] INFO: No next page. Terminating crawling process.\n",
      "2022-04-14 22:32:44 [root] INFO: No next page. Terminating crawling process.\n",
      "2022-04-14 22:32:44 [root] INFO: No next page. Terminating crawling process.\n",
      "2022-04-14 22:32:45 [root] INFO: No next page. Terminating crawling process.\n",
      "2022-04-14 22:32:45 [root] INFO: No next page. Terminating crawling process.\n",
      "2022-04-14 22:32:46 [root] INFO: No next page. Terminating crawling process.\n",
      "2022-04-14 22:32:46 [root] INFO: No next page. Terminating crawling process.\n",
      "2022-04-14 22:32:47 [root] INFO: No next page. Terminating crawling process.\n",
      "2022-04-14 22:32:47 [root] INFO: No next page. Terminating crawling process.\n",
      "2022-04-14 22:32:47 [root] INFO: No next page. Terminating crawling process.\n",
      "2022-04-14 22:32:48 [root] INFO: No next page. Terminating crawling process.\n",
      "2022-04-14 22:32:48 [root] INFO: No next page. Terminating crawling process.\n",
      "2022-04-14 22:32:48 [scrapy.core.engine] INFO: Closing spider (finished)\n",
      "2022-04-14 22:32:48 [scrapy.extensions.feedexport] INFO: Stored json feed (35 items) in: cities.json\n",
      "2022-04-14 22:32:48 [scrapy.statscollectors] INFO: Dumping Scrapy stats:\n",
      "{'downloader/request_bytes': 50685,\n",
      " 'downloader/request_count': 36,\n",
      " 'downloader/request_method_count/GET': 36,\n",
      " 'downloader/response_bytes': 6236003,\n",
      " 'downloader/response_count': 36,\n",
      " 'downloader/response_status_count/200': 36,\n",
      " 'elapsed_time_seconds': 28.129696,\n",
      " 'feedexport/success_count/FileFeedStorage': 1,\n",
      " 'finish_reason': 'finished',\n",
      " 'finish_time': datetime.datetime(2022, 4, 14, 20, 32, 48, 888005),\n",
      " 'httpcompression/response_bytes': 41716200,\n",
      " 'httpcompression/response_count': 36,\n",
      " 'item_scraped_count': 35,\n",
      " 'log_count/INFO': 46,\n",
      " 'memusage/max': 164179968,\n",
      " 'memusage/startup': 164179968,\n",
      " 'request_depth_max': 1,\n",
      " 'response_received_count': 36,\n",
      " 'scheduler/dequeued': 36,\n",
      " 'scheduler/dequeued/memory': 36,\n",
      " 'scheduler/enqueued': 36,\n",
      " 'scheduler/enqueued/memory': 36,\n",
      " 'start_time': datetime.datetime(2022, 4, 14, 20, 32, 20, 758309)}\n",
      "2022-04-14 22:32:48 [scrapy.core.engine] INFO: Spider closed (finished)\n"
     ]
    }
   ],
   "source": [
    "# Initializing the crawler process\n",
    "filename = \"cities.json\"\n",
    "\n",
    "if filename in os.listdir():\n",
    "        os.remove(filename)\n",
    "\n",
    "process = CrawlerProcess(settings = {\n",
    "    'USER_AGENT': 'Mozilla/5.0 (Windows NT 10.0; Win64; x64; rv:92.0) Gecko/20100101 Firefox/92.0',\n",
    "    'LOG_LEVEL': logging.INFO,\n",
    "    \"FEEDS\": {\n",
    "        filename: {\"format\": \"json\"},\n",
    "    },\n",
    "    \"AUTOTHROTTLE_ENABLED\": True\n",
    "})\n",
    "\n",
    "process.crawl(BookingSpider)\n",
    "process.start()"
   ]
  },
  {
   "cell_type": "code",
   "execution_count": 10,
   "metadata": {},
   "outputs": [
    {
     "data": {
      "text/html": [
       "<div>\n",
       "<style scoped>\n",
       "    .dataframe tbody tr th:only-of-type {\n",
       "        vertical-align: middle;\n",
       "    }\n",
       "\n",
       "    .dataframe tbody tr th {\n",
       "        vertical-align: top;\n",
       "    }\n",
       "\n",
       "    .dataframe thead th {\n",
       "        text-align: right;\n",
       "    }\n",
       "</style>\n",
       "<table border=\"1\" class=\"dataframe\">\n",
       "  <thead>\n",
       "    <tr style=\"text-align: right;\">\n",
       "      <th></th>\n",
       "      <th>location</th>\n",
       "      <th>name</th>\n",
       "      <th>url</th>\n",
       "    </tr>\n",
       "  </thead>\n",
       "  <tbody>\n",
       "    <tr>\n",
       "      <th>0</th>\n",
       "      <td>Mont+Saint+Michel</td>\n",
       "      <td>[Le Relais Saint Michel, La Mère Poulard, Merc...</td>\n",
       "      <td>[https://www.booking.com/hotel/fr/le-relais-sa...</td>\n",
       "    </tr>\n",
       "    <tr>\n",
       "      <th>1</th>\n",
       "      <td>St+Malo</td>\n",
       "      <td>[Studio cocooning, Apartment, St Malo, Petite ...</td>\n",
       "      <td>[https://www.booking.com/hotel/fr/studio-cocoo...</td>\n",
       "    </tr>\n",
       "    <tr>\n",
       "      <th>2</th>\n",
       "      <td>Bayeux</td>\n",
       "      <td>[Premiere Classe Bayeux, ibis budget Bayeux, L...</td>\n",
       "      <td>[https://www.booking.com/hotel/fr/premiere-cla...</td>\n",
       "    </tr>\n",
       "    <tr>\n",
       "      <th>3</th>\n",
       "      <td>Le+Havre</td>\n",
       "      <td>[Holiday Inn Express - Le Havre Centre, Ibis B...</td>\n",
       "      <td>[https://www.booking.com/hotel/fr/campanile-le...</td>\n",
       "    </tr>\n",
       "    <tr>\n",
       "      <th>4</th>\n",
       "      <td>Rouen</td>\n",
       "      <td>[Maison hypercentre Rouen tout confort, L'Aute...</td>\n",
       "      <td>[https://www.booking.com/hotel/fr/maison-hyper...</td>\n",
       "    </tr>\n",
       "  </tbody>\n",
       "</table>\n",
       "</div>"
      ],
      "text/plain": [
       "            location                                               name  \\\n",
       "0  Mont+Saint+Michel  [Le Relais Saint Michel, La Mère Poulard, Merc...   \n",
       "1            St+Malo  [Studio cocooning, Apartment, St Malo, Petite ...   \n",
       "2             Bayeux  [Premiere Classe Bayeux, ibis budget Bayeux, L...   \n",
       "3           Le+Havre  [Holiday Inn Express - Le Havre Centre, Ibis B...   \n",
       "4              Rouen  [Maison hypercentre Rouen tout confort, L'Aute...   \n",
       "\n",
       "                                                 url  \n",
       "0  [https://www.booking.com/hotel/fr/le-relais-sa...  \n",
       "1  [https://www.booking.com/hotel/fr/studio-cocoo...  \n",
       "2  [https://www.booking.com/hotel/fr/premiere-cla...  \n",
       "3  [https://www.booking.com/hotel/fr/campanile-le...  \n",
       "4  [https://www.booking.com/hotel/fr/maison-hyper...  "
      ]
     },
     "execution_count": 10,
     "metadata": {},
     "output_type": "execute_result"
    }
   ],
   "source": [
    "# Reading the scraped json data into a new dataframe\n",
    "df = pd.read_json(\"cities.json\")\n",
    "df.head()"
   ]
  },
  {
   "cell_type": "code",
   "execution_count": 11,
   "metadata": {},
   "outputs": [],
   "source": [
    "# Keeping only the first 20 items from each list\n",
    "for i in range (len(df[\"location\"])):\n",
    "    df[\"name\"][i] = df[\"name\"][i][:20]\n",
    "    df[\"url\"][i] = df[\"url\"][i][:20]\n"
   ]
  },
  {
   "cell_type": "code",
   "execution_count": 13,
   "metadata": {},
   "outputs": [
    {
     "name": "stdout",
     "output_type": "stream",
     "text": [
      "city Mont+Saint+Michel done\n",
      "city St+Malo done\n",
      "city Bayeux done\n",
      "city Le+Havre done\n",
      "city Rouen done\n",
      "city Paris done\n",
      "city Amiens done\n",
      "city Lille done\n",
      "city Strasbourg done\n",
      "city Chateau+du+Haut+Koenigsbourg done\n",
      "city Colmar done\n",
      "city Eguisheim done\n",
      "city Besancon done\n",
      "city Dijon done\n",
      "city Annecy done\n",
      "city Grenoble done\n",
      "city La+Rochelle done\n",
      "city Bayonne done\n",
      "city Biarritz done\n",
      "city Montauban done\n",
      "city Toulouse done\n",
      "city Ariege done\n",
      "city Carcassonne done\n",
      "city Collioure done\n",
      "city Saintes+Maries+de+la+mer done\n",
      "city Aigues+Mortes done\n",
      "city Nimes done\n",
      "city Uzes done\n",
      "city Avignon done\n",
      "city Aix+en+Provence done\n",
      "city Marseille done\n",
      "city Cassis done\n",
      "city Bormes+les+Mimosas done\n",
      "city Gorges+du+Verdon done\n",
      "city Lyon done\n"
     ]
    }
   ],
   "source": [
    "# Initializing the scraper with BeautifulSoup\n",
    "lat_full = []\n",
    "lon_full = []\n",
    "description_full = []\n",
    "score_full = []\n",
    "\n",
    "navigator = 'Mozilla/5.0 (Macintosh; Intel Mac OS X 10_10_1)'\n",
    "\n",
    "for i in range(len(df[\"url\"])):\n",
    "    lat_list = []\n",
    "    lon_list = []\n",
    "    description_list = []\n",
    "    score_list = []\n",
    "    hotel_list = df[\"url\"][i]\n",
    "\n",
    "    for j in hotel_list:\n",
    "\n",
    "        # In some cases, the process will return an error on the first attempt\n",
    "        try:\n",
    "            page = requests.get(j, headers={'User-Agent': navigator})\n",
    "            soup = BeautifulSoup(page.text, 'html.parser')\n",
    "        except:\n",
    "            page = requests.get(j, headers={'User-Agent': navigator})\n",
    "            soup = BeautifulSoup(page.text, 'html.parser')\n",
    "\n",
    "        lat_list.append(soup.select('p.address.address_clean a')[0].get(\"data-atlas-latlng\").split(\",\")[0])\n",
    "        lon_list.append(soup.select('p.address.address_clean a')[0].get(\"data-atlas-latlng\").split(\",\")[1])\n",
    "        description_list.append(soup.select('div#property_description_content')[0].get_text())\n",
    "\n",
    "        try:\n",
    "            score_list.append(soup.select('div.b5cd09854e.d10a6220b4')[0].get_text())\n",
    "            \n",
    "        except:\n",
    "            # If the score is missing, setting the default value to 5.0\n",
    "            score_list.append(\"5.0\")\n",
    "\n",
    "        # Setting up a wait timer to avoid spamming the website\n",
    "        time.sleep(1.4)\n",
    "        \n",
    "    lat_full.append(lat_list)\n",
    "    lon_full.append(lon_list)\n",
    "    description_full.append(description_list)\n",
    "    score_full.append(score_list)\n",
    "    \n",
    "    # Printing the progress, the whole process takes a bit more than 40 minutes\n",
    "    print (f\"{df['location'].iloc[i]} completed\")\n",
    "\n",
    "# Adding new columns based on lists of lists gathered above    \n",
    "df[\"lat\"] = lat_full\n",
    "df[\"lon\"] = lon_full\n",
    "df[\"description\"] = description_full\n",
    "df[\"score\"] = score_full\n",
    "print('Task completed')"
   ]
  },
  {
   "cell_type": "code",
   "execution_count": null,
   "metadata": {},
   "outputs": [],
   "source": [
    "# Replacing the + in cities names and reindexing the dataframe to add the id column that will be useful to merge later\n",
    "df[\"location\"] = df[\"location\"].str.replace(\"+\", \" \", regex=True)\n",
    "df = df.set_index(\"location\")\n",
    "df = df.reindex(cities)\n",
    "df.reset_index(inplace=True)\n",
    "df.reset_index(inplace=True)\n",
    "df.rename(columns={'index': 'id'}, inplace=True)"
   ]
  },
  {
   "cell_type": "markdown",
   "metadata": {},
   "source": [
    "## Getting API Data"
   ]
  },
  {
   "cell_type": "markdown",
   "metadata": {},
   "source": [
    "### GPS Coordinates"
   ]
  },
  {
   "cell_type": "code",
   "execution_count": 59,
   "metadata": {},
   "outputs": [],
   "source": [
    "# Creating another copy of the cities dataframe to store the coordinates data from Nominatim API\n",
    "df_gps = df_cities.copy(deep=True)\n",
    "lat_list = []\n",
    "lon_list = []\n",
    "\n",
    "for i in cities:\n",
    "    # There is no Gorges du Verdon city, replacing by the closest city instead\n",
    "    if i == \"Gorges du Verdon\":\n",
    "        i = \"La%20Palud-sur-Verdon\"\n",
    "        r = requests.get(f\"https://nominatim.openstreetmap.org/search?city={i}&format=json\").json()\n",
    "        lat_list.append(r[0]['lat'])\n",
    "        lon_list.append(r[0]['lon'])\n",
    "    # Ariege is not a city, using the county instead here\n",
    "    elif i == 'Ariege':\n",
    "        r = requests.get(f\"https://nominatim.openstreetmap.org/search?county={i}&format=json\").json()\n",
    "        lat_list.append(r[0]['lat'])\n",
    "        lon_list.append(r[0]['lon'])\n",
    "    # Replacing the whitespace by a web friendly notation\n",
    "    else:\n",
    "        name = i.replace(\" \", \"%20\")\n",
    "        r = requests.get(f\"https://nominatim.openstreetmap.org/search?city={name}&format=json\").json()\n",
    "        lat_list.append(r[0]['lat'])\n",
    "        lon_list.append(r[0]['lon'])\n",
    " \n",
    "# Adding the coordinates to the dataframe   \n",
    "df_gps['lat'] = lat_list\n",
    "df_gps['lon'] = lon_list "
   ]
  },
  {
   "cell_type": "code",
   "execution_count": 60,
   "metadata": {},
   "outputs": [
    {
     "data": {
      "text/html": [
       "<div>\n",
       "<style scoped>\n",
       "    .dataframe tbody tr th:only-of-type {\n",
       "        vertical-align: middle;\n",
       "    }\n",
       "\n",
       "    .dataframe tbody tr th {\n",
       "        vertical-align: top;\n",
       "    }\n",
       "\n",
       "    .dataframe thead th {\n",
       "        text-align: right;\n",
       "    }\n",
       "</style>\n",
       "<table border=\"1\" class=\"dataframe\">\n",
       "  <thead>\n",
       "    <tr style=\"text-align: right;\">\n",
       "      <th></th>\n",
       "      <th>id</th>\n",
       "      <th>city</th>\n",
       "      <th>lat</th>\n",
       "      <th>lon</th>\n",
       "    </tr>\n",
       "  </thead>\n",
       "  <tbody>\n",
       "    <tr>\n",
       "      <th>0</th>\n",
       "      <td>0</td>\n",
       "      <td>Mont Saint Michel</td>\n",
       "      <td>48.6359541</td>\n",
       "      <td>-1.511459954959514</td>\n",
       "    </tr>\n",
       "    <tr>\n",
       "      <th>1</th>\n",
       "      <td>1</td>\n",
       "      <td>St Malo</td>\n",
       "      <td>48.649518</td>\n",
       "      <td>-2.0260409</td>\n",
       "    </tr>\n",
       "    <tr>\n",
       "      <th>2</th>\n",
       "      <td>2</td>\n",
       "      <td>Bayeux</td>\n",
       "      <td>49.2764624</td>\n",
       "      <td>-0.7024738</td>\n",
       "    </tr>\n",
       "    <tr>\n",
       "      <th>3</th>\n",
       "      <td>3</td>\n",
       "      <td>Le Havre</td>\n",
       "      <td>49.4938975</td>\n",
       "      <td>0.1079732</td>\n",
       "    </tr>\n",
       "    <tr>\n",
       "      <th>4</th>\n",
       "      <td>4</td>\n",
       "      <td>Rouen</td>\n",
       "      <td>49.4404591</td>\n",
       "      <td>1.0939658</td>\n",
       "    </tr>\n",
       "  </tbody>\n",
       "</table>\n",
       "</div>"
      ],
      "text/plain": [
       "   id               city         lat                 lon\n",
       "0   0  Mont Saint Michel  48.6359541  -1.511459954959514\n",
       "1   1            St Malo   48.649518          -2.0260409\n",
       "2   2             Bayeux  49.2764624          -0.7024738\n",
       "3   3           Le Havre  49.4938975           0.1079732\n",
       "4   4              Rouen  49.4404591           1.0939658"
      ]
     },
     "execution_count": 60,
     "metadata": {},
     "output_type": "execute_result"
    }
   ],
   "source": [
    "df_gps.head()"
   ]
  },
  {
   "cell_type": "markdown",
   "metadata": {},
   "source": [
    "### Weather Data"
   ]
  },
  {
   "cell_type": "code",
   "execution_count": 64,
   "metadata": {},
   "outputs": [],
   "source": [
    "# Getting the weather data based on coordinates from the Openweathermap API\n",
    "df_full = df_gps.copy(deep=True)\n",
    "temps_list = []\n",
    "rain_pop = []\n",
    "humidity_list = []\n",
    "# The days list will be used to store data as items of a list for day +1 to day +7\n",
    "days = list(range(1,8))\n",
    "\n",
    "for i in df_full.itertuples():\n",
    "    lat = i.lat\n",
    "    lon = i.lon\n",
    "    r = requests.get(f\"https://api.openweathermap.org/data/2.5/onecall?lat={lat}&lon={lon}&units=metric&appid={key}\").json()\n",
    "    weather_7_days = r['daily'][1:] # Getting the weather data for the next 7 days, first item is the current weather, which we don't want here\n",
    "    temps = [j['feels_like']['day'] for j in weather_7_days]\n",
    "    rain = [int(j['pop'] * 100) for j in weather_7_days]\n",
    "    humidity = [j['humidity'] for j in weather_7_days]\n",
    "    temps_list.append(temps)\n",
    "    rain_pop.append(rain)\n",
    "    humidity_list.append(humidity)\n",
    "    \n",
    "df_full['day_plus'] = [days for _ in range(len(df_full))]\n",
    "df_full['felt_temperature'] = temps_list\n",
    "df_full['rain_chances'] = rain_pop\n",
    "df_full['humidity'] = humidity_list\n",
    "# Calculation of a weather quality indicator, using absolute value of 35 - temperature (with a weight of 2), chances of rain as a percentage, and humidity as a percentage (with a weight of 0.5) - lower is better\n",
    "df_full['score_weather'] = df_full.apply(lambda x: abs((35 - np.mean(x['felt_temperature'])) * 2) + np.mean(x['rain_chances']) + (np.mean(x['humidity']) / 2), axis=1)   "
   ]
  },
  {
   "cell_type": "code",
   "execution_count": 112,
   "metadata": {},
   "outputs": [
    {
     "data": {
      "text/html": [
       "<div>\n",
       "<style scoped>\n",
       "    .dataframe tbody tr th:only-of-type {\n",
       "        vertical-align: middle;\n",
       "    }\n",
       "\n",
       "    .dataframe tbody tr th {\n",
       "        vertical-align: top;\n",
       "    }\n",
       "\n",
       "    .dataframe thead th {\n",
       "        text-align: right;\n",
       "    }\n",
       "</style>\n",
       "<table border=\"1\" class=\"dataframe\">\n",
       "  <thead>\n",
       "    <tr style=\"text-align: right;\">\n",
       "      <th></th>\n",
       "      <th>id</th>\n",
       "      <th>city</th>\n",
       "      <th>lat</th>\n",
       "      <th>lon</th>\n",
       "      <th>day_plus</th>\n",
       "      <th>felt_temperature</th>\n",
       "      <th>rain_chances</th>\n",
       "      <th>humidity</th>\n",
       "      <th>score_weather</th>\n",
       "    </tr>\n",
       "  </thead>\n",
       "  <tbody>\n",
       "    <tr>\n",
       "      <th>0</th>\n",
       "      <td>0</td>\n",
       "      <td>Mont Saint Michel</td>\n",
       "      <td>48.6359541</td>\n",
       "      <td>-1.511459954959514</td>\n",
       "      <td>[1, 2, 3, 4, 5, 6, 7]</td>\n",
       "      <td>[15.83, 15.06, 15, 15.98, 13.56, 15.26, 14.15]</td>\n",
       "      <td>[43, 24, 49, 100, 86, 45, 24]</td>\n",
       "      <td>[59, 48, 60, 66, 72, 61, 67]</td>\n",
       "      <td>123.974286</td>\n",
       "    </tr>\n",
       "    <tr>\n",
       "      <th>1</th>\n",
       "      <td>1</td>\n",
       "      <td>St Malo</td>\n",
       "      <td>48.649518</td>\n",
       "      <td>-2.0260409</td>\n",
       "      <td>[1, 2, 3, 4, 5, 6, 7]</td>\n",
       "      <td>[12.29, 13.22, 13.46, 13.7, 12.37, 12.76, 12.97]</td>\n",
       "      <td>[37, 23, 60, 98, 76, 38, 8]</td>\n",
       "      <td>[79, 59, 69, 75, 76, 74, 72]</td>\n",
       "      <td>128.637143</td>\n",
       "    </tr>\n",
       "    <tr>\n",
       "      <th>2</th>\n",
       "      <td>2</td>\n",
       "      <td>Bayeux</td>\n",
       "      <td>49.2764624</td>\n",
       "      <td>-0.7024738</td>\n",
       "      <td>[1, 2, 3, 4, 5, 6, 7]</td>\n",
       "      <td>[12.54, 12.48, 11.93, 15.25, 12.8, 12.83, 12.12]</td>\n",
       "      <td>[10, 0, 0, 97, 89, 0, 19]</td>\n",
       "      <td>[71, 61, 71, 72, 79, 65, 67]</td>\n",
       "      <td>109.728571</td>\n",
       "    </tr>\n",
       "    <tr>\n",
       "      <th>3</th>\n",
       "      <td>3</td>\n",
       "      <td>Le Havre</td>\n",
       "      <td>49.4938975</td>\n",
       "      <td>0.1079732</td>\n",
       "      <td>[1, 2, 3, 4, 5, 6, 7]</td>\n",
       "      <td>[13.34, 12.66, 12.82, 14.04, 10.5, 11.9, 12.36]</td>\n",
       "      <td>[0, 0, 0, 100, 75, 25, 18]</td>\n",
       "      <td>[68, 56, 67, 75, 94, 67, 61]</td>\n",
       "      <td>110.965714</td>\n",
       "    </tr>\n",
       "    <tr>\n",
       "      <th>4</th>\n",
       "      <td>4</td>\n",
       "      <td>Rouen</td>\n",
       "      <td>49.4404591</td>\n",
       "      <td>1.0939658</td>\n",
       "      <td>[1, 2, 3, 4, 5, 6, 7]</td>\n",
       "      <td>[14.93, 13.59, 14.52, 15.67, 10.08, 13.9, 13.95]</td>\n",
       "      <td>[0, 0, 0, 100, 56, 55, 7]</td>\n",
       "      <td>[58, 53, 63, 77, 93, 59, 55]</td>\n",
       "      <td>106.245714</td>\n",
       "    </tr>\n",
       "  </tbody>\n",
       "</table>\n",
       "</div>"
      ],
      "text/plain": [
       "   id               city         lat                 lon  \\\n",
       "0   0  Mont Saint Michel  48.6359541  -1.511459954959514   \n",
       "1   1            St Malo   48.649518          -2.0260409   \n",
       "2   2             Bayeux  49.2764624          -0.7024738   \n",
       "3   3           Le Havre  49.4938975           0.1079732   \n",
       "4   4              Rouen  49.4404591           1.0939658   \n",
       "\n",
       "                day_plus                                  felt_temperature  \\\n",
       "0  [1, 2, 3, 4, 5, 6, 7]    [15.83, 15.06, 15, 15.98, 13.56, 15.26, 14.15]   \n",
       "1  [1, 2, 3, 4, 5, 6, 7]  [12.29, 13.22, 13.46, 13.7, 12.37, 12.76, 12.97]   \n",
       "2  [1, 2, 3, 4, 5, 6, 7]  [12.54, 12.48, 11.93, 15.25, 12.8, 12.83, 12.12]   \n",
       "3  [1, 2, 3, 4, 5, 6, 7]   [13.34, 12.66, 12.82, 14.04, 10.5, 11.9, 12.36]   \n",
       "4  [1, 2, 3, 4, 5, 6, 7]  [14.93, 13.59, 14.52, 15.67, 10.08, 13.9, 13.95]   \n",
       "\n",
       "                    rain_chances                      humidity  score_weather  \n",
       "0  [43, 24, 49, 100, 86, 45, 24]  [59, 48, 60, 66, 72, 61, 67]     123.974286  \n",
       "1    [37, 23, 60, 98, 76, 38, 8]  [79, 59, 69, 75, 76, 74, 72]     128.637143  \n",
       "2      [10, 0, 0, 97, 89, 0, 19]  [71, 61, 71, 72, 79, 65, 67]     109.728571  \n",
       "3     [0, 0, 0, 100, 75, 25, 18]  [68, 56, 67, 75, 94, 67, 61]     110.965714  \n",
       "4      [0, 0, 0, 100, 56, 55, 7]  [58, 53, 63, 77, 93, 59, 55]     106.245714  "
      ]
     },
     "execution_count": 112,
     "metadata": {},
     "output_type": "execute_result"
    }
   ],
   "source": [
    "df_full.head()"
   ]
  },
  {
   "cell_type": "markdown",
   "metadata": {},
   "source": [
    "## Merging Data"
   ]
  },
  {
   "cell_type": "code",
   "execution_count": null,
   "metadata": {},
   "outputs": [],
   "source": [
    "# Renaming coordinates columns to avoid confusion between city and hotel coordinates\n",
    "df.rename(columns={'lat': 'lat_hotels', 'lon': 'lon_hotels'}, inplace=True)"
   ]
  },
  {
   "cell_type": "code",
   "execution_count": 58,
   "metadata": {},
   "outputs": [],
   "source": [
    "# Merging the hotels and weather dataframes, and dropping the unnecessary location column\n",
    "df_complete = pd.merge(df_full, df, on='id')\n",
    "df_complete.drop(columns=['location'], inplace=True)\n",
    "print(df_complete.shape)\n",
    "\n",
    "# Saving the merged dataset as a csv file\n",
    "df_complete.to_csv('df_complete.csv', index=False, header=True)"
   ]
  },
  {
   "cell_type": "markdown",
   "metadata": {},
   "source": [
    "## Storing the dataset in a S3 data lake"
   ]
  },
  {
   "cell_type": "code",
   "execution_count": 10,
   "metadata": {},
   "outputs": [],
   "source": [
    "# Loading the S3 dession and resource\n",
    "session = boto3.Session()\n",
    "s3 = boto3.resource('s3')"
   ]
  },
  {
   "cell_type": "code",
   "execution_count": 11,
   "metadata": {},
   "outputs": [],
   "source": [
    "# Uploading the file to S3\n",
    "s3.Bucket('kayak-project-garp').upload_file('df_complete.csv', 'df_complete.csv')"
   ]
  },
  {
   "cell_type": "code",
   "execution_count": 6,
   "metadata": {},
   "outputs": [
    {
     "data": {
      "text/plain": [
       "(35, 15)"
      ]
     },
     "execution_count": 6,
     "metadata": {},
     "output_type": "execute_result"
    }
   ],
   "source": [
    "# Downloading the file from S3 and checking it kept the same shape.\n",
    "df_s3 = pd.read_csv('s3://kayak-project-garp/df_complete.csv')\n",
    "df_s3.shape"
   ]
  },
  {
   "cell_type": "markdown",
   "metadata": {},
   "source": [
    "## Transforming"
   ]
  },
  {
   "cell_type": "code",
   "execution_count": 7,
   "metadata": {},
   "outputs": [],
   "source": [
    "# Splitting the dataframe into 2 tables\n",
    "\n",
    "df_weather = df_s3[['id', 'city', 'lat', 'lon', 'day_plus', 'felt_temperature', 'rain_chances', 'humidity', 'score_weather']]\n",
    "df_hotels = df_s3[['id', 'city', 'name', 'url', 'lat_hotels', 'lon_hotels', 'description', 'score', 'score_weather']]"
   ]
  },
  {
   "cell_type": "code",
   "execution_count": 8,
   "metadata": {},
   "outputs": [
    {
     "data": {
      "text/html": [
       "<div>\n",
       "<style scoped>\n",
       "    .dataframe tbody tr th:only-of-type {\n",
       "        vertical-align: middle;\n",
       "    }\n",
       "\n",
       "    .dataframe tbody tr th {\n",
       "        vertical-align: top;\n",
       "    }\n",
       "\n",
       "    .dataframe thead th {\n",
       "        text-align: right;\n",
       "    }\n",
       "</style>\n",
       "<table border=\"1\" class=\"dataframe\">\n",
       "  <thead>\n",
       "    <tr style=\"text-align: right;\">\n",
       "      <th></th>\n",
       "      <th>id</th>\n",
       "      <th>city</th>\n",
       "      <th>lat</th>\n",
       "      <th>lon</th>\n",
       "      <th>day_plus</th>\n",
       "      <th>felt_temperature</th>\n",
       "      <th>rain_chances</th>\n",
       "      <th>humidity</th>\n",
       "      <th>score_weather</th>\n",
       "    </tr>\n",
       "  </thead>\n",
       "  <tbody>\n",
       "    <tr>\n",
       "      <th>0</th>\n",
       "      <td>0</td>\n",
       "      <td>Mont Saint Michel</td>\n",
       "      <td>48.635954</td>\n",
       "      <td>-1.511460</td>\n",
       "      <td>[1, 2, 3, 4, 5, 6, 7]</td>\n",
       "      <td>[15.48, 15.06, 14.02, 14.07, 15.12, 16.03, 15.88]</td>\n",
       "      <td>[36.0, 12.0, 100, 89.0, 25.0, 94.0, 100]</td>\n",
       "      <td>[60, 52, 73, 82, 63, 63, 79]</td>\n",
       "      <td>138.668571</td>\n",
       "    </tr>\n",
       "    <tr>\n",
       "      <th>1</th>\n",
       "      <td>1</td>\n",
       "      <td>St Malo</td>\n",
       "      <td>48.649518</td>\n",
       "      <td>-2.026041</td>\n",
       "      <td>[1, 2, 3, 4, 5, 6, 7]</td>\n",
       "      <td>[12.25, 13.03, 13.19, 12.82, 13.44, 14.56, 13.83]</td>\n",
       "      <td>[24.0, 22.0, 100, 97.0, 28.000000000000004, 97...</td>\n",
       "      <td>[78, 68, 75, 81, 69, 68, 80]</td>\n",
       "      <td>147.322857</td>\n",
       "    </tr>\n",
       "    <tr>\n",
       "      <th>2</th>\n",
       "      <td>2</td>\n",
       "      <td>Bayeux</td>\n",
       "      <td>49.276462</td>\n",
       "      <td>-0.702474</td>\n",
       "      <td>[1, 2, 3, 4, 5, 6, 7]</td>\n",
       "      <td>[12.14, 12.03, 13.79, 14.58, 15.8, 15.17, 15.88]</td>\n",
       "      <td>[4.0, 0, 98.0, 67.0, 22.0, 40.0, 91.0]</td>\n",
       "      <td>[75, 60, 67, 78, 70, 72, 79]</td>\n",
       "      <td>123.388571</td>\n",
       "    </tr>\n",
       "    <tr>\n",
       "      <th>3</th>\n",
       "      <td>3</td>\n",
       "      <td>Le Havre</td>\n",
       "      <td>49.493898</td>\n",
       "      <td>0.107973</td>\n",
       "      <td>[1, 2, 3, 4, 5, 6, 7]</td>\n",
       "      <td>[13, 12.33, 14.04, 13.77, 12.5, 12.51, 14.59]</td>\n",
       "      <td>[0, 0, 93.0, 93.0, 47.0, 20.0, 81.0]</td>\n",
       "      <td>[70, 57, 62, 79, 85, 81, 83]</td>\n",
       "      <td>128.145714</td>\n",
       "    </tr>\n",
       "    <tr>\n",
       "      <th>4</th>\n",
       "      <td>4</td>\n",
       "      <td>Rouen</td>\n",
       "      <td>49.440459</td>\n",
       "      <td>1.093966</td>\n",
       "      <td>[1, 2, 3, 4, 5, 6, 7]</td>\n",
       "      <td>[14.84, 13.33, 15.78, 16.45, 14.13, 16.72, 18.24]</td>\n",
       "      <td>[0, 0, 99.0, 100, 82.0, 44.0, 70.0]</td>\n",
       "      <td>[58, 54, 61, 72, 84, 65, 64]</td>\n",
       "      <td>127.860000</td>\n",
       "    </tr>\n",
       "  </tbody>\n",
       "</table>\n",
       "</div>"
      ],
      "text/plain": [
       "   id               city        lat       lon               day_plus  \\\n",
       "0   0  Mont Saint Michel  48.635954 -1.511460  [1, 2, 3, 4, 5, 6, 7]   \n",
       "1   1            St Malo  48.649518 -2.026041  [1, 2, 3, 4, 5, 6, 7]   \n",
       "2   2             Bayeux  49.276462 -0.702474  [1, 2, 3, 4, 5, 6, 7]   \n",
       "3   3           Le Havre  49.493898  0.107973  [1, 2, 3, 4, 5, 6, 7]   \n",
       "4   4              Rouen  49.440459  1.093966  [1, 2, 3, 4, 5, 6, 7]   \n",
       "\n",
       "                                    felt_temperature  \\\n",
       "0  [15.48, 15.06, 14.02, 14.07, 15.12, 16.03, 15.88]   \n",
       "1  [12.25, 13.03, 13.19, 12.82, 13.44, 14.56, 13.83]   \n",
       "2   [12.14, 12.03, 13.79, 14.58, 15.8, 15.17, 15.88]   \n",
       "3      [13, 12.33, 14.04, 13.77, 12.5, 12.51, 14.59]   \n",
       "4  [14.84, 13.33, 15.78, 16.45, 14.13, 16.72, 18.24]   \n",
       "\n",
       "                                        rain_chances  \\\n",
       "0           [36.0, 12.0, 100, 89.0, 25.0, 94.0, 100]   \n",
       "1  [24.0, 22.0, 100, 97.0, 28.000000000000004, 97...   \n",
       "2             [4.0, 0, 98.0, 67.0, 22.0, 40.0, 91.0]   \n",
       "3               [0, 0, 93.0, 93.0, 47.0, 20.0, 81.0]   \n",
       "4                [0, 0, 99.0, 100, 82.0, 44.0, 70.0]   \n",
       "\n",
       "                       humidity  score_weather  \n",
       "0  [60, 52, 73, 82, 63, 63, 79]     138.668571  \n",
       "1  [78, 68, 75, 81, 69, 68, 80]     147.322857  \n",
       "2  [75, 60, 67, 78, 70, 72, 79]     123.388571  \n",
       "3  [70, 57, 62, 79, 85, 81, 83]     128.145714  \n",
       "4  [58, 54, 61, 72, 84, 65, 64]     127.860000  "
      ]
     },
     "execution_count": 8,
     "metadata": {},
     "output_type": "execute_result"
    }
   ],
   "source": [
    "df_weather.head()"
   ]
  },
  {
   "cell_type": "code",
   "execution_count": 9,
   "metadata": {},
   "outputs": [
    {
     "data": {
      "text/html": [
       "<div>\n",
       "<style scoped>\n",
       "    .dataframe tbody tr th:only-of-type {\n",
       "        vertical-align: middle;\n",
       "    }\n",
       "\n",
       "    .dataframe tbody tr th {\n",
       "        vertical-align: top;\n",
       "    }\n",
       "\n",
       "    .dataframe thead th {\n",
       "        text-align: right;\n",
       "    }\n",
       "</style>\n",
       "<table border=\"1\" class=\"dataframe\">\n",
       "  <thead>\n",
       "    <tr style=\"text-align: right;\">\n",
       "      <th></th>\n",
       "      <th>id</th>\n",
       "      <th>city</th>\n",
       "      <th>name</th>\n",
       "      <th>url</th>\n",
       "      <th>lat_hotels</th>\n",
       "      <th>lon_hotels</th>\n",
       "      <th>description</th>\n",
       "      <th>score</th>\n",
       "      <th>score_weather</th>\n",
       "    </tr>\n",
       "  </thead>\n",
       "  <tbody>\n",
       "    <tr>\n",
       "      <th>0</th>\n",
       "      <td>0</td>\n",
       "      <td>Mont Saint Michel</td>\n",
       "      <td>['Hôtel Vert', 'Le Relais Saint Michel', 'La M...</td>\n",
       "      <td>['https://www.booking.com/hotel/fr/vert.fr.htm...</td>\n",
       "      <td>['48.61470049', '48.61758727', '48.63508532', ...</td>\n",
       "      <td>['-1.50961697', '-1.51039615', '-1.51053965', ...</td>\n",
       "      <td>[\"\\nVous pouvez bénéficier d'une réduction Gen...</td>\n",
       "      <td>['8,1', '7,8', '7,2', '8,2', '7,3', '7,2', '8,...</td>\n",
       "      <td>138.668571</td>\n",
       "    </tr>\n",
       "    <tr>\n",
       "      <th>1</th>\n",
       "      <td>1</td>\n",
       "      <td>St Malo</td>\n",
       "      <td>['Hotel Eden', \"Hotel d'Aleth\", \"Hotel Ajoncs ...</td>\n",
       "      <td>['https://www.booking.com/hotel/fr/eden-saint-...</td>\n",
       "      <td>['48.66190919', '48.63593081', '48.64735692', ...</td>\n",
       "      <td>['-1.98966533', '-2.02171236', '-2.02519655', ...</td>\n",
       "      <td>[\"\\nVous pouvez bénéficier d'une réduction Gen...</td>\n",
       "      <td>['7,3', '7,9', '8,5', '7,4', '9,2', '7,9', '9,...</td>\n",
       "      <td>147.322857</td>\n",
       "    </tr>\n",
       "    <tr>\n",
       "      <th>2</th>\n",
       "      <td>2</td>\n",
       "      <td>Bayeux</td>\n",
       "      <td>['ibis budget Bayeux', 'Hôtel De Brunville et ...</td>\n",
       "      <td>['https://www.booking.com/hotel/fr/etap-bayeux...</td>\n",
       "      <td>['49.25424209', '49.27815769', '49.26974024', ...</td>\n",
       "      <td>['-0.64648747', '-0.70351392', '-0.68883955', ...</td>\n",
       "      <td>['\\nL’ibis budget Bayeux vous accueille entre ...</td>\n",
       "      <td>['8,2', '7,8', '8,1', '9,8', '9,4', '8,7', '8,...</td>\n",
       "      <td>123.388571</td>\n",
       "    </tr>\n",
       "    <tr>\n",
       "      <th>3</th>\n",
       "      <td>3</td>\n",
       "      <td>Le Havre</td>\n",
       "      <td>['Holiday Inn Express - Le Havre Centre', 'Nom...</td>\n",
       "      <td>['https://www.booking.com/hotel/fr/campanile-l...</td>\n",
       "      <td>['49.49823800', '49.49331760', '49.49641693', ...</td>\n",
       "      <td>['0.12883700', '0.12530688', '0.15151234', '0....</td>\n",
       "      <td>[\"\\nL’Holiday Inn Express - Le Havre Centre, s...</td>\n",
       "      <td>['8,2', '8,6', '7,5', '8,7', '8,5', '7,2', '8,...</td>\n",
       "      <td>128.145714</td>\n",
       "    </tr>\n",
       "    <tr>\n",
       "      <th>4</th>\n",
       "      <td>4</td>\n",
       "      <td>Rouen</td>\n",
       "      <td>['Radisson Blu Hotel, Rouen Centre', 'Best Wes...</td>\n",
       "      <td>['https://www.booking.com/hotel/fr/radisson-bl...</td>\n",
       "      <td>['49.44644100', '49.44306423', '49.44332714', ...</td>\n",
       "      <td>['1.09412000', '1.08660311', '1.09457396', '1....</td>\n",
       "      <td>[\"\\nVous pouvez bénéficier d'une réduction Gen...</td>\n",
       "      <td>['8,9', '8,6', '8,2', '7,1', '8,2', '8,2', '7,...</td>\n",
       "      <td>127.860000</td>\n",
       "    </tr>\n",
       "  </tbody>\n",
       "</table>\n",
       "</div>"
      ],
      "text/plain": [
       "   id               city                                               name  \\\n",
       "0   0  Mont Saint Michel  ['Hôtel Vert', 'Le Relais Saint Michel', 'La M...   \n",
       "1   1            St Malo  ['Hotel Eden', \"Hotel d'Aleth\", \"Hotel Ajoncs ...   \n",
       "2   2             Bayeux  ['ibis budget Bayeux', 'Hôtel De Brunville et ...   \n",
       "3   3           Le Havre  ['Holiday Inn Express - Le Havre Centre', 'Nom...   \n",
       "4   4              Rouen  ['Radisson Blu Hotel, Rouen Centre', 'Best Wes...   \n",
       "\n",
       "                                                 url  \\\n",
       "0  ['https://www.booking.com/hotel/fr/vert.fr.htm...   \n",
       "1  ['https://www.booking.com/hotel/fr/eden-saint-...   \n",
       "2  ['https://www.booking.com/hotel/fr/etap-bayeux...   \n",
       "3  ['https://www.booking.com/hotel/fr/campanile-l...   \n",
       "4  ['https://www.booking.com/hotel/fr/radisson-bl...   \n",
       "\n",
       "                                          lat_hotels  \\\n",
       "0  ['48.61470049', '48.61758727', '48.63508532', ...   \n",
       "1  ['48.66190919', '48.63593081', '48.64735692', ...   \n",
       "2  ['49.25424209', '49.27815769', '49.26974024', ...   \n",
       "3  ['49.49823800', '49.49331760', '49.49641693', ...   \n",
       "4  ['49.44644100', '49.44306423', '49.44332714', ...   \n",
       "\n",
       "                                          lon_hotels  \\\n",
       "0  ['-1.50961697', '-1.51039615', '-1.51053965', ...   \n",
       "1  ['-1.98966533', '-2.02171236', '-2.02519655', ...   \n",
       "2  ['-0.64648747', '-0.70351392', '-0.68883955', ...   \n",
       "3  ['0.12883700', '0.12530688', '0.15151234', '0....   \n",
       "4  ['1.09412000', '1.08660311', '1.09457396', '1....   \n",
       "\n",
       "                                         description  \\\n",
       "0  [\"\\nVous pouvez bénéficier d'une réduction Gen...   \n",
       "1  [\"\\nVous pouvez bénéficier d'une réduction Gen...   \n",
       "2  ['\\nL’ibis budget Bayeux vous accueille entre ...   \n",
       "3  [\"\\nL’Holiday Inn Express - Le Havre Centre, s...   \n",
       "4  [\"\\nVous pouvez bénéficier d'une réduction Gen...   \n",
       "\n",
       "                                               score  score_weather  \n",
       "0  ['8,1', '7,8', '7,2', '8,2', '7,3', '7,2', '8,...     138.668571  \n",
       "1  ['7,3', '7,9', '8,5', '7,4', '9,2', '7,9', '9,...     147.322857  \n",
       "2  ['8,2', '7,8', '8,1', '9,8', '9,4', '8,7', '8,...     123.388571  \n",
       "3  ['8,2', '8,6', '7,5', '8,7', '8,5', '7,2', '8,...     128.145714  \n",
       "4  ['8,9', '8,6', '8,2', '7,1', '8,2', '8,2', '7,...     127.860000  "
      ]
     },
     "execution_count": 9,
     "metadata": {},
     "output_type": "execute_result"
    }
   ],
   "source": [
    "df_hotels.head()"
   ]
  },
  {
   "cell_type": "code",
   "execution_count": 10,
   "metadata": {},
   "outputs": [],
   "source": [
    "# The csv has converted the lists into strings, we need to revert that first for both dataframes\n",
    "df_weather_final = pd.DataFrame()\n",
    "df_weather_final[['id', 'city', 'lat', 'lon', 'score_weather']] = df_weather[['id', 'city', 'lat', 'lon', 'score_weather']]\n",
    "df_weather_final['day_plus'] = df_weather['day_plus'].apply(eval)\n",
    "df_weather_final['felt_temperature'] = df_weather['felt_temperature'].apply(eval)\n",
    "df_weather_final['rain_chances'] = df_weather['rain_chances'].apply(eval)\n",
    "df_weather_final['humidity'] = df_weather['humidity'].apply(eval)\n",
    "\n",
    "df_hotels_final = pd.DataFrame()\n",
    "df_hotels_final[['id', 'city', 'score_weather']] = df_hotels[['id', 'city', 'score_weather']]\n",
    "df_hotels_final['name'] = df_hotels['name'].apply(eval)\n",
    "df_hotels_final['url'] = df_hotels['url'].apply(eval)\n",
    "df_hotels_final['lat_hotels'] = df_hotels['lat_hotels'].apply(eval)\n",
    "df_hotels_final['lon_hotels'] = df_hotels['lon_hotels'].apply(eval)\n",
    "df_hotels_final['description'] = df_hotels['description'].apply(eval)\n",
    "df_hotels_final['score'] = df_hotels['score'].apply(eval)\n",
    "\n",
    "# We need to convert coordinates to numeric type as well\n",
    "df_weather_final[['lat', 'lon']] = df_weather[['lat', 'lon']].apply(pd.to_numeric)"
   ]
  },
  {
   "cell_type": "code",
   "execution_count": 11,
   "metadata": {},
   "outputs": [],
   "source": [
    "# We need to sort the data by weather score and explode the lists to prepare the data for warehousing and plotting\n",
    "df_weather_full = df_weather_final.sort_values('score_weather')\n",
    "df_weather_full.reset_index(inplace=True, drop=True)\n",
    "df_weather_full = df_weather_full.apply(pd.Series.explode)\n",
    "df_weather_full[['day_plus', 'felt_temperature', 'rain_chances', 'humidity']] = df_weather_full[['day_plus', 'felt_temperature', 'rain_chances', 'humidity']].apply(pd.to_numeric)\n",
    "\n",
    "df_hotels_full = df_hotels_final.sort_values('score_weather')\n",
    "df_hotels_full.reset_index(inplace=True, drop=True)\n",
    "df_hotels_full = df_hotels_full.apply(pd.Series.explode)\n",
    "df_hotels_full['description'] = df_hotels_full['description'].replace(\"\\\\n\", \"\", regex=True)\n",
    "df_hotels_full['score'] = df_hotels_full['score'].replace(\",\", \".\", regex=True)\n",
    "df_hotels_full[['lat_hotels', 'lon_hotels', 'score']] = df_hotels_full[['lat_hotels', 'lon_hotels', 'score']].apply(pd.to_numeric)"
   ]
  },
  {
   "cell_type": "code",
   "execution_count": 12,
   "metadata": {},
   "outputs": [
    {
     "data": {
      "text/html": [
       "<div>\n",
       "<style scoped>\n",
       "    .dataframe tbody tr th:only-of-type {\n",
       "        vertical-align: middle;\n",
       "    }\n",
       "\n",
       "    .dataframe tbody tr th {\n",
       "        vertical-align: top;\n",
       "    }\n",
       "\n",
       "    .dataframe thead th {\n",
       "        text-align: right;\n",
       "    }\n",
       "</style>\n",
       "<table border=\"1\" class=\"dataframe\">\n",
       "  <thead>\n",
       "    <tr style=\"text-align: right;\">\n",
       "      <th></th>\n",
       "      <th>id</th>\n",
       "      <th>city</th>\n",
       "      <th>score_weather</th>\n",
       "      <th>name</th>\n",
       "      <th>url</th>\n",
       "      <th>lat_hotels</th>\n",
       "      <th>lon_hotels</th>\n",
       "      <th>description</th>\n",
       "      <th>score</th>\n",
       "    </tr>\n",
       "  </thead>\n",
       "  <tbody>\n",
       "    <tr>\n",
       "      <th>0</th>\n",
       "      <td>7</td>\n",
       "      <td>Lille</td>\n",
       "      <td>82.091429</td>\n",
       "      <td>Hotel Lille Europe</td>\n",
       "      <td>https://www.booking.com/hotel/fr/lille-europe....</td>\n",
       "      <td>50.637888</td>\n",
       "      <td>3.072685</td>\n",
       "      <td>Vous pouvez bénéficier d'une réduction Genius ...</td>\n",
       "      <td>8.1</td>\n",
       "    </tr>\n",
       "    <tr>\n",
       "      <th>0</th>\n",
       "      <td>7</td>\n",
       "      <td>Lille</td>\n",
       "      <td>82.091429</td>\n",
       "      <td>Moxy Lille City</td>\n",
       "      <td>https://www.booking.com/hotel/fr/moxy-lille-ci...</td>\n",
       "      <td>50.627831</td>\n",
       "      <td>3.063592</td>\n",
       "      <td>Le Moxy Lille City est situé à Lille, à 700 mè...</td>\n",
       "      <td>8.7</td>\n",
       "    </tr>\n",
       "    <tr>\n",
       "      <th>0</th>\n",
       "      <td>7</td>\n",
       "      <td>Lille</td>\n",
       "      <td>82.091429</td>\n",
       "      <td>ibis Styles Lille Centre Gare Beffroi</td>\n",
       "      <td>https://www.booking.com/hotel/fr/ibis-styles-l...</td>\n",
       "      <td>50.632382</td>\n",
       "      <td>3.067943</td>\n",
       "      <td>L’ibis Styles Lille Centre Gare Beffroi vous a...</td>\n",
       "      <td>7.8</td>\n",
       "    </tr>\n",
       "    <tr>\n",
       "      <th>0</th>\n",
       "      <td>7</td>\n",
       "      <td>Lille</td>\n",
       "      <td>82.091429</td>\n",
       "      <td>Hôtel Calm Lille</td>\n",
       "      <td>https://www.booking.com/hotel/fr/calm-lille.fr...</td>\n",
       "      <td>50.635288</td>\n",
       "      <td>3.069707</td>\n",
       "      <td>Vous pouvez bénéficier d'une réduction Genius ...</td>\n",
       "      <td>7.8</td>\n",
       "    </tr>\n",
       "    <tr>\n",
       "      <th>0</th>\n",
       "      <td>7</td>\n",
       "      <td>Lille</td>\n",
       "      <td>82.091429</td>\n",
       "      <td>Holiday Inn Express Lille Centre, an IHG Hotel</td>\n",
       "      <td>https://www.booking.com/hotel/fr/expressbyholi...</td>\n",
       "      <td>50.630759</td>\n",
       "      <td>3.058088</td>\n",
       "      <td>L'Holiday Inn Express Lille Centre est situé d...</td>\n",
       "      <td>8.1</td>\n",
       "    </tr>\n",
       "    <tr>\n",
       "      <th>...</th>\n",
       "      <td>...</td>\n",
       "      <td>...</td>\n",
       "      <td>...</td>\n",
       "      <td>...</td>\n",
       "      <td>...</td>\n",
       "      <td>...</td>\n",
       "      <td>...</td>\n",
       "      <td>...</td>\n",
       "      <td>...</td>\n",
       "    </tr>\n",
       "    <tr>\n",
       "      <th>4</th>\n",
       "      <td>8</td>\n",
       "      <td>Strasbourg</td>\n",
       "      <td>116.914286</td>\n",
       "      <td>Hotel Rohan</td>\n",
       "      <td>https://www.booking.com/hotel/fr/hotel-de-roha...</td>\n",
       "      <td>48.580945</td>\n",
       "      <td>7.750431</td>\n",
       "      <td>L'Hôtel De Rohan est situé dans le centre hist...</td>\n",
       "      <td>8.7</td>\n",
       "    </tr>\n",
       "    <tr>\n",
       "      <th>4</th>\n",
       "      <td>8</td>\n",
       "      <td>Strasbourg</td>\n",
       "      <td>116.914286</td>\n",
       "      <td>Lagrange Apart’Hotel Strasbourg Wilson</td>\n",
       "      <td>https://www.booking.com/hotel/fr/lagrange-city...</td>\n",
       "      <td>48.587413</td>\n",
       "      <td>7.738243</td>\n",
       "      <td>Le Lagrange Apart’Hotel Strasbourg Wilson est ...</td>\n",
       "      <td>8.0</td>\n",
       "    </tr>\n",
       "    <tr>\n",
       "      <th>4</th>\n",
       "      <td>8</td>\n",
       "      <td>Strasbourg</td>\n",
       "      <td>116.914286</td>\n",
       "      <td>Aparthotel Adagio Access Strasbourg Petite France</td>\n",
       "      <td>https://www.booking.com/hotel/fr/adagio-access...</td>\n",
       "      <td>48.579248</td>\n",
       "      <td>7.732226</td>\n",
       "      <td>Situé dans le centre-ville, l'Aparthotel Adagi...</td>\n",
       "      <td>8.4</td>\n",
       "    </tr>\n",
       "    <tr>\n",
       "      <th>4</th>\n",
       "      <td>8</td>\n",
       "      <td>Strasbourg</td>\n",
       "      <td>116.914286</td>\n",
       "      <td>Montempô Apparthôtel Strasbourg</td>\n",
       "      <td>https://www.booking.com/hotel/fr/montempo-appa...</td>\n",
       "      <td>48.579421</td>\n",
       "      <td>7.730113</td>\n",
       "      <td>Le Montempô Apparthôtel Strasbourg propose des...</td>\n",
       "      <td>6.8</td>\n",
       "    </tr>\n",
       "    <tr>\n",
       "      <th>4</th>\n",
       "      <td>8</td>\n",
       "      <td>Strasbourg</td>\n",
       "      <td>116.914286</td>\n",
       "      <td>Le Grand Hotel</td>\n",
       "      <td>https://www.booking.com/hotel/fr/legrandhotel....</td>\n",
       "      <td>48.584697</td>\n",
       "      <td>7.736561</td>\n",
       "      <td>Vous pouvez bénéficier d'une réduction Genius ...</td>\n",
       "      <td>8.3</td>\n",
       "    </tr>\n",
       "  </tbody>\n",
       "</table>\n",
       "<p>100 rows × 9 columns</p>\n",
       "</div>"
      ],
      "text/plain": [
       "    id        city  score_weather  \\\n",
       "0    7       Lille      82.091429   \n",
       "0    7       Lille      82.091429   \n",
       "0    7       Lille      82.091429   \n",
       "0    7       Lille      82.091429   \n",
       "0    7       Lille      82.091429   \n",
       "..  ..         ...            ...   \n",
       "4    8  Strasbourg     116.914286   \n",
       "4    8  Strasbourg     116.914286   \n",
       "4    8  Strasbourg     116.914286   \n",
       "4    8  Strasbourg     116.914286   \n",
       "4    8  Strasbourg     116.914286   \n",
       "\n",
       "                                                 name  \\\n",
       "0                                  Hotel Lille Europe   \n",
       "0                                     Moxy Lille City   \n",
       "0               ibis Styles Lille Centre Gare Beffroi   \n",
       "0                                    Hôtel Calm Lille   \n",
       "0      Holiday Inn Express Lille Centre, an IHG Hotel   \n",
       "..                                                ...   \n",
       "4                                         Hotel Rohan   \n",
       "4              Lagrange Apart’Hotel Strasbourg Wilson   \n",
       "4   Aparthotel Adagio Access Strasbourg Petite France   \n",
       "4                     Montempô Apparthôtel Strasbourg   \n",
       "4                                      Le Grand Hotel   \n",
       "\n",
       "                                                  url  lat_hotels  lon_hotels  \\\n",
       "0   https://www.booking.com/hotel/fr/lille-europe....   50.637888    3.072685   \n",
       "0   https://www.booking.com/hotel/fr/moxy-lille-ci...   50.627831    3.063592   \n",
       "0   https://www.booking.com/hotel/fr/ibis-styles-l...   50.632382    3.067943   \n",
       "0   https://www.booking.com/hotel/fr/calm-lille.fr...   50.635288    3.069707   \n",
       "0   https://www.booking.com/hotel/fr/expressbyholi...   50.630759    3.058088   \n",
       "..                                                ...         ...         ...   \n",
       "4   https://www.booking.com/hotel/fr/hotel-de-roha...   48.580945    7.750431   \n",
       "4   https://www.booking.com/hotel/fr/lagrange-city...   48.587413    7.738243   \n",
       "4   https://www.booking.com/hotel/fr/adagio-access...   48.579248    7.732226   \n",
       "4   https://www.booking.com/hotel/fr/montempo-appa...   48.579421    7.730113   \n",
       "4   https://www.booking.com/hotel/fr/legrandhotel....   48.584697    7.736561   \n",
       "\n",
       "                                          description  score  \n",
       "0   Vous pouvez bénéficier d'une réduction Genius ...    8.1  \n",
       "0   Le Moxy Lille City est situé à Lille, à 700 mè...    8.7  \n",
       "0   L’ibis Styles Lille Centre Gare Beffroi vous a...    7.8  \n",
       "0   Vous pouvez bénéficier d'une réduction Genius ...    7.8  \n",
       "0   L'Holiday Inn Express Lille Centre est situé d...    8.1  \n",
       "..                                                ...    ...  \n",
       "4   L'Hôtel De Rohan est situé dans le centre hist...    8.7  \n",
       "4   Le Lagrange Apart’Hotel Strasbourg Wilson est ...    8.0  \n",
       "4   Situé dans le centre-ville, l'Aparthotel Adagi...    8.4  \n",
       "4   Le Montempô Apparthôtel Strasbourg propose des...    6.8  \n",
       "4   Vous pouvez bénéficier d'une réduction Genius ...    8.3  \n",
       "\n",
       "[100 rows x 9 columns]"
      ]
     },
     "execution_count": 12,
     "metadata": {},
     "output_type": "execute_result"
    }
   ],
   "source": [
    "df_hotels_full[:100]"
   ]
  },
  {
   "cell_type": "markdown",
   "metadata": {},
   "source": [
    "## Storing the transformed data in a RDS data warehouse"
   ]
  },
  {
   "cell_type": "code",
   "execution_count": 13,
   "metadata": {},
   "outputs": [],
   "source": [
    "# Importing libraries for the data warehousing and initialization of the SQL engine\n",
    "from sqlalchemy import create_engine, text\n",
    "from sqlalchemy.orm import sessionmaker\n",
    "\n",
    "engine = create_engine(f\"postgresql+psycopg2://{DBUSER}:{DBPASS}@{DBHOST}/{DBNAME}\", echo=True)\n",
    "Session = sessionmaker(bind=engine)\n",
    "session = Session()"
   ]
  },
  {
   "cell_type": "code",
   "execution_count": null,
   "metadata": {},
   "outputs": [],
   "source": [
    "# Storing the two dataframes as SQL tables\n",
    "df_weather_full.to_sql('weather', con=engine, if_exists='replace')\n",
    "df_hotels_full.to_sql('hotels', con=engine, if_exists='replace')"
   ]
  },
  {
   "cell_type": "code",
   "execution_count": null,
   "metadata": {},
   "outputs": [],
   "source": [
    "# Testing the data with a query\n",
    "query = text(\"SELECT * FROM weather LIMIT 21\")\n",
    "pd.read_sql(query, engine)"
   ]
  },
  {
   "cell_type": "code",
   "execution_count": null,
   "metadata": {},
   "outputs": [],
   "source": [
    "query = text(\"SELECT * FROM hotels LIMIT 40\")\n",
    "pd.read_sql(query, engine)"
   ]
  },
  {
   "cell_type": "markdown",
   "metadata": {},
   "source": [
    "## Plotting Maps"
   ]
  },
  {
   "cell_type": "code",
   "execution_count": 38,
   "metadata": {},
   "outputs": [],
   "source": [
    "# Creating a new column to be used to determine the size of the points in the plot\n",
    "df_weather_full['inverted_score'] = max(df_weather_full['score_weather']) - df_weather_full['score_weather']"
   ]
  },
  {
   "cell_type": "markdown",
   "metadata": {},
   "source": [
    "### Weather Map"
   ]
  },
  {
   "cell_type": "code",
   "execution_count": 47,
   "metadata": {},
   "outputs": [
    {
     "data": {
      "application/vnd.plotly.v1+json": {
       "config": {
        "plotlyServerURL": "https://plot.ly"
       },
       "data": [
        {
         "customdata": [
          [
           50.6365654,
           3.0635282,
           1,
           0,
           46,
           13.72,
           79.31142857142855
          ],
          [
           48.0777517,
           7.3579641,
           1,
           0,
           49,
           13.1,
           50.41142857142853
          ],
          [
           48.0447968,
           7.3079618,
           1,
           0,
           50,
           13,
           50.345714285714266
          ],
          [
           42.52505,
           3.0831554,
           1,
           100,
           74,
           12.31,
           45.12285714285713
          ],
          [
           48.584614,
           7.7507127,
           1,
           0,
           42,
           12.99,
           44.488571428571404
          ]
         ],
         "hovertemplate": "<b>%{hovertext}</b><br><br>rain_chances=%{customdata[3]}<br>humidity=%{customdata[4]}<br>felt_temperature=%{marker.color}<extra></extra>",
         "hovertext": [
          "Lille",
          "Colmar",
          "Eguisheim",
          "Collioure",
          "Strasbourg"
         ],
         "lat": [
          50.6365654,
          48.0777517,
          48.0447968,
          42.52505,
          48.584614
         ],
         "legendgroup": "",
         "lon": [
          3.0635282,
          7.3579641,
          7.3079618,
          3.0831554,
          7.7507127
         ],
         "marker": {
          "color": [
           13.72,
           13.1,
           13,
           12.31,
           12.99
          ],
          "coloraxis": "coloraxis",
          "size": [
           79.31142857142855,
           50.41142857142853,
           50.345714285714266,
           45.12285714285713,
           44.488571428571404
          ],
          "sizemode": "area",
          "sizeref": 0.06474402332361515
         },
         "mode": "markers",
         "name": "",
         "showlegend": false,
         "subplot": "mapbox",
         "type": "scattermapbox"
        }
       ],
       "frames": [
        {
         "data": [
          {
           "customdata": [
            [
             50.6365654,
             3.0635282,
             1,
             0,
             46,
             13.72,
             79.31142857142855
            ],
            [
             48.0777517,
             7.3579641,
             1,
             0,
             49,
             13.1,
             50.41142857142853
            ],
            [
             48.0447968,
             7.3079618,
             1,
             0,
             50,
             13,
             50.345714285714266
            ],
            [
             42.52505,
             3.0831554,
             1,
             100,
             74,
             12.31,
             45.12285714285713
            ],
            [
             48.584614,
             7.7507127,
             1,
             0,
             42,
             12.99,
             44.488571428571404
            ]
           ],
           "hovertemplate": "<b>%{hovertext}</b><br><br>rain_chances=%{customdata[3]}<br>humidity=%{customdata[4]}<br>felt_temperature=%{marker.color}<extra></extra>",
           "hovertext": [
            "Lille",
            "Colmar",
            "Eguisheim",
            "Collioure",
            "Strasbourg"
           ],
           "lat": [
            50.6365654,
            48.0777517,
            48.0447968,
            42.52505,
            48.584614
           ],
           "legendgroup": "",
           "lon": [
            3.0635282,
            7.3579641,
            7.3079618,
            3.0831554,
            7.7507127
           ],
           "marker": {
            "color": [
             13.72,
             13.1,
             13,
             12.31,
             12.99
            ],
            "coloraxis": "coloraxis",
            "size": [
             79.31142857142855,
             50.41142857142853,
             50.345714285714266,
             45.12285714285713,
             44.488571428571404
            ],
            "sizemode": "area",
            "sizeref": 0.06474402332361515
           },
           "mode": "markers",
           "name": "",
           "showlegend": false,
           "subplot": "mapbox",
           "type": "scattermapbox"
          }
         ],
         "name": "1"
        },
        {
         "data": [
          {
           "customdata": [
            [
             50.6365654,
             3.0635282,
             2,
             0,
             51,
             13.13,
             79.31142857142855
            ],
            [
             48.0777517,
             7.3579641,
             2,
             0,
             53,
             12.89,
             50.41142857142853
            ],
            [
             48.0447968,
             7.3079618,
             2,
             0,
             52,
             13.02,
             50.345714285714266
            ],
            [
             42.52505,
             3.0831554,
             2,
             100,
             81,
             10.13,
             45.12285714285713
            ],
            [
             48.584614,
             7.7507127,
             2,
             0,
             52,
             13.28,
             44.488571428571404
            ]
           ],
           "hovertemplate": "<b>%{hovertext}</b><br><br>rain_chances=%{customdata[3]}<br>humidity=%{customdata[4]}<br>felt_temperature=%{marker.color}<extra></extra>",
           "hovertext": [
            "Lille",
            "Colmar",
            "Eguisheim",
            "Collioure",
            "Strasbourg"
           ],
           "lat": [
            50.6365654,
            48.0777517,
            48.0447968,
            42.52505,
            48.584614
           ],
           "legendgroup": "",
           "lon": [
            3.0635282,
            7.3579641,
            7.3079618,
            3.0831554,
            7.7507127
           ],
           "marker": {
            "color": [
             13.13,
             12.89,
             13.02,
             10.13,
             13.28
            ],
            "coloraxis": "coloraxis",
            "size": [
             79.31142857142855,
             50.41142857142853,
             50.345714285714266,
             45.12285714285713,
             44.488571428571404
            ],
            "sizemode": "area",
            "sizeref": 0.06474402332361515
           },
           "mode": "markers",
           "name": "",
           "showlegend": false,
           "subplot": "mapbox",
           "type": "scattermapbox"
          }
         ],
         "name": "2"
        },
        {
         "data": [
          {
           "customdata": [
            [
             50.6365654,
             3.0635282,
             3,
             0,
             51,
             16.8,
             79.31142857142855
            ],
            [
             48.0777517,
             7.3579641,
             3,
             24,
             57,
             16.98,
             50.41142857142853
            ],
            [
             48.0447968,
             7.3079618,
             3,
             27,
             57,
             17.12,
             50.345714285714266
            ],
            [
             42.52505,
             3.0831554,
             3,
             0,
             49,
             18.15,
             45.12285714285713
            ],
            [
             48.584614,
             7.7507127,
             3,
             0,
             56,
             16.66,
             44.488571428571404
            ]
           ],
           "hovertemplate": "<b>%{hovertext}</b><br><br>rain_chances=%{customdata[3]}<br>humidity=%{customdata[4]}<br>felt_temperature=%{marker.color}<extra></extra>",
           "hovertext": [
            "Lille",
            "Colmar",
            "Eguisheim",
            "Collioure",
            "Strasbourg"
           ],
           "lat": [
            50.6365654,
            48.0777517,
            48.0447968,
            42.52505,
            48.584614
           ],
           "legendgroup": "",
           "lon": [
            3.0635282,
            7.3579641,
            7.3079618,
            3.0831554,
            7.7507127
           ],
           "marker": {
            "color": [
             16.8,
             16.98,
             17.12,
             18.15,
             16.66
            ],
            "coloraxis": "coloraxis",
            "size": [
             79.31142857142855,
             50.41142857142853,
             50.345714285714266,
             45.12285714285713,
             44.488571428571404
            ],
            "sizemode": "area",
            "sizeref": 0.06474402332361515
           },
           "mode": "markers",
           "name": "",
           "showlegend": false,
           "subplot": "mapbox",
           "type": "scattermapbox"
          }
         ],
         "name": "3"
        },
        {
         "data": [
          {
           "customdata": [
            [
             50.6365654,
             3.0635282,
             4,
             28.000000000000004,
             52,
             17.39,
             79.31142857142855
            ],
            [
             48.0777517,
             7.3579641,
             4,
             66,
             50,
             17.99,
             50.41142857142853
            ],
            [
             48.0447968,
             7.3079618,
             4,
             65,
             50,
             18.01,
             50.345714285714266
            ],
            [
             42.52505,
             3.0831554,
             4,
             73,
             45,
             18.26,
             45.12285714285713
            ],
            [
             48.584614,
             7.7507127,
             4,
             93,
             59,
             16.57,
             44.488571428571404
            ]
           ],
           "hovertemplate": "<b>%{hovertext}</b><br><br>rain_chances=%{customdata[3]}<br>humidity=%{customdata[4]}<br>felt_temperature=%{marker.color}<extra></extra>",
           "hovertext": [
            "Lille",
            "Colmar",
            "Eguisheim",
            "Collioure",
            "Strasbourg"
           ],
           "lat": [
            50.6365654,
            48.0777517,
            48.0447968,
            42.52505,
            48.584614
           ],
           "legendgroup": "",
           "lon": [
            3.0635282,
            7.3579641,
            7.3079618,
            3.0831554,
            7.7507127
           ],
           "marker": {
            "color": [
             17.39,
             17.99,
             18.01,
             18.26,
             16.57
            ],
            "coloraxis": "coloraxis",
            "size": [
             79.31142857142855,
             50.41142857142853,
             50.345714285714266,
             45.12285714285713,
             44.488571428571404
            ],
            "sizemode": "area",
            "sizeref": 0.06474402332361515
           },
           "mode": "markers",
           "name": "",
           "showlegend": false,
           "subplot": "mapbox",
           "type": "scattermapbox"
          }
         ],
         "name": "4"
        },
        {
         "data": [
          {
           "customdata": [
            [
             50.6365654,
             3.0635282,
             5,
             35,
             78,
             13.28,
             79.31142857142855
            ],
            [
             48.0777517,
             7.3579641,
             5,
             96,
             84,
             7.38,
             50.41142857142853
            ],
            [
             48.0447968,
             7.3079618,
             5,
             98,
             85,
             7.49,
             50.345714285714266
            ],
            [
             42.52505,
             3.0831554,
             5,
             50,
             55,
             16.7,
             45.12285714285713
            ],
            [
             48.584614,
             7.7507127,
             5,
             100,
             80,
             9.73,
             44.488571428571404
            ]
           ],
           "hovertemplate": "<b>%{hovertext}</b><br><br>rain_chances=%{customdata[3]}<br>humidity=%{customdata[4]}<br>felt_temperature=%{marker.color}<extra></extra>",
           "hovertext": [
            "Lille",
            "Colmar",
            "Eguisheim",
            "Collioure",
            "Strasbourg"
           ],
           "lat": [
            50.6365654,
            48.0777517,
            48.0447968,
            42.52505,
            48.584614
           ],
           "legendgroup": "",
           "lon": [
            3.0635282,
            7.3579641,
            7.3079618,
            3.0831554,
            7.7507127
           ],
           "marker": {
            "color": [
             13.28,
             7.38,
             7.49,
             16.7,
             9.73
            ],
            "coloraxis": "coloraxis",
            "size": [
             79.31142857142855,
             50.41142857142853,
             50.345714285714266,
             45.12285714285713,
             44.488571428571404
            ],
            "sizemode": "area",
            "sizeref": 0.06474402332361515
           },
           "mode": "markers",
           "name": "",
           "showlegend": false,
           "subplot": "mapbox",
           "type": "scattermapbox"
          }
         ],
         "name": "5"
        },
        {
         "data": [
          {
           "customdata": [
            [
             50.6365654,
             3.0635282,
             6,
             40,
             65,
             15.26,
             79.31142857142855
            ],
            [
             48.0777517,
             7.3579641,
             6,
             96,
             60,
             16.75,
             50.41142857142853
            ],
            [
             48.0447968,
             7.3079618,
             6,
             96,
             58,
             17.19,
             50.345714285714266
            ],
            [
             42.52505,
             3.0831554,
             6,
             0,
             56,
             18.52,
             45.12285714285713
            ],
            [
             48.584614,
             7.7507127,
             6,
             100,
             85,
             12.84,
             44.488571428571404
            ]
           ],
           "hovertemplate": "<b>%{hovertext}</b><br><br>rain_chances=%{customdata[3]}<br>humidity=%{customdata[4]}<br>felt_temperature=%{marker.color}<extra></extra>",
           "hovertext": [
            "Lille",
            "Colmar",
            "Eguisheim",
            "Collioure",
            "Strasbourg"
           ],
           "lat": [
            50.6365654,
            48.0777517,
            48.0447968,
            42.52505,
            48.584614
           ],
           "legendgroup": "",
           "lon": [
            3.0635282,
            7.3579641,
            7.3079618,
            3.0831554,
            7.7507127
           ],
           "marker": {
            "color": [
             15.26,
             16.75,
             17.19,
             18.52,
             12.84
            ],
            "coloraxis": "coloraxis",
            "size": [
             79.31142857142855,
             50.41142857142853,
             50.345714285714266,
             45.12285714285713,
             44.488571428571404
            ],
            "sizemode": "area",
            "sizeref": 0.06474402332361515
           },
           "mode": "markers",
           "name": "",
           "showlegend": false,
           "subplot": "mapbox",
           "type": "scattermapbox"
          }
         ],
         "name": "6"
        },
        {
         "data": [
          {
           "customdata": [
            [
             50.6365654,
             3.0635282,
             7,
             5,
             47,
             19.6,
             79.31142857142855
            ],
            [
             48.0777517,
             7.3579641,
             7,
             10,
             54,
             19.19,
             50.41142857142853
            ],
            [
             48.0447968,
             7.3079618,
             7,
             9,
             53,
             19.22,
             50.345714285714266
            ],
            [
             42.52505,
             3.0831554,
             7,
             17,
             60,
             18.95,
             45.12285714285713
            ],
            [
             48.584614,
             7.7507127,
             7,
             21,
             58,
             18.73,
             44.488571428571404
            ]
           ],
           "hovertemplate": "<b>%{hovertext}</b><br><br>rain_chances=%{customdata[3]}<br>humidity=%{customdata[4]}<br>felt_temperature=%{marker.color}<extra></extra>",
           "hovertext": [
            "Lille",
            "Colmar",
            "Eguisheim",
            "Collioure",
            "Strasbourg"
           ],
           "lat": [
            50.6365654,
            48.0777517,
            48.0447968,
            42.52505,
            48.584614
           ],
           "legendgroup": "",
           "lon": [
            3.0635282,
            7.3579641,
            7.3079618,
            3.0831554,
            7.7507127
           ],
           "marker": {
            "color": [
             19.6,
             19.19,
             19.22,
             18.95,
             18.73
            ],
            "coloraxis": "coloraxis",
            "size": [
             79.31142857142855,
             50.41142857142853,
             50.345714285714266,
             45.12285714285713,
             44.488571428571404
            ],
            "sizemode": "area",
            "sizeref": 0.06474402332361515
           },
           "mode": "markers",
           "name": "",
           "showlegend": false,
           "subplot": "mapbox",
           "type": "scattermapbox"
          }
         ],
         "name": "7"
        }
       ],
       "layout": {
        "coloraxis": {
         "cmax": 19.6,
         "cmin": 7.38,
         "colorbar": {
          "title": {
           "text": "felt_temperature"
          }
         },
         "colorscale": [
          [
           0,
           "rgb(0,0,255)"
          ],
          [
           1,
           "rgb(255,0,0)"
          ]
         ]
        },
        "height": 800,
        "legend": {
         "itemsizing": "constant",
         "tracegroupgap": 0
        },
        "mapbox": {
         "accesstoken": "pk.eyJ1Ijoidm9ud2VuIiwiYSI6ImNsMWM0dmZnazA0N2gzZG8wa2N1OTM0ZDEifQ.lCZ3DFaUYPS5XIJCWi6yNA",
         "center": {
          "lat": 47.573755580000004,
          "lon": 5.712664440000002
         },
         "domain": {
          "x": [
           0,
           1
          ],
          "y": [
           0,
           1
          ]
         },
         "zoom": 4.7
        },
        "margin": {
         "t": 60
        },
        "sliders": [
         {
          "active": 0,
          "currentvalue": {
           "prefix": "day_plus="
          },
          "len": 0.9,
          "pad": {
           "b": 10,
           "t": 60
          },
          "steps": [
           {
            "args": [
             [
              "1"
             ],
             {
              "frame": {
               "duration": 0,
               "redraw": true
              },
              "fromcurrent": true,
              "mode": "immediate",
              "transition": {
               "duration": 0,
               "easing": "linear"
              }
             }
            ],
            "label": "1",
            "method": "animate"
           },
           {
            "args": [
             [
              "2"
             ],
             {
              "frame": {
               "duration": 0,
               "redraw": true
              },
              "fromcurrent": true,
              "mode": "immediate",
              "transition": {
               "duration": 0,
               "easing": "linear"
              }
             }
            ],
            "label": "2",
            "method": "animate"
           },
           {
            "args": [
             [
              "3"
             ],
             {
              "frame": {
               "duration": 0,
               "redraw": true
              },
              "fromcurrent": true,
              "mode": "immediate",
              "transition": {
               "duration": 0,
               "easing": "linear"
              }
             }
            ],
            "label": "3",
            "method": "animate"
           },
           {
            "args": [
             [
              "4"
             ],
             {
              "frame": {
               "duration": 0,
               "redraw": true
              },
              "fromcurrent": true,
              "mode": "immediate",
              "transition": {
               "duration": 0,
               "easing": "linear"
              }
             }
            ],
            "label": "4",
            "method": "animate"
           },
           {
            "args": [
             [
              "5"
             ],
             {
              "frame": {
               "duration": 0,
               "redraw": true
              },
              "fromcurrent": true,
              "mode": "immediate",
              "transition": {
               "duration": 0,
               "easing": "linear"
              }
             }
            ],
            "label": "5",
            "method": "animate"
           },
           {
            "args": [
             [
              "6"
             ],
             {
              "frame": {
               "duration": 0,
               "redraw": true
              },
              "fromcurrent": true,
              "mode": "immediate",
              "transition": {
               "duration": 0,
               "easing": "linear"
              }
             }
            ],
            "label": "6",
            "method": "animate"
           },
           {
            "args": [
             [
              "7"
             ],
             {
              "frame": {
               "duration": 0,
               "redraw": true
              },
              "fromcurrent": true,
              "mode": "immediate",
              "transition": {
               "duration": 0,
               "easing": "linear"
              }
             }
            ],
            "label": "7",
            "method": "animate"
           }
          ],
          "x": 0.1,
          "xanchor": "left",
          "y": 0,
          "yanchor": "top"
         }
        ],
        "template": {
         "data": {
          "bar": [
           {
            "error_x": {
             "color": "#f2f5fa"
            },
            "error_y": {
             "color": "#f2f5fa"
            },
            "marker": {
             "line": {
              "color": "rgb(17,17,17)",
              "width": 0.5
             },
             "pattern": {
              "fillmode": "overlay",
              "size": 10,
              "solidity": 0.2
             }
            },
            "type": "bar"
           }
          ],
          "barpolar": [
           {
            "marker": {
             "line": {
              "color": "rgb(17,17,17)",
              "width": 0.5
             },
             "pattern": {
              "fillmode": "overlay",
              "size": 10,
              "solidity": 0.2
             }
            },
            "type": "barpolar"
           }
          ],
          "carpet": [
           {
            "aaxis": {
             "endlinecolor": "#A2B1C6",
             "gridcolor": "#506784",
             "linecolor": "#506784",
             "minorgridcolor": "#506784",
             "startlinecolor": "#A2B1C6"
            },
            "baxis": {
             "endlinecolor": "#A2B1C6",
             "gridcolor": "#506784",
             "linecolor": "#506784",
             "minorgridcolor": "#506784",
             "startlinecolor": "#A2B1C6"
            },
            "type": "carpet"
           }
          ],
          "choropleth": [
           {
            "colorbar": {
             "outlinewidth": 0,
             "ticks": ""
            },
            "type": "choropleth"
           }
          ],
          "contour": [
           {
            "colorbar": {
             "outlinewidth": 0,
             "ticks": ""
            },
            "colorscale": [
             [
              0,
              "#0d0887"
             ],
             [
              0.1111111111111111,
              "#46039f"
             ],
             [
              0.2222222222222222,
              "#7201a8"
             ],
             [
              0.3333333333333333,
              "#9c179e"
             ],
             [
              0.4444444444444444,
              "#bd3786"
             ],
             [
              0.5555555555555556,
              "#d8576b"
             ],
             [
              0.6666666666666666,
              "#ed7953"
             ],
             [
              0.7777777777777778,
              "#fb9f3a"
             ],
             [
              0.8888888888888888,
              "#fdca26"
             ],
             [
              1,
              "#f0f921"
             ]
            ],
            "type": "contour"
           }
          ],
          "contourcarpet": [
           {
            "colorbar": {
             "outlinewidth": 0,
             "ticks": ""
            },
            "type": "contourcarpet"
           }
          ],
          "heatmap": [
           {
            "colorbar": {
             "outlinewidth": 0,
             "ticks": ""
            },
            "colorscale": [
             [
              0,
              "#0d0887"
             ],
             [
              0.1111111111111111,
              "#46039f"
             ],
             [
              0.2222222222222222,
              "#7201a8"
             ],
             [
              0.3333333333333333,
              "#9c179e"
             ],
             [
              0.4444444444444444,
              "#bd3786"
             ],
             [
              0.5555555555555556,
              "#d8576b"
             ],
             [
              0.6666666666666666,
              "#ed7953"
             ],
             [
              0.7777777777777778,
              "#fb9f3a"
             ],
             [
              0.8888888888888888,
              "#fdca26"
             ],
             [
              1,
              "#f0f921"
             ]
            ],
            "type": "heatmap"
           }
          ],
          "heatmapgl": [
           {
            "colorbar": {
             "outlinewidth": 0,
             "ticks": ""
            },
            "colorscale": [
             [
              0,
              "#0d0887"
             ],
             [
              0.1111111111111111,
              "#46039f"
             ],
             [
              0.2222222222222222,
              "#7201a8"
             ],
             [
              0.3333333333333333,
              "#9c179e"
             ],
             [
              0.4444444444444444,
              "#bd3786"
             ],
             [
              0.5555555555555556,
              "#d8576b"
             ],
             [
              0.6666666666666666,
              "#ed7953"
             ],
             [
              0.7777777777777778,
              "#fb9f3a"
             ],
             [
              0.8888888888888888,
              "#fdca26"
             ],
             [
              1,
              "#f0f921"
             ]
            ],
            "type": "heatmapgl"
           }
          ],
          "histogram": [
           {
            "marker": {
             "pattern": {
              "fillmode": "overlay",
              "size": 10,
              "solidity": 0.2
             }
            },
            "type": "histogram"
           }
          ],
          "histogram2d": [
           {
            "colorbar": {
             "outlinewidth": 0,
             "ticks": ""
            },
            "colorscale": [
             [
              0,
              "#0d0887"
             ],
             [
              0.1111111111111111,
              "#46039f"
             ],
             [
              0.2222222222222222,
              "#7201a8"
             ],
             [
              0.3333333333333333,
              "#9c179e"
             ],
             [
              0.4444444444444444,
              "#bd3786"
             ],
             [
              0.5555555555555556,
              "#d8576b"
             ],
             [
              0.6666666666666666,
              "#ed7953"
             ],
             [
              0.7777777777777778,
              "#fb9f3a"
             ],
             [
              0.8888888888888888,
              "#fdca26"
             ],
             [
              1,
              "#f0f921"
             ]
            ],
            "type": "histogram2d"
           }
          ],
          "histogram2dcontour": [
           {
            "colorbar": {
             "outlinewidth": 0,
             "ticks": ""
            },
            "colorscale": [
             [
              0,
              "#0d0887"
             ],
             [
              0.1111111111111111,
              "#46039f"
             ],
             [
              0.2222222222222222,
              "#7201a8"
             ],
             [
              0.3333333333333333,
              "#9c179e"
             ],
             [
              0.4444444444444444,
              "#bd3786"
             ],
             [
              0.5555555555555556,
              "#d8576b"
             ],
             [
              0.6666666666666666,
              "#ed7953"
             ],
             [
              0.7777777777777778,
              "#fb9f3a"
             ],
             [
              0.8888888888888888,
              "#fdca26"
             ],
             [
              1,
              "#f0f921"
             ]
            ],
            "type": "histogram2dcontour"
           }
          ],
          "mesh3d": [
           {
            "colorbar": {
             "outlinewidth": 0,
             "ticks": ""
            },
            "type": "mesh3d"
           }
          ],
          "parcoords": [
           {
            "line": {
             "colorbar": {
              "outlinewidth": 0,
              "ticks": ""
             }
            },
            "type": "parcoords"
           }
          ],
          "pie": [
           {
            "automargin": true,
            "type": "pie"
           }
          ],
          "scatter": [
           {
            "marker": {
             "line": {
              "color": "#283442"
             }
            },
            "type": "scatter"
           }
          ],
          "scatter3d": [
           {
            "line": {
             "colorbar": {
              "outlinewidth": 0,
              "ticks": ""
             }
            },
            "marker": {
             "colorbar": {
              "outlinewidth": 0,
              "ticks": ""
             }
            },
            "type": "scatter3d"
           }
          ],
          "scattercarpet": [
           {
            "marker": {
             "colorbar": {
              "outlinewidth": 0,
              "ticks": ""
             }
            },
            "type": "scattercarpet"
           }
          ],
          "scattergeo": [
           {
            "marker": {
             "colorbar": {
              "outlinewidth": 0,
              "ticks": ""
             }
            },
            "type": "scattergeo"
           }
          ],
          "scattergl": [
           {
            "marker": {
             "line": {
              "color": "#283442"
             }
            },
            "type": "scattergl"
           }
          ],
          "scattermapbox": [
           {
            "marker": {
             "colorbar": {
              "outlinewidth": 0,
              "ticks": ""
             }
            },
            "type": "scattermapbox"
           }
          ],
          "scatterpolar": [
           {
            "marker": {
             "colorbar": {
              "outlinewidth": 0,
              "ticks": ""
             }
            },
            "type": "scatterpolar"
           }
          ],
          "scatterpolargl": [
           {
            "marker": {
             "colorbar": {
              "outlinewidth": 0,
              "ticks": ""
             }
            },
            "type": "scatterpolargl"
           }
          ],
          "scatterternary": [
           {
            "marker": {
             "colorbar": {
              "outlinewidth": 0,
              "ticks": ""
             }
            },
            "type": "scatterternary"
           }
          ],
          "surface": [
           {
            "colorbar": {
             "outlinewidth": 0,
             "ticks": ""
            },
            "colorscale": [
             [
              0,
              "#0d0887"
             ],
             [
              0.1111111111111111,
              "#46039f"
             ],
             [
              0.2222222222222222,
              "#7201a8"
             ],
             [
              0.3333333333333333,
              "#9c179e"
             ],
             [
              0.4444444444444444,
              "#bd3786"
             ],
             [
              0.5555555555555556,
              "#d8576b"
             ],
             [
              0.6666666666666666,
              "#ed7953"
             ],
             [
              0.7777777777777778,
              "#fb9f3a"
             ],
             [
              0.8888888888888888,
              "#fdca26"
             ],
             [
              1,
              "#f0f921"
             ]
            ],
            "type": "surface"
           }
          ],
          "table": [
           {
            "cells": {
             "fill": {
              "color": "#506784"
             },
             "line": {
              "color": "rgb(17,17,17)"
             }
            },
            "header": {
             "fill": {
              "color": "#2a3f5f"
             },
             "line": {
              "color": "rgb(17,17,17)"
             }
            },
            "type": "table"
           }
          ]
         },
         "layout": {
          "annotationdefaults": {
           "arrowcolor": "#f2f5fa",
           "arrowhead": 0,
           "arrowwidth": 1
          },
          "autotypenumbers": "strict",
          "coloraxis": {
           "colorbar": {
            "outlinewidth": 0,
            "ticks": ""
           }
          },
          "colorscale": {
           "diverging": [
            [
             0,
             "#8e0152"
            ],
            [
             0.1,
             "#c51b7d"
            ],
            [
             0.2,
             "#de77ae"
            ],
            [
             0.3,
             "#f1b6da"
            ],
            [
             0.4,
             "#fde0ef"
            ],
            [
             0.5,
             "#f7f7f7"
            ],
            [
             0.6,
             "#e6f5d0"
            ],
            [
             0.7,
             "#b8e186"
            ],
            [
             0.8,
             "#7fbc41"
            ],
            [
             0.9,
             "#4d9221"
            ],
            [
             1,
             "#276419"
            ]
           ],
           "sequential": [
            [
             0,
             "#0d0887"
            ],
            [
             0.1111111111111111,
             "#46039f"
            ],
            [
             0.2222222222222222,
             "#7201a8"
            ],
            [
             0.3333333333333333,
             "#9c179e"
            ],
            [
             0.4444444444444444,
             "#bd3786"
            ],
            [
             0.5555555555555556,
             "#d8576b"
            ],
            [
             0.6666666666666666,
             "#ed7953"
            ],
            [
             0.7777777777777778,
             "#fb9f3a"
            ],
            [
             0.8888888888888888,
             "#fdca26"
            ],
            [
             1,
             "#f0f921"
            ]
           ],
           "sequentialminus": [
            [
             0,
             "#0d0887"
            ],
            [
             0.1111111111111111,
             "#46039f"
            ],
            [
             0.2222222222222222,
             "#7201a8"
            ],
            [
             0.3333333333333333,
             "#9c179e"
            ],
            [
             0.4444444444444444,
             "#bd3786"
            ],
            [
             0.5555555555555556,
             "#d8576b"
            ],
            [
             0.6666666666666666,
             "#ed7953"
            ],
            [
             0.7777777777777778,
             "#fb9f3a"
            ],
            [
             0.8888888888888888,
             "#fdca26"
            ],
            [
             1,
             "#f0f921"
            ]
           ]
          },
          "colorway": [
           "#636efa",
           "#EF553B",
           "#00cc96",
           "#ab63fa",
           "#FFA15A",
           "#19d3f3",
           "#FF6692",
           "#B6E880",
           "#FF97FF",
           "#FECB52"
          ],
          "font": {
           "color": "#f2f5fa"
          },
          "geo": {
           "bgcolor": "rgb(17,17,17)",
           "lakecolor": "rgb(17,17,17)",
           "landcolor": "rgb(17,17,17)",
           "showlakes": true,
           "showland": true,
           "subunitcolor": "#506784"
          },
          "hoverlabel": {
           "align": "left"
          },
          "hovermode": "closest",
          "mapbox": {
           "style": "dark"
          },
          "paper_bgcolor": "rgb(17,17,17)",
          "plot_bgcolor": "rgb(17,17,17)",
          "polar": {
           "angularaxis": {
            "gridcolor": "#506784",
            "linecolor": "#506784",
            "ticks": ""
           },
           "bgcolor": "rgb(17,17,17)",
           "radialaxis": {
            "gridcolor": "#506784",
            "linecolor": "#506784",
            "ticks": ""
           }
          },
          "scene": {
           "xaxis": {
            "backgroundcolor": "rgb(17,17,17)",
            "gridcolor": "#506784",
            "gridwidth": 2,
            "linecolor": "#506784",
            "showbackground": true,
            "ticks": "",
            "zerolinecolor": "#C8D4E3"
           },
           "yaxis": {
            "backgroundcolor": "rgb(17,17,17)",
            "gridcolor": "#506784",
            "gridwidth": 2,
            "linecolor": "#506784",
            "showbackground": true,
            "ticks": "",
            "zerolinecolor": "#C8D4E3"
           },
           "zaxis": {
            "backgroundcolor": "rgb(17,17,17)",
            "gridcolor": "#506784",
            "gridwidth": 2,
            "linecolor": "#506784",
            "showbackground": true,
            "ticks": "",
            "zerolinecolor": "#C8D4E3"
           }
          },
          "shapedefaults": {
           "line": {
            "color": "#f2f5fa"
           }
          },
          "sliderdefaults": {
           "bgcolor": "#C8D4E3",
           "bordercolor": "rgb(17,17,17)",
           "borderwidth": 1,
           "tickwidth": 0
          },
          "ternary": {
           "aaxis": {
            "gridcolor": "#506784",
            "linecolor": "#506784",
            "ticks": ""
           },
           "baxis": {
            "gridcolor": "#506784",
            "linecolor": "#506784",
            "ticks": ""
           },
           "bgcolor": "rgb(17,17,17)",
           "caxis": {
            "gridcolor": "#506784",
            "linecolor": "#506784",
            "ticks": ""
           }
          },
          "title": {
           "x": 0.05
          },
          "updatemenudefaults": {
           "bgcolor": "#506784",
           "borderwidth": 0
          },
          "xaxis": {
           "automargin": true,
           "gridcolor": "#283442",
           "linecolor": "#506784",
           "ticks": "",
           "title": {
            "standoff": 15
           },
           "zerolinecolor": "#283442",
           "zerolinewidth": 2
          },
          "yaxis": {
           "automargin": true,
           "gridcolor": "#283442",
           "linecolor": "#506784",
           "ticks": "",
           "title": {
            "standoff": 15
           },
           "zerolinecolor": "#283442",
           "zerolinewidth": 2
          }
         }
        },
        "title": {
         "text": "The 5 cities with the best weather over the next 7 days"
        },
        "updatemenus": [
         {
          "buttons": [
           {
            "args": [
             null,
             {
              "frame": {
               "duration": 500,
               "redraw": true
              },
              "fromcurrent": true,
              "mode": "immediate",
              "transition": {
               "duration": 500,
               "easing": "linear"
              }
             }
            ],
            "label": "&#9654;",
            "method": "animate"
           },
           {
            "args": [
             [
              null
             ],
             {
              "frame": {
               "duration": 0,
               "redraw": true
              },
              "fromcurrent": true,
              "mode": "immediate",
              "transition": {
               "duration": 0,
               "easing": "linear"
              }
             }
            ],
            "label": "&#9724;",
            "method": "animate"
           }
          ],
          "direction": "left",
          "pad": {
           "r": 10,
           "t": 70
          },
          "showactive": false,
          "type": "buttons",
          "x": 0.1,
          "xanchor": "right",
          "y": 0,
          "yanchor": "top"
         }
        ],
        "width": 1100
       }
      }
     },
     "metadata": {},
     "output_type": "display_data"
    }
   ],
   "source": [
    "# Creating a plotly scatter mapbox showing the 5 cities with the lowest weather score\n",
    "px.set_mapbox_access_token(open(\".mapbox_token\").read())\n",
    "\n",
    "fig = px.scatter_mapbox(\n",
    "    df_weather_full[:35],\n",
    "    lat='lat',\n",
    "    lon='lon',\n",
    "    color='felt_temperature',\n",
    "    size='inverted_score',\n",
    "    color_continuous_scale=px.colors.sequential.Bluered,\n",
    "    size_max=35,\n",
    "    zoom=4.7,\n",
    "    range_color = [min(df_weather_full[:35]['felt_temperature']), max(df_weather_full[:35]['felt_temperature'])],\n",
    "    hover_name='city',\n",
    "    hover_data={\n",
    "        'lat': False,\n",
    "        'lon': False,\n",
    "        'day_plus': False,\n",
    "        'rain_chances': True,\n",
    "        'humidity': True,\n",
    "        'felt_temperature': True,\n",
    "        'inverted_score': False,\n",
    "        },\n",
    "    animation_frame='day_plus'\n",
    ")\n",
    "\n",
    "fig.update_layout(\n",
    "    width = 1100,\n",
    "    height = 800,\n",
    "    template='plotly_dark',\n",
    "    title_x=0.5,\n",
    "    title_text='The 5 cities with the best weather over the next 7 days')\n",
    "fig.show()"
   ]
  },
  {
   "cell_type": "markdown",
   "metadata": {},
   "source": [
    "### Hotels Map"
   ]
  },
  {
   "cell_type": "code",
   "execution_count": 55,
   "metadata": {},
   "outputs": [
    {
     "data": {
      "application/vnd.plotly.v1+json": {
       "config": {
        "plotlyServerURL": "https://plot.ly"
       },
       "data": [
        {
         "customdata": [
          [
           50.63788756,
           3.072685,
           "Hotel Lille Europe",
           "https://www.booking.com/hotel/fr/lille-europe.fr.html?label=gen173nr-1FCAEoggI46AdIDVgEaBWIAQGYAQ24ARjIAQ_YAQHoAQH4AQKIAgGoAgS4AurW95IGwAIB0gIkMjlkODdiZjctMjdkZS00N2Q3LWFmYTUtNDZkZmNjZWQ1Zjli2AIF4AIB&sid=f56fc4691745a4ede86ce39f26498bb0&aid=304142&ucfs=1&arphpl=1&group_adults=2&req_adults=2&no_rooms=1&group_children=0&req_children=0&hpos=1&hapos=1&sr_order=popularity&srpvid=a7cda0bd5ed902b5&srepoch=1650322300&from=searchresults#hotelTmpl",
           "Vous pouvez bénéficier d'une réduction Genius dans l'établissement Hotel Lille Europe ! Connectez-vous pour économiser.L'Hotel Lille Europe est un établissement 3 étoiles situé au cœur du quartier des affaires international, à seulement 250 mètres de la gare de Lille-Flandres et à 17 minutes de route du stade Pierre-Mauroy. Il propose une réception ouverte 24h/24 et une connexion Internet gratuite.Présentant une décoration colorée, les chambres sont insonorisées et disposent d'une télévision par câble. Leur salle de bains privative est pourvue d'un sèche-cheveux. Toutes les chambres sont desservies par un ascenseur.Un petit-déjeuner buffet est servi tous les matins dans la salle prévue à cet effet. Cette dernière est dotée d'un micro-ondes et d'une vue panoramique sur les environs.L'établissement est accessible par l'autoroute N356. Vous séjournerez à 750 mètres de l'Opéra de Lille, à 10 minutes de marche de la cathédrale Notre-Dame-de-la-Treille, à 1,1 km du centre de conventions Nouveau Siècle et à 1,3 km du Grand Palais. Un parking privé sur place est disponible uniquement sur demande. ",
           82.09142857142858,
           7
          ],
          [
           50.627831,
           3.063592,
           "Moxy Lille City",
           "https://www.booking.com/hotel/fr/moxy-lille-city-center-france.fr.html?label=gen173nr-1FCAEoggI46AdIDVgEaBWIAQGYAQ24ARjIAQ_YAQHoAQH4AQKIAgGoAgS4AurW95IGwAIB0gIkMjlkODdiZjctMjdkZS00N2Q3LWFmYTUtNDZkZmNjZWQ1Zjli2AIF4AIB&sid=f56fc4691745a4ede86ce39f26498bb0&aid=304142&ucfs=1&arphpl=1&group_adults=2&req_adults=2&no_rooms=1&group_children=0&req_children=0&hpos=2&hapos=2&sr_order=popularity&srpvid=a7cda0bd5ed902b5&srepoch=1650322300&from=searchresults#hotelTmpl",
           "Le Moxy Lille City est situé à Lille, à 700 mètres de la braderie de Lille. Il propose des hébergements avec une terrasse et un parking privé. Doté d’un bar, cet hôtel 3 étoiles propose des chambres climatisées avec connexion Wi-Fi gratuite et salle de bains privative. En outre, vous pourrez profiter d’une salle de sport, d’animations en soirée et d’une réception ouverte 24h/24.Les chambres possèdent une télévision à écran plat et un sèche-cheveux.Un petit-déjeuner buffet est servi tous les jours au Moxy Lille City.Les sites d'intérêt à proximité de l'hébergement incluent la maison Coilliot, le grand magasin Printemps et la salle de concert l'Aéronef. L’aéroport de Lille-Lesquin, le plus proche, se trouve à 8 km du Moxy Lille City. ",
           82.09142857142858,
           7
          ],
          [
           50.63238245,
           3.06794286,
           "ibis Styles Lille Centre Gare Beffroi",
           "https://www.booking.com/hotel/fr/ibis-styles-lille-centre-gare-beffroi.fr.html?label=gen173nr-1FCAEoggI46AdIDVgEaBWIAQGYAQ24ARjIAQ_YAQHoAQH4AQKIAgGoAgS4AurW95IGwAIB0gIkMjlkODdiZjctMjdkZS00N2Q3LWFmYTUtNDZkZmNjZWQ1Zjli2AIF4AIB&sid=f56fc4691745a4ede86ce39f26498bb0&aid=304142&ucfs=1&arphpl=1&group_adults=2&req_adults=2&no_rooms=1&group_children=0&req_children=0&hpos=3&hapos=3&sr_order=popularity&srpvid=a7cda0bd5ed902b5&srepoch=1650322300&from=searchresults#hotelTmpl",
           "L’ibis Styles Lille Centre Gare Beffroi vous accueille dans le centre-ville de Lille, à 600 mètres des gares de Lille-Europe et de Lille-Flandres. Le centre des congrès Lille Grand Palais et le complexe Nouveau Siècle se trouvent à 1 km.Toutes les chambres comprennent une télévision à écran plat, une connexion Wi-Fi gratuite et une salle d’eau privative.Chaque matin, le petit-déjeuner vous sera servi. Vous pourrez vous détendre avec une boisson dans le bar sur place. Des événements d’entreprise peuvent être organisés dans les 3 salles de réunion modernes.Le quartier commerçant et d’affaires Euralille se trouve à 10 minutes de marche. Vous rejoindrez le stade Pierre-Mauroy en 15 minutes de route. ",
           82.09142857142858,
           7
          ],
          [
           50.63528798,
           3.06970725,
           "Hôtel Calm Lille",
           "https://www.booking.com/hotel/fr/calm-lille.fr.html?label=gen173nr-1FCAEoggI46AdIDVgEaBWIAQGYAQ24ARjIAQ_YAQHoAQH4AQKIAgGoAgS4AurW95IGwAIB0gIkMjlkODdiZjctMjdkZS00N2Q3LWFmYTUtNDZkZmNjZWQ1Zjli2AIF4AIB&sid=f56fc4691745a4ede86ce39f26498bb0&aid=304142&ucfs=1&arphpl=1&group_adults=2&req_adults=2&no_rooms=1&group_children=0&req_children=0&hpos=4&hapos=4&sr_order=popularity&srpvid=a7cda0bd5ed902b5&srepoch=1650322300&from=searchresults#hotelTmpl",
           "Vous pouvez bénéficier d'une réduction Genius dans l'établissement Hôtel Calm Lille ! Connectez-vous pour économiser.L'Hôtel Calm Lille est situé dans le centre-ville de Lille, à seulement 3 minutes à pied de la gare de Lille Flandres, ainsi qu'à 1 km du centre de conventions Grand Palais et de la salle de spectacle Le Nouveau Siècle. La connexion Wi-Fi est accessible gratuitement dans l'ensemble de l'établissement.Les chambres sont équipées d'une télévision à écran plat, d'une salle de bains privative avec baignoire ou douche, d'une armoire et d'un bureau.La réception de l'hôtel est ouverte 24h/24 et une bagagerie est à votre disposition. Vous pourrez emprunter un sèche-cheveux à la réception.L'Hôtel Calm Lille se trouve à 26 km de Courtrai, à 44 km d'Arras et à 27 km d'Ypres. Vous séjournerez aussi à 8 km de l'aéroport de Lille-Lesquin et à 16 minutes en voiture du stade Pierre-Mauroy. ",
           82.09142857142858,
           7
          ],
          [
           50.63075938,
           3.05808842,
           "Holiday Inn Express Lille Centre, an IHG Hotel",
           "https://www.booking.com/hotel/fr/expressbyholidayinnlille.fr.html?label=gen173nr-1FCAEoggI46AdIDVgEaBWIAQGYAQ24ARjIAQ_YAQHoAQH4AQKIAgGoAgS4AurW95IGwAIB0gIkMjlkODdiZjctMjdkZS00N2Q3LWFmYTUtNDZkZmNjZWQ1Zjli2AIF4AIB&sid=f56fc4691745a4ede86ce39f26498bb0&aid=304142&ucfs=1&arphpl=1&group_adults=2&req_adults=2&no_rooms=1&group_children=0&req_children=0&hpos=5&hapos=5&sr_order=popularity&srpvid=a7cda0bd5ed902b5&srepoch=1650322300&from=searchresults#hotelTmpl",
           "L'Holiday Inn Express Lille Centre est situé dans le centre de Lille, à 350 mètres du Palais des Beaux Arts et à 9 km du stade Pierre Mauroy. Vous séjournerez à 900 mètres du centre de conventions Le Nouveau Siècle et à 2 km de Lille Grand Palais.Les chambres de l'Holiday Inn Express Lille Centre sont équipées d'une télévision à écran plat, d'un téléphone, d'un sèche-cheveux et d'un plateau/bouilloire. Elles sont toutes desservies par un ascenseur. Vous bénéficierez gratuitement d'une connexion Wi-Fi.Un petit-déjeuner buffet est servi tous les matins.L'Holiday Inn Express Lille Centre propose une réception ouverte 24h/24, un parking souterrain sécurisé (sous réserve de disponibilité), une salle de réunion et un service de nettoyage à sec.La station de métro la plus proche est celle de République Beaux Arts, qui vous permettra d'accéder directement aux gares Lille Europe et Lille Flandres. L'hôtel se trouve à 800 mètres de la grand-place et à 1,5 km de la citadelle de Lille. ",
           82.09142857142858,
           7
          ],
          [
           50.63654707,
           3.06234241,
           "Grand Hotel Bellevue - Grand Place",
           "https://www.booking.com/hotel/fr/grandhotelbellevue.fr.html?label=gen173nr-1FCAEoggI46AdIDVgEaBWIAQGYAQ24ARjIAQ_YAQHoAQH4AQKIAgGoAgS4AurW95IGwAIB0gIkMjlkODdiZjctMjdkZS00N2Q3LWFmYTUtNDZkZmNjZWQ1Zjli2AIF4AIB&sid=f56fc4691745a4ede86ce39f26498bb0&aid=304142&ucfs=1&arphpl=1&group_adults=2&req_adults=2&no_rooms=1&group_children=0&req_children=0&hpos=6&hapos=6&sr_order=popularity&srpvid=a7cda0bd5ed902b5&srepoch=1650322300&from_sustainable_property_sr=1&from=searchresults#hotelTmpl",
           "Vous pouvez bénéficier d'une réduction Genius dans l'établissement Grand Hotel Bellevue - Grand Place ! Connectez-vous pour économiser.Situé sur la Grand-Place, dans le Vieux-Lille, le Grand Hotel Bellevue - Grand Place occupe un bâtiment à l'architecture flamande. Ses chambres disposent d'une salle de bains en marbre et de mobilier d'époque. La station de métro Rihour est accessible à 100 mètres. Vous pourrez rejoindre le centre de conventions Le Nouveau Siècle en 2 minutes à pied et le Lille Grand Palais se trouve à 1,4 km.Cet hôtel a été rénové en 2018. Toutes les chambres sont équipées de la climatisation, de la télévision par satellite et d'une connexion Wi-Fi gratuite. Élégantes et insonorisées, elles comprennent un minibar. Certaines disposent d'un plateau/bouilloire. Le personnel se tient à votre disposition 24h/24.Vous aurez droit à un petit-déjeuner buffet copieux tous les matins. Vous pourrez déguster des cocktails au bar Le Windsor et trouverez des restaurants à 50 mètres.Le centre historique est accessible en 5 minutes à pied et la gare de Lille-Flandres se trouve à 900 mètres. Le parc du Bois de Boulogne et la Citadelle vous attendent à 1,5 km tandis que l'aéroport de Lille-Lesquin se situe à 11 km. Des salles de réunions sont à votre disposition sur place. Vous trouverez un parking public à 100 mètres. ",
           82.09142857142858,
           7
          ],
          [
           50.64602156,
           3.07587147,
           "Hotel Art Deco Euralille",
           "https://www.booking.com/hotel/fr/hotelsrtdecoromarinlille.fr.html?label=gen173nr-1FCAEoggI46AdIDVgEaBWIAQGYAQ24ARjIAQ_YAQHoAQH4AQKIAgGoAgS4AurW95IGwAIB0gIkMjlkODdiZjctMjdkZS00N2Q3LWFmYTUtNDZkZmNjZWQ1Zjli2AIF4AIB&sid=f56fc4691745a4ede86ce39f26498bb0&aid=304142&ucfs=1&arphpl=1&group_adults=2&req_adults=2&no_rooms=1&group_children=0&req_children=0&hpos=7&hapos=7&sr_order=popularity&srpvid=a7cda0bd5ed902b5&srepoch=1650322300&from_sustainable_property_sr=1&from=searchresults#hotelTmpl",
           "Vous pouvez bénéficier d'une réduction Genius dans l'établissement Hotel Art Deco Euralille ! Connectez-vous pour économiser.Situé au cœur du quartier des affaires d’Euralille, l’Hotel Art Deco Euralille propose un bar à 1 km de la gare de Lille-Europe, à 20 minutes de la Grand-Place ainsi qu'à 1,7 km du grand palais de Lille et du centre de conventions Nouveau Siècle.Présentant un décor Art déco, les chambres lumineuses et climatisées comprennent une télévision par satellite et une connexion Wi-Fi gratuite. Les chambres sont en outre toutes desservies par un ascenseur.En soirée, vous pourrez vous détendre dans le bar de l'hôtel, doté d'un plafond en vitraux des années 1930 et de chaises en cuir. L’établissement possède également une bibliothèque.En face de l’hôtel, vous trouverez la station de métro et arrêt de tramway Romarin, qui permet d'accéder directement à la gare de Lille-Flandres. ",
           82.09142857142858,
           7
          ],
          [
           50.62914624,
           3.06419907,
           "NOCNOC - La Villa Cachee",
           "https://www.booking.com/hotel/fr/la-villa-cachee-prox-gare-lille-flandre-metro.fr.html?label=gen173nr-1FCAEoggI46AdIDVgEaBWIAQGYAQ24ARjIAQ_YAQHoAQH4AQKIAgGoAgS4AurW95IGwAIB0gIkMjlkODdiZjctMjdkZS00N2Q3LWFmYTUtNDZkZmNjZWQ1Zjli2AIF4AIB&sid=f56fc4691745a4ede86ce39f26498bb0&aid=304142&ucfs=1&arphpl=1&group_adults=2&req_adults=2&no_rooms=1&group_children=0&req_children=0&hpos=8&hapos=8&sr_order=popularity&srpvid=a7cda0bd5ed902b5&srepoch=1650322300&from=searchresults#hotelTmpl",
           "Vous pouvez bénéficier d'une réduction Genius dans l'établissement NOCNOC - La Villa Cachee ! Connectez-vous pour économiser.Doté d'une connexion Wi-Fi et d'un parking privé gratuits, le NOCNOC - La Villa Cachee est situé à Lille, à seulement 400 mètres de la maison Coilliot. Cette villa se trouve à 2,2 km du Zénith de Lille et du Grand Palais.Cette villa comprend 6 chambres, une télévision à écran plat, un lave-linge et 6 salles de bains pourvues d'une douche. Sa cuisine est équipée d'un lave-vaisselle et d'un micro-ondes. Les serviettes et le linge de lit sont fournis.Vous pourrez profiter d'une terrasse.Vous séjournerez à proximité de la braderie de Lille, de l'hospice Gantois et du grand magasin Printemps. L'aéroport de Lille, le plus proche, est à 9 km. ",
           82.09142857142858,
           7
          ],
          [
           50.62003296,
           3.08456697,
           "Eklo Hotels Lille",
           "https://www.booking.com/hotel/fr/eklo-hotels-lille.fr.html?label=gen173nr-1FCAEoggI46AdIDVgEaBWIAQGYAQ24ARjIAQ_YAQHoAQH4AQKIAgGoAgS4AurW95IGwAIB0gIkMjlkODdiZjctMjdkZS00N2Q3LWFmYTUtNDZkZmNjZWQ1Zjli2AIF4AIB&sid=f56fc4691745a4ede86ce39f26498bb0&aid=304142&ucfs=1&arphpl=1&group_adults=2&req_adults=2&no_rooms=1&group_children=0&req_children=0&hpos=9&hapos=9&sr_order=popularity&srpvid=a7cda0bd5ed902b5&srepoch=1650322300&from_sustainable_property_sr=1&from=searchresults#hotelTmpl",
           "Doté d'une terrasse, l'Eklo Hotels Lille est situé à Lille dans le Nord-Pas-de-Calais, à 2 km du Zénith. Vous séjournerez à 2,6 km de Lille Flandres et à 2,7 km de Lille Europe.Les chambres disposent d'une salle de bains privative. Les autres prestations (comme les articles de toilette et le départ tardif) entraînent des frais supplémentaires.Un bar et une réception ouverte 24h/24 sont présents. Le restaurant Barbapizz' prépare des pizzas et des salades. Un petit-déjeuner continental en libre-service est servi tous les jours moyennant un supplément.Vous profiterez d'une cuisine commune, d'une bibliothèque, de jeux de société et d'un baby-foot. Un service de location de vélos et des bornes de recharge pour voitures électriques sont disponibles moyennant des frais supplémentaires. L'aéroport de Lille-Lesquin, le plus proche, se trouve à 7 km. Un parking privé gratuit est aménagé sur place. ",
           82.09142857142858,
           7
          ],
          [
           50.63647023,
           3.07490923,
           "Séjours & Affaires Lille Europe",
           "https://www.booking.com/hotel/fr/residence-lille-europe.fr.html?label=gen173nr-1FCAEoggI46AdIDVgEaBWIAQGYAQ24ARjIAQ_YAQHoAQH4AQKIAgGoAgS4AurW95IGwAIB0gIkMjlkODdiZjctMjdkZS00N2Q3LWFmYTUtNDZkZmNjZWQ1Zjli2AIF4AIB&sid=f56fc4691745a4ede86ce39f26498bb0&aid=304142&ucfs=1&arphpl=1&group_adults=2&req_adults=2&no_rooms=1&group_children=0&req_children=0&hpos=10&hapos=10&sr_order=popularity&srpvid=a7cda0bd5ed902b5&srepoch=1650322300&from=searchresults#hotelTmpl",
           "La résidence Séjours & Affaires Lille Europe est située dans le centre-ville de Lille, au cœur du quartier des affaires. Vous séjournerez entre les gares Lille-Flandres et Lille-Europe, à moins de 600 mètres de chacune. L'établissement propose des appartements avec connexion Internet gratuite à 8 km du stade Pierre Mauroy, à 1,2 km du centre de conventions Nouveau Siècle et à 850 mètres du Grand Palais de Lille.Tous les studios et appartements comprennent une télévision par câble à écran plat. Chacun dispose d'un bureau, d'un canapé-lit et d'une salle de bains privative avec baignoire ou douche.Un petit-déjeuner buffet est servi chaque matin. Vous pourrez préparer les autres repas dans votre kitchenette entièrement équipée pourvue d'un coin repas et de plaques de cuisson.La résidence Séjours & Affaires Lille Europe est facilement accessible depuis l'autoroute N356, à 12 minutes de route. Enfin, vous rejoindrez la citadelle de Lille en 30 minutes de marche et l'aéroport de Lille-Lesquin se trouve à 10,8 km. ",
           82.09142857142858,
           7
          ],
          [
           50.63883337,
           3.07668149,
           "Novotel Suites Lille Europe",
           "https://www.booking.com/hotel/fr/suitehotel-lille-europe.fr.html?label=gen173nr-1FCAEoggI46AdIDVgEaBWIAQGYAQ24ARjIAQ_YAQHoAQH4AQKIAgGoAgS4AurW95IGwAIB0gIkMjlkODdiZjctMjdkZS00N2Q3LWFmYTUtNDZkZmNjZWQ1Zjli2AIF4AIB&sid=f56fc4691745a4ede86ce39f26498bb0&aid=304142&ucfs=1&arphpl=1&group_adults=2&req_adults=2&no_rooms=1&group_children=0&req_children=0&hpos=11&hapos=11&sr_order=popularity&srpvid=a7cda0bd5ed902b5&srepoch=1650322300&from_sustainable_property_sr=1&from=searchresults#hotelTmpl",
           "Installé dans le centre-ville de Lille, l’hôtel 4 étoiles Novotel Suites Lille Europe vous accueille à seulement 600 mètres de la gare de Lille-Flandres, à 11 minutes à pied du complexe Lille Grand Palais et à 10 km du stade Pierre-Mauroy. Cet établissement propose une salle de sport ainsi que des suites avec connexion Wi-Fi gratuite et micro-ondes.Toutes les suites modernes sont équipées d’une télévision à écran plat et d’un plateau/bouilloire. Leur salle de bains privative est pourvue d’un sèche-cheveux. Tous les logements sont desservis par un ascenseur.Chaque matin, vous pourrez déguster un petit-déjeuner buffet au Novotel Suites. Vous pourrez également savourer un verre au bar Comptoir Nomade, confortablement assis dans un fauteuil. La Boutique Gourmande de l’hôtel vend des produits d’épicerie fine.La réception est ouverte 24h/24.Le Novotel Suites Lille Europe se trouve à 800 mètres du Zénith de Lille, à 1,3 km du palais des Beaux-Arts et à 1,7 km du centre de conventions du Nouveau Siècle. ",
           82.09142857142858,
           7
          ],
          [
           50.634074,
           3.064229,
           "OKKO Hotels Lille Centre",
           "https://www.booking.com/hotel/fr/okko-hotels-lille-centre.fr.html?label=gen173nr-1FCAEoggI46AdIDVgEaBWIAQGYAQ24ARjIAQ_YAQHoAQH4AQKIAgGoAgS4AurW95IGwAIB0gIkMjlkODdiZjctMjdkZS00N2Q3LWFmYTUtNDZkZmNjZWQ1Zjli2AIF4AIB&sid=f56fc4691745a4ede86ce39f26498bb0&aid=304142&ucfs=1&arphpl=1&group_adults=2&req_adults=2&no_rooms=1&group_children=0&req_children=0&hpos=12&hapos=12&sr_order=popularity&srpvid=a7cda0bd5ed902b5&srepoch=1650322300&from_sustainable_property_sr=1&from=searchresults#hotelTmpl",
           "Installé à Lille, l’OKKO Hotels Lille Centre possède un bar, un restaurant, un salon commun et une salle de sport. L’établissement vous propose notamment une réception ouverte 24h/24, un service d’étage et une connexion Wi-Fi gratuite dans l’ensemble de ses locaux. Vous aurez aussi la possibilité de savourer un verre au snack-bar.Les chambres climatisées de l’hôtel comportent un bureau, une machine à café, un coffre-fort, une télévision à écran plat ainsi qu’une salle de bains privative pourvue d’une douche. Chaque logement l’OKKO Hotels Lille Centre est doté de linge de lit et de serviettes de toilette.Le matin, vous pourrez savourer un petit-déjeuner buffet ou continental.Cet établissement 4 étoiles met à votre disposition un sauna et une terrasse.Vous pourrez également profiter du centre d'affaires, du télécopieur et du photocopieur de l’OKKO Hotels Lille Centre.Vous séjournerez à proximité de lieux d’intérêt prisés de la ville, comme le grand magasin Printemps, la Grand-Place et l’opéra de Lille. L’aéroport de Lille-Lesquin, le plus proche, se trouve à 8 km de l’OKKO Hotels Lille Centre. ",
           82.09142857142858,
           7
          ],
          [
           50.63359887,
           3.06328118,
           "Lille City Hotel",
           "https://www.booking.com/hotel/fr/misterbeddelille.fr.html?label=gen173nr-1FCAEoggI46AdIDVgEaBWIAQGYAQ24ARjIAQ_YAQHoAQH4AQKIAgGoAgS4AurW95IGwAIB0gIkMjlkODdiZjctMjdkZS00N2Q3LWFmYTUtNDZkZmNjZWQ1Zjli2AIF4AIB&sid=f56fc4691745a4ede86ce39f26498bb0&aid=304142&ucfs=1&arphpl=1&group_adults=2&req_adults=2&no_rooms=1&group_children=0&req_children=0&hpos=13&hapos=13&sr_order=popularity&srpvid=a7cda0bd5ed902b5&srepoch=1650322300&from_sustainable_property_sr=1&from=searchresults#hotelTmpl",
           "Le Lille City Hotel est un établissement abordable situé dans le centre-ville de Lille, dans une rue piétonne et commerçante, à 260 mètres du Palais des Beaux Arts, à 1,2 km de Lille Grand Palais et à 9 km du stade Pierre Mauroy. Les chambres sont équipées d’une télévision par satellite et d’une connexion Internet gratuite.Toutes les chambres du Lille City Hotel sont climatisées et disposent d'un téléphone. Desservies par un ascenseur, elles sont également pourvues d’une salle de bains privative.Le Lille City Hotel sert un petit-déjeuner buffet chaque matin. Vous trouverez de nombreux restaurants à quelques minutes de marche.La gare de Lille-Flandres se situe à seulement 10 minutes à pied du Lille City Hotel. Enfin, l’opéra et le centre de conventions Le Nouveau Siècle sont à 600 mètres, tandis que le centre historique vous attend à 1 km. ",
           82.09142857142858,
           7
          ],
          [
           50.63220722,
           3.04668635,
           "Residhotel Lille Vauban",
           "https://www.booking.com/hotel/fr/residhotel-lille-vauban.fr.html?label=gen173nr-1FCAEoggI46AdIDVgEaBWIAQGYAQ24ARjIAQ_YAQHoAQH4AQKIAgGoAgS4AurW95IGwAIB0gIkMjlkODdiZjctMjdkZS00N2Q3LWFmYTUtNDZkZmNjZWQ1Zjli2AIF4AIB&sid=f56fc4691745a4ede86ce39f26498bb0&aid=304142&ucfs=1&arphpl=1&group_adults=2&req_adults=2&no_rooms=1&group_children=0&req_children=0&hpos=14&hapos=14&sr_order=popularity&srpvid=a7cda0bd5ed902b5&srepoch=1650322300&from=searchresults#hotelTmpl",
           "Le Residhotel Lille Vauban est idéalement installé dans le quartier résidentiel de Vauban, à seulement 20 minutes de marche de la vieille ville de Lille. Il propose des hébergements avec une connexion Wi-Fi gratuite.Les studios comprennent une télévision à écran plat, un bureau et une kitchenette avec une machine à café Nespresso. Les appartements possèdent une cuisine avec une machine à café Nespresso, un coin repas et une pièce à vivre. Chaque logement dispose d'une salle de bains privative.Moyennant un supplément, vous pourrez déguster un petit-déjeuner buffet.Enfin, depuis l'appart'hôtel Residhotel Lille Vauban, vous rejoindrez les 45 hectares du bois de Boulogne en seulement 10 minutes à pied, tandis que la Grand'Place et le centre de conventions Nouveau Siècle sont accessibles à 20 minutes de marche. ",
           82.09142857142858,
           7
          ],
          [
           50.62603955,
           3.05190325,
           "Best Hôtel Lille",
           "https://www.booking.com/hotel/fr/besthotel_lille.fr.html?label=gen173nr-1FCAEoggI46AdIDVgEaBWIAQGYAQ24ARjIAQ_YAQHoAQH4AQKIAgGoAgS4AurW95IGwAIB0gIkMjlkODdiZjctMjdkZS00N2Q3LWFmYTUtNDZkZmNjZWQ1Zjli2AIF4AIB&sid=f56fc4691745a4ede86ce39f26498bb0&aid=304142&ucfs=1&arphpl=1&group_adults=2&req_adults=2&no_rooms=1&group_children=0&req_children=0&hpos=15&hapos=15&sr_order=popularity&srpvid=a7cda0bd5ed902b5&srepoch=1650322300&from_sustainable_property_sr=1&from=searchresults#hotelTmpl",
           "Le Best Hôtel Lille est un hôtel-restaurant situé dans le centre-ville de Lille, à proximité de la station de métro Gambetta, à 300 mètres de la Maison Folie de Wazemmes et à 1 km du musée des beaux-arts. Le Lille Grand Palais se trouve à 2 km.Cet établissement est idéal pour les voyages d'affaires et les séjours de loisirs. Facilement accessible par les routes principales, il propose un parking couvert sécurisé, un local à vélos et un restaurant buffet.Les chambres disposent d'un bureau et d'une connexion Wi-Fi haut débit gratuite.Le centre de conventions Nouveau Siècle est à 1,6 km. ",
           82.09142857142858,
           7
          ],
          [
           50.63685668,
           3.06794286,
           "Grand Hôtel Lille",
           "https://www.booking.com/hotel/fr/le-grand-hotel.fr.html?label=gen173nr-1FCAEoggI46AdIDVgEaBWIAQGYAQ24ARjIAQ_YAQHoAQH4AQKIAgGoAgS4AurW95IGwAIB0gIkMjlkODdiZjctMjdkZS00N2Q3LWFmYTUtNDZkZmNjZWQ1Zjli2AIF4AIB&sid=f56fc4691745a4ede86ce39f26498bb0&aid=304142&ucfs=1&arphpl=1&group_adults=2&req_adults=2&no_rooms=1&group_children=0&req_children=0&hpos=16&hapos=16&sr_order=popularity&srpvid=a7cda0bd5ed902b5&srepoch=1650322300&from=searchresults#hotelTmpl",
           "Situé dans le centre de Lille, juste à côté de la gare de Lille-Flandres, le Grand Hôtel Lille dispose d'une réception ouverte 24h/24, d'une bagagerie et d'un ascenseur. L'hôtel vous accueille à 900 mètres du Grand Palais de Lille et à 650 mètres du centre de conventions Nouveau Siècle. Il se trouve à seulement 300 mètres de la Grand'Place et à 5 minutes à pied du Vieux-Lille.Toutes les chambres sont équipées d'une télévision par satellite à écran plat et d'un téléphone. Leur salle de bains privative est pourvue d'un sèche-cheveux.Un petit-déjeuner buffet est servi chaque matin sur place. Vous trouverez plusieurs restaurants à quelques minutes de marche.Le Grand Hôtel Lille met à votre disposition un service d'étage et une connexion Wi-Fi gratuite. L'établissement est à 600 mètres de la gare de Lille-Europe, tandis que la station de métro Gare Lille-Flandres vous attend à seulement 50 mètres. Enfin, vous séjournerez à 18 minutes de route du stade Pierre-Mauroy. ",
           82.09142857142858,
           7
          ],
          [
           50.62905798,
           3.08113396,
           "Appart'City Confort Lille Grand Palais",
           "https://www.booking.com/hotel/fr/appart-city-lille-grand-palais.fr.html?label=gen173nr-1FCAEoggI46AdIDVgEaBWIAQGYAQ24ARjIAQ_YAQHoAQH4AQKIAgGoAgS4AurW95IGwAIB0gIkMjlkODdiZjctMjdkZS00N2Q3LWFmYTUtNDZkZmNjZWQ1Zjli2AIF4AIB&sid=f56fc4691745a4ede86ce39f26498bb0&aid=304142&ucfs=1&arphpl=1&group_adults=2&req_adults=2&no_rooms=1&group_children=0&req_children=0&hpos=17&hapos=17&sr_order=popularity&srpvid=a7cda0bd5ed902b5&srepoch=1650322300&from_sustainable_property_sr=1&from=searchresults#hotelTmpl",
           "Dans le centre-ville de Lille, l’établissement Appart’City Confort Lille Grand Palais vous accueille à 700 mètres du Grand Palais et à 15 minutes en voiture du centre de conventions de Lille Grand Palais. Il possède des appartements modernes dotés d'une connexion Wi-Fi gratuite et d'une télévision à écran plat. Un parking public est disponible sur place.Insonorisés et desservis par un ascenseur, les appartements comptent une kitchenette équipée d’un micro-ondes, d’un réfrigérateur et d’une cafetière. Il sont dotés d’un coin salon et d’un coin repas. Les salles de bains sont privatives.Un petit-déjeuner buffet est servi du lundi au dimanche et se compose de différents pains, dont du pain sans gluten, des viennoiseries, des boissons fraîches et chaudes. Du fromage et des yaourts sont également proposés. Des distributeurs automatiques de boissons se trouvent à la réception.Vous séjournerez à 1 km de la gare de Lille-Flandres, à 900 mètres de la station de métro Lille Grand Palais et à 12 minutes de route du stade Pierre-Mauroy. ",
           82.09142857142858,
           7
          ],
          [
           50.63557145,
           3.06783289,
           "Hôtel Saint Maurice",
           "https://www.booking.com/hotel/fr/hotelsaintmaurice.fr.html?label=gen173nr-1FCAEoggI46AdIDVgEaBWIAQGYAQ24ARjIAQ_YAQHoAQH4AQKIAgGoAgS4AurW95IGwAIB0gIkMjlkODdiZjctMjdkZS00N2Q3LWFmYTUtNDZkZmNjZWQ1Zjli2AIF4AIB&sid=f56fc4691745a4ede86ce39f26498bb0&aid=304142&ucfs=1&arphpl=1&group_adults=2&req_adults=2&no_rooms=1&group_children=0&req_children=0&hpos=18&hapos=18&sr_order=popularity&srpvid=a7cda0bd5ed902b5&srepoch=1650322300&from=searchresults#hotelTmpl",
           "L’Hôtel Saint Maurice est situé dans une zone piétonne paisible du centre de Lille, à côté de l’église gothique Saint-Maurice. Vous bénéficierez gratuitement d’une connexion Wi-Fi dans l’ensemble des locaux. Le centre de conventions Nouveau Siècle est à moins de 1 km.L’Hôtel Saint Maurice propose 38 chambres accessibles par ascenseur. Les chambres comportent une télévision à écran plat et une connexion Wi-Fi gratuite.L’établissement est implanté à 10 minutes à pied de la vieille ville et de ses musées, à moins de 500 mètres de la Grand’Place et à 1,5 km du parc des expositions Lille Grand Palais. Un parking public est disponible moyennant un supplément à proximité de l’hôtel. ",
           82.09142857142858,
           7
          ],
          [
           50.6456983,
           3.07210967,
           "Campanile Lille Euralille",
           "https://www.booking.com/hotel/fr/campanile-lille-euralille-xml.fr.html?label=gen173nr-1FCAEoggI46AdIDVgEaBWIAQGYAQ24ARjIAQ_YAQHoAQH4AQKIAgGoAgS4AurW95IGwAIB0gIkMjlkODdiZjctMjdkZS00N2Q3LWFmYTUtNDZkZmNjZWQ1Zjli2AIF4AIB&sid=f56fc4691745a4ede86ce39f26498bb0&aid=304142&ucfs=1&arphpl=1&group_adults=2&req_adults=2&no_rooms=1&group_children=0&req_children=0&hpos=19&hapos=19&sr_order=popularity&srpvid=a7cda0bd5ed902b5&srepoch=1650322300&from_sustainable_property_sr=1&from=searchresults#hotelTmpl",
           "Vous pouvez bénéficier d'une réduction Genius dans l'établissement Campanile Lille Euralille ! Connectez-vous pour économiser.Le Campanile Lille Euralille vous accueille à 1 km de la gare de Lille-Europe, à 2 km de la Grand-Place et à moins de 300 mètres de l'arrêt de tramway Romarin. Il possède une réception ouverte 24h/24 et un restaurant. Le stade Pierre-Mauroy est à 10 km.Les chambres comprennent une connexion Wi-Fi gratuite et une télévision par câble et satellite à écran plat. Leur salle de bains privative est pourvue d'une baignoire ou d'une douche et d'un sèche-cheveux.Chaque matin, un petit-déjeuner buffet est servi moyennant des frais supplémentaires. Vous pourrez également savourer la cuisine du restaurant de l'hôtel.Un parking extérieur est disponible moyennant des frais supplémentaires. Vous séjournerez à 2 km du centre commercial Euralille, à 2,5 km du Palais des beaux-arts et de la citadelle de Lille, à 2 km du centre de conventions Nouveau Siècle, ainsi qu'à 10 km des aéroports de Roubaix et de Lille-Lesquin. ",
           82.09142857142858,
           7
          ],
          [
           50.63786885,
           3.0546277,
           "Alliance Lille - Couvent Des Minimes",
           "https://www.booking.com/hotel/fr/alliance-lille-couvent-des-minimes.fr.html?label=gen173nr-1FCAEoggI46AdIDVgEaBWIAQGYAQ24ARjIAQ_YAQHoAQH4AQKIAgGoAgS4AurW95IGwAIB0gIkMjlkODdiZjctMjdkZS00N2Q3LWFmYTUtNDZkZmNjZWQ1Zjli2AIF4AIB&sid=f56fc4691745a4ede86ce39f26498bb0&aid=304142&ucfs=1&arphpl=1&group_adults=2&req_adults=2&no_rooms=1&group_children=0&req_children=0&hpos=20&hapos=20&sr_order=popularity&srpvid=a7cda0bd5ed902b5&srepoch=1650322300&from_sustainable_property_sr=1&from=searchresults#hotelTmpl",
           "Vous pouvez bénéficier d'une réduction Genius dans l'établissement Alliance Lille - Couvent Des Minimes ! Connectez-vous pour économiser.L'Alliance Lille - Couvent Des Minimes occupe un ancien couvent du XVIIe siècle situé à 5 minutes du centre de Lille. Doté d'un salon luxueux et d'une terrasse surmontée d'une immense verrière, il se trouve à 450 mètres du centre de conventions Nouveau Siècle.Présentant une décoration élégante, toutes les chambres et suites sont équipées de la climatisation, d'un minibar ainsi que d'une télévision par satellite avec Canal+. Elles possèdent également une salle de bains en marbre et une connexion Wi-Fi gratuite.Le restaurant Le Jardin du Cloître propose un petit-déjeuner buffet tous les jours ainsi qu'une cuisine locale préparée avec des produits frais du marché. Des spectacles sont organisés tous les soirs au piano-bar L'Échiquier.Cet établissement est accessible à seulement 150 mètres du bois de Boulogne, un verdoyant parc de 50 hectares. Les gares SNCF/TGV de Lille-Europe et de Lille-Flandres sont implantées à 15 minutes en voiture. Vous pourrez rejoindre le parc des expositions Lille Grand Palais à 6 km de l'Alliance Lille - Couvent Des Minimes, tout comme le stade Pierre Mauroy. ",
           82.09142857142858,
           7
          ],
          [
           48.0770862,
           7.3525325,
           "Le Parc - Standing apartments in front of the Champ de Mars",
           "https://www.booking.com/hotel/fr/le-parc-standing-apartments-in-front-of-the-champ-de-mars.fr.html?label=gen173nr-1FCAEoggI46AdIDVgEaBWIAQGYAQ24ARjIAQ_YAQHoAQH4AQKIAgGoAgS4AurW95IGwAIB0gIkMjlkODdiZjctMjdkZS00N2Q3LWFmYTUtNDZkZmNjZWQ1Zjli2AIF4AIB&sid=f56fc4691745a4ede86ce39f26498bb0&aid=304142&ucfs=1&arphpl=1&group_adults=2&req_adults=2&no_rooms=1&group_children=0&req_children=0&hpos=1&hapos=1&sr_order=popularity&srpvid=04dba0be0b0f026c&srepoch=1650322301&from=searchresults#hotelTmpl",
           "Vous pouvez bénéficier d'une réduction Genius dans l'établissement Le Parc - Standing apartments in front of the Champ de Mars ! Connectez-vous pour économiser.Offrant une vue sur la ville et doté d'une connexion Wi-Fi gratuite, l'établissement Le Parc - Standing apartments in front of the Champ de Mars propose des hébergements idéalement situés dans le centre de Colmar, à proximité de la Maison des Têtes, de la collégiale Saint-Martin et de l'église dominicaine.Tous les logements comprennent un coin salon, une télévision à écran plat, un lave-linge et une salle de bains privative pourvue d'une douche. Leur cuisine entièrement équipée comporte un lave-vaisselle. Un micro-ondes, un réfrigérateur, un four, une bouilloire et une machine à café sont également disponibles.Vous séjournerez à proximité du théâtre de Colmar, du musée Bartholdi et du musée Unterlinden. L'aéroport de Bâle-Mulhouse-Fribourg, le plus proche, est implanté à 55 km. ",
           110.9914285714286,
           10
          ],
          [
           48.07080074,
           7.34638973,
           "Colmar Hotel",
           "https://www.booking.com/hotel/fr/colmar.fr.html?label=gen173nr-1FCAEoggI46AdIDVgEaBWIAQGYAQ24ARjIAQ_YAQHoAQH4AQKIAgGoAgS4AurW95IGwAIB0gIkMjlkODdiZjctMjdkZS00N2Q3LWFmYTUtNDZkZmNjZWQ1Zjli2AIF4AIB&sid=f56fc4691745a4ede86ce39f26498bb0&aid=304142&ucfs=1&arphpl=1&group_adults=2&req_adults=2&no_rooms=1&group_children=0&req_children=0&hpos=2&hapos=2&sr_order=popularity&srpvid=04dba0be0b0f026c&srepoch=1650322301&from_sustainable_property_sr=1&from=searchresults#hotelTmpl",
           "Vous pouvez bénéficier d'une réduction Genius dans l'établissement Colmar Hotel ! Connectez-vous pour économiser.Le Colmar Hotel vous accueille à Colmar, à 1 km de la Maison des Têtes et à 1,2 km de la place des Dominicains, où se déroule le marché de Noël. Il possède une réception ouverte 24h/24 et un bar. Vous profiterez gratuitement d'une connexion Wi-Fi et d'un parking privé en face de l'hôtel.Toutes les chambres comprennent une télévision par satellite à écran plat, une bouilloire ainsi qu'une salle de bains privative pourvue d'articles de toilette gratuits et d'un sèche-cheveux.Un parking gratuit et un parking sécurisé payant sont disponibles sur place. Vous séjournerez à 1,1 km de la collégiale Saint-Martin et à 3,5 km du parc des expositions Colmar Expo. L'aéroport de Bâle-Mulhouse-Fribourg, le plus proche, se trouve à 54 km du Colmar Hotel.  ",
           110.9914285714286,
           10
          ],
          [
           48.09965719,
           7.3624015,
           "Comfort Hotel Expo Colmar",
           "https://www.booking.com/hotel/fr/comfort-expo-colmar.fr.html?label=gen173nr-1FCAEoggI46AdIDVgEaBWIAQGYAQ24ARjIAQ_YAQHoAQH4AQKIAgGoAgS4AurW95IGwAIB0gIkMjlkODdiZjctMjdkZS00N2Q3LWFmYTUtNDZkZmNjZWQ1Zjli2AIF4AIB&sid=f56fc4691745a4ede86ce39f26498bb0&aid=304142&ucfs=1&arphpl=1&group_adults=2&req_adults=2&no_rooms=1&group_children=0&req_children=0&hpos=3&hapos=3&sr_order=popularity&srpvid=04dba0be0b0f026c&srepoch=1650322301&from=searchresults#hotelTmpl",
           "Installé à 4 km du centre-ville de Colmar et à 2 km de l’autoroute A35, le Comfort Hotel Expo Colmar vous propose une réception ouverte 24h/24, une terrasse et une connexion Wi-Fi gratuite.Desservies par un ascenseur, toutes les chambres sont dotées de la climatisation, d’un bureau et d’une télévision par satellite à écran plat. Leur salle de bains privative est pourvue d’un sèche-cheveux et d’une douche.Chaque matin, vous pourrez savourer un petit-déjeuner à l’hôtel. Un bar servant des collations et des plats chauds est également disponible sur place.Le Comfort Hotel Expo Colmar se trouve à 10 minutes en voiture de la route des vins d’Alsace et à 300 mètres du parc des expositions de Colmar. Un parking privé est accessible gratuitement sur place. ",
           110.9914285714286,
           10
          ],
          [
           48.07969759,
           7.35236159,
           "Ibis Budget Colmar Centre Gare",
           "https://www.booking.com/hotel/fr/ibis-budget-colmar-centre-ville.fr.html?label=gen173nr-1FCAEoggI46AdIDVgEaBWIAQGYAQ24ARjIAQ_YAQHoAQH4AQKIAgGoAgS4AurW95IGwAIB0gIkMjlkODdiZjctMjdkZS00N2Q3LWFmYTUtNDZkZmNjZWQ1Zjli2AIF4AIB&sid=f56fc4691745a4ede86ce39f26498bb0&aid=304142&ucfs=1&arphpl=1&group_adults=2&req_adults=2&no_rooms=1&group_children=0&req_children=0&hpos=4&hapos=4&sr_order=popularity&srpvid=04dba0be0b0f026c&srepoch=1650322301&from=searchresults#hotelTmpl",
           "L'ibis budget Colmar Centre Ville vous accueille à Colmar, dans le quartier du centre-ville, à 300 mètres de la Maison des Têtes et à 600 mètres de la collégiale Saint-Martin.Les chambres possèdent une télévision par satellite.Le parc des expositions Colmar Expo se trouve à 2,5 km de l'ibis budget Colmar Centre Ville. Vous rejoindrez le théâtre de Colmar à 200 mètres. L'aéroport de Bâle-Mulhouse-Fribourg, le plus proche, est implanté à 55 km. ",
           110.9914285714286,
           10
          ],
          [
           48.07733814,
           7.35609418,
           "Aux Bijoux de Colmar - Le Saphir - 1 PARKING GRATUIT",
           "https://www.booking.com/hotel/fr/aux-bijoux-de-colmar-le-saphir.fr.html?label=gen173nr-1FCAEoggI46AdIDVgEaBWIAQGYAQ24ARjIAQ_YAQHoAQH4AQKIAgGoAgS4AurW95IGwAIB0gIkMjlkODdiZjctMjdkZS00N2Q3LWFmYTUtNDZkZmNjZWQ1Zjli2AIF4AIB&sid=f56fc4691745a4ede86ce39f26498bb0&aid=304142&ucfs=1&arphpl=1&group_adults=2&req_adults=2&no_rooms=1&group_children=0&req_children=0&hpos=5&hapos=5&sr_order=popularity&srpvid=04dba0be0b0f026c&srepoch=1650322301&from=searchresults#hotelTmpl",
           "Vous pouvez bénéficier d'une réduction Genius dans l'établissement Aux Bijoux de Colmar - Le Saphir - 1 PARKING GRATUIT ! Connectez-vous pour économiser.Situé à Colmar, à seulement 2,1 km de la Maison des Têtes, l'établissement Aux Bijoux de Colmar - Le Saphir - 1 PARKING GRATUIT propose un hébergement avec vue sur la ville, connexion Wi-Fi et parking privé gratuits. Il se trouve à 600 mètres de la petite Venise de Colmar et à 1,8 km du théâtre de Colmar.Doté d'un lecteur Blu-ray, l'appartement dispose d'une cuisine avec un lave-vaisselle, un micro-ondes et un réfrigérateur, d'un salon, d'un coin repas, de 3 chambres et de 2 salles de bains avec douche. Les serviettes et le linge de lit sont fournis.Vous séjournerez à 2,7 km de la collégiale Saint-Martin et à 4,2 km du parc des expositions Colmar Expo. L'aéroport de Bâle, le plus proche, est implanté à 59 km. ",
           110.9914285714286,
           10
          ],
          [
           48.07790332,
           7.40279764,
           "Ibis Colmar Est - Hotel Restaurant en Alsace",
           "https://www.booking.com/hotel/fr/ibis-colmar-horbourg-wihr.fr.html?label=gen173nr-1FCAEoggI46AdIDVgEaBWIAQGYAQ24ARjIAQ_YAQHoAQH4AQKIAgGoAgS4AurW95IGwAIB0gIkMjlkODdiZjctMjdkZS00N2Q3LWFmYTUtNDZkZmNjZWQ1Zjli2AIF4AIB&sid=f56fc4691745a4ede86ce39f26498bb0&aid=304142&ucfs=1&arphpl=1&group_adults=2&req_adults=2&no_rooms=1&group_children=0&req_children=0&hpos=6&hapos=6&sr_order=popularity&srpvid=04dba0be0b0f026c&srepoch=1650322301&from_sustainable_property_sr=1&from=searchresults#hotelTmpl",
           "Vous pouvez bénéficier d'une réduction Genius dans l'établissement Ibis Colmar Est - Hotel Restaurant en Alsace ! Connectez-vous pour économiser.L'établissement ibis Colmar East - Hotel Brasserie en Alsace est situé à 5 km de la route des vins d'Alsace et à 10 km de Kaysersberg, Riquewihr et Eguisheim. La connexion Wi-Fi est gratuite dans l’ensemble de l’établissement.Les 86 chambres sont confortables et disposent toutes d’une salle de bains privative pourvue d’une baignoire. L'hôtel comprend également une brasserie alsacienne, la WinStub, ainsi qu’une terrasse, un parking gratuit et des places de stationnement sécurisées.Tous les matins, vous pourrez déguster un petit-déjeuner buffet composé de mets sucrés et salés tels que des œufs, une salade de fruits, des yaourts et des jus de fruits. Vous aurez également la possibilité de savourer des viennoiseries cuites sur place, des madeleines fraîches ainsi qu’une boisson chaude et un fruit à emporter. L'établissement est un boutique hôtel.Du matériel de repassage et un sèche-cheveux vous seront fournis sur demande.L'ibis Colmar Est - Hotel Brasserie en Alsace se trouve à 5 minutes de route de la vieille ville de Colmar. Vous pourrez flâner dans le quartier de la Petite Venise, visiter le musée du jouet ou admirer l'Altarpie d'Isenheim au musée Unterlinden. ",
           110.9914285714286,
           10
          ],
          [
           48.0785657,
           7.36147009,
           "ColmarAppart Vauban",
           "https://www.booking.com/hotel/fr/colmarappart-vauban.fr.html?label=gen173nr-1FCAEoggI46AdIDVgEaBWIAQGYAQ24ARjIAQ_YAQHoAQH4AQKIAgGoAgS4AurW95IGwAIB0gIkMjlkODdiZjctMjdkZS00N2Q3LWFmYTUtNDZkZmNjZWQ1Zjli2AIF4AIB&sid=f56fc4691745a4ede86ce39f26498bb0&aid=304142&ucfs=1&arphpl=1&group_adults=2&req_adults=2&no_rooms=1&group_children=0&req_children=0&hpos=7&hapos=7&sr_order=popularity&srpvid=04dba0be0b0f026c&srepoch=1650322301&from=searchresults#hotelTmpl",
           "Vous pouvez bénéficier d'une réduction Genius dans l'établissement ColmarAppart Vauban ! Connectez-vous pour économiser.Le ColmarAppart Vauban vous accueille à Colmar, à 300 mètres de la collégiale Saint-Martin et à 500 mètres de la Maison des Têtes. Une connexion Wi-Fi est accessible gratuitement.Les hébergements disposent d'une télévision à écran plat et d'un lecteur DVD. Certains sont dotés d'un coin repas et/ou d'une terrasse. Tous comportent une cuisine équipée d'un lave-vaisselle, d'un four, d'une machine à café et d'une bouilloire. Le stationnement privé est gratuit sur place. Le linge de lit est fourni.Le marché de Noël de Colmar se trouve à 150 mètres. Le parc des expositions Colmar Expo est à 2,5 km du ColmarAppart Vauban. L'aéroport de Bâle, le plus proche, se situe à 55 km. ",
           110.9914285714286,
           10
          ],
          [
           48.07641026,
           7.35954888,
           "COLMARAPPART Grand'Rue",
           "https://www.booking.com/hotel/fr/cotoon-colmar8.fr.html?label=gen173nr-1FCAEoggI46AdIDVgEaBWIAQGYAQ24ARjIAQ_YAQHoAQH4AQKIAgGoAgS4AurW95IGwAIB0gIkMjlkODdiZjctMjdkZS00N2Q3LWFmYTUtNDZkZmNjZWQ1Zjli2AIF4AIB&sid=f56fc4691745a4ede86ce39f26498bb0&aid=304142&ucfs=1&arphpl=1&group_adults=2&req_adults=2&no_rooms=1&group_children=0&req_children=0&hpos=8&hapos=8&sr_order=popularity&srpvid=04dba0be0b0f026c&srepoch=1650322301&from=searchresults#hotelTmpl",
           "Vous pouvez bénéficier d'une réduction Genius dans l'établissement COLMARAPPART Grand'Rue ! Connectez-vous pour économiser.Le COLMARAPPART Grand'Rue bénéficie d'un emplacement idéal au cœur de Colmar, entre la cathédrale de la ville et les rues principales. Il propose des suites et des appartements indépendants.Les suites et appartements indépendants sont tous accessibles par un ascenseur. Ils possèdent une télévision, une connexion Wi-Fi ainsi qu'une salle de bains privative pourvue d'un sèche-cheveux, d'une baignoire ou d'une douche.Chaque type d'hébergement dispose d'une cuisine avec ustensiles, micro-ondes et réfrigérateur, vous permettant de préparer vos propres repas. Un lave-vaisselle est également fourni.Le COLMARAPPART Grand'Rue se situe dans une rue piétonne permettant de rejoindre aisément à pied des restaurants, des bars et des épiceries. Des places de stationnement en nombre limité sont attribuées moyennant des frais supplémentaires et sur demande préalable. Le parking est également accessible sous réserve de disponibilité. ",
           110.9914285714286,
           10
          ],
          [
           48.07891558,
           7.36514839,
           "Odalys City Colmar La Rose d'Argent",
           "https://www.booking.com/hotel/fr/appart-39-odalys-la-rose-d-39-argent.fr.html?label=gen173nr-1FCAEoggI46AdIDVgEaBWIAQGYAQ24ARjIAQ_YAQHoAQH4AQKIAgGoAgS4AurW95IGwAIB0gIkMjlkODdiZjctMjdkZS00N2Q3LWFmYTUtNDZkZmNjZWQ1Zjli2AIF4AIB&sid=f56fc4691745a4ede86ce39f26498bb0&aid=304142&ucfs=1&arphpl=1&group_adults=2&req_adults=2&no_rooms=1&group_children=0&req_children=0&hpos=9&hapos=9&sr_order=popularity&srpvid=04dba0be0b0f026c&srepoch=1650322301&from_sustainable_property_sr=1&from=searchresults#hotelTmpl",
           "Vous pouvez bénéficier d'une réduction Genius dans l'établissement Odalys City Colmar La Rose d'Argent ! Connectez-vous pour économiser.Situé à Colmar, à seulement 1,6 km de la gare, l'Odalys City Colmar La Rose d'Argent propose une salle de sport et une piscine à contre-courant avec jets de massage. Il se trouve à 700 mètres de la collégiale Saint-Martin et à 1 km de la Maison des Têtes.Cet hébergement comprend un coin salon, une télévision à écran plat, une armoire ainsi qu'une salle de bains privative avec une baignoire ou une douche. La kitchenette est équipée de plaques de cuisson, d'un micro-ondes et d'un réfrigérateur.Un petit-déjeuner est servi chaque matin à l'Odalys City Colmar La Rose d'Argent et les enfants peuvent en profiter à un tarif réduit. De nombreux restaurants sont également accessibles à quelques pas de l'Appart'hôtel Odalys La Rose d'Argent.Une connexion Wi-Fi est disponible gratuitement dans l'ensemble des locaux. Vous pourrez profiter du parking privé sur réservation préalable. Le parc des expositions de Colmar se trouve à 3,3 km. L'aéroport international de Bâle-Mulhouse-Fribourg est accessible à 54 km. ",
           110.9914285714286,
           10
          ],
          [
           48.07093986,
           7.35386556,
           "Résidence Pierre & Vacances La Petite Venise",
           "https://www.booking.com/hotel/fr/la-petite-venise.fr.html?label=gen173nr-1FCAEoggI46AdIDVgEaBWIAQGYAQ24ARjIAQ_YAQHoAQH4AQKIAgGoAgS4AurW95IGwAIB0gIkMjlkODdiZjctMjdkZS00N2Q3LWFmYTUtNDZkZmNjZWQ1Zjli2AIF4AIB&sid=f56fc4691745a4ede86ce39f26498bb0&aid=304142&ucfs=1&arphpl=1&group_adults=2&req_adults=2&no_rooms=1&group_children=0&req_children=0&hpos=10&hapos=10&sr_order=popularity&srpvid=04dba0be0b0f026c&srepoch=1650322301&from=searchresults#hotelTmpl",
           "La résidence Pierre & Vacances La Petite Venise est située au cœur de Colmar, dans le quartier de la Petite Venise, à 650 mètres de la gare de la ville. Elle propose une piscine intérieure avec une pataugeoire et un jardin doté d'une aire de jeux.Décorés dans un style contemporain, tous les hébergements comprennent un coin salon et une télévision. La plupart possèdent un balcon ou une terrasse, sous réserve de disponibilité. Leur cuisine est équipée d'un four ou d'un micro-ondes, d'un lave-vaisselle et d'un réfrigérateur.Moyennant un supplément, vous pourrez déguster un petit-déjeuner chaque matin dans la salle à manger pourvue d'une terrasse. De plus, des produits de boulangerie seront livrés à votre logement si vous en passez la commande la veille au soir auprès de la réception.Vous séjournerez à 10 km d'Eguisheim. Enfin, l'aéroport de Bâle-Mulhouse-Fribourg se trouve à 56 km de la résidence Pierre & Vacances La Petite Venise. ",
           110.9914285714286,
           10
          ],
          [
           48.07473494,
           7.35711009,
           "Welcome Home",
           "https://www.booking.com/hotel/fr/welcome-home-colmar.fr.html?label=gen173nr-1FCAEoggI46AdIDVgEaBWIAQGYAQ24ARjIAQ_YAQHoAQH4AQKIAgGoAgS4AurW95IGwAIB0gIkMjlkODdiZjctMjdkZS00N2Q3LWFmYTUtNDZkZmNjZWQ1Zjli2AIF4AIB&sid=f56fc4691745a4ede86ce39f26498bb0&aid=304142&ucfs=1&arphpl=1&group_adults=2&req_adults=2&no_rooms=1&group_children=0&req_children=0&hpos=11&hapos=11&sr_order=popularity&srpvid=04dba0be0b0f026c&srepoch=1650322301&from=searchresults#hotelTmpl",
           "Vous pouvez bénéficier d'une réduction Genius dans l'établissement Welcome Home ! Connectez-vous pour économiser.Doté d'une connexion Wi-Fi gratuite et offrant une vue sur la ville, le Welcome Home est un hébergement situé dans un quartier central de Colmar, à seulement 1,9 km de la Maison des Têtes et à 300 mètres de la Petite Venise. Il se trouve à 500 mètres du marché couvert de Colmar et à 2 km de l'église dominicaine.Cet appartement comprend 2 chambres, une télévision par satellite à écran plat, un lave-linge et une salle de bains pourvue d'une douche. Sa cuisine est équipée d'un micro-ondes et d'un lave-vaisselle. Les serviettes et le linge de lit sont fournis.Vous séjournerez à 2,2 km de la collégiale Saint-Martin et à 4 km du parc des expositions Colmar Expo. L'aéroport le plus proche, celui de Bâle-Mulhouse-Fribourg, est situé à 58 km. ",
           110.9914285714286,
           10
          ],
          [
           48.07245883,
           7.34755754,
           "Grand Hôtel Bristol",
           "https://www.booking.com/hotel/fr/grandhotelbristol.fr.html?label=gen173nr-1FCAEoggI46AdIDVgEaBWIAQGYAQ24ARjIAQ_YAQHoAQH4AQKIAgGoAgS4AurW95IGwAIB0gIkMjlkODdiZjctMjdkZS00N2Q3LWFmYTUtNDZkZmNjZWQ1Zjli2AIF4AIB&sid=f56fc4691745a4ede86ce39f26498bb0&aid=304142&ucfs=1&arphpl=1&group_adults=2&req_adults=2&no_rooms=1&group_children=0&req_children=0&hpos=12&hapos=12&sr_order=popularity&srpvid=04dba0be0b0f026c&srepoch=1650322301&from_sustainable_property_sr=1&from=searchresults#hotelTmpl",
           "Vous pouvez bénéficier d'une réduction Genius dans l'établissement Grand Hôtel Bristol ! Connectez-vous pour économiser.Installé à Colmar, le Grand Hôtel Bristol se trouve en face de la gare historique, desservie par les TGV. Vous bénéficierez d'une salle de sport et d'un spa avec un sauna, un hammam et des soins de massages. L'établissement est à 1,1 km du marché de Noël de Colmar de la place des Dominicains.Les chambres climatisées affichent une décoration traditionnelle ou contemporaine, tout en comprenant une télévision par câble à écran plat, une connexion Wi-Fi gratuite, un plateau/bouilloire et une salle de bains privative. Toutes sont accessibles par un ascenseur.La brasserie L'Auberge prépare des plats alsaciens traditionnels accompagnés de vins régionaux. Un petit-déjeuner buffet est servi chaque matin.Le Grand Hôtel Bristol possède un parking souterrain privé au nombre de places limité, accessible sur réservation et moyennant des frais supplémentaires. Vous rejoindrez plusieurs parkings publics à quelques minutes de marche de l'établissement. ",
           110.9914285714286,
           10
          ],
          [
           48.07654046,
           7.34987363,
           "PAUL & PIA - Welcome Home Hotel",
           "https://www.booking.com/hotel/fr/kyriad-colmar-gare.fr.html?label=gen173nr-1FCAEoggI46AdIDVgEaBWIAQGYAQ24ARjIAQ_YAQHoAQH4AQKIAgGoAgS4AurW95IGwAIB0gIkMjlkODdiZjctMjdkZS00N2Q3LWFmYTUtNDZkZmNjZWQ1Zjli2AIF4AIB&sid=f56fc4691745a4ede86ce39f26498bb0&aid=304142&ucfs=1&arphpl=1&group_adults=2&req_adults=2&no_rooms=1&group_children=0&req_children=0&hpos=13&hapos=13&sr_order=popularity&srpvid=04dba0be0b0f026c&srepoch=1650322301&from_sustainable_property_sr=1&from=searchresults#hotelTmpl",
           "Vous pouvez bénéficier d'une réduction Genius dans l'établissement PAUL & PIA - Welcome Home Hotel ! Connectez-vous pour économiser.L’Hôtel Centre Gare est situé à 500 mètres de la gare et de la vieille ville de Colmar. La place des Dominicains, où se déroule le marché de Noël, se trouve à 700 mètres.Les chambres disposent d’une connexion Wi-Fi gratuite, d’une télévision par satellite à écran plat et d’une salle de bains privative.L’hôtel possède aussi un bar et une réception ouverte 24h/24.Le musée d’Unterlinden se trouve à 750 mètres, tandis que les villages médiévaux de la région des vins d’Alsace sont facilement accessibles. Enfin, l’aéroport de Colmar-Houssen est implanté à seulement 5 km de l’Hôtel Centre Gare. ",
           110.9914285714286,
           10
          ],
          [
           48.07057919,
           7.3682287,
           "La Maison de Vacances de Colmar et son jardin 4/5p",
           "https://www.booking.com/hotel/fr/la-maison-de-vacances-de-colmar-et-son-jardin-4-47-5p.fr.html?label=gen173nr-1FCAEoggI46AdIDVgEaBWIAQGYAQ24ARjIAQ_YAQHoAQH4AQKIAgGoAgS4AurW95IGwAIB0gIkMjlkODdiZjctMjdkZS00N2Q3LWFmYTUtNDZkZmNjZWQ1Zjli2AIF4AIB&sid=f56fc4691745a4ede86ce39f26498bb0&aid=304142&ucfs=1&arphpl=1&group_adults=2&req_adults=2&no_rooms=1&group_children=0&req_children=0&hpos=14&hapos=14&sr_order=popularity&srpvid=04dba0be0b0f026c&srepoch=1650322301&from=searchresults#hotelTmpl",
           "Située à Colmar, à moins de 1 km de la collégiale Saint-Martin, à 15 minutes à pied de la Maison des Têtes et à 3,5 km du parc des expositions Colmar Expo, La Maison de Vacances de Colmar et son jardin 4/5p propose un hébergement avec une terrasse et une connexion Wi-Fi gratuite. Vous pourrez pratiquer diverses activités dans les environs, telles que la randonnée, le ski et le ping-pong.Cette maison de vacances comprend 3 chambres, une salle de bains, du linge de lit, des serviettes, une télévision par câble à écran plat, un coin repas, une cuisine entièrement équipée et une terrasse avec vue sur le jardin.Vous pourrez faire du vélo dans les environs ou profiter du jardin.Vous séjournerez à proximité du marché couvert de Colmar, de la petite Venise et de l'église protestante Saint-Matthieu. L'aéroport de Bâle-Mulhouse-Fribourg, le plus proche, est implanté à 54 km. ",
           110.9914285714286,
           10
          ],
          [
           48.08745399,
           7.36068696,
           "Hotel Arc-En-Ciel Colmar Contact Hotel",
           "https://www.booking.com/hotel/fr/arc-en-ciel-hexagone.fr.html?label=gen173nr-1FCAEoggI46AdIDVgEaBWIAQGYAQ24ARjIAQ_YAQHoAQH4AQKIAgGoAgS4AurW95IGwAIB0gIkMjlkODdiZjctMjdkZS00N2Q3LWFmYTUtNDZkZmNjZWQ1Zjli2AIF4AIB&sid=f56fc4691745a4ede86ce39f26498bb0&aid=304142&ucfs=1&arphpl=1&group_adults=2&req_adults=2&no_rooms=1&group_children=0&req_children=0&hpos=15&hapos=15&sr_order=popularity&srpvid=04dba0be0b0f026c&srepoch=1650322301&from_sustainable_property_sr=1&from=searchresults#hotelTmpl",
           "L'Hotel Arc-En-Ciel Colmar Contact Hotel vous accueille dans un cadre verdoyant, à seulement 1 km du centre-ville de Colmar, de ses sites historiques et attractions.Toutes les chambres standard disposent d'une salle de bains privative moderne, d'une télévision ainsi que d'une connexion Wi-Fi gratuite par fibre optique. Des chambres communicantes sont également disponibles.Cet établissement constitue un pied-à-terre de choix pour explorer la Route des Vins, les villages pittoresques des environs et les parcs de loisirs. Vous pourrez également découvrir la gastronomie régionale et les vins locaux.L'hôtel propose également un parking privé gratuit, un hangar à vélos, une terrasse extérieure et une véranda où vous pourrez prendre votre petit-déjeuner ou profiter d'un moment de calme. ",
           110.9914285714286,
           10
          ],
          [
           48.07376803,
           7.35829376,
           "Le Colombier",
           "https://www.booking.com/hotel/fr/colombiercolmar.fr.html?label=gen173nr-1FCAEoggI46AdIDVgEaBWIAQGYAQ24ARjIAQ_YAQHoAQH4AQKIAgGoAgS4AurW95IGwAIB0gIkMjlkODdiZjctMjdkZS00N2Q3LWFmYTUtNDZkZmNjZWQ1Zjli2AIF4AIB&sid=f56fc4691745a4ede86ce39f26498bb0&aid=304142&ucfs=1&arphpl=1&group_adults=2&req_adults=2&no_rooms=1&group_children=0&req_children=0&hpos=16&hapos=16&sr_order=popularity&srpvid=04dba0be0b0f026c&srepoch=1650322301&from_sustainable_property_sr=1&from=searchresults#hotelTmpl",
           "Vous pouvez bénéficier d'une réduction Genius dans l'établissement Le Colombier ! Connectez-vous pour économiser.L'hôtel Le Colombier est situé dans le quartier de la Petite Venise, dans le centre-ville de Colmar. Le musée d'histoire naturelle de Colmar se trouve à 50 mètres et le musée Unterlinden à 1,1 km. Une connexion Wi-Fi est fournie gratuitement.Les chambres et les suites disposent de la climatisation, d'un minibar et d'une télévision par câble à écran plat. Leur salle de bains privative est pourvue d'une douche, d'articles de toilette gratuits, de chaussons et de peignoirs.Un petit-déjeuner buffet est servi tous les jours et la réception de l'hôtel Le Colombier est ouverte 24h/24. Vous pourrez vous détendre dans le bar ou dans le jardin.La gare de Colmar vous attend à 1 km. L'aéroport le plus proche est l'aéroport de Strasbourg, à 72 km. ",
           110.9914285714286,
           10
          ],
          [
           48.0810608,
           7.35717729,
           "Mercure Colmar Centre Unterlinden",
           "https://www.booking.com/hotel/fr/colmar-centre-unterlinden.fr.html?label=gen173nr-1FCAEoggI46AdIDVgEaBWIAQGYAQ24ARjIAQ_YAQHoAQH4AQKIAgGoAgS4AurW95IGwAIB0gIkMjlkODdiZjctMjdkZS00N2Q3LWFmYTUtNDZkZmNjZWQ1Zjli2AIF4AIB&sid=f56fc4691745a4ede86ce39f26498bb0&aid=304142&ucfs=1&arphpl=1&group_adults=2&req_adults=2&no_rooms=1&group_children=0&req_children=0&hpos=17&hapos=17&sr_order=popularity&srpvid=04dba0be0b0f026c&srepoch=1650322301&from_sustainable_property_sr=1&from=searchresults#hotelTmpl",
           "Installé à 2 minutes à pied du musée Unterlinden et à 13 minutes de marche de la petite Venise, dans le centre-ville de Colmar, le Mercure Colmar Centre Unterlinden propose des suites et chambres insonorisées et climatisées, équipées d'une télévision par satellite, ainsi que d'une connexion Wi-Fi gratuite.Chaque matin, le Mercure Colmar Centre Unterlinden prépare un petit-déjeuner buffet complet que vous pourrez déguster dans l'intimité de votre chambre. Le bar Les Cepages sert un grand choix de vins alsaciens et de collations.Vous pourrez vous détendre sur la terrasse extérieure et lire les journaux quotidiens fournis par le Mercure Colmar. La réception est ouverte 24h/24 et des services de blanchisserie sont dispensés.Le Mercure Colmar Centre Unterlinden dispose d'une salle de sport, d'un sauna et d'une douche sensorielle.L'établissement est à 2 km de la gare TGV de Colmar. Les vignobles d'Alsace et ses villages pittoresques se situent dans les environs du Mercure. Vous profiterez d'un parking privé couvert, accessible par un ascenseur. ",
           110.9914285714286,
           10
          ],
          [
           48.112478,
           7.36766875,
           "Hôtel Roi Soleil Colmar",
           "https://www.booking.com/hotel/fr/roi-soleil.fr.html?label=gen173nr-1FCAEoggI46AdIDVgEaBWIAQGYAQ24ARjIAQ_YAQHoAQH4AQKIAgGoAgS4AurW95IGwAIB0gIkMjlkODdiZjctMjdkZS00N2Q3LWFmYTUtNDZkZmNjZWQ1Zjli2AIF4AIB&sid=f56fc4691745a4ede86ce39f26498bb0&aid=304142&ucfs=1&arphpl=1&group_adults=2&req_adults=2&no_rooms=1&group_children=0&req_children=0&hpos=18&hapos=18&sr_order=popularity&srpvid=04dba0be0b0f026c&srepoch=1650322301&from_sustainable_property_sr=1&from=searchresults#hotelTmpl",
           "L'Hôtel Roi Soleil Colmar est installé dans le quartier de Colmar-Nord, à 5 km du centre-ville. Il comprend la climatisation, une connexion Wi-Fi gratuite et un petit-déjeuner buffet à volonté.Toutes les chambres insonorisées de l'Hôtel Roi Soleil Colmar incluent des équipements modernes, comme une télévision par câble à écran plat. Elles possèdent aussi une salle de bains privative.Vous pourrez profiter du jardin du Soleil Colmar.Le parking de l'Hôtel Roi Soleil est gratuit et sera pratique si vous souhaitez partir à la découverte de Colmar et du vignoble alsacien environnant avec votre voiture. ",
           110.9914285714286,
           10
          ],
          [
           48.08601523,
           7.35729933,
           "Kyriad Colmar Centre Unterlinden",
           "https://www.booking.com/hotel/fr/kyriad-colmar-cita-c-administrative.fr.html?label=gen173nr-1FCAEoggI46AdIDVgEaBWIAQGYAQ24ARjIAQ_YAQHoAQH4AQKIAgGoAgS4AurW95IGwAIB0gIkMjlkODdiZjctMjdkZS00N2Q3LWFmYTUtNDZkZmNjZWQ1Zjli2AIF4AIB&sid=f56fc4691745a4ede86ce39f26498bb0&aid=304142&ucfs=1&arphpl=1&group_adults=2&req_adults=2&no_rooms=1&group_children=0&req_children=0&hpos=19&hapos=19&sr_order=popularity&srpvid=04dba0be0b0f026c&srepoch=1650322301&from_sustainable_property_sr=1&from=searchresults#hotelTmpl",
           "Vous pouvez bénéficier d'une réduction Genius dans l'établissement Kyriad Colmar Centre Unterlinden ! Connectez-vous pour économiser.Situé à 650 mètres du centre-ville de Colmar, au cœur de l'Alsace, le Kyriad Colmar Centre Unterlinden propose une connexion Wi-Fi gratuite et un coin salon. Le parc des expositions est à seulement à 1 kmAffichant une décoration moderne, les chambres sont spacieuses. Elles comprennent toutes un plateau de courtoisie et une salle de bains privative équipée d'un sèche-cheveux.Cet établissement sert un petit-déjeuner buffet tous les matins. Des plateaux-repas sont disponibles sur demande.Le parking sur place est accessible gratuitement, sous réserve de disponibilité. La gare de Colmar se trouve à 2 km. Vous séjournerez à 1 heure de route de Strasbourg et à 3 km de l'aéroport de Colmar. ",
           110.9914285714286,
           10
          ],
          [
           48.07900192,
           7.35450824,
           "Suites Residences Spa",
           "https://www.booking.com/hotel/fr/suites-residences-spa.fr.html?label=gen173nr-1FCAEoggI46AdIDVgEaBWIAQGYAQ24ARjIAQ_YAQHoAQH4AQKIAgGoAgS4AurW95IGwAIB0gIkMjlkODdiZjctMjdkZS00N2Q3LWFmYTUtNDZkZmNjZWQ1Zjli2AIF4AIB&sid=f56fc4691745a4ede86ce39f26498bb0&aid=304142&ucfs=1&arphpl=1&group_adults=2&req_adults=2&no_rooms=1&group_children=0&req_children=0&hpos=20&hapos=20&sr_order=popularity&srpvid=04dba0be0b0f026c&srepoch=1650322301&from=searchresults#hotelTmpl",
           "Vous pouvez bénéficier d'une réduction Genius dans l'établissement Suites Residences Spa ! Connectez-vous pour économiser.Situé à 200 mètres de la Maison des Têtes, le Suites Residences Spa propose un spa et centre de bien-être, une terrasse et une réception ouverte 24h/24. La connexion Wi-Fi est gratuite.Tous les logements comprennent une télévision par satellite à écran plat, du matériel de repassage, une armoire et un coin salon avec un canapé. Leur cuisine est équipée d'un micro-ondes et d'un réfrigérateur. Leur salle de bains privative est pourvue d'une douche, d'un sèche-cheveux et d'articles de toilette gratuits.Un petit-déjeuner continental est servi tous les matins sur place.Lors de votre séjour au Suites Residences Spa, vous pourrez profiter d'un jacuzzi.Un service de location de voitures est assuré sur place. La région est prisée des amateurs de ski et de randonnée.Vous séjournerez à proximité de la collégiale Saint-Martin, du musée Unterlinden et du musée Bartholdi. L'aéroport le plus proche, celui de Bâle-Mulhouse-Fribourg, est situé à 59 km. Un service de navette aéroport peut être assuré moyennant des frais supplémentaires. ",
           110.9914285714286,
           10
          ],
          [
           48.04496277,
           7.30157845,
           "James Vignoble Hôtel - Eguisheim",
           "https://www.booking.com/hotel/fr/saint-hubert-eguisheim.fr.html?label=gen173nr-1FCAEoggI46AdIDVgEaBWIAQGYAQ24ARjIAQ_YAQHoAQH4AQKIAgGoAgS4AurW95IGwAIB0gIkMjlkODdiZjctMjdkZS00N2Q3LWFmYTUtNDZkZmNjZWQ1Zjli2AIF4AIB&sid=f56fc4691745a4ede86ce39f26498bb0&aid=304142&ucfs=1&arphpl=1&group_adults=2&req_adults=2&no_rooms=1&group_children=0&req_children=0&hpos=1&hapos=1&sr_order=popularity&srpvid=0336a0be791d0161&srepoch=1650322302&from=searchresults#hotelTmpl",
           "Vous pouvez bénéficier d'une réduction Genius dans l'établissement James Vignoble Hôtel - Eguisheim ! Connectez-vous pour économiser.Le James Vignoble Hôtel - Eguisheim vous accueille en plein cœur du vignoble d'Eguisheim. Il offre une vue spectaculaire sur la Forêt-Noire.L'établissement est équipé de deux piscines dont une extérieure chauffée à 29°C (Fermée en hiver, ouverte selon les conditions climatiques et les saisons). L’espace détente est ouvert et dispose d'une piscine couverte chauffée à 29°C. Il comprend également un bain à remous et un sauna panoramique. L'accès est gratuit pour les clients de l'hôtel. Des peignoirs, des serviettes et des tongs sont proposés à la réception, moyennant des frais supplémentaires.Les 31 chambres meublées sont pourvues d’une salle de bains privative. Chaque chambre est équipée d'une télévision, d'un téléphone, de la climatisation et d'un minibar.Un petit-déjeuner buffet, composé de mets sucrés et salés, est servi tous les matins. Le petit-déjeuner doit être réservé à l’arrivée. La connexion Wi-Fi est gratuite dans l’ensemble des locaux.Le stationnement est payant sur place. Vous trouverez plusieurs restaurants à moins de 5 minutes de marche. Le marché de Noël d’Eguisheim se trouve à 500 mètres. ",
           111.05714285714286,
           11
          ],
          [
           48.0461134,
           7.3051632,
           "Fleur de Vigne",
           "https://www.booking.com/hotel/fr/fleur-de-vignes-eguisheim.fr.html?label=gen173nr-1FCAEoggI46AdIDVgEaBWIAQGYAQ24ARjIAQ_YAQHoAQH4AQKIAgGoAgS4AurW95IGwAIB0gIkMjlkODdiZjctMjdkZS00N2Q3LWFmYTUtNDZkZmNjZWQ1Zjli2AIF4AIB&sid=f56fc4691745a4ede86ce39f26498bb0&aid=304142&ucfs=1&arphpl=1&group_adults=2&req_adults=2&no_rooms=1&group_children=0&req_children=0&hpos=2&hapos=2&sr_order=popularity&srpvid=0336a0be791d0161&srepoch=1650322302&from=searchresults#hotelTmpl",
           "Vous pouvez bénéficier d'une réduction Genius dans l'établissement Fleur de Vigne ! Connectez-vous pour économiser.Situé à Eguisheim, à moins de 800 mètres du marché de Noël, le Fleur de Vigne propose des hébergements avec une connexion Wi-Fi gratuite, la climatisation et un jardin. Il offre une vue sur le jardin et la montagne.Cet appartement comprend une chambre, une télévision par satellite à écran plat, un lave-linge et une salle de bains pourvue d'une douche. Sa cuisine est équipée d'un micro-ondes et d'un lave-vaisselle. Les serviettes et le linge de lit sont fournis.L'aéroport de Bâle-Mulhouse-Fribourg, le plus proche, est implanté à 58 km. ",
           111.05714285714286,
           11
          ],
          [
           48.04170911,
           7.3056928,
           "GITE LE COQ ROUGE",
           "https://www.booking.com/hotel/fr/gite-le-coq-rouge.fr.html?label=gen173nr-1FCAEoggI46AdIDVgEaBWIAQGYAQ24ARjIAQ_YAQHoAQH4AQKIAgGoAgS4AurW95IGwAIB0gIkMjlkODdiZjctMjdkZS00N2Q3LWFmYTUtNDZkZmNjZWQ1Zjli2AIF4AIB&sid=f56fc4691745a4ede86ce39f26498bb0&aid=304142&ucfs=1&arphpl=1&group_adults=2&req_adults=2&no_rooms=1&group_children=0&req_children=0&hpos=3&hapos=3&sr_order=popularity&srpvid=0336a0be791d0161&srepoch=1650322302&from=searchresults#hotelTmpl",
           "Doté d'un jardin, d'un barbecue et d'une terrasse, le GITE LE COQ ROUGE propose un hébergement avec une connexion Wi-Fi gratuite et une vue sur la ville à Eguisheim.Cette maison de vacances comprend 2 chambres, une salle de bains, du linge de lit, des serviettes, une télévision par satellite à écran plat, un coin repas, une cuisine entièrement équipée et une terrasse avec vue sur le jardin.Vous pourrez faire du vélo dans les environs.Le marché de Noël d'Eguisheim se trouve à 300 mètres. L'aéroport de Bâle, le plus proche, est implanté à 57 km. ",
           111.05714285714286,
           11
          ],
          [
           48.04327133,
           7.30412185,
           "Hotel Colmar Vignes Eguisheim",
           "https://www.booking.com/hotel/fr/auberge-des-comtes.fr.html?label=gen173nr-1FCAEoggI46AdIDVgEaBWIAQGYAQ24ARjIAQ_YAQHoAQH4AQKIAgGoAgS4AurW95IGwAIB0gIkMjlkODdiZjctMjdkZS00N2Q3LWFmYTUtNDZkZmNjZWQ1Zjli2AIF4AIB&sid=f56fc4691745a4ede86ce39f26498bb0&aid=304142&ucfs=1&arphpl=1&group_adults=2&req_adults=2&no_rooms=1&group_children=0&req_children=0&hpos=4&hapos=4&sr_order=popularity&srpvid=0336a0be791d0161&srepoch=1650322302&from_sustainable_property_sr=1&from=searchresults#hotelTmpl",
           "Situé à 200 mètres du centre-ville d'Eguishein et à 10 minutes en voiture de Colmar, l'Hotel Colmar Vignes Eguisheim met gratuitement à votre disposition une connexion Wi-Fi ainsi qu'un parking privé.Les chambres sont équipées d'une télévision. Certaines sont dotées d'un balcon privé.Chaque matin, un petit-déjeuner buffet est servi.La route des vins d'Alsace et les Vosges sont facilement accessibles depuis l'Hotel Colmar Vignes Eguisheim. ",
           111.05714285714286,
           11
          ],
          [
           48.04223841,
           7.30916776,
           "Hôtel L'Auberge Alsacienne",
           "https://www.booking.com/hotel/fr/ha-tel-restaurant-l-auberge-alsacienne.fr.html?label=gen173nr-1FCAEoggI46AdIDVgEaBWIAQGYAQ24ARjIAQ_YAQHoAQH4AQKIAgGoAgS4AurW95IGwAIB0gIkMjlkODdiZjctMjdkZS00N2Q3LWFmYTUtNDZkZmNjZWQ1Zjli2AIF4AIB&sid=f56fc4691745a4ede86ce39f26498bb0&aid=304142&ucfs=1&arphpl=1&group_adults=2&req_adults=2&no_rooms=1&group_children=0&req_children=0&hpos=5&hapos=5&sr_order=popularity&srpvid=0336a0be791d0161&srepoch=1650322302&from=searchresults#hotelTmpl",
           "Vous pouvez bénéficier d'une réduction Genius dans l'établissement Hôtel L'Auberge Alsacienne ! Connectez-vous pour économiser.Situé dans le village d'Eguisheim, en Alsace, l'Hôtel L'Auberge Alsacienne propose des chambres modernes avec salle de bains privative et un restaurant traditionnel. La connexion Wi-Fi est gratuite dans l'ensemble de l'hôtel.Les chambres insonorisées comprennent une télévision par satellite à écran plat. Un sèche-cheveux et des articles de toilette gratuits sont également fournis.Un petit-déjeuner buffet vous sera servi tous les matins dans la salle à manger. Le restaurant de l'hôtel propose une cuisine typiquement alsacienne avec des menus à la carte.Le centre d'Eguisheim se trouve à seulement 300 mètres et la gare SNCF de Colmar est à 6 km. La frontière allemande est très proche et Fribourg est accessible en 1 heure de route. ",
           111.05714285714286,
           11
          ],
          [
           48.0417829,
           7.3065467,
           "La Grange de Madeleine",
           "https://www.booking.com/hotel/fr/la-grange-de-madeleine.fr.html?label=gen173nr-1FCAEoggI46AdIDVgEaBWIAQGYAQ24ARjIAQ_YAQHoAQH4AQKIAgGoAgS4AurW95IGwAIB0gIkMjlkODdiZjctMjdkZS00N2Q3LWFmYTUtNDZkZmNjZWQ1Zjli2AIF4AIB&sid=f56fc4691745a4ede86ce39f26498bb0&aid=304142&ucfs=1&arphpl=1&group_adults=2&req_adults=2&no_rooms=1&group_children=0&req_children=0&hpos=6&hapos=6&sr_order=popularity&srpvid=0336a0be791d0161&srepoch=1650322302&from=searchresults#hotelTmpl",
           "La Grange de Madeleine est située à Eguisheim. Cet hébergement climatisé se trouve à moins de 1 km du marché de Noël d'Eguisheim. Vous bénéficierez gratuitement d'une connexion Wi-Fi et d'un parking privé sur place.Cet appartement comprend 2 chambres, une télévision, un lave-linge et une salle de bains pourvue d'une douche. Sa cuisine est équipée d'un lave-vaisselle et d'un micro-ondes. Les serviettes et le linge de lit sont fournis.Vous pourrez faire du ski dans les environs et profiter d'un point de vente de forfaits de ski.L'aéroport de Bâle, le plus proche, est implanté à 58 km. ",
           111.05714285714286,
           11
          ],
          [
           48.04228862,
           7.3094514,
           "Brit Hotel Confort La Ferme du Pape",
           "https://www.booking.com/hotel/fr/hostellerie-du-pape.fr.html?label=gen173nr-1FCAEoggI46AdIDVgEaBWIAQGYAQ24ARjIAQ_YAQHoAQH4AQKIAgGoAgS4AurW95IGwAIB0gIkMjlkODdiZjctMjdkZS00N2Q3LWFmYTUtNDZkZmNjZWQ1Zjli2AIF4AIB&sid=f56fc4691745a4ede86ce39f26498bb0&aid=304142&ucfs=1&arphpl=1&group_adults=2&req_adults=2&no_rooms=1&group_children=0&req_children=0&hpos=7&hapos=7&sr_order=popularity&srpvid=0336a0be791d0161&srepoch=1650322302&from=searchresults#hotelTmpl",
           "Vous pouvez bénéficier d'une réduction Genius dans l'établissement Brit Hotel Confort La Ferme du Pape ! Connectez-vous pour économiser.Le Brit Hotel Confort La Ferme du Pape vous accueille à l'entrée d'un charmant village au cœur des vignobles, dans une région gastronomique, à 8 km de Colmar.Les chambres à la décoration traditionnelle du Brit Hotel Confort La Ferme du Pape sont dotées d'installations modernes, telles qu'une connexion Wi-Fi gratuite.Le Brit Hotel Confort La Ferme du Pape présente une terrasse ombragée, où vous pourrez savourer des spécialités locales accompagnées de vins de la région.L'établissement comporte un ascenseur, un parking privé gratuit et des installations pour les personnes à mobilité réduite. Le parcours de golf et les courts de tennis se trouvent à 5 km. Vous rejoindrez la piscine de la ville à 6 km. ",
           111.05714285714286,
           11
          ],
          [
           48.04340695,
           7.30760872,
           "Gîte Le Hissala",
           "https://www.booking.com/hotel/fr/ga-r-te-le-hissala.fr.html?label=gen173nr-1FCAEoggI46AdIDVgEaBWIAQGYAQ24ARjIAQ_YAQHoAQH4AQKIAgGoAgS4AurW95IGwAIB0gIkMjlkODdiZjctMjdkZS00N2Q3LWFmYTUtNDZkZmNjZWQ1Zjli2AIF4AIB&sid=f56fc4691745a4ede86ce39f26498bb0&aid=304142&ucfs=1&arphpl=1&group_adults=2&req_adults=2&no_rooms=1&group_children=0&req_children=0&hpos=8&hapos=8&sr_order=popularity&srpvid=0336a0be791d0161&srepoch=1650322302&from=searchresults#hotelTmpl",
           "Le Gîte Le Hissala se trouve à Eguisheim, à 5 minutes de marche du centre-ville. Cette maison de vacances de style traditionnel dispose de poutres apparentes, d'une cheminée, de carrelage et de la climatisation. Lors de votre séjour, vous pourrez profiter d’un jardin et d’un barbecue.Offrant une vue sur la ville, ce logement comprend 2 chambres, une télévision et une connexion Wi-Fi gratuite. Sa salle de bains privative est pourvue d’une douche à l’italienne et de toilettes séparées avec un lavabo.Sa cuisine est équipée d’un lave-vaisselle, d’une machine à café, d’un lave-linge et d’un micro-ondes. Cet hébergement possède par ailleurs un barbecue.Vous séjournerez à 13 minutes de route du centre-ville de Colmar et à 40 km de Mulhouse. Un parking public est accessible en 7 minutes à pied. ",
           111.05714285714286,
           11
          ],
          [
           48.04215781,
           7.30737026,
           "Auberge du Rempart",
           "https://www.booking.com/hotel/fr/auberge-du-rempart.fr.html?label=gen173nr-1FCAEoggI46AdIDVgEaBWIAQGYAQ24ARjIAQ_YAQHoAQH4AQKIAgGoAgS4AurW95IGwAIB0gIkMjlkODdiZjctMjdkZS00N2Q3LWFmYTUtNDZkZmNjZWQ1Zjli2AIF4AIB&sid=f56fc4691745a4ede86ce39f26498bb0&aid=304142&ucfs=1&arphpl=1&group_adults=2&req_adults=2&no_rooms=1&group_children=0&req_children=0&hpos=9&hapos=9&sr_order=popularity&srpvid=0336a0be791d0161&srepoch=1650322302&from_sustainable_property_sr=1&from=searchresults#hotelTmpl",
           "Offrant une vue sur la ville, l'établissement à la gestion familiale Auberge du Rempart est situé dans le centre historique d'Eguisheim, en Alsace, à 100 mètres du marché de Noël de la ville.Les chambres comportent une télévision à écran plat et une salle de bains privative pourvue d'un sèche-cheveux ainsi que d'une douche ou d'une baignoire.Un petit-déjeuner buffet est servi chaque matin moyennant des frais supplémentaires. Vous pourrez prendre vos repas au restaurant ou sur la terrasse par beau temps.L'aéroport international de Bâle-Mulhouse-Fribourg se trouve à 52 km. ",
           111.05714285714286,
           11
          ],
          [
           48.04349458,
           7.30439007,
           "Hôtel Restaurant À la ville de Nancy",
           "https://www.booking.com/hotel/fr/ha-tel-restaurant-a-la-ville-de-nancy.fr.html?label=gen173nr-1FCAEoggI46AdIDVgEaBWIAQGYAQ24ARjIAQ_YAQHoAQH4AQKIAgGoAgS4AurW95IGwAIB0gIkMjlkODdiZjctMjdkZS00N2Q3LWFmYTUtNDZkZmNjZWQ1Zjli2AIF4AIB&sid=f56fc4691745a4ede86ce39f26498bb0&aid=304142&ucfs=1&arphpl=1&group_adults=2&req_adults=2&no_rooms=1&group_children=0&req_children=0&hpos=10&hapos=10&sr_order=popularity&srpvid=0336a0be791d0161&srepoch=1650322302&from=searchresults#hotelTmpl",
           "Situé dans le village alsacien typique d'Eguisheim, cet hôtel occupe un bâtiment à colombages et dispose d'un restaurant servant une cuisine régionale traditionnelle.Décorées simplement, les chambres de l'Hôtel Restaurant À la ville de Nancy disposent d'une télévision à écran plat et d'une salle de bains privative pourvue d'un sèche-cheveux, d'articles de toilette gratuits et d'une baignoire ou d'une douche. Certaines comprennent un coin salon.Un petit-déjeuner continental est servi tous les matins. Au restaurant, vous pourrez savourer des plats alsaciens faits maison tels que de la choucroute et du baeckeoffe accompagnés de vins de la région.L'Hôtel Restaurant À la ville de Nancy est situé à 7,5 km de Colmar et à 5 minutes en voiture de l'abbaye de Marbach datant du IVe siècle. La frontière allemande est accessible en 40 minutes de route de l'hôtel. ",
           111.05714285714286,
           11
          ],
          [
           48.04502734,
           7.31185466,
           "Résidence Pierre & Vacances Le Clos d'Eguisheim",
           "https://www.booking.com/hotel/fr/residence-pierre-et-vacances-le-clos-d-eguisheim.fr.html?label=gen173nr-1FCAEoggI46AdIDVgEaBWIAQGYAQ24ARjIAQ_YAQHoAQH4AQKIAgGoAgS4AurW95IGwAIB0gIkMjlkODdiZjctMjdkZS00N2Q3LWFmYTUtNDZkZmNjZWQ1Zjli2AIF4AIB&sid=f56fc4691745a4ede86ce39f26498bb0&aid=304142&ucfs=1&arphpl=1&group_adults=2&req_adults=2&no_rooms=1&group_children=0&req_children=0&hpos=11&hapos=11&sr_order=popularity&srpvid=0336a0be791d0161&srepoch=1650322302&from_sustainable_property_sr=1&from=searchresults#hotelTmpl",
           "La Résidence Pierre & Vacances Le Clos d’Eguisheim est située à 700 mètres du centre du village d’Eguisheim en Alsace, le long de la route des vins. La résidence propose une piscine intérieure chauffée et des appartements entièrement équipés.Dotés d’une terrasse ou d’une loggia pourvue de mobilier de jardin, les appartements entièrement meublés comprennent tous une pièce à vivre séparée, ainsi qu’une salle de bains privative. Leur cuisine est équipée de plaques de cuisson vitrocéramique, d’un réfrigérateur et d’une cafetière. Une connexion Wi-Fi est disponible moyennant des frais supplémentaires. Un service de boulangerie est assuré moyennant des frais supplémentaires.La Résidence Pierre & Vacances donne sur la colline des Trois-Châteaux. L’établissement se trouve à seulement 6,5 km du centre-ville de Colmar et à 30 km de la frontière allemande. Le parking est gratuit et un service de prêt de livres ou de jeux de société est assuré.L’établissement est détenteur du label Clé Verte. ",
           111.05714285714286,
           11
          ],
          [
           48.04242043,
           7.30631925,
           "L'Hostellerie du Château",
           "https://www.booking.com/hotel/fr/hostellerie-du-chateau-eguisheim.fr.html?label=gen173nr-1FCAEoggI46AdIDVgEaBWIAQGYAQ24ARjIAQ_YAQHoAQH4AQKIAgGoAgS4AurW95IGwAIB0gIkMjlkODdiZjctMjdkZS00N2Q3LWFmYTUtNDZkZmNjZWQ1Zjli2AIF4AIB&sid=f56fc4691745a4ede86ce39f26498bb0&aid=304142&ucfs=1&arphpl=1&group_adults=2&req_adults=2&no_rooms=1&group_children=0&req_children=0&hpos=12&hapos=12&sr_order=popularity&srpvid=0336a0be791d0161&srepoch=1650322302&from=searchresults#hotelTmpl",
           "L'établissement L'Hostellerie du Château est situé au cœur du village médiéval d'Eguisheim, sur la route des vins d'Alsace. Il propose des chambres décorées individuellement et dotées d'une connexion Wi-Fi gratuite par fibre optique.Toutes les chambres sont équipées d'une télévision par satellite et d'un minibar. Leur salle de bains privative carrelée est pourvue d'une baignoire.Chaque matin, vous dégusterez un petit-déjeuner buffet continental servi dans la salle à manger.Vous séjournerez à 6 km du centre-ville de Colmar et à 87 km de l'aéroport de Strasbourg. Enfin, vous pourrez visiter les 3 châteaux du village, accessibles à quelques minutes à pied de L'Hostellerie du Château. ",
           111.05714285714286,
           11
          ],
          [
           48.042963,
           7.307216,
           "Les chambres du domaine",
           "https://www.booking.com/hotel/fr/les-chambres-du-domaine.fr.html?label=gen173nr-1FCAEoggI46AdIDVgEaBWIAQGYAQ24ARjIAQ_YAQHoAQH4AQKIAgGoAgS4AurW95IGwAIB0gIkMjlkODdiZjctMjdkZS00N2Q3LWFmYTUtNDZkZmNjZWQ1Zjli2AIF4AIB&sid=f56fc4691745a4ede86ce39f26498bb0&aid=304142&ucfs=1&arphpl=1&group_adults=2&req_adults=2&no_rooms=1&group_children=0&req_children=0&hpos=13&hapos=13&sr_order=popularity&srpvid=0336a0be791d0161&srepoch=1650322302&from=searchresults#hotelTmpl",
           "Situé à Eguisheim, en Alsace, avec le marché de Noël d'Eguisheim Situé à proximité, l'établissement Les chambres du domaine propose gratuitement une connexion Wi-Fi et un parking privé.Tous les logements disposent de la climatisation et d'une télévision à écran plat. Un grille-pain et une bouilloire sont également fournis.Ce Bed & Breakfast sert un petit-déjeuner à la carte.Vous pourrez profiter d'une terrasse sur place et faire de la randonnée dans les environs.L'aéroport de Bâle-Mulhouse-Fribourg, le plus proche, est implanté à 57 km. ",
           111.05714285714286,
           11
          ],
          [
           48.042875,
           7.30672,
           "Gîte au château fleuri",
           "https://www.booking.com/hotel/fr/gite-au-chateau-fleuri.fr.html?label=gen173nr-1FCAEoggI46AdIDVgEaBWIAQGYAQ24ARjIAQ_YAQHoAQH4AQKIAgGoAgS4AurW95IGwAIB0gIkMjlkODdiZjctMjdkZS00N2Q3LWFmYTUtNDZkZmNjZWQ1Zjli2AIF4AIB&sid=f56fc4691745a4ede86ce39f26498bb0&aid=304142&ucfs=1&arphpl=1&group_adults=2&req_adults=2&no_rooms=1&group_children=0&req_children=0&hpos=14&hapos=14&sr_order=popularity&srpvid=0336a0be791d0161&srepoch=1650322302&from=searchresults#hotelTmpl",
           "Situé à Eguisheim, en Alsace, à proximité du marché de Noël, le Gîte au château fleuri propose des hébergements avec connexion Wi-Fi et parking privé gratuits.Tous les logements comprennent une télévision par satellite à écran plat, du matériel de repassage, une armoire et un coin salon avec un canapé. Leur cuisine est équipée d'un micro-ondes et d'un réfrigérateur. Leur salle de bains privative est pourvue d'une douche, d'un sèche-cheveux et d'articles de toilette gratuits.Le restaurant sur place sert une cuisine locale.L'aéroport le plus proche, celui de Bâle-Mulhouse-Fribourg, est situé à 58 km. ",
           111.05714285714286,
           11
          ],
          [
           48.04172203,
           7.3056037,
           "La Maison du Rempart",
           "https://www.booking.com/hotel/fr/la-maison-du-rempart-eguisheim1.fr.html?label=gen173nr-1FCAEoggI46AdIDVgEaBWIAQGYAQ24ARjIAQ_YAQHoAQH4AQKIAgGoAgS4AurW95IGwAIB0gIkMjlkODdiZjctMjdkZS00N2Q3LWFmYTUtNDZkZmNjZWQ1Zjli2AIF4AIB&sid=f56fc4691745a4ede86ce39f26498bb0&aid=304142&ucfs=1&arphpl=1&group_adults=2&req_adults=2&no_rooms=1&group_children=0&req_children=0&hpos=15&hapos=15&sr_order=popularity&srpvid=0336a0be791d0161&srepoch=1650322302&from_sustainable_property_sr=1&from=searchresults#hotelTmpl",
           "Située à Eguisheim, à moins de 100 mètres du marché de Noël, La Maison du Rempart propose des hébergements avec une connexion Wi-Fi gratuite, la climatisation et un jardin.L'appartement comprend 2 chambres, 3 salles de bains, du linge de lit, des serviettes, une télévision par câble à écran plat, un coin repas, une cuisine entièrement équipée et une terrasse avec vue sur le jardin.Vous pourrez profiter d'une terrasse.L'aéroport de Bâle, le plus proche, est implanté à 52 km. ",
           111.05714285714286,
           11
          ],
          [
           48.04184688,
           7.30553499,
           "Les Epicuriens du Rempart",
           "https://www.booking.com/hotel/fr/maison-du-rempart-eguisheim.fr.html?label=gen173nr-1FCAEoggI46AdIDVgEaBWIAQGYAQ24ARjIAQ_YAQHoAQH4AQKIAgGoAgS4AurW95IGwAIB0gIkMjlkODdiZjctMjdkZS00N2Q3LWFmYTUtNDZkZmNjZWQ1Zjli2AIF4AIB&sid=f56fc4691745a4ede86ce39f26498bb0&aid=304142&ucfs=1&arphpl=1&group_adults=2&req_adults=2&no_rooms=1&group_children=0&req_children=0&hpos=16&hapos=16&sr_order=popularity&srpvid=0336a0be791d0161&srepoch=1650322302&from_sustainable_property_sr=1&from=searchresults#hotelTmpl",
           "Doté d'une connexion Wi-Fi gratuite et offrant une vue sur la ville, l'établissement Les Epicuriens du Rempart propose des hébergements à Eguisheim, à seulement 100 mètres du marché de Noël.Cet appartement comprend 3 chambres, une télévision par satellite à écran plat, une salle de bains pourvue d'une douche ainsi qu'une cuisine équipée avec un micro-ondes et un réfrigérateur. Les serviettes et le linge de lit sont fournis.L'aéroport de Bâle-Mulhouse-Fribourg, le plus proche, est implanté à 52 km. ",
           111.05714285714286,
           11
          ],
          [
           48.043006,
           7.3043162,
           "Au pied des remparts à Eguisheim",
           "https://www.booking.com/hotel/fr/elsass-design-vintage.fr.html?label=gen173nr-1FCAEoggI46AdIDVgEaBWIAQGYAQ24ARjIAQ_YAQHoAQH4AQKIAgGoAgS4AurW95IGwAIB0gIkMjlkODdiZjctMjdkZS00N2Q3LWFmYTUtNDZkZmNjZWQ1Zjli2AIF4AIB&sid=f56fc4691745a4ede86ce39f26498bb0&aid=304142&ucfs=1&arphpl=1&group_adults=2&req_adults=2&no_rooms=1&group_children=0&req_children=0&hpos=17&hapos=17&sr_order=popularity&srpvid=0336a0be791d0161&srepoch=1650322302&from=searchresults#hotelTmpl",
           "Vous pouvez bénéficier d'une réduction Genius dans l'établissement Au pied des remparts à Eguisheim ! Connectez-vous pour économiser.Doté d'une connexion Wi-Fi gratuite et offrant une vue sur la ville, l'établissement Au pied des remparts à Eguisheim propose des hébergements à Eguisheim, à seulement 600 mètres du marché de Noël.Doté d'un lecteur DVD, l'appartement comprend 2 chambres, un salon, un coin repas et une salle de bains pourvue d'une douche. Sa cuisine est équipée d'un micro-ondes, d'un réfrigérateur et d'un four. Les serviettes et le linge de lit sont fournis.La région est prisée pour pratiquer la randonnée, le ski et le vélo.L'aéroport de Bâle-Mulhouse-Fribourg, le plus proche, est implanté à 58 km. ",
           111.05714285714286,
           11
          ],
          [
           48.041599,
           7.306161,
           "notre maison à Eguisheim",
           "https://www.booking.com/hotel/fr/notre-maison-a-eguisheim.fr.html?label=gen173nr-1FCAEoggI46AdIDVgEaBWIAQGYAQ24ARjIAQ_YAQHoAQH4AQKIAgGoAgS4AurW95IGwAIB0gIkMjlkODdiZjctMjdkZS00N2Q3LWFmYTUtNDZkZmNjZWQ1Zjli2AIF4AIB&sid=f56fc4691745a4ede86ce39f26498bb0&aid=304142&ucfs=1&arphpl=1&group_adults=2&req_adults=2&no_rooms=1&group_children=0&req_children=0&hpos=18&hapos=18&sr_order=popularity&srpvid=0336a0be791d0161&srepoch=1650322302&from=searchresults#hotelTmpl",
           "Situé à Eguisheim, à moins de 1 km du marché de Noël, l'hébergement notre maison à Eguisheim offre une vue sur la ville. Cette maison de vacances propose gratuitement un parking privé, une connexion Wi-Fi et une réception ouverte 24h/24.Cette maison de vacances comprend 3 chambres, 2 salles de bains, du linge de lit, des serviettes, une télévision par satellite à écran plat, un coin repas, une cuisine entièrement équipée et une terrasse avec vue sur le jardin. Pour plus de commodité, l'établissement peut fournir des serviettes et du linge de lit moyennant des frais supplémentaires.Lors de votre séjour, vous pourrez profiter d'un jardin avec barbecue et faire du ski dans les environs.L'aéroport de Bâle-Mulhouse-Fribourg, le plus proche, est implanté à 58 km. ",
           111.05714285714286,
           11
          ],
          [
           48.0437864,
           7.3057051,
           "Gîte de charme sur les remparts",
           "https://www.booking.com/hotel/fr/gite-de-charme-sur-les-remparts.fr.html?label=gen173nr-1FCAEoggI46AdIDVgEaBWIAQGYAQ24ARjIAQ_YAQHoAQH4AQKIAgGoAgS4AurW95IGwAIB0gIkMjlkODdiZjctMjdkZS00N2Q3LWFmYTUtNDZkZmNjZWQ1Zjli2AIF4AIB&sid=f56fc4691745a4ede86ce39f26498bb0&aid=304142&ucfs=1&arphpl=1&group_adults=2&req_adults=2&no_rooms=1&group_children=0&req_children=0&hpos=19&hapos=19&sr_order=popularity&srpvid=0336a0be791d0161&srepoch=1650322302&from=searchresults#hotelTmpl",
           "Le Gîte de charme sur les remparts est situé à Eguisheim. Situé à 400 mètres du marché de Noël d'Eguisheim, il propose une connexion Wi-Fi gratuite et une réception ouverte 24h/24.Doté d'un lecteur DVD, l'appartement comprend un salon, un coin repas, une chambre et une salle de bains pourvue d'une baignoire. Sa cuisine est équipée d'un micro-ondes, d'un réfrigérateur et d'un four. Il dispose également d'une télévision par satellite à écran plat et d'un lecteur CD.Un service de location de vélos est assuré sur place pour vous permettre de partir en randonnée dans les environs.L'aéroport le plus proche, celui de Bâle-Mulhouse-Fribourg, est situé à 57 km. ",
           111.05714285714286,
           11
          ],
          [
           48.04299853,
           7.30448939,
           "La Légende des 2 Pierres",
           "https://www.booking.com/hotel/fr/la-legende-des-2-pierres.fr.html?label=gen173nr-1FCAEoggI46AdIDVgEaBWIAQGYAQ24ARjIAQ_YAQHoAQH4AQKIAgGoAgS4AurW95IGwAIB0gIkMjlkODdiZjctMjdkZS00N2Q3LWFmYTUtNDZkZmNjZWQ1Zjli2AIF4AIB&sid=f56fc4691745a4ede86ce39f26498bb0&aid=304142&ucfs=1&arphpl=1&group_adults=2&req_adults=2&no_rooms=1&group_children=0&req_children=0&hpos=20&hapos=20&sr_order=popularity&srpvid=0336a0be791d0161&srepoch=1650322302&from=searchresults#hotelTmpl",
           "Vous pouvez bénéficier d'une réduction Genius dans l'établissement La Légende des 2 Pierres ! Connectez-vous pour économiser.Situé dans le pittoresque village d'Eguisheim, l'appartement indépendant La Légende des 2 Pierres offre une vue sur la montagne. Un local à skis est à votre disposition.Ce logement climatisé est doté d'un coin salon avec une télévision à écran plat, d'un lave-linge et d'une salle de bains munie d'une douche. La kitchenette est équipée d'un four, d'un four micro-ondes et d'un réfrigérateur.Une connexion Wi-Fi est accessible gratuitement. Des épiceries et des restaurants vous attendent à quelques pas. Dans les environs, vous pourrez pratiquer la randonnée à pied et à vélo. Colmar se trouve à seulement 15 minutes en voiture. ",
           111.05714285714286,
           11
          ],
          [
           42.52538159,
           3.08256391,
           "Le Mas des Citronniers",
           "https://www.booking.com/hotel/fr/lesmasdescitronniers.fr.html?label=gen173nr-1FCAEoggI46AdIDVgEaBWIAQGYAQ24ARjIAQ_YAQHoAQH4AQKIAgGoAgS4AurW95IGwAIB0gIkMjlkODdiZjctMjdkZS00N2Q3LWFmYTUtNDZkZmNjZWQ1Zjli2AIF4AIB&sid=f56fc4691745a4ede86ce39f26498bb0&aid=304142&ucfs=1&arphpl=1&group_adults=2&req_adults=2&no_rooms=1&group_children=0&req_children=0&hpos=1&hapos=1&sr_order=popularity&srpvid=65fba0c0cc70014c&srepoch=1650322306&from_beach_sr=1&from=searchresults#hotelTmpl",
           "Vous pouvez bénéficier d'une réduction Genius dans l'établissement Le Mas des Citronniers ! Connectez-vous pour économiser.Cet établissement est à 3 minutes à pied de la plage. Situé dans le centre de Collioure, à seulement 250 mètres de la plage, le Mas des Citronniers propose des chambres climatisées dans un bâtiment traditionnel catalan. Une connexion Wi-Fi est fournie gratuitement dans tout l'établissement.Les chambres de l'hôtel Le Mas des Citronniers sont décorées dans des tons vifs. Chacune est pourvue d'une télévision à écran plat, d'un bureau, d'un petit réfrigérateur et d'une salle de bains privative. Certaines comprennent une terrasse avec vue sur le jardin.Un petit-déjeuner buffet est servi chaque matin dans la salle de l'hôtel prévue à cet effet. Vous aurez également la possibilité d'apprécier un petit-déjeuner complet servi en chambre sur demande. Veuillez noter que le petit-déjeuner est en supplément.La réception de l'hôtel Le Mas des Citronniers est ouverte 24h/24. Vous disposerez de journaux gratuits.La gare de Collioure est implantée à 550 mètres de l'établissement, tandis que le château royal est à 300 mètres. ",
           116.28,
           27
          ],
          [
           42.52534777,
           3.09032446,
           "Les Roches Brunes",
           "https://www.booking.com/hotel/fr/les-roches-brunes-collioure.fr.html?label=gen173nr-1FCAEoggI46AdIDVgEaBWIAQGYAQ24ARjIAQ_YAQHoAQH4AQKIAgGoAgS4AurW95IGwAIB0gIkMjlkODdiZjctMjdkZS00N2Q3LWFmYTUtNDZkZmNjZWQ1Zjli2AIF4AIB&sid=f56fc4691745a4ede86ce39f26498bb0&aid=304142&ucfs=1&arphpl=1&group_adults=2&req_adults=2&no_rooms=1&group_children=0&req_children=0&hpos=2&hapos=2&sr_order=popularity&srpvid=65fba0c0cc70014c&srepoch=1650322306&from_beach_sr=1&from_sustainable_property_sr=1&from=searchresults#hotelTmpl",
           "Vous pouvez bénéficier d'une réduction Genius dans l'établissement Les Roches Brunes ! Connectez-vous pour économiser.Situé à Collioure, à 100 mètres de la plage de Balette, l'établissement Les Roches Brunes propose un restaurant, un parking privé gratuit, un bar et un jardin. Il propose des chambres familiales et une terrasse. L'hôtel possède une plage privée.Les chambres climatisées comprennent une télévision à écran plat et une salle de bains privative pourvue d'une douche. Certaines s'ouvrent sur un balcon. Elles comprennent également un coffre-fort.Un petit-déjeuner buffet et continental est servi tous les matins sur place.Vous séjournerez à proximité des plages de Boutigue, de Saint-Vincent et du château royal de Collioure. L'aéroport de Perpignan-Rivesaltes, le plus proche, est implanté à 30 km. ",
           116.28,
           27
          ],
          [
           42.52616733,
           3.08235571,
           "Hôtel La Casa Pairal",
           "https://www.booking.com/hotel/fr/hotelcasapairal.fr.html?label=gen173nr-1FCAEoggI46AdIDVgEaBWIAQGYAQ24ARjIAQ_YAQHoAQH4AQKIAgGoAgS4AurW95IGwAIB0gIkMjlkODdiZjctMjdkZS00N2Q3LWFmYTUtNDZkZmNjZWQ1Zjli2AIF4AIB&sid=f56fc4691745a4ede86ce39f26498bb0&aid=304142&ucfs=1&arphpl=1&group_adults=2&req_adults=2&no_rooms=1&group_children=0&req_children=0&hpos=3&hapos=3&sr_order=popularity&srpvid=65fba0c0cc70014c&srepoch=1650322306&from_beach_sr=1&from_sustainable_property_sr=1&from=searchresults#hotelTmpl",
           "Cet établissement est à 3 minutes à pied de la plage. Situé à 250 mètres de la plage et du port de Collioure, l’Hôtel La Casa Pairal propose un jardin fleuri exotique et une piscine extérieure chauffée. Il occupe un bâtiment catalan du XIXe siècle au cœur du vieux quartier de Collioure.Les chambres à la décoration traditionnelle de l’Hôtel La Casa Pairal sont climatisées. Elles possèdent toutes une télévision par satellite à écran plat, un minibar et une connexion Wi-Fi gratuite. Certaines offrent une vue sur la ville, la cour de l’hôtel et sa fontaine, ou la place du village.A l’Hôtel La Casa Pairal, un petit-déjeuner buffet pourra vous être servi tous les jours dans la salle prévue à cet effet ou dans votre chambre sur demande. Vous pourrez également prendre un verre dans le jardin de l’hôtel.La réception est ouverte 24h/24. Des journaux gratuits et un coffre-fort sont également disponibles.La gare de Collioure se trouve à 500 mètres. Vous séjournerez à 23 km de la frontière espagnole. ",
           116.28,
           27
          ],
          [
           42.52311754,
           3.0854253,
           "Résidence du Soleil",
           "https://www.booking.com/hotel/fr/residence-du-soleil-collioure.fr.html?label=gen173nr-1FCAEoggI46AdIDVgEaBWIAQGYAQ24ARjIAQ_YAQHoAQH4AQKIAgGoAgS4AurW95IGwAIB0gIkMjlkODdiZjctMjdkZS00N2Q3LWFmYTUtNDZkZmNjZWQ1Zjli2AIF4AIB&sid=f56fc4691745a4ede86ce39f26498bb0&aid=304142&ucfs=1&arphpl=1&group_adults=2&req_adults=2&no_rooms=1&group_children=0&req_children=0&hpos=4&hapos=4&sr_order=popularity&srpvid=65fba0c0cc70014c&srepoch=1650322306&from_beach_sr=1&from_sustainable_property_sr=1&from=searchresults#hotelTmpl",
           "Cet établissement est à 2 minutes à pied de la plage. Situé dans le centre-ville de Collioure, à 400 mètres du château royal et à 100 mètres de la plage, cet appartement dispose d'une terrasse et d'un jardin. Vous bénéficierez gratuitement d'une connexion Wi-Fi et d'un parking privé sur place.La cuisine est équipée d'un four et d'un micro-ondes. Il dispose également d'une télévision à écran plat. La Résidence du Soleil comporte également un barbecue.La région est prisée des amateurs de plongée sous-marine et avec tuba. Vous aurez la possibilité de pratiquer différentes activités dans les environs, telles que le vélo et la pêche. L'aéroport de Perpignan-Rivesaltes est implanté à 30 km. ",
           116.28,
           27
          ],
          [
           42.52876467,
           3.07865426,
           "Le Madeloc Hôtel & Spa",
           "https://www.booking.com/hotel/fr/madeloc.fr.html?label=gen173nr-1FCAEoggI46AdIDVgEaBWIAQGYAQ24ARjIAQ_YAQHoAQH4AQKIAgGoAgS4AurW95IGwAIB0gIkMjlkODdiZjctMjdkZS00N2Q3LWFmYTUtNDZkZmNjZWQ1Zjli2AIF4AIB&sid=f56fc4691745a4ede86ce39f26498bb0&aid=304142&ucfs=1&arphpl=1&group_adults=2&req_adults=2&no_rooms=1&group_children=0&req_children=0&hpos=5&hapos=5&sr_order=popularity&srpvid=65fba0c0cc70014c&srepoch=1650322306&from_beach_sr=1&from_sustainable_property_sr=1&from=searchresults#hotelTmpl",
           "Vous pouvez bénéficier d'une réduction Genius dans l'établissement Le Madeloc Hôtel & Spa ! Connectez-vous pour économiser.Cet établissement est à 10 minutes à pied de la plage. Situé à 500 mètres du centre-ville de Collioure et à 10 minutes à pied de la plage, l'hôtel Madeloc propose une piscine extérieure chauffée ouverte toute l'année, un solarium sur le toit, un jacuzzi et un hammam. Des soins de beauté et des massages sont dispensés sur demande.Présentant des tons neutres rehaussés d'une couleur vive, les chambres climatisées de l'établissement comprennent une télévision à écran LCD et un minibar. Certaines sont dotées d'une terrasse ou d'un balcon. Les chambres sont aménagées à l'un des trois étages de l'hôtel et sont uniquement accessibles par des escaliers. L'une d’elles est adaptée aux personnes à mobilité réduite.Chaque matin, l’établissement sert un petit-déjeuner buffet. Vous pourrez déguster ce repas dans le confort de votre chambre. Par ailleurs, le Madeloc est équipé d'une connexion Wi-Fi gratuite dans l'ensemble de son enceinte.Cet hôtel possède en outre une boutique de souvenirs vendant des produits locaux, des produits de spa et des bijoux.L'établissement est implanté à seulement 200 mètres de la gare de Collioure et à 5 minutes de la D914. Il se trouve également à 6,5 km d'Argelès-sur-Mer et à 25,5 km de la frontière espagnole. Sur demande et moyennant des frais supplémentaires, un parking privé est disponible sur place. ",
           116.28,
           27
          ],
          [
           42.52371617,
           3.08713473,
           "Hôtel Triton",
           "https://www.booking.com/hotel/fr/triton.fr.html?label=gen173nr-1FCAEoggI46AdIDVgEaBWIAQGYAQ24ARjIAQ_YAQHoAQH4AQKIAgGoAgS4AurW95IGwAIB0gIkMjlkODdiZjctMjdkZS00N2Q3LWFmYTUtNDZkZmNjZWQ1Zjli2AIF4AIB&sid=f56fc4691745a4ede86ce39f26498bb0&aid=304142&ucfs=1&arphpl=1&group_adults=2&req_adults=2&no_rooms=1&group_children=0&req_children=0&hpos=6&hapos=6&sr_order=popularity&srpvid=65fba0c0cc70014c&srepoch=1650322306&from_beach_sr=1&from=searchresults#hotelTmpl",
           "Cet établissement est à 1 minute à pied de la plage. Situé sur la plage du Boutiquet, l’Hôtel Triton propose des chambres climatisées donnant sur la baie de Collioure ou sur les Pyrénées. Une connexion Wi-Fi gratuite est disponible dans le bâtiment d’origine.Les chambres de l’Hôtel Triton sont équipées d’une télévision et d’un téléphone. Certains hébergements comprennent un balcon. La salle de bains privative est pourvue d’une douche ou d’une baignoire. Les chambres sont aménagées dans le bâtiment d’origine de l’établissement ou dans son annexe plus récente.Chaque matin, vous pourrez savourer un petit-déjeuner buffet incluant des croissants et du pain frais sur la terrasse, qui offre une vue sur la mer.L’Hôtel Triton bénéficie d’une vue magnifique sur la ville fortifiée de Collioure, le château et le clocher. Vous séjournerez à 7 km d’Argelès-sur-Mer, à 25 km de la frontière espagnole et à 30 km de Perpignan. Un parking public est à votre disposition en face de l’établissement, moyennant des frais supplémentaires. ",
           116.28,
           27
          ],
          [
           42.52708254,
           3.08026291,
           "Hotel Méditerranée",
           "https://www.booking.com/hotel/fr/mediterranee-collioure.fr.html?label=gen173nr-1FCAEoggI46AdIDVgEaBWIAQGYAQ24ARjIAQ_YAQHoAQH4AQKIAgGoAgS4AurW95IGwAIB0gIkMjlkODdiZjctMjdkZS00N2Q3LWFmYTUtNDZkZmNjZWQ1Zjli2AIF4AIB&sid=f56fc4691745a4ede86ce39f26498bb0&aid=304142&ucfs=1&arphpl=1&group_adults=2&req_adults=2&no_rooms=1&group_children=0&req_children=0&hpos=7&hapos=7&sr_order=popularity&srpvid=65fba0c0cc70014c&srepoch=1650322306&from_beach_sr=1&from_sustainable_property_sr=1&from=searchresults#hotelTmpl",
           "Cet établissement est à 5 minutes à pied de la plage. Doté d'un jardin de style méditerranéen et d'une terrasse, l'Hotel Méditerranée se trouve à Collioure, à 5 minutes de marche de la plage la plus proche. Une connexion Wi-Fi gratuite et un parking privé sont mis à votre disposition sur place.Toutes les chambres sont climatisées et pourvues d'un balcon et d'une télévision par satellite à écran plat. Elles possèdent également un réfrigérateur, un téléphone et un coffre-fort. Chaque chambre dispose d'une salle de bains avec une baignoire ou une douche.Un petit-déjeuner buffet est servi tous les matins, et vous pourrez le déguster sur la terrasse par beau temps.L'établissement propose une bagagerie.Argèles-sur-Mer se situe à 7,3 km et la frontière espagnole est à 26 km. L'aéroport de Perpignan-Rivesaltes est le plus proche, à 38 km. ",
           116.28,
           27
          ],
          [
           42.52638625,
           3.08325659,
           "La Frégate",
           "https://www.booking.com/hotel/fr/la-fra-c-gate-collioure.fr.html?label=gen173nr-1FCAEoggI46AdIDVgEaBWIAQGYAQ24ARjIAQ_YAQHoAQH4AQKIAgGoAgS4AurW95IGwAIB0gIkMjlkODdiZjctMjdkZS00N2Q3LWFmYTUtNDZkZmNjZWQ1Zjli2AIF4AIB&sid=f56fc4691745a4ede86ce39f26498bb0&aid=304142&ucfs=1&arphpl=1&group_adults=2&req_adults=2&no_rooms=1&group_children=0&req_children=0&hpos=8&hapos=8&sr_order=popularity&srpvid=65fba0c0cc70014c&srepoch=1650322306&from_beach_sr=1&from=searchresults#hotelTmpl",
           "Cet établissement est à 2 minutes à pied de la plage. Installé à Collioure, à 150 mètres de la plage de Boramar, L’établissement La Frégate vous propose un restaurant, un bar et un salon commun. Doté d’une terrasse, cet hôtel se trouve à proximité de plusieurs attractions prisées, comme la plage de Port d’Avall, à environ 250 mètres, la plage Nord, à 300 mètres, et le château royal de Collioure, qui vous attend à 100 mètres. Cet établissement non-fumeurs est situé à 1,5 km du casino de Collioure.Le matin, l’hôtel sert un petit-déjeuner continental.Lors de votre séjour à La Frégate, vous pourrez pratiquer des activités variées à Collioure et dans les environs, comme la randonnée.L’aéroport le plus proche, celui de Perpignan-Rivesaltes, est accessible à 29 km. ",
           116.28,
           27
          ],
          [
           42.52439,
           3.082726,
           "Les Suites de Collioure",
           "https://www.booking.com/hotel/fr/les-suites-de-collioure.fr.html?label=gen173nr-1FCAEoggI46AdIDVgEaBWIAQGYAQ24ARjIAQ_YAQHoAQH4AQKIAgGoAgS4AurW95IGwAIB0gIkMjlkODdiZjctMjdkZS00N2Q3LWFmYTUtNDZkZmNjZWQ1Zjli2AIF4AIB&sid=f56fc4691745a4ede86ce39f26498bb0&aid=304142&ucfs=1&arphpl=1&group_adults=2&req_adults=2&no_rooms=1&group_children=0&req_children=0&hpos=9&hapos=9&sr_order=popularity&srpvid=65fba0c0cc70014c&srepoch=1650322306&from_beach_sr=1&from_sustainable_property_sr=1&from=searchresults#hotelTmpl",
           "Cet établissement est à 2 minutes à pied de la plage. Situé à Collioure, à 200 mètres de la plage de Port Avall et à 350 mètres de celle de Boramar, l'établissement Les Suites de Collioure propose une vue sur la ville et une connexion Wi-Fi gratuite.Les logements comprennent la climatisation, une télévision à écran plat ainsi qu'une salle de bains privative pourvue d'une douche, d'un sèche-cheveux et d'articles de toilette gratuits. Un lave-vaisselle, un micro-ondes, un réfrigérateur, une bouilloire et une machine à café sont également fournis.Vous séjournerez à proximité de la plage de Boutigue, du château royal de Collioure et du casino de Collioure. L'aéroport de Perpignan-Rivesaltes, le plus proche, est implanté à 30 km. ",
           116.28,
           27
          ],
          [
           42.52716324,
           3.0850151,
           "Les Pieds dans l'Eau",
           "https://www.booking.com/hotel/fr/les-pieds-dans-l-39-eau-collioure.fr.html?label=gen173nr-1FCAEoggI46AdIDVgEaBWIAQGYAQ24ARjIAQ_YAQHoAQH4AQKIAgGoAgS4AurW95IGwAIB0gIkMjlkODdiZjctMjdkZS00N2Q3LWFmYTUtNDZkZmNjZWQ1Zjli2AIF4AIB&sid=f56fc4691745a4ede86ce39f26498bb0&aid=304142&ucfs=1&arphpl=1&group_adults=2&req_adults=2&no_rooms=1&group_children=0&req_children=0&hpos=10&hapos=10&sr_order=popularity&srpvid=65fba0c0cc70014c&srepoch=1650322306&from_beach_sr=1&from=searchresults#hotelTmpl",
           "Cet établissement est à 1 minute à pied de la plage. Situé à Collioure, l'établissement Les Pieds dans l'Eau propose une connexion Wi-Fi gratuite et une vue sur la ville. Il se trouve à 50 mètres de la plage des Pêcheurs. L'établissement est situé dans le centre historique.Cet appartement comprend 2 chambres, une télévision à écran plat, un lave-linge et une salle de bains pourvue d'une douche. Sa kitchenette est équipée d'un lave-vaisselle et d'un micro-ondes. Pour plus de commodité, l'établissement peut fournir des serviettes et du linge de lit moyennant des frais supplémentaires.La région est prisée pour pratiquer la randonnée. Un service de location de voitures est assuré sur place.Vous séjournerez à 100 mètres du château royal de Collioure et à 2,8 km du casino de Collioure. L'aéroport de Perpignan-Rivesaltes, le plus proche, est à 29 km. ",
           116.28,
           27
          ],
          [
           42.52794367,
           3.07773619,
           "ROCADE DE COLLIOURE",
           "https://www.booking.com/hotel/fr/rocade-de-collioure.fr.html?label=gen173nr-1FCAEoggI46AdIDVgEaBWIAQGYAQ24ARjIAQ_YAQHoAQH4AQKIAgGoAgS4AurW95IGwAIB0gIkMjlkODdiZjctMjdkZS00N2Q3LWFmYTUtNDZkZmNjZWQ1Zjli2AIF4AIB&sid=f56fc4691745a4ede86ce39f26498bb0&aid=304142&ucfs=1&arphpl=1&group_adults=2&req_adults=2&no_rooms=1&group_children=0&req_children=0&hpos=11&hapos=11&sr_order=popularity&srpvid=65fba0c0cc70014c&srepoch=1650322306&from_beach_sr=1&from=searchresults#hotelTmpl",
           "Cet établissement est à 6 minutes à pied de la plage. Situé à Collioure, à 600 mètres de la plage de Ouille et à 650 mètres de celle de Boramar, le ROCADE DE COLLIOURE propose un casino et la climatisation. Vous pourrez pratiquer diverses activités dans les environs, telles que la randonnée, la plongée avec tuba et la planche à voile.Cet appartement comprend 3 chambres, une cuisine avec un lave-vaisselle et un micro-ondes, une télévision à écran plat, un coin salon et 2 salles de bains. Pour plus de commodité, l'établissement peut fournir des serviettes et du linge de lit moyennant des frais supplémentaires.Un barbecue est à votre disposition sur place. Vous pourrez pratiquer la plongée sous-marine, la pêche et le canoë-kayak dans les environs.Vous séjournerez à proximité de la plage du Nord, du château royal de Collioure et du casino de Collioure. L'aéroport de Perpignan-Rivesaltes, le plus proche, est à 29 km. ",
           116.28,
           27
          ],
          [
           42.5271222,
           3.0765161,
           "Appartement Sous le Soleil",
           "https://www.booking.com/hotel/fr/appartement-sous-le-soleil.fr.html?label=gen173nr-1FCAEoggI46AdIDVgEaBWIAQGYAQ24ARjIAQ_YAQHoAQH4AQKIAgGoAgS4AurW95IGwAIB0gIkMjlkODdiZjctMjdkZS00N2Q3LWFmYTUtNDZkZmNjZWQ1Zjli2AIF4AIB&sid=f56fc4691745a4ede86ce39f26498bb0&aid=304142&ucfs=1&arphpl=1&group_adults=2&req_adults=2&no_rooms=1&group_children=0&req_children=0&hpos=12&hapos=12&sr_order=popularity&srpvid=65fba0c0cc70014c&srepoch=1650322306&from_beach_sr=1&from_sustainable_property_sr=1&from=searchresults#hotelTmpl",
           "Cet établissement est à 7 minutes à pied de la plage. Situé à Collioure, à 700 mètres de la plage de Ouille et de celle de Boramar, l'Appartement Sous le Soleil dispose d'une terrasse et de la climatisation. Vous bénéficierez gratuitement d'un parking privé et d'une connexion Wi-Fi.Cet appartement comprend une chambre, une salle de bains, du linge de lit, des serviettes, une télévision par satellite à écran plat, un coin repas, une cuisine entièrement équipée et un balcon avec vue sur la mer. Pour plus de commodité, l'établissement peut fournir des serviettes et du linge de lit moyennant des frais supplémentaires.Vous pourrez faire de la randonnée dans les environs.Vous séjournerez à proximité de la plage de Port Avall, du château royal de Collioure et du casino de Collioure. L'aéroport le plus proche, celui de Perpignan-Rivesaltes, est situé à 37 km. Un service de navette aéroport peut être assuré moyennant des frais supplémentaires. ",
           116.28,
           27
          ],
          [
           42.5273935,
           3.0847579,
           "Au coeur de Collioure",
           "https://www.booking.com/hotel/fr/au-coeur-de-collioure.fr.html?label=gen173nr-1FCAEoggI46AdIDVgEaBWIAQGYAQ24ARjIAQ_YAQHoAQH4AQKIAgGoAgS4AurW95IGwAIB0gIkMjlkODdiZjctMjdkZS00N2Q3LWFmYTUtNDZkZmNjZWQ1Zjli2AIF4AIB&sid=f56fc4691745a4ede86ce39f26498bb0&aid=304142&ucfs=1&arphpl=1&group_adults=2&req_adults=2&no_rooms=1&group_children=0&req_children=0&hpos=13&hapos=13&sr_order=popularity&srpvid=65fba0c0cc70014c&srepoch=1650322306&from_beach_sr=1&from=searchresults#hotelTmpl",
           "Situé à Collioure, à 50 mètres de la plage de Boramar et à 150 mètres de celle du Nord, l'établissement Au coeur de Collioure propose une connexion Wi-Fi gratuite et la climatisation. Installé dans un bâtiment datant du XIXe siècle, l'appartement se trouve dans une région où vous pourrez pratiquer des activités telles que la randonnée, la plongée avec tuba et la pêche.Cet appartement comprend une chambre, un salon, une télévision à écran plat, une cuisine équipée avec un coin repas ainsi qu'une salle de bains pourvue d'une douche et d'un lave-linge. Les serviettes et le linge de lit sont fournis.Vous séjournerez à 150 mètres de la plage de Saint-Vincent et à 100 mètres du château royal de Collioure. L'aéroport de Perpignan-Rivesaltes, le plus proche, est implanté à 38 km. ",
           116.28,
           27
          ],
          [
           42.52730095,
           3.08423268,
           "Résidence Saint Vincent",
           "https://www.booking.com/hotel/fr/residence-saint-vincent.fr.html?label=gen173nr-1FCAEoggI46AdIDVgEaBWIAQGYAQ24ARjIAQ_YAQHoAQH4AQKIAgGoAgS4AurW95IGwAIB0gIkMjlkODdiZjctMjdkZS00N2Q3LWFmYTUtNDZkZmNjZWQ1Zjli2AIF4AIB&sid=f56fc4691745a4ede86ce39f26498bb0&aid=304142&ucfs=1&arphpl=1&group_adults=2&req_adults=2&no_rooms=1&group_children=0&req_children=0&hpos=14&hapos=14&sr_order=popularity&srpvid=65fba0c0cc70014c&srepoch=1650322306&from_beach_sr=1&from_sustainable_property_sr=1&from=searchresults#hotelTmpl",
           "Vous pouvez bénéficier d'une réduction Genius dans l'établissement Résidence Saint Vincent ! Connectez-vous pour économiser.Cet établissement est à 1 minute à pied de la plage. Située à Collioure, à 100 mètres de la plage de Boramar et à 200 mètres de la plage du Nord, la Résidence Saint Vincent propose une vue sur la ville et une connexion Wi-Fi gratuite.Les logements comprennent la climatisation, une télévision à écran plat ainsi qu'une salle de bains privative pourvue d'une douche, d'un sèche-cheveux et d'articles de toilette gratuits. Un micro-ondes, un réfrigérateur, des plaques de cuisson et une machine à café sont également fournis.Vous pourrez pratiquer la pêche et la randonnée dans les environs.Vous séjournerez à 200 mètres de la plage de Saint-Vincent et à 100 mètres du château royal de Collioure. L'aéroport le plus proche, celui de Perpignan-Rivesaltes, est situé à 38 km. ",
           116.28,
           27
          ],
          [
           42.5224086,
           3.0869409,
           "COLLIOURE tres bel appart a 150 metres des plages avec jardin prive et parking dans residence securisee",
           "https://www.booking.com/hotel/fr/collioure-tres-bel-appart-a-150-metres-des-belles-plages-avec-jardin.fr.html?label=gen173nr-1FCAEoggI46AdIDVgEaBWIAQGYAQ24ARjIAQ_YAQHoAQH4AQKIAgGoAgS4AurW95IGwAIB0gIkMjlkODdiZjctMjdkZS00N2Q3LWFmYTUtNDZkZmNjZWQ1Zjli2AIF4AIB&sid=f56fc4691745a4ede86ce39f26498bb0&aid=304142&ucfs=1&arphpl=1&group_adults=2&req_adults=2&no_rooms=1&group_children=0&req_children=0&hpos=15&hapos=15&sr_order=popularity&srpvid=65fba0c0cc70014c&srepoch=1650322306&from_beach_sr=1&from=searchresults#hotelTmpl",
           "Cet établissement est à 2 minutes à pied de la plage. COLLIOURE tres bel appart Doté d'un jardin et d'un casino, l'établissement a 150 mètres des plages avec jardin prive et parking dans residence securisee est situé à Collioure, à 150 mètres de la plage de Port Avall, à 150 mètres de celle de Boutigue et à 300 mètres de celle de Balette. Vous bénéficierez gratuitement d'une connexion Wi-Fi et d'un parking privé.Cet appartement comprend 2 chambres, une salle de bains, du linge de lit, des serviettes, une télévision à écran plat, un coin repas, une cuisine entièrement équipée et une terrasse avec vue sur le jardin.Vous pourrez pêcher à proximité.Vous séjournerez à moins de 1 km du château royal et à 3,5 km du casino de Collioure. L'aéroport le plus proche, celui de Perpignan-Rivesaltes, est situé à 38 km. Un service de navette aéroport peut être assuré moyennant des frais supplémentaires. ",
           116.28,
           27
          ],
          [
           42.5231333,
           3.0855761,
           "Ibanova",
           "https://www.booking.com/hotel/fr/ibanova.fr.html?label=gen173nr-1FCAEoggI46AdIDVgEaBWIAQGYAQ24ARjIAQ_YAQHoAQH4AQKIAgGoAgS4AurW95IGwAIB0gIkMjlkODdiZjctMjdkZS00N2Q3LWFmYTUtNDZkZmNjZWQ1Zjli2AIF4AIB&sid=f56fc4691745a4ede86ce39f26498bb0&aid=304142&ucfs=1&arphpl=1&group_adults=2&req_adults=2&no_rooms=1&group_children=0&req_children=0&hpos=16&hapos=16&sr_order=popularity&srpvid=65fba0c0cc70014c&srepoch=1650322306&from_beach_sr=1&from=searchresults#hotelTmpl",
           "Cet établissement est à 1 minute à pied de la plage. Situé à Collioure, en Languedoc-Roussillon, à proximité des plages de Port d'Avall et du Boutigue, l’Ibanova met gratuitement à votre disposition une connexion Wi-Fi ainsi qu’un parking privé.Cet hébergement climatisé comprend une télévision à écran plat, une cuisine entièrement équipée dotée d'un coin repas et une salle de bains privative pourvue d’une douche ainsi que d’un sèche-cheveux. Un lave-vaisselle, un micro-ondes, un réfrigérateur, une bouilloire et une machine à café sont également fournis.Cet appartement bénéficie d’une terrasse.L’Ibanova se trouve à 300 mètres de la plage de la Balette et à 700 mètres du château royal de Collioure. L’aéroport de Perpignan-Rivesaltes, le plus proche, est accessible à 38 km. ",
           116.28,
           27
          ],
          [
           42.52591431,
           3.0826816,
           "Hôtel Princes de Catalogne",
           "https://www.booking.com/hotel/fr/princes-de-catalogne.fr.html?label=gen173nr-1FCAEoggI46AdIDVgEaBWIAQGYAQ24ARjIAQ_YAQHoAQH4AQKIAgGoAgS4AurW95IGwAIB0gIkMjlkODdiZjctMjdkZS00N2Q3LWFmYTUtNDZkZmNjZWQ1Zjli2AIF4AIB&sid=f56fc4691745a4ede86ce39f26498bb0&aid=304142&ucfs=1&arphpl=1&group_adults=2&req_adults=2&no_rooms=1&group_children=0&req_children=0&hpos=17&hapos=17&sr_order=popularity&srpvid=65fba0c0cc70014c&srepoch=1650322306&from_beach_sr=1&from=searchresults#hotelTmpl",
           "Cet établissement est à 2 minutes à pied de la plage. Situated on a quiet square in picturesque Collioure, this hotel is located a 400 metres from the beach. The hotel was renovated in early 2021 and features a contemporary style.All rooms at the Hôtel Princes de Catalogne are air-conditioned and have views of the mountains, Fort Miradou or of a quiet street. They are equipped with TV and free Wi-Fi internet access.Staff at the Hôtel Princes will be happy to help you organise excursions, guided visits or other activities such as seawater therapy and climbing.Free limited parking is available at the Hôtel Princes de Catalogne and is subject to availability. There is also a paid public parking opposite the hotel. ",
           116.28,
           27
          ],
          [
           42.52510633,
           3.0904362,
           "Residence Pierre & Vacances Les Balcons de Collioure",
           "https://www.booking.com/hotel/fr/maevabalconsdecollioure.fr.html?label=gen173nr-1FCAEoggI46AdIDVgEaBWIAQGYAQ24ARjIAQ_YAQHoAQH4AQKIAgGoAgS4AurW95IGwAIB0gIkMjlkODdiZjctMjdkZS00N2Q3LWFmYTUtNDZkZmNjZWQ1Zjli2AIF4AIB&sid=f56fc4691745a4ede86ce39f26498bb0&aid=304142&ucfs=1&arphpl=1&group_adults=2&req_adults=2&no_rooms=1&group_children=0&req_children=0&hpos=18&hapos=18&sr_order=popularity&srpvid=65fba0c0cc70014c&srepoch=1650322306&from_beach_sr=1&from=searchresults#hotelTmpl",
           "Cet établissement est à 2 minutes à pied de la plage. La Residence Pierre & Vacances Les Balcons de Collioure propose des hébergements indépendants et confortables à seulement 500 mètres de la plage. Elle possède un solarium offrant une vue magnifique sur la baie.Les studios disposent d'une télévision à écran plat, d'une salle de bains privative et d'une kitchenette équipée d'un lave-vaisselle. Vous pourrez emprunter gratuitement des jeux de société.Des produits de boulangerie pourront être livrés dans votre appartement sur commande effectuée auprès de la réception la veille au soir. La liste des produits disponibles est affichée dans les appartements et à la réception. Ce service entraîne des frais supplémentaires.La Residence Pierre & Vacances Les Balcons de Collioure se trouve à quelques pas du centre de Collioure, regroupant différents magasins et restaurants. Elle est située à 27 km de Perpignan. Vous pourrez profiter d'un parking couvert privé sur place moyennant des frais supplémentaires. ",
           116.28,
           27
          ],
          [
           42.5238821,
           3.0844023,
           "Appartement de charme à 50m de la plage de sable",
           "https://www.booking.com/hotel/fr/appartement-de-charme-a-50m-de-la-plage-de-sable.fr.html?label=gen173nr-1FCAEoggI46AdIDVgEaBWIAQGYAQ24ARjIAQ_YAQHoAQH4AQKIAgGoAgS4AurW95IGwAIB0gIkMjlkODdiZjctMjdkZS00N2Q3LWFmYTUtNDZkZmNjZWQ1Zjli2AIF4AIB&sid=f56fc4691745a4ede86ce39f26498bb0&aid=304142&ucfs=1&arphpl=1&group_adults=2&req_adults=2&no_rooms=1&group_children=0&req_children=0&hpos=19&hapos=19&sr_order=popularity&srpvid=65fba0c0cc70014c&srepoch=1650322306&from_beach_sr=1&from=searchresults#hotelTmpl",
           "Cet établissement est à 1 minute à pied de la plage. Situé à Collioure, à seulement 50 mètres de la plage de Port Avall, l'Appartement de charme à 50m de la plage de sable propose un hébergement en bord de mer avec connexion Wi-Fi gratuite. Offrant une vue sur la mer et la ville, il se trouve à 200 mètres de la plage de Boutigue.Cet appartement comprend une chambre, une télévision à écran plat, un lave-linge et une salle de bains pourvue d'une douche. Sa cuisine est équipée d'un micro-ondes et d'un lave-vaisselle. Pour plus de commodité, l'établissement peut fournir des serviettes et du linge de lit moyennant des frais supplémentaires.Vous pourrez pratiquer la pêche dans les environs.Vous séjournerez à 300 mètres de la plage de Boramar et à 600 mètres du château royal de Collioure. L'aéroport de Perpignan-Rivesaltes, le plus proche, est implanté à 38 km. ",
           116.28,
           27
          ],
          [
           42.5235481,
           3.08187379,
           "Les Jasmins",
           "https://www.booking.com/hotel/fr/chambre-d-39-hotes-les-jasmins.fr.html?label=gen173nr-1FCAEoggI46AdIDVgEaBWIAQGYAQ24ARjIAQ_YAQHoAQH4AQKIAgGoAgS4AurW95IGwAIB0gIkMjlkODdiZjctMjdkZS00N2Q3LWFmYTUtNDZkZmNjZWQ1Zjli2AIF4AIB&sid=f56fc4691745a4ede86ce39f26498bb0&aid=304142&ucfs=1&arphpl=1&group_adults=2&req_adults=2&no_rooms=1&group_children=0&req_children=0&hpos=20&hapos=20&sr_order=popularity&srpvid=65fba0c0cc70014c&srepoch=1650322306&from_beach_sr=1&from=searchresults#hotelTmpl",
           "Vous pouvez bénéficier d'une réduction Genius dans l'établissement Les Jasmins ! Connectez-vous pour économiser.Cet établissement est à 6 minutes à pied de la plage. La Chambre d'hôtes Les Jasmins est située à Collioure, à 4 minutes à pied de la plage. Une connexion Wi-Fi est disponible gratuitement. Argeles-sur-Mer se trouve à 14 minutes en voiture.La chambre double est équipée d'une kitchenette avec réfrigérateur, plaques de cuisson et ustensiles de cuisine. Le petit-déjeuner peut être servi en chambre ou sur la terrasse privée. La salle de bains privative est pourvue d'une douche et d'un sèche-cheveux.L'aéroport de Perpignan-Rivesaltes est à 36 km. La frontière espagnole est accessible en 40 minutes de route. Le stationnement sur place est gratuit. ",
           116.28,
           27
          ],
          [
           48.590014,
           7.73987,
           "City Residence Access Strasbourg",
           "https://www.booking.com/hotel/fr/city-residence-access-strasbourg-strasbourg.fr.html?label=gen173nr-1FCAEoggI46AdIDVgEaBWIAQGYAQ24ARjIAQ_YAQHoAQH4AQKIAgGoAgS4AurW95IGwAIB0gIkMjlkODdiZjctMjdkZS00N2Q3LWFmYTUtNDZkZmNjZWQ1Zjli2AIF4AIB&sid=f56fc4691745a4ede86ce39f26498bb0&aid=304142&ucfs=1&arphpl=1&group_adults=2&req_adults=2&no_rooms=1&group_children=0&req_children=0&hpos=1&hapos=1&sr_order=popularity&srpvid=419ba0bd23b20233&srepoch=1650322300&from=searchresults#hotelTmpl",
           "Situé à Strasbourg, à moins de 900 mètres du marché de Noël de la ville, le City Residence Access Strasbourg propose des hébergements avec une télévision et une kitchenette.Les logements comprennent une salle de bains privative entièrement équipée pourvue d'une douche et d'articles de toilette gratuits.Vous séjournerez à 12 minutes à pied du quartier de la Petite France et à 1 km de la cathédrale de Strasbourg. L'aéroport de Strasbourg-Entzheim se trouve quant à lui à 10 km du City Residence Access Strasbourg. ",
           116.91428571428573,
           8
          ],
          [
           48.57269177,
           7.72871353,
           "Comfort Hotel Strasbourg - Montagne Verte & Restaurant Louisiane",
           "https://www.booking.com/hotel/fr/comforthotelstras.fr.html?label=gen173nr-1FCAEoggI46AdIDVgEaBWIAQGYAQ24ARjIAQ_YAQHoAQH4AQKIAgGoAgS4AurW95IGwAIB0gIkMjlkODdiZjctMjdkZS00N2Q3LWFmYTUtNDZkZmNjZWQ1Zjli2AIF4AIB&sid=f56fc4691745a4ede86ce39f26498bb0&aid=304142&ucfs=1&arphpl=1&group_adults=2&req_adults=2&no_rooms=1&group_children=0&req_children=0&hpos=2&hapos=2&sr_order=popularity&srpvid=419ba0bd23b20233&srepoch=1650322300&from=searchresults#hotelTmpl",
           "Situé près de l'Ill, le Comfort Hotel Strasbourg - Montagne Verte Restaurant Louisiane se trouve à 2 km du quartier historique. Il dispose d'un restaurant avec terrasse d'été et d'un jardin.Les chambres insonorisées sont équipées d'une télévision par satellite à écran plat et d'un plateau/bouilloire. Leur salle de bains privative est pourvue d’un sèche-cheveux. Une connexion Wi-Fi gratuite est disponible dans tout l’établissement.Des spécialités régionales sont servies au restaurant La Louisiane et vous pourrez prendre un verre au bar tout en lisant les journaux fournis. Un petit-déjeuner buffet est proposé chaque matin de 6h30 à 11h00.Cet établissement propose un parking privé gratuit sur place. Le golf de Strasbourg est à 15 km de l'hôtel. L'aéroport international de Strasbourg est à seulement 19 km. ",
           116.91428571428573,
           8
          ],
          [
           48.57772068,
           7.73397669,
           "Appart'City Strasbourg Centre",
           "https://www.booking.com/hotel/fr/appart-city-strasbourg.fr.html?label=gen173nr-1FCAEoggI46AdIDVgEaBWIAQGYAQ24ARjIAQ_YAQHoAQH4AQKIAgGoAgS4AurW95IGwAIB0gIkMjlkODdiZjctMjdkZS00N2Q3LWFmYTUtNDZkZmNjZWQ1Zjli2AIF4AIB&sid=f56fc4691745a4ede86ce39f26498bb0&aid=304142&ucfs=1&arphpl=1&group_adults=2&req_adults=2&no_rooms=1&group_children=0&req_children=0&hpos=3&hapos=3&sr_order=popularity&srpvid=419ba0bd23b20233&srepoch=1650322300&from_sustainable_property_sr=1&from=searchresults#hotelTmpl",
           "L’Appart'City Strasbourg Centre bénéficie d’un emplacement idéal dans le centre de Strasbourg, à 10 minutes de marche de la gare. Cet établissement a obtenu le label Clef Verte et propose des studios indépendants offrant une vue sur la ville. Une connexion Internet par fibre optique est disponible.Décorés dans un style contemporain, les appartements disposent du chauffage, d'une télévision à écran plat et d'une salle de bains privative pourvue d’une douche. Leur kitchenette est équipée d’un lave-vaisselle, d’un réfrigérateur et d’ustensiles de cuisine.Un petit-déjeuner buffet peut être servi tous les matins sur demande. Le petit-déjeuner se compose de différents pains, notamment sans gluten, de viennoiseries ainsi que de boissons chaudes et froides. De la salade de fruits, des fruits frais, du fromage et des yaourts sont également proposés.Une bagagerie est disponible moyennant un supplément par valise.L’Appart'City Strasbourg se trouve à 17 km de l’aéroport de Strasbourg-Entzheim. Un parking privé est disponible sur place, sur réservation préalable et moyennant des frais supplémentaires. ",
           116.91428571428573,
           8
          ],
          [
           48.57154052,
           7.74525492,
           "Holiday Inn Express Strasbourg Centre, an IHG Hotel",
           "https://www.booking.com/hotel/fr/holiday-inn-express-strasbourg-centre.fr.html?label=gen173nr-1FCAEoggI46AdIDVgEaBWIAQGYAQ24ARjIAQ_YAQHoAQH4AQKIAgGoAgS4AurW95IGwAIB0gIkMjlkODdiZjctMjdkZS00N2Q3LWFmYTUtNDZkZmNjZWQ1Zjli2AIF4AIB&sid=f56fc4691745a4ede86ce39f26498bb0&aid=304142&ucfs=1&arphpl=1&group_adults=2&req_adults=2&no_rooms=1&group_children=0&req_children=0&hpos=4&hapos=4&sr_order=popularity&srpvid=419ba0bd23b20233&srepoch=1650322300&from=searchresults#hotelTmpl",
           "Le Holiday Inn Express Strasbourg Centre propose des hébergements à seulement 10 minutes de marche du quartier piéton de Strasbourg. Vous pourrez profiter gratuitement d’une connexion Internet et d’un petit-déjeuner buffet continental.Toutes les chambres disposent d’un bureau, d’un coffre-fort et d’une télévision à écran plat avec des chaînes internationales. Un plateau/bouilloire est également fourni. Les logements comprennent une salle de bains privative pourvue d’une douche, et certains sont dotés d’un canapé-lit.Le bar de l’hôtel, ouvert de midi à 23h00, propose un menu de quelques plats pour des repas légers.Un service de blanchisserie et un parking privé sont disponibles sur demande et moyennant des frais supplémentaires. L'hôtel se trouve à 1,1 km du quartier de la Petite France et à 1,2 km du marché de Noël ainsi que de la cathédrale de Strasbourg. La Route des Vins d’Alsace et le parc à thèmes Europa-Park sont directement accessibles depuis les autoroutes françaises et allemandes passant à proximité. ",
           116.91428571428573,
           8
          ],
          [
           48.59655677,
           7.7552855,
           "Hilton Strasbourg",
           "https://www.booking.com/hotel/fr/hilton-strasbourg.fr.html?label=gen173nr-1FCAEoggI46AdIDVgEaBWIAQGYAQ24ARjIAQ_YAQHoAQH4AQKIAgGoAgS4AurW95IGwAIB0gIkMjlkODdiZjctMjdkZS00N2Q3LWFmYTUtNDZkZmNjZWQ1Zjli2AIF4AIB&sid=f56fc4691745a4ede86ce39f26498bb0&aid=304142&ucfs=1&arphpl=1&group_adults=2&req_adults=2&no_rooms=1&group_children=0&req_children=0&hpos=5&hapos=5&sr_order=popularity&srpvid=419ba0bd23b20233&srepoch=1650322300&from_sustainable_property_sr=1&from=searchresults#hotelTmpl",
           "L'hôtel Hilton Strasbourg se situe à proximité du Parlement européen et à seulement 3 arrêts de tramway du centre-ville de Strasbourg. Vous aurez accès gratuitement à la salle de sport et au sauna dans le centre de bien-être. La connexion Wi-Fi est gratuite.Les chambres de l'Hilton sont climatisées et insonorisées. Toutes offrent une vue sur le Parlement ou sur la cathédrale de Strasbourg. Certaines bénéficient également d'un accès direct au salon exécutif. La brasserie H! Brasserie propose une cuisine de saison et des spécialités alsaciennes. Le bar H! sert quant à lui différents types de cocktails. Le matin, vous aurez le choix entre un petit-déjeuner buffet, un petit-déjeuner continental et un petit-déjeuner express.L'Hilton Strasbourg dispose d'une réception ouverte 24h/24 et assure des services VIP, de blanchisserie et de voiturier. L'hôtel possède aussi une terrasse, sur laquelle vous pourrez vous détendre. Une connexion Wi-Fi gratuite est disponible dans le hall, dans le bar et dans le restaurant. ",
           116.91428571428573,
           8
          ],
          [
           48.57977292,
           7.74951205,
           "Hotel des Tonneliers",
           "https://www.booking.com/hotel/fr/la-cruche-d-or.fr.html?label=gen173nr-1FCAEoggI46AdIDVgEaBWIAQGYAQ24ARjIAQ_YAQHoAQH4AQKIAgGoAgS4AurW95IGwAIB0gIkMjlkODdiZjctMjdkZS00N2Q3LWFmYTUtNDZkZmNjZWQ1Zjli2AIF4AIB&sid=f56fc4691745a4ede86ce39f26498bb0&aid=304142&ucfs=1&arphpl=1&group_adults=2&req_adults=2&no_rooms=1&group_children=0&req_children=0&hpos=6&hapos=6&sr_order=popularity&srpvid=419ba0bd23b20233&srepoch=1650322300&from=searchresults#hotelTmpl",
           "Vous pouvez bénéficier d'une réduction Genius dans l'établissement Hotel des Tonneliers ! Connectez-vous pour économiser.L'Hotel des Tonneliers bénéficie d'un emplacement très central, à 450 mètres de la cathédrale de Strasbourg et à 2 km de la gare de Strasbourg. Une connexion Wi-Fi est accessible gratuitement dans l’ensemble des locaux. En été, vous pourrez profiter d’une terrasse.Les chambres sont équipées d'une salle de bains privative équipée de toilettes et d'une baignoire ou d'une douche. Les hébergements comprennent une télévision à écran plat et une machine à café Nespresso.L’établissement La Cruche D'or se trouve à quelques pas du quartier pittoresque de la Petite France. L’établissement est également proche du célèbre musée du palais Rohan. ",
           116.91428571428573,
           8
          ],
          [
           48.59108149,
           7.727094,
           "Hôtel ORIGAMI",
           "https://www.booking.com/hotel/fr/origami.fr.html?label=gen173nr-1FCAEoggI46AdIDVgEaBWIAQGYAQ24ARjIAQ_YAQHoAQH4AQKIAgGoAgS4AurW95IGwAIB0gIkMjlkODdiZjctMjdkZS00N2Q3LWFmYTUtNDZkZmNjZWQ1Zjli2AIF4AIB&sid=f56fc4691745a4ede86ce39f26498bb0&aid=304142&ucfs=1&arphpl=1&group_adults=2&req_adults=2&no_rooms=1&group_children=0&req_children=0&hpos=7&hapos=7&sr_order=popularity&srpvid=419ba0bd23b20233&srepoch=1650322300&from_sustainable_property_sr=1&from=searchresults#hotelTmpl",
           "Vous pouvez bénéficier d'une réduction Genius dans l'établissement Hôtel ORIGAMI ! Connectez-vous pour économiser.Situé à Strasbourg, dans un bâtiment datant de 2018, l'hôtel ORIGAMI propose un bar et des chambres avec connexion Wi-Fi gratuite. Il se trouve à moins de 30 minutes à pied du quartier de la Petite France, à 1,7 km du marché de Noël et à 1,8 km de la cathédrale de la ville.Les chambres comprennent une télévision par satellite à écran plat ainsi qu'une salle de bains privative avec des articles de toilette gratuits. Certaines d'entre elles possèdent également un balcon. Elles sont toutes pourvues d'un bureau et d'une bouilloire.L'hôtel vous préparera un petit-déjeuner buffet ou américain.Enfin, vous découvrirez le musée historique de Strasbourg à 2 km et rejoindrez l'aéroport international de Strasbourg, à 9 km. ",
           116.91428571428573,
           8
          ],
          [
           48.59304756,
           7.71466415,
           "K Hotel",
           "https://www.booking.com/hotel/fr/k-strasbourg.fr.html?label=gen173nr-1FCAEoggI46AdIDVgEaBWIAQGYAQ24ARjIAQ_YAQHoAQH4AQKIAgGoAgS4AurW95IGwAIB0gIkMjlkODdiZjctMjdkZS00N2Q3LWFmYTUtNDZkZmNjZWQ1Zjli2AIF4AIB&sid=f56fc4691745a4ede86ce39f26498bb0&aid=304142&ucfs=1&arphpl=1&group_adults=2&req_adults=2&no_rooms=1&group_children=0&req_children=0&hpos=8&hapos=8&sr_order=popularity&srpvid=419ba0bd23b20233&srepoch=1650322300&from_sustainable_property_sr=1&from=searchresults#hotelTmpl",
           "Situé à Strasbourg, le K Hotel dispose d'une salle de sport et offre une vue sur la ville. L'établissement se trouve à 3,9 km de l'église Saint-Paul, à 4 km de la Petite France et à 4,3 km du parc des expositions de Strasbourg. Toutes les chambres sont équipées d'une télévision par satellite à écran plat.Toutes les chambres disposent d'une bouilloire, de la climatisation, d'un bureau, d'une salle de bains privative et d'une connexion Wi-Fi gratuite. Le K Hotel comporte une terrasse. Le personnel de la réception ouverte 24h/24 parle anglais et allemand. Il demeure à tout moment à votre disposition si vous avez besoin d'aide.Le K Hotel se trouve à 4,4 km de la cathédrale de Strasbourg et à moins de 10 minutes de route de l'Espace européen de l'entreprise. L'aéroport international de Strasbourg est situé à 11 km.  ",
           116.91428571428573,
           8
          ],
          [
           48.58501891,
           7.73882546,
           "Best Western Plus Monopole Métropole",
           "https://www.booking.com/hotel/fr/monopolemetropole.fr.html?label=gen173nr-1FCAEoggI46AdIDVgEaBWIAQGYAQ24ARjIAQ_YAQHoAQH4AQKIAgGoAgS4AurW95IGwAIB0gIkMjlkODdiZjctMjdkZS00N2Q3LWFmYTUtNDZkZmNjZWQ1Zjli2AIF4AIB&sid=f56fc4691745a4ede86ce39f26498bb0&aid=304142&ucfs=1&arphpl=1&group_adults=2&req_adults=2&no_rooms=1&group_children=0&req_children=0&hpos=9&hapos=9&sr_order=popularity&srpvid=419ba0bd23b20233&srepoch=1650322300&from_sustainable_property_sr=1&from=searchresults#hotelTmpl",
           "Vous pouvez bénéficier d'une réduction Genius dans l'établissement Best Western Plus Monopole Métropole ! Connectez-vous pour économiser.Le Best Western Monopole Métropole est situé à seulement 400 mètres de la gare de Strasbourg, près du quartier de la Petite France. Il propose des hébergements contemporains dotés d'un minibar et d'une connexion Wi-Fi gratuite.Décorées dans des tons neutres, les chambres du Monopole Métropole affichent un style contemporain et disposent toutes de la climatisation et d'une bouilloire électrique. Certaines sont même pourvues d'un coin salon.Un petit-déjeuner buffet composé d'œufs brouillés et de bacon vous sera servi chaque matin dans l'élégante salle de style alsacien prévue à cet effet. Bénéficiant de fauteuils propices à la détente, l'hôtel possède un bar moderne exposant des peintures d'artistes locaux.L'établissement se situe à seulement 10 minutes de marche de la place Kléber et de la cathédrale de Strasbourg. Vous pourrez par ailleurs accéder au Best Western Monopole Métropole par l'A35 qui se trouve à 4 minutes de route. Un parking souterrain privé est disponible sur place. ",
           116.91428571428573,
           8
          ],
          [
           48.585686,
           7.736483,
           "Hotel des Vosges BW Premier Collection",
           "https://www.booking.com/hotel/fr/des-vosges.fr.html?label=gen173nr-1FCAEoggI46AdIDVgEaBWIAQGYAQ24ARjIAQ_YAQHoAQH4AQKIAgGoAgS4AurW95IGwAIB0gIkMjlkODdiZjctMjdkZS00N2Q3LWFmYTUtNDZkZmNjZWQ1Zjli2AIF4AIB&sid=f56fc4691745a4ede86ce39f26498bb0&aid=304142&ucfs=1&arphpl=1&group_adults=2&req_adults=2&no_rooms=1&group_children=0&req_children=0&hpos=10&hapos=10&sr_order=popularity&srpvid=419ba0bd23b20233&srepoch=1650322300&from_sustainable_property_sr=1&from=searchresults#hotelTmpl",
           "Vous pouvez bénéficier d'une réduction Genius dans l'établissement Hotel des Vosges BW Premier Collection ! Connectez-vous pour économiser.Situé à Strasbourg, à proximité de la gare ferroviaire et du centre-ville, l'Hôtel des Vosges vous propose des hébergements confortables et abordables.L'établissement dispose de plusieurs chambres bien équipées et meublées toutes accessibles par un ascenseur. Des chambres familiales pouvant accueillir jusqu'à 3 personnes sont aussi disponibles.Enfin, le petit-déjeuner vous sera servi quotidiennement à l'Hôtel des Vosges, et vous pourrez le savourer dans votre chambre ou dans la salle dédiée. ",
           116.91428571428573,
           8
          ],
          [
           48.59173665,
           7.71170497,
           "Hôtel Athena Spa",
           "https://www.booking.com/hotel/fr/athena-spa.fr.html?label=gen173nr-1FCAEoggI46AdIDVgEaBWIAQGYAQ24ARjIAQ_YAQHoAQH4AQKIAgGoAgS4AurW95IGwAIB0gIkMjlkODdiZjctMjdkZS00N2Q3LWFmYTUtNDZkZmNjZWQ1Zjli2AIF4AIB&sid=f56fc4691745a4ede86ce39f26498bb0&aid=304142&ucfs=1&arphpl=1&group_adults=2&req_adults=2&no_rooms=1&group_children=0&req_children=0&hpos=11&hapos=11&sr_order=popularity&srpvid=419ba0bd23b20233&srepoch=1650322300&from=searchresults#hotelTmpl",
           "Vous pouvez bénéficier d'une réduction Genius dans l'établissement Hôtel Athena Spa ! Connectez-vous pour économiser.Installé à moins de 3 km du centre-ville de Strasbourg, l’Hôtel Athena Spa possède une salle de sport accessible 24h/24, Cet hôtel design comprend un restaurant à la carte, un bar et une réception ouverte 24h/24. Vous y trouverez une piscine sensorielle, ouverte tous les jours et gratuite.Modernes et colorées, les chambres sont équipées de la climatisation, d’une connexion Wi-Fi gratuite, d’une télévision par satellite à écran plat et d’un plateau/bouilloire. Leur salle de bains privative est pourvue d’une douche, d’un sèche-cheveux et d’articles de toilette gratuits.Un petit-déjeuner buffet est préparé chaque matin. Le bar est ouvert tous les jours de midi à minuit.Vous pourrez accéder à l'espace bien-être et au spa de l'hôtel, qui comporte une piscine sensorielle avec jets d'hydromassage, un hammam, un sauna finlandais, un sauna tropical, un espace détente et une douche multi-sensorielle.L'hôtel dispose d'un nombre limité de places de stationnement gratuites dans un parking extérieur sécurisé. Un parking souterrain est également accessible moyennant des frais supplémentaires. De plus, deux bornes de recharge pour véhicules électriques sont disponibles moyennant des frais supplémentaires. L’Hôtel Athena Spa se trouve à 2,5 km du quartier de la Petite France et à 3 km de la cathédrale de Strasbourg. L’aéroport international de Strasbourg est implanté à 8 km. ",
           116.91428571428573,
           8
          ],
          [
           48.58373253,
           7.74504483,
           "Le Kléber Hôtel",
           "https://www.booking.com/hotel/fr/le-kleber.fr.html?label=gen173nr-1FCAEoggI46AdIDVgEaBWIAQGYAQ24ARjIAQ_YAQHoAQH4AQKIAgGoAgS4AurW95IGwAIB0gIkMjlkODdiZjctMjdkZS00N2Q3LWFmYTUtNDZkZmNjZWQ1Zjli2AIF4AIB&sid=f56fc4691745a4ede86ce39f26498bb0&aid=304142&ucfs=1&arphpl=1&group_adults=2&req_adults=2&no_rooms=1&group_children=0&req_children=0&hpos=12&hapos=12&sr_order=popularity&srpvid=419ba0bd23b20233&srepoch=1650322300&from=searchresults#hotelTmpl",
           "Vous pouvez bénéficier d'une réduction Genius dans l'établissement Le Kléber Hôtel ! Connectez-vous pour économiser.L'établissement Le Kléber Hôtel vous accueille dans le centre-ville historique de Strasbourg. Il propose des chambres joliment décorées avec télévision à écran plat et connexion Internet gratuite.L'emplacement central de l'établissement, dans un quartier piéton, vous permettra d'accéder facilement au quartier voisin de la Petite France et aux célèbres marchés de Noël. Une station de taxi et un arrêt de tramway se trouvent à proximité.L'établissement sert le petit-déjeuner dans sa chaleureuse et conviviale salle à manger qui donne sur la place Kléber et la cathédrale de Strasbourg. ",
           116.91428571428573,
           8
          ],
          [
           48.58031945,
           7.75127023,
           "Hotel des Arts",
           "https://www.booking.com/hotel/fr/citotel-des-arts.fr.html?label=gen173nr-1FCAEoggI46AdIDVgEaBWIAQGYAQ24ARjIAQ_YAQHoAQH4AQKIAgGoAgS4AurW95IGwAIB0gIkMjlkODdiZjctMjdkZS00N2Q3LWFmYTUtNDZkZmNjZWQ1Zjli2AIF4AIB&sid=f56fc4691745a4ede86ce39f26498bb0&aid=304142&ucfs=1&arphpl=1&group_adults=2&req_adults=2&no_rooms=1&group_children=0&req_children=0&hpos=13&hapos=13&sr_order=popularity&srpvid=419ba0bd23b20233&srepoch=1650322300&from=searchresults#hotelTmpl",
           "Vous pouvez bénéficier d'une réduction Genius dans l'établissement Hotel des Arts ! Connectez-vous pour économiser.L'Hôtel des Arts se situe au cœur de la zone piétonne du centre historique de Strasbourg. Il propose des hébergements confortables avec la climatisation et une connexion Wi-Fi gratuite.Les chambres comprennent aussi un bureau, une télévision et une salle de bains privative. Vous pourrez déguster un petit-déjeuner tous les jours.L'Hôtel Des Arts vous accueille dans un bâtiment de charme installé derrière le musée historique, sur la petite place du Marché-aux-Cochons-de-Lait. ",
           116.91428571428573,
           8
          ],
          [
           48.589685,
           7.739508,
           "voco Strasbourg Centre - The Garden, an IHG Hotel",
           "https://www.booking.com/hotel/fr/golden-tulip-strasbourg-centre-the-garden.fr.html?label=gen173nr-1FCAEoggI46AdIDVgEaBWIAQGYAQ24ARjIAQ_YAQHoAQH4AQKIAgGoAgS4AurW95IGwAIB0gIkMjlkODdiZjctMjdkZS00N2Q3LWFmYTUtNDZkZmNjZWQ1Zjli2AIF4AIB&sid=f56fc4691745a4ede86ce39f26498bb0&aid=304142&ucfs=1&arphpl=1&group_adults=2&req_adults=2&no_rooms=1&group_children=0&req_children=0&hpos=14&hapos=14&sr_order=popularity&srpvid=419ba0bd23b20233&srepoch=1650322300&from_sustainable_property_sr=1&from=searchresults#hotelTmpl",
           "Doté d'un jardin et d'un restaurant, le Voco - Strasbourg Centre - The Garden - Garden est situé à Strasbourg. Il comporte une terrasse, un salon commun et un bar. Vous séjournerez à 1,5 km du marché de Noël et à 1,9 km de l'église Saint-Paul.Les chambres comprennent un bureau, une télévision à écran plat ainsi qu'une salle de bains privative. Elles disposent aussi de la climatisation et d'une armoire.Un petit-déjeuner buffet est servi.Cet hôtel 4 étoiles possède un baby-foot et une salle de sport accessible gratuitement 24h/24. Sur réservation, sous réserve de disponibilité et moyennant des frais supplémentaires, les personnes âgées de 18 ans minimum pourront accéder à la piscine et au centre de bien-être. Merci de consulter la rubrique « À savoir » pour prendre connaissance des conditions d'admission des enfants. Des massages sont également dispensés, sur réservation et contre un supplément.La réception est ouverte 24h/24.La cathédrale de Strasbourg se trouve à 2,3 km du Voco - Strasbourg Centre - The Garden - Garden. L'aéroport international de Strasbourg, le plus proche, est à 12 km. Une place de stationnement est attribuée sous réserve de disponibilité, sur réservation et moyennant des frais supplémentaires. ",
           116.91428571428573,
           8
          ],
          [
           48.58253971,
           7.73732672,
           "ibis Strasbourg Centre Petite France",
           "https://www.booking.com/hotel/fr/ibis-strasbourg-centre-petite-france.fr.html?label=gen173nr-1FCAEoggI46AdIDVgEaBWIAQGYAQ24ARjIAQ_YAQHoAQH4AQKIAgGoAgS4AurW95IGwAIB0gIkMjlkODdiZjctMjdkZS00N2Q3LWFmYTUtNDZkZmNjZWQ1Zjli2AIF4AIB&sid=f56fc4691745a4ede86ce39f26498bb0&aid=304142&ucfs=1&arphpl=1&group_adults=2&req_adults=2&no_rooms=1&group_children=0&req_children=0&hpos=15&hapos=15&sr_order=popularity&srpvid=419ba0bd23b20233&srepoch=1650322300&from=searchresults#hotelTmpl",
           "L'hôtel ibis Strasbourg Centre Petite France vous accueille dans la quartier de la Petite France à Strasbourg, à seulement 450 mètres de la gare. Cet établissement climatisé propose une connexion Wi-Fi gratuite et un bar.Les chambres de l'ibis Strasbourg Centre Petite France disposent d'une télévision par câble et satellite à écran plat, d'un téléphone, d'un bureau ainsi que d'une salle de bains pourvue d'un sèche-cheveux.Vous savourerez chaque matin un petit-déjeuner buffet composé de mets sucrés et salés, comme des œufs, de la salade de fruits, des yaourts et des jus. Des viennoiseries cuites sur place et des madeleines fraîches sont aussi proposées, ainsi qu'une boisson chaude et un fruit à emporter. Un petit-déjeuner plus léger est proposé à partir de 4h00.Des journaux et une bagagerie sont disponibles gratuitement sur place.La place Kléber et la cathédrale de Strasbourg se trouvent à respectivement 650 et 800 mètres de l'hôtel. Enfin, l'établissement est situé à 130 mètres de l'arrêt de tramway Faubourg National et à 16 km de l'aéroport de Strasbourg. ",
           116.91428571428573,
           8
          ],
          [
           48.58094495,
           7.7504307,
           "Hotel Rohan",
           "https://www.booking.com/hotel/fr/hotel-de-rohan.fr.html?label=gen173nr-1FCAEoggI46AdIDVgEaBWIAQGYAQ24ARjIAQ_YAQHoAQH4AQKIAgGoAgS4AurW95IGwAIB0gIkMjlkODdiZjctMjdkZS00N2Q3LWFmYTUtNDZkZmNjZWQ1Zjli2AIF4AIB&sid=f56fc4691745a4ede86ce39f26498bb0&aid=304142&ucfs=1&arphpl=1&group_adults=2&req_adults=2&no_rooms=1&group_children=0&req_children=0&hpos=16&hapos=16&sr_order=popularity&srpvid=419ba0bd23b20233&srepoch=1650322300&from=searchresults#hotelTmpl",
           "L'Hôtel De Rohan est situé dans le centre historique de Strasbourg, à seulement 150 mètres de la cathédrale et du palais Rohan. L'hôtel dispose de 2 terrasses meublées. Ses chambres climatisées sont élégamment décorées et dotées d’une connexion Wi-Fi gratuite.Pourvues d’un mobilier élégant, les chambres possèdent toutes un style différent. Elles comprennent une télévision par satellite et une salle de bains privative moderne.Par beau temps, vous pourrez prendre votre petit-déjeuner sur l'une des deux terrasses.Dans les environs, vous trouverez le musée historique de Strasbourg, à 90 mètres de l'hôtel, et l'église Sainte-Madeleine, accessible en 7 minutes de marche. ",
           116.91428571428573,
           8
          ],
          [
           48.58741328,
           7.73824275,
           "Lagrange Apart’Hotel Strasbourg Wilson",
           "https://www.booking.com/hotel/fr/lagrange-city-strasbourg.fr.html?label=gen173nr-1FCAEoggI46AdIDVgEaBWIAQGYAQ24ARjIAQ_YAQHoAQH4AQKIAgGoAgS4AurW95IGwAIB0gIkMjlkODdiZjctMjdkZS00N2Q3LWFmYTUtNDZkZmNjZWQ1Zjli2AIF4AIB&sid=f56fc4691745a4ede86ce39f26498bb0&aid=304142&ucfs=1&arphpl=1&group_adults=2&req_adults=2&no_rooms=1&group_children=0&req_children=0&hpos=17&hapos=17&sr_order=popularity&srpvid=419ba0bd23b20233&srepoch=1650322300&from=searchresults#hotelTmpl",
           "Le Lagrange Apart’Hotel Strasbourg Wilson est situé à 5 minutes à pied de la gare de Strasbourg, à 270 mètres du centre commercial Place des Halles et à 15 minutes de marche du quartier de la Petite France. Vous profiterez gratuitement d'une piscine intérieure chauffée et d'une connexion Wi-Fi dans l'ensemble des locaux.Tous les appartements et studios disposent de la climatisation, d'une télévision à écran plat, d'un coin salon et d'une salle de bains pourvue d'une baignoire. Leur kitchenette est équipée de plaques de cuisson, d'un lave-vaisselle et d'un micro-ondes.Chaque matin, vous dégusterez un petit-déjeuner servi dans la salle à manger du Lagrange Apart’Hotel Strasbourg Wilson. Par ailleurs, vous trouverez des boutiques et des restaurants à quelques pas.Enfin, lors de votre séjour au Lagrange Apart’Hotel Strasbourg Wilson, vous profiterez d'une bagagerie gratuite, ainsi que d'un hammam et d'un sauna, moyennant des frais supplémentaires. ",
           116.91428571428573,
           8
          ],
          [
           48.57924766,
           7.73222588,
           "Aparthotel Adagio Access Strasbourg Petite France",
           "https://www.booking.com/hotel/fr/adagio-access-strasbourg-petite-france.fr.html?label=gen173nr-1FCAEoggI46AdIDVgEaBWIAQGYAQ24ARjIAQ_YAQHoAQH4AQKIAgGoAgS4AurW95IGwAIB0gIkMjlkODdiZjctMjdkZS00N2Q3LWFmYTUtNDZkZmNjZWQ1Zjli2AIF4AIB&sid=f56fc4691745a4ede86ce39f26498bb0&aid=304142&ucfs=1&arphpl=1&group_adults=2&req_adults=2&no_rooms=1&group_children=0&req_children=0&hpos=18&hapos=18&sr_order=popularity&srpvid=419ba0bd23b20233&srepoch=1650322300&from_sustainable_property_sr=1&from=searchresults#hotelTmpl",
           "Situé dans le centre-ville, l'Aparthotel Adagio Access Strasbourg Petite France propose une réception ouverte 24h/24, ainsi que des appartements et studios modernes, dotés d'une connexion Wi-Fi gratuite et d'une cuisine entièrement équipée, à 1,5 km de la cathédrale de Strasbourg.L'hébergement comprend une télévision à écran plat et un téléphone. La salle de bains privative est pourvue d'une douche et d'un sèche-cheveux.La cuisine est équipée d'un micro-ondes, d'un réfrigérateur et d'une cafetière. Par ailleurs, l'Aparthotel Adagio Access Strasbourg Petite France sert chaque matin un petit-déjeuner buffet dans la salle prévue à cet effet.Vous séjournerez à 350 mètres du musée d'art moderne et d'art contemporain de Strasbourg ainsi qu'à 10 minutes à pied de la gare. Enfin, un parking privé est disponible sur place, moyennant des frais supplémentaires et sur réservation préalable. ",
           116.91428571428573,
           8
          ],
          [
           48.57942103,
           7.73011345,
           "Montempô Apparthôtel Strasbourg",
           "https://www.booking.com/hotel/fr/montempo-apparthotel-strasbourg.fr.html?label=gen173nr-1FCAEoggI46AdIDVgEaBWIAQGYAQ24ARjIAQ_YAQHoAQH4AQKIAgGoAgS4AurW95IGwAIB0gIkMjlkODdiZjctMjdkZS00N2Q3LWFmYTUtNDZkZmNjZWQ1Zjli2AIF4AIB&sid=f56fc4691745a4ede86ce39f26498bb0&aid=304142&ucfs=1&arphpl=1&group_adults=2&req_adults=2&no_rooms=1&group_children=0&req_children=0&hpos=19&hapos=19&sr_order=popularity&srpvid=419ba0bd23b20233&srepoch=1650322300&from=searchresults#hotelTmpl",
           "Le Montempô Apparthôtel Strasbourg propose des hébergements indépendants dotés d'une connexion Wi-Fi gratuite à proximité directe du centre de Strasbourg, à 900 mètres du quartier historique de la Petite France et à 1,6 km de la cathédrale de Strasbourg.Présentant une décoration contemporaine, les appartements disposent de lits gigogne, d'une télévision à écran LCD et d'une connexion Wi-Fi gratuite. Ils comprennent une kitchenette entièrement équipée munie d'un micro-ondes, d'une cuisinière et d'un réfrigérateur. Leur salle de bains privative est pourvue d'une douche et d'articles de toilette gratuits. Le linge de lit et les serviettes de toilette sont fournis.La réception est ouverte 24h/24, et un salon commun ainsi qu'un distributeur automatique sont à votre disposition sur place.Si vous souhaitez partir à la découverte des environs, vous pourrez vous rendre au musée historique de Strasbourg et au marché de Noël, respectivement situés à 1,6 et 1,7 km. Le Montempô Apparthôtel Strasbourg est à seulement 700 mètres du musée d'art moderne et d'art contemporain de la ville. La gare de Strasbourg est accessible en 11 minutes à pied, et l'aéroport international de Strasbourg-Entzheim se trouve à 8 km de l'établissement. ",
           116.91428571428573,
           8
          ],
          [
           48.58469688,
           7.736561,
           "Le Grand Hotel",
           "https://www.booking.com/hotel/fr/legrandhotel.fr.html?label=gen173nr-1FCAEoggI46AdIDVgEaBWIAQGYAQ24ARjIAQ_YAQHoAQH4AQKIAgGoAgS4AurW95IGwAIB0gIkMjlkODdiZjctMjdkZS00N2Q3LWFmYTUtNDZkZmNjZWQ1Zjli2AIF4AIB&sid=f56fc4691745a4ede86ce39f26498bb0&aid=304142&ucfs=1&arphpl=1&group_adults=2&req_adults=2&no_rooms=1&group_children=0&req_children=0&hpos=20&hapos=20&sr_order=popularity&srpvid=419ba0bd23b20233&srepoch=1650322300&from_sustainable_property_sr=1&from=searchresults#hotelTmpl",
           "Vous pouvez bénéficier d'une réduction Genius dans l'établissement Le Grand Hotel ! Connectez-vous pour économiser.Le Grand Hôtel est situé en face de la gare de Strasbourg, à 10 minutes à pied du centre-ville et de la place Kléber. Il dispose d'un bar, d'une terrasse et d'une connexion Wi-Fi gratuite.Toutes les chambres sont décorées dans un style moderne et comprennent une salle de bains privative. Chacune dispose d'une télévision par satellite à écran plat, d'un téléphone et d'une connexion Wi-Fi gratuite. Elles sont desservies par un ascenseur.Chaque matin, l'établissement sert un petit-déjeuner buffet composé de plats sucrés et salés. Vous pourrez le savourer sur la terrasse lorsque le temps le permet. Un service d'étage est assuré 24h/24. Le bar-salon est idéal pour se détendre après une journée de tourisme ou de travail.Situé à 15 km de l'aéroport et à 8 km de la frontière allemande, le Grand Hotel bénéficie également d'un emplacement idéal pour découvrir les alentours. Vous pourrez vous rendre aux célèbres Galeries Lafayette ou visiter la cathédrale de Strasbourg. ",
           116.91428571428573,
           8
          ]
         ],
         "hovertemplate": "<b>%{hovertext}</b><br><br>score=%{marker.color}<br>name=%{customdata[2]}<extra></extra>",
         "hovertext": [
          "Lille",
          "Lille",
          "Lille",
          "Lille",
          "Lille",
          "Lille",
          "Lille",
          "Lille",
          "Lille",
          "Lille",
          "Lille",
          "Lille",
          "Lille",
          "Lille",
          "Lille",
          "Lille",
          "Lille",
          "Lille",
          "Lille",
          "Lille",
          "Colmar",
          "Colmar",
          "Colmar",
          "Colmar",
          "Colmar",
          "Colmar",
          "Colmar",
          "Colmar",
          "Colmar",
          "Colmar",
          "Colmar",
          "Colmar",
          "Colmar",
          "Colmar",
          "Colmar",
          "Colmar",
          "Colmar",
          "Colmar",
          "Colmar",
          "Colmar",
          "Eguisheim",
          "Eguisheim",
          "Eguisheim",
          "Eguisheim",
          "Eguisheim",
          "Eguisheim",
          "Eguisheim",
          "Eguisheim",
          "Eguisheim",
          "Eguisheim",
          "Eguisheim",
          "Eguisheim",
          "Eguisheim",
          "Eguisheim",
          "Eguisheim",
          "Eguisheim",
          "Eguisheim",
          "Eguisheim",
          "Eguisheim",
          "Eguisheim",
          "Collioure",
          "Collioure",
          "Collioure",
          "Collioure",
          "Collioure",
          "Collioure",
          "Collioure",
          "Collioure",
          "Collioure",
          "Collioure",
          "Collioure",
          "Collioure",
          "Collioure",
          "Collioure",
          "Collioure",
          "Collioure",
          "Collioure",
          "Collioure",
          "Collioure",
          "Collioure",
          "Strasbourg",
          "Strasbourg",
          "Strasbourg",
          "Strasbourg",
          "Strasbourg",
          "Strasbourg",
          "Strasbourg",
          "Strasbourg",
          "Strasbourg",
          "Strasbourg",
          "Strasbourg",
          "Strasbourg",
          "Strasbourg",
          "Strasbourg",
          "Strasbourg",
          "Strasbourg",
          "Strasbourg",
          "Strasbourg",
          "Strasbourg",
          "Strasbourg"
         ],
         "lat": [
          50.63788756,
          50.627831,
          50.63238245,
          50.63528798,
          50.63075938,
          50.63654707,
          50.64602156,
          50.62914624,
          50.62003296,
          50.63647023,
          50.63883337,
          50.634074,
          50.63359887,
          50.63220722,
          50.62603955,
          50.63685668,
          50.62905798,
          50.63557145,
          50.6456983,
          50.63786885,
          48.0770862,
          48.07080074,
          48.09965719,
          48.07969759,
          48.07733814,
          48.07790332,
          48.0785657,
          48.07641026,
          48.07891558,
          48.07093986,
          48.07473494,
          48.07245883,
          48.07654046,
          48.07057919,
          48.08745399,
          48.07376803,
          48.0810608,
          48.112478,
          48.08601523,
          48.07900192,
          48.04496277,
          48.0461134,
          48.04170911,
          48.04327133,
          48.04223841,
          48.0417829,
          48.04228862,
          48.04340695,
          48.04215781,
          48.04349458,
          48.04502734,
          48.04242043,
          48.042963,
          48.042875,
          48.04172203,
          48.04184688,
          48.043006,
          48.041599,
          48.0437864,
          48.04299853,
          42.52538159,
          42.52534777,
          42.52616733,
          42.52311754,
          42.52876467,
          42.52371617,
          42.52708254,
          42.52638625,
          42.52439,
          42.52716324,
          42.52794367,
          42.5271222,
          42.5273935,
          42.52730095,
          42.5224086,
          42.5231333,
          42.52591431,
          42.52510633,
          42.5238821,
          42.5235481,
          48.590014,
          48.57269177,
          48.57772068,
          48.57154052,
          48.59655677,
          48.57977292,
          48.59108149,
          48.59304756,
          48.58501891,
          48.585686,
          48.59173665,
          48.58373253,
          48.58031945,
          48.589685,
          48.58253971,
          48.58094495,
          48.58741328,
          48.57924766,
          48.57942103,
          48.58469688
         ],
         "legendgroup": "",
         "lon": [
          3.072685,
          3.063592,
          3.06794286,
          3.06970725,
          3.05808842,
          3.06234241,
          3.07587147,
          3.06419907,
          3.08456697,
          3.07490923,
          3.07668149,
          3.064229,
          3.06328118,
          3.04668635,
          3.05190325,
          3.06794286,
          3.08113396,
          3.06783289,
          3.07210967,
          3.0546277,
          7.3525325,
          7.34638973,
          7.3624015,
          7.35236159,
          7.35609418,
          7.40279764,
          7.36147009,
          7.35954888,
          7.36514839,
          7.35386556,
          7.35711009,
          7.34755754,
          7.34987363,
          7.3682287,
          7.36068696,
          7.35829376,
          7.35717729,
          7.36766875,
          7.35729933,
          7.35450824,
          7.30157845,
          7.3051632,
          7.3056928,
          7.30412185,
          7.30916776,
          7.3065467,
          7.3094514,
          7.30760872,
          7.30737026,
          7.30439007,
          7.31185466,
          7.30631925,
          7.307216,
          7.30672,
          7.3056037,
          7.30553499,
          7.3043162,
          7.306161,
          7.3057051,
          7.30448939,
          3.08256391,
          3.09032446,
          3.08235571,
          3.0854253,
          3.07865426,
          3.08713473,
          3.08026291,
          3.08325659,
          3.082726,
          3.0850151,
          3.07773619,
          3.0765161,
          3.0847579,
          3.08423268,
          3.0869409,
          3.0855761,
          3.0826816,
          3.0904362,
          3.0844023,
          3.08187379,
          7.73987,
          7.72871353,
          7.73397669,
          7.74525492,
          7.7552855,
          7.74951205,
          7.727094,
          7.71466415,
          7.73882546,
          7.736483,
          7.71170497,
          7.74504483,
          7.75127023,
          7.739508,
          7.73732672,
          7.7504307,
          7.73824275,
          7.73222588,
          7.73011345,
          7.736561
         ],
         "marker": {
          "color": [
           8.1,
           8.7,
           7.8,
           7.8,
           8.1,
           8.5,
           7.9,
           8.4,
           7.8,
           7.4,
           8.2,
           8.8,
           7,
           8,
           7.7,
           8.1,
           7.3,
           7.7,
           8.2,
           7.8,
           9.5,
           9.1,
           8.7,
           7.2,
           8.5,
           7.6,
           8.7,
           8.7,
           7.9,
           8.2,
           9,
           8,
           8.8,
           9.2,
           8,
           8.5,
           8.1,
           7.8,
           8.5,
           8.6,
           8.8,
           9.6,
           9.8,
           8.8,
           8.6,
           9.7,
           7.9,
           8.9,
           8.7,
           8.4,
           8,
           9.1,
           9.2,
           9.6,
           9.4,
           9.3,
           9.2,
           9,
           9.3,
           9.2,
           8,
           9,
           8.7,
           7.6,
           8.8,
           7.4,
           7.9,
           8.1,
           9.4,
           7.7,
           5,
           9.4,
           9.1,
           8,
           9,
           8.3,
           8,
           8,
           8.6,
           8.5,
           7.1,
           8.3,
           7.8,
           8.2,
           7.3,
           8,
           9,
           8.8,
           8.7,
           8.8,
           8.5,
           7.9,
           8.2,
           8.6,
           7.7,
           8.7,
           8,
           8.4,
           6.8,
           8.3
          ],
          "coloraxis": "coloraxis",
          "size": [
           8.1,
           8.7,
           7.8,
           7.8,
           8.1,
           8.5,
           7.9,
           8.4,
           7.8,
           7.4,
           8.2,
           8.8,
           7,
           8,
           7.7,
           8.1,
           7.3,
           7.7,
           8.2,
           7.8,
           9.5,
           9.1,
           8.7,
           7.2,
           8.5,
           7.6,
           8.7,
           8.7,
           7.9,
           8.2,
           9,
           8,
           8.8,
           9.2,
           8,
           8.5,
           8.1,
           7.8,
           8.5,
           8.6,
           8.8,
           9.6,
           9.8,
           8.8,
           8.6,
           9.7,
           7.9,
           8.9,
           8.7,
           8.4,
           8,
           9.1,
           9.2,
           9.6,
           9.4,
           9.3,
           9.2,
           9,
           9.3,
           9.2,
           8,
           9,
           8.7,
           7.6,
           8.8,
           7.4,
           7.9,
           8.1,
           9.4,
           7.7,
           5,
           9.4,
           9.1,
           8,
           9,
           8.3,
           8,
           8,
           8.6,
           8.5,
           7.1,
           8.3,
           7.8,
           8.2,
           7.3,
           8,
           9,
           8.8,
           8.7,
           8.8,
           8.5,
           7.9,
           8.2,
           8.6,
           7.7,
           8.7,
           8,
           8.4,
           6.8,
           8.3
          ],
          "sizemode": "area",
          "sizeref": 0.01568
         },
         "mode": "markers",
         "name": "",
         "showlegend": false,
         "subplot": "mapbox",
         "type": "scattermapbox"
        }
       ],
       "layout": {
        "coloraxis": {
         "cmax": 9.8,
         "cmin": 5,
         "colorbar": {
          "title": {
           "text": "score"
          }
         },
         "colorscale": [
          [
           0,
           "rgb(165,0,38)"
          ],
          [
           0.1,
           "rgb(215,48,39)"
          ],
          [
           0.2,
           "rgb(244,109,67)"
          ],
          [
           0.3,
           "rgb(253,174,97)"
          ],
          [
           0.4,
           "rgb(254,224,139)"
          ],
          [
           0.5,
           "rgb(255,255,191)"
          ],
          [
           0.6,
           "rgb(217,239,139)"
          ],
          [
           0.7,
           "rgb(166,217,106)"
          ],
          [
           0.8,
           "rgb(102,189,99)"
          ],
          [
           0.9,
           "rgb(26,152,80)"
          ],
          [
           1,
           "rgb(0,104,55)"
          ]
         ]
        },
        "height": 800,
        "legend": {
         "itemsizing": "constant",
         "tracegroupgap": 0
        },
        "mapbox": {
         "accesstoken": "pk.eyJ1Ijoidm9ud2VuIiwiYSI6ImNsMWM0dmZnazA0N2gzZG8wa2N1OTM0ZDEifQ.lCZ3DFaUYPS5XIJCWi6yNA",
         "center": {
          "lat": 47.5733738708,
          "lon": 5.710713394400001
         },
         "domain": {
          "x": [
           0,
           1
          ],
          "y": [
           0,
           1
          ]
         },
         "zoom": 4.7
        },
        "margin": {
         "t": 60
        },
        "template": {
         "data": {
          "bar": [
           {
            "error_x": {
             "color": "#f2f5fa"
            },
            "error_y": {
             "color": "#f2f5fa"
            },
            "marker": {
             "line": {
              "color": "rgb(17,17,17)",
              "width": 0.5
             },
             "pattern": {
              "fillmode": "overlay",
              "size": 10,
              "solidity": 0.2
             }
            },
            "type": "bar"
           }
          ],
          "barpolar": [
           {
            "marker": {
             "line": {
              "color": "rgb(17,17,17)",
              "width": 0.5
             },
             "pattern": {
              "fillmode": "overlay",
              "size": 10,
              "solidity": 0.2
             }
            },
            "type": "barpolar"
           }
          ],
          "carpet": [
           {
            "aaxis": {
             "endlinecolor": "#A2B1C6",
             "gridcolor": "#506784",
             "linecolor": "#506784",
             "minorgridcolor": "#506784",
             "startlinecolor": "#A2B1C6"
            },
            "baxis": {
             "endlinecolor": "#A2B1C6",
             "gridcolor": "#506784",
             "linecolor": "#506784",
             "minorgridcolor": "#506784",
             "startlinecolor": "#A2B1C6"
            },
            "type": "carpet"
           }
          ],
          "choropleth": [
           {
            "colorbar": {
             "outlinewidth": 0,
             "ticks": ""
            },
            "type": "choropleth"
           }
          ],
          "contour": [
           {
            "colorbar": {
             "outlinewidth": 0,
             "ticks": ""
            },
            "colorscale": [
             [
              0,
              "#0d0887"
             ],
             [
              0.1111111111111111,
              "#46039f"
             ],
             [
              0.2222222222222222,
              "#7201a8"
             ],
             [
              0.3333333333333333,
              "#9c179e"
             ],
             [
              0.4444444444444444,
              "#bd3786"
             ],
             [
              0.5555555555555556,
              "#d8576b"
             ],
             [
              0.6666666666666666,
              "#ed7953"
             ],
             [
              0.7777777777777778,
              "#fb9f3a"
             ],
             [
              0.8888888888888888,
              "#fdca26"
             ],
             [
              1,
              "#f0f921"
             ]
            ],
            "type": "contour"
           }
          ],
          "contourcarpet": [
           {
            "colorbar": {
             "outlinewidth": 0,
             "ticks": ""
            },
            "type": "contourcarpet"
           }
          ],
          "heatmap": [
           {
            "colorbar": {
             "outlinewidth": 0,
             "ticks": ""
            },
            "colorscale": [
             [
              0,
              "#0d0887"
             ],
             [
              0.1111111111111111,
              "#46039f"
             ],
             [
              0.2222222222222222,
              "#7201a8"
             ],
             [
              0.3333333333333333,
              "#9c179e"
             ],
             [
              0.4444444444444444,
              "#bd3786"
             ],
             [
              0.5555555555555556,
              "#d8576b"
             ],
             [
              0.6666666666666666,
              "#ed7953"
             ],
             [
              0.7777777777777778,
              "#fb9f3a"
             ],
             [
              0.8888888888888888,
              "#fdca26"
             ],
             [
              1,
              "#f0f921"
             ]
            ],
            "type": "heatmap"
           }
          ],
          "heatmapgl": [
           {
            "colorbar": {
             "outlinewidth": 0,
             "ticks": ""
            },
            "colorscale": [
             [
              0,
              "#0d0887"
             ],
             [
              0.1111111111111111,
              "#46039f"
             ],
             [
              0.2222222222222222,
              "#7201a8"
             ],
             [
              0.3333333333333333,
              "#9c179e"
             ],
             [
              0.4444444444444444,
              "#bd3786"
             ],
             [
              0.5555555555555556,
              "#d8576b"
             ],
             [
              0.6666666666666666,
              "#ed7953"
             ],
             [
              0.7777777777777778,
              "#fb9f3a"
             ],
             [
              0.8888888888888888,
              "#fdca26"
             ],
             [
              1,
              "#f0f921"
             ]
            ],
            "type": "heatmapgl"
           }
          ],
          "histogram": [
           {
            "marker": {
             "pattern": {
              "fillmode": "overlay",
              "size": 10,
              "solidity": 0.2
             }
            },
            "type": "histogram"
           }
          ],
          "histogram2d": [
           {
            "colorbar": {
             "outlinewidth": 0,
             "ticks": ""
            },
            "colorscale": [
             [
              0,
              "#0d0887"
             ],
             [
              0.1111111111111111,
              "#46039f"
             ],
             [
              0.2222222222222222,
              "#7201a8"
             ],
             [
              0.3333333333333333,
              "#9c179e"
             ],
             [
              0.4444444444444444,
              "#bd3786"
             ],
             [
              0.5555555555555556,
              "#d8576b"
             ],
             [
              0.6666666666666666,
              "#ed7953"
             ],
             [
              0.7777777777777778,
              "#fb9f3a"
             ],
             [
              0.8888888888888888,
              "#fdca26"
             ],
             [
              1,
              "#f0f921"
             ]
            ],
            "type": "histogram2d"
           }
          ],
          "histogram2dcontour": [
           {
            "colorbar": {
             "outlinewidth": 0,
             "ticks": ""
            },
            "colorscale": [
             [
              0,
              "#0d0887"
             ],
             [
              0.1111111111111111,
              "#46039f"
             ],
             [
              0.2222222222222222,
              "#7201a8"
             ],
             [
              0.3333333333333333,
              "#9c179e"
             ],
             [
              0.4444444444444444,
              "#bd3786"
             ],
             [
              0.5555555555555556,
              "#d8576b"
             ],
             [
              0.6666666666666666,
              "#ed7953"
             ],
             [
              0.7777777777777778,
              "#fb9f3a"
             ],
             [
              0.8888888888888888,
              "#fdca26"
             ],
             [
              1,
              "#f0f921"
             ]
            ],
            "type": "histogram2dcontour"
           }
          ],
          "mesh3d": [
           {
            "colorbar": {
             "outlinewidth": 0,
             "ticks": ""
            },
            "type": "mesh3d"
           }
          ],
          "parcoords": [
           {
            "line": {
             "colorbar": {
              "outlinewidth": 0,
              "ticks": ""
             }
            },
            "type": "parcoords"
           }
          ],
          "pie": [
           {
            "automargin": true,
            "type": "pie"
           }
          ],
          "scatter": [
           {
            "marker": {
             "line": {
              "color": "#283442"
             }
            },
            "type": "scatter"
           }
          ],
          "scatter3d": [
           {
            "line": {
             "colorbar": {
              "outlinewidth": 0,
              "ticks": ""
             }
            },
            "marker": {
             "colorbar": {
              "outlinewidth": 0,
              "ticks": ""
             }
            },
            "type": "scatter3d"
           }
          ],
          "scattercarpet": [
           {
            "marker": {
             "colorbar": {
              "outlinewidth": 0,
              "ticks": ""
             }
            },
            "type": "scattercarpet"
           }
          ],
          "scattergeo": [
           {
            "marker": {
             "colorbar": {
              "outlinewidth": 0,
              "ticks": ""
             }
            },
            "type": "scattergeo"
           }
          ],
          "scattergl": [
           {
            "marker": {
             "line": {
              "color": "#283442"
             }
            },
            "type": "scattergl"
           }
          ],
          "scattermapbox": [
           {
            "marker": {
             "colorbar": {
              "outlinewidth": 0,
              "ticks": ""
             }
            },
            "type": "scattermapbox"
           }
          ],
          "scatterpolar": [
           {
            "marker": {
             "colorbar": {
              "outlinewidth": 0,
              "ticks": ""
             }
            },
            "type": "scatterpolar"
           }
          ],
          "scatterpolargl": [
           {
            "marker": {
             "colorbar": {
              "outlinewidth": 0,
              "ticks": ""
             }
            },
            "type": "scatterpolargl"
           }
          ],
          "scatterternary": [
           {
            "marker": {
             "colorbar": {
              "outlinewidth": 0,
              "ticks": ""
             }
            },
            "type": "scatterternary"
           }
          ],
          "surface": [
           {
            "colorbar": {
             "outlinewidth": 0,
             "ticks": ""
            },
            "colorscale": [
             [
              0,
              "#0d0887"
             ],
             [
              0.1111111111111111,
              "#46039f"
             ],
             [
              0.2222222222222222,
              "#7201a8"
             ],
             [
              0.3333333333333333,
              "#9c179e"
             ],
             [
              0.4444444444444444,
              "#bd3786"
             ],
             [
              0.5555555555555556,
              "#d8576b"
             ],
             [
              0.6666666666666666,
              "#ed7953"
             ],
             [
              0.7777777777777778,
              "#fb9f3a"
             ],
             [
              0.8888888888888888,
              "#fdca26"
             ],
             [
              1,
              "#f0f921"
             ]
            ],
            "type": "surface"
           }
          ],
          "table": [
           {
            "cells": {
             "fill": {
              "color": "#506784"
             },
             "line": {
              "color": "rgb(17,17,17)"
             }
            },
            "header": {
             "fill": {
              "color": "#2a3f5f"
             },
             "line": {
              "color": "rgb(17,17,17)"
             }
            },
            "type": "table"
           }
          ]
         },
         "layout": {
          "annotationdefaults": {
           "arrowcolor": "#f2f5fa",
           "arrowhead": 0,
           "arrowwidth": 1
          },
          "autotypenumbers": "strict",
          "coloraxis": {
           "colorbar": {
            "outlinewidth": 0,
            "ticks": ""
           }
          },
          "colorscale": {
           "diverging": [
            [
             0,
             "#8e0152"
            ],
            [
             0.1,
             "#c51b7d"
            ],
            [
             0.2,
             "#de77ae"
            ],
            [
             0.3,
             "#f1b6da"
            ],
            [
             0.4,
             "#fde0ef"
            ],
            [
             0.5,
             "#f7f7f7"
            ],
            [
             0.6,
             "#e6f5d0"
            ],
            [
             0.7,
             "#b8e186"
            ],
            [
             0.8,
             "#7fbc41"
            ],
            [
             0.9,
             "#4d9221"
            ],
            [
             1,
             "#276419"
            ]
           ],
           "sequential": [
            [
             0,
             "#0d0887"
            ],
            [
             0.1111111111111111,
             "#46039f"
            ],
            [
             0.2222222222222222,
             "#7201a8"
            ],
            [
             0.3333333333333333,
             "#9c179e"
            ],
            [
             0.4444444444444444,
             "#bd3786"
            ],
            [
             0.5555555555555556,
             "#d8576b"
            ],
            [
             0.6666666666666666,
             "#ed7953"
            ],
            [
             0.7777777777777778,
             "#fb9f3a"
            ],
            [
             0.8888888888888888,
             "#fdca26"
            ],
            [
             1,
             "#f0f921"
            ]
           ],
           "sequentialminus": [
            [
             0,
             "#0d0887"
            ],
            [
             0.1111111111111111,
             "#46039f"
            ],
            [
             0.2222222222222222,
             "#7201a8"
            ],
            [
             0.3333333333333333,
             "#9c179e"
            ],
            [
             0.4444444444444444,
             "#bd3786"
            ],
            [
             0.5555555555555556,
             "#d8576b"
            ],
            [
             0.6666666666666666,
             "#ed7953"
            ],
            [
             0.7777777777777778,
             "#fb9f3a"
            ],
            [
             0.8888888888888888,
             "#fdca26"
            ],
            [
             1,
             "#f0f921"
            ]
           ]
          },
          "colorway": [
           "#636efa",
           "#EF553B",
           "#00cc96",
           "#ab63fa",
           "#FFA15A",
           "#19d3f3",
           "#FF6692",
           "#B6E880",
           "#FF97FF",
           "#FECB52"
          ],
          "font": {
           "color": "#f2f5fa"
          },
          "geo": {
           "bgcolor": "rgb(17,17,17)",
           "lakecolor": "rgb(17,17,17)",
           "landcolor": "rgb(17,17,17)",
           "showlakes": true,
           "showland": true,
           "subunitcolor": "#506784"
          },
          "hoverlabel": {
           "align": "left"
          },
          "hovermode": "closest",
          "mapbox": {
           "style": "dark"
          },
          "paper_bgcolor": "rgb(17,17,17)",
          "plot_bgcolor": "rgb(17,17,17)",
          "polar": {
           "angularaxis": {
            "gridcolor": "#506784",
            "linecolor": "#506784",
            "ticks": ""
           },
           "bgcolor": "rgb(17,17,17)",
           "radialaxis": {
            "gridcolor": "#506784",
            "linecolor": "#506784",
            "ticks": ""
           }
          },
          "scene": {
           "xaxis": {
            "backgroundcolor": "rgb(17,17,17)",
            "gridcolor": "#506784",
            "gridwidth": 2,
            "linecolor": "#506784",
            "showbackground": true,
            "ticks": "",
            "zerolinecolor": "#C8D4E3"
           },
           "yaxis": {
            "backgroundcolor": "rgb(17,17,17)",
            "gridcolor": "#506784",
            "gridwidth": 2,
            "linecolor": "#506784",
            "showbackground": true,
            "ticks": "",
            "zerolinecolor": "#C8D4E3"
           },
           "zaxis": {
            "backgroundcolor": "rgb(17,17,17)",
            "gridcolor": "#506784",
            "gridwidth": 2,
            "linecolor": "#506784",
            "showbackground": true,
            "ticks": "",
            "zerolinecolor": "#C8D4E3"
           }
          },
          "shapedefaults": {
           "line": {
            "color": "#f2f5fa"
           }
          },
          "sliderdefaults": {
           "bgcolor": "#C8D4E3",
           "bordercolor": "rgb(17,17,17)",
           "borderwidth": 1,
           "tickwidth": 0
          },
          "ternary": {
           "aaxis": {
            "gridcolor": "#506784",
            "linecolor": "#506784",
            "ticks": ""
           },
           "baxis": {
            "gridcolor": "#506784",
            "linecolor": "#506784",
            "ticks": ""
           },
           "bgcolor": "rgb(17,17,17)",
           "caxis": {
            "gridcolor": "#506784",
            "linecolor": "#506784",
            "ticks": ""
           }
          },
          "title": {
           "x": 0.05
          },
          "updatemenudefaults": {
           "bgcolor": "#506784",
           "borderwidth": 0
          },
          "xaxis": {
           "automargin": true,
           "gridcolor": "#283442",
           "linecolor": "#506784",
           "ticks": "",
           "title": {
            "standoff": 15
           },
           "zerolinecolor": "#283442",
           "zerolinewidth": 2
          },
          "yaxis": {
           "automargin": true,
           "gridcolor": "#283442",
           "linecolor": "#506784",
           "ticks": "",
           "title": {
            "standoff": 15
           },
           "zerolinecolor": "#283442",
           "zerolinewidth": 2
          }
         }
        },
        "title": {
         "text": "20 best hotels from the 5 cities with the best weather",
         "x": 0.5
        },
        "width": 1100
       }
      }
     },
     "metadata": {},
     "output_type": "display_data"
    }
   ],
   "source": [
    "# Creating a plotly scatter mapbox showing the 20 hotels from the previous 5 top cities\n",
    "px.set_mapbox_access_token(open(\".mapbox_token\").read())\n",
    "\n",
    "fig = px.scatter_mapbox(\n",
    "    df_hotels_full[:100],\n",
    "    lat='lat_hotels',\n",
    "    lon='lon_hotels',\n",
    "    color='score',\n",
    "    color_continuous_scale=px.colors.diverging.RdYlGn,\n",
    "    size='score',\n",
    "    size_max=25,\n",
    "    zoom=4.7,\n",
    "    range_color = [min(df_hotels_full[:100]['score']), max(df_hotels_full[:100]['score'])],\n",
    "    hover_name='city',\n",
    "    hover_data={\n",
    "        'lat_hotels': False,\n",
    "        'lon_hotels': False,\n",
    "        'name': True,\n",
    "        'url': False,\n",
    "        'description': False,\n",
    "        'score_weather': False,\n",
    "        'id': False,\n",
    "        },\n",
    ")\n",
    "\n",
    "fig.update_layout(\n",
    "    width = 1100,\n",
    "    height = 800,\n",
    "    template='plotly_dark',\n",
    "    title_x=0.5,\n",
    "    title_text='20 best hotels from the 5 cities with the best weather')\n",
    "fig.show()"
   ]
  },
  {
   "cell_type": "code",
   "execution_count": null,
   "metadata": {},
   "outputs": [],
   "source": []
  }
 ],
 "metadata": {
  "interpreter": {
   "hash": "398748c372d42d99dcfa9ac8f694c5d292e22baf2e524ae29249ce2ce8b32818"
  },
  "kernelspec": {
   "display_name": "Python 3.9.10 ('base')",
   "language": "python",
   "name": "python3"
  },
  "language_info": {
   "codemirror_mode": {
    "name": "ipython",
    "version": 3
   },
   "file_extension": ".py",
   "mimetype": "text/x-python",
   "name": "python",
   "nbconvert_exporter": "python",
   "pygments_lexer": "ipython3",
   "version": "3.9.12"
  },
  "orig_nbformat": 4
 },
 "nbformat": 4,
 "nbformat_minor": 2
}
