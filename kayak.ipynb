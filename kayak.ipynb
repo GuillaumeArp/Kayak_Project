{
 "cells": [
  {
   "cell_type": "markdown",
   "metadata": {},
   "source": [
    "# Kayak Project"
   ]
  },
  {
   "cell_type": "markdown",
   "metadata": {},
   "source": [
    "## Imports"
   ]
  },
  {
   "cell_type": "code",
   "execution_count": 11,
   "metadata": {},
   "outputs": [
    {
     "name": "stdout",
     "output_type": "stream",
     "text": [
      "The dotenv extension is already loaded. To reload it, use:\n",
      "  %reload_ext dotenv\n"
     ]
    }
   ],
   "source": [
    "import pandas as pd\n",
    "import numpy as np\n",
    "import plotly.express as px\n",
    "import requests\n",
    "from dotenv import load_dotenv\n",
    "import os\n",
    "import logging\n",
    "import scrapy\n",
    "from scrapy.crawler import CrawlerProcess\n",
    "from bs4 import BeautifulSoup\n",
    "import requests\n",
    "import time\n",
    "import boto3\n",
    "\n",
    "load_dotenv()\n",
    "%load_ext dotenv\n",
    "%dotenv\n",
    "\n",
    "# Openweathermap API\n",
    "key = os.getenv('APIKEY')\n",
    "# RDS Connection\n",
    "DBHOST = os.getenv(\"DBHOST\")\n",
    "DBUSER = os.getenv(\"DBUSER\")\n",
    "DBPASS = os.getenv(\"DBPASS\")\n",
    "DBNAME = os.getenv(\"DBNAME\")"
   ]
  },
  {
   "cell_type": "code",
   "execution_count": 12,
   "metadata": {},
   "outputs": [],
   "source": [
    "# Importing the cities list\n",
    "cities = [\"Mont Saint Michel\", \"St Malo\", \"Bayeux\", \"Le Havre\", \"Rouen\", \"Paris\", \"Amiens\", \"Lille\", \"Strasbourg\", \"Chateau du Haut Koenigsbourg\", \"Colmar\", \"Eguisheim\", \"Besancon\", \"Dijon\", \"Annecy\", \"Grenoble\", \"Lyon\", \"Gorges du Verdon\", \"Bormes les Mimosas\", \"Cassis\", \"Marseille\", \"Aix en Provence\", \"Avignon\", \"Uzes\", \"Nimes\", \"Aigues Mortes\", \"Saintes Maries de la mer\", \"Collioure\", \"Carcassonne\", \"Ariege\", \"Toulouse\", \"Montauban\", \"Biarritz\", \"Bayonne\", \"La Rochelle\"]"
   ]
  },
  {
   "cell_type": "code",
   "execution_count": 13,
   "metadata": {},
   "outputs": [
    {
     "data": {
      "text/html": [
       "<div>\n",
       "<style scoped>\n",
       "    .dataframe tbody tr th:only-of-type {\n",
       "        vertical-align: middle;\n",
       "    }\n",
       "\n",
       "    .dataframe tbody tr th {\n",
       "        vertical-align: top;\n",
       "    }\n",
       "\n",
       "    .dataframe thead th {\n",
       "        text-align: right;\n",
       "    }\n",
       "</style>\n",
       "<table border=\"1\" class=\"dataframe\">\n",
       "  <thead>\n",
       "    <tr style=\"text-align: right;\">\n",
       "      <th></th>\n",
       "      <th>id</th>\n",
       "      <th>city</th>\n",
       "    </tr>\n",
       "  </thead>\n",
       "  <tbody>\n",
       "    <tr>\n",
       "      <th>0</th>\n",
       "      <td>0</td>\n",
       "      <td>Mont Saint Michel</td>\n",
       "    </tr>\n",
       "    <tr>\n",
       "      <th>1</th>\n",
       "      <td>1</td>\n",
       "      <td>St Malo</td>\n",
       "    </tr>\n",
       "    <tr>\n",
       "      <th>2</th>\n",
       "      <td>2</td>\n",
       "      <td>Bayeux</td>\n",
       "    </tr>\n",
       "    <tr>\n",
       "      <th>3</th>\n",
       "      <td>3</td>\n",
       "      <td>Le Havre</td>\n",
       "    </tr>\n",
       "    <tr>\n",
       "      <th>4</th>\n",
       "      <td>4</td>\n",
       "      <td>Rouen</td>\n",
       "    </tr>\n",
       "    <tr>\n",
       "      <th>5</th>\n",
       "      <td>5</td>\n",
       "      <td>Paris</td>\n",
       "    </tr>\n",
       "    <tr>\n",
       "      <th>6</th>\n",
       "      <td>6</td>\n",
       "      <td>Amiens</td>\n",
       "    </tr>\n",
       "    <tr>\n",
       "      <th>7</th>\n",
       "      <td>7</td>\n",
       "      <td>Lille</td>\n",
       "    </tr>\n",
       "    <tr>\n",
       "      <th>8</th>\n",
       "      <td>8</td>\n",
       "      <td>Strasbourg</td>\n",
       "    </tr>\n",
       "    <tr>\n",
       "      <th>9</th>\n",
       "      <td>9</td>\n",
       "      <td>Chateau du Haut Koenigsbourg</td>\n",
       "    </tr>\n",
       "    <tr>\n",
       "      <th>10</th>\n",
       "      <td>10</td>\n",
       "      <td>Colmar</td>\n",
       "    </tr>\n",
       "    <tr>\n",
       "      <th>11</th>\n",
       "      <td>11</td>\n",
       "      <td>Eguisheim</td>\n",
       "    </tr>\n",
       "    <tr>\n",
       "      <th>12</th>\n",
       "      <td>12</td>\n",
       "      <td>Besancon</td>\n",
       "    </tr>\n",
       "    <tr>\n",
       "      <th>13</th>\n",
       "      <td>13</td>\n",
       "      <td>Dijon</td>\n",
       "    </tr>\n",
       "    <tr>\n",
       "      <th>14</th>\n",
       "      <td>14</td>\n",
       "      <td>Annecy</td>\n",
       "    </tr>\n",
       "    <tr>\n",
       "      <th>15</th>\n",
       "      <td>15</td>\n",
       "      <td>Grenoble</td>\n",
       "    </tr>\n",
       "    <tr>\n",
       "      <th>16</th>\n",
       "      <td>16</td>\n",
       "      <td>Lyon</td>\n",
       "    </tr>\n",
       "    <tr>\n",
       "      <th>17</th>\n",
       "      <td>17</td>\n",
       "      <td>Gorges du Verdon</td>\n",
       "    </tr>\n",
       "    <tr>\n",
       "      <th>18</th>\n",
       "      <td>18</td>\n",
       "      <td>Bormes les Mimosas</td>\n",
       "    </tr>\n",
       "    <tr>\n",
       "      <th>19</th>\n",
       "      <td>19</td>\n",
       "      <td>Cassis</td>\n",
       "    </tr>\n",
       "    <tr>\n",
       "      <th>20</th>\n",
       "      <td>20</td>\n",
       "      <td>Marseille</td>\n",
       "    </tr>\n",
       "    <tr>\n",
       "      <th>21</th>\n",
       "      <td>21</td>\n",
       "      <td>Aix en Provence</td>\n",
       "    </tr>\n",
       "    <tr>\n",
       "      <th>22</th>\n",
       "      <td>22</td>\n",
       "      <td>Avignon</td>\n",
       "    </tr>\n",
       "    <tr>\n",
       "      <th>23</th>\n",
       "      <td>23</td>\n",
       "      <td>Uzes</td>\n",
       "    </tr>\n",
       "    <tr>\n",
       "      <th>24</th>\n",
       "      <td>24</td>\n",
       "      <td>Nimes</td>\n",
       "    </tr>\n",
       "    <tr>\n",
       "      <th>25</th>\n",
       "      <td>25</td>\n",
       "      <td>Aigues Mortes</td>\n",
       "    </tr>\n",
       "    <tr>\n",
       "      <th>26</th>\n",
       "      <td>26</td>\n",
       "      <td>Saintes Maries de la mer</td>\n",
       "    </tr>\n",
       "    <tr>\n",
       "      <th>27</th>\n",
       "      <td>27</td>\n",
       "      <td>Collioure</td>\n",
       "    </tr>\n",
       "    <tr>\n",
       "      <th>28</th>\n",
       "      <td>28</td>\n",
       "      <td>Carcassonne</td>\n",
       "    </tr>\n",
       "    <tr>\n",
       "      <th>29</th>\n",
       "      <td>29</td>\n",
       "      <td>Ariege</td>\n",
       "    </tr>\n",
       "    <tr>\n",
       "      <th>30</th>\n",
       "      <td>30</td>\n",
       "      <td>Toulouse</td>\n",
       "    </tr>\n",
       "    <tr>\n",
       "      <th>31</th>\n",
       "      <td>31</td>\n",
       "      <td>Montauban</td>\n",
       "    </tr>\n",
       "    <tr>\n",
       "      <th>32</th>\n",
       "      <td>32</td>\n",
       "      <td>Biarritz</td>\n",
       "    </tr>\n",
       "    <tr>\n",
       "      <th>33</th>\n",
       "      <td>33</td>\n",
       "      <td>Bayonne</td>\n",
       "    </tr>\n",
       "    <tr>\n",
       "      <th>34</th>\n",
       "      <td>34</td>\n",
       "      <td>La Rochelle</td>\n",
       "    </tr>\n",
       "  </tbody>\n",
       "</table>\n",
       "</div>"
      ],
      "text/plain": [
       "    id                          city\n",
       "0    0             Mont Saint Michel\n",
       "1    1                       St Malo\n",
       "2    2                        Bayeux\n",
       "3    3                      Le Havre\n",
       "4    4                         Rouen\n",
       "5    5                         Paris\n",
       "6    6                        Amiens\n",
       "7    7                         Lille\n",
       "8    8                    Strasbourg\n",
       "9    9  Chateau du Haut Koenigsbourg\n",
       "10  10                        Colmar\n",
       "11  11                     Eguisheim\n",
       "12  12                      Besancon\n",
       "13  13                         Dijon\n",
       "14  14                        Annecy\n",
       "15  15                      Grenoble\n",
       "16  16                          Lyon\n",
       "17  17              Gorges du Verdon\n",
       "18  18            Bormes les Mimosas\n",
       "19  19                        Cassis\n",
       "20  20                     Marseille\n",
       "21  21               Aix en Provence\n",
       "22  22                       Avignon\n",
       "23  23                          Uzes\n",
       "24  24                         Nimes\n",
       "25  25                 Aigues Mortes\n",
       "26  26      Saintes Maries de la mer\n",
       "27  27                     Collioure\n",
       "28  28                   Carcassonne\n",
       "29  29                        Ariege\n",
       "30  30                      Toulouse\n",
       "31  31                     Montauban\n",
       "32  32                      Biarritz\n",
       "33  33                       Bayonne\n",
       "34  34                   La Rochelle"
      ]
     },
     "execution_count": 13,
     "metadata": {},
     "output_type": "execute_result"
    }
   ],
   "source": [
    "# Creating a dataframe with the cities list\n",
    "df_cities = pd.DataFrame(columns=[\"city\"])\n",
    "df_cities['city'] = cities\n",
    "df_cities.reset_index(inplace=True)\n",
    "df_cities.rename(columns={'index': 'id'}, inplace=True)\n",
    "df_cities"
   ]
  },
  {
   "cell_type": "markdown",
   "metadata": {},
   "source": [
    "## Scraping Booking.com"
   ]
  },
  {
   "cell_type": "code",
   "execution_count": 5,
   "metadata": {},
   "outputs": [],
   "source": [
    "# Creating a copy of the dataframe\n",
    "df_booking = df_cities.copy(deep=True)\n",
    "\n",
    "# Defining the spider class\n",
    "class BookingSpider(scrapy.Spider):\n",
    "    name = \"Booking_data\"\n",
    "    cities = df_booking[\"city\"]\n",
    "    start_urls = ['https://www.booking.com/index.fr.html']\n",
    "\n",
    "    def parse(self, response):\n",
    "        for i in cities:\n",
    "            yield scrapy.FormRequest.from_response(\n",
    "            response,\n",
    "            formdata={'ss': i },\n",
    "            callback=self.after_search\n",
    "        )\n",
    "    # Important note: the classes names change often and may not be correct at a later date\n",
    "    def after_search(self, response):\n",
    "        cities = response.url.split(\"ss=\")[-1].split(\"&\")[0]\n",
    "                \n",
    "        booking = response.css('.d4924c9e74')\n",
    "        \n",
    "        for k in booking:\n",
    "            \n",
    "            yield {\n",
    "                'location': cities,\n",
    "                'name': k.css('a div.fcab3ed991.a23c043802::text').getall(),\n",
    "                'url': k.css('h3.a4225678b2 a::attr(href)').getall(),\n",
    "            }\n",
    "\n",
    "        try:\n",
    "            next_page = response.css('a.paging-next').attrib[\"href\"]\n",
    "        except KeyError:\n",
    "            logging.info('No next page. Terminating crawling process.')\n",
    "        else:\n",
    "            yield response.follow(next_page, callback=self.after_search)"
   ]
  },
  {
   "cell_type": "code",
   "execution_count": 5,
   "metadata": {},
   "outputs": [
    {
     "name": "stderr",
     "output_type": "stream",
     "text": [
      "2022-04-14 22:32:20 [scrapy.utils.log] INFO: Scrapy 2.6.1 started (bot: scrapybot)\n",
      "2022-04-14 22:32:20 [scrapy.utils.log] INFO: Versions: lxml 4.8.0.0, libxml2 2.9.12, cssselect 1.1.0, parsel 1.6.0, w3lib 1.22.0, Twisted 22.2.0, Python 3.9.11 (main, Mar 29 2022, 19:08:29) - [GCC 7.5.0], pyOpenSSL 22.0.0 (OpenSSL 1.1.1n  15 Mar 2022), cryptography 36.0.0, Platform Linux-5.13.0-39-generic-x86_64-with-glibc2.31\n",
      "2022-04-14 22:32:20 [scrapy.crawler] INFO: Overridden settings:\n",
      "{'AUTOTHROTTLE_ENABLED': True,\n",
      " 'LOG_LEVEL': 20,\n",
      " 'USER_AGENT': 'Mozilla/5.0 (Windows NT 10.0; Win64; x64; rv:92.0) '\n",
      "               'Gecko/20100101 Firefox/92.0'}\n",
      "2022-04-14 22:32:20 [scrapy.extensions.telnet] INFO: Telnet Password: fae05b61e55cb43f\n",
      "2022-04-14 22:32:20 [scrapy.middleware] INFO: Enabled extensions:\n",
      "['scrapy.extensions.corestats.CoreStats',\n",
      " 'scrapy.extensions.telnet.TelnetConsole',\n",
      " 'scrapy.extensions.memusage.MemoryUsage',\n",
      " 'scrapy.extensions.feedexport.FeedExporter',\n",
      " 'scrapy.extensions.logstats.LogStats',\n",
      " 'scrapy.extensions.throttle.AutoThrottle']\n",
      "2022-04-14 22:32:20 [scrapy.middleware] INFO: Enabled downloader middlewares:\n",
      "['scrapy.downloadermiddlewares.httpauth.HttpAuthMiddleware',\n",
      " 'scrapy.downloadermiddlewares.downloadtimeout.DownloadTimeoutMiddleware',\n",
      " 'scrapy.downloadermiddlewares.defaultheaders.DefaultHeadersMiddleware',\n",
      " 'scrapy.downloadermiddlewares.useragent.UserAgentMiddleware',\n",
      " 'scrapy.downloadermiddlewares.retry.RetryMiddleware',\n",
      " 'scrapy.downloadermiddlewares.redirect.MetaRefreshMiddleware',\n",
      " 'scrapy.downloadermiddlewares.httpcompression.HttpCompressionMiddleware',\n",
      " 'scrapy.downloadermiddlewares.redirect.RedirectMiddleware',\n",
      " 'scrapy.downloadermiddlewares.cookies.CookiesMiddleware',\n",
      " 'scrapy.downloadermiddlewares.httpproxy.HttpProxyMiddleware',\n",
      " 'scrapy.downloadermiddlewares.stats.DownloaderStats']\n",
      "2022-04-14 22:32:20 [scrapy.middleware] INFO: Enabled spider middlewares:\n",
      "['scrapy.spidermiddlewares.httperror.HttpErrorMiddleware',\n",
      " 'scrapy.spidermiddlewares.offsite.OffsiteMiddleware',\n",
      " 'scrapy.spidermiddlewares.referer.RefererMiddleware',\n",
      " 'scrapy.spidermiddlewares.urllength.UrlLengthMiddleware',\n",
      " 'scrapy.spidermiddlewares.depth.DepthMiddleware']\n",
      "2022-04-14 22:32:20 [scrapy.middleware] INFO: Enabled item pipelines:\n",
      "[]\n",
      "2022-04-14 22:32:20 [scrapy.core.engine] INFO: Spider opened\n",
      "2022-04-14 22:32:20 [scrapy.extensions.logstats] INFO: Crawled 0 pages (at 0 pages/min), scraped 0 items (at 0 items/min)\n",
      "2022-04-14 22:32:20 [scrapy.extensions.telnet] INFO: Telnet console listening on 127.0.0.1:6023\n",
      "2022-04-14 22:32:28 [root] INFO: No next page. Terminating crawling process.\n",
      "2022-04-14 22:32:31 [root] INFO: No next page. Terminating crawling process.\n",
      "2022-04-14 22:32:33 [root] INFO: No next page. Terminating crawling process.\n",
      "2022-04-14 22:32:34 [root] INFO: No next page. Terminating crawling process.\n",
      "2022-04-14 22:32:35 [root] INFO: No next page. Terminating crawling process.\n",
      "2022-04-14 22:32:36 [root] INFO: No next page. Terminating crawling process.\n",
      "2022-04-14 22:32:36 [root] INFO: No next page. Terminating crawling process.\n",
      "2022-04-14 22:32:37 [root] INFO: No next page. Terminating crawling process.\n",
      "2022-04-14 22:32:37 [root] INFO: No next page. Terminating crawling process.\n",
      "2022-04-14 22:32:38 [root] INFO: No next page. Terminating crawling process.\n",
      "2022-04-14 22:32:38 [root] INFO: No next page. Terminating crawling process.\n",
      "2022-04-14 22:32:38 [root] INFO: No next page. Terminating crawling process.\n",
      "2022-04-14 22:32:39 [root] INFO: No next page. Terminating crawling process.\n",
      "2022-04-14 22:32:39 [root] INFO: No next page. Terminating crawling process.\n",
      "2022-04-14 22:32:40 [root] INFO: No next page. Terminating crawling process.\n",
      "2022-04-14 22:32:40 [root] INFO: No next page. Terminating crawling process.\n",
      "2022-04-14 22:32:41 [root] INFO: No next page. Terminating crawling process.\n",
      "2022-04-14 22:32:42 [root] INFO: No next page. Terminating crawling process.\n",
      "2022-04-14 22:32:42 [root] INFO: No next page. Terminating crawling process.\n",
      "2022-04-14 22:32:42 [root] INFO: No next page. Terminating crawling process.\n",
      "2022-04-14 22:32:43 [root] INFO: No next page. Terminating crawling process.\n",
      "2022-04-14 22:32:43 [root] INFO: No next page. Terminating crawling process.\n",
      "2022-04-14 22:32:43 [root] INFO: No next page. Terminating crawling process.\n",
      "2022-04-14 22:32:44 [root] INFO: No next page. Terminating crawling process.\n",
      "2022-04-14 22:32:44 [root] INFO: No next page. Terminating crawling process.\n",
      "2022-04-14 22:32:44 [root] INFO: No next page. Terminating crawling process.\n",
      "2022-04-14 22:32:45 [root] INFO: No next page. Terminating crawling process.\n",
      "2022-04-14 22:32:45 [root] INFO: No next page. Terminating crawling process.\n",
      "2022-04-14 22:32:46 [root] INFO: No next page. Terminating crawling process.\n",
      "2022-04-14 22:32:46 [root] INFO: No next page. Terminating crawling process.\n",
      "2022-04-14 22:32:47 [root] INFO: No next page. Terminating crawling process.\n",
      "2022-04-14 22:32:47 [root] INFO: No next page. Terminating crawling process.\n",
      "2022-04-14 22:32:47 [root] INFO: No next page. Terminating crawling process.\n",
      "2022-04-14 22:32:48 [root] INFO: No next page. Terminating crawling process.\n",
      "2022-04-14 22:32:48 [root] INFO: No next page. Terminating crawling process.\n",
      "2022-04-14 22:32:48 [scrapy.core.engine] INFO: Closing spider (finished)\n",
      "2022-04-14 22:32:48 [scrapy.extensions.feedexport] INFO: Stored json feed (35 items) in: cities.json\n",
      "2022-04-14 22:32:48 [scrapy.statscollectors] INFO: Dumping Scrapy stats:\n",
      "{'downloader/request_bytes': 50685,\n",
      " 'downloader/request_count': 36,\n",
      " 'downloader/request_method_count/GET': 36,\n",
      " 'downloader/response_bytes': 6236003,\n",
      " 'downloader/response_count': 36,\n",
      " 'downloader/response_status_count/200': 36,\n",
      " 'elapsed_time_seconds': 28.129696,\n",
      " 'feedexport/success_count/FileFeedStorage': 1,\n",
      " 'finish_reason': 'finished',\n",
      " 'finish_time': datetime.datetime(2022, 4, 14, 20, 32, 48, 888005),\n",
      " 'httpcompression/response_bytes': 41716200,\n",
      " 'httpcompression/response_count': 36,\n",
      " 'item_scraped_count': 35,\n",
      " 'log_count/INFO': 46,\n",
      " 'memusage/max': 164179968,\n",
      " 'memusage/startup': 164179968,\n",
      " 'request_depth_max': 1,\n",
      " 'response_received_count': 36,\n",
      " 'scheduler/dequeued': 36,\n",
      " 'scheduler/dequeued/memory': 36,\n",
      " 'scheduler/enqueued': 36,\n",
      " 'scheduler/enqueued/memory': 36,\n",
      " 'start_time': datetime.datetime(2022, 4, 14, 20, 32, 20, 758309)}\n",
      "2022-04-14 22:32:48 [scrapy.core.engine] INFO: Spider closed (finished)\n"
     ]
    }
   ],
   "source": [
    "# Initializing the crawler process\n",
    "filename = \"cities.json\"\n",
    "\n",
    "if filename in os.listdir():\n",
    "        os.remove(filename)\n",
    "\n",
    "process = CrawlerProcess(settings = {\n",
    "    'USER_AGENT': 'Mozilla/5.0 (Windows NT 10.0; Win64; x64; rv:92.0) Gecko/20100101 Firefox/92.0',\n",
    "    'LOG_LEVEL': logging.INFO,\n",
    "    \"FEEDS\": {\n",
    "        filename: {\"format\": \"json\"},\n",
    "    },\n",
    "    \"AUTOTHROTTLE_ENABLED\": True\n",
    "})\n",
    "\n",
    "process.crawl(BookingSpider)\n",
    "process.start()"
   ]
  },
  {
   "cell_type": "code",
   "execution_count": 6,
   "metadata": {},
   "outputs": [
    {
     "data": {
      "text/html": [
       "<div>\n",
       "<style scoped>\n",
       "    .dataframe tbody tr th:only-of-type {\n",
       "        vertical-align: middle;\n",
       "    }\n",
       "\n",
       "    .dataframe tbody tr th {\n",
       "        vertical-align: top;\n",
       "    }\n",
       "\n",
       "    .dataframe thead th {\n",
       "        text-align: right;\n",
       "    }\n",
       "</style>\n",
       "<table border=\"1\" class=\"dataframe\">\n",
       "  <thead>\n",
       "    <tr style=\"text-align: right;\">\n",
       "      <th></th>\n",
       "      <th>location</th>\n",
       "      <th>name</th>\n",
       "      <th>url</th>\n",
       "    </tr>\n",
       "  </thead>\n",
       "  <tbody>\n",
       "    <tr>\n",
       "      <th>0</th>\n",
       "      <td>Mont+Saint+Michel</td>\n",
       "      <td>[Le Relais Saint Michel, La Mère Poulard, Merc...</td>\n",
       "      <td>[https://www.booking.com/hotel/fr/le-relais-sa...</td>\n",
       "    </tr>\n",
       "    <tr>\n",
       "      <th>1</th>\n",
       "      <td>St+Malo</td>\n",
       "      <td>[Studio cocooning, Apartment, St Malo, Petite ...</td>\n",
       "      <td>[https://www.booking.com/hotel/fr/studio-cocoo...</td>\n",
       "    </tr>\n",
       "    <tr>\n",
       "      <th>2</th>\n",
       "      <td>Bayeux</td>\n",
       "      <td>[Premiere Classe Bayeux, ibis budget Bayeux, L...</td>\n",
       "      <td>[https://www.booking.com/hotel/fr/premiere-cla...</td>\n",
       "    </tr>\n",
       "    <tr>\n",
       "      <th>3</th>\n",
       "      <td>Le+Havre</td>\n",
       "      <td>[Holiday Inn Express - Le Havre Centre, Ibis B...</td>\n",
       "      <td>[https://www.booking.com/hotel/fr/campanile-le...</td>\n",
       "    </tr>\n",
       "    <tr>\n",
       "      <th>4</th>\n",
       "      <td>Rouen</td>\n",
       "      <td>[Maison hypercentre Rouen tout confort, L'Aute...</td>\n",
       "      <td>[https://www.booking.com/hotel/fr/maison-hyper...</td>\n",
       "    </tr>\n",
       "  </tbody>\n",
       "</table>\n",
       "</div>"
      ],
      "text/plain": [
       "            location                                               name  \\\n",
       "0  Mont+Saint+Michel  [Le Relais Saint Michel, La Mère Poulard, Merc...   \n",
       "1            St+Malo  [Studio cocooning, Apartment, St Malo, Petite ...   \n",
       "2             Bayeux  [Premiere Classe Bayeux, ibis budget Bayeux, L...   \n",
       "3           Le+Havre  [Holiday Inn Express - Le Havre Centre, Ibis B...   \n",
       "4              Rouen  [Maison hypercentre Rouen tout confort, L'Aute...   \n",
       "\n",
       "                                                 url  \n",
       "0  [https://www.booking.com/hotel/fr/le-relais-sa...  \n",
       "1  [https://www.booking.com/hotel/fr/studio-cocoo...  \n",
       "2  [https://www.booking.com/hotel/fr/premiere-cla...  \n",
       "3  [https://www.booking.com/hotel/fr/campanile-le...  \n",
       "4  [https://www.booking.com/hotel/fr/maison-hyper...  "
      ]
     },
     "execution_count": 6,
     "metadata": {},
     "output_type": "execute_result"
    }
   ],
   "source": [
    "# Reading the scraped json data into a new dataframe\n",
    "df = pd.read_json(\"cities.json\")\n",
    "df.head()"
   ]
  },
  {
   "cell_type": "code",
   "execution_count": 7,
   "metadata": {},
   "outputs": [],
   "source": [
    "# Keeping only the first 20 items from each list\n",
    "for i in range (len(df[\"location\"])):\n",
    "    df[\"name\"][i] = df[\"name\"][i][:20]\n",
    "    df[\"url\"][i] = df[\"url\"][i][:20]\n"
   ]
  },
  {
   "cell_type": "code",
   "execution_count": 7,
   "metadata": {},
   "outputs": [
    {
     "name": "stdout",
     "output_type": "stream",
     "text": [
      "Mont+Saint+Michel completed\n",
      "St+Malo completed\n",
      "Bayeux completed\n",
      "Le+Havre completed\n",
      "Rouen completed\n",
      "Paris completed\n",
      "Amiens completed\n",
      "Lille completed\n",
      "Strasbourg completed\n",
      "Chateau+du+Haut+Koenigsbourg completed\n",
      "Colmar completed\n",
      "Eguisheim completed\n",
      "Besancon completed\n",
      "Dijon completed\n",
      "Annecy completed\n",
      "Grenoble completed\n",
      "La+Rochelle completed\n",
      "Bayonne completed\n",
      "Biarritz completed\n",
      "Montauban completed\n",
      "Toulouse completed\n",
      "Ariege completed\n",
      "Carcassonne completed\n",
      "Collioure completed\n",
      "Saintes+Maries+de+la+mer completed\n",
      "Aigues+Mortes completed\n",
      "Nimes completed\n",
      "Uzes completed\n",
      "Avignon completed\n",
      "Aix+en+Provence completed\n",
      "Marseille completed\n",
      "Cassis completed\n",
      "Bormes+les+Mimosas completed\n",
      "Gorges+du+Verdon completed\n",
      "Lyon completed\n",
      "Task completed\n"
     ]
    }
   ],
   "source": [
    "# Initializing the scraper with BeautifulSoup\n",
    "lat_full = []\n",
    "lon_full = []\n",
    "description_full = []\n",
    "score_full = []\n",
    "\n",
    "navigator = 'Mozilla/5.0 (Macintosh; Intel Mac OS X 10_10_1)'\n",
    "\n",
    "for i in range(len(df[\"url\"])):\n",
    "    lat_list = []\n",
    "    lon_list = []\n",
    "    description_list = []\n",
    "    score_list = []\n",
    "    hotel_list = df[\"url\"][i]\n",
    "\n",
    "    for j in hotel_list:\n",
    "\n",
    "        # In some cases, the process will return an error on the first attempt\n",
    "        try:\n",
    "            page = requests.get(j, headers={'User-Agent': navigator})\n",
    "            soup = BeautifulSoup(page.text, 'html.parser')\n",
    "        except:\n",
    "            page = requests.get(j, headers={'User-Agent': navigator})\n",
    "            soup = BeautifulSoup(page.text, 'html.parser')\n",
    "\n",
    "        lat_list.append(soup.select('p.address.address_clean a')[0].get(\"data-atlas-latlng\").split(\",\")[0])\n",
    "        lon_list.append(soup.select('p.address.address_clean a')[0].get(\"data-atlas-latlng\").split(\",\")[1])\n",
    "        description_list.append(soup.select('div#property_description_content')[0].get_text())\n",
    "\n",
    "        try:\n",
    "            score_list.append(soup.select('div.b5cd09854e.d10a6220b4')[0].get_text())\n",
    "            \n",
    "        except:\n",
    "            # If the score is missing, setting the default value to 5.0\n",
    "            score_list.append(\"5.0\")\n",
    "\n",
    "        # Setting up a wait timer to avoid spamming the website\n",
    "        time.sleep(1.4)\n",
    "        \n",
    "    lat_full.append(lat_list)\n",
    "    lon_full.append(lon_list)\n",
    "    description_full.append(description_list)\n",
    "    score_full.append(score_list)\n",
    "    \n",
    "    # Printing the progress, the whole process takes a bit more than 40 minutes\n",
    "    print (f\"{df['location'].iloc[i]} completed\")\n",
    "\n",
    "# Adding new columns based on lists of lists gathered above    \n",
    "df[\"lat\"] = lat_full\n",
    "df[\"lon\"] = lon_full\n",
    "df[\"description\"] = description_full\n",
    "df[\"score\"] = score_full\n",
    "print('Task completed')"
   ]
  },
  {
   "cell_type": "code",
   "execution_count": 8,
   "metadata": {},
   "outputs": [],
   "source": [
    "# Replacing the + in cities names and reindexing the dataframe to add the id column that will be useful to merge later\n",
    "df[\"location\"] = df[\"location\"].str.replace(\"+\", \" \", regex=True)\n",
    "df = df.set_index(\"location\")\n",
    "df = df.reindex(cities)\n",
    "df.reset_index(inplace=True)\n",
    "df.reset_index(inplace=True)\n",
    "df.rename(columns={'index': 'id'}, inplace=True)"
   ]
  },
  {
   "cell_type": "markdown",
   "metadata": {},
   "source": [
    "## Getting API Data"
   ]
  },
  {
   "cell_type": "markdown",
   "metadata": {},
   "source": [
    "### GPS Coordinates"
   ]
  },
  {
   "cell_type": "code",
   "execution_count": 14,
   "metadata": {},
   "outputs": [],
   "source": [
    "# Creating another copy of the cities dataframe to store the coordinates data from Nominatim API\n",
    "df_gps = df_cities.copy(deep=True)\n",
    "lat_list = []\n",
    "lon_list = []\n",
    "\n",
    "for i in cities:\n",
    "    # There is no Gorges du Verdon city, replacing by the closest city instead\n",
    "    if i == \"Gorges du Verdon\":\n",
    "        i = \"La%20Palud-sur-Verdon\"\n",
    "        r = requests.get(f\"https://nominatim.openstreetmap.org/search?city={i}&format=json\").json()\n",
    "        lat_list.append(r[0]['lat'])\n",
    "        lon_list.append(r[0]['lon'])\n",
    "    # Ariege is not a city, using the county instead here\n",
    "    elif i == 'Ariege':\n",
    "        r = requests.get(f\"https://nominatim.openstreetmap.org/search?county={i}&format=json\").json()\n",
    "        lat_list.append(r[0]['lat'])\n",
    "        lon_list.append(r[0]['lon'])\n",
    "    # Replacing the whitespace by a web friendly notation\n",
    "    else:\n",
    "        name = i.replace(\" \", \"%20\")\n",
    "        r = requests.get(f\"https://nominatim.openstreetmap.org/search?city={name}&format=json\").json()\n",
    "        lat_list.append(r[0]['lat'])\n",
    "        lon_list.append(r[0]['lon'])\n",
    " \n",
    "# Adding the coordinates to the dataframe   \n",
    "df_gps['lat'] = lat_list\n",
    "df_gps['lon'] = lon_list "
   ]
  },
  {
   "cell_type": "code",
   "execution_count": 15,
   "metadata": {},
   "outputs": [
    {
     "data": {
      "text/html": [
       "<div>\n",
       "<style scoped>\n",
       "    .dataframe tbody tr th:only-of-type {\n",
       "        vertical-align: middle;\n",
       "    }\n",
       "\n",
       "    .dataframe tbody tr th {\n",
       "        vertical-align: top;\n",
       "    }\n",
       "\n",
       "    .dataframe thead th {\n",
       "        text-align: right;\n",
       "    }\n",
       "</style>\n",
       "<table border=\"1\" class=\"dataframe\">\n",
       "  <thead>\n",
       "    <tr style=\"text-align: right;\">\n",
       "      <th></th>\n",
       "      <th>id</th>\n",
       "      <th>city</th>\n",
       "      <th>lat</th>\n",
       "      <th>lon</th>\n",
       "    </tr>\n",
       "  </thead>\n",
       "  <tbody>\n",
       "    <tr>\n",
       "      <th>0</th>\n",
       "      <td>0</td>\n",
       "      <td>Mont Saint Michel</td>\n",
       "      <td>48.6359541</td>\n",
       "      <td>-1.511459954959514</td>\n",
       "    </tr>\n",
       "    <tr>\n",
       "      <th>1</th>\n",
       "      <td>1</td>\n",
       "      <td>St Malo</td>\n",
       "      <td>48.649518</td>\n",
       "      <td>-2.0260409</td>\n",
       "    </tr>\n",
       "    <tr>\n",
       "      <th>2</th>\n",
       "      <td>2</td>\n",
       "      <td>Bayeux</td>\n",
       "      <td>49.2764624</td>\n",
       "      <td>-0.7024738</td>\n",
       "    </tr>\n",
       "    <tr>\n",
       "      <th>3</th>\n",
       "      <td>3</td>\n",
       "      <td>Le Havre</td>\n",
       "      <td>49.4938975</td>\n",
       "      <td>0.1079732</td>\n",
       "    </tr>\n",
       "    <tr>\n",
       "      <th>4</th>\n",
       "      <td>4</td>\n",
       "      <td>Rouen</td>\n",
       "      <td>49.4404591</td>\n",
       "      <td>1.0939658</td>\n",
       "    </tr>\n",
       "  </tbody>\n",
       "</table>\n",
       "</div>"
      ],
      "text/plain": [
       "   id               city         lat                 lon\n",
       "0   0  Mont Saint Michel  48.6359541  -1.511459954959514\n",
       "1   1            St Malo   48.649518          -2.0260409\n",
       "2   2             Bayeux  49.2764624          -0.7024738\n",
       "3   3           Le Havre  49.4938975           0.1079732\n",
       "4   4              Rouen  49.4404591           1.0939658"
      ]
     },
     "execution_count": 15,
     "metadata": {},
     "output_type": "execute_result"
    }
   ],
   "source": [
    "df_gps.head()"
   ]
  },
  {
   "cell_type": "markdown",
   "metadata": {},
   "source": [
    "### Weather Data"
   ]
  },
  {
   "cell_type": "code",
   "execution_count": 16,
   "metadata": {},
   "outputs": [],
   "source": [
    "# Getting the weather data based on coordinates from the Openweathermap API\n",
    "df_full = df_gps.copy(deep=True)\n",
    "temps_list = []\n",
    "rain_pop = []\n",
    "humidity_list = []\n",
    "# The days list will be used to store data as items of a list for day +1 to day +7\n",
    "days = list(range(1,8))\n",
    "\n",
    "for i in df_full.itertuples():\n",
    "    lat = i.lat\n",
    "    lon = i.lon\n",
    "    r = requests.get(f\"https://api.openweathermap.org/data/2.5/onecall?lat={lat}&lon={lon}&units=metric&appid={key}\").json()\n",
    "    weather_7_days = r['daily'][1:] # Getting the weather data for the next 7 days, first item is the current weather, which we don't want here\n",
    "    temps = [j['feels_like']['day'] for j in weather_7_days]\n",
    "    rain = [int(j['pop'] * 100) for j in weather_7_days]\n",
    "    humidity = [j['humidity'] for j in weather_7_days]\n",
    "    temps_list.append(temps)\n",
    "    rain_pop.append(rain)\n",
    "    humidity_list.append(humidity)\n",
    "    \n",
    "df_full['day_plus'] = [days for _ in range(len(df_full))]\n",
    "df_full['felt_temperature'] = temps_list\n",
    "df_full['rain_chances'] = rain_pop\n",
    "df_full['humidity'] = humidity_list\n",
    "# Calculation of a weather quality indicator, using absolute value of 35 - temperature (with a weight of 2), chances of rain as a percentage, and humidity as a percentage (with a weight of 0.5) - lower is better\n",
    "df_full['score_weather'] = df_full.apply(lambda x: abs((35 - np.mean(x['felt_temperature'])) * 2) + np.mean(x['rain_chances']) + (np.mean(x['humidity']) / 2), axis=1)   "
   ]
  },
  {
   "cell_type": "code",
   "execution_count": 12,
   "metadata": {},
   "outputs": [
    {
     "data": {
      "text/html": [
       "<div>\n",
       "<style scoped>\n",
       "    .dataframe tbody tr th:only-of-type {\n",
       "        vertical-align: middle;\n",
       "    }\n",
       "\n",
       "    .dataframe tbody tr th {\n",
       "        vertical-align: top;\n",
       "    }\n",
       "\n",
       "    .dataframe thead th {\n",
       "        text-align: right;\n",
       "    }\n",
       "</style>\n",
       "<table border=\"1\" class=\"dataframe\">\n",
       "  <thead>\n",
       "    <tr style=\"text-align: right;\">\n",
       "      <th></th>\n",
       "      <th>id</th>\n",
       "      <th>city</th>\n",
       "      <th>lat</th>\n",
       "      <th>lon</th>\n",
       "      <th>day_plus</th>\n",
       "      <th>felt_temperature</th>\n",
       "      <th>rain_chances</th>\n",
       "      <th>humidity</th>\n",
       "      <th>score_weather</th>\n",
       "    </tr>\n",
       "  </thead>\n",
       "  <tbody>\n",
       "    <tr>\n",
       "      <th>0</th>\n",
       "      <td>0</td>\n",
       "      <td>Mont Saint Michel</td>\n",
       "      <td>48.6359541</td>\n",
       "      <td>-1.511459954959514</td>\n",
       "      <td>[1, 2, 3, 4, 5, 6, 7]</td>\n",
       "      <td>[15.67, 16.18, 12.48, 15.19, 13.85, 14.85, 17.06]</td>\n",
       "      <td>[0, 0, 85, 100, 6, 0, 77]</td>\n",
       "      <td>[50, 56, 87, 59, 58, 54, 66]</td>\n",
       "      <td>108.920000</td>\n",
       "    </tr>\n",
       "    <tr>\n",
       "      <th>1</th>\n",
       "      <td>1</td>\n",
       "      <td>St Malo</td>\n",
       "      <td>48.649518</td>\n",
       "      <td>-2.0260409</td>\n",
       "      <td>[1, 2, 3, 4, 5, 6, 7]</td>\n",
       "      <td>[13.36, 13.98, 11.35, 12.99, 11.72, 12.41, 14.74]</td>\n",
       "      <td>[0, 6, 79, 100, 13, 1, 63]</td>\n",
       "      <td>[59, 67, 89, 69, 67, 67, 76]</td>\n",
       "      <td>116.842857</td>\n",
       "    </tr>\n",
       "    <tr>\n",
       "      <th>2</th>\n",
       "      <td>2</td>\n",
       "      <td>Bayeux</td>\n",
       "      <td>49.2764624</td>\n",
       "      <td>-0.7024738</td>\n",
       "      <td>[1, 2, 3, 4, 5, 6, 7]</td>\n",
       "      <td>[13.74, 12.72, 11.53, 12.14, 11.07, 11.7, 10.62]</td>\n",
       "      <td>[0, 0, 71, 77, 0, 0, 87]</td>\n",
       "      <td>[63, 72, 86, 69, 64, 63, 86]</td>\n",
       "      <td>115.637143</td>\n",
       "    </tr>\n",
       "    <tr>\n",
       "      <th>3</th>\n",
       "      <td>3</td>\n",
       "      <td>Le Havre</td>\n",
       "      <td>49.4938975</td>\n",
       "      <td>0.1079732</td>\n",
       "      <td>[1, 2, 3, 4, 5, 6, 7]</td>\n",
       "      <td>[13.5, 12.63, 14.55, 11.81, 9.59, 10.51, 13.71]</td>\n",
       "      <td>[0, 0, 51, 47, 0, 0, 49]</td>\n",
       "      <td>[61, 69, 70, 66, 67, 65, 65]</td>\n",
       "      <td>99.414286</td>\n",
       "    </tr>\n",
       "    <tr>\n",
       "      <th>4</th>\n",
       "      <td>4</td>\n",
       "      <td>Rouen</td>\n",
       "      <td>49.4404591</td>\n",
       "      <td>1.0939658</td>\n",
       "      <td>[1, 2, 3, 4, 5, 6, 7]</td>\n",
       "      <td>[14.58, 13.61, 15.52, 12.71, 12.44, 13.26, 15.75]</td>\n",
       "      <td>[0, 0, 46, 33, 20, 0, 0]</td>\n",
       "      <td>[57, 64, 67, 60, 58, 58, 59]</td>\n",
       "      <td>86.394286</td>\n",
       "    </tr>\n",
       "  </tbody>\n",
       "</table>\n",
       "</div>"
      ],
      "text/plain": [
       "   id               city         lat                 lon  \\\n",
       "0   0  Mont Saint Michel  48.6359541  -1.511459954959514   \n",
       "1   1            St Malo   48.649518          -2.0260409   \n",
       "2   2             Bayeux  49.2764624          -0.7024738   \n",
       "3   3           Le Havre  49.4938975           0.1079732   \n",
       "4   4              Rouen  49.4404591           1.0939658   \n",
       "\n",
       "                day_plus                                   felt_temperature  \\\n",
       "0  [1, 2, 3, 4, 5, 6, 7]  [15.67, 16.18, 12.48, 15.19, 13.85, 14.85, 17.06]   \n",
       "1  [1, 2, 3, 4, 5, 6, 7]  [13.36, 13.98, 11.35, 12.99, 11.72, 12.41, 14.74]   \n",
       "2  [1, 2, 3, 4, 5, 6, 7]   [13.74, 12.72, 11.53, 12.14, 11.07, 11.7, 10.62]   \n",
       "3  [1, 2, 3, 4, 5, 6, 7]    [13.5, 12.63, 14.55, 11.81, 9.59, 10.51, 13.71]   \n",
       "4  [1, 2, 3, 4, 5, 6, 7]  [14.58, 13.61, 15.52, 12.71, 12.44, 13.26, 15.75]   \n",
       "\n",
       "                 rain_chances                      humidity  score_weather  \n",
       "0   [0, 0, 85, 100, 6, 0, 77]  [50, 56, 87, 59, 58, 54, 66]     108.920000  \n",
       "1  [0, 6, 79, 100, 13, 1, 63]  [59, 67, 89, 69, 67, 67, 76]     116.842857  \n",
       "2    [0, 0, 71, 77, 0, 0, 87]  [63, 72, 86, 69, 64, 63, 86]     115.637143  \n",
       "3    [0, 0, 51, 47, 0, 0, 49]  [61, 69, 70, 66, 67, 65, 65]      99.414286  \n",
       "4    [0, 0, 46, 33, 20, 0, 0]  [57, 64, 67, 60, 58, 58, 59]      86.394286  "
      ]
     },
     "execution_count": 12,
     "metadata": {},
     "output_type": "execute_result"
    }
   ],
   "source": [
    "df_full.head()"
   ]
  },
  {
   "cell_type": "markdown",
   "metadata": {},
   "source": [
    "## Merging Data"
   ]
  },
  {
   "cell_type": "code",
   "execution_count": 13,
   "metadata": {},
   "outputs": [],
   "source": [
    "# Renaming coordinates columns to avoid confusion between city and hotel coordinates\n",
    "df.rename(columns={'lat': 'lat_hotels', 'lon': 'lon_hotels'}, inplace=True)"
   ]
  },
  {
   "cell_type": "code",
   "execution_count": 14,
   "metadata": {},
   "outputs": [
    {
     "name": "stdout",
     "output_type": "stream",
     "text": [
      "(35, 15)\n"
     ]
    }
   ],
   "source": [
    "# Merging the hotels and weather dataframes, and dropping the unnecessary location column\n",
    "df_complete = pd.merge(df_full, df, on='id')\n",
    "df_complete.drop(columns=['location'], inplace=True)\n",
    "print(df_complete.shape)\n",
    "\n",
    "# Saving the merged dataset as a csv file\n",
    "df_complete.to_csv('df_complete.csv', index=False, header=True)"
   ]
  },
  {
   "cell_type": "markdown",
   "metadata": {},
   "source": [
    "## Storing the dataset in a S3 data lake"
   ]
  },
  {
   "cell_type": "code",
   "execution_count": 15,
   "metadata": {},
   "outputs": [],
   "source": [
    "# Loading the S3 dession and resource\n",
    "session = boto3.Session()\n",
    "s3 = boto3.resource('s3')"
   ]
  },
  {
   "cell_type": "code",
   "execution_count": 16,
   "metadata": {},
   "outputs": [],
   "source": [
    "# Uploading the file to S3\n",
    "s3.Bucket('kayak-project-garp').upload_file('df_complete.csv', 'df_complete.csv')"
   ]
  },
  {
   "cell_type": "code",
   "execution_count": 38,
   "metadata": {},
   "outputs": [
    {
     "data": {
      "text/plain": [
       "(35, 15)"
      ]
     },
     "execution_count": 38,
     "metadata": {},
     "output_type": "execute_result"
    }
   ],
   "source": [
    "# Downloading the file from S3 and checking it kept the same shape.\n",
    "df_s3 = pd.read_csv('s3://kayak-project-garp/df_complete.csv')\n",
    "df_s3.shape"
   ]
  },
  {
   "cell_type": "markdown",
   "metadata": {},
   "source": [
    "## Transforming"
   ]
  },
  {
   "cell_type": "code",
   "execution_count": 39,
   "metadata": {},
   "outputs": [],
   "source": [
    "# Splitting the dataframe into 2 tables\n",
    "\n",
    "df_weather = df_s3[['id', 'city', 'lat', 'lon', 'day_plus', 'felt_temperature', 'rain_chances', 'humidity', 'score_weather']]\n",
    "df_hotels = df_s3[['id', 'city', 'name', 'url', 'lat_hotels', 'lon_hotels', 'description', 'score', 'score_weather']]"
   ]
  },
  {
   "cell_type": "code",
   "execution_count": 10,
   "metadata": {},
   "outputs": [
    {
     "ename": "NameError",
     "evalue": "name 'df_weather' is not defined",
     "output_type": "error",
     "traceback": [
      "\u001b[0;31m---------------------------------------------------------------------------\u001b[0m",
      "\u001b[0;31mNameError\u001b[0m                                 Traceback (most recent call last)",
      "\u001b[1;32m/Users/guillaumearp/Python_Projects/Kayak_Project/kayak.ipynb Cell 29'\u001b[0m in \u001b[0;36m<cell line: 1>\u001b[0;34m()\u001b[0m\n\u001b[0;32m----> <a href='vscode-notebook-cell:/Users/guillaumearp/Python_Projects/Kayak_Project/kayak.ipynb#ch0000028?line=0'>1</a>\u001b[0m df_weather\u001b[39m.\u001b[39mhead()\n",
      "\u001b[0;31mNameError\u001b[0m: name 'df_weather' is not defined"
     ]
    }
   ],
   "source": [
    "df_weather.head()"
   ]
  },
  {
   "cell_type": "code",
   "execution_count": 41,
   "metadata": {},
   "outputs": [
    {
     "data": {
      "text/html": [
       "<div>\n",
       "<style scoped>\n",
       "    .dataframe tbody tr th:only-of-type {\n",
       "        vertical-align: middle;\n",
       "    }\n",
       "\n",
       "    .dataframe tbody tr th {\n",
       "        vertical-align: top;\n",
       "    }\n",
       "\n",
       "    .dataframe thead th {\n",
       "        text-align: right;\n",
       "    }\n",
       "</style>\n",
       "<table border=\"1\" class=\"dataframe\">\n",
       "  <thead>\n",
       "    <tr style=\"text-align: right;\">\n",
       "      <th></th>\n",
       "      <th>id</th>\n",
       "      <th>city</th>\n",
       "      <th>name</th>\n",
       "      <th>url</th>\n",
       "      <th>lat_hotels</th>\n",
       "      <th>lon_hotels</th>\n",
       "      <th>description</th>\n",
       "      <th>score</th>\n",
       "      <th>score_weather</th>\n",
       "    </tr>\n",
       "  </thead>\n",
       "  <tbody>\n",
       "    <tr>\n",
       "      <th>0</th>\n",
       "      <td>0</td>\n",
       "      <td>Mont Saint Michel</td>\n",
       "      <td>['Le Relais Saint Michel', 'La Mère Poulard', ...</td>\n",
       "      <td>['https://www.booking.com/hotel/fr/le-relais-s...</td>\n",
       "      <td>['48.61758727', '48.63508532', '48.61424653', ...</td>\n",
       "      <td>['-1.51039615', '-1.51053965', '-1.51054502', ...</td>\n",
       "      <td>[\"\\nVous pouvez bénéficier d'une réduction Gen...</td>\n",
       "      <td>['7,8', '7,2', '8,2', '7,3', '7,2', '8,1', '8,...</td>\n",
       "      <td>108.920000</td>\n",
       "    </tr>\n",
       "    <tr>\n",
       "      <th>1</th>\n",
       "      <td>1</td>\n",
       "      <td>St Malo</td>\n",
       "      <td>['Studio cocooning', 'Apartment, St Malo', 'Pe...</td>\n",
       "      <td>['https://www.booking.com/hotel/fr/studio-coco...</td>\n",
       "      <td>['48.65537970', '48.65874000', '48.65956907', ...</td>\n",
       "      <td>['-2.00327690', '-1.97702800', '-1.98920718', ...</td>\n",
       "      <td>[\"\\nVous pouvez bénéficier d'une réduction Gen...</td>\n",
       "      <td>['9,5', '5.0', '9,3', '8,7', '7,5', '5.0', '7,...</td>\n",
       "      <td>116.842857</td>\n",
       "    </tr>\n",
       "    <tr>\n",
       "      <th>2</th>\n",
       "      <td>2</td>\n",
       "      <td>Bayeux</td>\n",
       "      <td>['Premiere Classe Bayeux', 'ibis budget Bayeux...</td>\n",
       "      <td>['https://www.booking.com/hotel/fr/premiere-cl...</td>\n",
       "      <td>['49.26942872', '49.25424209', '49.27571400', ...</td>\n",
       "      <td>['-0.70668697', '-0.64648747', '-0.69804200', ...</td>\n",
       "      <td>[\"\\nVous pouvez bénéficier d'une réduction Gen...</td>\n",
       "      <td>['7,7', '8,2', '9,7', '5.0', '7,8', '8,1', '7,...</td>\n",
       "      <td>115.637143</td>\n",
       "    </tr>\n",
       "    <tr>\n",
       "      <th>3</th>\n",
       "      <td>3</td>\n",
       "      <td>Le Havre</td>\n",
       "      <td>['Holiday Inn Express - Le Havre Centre', 'Ibi...</td>\n",
       "      <td>['https://www.booking.com/hotel/fr/campanile-l...</td>\n",
       "      <td>['49.49823800', '49.49424468', '49.49331760', ...</td>\n",
       "      <td>['0.12883700', '0.14285243', '0.12530688', '0....</td>\n",
       "      <td>[\"\\nL’Holiday Inn Express - Le Havre Centre, s...</td>\n",
       "      <td>['8,2', '8,4', '8,6', '8,1', '8.8', '7,5', '8,...</td>\n",
       "      <td>99.414286</td>\n",
       "    </tr>\n",
       "    <tr>\n",
       "      <th>4</th>\n",
       "      <td>4</td>\n",
       "      <td>Rouen</td>\n",
       "      <td>['Maison hypercentre Rouen tout confort', \"L'A...</td>\n",
       "      <td>['https://www.booking.com/hotel/fr/maison-hype...</td>\n",
       "      <td>['49.44465180', '49.44454400', '49.43572312', ...</td>\n",
       "      <td>['1.09132620', '1.09117800', '1.10273123', '1....</td>\n",
       "      <td>[\"\\nVous pouvez bénéficier d'une réduction Gen...</td>\n",
       "      <td>['8,8', '9,1', '8,2', '8,9', '9,1', '8,5', '8,...</td>\n",
       "      <td>86.394286</td>\n",
       "    </tr>\n",
       "  </tbody>\n",
       "</table>\n",
       "</div>"
      ],
      "text/plain": [
       "   id               city                                               name  \\\n",
       "0   0  Mont Saint Michel  ['Le Relais Saint Michel', 'La Mère Poulard', ...   \n",
       "1   1            St Malo  ['Studio cocooning', 'Apartment, St Malo', 'Pe...   \n",
       "2   2             Bayeux  ['Premiere Classe Bayeux', 'ibis budget Bayeux...   \n",
       "3   3           Le Havre  ['Holiday Inn Express - Le Havre Centre', 'Ibi...   \n",
       "4   4              Rouen  ['Maison hypercentre Rouen tout confort', \"L'A...   \n",
       "\n",
       "                                                 url  \\\n",
       "0  ['https://www.booking.com/hotel/fr/le-relais-s...   \n",
       "1  ['https://www.booking.com/hotel/fr/studio-coco...   \n",
       "2  ['https://www.booking.com/hotel/fr/premiere-cl...   \n",
       "3  ['https://www.booking.com/hotel/fr/campanile-l...   \n",
       "4  ['https://www.booking.com/hotel/fr/maison-hype...   \n",
       "\n",
       "                                          lat_hotels  \\\n",
       "0  ['48.61758727', '48.63508532', '48.61424653', ...   \n",
       "1  ['48.65537970', '48.65874000', '48.65956907', ...   \n",
       "2  ['49.26942872', '49.25424209', '49.27571400', ...   \n",
       "3  ['49.49823800', '49.49424468', '49.49331760', ...   \n",
       "4  ['49.44465180', '49.44454400', '49.43572312', ...   \n",
       "\n",
       "                                          lon_hotels  \\\n",
       "0  ['-1.51039615', '-1.51053965', '-1.51054502', ...   \n",
       "1  ['-2.00327690', '-1.97702800', '-1.98920718', ...   \n",
       "2  ['-0.70668697', '-0.64648747', '-0.69804200', ...   \n",
       "3  ['0.12883700', '0.14285243', '0.12530688', '0....   \n",
       "4  ['1.09132620', '1.09117800', '1.10273123', '1....   \n",
       "\n",
       "                                         description  \\\n",
       "0  [\"\\nVous pouvez bénéficier d'une réduction Gen...   \n",
       "1  [\"\\nVous pouvez bénéficier d'une réduction Gen...   \n",
       "2  [\"\\nVous pouvez bénéficier d'une réduction Gen...   \n",
       "3  [\"\\nL’Holiday Inn Express - Le Havre Centre, s...   \n",
       "4  [\"\\nVous pouvez bénéficier d'une réduction Gen...   \n",
       "\n",
       "                                               score  score_weather  \n",
       "0  ['7,8', '7,2', '8,2', '7,3', '7,2', '8,1', '8,...     108.920000  \n",
       "1  ['9,5', '5.0', '9,3', '8,7', '7,5', '5.0', '7,...     116.842857  \n",
       "2  ['7,7', '8,2', '9,7', '5.0', '7,8', '8,1', '7,...     115.637143  \n",
       "3  ['8,2', '8,4', '8,6', '8,1', '8.8', '7,5', '8,...      99.414286  \n",
       "4  ['8,8', '9,1', '8,2', '8,9', '9,1', '8,5', '8,...      86.394286  "
      ]
     },
     "execution_count": 41,
     "metadata": {},
     "output_type": "execute_result"
    }
   ],
   "source": [
    "df_hotels.head()"
   ]
  },
  {
   "cell_type": "code",
   "execution_count": 42,
   "metadata": {},
   "outputs": [],
   "source": [
    "# The csv has converted the lists into strings, we need to revert that first for both dataframes\n",
    "df_weather_final = pd.DataFrame()\n",
    "df_weather_final[['id', 'city', 'lat', 'lon', 'score_weather']] = df_weather[['id', 'city', 'lat', 'lon', 'score_weather']]\n",
    "df_weather_final['day_plus'] = df_weather['day_plus'].apply(eval)\n",
    "df_weather_final['felt_temperature'] = df_weather['felt_temperature'].apply(eval)\n",
    "df_weather_final['rain_chances'] = df_weather['rain_chances'].apply(eval)\n",
    "df_weather_final['humidity'] = df_weather['humidity'].apply(eval)\n",
    "\n",
    "df_hotels_final = pd.DataFrame()\n",
    "df_hotels_final[['id', 'city', 'score_weather']] = df_hotels[['id', 'city', 'score_weather']]\n",
    "df_hotels_final['name'] = df_hotels['name'].apply(eval)\n",
    "df_hotels_final['url'] = df_hotels['url'].apply(eval)\n",
    "df_hotels_final['lat_hotels'] = df_hotels['lat_hotels'].apply(eval)\n",
    "df_hotels_final['lon_hotels'] = df_hotels['lon_hotels'].apply(eval)\n",
    "df_hotels_final['description'] = df_hotels['description'].apply(eval)\n",
    "df_hotels_final['score'] = df_hotels['score'].apply(eval)\n",
    "\n",
    "# We need to convert coordinates to numeric type as well\n",
    "df_weather_final[['lat', 'lon']] = df_weather[['lat', 'lon']].apply(pd.to_numeric)"
   ]
  },
  {
   "cell_type": "code",
   "execution_count": 43,
   "metadata": {},
   "outputs": [],
   "source": [
    "# We need to sort the data by weather score and explode the lists to prepare the data for warehousing and plotting\n",
    "df_weather_full = df_weather_final.sort_values('score_weather')\n",
    "df_weather_full.reset_index(inplace=True, drop=True)\n",
    "df_weather_full = df_weather_full.apply(pd.Series.explode)\n",
    "df_weather_full[['day_plus', 'felt_temperature', 'rain_chances', 'humidity']] = df_weather_full[['day_plus', 'felt_temperature', 'rain_chances', 'humidity']].apply(pd.to_numeric)\n",
    "\n",
    "df_hotels_full = df_hotels_final.sort_values('score_weather')\n",
    "df_hotels_full.reset_index(inplace=True, drop=True)\n",
    "df_hotels_full = df_hotels_full.apply(pd.Series.explode)\n",
    "df_hotels_full['description'] = df_hotels_full['description'].replace(\"\\\\n\", \"\", regex=True)\n",
    "df_hotels_full['score'] = df_hotels_full['score'].replace(\",\", \".\", regex=True)\n",
    "df_hotels_full[['lat_hotels', 'lon_hotels', 'score']] = df_hotels_full[['lat_hotels', 'lon_hotels', 'score']].apply(pd.to_numeric)"
   ]
  },
  {
   "cell_type": "code",
   "execution_count": 53,
   "metadata": {},
   "outputs": [],
   "source": [
    "# We reset the index before pushing to SQL in order to give each line a unique id\n",
    "df_weather_full_sql = df_weather_full.reset_index()\n",
    "df_weather_full_sql.reset_index(inplace=True)\n",
    "df_weather_full_sql.drop(columns = ['index'], inplace=True)\n",
    "df_weather_full_sql.rename({'level_0': 'index'}, axis=1, inplace=True)\n",
    "\n",
    "df_hotels_full_sql = df_hotels_full.reset_index()\n",
    "df_hotels_full_sql.reset_index(inplace=True)\n",
    "df_hotels_full_sql.drop(columns = ['index'], inplace=True)\n",
    "df_hotels_full_sql.rename({'level_0': 'index'}, axis=1, inplace=True)"
   ]
  },
  {
   "cell_type": "markdown",
   "metadata": {},
   "source": [
    "## Storing the transformed data in a RDS data warehouse"
   ]
  },
  {
   "cell_type": "code",
   "execution_count": 24,
   "metadata": {},
   "outputs": [],
   "source": [
    "# Importing libraries for the data warehousing and initialization of the SQL engine\n",
    "from sqlalchemy import create_engine, text\n",
    "from sqlalchemy.orm import sessionmaker\n",
    "\n",
    "engine = create_engine(f\"postgresql+psycopg2://{DBUSER}:{DBPASS}@{DBHOST}/{DBNAME}\", echo=True)\n",
    "Session = sessionmaker(bind=engine)\n",
    "session = Session()"
   ]
  },
  {
   "cell_type": "code",
   "execution_count": null,
   "metadata": {},
   "outputs": [],
   "source": [
    "# Storing the two dataframes as SQL tables\n",
    "df_weather_full_sql.to_sql('weather', con=engine, if_exists='replace', index=False)\n",
    "df_hotels_full_sql.to_sql('hotels', con=engine, if_exists='replace', index=False)"
   ]
  },
  {
   "cell_type": "code",
   "execution_count": 55,
   "metadata": {},
   "outputs": [
    {
     "name": "stdout",
     "output_type": "stream",
     "text": [
      "2022-04-20 10:01:05,404 INFO sqlalchemy.engine.Engine select relname from pg_class c join pg_namespace n on n.oid=c.relnamespace where pg_catalog.pg_table_is_visible(c.oid) and relname=%(name)s\n",
      "2022-04-20 10:01:05,406 INFO sqlalchemy.engine.Engine [cached since 3.222e+04s ago] {'name': 'SELECT * FROM weather LIMIT 21'}\n",
      "2022-04-20 10:01:05,445 INFO sqlalchemy.engine.Engine SELECT * FROM weather LIMIT 21\n",
      "2022-04-20 10:01:05,445 INFO sqlalchemy.engine.Engine [cached since 3.222e+04s ago] {}\n"
     ]
    },
    {
     "data": {
      "text/html": [
       "<div>\n",
       "<style scoped>\n",
       "    .dataframe tbody tr th:only-of-type {\n",
       "        vertical-align: middle;\n",
       "    }\n",
       "\n",
       "    .dataframe tbody tr th {\n",
       "        vertical-align: top;\n",
       "    }\n",
       "\n",
       "    .dataframe thead th {\n",
       "        text-align: right;\n",
       "    }\n",
       "</style>\n",
       "<table border=\"1\" class=\"dataframe\">\n",
       "  <thead>\n",
       "    <tr style=\"text-align: right;\">\n",
       "      <th></th>\n",
       "      <th>index</th>\n",
       "      <th>id</th>\n",
       "      <th>city</th>\n",
       "      <th>lat</th>\n",
       "      <th>lon</th>\n",
       "      <th>score_weather</th>\n",
       "      <th>day_plus</th>\n",
       "      <th>felt_temperature</th>\n",
       "      <th>rain_chances</th>\n",
       "      <th>humidity</th>\n",
       "    </tr>\n",
       "  </thead>\n",
       "  <tbody>\n",
       "    <tr>\n",
       "      <th>0</th>\n",
       "      <td>0</td>\n",
       "      <td>5</td>\n",
       "      <td>Paris</td>\n",
       "      <td>48.858890</td>\n",
       "      <td>2.320041</td>\n",
       "      <td>80.288571</td>\n",
       "      <td>1</td>\n",
       "      <td>15.03</td>\n",
       "      <td>0</td>\n",
       "      <td>43</td>\n",
       "    </tr>\n",
       "    <tr>\n",
       "      <th>1</th>\n",
       "      <td>1</td>\n",
       "      <td>5</td>\n",
       "      <td>Paris</td>\n",
       "      <td>48.858890</td>\n",
       "      <td>2.320041</td>\n",
       "      <td>80.288571</td>\n",
       "      <td>2</td>\n",
       "      <td>14.52</td>\n",
       "      <td>0</td>\n",
       "      <td>49</td>\n",
       "    </tr>\n",
       "    <tr>\n",
       "      <th>2</th>\n",
       "      <td>2</td>\n",
       "      <td>5</td>\n",
       "      <td>Paris</td>\n",
       "      <td>48.858890</td>\n",
       "      <td>2.320041</td>\n",
       "      <td>80.288571</td>\n",
       "      <td>3</td>\n",
       "      <td>16.94</td>\n",
       "      <td>93</td>\n",
       "      <td>52</td>\n",
       "    </tr>\n",
       "    <tr>\n",
       "      <th>3</th>\n",
       "      <td>3</td>\n",
       "      <td>5</td>\n",
       "      <td>Paris</td>\n",
       "      <td>48.858890</td>\n",
       "      <td>2.320041</td>\n",
       "      <td>80.288571</td>\n",
       "      <td>4</td>\n",
       "      <td>14.86</td>\n",
       "      <td>15</td>\n",
       "      <td>44</td>\n",
       "    </tr>\n",
       "    <tr>\n",
       "      <th>4</th>\n",
       "      <td>4</td>\n",
       "      <td>5</td>\n",
       "      <td>Paris</td>\n",
       "      <td>48.858890</td>\n",
       "      <td>2.320041</td>\n",
       "      <td>80.288571</td>\n",
       "      <td>5</td>\n",
       "      <td>15.61</td>\n",
       "      <td>26</td>\n",
       "      <td>37</td>\n",
       "    </tr>\n",
       "    <tr>\n",
       "      <th>5</th>\n",
       "      <td>5</td>\n",
       "      <td>5</td>\n",
       "      <td>Paris</td>\n",
       "      <td>48.858890</td>\n",
       "      <td>2.320041</td>\n",
       "      <td>80.288571</td>\n",
       "      <td>6</td>\n",
       "      <td>15.41</td>\n",
       "      <td>0</td>\n",
       "      <td>41</td>\n",
       "    </tr>\n",
       "    <tr>\n",
       "      <th>6</th>\n",
       "      <td>6</td>\n",
       "      <td>5</td>\n",
       "      <td>Paris</td>\n",
       "      <td>48.858890</td>\n",
       "      <td>2.320041</td>\n",
       "      <td>80.288571</td>\n",
       "      <td>7</td>\n",
       "      <td>16.87</td>\n",
       "      <td>0</td>\n",
       "      <td>47</td>\n",
       "    </tr>\n",
       "    <tr>\n",
       "      <th>7</th>\n",
       "      <td>7</td>\n",
       "      <td>6</td>\n",
       "      <td>Amiens</td>\n",
       "      <td>49.894171</td>\n",
       "      <td>2.295695</td>\n",
       "      <td>84.777143</td>\n",
       "      <td>1</td>\n",
       "      <td>14.33</td>\n",
       "      <td>0</td>\n",
       "      <td>56</td>\n",
       "    </tr>\n",
       "    <tr>\n",
       "      <th>8</th>\n",
       "      <td>8</td>\n",
       "      <td>6</td>\n",
       "      <td>Amiens</td>\n",
       "      <td>49.894171</td>\n",
       "      <td>2.295695</td>\n",
       "      <td>84.777143</td>\n",
       "      <td>2</td>\n",
       "      <td>11.49</td>\n",
       "      <td>0</td>\n",
       "      <td>65</td>\n",
       "    </tr>\n",
       "    <tr>\n",
       "      <th>9</th>\n",
       "      <td>9</td>\n",
       "      <td>6</td>\n",
       "      <td>Amiens</td>\n",
       "      <td>49.894171</td>\n",
       "      <td>2.295695</td>\n",
       "      <td>84.777143</td>\n",
       "      <td>3</td>\n",
       "      <td>13.81</td>\n",
       "      <td>15</td>\n",
       "      <td>68</td>\n",
       "    </tr>\n",
       "    <tr>\n",
       "      <th>10</th>\n",
       "      <td>10</td>\n",
       "      <td>6</td>\n",
       "      <td>Amiens</td>\n",
       "      <td>49.894171</td>\n",
       "      <td>2.295695</td>\n",
       "      <td>84.777143</td>\n",
       "      <td>4</td>\n",
       "      <td>12.52</td>\n",
       "      <td>28</td>\n",
       "      <td>60</td>\n",
       "    </tr>\n",
       "    <tr>\n",
       "      <th>11</th>\n",
       "      <td>11</td>\n",
       "      <td>6</td>\n",
       "      <td>Amiens</td>\n",
       "      <td>49.894171</td>\n",
       "      <td>2.295695</td>\n",
       "      <td>84.777143</td>\n",
       "      <td>5</td>\n",
       "      <td>10.74</td>\n",
       "      <td>20</td>\n",
       "      <td>63</td>\n",
       "    </tr>\n",
       "    <tr>\n",
       "      <th>12</th>\n",
       "      <td>12</td>\n",
       "      <td>6</td>\n",
       "      <td>Amiens</td>\n",
       "      <td>49.894171</td>\n",
       "      <td>2.295695</td>\n",
       "      <td>84.777143</td>\n",
       "      <td>6</td>\n",
       "      <td>10.48</td>\n",
       "      <td>0</td>\n",
       "      <td>63</td>\n",
       "    </tr>\n",
       "    <tr>\n",
       "      <th>13</th>\n",
       "      <td>13</td>\n",
       "      <td>6</td>\n",
       "      <td>Amiens</td>\n",
       "      <td>49.894171</td>\n",
       "      <td>2.295695</td>\n",
       "      <td>84.777143</td>\n",
       "      <td>7</td>\n",
       "      <td>14.91</td>\n",
       "      <td>0</td>\n",
       "      <td>59</td>\n",
       "    </tr>\n",
       "    <tr>\n",
       "      <th>14</th>\n",
       "      <td>14</td>\n",
       "      <td>4</td>\n",
       "      <td>Rouen</td>\n",
       "      <td>49.440459</td>\n",
       "      <td>1.093966</td>\n",
       "      <td>86.394286</td>\n",
       "      <td>1</td>\n",
       "      <td>14.58</td>\n",
       "      <td>0</td>\n",
       "      <td>57</td>\n",
       "    </tr>\n",
       "    <tr>\n",
       "      <th>15</th>\n",
       "      <td>15</td>\n",
       "      <td>4</td>\n",
       "      <td>Rouen</td>\n",
       "      <td>49.440459</td>\n",
       "      <td>1.093966</td>\n",
       "      <td>86.394286</td>\n",
       "      <td>2</td>\n",
       "      <td>13.61</td>\n",
       "      <td>0</td>\n",
       "      <td>64</td>\n",
       "    </tr>\n",
       "    <tr>\n",
       "      <th>16</th>\n",
       "      <td>16</td>\n",
       "      <td>4</td>\n",
       "      <td>Rouen</td>\n",
       "      <td>49.440459</td>\n",
       "      <td>1.093966</td>\n",
       "      <td>86.394286</td>\n",
       "      <td>3</td>\n",
       "      <td>15.52</td>\n",
       "      <td>46</td>\n",
       "      <td>67</td>\n",
       "    </tr>\n",
       "    <tr>\n",
       "      <th>17</th>\n",
       "      <td>17</td>\n",
       "      <td>4</td>\n",
       "      <td>Rouen</td>\n",
       "      <td>49.440459</td>\n",
       "      <td>1.093966</td>\n",
       "      <td>86.394286</td>\n",
       "      <td>4</td>\n",
       "      <td>12.71</td>\n",
       "      <td>33</td>\n",
       "      <td>60</td>\n",
       "    </tr>\n",
       "    <tr>\n",
       "      <th>18</th>\n",
       "      <td>18</td>\n",
       "      <td>4</td>\n",
       "      <td>Rouen</td>\n",
       "      <td>49.440459</td>\n",
       "      <td>1.093966</td>\n",
       "      <td>86.394286</td>\n",
       "      <td>5</td>\n",
       "      <td>12.44</td>\n",
       "      <td>20</td>\n",
       "      <td>58</td>\n",
       "    </tr>\n",
       "    <tr>\n",
       "      <th>19</th>\n",
       "      <td>19</td>\n",
       "      <td>4</td>\n",
       "      <td>Rouen</td>\n",
       "      <td>49.440459</td>\n",
       "      <td>1.093966</td>\n",
       "      <td>86.394286</td>\n",
       "      <td>6</td>\n",
       "      <td>13.26</td>\n",
       "      <td>0</td>\n",
       "      <td>58</td>\n",
       "    </tr>\n",
       "    <tr>\n",
       "      <th>20</th>\n",
       "      <td>20</td>\n",
       "      <td>4</td>\n",
       "      <td>Rouen</td>\n",
       "      <td>49.440459</td>\n",
       "      <td>1.093966</td>\n",
       "      <td>86.394286</td>\n",
       "      <td>7</td>\n",
       "      <td>15.75</td>\n",
       "      <td>0</td>\n",
       "      <td>59</td>\n",
       "    </tr>\n",
       "  </tbody>\n",
       "</table>\n",
       "</div>"
      ],
      "text/plain": [
       "    index  id    city        lat       lon  score_weather  day_plus  \\\n",
       "0       0   5   Paris  48.858890  2.320041      80.288571         1   \n",
       "1       1   5   Paris  48.858890  2.320041      80.288571         2   \n",
       "2       2   5   Paris  48.858890  2.320041      80.288571         3   \n",
       "3       3   5   Paris  48.858890  2.320041      80.288571         4   \n",
       "4       4   5   Paris  48.858890  2.320041      80.288571         5   \n",
       "5       5   5   Paris  48.858890  2.320041      80.288571         6   \n",
       "6       6   5   Paris  48.858890  2.320041      80.288571         7   \n",
       "7       7   6  Amiens  49.894171  2.295695      84.777143         1   \n",
       "8       8   6  Amiens  49.894171  2.295695      84.777143         2   \n",
       "9       9   6  Amiens  49.894171  2.295695      84.777143         3   \n",
       "10     10   6  Amiens  49.894171  2.295695      84.777143         4   \n",
       "11     11   6  Amiens  49.894171  2.295695      84.777143         5   \n",
       "12     12   6  Amiens  49.894171  2.295695      84.777143         6   \n",
       "13     13   6  Amiens  49.894171  2.295695      84.777143         7   \n",
       "14     14   4   Rouen  49.440459  1.093966      86.394286         1   \n",
       "15     15   4   Rouen  49.440459  1.093966      86.394286         2   \n",
       "16     16   4   Rouen  49.440459  1.093966      86.394286         3   \n",
       "17     17   4   Rouen  49.440459  1.093966      86.394286         4   \n",
       "18     18   4   Rouen  49.440459  1.093966      86.394286         5   \n",
       "19     19   4   Rouen  49.440459  1.093966      86.394286         6   \n",
       "20     20   4   Rouen  49.440459  1.093966      86.394286         7   \n",
       "\n",
       "    felt_temperature  rain_chances  humidity  \n",
       "0              15.03             0        43  \n",
       "1              14.52             0        49  \n",
       "2              16.94            93        52  \n",
       "3              14.86            15        44  \n",
       "4              15.61            26        37  \n",
       "5              15.41             0        41  \n",
       "6              16.87             0        47  \n",
       "7              14.33             0        56  \n",
       "8              11.49             0        65  \n",
       "9              13.81            15        68  \n",
       "10             12.52            28        60  \n",
       "11             10.74            20        63  \n",
       "12             10.48             0        63  \n",
       "13             14.91             0        59  \n",
       "14             14.58             0        57  \n",
       "15             13.61             0        64  \n",
       "16             15.52            46        67  \n",
       "17             12.71            33        60  \n",
       "18             12.44            20        58  \n",
       "19             13.26             0        58  \n",
       "20             15.75             0        59  "
      ]
     },
     "execution_count": 55,
     "metadata": {},
     "output_type": "execute_result"
    }
   ],
   "source": [
    "# Testing the data with a query\n",
    "query = text(\"SELECT * FROM weather LIMIT 21\")\n",
    "pd.read_sql(query, engine)"
   ]
  },
  {
   "cell_type": "code",
   "execution_count": 56,
   "metadata": {},
   "outputs": [
    {
     "name": "stdout",
     "output_type": "stream",
     "text": [
      "2022-04-20 10:01:08,572 INFO sqlalchemy.engine.Engine select relname from pg_class c join pg_namespace n on n.oid=c.relnamespace where pg_catalog.pg_table_is_visible(c.oid) and relname=%(name)s\n",
      "2022-04-20 10:01:08,574 INFO sqlalchemy.engine.Engine [cached since 3.222e+04s ago] {'name': 'SELECT * FROM hotels LIMIT 40'}\n",
      "2022-04-20 10:01:08,607 INFO sqlalchemy.engine.Engine SELECT * FROM hotels LIMIT 40\n",
      "2022-04-20 10:01:08,607 INFO sqlalchemy.engine.Engine [cached since 3.222e+04s ago] {}\n"
     ]
    },
    {
     "data": {
      "text/html": [
       "<div>\n",
       "<style scoped>\n",
       "    .dataframe tbody tr th:only-of-type {\n",
       "        vertical-align: middle;\n",
       "    }\n",
       "\n",
       "    .dataframe tbody tr th {\n",
       "        vertical-align: top;\n",
       "    }\n",
       "\n",
       "    .dataframe thead th {\n",
       "        text-align: right;\n",
       "    }\n",
       "</style>\n",
       "<table border=\"1\" class=\"dataframe\">\n",
       "  <thead>\n",
       "    <tr style=\"text-align: right;\">\n",
       "      <th></th>\n",
       "      <th>index</th>\n",
       "      <th>id</th>\n",
       "      <th>city</th>\n",
       "      <th>score_weather</th>\n",
       "      <th>name</th>\n",
       "      <th>url</th>\n",
       "      <th>lat_hotels</th>\n",
       "      <th>lon_hotels</th>\n",
       "      <th>description</th>\n",
       "      <th>score</th>\n",
       "    </tr>\n",
       "  </thead>\n",
       "  <tbody>\n",
       "    <tr>\n",
       "      <th>0</th>\n",
       "      <td>0</td>\n",
       "      <td>5</td>\n",
       "      <td>Paris</td>\n",
       "      <td>80.288571</td>\n",
       "      <td>Hôtel de Banville</td>\n",
       "      <td>https://www.booking.com/hotel/fr/hoteldebanvil...</td>\n",
       "      <td>48.886394</td>\n",
       "      <td>2.294946</td>\n",
       "      <td>Vous pouvez bénéficier d'une réduction Genius ...</td>\n",
       "      <td>8.4</td>\n",
       "    </tr>\n",
       "    <tr>\n",
       "      <th>1</th>\n",
       "      <td>1</td>\n",
       "      <td>5</td>\n",
       "      <td>Paris</td>\n",
       "      <td>80.288571</td>\n",
       "      <td>Room Mate Alain - Champs-Elysées</td>\n",
       "      <td>https://www.booking.com/hotel/fr/d-argentine.f...</td>\n",
       "      <td>48.874345</td>\n",
       "      <td>2.289776</td>\n",
       "      <td>Vous pouvez bénéficier d'une réduction Genius ...</td>\n",
       "      <td>8.5</td>\n",
       "    </tr>\n",
       "    <tr>\n",
       "      <th>2</th>\n",
       "      <td>2</td>\n",
       "      <td>5</td>\n",
       "      <td>Paris</td>\n",
       "      <td>80.288571</td>\n",
       "      <td>Westside Arc de Triomphe Hotel</td>\n",
       "      <td>https://www.booking.com/hotel/fr/westside-arc-...</td>\n",
       "      <td>48.881299</td>\n",
       "      <td>2.294803</td>\n",
       "      <td>Doté d’un bar-salon, le Westside Arc de Triomp...</td>\n",
       "      <td>8.0</td>\n",
       "    </tr>\n",
       "    <tr>\n",
       "      <th>3</th>\n",
       "      <td>3</td>\n",
       "      <td>5</td>\n",
       "      <td>Paris</td>\n",
       "      <td>80.288571</td>\n",
       "      <td>Hotel de L'Esperance</td>\n",
       "      <td>https://www.booking.com/hotel/fr/de-l-39-esper...</td>\n",
       "      <td>48.838158</td>\n",
       "      <td>2.349616</td>\n",
       "      <td>Vous pouvez bénéficier d'une réduction Genius ...</td>\n",
       "      <td>8.6</td>\n",
       "    </tr>\n",
       "    <tr>\n",
       "      <th>4</th>\n",
       "      <td>32</td>\n",
       "      <td>6</td>\n",
       "      <td>Amiens</td>\n",
       "      <td>84.777143</td>\n",
       "      <td>Studio / chambre calme prés de l'étang st pierre.</td>\n",
       "      <td>https://www.booking.com/hotel/fr/studio-chambr...</td>\n",
       "      <td>49.900350</td>\n",
       "      <td>2.312232</td>\n",
       "      <td>Doté d'une connexion Wi-Fi gratuite et offrant...</td>\n",
       "      <td>8.9</td>\n",
       "    </tr>\n",
       "    <tr>\n",
       "      <th>5</th>\n",
       "      <td>4</td>\n",
       "      <td>5</td>\n",
       "      <td>Paris</td>\n",
       "      <td>80.288571</td>\n",
       "      <td>Hotel Korner Eiffel</td>\n",
       "      <td>https://www.booking.com/hotel/fr/idealhotel.fr...</td>\n",
       "      <td>48.846590</td>\n",
       "      <td>2.288570</td>\n",
       "      <td>L’Hotel Korner Eiffel se trouve à 20 minutes d...</td>\n",
       "      <td>8.6</td>\n",
       "    </tr>\n",
       "    <tr>\n",
       "      <th>6</th>\n",
       "      <td>5</td>\n",
       "      <td>5</td>\n",
       "      <td>Paris</td>\n",
       "      <td>80.288571</td>\n",
       "      <td>Le Grey Hotel</td>\n",
       "      <td>https://www.booking.com/hotel/fr/grey.fr.html?...</td>\n",
       "      <td>48.881330</td>\n",
       "      <td>2.327415</td>\n",
       "      <td>Vous pouvez bénéficier d'une réduction Genius ...</td>\n",
       "      <td>8.9</td>\n",
       "    </tr>\n",
       "    <tr>\n",
       "      <th>7</th>\n",
       "      <td>6</td>\n",
       "      <td>5</td>\n",
       "      <td>Paris</td>\n",
       "      <td>80.288571</td>\n",
       "      <td>Austin's Arts Et Metiers Hotel</td>\n",
       "      <td>https://www.booking.com/hotel/fr/austin-s-arts...</td>\n",
       "      <td>48.866011</td>\n",
       "      <td>2.357098</td>\n",
       "      <td>Vous pouvez bénéficier d'une réduction Genius ...</td>\n",
       "      <td>8.4</td>\n",
       "    </tr>\n",
       "    <tr>\n",
       "      <th>8</th>\n",
       "      <td>7</td>\n",
       "      <td>5</td>\n",
       "      <td>Paris</td>\n",
       "      <td>80.288571</td>\n",
       "      <td>Grand Hôtel Amelot</td>\n",
       "      <td>https://www.booking.com/hotel/fr/grand-amelot-...</td>\n",
       "      <td>48.859257</td>\n",
       "      <td>2.368409</td>\n",
       "      <td>Vous pouvez bénéficier d'une réduction Genius ...</td>\n",
       "      <td>8.1</td>\n",
       "    </tr>\n",
       "    <tr>\n",
       "      <th>9</th>\n",
       "      <td>8</td>\n",
       "      <td>5</td>\n",
       "      <td>Paris</td>\n",
       "      <td>80.288571</td>\n",
       "      <td>Grand Hotel Francais</td>\n",
       "      <td>https://www.booking.com/hotel/fr/hotelfrancais...</td>\n",
       "      <td>48.851585</td>\n",
       "      <td>2.390827</td>\n",
       "      <td>Le Grand Hotel Français est un hôtel design si...</td>\n",
       "      <td>8.7</td>\n",
       "    </tr>\n",
       "    <tr>\n",
       "      <th>10</th>\n",
       "      <td>9</td>\n",
       "      <td>5</td>\n",
       "      <td>Paris</td>\n",
       "      <td>80.288571</td>\n",
       "      <td>Hotel Elysees Opera</td>\n",
       "      <td>https://www.booking.com/hotel/fr/america.fr.ht...</td>\n",
       "      <td>48.881415</td>\n",
       "      <td>2.324553</td>\n",
       "      <td>Vous pouvez bénéficier d'une réduction Genius ...</td>\n",
       "      <td>8.3</td>\n",
       "    </tr>\n",
       "    <tr>\n",
       "      <th>11</th>\n",
       "      <td>10</td>\n",
       "      <td>5</td>\n",
       "      <td>Paris</td>\n",
       "      <td>80.288571</td>\n",
       "      <td>Hotel Petit Lafayette</td>\n",
       "      <td>https://www.booking.com/hotel/fr/holiday-villa...</td>\n",
       "      <td>48.876067</td>\n",
       "      <td>2.345675</td>\n",
       "      <td>Vous pouvez bénéficier d'une réduction Genius ...</td>\n",
       "      <td>8.8</td>\n",
       "    </tr>\n",
       "    <tr>\n",
       "      <th>12</th>\n",
       "      <td>11</td>\n",
       "      <td>5</td>\n",
       "      <td>Paris</td>\n",
       "      <td>80.288571</td>\n",
       "      <td>HotelHome Paris 16</td>\n",
       "      <td>https://www.booking.com/hotel/fr/residencejasm...</td>\n",
       "      <td>48.850575</td>\n",
       "      <td>2.267432</td>\n",
       "      <td>Vous pouvez bénéficier d'une réduction Genius ...</td>\n",
       "      <td>8.6</td>\n",
       "    </tr>\n",
       "    <tr>\n",
       "      <th>13</th>\n",
       "      <td>12</td>\n",
       "      <td>5</td>\n",
       "      <td>Paris</td>\n",
       "      <td>80.288571</td>\n",
       "      <td>Sweet Inn - Turenne</td>\n",
       "      <td>https://www.booking.com/hotel/fr/sweet-inn-le-...</td>\n",
       "      <td>48.864444</td>\n",
       "      <td>2.364885</td>\n",
       "      <td>Vous pouvez bénéficier d'une réduction Genius ...</td>\n",
       "      <td>8.7</td>\n",
       "    </tr>\n",
       "    <tr>\n",
       "      <th>14</th>\n",
       "      <td>13</td>\n",
       "      <td>5</td>\n",
       "      <td>Paris</td>\n",
       "      <td>80.288571</td>\n",
       "      <td>Hotel Lutetia</td>\n",
       "      <td>https://www.booking.com/hotel/fr/lutetia-paris...</td>\n",
       "      <td>48.851244</td>\n",
       "      <td>2.327238</td>\n",
       "      <td>L’Hotel Lutetia - The Leading Hotels of the Wo...</td>\n",
       "      <td>8.9</td>\n",
       "    </tr>\n",
       "    <tr>\n",
       "      <th>15</th>\n",
       "      <td>14</td>\n",
       "      <td>5</td>\n",
       "      <td>Paris</td>\n",
       "      <td>80.288571</td>\n",
       "      <td>71 m with balcony and wifi near the Seine</td>\n",
       "      <td>https://www.booking.com/hotel/fr/71-m-with-bal...</td>\n",
       "      <td>48.846155</td>\n",
       "      <td>2.280192</td>\n",
       "      <td>Dans le 15e arr. Situé dans le quartier de Par...</td>\n",
       "      <td>5.0</td>\n",
       "    </tr>\n",
       "    <tr>\n",
       "      <th>16</th>\n",
       "      <td>15</td>\n",
       "      <td>5</td>\n",
       "      <td>Paris</td>\n",
       "      <td>80.288571</td>\n",
       "      <td>Ibis Paris Tour Eiffel Cambronne 15ème</td>\n",
       "      <td>https://www.booking.com/hotel/fr/ibis-paris-to...</td>\n",
       "      <td>48.847004</td>\n",
       "      <td>2.301413</td>\n",
       "      <td>Situé dans le 15ème arrondissement de Paris, à...</td>\n",
       "      <td>7.4</td>\n",
       "    </tr>\n",
       "    <tr>\n",
       "      <th>17</th>\n",
       "      <td>16</td>\n",
       "      <td>5</td>\n",
       "      <td>Paris</td>\n",
       "      <td>80.288571</td>\n",
       "      <td>Home Suite Home Roses 2BR</td>\n",
       "      <td>https://www.booking.com/hotel/fr/home-suite-ho...</td>\n",
       "      <td>48.893396</td>\n",
       "      <td>2.361590</td>\n",
       "      <td>Situé à Paris, à 1,6 km du Sacré-Cœur et à 2 k...</td>\n",
       "      <td>5.0</td>\n",
       "    </tr>\n",
       "    <tr>\n",
       "      <th>18</th>\n",
       "      <td>17</td>\n",
       "      <td>5</td>\n",
       "      <td>Paris</td>\n",
       "      <td>80.288571</td>\n",
       "      <td>Amazing apartment under the roof in Paris 8th</td>\n",
       "      <td>https://www.booking.com/hotel/fr/amazing-apart...</td>\n",
       "      <td>48.879111</td>\n",
       "      <td>2.327707</td>\n",
       "      <td>Offrant une vue sur la ville, l'Amazing apartm...</td>\n",
       "      <td>5.0</td>\n",
       "    </tr>\n",
       "    <tr>\n",
       "      <th>19</th>\n",
       "      <td>18</td>\n",
       "      <td>5</td>\n",
       "      <td>Paris</td>\n",
       "      <td>80.288571</td>\n",
       "      <td>Bright new apartment with wifi</td>\n",
       "      <td>https://www.booking.com/hotel/fr/bright-new-ap...</td>\n",
       "      <td>48.830280</td>\n",
       "      <td>2.341702</td>\n",
       "      <td>Situé à Paris, à 1,9 km du jardin du Luxembour...</td>\n",
       "      <td>5.0</td>\n",
       "    </tr>\n",
       "    <tr>\n",
       "      <th>20</th>\n",
       "      <td>19</td>\n",
       "      <td>5</td>\n",
       "      <td>Paris</td>\n",
       "      <td>80.288571</td>\n",
       "      <td>GuestReady - Lovely Bright Flat with Private P...</td>\n",
       "      <td>https://www.booking.com/hotel/fr/guestready-lo...</td>\n",
       "      <td>48.855231</td>\n",
       "      <td>2.326267</td>\n",
       "      <td>Situé dans le centre de Paris, à seulement 600...</td>\n",
       "      <td>9.0</td>\n",
       "    </tr>\n",
       "    <tr>\n",
       "      <th>21</th>\n",
       "      <td>20</td>\n",
       "      <td>6</td>\n",
       "      <td>Amiens</td>\n",
       "      <td>84.777143</td>\n",
       "      <td>Le Majestic Cathédrale</td>\n",
       "      <td>https://www.booking.com/hotel/fr/le-duplex-ami...</td>\n",
       "      <td>49.895383</td>\n",
       "      <td>2.297772</td>\n",
       "      <td>Vous pouvez bénéficier d'une réduction Genius ...</td>\n",
       "      <td>9.3</td>\n",
       "    </tr>\n",
       "    <tr>\n",
       "      <th>22</th>\n",
       "      <td>21</td>\n",
       "      <td>6</td>\n",
       "      <td>Amiens</td>\n",
       "      <td>84.777143</td>\n",
       "      <td>Ginkgo Maison d'hôtes</td>\n",
       "      <td>https://www.booking.com/hotel/fr/ginkgo-maison...</td>\n",
       "      <td>49.887125</td>\n",
       "      <td>2.295143</td>\n",
       "      <td>Installé à Amiens, à moins de 2,3 km du Zénith...</td>\n",
       "      <td>9.4</td>\n",
       "    </tr>\n",
       "    <tr>\n",
       "      <th>23</th>\n",
       "      <td>22</td>\n",
       "      <td>6</td>\n",
       "      <td>Amiens</td>\n",
       "      <td>84.777143</td>\n",
       "      <td>Holiday Inn Express Amiens, an IHG Hotel</td>\n",
       "      <td>https://www.booking.com/hotel/fr/express-by-ho...</td>\n",
       "      <td>49.891676</td>\n",
       "      <td>2.307754</td>\n",
       "      <td>Rénové en avril 2015, le Holiday Inn Express A...</td>\n",
       "      <td>8.1</td>\n",
       "    </tr>\n",
       "    <tr>\n",
       "      <th>24</th>\n",
       "      <td>23</td>\n",
       "      <td>6</td>\n",
       "      <td>Amiens</td>\n",
       "      <td>84.777143</td>\n",
       "      <td>ibis Styles Amiens Centre</td>\n",
       "      <td>https://www.booking.com/hotel/fr/ibis-styles-a...</td>\n",
       "      <td>49.891422</td>\n",
       "      <td>2.304996</td>\n",
       "      <td>Situé à Amiens, à 3,4 km du Zénith, l'ibis Sty...</td>\n",
       "      <td>8.7</td>\n",
       "    </tr>\n",
       "    <tr>\n",
       "      <th>25</th>\n",
       "      <td>24</td>\n",
       "      <td>6</td>\n",
       "      <td>Amiens</td>\n",
       "      <td>84.777143</td>\n",
       "      <td>ibis budget Amiens Centre Gare</td>\n",
       "      <td>https://www.booking.com/hotel/fr/ibis-budget-a...</td>\n",
       "      <td>49.891591</td>\n",
       "      <td>2.313573</td>\n",
       "      <td>L'ibis budget Amiens Centre Gare est situé dan...</td>\n",
       "      <td>8.2</td>\n",
       "    </tr>\n",
       "    <tr>\n",
       "      <th>26</th>\n",
       "      <td>25</td>\n",
       "      <td>6</td>\n",
       "      <td>Amiens</td>\n",
       "      <td>84.777143</td>\n",
       "      <td>Mercure Amiens Cathédrale</td>\n",
       "      <td>https://www.booking.com/hotel/fr/mercure-amien...</td>\n",
       "      <td>49.895711</td>\n",
       "      <td>2.299562</td>\n",
       "      <td>L’hôtel 4 étoiles Mercure Amiens Cathédrale vo...</td>\n",
       "      <td>8.3</td>\n",
       "    </tr>\n",
       "    <tr>\n",
       "      <th>27</th>\n",
       "      <td>91</td>\n",
       "      <td>3</td>\n",
       "      <td>Le Havre</td>\n",
       "      <td>99.414286</td>\n",
       "      <td>F2 - Le Havre</td>\n",
       "      <td>https://www.booking.com/hotel/fr/f2-le-havre.f...</td>\n",
       "      <td>49.484803</td>\n",
       "      <td>0.134460</td>\n",
       "      <td>Le F2 - Le Havre est situé au Havre, à 2,1 km ...</td>\n",
       "      <td>8.3</td>\n",
       "    </tr>\n",
       "    <tr>\n",
       "      <th>28</th>\n",
       "      <td>26</td>\n",
       "      <td>6</td>\n",
       "      <td>Amiens</td>\n",
       "      <td>84.777143</td>\n",
       "      <td>ibis Amiens Centre Cathedrale</td>\n",
       "      <td>https://www.booking.com/hotel/fr/ibis-amiens-c...</td>\n",
       "      <td>49.891999</td>\n",
       "      <td>2.291970</td>\n",
       "      <td>Doté d'un restaurant et d'une connexion Wi-Fi ...</td>\n",
       "      <td>7.4</td>\n",
       "    </tr>\n",
       "    <tr>\n",
       "      <th>29</th>\n",
       "      <td>27</td>\n",
       "      <td>6</td>\n",
       "      <td>Amiens</td>\n",
       "      <td>84.777143</td>\n",
       "      <td>Comfort Hotel Amiens Nord</td>\n",
       "      <td>https://www.booking.com/hotel/fr/kyriad-amiens...</td>\n",
       "      <td>49.925134</td>\n",
       "      <td>2.304573</td>\n",
       "      <td>Doté d’une terrasse, le Comfort Hotel Amiens N...</td>\n",
       "      <td>6.9</td>\n",
       "    </tr>\n",
       "    <tr>\n",
       "      <th>30</th>\n",
       "      <td>28</td>\n",
       "      <td>6</td>\n",
       "      <td>Amiens</td>\n",
       "      <td>84.777143</td>\n",
       "      <td>Appart'City Amiens Gare Cathédrale</td>\n",
       "      <td>https://www.booking.com/hotel/fr/appart-city-a...</td>\n",
       "      <td>49.894316</td>\n",
       "      <td>2.309761</td>\n",
       "      <td>Situé à 300 mètres de la cathédrale Notre-Dame...</td>\n",
       "      <td>7.4</td>\n",
       "    </tr>\n",
       "    <tr>\n",
       "      <th>31</th>\n",
       "      <td>29</td>\n",
       "      <td>6</td>\n",
       "      <td>Amiens</td>\n",
       "      <td>84.777143</td>\n",
       "      <td>Hotel Le Prieuré et La Résidence</td>\n",
       "      <td>https://www.booking.com/hotel/fr/le-prieure-am...</td>\n",
       "      <td>49.894445</td>\n",
       "      <td>2.300942</td>\n",
       "      <td>L'Hotel Le Prieuré et La Résidence est situé d...</td>\n",
       "      <td>8.4</td>\n",
       "    </tr>\n",
       "    <tr>\n",
       "      <th>32</th>\n",
       "      <td>30</td>\n",
       "      <td>6</td>\n",
       "      <td>Amiens</td>\n",
       "      <td>84.777143</td>\n",
       "      <td>Le Saint Louis</td>\n",
       "      <td>https://www.booking.com/hotel/fr/le-saint-loui...</td>\n",
       "      <td>49.889779</td>\n",
       "      <td>2.302499</td>\n",
       "      <td>Le Saint Louis est situé dans le centre-ville ...</td>\n",
       "      <td>8.1</td>\n",
       "    </tr>\n",
       "    <tr>\n",
       "      <th>33</th>\n",
       "      <td>31</td>\n",
       "      <td>6</td>\n",
       "      <td>Amiens</td>\n",
       "      <td>84.777143</td>\n",
       "      <td>Charmant T2 hyper centre. Cathédrale</td>\n",
       "      <td>https://www.booking.com/hotel/fr/charmant-t2-h...</td>\n",
       "      <td>49.893876</td>\n",
       "      <td>2.300911</td>\n",
       "      <td>Doté d'une terrasse et d'un service de concier...</td>\n",
       "      <td>9.0</td>\n",
       "    </tr>\n",
       "    <tr>\n",
       "      <th>34</th>\n",
       "      <td>33</td>\n",
       "      <td>6</td>\n",
       "      <td>Amiens</td>\n",
       "      <td>84.777143</td>\n",
       "      <td>Première Classe Amiens</td>\n",
       "      <td>https://www.booking.com/hotel/fr/premia-re-cla...</td>\n",
       "      <td>49.918568</td>\n",
       "      <td>2.293313</td>\n",
       "      <td>Le Première Classe Amiens se situe à 3 km du c...</td>\n",
       "      <td>6.3</td>\n",
       "    </tr>\n",
       "    <tr>\n",
       "      <th>35</th>\n",
       "      <td>34</td>\n",
       "      <td>6</td>\n",
       "      <td>Amiens</td>\n",
       "      <td>84.777143</td>\n",
       "      <td>LA BERGE</td>\n",
       "      <td>https://www.booking.com/hotel/fr/la-berge.fr.h...</td>\n",
       "      <td>49.896102</td>\n",
       "      <td>2.310790</td>\n",
       "      <td>Doté d'une connexion Wi-Fi et d'un parking pri...</td>\n",
       "      <td>9.3</td>\n",
       "    </tr>\n",
       "    <tr>\n",
       "      <th>36</th>\n",
       "      <td>35</td>\n",
       "      <td>6</td>\n",
       "      <td>Amiens</td>\n",
       "      <td>84.777143</td>\n",
       "      <td>Bonvallet - Studio paisible et chaleureux avec...</td>\n",
       "      <td>https://www.booking.com/hotel/fr/bonvallet-2-b...</td>\n",
       "      <td>49.900891</td>\n",
       "      <td>2.290915</td>\n",
       "      <td>Doté d'une terrasse et offrant une vue sur le ...</td>\n",
       "      <td>9.3</td>\n",
       "    </tr>\n",
       "    <tr>\n",
       "      <th>37</th>\n",
       "      <td>36</td>\n",
       "      <td>6</td>\n",
       "      <td>Amiens</td>\n",
       "      <td>84.777143</td>\n",
       "      <td>La Chambre D'Amiens</td>\n",
       "      <td>https://www.booking.com/hotel/fr/la-chambre-d-...</td>\n",
       "      <td>49.894484</td>\n",
       "      <td>2.276803</td>\n",
       "      <td>Situé à Amiens, à 900 mètres du Zénith, l'étab...</td>\n",
       "      <td>8.5</td>\n",
       "    </tr>\n",
       "    <tr>\n",
       "      <th>38</th>\n",
       "      <td>37</td>\n",
       "      <td>6</td>\n",
       "      <td>Amiens</td>\n",
       "      <td>84.777143</td>\n",
       "      <td>LA CABANE</td>\n",
       "      <td>https://www.booking.com/hotel/fr/la-cabane-ami...</td>\n",
       "      <td>49.896102</td>\n",
       "      <td>2.310790</td>\n",
       "      <td>Doté d'une connexion Wi-Fi et d'un parking pri...</td>\n",
       "      <td>9.1</td>\n",
       "    </tr>\n",
       "    <tr>\n",
       "      <th>39</th>\n",
       "      <td>38</td>\n",
       "      <td>6</td>\n",
       "      <td>Amiens</td>\n",
       "      <td>84.777143</td>\n",
       "      <td>Hotel Victor Hugo</td>\n",
       "      <td>https://www.booking.com/hotel/fr/victor-hugo-a...</td>\n",
       "      <td>49.893251</td>\n",
       "      <td>2.304545</td>\n",
       "      <td>L'Hotel Victor Hugo propose des hébergements à...</td>\n",
       "      <td>7.8</td>\n",
       "    </tr>\n",
       "  </tbody>\n",
       "</table>\n",
       "</div>"
      ],
      "text/plain": [
       "    index  id      city  score_weather  \\\n",
       "0       0   5     Paris      80.288571   \n",
       "1       1   5     Paris      80.288571   \n",
       "2       2   5     Paris      80.288571   \n",
       "3       3   5     Paris      80.288571   \n",
       "4      32   6    Amiens      84.777143   \n",
       "5       4   5     Paris      80.288571   \n",
       "6       5   5     Paris      80.288571   \n",
       "7       6   5     Paris      80.288571   \n",
       "8       7   5     Paris      80.288571   \n",
       "9       8   5     Paris      80.288571   \n",
       "10      9   5     Paris      80.288571   \n",
       "11     10   5     Paris      80.288571   \n",
       "12     11   5     Paris      80.288571   \n",
       "13     12   5     Paris      80.288571   \n",
       "14     13   5     Paris      80.288571   \n",
       "15     14   5     Paris      80.288571   \n",
       "16     15   5     Paris      80.288571   \n",
       "17     16   5     Paris      80.288571   \n",
       "18     17   5     Paris      80.288571   \n",
       "19     18   5     Paris      80.288571   \n",
       "20     19   5     Paris      80.288571   \n",
       "21     20   6    Amiens      84.777143   \n",
       "22     21   6    Amiens      84.777143   \n",
       "23     22   6    Amiens      84.777143   \n",
       "24     23   6    Amiens      84.777143   \n",
       "25     24   6    Amiens      84.777143   \n",
       "26     25   6    Amiens      84.777143   \n",
       "27     91   3  Le Havre      99.414286   \n",
       "28     26   6    Amiens      84.777143   \n",
       "29     27   6    Amiens      84.777143   \n",
       "30     28   6    Amiens      84.777143   \n",
       "31     29   6    Amiens      84.777143   \n",
       "32     30   6    Amiens      84.777143   \n",
       "33     31   6    Amiens      84.777143   \n",
       "34     33   6    Amiens      84.777143   \n",
       "35     34   6    Amiens      84.777143   \n",
       "36     35   6    Amiens      84.777143   \n",
       "37     36   6    Amiens      84.777143   \n",
       "38     37   6    Amiens      84.777143   \n",
       "39     38   6    Amiens      84.777143   \n",
       "\n",
       "                                                 name  \\\n",
       "0                                   Hôtel de Banville   \n",
       "1                    Room Mate Alain - Champs-Elysées   \n",
       "2                      Westside Arc de Triomphe Hotel   \n",
       "3                                Hotel de L'Esperance   \n",
       "4   Studio / chambre calme prés de l'étang st pierre.   \n",
       "5                                 Hotel Korner Eiffel   \n",
       "6                                       Le Grey Hotel   \n",
       "7                      Austin's Arts Et Metiers Hotel   \n",
       "8                                  Grand Hôtel Amelot   \n",
       "9                                Grand Hotel Francais   \n",
       "10                                Hotel Elysees Opera   \n",
       "11                              Hotel Petit Lafayette   \n",
       "12                                 HotelHome Paris 16   \n",
       "13                                Sweet Inn - Turenne   \n",
       "14                                      Hotel Lutetia   \n",
       "15          71 m with balcony and wifi near the Seine   \n",
       "16             Ibis Paris Tour Eiffel Cambronne 15ème   \n",
       "17                          Home Suite Home Roses 2BR   \n",
       "18      Amazing apartment under the roof in Paris 8th   \n",
       "19                     Bright new apartment with wifi   \n",
       "20  GuestReady - Lovely Bright Flat with Private P...   \n",
       "21                             Le Majestic Cathédrale   \n",
       "22                              Ginkgo Maison d'hôtes   \n",
       "23           Holiday Inn Express Amiens, an IHG Hotel   \n",
       "24                          ibis Styles Amiens Centre   \n",
       "25                     ibis budget Amiens Centre Gare   \n",
       "26                          Mercure Amiens Cathédrale   \n",
       "27                                      F2 - Le Havre   \n",
       "28                      ibis Amiens Centre Cathedrale   \n",
       "29                          Comfort Hotel Amiens Nord   \n",
       "30                 Appart'City Amiens Gare Cathédrale   \n",
       "31                   Hotel Le Prieuré et La Résidence   \n",
       "32                                     Le Saint Louis   \n",
       "33               Charmant T2 hyper centre. Cathédrale   \n",
       "34                             Première Classe Amiens   \n",
       "35                                           LA BERGE   \n",
       "36  Bonvallet - Studio paisible et chaleureux avec...   \n",
       "37                                La Chambre D'Amiens   \n",
       "38                                          LA CABANE   \n",
       "39                                  Hotel Victor Hugo   \n",
       "\n",
       "                                                  url  lat_hotels  lon_hotels  \\\n",
       "0   https://www.booking.com/hotel/fr/hoteldebanvil...   48.886394    2.294946   \n",
       "1   https://www.booking.com/hotel/fr/d-argentine.f...   48.874345    2.289776   \n",
       "2   https://www.booking.com/hotel/fr/westside-arc-...   48.881299    2.294803   \n",
       "3   https://www.booking.com/hotel/fr/de-l-39-esper...   48.838158    2.349616   \n",
       "4   https://www.booking.com/hotel/fr/studio-chambr...   49.900350    2.312232   \n",
       "5   https://www.booking.com/hotel/fr/idealhotel.fr...   48.846590    2.288570   \n",
       "6   https://www.booking.com/hotel/fr/grey.fr.html?...   48.881330    2.327415   \n",
       "7   https://www.booking.com/hotel/fr/austin-s-arts...   48.866011    2.357098   \n",
       "8   https://www.booking.com/hotel/fr/grand-amelot-...   48.859257    2.368409   \n",
       "9   https://www.booking.com/hotel/fr/hotelfrancais...   48.851585    2.390827   \n",
       "10  https://www.booking.com/hotel/fr/america.fr.ht...   48.881415    2.324553   \n",
       "11  https://www.booking.com/hotel/fr/holiday-villa...   48.876067    2.345675   \n",
       "12  https://www.booking.com/hotel/fr/residencejasm...   48.850575    2.267432   \n",
       "13  https://www.booking.com/hotel/fr/sweet-inn-le-...   48.864444    2.364885   \n",
       "14  https://www.booking.com/hotel/fr/lutetia-paris...   48.851244    2.327238   \n",
       "15  https://www.booking.com/hotel/fr/71-m-with-bal...   48.846155    2.280192   \n",
       "16  https://www.booking.com/hotel/fr/ibis-paris-to...   48.847004    2.301413   \n",
       "17  https://www.booking.com/hotel/fr/home-suite-ho...   48.893396    2.361590   \n",
       "18  https://www.booking.com/hotel/fr/amazing-apart...   48.879111    2.327707   \n",
       "19  https://www.booking.com/hotel/fr/bright-new-ap...   48.830280    2.341702   \n",
       "20  https://www.booking.com/hotel/fr/guestready-lo...   48.855231    2.326267   \n",
       "21  https://www.booking.com/hotel/fr/le-duplex-ami...   49.895383    2.297772   \n",
       "22  https://www.booking.com/hotel/fr/ginkgo-maison...   49.887125    2.295143   \n",
       "23  https://www.booking.com/hotel/fr/express-by-ho...   49.891676    2.307754   \n",
       "24  https://www.booking.com/hotel/fr/ibis-styles-a...   49.891422    2.304996   \n",
       "25  https://www.booking.com/hotel/fr/ibis-budget-a...   49.891591    2.313573   \n",
       "26  https://www.booking.com/hotel/fr/mercure-amien...   49.895711    2.299562   \n",
       "27  https://www.booking.com/hotel/fr/f2-le-havre.f...   49.484803    0.134460   \n",
       "28  https://www.booking.com/hotel/fr/ibis-amiens-c...   49.891999    2.291970   \n",
       "29  https://www.booking.com/hotel/fr/kyriad-amiens...   49.925134    2.304573   \n",
       "30  https://www.booking.com/hotel/fr/appart-city-a...   49.894316    2.309761   \n",
       "31  https://www.booking.com/hotel/fr/le-prieure-am...   49.894445    2.300942   \n",
       "32  https://www.booking.com/hotel/fr/le-saint-loui...   49.889779    2.302499   \n",
       "33  https://www.booking.com/hotel/fr/charmant-t2-h...   49.893876    2.300911   \n",
       "34  https://www.booking.com/hotel/fr/premia-re-cla...   49.918568    2.293313   \n",
       "35  https://www.booking.com/hotel/fr/la-berge.fr.h...   49.896102    2.310790   \n",
       "36  https://www.booking.com/hotel/fr/bonvallet-2-b...   49.900891    2.290915   \n",
       "37  https://www.booking.com/hotel/fr/la-chambre-d-...   49.894484    2.276803   \n",
       "38  https://www.booking.com/hotel/fr/la-cabane-ami...   49.896102    2.310790   \n",
       "39  https://www.booking.com/hotel/fr/victor-hugo-a...   49.893251    2.304545   \n",
       "\n",
       "                                          description  score  \n",
       "0   Vous pouvez bénéficier d'une réduction Genius ...    8.4  \n",
       "1   Vous pouvez bénéficier d'une réduction Genius ...    8.5  \n",
       "2   Doté d’un bar-salon, le Westside Arc de Triomp...    8.0  \n",
       "3   Vous pouvez bénéficier d'une réduction Genius ...    8.6  \n",
       "4   Doté d'une connexion Wi-Fi gratuite et offrant...    8.9  \n",
       "5   L’Hotel Korner Eiffel se trouve à 20 minutes d...    8.6  \n",
       "6   Vous pouvez bénéficier d'une réduction Genius ...    8.9  \n",
       "7   Vous pouvez bénéficier d'une réduction Genius ...    8.4  \n",
       "8   Vous pouvez bénéficier d'une réduction Genius ...    8.1  \n",
       "9   Le Grand Hotel Français est un hôtel design si...    8.7  \n",
       "10  Vous pouvez bénéficier d'une réduction Genius ...    8.3  \n",
       "11  Vous pouvez bénéficier d'une réduction Genius ...    8.8  \n",
       "12  Vous pouvez bénéficier d'une réduction Genius ...    8.6  \n",
       "13  Vous pouvez bénéficier d'une réduction Genius ...    8.7  \n",
       "14  L’Hotel Lutetia - The Leading Hotels of the Wo...    8.9  \n",
       "15  Dans le 15e arr. Situé dans le quartier de Par...    5.0  \n",
       "16  Situé dans le 15ème arrondissement de Paris, à...    7.4  \n",
       "17  Situé à Paris, à 1,6 km du Sacré-Cœur et à 2 k...    5.0  \n",
       "18  Offrant une vue sur la ville, l'Amazing apartm...    5.0  \n",
       "19  Situé à Paris, à 1,9 km du jardin du Luxembour...    5.0  \n",
       "20  Situé dans le centre de Paris, à seulement 600...    9.0  \n",
       "21  Vous pouvez bénéficier d'une réduction Genius ...    9.3  \n",
       "22  Installé à Amiens, à moins de 2,3 km du Zénith...    9.4  \n",
       "23  Rénové en avril 2015, le Holiday Inn Express A...    8.1  \n",
       "24  Situé à Amiens, à 3,4 km du Zénith, l'ibis Sty...    8.7  \n",
       "25  L'ibis budget Amiens Centre Gare est situé dan...    8.2  \n",
       "26  L’hôtel 4 étoiles Mercure Amiens Cathédrale vo...    8.3  \n",
       "27  Le F2 - Le Havre est situé au Havre, à 2,1 km ...    8.3  \n",
       "28  Doté d'un restaurant et d'une connexion Wi-Fi ...    7.4  \n",
       "29  Doté d’une terrasse, le Comfort Hotel Amiens N...    6.9  \n",
       "30  Situé à 300 mètres de la cathédrale Notre-Dame...    7.4  \n",
       "31  L'Hotel Le Prieuré et La Résidence est situé d...    8.4  \n",
       "32  Le Saint Louis est situé dans le centre-ville ...    8.1  \n",
       "33  Doté d'une terrasse et d'un service de concier...    9.0  \n",
       "34  Le Première Classe Amiens se situe à 3 km du c...    6.3  \n",
       "35  Doté d'une connexion Wi-Fi et d'un parking pri...    9.3  \n",
       "36  Doté d'une terrasse et offrant une vue sur le ...    9.3  \n",
       "37  Situé à Amiens, à 900 mètres du Zénith, l'étab...    8.5  \n",
       "38  Doté d'une connexion Wi-Fi et d'un parking pri...    9.1  \n",
       "39  L'Hotel Victor Hugo propose des hébergements à...    7.8  "
      ]
     },
     "execution_count": 56,
     "metadata": {},
     "output_type": "execute_result"
    }
   ],
   "source": [
    "query = text(\"SELECT * FROM hotels LIMIT 40\")\n",
    "pd.read_sql(query, engine)"
   ]
  },
  {
   "cell_type": "markdown",
   "metadata": {},
   "source": [
    "## Plotting Maps"
   ]
  },
  {
   "cell_type": "code",
   "execution_count": 28,
   "metadata": {},
   "outputs": [],
   "source": [
    "# Creating a new column to be used to determine the size of the points in the plot\n",
    "df_weather_full['inverted_score'] = max(df_weather_full['score_weather']) - df_weather_full['score_weather']"
   ]
  },
  {
   "cell_type": "markdown",
   "metadata": {},
   "source": [
    "### Weather Map"
   ]
  },
  {
   "cell_type": "code",
   "execution_count": 29,
   "metadata": {},
   "outputs": [
    {
     "data": {
      "application/vnd.plotly.v1+json": {
       "config": {
        "plotlyServerURL": "https://plot.ly"
       },
       "data": [
        {
         "customdata": [
          [
           48.8588897,
           2.3200410217200766,
           1,
           0,
           43,
           15.03,
           69.63714285714286
          ],
          [
           49.8941708,
           2.2956951,
           1,
           0,
           56,
           14.33,
           65.14857142857144
          ],
          [
           49.4404591,
           1.0939658,
           1,
           0,
           57,
           14.58,
           63.53142857142859
          ],
          [
           50.6365654,
           3.0635282,
           1,
           0,
           52,
           14.88,
           53.50285714285715
          ],
          [
           49.4938975,
           0.1079732,
           1,
           0,
           61,
           13.5,
           50.51142857142857
          ]
         ],
         "hovertemplate": "<b>%{hovertext}</b><br><br>rain_chances=%{customdata[3]}<br>humidity=%{customdata[4]}<br>felt_temperature=%{marker.color}<extra></extra>",
         "hovertext": [
          "Paris",
          "Amiens",
          "Rouen",
          "Lille",
          "Le Havre"
         ],
         "lat": [
          48.8588897,
          49.8941708,
          49.4404591,
          50.6365654,
          49.4938975
         ],
         "legendgroup": "",
         "lon": [
          2.3200410217200766,
          2.2956951,
          1.0939658,
          3.0635282,
          0.1079732
         ],
         "marker": {
          "color": [
           15.03,
           14.33,
           14.58,
           14.88,
           13.5
          ],
          "coloraxis": "coloraxis",
          "size": [
           69.63714285714286,
           65.14857142857144,
           63.53142857142859,
           53.50285714285715,
           50.51142857142857
          ],
          "sizemode": "area",
          "sizeref": 0.05684664723032071
         },
         "mode": "markers",
         "name": "",
         "showlegend": false,
         "subplot": "mapbox",
         "type": "scattermapbox"
        }
       ],
       "frames": [
        {
         "data": [
          {
           "customdata": [
            [
             48.8588897,
             2.3200410217200766,
             1,
             0,
             43,
             15.03,
             69.63714285714286
            ],
            [
             49.8941708,
             2.2956951,
             1,
             0,
             56,
             14.33,
             65.14857142857144
            ],
            [
             49.4404591,
             1.0939658,
             1,
             0,
             57,
             14.58,
             63.53142857142859
            ],
            [
             50.6365654,
             3.0635282,
             1,
             0,
             52,
             14.88,
             53.50285714285715
            ],
            [
             49.4938975,
             0.1079732,
             1,
             0,
             61,
             13.5,
             50.51142857142857
            ]
           ],
           "hovertemplate": "<b>%{hovertext}</b><br><br>rain_chances=%{customdata[3]}<br>humidity=%{customdata[4]}<br>felt_temperature=%{marker.color}<extra></extra>",
           "hovertext": [
            "Paris",
            "Amiens",
            "Rouen",
            "Lille",
            "Le Havre"
           ],
           "lat": [
            48.8588897,
            49.8941708,
            49.4404591,
            50.6365654,
            49.4938975
           ],
           "legendgroup": "",
           "lon": [
            2.3200410217200766,
            2.2956951,
            1.0939658,
            3.0635282,
            0.1079732
           ],
           "marker": {
            "color": [
             15.03,
             14.33,
             14.58,
             14.88,
             13.5
            ],
            "coloraxis": "coloraxis",
            "size": [
             69.63714285714286,
             65.14857142857144,
             63.53142857142859,
             53.50285714285715,
             50.51142857142857
            ],
            "sizemode": "area",
            "sizeref": 0.05684664723032071
           },
           "mode": "markers",
           "name": "",
           "showlegend": false,
           "subplot": "mapbox",
           "type": "scattermapbox"
          }
         ],
         "name": "1"
        },
        {
         "data": [
          {
           "customdata": [
            [
             48.8588897,
             2.3200410217200766,
             2,
             0,
             49,
             14.52,
             69.63714285714286
            ],
            [
             49.8941708,
             2.2956951,
             2,
             0,
             65,
             11.49,
             65.14857142857144
            ],
            [
             49.4404591,
             1.0939658,
             2,
             0,
             64,
             13.61,
             63.53142857142859
            ],
            [
             50.6365654,
             3.0635282,
             2,
             32,
             67,
             11.2,
             53.50285714285715
            ],
            [
             49.4938975,
             0.1079732,
             2,
             0,
             69,
             12.63,
             50.51142857142857
            ]
           ],
           "hovertemplate": "<b>%{hovertext}</b><br><br>rain_chances=%{customdata[3]}<br>humidity=%{customdata[4]}<br>felt_temperature=%{marker.color}<extra></extra>",
           "hovertext": [
            "Paris",
            "Amiens",
            "Rouen",
            "Lille",
            "Le Havre"
           ],
           "lat": [
            48.8588897,
            49.8941708,
            49.4404591,
            50.6365654,
            49.4938975
           ],
           "legendgroup": "",
           "lon": [
            2.3200410217200766,
            2.2956951,
            1.0939658,
            3.0635282,
            0.1079732
           ],
           "marker": {
            "color": [
             14.52,
             11.49,
             13.61,
             11.2,
             12.63
            ],
            "coloraxis": "coloraxis",
            "size": [
             69.63714285714286,
             65.14857142857144,
             63.53142857142859,
             53.50285714285715,
             50.51142857142857
            ],
            "sizemode": "area",
            "sizeref": 0.05684664723032071
           },
           "mode": "markers",
           "name": "",
           "showlegend": false,
           "subplot": "mapbox",
           "type": "scattermapbox"
          }
         ],
         "name": "2"
        },
        {
         "data": [
          {
           "customdata": [
            [
             48.8588897,
             2.3200410217200766,
             3,
             93,
             52,
             16.94,
             69.63714285714286
            ],
            [
             49.8941708,
             2.2956951,
             3,
             15,
             68,
             13.81,
             65.14857142857144
            ],
            [
             49.4404591,
             1.0939658,
             3,
             46,
             67,
             15.52,
             63.53142857142859
            ],
            [
             50.6365654,
             3.0635282,
             3,
             0,
             52,
             14.99,
             53.50285714285715
            ],
            [
             49.4938975,
             0.1079732,
             3,
             51,
             70,
             14.55,
             50.51142857142857
            ]
           ],
           "hovertemplate": "<b>%{hovertext}</b><br><br>rain_chances=%{customdata[3]}<br>humidity=%{customdata[4]}<br>felt_temperature=%{marker.color}<extra></extra>",
           "hovertext": [
            "Paris",
            "Amiens",
            "Rouen",
            "Lille",
            "Le Havre"
           ],
           "lat": [
            48.8588897,
            49.8941708,
            49.4404591,
            50.6365654,
            49.4938975
           ],
           "legendgroup": "",
           "lon": [
            2.3200410217200766,
            2.2956951,
            1.0939658,
            3.0635282,
            0.1079732
           ],
           "marker": {
            "color": [
             16.94,
             13.81,
             15.52,
             14.99,
             14.55
            ],
            "coloraxis": "coloraxis",
            "size": [
             69.63714285714286,
             65.14857142857144,
             63.53142857142859,
             53.50285714285715,
             50.51142857142857
            ],
            "sizemode": "area",
            "sizeref": 0.05684664723032071
           },
           "mode": "markers",
           "name": "",
           "showlegend": false,
           "subplot": "mapbox",
           "type": "scattermapbox"
          }
         ],
         "name": "3"
        },
        {
         "data": [
          {
           "customdata": [
            [
             48.8588897,
             2.3200410217200766,
             4,
             15,
             44,
             14.86,
             69.63714285714286
            ],
            [
             49.8941708,
             2.2956951,
             4,
             28,
             60,
             12.52,
             65.14857142857144
            ],
            [
             49.4404591,
             1.0939658,
             4,
             33,
             60,
             12.71,
             63.53142857142859
            ],
            [
             50.6365654,
             3.0635282,
             4,
             32,
             59,
             12.16,
             53.50285714285715
            ],
            [
             49.4938975,
             0.1079732,
             4,
             47,
             66,
             11.81,
             50.51142857142857
            ]
           ],
           "hovertemplate": "<b>%{hovertext}</b><br><br>rain_chances=%{customdata[3]}<br>humidity=%{customdata[4]}<br>felt_temperature=%{marker.color}<extra></extra>",
           "hovertext": [
            "Paris",
            "Amiens",
            "Rouen",
            "Lille",
            "Le Havre"
           ],
           "lat": [
            48.8588897,
            49.8941708,
            49.4404591,
            50.6365654,
            49.4938975
           ],
           "legendgroup": "",
           "lon": [
            2.3200410217200766,
            2.2956951,
            1.0939658,
            3.0635282,
            0.1079732
           ],
           "marker": {
            "color": [
             14.86,
             12.52,
             12.71,
             12.16,
             11.81
            ],
            "coloraxis": "coloraxis",
            "size": [
             69.63714285714286,
             65.14857142857144,
             63.53142857142859,
             53.50285714285715,
             50.51142857142857
            ],
            "sizemode": "area",
            "sizeref": 0.05684664723032071
           },
           "mode": "markers",
           "name": "",
           "showlegend": false,
           "subplot": "mapbox",
           "type": "scattermapbox"
          }
         ],
         "name": "4"
        },
        {
         "data": [
          {
           "customdata": [
            [
             48.8588897,
             2.3200410217200766,
             5,
             26,
             37,
             15.61,
             69.63714285714286
            ],
            [
             49.8941708,
             2.2956951,
             5,
             20,
             63,
             10.74,
             65.14857142857144
            ],
            [
             49.4404591,
             1.0939658,
             5,
             20,
             58,
             12.44,
             63.53142857142859
            ],
            [
             50.6365654,
             3.0635282,
             5,
             63,
             61,
             10.49,
             53.50285714285715
            ],
            [
             49.4938975,
             0.1079732,
             5,
             0,
             67,
             9.59,
             50.51142857142857
            ]
           ],
           "hovertemplate": "<b>%{hovertext}</b><br><br>rain_chances=%{customdata[3]}<br>humidity=%{customdata[4]}<br>felt_temperature=%{marker.color}<extra></extra>",
           "hovertext": [
            "Paris",
            "Amiens",
            "Rouen",
            "Lille",
            "Le Havre"
           ],
           "lat": [
            48.8588897,
            49.8941708,
            49.4404591,
            50.6365654,
            49.4938975
           ],
           "legendgroup": "",
           "lon": [
            2.3200410217200766,
            2.2956951,
            1.0939658,
            3.0635282,
            0.1079732
           ],
           "marker": {
            "color": [
             15.61,
             10.74,
             12.44,
             10.49,
             9.59
            ],
            "coloraxis": "coloraxis",
            "size": [
             69.63714285714286,
             65.14857142857144,
             63.53142857142859,
             53.50285714285715,
             50.51142857142857
            ],
            "sizemode": "area",
            "sizeref": 0.05684664723032071
           },
           "mode": "markers",
           "name": "",
           "showlegend": false,
           "subplot": "mapbox",
           "type": "scattermapbox"
          }
         ],
         "name": "5"
        },
        {
         "data": [
          {
           "customdata": [
            [
             48.8588897,
             2.3200410217200766,
             6,
             0,
             41,
             15.41,
             69.63714285714286
            ],
            [
             49.8941708,
             2.2956951,
             6,
             0,
             63,
             10.48,
             65.14857142857144
            ],
            [
             49.4404591,
             1.0939658,
             6,
             0,
             58,
             13.26,
             63.53142857142859
            ],
            [
             50.6365654,
             3.0635282,
             6,
             35,
             62,
             10.41,
             53.50285714285715
            ],
            [
             49.4938975,
             0.1079732,
             6,
             0,
             65,
             10.51,
             50.51142857142857
            ]
           ],
           "hovertemplate": "<b>%{hovertext}</b><br><br>rain_chances=%{customdata[3]}<br>humidity=%{customdata[4]}<br>felt_temperature=%{marker.color}<extra></extra>",
           "hovertext": [
            "Paris",
            "Amiens",
            "Rouen",
            "Lille",
            "Le Havre"
           ],
           "lat": [
            48.8588897,
            49.8941708,
            49.4404591,
            50.6365654,
            49.4938975
           ],
           "legendgroup": "",
           "lon": [
            2.3200410217200766,
            2.2956951,
            1.0939658,
            3.0635282,
            0.1079732
           ],
           "marker": {
            "color": [
             15.41,
             10.48,
             13.26,
             10.41,
             10.51
            ],
            "coloraxis": "coloraxis",
            "size": [
             69.63714285714286,
             65.14857142857144,
             63.53142857142859,
             53.50285714285715,
             50.51142857142857
            ],
            "sizemode": "area",
            "sizeref": 0.05684664723032071
           },
           "mode": "markers",
           "name": "",
           "showlegend": false,
           "subplot": "mapbox",
           "type": "scattermapbox"
          }
         ],
         "name": "6"
        },
        {
         "data": [
          {
           "customdata": [
            [
             48.8588897,
             2.3200410217200766,
             7,
             0,
             47,
             16.87,
             69.63714285714286
            ],
            [
             49.8941708,
             2.2956951,
             7,
             0,
             59,
             14.91,
             65.14857142857144
            ],
            [
             49.4404591,
             1.0939658,
             7,
             0,
             59,
             15.75,
             63.53142857142859
            ],
            [
             50.6365654,
             3.0635282,
             7,
             0,
             50,
             15.14,
             53.50285714285715
            ],
            [
             49.4938975,
             0.1079732,
             7,
             49,
             65,
             13.71,
             50.51142857142857
            ]
           ],
           "hovertemplate": "<b>%{hovertext}</b><br><br>rain_chances=%{customdata[3]}<br>humidity=%{customdata[4]}<br>felt_temperature=%{marker.color}<extra></extra>",
           "hovertext": [
            "Paris",
            "Amiens",
            "Rouen",
            "Lille",
            "Le Havre"
           ],
           "lat": [
            48.8588897,
            49.8941708,
            49.4404591,
            50.6365654,
            49.4938975
           ],
           "legendgroup": "",
           "lon": [
            2.3200410217200766,
            2.2956951,
            1.0939658,
            3.0635282,
            0.1079732
           ],
           "marker": {
            "color": [
             16.87,
             14.91,
             15.75,
             15.14,
             13.71
            ],
            "coloraxis": "coloraxis",
            "size": [
             69.63714285714286,
             65.14857142857144,
             63.53142857142859,
             53.50285714285715,
             50.51142857142857
            ],
            "sizemode": "area",
            "sizeref": 0.05684664723032071
           },
           "mode": "markers",
           "name": "",
           "showlegend": false,
           "subplot": "mapbox",
           "type": "scattermapbox"
          }
         ],
         "name": "7"
        }
       ],
       "layout": {
        "coloraxis": {
         "cmax": 16.94,
         "cmin": 9.59,
         "colorbar": {
          "title": {
           "text": "felt_temperature"
          }
         },
         "colorscale": [
          [
           0,
           "rgb(0,0,255)"
          ],
          [
           1,
           "rgb(255,0,0)"
          ]
         ]
        },
        "height": 800,
        "legend": {
         "itemsizing": "constant",
         "tracegroupgap": 0
        },
        "mapbox": {
         "accesstoken": "pk.eyJ1Ijoidm9ud2VuIiwiYSI6ImNsMWM0dmZnazA0N2gzZG8wa2N1OTM0ZDEifQ.lCZ3DFaUYPS5XIJCWi6yNA",
         "center": {
          "lat": 49.6647965,
          "lon": 1.7762406643440156
         },
         "domain": {
          "x": [
           0,
           1
          ],
          "y": [
           0,
           1
          ]
         },
         "zoom": 4.7
        },
        "margin": {
         "t": 60
        },
        "sliders": [
         {
          "active": 0,
          "currentvalue": {
           "prefix": "day_plus="
          },
          "len": 0.9,
          "pad": {
           "b": 10,
           "t": 60
          },
          "steps": [
           {
            "args": [
             [
              "1"
             ],
             {
              "frame": {
               "duration": 0,
               "redraw": true
              },
              "fromcurrent": true,
              "mode": "immediate",
              "transition": {
               "duration": 0,
               "easing": "linear"
              }
             }
            ],
            "label": "1",
            "method": "animate"
           },
           {
            "args": [
             [
              "2"
             ],
             {
              "frame": {
               "duration": 0,
               "redraw": true
              },
              "fromcurrent": true,
              "mode": "immediate",
              "transition": {
               "duration": 0,
               "easing": "linear"
              }
             }
            ],
            "label": "2",
            "method": "animate"
           },
           {
            "args": [
             [
              "3"
             ],
             {
              "frame": {
               "duration": 0,
               "redraw": true
              },
              "fromcurrent": true,
              "mode": "immediate",
              "transition": {
               "duration": 0,
               "easing": "linear"
              }
             }
            ],
            "label": "3",
            "method": "animate"
           },
           {
            "args": [
             [
              "4"
             ],
             {
              "frame": {
               "duration": 0,
               "redraw": true
              },
              "fromcurrent": true,
              "mode": "immediate",
              "transition": {
               "duration": 0,
               "easing": "linear"
              }
             }
            ],
            "label": "4",
            "method": "animate"
           },
           {
            "args": [
             [
              "5"
             ],
             {
              "frame": {
               "duration": 0,
               "redraw": true
              },
              "fromcurrent": true,
              "mode": "immediate",
              "transition": {
               "duration": 0,
               "easing": "linear"
              }
             }
            ],
            "label": "5",
            "method": "animate"
           },
           {
            "args": [
             [
              "6"
             ],
             {
              "frame": {
               "duration": 0,
               "redraw": true
              },
              "fromcurrent": true,
              "mode": "immediate",
              "transition": {
               "duration": 0,
               "easing": "linear"
              }
             }
            ],
            "label": "6",
            "method": "animate"
           },
           {
            "args": [
             [
              "7"
             ],
             {
              "frame": {
               "duration": 0,
               "redraw": true
              },
              "fromcurrent": true,
              "mode": "immediate",
              "transition": {
               "duration": 0,
               "easing": "linear"
              }
             }
            ],
            "label": "7",
            "method": "animate"
           }
          ],
          "x": 0.1,
          "xanchor": "left",
          "y": 0,
          "yanchor": "top"
         }
        ],
        "template": {
         "data": {
          "bar": [
           {
            "error_x": {
             "color": "#f2f5fa"
            },
            "error_y": {
             "color": "#f2f5fa"
            },
            "marker": {
             "line": {
              "color": "rgb(17,17,17)",
              "width": 0.5
             },
             "pattern": {
              "fillmode": "overlay",
              "size": 10,
              "solidity": 0.2
             }
            },
            "type": "bar"
           }
          ],
          "barpolar": [
           {
            "marker": {
             "line": {
              "color": "rgb(17,17,17)",
              "width": 0.5
             },
             "pattern": {
              "fillmode": "overlay",
              "size": 10,
              "solidity": 0.2
             }
            },
            "type": "barpolar"
           }
          ],
          "carpet": [
           {
            "aaxis": {
             "endlinecolor": "#A2B1C6",
             "gridcolor": "#506784",
             "linecolor": "#506784",
             "minorgridcolor": "#506784",
             "startlinecolor": "#A2B1C6"
            },
            "baxis": {
             "endlinecolor": "#A2B1C6",
             "gridcolor": "#506784",
             "linecolor": "#506784",
             "minorgridcolor": "#506784",
             "startlinecolor": "#A2B1C6"
            },
            "type": "carpet"
           }
          ],
          "choropleth": [
           {
            "colorbar": {
             "outlinewidth": 0,
             "ticks": ""
            },
            "type": "choropleth"
           }
          ],
          "contour": [
           {
            "colorbar": {
             "outlinewidth": 0,
             "ticks": ""
            },
            "colorscale": [
             [
              0,
              "#0d0887"
             ],
             [
              0.1111111111111111,
              "#46039f"
             ],
             [
              0.2222222222222222,
              "#7201a8"
             ],
             [
              0.3333333333333333,
              "#9c179e"
             ],
             [
              0.4444444444444444,
              "#bd3786"
             ],
             [
              0.5555555555555556,
              "#d8576b"
             ],
             [
              0.6666666666666666,
              "#ed7953"
             ],
             [
              0.7777777777777778,
              "#fb9f3a"
             ],
             [
              0.8888888888888888,
              "#fdca26"
             ],
             [
              1,
              "#f0f921"
             ]
            ],
            "type": "contour"
           }
          ],
          "contourcarpet": [
           {
            "colorbar": {
             "outlinewidth": 0,
             "ticks": ""
            },
            "type": "contourcarpet"
           }
          ],
          "heatmap": [
           {
            "colorbar": {
             "outlinewidth": 0,
             "ticks": ""
            },
            "colorscale": [
             [
              0,
              "#0d0887"
             ],
             [
              0.1111111111111111,
              "#46039f"
             ],
             [
              0.2222222222222222,
              "#7201a8"
             ],
             [
              0.3333333333333333,
              "#9c179e"
             ],
             [
              0.4444444444444444,
              "#bd3786"
             ],
             [
              0.5555555555555556,
              "#d8576b"
             ],
             [
              0.6666666666666666,
              "#ed7953"
             ],
             [
              0.7777777777777778,
              "#fb9f3a"
             ],
             [
              0.8888888888888888,
              "#fdca26"
             ],
             [
              1,
              "#f0f921"
             ]
            ],
            "type": "heatmap"
           }
          ],
          "heatmapgl": [
           {
            "colorbar": {
             "outlinewidth": 0,
             "ticks": ""
            },
            "colorscale": [
             [
              0,
              "#0d0887"
             ],
             [
              0.1111111111111111,
              "#46039f"
             ],
             [
              0.2222222222222222,
              "#7201a8"
             ],
             [
              0.3333333333333333,
              "#9c179e"
             ],
             [
              0.4444444444444444,
              "#bd3786"
             ],
             [
              0.5555555555555556,
              "#d8576b"
             ],
             [
              0.6666666666666666,
              "#ed7953"
             ],
             [
              0.7777777777777778,
              "#fb9f3a"
             ],
             [
              0.8888888888888888,
              "#fdca26"
             ],
             [
              1,
              "#f0f921"
             ]
            ],
            "type": "heatmapgl"
           }
          ],
          "histogram": [
           {
            "marker": {
             "pattern": {
              "fillmode": "overlay",
              "size": 10,
              "solidity": 0.2
             }
            },
            "type": "histogram"
           }
          ],
          "histogram2d": [
           {
            "colorbar": {
             "outlinewidth": 0,
             "ticks": ""
            },
            "colorscale": [
             [
              0,
              "#0d0887"
             ],
             [
              0.1111111111111111,
              "#46039f"
             ],
             [
              0.2222222222222222,
              "#7201a8"
             ],
             [
              0.3333333333333333,
              "#9c179e"
             ],
             [
              0.4444444444444444,
              "#bd3786"
             ],
             [
              0.5555555555555556,
              "#d8576b"
             ],
             [
              0.6666666666666666,
              "#ed7953"
             ],
             [
              0.7777777777777778,
              "#fb9f3a"
             ],
             [
              0.8888888888888888,
              "#fdca26"
             ],
             [
              1,
              "#f0f921"
             ]
            ],
            "type": "histogram2d"
           }
          ],
          "histogram2dcontour": [
           {
            "colorbar": {
             "outlinewidth": 0,
             "ticks": ""
            },
            "colorscale": [
             [
              0,
              "#0d0887"
             ],
             [
              0.1111111111111111,
              "#46039f"
             ],
             [
              0.2222222222222222,
              "#7201a8"
             ],
             [
              0.3333333333333333,
              "#9c179e"
             ],
             [
              0.4444444444444444,
              "#bd3786"
             ],
             [
              0.5555555555555556,
              "#d8576b"
             ],
             [
              0.6666666666666666,
              "#ed7953"
             ],
             [
              0.7777777777777778,
              "#fb9f3a"
             ],
             [
              0.8888888888888888,
              "#fdca26"
             ],
             [
              1,
              "#f0f921"
             ]
            ],
            "type": "histogram2dcontour"
           }
          ],
          "mesh3d": [
           {
            "colorbar": {
             "outlinewidth": 0,
             "ticks": ""
            },
            "type": "mesh3d"
           }
          ],
          "parcoords": [
           {
            "line": {
             "colorbar": {
              "outlinewidth": 0,
              "ticks": ""
             }
            },
            "type": "parcoords"
           }
          ],
          "pie": [
           {
            "automargin": true,
            "type": "pie"
           }
          ],
          "scatter": [
           {
            "marker": {
             "line": {
              "color": "#283442"
             }
            },
            "type": "scatter"
           }
          ],
          "scatter3d": [
           {
            "line": {
             "colorbar": {
              "outlinewidth": 0,
              "ticks": ""
             }
            },
            "marker": {
             "colorbar": {
              "outlinewidth": 0,
              "ticks": ""
             }
            },
            "type": "scatter3d"
           }
          ],
          "scattercarpet": [
           {
            "marker": {
             "colorbar": {
              "outlinewidth": 0,
              "ticks": ""
             }
            },
            "type": "scattercarpet"
           }
          ],
          "scattergeo": [
           {
            "marker": {
             "colorbar": {
              "outlinewidth": 0,
              "ticks": ""
             }
            },
            "type": "scattergeo"
           }
          ],
          "scattergl": [
           {
            "marker": {
             "line": {
              "color": "#283442"
             }
            },
            "type": "scattergl"
           }
          ],
          "scattermapbox": [
           {
            "marker": {
             "colorbar": {
              "outlinewidth": 0,
              "ticks": ""
             }
            },
            "type": "scattermapbox"
           }
          ],
          "scatterpolar": [
           {
            "marker": {
             "colorbar": {
              "outlinewidth": 0,
              "ticks": ""
             }
            },
            "type": "scatterpolar"
           }
          ],
          "scatterpolargl": [
           {
            "marker": {
             "colorbar": {
              "outlinewidth": 0,
              "ticks": ""
             }
            },
            "type": "scatterpolargl"
           }
          ],
          "scatterternary": [
           {
            "marker": {
             "colorbar": {
              "outlinewidth": 0,
              "ticks": ""
             }
            },
            "type": "scatterternary"
           }
          ],
          "surface": [
           {
            "colorbar": {
             "outlinewidth": 0,
             "ticks": ""
            },
            "colorscale": [
             [
              0,
              "#0d0887"
             ],
             [
              0.1111111111111111,
              "#46039f"
             ],
             [
              0.2222222222222222,
              "#7201a8"
             ],
             [
              0.3333333333333333,
              "#9c179e"
             ],
             [
              0.4444444444444444,
              "#bd3786"
             ],
             [
              0.5555555555555556,
              "#d8576b"
             ],
             [
              0.6666666666666666,
              "#ed7953"
             ],
             [
              0.7777777777777778,
              "#fb9f3a"
             ],
             [
              0.8888888888888888,
              "#fdca26"
             ],
             [
              1,
              "#f0f921"
             ]
            ],
            "type": "surface"
           }
          ],
          "table": [
           {
            "cells": {
             "fill": {
              "color": "#506784"
             },
             "line": {
              "color": "rgb(17,17,17)"
             }
            },
            "header": {
             "fill": {
              "color": "#2a3f5f"
             },
             "line": {
              "color": "rgb(17,17,17)"
             }
            },
            "type": "table"
           }
          ]
         },
         "layout": {
          "annotationdefaults": {
           "arrowcolor": "#f2f5fa",
           "arrowhead": 0,
           "arrowwidth": 1
          },
          "autotypenumbers": "strict",
          "coloraxis": {
           "colorbar": {
            "outlinewidth": 0,
            "ticks": ""
           }
          },
          "colorscale": {
           "diverging": [
            [
             0,
             "#8e0152"
            ],
            [
             0.1,
             "#c51b7d"
            ],
            [
             0.2,
             "#de77ae"
            ],
            [
             0.3,
             "#f1b6da"
            ],
            [
             0.4,
             "#fde0ef"
            ],
            [
             0.5,
             "#f7f7f7"
            ],
            [
             0.6,
             "#e6f5d0"
            ],
            [
             0.7,
             "#b8e186"
            ],
            [
             0.8,
             "#7fbc41"
            ],
            [
             0.9,
             "#4d9221"
            ],
            [
             1,
             "#276419"
            ]
           ],
           "sequential": [
            [
             0,
             "#0d0887"
            ],
            [
             0.1111111111111111,
             "#46039f"
            ],
            [
             0.2222222222222222,
             "#7201a8"
            ],
            [
             0.3333333333333333,
             "#9c179e"
            ],
            [
             0.4444444444444444,
             "#bd3786"
            ],
            [
             0.5555555555555556,
             "#d8576b"
            ],
            [
             0.6666666666666666,
             "#ed7953"
            ],
            [
             0.7777777777777778,
             "#fb9f3a"
            ],
            [
             0.8888888888888888,
             "#fdca26"
            ],
            [
             1,
             "#f0f921"
            ]
           ],
           "sequentialminus": [
            [
             0,
             "#0d0887"
            ],
            [
             0.1111111111111111,
             "#46039f"
            ],
            [
             0.2222222222222222,
             "#7201a8"
            ],
            [
             0.3333333333333333,
             "#9c179e"
            ],
            [
             0.4444444444444444,
             "#bd3786"
            ],
            [
             0.5555555555555556,
             "#d8576b"
            ],
            [
             0.6666666666666666,
             "#ed7953"
            ],
            [
             0.7777777777777778,
             "#fb9f3a"
            ],
            [
             0.8888888888888888,
             "#fdca26"
            ],
            [
             1,
             "#f0f921"
            ]
           ]
          },
          "colorway": [
           "#636efa",
           "#EF553B",
           "#00cc96",
           "#ab63fa",
           "#FFA15A",
           "#19d3f3",
           "#FF6692",
           "#B6E880",
           "#FF97FF",
           "#FECB52"
          ],
          "font": {
           "color": "#f2f5fa"
          },
          "geo": {
           "bgcolor": "rgb(17,17,17)",
           "lakecolor": "rgb(17,17,17)",
           "landcolor": "rgb(17,17,17)",
           "showlakes": true,
           "showland": true,
           "subunitcolor": "#506784"
          },
          "hoverlabel": {
           "align": "left"
          },
          "hovermode": "closest",
          "mapbox": {
           "style": "dark"
          },
          "paper_bgcolor": "rgb(17,17,17)",
          "plot_bgcolor": "rgb(17,17,17)",
          "polar": {
           "angularaxis": {
            "gridcolor": "#506784",
            "linecolor": "#506784",
            "ticks": ""
           },
           "bgcolor": "rgb(17,17,17)",
           "radialaxis": {
            "gridcolor": "#506784",
            "linecolor": "#506784",
            "ticks": ""
           }
          },
          "scene": {
           "xaxis": {
            "backgroundcolor": "rgb(17,17,17)",
            "gridcolor": "#506784",
            "gridwidth": 2,
            "linecolor": "#506784",
            "showbackground": true,
            "ticks": "",
            "zerolinecolor": "#C8D4E3"
           },
           "yaxis": {
            "backgroundcolor": "rgb(17,17,17)",
            "gridcolor": "#506784",
            "gridwidth": 2,
            "linecolor": "#506784",
            "showbackground": true,
            "ticks": "",
            "zerolinecolor": "#C8D4E3"
           },
           "zaxis": {
            "backgroundcolor": "rgb(17,17,17)",
            "gridcolor": "#506784",
            "gridwidth": 2,
            "linecolor": "#506784",
            "showbackground": true,
            "ticks": "",
            "zerolinecolor": "#C8D4E3"
           }
          },
          "shapedefaults": {
           "line": {
            "color": "#f2f5fa"
           }
          },
          "sliderdefaults": {
           "bgcolor": "#C8D4E3",
           "bordercolor": "rgb(17,17,17)",
           "borderwidth": 1,
           "tickwidth": 0
          },
          "ternary": {
           "aaxis": {
            "gridcolor": "#506784",
            "linecolor": "#506784",
            "ticks": ""
           },
           "baxis": {
            "gridcolor": "#506784",
            "linecolor": "#506784",
            "ticks": ""
           },
           "bgcolor": "rgb(17,17,17)",
           "caxis": {
            "gridcolor": "#506784",
            "linecolor": "#506784",
            "ticks": ""
           }
          },
          "title": {
           "x": 0.05
          },
          "updatemenudefaults": {
           "bgcolor": "#506784",
           "borderwidth": 0
          },
          "xaxis": {
           "automargin": true,
           "gridcolor": "#283442",
           "linecolor": "#506784",
           "ticks": "",
           "title": {
            "standoff": 15
           },
           "zerolinecolor": "#283442",
           "zerolinewidth": 2
          },
          "yaxis": {
           "automargin": true,
           "gridcolor": "#283442",
           "linecolor": "#506784",
           "ticks": "",
           "title": {
            "standoff": 15
           },
           "zerolinecolor": "#283442",
           "zerolinewidth": 2
          }
         }
        },
        "title": {
         "text": "The 5 cities with the best weather over the next 7 days",
         "x": 0.5
        },
        "updatemenus": [
         {
          "buttons": [
           {
            "args": [
             null,
             {
              "frame": {
               "duration": 500,
               "redraw": true
              },
              "fromcurrent": true,
              "mode": "immediate",
              "transition": {
               "duration": 500,
               "easing": "linear"
              }
             }
            ],
            "label": "&#9654;",
            "method": "animate"
           },
           {
            "args": [
             [
              null
             ],
             {
              "frame": {
               "duration": 0,
               "redraw": true
              },
              "fromcurrent": true,
              "mode": "immediate",
              "transition": {
               "duration": 0,
               "easing": "linear"
              }
             }
            ],
            "label": "&#9724;",
            "method": "animate"
           }
          ],
          "direction": "left",
          "pad": {
           "r": 10,
           "t": 70
          },
          "showactive": false,
          "type": "buttons",
          "x": 0.1,
          "xanchor": "right",
          "y": 0,
          "yanchor": "top"
         }
        ],
        "width": 1100
       }
      }
     },
     "metadata": {},
     "output_type": "display_data"
    }
   ],
   "source": [
    "# Creating a plotly scatter mapbox showing the 5 cities with the lowest weather score\n",
    "px.set_mapbox_access_token(open(\".mapbox_token\").read())\n",
    "\n",
    "fig = px.scatter_mapbox(\n",
    "    df_weather_full[:35],\n",
    "    lat='lat',\n",
    "    lon='lon',\n",
    "    color='felt_temperature',\n",
    "    size='inverted_score',\n",
    "    color_continuous_scale=px.colors.sequential.Bluered,\n",
    "    size_max=35,\n",
    "    zoom=4.7,\n",
    "    range_color = [min(df_weather_full[:35]['felt_temperature']), max(df_weather_full[:35]['felt_temperature'])],\n",
    "    hover_name='city',\n",
    "    hover_data={\n",
    "        'lat': False,\n",
    "        'lon': False,\n",
    "        'day_plus': False,\n",
    "        'rain_chances': True,\n",
    "        'humidity': True,\n",
    "        'felt_temperature': True,\n",
    "        'inverted_score': False,\n",
    "        },\n",
    "    animation_frame='day_plus'\n",
    ")\n",
    "\n",
    "fig.update_layout(\n",
    "    width = 1100,\n",
    "    height = 800,\n",
    "    template='plotly_dark',\n",
    "    title_x=0.5,\n",
    "    title_text='The 5 cities with the best weather over the next 7 days')\n",
    "fig.show()"
   ]
  },
  {
   "cell_type": "markdown",
   "metadata": {},
   "source": [
    "### Hotels Map"
   ]
  },
  {
   "cell_type": "code",
   "execution_count": 30,
   "metadata": {},
   "outputs": [
    {
     "data": {
      "application/vnd.plotly.v1+json": {
       "config": {
        "plotlyServerURL": "https://plot.ly"
       },
       "data": [
        {
         "customdata": [
          [
           48.88639354,
           2.29494631,
           "Hôtel de Banville",
           "https://www.booking.com/hotel/fr/hoteldebanvilleparis.fr.html?label=gen173nr-1FCAEoggI46AdIDVgEaE2IAQGYAQ24ARfIAQ_YAQHoAQH4AQKIAgGoAgO4AtSJ4pIGwAIB0gIkMWMyOTgzZDEtZjVkYS00NmJhLWFiOTctNTM5MmFiZTgyZjVl2AIF4AIB&sid=c0f0407a1e2da13c863358a90e64eb78&aid=304142&ucfs=1&arphpl=1&group_adults=2&req_adults=2&no_rooms=1&group_children=0&req_children=0&hpos=1&hapos=1&sr_order=popularity&srpvid=32eb90718f460435&srepoch=1649968356&from=searchresults#hotelTmpl",
           "Vous pouvez bénéficier d'une réduction Genius dans l'établissement Hôtel de Banville ! Connectez-vous pour économiser.L’Hôtel de Banville est situé à seulement 15 minutes à pied des Champs-Élysées et de l'Arc de Triomphe. Il vous propose des hébergements modernes, dotés d’une connexion Wi-Fi gratuite.Toutes les chambres disposent d'une salle de bains privative et certaines possèdent un balcon ou offrent une vue sur la tour Eiffel. Insonorisées, elles sont équipées de la climatisation et d'une télévision à écran plat.Un petit-déjeuner buffet composé de viennoiseries faites maison est servi tous les jours dans le hall. Vous pourrez également vous détendre près de la cheminée du bar.L'Hôtel de Banville est situé à 2 minutes à pied des restaurants de la place du Maréchal-Juin et à proximité du centre de conventions de la Porte Maillot et de l'Espace Champerret. Vous séjournerez à 100 mètres de la station de métro Porte de Champerret. Des transferts aéroport privés peuvent être organisés auprès de la réception ouverte 24h/24. ",
           80.28857142857143,
           5
          ],
          [
           48.87434515,
           2.28977568,
           "Room Mate Alain - Champs-Elysées",
           "https://www.booking.com/hotel/fr/d-argentine.fr.html?label=gen173nr-1FCAEoggI46AdIDVgEaE2IAQGYAQ24ARfIAQ_YAQHoAQH4AQKIAgGoAgO4AtSJ4pIGwAIB0gIkMWMyOTgzZDEtZjVkYS00NmJhLWFiOTctNTM5MmFiZTgyZjVl2AIF4AIB&sid=c0f0407a1e2da13c863358a90e64eb78&aid=304142&ucfs=1&arphpl=1&group_adults=2&req_adults=2&no_rooms=1&group_children=0&req_children=0&hpos=2&hapos=2&sr_order=popularity&srpvid=32eb90718f460435&srepoch=1649968356&from_sustainable_property_sr=1&from=searchresults#hotelTmpl",
           "Vous pouvez bénéficier d'une réduction Genius dans l'établissement Room Mate Alain - Champs-Elysées ! Connectez-vous pour économiser.Situé à 7 minutes de marche de l’avenue des Champs-Élysées, le boutique hôtel Room Mate Alain - Champs-Elysées occupe une maison de ville parisienne. Il met à votre disposition un spa, une salle de sport, un bar et un restaurant. Une connexion Wi-Fi est accessible gratuitement dans tout l’établissement.Décorées dans des tons neutres, les chambres lumineuses du Room Mate Alain - Champs-Elysées sont dotées d'une télévision à écran LCD ainsi que d'un minibar. Chacune possède une salle de bains privative en marbre et certaines bénéficient d’un balcon privé donnant sur l’avenue Foch.Le petit-déjeuner est servi chaque matin dans le bar-salon, orné de lustres en verre de Murano.L’établissement se trouve à 100 mètres de la station de métro Argentine qui permet un accès direct à la place de la Concorde, au musée du Louvre et au quartier du Marais. Les voyageurs d’affaires seront ravis d’apprendre que le Palais des Congrès de la Porte Maillot n’est qu’à 10 minutes à pied. ",
           80.28857142857143,
           5
          ],
          [
           48.88129894,
           2.29480304,
           "Westside Arc de Triomphe Hotel",
           "https://www.booking.com/hotel/fr/westside-arc-de-triomphe.fr.html?label=gen173nr-1FCAEoggI46AdIDVgEaE2IAQGYAQ24ARfIAQ_YAQHoAQH4AQKIAgGoAgO4AtSJ4pIGwAIB0gIkMWMyOTgzZDEtZjVkYS00NmJhLWFiOTctNTM5MmFiZTgyZjVl2AIF4AIB&sid=c0f0407a1e2da13c863358a90e64eb78&aid=304142&ucfs=1&arphpl=1&group_adults=2&req_adults=2&no_rooms=1&group_children=0&req_children=0&hpos=3&hapos=3&sr_order=popularity&srpvid=32eb90718f460435&srepoch=1649968356&from=searchresults#hotelTmpl",
           "Doté d’un bar-salon, le Westside Arc de Triomphe Hotel propose des hébergements dans une petite rue de l’élégant 17ème arrondissement de Paris, à 12 minutes de marche de l’Arc de Triomphe et de la célèbre avenue des Champs-Élysées. Une connexion Wi-Fi est disponible gratuitement.Toutes les chambres sont climatisées et disposent d’une télévision par satellite à écran LED disponible gratuitement. Certaines offrent une vue sur le 17ème arrondissement ou les toits de Paris. Un plateau de courtoisie est fourni.Le petit-déjeuner peut être servi en chambre ou sous forme de buffet. Vous pourrez également prendre un verre au bar ou passer commande via le service d'étage tout au long de la journée.Un service de concierge et un bureau d’excursions sont à votre disposition pour organiser vos visites et excursions. La station de métro Pereire, située à 500 mètres, vous permettra de rejoindre directement le musée du Louvre. Le Westside Arc de Triomphe Hotel est à 1 km du palais des congrès de Paris. Vous trouverez un parking public à proximité. ",
           80.28857142857143,
           5
          ],
          [
           48.8381576,
           2.3496155,
           "Hotel de L'Esperance",
           "https://www.booking.com/hotel/fr/de-l-39-esperance.fr.html?label=gen173nr-1FCAEoggI46AdIDVgEaE2IAQGYAQ24ARfIAQ_YAQHoAQH4AQKIAgGoAgO4AtSJ4pIGwAIB0gIkMWMyOTgzZDEtZjVkYS00NmJhLWFiOTctNTM5MmFiZTgyZjVl2AIF4AIB&sid=c0f0407a1e2da13c863358a90e64eb78&aid=304142&ucfs=1&arphpl=1&group_adults=2&req_adults=2&no_rooms=1&group_children=0&req_children=0&hpos=4&hapos=4&sr_order=popularity&srpvid=32eb90718f460435&srepoch=1649968356&from=searchresults#hotelTmpl",
           "Vous pouvez bénéficier d'une réduction Genius dans l'établissement Hotel de L'Esperance ! Connectez-vous pour économiser.Situé à 2 minutes à pied de la très animée rue Mouffetard à Paris, l'Hôtel de l'Espérance dispose d'une cour intérieure. Vous rejoindrez la place Monge et le Quartier latin en 10 minutes de marche et vous profiterez d'une connexion Wi-Fi gratuite dans tout l'établissement.Chaque chambre climatisée est équipée d'une télévision à écran plat et d'une salle de bains privative avec baignoire ou douche.L’Hôtel de L'Espérance possède une réception ouverte 24h/24 et une bagagerie et assure un service de concierge. Vous profiterez aussi de distributeurs automatiques de collations et de boissons.En outre, il assure un service de location de voitures. La station de métro Censier-Daubenton se trouve à 350 mètres de l'hôtel. Elle permet de rejoindre le centre de Paris en 20 minutes par les transports en commun. Le quartier animé de la Butte-aux-Cailles est situé à 1,5 km. ",
           80.28857142857143,
           5
          ],
          [
           48.84659045,
           2.28857003,
           "Hotel Korner Eiffel",
           "https://www.booking.com/hotel/fr/idealhotel.fr.html?label=gen173nr-1FCAEoggI46AdIDVgEaE2IAQGYAQ24ARfIAQ_YAQHoAQH4AQKIAgGoAgO4AtSJ4pIGwAIB0gIkMWMyOTgzZDEtZjVkYS00NmJhLWFiOTctNTM5MmFiZTgyZjVl2AIF4AIB&sid=c0f0407a1e2da13c863358a90e64eb78&aid=304142&ucfs=1&arphpl=1&group_adults=2&req_adults=2&no_rooms=1&group_children=0&req_children=0&hpos=5&hapos=5&sr_order=popularity&srpvid=32eb90718f460435&srepoch=1649968356&from_sustainable_property_sr=1&from=searchresults#hotelTmpl",
           "L’Hotel Korner Eiffel se trouve à 20 minutes de marche de la tour Eiffel. Une connexion Wi-Fi est disponible gratuitement dans tout l'établissement. Des boissons chaudes gratuites vous seront servies à l'arrivée.Sobrement décorées, les chambres sont dotées d’une télévision par satellite à écran plat avec les chaînes Canal+, d’un coffre-fort et d’un sèche-cheveux. Elles sont toutes accessibles par un ascenseur.Un petit-déjeuner buffet est servi tous les jours à partir de 4h00. Il se compose de confitures maison, de différentes sortes de thés ainsi que d'une machine à café Nespresso.La réception de l'Hotel Korner Eiffel est ouverte 24h/24. Vous pourrez faire vos achats au centre commercial Beaugrenelle et dans la rue du Commerce, à 500 mètres.La station de métro Charles Michels, située à 2 minutes à pied, vous permettra de rejoindre directement le quartier Latin. Le parc des expositions de Paris-Porte de Versailles vous attend à 2 km. La station de métro Dupleix se trouve à 8 minutes de marche. Elle permet d'accéder directement à l'avenue des Champs-Élysées via la ligne 6. ",
           80.28857142857143,
           5
          ],
          [
           48.88133015,
           2.32741512,
           "Le Grey Hotel",
           "https://www.booking.com/hotel/fr/grey.fr.html?label=gen173nr-1FCAEoggI46AdIDVgEaE2IAQGYAQ24ARfIAQ_YAQHoAQH4AQKIAgGoAgO4AtSJ4pIGwAIB0gIkMWMyOTgzZDEtZjVkYS00NmJhLWFiOTctNTM5MmFiZTgyZjVl2AIF4AIB&sid=c0f0407a1e2da13c863358a90e64eb78&aid=304142&ucfs=1&arphpl=1&group_adults=2&req_adults=2&no_rooms=1&group_children=0&req_children=0&hpos=6&hapos=6&sr_order=popularity&srpvid=32eb90718f460435&srepoch=1649968356&from=searchresults#hotelTmpl",
           "Vous pouvez bénéficier d'une réduction Genius dans l'établissement Le Grey Hotel ! Connectez-vous pour économiser.Situé à mi-chemin entre l'opéra Garnier et le quartier Montmartre, le Grey Hôtel est un boutique hôtel proposant des chambres élégantes avec une connexion Wi-Fi gratuite et une télévision à écran LCD. Il comporte une bagagerie et une réception ouverte 24h/24.Desservies par un ascenseur, les chambres à la décoration contemporaine sont climatisées. Elles possèdent une salle de bains pourvue d’une douche à effet pluie ou d’une baignoire et d’articles de toilette gratuits. Les chambres non-fumeurs et insonorisées comprennent un coffre-fort et un minibar.Vous pourrez savourer un petit-déjeuner buffet continental le matin. L’hôtel compte un salon et un bar. Du thé, du café et des collations sont servis gratuitement tout au long de la journée. Un service d'étage est assuré et vous trouverez de nombreuses brasseries et restaurants dans les environs.Le Grey Hotel se trouve à 20 minutes à pied des grands magasins. Implantée à 100 mètres, la station de métro Liège vous permettra de rejoindre les Champs-Élysées et l’opéra Garnier en 15 minutes. La gare Saint-Lazare est, quant à elle, à 500 mètres de l’hôtel. ",
           80.28857142857143,
           5
          ],
          [
           48.86601094,
           2.35709757,
           "Austin's Arts Et Metiers Hotel",
           "https://www.booking.com/hotel/fr/austin-s-arts-et-metiers.fr.html?label=gen173nr-1FCAEoggI46AdIDVgEaE2IAQGYAQ24ARfIAQ_YAQHoAQH4AQKIAgGoAgO4AtSJ4pIGwAIB0gIkMWMyOTgzZDEtZjVkYS00NmJhLWFiOTctNTM5MmFiZTgyZjVl2AIF4AIB&sid=c0f0407a1e2da13c863358a90e64eb78&aid=304142&ucfs=1&arphpl=1&group_adults=2&req_adults=2&no_rooms=1&group_children=0&req_children=0&hpos=7&hapos=7&sr_order=popularity&srpvid=32eb90718f460435&srepoch=1649968356&from_sustainable_property_sr=1&from=searchresults#hotelTmpl",
           "Vous pouvez bénéficier d'une réduction Genius dans l'établissement Austin's Arts Et Metiers Hotel ! Connectez-vous pour économiser.L’Austin’s Hotel est situé dans le quartier du Marais, dans le centre de Paris, à 500 mètres de la place de la République et à 600 mètres du centre Pompidou. L’hôtel dispose d’une réception ouverte 24h/24 qui propose des ordinateurs avec connexion Internet gratuite.Toutes les chambres insonorisées de l’Austin’s Arts Et Metiers Hotel disposent de la climatisation, d’une télévision par satellite à écran plat et d’une connexion Wi-Fi gratuite.L’hôtel sert un petit-déjeuner continental que vous pourrez déguster dans la salle de petit-déjeuner ou dans le confort de votre chambre. Un plateau de courtoisie avec du thé, du café et du lait est mis à disposition dans chaque chambre.L'Austin's Arts Et Metiers Hotel se trouve à 30 mètres de la station de métro Arts & Métiers. De là, vous pourrez rejoindre les stations de métro Hôtel de Ville et Opéra en 10 minutes. ",
           80.28857142857143,
           5
          ],
          [
           48.8592568,
           2.3684085,
           "Grand Hôtel Amelot",
           "https://www.booking.com/hotel/fr/grand-amelot-paris4.fr.html?label=gen173nr-1FCAEoggI46AdIDVgEaE2IAQGYAQ24ARfIAQ_YAQHoAQH4AQKIAgGoAgO4AtSJ4pIGwAIB0gIkMWMyOTgzZDEtZjVkYS00NmJhLWFiOTctNTM5MmFiZTgyZjVl2AIF4AIB&sid=c0f0407a1e2da13c863358a90e64eb78&aid=304142&ucfs=1&arphpl=1&group_adults=2&req_adults=2&no_rooms=1&group_children=0&req_children=0&hpos=8&hapos=8&sr_order=popularity&srpvid=32eb90718f460435&srepoch=1649968356&from_sustainable_property_sr=1&from=searchresults#hotelTmpl",
           "Vous pouvez bénéficier d'une réduction Genius dans l'établissement Grand Hôtel Amelot ! Connectez-vous pour économiser.Situé dans le 11ème arrondissement de Paris, à 5 minutes à pied du quartier du Marais et de la Place des Vosges, le Grand Hôtel Amelot propose une réception ouverte 24h/24, une bagagerie et un service de concierge.Toutes ses chambres climatisées disposent d'une télévision à écran plat, d'un coffre-fort et d'une armoire. Leur salle de bains privative est pourvue d'une baignoire ou d'une douche.Un petit-déjeuner vous servi chaque matin au Grand Hôtel Amelot. De nombreux restaurants vous accueilleront à quelques minutes à pied.Vous profiterez d'une connexion Wi-Fi gratuite dans l'ensemble de l'établissement. Il vous sera possible de vous garer dans un parking privé à proximité. Enfin, vous rejoindrez directement la tour Eiffel et l'opéra Garnier depuis la station de métro Chemin Vert, située à 240 mètres de l'hôtel. ",
           80.28857142857143,
           5
          ],
          [
           48.85158544,
           2.39082724,
           "Grand Hotel Francais",
           "https://www.booking.com/hotel/fr/hotelfrancais.fr.html?label=gen173nr-1FCAEoggI46AdIDVgEaE2IAQGYAQ24ARfIAQ_YAQHoAQH4AQKIAgGoAgO4AtSJ4pIGwAIB0gIkMWMyOTgzZDEtZjVkYS00NmJhLWFiOTctNTM5MmFiZTgyZjVl2AIF4AIB&sid=c0f0407a1e2da13c863358a90e64eb78&aid=304142&ucfs=1&arphpl=1&group_adults=2&req_adults=2&no_rooms=1&group_children=0&req_children=0&hpos=9&hapos=9&sr_order=popularity&srpvid=32eb90718f460435&srepoch=1649968356&from_sustainable_property_sr=1&from=searchresults#hotelTmpl",
           "Le Grand Hotel Français est un hôtel design situé dans le centre de Paris, à moins de 15 minutes à pied du cimetière du Père Lachaise et à 500 mètres de la place de la Nation. Ses chambres climatisées sont dotées d'une connexion Wi-Fi gratuite.Les chambres insonorisées du Grand Hôtel Français sont toutes décorées de manière unique. Elles sont pourvues d'une télévision par satellite à écran plat, ainsi que d'une salle de bains privative avec douche d'hydromassage ou à l'italienne.L'hôtel possède une réception ouverte 24h/24, un ascenseur et un bar.Le Grand Hôtel Français se trouve à 150 mètres de la station de métro Rue des Boulets et à 500 mètres de la station de métro et de RER Nation. ",
           80.28857142857143,
           5
          ],
          [
           48.88141526,
           2.32455321,
           "Hotel Elysees Opera",
           "https://www.booking.com/hotel/fr/america.fr.html?label=gen173nr-1FCAEoggI46AdIDVgEaE2IAQGYAQ24ARfIAQ_YAQHoAQH4AQKIAgGoAgO4AtSJ4pIGwAIB0gIkMWMyOTgzZDEtZjVkYS00NmJhLWFiOTctNTM5MmFiZTgyZjVl2AIF4AIB&sid=c0f0407a1e2da13c863358a90e64eb78&aid=304142&ucfs=1&arphpl=1&group_adults=2&req_adults=2&no_rooms=1&group_children=0&req_children=0&hpos=10&hapos=10&sr_order=popularity&srpvid=32eb90718f460435&srepoch=1649968356&from=searchresults#hotelTmpl",
           "Vous pouvez bénéficier d'une réduction Genius dans l'établissement Hotel Elysees Opera ! Connectez-vous pour économiser.Situé dans le très chic 8ème arrondissement de Paris, cet hôtel propose des chambres modernes dotées d’un balcon. Il dispose d’une réception ouverte 24h/24, d’un bureau d'excursions et d’un service de billetterie.Décorées avec simplicité, toutes les chambres insonorisées comprennent une télévision par câble à écran plat et une connexion Wi-Fi gratuite. Leur salle de bains privative est pourvue d’un sèche-cheveux.L’Elysees Opera Hotel vous servira chaque matin un petit-déjeuner buffet dans une salle dédiée. Vous pourrez prendre un verre au bar tout en lisant les journaux mis à votre disposition. Un service d’étage est en outre assuré.La station de métro Rome, à 350 mètres de l’Elysees Opera, permet de rejoindre le Moulin Rouge. Le parc Monceau se trouve à seulement 15 minutes à pied. Un service de navette aéroport pourra être organisé sur demande. ",
           80.28857142857143,
           5
          ],
          [
           48.87606691,
           2.34567493,
           "Hotel Petit Lafayette",
           "https://www.booking.com/hotel/fr/holiday-villa-lafayette-paris.fr.html?label=gen173nr-1FCAEoggI46AdIDVgEaE2IAQGYAQ24ARfIAQ_YAQHoAQH4AQKIAgGoAgO4AtSJ4pIGwAIB0gIkMWMyOTgzZDEtZjVkYS00NmJhLWFiOTctNTM5MmFiZTgyZjVl2AIF4AIB&sid=c0f0407a1e2da13c863358a90e64eb78&aid=304142&ucfs=1&arphpl=1&group_adults=2&req_adults=2&no_rooms=1&group_children=0&req_children=0&hpos=11&hapos=11&sr_order=popularity&srpvid=32eb90718f460435&srepoch=1649968356&from_sustainable_property_sr=1&from=searchresults#hotelTmpl",
           "Vous pouvez bénéficier d'une réduction Genius dans l'établissement Hotel Petit Lafayette ! Connectez-vous pour économiser.L'Hotel Petit Lafayette est situé au cœur de Paris, entre le boulevard Montmartre et la rue Lafayette, près de la station de métro Cadet. Il vous propose des hébergements modernes.Les chambres disposent d'une salle de bains privative, d'un bureau, d'une télévision par satellite et d'une connexion Wi-Fi gratuite.Un petit-déjeuner complet est servi tous les matins.L'hôtel se trouve à quelques pas du célèbre Opéra Garnier et de grands magasins tels que le Printemps et les Galeries Lafayette. Enfin, l'Hotel Petit Lafayette est installé à 1 km de la Gare du Nord et de la Gare de l'Est. ",
           80.28857142857143,
           5
          ],
          [
           48.85057501,
           2.26743221,
           "HotelHome Paris 16",
           "https://www.booking.com/hotel/fr/residencejasmin.fr.html?label=gen173nr-1FCAEoggI46AdIDVgEaE2IAQGYAQ24ARfIAQ_YAQHoAQH4AQKIAgGoAgO4AtSJ4pIGwAIB0gIkMWMyOTgzZDEtZjVkYS00NmJhLWFiOTctNTM5MmFiZTgyZjVl2AIF4AIB&sid=c0f0407a1e2da13c863358a90e64eb78&aid=304142&ucfs=1&arphpl=1&group_adults=2&req_adults=2&no_rooms=1&group_children=0&req_children=0&hpos=12&hapos=12&sr_order=popularity&srpvid=32eb90718f460435&srepoch=1649968356&from_sustainable_property_sr=1&from=searchresults#hotelTmpl",
           "Vous pouvez bénéficier d'une réduction Genius dans l'établissement HotelHome Paris 16 ! Connectez-vous pour économiser.L'HotelHome Paris 16 est situé dans le XVIème arrondissement de Paris, à 1,5 km du Bois de Boulogne. Il propose des appartements climatisés dotés d'une connexion Wi-Fi gratuite.Les appartements de l'HotelHome Paris 16 disposent d'un coin salon avec une télévision par satellite et d'une cuisine ou d'une kitchenette avec four micro-ondes, réfrigérateur et bouilloire. Ils disposent également d'un coin repas et d'une salle de bains moderne avec baignoire ou douche.Vous pourrez profiter du jardin et de la terrasse de cette résidence pendant votre séjour. Une blanchisserie est également disponible au sous-sol de l'immeuble.Le personnel de la réception de l'hôtel vous propose d'organiser des services de garde d'enfants et de faire des réservations pour le dîner et vos sorties touristiques.L'HotelHome Paris 16 se trouve à 300 mètres de la station de métro Jasmin, qui offre un accès direct à la Tour Eiffel et aux Champs-Élysées. La Seine est à 800 mètres et le parc André Citroën est à 20 minutes de marche de l'hôtel. ",
           80.28857142857143,
           5
          ],
          [
           48.8644438,
           2.3648845,
           "Sweet Inn - Turenne",
           "https://www.booking.com/hotel/fr/sweet-inn-le-marais-turenne.fr.html?label=gen173nr-1FCAEoggI46AdIDVgEaE2IAQGYAQ24ARfIAQ_YAQHoAQH4AQKIAgGoAgO4AtSJ4pIGwAIB0gIkMWMyOTgzZDEtZjVkYS00NmJhLWFiOTctNTM5MmFiZTgyZjVl2AIF4AIB&sid=c0f0407a1e2da13c863358a90e64eb78&aid=304142&ucfs=1&arphpl=1&group_adults=2&req_adults=2&no_rooms=1&group_children=0&req_children=0&hpos=13&hapos=13&sr_order=popularity&srpvid=32eb90718f460435&srepoch=1649968356&from=searchresults#hotelTmpl",
           "Vous pouvez bénéficier d'une réduction Genius dans l'établissement Sweet Inn - Turenne ! Connectez-vous pour économiser.Situé dans le centre de Paris, à moins de 1,4 km du centre Pompidou et à 1,6 km de l'opéra Bastille, le Sweet Inn - Turenne propose des hébergements avec connexion Wi-Fi gratuite.Tous les logements comprennent un canapé, un coin salon, une télévision à écran plat, une cuisine bien équipée avec un coin repas, un coffre-fort et une salle de bains privative pourvue d'un sèche-cheveux. Un lave-vaisselle, un micro-ondes, un réfrigérateur, une bouilloire et une machine à café sont également fournis.Vous séjournerez à 2,9 km de la Sainte-Chapelle et à 3,1 km du musée du Louvre. L'aéroport de Paris-Orly, le plus proche, est implanté à 16 km. ",
           80.28857142857143,
           5
          ],
          [
           48.851244,
           2.327238,
           "Hotel Lutetia",
           "https://www.booking.com/hotel/fr/lutetia-paris12.fr.html?label=gen173nr-1FCAEoggI46AdIDVgEaE2IAQGYAQ24ARfIAQ_YAQHoAQH4AQKIAgGoAgO4AtSJ4pIGwAIB0gIkMWMyOTgzZDEtZjVkYS00NmJhLWFiOTctNTM5MmFiZTgyZjVl2AIF4AIB&sid=c0f0407a1e2da13c863358a90e64eb78&aid=304142&ucfs=1&arphpl=1&group_adults=2&req_adults=2&no_rooms=1&group_children=0&req_children=0&hpos=14&hapos=14&sr_order=popularity&srpvid=32eb90718f460435&srepoch=1649968356&from_sustainable_property_sr=1&from=searchresults#hotelTmpl",
           "L’Hotel Lutetia - The Leading Hotels of the World est un établissement de luxe emblématique situé dans le quartier de Saint-Germain-des-Prés à Paris. Implanté sur la rive gauche de la Seine, il se trouve à 5 minutes à pied du grand magasin Le Bon Marché et à 2 km du Musée du Louvre.Véritable lieu d’intérêt parisien, l’hôtel propose 184 chambres, dont 40 suites et 7 suites signature. Chacune d’entre elles dispose d’une connexion Wi-Fi gratuite, d’un système de divertissement Bang & Olufsen, d’une station multimédia et d’une salle de bains en marbre avec des articles de toilette Hermès gratuits. Certaines chambres comprennent un balcon donnant sur la tour Eiffel, tandis que certaines suites sont pourvues d’un toit-terrasse jouissant d’une vue à 360 ° sur Paris.Après une journée bien remplie, vous pourrez vous détendre dans le centre holistique de bien-être Akasha doté d’une salle de sport, d’un sauna, d’un hammam et d’une piscine intérieure de 17 mètres baignée de lumière naturelle. Par ailleurs, une large gamme de soins de spa est dispensée moyennant des frais supplémentaires.Plusieurs types de petits-déjeuners vous seront proposés chaque matin, y compris des formules sans gluten, halal, kasher et végétariennes. Pour le déjeuner et le dîner, vous pourrez vous rendre à la célèbre brasserie Lutetia ou au restaurant Saint-Germain. Vous aurez également accès à deux cours intérieures différentes, où vous aurez la possibilité de prendre un repas léger. L’hôtel dispose aussi d’un élégant salon à cigares et d’un bar de jazz conçu par Jean Michel Willmotte. ",
           80.28857142857143,
           5
          ],
          [
           48.846155,
           2.280192,
           "71 m with balcony and wifi near the Seine",
           "https://www.booking.com/hotel/fr/71-m-with-balcony-and-wifi-near-the-seine.fr.html?label=gen173nr-1FCAEoggI46AdIDVgEaE2IAQGYAQ24ARfIAQ_YAQHoAQH4AQKIAgGoAgO4AtSJ4pIGwAIB0gIkMWMyOTgzZDEtZjVkYS00NmJhLWFiOTctNTM5MmFiZTgyZjVl2AIF4AIB&sid=c0f0407a1e2da13c863358a90e64eb78&aid=304142&ucfs=1&arphpl=1&group_adults=2&req_adults=2&no_rooms=1&group_children=0&req_children=0&hpos=15&hapos=15&sr_order=popularity&srpvid=32eb90718f460435&srepoch=1649968356&from=searchresults#hotelTmpl",
           "Dans le 15e arr. Situé dans le quartier de Paris, à proximité de Paris Expo - Porte de Versailles, à 71 mètres d'un balcon et d'une connexion Wi-Fi gratuite, le Paris Expo - Porte de Versailles dispose d'un lave-linge. Cet appartement se trouve à 2,8 km du musée Rodin et à 3,3 km de l'Arc de Triomphe.Cet appartement comprend 2 chambres, une salle de bains, du linge de lit, des serviettes, une télévision, un coin repas, une cuisine entièrement équipée et un balcon avec vue sur la ville.Vous séjournerez à 1,7 km de la tour Eiffel et à 2,1 km du Parc des Princes. L'aéroport le plus proche, celui de Paris-Orly, est situé à 14 km. ",
           80.28857142857143,
           5
          ],
          [
           48.84700437,
           2.30141312,
           "Ibis Paris Tour Eiffel Cambronne 15ème",
           "https://www.booking.com/hotel/fr/ibis-paris-tour-eiffel.fr.html?label=gen173nr-1FCAEoggI46AdIDVgEaE2IAQGYAQ24ARfIAQ_YAQHoAQH4AQKIAgGoAgO4AtSJ4pIGwAIB0gIkMWMyOTgzZDEtZjVkYS00NmJhLWFiOTctNTM5MmFiZTgyZjVl2AIF4AIB&sid=c0f0407a1e2da13c863358a90e64eb78&aid=304142&ucfs=1&arphpl=1&group_adults=2&req_adults=2&no_rooms=1&group_children=0&req_children=0&hpos=16&hapos=16&sr_order=popularity&srpvid=32eb90718f460435&srepoch=1649968356&from=searchresults#hotelTmpl",
           "Situé dans le 15ème arrondissement de Paris, à seulement 15 minutes à pied de la tour Eiffel, l'ibis Paris Tour Eiffel dispose d'une réception ouverte 24h/24, d'une connexion Wi-Fi gratuite dans l'ensemble de ses locaux et d'une bagagerie. La station de métro Cambronne se trouve à 150 mètres seulement.Les chambres sont toutes pourvues d'une télévision par satellite à écran plat, d'une armoire, d'un bureau et d'un téléphone. Leur salle de bains privative comprend un sèche-cheveux.Un petit-déjeuner buffet, composé de plats sucrés et salés, comme des œufs, de la salade de fruits, des yaourts et des jus, est disponible chaque matin. Des viennoiseries cuites sur place et des madeleines fraîches sont aussi proposées, ainsi qu'une boisson chaude et un fruit à emporter. Un petit-déjeuner plus léger est servi à partir de 4h00.Les rives de la Seine et l'hôtel des Invalides sont accessibles en 15 minutes à pied. La station RER Champs de Mars située à 1 km de l'ibis Paris Tour Eiffel vous permettra de rejoindre directement le château de Versailles. ",
           80.28857142857143,
           5
          ],
          [
           48.8933961,
           2.3615899,
           "Home Suite Home Roses 2BR",
           "https://www.booking.com/hotel/fr/home-suite-home-roses-2br.fr.html?label=gen173nr-1FCAEoggI46AdIDVgEaE2IAQGYAQ24ARfIAQ_YAQHoAQH4AQKIAgGoAgO4AtSJ4pIGwAIB0gIkMWMyOTgzZDEtZjVkYS00NmJhLWFiOTctNTM5MmFiZTgyZjVl2AIF4AIB&sid=c0f0407a1e2da13c863358a90e64eb78&aid=304142&ucfs=1&arphpl=1&group_adults=2&req_adults=2&no_rooms=1&group_children=0&req_children=0&hpos=17&hapos=17&sr_order=popularity&srpvid=32eb90718f460435&srepoch=1649968356&from=searchresults#hotelTmpl",
           "Situé à Paris, à 1,6 km du Sacré-Cœur et à 2 km de la salle de concert La Cigale, le Home Suite Home Roses 2BR propose une connexion Wi-Fi gratuite et la climatisation.Cet appartement comprend 2 chambres, une télévision à écran plat, un coin salon et une salle de bains pourvue d'une douche. Sa cuisine est équipée d'un micro-ondes et d'un réfrigérateur.Vous séjournerez à 3,2 km de l'opéra Garnier et à 3,7 km du centre Pompidou. L'aéroport de Paris-Orly, le plus proche, est à 18 km. ",
           80.28857142857143,
           5
          ],
          [
           48.87911118,
           2.3277073,
           "Amazing apartment under the roof in Paris 8th",
           "https://www.booking.com/hotel/fr/amazing-apartment-under-the-roof-in-paris-8th.fr.html?label=gen173nr-1FCAEoggI46AdIDVgEaE2IAQGYAQ24ARfIAQ_YAQHoAQH4AQKIAgGoAgO4AtSJ4pIGwAIB0gIkMWMyOTgzZDEtZjVkYS00NmJhLWFiOTctNTM5MmFiZTgyZjVl2AIF4AIB&sid=c0f0407a1e2da13c863358a90e64eb78&aid=304142&ucfs=1&arphpl=1&group_adults=2&req_adults=2&no_rooms=1&group_children=0&req_children=0&hpos=18&hapos=18&sr_order=popularity&srpvid=32eb90718f460435&srepoch=1649968356&from=searchresults#hotelTmpl",
           "Offrant une vue sur la ville, l'Amazing apartment under the roof in Paris 8th est un hébergement situé à Paris, à moins de 1 km de la salle de concert La Cigale et à 17 minutes à pied du Sacré-Cœur. Situé à moins de 1 km de l'Opéra Garnier, il dispose d'une connexion Wi-Fi gratuite et d'une réception ouverte 24h/24.Cet appartement climatisé comprend 2 chambres, un salon, une cuisine entièrement équipée avec un micro-ondes et une bouilloire ainsi qu'une salle de bains pourvue d'une douche et d'un sèche-cheveux. Les serviettes et le linge de lit sont fournis.Vous séjournerez à 1,7 km du musée de l'Orangerie et à 1,8 km du jardin des Tuileries. L'aéroport de Paris-Orly, le plus proche, est implanté à 17 km. ",
           80.28857142857143,
           5
          ],
          [
           48.83028,
           2.341702,
           "Bright new apartment with wifi",
           "https://www.booking.com/hotel/fr/bright-new-apartment-with-wifi.fr.html?label=gen173nr-1FCAEoggI46AdIDVgEaE2IAQGYAQ24ARfIAQ_YAQHoAQH4AQKIAgGoAgO4AtSJ4pIGwAIB0gIkMWMyOTgzZDEtZjVkYS00NmJhLWFiOTctNTM5MmFiZTgyZjVl2AIF4AIB&sid=c0f0407a1e2da13c863358a90e64eb78&aid=304142&ucfs=1&arphpl=1&group_adults=2&req_adults=2&no_rooms=1&group_children=0&req_children=0&hpos=19&hapos=19&sr_order=popularity&srpvid=32eb90718f460435&srepoch=1649968356&from=searchresults#hotelTmpl",
           "Situé à Paris, à 1,9 km du jardin du Luxembourg, le Bright new apartment with wifi propose un hébergement avec une cuisine. Offrant une vue sur la ville, il se trouve à 2,6 km de la cathédrale Notre-Dame et à 2,8 km de la Sainte-Chapelle.Doté de 2 chambres, cet appartement comprend une salle de bains avec baignoire ou douche et sèche-cheveux. Les serviettes et le linge de lit sont fournis.Vous séjournerez à 3,2 km de l'opéra Bastille et à 3,4 km du musée Rodin. L'aéroport de Paris-Orly est à 11 km. ",
           80.28857142857143,
           5
          ],
          [
           48.8552307,
           2.3262666,
           "GuestReady - Lovely Bright Flat with Private Patio",
           "https://www.booking.com/hotel/fr/guestready-lovely-bright-flat-with-private-patio.fr.html?label=gen173nr-1FCAEoggI46AdIDVgEaE2IAQGYAQ24ARfIAQ_YAQHoAQH4AQKIAgGoAgO4AtSJ4pIGwAIB0gIkMWMyOTgzZDEtZjVkYS00NmJhLWFiOTctNTM5MmFiZTgyZjVl2AIF4AIB&sid=c0f0407a1e2da13c863358a90e64eb78&aid=304142&ucfs=1&arphpl=1&group_adults=2&req_adults=2&no_rooms=1&group_children=0&req_children=0&hpos=20&hapos=20&sr_order=popularity&srpvid=32eb90718f460435&srepoch=1649968356&from=searchresults#hotelTmpl",
           "Situé dans le centre de Paris, à seulement 600 mètres du musée d'Orsay et à 800 mètres du musée Rodin, le GuestReady - Lovely Bright Flat with Private Patio propose un hébergement avec vue sur la ville et connexion Wi-Fi gratuite. Vous séjournerez à 1,2 km du jardin du Luxembourg et à 1,4 km de la Sainte-Chapelle.Cet appartement comprend une chambre, une télévision, un lave-linge et une salle de bains pourvue d'une douche. Sa cuisine est équipée d'un micro-ondes et d'un lave-vaisselle. Les serviettes et le linge de lit sont fournis.Vous pourrez faire du vélo dans les environs.Vous séjournerez à proximité du jardin des Tuileries, du musée de l'Orangerie et du musée du Louvre. L'aéroport de Paris-Orly, le plus proche, est implanté à 14 km. ",
           80.28857142857143,
           5
          ],
          [
           49.8953831,
           2.297772,
           "Le Majestic Cathédrale",
           "https://www.booking.com/hotel/fr/le-duplex-amiens-pleine-vue-cathedrale.fr.html?label=gen173nr-1FCAEoggI46AdIDVgEaE2IAQGYAQ24ARfIAQ_YAQHoAQH4AQKIAgGoAgO4AtSJ4pIGwAIB0gIkMWMyOTgzZDEtZjVkYS00NmJhLWFiOTctNTM5MmFiZTgyZjVl2AIF4AIB&sid=c0f0407a1e2da13c863358a90e64eb78&aid=304142&ucfs=1&arphpl=1&group_adults=2&req_adults=2&no_rooms=1&group_children=0&req_children=0&hpos=1&hapos=1&sr_order=popularity&srpvid=153790711f0c044c&srepoch=1649968356&from=searchresults#hotelTmpl",
           "Vous pouvez bénéficier d'une réduction Genius dans l'établissement Le Majestic Cathédrale ! Connectez-vous pour économiser.Situé à Amiens, à 1,7 km du Zénith, l'établissement Le Majestic Cathédrale propose un salon commun, une connexion Wi-Fi gratuite, une cuisine commune et un service d'étage. Offrant une vue sur la ville, il se trouve à 500 mètres du musée de Berny et à moins de 1 km du parc des jardins flottants.Cet appartement comprend 2 chambres, une cuisine avec lave-vaisselle, une télévision à écran plat, un coin salon et une salle de bains avec douche. Les serviettes et le linge de lit sont fournis.Un service de location de voitures est assuré sur place. La région est prisée pour pratiquer la randonnée.Vous séjournerez à 400 mètres du tribunal de grande instance d'Amiens et à 3,2 km de l'université de Picardie Jules Verne. L'aéroport de Beauvais-Tillé, le plus proche, est à 50 km. ",
           84.77714285714285,
           6
          ],
          [
           49.887125,
           2.295143,
           "Ginkgo Maison d'hôtes",
           "https://www.booking.com/hotel/fr/ginkgo-maison-d-39-hotes.fr.html?label=gen173nr-1FCAEoggI46AdIDVgEaE2IAQGYAQ24ARfIAQ_YAQHoAQH4AQKIAgGoAgO4AtSJ4pIGwAIB0gIkMWMyOTgzZDEtZjVkYS00NmJhLWFiOTctNTM5MmFiZTgyZjVl2AIF4AIB&sid=c0f0407a1e2da13c863358a90e64eb78&aid=304142&ucfs=1&arphpl=1&group_adults=2&req_adults=2&no_rooms=1&group_children=0&req_children=0&hpos=2&hapos=2&sr_order=popularity&srpvid=153790711f0c044c&srepoch=1649968356&from=searchresults#hotelTmpl",
           "Installé à Amiens, à moins de 2,3 km du Zénith, le Ginkgo Maison d’hôtes propose un service de concierge, des chambres non-fumeurs, un salon commun, un jardin et une connexion Wi-Fi gratuite dans l’ensemble des locaux. Cet établissement possède des chambres familiales et une terrasse bien exposée. Vous séjournerez à 2,2 km du tribunal de grande instance d’Amiens et à 3,5 km de l’université de Picardie Jules Verne.Les chambres de la maison d'hôtes disposent d’un bureau, d’une télévision à écran plat et d’une salle de bains privative. Le linge de lit et les serviettes de toilette sont fournis. Certaines chambres offrent une vue sur la ville et toutes sont équipées d'une machine à café. Les logements comportent une armoire et une bouilloire.Un petit-déjeuner continental est servi le matin.Les hortillonnages se trouvent à 1,8 km du Ginkgo Maison d'hôtes, tandis que le musée de Berny est à 2,1 km. L’aéroport de Paris-Beauvais-Tillé, le plus proche, est situé à 53 km de la maison d'hôtes. ",
           84.77714285714285,
           6
          ],
          [
           49.8916762,
           2.30775386,
           "Holiday Inn Express Amiens, an IHG Hotel",
           "https://www.booking.com/hotel/fr/express-by-holiday-inn.fr.html?label=gen173nr-1FCAEoggI46AdIDVgEaE2IAQGYAQ24ARfIAQ_YAQHoAQH4AQKIAgGoAgO4AtSJ4pIGwAIB0gIkMWMyOTgzZDEtZjVkYS00NmJhLWFiOTctNTM5MmFiZTgyZjVl2AIF4AIB&sid=c0f0407a1e2da13c863358a90e64eb78&aid=304142&ucfs=1&arphpl=1&group_adults=2&req_adults=2&no_rooms=1&group_children=0&req_children=0&hpos=3&hapos=3&sr_order=popularity&srpvid=153790711f0c044c&srepoch=1649968356&from_sustainable_property_sr=1&from=searchresults#hotelTmpl",
           "Rénové en avril 2015, le Holiday Inn Express Amiens comprend des chambres confortables avec une connexion Wi-Fi gratuite. Vous séjournerez dans le centre d’Amiens, à seulement 50 mètres de la gare et à 10 minutes à pied de la cathédrale.Desservis par un ascenseur, tous les hébergements incluent la climatisation, un coffre-fort, une machine à expresso et une télévision haute définition par satellite à écran plat.Chaque matin, le Holiday Inn Express Amiens sert gratuitement un petit-déjeuner buffet. Vous trouverez de nombreux restaurants dans les environs.Cet établissement non-fumeurs propose un bar, une salle de sport ainsi que des services de repassage et de blanchisserie. Situé dans les environs, un parking public souterrain est accessible aux voitures d’une hauteur maximale de 1,80 mètre. ",
           84.77714285714285,
           6
          ],
          [
           49.891422,
           2.304996,
           "ibis Styles Amiens Centre",
           "https://www.booking.com/hotel/fr/ibis-styles-amiens-centre.fr.html?label=gen173nr-1FCAEoggI46AdIDVgEaE2IAQGYAQ24ARfIAQ_YAQHoAQH4AQKIAgGoAgO4AtSJ4pIGwAIB0gIkMWMyOTgzZDEtZjVkYS00NmJhLWFiOTctNTM5MmFiZTgyZjVl2AIF4AIB&sid=c0f0407a1e2da13c863358a90e64eb78&aid=304142&ucfs=1&arphpl=1&group_adults=2&req_adults=2&no_rooms=1&group_children=0&req_children=0&hpos=4&hapos=4&sr_order=popularity&srpvid=153790711f0c044c&srepoch=1649968356&from_sustainable_property_sr=1&from=searchresults#hotelTmpl",
           "Situé à Amiens, à 3,4 km du Zénith, l'ibis Styles Amiens Centre propose des chambres climatisées et un bar. Il propose une réception ouverte 24h/24, un salon commun et une connexion Wi-Fi gratuite dans l'ensemble de ses locaux. L'hôtel propose des chambres familiales.Toutes les chambres comprennent une armoire, une télévision à écran plat, une salle de bains privative, du linge de lit et des serviettes.L'ibis Styles Amiens Centre sert un petit-déjeuner continental ou buffet.Une terrasse bien exposée est présente.Vous séjournerez à proximité du musée Berny, du parc des jardins flottants et du tribunal de grande instance d'Amiens. L'aéroport de Beauvais-Tillé, le plus proche, est implanté à 64 km. ",
           84.77714285714285,
           6
          ],
          [
           49.891591,
           2.313573,
           "ibis budget Amiens Centre Gare",
           "https://www.booking.com/hotel/fr/ibis-budget-amiens-centre-gare.fr.html?label=gen173nr-1FCAEoggI46AdIDVgEaE2IAQGYAQ24ARfIAQ_YAQHoAQH4AQKIAgGoAgO4AtSJ4pIGwAIB0gIkMWMyOTgzZDEtZjVkYS00NmJhLWFiOTctNTM5MmFiZTgyZjVl2AIF4AIB&sid=c0f0407a1e2da13c863358a90e64eb78&aid=304142&ucfs=1&arphpl=1&group_adults=2&req_adults=2&no_rooms=1&group_children=0&req_children=0&hpos=5&hapos=5&sr_order=popularity&srpvid=153790711f0c044c&srepoch=1649968356&from_sustainable_property_sr=1&from=searchresults#hotelTmpl",
           "L'ibis budget Amiens Centre Gare est situé dans le centre-ville d'Amiens, à 5 minutes à pied de la gare d'Amiens et à 15 minutes à pied de la cathédrale Notre-Dame d'Amiens. L'hôtel propose une connexion Wi-Fi gratuite.Toutes les chambres climatisées disposent d'une télévision à écran plat et d'une salle de bains privative équipée d'une douche.Un petit-déjeuner buffet est servi sur place tous les matins.Enfin, l'aéroport de Paris Beauvais-Tillé, le plus proche, est implanté à 50 km. ",
           84.77714285714285,
           6
          ],
          [
           49.89571084,
           2.29956239,
           "Mercure Amiens Cathédrale",
           "https://www.booking.com/hotel/fr/mercure-amiens-cathdrale.fr.html?label=gen173nr-1FCAEoggI46AdIDVgEaE2IAQGYAQ24ARfIAQ_YAQHoAQH4AQKIAgGoAgO4AtSJ4pIGwAIB0gIkMWMyOTgzZDEtZjVkYS00NmJhLWFiOTctNTM5MmFiZTgyZjVl2AIF4AIB&sid=c0f0407a1e2da13c863358a90e64eb78&aid=304142&ucfs=1&arphpl=1&group_adults=2&req_adults=2&no_rooms=1&group_children=0&req_children=0&hpos=6&hapos=6&sr_order=popularity&srpvid=153790711f0c044c&srepoch=1649968356&from_sustainable_property_sr=1&from=searchresults#hotelTmpl",
           "L’hôtel 4 étoiles Mercure Amiens Cathédrale vous accueille en face de la plus grande cathédrale médiévale de France, classée au patrimoine mondial de l'Unesco.D’une superficie comprise entre 25 et 41m2, toutes les chambres et suites ont été récemment rénovées. Spacieuses et insonorisées, elles bénéficient de la climatisation en été. Les hébergements sont équipés d'une connexion Wi-Fi gratuite et d'une télévision par satellite à écran plat recevant des chaînes françaises et internationales. Vous bénéficierez également d’un plateau/bouilloire et d’un minibar comportant une bouteille d'eau gratuite.Sur place, le restaurant l'Échanson sert une large gamme de plats raffinés ainsi que des spécialités à base de produits locaux et régionaux. ",
           84.77714285714285,
           6
          ],
          [
           49.891999,
           2.29197,
           "ibis Amiens Centre Cathedrale",
           "https://www.booking.com/hotel/fr/ibis-amiens-centre-cathedrale.fr.html?label=gen173nr-1FCAEoggI46AdIDVgEaE2IAQGYAQ24ARfIAQ_YAQHoAQH4AQKIAgGoAgO4AtSJ4pIGwAIB0gIkMWMyOTgzZDEtZjVkYS00NmJhLWFiOTctNTM5MmFiZTgyZjVl2AIF4AIB&sid=c0f0407a1e2da13c863358a90e64eb78&aid=304142&ucfs=1&arphpl=1&group_adults=2&req_adults=2&no_rooms=1&group_children=0&req_children=0&hpos=7&hapos=7&sr_order=popularity&srpvid=153790711f0c044c&srepoch=1649968356&from_sustainable_property_sr=1&from=searchresults#hotelTmpl",
           "Doté d'un restaurant et d'une connexion Wi-Fi gratuite, l'ibis Amiens Centre Cathédrale est situé dans le centre d'Amiens.Les chambres possèdent une télévision à écran plat et un bureau. Les salles de bains privatives sont pourvues d'une douche.L'hôtel comporte une réception ouverte 24h/24, un bar, un snack-bar et une bagagerie. Vous savourerez quotidiennement un petit-déjeuner buffet composé de plats sucrés et salés, parmi lesquels des œufs, de la salade de fruits, des yaourts et des jus de fruits. Des viennoiseries cuites sur place et des madeleines fraîches sont aussi proposées, ainsi qu'une boisson chaude et un fruit à emporter. Un petit-déjeuner plus léger est servi à partir de 4h00.Vous séjournerez à 1,3 km du Zénith d'Amiens, à 800 mètres du Musée de l'Hôtel de Berny et à 1,1 km de la gare ferroviaire d'Amiens. L'aéroport de Beauvais-Tillé se trouve à 50 km. Le parking est accessible moyennant des frais supplémentaires. ",
           84.77714285714285,
           6
          ],
          [
           49.92513403,
           2.30457276,
           "Comfort Hotel Amiens Nord",
           "https://www.booking.com/hotel/fr/kyriad-amiens-nord-xml.fr.html?label=gen173nr-1FCAEoggI46AdIDVgEaE2IAQGYAQ24ARfIAQ_YAQHoAQH4AQKIAgGoAgO4AtSJ4pIGwAIB0gIkMWMyOTgzZDEtZjVkYS00NmJhLWFiOTctNTM5MmFiZTgyZjVl2AIF4AIB&sid=c0f0407a1e2da13c863358a90e64eb78&aid=304142&ucfs=1&arphpl=1&group_adults=2&req_adults=2&no_rooms=1&group_children=0&req_children=0&hpos=8&hapos=8&sr_order=popularity&srpvid=153790711f0c044c&srepoch=1649968356&from=searchresults#hotelTmpl",
           "Doté d’une terrasse, le Comfort Hotel Amiens Nord propose des hébergements à seulement 4 km du centre-ville d’Amiens. Des salles de réunion sont à votre disposition sur place. Un parking privé et une connexion Wi-Fi sont disponibles gratuitement.Les chambres disposent d’une télévision par satellite à écran plat. Leur salle de bains privative est pourvue d’une baignoire, d’un sèche-cheveux et d’articles de toilette gratuits.Un petit-déjeuner buffet est servi tous les matins.L’établissement se trouve à seulement 5 km du zoo, de la cathédrale et du centre historique d’Amiens. La gare d’Amiens est située à 4,5 km, et l’autoroute A16 est accessible à 20 km. ",
           84.77714285714285,
           6
          ],
          [
           49.8943163,
           2.3097612,
           "Appart'City Amiens Gare Cathédrale",
           "https://www.booking.com/hotel/fr/appart-city-amiens.fr.html?label=gen173nr-1FCAEoggI46AdIDVgEaE2IAQGYAQ24ARfIAQ_YAQHoAQH4AQKIAgGoAgO4AtSJ4pIGwAIB0gIkMWMyOTgzZDEtZjVkYS00NmJhLWFiOTctNTM5MmFiZTgyZjVl2AIF4AIB&sid=c0f0407a1e2da13c863358a90e64eb78&aid=304142&ucfs=1&arphpl=1&group_adults=2&req_adults=2&no_rooms=1&group_children=0&req_children=0&hpos=9&hapos=9&sr_order=popularity&srpvid=153790711f0c044c&srepoch=1649968356&from_sustainable_property_sr=1&from=searchresults#hotelTmpl",
           "Situé à 300 mètres de la cathédrale Notre-Dame d'Amiens et des Hortillonnages, l'Appart'City Amiens Gare Cathédrale propose des studios indépendants avec une télévision à écran LCD et une kitchenette entièrement équipée. Il se trouve à 1 km du musée de Picardie et à 5 minutes de marche de la gare.Les hébergements comprennent une salle de bains pourvue d'une douche à l'italienne, un téléphone et un bureau. Vous bénéficierez gratuitement d'une connexion Internet par câble et Wi-Fi.Un petit-déjeuner buffet est proposé tous les matins. Il se compose d'une variété de pains (pain sans gluten etc.), de viennoiseries, de boissons chaudes et froides, de salade de fruits, de fruits frais, de fromages et de yaourts.Vous pourrez visiter le beffroi d'Amiens, à 1,5 km, ou jouer au golf à 8 km. L'autoroute A29 est accessible à 3,2 km. ",
           84.77714285714285,
           6
          ],
          [
           49.89444519,
           2.30094239,
           "Hotel Le Prieuré et La Résidence",
           "https://www.booking.com/hotel/fr/le-prieure-amiens.fr.html?label=gen173nr-1FCAEoggI46AdIDVgEaE2IAQGYAQ24ARfIAQ_YAQHoAQH4AQKIAgGoAgO4AtSJ4pIGwAIB0gIkMWMyOTgzZDEtZjVkYS00NmJhLWFiOTctNTM5MmFiZTgyZjVl2AIF4AIB&sid=c0f0407a1e2da13c863358a90e64eb78&aid=304142&ucfs=1&arphpl=1&group_adults=2&req_adults=2&no_rooms=1&group_children=0&req_children=0&hpos=10&hapos=10&sr_order=popularity&srpvid=153790711f0c044c&srepoch=1649968356&from=searchresults#hotelTmpl",
           "L'Hotel Le Prieuré et La Résidence est situé dans le centre-ville d'Amiens, au pied de la cathédrale. Il propose une connexion Wi-Fi gratuite et des chambres décorées de manière personnalisée avec un mobilier d'époque.Les chambres du Prieuré et La Résidence comprennent une salle de bains privative munie d'une baignoire ou d'une douche. Elles comportent également une télévision et un sèche-cheveux.Un petit-déjeuner buffet est servi tous les matins dans la salle à manger du Prieuré ornée de lustres en cristal. Vous pourrez vous détendre sur la terrasse et dans la cour de l'établissement.L'Hotel Le Prieuré et La Résidence se trouve à seulement 900 mètres de la gare SNCF d'Amiens. L'aéroport d'Amiens-Glisy est à 15 minutes en voiture. ",
           84.77714285714285,
           6
          ],
          [
           49.88977885,
           2.30249941,
           "Le Saint Louis",
           "https://www.booking.com/hotel/fr/le-saint-louis-amienq.fr.html?label=gen173nr-1FCAEoggI46AdIDVgEaE2IAQGYAQ24ARfIAQ_YAQHoAQH4AQKIAgGoAgO4AtSJ4pIGwAIB0gIkMWMyOTgzZDEtZjVkYS00NmJhLWFiOTctNTM5MmFiZTgyZjVl2AIF4AIB&sid=c0f0407a1e2da13c863358a90e64eb78&aid=304142&ucfs=1&arphpl=1&group_adults=2&req_adults=2&no_rooms=1&group_children=0&req_children=0&hpos=11&hapos=11&sr_order=popularity&srpvid=153790711f0c044c&srepoch=1649968356&from=searchresults#hotelTmpl",
           "Le Saint Louis est situé dans le centre-ville d'Amiens, à 300 mètres de la gare et de la cathédrale. Il propose des chambres avec télévision par satellite et connexion Wi-Fi gratuite.Les chambres de l'Hôtel Le Saint-Louis sont personnalisées et comprennent une salle de bains privée.Le Saint Louis se trouve à proximité des principaux sites touristiques de la ville comme la rue des Piétons, la maison de Jules Verne et la Tour Perret.Un parking public gratuit est disponible à côté de l'hôtel. ",
           84.77714285714285,
           6
          ],
          [
           49.89387632,
           2.3009108,
           "Charmant T2 hyper centre. Cathédrale",
           "https://www.booking.com/hotel/fr/charmant-t2-hyper-centre-cathedrale.fr.html?label=gen173nr-1FCAEoggI46AdIDVgEaE2IAQGYAQ24ARfIAQ_YAQHoAQH4AQKIAgGoAgO4AtSJ4pIGwAIB0gIkMWMyOTgzZDEtZjVkYS00NmJhLWFiOTctNTM5MmFiZTgyZjVl2AIF4AIB&sid=c0f0407a1e2da13c863358a90e64eb78&aid=304142&ucfs=1&arphpl=1&group_adults=2&req_adults=2&no_rooms=1&group_children=0&req_children=0&hpos=12&hapos=12&sr_order=popularity&srpvid=153790711f0c044c&srepoch=1649968356&from_sustainable_property_sr=1&from=searchresults#hotelTmpl",
           "Doté d'une terrasse et d'un service de concierge, le Charmant T2 hyper centre bénéficie d'un emplacement privilégié à Amiens, à 1,9 km du Zénith et à 200 mètres du musée Berny. Vous séjournerez à 3,3 km de l'université de Picardie Jules Verne.Cet appartement comprend une chambre, une télévision à écran plat, un coin salon et une salle de bains pourvue d'une douche. Sa cuisine est équipée d'un lave-vaisselle et d'un micro-ondes. Les serviettes et le linge de lit sont fournis.Vous séjournerez à 800 mètres du parc des jardins flottants, à 100 mètres du tribunal de grande instance d'Amiens et à 800 mètres de la cathédrale. L'aéroport de Beauvais-Tillé, le plus proche, est à 50 km. ",
           84.77714285714285,
           6
          ],
          [
           49.9003503,
           2.3122324,
           "Studio / chambre calme prés de l'étang st pierre.",
           "https://www.booking.com/hotel/fr/studio-chambre-calme-pres-de-l-etang-st-pierre.fr.html?label=gen173nr-1FCAEoggI46AdIDVgEaE2IAQGYAQ24ARfIAQ_YAQHoAQH4AQKIAgGoAgO4AtSJ4pIGwAIB0gIkMWMyOTgzZDEtZjVkYS00NmJhLWFiOTctNTM5MmFiZTgyZjVl2AIF4AIB&sid=c0f0407a1e2da13c863358a90e64eb78&aid=304142&ucfs=1&arphpl=1&group_adults=2&req_adults=2&no_rooms=1&group_children=0&req_children=0&hpos=13&hapos=13&sr_order=popularity&srpvid=153790711f0c044c&srepoch=1649968356&from=searchresults#hotelTmpl",
           "Doté d'une connexion Wi-Fi gratuite et offrant une vue sur la ville, le Studio / chambre calme prés de l'étang st pierre. L'hébergement est situé à Amiens, à seulement 400 mètres du parc des jardins flottants et à 1,1 km du musée Berny. Vous séjournerez à 4,4 km de l'université de Picardie Jules Verne.Cet appartement comprend un coin repas, une kitchenette avec un micro-ondes et une télévision à écran plat. Les serviettes et le linge de lit sont fournis.Vous séjournerez à 2,8 km du Zénith d'Amiens.Vous séjournerez à 1,1 km du tribunal de grande instance d'Amiens. L'aéroport de Beauvais-Tillé, le plus proche, est à 51 km. ",
           84.77714285714285,
           6
          ],
          [
           49.91856793,
           2.29331338,
           "Première Classe Amiens",
           "https://www.booking.com/hotel/fr/premia-re-classe-amiens.fr.html?label=gen173nr-1FCAEoggI46AdIDVgEaE2IAQGYAQ24ARfIAQ_YAQHoAQH4AQKIAgGoAgO4AtSJ4pIGwAIB0gIkMWMyOTgzZDEtZjVkYS00NmJhLWFiOTctNTM5MmFiZTgyZjVl2AIF4AIB&sid=c0f0407a1e2da13c863358a90e64eb78&aid=304142&ucfs=1&arphpl=1&group_adults=2&req_adults=2&no_rooms=1&group_children=0&req_children=0&hpos=14&hapos=14&sr_order=popularity&srpvid=153790711f0c044c&srepoch=1649968356&from=searchresults#hotelTmpl",
           "Le Première Classe Amiens se situe à 3 km du centre-ville d'Amiens et de sa cathédrale. Cet hôtel propose un jardin et une connexion Wi-Fi gratuite.Toutes ses chambres disposent d'une armoire, d'un bureau et d'une télévision par satellite à écran plat. Elles comprennent une salle de bains avec douche.Le petit-déjeuner est servi de 6h30 à 10h00 en semaine et de 7h00 à 10h00 le week-end. Des distributeurs automatiques de boissons et de collations sont disponibles à la réception.Le première Classe Amiens se trouve à 5 km de l'autoroute A16 et à 9 km du club de golf de la ville. De plus, une connexion Wi-Fi est accessible gratuitement. ",
           84.77714285714285,
           6
          ],
          [
           49.8961025,
           2.3107899,
           "LA BERGE",
           "https://www.booking.com/hotel/fr/la-berge.fr.html?label=gen173nr-1FCAEoggI46AdIDVgEaE2IAQGYAQ24ARfIAQ_YAQHoAQH4AQKIAgGoAgO4AtSJ4pIGwAIB0gIkMWMyOTgzZDEtZjVkYS00NmJhLWFiOTctNTM5MmFiZTgyZjVl2AIF4AIB&sid=c0f0407a1e2da13c863358a90e64eb78&aid=304142&ucfs=1&arphpl=1&group_adults=2&req_adults=2&no_rooms=1&group_children=0&req_children=0&hpos=15&hapos=15&sr_order=popularity&srpvid=153790711f0c044c&srepoch=1649968356&from_sustainable_property_sr=1&from=searchresults#hotelTmpl",
           "Doté d'une connexion Wi-Fi et d'un parking privé gratuits, l'établissement LA BERGE est situé à Amiens, à seulement 70 mètres du parc des jardins flottants. Cet appartement se trouve à 800 mètres du tribunal de grande instance d'Amiens et à 4 km de l'université de Picardie Jules Verne.Cet appartement comprend une chambre, une télévision par satellite à écran plat, une salle de bains pourvue d'une douche ainsi qu'une cuisine équipée avec un micro-ondes et des plaques de cuisson. Les serviettes et le linge de lit sont fournis.Vous séjournerez à 2,6 km du Zénith d'Amiens et à 700 mètres du musée Berny. L'aéroport le plus proche, celui de Beauvais-Tillé, est situé à 51 km. ",
           84.77714285714285,
           6
          ],
          [
           49.90089071,
           2.29091478,
           "Bonvallet - Studio paisible et chaleureux avec balcon",
           "https://www.booking.com/hotel/fr/bonvallet-2-bien-chez-soi.fr.html?label=gen173nr-1FCAEoggI46AdIDVgEaE2IAQGYAQ24ARfIAQ_YAQHoAQH4AQKIAgGoAgO4AtSJ4pIGwAIB0gIkMWMyOTgzZDEtZjVkYS00NmJhLWFiOTctNTM5MmFiZTgyZjVl2AIF4AIB&sid=c0f0407a1e2da13c863358a90e64eb78&aid=304142&ucfs=1&arphpl=1&group_adults=2&req_adults=2&no_rooms=1&group_children=0&req_children=0&hpos=16&hapos=16&sr_order=popularity&srpvid=153790711f0c044c&srepoch=1649968356&from=searchresults#hotelTmpl",
           "Doté d'une terrasse et offrant une vue sur le jardin, le Bonvallet - Studio paisible et chaleureux avec balcon est situé à Amiens, à 1,3 km du Zénith et à 1,2 km du musée Berny. Vous bénéficierez gratuitement d'un parking privé et d'une connexion Wi-Fi.Cet appartement comprend une chambre, une cuisine équipée d'un micro-ondes et d'un réfrigérateur, ainsi qu'une salle de bains pourvue d'une douche, d'un sèche-cheveux et d'un lave-linge. Les serviettes et le linge de lit sont fournis.Vous séjournerez à 1,5 km du parc des jardins flottants et à 1,2 km du tribunal de grande instance d'Amiens. L'aéroport le plus proche, celui de Beauvais-Tillé, est situé à 51 km. ",
           84.77714285714285,
           6
          ],
          [
           49.89448371,
           2.27680253,
           "La Chambre D'Amiens",
           "https://www.booking.com/hotel/fr/la-chambre-d-39-amiens.fr.html?label=gen173nr-1FCAEoggI46AdIDVgEaE2IAQGYAQ24ARfIAQ_YAQHoAQH4AQKIAgGoAgO4AtSJ4pIGwAIB0gIkMWMyOTgzZDEtZjVkYS00NmJhLWFiOTctNTM5MmFiZTgyZjVl2AIF4AIB&sid=c0f0407a1e2da13c863358a90e64eb78&aid=304142&ucfs=1&arphpl=1&group_adults=2&req_adults=2&no_rooms=1&group_children=0&req_children=0&hpos=17&hapos=17&sr_order=popularity&srpvid=153790711f0c044c&srepoch=1649968356&from=searchresults#hotelTmpl",
           "Situé à Amiens, à 900 mètres du Zénith, l'établissement La Chambre D'Amiens propose un bar, un parking privé gratuit, un salon commun, une terrasse, une bagagerie et un jardin. Des chambres familiales sont disponibles. Vous bénéficierez d’une connexion Wi-Fi gratuite dans l’ensemble des locaux.Toutes les chambres comprennent un coin salon, un bureau, une télévision à écran plat et une salle de bains privative.Cet hôtel sert chaque matin un petit-déjeuner buffet et continental.Vous séjournerez à 3,3 km du parc des jardins flottants et à 3,8 km du musée de Berny. Enfin, l’aéroport de Beauvais-Tillé, le plus proche, se trouve à 61 km de La Chambre D’Amiens. ",
           84.77714285714285,
           6
          ],
          [
           49.8961025,
           2.3107899,
           "LA CABANE",
           "https://www.booking.com/hotel/fr/la-cabane-amiens.fr.html?label=gen173nr-1FCAEoggI46AdIDVgEaE2IAQGYAQ24ARfIAQ_YAQHoAQH4AQKIAgGoAgO4AtSJ4pIGwAIB0gIkMWMyOTgzZDEtZjVkYS00NmJhLWFiOTctNTM5MmFiZTgyZjVl2AIF4AIB&sid=c0f0407a1e2da13c863358a90e64eb78&aid=304142&ucfs=1&arphpl=1&group_adults=2&req_adults=2&no_rooms=1&group_children=0&req_children=0&hpos=18&hapos=18&sr_order=popularity&srpvid=153790711f0c044c&srepoch=1649968356&from_sustainable_property_sr=1&from=searchresults#hotelTmpl",
           "Doté d'une connexion Wi-Fi et d'un parking privé gratuits, l'établissement LA CABANE est situé à Amiens, à seulement 70 mètres du parc des jardins flottants. Cet appartement se trouve à 800 mètres du tribunal de grande instance d'Amiens et à 4 km de l'université de Picardie Jules Verne.Cet appartement comprend une chambre, une télévision par satellite à écran plat, une salle de bains pourvue d'une douche ainsi qu'une cuisine équipée avec un micro-ondes et un réfrigérateur. Les serviettes et le linge de lit sont fournis.Vous séjournerez à 2,6 km du Zénith d'Amiens et à 700 mètres du musée Berny. L'aéroport le plus proche, celui de Beauvais-Tillé, est situé à 51 km. ",
           84.77714285714285,
           6
          ],
          [
           49.893251,
           2.304545,
           "Hotel Victor Hugo",
           "https://www.booking.com/hotel/fr/victor-hugo-amiens.fr.html?label=gen173nr-1FCAEoggI46AdIDVgEaE2IAQGYAQ24ARfIAQ_YAQHoAQH4AQKIAgGoAgO4AtSJ4pIGwAIB0gIkMWMyOTgzZDEtZjVkYS00NmJhLWFiOTctNTM5MmFiZTgyZjVl2AIF4AIB&sid=c0f0407a1e2da13c863358a90e64eb78&aid=304142&ucfs=1&arphpl=1&group_adults=2&req_adults=2&no_rooms=1&group_children=0&req_children=0&hpos=19&hapos=19&sr_order=popularity&srpvid=153790711f0c044c&srepoch=1649968356&from_sustainable_property_sr=1&from=searchresults#hotelTmpl",
           "L'Hotel Victor Hugo propose des hébergements à Amiens. L'établissement est situé à 2,2 km du Zénith d'Amiens et à 100 mètres du musée de l'Hôtel de Berny. L'établissement se trouve à 7 minutes à pied du parc des jardins flottants et à 3 minutes de marche du Tribunal de Grande Instance d'Amiens.Les chambres sont équipées d'un bureau. Certaines offrent une vue sur la ville. Toutes les chambres comprennent une salle de bains privative et une armoire. Les chambres sont équipées d'une télévision à écran plat et d'un sèche-cheveux.L'université de Picardie Jules Verne se trouve à 3,5 km de l'Hotel Victor Hugo. Enfin, l'aéroport de Paris Beauvais-Tillé est implanté à 50 km. ",
           84.77714285714285,
           6
          ],
          [
           49.8971517,
           2.2993158,
           "\"LA FABRIQUE\" en HYPERCENTRE PARKING GRATUIT",
           "https://www.booking.com/hotel/fr/la-fabrique-en-hypercentre-6-pers-parking-gratuit.fr.html?label=gen173nr-1FCAEoggI46AdIDVgEaE2IAQGYAQ24ARfIAQ_YAQHoAQH4AQKIAgGoAgO4AtSJ4pIGwAIB0gIkMWMyOTgzZDEtZjVkYS00NmJhLWFiOTctNTM5MmFiZTgyZjVl2AIF4AIB&sid=c0f0407a1e2da13c863358a90e64eb78&aid=304142&ucfs=1&arphpl=1&group_adults=2&req_adults=2&no_rooms=1&group_children=0&req_children=0&hpos=20&hapos=20&sr_order=popularity&srpvid=153790711f0c044c&srepoch=1649968356&from_sustainable_property_sr=1&from=searchresults#hotelTmpl",
           "Offrant une vue sur la ville, l'hébergement \"LA FABRIQUE\" en HYPERCENTRE PARKING GRATUIT est situé à Amiens, à 500 mètres du musée Berny et à moins de 1 km du parc des jardins flottants. Cet hébergement climatisé se trouve à 1,8 km du Zénith d'Amiens. Vous bénéficierez d'un parking privé sur place et d'une connexion Wi-Fi gratuite.Cet appartement comprend 2 chambres, une télévision à écran plat, un lave-linge et une salle de bains pourvue d'une douche. Sa cuisine est équipée d'un micro-ondes et d'un lave-vaisselle. Les serviettes et le linge de lit sont fournis.Vous séjournerez à 500 mètres du tribunal de grande instance d'Amiens et à 3,4 km de l'université de Picardie Jules Verne. L'aéroport le plus proche, celui de Beauvais-Tillé, est situé à 51 km. ",
           84.77714285714285,
           6
          ],
          [
           49.4446518,
           1.0913262,
           "Maison hypercentre Rouen tout confort",
           "https://www.booking.com/hotel/fr/maison-hypercentre-rouen-tout-confort.fr.html?label=gen173nr-1FCAEoggI46AdIDVgEaE2IAQGYAQ24ARfIAQ_YAQHoAQH4AQKIAgGoAgO4AtSJ4pIGwAIB0gIkMWMyOTgzZDEtZjVkYS00NmJhLWFiOTctNTM5MmFiZTgyZjVl2AIF4AIB&sid=c0f0407a1e2da13c863358a90e64eb78&aid=304142&ucfs=1&arphpl=1&group_adults=2&req_adults=2&no_rooms=1&group_children=0&req_children=0&hpos=1&hapos=1&sr_order=popularity&srpvid=b8969071bf31006c&srepoch=1649968355&from=searchresults#hotelTmpl",
           "Vous pouvez bénéficier d'une réduction Genius dans l'établissement Maison hypercentre Rouen tout confort ! Connectez-vous pour économiser.Située dans le centre de Rouen, à seulement 700 mètres de la cathédrale Notre-Dame, la Maison hypercentre Rouen tout confort offre une vue sur la ville et propose une connexion Wi-Fi gratuite.Cet appartement comprend 2 chambres, une télévision par satellite à écran plat, une cuisine équipée d'un lave-vaisselle et d'un micro-ondes ainsi qu'une salle de bains pourvue d'une douche.Enfin, l'aéroport de Deauville-Normandie, le plus proche, est implanté à 68 km de la Maison hypercentre Rouen tout confort. ",
           86.3942857142857,
           4
          ],
          [
           49.444544,
           1.091178,
           "L'Autel - Jaccuzi - Centre d'historique",
           "https://www.booking.com/hotel/fr/l-39-autel-rouen.fr.html?label=gen173nr-1FCAEoggI46AdIDVgEaE2IAQGYAQ24ARfIAQ_YAQHoAQH4AQKIAgGoAgO4AtSJ4pIGwAIB0gIkMWMyOTgzZDEtZjVkYS00NmJhLWFiOTctNTM5MmFiZTgyZjVl2AIF4AIB&sid=c0f0407a1e2da13c863358a90e64eb78&aid=304142&ucfs=1&arphpl=1&group_adults=2&req_adults=2&no_rooms=1&group_children=0&req_children=0&hpos=2&hapos=2&sr_order=popularity&srpvid=b8969071bf31006c&srepoch=1649968355&from=searchresults#hotelTmpl",
           "Vous pouvez bénéficier d'une réduction Genius dans l'établissement L'Autel - Jaccuzi - Centre d'historique ! Connectez-vous pour économiser.Situé à Rouen, à 500 mètres de la cathédrale Notre-Dame, l'établissement L'Autel - Jaccuzi - Centre d'histoire dispose d'un salon avec une télévision à écran plat et d'une connexion Wi-Fi gratuite.Cet appartement comprend une chambre, une cuisine équipée d'un lave-vaisselle et d'un micro-ondes, ainsi que 2 salles de bains pourvues d'un jacuzzi, de chaussons et d'un lave-linge. Les serviettes et le linge de lit sont fournis.Vous pourrez profiter d'un sauna sur place.L'aéroport de Deauville-Normandie, le plus proche, est implanté à 68 km. ",
           86.3942857142857,
           4
          ],
          [
           49.43572312,
           1.10273123,
           "ibis Rouen Centre Champ de Mars",
           "https://www.booking.com/hotel/fr/ibis-rouen-champ-de-mars.fr.html?label=gen173nr-1FCAEoggI46AdIDVgEaE2IAQGYAQ24ARfIAQ_YAQHoAQH4AQKIAgGoAgO4AtSJ4pIGwAIB0gIkMWMyOTgzZDEtZjVkYS00NmJhLWFiOTctNTM5MmFiZTgyZjVl2AIF4AIB&sid=c0f0407a1e2da13c863358a90e64eb78&aid=304142&ucfs=1&arphpl=1&group_adults=2&req_adults=2&no_rooms=1&group_children=0&req_children=0&hpos=3&hapos=3&sr_order=popularity&srpvid=b8969071bf31006c&srepoch=1649968355&from_sustainable_property_sr=1&from=searchresults#hotelTmpl",
           "L'hôtel ibis Rouen Champ de Mars est situé à seulement 10 minutes à pied du centre de Rouen et à 15 minutes de marche de la cathédrale. Il propose une réception ouverte 24h/24, un sauna et un hammam.Toutes les chambres comprennent une télévision à écran plat, une armoire, un bureau et un téléphone. Leur salle de bains privative est pourvue d'un sèche-cheveux.Tous les matins, vous savourerez un petit-déjeuner buffet composé de mets sucrés et salés, tels que des œufs, de la salade de fruits, des yaourts et des jus de fruits. Des viennoiseries préparées sur place et des madeleines fraîches sont proposées, ainsi qu'une boisson chaude et un fruit à emporter. En dehors des horaires habituels, un petit-déjeuner plus léger est disponible à partir de 4h00.Lors de votre séjour, vous pourrez vous détendre avec un verre au bar sur place. Par ailleurs, vous trouverez des restaurants dans le centre-ville.Sur place, vous profiterez d'une bagagerie et d'une connexion Wi-Fi gratuite dans l'ensemble des locaux. Enfin, vous rejoindrez la gare à 2 km, tandis que l’autoroute A150 est idéalement accessible à 10 minutes en voiture de l'ibis Rouen Champ de Mars. De plus, vous bénéficierez de bornes de recharge pour véhicules électriques sur place. ",
           86.3942857142857,
           4
          ],
          [
           49.446441,
           1.09412,
           "Radisson Blu Hotel, Rouen Centre",
           "https://www.booking.com/hotel/fr/radisson-blu-rouen-centre.fr.html?label=gen173nr-1FCAEoggI46AdIDVgEaE2IAQGYAQ24ARfIAQ_YAQHoAQH4AQKIAgGoAgO4AtSJ4pIGwAIB0gIkMWMyOTgzZDEtZjVkYS00NmJhLWFiOTctNTM5MmFiZTgyZjVl2AIF4AIB&sid=c0f0407a1e2da13c863358a90e64eb78&aid=304142&ucfs=1&arphpl=1&group_adults=2&req_adults=2&no_rooms=1&group_children=0&req_children=0&hpos=4&hapos=4&sr_order=popularity&srpvid=b8969071bf31006c&srepoch=1649968355&from_sustainable_property_sr=1&from=searchresults#hotelTmpl",
           "Vous pouvez bénéficier d'une réduction Genius dans l'établissement Radisson Blu Hotel, Rouen Centre ! Connectez-vous pour économiser.Situé à Rouen, le Radisson Blu Hotel, Rouen Centre dispose d'un restaurant servant des plats locaux de haute qualité, d'une salle de sport, d'un bar et d'un salon commun. Il propose des chambres familiales et une terrasse. Il propose une réception ouverte 24h/24, un service de navette, un service d'étage et une connexion Wi-Fi gratuite.Toutes les chambres comprennent une armoire, une télévision et une salle de bains privative.Le Radisson Blu Hotel, Rouen Centre sert un petit-déjeuner continental ou buffet.L'établissement possède également un centre d'affaires et vous pourrez consulter les journaux du Radisson Blu Hotel, Rouen Centre. Un parking privé est disponible moyennant des frais supplémentaires.La cathédrale Notre-Dame de Rouen se trouve à 700 mètres de l'hôtel. Enfin, l'aéroport de Deauville-Normandie, le plus proche, est implanté à 68 km du Radisson Blu Hotel, Rouen Centre. ",
           86.3942857142857,
           4
          ],
          [
           49.44636845,
           1.08275188,
           "Le Garden Studio avec terrasse et parking centre ville",
           "https://www.booking.com/hotel/fr/le-garden-rouen.fr.html?label=gen173nr-1FCAEoggI46AdIDVgEaE2IAQGYAQ24ARfIAQ_YAQHoAQH4AQKIAgGoAgO4AtSJ4pIGwAIB0gIkMWMyOTgzZDEtZjVkYS00NmJhLWFiOTctNTM5MmFiZTgyZjVl2AIF4AIB&sid=c0f0407a1e2da13c863358a90e64eb78&aid=304142&ucfs=1&arphpl=1&group_adults=2&req_adults=2&no_rooms=1&group_children=0&req_children=0&hpos=5&hapos=5&sr_order=popularity&srpvid=b8969071bf31006c&srepoch=1649968355&from_sustainable_property_sr=1&from=searchresults#hotelTmpl",
           "Vous pouvez bénéficier d'une réduction Genius dans l'établissement Le Garden Studio avec terrasse et parking centre ville ! Connectez-vous pour économiser.Doté d'un jardin, l'établissement Le Garden Studio avec terrasse et parking centre ville est situé à Rouen, à 1,4 km du palais des sports Kindarena. Vous séjournerez à 1,1 km de la cathédrale Notre-Dame de Rouen. Vous bénéficierez gratuitement d'une connexion Wi-Fi et d'un parking privé sur place.Cet appartement comprend une chambre, une salle de bains, du linge de lit, des serviettes, une télévision à écran plat, un coin repas, une kitchenette entièrement équipée et une terrasse avec vue sur le jardin.L'aéroport de Deauville-Normandie, le plus proche, est à 68 km. ",
           86.3942857142857,
           4
          ],
          [
           49.425341,
           1.068718,
           "ibis budget Rouen Centre Rive Gauche - Opening September 2020",
           "https://www.booking.com/hotel/fr/ibis-budget-rouen-centre-rive-gauche.fr.html?label=gen173nr-1FCAEoggI46AdIDVgEaE2IAQGYAQ24ARfIAQ_YAQHoAQH4AQKIAgGoAgO4AtSJ4pIGwAIB0gIkMWMyOTgzZDEtZjVkYS00NmJhLWFiOTctNTM5MmFiZTgyZjVl2AIF4AIB&sid=c0f0407a1e2da13c863358a90e64eb78&aid=304142&ucfs=1&arphpl=1&group_adults=2&req_adults=2&no_rooms=1&group_children=0&req_children=0&hpos=6&hapos=6&sr_order=popularity&srpvid=b8969071bf31006c&srepoch=1649968355&from=searchresults#hotelTmpl",
           "L'Hotel Ibis Budget Rouen Centre Rive Gauche se situe à Rouen, à 2,4 km du Kindarena, le palais des sports de la ville.Toutes les chambres sont dotées d'une télévision à écran plat et d'une salle de bains privative.L'hôtel possède une bagagerie.L'Hotel Ibis Budget se trouve à 2,5 km de la cathédrale Notre-Dame de Rouen et à 3,3 km du centre hospitalier universitaire. L'aéroport le plus proche est celui de Beauvais-Tillé, à 75 km. ",
           86.3942857142857,
           4
          ],
          [
           49.444792,
           1.0903173,
           "Charmant studio hypercentre",
           "https://www.booking.com/hotel/fr/charmant-studio-hypercentre.fr.html?label=gen173nr-1FCAEoggI46AdIDVgEaE2IAQGYAQ24ARfIAQ_YAQHoAQH4AQKIAgGoAgO4AtSJ4pIGwAIB0gIkMWMyOTgzZDEtZjVkYS00NmJhLWFiOTctNTM5MmFiZTgyZjVl2AIF4AIB&sid=c0f0407a1e2da13c863358a90e64eb78&aid=304142&ucfs=1&arphpl=1&group_adults=2&req_adults=2&no_rooms=1&group_children=0&req_children=0&hpos=7&hapos=7&sr_order=popularity&srpvid=b8969071bf31006c&srepoch=1649968355&from=searchresults#hotelTmpl",
           "Doté d'une connexion Wi-Fi gratuite, le Charmant studio hypercentre est situé dans un quartier central de Rouen, à seulement 600 mètres de la cathédrale Notre-Dame.Cet appartement comprend une chambre séparée ainsi qu'une kitchenette avec un micro-ondes, un réfrigérateur et un coin repas. Les serviettes et le linge de lit sont fournis.L'aéroport de Deauville-Normandie, le plus proche, est à 68 km. ",
           86.3942857142857,
           4
          ],
          [
           49.43443341,
           1.07183611,
           "Campanile Rouen Mermoz",
           "https://www.booking.com/hotel/fr/campanile-rouen-mermoz.fr.html?label=gen173nr-1FCAEoggI46AdIDVgEaE2IAQGYAQ24ARfIAQ_YAQHoAQH4AQKIAgGoAgO4AtSJ4pIGwAIB0gIkMWMyOTgzZDEtZjVkYS00NmJhLWFiOTctNTM5MmFiZTgyZjVl2AIF4AIB&sid=c0f0407a1e2da13c863358a90e64eb78&aid=304142&ucfs=1&arphpl=1&group_adults=2&req_adults=2&no_rooms=1&group_children=0&req_children=0&hpos=8&hapos=8&sr_order=popularity&srpvid=b8969071bf31006c&srepoch=1649968355&from_sustainable_property_sr=1&from=searchresults#hotelTmpl",
           "Doté d’un restaurant, d’un bar, d’un salon commun et d’un parking privé, le Campanile Rouen Mermoz vous accueille à Rouen, à 2,4 km du palais des sports Kindarena. Cet hôtel 3 étoiles propose une réception ouverte 24h/24, une bagagerie et une connexion Wi-Fi gratuite.Les chambres comprennent la climatisation, une télévision par satellite à écran plat, une bouilloire, un bureau et une armoire. Leur salle de bains privative est pourvue d’une douche et d’un sèche-cheveux.Le Campanile Rouen Mermoz sert un petit-déjeuner buffet ou continental.Une terrasse est disponible.La cathédrale Notre-Dame de Rouen se trouve à 2,8 km du Campanile Rouen Mermoz. L’aéroport de Deauville-Normandie, le plus proche, est à 85 km. ",
           86.3942857142857,
           4
          ],
          [
           49.4447189,
           1.1032992,
           "La Roseraie",
           "https://www.booking.com/hotel/fr/la-roseraie-rouen.fr.html?label=gen173nr-1FCAEoggI46AdIDVgEaE2IAQGYAQ24ARfIAQ_YAQHoAQH4AQKIAgGoAgO4AtSJ4pIGwAIB0gIkMWMyOTgzZDEtZjVkYS00NmJhLWFiOTctNTM5MmFiZTgyZjVl2AIF4AIB&sid=c0f0407a1e2da13c863358a90e64eb78&aid=304142&ucfs=1&arphpl=1&group_adults=2&req_adults=2&no_rooms=1&group_children=0&req_children=0&hpos=9&hapos=9&sr_order=popularity&srpvid=b8969071bf31006c&srepoch=1649968355&from=searchresults#hotelTmpl",
           "Situé dans le centre-ville de Rouen, à proximité de la cathédrale Notre-Dame, l'établissement La Roseraie dispose d'une terrasse et d'un lave-linge.Cet appartement comprend une chambre, une télévision à écran plat, un coin salon et une salle de bains pourvue d'une douche. Sa cuisine est équipée d'un micro-ondes et d'un réfrigérateur. Les serviettes et le linge de lit sont fournis.L'aéroport de Deauville-Normandie, le plus proche, est implanté à 69 km. ",
           86.3942857142857,
           4
          ],
          [
           49.4459841,
           1.0955417,
           "Le flaubert: studio duplex avec wifi par fibre",
           "https://www.booking.com/hotel/fr/le-flaubert-studio-duplex-avec-wifi-par-fibre.fr.html?label=gen173nr-1FCAEoggI46AdIDVgEaE2IAQGYAQ24ARfIAQ_YAQHoAQH4AQKIAgGoAgO4AtSJ4pIGwAIB0gIkMWMyOTgzZDEtZjVkYS00NmJhLWFiOTctNTM5MmFiZTgyZjVl2AIF4AIB&sid=c0f0407a1e2da13c863358a90e64eb78&aid=304142&ucfs=1&arphpl=1&group_adults=2&req_adults=2&no_rooms=1&group_children=0&req_children=0&hpos=10&hapos=10&sr_order=popularity&srpvid=b8969071bf31006c&srepoch=1649968355&from=searchresults#hotelTmpl",
           "Dans le centre-ville de Rouen, près de la cathédrale Notre-Dame de Rouen, Le flaubert: Ce studio en duplex avec wifi par fibre dispose d'une terrasse et d'un lave-linge. Il offre une vue sur le jardin.Cet appartement comprend une chambre, une télévision à écran plat, un coin salon et une salle de bains pourvue d'une douche. Sa cuisine est équipée d'un micro-ondes et d'un réfrigérateur. Les serviettes et le linge de lit sont fournis.L'aéroport de Deauville-Normandie, le plus proche, est à 68 km. ",
           86.3942857142857,
           4
          ],
          [
           49.44158357,
           1.08144455,
           "Kyriad Rouen Centre",
           "https://www.booking.com/hotel/fr/rouencentre.fr.html?label=gen173nr-1FCAEoggI46AdIDVgEaE2IAQGYAQ24ARfIAQ_YAQHoAQH4AQKIAgGoAgO4AtSJ4pIGwAIB0gIkMWMyOTgzZDEtZjVkYS00NmJhLWFiOTctNTM5MmFiZTgyZjVl2AIF4AIB&sid=c0f0407a1e2da13c863358a90e64eb78&aid=304142&ucfs=1&arphpl=1&group_adults=2&req_adults=2&no_rooms=1&group_children=0&req_children=0&hpos=11&hapos=11&sr_order=popularity&srpvid=b8969071bf31006c&srepoch=1649968355&from=searchresults#hotelTmpl",
           "Situé à seulement 500 mètres de la gare de Rouen-Orléans, le Kyriad Rouen Centre se trouve à 15 minutes à pied de la cathédrale de Rouen et à 2 km du palais des sports. Chaque chambre comprend une salle de bains privative, une connexion Wi-Fi gratuite et un plateau/bouilloire.De plus, elles sont munies d'une télévision à écran plat. Toutes les chambres sont accessibles par ascenseur.Un petit-déjeuner buffet est servi chaque matin. Le restaurant vous accueille pour le déjeuner et le dîner. Il vous concoctera une cuisine régionale.Le quartier historique de Rouen, avec ses boutiques et ses cafés, vous attend à 15 minutes de marche de l'hôtel. Le musée de la céramique est à 500 mètres. ",
           86.3942857142857,
           4
          ],
          [
           49.44834821,
           1.09349504,
           "Best Western Plus Hotel de Dieppe 1880",
           "https://www.booking.com/hotel/fr/bestwesternhoteldedieppe.fr.html?label=gen173nr-1FCAEoggI46AdIDVgEaE2IAQGYAQ24ARfIAQ_YAQHoAQH4AQKIAgGoAgO4AtSJ4pIGwAIB0gIkMWMyOTgzZDEtZjVkYS00NmJhLWFiOTctNTM5MmFiZTgyZjVl2AIF4AIB&sid=c0f0407a1e2da13c863358a90e64eb78&aid=304142&ucfs=1&arphpl=1&group_adults=2&req_adults=2&no_rooms=1&group_children=0&req_children=0&hpos=12&hapos=12&sr_order=popularity&srpvid=b8969071bf31006c&srepoch=1649968355&from_sustainable_property_sr=1&from=searchresults#hotelTmpl",
           "Le Best Western Plus Hotel de Dieppe 1880 est célèbre en Normandie pour sa spécialité appelée « Caneton à la Presse ». Il vous accueille au cœur de Rouen, à proximité de la zone piétonne et de la vieille ville.Les chambres sont entièrement équipées et confortables.L'hôtel possède un restaurant de renom et un bar où vous pourrez savourer un cocktail. Vous pourrez également profiter de deux salles de conférence si vous souhaitez organiser une conférence ou un séminaire. Le petit-déjeuner est servi tous les jours sur place. Vous pourrez aussi le déguster dans le confort de votre chambre, moyennant un supplément.L'hôtel est situé en face de la gare. Le Best Western Hôtel de Dieppe est géré par la famille Gueret depuis 1880. ",
           86.3942857142857,
           4
          ],
          [
           49.44306423,
           1.08660311,
           "Best Western Plus Hotel Litteraire Gustave Flaubert",
           "https://www.booking.com/hotel/fr/hotellitterairegustaveflaubert.fr.html?label=gen173nr-1FCAEoggI46AdIDVgEaE2IAQGYAQ24ARfIAQ_YAQHoAQH4AQKIAgGoAgO4AtSJ4pIGwAIB0gIkMWMyOTgzZDEtZjVkYS00NmJhLWFiOTctNTM5MmFiZTgyZjVl2AIF4AIB&sid=c0f0407a1e2da13c863358a90e64eb78&aid=304142&ucfs=1&arphpl=1&group_adults=2&req_adults=2&no_rooms=1&group_children=0&req_children=0&hpos=13&hapos=13&sr_order=popularity&srpvid=b8969071bf31006c&srepoch=1649968355&from_sustainable_property_sr=1&from=searchresults#hotelTmpl",
           "Vous pouvez bénéficier d'une réduction Genius dans l'établissement Best Western Plus Hotel Litteraire Gustave Flaubert ! Connectez-vous pour économiser.Situé dans le centre historique de Rouen, à 3 km du Kindarena, le Best Western Plus Hotel Litteraire Gustave Flaubert propose des hébergements à la décoration inspirée par l’œuvre littéraire de Gustave Flaubert. Une connexion Wi-Fi gratuite est accessible dans l’ensemble de l’établissement.Les chambres élégantes disposent d’une télévision par satellite à écran plat. Chacune est également pourvue d’une salle de bains privative. Certaines possèdent une station d'accueil pour iPod.Chaque matin, le petit-déjeuner vous sera servi dans la salle dédiée ou dans le confort de votre chambre. Après une journée bien remplie, vous pourrez vous détendre en savourant un verre dans le salon à cocktails de l’hôtel. Par ailleurs, vous trouverez de nombreux restaurants français et internationaux dans les environs.Vous séjournerez à seulement 10 minutes de marche de la cathédrale Notre-Dame de Rouen et à 800 mètres du musée des Beaux-Arts. Un parking privé est accessible sur réservation et moyennant des frais supplémentaires. Des places de stationnement publiques sont également disponibles autour du BEST WESTERN Hôtel Littéraire Gustave Flaubert. ",
           86.3942857142857,
           4
          ],
          [
           49.4287748,
           1.0809637,
           "Superbe appartement St sever",
           "https://www.booking.com/hotel/fr/superbe-appartement-st-sever.fr.html?label=gen173nr-1FCAEoggI46AdIDVgEaE2IAQGYAQ24ARfIAQ_YAQHoAQH4AQKIAgGoAgO4AtSJ4pIGwAIB0gIkMWMyOTgzZDEtZjVkYS00NmJhLWFiOTctNTM5MmFiZTgyZjVl2AIF4AIB&sid=c0f0407a1e2da13c863358a90e64eb78&aid=304142&ucfs=1&arphpl=1&group_adults=2&req_adults=2&no_rooms=1&group_children=0&req_children=0&hpos=14&hapos=14&sr_order=popularity&srpvid=b8969071bf31006c&srepoch=1649968355&from=searchresults#hotelTmpl",
           "Le Superbe appartement St Sever est situé à Rouen. Doté d'un parking privé gratuit, il se trouve à 1,6 km de la cathédrale Notre-Dame de Rouen.Cet appartement comprend 2 chambres, une télévision à écran plat et une cuisine.L'aéroport le plus proche, celui de Deauville-Normandie, est situé à 67 km. ",
           86.3942857142857,
           4
          ],
          [
           49.44332714,
           1.09457396,
           "Le Vieux Carré",
           "https://www.booking.com/hotel/fr/le-vieux-carre.fr.html?label=gen173nr-1FCAEoggI46AdIDVgEaE2IAQGYAQ24ARfIAQ_YAQHoAQH4AQKIAgGoAgO4AtSJ4pIGwAIB0gIkMWMyOTgzZDEtZjVkYS00NmJhLWFiOTctNTM5MmFiZTgyZjVl2AIF4AIB&sid=c0f0407a1e2da13c863358a90e64eb78&aid=304142&ucfs=1&arphpl=1&group_adults=2&req_adults=2&no_rooms=1&group_children=0&req_children=0&hpos=15&hapos=15&sr_order=popularity&srpvid=b8969071bf31006c&srepoch=1649968355&from=searchresults#hotelTmpl",
           "L'hôtel Le Vieux Carré est situé dans le centre de Rouen, dans une zone piétonne, à seulement 850 mètres de la gare de Rouen-Rive-Droite. Il dispose de chambres avec salle de bains privative ainsi que d'une cour intérieure fleurie et arborée.Le restaurant du Vieux Carré sert tous les jours un petit-déjeuner continental et le déjeuner. Dans l'après-midi, il se transforme en salon de thé servant des pâtisseries gastronomiques. Vous pourrez prendre vos repas en plein air, dans la cour.Chaque chambre du Vieux Carré est équipée d'une télévision et d'un téléphone. Leur salles de bains privatives sont pourvues d'une baignoire. De plus, une connexion Wi-Fi est mise gratuitement à votre disposition dans l'ensemble de l'établissement.La salon commun est agrémenté de poutres apparentes et d'un mobilier en bois. Vous apprécierez de vous détendre dans les fauteuils au coin du feu.Le Vieux Carré se trouve à 400 mètres de la cathédrale Notre-Dame et à 450 mètres du musée des Beaux-Arts de Rouen. Vous trouverez un parking public à proximité. ",
           86.3942857142857,
           4
          ],
          [
           49.43948371,
           1.08725488,
           "Kyriad Direct Rouen Centre Gare",
           "https://www.booking.com/hotel/fr/hotelleviking.fr.html?label=gen173nr-1FCAEoggI46AdIDVgEaE2IAQGYAQ24ARfIAQ_YAQHoAQH4AQKIAgGoAgO4AtSJ4pIGwAIB0gIkMWMyOTgzZDEtZjVkYS00NmJhLWFiOTctNTM5MmFiZTgyZjVl2AIF4AIB&sid=c0f0407a1e2da13c863358a90e64eb78&aid=304142&ucfs=1&arphpl=1&group_adults=2&req_adults=2&no_rooms=1&group_children=0&req_children=0&hpos=16&hapos=16&sr_order=popularity&srpvid=b8969071bf31006c&srepoch=1649968355&from_sustainable_property_sr=1&from=searchresults#hotelTmpl",
           "Vous pouvez bénéficier d'une réduction Genius dans l'établissement Kyriad Direct Rouen Centre Gare ! Connectez-vous pour économiser.Situé au cœur de Rouen, cet hôtel propose une connexion Wi-Fi payante. Doté d’une terrasse offrant une vue dégagée sur la Seine, cet hôtel se trouve à 1,2 km de la cathédrale de Rouen.Toutes les chambres disposent d'une télévision par satellite à écran plat avec des chaînes internationales. Elles comprennent une salle de bains privative, et certaines possèdent un balcon privé donnant sur le fleuve.Un petit-déjeuner est servi tous les matins, et vous pourrez prendre un verre dans le bar-salon de l’établissement.Un parking public payant se trouve à proximité, et l'hôtel se situe à 10 minutes de la gare de Rouen-Rive-Droite. ",
           86.3942857142857,
           4
          ],
          [
           49.4465452,
           1.0929032,
           "Le 4B - Le Tiki",
           "https://www.booking.com/hotel/fr/le-4b-mathilde.fr.html?label=gen173nr-1FCAEoggI46AdIDVgEaE2IAQGYAQ24ARfIAQ_YAQHoAQH4AQKIAgGoAgO4AtSJ4pIGwAIB0gIkMWMyOTgzZDEtZjVkYS00NmJhLWFiOTctNTM5MmFiZTgyZjVl2AIF4AIB&sid=c0f0407a1e2da13c863358a90e64eb78&aid=304142&ucfs=1&arphpl=1&group_adults=2&req_adults=2&no_rooms=1&group_children=0&req_children=0&hpos=17&hapos=17&sr_order=popularity&srpvid=b8969071bf31006c&srepoch=1649968355&from_sustainable_property_sr=1&from=searchresults#hotelTmpl",
           "Situé dans le centre de Rouen, à 700 mètres de la cathédrale Notre-Dame, l'établissement Le 4B - Le Tiki propose des hébergements avec une connexion Wi-Fi gratuite et une vue sur la ville.Cet appartement comprend une chambre, une télévision par câble à écran plat, une kitchenette équipée avec un micro-ondes et un réfrigérateur, ainsi qu'une salle de bains pourvue d'une douche. Les serviettes et le linge de lit sont fournis.L'aéroport de Deauville-Normandie, le plus proche, est à 68 km. ",
           86.3942857142857,
           4
          ],
          [
           49.44117285,
           1.09517545,
           "Mercure Rouen Centre Cathédrale",
           "https://www.booking.com/hotel/fr/mercure-rouen-centre.fr.html?label=gen173nr-1FCAEoggI46AdIDVgEaE2IAQGYAQ24ARfIAQ_YAQHoAQH4AQKIAgGoAgO4AtSJ4pIGwAIB0gIkMWMyOTgzZDEtZjVkYS00NmJhLWFiOTctNTM5MmFiZTgyZjVl2AIF4AIB&sid=c0f0407a1e2da13c863358a90e64eb78&aid=304142&ucfs=1&arphpl=1&group_adults=2&req_adults=2&no_rooms=1&group_children=0&req_children=0&hpos=18&hapos=18&sr_order=popularity&srpvid=b8969071bf31006c&srepoch=1649968355&from_sustainable_property_sr=1&from=searchresults#hotelTmpl",
           "Le Mercure Rouen Centre Cathédrale propose des chambres climatisées dotées d'une télévision par satellite, d'une connexion Wi-Fi gratuite et d'une salle de bains privative dans le centre de Rouen, à 160 mètres de la cathédrale Notre-Dame et à 3 km du palais des sports de Rouen.L'établissement sert un petit-déjeuner complet que vous pourrez déguster dans le confort de votre chambre. Un petit-déjeuner express est également disponible. Vous pourrez par ailleurs prendre un verre au bar de l'hôtel.Le Mercure Rouen Centre se trouve à seulement quelques pas de la place du Vieux Marché et du Gros-Horloge. La gare de Rouen est située à seulement 1 km. L'établissement met un parking privé souterrain à votre disposition. ",
           86.3942857142857,
           4
          ],
          [
           49.4460252,
           1.0832305,
           "Le First, centre ville terrasse et parking",
           "https://www.booking.com/hotel/fr/the-first.fr.html?label=gen173nr-1FCAEoggI46AdIDVgEaE2IAQGYAQ24ARfIAQ_YAQHoAQH4AQKIAgGoAgO4AtSJ4pIGwAIB0gIkMWMyOTgzZDEtZjVkYS00NmJhLWFiOTctNTM5MmFiZTgyZjVl2AIF4AIB&sid=c0f0407a1e2da13c863358a90e64eb78&aid=304142&ucfs=1&arphpl=1&group_adults=2&req_adults=2&no_rooms=1&group_children=0&req_children=0&hpos=19&hapos=19&sr_order=popularity&srpvid=b8969071bf31006c&srepoch=1649968355&from=searchresults#hotelTmpl",
           "Vous pouvez bénéficier d'une réduction Genius dans l'établissement Le First, centre ville terrasse et parking ! Connectez-vous pour économiser.Doté d'un jardin, l'établissement Le First, centre ville terrasse et parking est situé à Rouen, à 1,5 km du palais des sports Kindarena. Vous séjournerez à 1,1 km de la cathédrale Notre-Dame de Rouen. Vous bénéficierez gratuitement d'une connexion Wi-Fi et d'un parking privé sur place.Cet appartement comprend une chambre, une salle de bains, du linge de lit, des serviettes, une télévision à écran plat, un coin repas, une cuisine entièrement équipée et une terrasse avec vue sur le jardin.L'aéroport de Deauville-Normandie, le plus proche, est à 68 km. ",
           86.3942857142857,
           4
          ],
          [
           49.44197641,
           1.09243892,
           "Les Initiés",
           "https://www.booking.com/hotel/fr/les-inities-rouen.fr.html?label=gen173nr-1FCAEoggI46AdIDVgEaE2IAQGYAQ24ARfIAQ_YAQHoAQH4AQKIAgGoAgO4AtSJ4pIGwAIB0gIkMWMyOTgzZDEtZjVkYS00NmJhLWFiOTctNTM5MmFiZTgyZjVl2AIF4AIB&sid=c0f0407a1e2da13c863358a90e64eb78&aid=304142&ucfs=1&arphpl=1&group_adults=2&req_adults=2&no_rooms=1&group_children=0&req_children=0&hpos=20&hapos=20&sr_order=popularity&srpvid=b8969071bf31006c&srepoch=1649968355&from=searchresults#hotelTmpl",
           "Installé au cœur du centre historique de Rouen, l'établissement Les Initiés est situé à seulement 10 minutes à pied de la gare de Rouen-Rive-Droite et à 3 km du stade Kindarena. En face du palais de justice, il propose des chambres décorées de façon personnalisée avec une connexion Wi-Fi gratuite et une salle de bains privative.Un petit-déjeuner continental vous sera servi tous les matins du lundi au samedi. Il est disponible le dimanche sur réservation. Offrant une vue sur le palais de justice, le bar-brasserie des Initiés prépare une cuisine régionale.Le Gros-Horloge vous attend à seulement 150 mètres de l'Hôtel Les Initiés, tandis que la cathédrale Notre-Dame se trouve à 5 minutes à pied. L'emplacement de l'établissement est idéal pour découvrir la capitale historique de Normandie. ",
           86.3942857142857,
           4
          ],
          [
           50.62914624,
           3.06419907,
           "NOCNOC - La Villa Cachee",
           "https://www.booking.com/hotel/fr/la-villa-cachee-prox-gare-lille-flandre-metro.fr.html?label=gen173nr-1FCAEoggI46AdIDVgEaE2IAQGYAQ24ARfIAQ_YAQHoAQH4AQKIAgGoAgO4AtSJ4pIGwAIB0gIkMWMyOTgzZDEtZjVkYS00NmJhLWFiOTctNTM5MmFiZTgyZjVl2AIF4AIB&sid=c0f0407a1e2da13c863358a90e64eb78&aid=304142&ucfs=1&arphpl=1&group_adults=2&req_adults=2&no_rooms=1&group_children=0&req_children=0&hpos=1&hapos=1&sr_order=popularity&srpvid=1da19071a9fd0339&srepoch=1649968357&from=searchresults#hotelTmpl",
           "Vous pouvez bénéficier d'une réduction Genius dans l'établissement NOCNOC - La Villa Cachee ! Connectez-vous pour économiser.Doté d'une connexion Wi-Fi et d'un parking privé gratuits, le NOCNOC - La Villa Cachee est situé à Lille, à seulement 400 mètres de la maison Coilliot. Cette villa se trouve à 2,2 km du Zénith de Lille et du Grand Palais.Cette villa comprend 6 chambres, une télévision à écran plat, un lave-linge et 6 salles de bains pourvues d'une douche. Sa cuisine est équipée d'un lave-vaisselle et d'un micro-ondes. Les serviettes et le linge de lit sont fournis.Vous pourrez profiter d'une terrasse.Vous séjournerez à proximité de la braderie de Lille, de l'hospice Gantois et du grand magasin Printemps. L'aéroport de Lille, le plus proche, est à 9 km. ",
           96.42285714285714,
           7
          ],
          [
           50.63788756,
           3.072685,
           "Hotel Lille Europe",
           "https://www.booking.com/hotel/fr/lille-europe.fr.html?label=gen173nr-1FCAEoggI46AdIDVgEaE2IAQGYAQ24ARfIAQ_YAQHoAQH4AQKIAgGoAgO4AtSJ4pIGwAIB0gIkMWMyOTgzZDEtZjVkYS00NmJhLWFiOTctNTM5MmFiZTgyZjVl2AIF4AIB&sid=c0f0407a1e2da13c863358a90e64eb78&aid=304142&ucfs=1&arphpl=1&group_adults=2&req_adults=2&no_rooms=1&group_children=0&req_children=0&hpos=2&hapos=2&sr_order=popularity&srpvid=1da19071a9fd0339&srepoch=1649968357&from=searchresults#hotelTmpl",
           "Vous pouvez bénéficier d'une réduction Genius dans l'établissement Hotel Lille Europe ! Connectez-vous pour économiser.L'Hotel Lille Europe est un établissement 3 étoiles situé au cœur du quartier des affaires international, à seulement 250 mètres de la gare de Lille-Flandres et à 17 minutes de route du stade Pierre-Mauroy. Il propose une réception ouverte 24h/24 et une connexion Internet gratuite.Présentant une décoration colorée, les chambres sont insonorisées et disposent d'une télévision par câble. Leur salle de bains privative est pourvue d'un sèche-cheveux. Toutes les chambres sont desservies par un ascenseur.Un petit-déjeuner buffet est servi tous les matins dans la salle prévue à cet effet. Cette dernière est dotée d'un micro-ondes et d'une vue panoramique sur les environs.L'établissement est accessible par l'autoroute N356. Vous séjournerez à 750 mètres de l'Opéra de Lille, à 10 minutes de marche de la cathédrale Notre-Dame-de-la-Treille, à 1,1 km du centre de conventions Nouveau Siècle et à 1,3 km du Grand Palais. Un parking privé sur place est disponible uniquement sur demande. ",
           96.42285714285714,
           7
          ],
          [
           50.627831,
           3.063592,
           "Moxy Lille City",
           "https://www.booking.com/hotel/fr/moxy-lille-city-center-france.fr.html?label=gen173nr-1FCAEoggI46AdIDVgEaE2IAQGYAQ24ARfIAQ_YAQHoAQH4AQKIAgGoAgO4AtSJ4pIGwAIB0gIkMWMyOTgzZDEtZjVkYS00NmJhLWFiOTctNTM5MmFiZTgyZjVl2AIF4AIB&sid=c0f0407a1e2da13c863358a90e64eb78&aid=304142&ucfs=1&arphpl=1&group_adults=2&req_adults=2&no_rooms=1&group_children=0&req_children=0&hpos=3&hapos=3&sr_order=popularity&srpvid=1da19071a9fd0339&srepoch=1649968357&from=searchresults#hotelTmpl",
           "Le Moxy Lille City est situé à Lille, à 700 mètres de la braderie de Lille. Il propose des hébergements avec une terrasse et un parking privé. Doté d’un bar, cet hôtel 3 étoiles propose des chambres climatisées avec connexion Wi-Fi gratuite et salle de bains privative. En outre, vous pourrez profiter d’une salle de sport, d’animations en soirée et d’une réception ouverte 24h/24.Les chambres possèdent une télévision à écran plat et un sèche-cheveux.Un petit-déjeuner buffet est servi tous les jours au Moxy Lille City.Les sites d'intérêt à proximité de l'hébergement incluent la maison Coilliot, le grand magasin Printemps et la salle de concert l'Aéronef. L’aéroport de Lille-Lesquin, le plus proche, se trouve à 8 km du Moxy Lille City. ",
           96.42285714285714,
           7
          ],
          [
           50.6281375,
           3.08142364,
           "B&B Hôtel Lille Centre Grand Palais",
           "https://www.booking.com/hotel/fr/b-b-lille-centre-grand-palais.fr.html?label=gen173nr-1FCAEoggI46AdIDVgEaE2IAQGYAQ24ARfIAQ_YAQHoAQH4AQKIAgGoAgO4AtSJ4pIGwAIB0gIkMWMyOTgzZDEtZjVkYS00NmJhLWFiOTctNTM5MmFiZTgyZjVl2AIF4AIB&sid=c0f0407a1e2da13c863358a90e64eb78&aid=304142&ucfs=1&arphpl=1&group_adults=2&req_adults=2&no_rooms=1&group_children=0&req_children=0&hpos=4&hapos=4&sr_order=popularity&srpvid=1da19071a9fd0339&srepoch=1649968357&from_sustainable_property_sr=1&from=searchresults#hotelTmpl",
           "Le B&B Hôtel Lille Centre Grand Palais est situé à 5 minutes de marche de la station de métro Lille Grand Palais. L’établissement propose des chambres insonorisées avec une salle de bains privative, une télévision par satellite à écran plat et une connexion Wi-Fi gratuite illimitée. Sa réception est ouverte 24h/24.Un petit-déjeuner buffet est servi chaque matin au B&B Lille Centre Grand Palais.Le B&B Lille Centre se trouve à 600 mètres du complexe Lille Grand Palais. Un parking souterrain privé gratuit est accessible sous réserve de disponibilité et sur réservation auprès de l'hôtel. ",
           96.42285714285714,
           7
          ],
          [
           50.63238245,
           3.06794286,
           "ibis Styles Lille Centre Gare Beffroi",
           "https://www.booking.com/hotel/fr/ibis-styles-lille-centre-gare-beffroi.fr.html?label=gen173nr-1FCAEoggI46AdIDVgEaE2IAQGYAQ24ARfIAQ_YAQHoAQH4AQKIAgGoAgO4AtSJ4pIGwAIB0gIkMWMyOTgzZDEtZjVkYS00NmJhLWFiOTctNTM5MmFiZTgyZjVl2AIF4AIB&sid=c0f0407a1e2da13c863358a90e64eb78&aid=304142&ucfs=1&arphpl=1&group_adults=2&req_adults=2&no_rooms=1&group_children=0&req_children=0&hpos=5&hapos=5&sr_order=popularity&srpvid=1da19071a9fd0339&srepoch=1649968357&from=searchresults#hotelTmpl",
           "L’ibis Styles Lille Centre Gare Beffroi vous accueille dans le centre-ville de Lille, à 600 mètres des gares de Lille-Europe et de Lille-Flandres. Le centre des congrès Lille Grand Palais et le complexe Nouveau Siècle se trouvent à 1 km.Toutes les chambres comprennent une télévision à écran plat, une connexion Wi-Fi gratuite et une salle d’eau privative.Chaque matin, le petit-déjeuner vous sera servi. Vous pourrez vous détendre avec une boisson dans le bar sur place. Des événements d’entreprise peuvent être organisés dans les 3 salles de réunion modernes.Le quartier commerçant et d’affaires Euralille se trouve à 10 minutes de marche. Vous rejoindrez le stade Pierre-Mauroy en 15 minutes de route. ",
           96.42285714285714,
           7
          ],
          [
           50.63528798,
           3.06970725,
           "Hôtel Calm Lille",
           "https://www.booking.com/hotel/fr/calm-lille.fr.html?label=gen173nr-1FCAEoggI46AdIDVgEaE2IAQGYAQ24ARfIAQ_YAQHoAQH4AQKIAgGoAgO4AtSJ4pIGwAIB0gIkMWMyOTgzZDEtZjVkYS00NmJhLWFiOTctNTM5MmFiZTgyZjVl2AIF4AIB&sid=c0f0407a1e2da13c863358a90e64eb78&aid=304142&ucfs=1&arphpl=1&group_adults=2&req_adults=2&no_rooms=1&group_children=0&req_children=0&hpos=6&hapos=6&sr_order=popularity&srpvid=1da19071a9fd0339&srepoch=1649968357&from=searchresults#hotelTmpl",
           "Vous pouvez bénéficier d'une réduction Genius dans l'établissement Hôtel Calm Lille ! Connectez-vous pour économiser.L'Hôtel Calm Lille est situé dans le centre-ville de Lille, à seulement 3 minutes à pied de la gare de Lille Flandres, ainsi qu'à 1 km du centre de conventions Grand Palais et de la salle de spectacle Le Nouveau Siècle. La connexion Wi-Fi est accessible gratuitement dans l'ensemble de l'établissement.Les chambres sont équipées d'une télévision à écran plat, d'une salle de bains privative avec baignoire ou douche, d'une armoire et d'un bureau.La réception de l'hôtel est ouverte 24h/24 et une bagagerie est à votre disposition. Vous pourrez emprunter un sèche-cheveux à la réception.L'Hôtel Calm Lille se trouve à 26 km de Courtrai, à 44 km d'Arras et à 27 km d'Ypres. Vous séjournerez aussi à 8 km de l'aéroport de Lille-Lesquin et à 16 minutes en voiture du stade Pierre-Mauroy. ",
           96.42285714285714,
           7
          ],
          [
           50.64241422,
           3.06787005,
           "ibis budget Lille Centre",
           "https://www.booking.com/hotel/fr/ibis-budget-lille-centre.fr.html?label=gen173nr-1FCAEoggI46AdIDVgEaE2IAQGYAQ24ARfIAQ_YAQHoAQH4AQKIAgGoAgO4AtSJ4pIGwAIB0gIkMWMyOTgzZDEtZjVkYS00NmJhLWFiOTctNTM5MmFiZTgyZjVl2AIF4AIB&sid=c0f0407a1e2da13c863358a90e64eb78&aid=304142&ucfs=1&arphpl=1&group_adults=2&req_adults=2&no_rooms=1&group_children=0&req_children=0&hpos=7&hapos=7&sr_order=popularity&srpvid=1da19071a9fd0339&srepoch=1649968357&from=searchresults#hotelTmpl",
           "L’ibis budget Lille Centre propose des hébergements à Lille, à 400 mètres de la Grand-Place et du Vieux-Lille. Il propose une réception ouverte 24h/24 et une connexion Wi-Fi gratuite.Desservie par un ascenseur, chaque chambre non-fumeurs dispose d'une télévision, d’un bureau et d'une salle de bains privative avec douche. Le linge de lit est fourni. Des distributeurs automatiques de boissons sont présents sur place, et vous trouverez de nombreux restaurants dans les environs.L’hôtel ibis Budget Lille Centre est à 750 mètres de la gare de Lille-Europe et à 600 mètres de celle de Lille-Flandres. Enfin, l’aéroport de Lille-Lesquin est distant de 8 km. ",
           96.42285714285714,
           7
          ],
          [
           50.6372416,
           3.0691052,
           "LoveLoc",
           "https://www.booking.com/hotel/fr/tip-top-studio.fr.html?label=gen173nr-1FCAEoggI46AdIDVgEaE2IAQGYAQ24ARfIAQ_YAQHoAQH4AQKIAgGoAgO4AtSJ4pIGwAIB0gIkMWMyOTgzZDEtZjVkYS00NmJhLWFiOTctNTM5MmFiZTgyZjVl2AIF4AIB&sid=c0f0407a1e2da13c863358a90e64eb78&aid=304142&ucfs=1&arphpl=1&group_adults=2&req_adults=2&no_rooms=1&group_children=0&req_children=0&hpos=8&hapos=8&sr_order=popularity&srpvid=1da19071a9fd0339&srepoch=1649968357&from_sustainable_property_sr=1&from=searchresults#hotelTmpl",
           "Situé à Lille, à 300 mètres de l'opéra, le LoveLoc propose un restaurant, une connexion Wi-Fi gratuite, un service de concierge et un bureau d'excursions. Occupant un bâtiment datant de 1930, il se trouve à 500 mètres de l'école de commerce SKEMA de Lille et à 600 mètres du grand magasin Printemps.Cet appartement comprend une chambre, une télévision à écran plat, un lave-linge et une salle de bains pourvue d'une douche. Sa cuisine est équipée d'un micro-ondes et d'un réfrigérateur. Les serviettes et le linge de lit sont fournis.Un service de location de voitures est assuré sur place. La région est prisée pour pratiquer le vélo et la randonnée.Vous séjournerez à proximité de l'Aéronef, de la Grand-Place et du quartier du Vieux-Lille. Moyennant des frais supplémentaires, l'établissement assure un service de navette aéroport, le plus proche étant celui de Lille, situé à 8 km. ",
           96.42285714285714,
           7
          ],
          [
           50.63075938,
           3.05808842,
           "Holiday Inn Express Lille Centre, an IHG Hotel",
           "https://www.booking.com/hotel/fr/expressbyholidayinnlille.fr.html?label=gen173nr-1FCAEoggI46AdIDVgEaE2IAQGYAQ24ARfIAQ_YAQHoAQH4AQKIAgGoAgO4AtSJ4pIGwAIB0gIkMWMyOTgzZDEtZjVkYS00NmJhLWFiOTctNTM5MmFiZTgyZjVl2AIF4AIB&sid=c0f0407a1e2da13c863358a90e64eb78&aid=304142&ucfs=1&arphpl=1&group_adults=2&req_adults=2&no_rooms=1&group_children=0&req_children=0&hpos=9&hapos=9&sr_order=popularity&srpvid=1da19071a9fd0339&srepoch=1649968357&from=searchresults#hotelTmpl",
           "L'Holiday Inn Express Lille Centre est situé dans le centre de Lille, à 350 mètres du Palais des Beaux Arts et à 9 km du stade Pierre Mauroy. Vous séjournerez à 900 mètres du centre de conventions Le Nouveau Siècle et à 2 km de Lille Grand Palais.Les chambres de l'Holiday Inn Express Lille Centre sont équipées d'une télévision à écran plat, d'un téléphone, d'un sèche-cheveux et d'un plateau/bouilloire. Elles sont toutes desservies par un ascenseur. Vous bénéficierez gratuitement d'une connexion Wi-Fi.Un petit-déjeuner buffet est servi tous les matins.L'Holiday Inn Express Lille Centre propose une réception ouverte 24h/24, un parking souterrain sécurisé (sous réserve de disponibilité), une salle de réunion et un service de nettoyage à sec.La station de métro la plus proche est celle de République Beaux Arts, qui vous permettra d'accéder directement aux gares Lille Europe et Lille Flandres. L'hôtel se trouve à 800 mètres de la grand-place et à 1,5 km de la citadelle de Lille. ",
           96.42285714285714,
           7
          ],
          [
           50.63654707,
           3.06234241,
           "Grand Hotel Bellevue - Grand Place",
           "https://www.booking.com/hotel/fr/grandhotelbellevue.fr.html?label=gen173nr-1FCAEoggI46AdIDVgEaE2IAQGYAQ24ARfIAQ_YAQHoAQH4AQKIAgGoAgO4AtSJ4pIGwAIB0gIkMWMyOTgzZDEtZjVkYS00NmJhLWFiOTctNTM5MmFiZTgyZjVl2AIF4AIB&sid=c0f0407a1e2da13c863358a90e64eb78&aid=304142&ucfs=1&arphpl=1&group_adults=2&req_adults=2&no_rooms=1&group_children=0&req_children=0&hpos=10&hapos=10&sr_order=popularity&srpvid=1da19071a9fd0339&srepoch=1649968357&from_sustainable_property_sr=1&from=searchresults#hotelTmpl",
           "Vous pouvez bénéficier d'une réduction Genius dans l'établissement Grand Hotel Bellevue - Grand Place ! Connectez-vous pour économiser.Situé sur la Grand-Place, dans le Vieux-Lille, le Grand Hotel Bellevue - Grand Place occupe un bâtiment à l'architecture flamande. Ses chambres disposent d'une salle de bains en marbre et de mobilier d'époque. La station de métro Rihour est accessible à 100 mètres. Vous pourrez rejoindre le centre de conventions Le Nouveau Siècle en 2 minutes à pied et le Lille Grand Palais se trouve à 1,4 km.Cet hôtel a été rénové en 2018. Toutes les chambres sont équipées de la climatisation, de la télévision par satellite et d'une connexion Wi-Fi gratuite. Élégantes et insonorisées, elles comprennent un minibar. Certaines disposent d'un plateau/bouilloire. Le personnel se tient à votre disposition 24h/24.Vous aurez droit à un petit-déjeuner buffet copieux tous les matins. Vous pourrez déguster des cocktails au bar Le Windsor et trouverez des restaurants à 50 mètres.Le centre historique est accessible en 5 minutes à pied et la gare de Lille-Flandres se trouve à 900 mètres. Le parc du Bois de Boulogne et la Citadelle vous attendent à 1,5 km tandis que l'aéroport de Lille-Lesquin se situe à 11 km. Des salles de réunions sont à votre disposition sur place. Vous trouverez un parking public à 100 mètres. ",
           96.42285714285714,
           7
          ],
          [
           50.639065,
           3.070951,
           "Mama Shelter Lille",
           "https://www.booking.com/hotel/fr/mama-shelter-lille.fr.html?label=gen173nr-1FCAEoggI46AdIDVgEaE2IAQGYAQ24ARfIAQ_YAQHoAQH4AQKIAgGoAgO4AtSJ4pIGwAIB0gIkMWMyOTgzZDEtZjVkYS00NmJhLWFiOTctNTM5MmFiZTgyZjVl2AIF4AIB&sid=c0f0407a1e2da13c863358a90e64eb78&aid=304142&ucfs=1&arphpl=1&group_adults=2&req_adults=2&no_rooms=1&group_children=0&req_children=0&hpos=11&hapos=11&sr_order=popularity&srpvid=1da19071a9fd0339&srepoch=1649968357&from=searchresults#hotelTmpl",
           "Le Mama Shelter Lille est situé dans le centre de Lille, à 4 minutes à pied de la gare et de la station de métro Lille Flandres ainsi qu'à 7 minutes de marche de la gare Lille Europe. Cet hôtel se trouve à 600 mètres de la Grand-Place et de l'opéra de Lille.Les chambres sont munies de la climatisation, d'une connexion Wi-Fi gratuite et de vidéos à la demande gratuites. Leur salle de bains privative est pourvue d'une douche, d'un sèche-cheveux et d'articles de toilette gratuits.Tous les matins, vous pourrez déguster un petit-déjeuner buffet. Le restaurant sert des repas faits maison. Vous pourrez également déguster des cocktails au bar ou sur le toit.Parlant 5 langues, le personnel de la réception ouverte 24h/24 se tient à votre entière disposition. Lors de votre séjour, vous pourrez profiter d'une blanchisserie, d'un service de conciergerie et d'un parking.Vous séjournerez à 350 mètres du centre commercial Euralille, à 1,4 km du palais des beaux-arts de Lille et à 850 mètres de la cathédrale Notre-Dame de la Treille. L'aéroport de Lille-Lesquin est à 11 km. ",
           96.42285714285714,
           7
          ],
          [
           50.62851,
           3.051873,
           "Lille Centre - Nice cozy & functional apTerrace",
           "https://www.booking.com/hotel/fr/lille-centre-superbe-appartement-avec-terrasse.fr.html?label=gen173nr-1FCAEoggI46AdIDVgEaE2IAQGYAQ24ARfIAQ_YAQHoAQH4AQKIAgGoAgO4AtSJ4pIGwAIB0gIkMWMyOTgzZDEtZjVkYS00NmJhLWFiOTctNTM5MmFiZTgyZjVl2AIF4AIB&sid=c0f0407a1e2da13c863358a90e64eb78&aid=304142&ucfs=1&arphpl=1&group_adults=2&req_adults=2&no_rooms=1&group_children=0&req_children=0&hpos=12&hapos=12&sr_order=popularity&srpvid=1da19071a9fd0339&srepoch=1649968357&from=searchresults#hotelTmpl",
           "Situé à Lille, à 400 mètres de la braderie de Lille, l'établissement Le Lille Centre - Nice cozy & functional apTerrace propose des hébergements avec une terrasse, une connexion Wi-Fi gratuite et une réception ouverte 24h/24. Vous profiterez d'une terrasse privée.Cet appartement comprend 3 chambres, une cuisine avec lave-vaisselle, une télévision, un coin salon et 3 salles de bains avec douche. Les serviettes et le linge de lit sont fournis.Vous séjournerez à proximité de la maison Coilliot, du grand magasin Printemps et du zoo de Lille. L'aéroport de Lille, le plus proche, est implanté à 7 km. Centre de Lille Nice fonctionnel et. ",
           96.42285714285714,
           7
          ],
          [
           50.63470383,
           3.07080008,
           "ibis Lille Centre Gares",
           "https://www.booking.com/hotel/fr/ibis-lille-centre-gares.fr.html?label=gen173nr-1FCAEoggI46AdIDVgEaE2IAQGYAQ24ARfIAQ_YAQHoAQH4AQKIAgGoAgO4AtSJ4pIGwAIB0gIkMWMyOTgzZDEtZjVkYS00NmJhLWFiOTctNTM5MmFiZTgyZjVl2AIF4AIB&sid=c0f0407a1e2da13c863358a90e64eb78&aid=304142&ucfs=1&arphpl=1&group_adults=2&req_adults=2&no_rooms=1&group_children=0&req_children=0&hpos=13&hapos=13&sr_order=popularity&srpvid=1da19071a9fd0339&srepoch=1649968357&from=searchresults#hotelTmpl",
           "Situé à 100 mètres de la gare de Lille Flandres et à moins de 10 minutes à pied de la gare de Lille Europe, l'ibis Lille Centre Gares vous propose une réception ouverte 24h/24, un ascenseur, une terrasse et une connexion Wi-Fi gratuite dans l'ensemble de ses locaux. Le centre de congrès Lille Grand Palais se trouve à 650 mètres.Les chambres de l'ibis Lille Centre Gares sont dotées d'une télévision à écran plat, d'un téléphone et d'un bureau. Leur salle de bains privative est pourvue d'une douche et de toilettes.L'hôtel sert chaque jour un petit-déjeuner buffet composé de plats sucrés et salés, comme des œufs, de la salade de fruits, des yaourts et des jus de fruit. Des viennoiseries cuites sur place et des madeleines fraîches sont aussi proposées, ainsi qu'une boisson chaude et un fruit à emporter. En dehors des horaires réguliers, vous aurez la possibilité de déguster un petit-déjeuner plus léger à partir de 4h00.Le restaurant ibis Kitchen propose une cuisine française traditionnelle. Des coffres-forts sont disponibles sur demande et vous pourrez également profiter de 3 salles de réunion.L'ibis Lille Centre Gares se trouve à 8 km de l'aéroport de Lille-Lesquin et à 1 km du Vieux-Lille. Un parking privé est accessible moyennant des frais supplémentaires et sous réserve de disponibilité. ",
           96.42285714285714,
           7
          ],
          [
           50.63728452,
           3.06844845,
           "Première Classe Lille Centre",
           "https://www.booking.com/hotel/fr/premiere-classe-lille.fr.html?label=gen173nr-1FCAEoggI46AdIDVgEaE2IAQGYAQ24ARfIAQ_YAQHoAQH4AQKIAgGoAgO4AtSJ4pIGwAIB0gIkMWMyOTgzZDEtZjVkYS00NmJhLWFiOTctNTM5MmFiZTgyZjVl2AIF4AIB&sid=c0f0407a1e2da13c863358a90e64eb78&aid=304142&ucfs=1&arphpl=1&group_adults=2&req_adults=2&no_rooms=1&group_children=0&req_children=0&hpos=14&hapos=14&sr_order=popularity&srpvid=1da19071a9fd0339&srepoch=1649968357&from=searchresults#hotelTmpl",
           "Le Première Classe Lille Centre vous accueille dans le centre-ville de Lille, à seulement 200 mètres de la gare/station de métro de Lille-Flandres. Le centre des conventions Lille Grand Palais et le complexe du Nouveau Siècle sont à 10 minutes à pied. L'établissement propose des hébergements dotés d'une connexion Wi-Fi gratuite et d'une télévision par satellite à écran plat.Toutes les chambres sont desservies par un ascenseur et comprennent une salle de bains privative pourvue d'une douche.La réception de l'hôtel est ouverte 24h/24.La gare TGV de Lille-Europe se trouve à 800 mètres du Première Classe Lille Centre. La cathédrale Notre-Dame-de-la-Treille est accessible en moins de 10 minutes à pied. ",
           96.42285714285714,
           7
          ],
          [
           50.63624596,
           3.06924239,
           "Hotel Chagnot",
           "https://www.booking.com/hotel/fr/hotel-balladins-superior-lille-centre.fr.html?label=gen173nr-1FCAEoggI46AdIDVgEaE2IAQGYAQ24ARfIAQ_YAQHoAQH4AQKIAgGoAgO4AtSJ4pIGwAIB0gIkMWMyOTgzZDEtZjVkYS00NmJhLWFiOTctNTM5MmFiZTgyZjVl2AIF4AIB&sid=c0f0407a1e2da13c863358a90e64eb78&aid=304142&ucfs=1&arphpl=1&group_adults=2&req_adults=2&no_rooms=1&group_children=0&req_children=0&hpos=15&hapos=15&sr_order=popularity&srpvid=1da19071a9fd0339&srepoch=1649968357&from=searchresults#hotelTmpl",
           "L'Hotel Chagnot est situé dans le centre-ville de Lille, juste en face de la gare de Lille-Flandres et à 10 minutes à pied de la gare de Lille-Europe. L’établissement propose des hébergements modernes et une connexion Wi-Fi gratuite. Les centres de conventions Nouveau Siècle et Lille Grand Palais se trouvent à 1 km.Tous les hébergements insonorisés comprennent une télévision par satellite à écran plat et 1 salle de bains privative pourvue d’une douche.L'Hotel Chagnot sert un petit-déjeuner express à emporter.L’aéroport de Lille-Lesquin est implanté à 8,8 km de l’hôtel. Le musée du Palais des Beaux-Arts se trouve à 15 minutes à pied de l'hôtel. Vous rejoindrez les grands magasins Printemps et Galeries Lafayette en 10 minutes de marche, tandis que l’opéra de Lille vous attend à 450 mètres. Le stade Pierre Mauroy est accessible en 16 minutes de route. ",
           96.42285714285714,
           7
          ],
          [
           50.63319849,
           3.07447681,
           "ibis Lille Centre Grand Palais",
           "https://www.booking.com/hotel/fr/ibis-lille-centre-grand-palais.fr.html?label=gen173nr-1FCAEoggI46AdIDVgEaE2IAQGYAQ24ARfIAQ_YAQHoAQH4AQKIAgGoAgO4AtSJ4pIGwAIB0gIkMWMyOTgzZDEtZjVkYS00NmJhLWFiOTctNTM5MmFiZTgyZjVl2AIF4AIB&sid=c0f0407a1e2da13c863358a90e64eb78&aid=304142&ucfs=1&arphpl=1&group_adults=2&req_adults=2&no_rooms=1&group_children=0&req_children=0&hpos=16&hapos=16&sr_order=popularity&srpvid=1da19071a9fd0339&srepoch=1649968357&from_sustainable_property_sr=1&from=searchresults#hotelTmpl",
           "L'ibis Lille Centre Grand Palais est situé à Lille, à moins de 300 mètres de la station de métro Mairie de Lille et à 550 mètres du centre de conventions Lille Grand Palais. Il propose une connexion Wi-Fi gratuite et une réception ouverte 24h/24.Affichant un intérieur moderne, toutes les chambres comprennent un bureau et une salle de bains privative.Chaque matin, vous savourerez un petit-déjeuner buffet composé de mets sucrés et salés, tels que des œufs, de la salade de fruits, des yaourts et des jus de fruits. Des viennoiseries cuites sur place et des madeleines fraîches sont aussi proposées, ainsi qu'une boisson chaude et un fruit à emporter. En dehors des horaires du buffet, un petit-déjeuner plus léger est disponible à partir de 4h00. Par ailleurs, vous pourrez prendre un verre et déguster une collation au bar sur place.Vous séjournerez à 400 mètres du Zénith de Lille et à 1,5 km du centre de conventions Nouveau Siècle. Enfin, l'ibis Lille Centre Grand Palais se trouve à 7 km de l'aéroport de Lille-Lesquin et à 9 km du stade Pierre Mauroy. ",
           96.42285714285714,
           7
          ],
          [
           50.64082324,
           3.06491666,
           "Little Suite - Louise",
           "https://www.booking.com/hotel/fr/little-suite-louise.fr.html?label=gen173nr-1FCAEoggI46AdIDVgEaE2IAQGYAQ24ARfIAQ_YAQHoAQH4AQKIAgGoAgO4AtSJ4pIGwAIB0gIkMWMyOTgzZDEtZjVkYS00NmJhLWFiOTctNTM5MmFiZTgyZjVl2AIF4AIB&sid=c0f0407a1e2da13c863358a90e64eb78&aid=304142&ucfs=1&arphpl=1&group_adults=2&req_adults=2&no_rooms=1&group_children=0&req_children=0&hpos=17&hapos=17&sr_order=popularity&srpvid=1da19071a9fd0339&srepoch=1649968357&from=searchresults#hotelTmpl",
           "Cet appartement se situe dans le centre de Lille, à 300 mètres de la cathédrale Notre-Dame-de-la-Treille. Cet hébergement indépendant est doté d'une chambre avec vue sur la ville et d'un coin salon aux murs en pierre. Une connexion Wi-Fi gratuite est disponible.Doté de meubles uniques, cet appartement dispose de parquet, d'une armoire ainsi que d'une salle de bains privative munie d'une baignoire et d'un sèche-cheveux.La cuisine est équipée d'un four micro-ondes, d'un réfrigérateur et de plaques de cuisson électriques. Un grille-pain et une bouilloire électrique sont également disponibles.Le Little Suite - Louise se situe à 500 mètres de la place du Général-de-Gaulle. Vous trouverez de nombreux commerces et restaurants dans les environs. Un parking privé est disponible non loin de l'appartement, moyennant des frais supplémentaires. ",
           96.42285714285714,
           7
          ],
          [
           50.64602156,
           3.07587147,
           "Hotel Art Deco Euralille",
           "https://www.booking.com/hotel/fr/hotelsrtdecoromarinlille.fr.html?label=gen173nr-1FCAEoggI46AdIDVgEaE2IAQGYAQ24ARfIAQ_YAQHoAQH4AQKIAgGoAgO4AtSJ4pIGwAIB0gIkMWMyOTgzZDEtZjVkYS00NmJhLWFiOTctNTM5MmFiZTgyZjVl2AIF4AIB&sid=c0f0407a1e2da13c863358a90e64eb78&aid=304142&ucfs=1&arphpl=1&group_adults=2&req_adults=2&no_rooms=1&group_children=0&req_children=0&hpos=18&hapos=18&sr_order=popularity&srpvid=1da19071a9fd0339&srepoch=1649968357&from_sustainable_property_sr=1&from=searchresults#hotelTmpl",
           "Vous pouvez bénéficier d'une réduction Genius dans l'établissement Hotel Art Deco Euralille ! Connectez-vous pour économiser.Situé au cœur du quartier des affaires d’Euralille, l’Hotel Art Deco Euralille propose un bar à 1 km de la gare de Lille-Europe, à 20 minutes de la Grand-Place ainsi qu'à 1,7 km du grand palais de Lille et du centre de conventions Nouveau Siècle.Présentant un décor Art déco, les chambres lumineuses et climatisées comprennent une télévision par satellite et une connexion Wi-Fi gratuite. Les chambres sont en outre toutes desservies par un ascenseur.En soirée, vous pourrez vous détendre dans le bar de l'hôtel, doté d'un plafond en vitraux des années 1930 et de chaises en cuir. L’établissement possède également une bibliothèque.En face de l’hôtel, vous trouverez la station de métro et arrêt de tramway Romarin, qui permet d'accéder directement à la gare de Lille-Flandres. ",
           96.42285714285714,
           7
          ],
          [
           50.64143,
           3.06578,
           "Lille Centre - Nice and functional ap",
           "https://www.booking.com/hotel/fr/lille-grand-place-superbe-appart-60m2-2ch.fr.html?label=gen173nr-1FCAEoggI46AdIDVgEaE2IAQGYAQ24ARfIAQ_YAQHoAQH4AQKIAgGoAgO4AtSJ4pIGwAIB0gIkMWMyOTgzZDEtZjVkYS00NmJhLWFiOTctNTM5MmFiZTgyZjVl2AIF4AIB&sid=c0f0407a1e2da13c863358a90e64eb78&aid=304142&ucfs=1&arphpl=1&group_adults=2&req_adults=2&no_rooms=1&group_children=0&req_children=0&hpos=19&hapos=19&sr_order=popularity&srpvid=1da19071a9fd0339&srepoch=1649968357&from=searchresults#hotelTmpl",
           "Le Lille Centre - Nice and functional ap propose un hébergement avec connexion Wi-Fi gratuite à Lille, à 200 mètres du quartier du Vieux-Lille, à 400 mètres de l'opéra et à 500 mètres de la Grand-Place. Cet appartement se trouve à 1,2 km de l'Hospice Gantois et à 1,5 km de la braderie de Lille.Cet appartement comprend 2 chambres, une télévision, un lave-linge et une salle de bains pourvue d'une douche. Sa cuisine est équipée d'un micro-ondes et d'un réfrigérateur. Les serviettes et le linge de lit sont fournis.Vous séjournerez à proximité du grand magasin Printemps, de l'Aéronef et de l'école de commerce SKEMA de Lille. L'aéroport de Lille, le plus proche, est implanté à 8 km. ",
           96.42285714285714,
           7
          ],
          [
           50.6430864,
           3.067507,
           "La Petite Place le Gîte et le Couvert de la Porte de Gand",
           "https://www.booking.com/hotel/fr/triplex-au-coeur-du-vieux-lille-comme-a-la-maison.fr.html?label=gen173nr-1FCAEoggI46AdIDVgEaE2IAQGYAQ24ARfIAQ_YAQHoAQH4AQKIAgGoAgO4AtSJ4pIGwAIB0gIkMWMyOTgzZDEtZjVkYS00NmJhLWFiOTctNTM5MmFiZTgyZjVl2AIF4AIB&sid=c0f0407a1e2da13c863358a90e64eb78&aid=304142&ucfs=1&arphpl=1&group_adults=2&req_adults=2&no_rooms=1&group_children=0&req_children=0&hpos=20&hapos=20&sr_order=popularity&srpvid=1da19071a9fd0339&srepoch=1649968357&from_sustainable_property_sr=1&from=searchresults#hotelTmpl",
           "Doté d'un restaurant, d'un bar et d'un salon commun, l'établissement La Petite Place le Gîte et le Couvert de la Porte de Gand propose un hébergement avec une connexion Wi-Fi gratuite et une vue sur la ville à Lille. Il est situé à 500 mètres du quartier du Vieux-Lille et dispose d'une cuisine commune.Cet appartement comprend 2 chambres, une télévision par satellite à écran plat, un lave-linge et 2 salles de bains pourvues d'une douche. Sa cuisine est équipée d'un micro-ondes et d'un réfrigérateur. Les serviettes et le linge de lit sont fournis.Un barbecue est à votre disposition sur place. Un service de location de voitures est assuré sur place et vous pourrez faire de la randonnée dans les environs.Vous séjournerez à proximité de l'opéra de Lille, de la Grand-Place et de l'Aéronef. L'aéroport de Lille, le plus proche, est implanté à 8 km. Un service de navette aéroport est assuré moyennant des frais supplémentaires. ",
           96.42285714285714,
           7
          ],
          [
           49.498238,
           0.128837,
           "Holiday Inn Express - Le Havre Centre",
           "https://www.booking.com/hotel/fr/campanile-le-havre-centre.fr.html?label=gen173nr-1FCAEoggI46AdIDVgEaE2IAQGYAQ24ARfIAQ_YAQHoAQH4AQKIAgGoAgO4AtSJ4pIGwAIB0gIkMWMyOTgzZDEtZjVkYS00NmJhLWFiOTctNTM5MmFiZTgyZjVl2AIF4AIB&sid=c0f0407a1e2da13c863358a90e64eb78&aid=304142&ucfs=1&arphpl=1&group_adults=2&req_adults=2&no_rooms=1&group_children=0&req_children=0&hpos=1&hapos=1&sr_order=popularity&srpvid=78bf90700749001e&srepoch=1649968354&from_beach_sr=1&from=searchresults#hotelTmpl",
           "L’Holiday Inn Express - Le Havre Centre, situé dans le centre-ville du Havre et à 600 mètres de la gare SNCF, vous accueille pour un séjour professionnel et de loisirs. Il bénéficie d’une situation idéale pour rejoindre rapidement le centre-ville ou la plage par le tramway, accessible devant l'hôtel. Vous apprécierez la qualité des prestations : connexion Wi-Fi, collations, petit-déjeuner buffet et bar-salon. Afin de faciliter votre arrivée en voiture, vous pourrez profiter du parking privé de l’établissement.. Réservez l’une des grandes chambres confortables de l’hôtel pour profiter de votre séjour. ",
           99.41428571428573,
           3
          ],
          [
           49.49424468,
           0.14285243,
           "Ibis Budget Le Havre Les Docks",
           "https://www.booking.com/hotel/fr/ibis-budget-le-havre-centre.fr.html?label=gen173nr-1FCAEoggI46AdIDVgEaE2IAQGYAQ24ARfIAQ_YAQHoAQH4AQKIAgGoAgO4AtSJ4pIGwAIB0gIkMWMyOTgzZDEtZjVkYS00NmJhLWFiOTctNTM5MmFiZTgyZjVl2AIF4AIB&sid=c0f0407a1e2da13c863358a90e64eb78&aid=304142&ucfs=1&arphpl=1&group_adults=2&req_adults=2&no_rooms=1&group_children=0&req_children=0&hpos=2&hapos=2&sr_order=popularity&srpvid=78bf90700749001e&srepoch=1649968354&from_beach_sr=1&from=searchresults#hotelTmpl",
           "L'Ibis Budget Le Havre Les Docks est situé au Havre, à 4,4 km de la salle de spectacles Le Volcan. Il met gratuitement à votre disposition une connexion Wi-Fi dans l'ensemble de ses locaux et un parking privé sur place.Les chambres comprennent la climatisation, une télévision, un bureau ainsi qu'une salle de bains privative avec douche, articles de toilette gratuits et toilettes séparées.Un petit-déjeuner buffet vous sera servi tous les jours sur place. Dans les environs, vous trouverez également des restaurants.L'Appartement témoin Perret se trouve à 4,4 km de l'Ibis Budget Le Havre Les Docks, tandis que l'église Saint-Michel est à 5 km. En voiture, vous rejoindrez Honfleur en 20 minutes et Étretat en 30 minutes. ",
           99.41428571428573,
           3
          ],
          [
           49.4933176,
           0.12530688,
           "Nomad Hotel le Havre",
           "https://www.booking.com/hotel/fr/nomad-le-havre.fr.html?label=gen173nr-1FCAEoggI46AdIDVgEaE2IAQGYAQ24ARfIAQ_YAQHoAQH4AQKIAgGoAgO4AtSJ4pIGwAIB0gIkMWMyOTgzZDEtZjVkYS00NmJhLWFiOTctNTM5MmFiZTgyZjVl2AIF4AIB&sid=c0f0407a1e2da13c863358a90e64eb78&aid=304142&ucfs=1&arphpl=1&group_adults=2&req_adults=2&no_rooms=1&group_children=0&req_children=0&hpos=3&hapos=3&sr_order=popularity&srpvid=78bf90700749001e&srepoch=1649968354&from_beach_sr=1&from_sustainable_property_sr=1&from=searchresults#hotelTmpl",
           "Vous pouvez bénéficier d'une réduction Genius dans l'établissement Nomad Hotel le Havre ! Connectez-vous pour économiser.Le Nomad Hotel Le Havre propose des chambres climatisées, dotées d'une connexion Wi-Fi gratuite et décorées dans un style moderne. Situé à 900 mètres du centre commercial Dock Océane, l'établissement possède un bar. Vous pourrez rejoindre la mairie et le centre-ville du Havre en 5 minutes de route.Toutes les chambres sont équipées d'une tablette et d'un vidéo projecteur. Chacune comprend une salle de bains pourvue d'une douche et d'articles de toilette gratuits.L'hôtel sert chaque jour le petit-déjeuner. Vous trouverez plusieurs commerces, bars et restaurants dans les environs.Le Nomad Hotel Le Havre se situe à 2 minutes à pied de la gare du Havre et à 2 km du Musée d’art moderne André Malraux (MuMa). ",
           99.41428571428573,
           3
          ],
          [
           49.49164142,
           0.11876017,
           "ibis Le Havre Centre",
           "https://www.booking.com/hotel/fr/hotelibislehavre.fr.html?label=gen173nr-1FCAEoggI46AdIDVgEaE2IAQGYAQ24ARfIAQ_YAQHoAQH4AQKIAgGoAgO4AtSJ4pIGwAIB0gIkMWMyOTgzZDEtZjVkYS00NmJhLWFiOTctNTM5MmFiZTgyZjVl2AIF4AIB&sid=c0f0407a1e2da13c863358a90e64eb78&aid=304142&ucfs=1&arphpl=1&group_adults=2&req_adults=2&no_rooms=1&group_children=0&req_children=0&hpos=4&hapos=4&sr_order=popularity&srpvid=78bf90700749001e&srepoch=1649968354&from_beach_sr=1&from=searchresults#hotelTmpl",
           "Cet établissement est à 18 minutes à pied de la plage. L'ibis Le Havre Centre est situé dans le centre-ville du Havre, à proximité de la gare SNCF, du port ferry et du centre du commerce international. Une connexion Wi-Fi gratuite est disponible.Les chambres disposent d'une salle de bains privative, d'une télévision par satellite et de matériel de repassage.Un petit-déjeuner buffet, composé de plats sucrés et salés, comme des œufs, de la salade de fruits, des yaourts et des jus, est servi chaque matin. Des viennoiseries cuites sur place, des madeleines fraîches ainsi qu'une boisson chaude et un fruit à emporter sont aussi proposés. Vous pourrez par ailleurs déguster un petit-déjeuner plus léger à partir de 4h00.Depuis l'ibis Le Havre Centre, vous rejoindrez facilement les autoroutes A29 et A131. Honfleur se trouve à 23 km, tandis que Deauville vous attend à 40 km. Enfin, vous pourrez profiter d'un espace de stationnement et d'une salle de réunion sur place. ",
           99.41428571428573,
           3
          ],
          [
           49.4975339,
           0.09686691,
           "Le Saint Vincent - 4/6P - 300m de la plage",
           "https://www.booking.com/hotel/fr/le-saint-vincent-4-47-6p-300m-de-la-plage.fr.html?label=gen173nr-1FCAEoggI46AdIDVgEaE2IAQGYAQ24ARfIAQ_YAQHoAQH4AQKIAgGoAgO4AtSJ4pIGwAIB0gIkMWMyOTgzZDEtZjVkYS00NmJhLWFiOTctNTM5MmFiZTgyZjVl2AIF4AIB&sid=c0f0407a1e2da13c863358a90e64eb78&aid=304142&ucfs=1&arphpl=1&group_adults=2&req_adults=2&no_rooms=1&group_children=0&req_children=0&hpos=5&hapos=5&sr_order=popularity&srpvid=78bf90700749001e&srepoch=1649968354&from_beach_sr=1&from=searchresults#hotelTmpl",
           "L'établissement Le Saint Vincent - 4/6P - 300m de la plage est situé au Havre, à 350 mètres de la plage, à moins de 1 km de l'église Saint-Michel et à 12 minutes à pied de l'appartement témoin Perret. Il se trouve à 2,4 km des docks de Vauban et à 1,1 km de l'école de commerce de Normandie.Cet appartement comprend 2 chambres, un salon, une télévision à écran plat, une cuisine équipée avec un coin repas ainsi qu'une salle de bains pourvue d'une douche et d'un lave-linge. Les serviettes et le linge de lit sont fournis.Vous séjournerez à proximité de l'église Saint-Joseph, du Volcan et du musée des Beaux-Arts André Malraux. L'aéroport le plus proche, celui de Deauville-Normandie, est situé à 16 km. ",
           99.41428571428573,
           3
          ],
          [
           49.49641693,
           0.15151234,
           "Premiere Classe Le Havre Centre-LES DOCKS",
           "https://www.booking.com/hotel/fr/premiere-classe-le-havre-centre.fr.html?label=gen173nr-1FCAEoggI46AdIDVgEaE2IAQGYAQ24ARfIAQ_YAQHoAQH4AQKIAgGoAgO4AtSJ4pIGwAIB0gIkMWMyOTgzZDEtZjVkYS00NmJhLWFiOTctNTM5MmFiZTgyZjVl2AIF4AIB&sid=c0f0407a1e2da13c863358a90e64eb78&aid=304142&ucfs=1&arphpl=1&group_adults=2&req_adults=2&no_rooms=1&group_children=0&req_children=0&hpos=6&hapos=6&sr_order=popularity&srpvid=78bf90700749001e&srepoch=1649968354&from_beach_sr=1&from_sustainable_property_sr=1&from=searchresults#hotelTmpl",
           "Situé au Havre, à proximité des autoroutes A13 et A29, le Premiere Classe Le Havre Centre-LES DOCKS propose gratuitement une connexion Wi-Fi dans l'ensemble des locaux et un parking privé.Les chambres comprennent toutes une télévision par satellite à écran plat et une salle de bains privative.Vous pourrez commander une collation à déguster dans votre chambre ou sur la terrasse.Enfin, vous rejoindrez Étretat en 35 minutes en voiture et Honfleur à 22 km. ",
           99.41428571428573,
           3
          ],
          [
           49.49008699,
           0.09774696,
           "Hilton Garden Inn Le Havre Centre",
           "https://www.booking.com/hotel/fr/hilton-garden-inn-le-havre-centre.fr.html?label=gen173nr-1FCAEoggI46AdIDVgEaE2IAQGYAQ24ARfIAQ_YAQHoAQH4AQKIAgGoAgO4AtSJ4pIGwAIB0gIkMWMyOTgzZDEtZjVkYS00NmJhLWFiOTctNTM5MmFiZTgyZjVl2AIF4AIB&sid=c0f0407a1e2da13c863358a90e64eb78&aid=304142&ucfs=1&arphpl=1&group_adults=2&req_adults=2&no_rooms=1&group_children=0&req_children=0&hpos=7&hapos=7&sr_order=popularity&srpvid=78bf90700749001e&srepoch=1649968354&from_beach_sr=1&from_sustainable_property_sr=1&from=searchresults#hotelTmpl",
           "Le Hilton Garden Inn Le Havre Centre est situé sur le front de mer du Havre, à 350 mètres de la plage et à 300 mètres de l'église Saint-Joseph. Vous séjournerez à proximité du musée des Beaux-Arts André Malraux, de l'école de commerce de Normandie et du musée Maison de l'Armateur. Il propose une réception ouverte 24h/24, un service d'étage et une bagagerie.Tous les logements comprennent un minibar.L'hôtel sert un petit-déjeuner continental.Les lieux d'intérêt à proximité du Hilton Garden Inn Le Havre Centre incluent le Volcan, l'appartement témoin Perret et l'église Saint-Michel. L'aéroport de Deauville-Normandie, le plus proche, est à 15 km. ",
           99.41428571428573,
           3
          ],
          [
           49.493046,
           0.124163,
           "B&B Hotel LE HAVRE Centre Gare",
           "https://www.booking.com/hotel/fr/b-b-le-havre-centre-gare.fr.html?label=gen173nr-1FCAEoggI46AdIDVgEaE2IAQGYAQ24ARfIAQ_YAQHoAQH4AQKIAgGoAgO4AtSJ4pIGwAIB0gIkMWMyOTgzZDEtZjVkYS00NmJhLWFiOTctNTM5MmFiZTgyZjVl2AIF4AIB&sid=c0f0407a1e2da13c863358a90e64eb78&aid=304142&ucfs=1&arphpl=1&group_adults=2&req_adults=2&no_rooms=1&group_children=0&req_children=0&hpos=8&hapos=8&sr_order=popularity&srpvid=78bf90700749001e&srepoch=1649968354&from_beach_sr=1&from=searchresults#hotelTmpl",
           "Le B&B Hotel Le Havre Centre Gare est situé au Havre, à environ 2,2 km de la plage et de l'église Saint-Joseph. Cet hôtel 3 étoiles met à votre disposition une connexion Wi-Fi gratuite, une réception ouverte 24h/24 et un centre d’affaires. L'établissement se trouve à proximité de lieux d’intérêt comme le quai Vauban, le tribunal de grande instance et l'université du Havre.Les chambres sont dotées d’une armoire. Le B&B Hôtel LE HAVRE Centre Gare propose certains logements dotés d'un coffre-fort et toutes les chambres sont équipées d'une salle de bains privative et d'un bureau. Les hébergements sont dotés d’une télévision par câble à écran plat.Un petit-déjeuner buffet est servi sur place.Vous séjournerez à proximité de lieux d'intérêt tels que l’église Saint-Michel, l’appartement témoin Perret et le centre culturel Le Volcan. L’aéroport de Deauville-Normandie, le plus proche, est implanté à 33 km du B&B Hotel LE HAVRE Centre Gare. ",
           99.41428571428573,
           3
          ],
          [
           49.49308921,
           0.13096154,
           "Kyriad Le Havre Centre",
           "https://www.booking.com/hotel/fr/kyriadlehavrecentre.fr.html?label=gen173nr-1FCAEoggI46AdIDVgEaE2IAQGYAQ24ARfIAQ_YAQHoAQH4AQKIAgGoAgO4AtSJ4pIGwAIB0gIkMWMyOTgzZDEtZjVkYS00NmJhLWFiOTctNTM5MmFiZTgyZjVl2AIF4AIB&sid=c0f0407a1e2da13c863358a90e64eb78&aid=304142&ucfs=1&arphpl=1&group_adults=2&req_adults=2&no_rooms=1&group_children=0&req_children=0&hpos=9&hapos=9&sr_order=popularity&srpvid=78bf90700749001e&srepoch=1649968354&from_beach_sr=1&from_sustainable_property_sr=1&from=searchresults#hotelTmpl",
           "Vous pouvez bénéficier d'une réduction Genius dans l'établissement Kyriad Le Havre Centre ! Connectez-vous pour économiser.L'hôtel Kyriad Le Havre Centre est situé à proximité de la mer en Normandie. Il propose des chambres avec salle de bains privative, télévision par satellite et connexion Wi-Fi gratuite.Le restaurant de l'hôtel Kyriad sert le petit-déjeuner, le déjeuner et le dîner. Il vous propose une cuisine à la fois créative et traditionnelle. Un bar est également à votre disposition sur place.Toutes les chambres sont desservies par un ascenseur. Vous pourrez profiter de la réception ouverte 24h/24, ainsi que d'une bibliothèque et d'une table de billard.L'aéroport le Havre - Octeville est situé à moins de 10 km de l'hôtel Kyriad Le Havre Centre. ",
           99.41428571428573,
           3
          ],
          [
           49.4989977,
           0.1209062,
           "Le Doux Refuge - Spacieux - 6 pers",
           "https://www.booking.com/hotel/fr/le-doux-refuge-spacieux-6-pers.fr.html?label=gen173nr-1FCAEoggI46AdIDVgEaE2IAQGYAQ24ARfIAQ_YAQHoAQH4AQKIAgGoAgO4AtSJ4pIGwAIB0gIkMWMyOTgzZDEtZjVkYS00NmJhLWFiOTctNTM5MmFiZTgyZjVl2AIF4AIB&sid=c0f0407a1e2da13c863358a90e64eb78&aid=304142&ucfs=1&arphpl=1&group_adults=2&req_adults=2&no_rooms=1&group_children=0&req_children=0&hpos=10&hapos=10&sr_order=popularity&srpvid=78bf90700749001e&srepoch=1649968354&from_beach_sr=1&from=searchresults#hotelTmpl",
           "Le Doux Refuge - Spacieux - 6 pers propose un hébergement avec connexion Wi-Fi gratuite au Havre, à 2 km de la plage du Havre, à moins de 1 km de l'église Saint-Michel et à 14 minutes à pied de l'appartement témoin Perret. Cet appartement se trouve à 2 km du musée des Beaux-Arts André Malraux et à 600 mètres de l'université du Havre.Cet appartement comprend 3 chambres, une télévision à écran plat ainsi qu'une cuisine entièrement équipée avec un lave-vaisselle, un micro-ondes, un lave-linge et un réfrigérateur. Les serviettes et le linge de lit sont fournis.Vous séjournerez à proximité du Volcan, de l'église Saint-Joseph et des docks Vauban. L'aéroport le plus proche, celui de Deauville-Normandie, est situé à 16 km. ",
           99.41428571428573,
           3
          ],
          [
           49.4888712,
           0.1113961,
           "Superbe duplex avec splendide vue sur les bassins de 1 à 4 personnes",
           "https://www.booking.com/hotel/fr/duplex-lumineux-avec-splendide-vue-sur-les-bassins.fr.html?label=gen173nr-1FCAEoggI46AdIDVgEaE2IAQGYAQ24ARfIAQ_YAQHoAQH4AQKIAgGoAgO4AtSJ4pIGwAIB0gIkMWMyOTgzZDEtZjVkYS00NmJhLWFiOTctNTM5MmFiZTgyZjVl2AIF4AIB&sid=c0f0407a1e2da13c863358a90e64eb78&aid=304142&ucfs=1&arphpl=1&group_adults=2&req_adults=2&no_rooms=1&group_children=0&req_children=0&hpos=11&hapos=11&sr_order=popularity&srpvid=78bf90700749001e&srepoch=1649968354&from_beach_sr=1&from=searchresults#hotelTmpl",
           "Cet établissement est à 12 minutes à pied de la plage. Situé au Havre, à 1,3 km de la plage, le Superbe duplex avec splendide vue sur les bassins de 1 à 4 personnes propose un hébergement avec un casino, une connexion Wi-Fi gratuite et une cuisine commune. Offrant une vue sur le lac et la ville, il se trouve à 300 mètres du Volcan.Cet appartement comprend 2 chambres, une télévision par câble à écran plat, un lave-linge et une salle de bains pourvue d'une douche. Sa cuisine est équipée d'un micro-ondes et d'un réfrigérateur. Les serviettes et le linge de lit sont fournis.Après une journée de randonnée, de vélo ou de pêche, vous pourrez vous détendre dans le coin salon commun.Vous séjournerez à proximité de l'appartement témoin Perret, de l'église Saint-Joseph et de l'église Saint-Michel. L'aéroport le plus proche, celui de Deauville-Normandie, est situé à 15 km. ",
           99.41428571428573,
           3
          ],
          [
           49.4848034,
           0.13446,
           "F2 - Le Havre",
           "https://www.booking.com/hotel/fr/f2-le-havre.fr.html?label=gen173nr-1FCAEoggI46AdIDVgEaE2IAQGYAQ24ARfIAQ_YAQHoAQH4AQKIAgGoAgO4AtSJ4pIGwAIB0gIkMWMyOTgzZDEtZjVkYS00NmJhLWFiOTctNTM5MmFiZTgyZjVl2AIF4AIB&sid=c0f0407a1e2da13c863358a90e64eb78&aid=304142&ucfs=1&arphpl=1&group_adults=2&req_adults=2&no_rooms=1&group_children=0&req_children=0&hpos=12&hapos=12&sr_order=popularity&srpvid=78bf90700749001e&srepoch=1649968354&from_beach_sr=1&from=searchresults#hotelTmpl",
           "Le F2 - Le Havre est situé au Havre, à 2,1 km du Volcan, à 2,1 km de l'appartement témoin Perret et à 2,2 km de l'église Saint-Michel. Il se trouve à 2,4 km de l'église Saint-Joseph et à 2,6 km du musée des Beaux-Arts André Malraux.Cet appartement comprend une chambre, une télévision à écran plat et une cuisine.Vous séjournerez à proximité des docks Vauban, de l'université du Havre et du tribunal de grande instance du Havre. L'aéroport de Deauville-Normandie, le plus proche, est à 14 km. ",
           99.41428571428573,
           3
          ],
          [
           49.4875707,
           0.1108754,
           "Quai Notre Dame",
           "https://www.booking.com/hotel/fr/quai-notre-dame.fr.html?label=gen173nr-1FCAEoggI46AdIDVgEaE2IAQGYAQ24ARfIAQ_YAQHoAQH4AQKIAgGoAgO4AtSJ4pIGwAIB0gIkMWMyOTgzZDEtZjVkYS00NmJhLWFiOTctNTM5MmFiZTgyZjVl2AIF4AIB&sid=c0f0407a1e2da13c863358a90e64eb78&aid=304142&ucfs=1&arphpl=1&group_adults=2&req_adults=2&no_rooms=1&group_children=0&req_children=0&hpos=13&hapos=13&sr_order=popularity&srpvid=78bf90700749001e&srepoch=1649968354&from_beach_sr=1&from=searchresults#hotelTmpl",
           "Doté d'un balcon avec vue sur la mer, d'un salon commun et d'une terrasse, le Quai Notre Dame est situé au Havre, à proximité de la plage du Havre et à 400 mètres du Volcan. Vous bénéficierez gratuitement d'un parking privé et d'une connexion Wi-Fi.L'appartement comprend 4 chambres, une télévision par satellite à écran plat, un lave-linge et 2 salles de bains pourvues d'un bidet. Sa cuisine est équipée d'un micro-ondes et d'un réfrigérateur. Pour plus de commodité, l'établissement peut fournir des serviettes et du linge de lit moyennant des frais supplémentaires.Vous séjournerez à proximité de l'appartement témoin Perret, de l'église Saint-Joseph et de l'église Saint-Michel. L'aéroport de Deauville-Normandie, le plus proche, est à 15 km. ",
           99.41428571428573,
           3
          ],
          [
           49.48746839,
           0.10777236,
           "Gîte du Vieux Marché",
           "https://www.booking.com/hotel/fr/gite-du-vieux-marche.fr.html?label=gen173nr-1FCAEoggI46AdIDVgEaE2IAQGYAQ24ARfIAQ_YAQHoAQH4AQKIAgGoAgO4AtSJ4pIGwAIB0gIkMWMyOTgzZDEtZjVkYS00NmJhLWFiOTctNTM5MmFiZTgyZjVl2AIF4AIB&sid=c0f0407a1e2da13c863358a90e64eb78&aid=304142&ucfs=1&arphpl=1&group_adults=2&req_adults=2&no_rooms=1&group_children=0&req_children=0&hpos=14&hapos=14&sr_order=popularity&srpvid=78bf90700749001e&srepoch=1649968354&from_beach_sr=1&from=searchresults#hotelTmpl",
           "Le Gîte du Vieux Marché est une maison de vacances mitoyenne située dans le centre du Havre, en face de la cathédrale Notre-Dame. Vous séjournerez à 80 mètres du musée d'histoire naturelle. Une connexion Wi-Fi gratuite est disponible dans tout l'hébergement.Le logement comprend une cuisine équipée d'un lave-vaisselle. Vous profiterez aussi d'une télévision à écran plat et d'un lecteur CD.Le port de la ville se trouve à 5 minutes à pied du Gîte du Vieux Marché, tandis que l'église Saint-Michel est à 1 km. L'aéroport le plus proche, celui de Deauville-Normandie, est installé à 30 km. ",
           99.41428571428573,
           3
          ],
          [
           49.499155,
           0.1324321,
           "Résidence Baheux",
           "https://www.booking.com/hotel/fr/residence-baheux.fr.html?label=gen173nr-1FCAEoggI46AdIDVgEaE2IAQGYAQ24ARfIAQ_YAQHoAQH4AQKIAgGoAgO4AtSJ4pIGwAIB0gIkMWMyOTgzZDEtZjVkYS00NmJhLWFiOTctNTM5MmFiZTgyZjVl2AIF4AIB&sid=c0f0407a1e2da13c863358a90e64eb78&aid=304142&ucfs=1&arphpl=1&group_adults=2&req_adults=2&no_rooms=1&group_children=0&req_children=0&hpos=15&hapos=15&sr_order=popularity&srpvid=78bf90700749001e&srepoch=1649968354&from_beach_sr=1&from=searchresults#hotelTmpl",
           "La Résidence Baheux est située au Havre, à 1,8 km de l'église Saint-Michel et à 2,8 km du Volcan, dans une région propice à la pêche. Il est situé à 2,8 km de la plage du Havre et dispose d'une connexion Wi-Fi gratuite ainsi que d'un distributeur automatique de billets.Cet appartement comprend une chambre, une télévision à écran plat, un lave-linge et une salle de bains pourvue d'une douche. Sa cuisine est équipée d'un micro-ondes et d'un lave-vaisselle. Pour plus de commodité, l'établissement peut fournir des serviettes et du linge de lit moyennant des frais supplémentaires.Vous séjournerez à proximité des docks Vauban, de l'université du Havre et du tribunal de grande instance du Havre. L'aéroport de Deauville-Normandie, le plus proche, est implanté à 32 km. ",
           99.41428571428573,
           3
          ],
          [
           49.4956569,
           0.1169298,
           "Appartement COSY - HYPER CENTRE du Havre",
           "https://www.booking.com/hotel/fr/appartement-cosy-hyper-centre-du-havre-le-havre.fr.html?label=gen173nr-1FCAEoggI46AdIDVgEaE2IAQGYAQ24ARfIAQ_YAQHoAQH4AQKIAgGoAgO4AtSJ4pIGwAIB0gIkMWMyOTgzZDEtZjVkYS00NmJhLWFiOTctNTM5MmFiZTgyZjVl2AIF4AIB&sid=c0f0407a1e2da13c863358a90e64eb78&aid=304142&ucfs=1&arphpl=1&group_adults=2&req_adults=2&no_rooms=1&group_children=0&req_children=0&hpos=16&hapos=16&sr_order=popularity&srpvid=78bf90700749001e&srepoch=1649968354&from_beach_sr=1&from=searchresults#hotelTmpl",
           "L'Appartement COSY - HYPER CENTRE du Havre propose un hébergement avec connexion Wi-Fi gratuite au Havre, à 1,7 km de la plage du Havre, à 600 mètres de l'église Saint-Michel et à 800 mètres de l'appartement témoin Perret. Il se trouve à 1,5 km du musée des Beaux-Arts André Malraux et à 300 mètres du tribunal de grande instance du Havre.Cet appartement comprend 2 chambres, une télévision à écran plat ainsi qu'une cuisine entièrement équipée avec un lave-vaisselle, un micro-ondes, un lave-linge, un réfrigérateur et un four.Vous séjournerez à proximité du Volcan, de l'église Saint-Joseph et des docks Vauban. L'aéroport de Deauville-Normandie, le plus proche, est implanté à 15 km. ",
           99.41428571428573,
           3
          ],
          [
           49.49334357,
           0.12431771,
           "Best Western Plus Le Havre Centre Gare",
           "https://www.booking.com/hotel/fr/hotelterminuslehavre.fr.html?label=gen173nr-1FCAEoggI46AdIDVgEaE2IAQGYAQ24ARfIAQ_YAQHoAQH4AQKIAgGoAgO4AtSJ4pIGwAIB0gIkMWMyOTgzZDEtZjVkYS00NmJhLWFiOTctNTM5MmFiZTgyZjVl2AIF4AIB&sid=c0f0407a1e2da13c863358a90e64eb78&aid=304142&ucfs=1&arphpl=1&group_adults=2&req_adults=2&no_rooms=1&group_children=0&req_children=0&hpos=17&hapos=17&sr_order=popularity&srpvid=78bf90700749001e&srepoch=1649968354&from_beach_sr=1&from_sustainable_property_sr=1&from=searchresults#hotelTmpl",
           "Vous pouvez bénéficier d'une réduction Genius dans l'établissement Best Western Plus Le Havre Centre Gare ! Connectez-vous pour économiser.Cet établissement est à 18 minutes à pied de la plage. Situé dans le centre du Havre, à seulement 10 minutes de route de la plage, le Best Western Plus Le Havre Centre Gare est un hôtel design 4 étoiles doté d'une connexion Wi-Fi gratuite.Les chambres disposent d'une salle de bains privative et d'une télévision par satellite à écran plat. Leur salle de bains privative est pourvue d'une baignoire ou d'une douche et d'un sèche-cheveux.Le Best Western at Le Havre Centre Gare sert un petit-déjeuner buffet tous les matins. L'établissement possède également un bar.Honfleur se trouve à seulement 20 minutes de route du Best Western at Le Havre Centre Gare et les villes balnéaires de Trouville et Deauville sont à 45 minutes en voiture. La gare du Havre, située en face de l'établissement, offre un accès direct à Paris.Une offre traiteur signée Boco est disponible à tout moment de la journée : des plats équilibrés et variés préparés par des chefs étoilés à savourer dans notre bar ou dans votre chambre. ",
           99.41428571428573,
           3
          ],
          [
           49.48881105,
           0.10760218,
           "Le Richelieu",
           "https://www.booking.com/hotel/fr/le-richelieu-le-havre.fr.html?label=gen173nr-1FCAEoggI46AdIDVgEaE2IAQGYAQ24ARfIAQ_YAQHoAQH4AQKIAgGoAgO4AtSJ4pIGwAIB0gIkMWMyOTgzZDEtZjVkYS00NmJhLWFiOTctNTM5MmFiZTgyZjVl2AIF4AIB&sid=c0f0407a1e2da13c863358a90e64eb78&aid=304142&ucfs=1&arphpl=1&group_adults=2&req_adults=2&no_rooms=1&group_children=0&req_children=0&hpos=18&hapos=18&sr_order=popularity&srpvid=78bf90700749001e&srepoch=1649968354&from_beach_sr=1&from=searchresults#hotelTmpl",
           "Cet établissement est à 13 minutes à pied de la plage. Le Citotel Le Richelieu est situé entre la mairie et la cathédrale, au cœur du Havre, à seulement 10 minutes à pied de la plage et à 24 km d'Honfleur. Toutes les chambres se trouvent aux étages supérieurs et disposent d'une télévision par satellite, d'une salle de bains privative et d'une connexion Wi-Fi gratuite.Un petit-déjeuner est servi tous les jours dans la salle à manger. L'hôtel met également gratuitement des journaux à votre disposition.L'embarcadère des ferries est accessible à seulement 500 mètres. L'hôtel est situé à proximité de divers restaurants, théâtres et cinémas et à 44 km de Deauville. ",
           99.41428571428573,
           3
          ],
          [
           49.48802872,
           0.09972564,
           "Vivez Le Havre ! Studio en Résidence bord de mer - Port de plaisance - 3 Etoiles",
           "https://www.booking.com/hotel/fr/vivez-le-havre-studio-en-residence-bord-de-mer-port-de-plaisance.fr.html?label=gen173nr-1FCAEoggI46AdIDVgEaE2IAQGYAQ24ARfIAQ_YAQHoAQH4AQKIAgGoAgO4AtSJ4pIGwAIB0gIkMWMyOTgzZDEtZjVkYS00NmJhLWFiOTctNTM5MmFiZTgyZjVl2AIF4AIB&sid=c0f0407a1e2da13c863358a90e64eb78&aid=304142&ucfs=1&arphpl=1&group_adults=2&req_adults=2&no_rooms=1&group_children=0&req_children=0&hpos=19&hapos=19&sr_order=popularity&srpvid=78bf90700749001e&srepoch=1649968354&from_beach_sr=1&from=searchresults#hotelTmpl",
           "Vous pouvez bénéficier d'une réduction Genius dans l'établissement Vivez Le Havre ! Studio en Résidence bord de mer - Port de plaisance - 3 Etoiles ! Connectez-vous pour économiser.Cet établissement est à 15 minutes à pied de la plage. Situé au Havre, à seulement 550 mètres de la plage, le Vivez Le Havre! Le Studio en Résidence bord de mer - Port de plaisance - 3 Etoiles propose un hébergement en bord de mer avec un jardin et une connexion Wi-Fi gratuite. Offrant une vue sur la ville, il se trouve à 200 mètres de l'église Saint-Joseph et à 600 mètres du Volcan.Cet appartement comprend une chambre, une télévision à écran plat, un lave-linge et une salle de bains pourvue d'une douche. Sa cuisine est équipée d'un micro-ondes et d'un réfrigérateur. Les serviettes et le linge de lit sont fournis.Vous séjournerez à proximité de l'appartement témoin Perret, de l'église Saint-Michel et du musée des Beaux-Arts André Malraux. L'aéroport le plus proche, celui de Deauville-Normandie, est situé à 15 km. Studio en. ",
           99.41428571428573,
           3
          ],
          [
           49.49918278,
           0.09396053,
           "Appartement de la plage du Havre",
           "https://www.booking.com/hotel/fr/appartement-de-la-plage-du-havre.fr.html?label=gen173nr-1FCAEoggI46AdIDVgEaE2IAQGYAQ24ARfIAQ_YAQHoAQH4AQKIAgGoAgO4AtSJ4pIGwAIB0gIkMWMyOTgzZDEtZjVkYS00NmJhLWFiOTctNTM5MmFiZTgyZjVl2AIF4AIB&sid=c0f0407a1e2da13c863358a90e64eb78&aid=304142&ucfs=1&arphpl=1&group_adults=2&req_adults=2&no_rooms=1&group_children=0&req_children=0&hpos=20&hapos=20&sr_order=popularity&srpvid=78bf90700749001e&srepoch=1649968354&from_beach_sr=1&from=searchresults#hotelTmpl",
           "Cet établissement est à 2 minutes à pied de la plage. Offrant une vue sur le jardin, l'Appartement de la plage du Havre est situé au Havre, à 250 mètres de la plage et à 1,1 km de l'église Saint-Michel. Il se trouve à 1,2 km du musée des beaux-arts André Malraux et à 2,6 km des docks Vauban.Situé au rez-de-chaussée, cet appartement comprend une chambre, une télévision à écran plat ainsi qu'une cuisine entièrement équipée avec un micro-ondes, un réfrigérateur, un lave-linge, un four et des plaques de cuisson. Les serviettes et le linge de lit sont fournis.Vous séjournerez à proximité de l'église Saint-Joseph, de l'appartement témoin Perret et du Volcan. L'aéroport de Deauville-Normandie, le plus proche, est à 16 km. ",
           99.41428571428573,
           3
          ]
         ],
         "hovertemplate": "<b>%{hovertext}</b><br><br>score=%{marker.color}<br>name=%{customdata[2]}<extra></extra>",
         "hovertext": [
          "Paris",
          "Paris",
          "Paris",
          "Paris",
          "Paris",
          "Paris",
          "Paris",
          "Paris",
          "Paris",
          "Paris",
          "Paris",
          "Paris",
          "Paris",
          "Paris",
          "Paris",
          "Paris",
          "Paris",
          "Paris",
          "Paris",
          "Paris",
          "Amiens",
          "Amiens",
          "Amiens",
          "Amiens",
          "Amiens",
          "Amiens",
          "Amiens",
          "Amiens",
          "Amiens",
          "Amiens",
          "Amiens",
          "Amiens",
          "Amiens",
          "Amiens",
          "Amiens",
          "Amiens",
          "Amiens",
          "Amiens",
          "Amiens",
          "Amiens",
          "Rouen",
          "Rouen",
          "Rouen",
          "Rouen",
          "Rouen",
          "Rouen",
          "Rouen",
          "Rouen",
          "Rouen",
          "Rouen",
          "Rouen",
          "Rouen",
          "Rouen",
          "Rouen",
          "Rouen",
          "Rouen",
          "Rouen",
          "Rouen",
          "Rouen",
          "Rouen",
          "Lille",
          "Lille",
          "Lille",
          "Lille",
          "Lille",
          "Lille",
          "Lille",
          "Lille",
          "Lille",
          "Lille",
          "Lille",
          "Lille",
          "Lille",
          "Lille",
          "Lille",
          "Lille",
          "Lille",
          "Lille",
          "Lille",
          "Lille",
          "Le Havre",
          "Le Havre",
          "Le Havre",
          "Le Havre",
          "Le Havre",
          "Le Havre",
          "Le Havre",
          "Le Havre",
          "Le Havre",
          "Le Havre",
          "Le Havre",
          "Le Havre",
          "Le Havre",
          "Le Havre",
          "Le Havre",
          "Le Havre",
          "Le Havre",
          "Le Havre",
          "Le Havre",
          "Le Havre"
         ],
         "lat": [
          48.88639354,
          48.87434515,
          48.88129894,
          48.8381576,
          48.84659045,
          48.88133015,
          48.86601094,
          48.8592568,
          48.85158544,
          48.88141526,
          48.87606691,
          48.85057501,
          48.8644438,
          48.851244,
          48.846155,
          48.84700437,
          48.8933961,
          48.87911118,
          48.83028,
          48.8552307,
          49.8953831,
          49.887125,
          49.8916762,
          49.891422,
          49.891591,
          49.89571084,
          49.891999,
          49.92513403,
          49.8943163,
          49.89444519,
          49.88977885,
          49.89387632,
          49.9003503,
          49.91856793,
          49.8961025,
          49.90089071,
          49.89448371,
          49.8961025,
          49.893251,
          49.8971517,
          49.4446518,
          49.444544,
          49.43572312,
          49.446441,
          49.44636845,
          49.425341,
          49.444792,
          49.43443341,
          49.4447189,
          49.4459841,
          49.44158357,
          49.44834821,
          49.44306423,
          49.4287748,
          49.44332714,
          49.43948371,
          49.4465452,
          49.44117285,
          49.4460252,
          49.44197641,
          50.62914624,
          50.63788756,
          50.627831,
          50.6281375,
          50.63238245,
          50.63528798,
          50.64241422,
          50.6372416,
          50.63075938,
          50.63654707,
          50.639065,
          50.62851,
          50.63470383,
          50.63728452,
          50.63624596,
          50.63319849,
          50.64082324,
          50.64602156,
          50.64143,
          50.6430864,
          49.498238,
          49.49424468,
          49.4933176,
          49.49164142,
          49.4975339,
          49.49641693,
          49.49008699,
          49.493046,
          49.49308921,
          49.4989977,
          49.4888712,
          49.4848034,
          49.4875707,
          49.48746839,
          49.499155,
          49.4956569,
          49.49334357,
          49.48881105,
          49.48802872,
          49.49918278
         ],
         "legendgroup": "",
         "lon": [
          2.29494631,
          2.28977568,
          2.29480304,
          2.3496155,
          2.28857003,
          2.32741512,
          2.35709757,
          2.3684085,
          2.39082724,
          2.32455321,
          2.34567493,
          2.26743221,
          2.3648845,
          2.327238,
          2.280192,
          2.30141312,
          2.3615899,
          2.3277073,
          2.341702,
          2.3262666,
          2.297772,
          2.295143,
          2.30775386,
          2.304996,
          2.313573,
          2.29956239,
          2.29197,
          2.30457276,
          2.3097612,
          2.30094239,
          2.30249941,
          2.3009108,
          2.3122324,
          2.29331338,
          2.3107899,
          2.29091478,
          2.27680253,
          2.3107899,
          2.304545,
          2.2993158,
          1.0913262,
          1.091178,
          1.10273123,
          1.09412,
          1.08275188,
          1.068718,
          1.0903173,
          1.07183611,
          1.1032992,
          1.0955417,
          1.08144455,
          1.09349504,
          1.08660311,
          1.0809637,
          1.09457396,
          1.08725488,
          1.0929032,
          1.09517545,
          1.0832305,
          1.09243892,
          3.06419907,
          3.072685,
          3.063592,
          3.08142364,
          3.06794286,
          3.06970725,
          3.06787005,
          3.0691052,
          3.05808842,
          3.06234241,
          3.070951,
          3.051873,
          3.07080008,
          3.06844845,
          3.06924239,
          3.07447681,
          3.06491666,
          3.07587147,
          3.06578,
          3.067507,
          0.128837,
          0.14285243,
          0.12530688,
          0.11876017,
          0.09686691,
          0.15151234,
          0.09774696,
          0.124163,
          0.13096154,
          0.1209062,
          0.1113961,
          0.13446,
          0.1108754,
          0.10777236,
          0.1324321,
          0.1169298,
          0.12431771,
          0.10760218,
          0.09972564,
          0.09396053
         ],
         "marker": {
          "color": [
           8.4,
           8.5,
           8,
           8.6,
           8.6,
           8.9,
           8.4,
           8.1,
           8.7,
           8.3,
           8.8,
           8.6,
           8.7,
           8.9,
           5,
           7.4,
           5,
           5,
           5,
           9,
           9.3,
           9.4,
           8.1,
           8.7,
           8.2,
           8.3,
           7.4,
           6.9,
           7.4,
           8.4,
           8.1,
           9,
           8.9,
           6.3,
           9.3,
           9.3,
           8.5,
           9.1,
           7.8,
           5,
           8.8,
           9.1,
           8.2,
           8.9,
           9.1,
           8.5,
           8.7,
           8.1,
           8.4,
           8.7,
           7,
           8.7,
           8.6,
           5,
           8.2,
           7.1,
           9.2,
           8.2,
           9.4,
           8.2,
           8.4,
           8.1,
           8.7,
           7.9,
           7.8,
           7.8,
           7.1,
           5,
           8.1,
           8.5,
           8.5,
           7.2,
           7.9,
           6.2,
           7.9,
           8.2,
           7.6,
           7.9,
           9,
           9,
           8.2,
           8.4,
           8.6,
           8.1,
           8.8,
           7.5,
           8.7,
           7.3,
           6.9,
           8.1,
           8.2,
           8.3,
           8.6,
           9.4,
           8.2,
           9.4,
           8.5,
           7.2,
           9.1,
           5
          ],
          "coloraxis": "coloraxis",
          "size": [
           8.4,
           8.5,
           8,
           8.6,
           8.6,
           8.9,
           8.4,
           8.1,
           8.7,
           8.3,
           8.8,
           8.6,
           8.7,
           8.9,
           5,
           7.4,
           5,
           5,
           5,
           9,
           9.3,
           9.4,
           8.1,
           8.7,
           8.2,
           8.3,
           7.4,
           6.9,
           7.4,
           8.4,
           8.1,
           9,
           8.9,
           6.3,
           9.3,
           9.3,
           8.5,
           9.1,
           7.8,
           5,
           8.8,
           9.1,
           8.2,
           8.9,
           9.1,
           8.5,
           8.7,
           8.1,
           8.4,
           8.7,
           7,
           8.7,
           8.6,
           5,
           8.2,
           7.1,
           9.2,
           8.2,
           9.4,
           8.2,
           8.4,
           8.1,
           8.7,
           7.9,
           7.8,
           7.8,
           7.1,
           5,
           8.1,
           8.5,
           8.5,
           7.2,
           7.9,
           6.2,
           7.9,
           8.2,
           7.6,
           7.9,
           9,
           9,
           8.2,
           8.4,
           8.6,
           8.1,
           8.8,
           7.5,
           8.7,
           7.3,
           6.9,
           8.1,
           8.2,
           8.3,
           8.6,
           9.4,
           8.2,
           9.4,
           8.5,
           7.2,
           9.1,
           5
          ],
          "sizemode": "area",
          "sizeref": 0.015040000000000001
         },
         "mode": "markers",
         "name": "",
         "showlegend": false,
         "subplot": "mapbox",
         "type": "scattermapbox"
        }
       ],
       "layout": {
        "coloraxis": {
         "cmax": 9.4,
         "cmin": 5,
         "colorbar": {
          "title": {
           "text": "score"
          }
         },
         "colorscale": [
          [
           0,
           "rgb(165,0,38)"
          ],
          [
           0.1,
           "rgb(215,48,39)"
          ],
          [
           0.2,
           "rgb(244,109,67)"
          ],
          [
           0.3,
           "rgb(253,174,97)"
          ],
          [
           0.4,
           "rgb(254,224,139)"
          ],
          [
           0.5,
           "rgb(255,255,191)"
          ],
          [
           0.6,
           "rgb(217,239,139)"
          ],
          [
           0.7,
           "rgb(166,217,106)"
          ],
          [
           0.8,
           "rgb(102,189,99)"
          ],
          [
           0.9,
           "rgb(26,152,80)"
          ],
          [
           1,
           "rgb(0,104,55)"
          ]
         ]
        },
        "height": 800,
        "legend": {
         "itemsizing": "constant",
         "tracegroupgap": 0
        },
        "mapbox": {
         "accesstoken": "pk.eyJ1Ijoidm9ud2VuIiwiYSI6ImNsMWM0dmZnazA0N2gzZG8wa2N1OTM0ZDEifQ.lCZ3DFaUYPS5XIJCWi6yNA",
         "center": {
          "lat": 49.666100567600004,
          "lon": 1.7807238419999998
         },
         "domain": {
          "x": [
           0,
           1
          ],
          "y": [
           0,
           1
          ]
         },
         "zoom": 4.7
        },
        "margin": {
         "t": 60
        },
        "template": {
         "data": {
          "bar": [
           {
            "error_x": {
             "color": "#f2f5fa"
            },
            "error_y": {
             "color": "#f2f5fa"
            },
            "marker": {
             "line": {
              "color": "rgb(17,17,17)",
              "width": 0.5
             },
             "pattern": {
              "fillmode": "overlay",
              "size": 10,
              "solidity": 0.2
             }
            },
            "type": "bar"
           }
          ],
          "barpolar": [
           {
            "marker": {
             "line": {
              "color": "rgb(17,17,17)",
              "width": 0.5
             },
             "pattern": {
              "fillmode": "overlay",
              "size": 10,
              "solidity": 0.2
             }
            },
            "type": "barpolar"
           }
          ],
          "carpet": [
           {
            "aaxis": {
             "endlinecolor": "#A2B1C6",
             "gridcolor": "#506784",
             "linecolor": "#506784",
             "minorgridcolor": "#506784",
             "startlinecolor": "#A2B1C6"
            },
            "baxis": {
             "endlinecolor": "#A2B1C6",
             "gridcolor": "#506784",
             "linecolor": "#506784",
             "minorgridcolor": "#506784",
             "startlinecolor": "#A2B1C6"
            },
            "type": "carpet"
           }
          ],
          "choropleth": [
           {
            "colorbar": {
             "outlinewidth": 0,
             "ticks": ""
            },
            "type": "choropleth"
           }
          ],
          "contour": [
           {
            "colorbar": {
             "outlinewidth": 0,
             "ticks": ""
            },
            "colorscale": [
             [
              0,
              "#0d0887"
             ],
             [
              0.1111111111111111,
              "#46039f"
             ],
             [
              0.2222222222222222,
              "#7201a8"
             ],
             [
              0.3333333333333333,
              "#9c179e"
             ],
             [
              0.4444444444444444,
              "#bd3786"
             ],
             [
              0.5555555555555556,
              "#d8576b"
             ],
             [
              0.6666666666666666,
              "#ed7953"
             ],
             [
              0.7777777777777778,
              "#fb9f3a"
             ],
             [
              0.8888888888888888,
              "#fdca26"
             ],
             [
              1,
              "#f0f921"
             ]
            ],
            "type": "contour"
           }
          ],
          "contourcarpet": [
           {
            "colorbar": {
             "outlinewidth": 0,
             "ticks": ""
            },
            "type": "contourcarpet"
           }
          ],
          "heatmap": [
           {
            "colorbar": {
             "outlinewidth": 0,
             "ticks": ""
            },
            "colorscale": [
             [
              0,
              "#0d0887"
             ],
             [
              0.1111111111111111,
              "#46039f"
             ],
             [
              0.2222222222222222,
              "#7201a8"
             ],
             [
              0.3333333333333333,
              "#9c179e"
             ],
             [
              0.4444444444444444,
              "#bd3786"
             ],
             [
              0.5555555555555556,
              "#d8576b"
             ],
             [
              0.6666666666666666,
              "#ed7953"
             ],
             [
              0.7777777777777778,
              "#fb9f3a"
             ],
             [
              0.8888888888888888,
              "#fdca26"
             ],
             [
              1,
              "#f0f921"
             ]
            ],
            "type": "heatmap"
           }
          ],
          "heatmapgl": [
           {
            "colorbar": {
             "outlinewidth": 0,
             "ticks": ""
            },
            "colorscale": [
             [
              0,
              "#0d0887"
             ],
             [
              0.1111111111111111,
              "#46039f"
             ],
             [
              0.2222222222222222,
              "#7201a8"
             ],
             [
              0.3333333333333333,
              "#9c179e"
             ],
             [
              0.4444444444444444,
              "#bd3786"
             ],
             [
              0.5555555555555556,
              "#d8576b"
             ],
             [
              0.6666666666666666,
              "#ed7953"
             ],
             [
              0.7777777777777778,
              "#fb9f3a"
             ],
             [
              0.8888888888888888,
              "#fdca26"
             ],
             [
              1,
              "#f0f921"
             ]
            ],
            "type": "heatmapgl"
           }
          ],
          "histogram": [
           {
            "marker": {
             "pattern": {
              "fillmode": "overlay",
              "size": 10,
              "solidity": 0.2
             }
            },
            "type": "histogram"
           }
          ],
          "histogram2d": [
           {
            "colorbar": {
             "outlinewidth": 0,
             "ticks": ""
            },
            "colorscale": [
             [
              0,
              "#0d0887"
             ],
             [
              0.1111111111111111,
              "#46039f"
             ],
             [
              0.2222222222222222,
              "#7201a8"
             ],
             [
              0.3333333333333333,
              "#9c179e"
             ],
             [
              0.4444444444444444,
              "#bd3786"
             ],
             [
              0.5555555555555556,
              "#d8576b"
             ],
             [
              0.6666666666666666,
              "#ed7953"
             ],
             [
              0.7777777777777778,
              "#fb9f3a"
             ],
             [
              0.8888888888888888,
              "#fdca26"
             ],
             [
              1,
              "#f0f921"
             ]
            ],
            "type": "histogram2d"
           }
          ],
          "histogram2dcontour": [
           {
            "colorbar": {
             "outlinewidth": 0,
             "ticks": ""
            },
            "colorscale": [
             [
              0,
              "#0d0887"
             ],
             [
              0.1111111111111111,
              "#46039f"
             ],
             [
              0.2222222222222222,
              "#7201a8"
             ],
             [
              0.3333333333333333,
              "#9c179e"
             ],
             [
              0.4444444444444444,
              "#bd3786"
             ],
             [
              0.5555555555555556,
              "#d8576b"
             ],
             [
              0.6666666666666666,
              "#ed7953"
             ],
             [
              0.7777777777777778,
              "#fb9f3a"
             ],
             [
              0.8888888888888888,
              "#fdca26"
             ],
             [
              1,
              "#f0f921"
             ]
            ],
            "type": "histogram2dcontour"
           }
          ],
          "mesh3d": [
           {
            "colorbar": {
             "outlinewidth": 0,
             "ticks": ""
            },
            "type": "mesh3d"
           }
          ],
          "parcoords": [
           {
            "line": {
             "colorbar": {
              "outlinewidth": 0,
              "ticks": ""
             }
            },
            "type": "parcoords"
           }
          ],
          "pie": [
           {
            "automargin": true,
            "type": "pie"
           }
          ],
          "scatter": [
           {
            "marker": {
             "line": {
              "color": "#283442"
             }
            },
            "type": "scatter"
           }
          ],
          "scatter3d": [
           {
            "line": {
             "colorbar": {
              "outlinewidth": 0,
              "ticks": ""
             }
            },
            "marker": {
             "colorbar": {
              "outlinewidth": 0,
              "ticks": ""
             }
            },
            "type": "scatter3d"
           }
          ],
          "scattercarpet": [
           {
            "marker": {
             "colorbar": {
              "outlinewidth": 0,
              "ticks": ""
             }
            },
            "type": "scattercarpet"
           }
          ],
          "scattergeo": [
           {
            "marker": {
             "colorbar": {
              "outlinewidth": 0,
              "ticks": ""
             }
            },
            "type": "scattergeo"
           }
          ],
          "scattergl": [
           {
            "marker": {
             "line": {
              "color": "#283442"
             }
            },
            "type": "scattergl"
           }
          ],
          "scattermapbox": [
           {
            "marker": {
             "colorbar": {
              "outlinewidth": 0,
              "ticks": ""
             }
            },
            "type": "scattermapbox"
           }
          ],
          "scatterpolar": [
           {
            "marker": {
             "colorbar": {
              "outlinewidth": 0,
              "ticks": ""
             }
            },
            "type": "scatterpolar"
           }
          ],
          "scatterpolargl": [
           {
            "marker": {
             "colorbar": {
              "outlinewidth": 0,
              "ticks": ""
             }
            },
            "type": "scatterpolargl"
           }
          ],
          "scatterternary": [
           {
            "marker": {
             "colorbar": {
              "outlinewidth": 0,
              "ticks": ""
             }
            },
            "type": "scatterternary"
           }
          ],
          "surface": [
           {
            "colorbar": {
             "outlinewidth": 0,
             "ticks": ""
            },
            "colorscale": [
             [
              0,
              "#0d0887"
             ],
             [
              0.1111111111111111,
              "#46039f"
             ],
             [
              0.2222222222222222,
              "#7201a8"
             ],
             [
              0.3333333333333333,
              "#9c179e"
             ],
             [
              0.4444444444444444,
              "#bd3786"
             ],
             [
              0.5555555555555556,
              "#d8576b"
             ],
             [
              0.6666666666666666,
              "#ed7953"
             ],
             [
              0.7777777777777778,
              "#fb9f3a"
             ],
             [
              0.8888888888888888,
              "#fdca26"
             ],
             [
              1,
              "#f0f921"
             ]
            ],
            "type": "surface"
           }
          ],
          "table": [
           {
            "cells": {
             "fill": {
              "color": "#506784"
             },
             "line": {
              "color": "rgb(17,17,17)"
             }
            },
            "header": {
             "fill": {
              "color": "#2a3f5f"
             },
             "line": {
              "color": "rgb(17,17,17)"
             }
            },
            "type": "table"
           }
          ]
         },
         "layout": {
          "annotationdefaults": {
           "arrowcolor": "#f2f5fa",
           "arrowhead": 0,
           "arrowwidth": 1
          },
          "autotypenumbers": "strict",
          "coloraxis": {
           "colorbar": {
            "outlinewidth": 0,
            "ticks": ""
           }
          },
          "colorscale": {
           "diverging": [
            [
             0,
             "#8e0152"
            ],
            [
             0.1,
             "#c51b7d"
            ],
            [
             0.2,
             "#de77ae"
            ],
            [
             0.3,
             "#f1b6da"
            ],
            [
             0.4,
             "#fde0ef"
            ],
            [
             0.5,
             "#f7f7f7"
            ],
            [
             0.6,
             "#e6f5d0"
            ],
            [
             0.7,
             "#b8e186"
            ],
            [
             0.8,
             "#7fbc41"
            ],
            [
             0.9,
             "#4d9221"
            ],
            [
             1,
             "#276419"
            ]
           ],
           "sequential": [
            [
             0,
             "#0d0887"
            ],
            [
             0.1111111111111111,
             "#46039f"
            ],
            [
             0.2222222222222222,
             "#7201a8"
            ],
            [
             0.3333333333333333,
             "#9c179e"
            ],
            [
             0.4444444444444444,
             "#bd3786"
            ],
            [
             0.5555555555555556,
             "#d8576b"
            ],
            [
             0.6666666666666666,
             "#ed7953"
            ],
            [
             0.7777777777777778,
             "#fb9f3a"
            ],
            [
             0.8888888888888888,
             "#fdca26"
            ],
            [
             1,
             "#f0f921"
            ]
           ],
           "sequentialminus": [
            [
             0,
             "#0d0887"
            ],
            [
             0.1111111111111111,
             "#46039f"
            ],
            [
             0.2222222222222222,
             "#7201a8"
            ],
            [
             0.3333333333333333,
             "#9c179e"
            ],
            [
             0.4444444444444444,
             "#bd3786"
            ],
            [
             0.5555555555555556,
             "#d8576b"
            ],
            [
             0.6666666666666666,
             "#ed7953"
            ],
            [
             0.7777777777777778,
             "#fb9f3a"
            ],
            [
             0.8888888888888888,
             "#fdca26"
            ],
            [
             1,
             "#f0f921"
            ]
           ]
          },
          "colorway": [
           "#636efa",
           "#EF553B",
           "#00cc96",
           "#ab63fa",
           "#FFA15A",
           "#19d3f3",
           "#FF6692",
           "#B6E880",
           "#FF97FF",
           "#FECB52"
          ],
          "font": {
           "color": "#f2f5fa"
          },
          "geo": {
           "bgcolor": "rgb(17,17,17)",
           "lakecolor": "rgb(17,17,17)",
           "landcolor": "rgb(17,17,17)",
           "showlakes": true,
           "showland": true,
           "subunitcolor": "#506784"
          },
          "hoverlabel": {
           "align": "left"
          },
          "hovermode": "closest",
          "mapbox": {
           "style": "dark"
          },
          "paper_bgcolor": "rgb(17,17,17)",
          "plot_bgcolor": "rgb(17,17,17)",
          "polar": {
           "angularaxis": {
            "gridcolor": "#506784",
            "linecolor": "#506784",
            "ticks": ""
           },
           "bgcolor": "rgb(17,17,17)",
           "radialaxis": {
            "gridcolor": "#506784",
            "linecolor": "#506784",
            "ticks": ""
           }
          },
          "scene": {
           "xaxis": {
            "backgroundcolor": "rgb(17,17,17)",
            "gridcolor": "#506784",
            "gridwidth": 2,
            "linecolor": "#506784",
            "showbackground": true,
            "ticks": "",
            "zerolinecolor": "#C8D4E3"
           },
           "yaxis": {
            "backgroundcolor": "rgb(17,17,17)",
            "gridcolor": "#506784",
            "gridwidth": 2,
            "linecolor": "#506784",
            "showbackground": true,
            "ticks": "",
            "zerolinecolor": "#C8D4E3"
           },
           "zaxis": {
            "backgroundcolor": "rgb(17,17,17)",
            "gridcolor": "#506784",
            "gridwidth": 2,
            "linecolor": "#506784",
            "showbackground": true,
            "ticks": "",
            "zerolinecolor": "#C8D4E3"
           }
          },
          "shapedefaults": {
           "line": {
            "color": "#f2f5fa"
           }
          },
          "sliderdefaults": {
           "bgcolor": "#C8D4E3",
           "bordercolor": "rgb(17,17,17)",
           "borderwidth": 1,
           "tickwidth": 0
          },
          "ternary": {
           "aaxis": {
            "gridcolor": "#506784",
            "linecolor": "#506784",
            "ticks": ""
           },
           "baxis": {
            "gridcolor": "#506784",
            "linecolor": "#506784",
            "ticks": ""
           },
           "bgcolor": "rgb(17,17,17)",
           "caxis": {
            "gridcolor": "#506784",
            "linecolor": "#506784",
            "ticks": ""
           }
          },
          "title": {
           "x": 0.05
          },
          "updatemenudefaults": {
           "bgcolor": "#506784",
           "borderwidth": 0
          },
          "xaxis": {
           "automargin": true,
           "gridcolor": "#283442",
           "linecolor": "#506784",
           "ticks": "",
           "title": {
            "standoff": 15
           },
           "zerolinecolor": "#283442",
           "zerolinewidth": 2
          },
          "yaxis": {
           "automargin": true,
           "gridcolor": "#283442",
           "linecolor": "#506784",
           "ticks": "",
           "title": {
            "standoff": 15
           },
           "zerolinecolor": "#283442",
           "zerolinewidth": 2
          }
         }
        },
        "title": {
         "text": "20 best hotels from the 5 cities with the best weather",
         "x": 0.5
        },
        "width": 1100
       }
      }
     },
     "metadata": {},
     "output_type": "display_data"
    }
   ],
   "source": [
    "# Creating a plotly scatter mapbox showing the 20 hotels from the previous 5 top cities\n",
    "px.set_mapbox_access_token(open(\".mapbox_token\").read())\n",
    "\n",
    "fig = px.scatter_mapbox(\n",
    "    df_hotels_full[:100],\n",
    "    lat='lat_hotels',\n",
    "    lon='lon_hotels',\n",
    "    color='score',\n",
    "    color_continuous_scale=px.colors.diverging.RdYlGn,\n",
    "    size='score',\n",
    "    size_max=25,\n",
    "    zoom=4.7,\n",
    "    range_color = [min(df_hotels_full[:100]['score']), max(df_hotels_full[:100]['score'])],\n",
    "    hover_name='city',\n",
    "    hover_data={\n",
    "        'lat_hotels': False,\n",
    "        'lon_hotels': False,\n",
    "        'name': True,\n",
    "        'url': False,\n",
    "        'description': False,\n",
    "        'score_weather': False,\n",
    "        'id': False,\n",
    "        },\n",
    ")\n",
    "\n",
    "fig.update_layout(\n",
    "    width = 1100,\n",
    "    height = 800,\n",
    "    template='plotly_dark',\n",
    "    title_x=0.5,\n",
    "    title_text='20 best hotels from the 5 cities with the best weather')\n",
    "fig.show()"
   ]
  },
  {
   "cell_type": "code",
   "execution_count": null,
   "metadata": {},
   "outputs": [],
   "source": [
    "# with st.sidebar:\n",
    "#     'Click here to refresh the data from OpenWeather (once per hour maximum).'\n",
    "#     if st.button('Refresh Weather Data'):\n",
    "#         now_2 = datetime.datetime.now()\n",
    "#         delta = now_2 - now_1\n",
    "#         if delta.seconds >= 3600:\n",
    "#             df_s3 = load_data()\n",
    "#             df = get_weather_data(df_s3)\n",
    "#             df_weather_full = weather_data(df)\n",
    "#             df_hotels_full = hotel_data(df)\n",
    "#             now_1 = now_2\n",
    "#             now_string_1 = now_1.strftime(\"%d/%m/%Y %H:%M:%S\")\n",
    "#             st.write('Last refresh:', now_string_1)\n",
    "#         else:\n",
    "#             st.write('Please wait at least one hour before refreshing.')\n",
    "#             st.write('Last refresh:', now_string_1)\n",
    "#     else:\n",
    "#         st.write('Last refresh:', now_string_1)"
   ]
  }
 ],
 "metadata": {
  "interpreter": {
   "hash": "398748c372d42d99dcfa9ac8f694c5d292e22baf2e524ae29249ce2ce8b32818"
  },
  "kernelspec": {
   "display_name": "Python 3.9.10 ('base')",
   "language": "python",
   "name": "python3"
  },
  "language_info": {
   "codemirror_mode": {
    "name": "ipython",
    "version": 3
   },
   "file_extension": ".py",
   "mimetype": "text/x-python",
   "name": "python",
   "nbconvert_exporter": "python",
   "pygments_lexer": "ipython3",
   "version": "3.9.12"
  },
  "orig_nbformat": 4
 },
 "nbformat": 4,
 "nbformat_minor": 2
}
