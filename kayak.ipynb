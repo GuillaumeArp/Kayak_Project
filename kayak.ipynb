{
 "cells": [
  {
   "cell_type": "markdown",
   "metadata": {},
   "source": [
    "# Kayak Project"
   ]
  },
  {
   "cell_type": "markdown",
   "metadata": {},
   "source": [
    "## Imports"
   ]
  },
  {
   "cell_type": "code",
   "execution_count": 2,
   "metadata": {},
   "outputs": [],
   "source": [
    "import pandas as pd\n",
    "import numpy as np\n",
    "import plotly.express as px\n",
    "import requests\n",
    "from dotenv import load_dotenv\n",
    "import os\n",
    "import logging\n",
    "import scrapy\n",
    "from scrapy.crawler import CrawlerProcess\n",
    "from bs4 import BeautifulSoup\n",
    "import requests\n",
    "import time\n",
    "import boto3\n",
    "\n",
    "load_dotenv()\n",
    "%load_ext dotenv\n",
    "%dotenv\n",
    "\n",
    "# Openweathermap API\n",
    "key = os.getenv('APIKEY')\n",
    "# RDS Connection\n",
    "DBHOST = os.getenv(\"DBHOST\")\n",
    "DBUSER = os.getenv(\"DBUSER\")\n",
    "DBPASS = os.getenv(\"DBPASS\")\n",
    "DBNAME = os.getenv(\"DBNAME\")"
   ]
  },
  {
   "cell_type": "code",
   "execution_count": 12,
   "metadata": {},
   "outputs": [],
   "source": [
    "# Importing the cities list\n",
    "cities = [\"Mont Saint Michel\", \"St Malo\", \"Bayeux\", \"Le Havre\", \"Rouen\", \"Paris\", \"Amiens\", \"Lille\", \"Strasbourg\", \"Chateau du Haut Koenigsbourg\", \"Colmar\", \"Eguisheim\", \"Besancon\", \"Dijon\", \"Annecy\", \"Grenoble\", \"Lyon\", \"Gorges du Verdon\", \"Bormes les Mimosas\", \"Cassis\", \"Marseille\", \"Aix en Provence\", \"Avignon\", \"Uzes\", \"Nimes\", \"Aigues Mortes\", \"Saintes Maries de la mer\", \"Collioure\", \"Carcassonne\", \"Ariege\", \"Toulouse\", \"Montauban\", \"Biarritz\", \"Bayonne\", \"La Rochelle\"]"
   ]
  },
  {
   "cell_type": "code",
   "execution_count": 13,
   "metadata": {},
   "outputs": [
    {
     "data": {
      "text/html": [
       "<div>\n",
       "<style scoped>\n",
       "    .dataframe tbody tr th:only-of-type {\n",
       "        vertical-align: middle;\n",
       "    }\n",
       "\n",
       "    .dataframe tbody tr th {\n",
       "        vertical-align: top;\n",
       "    }\n",
       "\n",
       "    .dataframe thead th {\n",
       "        text-align: right;\n",
       "    }\n",
       "</style>\n",
       "<table border=\"1\" class=\"dataframe\">\n",
       "  <thead>\n",
       "    <tr style=\"text-align: right;\">\n",
       "      <th></th>\n",
       "      <th>id</th>\n",
       "      <th>city</th>\n",
       "    </tr>\n",
       "  </thead>\n",
       "  <tbody>\n",
       "    <tr>\n",
       "      <th>0</th>\n",
       "      <td>0</td>\n",
       "      <td>Mont Saint Michel</td>\n",
       "    </tr>\n",
       "    <tr>\n",
       "      <th>1</th>\n",
       "      <td>1</td>\n",
       "      <td>St Malo</td>\n",
       "    </tr>\n",
       "    <tr>\n",
       "      <th>2</th>\n",
       "      <td>2</td>\n",
       "      <td>Bayeux</td>\n",
       "    </tr>\n",
       "    <tr>\n",
       "      <th>3</th>\n",
       "      <td>3</td>\n",
       "      <td>Le Havre</td>\n",
       "    </tr>\n",
       "    <tr>\n",
       "      <th>4</th>\n",
       "      <td>4</td>\n",
       "      <td>Rouen</td>\n",
       "    </tr>\n",
       "    <tr>\n",
       "      <th>5</th>\n",
       "      <td>5</td>\n",
       "      <td>Paris</td>\n",
       "    </tr>\n",
       "    <tr>\n",
       "      <th>6</th>\n",
       "      <td>6</td>\n",
       "      <td>Amiens</td>\n",
       "    </tr>\n",
       "    <tr>\n",
       "      <th>7</th>\n",
       "      <td>7</td>\n",
       "      <td>Lille</td>\n",
       "    </tr>\n",
       "    <tr>\n",
       "      <th>8</th>\n",
       "      <td>8</td>\n",
       "      <td>Strasbourg</td>\n",
       "    </tr>\n",
       "    <tr>\n",
       "      <th>9</th>\n",
       "      <td>9</td>\n",
       "      <td>Chateau du Haut Koenigsbourg</td>\n",
       "    </tr>\n",
       "    <tr>\n",
       "      <th>10</th>\n",
       "      <td>10</td>\n",
       "      <td>Colmar</td>\n",
       "    </tr>\n",
       "    <tr>\n",
       "      <th>11</th>\n",
       "      <td>11</td>\n",
       "      <td>Eguisheim</td>\n",
       "    </tr>\n",
       "    <tr>\n",
       "      <th>12</th>\n",
       "      <td>12</td>\n",
       "      <td>Besancon</td>\n",
       "    </tr>\n",
       "    <tr>\n",
       "      <th>13</th>\n",
       "      <td>13</td>\n",
       "      <td>Dijon</td>\n",
       "    </tr>\n",
       "    <tr>\n",
       "      <th>14</th>\n",
       "      <td>14</td>\n",
       "      <td>Annecy</td>\n",
       "    </tr>\n",
       "    <tr>\n",
       "      <th>15</th>\n",
       "      <td>15</td>\n",
       "      <td>Grenoble</td>\n",
       "    </tr>\n",
       "    <tr>\n",
       "      <th>16</th>\n",
       "      <td>16</td>\n",
       "      <td>Lyon</td>\n",
       "    </tr>\n",
       "    <tr>\n",
       "      <th>17</th>\n",
       "      <td>17</td>\n",
       "      <td>Gorges du Verdon</td>\n",
       "    </tr>\n",
       "    <tr>\n",
       "      <th>18</th>\n",
       "      <td>18</td>\n",
       "      <td>Bormes les Mimosas</td>\n",
       "    </tr>\n",
       "    <tr>\n",
       "      <th>19</th>\n",
       "      <td>19</td>\n",
       "      <td>Cassis</td>\n",
       "    </tr>\n",
       "    <tr>\n",
       "      <th>20</th>\n",
       "      <td>20</td>\n",
       "      <td>Marseille</td>\n",
       "    </tr>\n",
       "    <tr>\n",
       "      <th>21</th>\n",
       "      <td>21</td>\n",
       "      <td>Aix en Provence</td>\n",
       "    </tr>\n",
       "    <tr>\n",
       "      <th>22</th>\n",
       "      <td>22</td>\n",
       "      <td>Avignon</td>\n",
       "    </tr>\n",
       "    <tr>\n",
       "      <th>23</th>\n",
       "      <td>23</td>\n",
       "      <td>Uzes</td>\n",
       "    </tr>\n",
       "    <tr>\n",
       "      <th>24</th>\n",
       "      <td>24</td>\n",
       "      <td>Nimes</td>\n",
       "    </tr>\n",
       "    <tr>\n",
       "      <th>25</th>\n",
       "      <td>25</td>\n",
       "      <td>Aigues Mortes</td>\n",
       "    </tr>\n",
       "    <tr>\n",
       "      <th>26</th>\n",
       "      <td>26</td>\n",
       "      <td>Saintes Maries de la mer</td>\n",
       "    </tr>\n",
       "    <tr>\n",
       "      <th>27</th>\n",
       "      <td>27</td>\n",
       "      <td>Collioure</td>\n",
       "    </tr>\n",
       "    <tr>\n",
       "      <th>28</th>\n",
       "      <td>28</td>\n",
       "      <td>Carcassonne</td>\n",
       "    </tr>\n",
       "    <tr>\n",
       "      <th>29</th>\n",
       "      <td>29</td>\n",
       "      <td>Ariege</td>\n",
       "    </tr>\n",
       "    <tr>\n",
       "      <th>30</th>\n",
       "      <td>30</td>\n",
       "      <td>Toulouse</td>\n",
       "    </tr>\n",
       "    <tr>\n",
       "      <th>31</th>\n",
       "      <td>31</td>\n",
       "      <td>Montauban</td>\n",
       "    </tr>\n",
       "    <tr>\n",
       "      <th>32</th>\n",
       "      <td>32</td>\n",
       "      <td>Biarritz</td>\n",
       "    </tr>\n",
       "    <tr>\n",
       "      <th>33</th>\n",
       "      <td>33</td>\n",
       "      <td>Bayonne</td>\n",
       "    </tr>\n",
       "    <tr>\n",
       "      <th>34</th>\n",
       "      <td>34</td>\n",
       "      <td>La Rochelle</td>\n",
       "    </tr>\n",
       "  </tbody>\n",
       "</table>\n",
       "</div>"
      ],
      "text/plain": [
       "    id                          city\n",
       "0    0             Mont Saint Michel\n",
       "1    1                       St Malo\n",
       "2    2                        Bayeux\n",
       "3    3                      Le Havre\n",
       "4    4                         Rouen\n",
       "5    5                         Paris\n",
       "6    6                        Amiens\n",
       "7    7                         Lille\n",
       "8    8                    Strasbourg\n",
       "9    9  Chateau du Haut Koenigsbourg\n",
       "10  10                        Colmar\n",
       "11  11                     Eguisheim\n",
       "12  12                      Besancon\n",
       "13  13                         Dijon\n",
       "14  14                        Annecy\n",
       "15  15                      Grenoble\n",
       "16  16                          Lyon\n",
       "17  17              Gorges du Verdon\n",
       "18  18            Bormes les Mimosas\n",
       "19  19                        Cassis\n",
       "20  20                     Marseille\n",
       "21  21               Aix en Provence\n",
       "22  22                       Avignon\n",
       "23  23                          Uzes\n",
       "24  24                         Nimes\n",
       "25  25                 Aigues Mortes\n",
       "26  26      Saintes Maries de la mer\n",
       "27  27                     Collioure\n",
       "28  28                   Carcassonne\n",
       "29  29                        Ariege\n",
       "30  30                      Toulouse\n",
       "31  31                     Montauban\n",
       "32  32                      Biarritz\n",
       "33  33                       Bayonne\n",
       "34  34                   La Rochelle"
      ]
     },
     "execution_count": 13,
     "metadata": {},
     "output_type": "execute_result"
    }
   ],
   "source": [
    "# Creating a dataframe with the cities list\n",
    "df_cities = pd.DataFrame(columns=[\"city\"])\n",
    "df_cities['city'] = cities\n",
    "df_cities.reset_index(inplace=True)\n",
    "df_cities.rename(columns={'index': 'id'}, inplace=True)\n",
    "df_cities"
   ]
  },
  {
   "cell_type": "markdown",
   "metadata": {},
   "source": [
    "## Scraping Booking.com"
   ]
  },
  {
   "cell_type": "code",
   "execution_count": 5,
   "metadata": {},
   "outputs": [],
   "source": [
    "# Creating a copy of the dataframe\n",
    "df_booking = df_cities.copy(deep=True)\n",
    "\n",
    "# Defining the spider class\n",
    "class BookingSpider(scrapy.Spider):\n",
    "    name = \"Booking_data\"\n",
    "    cities = df_booking[\"city\"]\n",
    "    start_urls = ['https://www.booking.com/index.fr.html']\n",
    "\n",
    "    def parse(self, response):\n",
    "        for i in cities:\n",
    "            yield scrapy.FormRequest.from_response(\n",
    "            response,\n",
    "            formdata={'ss': i },\n",
    "            callback=self.after_search\n",
    "        )\n",
    "    # Important note: the classes names change often and may not be correct at a later date\n",
    "    def after_search(self, response):\n",
    "        cities = response.url.split(\"ss=\")[-1].split(\"&\")[0]\n",
    "                \n",
    "        booking = response.css('.d4924c9e74')\n",
    "        \n",
    "        for k in booking:\n",
    "            \n",
    "            yield {\n",
    "                'location': cities,\n",
    "                'name': k.css('a div.fcab3ed991.a23c043802::text').getall(),\n",
    "                'url': k.css('h3.a4225678b2 a::attr(href)').getall(),\n",
    "            }\n",
    "\n",
    "        try:\n",
    "            next_page = response.css('a.paging-next').attrib[\"href\"]\n",
    "        except KeyError:\n",
    "            logging.info('No next page. Terminating crawling process.')\n",
    "        else:\n",
    "            yield response.follow(next_page, callback=self.after_search)"
   ]
  },
  {
   "cell_type": "code",
   "execution_count": 5,
   "metadata": {},
   "outputs": [
    {
     "name": "stderr",
     "output_type": "stream",
     "text": [
      "2022-04-14 22:32:20 [scrapy.utils.log] INFO: Scrapy 2.6.1 started (bot: scrapybot)\n",
      "2022-04-14 22:32:20 [scrapy.utils.log] INFO: Versions: lxml 4.8.0.0, libxml2 2.9.12, cssselect 1.1.0, parsel 1.6.0, w3lib 1.22.0, Twisted 22.2.0, Python 3.9.11 (main, Mar 29 2022, 19:08:29) - [GCC 7.5.0], pyOpenSSL 22.0.0 (OpenSSL 1.1.1n  15 Mar 2022), cryptography 36.0.0, Platform Linux-5.13.0-39-generic-x86_64-with-glibc2.31\n",
      "2022-04-14 22:32:20 [scrapy.crawler] INFO: Overridden settings:\n",
      "{'AUTOTHROTTLE_ENABLED': True,\n",
      " 'LOG_LEVEL': 20,\n",
      " 'USER_AGENT': 'Mozilla/5.0 (Windows NT 10.0; Win64; x64; rv:92.0) '\n",
      "               'Gecko/20100101 Firefox/92.0'}\n",
      "2022-04-14 22:32:20 [scrapy.extensions.telnet] INFO: Telnet Password: fae05b61e55cb43f\n",
      "2022-04-14 22:32:20 [scrapy.middleware] INFO: Enabled extensions:\n",
      "['scrapy.extensions.corestats.CoreStats',\n",
      " 'scrapy.extensions.telnet.TelnetConsole',\n",
      " 'scrapy.extensions.memusage.MemoryUsage',\n",
      " 'scrapy.extensions.feedexport.FeedExporter',\n",
      " 'scrapy.extensions.logstats.LogStats',\n",
      " 'scrapy.extensions.throttle.AutoThrottle']\n",
      "2022-04-14 22:32:20 [scrapy.middleware] INFO: Enabled downloader middlewares:\n",
      "['scrapy.downloadermiddlewares.httpauth.HttpAuthMiddleware',\n",
      " 'scrapy.downloadermiddlewares.downloadtimeout.DownloadTimeoutMiddleware',\n",
      " 'scrapy.downloadermiddlewares.defaultheaders.DefaultHeadersMiddleware',\n",
      " 'scrapy.downloadermiddlewares.useragent.UserAgentMiddleware',\n",
      " 'scrapy.downloadermiddlewares.retry.RetryMiddleware',\n",
      " 'scrapy.downloadermiddlewares.redirect.MetaRefreshMiddleware',\n",
      " 'scrapy.downloadermiddlewares.httpcompression.HttpCompressionMiddleware',\n",
      " 'scrapy.downloadermiddlewares.redirect.RedirectMiddleware',\n",
      " 'scrapy.downloadermiddlewares.cookies.CookiesMiddleware',\n",
      " 'scrapy.downloadermiddlewares.httpproxy.HttpProxyMiddleware',\n",
      " 'scrapy.downloadermiddlewares.stats.DownloaderStats']\n",
      "2022-04-14 22:32:20 [scrapy.middleware] INFO: Enabled spider middlewares:\n",
      "['scrapy.spidermiddlewares.httperror.HttpErrorMiddleware',\n",
      " 'scrapy.spidermiddlewares.offsite.OffsiteMiddleware',\n",
      " 'scrapy.spidermiddlewares.referer.RefererMiddleware',\n",
      " 'scrapy.spidermiddlewares.urllength.UrlLengthMiddleware',\n",
      " 'scrapy.spidermiddlewares.depth.DepthMiddleware']\n",
      "2022-04-14 22:32:20 [scrapy.middleware] INFO: Enabled item pipelines:\n",
      "[]\n",
      "2022-04-14 22:32:20 [scrapy.core.engine] INFO: Spider opened\n",
      "2022-04-14 22:32:20 [scrapy.extensions.logstats] INFO: Crawled 0 pages (at 0 pages/min), scraped 0 items (at 0 items/min)\n",
      "2022-04-14 22:32:20 [scrapy.extensions.telnet] INFO: Telnet console listening on 127.0.0.1:6023\n",
      "2022-04-14 22:32:28 [root] INFO: No next page. Terminating crawling process.\n",
      "2022-04-14 22:32:31 [root] INFO: No next page. Terminating crawling process.\n",
      "2022-04-14 22:32:33 [root] INFO: No next page. Terminating crawling process.\n",
      "2022-04-14 22:32:34 [root] INFO: No next page. Terminating crawling process.\n",
      "2022-04-14 22:32:35 [root] INFO: No next page. Terminating crawling process.\n",
      "2022-04-14 22:32:36 [root] INFO: No next page. Terminating crawling process.\n",
      "2022-04-14 22:32:36 [root] INFO: No next page. Terminating crawling process.\n",
      "2022-04-14 22:32:37 [root] INFO: No next page. Terminating crawling process.\n",
      "2022-04-14 22:32:37 [root] INFO: No next page. Terminating crawling process.\n",
      "2022-04-14 22:32:38 [root] INFO: No next page. Terminating crawling process.\n",
      "2022-04-14 22:32:38 [root] INFO: No next page. Terminating crawling process.\n",
      "2022-04-14 22:32:38 [root] INFO: No next page. Terminating crawling process.\n",
      "2022-04-14 22:32:39 [root] INFO: No next page. Terminating crawling process.\n",
      "2022-04-14 22:32:39 [root] INFO: No next page. Terminating crawling process.\n",
      "2022-04-14 22:32:40 [root] INFO: No next page. Terminating crawling process.\n",
      "2022-04-14 22:32:40 [root] INFO: No next page. Terminating crawling process.\n",
      "2022-04-14 22:32:41 [root] INFO: No next page. Terminating crawling process.\n",
      "2022-04-14 22:32:42 [root] INFO: No next page. Terminating crawling process.\n",
      "2022-04-14 22:32:42 [root] INFO: No next page. Terminating crawling process.\n",
      "2022-04-14 22:32:42 [root] INFO: No next page. Terminating crawling process.\n",
      "2022-04-14 22:32:43 [root] INFO: No next page. Terminating crawling process.\n",
      "2022-04-14 22:32:43 [root] INFO: No next page. Terminating crawling process.\n",
      "2022-04-14 22:32:43 [root] INFO: No next page. Terminating crawling process.\n",
      "2022-04-14 22:32:44 [root] INFO: No next page. Terminating crawling process.\n",
      "2022-04-14 22:32:44 [root] INFO: No next page. Terminating crawling process.\n",
      "2022-04-14 22:32:44 [root] INFO: No next page. Terminating crawling process.\n",
      "2022-04-14 22:32:45 [root] INFO: No next page. Terminating crawling process.\n",
      "2022-04-14 22:32:45 [root] INFO: No next page. Terminating crawling process.\n",
      "2022-04-14 22:32:46 [root] INFO: No next page. Terminating crawling process.\n",
      "2022-04-14 22:32:46 [root] INFO: No next page. Terminating crawling process.\n",
      "2022-04-14 22:32:47 [root] INFO: No next page. Terminating crawling process.\n",
      "2022-04-14 22:32:47 [root] INFO: No next page. Terminating crawling process.\n",
      "2022-04-14 22:32:47 [root] INFO: No next page. Terminating crawling process.\n",
      "2022-04-14 22:32:48 [root] INFO: No next page. Terminating crawling process.\n",
      "2022-04-14 22:32:48 [root] INFO: No next page. Terminating crawling process.\n",
      "2022-04-14 22:32:48 [scrapy.core.engine] INFO: Closing spider (finished)\n",
      "2022-04-14 22:32:48 [scrapy.extensions.feedexport] INFO: Stored json feed (35 items) in: cities.json\n",
      "2022-04-14 22:32:48 [scrapy.statscollectors] INFO: Dumping Scrapy stats:\n",
      "{'downloader/request_bytes': 50685,\n",
      " 'downloader/request_count': 36,\n",
      " 'downloader/request_method_count/GET': 36,\n",
      " 'downloader/response_bytes': 6236003,\n",
      " 'downloader/response_count': 36,\n",
      " 'downloader/response_status_count/200': 36,\n",
      " 'elapsed_time_seconds': 28.129696,\n",
      " 'feedexport/success_count/FileFeedStorage': 1,\n",
      " 'finish_reason': 'finished',\n",
      " 'finish_time': datetime.datetime(2022, 4, 14, 20, 32, 48, 888005),\n",
      " 'httpcompression/response_bytes': 41716200,\n",
      " 'httpcompression/response_count': 36,\n",
      " 'item_scraped_count': 35,\n",
      " 'log_count/INFO': 46,\n",
      " 'memusage/max': 164179968,\n",
      " 'memusage/startup': 164179968,\n",
      " 'request_depth_max': 1,\n",
      " 'response_received_count': 36,\n",
      " 'scheduler/dequeued': 36,\n",
      " 'scheduler/dequeued/memory': 36,\n",
      " 'scheduler/enqueued': 36,\n",
      " 'scheduler/enqueued/memory': 36,\n",
      " 'start_time': datetime.datetime(2022, 4, 14, 20, 32, 20, 758309)}\n",
      "2022-04-14 22:32:48 [scrapy.core.engine] INFO: Spider closed (finished)\n"
     ]
    }
   ],
   "source": [
    "# Initializing the crawler process\n",
    "filename = \"cities.json\"\n",
    "\n",
    "if filename in os.listdir():\n",
    "        os.remove(filename)\n",
    "\n",
    "process = CrawlerProcess(settings = {\n",
    "    'USER_AGENT': 'Mozilla/5.0 (Windows NT 10.0; Win64; x64; rv:92.0) Gecko/20100101 Firefox/92.0',\n",
    "    'LOG_LEVEL': logging.INFO,\n",
    "    \"FEEDS\": {\n",
    "        filename: {\"format\": \"json\"},\n",
    "    },\n",
    "    \"AUTOTHROTTLE_ENABLED\": True\n",
    "})\n",
    "\n",
    "process.crawl(BookingSpider)\n",
    "process.start()"
   ]
  },
  {
   "cell_type": "code",
   "execution_count": 6,
   "metadata": {},
   "outputs": [
    {
     "data": {
      "text/html": [
       "<div>\n",
       "<style scoped>\n",
       "    .dataframe tbody tr th:only-of-type {\n",
       "        vertical-align: middle;\n",
       "    }\n",
       "\n",
       "    .dataframe tbody tr th {\n",
       "        vertical-align: top;\n",
       "    }\n",
       "\n",
       "    .dataframe thead th {\n",
       "        text-align: right;\n",
       "    }\n",
       "</style>\n",
       "<table border=\"1\" class=\"dataframe\">\n",
       "  <thead>\n",
       "    <tr style=\"text-align: right;\">\n",
       "      <th></th>\n",
       "      <th>location</th>\n",
       "      <th>name</th>\n",
       "      <th>url</th>\n",
       "    </tr>\n",
       "  </thead>\n",
       "  <tbody>\n",
       "    <tr>\n",
       "      <th>0</th>\n",
       "      <td>Mont+Saint+Michel</td>\n",
       "      <td>[Le Relais Saint Michel, La Mère Poulard, Merc...</td>\n",
       "      <td>[https://www.booking.com/hotel/fr/le-relais-sa...</td>\n",
       "    </tr>\n",
       "    <tr>\n",
       "      <th>1</th>\n",
       "      <td>St+Malo</td>\n",
       "      <td>[Studio cocooning, Apartment, St Malo, Petite ...</td>\n",
       "      <td>[https://www.booking.com/hotel/fr/studio-cocoo...</td>\n",
       "    </tr>\n",
       "    <tr>\n",
       "      <th>2</th>\n",
       "      <td>Bayeux</td>\n",
       "      <td>[Premiere Classe Bayeux, ibis budget Bayeux, L...</td>\n",
       "      <td>[https://www.booking.com/hotel/fr/premiere-cla...</td>\n",
       "    </tr>\n",
       "    <tr>\n",
       "      <th>3</th>\n",
       "      <td>Le+Havre</td>\n",
       "      <td>[Holiday Inn Express - Le Havre Centre, Ibis B...</td>\n",
       "      <td>[https://www.booking.com/hotel/fr/campanile-le...</td>\n",
       "    </tr>\n",
       "    <tr>\n",
       "      <th>4</th>\n",
       "      <td>Rouen</td>\n",
       "      <td>[Maison hypercentre Rouen tout confort, L'Aute...</td>\n",
       "      <td>[https://www.booking.com/hotel/fr/maison-hyper...</td>\n",
       "    </tr>\n",
       "  </tbody>\n",
       "</table>\n",
       "</div>"
      ],
      "text/plain": [
       "            location                                               name  \\\n",
       "0  Mont+Saint+Michel  [Le Relais Saint Michel, La Mère Poulard, Merc...   \n",
       "1            St+Malo  [Studio cocooning, Apartment, St Malo, Petite ...   \n",
       "2             Bayeux  [Premiere Classe Bayeux, ibis budget Bayeux, L...   \n",
       "3           Le+Havre  [Holiday Inn Express - Le Havre Centre, Ibis B...   \n",
       "4              Rouen  [Maison hypercentre Rouen tout confort, L'Aute...   \n",
       "\n",
       "                                                 url  \n",
       "0  [https://www.booking.com/hotel/fr/le-relais-sa...  \n",
       "1  [https://www.booking.com/hotel/fr/studio-cocoo...  \n",
       "2  [https://www.booking.com/hotel/fr/premiere-cla...  \n",
       "3  [https://www.booking.com/hotel/fr/campanile-le...  \n",
       "4  [https://www.booking.com/hotel/fr/maison-hyper...  "
      ]
     },
     "execution_count": 6,
     "metadata": {},
     "output_type": "execute_result"
    }
   ],
   "source": [
    "# Reading the scraped json data into a new dataframe\n",
    "df = pd.read_json(\"cities.json\")\n",
    "df.head()"
   ]
  },
  {
   "cell_type": "code",
   "execution_count": 7,
   "metadata": {},
   "outputs": [],
   "source": [
    "# Keeping only the first 20 items from each list\n",
    "for i in range (len(df[\"location\"])):\n",
    "    df[\"name\"][i] = df[\"name\"][i][:20]\n",
    "    df[\"url\"][i] = df[\"url\"][i][:20]\n"
   ]
  },
  {
   "cell_type": "code",
   "execution_count": 7,
   "metadata": {},
   "outputs": [
    {
     "name": "stdout",
     "output_type": "stream",
     "text": [
      "Mont+Saint+Michel completed\n",
      "St+Malo completed\n",
      "Bayeux completed\n",
      "Le+Havre completed\n",
      "Rouen completed\n",
      "Paris completed\n",
      "Amiens completed\n",
      "Lille completed\n",
      "Strasbourg completed\n",
      "Chateau+du+Haut+Koenigsbourg completed\n",
      "Colmar completed\n",
      "Eguisheim completed\n",
      "Besancon completed\n",
      "Dijon completed\n",
      "Annecy completed\n",
      "Grenoble completed\n",
      "La+Rochelle completed\n",
      "Bayonne completed\n",
      "Biarritz completed\n",
      "Montauban completed\n",
      "Toulouse completed\n",
      "Ariege completed\n",
      "Carcassonne completed\n",
      "Collioure completed\n",
      "Saintes+Maries+de+la+mer completed\n",
      "Aigues+Mortes completed\n",
      "Nimes completed\n",
      "Uzes completed\n",
      "Avignon completed\n",
      "Aix+en+Provence completed\n",
      "Marseille completed\n",
      "Cassis completed\n",
      "Bormes+les+Mimosas completed\n",
      "Gorges+du+Verdon completed\n",
      "Lyon completed\n",
      "Task completed\n"
     ]
    }
   ],
   "source": [
    "# Initializing the scraper with BeautifulSoup\n",
    "lat_full = []\n",
    "lon_full = []\n",
    "description_full = []\n",
    "score_full = []\n",
    "\n",
    "navigator = 'Mozilla/5.0 (Macintosh; Intel Mac OS X 10_10_1)'\n",
    "\n",
    "for i in range(len(df[\"url\"])):\n",
    "    lat_list = []\n",
    "    lon_list = []\n",
    "    description_list = []\n",
    "    score_list = []\n",
    "    hotel_list = df[\"url\"][i]\n",
    "\n",
    "    for j in hotel_list:\n",
    "\n",
    "        # In some cases, the process will return an error on the first attempt\n",
    "        try:\n",
    "            page = requests.get(j, headers={'User-Agent': navigator})\n",
    "            soup = BeautifulSoup(page.text, 'html.parser')\n",
    "        except:\n",
    "            page = requests.get(j, headers={'User-Agent': navigator})\n",
    "            soup = BeautifulSoup(page.text, 'html.parser')\n",
    "\n",
    "        lat_list.append(soup.select('p.address.address_clean a')[0].get(\"data-atlas-latlng\").split(\",\")[0])\n",
    "        lon_list.append(soup.select('p.address.address_clean a')[0].get(\"data-atlas-latlng\").split(\",\")[1])\n",
    "        description_list.append(soup.select('div#property_description_content')[0].get_text())\n",
    "\n",
    "        try:\n",
    "            score_list.append(soup.select('div.b5cd09854e.d10a6220b4')[0].get_text())\n",
    "            \n",
    "        except:\n",
    "            # If the score is missing, setting the default value to 5.0\n",
    "            score_list.append(\"5.0\")\n",
    "\n",
    "        # Setting up a wait timer to avoid spamming the website\n",
    "        time.sleep(1.4)\n",
    "        \n",
    "    lat_full.append(lat_list)\n",
    "    lon_full.append(lon_list)\n",
    "    description_full.append(description_list)\n",
    "    score_full.append(score_list)\n",
    "    \n",
    "    # Printing the progress, the whole process takes a bit more than 40 minutes\n",
    "    print (f\"{df['location'].iloc[i]} completed\")\n",
    "\n",
    "# Adding new columns based on lists of lists gathered above    \n",
    "df[\"lat\"] = lat_full\n",
    "df[\"lon\"] = lon_full\n",
    "df[\"description\"] = description_full\n",
    "df[\"score\"] = score_full\n",
    "print('Task completed')"
   ]
  },
  {
   "cell_type": "code",
   "execution_count": 8,
   "metadata": {},
   "outputs": [],
   "source": [
    "# Replacing the + in cities names and reindexing the dataframe to add the id column that will be useful to merge later\n",
    "df[\"location\"] = df[\"location\"].str.replace(\"+\", \" \", regex=True)\n",
    "df = df.set_index(\"location\")\n",
    "df = df.reindex(cities)\n",
    "df.reset_index(inplace=True)\n",
    "df.reset_index(inplace=True)\n",
    "df.rename(columns={'index': 'id'}, inplace=True)"
   ]
  },
  {
   "cell_type": "markdown",
   "metadata": {},
   "source": [
    "## Getting API Data"
   ]
  },
  {
   "cell_type": "markdown",
   "metadata": {},
   "source": [
    "### GPS Coordinates"
   ]
  },
  {
   "cell_type": "code",
   "execution_count": 14,
   "metadata": {},
   "outputs": [],
   "source": [
    "# Creating another copy of the cities dataframe to store the coordinates data from Nominatim API\n",
    "df_gps = df_cities.copy(deep=True)\n",
    "lat_list = []\n",
    "lon_list = []\n",
    "\n",
    "for i in cities:\n",
    "    # There is no Gorges du Verdon city, replacing by the closest city instead\n",
    "    if i == \"Gorges du Verdon\":\n",
    "        i = \"La%20Palud-sur-Verdon\"\n",
    "        r = requests.get(f\"https://nominatim.openstreetmap.org/search?city={i}&format=json\").json()\n",
    "        lat_list.append(r[0]['lat'])\n",
    "        lon_list.append(r[0]['lon'])\n",
    "    # Ariege is not a city, using the county instead here\n",
    "    elif i == 'Ariege':\n",
    "        r = requests.get(f\"https://nominatim.openstreetmap.org/search?county={i}&format=json\").json()\n",
    "        lat_list.append(r[0]['lat'])\n",
    "        lon_list.append(r[0]['lon'])\n",
    "    # Replacing the whitespace by a web friendly notation\n",
    "    else:\n",
    "        name = i.replace(\" \", \"%20\")\n",
    "        r = requests.get(f\"https://nominatim.openstreetmap.org/search?city={name}&format=json\").json()\n",
    "        lat_list.append(r[0]['lat'])\n",
    "        lon_list.append(r[0]['lon'])\n",
    " \n",
    "# Adding the coordinates to the dataframe   \n",
    "df_gps['lat'] = lat_list\n",
    "df_gps['lon'] = lon_list "
   ]
  },
  {
   "cell_type": "code",
   "execution_count": 15,
   "metadata": {},
   "outputs": [
    {
     "data": {
      "text/html": [
       "<div>\n",
       "<style scoped>\n",
       "    .dataframe tbody tr th:only-of-type {\n",
       "        vertical-align: middle;\n",
       "    }\n",
       "\n",
       "    .dataframe tbody tr th {\n",
       "        vertical-align: top;\n",
       "    }\n",
       "\n",
       "    .dataframe thead th {\n",
       "        text-align: right;\n",
       "    }\n",
       "</style>\n",
       "<table border=\"1\" class=\"dataframe\">\n",
       "  <thead>\n",
       "    <tr style=\"text-align: right;\">\n",
       "      <th></th>\n",
       "      <th>id</th>\n",
       "      <th>city</th>\n",
       "      <th>lat</th>\n",
       "      <th>lon</th>\n",
       "    </tr>\n",
       "  </thead>\n",
       "  <tbody>\n",
       "    <tr>\n",
       "      <th>0</th>\n",
       "      <td>0</td>\n",
       "      <td>Mont Saint Michel</td>\n",
       "      <td>48.6359541</td>\n",
       "      <td>-1.511459954959514</td>\n",
       "    </tr>\n",
       "    <tr>\n",
       "      <th>1</th>\n",
       "      <td>1</td>\n",
       "      <td>St Malo</td>\n",
       "      <td>48.649518</td>\n",
       "      <td>-2.0260409</td>\n",
       "    </tr>\n",
       "    <tr>\n",
       "      <th>2</th>\n",
       "      <td>2</td>\n",
       "      <td>Bayeux</td>\n",
       "      <td>49.2764624</td>\n",
       "      <td>-0.7024738</td>\n",
       "    </tr>\n",
       "    <tr>\n",
       "      <th>3</th>\n",
       "      <td>3</td>\n",
       "      <td>Le Havre</td>\n",
       "      <td>49.4938975</td>\n",
       "      <td>0.1079732</td>\n",
       "    </tr>\n",
       "    <tr>\n",
       "      <th>4</th>\n",
       "      <td>4</td>\n",
       "      <td>Rouen</td>\n",
       "      <td>49.4404591</td>\n",
       "      <td>1.0939658</td>\n",
       "    </tr>\n",
       "  </tbody>\n",
       "</table>\n",
       "</div>"
      ],
      "text/plain": [
       "   id               city         lat                 lon\n",
       "0   0  Mont Saint Michel  48.6359541  -1.511459954959514\n",
       "1   1            St Malo   48.649518          -2.0260409\n",
       "2   2             Bayeux  49.2764624          -0.7024738\n",
       "3   3           Le Havre  49.4938975           0.1079732\n",
       "4   4              Rouen  49.4404591           1.0939658"
      ]
     },
     "execution_count": 15,
     "metadata": {},
     "output_type": "execute_result"
    }
   ],
   "source": [
    "df_gps.head()"
   ]
  },
  {
   "cell_type": "markdown",
   "metadata": {},
   "source": [
    "### Weather Data"
   ]
  },
  {
   "cell_type": "code",
   "execution_count": 16,
   "metadata": {},
   "outputs": [],
   "source": [
    "# Getting the weather data based on coordinates from the Openweathermap API\n",
    "df_full = df_gps.copy(deep=True)\n",
    "temps_list = []\n",
    "rain_pop = []\n",
    "humidity_list = []\n",
    "# The days list will be used to store data as items of a list for day +1 to day +7\n",
    "days = list(range(1,8))\n",
    "\n",
    "for i in df_full.itertuples():\n",
    "    lat = i.lat\n",
    "    lon = i.lon\n",
    "    r = requests.get(f\"https://api.openweathermap.org/data/2.5/onecall?lat={lat}&lon={lon}&units=metric&appid={key}\").json()\n",
    "    weather_7_days = r['daily'][1:] # Getting the weather data for the next 7 days, first item is the current weather, which we don't want here\n",
    "    temps = [j['feels_like']['day'] for j in weather_7_days]\n",
    "    rain = [int(j['pop'] * 100) for j in weather_7_days]\n",
    "    humidity = [j['humidity'] for j in weather_7_days]\n",
    "    temps_list.append(temps)\n",
    "    rain_pop.append(rain)\n",
    "    humidity_list.append(humidity)\n",
    "    \n",
    "df_full['day_plus'] = [days for _ in range(len(df_full))]\n",
    "df_full['felt_temperature'] = temps_list\n",
    "df_full['rain_chances'] = rain_pop\n",
    "df_full['humidity'] = humidity_list\n",
    "# Calculation of a weather quality indicator, using absolute value of 35 - temperature (with a weight of 2), chances of rain as a percentage, and humidity as a percentage (with a weight of 0.5) - lower is better\n",
    "df_full['score_weather'] = df_full.apply(lambda x: abs((35 - np.mean(x['felt_temperature'])) * 2) + np.mean(x['rain_chances']) + (np.mean(x['humidity']) / 2), axis=1)   "
   ]
  },
  {
   "cell_type": "code",
   "execution_count": 12,
   "metadata": {},
   "outputs": [
    {
     "data": {
      "text/html": [
       "<div>\n",
       "<style scoped>\n",
       "    .dataframe tbody tr th:only-of-type {\n",
       "        vertical-align: middle;\n",
       "    }\n",
       "\n",
       "    .dataframe tbody tr th {\n",
       "        vertical-align: top;\n",
       "    }\n",
       "\n",
       "    .dataframe thead th {\n",
       "        text-align: right;\n",
       "    }\n",
       "</style>\n",
       "<table border=\"1\" class=\"dataframe\">\n",
       "  <thead>\n",
       "    <tr style=\"text-align: right;\">\n",
       "      <th></th>\n",
       "      <th>id</th>\n",
       "      <th>city</th>\n",
       "      <th>lat</th>\n",
       "      <th>lon</th>\n",
       "      <th>day_plus</th>\n",
       "      <th>felt_temperature</th>\n",
       "      <th>rain_chances</th>\n",
       "      <th>humidity</th>\n",
       "      <th>score_weather</th>\n",
       "    </tr>\n",
       "  </thead>\n",
       "  <tbody>\n",
       "    <tr>\n",
       "      <th>0</th>\n",
       "      <td>0</td>\n",
       "      <td>Mont Saint Michel</td>\n",
       "      <td>48.6359541</td>\n",
       "      <td>-1.511459954959514</td>\n",
       "      <td>[1, 2, 3, 4, 5, 6, 7]</td>\n",
       "      <td>[15.67, 16.18, 12.48, 15.19, 13.85, 14.85, 17.06]</td>\n",
       "      <td>[0, 0, 85, 100, 6, 0, 77]</td>\n",
       "      <td>[50, 56, 87, 59, 58, 54, 66]</td>\n",
       "      <td>108.920000</td>\n",
       "    </tr>\n",
       "    <tr>\n",
       "      <th>1</th>\n",
       "      <td>1</td>\n",
       "      <td>St Malo</td>\n",
       "      <td>48.649518</td>\n",
       "      <td>-2.0260409</td>\n",
       "      <td>[1, 2, 3, 4, 5, 6, 7]</td>\n",
       "      <td>[13.36, 13.98, 11.35, 12.99, 11.72, 12.41, 14.74]</td>\n",
       "      <td>[0, 6, 79, 100, 13, 1, 63]</td>\n",
       "      <td>[59, 67, 89, 69, 67, 67, 76]</td>\n",
       "      <td>116.842857</td>\n",
       "    </tr>\n",
       "    <tr>\n",
       "      <th>2</th>\n",
       "      <td>2</td>\n",
       "      <td>Bayeux</td>\n",
       "      <td>49.2764624</td>\n",
       "      <td>-0.7024738</td>\n",
       "      <td>[1, 2, 3, 4, 5, 6, 7]</td>\n",
       "      <td>[13.74, 12.72, 11.53, 12.14, 11.07, 11.7, 10.62]</td>\n",
       "      <td>[0, 0, 71, 77, 0, 0, 87]</td>\n",
       "      <td>[63, 72, 86, 69, 64, 63, 86]</td>\n",
       "      <td>115.637143</td>\n",
       "    </tr>\n",
       "    <tr>\n",
       "      <th>3</th>\n",
       "      <td>3</td>\n",
       "      <td>Le Havre</td>\n",
       "      <td>49.4938975</td>\n",
       "      <td>0.1079732</td>\n",
       "      <td>[1, 2, 3, 4, 5, 6, 7]</td>\n",
       "      <td>[13.5, 12.63, 14.55, 11.81, 9.59, 10.51, 13.71]</td>\n",
       "      <td>[0, 0, 51, 47, 0, 0, 49]</td>\n",
       "      <td>[61, 69, 70, 66, 67, 65, 65]</td>\n",
       "      <td>99.414286</td>\n",
       "    </tr>\n",
       "    <tr>\n",
       "      <th>4</th>\n",
       "      <td>4</td>\n",
       "      <td>Rouen</td>\n",
       "      <td>49.4404591</td>\n",
       "      <td>1.0939658</td>\n",
       "      <td>[1, 2, 3, 4, 5, 6, 7]</td>\n",
       "      <td>[14.58, 13.61, 15.52, 12.71, 12.44, 13.26, 15.75]</td>\n",
       "      <td>[0, 0, 46, 33, 20, 0, 0]</td>\n",
       "      <td>[57, 64, 67, 60, 58, 58, 59]</td>\n",
       "      <td>86.394286</td>\n",
       "    </tr>\n",
       "  </tbody>\n",
       "</table>\n",
       "</div>"
      ],
      "text/plain": [
       "   id               city         lat                 lon  \\\n",
       "0   0  Mont Saint Michel  48.6359541  -1.511459954959514   \n",
       "1   1            St Malo   48.649518          -2.0260409   \n",
       "2   2             Bayeux  49.2764624          -0.7024738   \n",
       "3   3           Le Havre  49.4938975           0.1079732   \n",
       "4   4              Rouen  49.4404591           1.0939658   \n",
       "\n",
       "                day_plus                                   felt_temperature  \\\n",
       "0  [1, 2, 3, 4, 5, 6, 7]  [15.67, 16.18, 12.48, 15.19, 13.85, 14.85, 17.06]   \n",
       "1  [1, 2, 3, 4, 5, 6, 7]  [13.36, 13.98, 11.35, 12.99, 11.72, 12.41, 14.74]   \n",
       "2  [1, 2, 3, 4, 5, 6, 7]   [13.74, 12.72, 11.53, 12.14, 11.07, 11.7, 10.62]   \n",
       "3  [1, 2, 3, 4, 5, 6, 7]    [13.5, 12.63, 14.55, 11.81, 9.59, 10.51, 13.71]   \n",
       "4  [1, 2, 3, 4, 5, 6, 7]  [14.58, 13.61, 15.52, 12.71, 12.44, 13.26, 15.75]   \n",
       "\n",
       "                 rain_chances                      humidity  score_weather  \n",
       "0   [0, 0, 85, 100, 6, 0, 77]  [50, 56, 87, 59, 58, 54, 66]     108.920000  \n",
       "1  [0, 6, 79, 100, 13, 1, 63]  [59, 67, 89, 69, 67, 67, 76]     116.842857  \n",
       "2    [0, 0, 71, 77, 0, 0, 87]  [63, 72, 86, 69, 64, 63, 86]     115.637143  \n",
       "3    [0, 0, 51, 47, 0, 0, 49]  [61, 69, 70, 66, 67, 65, 65]      99.414286  \n",
       "4    [0, 0, 46, 33, 20, 0, 0]  [57, 64, 67, 60, 58, 58, 59]      86.394286  "
      ]
     },
     "execution_count": 12,
     "metadata": {},
     "output_type": "execute_result"
    }
   ],
   "source": [
    "df_full.head()"
   ]
  },
  {
   "cell_type": "markdown",
   "metadata": {},
   "source": [
    "## Merging Data"
   ]
  },
  {
   "cell_type": "code",
   "execution_count": 13,
   "metadata": {},
   "outputs": [],
   "source": [
    "# Renaming coordinates columns to avoid confusion between city and hotel coordinates\n",
    "df.rename(columns={'lat': 'lat_hotels', 'lon': 'lon_hotels'}, inplace=True)"
   ]
  },
  {
   "cell_type": "code",
   "execution_count": 14,
   "metadata": {},
   "outputs": [
    {
     "name": "stdout",
     "output_type": "stream",
     "text": [
      "(35, 15)\n"
     ]
    }
   ],
   "source": [
    "# Merging the hotels and weather dataframes, and dropping the unnecessary location column\n",
    "df_complete = pd.merge(df_full, df, on='id')\n",
    "df_complete.drop(columns=['location'], inplace=True)\n",
    "print(df_complete.shape)\n",
    "\n",
    "# Saving the merged dataset as a csv file\n",
    "df_complete.to_csv('df_complete.csv', index=False, header=True)"
   ]
  },
  {
   "cell_type": "markdown",
   "metadata": {},
   "source": [
    "## Storing the dataset in a S3 data lake"
   ]
  },
  {
   "cell_type": "code",
   "execution_count": 3,
   "metadata": {},
   "outputs": [],
   "source": [
    "# Loading the S3 dession and resource\n",
    "session = boto3.Session()\n",
    "s3 = boto3.resource('s3')"
   ]
  },
  {
   "cell_type": "code",
   "execution_count": 4,
   "metadata": {},
   "outputs": [],
   "source": [
    "# Uploading the file to S3\n",
    "s3.Bucket('kayak-project-garp').upload_file('df_complete.csv', 'df_complete.csv')"
   ]
  },
  {
   "cell_type": "code",
   "execution_count": 5,
   "metadata": {},
   "outputs": [
    {
     "data": {
      "text/plain": [
       "(35, 16)"
      ]
     },
     "execution_count": 5,
     "metadata": {},
     "output_type": "execute_result"
    }
   ],
   "source": [
    "# Downloading the file from S3 and checking it kept the same shape.\n",
    "df_s3 = pd.read_csv('s3://kayak-project-garp/df_complete.csv')\n",
    "df_s3.shape"
   ]
  },
  {
   "cell_type": "markdown",
   "metadata": {},
   "source": [
    "## Transforming"
   ]
  },
  {
   "cell_type": "code",
   "execution_count": 18,
   "metadata": {},
   "outputs": [],
   "source": [
    "# Splitting the dataframe into 2 tables\n",
    "\n",
    "df_weather = df_s3[['id', 'city', 'lat', 'lon', 'day_plus', 'felt_temperature', 'rain_chances', 'humidity', 'score_weather']]\n",
    "df_hotels = df_s3[['id', 'city', 'name', 'url', 'lat_hotels', 'lon_hotels', 'description', 'score', 'score_weather']]"
   ]
  },
  {
   "cell_type": "code",
   "execution_count": 19,
   "metadata": {},
   "outputs": [
    {
     "data": {
      "text/html": [
       "<div>\n",
       "<style scoped>\n",
       "    .dataframe tbody tr th:only-of-type {\n",
       "        vertical-align: middle;\n",
       "    }\n",
       "\n",
       "    .dataframe tbody tr th {\n",
       "        vertical-align: top;\n",
       "    }\n",
       "\n",
       "    .dataframe thead th {\n",
       "        text-align: right;\n",
       "    }\n",
       "</style>\n",
       "<table border=\"1\" class=\"dataframe\">\n",
       "  <thead>\n",
       "    <tr style=\"text-align: right;\">\n",
       "      <th></th>\n",
       "      <th>id</th>\n",
       "      <th>city</th>\n",
       "      <th>lat</th>\n",
       "      <th>lon</th>\n",
       "      <th>day_plus</th>\n",
       "      <th>felt_temperature</th>\n",
       "      <th>rain_chances</th>\n",
       "      <th>humidity</th>\n",
       "      <th>score_weather</th>\n",
       "    </tr>\n",
       "  </thead>\n",
       "  <tbody>\n",
       "    <tr>\n",
       "      <th>0</th>\n",
       "      <td>0</td>\n",
       "      <td>Mont Saint Michel</td>\n",
       "      <td>48.635954</td>\n",
       "      <td>-1.511460</td>\n",
       "      <td>[1, 2, 3, 4, 5, 6, 7]</td>\n",
       "      <td>[15.43, 15.78, 13.98, 11.81, 13.44, 15.74, 18.11]</td>\n",
       "      <td>[0, 4, 94, 61, 0, 48, 66]</td>\n",
       "      <td>[49, 57, 80, 89, 65, 67, 64]</td>\n",
       "      <td>112.845714</td>\n",
       "    </tr>\n",
       "    <tr>\n",
       "      <th>1</th>\n",
       "      <td>1</td>\n",
       "      <td>St Malo</td>\n",
       "      <td>48.649518</td>\n",
       "      <td>-2.026041</td>\n",
       "      <td>[1, 2, 3, 4, 5, 6, 7]</td>\n",
       "      <td>[13.43, 13.55, 11.72, 11.85, 11.3, 13.76, 15.48]</td>\n",
       "      <td>[0, 23, 100, 51, 13, 20, 85]</td>\n",
       "      <td>[56, 69, 88, 86, 74, 71, 73]</td>\n",
       "      <td>122.617143</td>\n",
       "    </tr>\n",
       "    <tr>\n",
       "      <th>2</th>\n",
       "      <td>2</td>\n",
       "      <td>Bayeux</td>\n",
       "      <td>49.276462</td>\n",
       "      <td>-0.702474</td>\n",
       "      <td>[1, 2, 3, 4, 5, 6, 7]</td>\n",
       "      <td>[13.45, 12.7, 10.06, 9.83, 11.93, 14.72, 13.91]</td>\n",
       "      <td>[0, 0, 89, 54, 37, 57, 23]</td>\n",
       "      <td>[62, 72, 95, 95, 68, 68, 73]</td>\n",
       "      <td>120.471429</td>\n",
       "    </tr>\n",
       "    <tr>\n",
       "      <th>3</th>\n",
       "      <td>3</td>\n",
       "      <td>Le Havre</td>\n",
       "      <td>49.493898</td>\n",
       "      <td>0.107973</td>\n",
       "      <td>[1, 2, 3, 4, 5, 6, 7]</td>\n",
       "      <td>[13.39, 13.04, 13.39, 11.39, 10.5, 13.87, 14.66]</td>\n",
       "      <td>[0, 0, 100, 89, 31, 33, 8]</td>\n",
       "      <td>[62, 67, 77, 82, 70, 68, 68]</td>\n",
       "      <td>116.788571</td>\n",
       "    </tr>\n",
       "    <tr>\n",
       "      <th>4</th>\n",
       "      <td>4</td>\n",
       "      <td>Rouen</td>\n",
       "      <td>49.440459</td>\n",
       "      <td>1.093966</td>\n",
       "      <td>[1, 2, 3, 4, 5, 6, 7]</td>\n",
       "      <td>[14.53, 14.2, 16.09, 12.87, 11.88, 15.42, 16.88]</td>\n",
       "      <td>[0, 0, 100, 98, 2, 31, 5]</td>\n",
       "      <td>[58, 62, 68, 70, 64, 62, 60]</td>\n",
       "      <td>106.322857</td>\n",
       "    </tr>\n",
       "  </tbody>\n",
       "</table>\n",
       "</div>"
      ],
      "text/plain": [
       "   id               city        lat       lon               day_plus  \\\n",
       "0   0  Mont Saint Michel  48.635954 -1.511460  [1, 2, 3, 4, 5, 6, 7]   \n",
       "1   1            St Malo  48.649518 -2.026041  [1, 2, 3, 4, 5, 6, 7]   \n",
       "2   2             Bayeux  49.276462 -0.702474  [1, 2, 3, 4, 5, 6, 7]   \n",
       "3   3           Le Havre  49.493898  0.107973  [1, 2, 3, 4, 5, 6, 7]   \n",
       "4   4              Rouen  49.440459  1.093966  [1, 2, 3, 4, 5, 6, 7]   \n",
       "\n",
       "                                    felt_temperature  \\\n",
       "0  [15.43, 15.78, 13.98, 11.81, 13.44, 15.74, 18.11]   \n",
       "1   [13.43, 13.55, 11.72, 11.85, 11.3, 13.76, 15.48]   \n",
       "2    [13.45, 12.7, 10.06, 9.83, 11.93, 14.72, 13.91]   \n",
       "3   [13.39, 13.04, 13.39, 11.39, 10.5, 13.87, 14.66]   \n",
       "4   [14.53, 14.2, 16.09, 12.87, 11.88, 15.42, 16.88]   \n",
       "\n",
       "                   rain_chances                      humidity  score_weather  \n",
       "0     [0, 4, 94, 61, 0, 48, 66]  [49, 57, 80, 89, 65, 67, 64]     112.845714  \n",
       "1  [0, 23, 100, 51, 13, 20, 85]  [56, 69, 88, 86, 74, 71, 73]     122.617143  \n",
       "2    [0, 0, 89, 54, 37, 57, 23]  [62, 72, 95, 95, 68, 68, 73]     120.471429  \n",
       "3    [0, 0, 100, 89, 31, 33, 8]  [62, 67, 77, 82, 70, 68, 68]     116.788571  \n",
       "4     [0, 0, 100, 98, 2, 31, 5]  [58, 62, 68, 70, 64, 62, 60]     106.322857  "
      ]
     },
     "execution_count": 19,
     "metadata": {},
     "output_type": "execute_result"
    }
   ],
   "source": [
    "df_weather.head()"
   ]
  },
  {
   "cell_type": "code",
   "execution_count": 41,
   "metadata": {},
   "outputs": [
    {
     "data": {
      "text/html": [
       "<div>\n",
       "<style scoped>\n",
       "    .dataframe tbody tr th:only-of-type {\n",
       "        vertical-align: middle;\n",
       "    }\n",
       "\n",
       "    .dataframe tbody tr th {\n",
       "        vertical-align: top;\n",
       "    }\n",
       "\n",
       "    .dataframe thead th {\n",
       "        text-align: right;\n",
       "    }\n",
       "</style>\n",
       "<table border=\"1\" class=\"dataframe\">\n",
       "  <thead>\n",
       "    <tr style=\"text-align: right;\">\n",
       "      <th></th>\n",
       "      <th>id</th>\n",
       "      <th>city</th>\n",
       "      <th>name</th>\n",
       "      <th>url</th>\n",
       "      <th>lat_hotels</th>\n",
       "      <th>lon_hotels</th>\n",
       "      <th>description</th>\n",
       "      <th>score</th>\n",
       "      <th>score_weather</th>\n",
       "    </tr>\n",
       "  </thead>\n",
       "  <tbody>\n",
       "    <tr>\n",
       "      <th>0</th>\n",
       "      <td>0</td>\n",
       "      <td>Mont Saint Michel</td>\n",
       "      <td>['Le Relais Saint Michel', 'La Mère Poulard', ...</td>\n",
       "      <td>['https://www.booking.com/hotel/fr/le-relais-s...</td>\n",
       "      <td>['48.61758727', '48.63508532', '48.61424653', ...</td>\n",
       "      <td>['-1.51039615', '-1.51053965', '-1.51054502', ...</td>\n",
       "      <td>[\"\\nVous pouvez bénéficier d'une réduction Gen...</td>\n",
       "      <td>['7,8', '7,2', '8,2', '7,3', '7,2', '8,1', '8,...</td>\n",
       "      <td>108.920000</td>\n",
       "    </tr>\n",
       "    <tr>\n",
       "      <th>1</th>\n",
       "      <td>1</td>\n",
       "      <td>St Malo</td>\n",
       "      <td>['Studio cocooning', 'Apartment, St Malo', 'Pe...</td>\n",
       "      <td>['https://www.booking.com/hotel/fr/studio-coco...</td>\n",
       "      <td>['48.65537970', '48.65874000', '48.65956907', ...</td>\n",
       "      <td>['-2.00327690', '-1.97702800', '-1.98920718', ...</td>\n",
       "      <td>[\"\\nVous pouvez bénéficier d'une réduction Gen...</td>\n",
       "      <td>['9,5', '5.0', '9,3', '8,7', '7,5', '5.0', '7,...</td>\n",
       "      <td>116.842857</td>\n",
       "    </tr>\n",
       "    <tr>\n",
       "      <th>2</th>\n",
       "      <td>2</td>\n",
       "      <td>Bayeux</td>\n",
       "      <td>['Premiere Classe Bayeux', 'ibis budget Bayeux...</td>\n",
       "      <td>['https://www.booking.com/hotel/fr/premiere-cl...</td>\n",
       "      <td>['49.26942872', '49.25424209', '49.27571400', ...</td>\n",
       "      <td>['-0.70668697', '-0.64648747', '-0.69804200', ...</td>\n",
       "      <td>[\"\\nVous pouvez bénéficier d'une réduction Gen...</td>\n",
       "      <td>['7,7', '8,2', '9,7', '5.0', '7,8', '8,1', '7,...</td>\n",
       "      <td>115.637143</td>\n",
       "    </tr>\n",
       "    <tr>\n",
       "      <th>3</th>\n",
       "      <td>3</td>\n",
       "      <td>Le Havre</td>\n",
       "      <td>['Holiday Inn Express - Le Havre Centre', 'Ibi...</td>\n",
       "      <td>['https://www.booking.com/hotel/fr/campanile-l...</td>\n",
       "      <td>['49.49823800', '49.49424468', '49.49331760', ...</td>\n",
       "      <td>['0.12883700', '0.14285243', '0.12530688', '0....</td>\n",
       "      <td>[\"\\nL’Holiday Inn Express - Le Havre Centre, s...</td>\n",
       "      <td>['8,2', '8,4', '8,6', '8,1', '8.8', '7,5', '8,...</td>\n",
       "      <td>99.414286</td>\n",
       "    </tr>\n",
       "    <tr>\n",
       "      <th>4</th>\n",
       "      <td>4</td>\n",
       "      <td>Rouen</td>\n",
       "      <td>['Maison hypercentre Rouen tout confort', \"L'A...</td>\n",
       "      <td>['https://www.booking.com/hotel/fr/maison-hype...</td>\n",
       "      <td>['49.44465180', '49.44454400', '49.43572312', ...</td>\n",
       "      <td>['1.09132620', '1.09117800', '1.10273123', '1....</td>\n",
       "      <td>[\"\\nVous pouvez bénéficier d'une réduction Gen...</td>\n",
       "      <td>['8,8', '9,1', '8,2', '8,9', '9,1', '8,5', '8,...</td>\n",
       "      <td>86.394286</td>\n",
       "    </tr>\n",
       "  </tbody>\n",
       "</table>\n",
       "</div>"
      ],
      "text/plain": [
       "   id               city                                               name  \\\n",
       "0   0  Mont Saint Michel  ['Le Relais Saint Michel', 'La Mère Poulard', ...   \n",
       "1   1            St Malo  ['Studio cocooning', 'Apartment, St Malo', 'Pe...   \n",
       "2   2             Bayeux  ['Premiere Classe Bayeux', 'ibis budget Bayeux...   \n",
       "3   3           Le Havre  ['Holiday Inn Express - Le Havre Centre', 'Ibi...   \n",
       "4   4              Rouen  ['Maison hypercentre Rouen tout confort', \"L'A...   \n",
       "\n",
       "                                                 url  \\\n",
       "0  ['https://www.booking.com/hotel/fr/le-relais-s...   \n",
       "1  ['https://www.booking.com/hotel/fr/studio-coco...   \n",
       "2  ['https://www.booking.com/hotel/fr/premiere-cl...   \n",
       "3  ['https://www.booking.com/hotel/fr/campanile-l...   \n",
       "4  ['https://www.booking.com/hotel/fr/maison-hype...   \n",
       "\n",
       "                                          lat_hotels  \\\n",
       "0  ['48.61758727', '48.63508532', '48.61424653', ...   \n",
       "1  ['48.65537970', '48.65874000', '48.65956907', ...   \n",
       "2  ['49.26942872', '49.25424209', '49.27571400', ...   \n",
       "3  ['49.49823800', '49.49424468', '49.49331760', ...   \n",
       "4  ['49.44465180', '49.44454400', '49.43572312', ...   \n",
       "\n",
       "                                          lon_hotels  \\\n",
       "0  ['-1.51039615', '-1.51053965', '-1.51054502', ...   \n",
       "1  ['-2.00327690', '-1.97702800', '-1.98920718', ...   \n",
       "2  ['-0.70668697', '-0.64648747', '-0.69804200', ...   \n",
       "3  ['0.12883700', '0.14285243', '0.12530688', '0....   \n",
       "4  ['1.09132620', '1.09117800', '1.10273123', '1....   \n",
       "\n",
       "                                         description  \\\n",
       "0  [\"\\nVous pouvez bénéficier d'une réduction Gen...   \n",
       "1  [\"\\nVous pouvez bénéficier d'une réduction Gen...   \n",
       "2  [\"\\nVous pouvez bénéficier d'une réduction Gen...   \n",
       "3  [\"\\nL’Holiday Inn Express - Le Havre Centre, s...   \n",
       "4  [\"\\nVous pouvez bénéficier d'une réduction Gen...   \n",
       "\n",
       "                                               score  score_weather  \n",
       "0  ['7,8', '7,2', '8,2', '7,3', '7,2', '8,1', '8,...     108.920000  \n",
       "1  ['9,5', '5.0', '9,3', '8,7', '7,5', '5.0', '7,...     116.842857  \n",
       "2  ['7,7', '8,2', '9,7', '5.0', '7,8', '8,1', '7,...     115.637143  \n",
       "3  ['8,2', '8,4', '8,6', '8,1', '8.8', '7,5', '8,...      99.414286  \n",
       "4  ['8,8', '9,1', '8,2', '8,9', '9,1', '8,5', '8,...      86.394286  "
      ]
     },
     "execution_count": 41,
     "metadata": {},
     "output_type": "execute_result"
    }
   ],
   "source": [
    "df_hotels.head()"
   ]
  },
  {
   "cell_type": "code",
   "execution_count": 20,
   "metadata": {},
   "outputs": [],
   "source": [
    "# The csv has converted the lists into strings, we need to revert that first for both dataframes\n",
    "df_weather_final = pd.DataFrame()\n",
    "df_weather_final[['id', 'city', 'lat', 'lon', 'score_weather']] = df_weather[['id', 'city', 'lat', 'lon', 'score_weather']]\n",
    "df_weather_final['day_plus'] = df_weather['day_plus'].apply(eval)\n",
    "df_weather_final['felt_temperature'] = df_weather['felt_temperature'].apply(eval)\n",
    "df_weather_final['rain_chances'] = df_weather['rain_chances'].apply(eval)\n",
    "df_weather_final['humidity'] = df_weather['humidity'].apply(eval)\n",
    "\n",
    "df_hotels_final = pd.DataFrame()\n",
    "df_hotels_final[['id', 'city', 'score_weather']] = df_hotels[['id', 'city', 'score_weather']]\n",
    "df_hotels_final['name'] = df_hotels['name'].apply(eval)\n",
    "df_hotels_final['url'] = df_hotels['url'].apply(eval)\n",
    "df_hotels_final['lat_hotels'] = df_hotels['lat_hotels'].apply(eval)\n",
    "df_hotels_final['lon_hotels'] = df_hotels['lon_hotels'].apply(eval)\n",
    "df_hotels_final['description'] = df_hotels['description'].apply(eval)\n",
    "df_hotels_final['score'] = df_hotels['score'].apply(eval)\n",
    "\n",
    "# We need to convert coordinates to numeric type as well\n",
    "df_weather_final[['lat', 'lon']] = df_weather[['lat', 'lon']].apply(pd.to_numeric)"
   ]
  },
  {
   "cell_type": "code",
   "execution_count": 21,
   "metadata": {},
   "outputs": [],
   "source": [
    "# We need to sort the data by weather score and explode the lists to prepare the data for warehousing and plotting\n",
    "df_weather_full = df_weather_final.sort_values('score_weather')\n",
    "df_weather_full.reset_index(inplace=True, drop=True)\n",
    "df_weather_full = df_weather_full.apply(pd.Series.explode)\n",
    "df_weather_full[['day_plus', 'felt_temperature', 'rain_chances', 'humidity']] = df_weather_full[['day_plus', 'felt_temperature', 'rain_chances', 'humidity']].apply(pd.to_numeric)\n",
    "\n",
    "df_hotels_full = df_hotels_final.sort_values('score_weather')\n",
    "df_hotels_full.reset_index(inplace=True, drop=True)\n",
    "df_hotels_full = df_hotels_full.apply(pd.Series.explode)\n",
    "df_hotels_full['description'] = df_hotels_full['description'].replace(\"\\\\n\", \"\", regex=True)\n",
    "df_hotels_full['score'] = df_hotels_full['score'].replace(\",\", \".\", regex=True)\n",
    "df_hotels_full[['lat_hotels', 'lon_hotels', 'score']] = df_hotels_full[['lat_hotels', 'lon_hotels', 'score']].apply(pd.to_numeric)"
   ]
  },
  {
   "cell_type": "code",
   "execution_count": 22,
   "metadata": {},
   "outputs": [],
   "source": [
    "# We reset the index before pushing to SQL in order to give each line a unique id\n",
    "df_weather_full_sql = df_weather_full.reset_index()\n",
    "df_weather_full_sql.reset_index(inplace=True)\n",
    "df_weather_full_sql.drop(columns = ['index'], inplace=True)\n",
    "df_weather_full_sql.rename({'level_0': 'index'}, axis=1, inplace=True)\n",
    "\n",
    "df_hotels_full_sql = df_hotels_full.reset_index()\n",
    "df_hotels_full_sql.reset_index(inplace=True)\n",
    "df_hotels_full_sql.drop(columns = ['index'], inplace=True)\n",
    "df_hotels_full_sql.rename({'level_0': 'index'}, axis=1, inplace=True)"
   ]
  },
  {
   "cell_type": "markdown",
   "metadata": {},
   "source": [
    "## Storing the transformed data in a RDS data warehouse"
   ]
  },
  {
   "cell_type": "code",
   "execution_count": 24,
   "metadata": {},
   "outputs": [],
   "source": [
    "# Importing libraries for the data warehousing and initialization of the SQL engine\n",
    "from sqlalchemy import create_engine, text\n",
    "from sqlalchemy.orm import sessionmaker\n",
    "\n",
    "engine = create_engine(f\"postgresql+psycopg2://{DBUSER}:{DBPASS}@{DBHOST}/{DBNAME}\", echo=True)\n",
    "Session = sessionmaker(bind=engine)\n",
    "session = Session()"
   ]
  },
  {
   "cell_type": "code",
   "execution_count": null,
   "metadata": {},
   "outputs": [],
   "source": [
    "# Storing the two dataframes as SQL tables\n",
    "df_weather_full_sql.to_sql('weather', con=engine, if_exists='replace', index=False)\n",
    "df_hotels_full_sql.to_sql('hotels', con=engine, if_exists='replace', index=False)"
   ]
  },
  {
   "cell_type": "code",
   "execution_count": 55,
   "metadata": {},
   "outputs": [
    {
     "name": "stdout",
     "output_type": "stream",
     "text": [
      "2022-04-20 10:01:05,404 INFO sqlalchemy.engine.Engine select relname from pg_class c join pg_namespace n on n.oid=c.relnamespace where pg_catalog.pg_table_is_visible(c.oid) and relname=%(name)s\n",
      "2022-04-20 10:01:05,406 INFO sqlalchemy.engine.Engine [cached since 3.222e+04s ago] {'name': 'SELECT * FROM weather LIMIT 21'}\n",
      "2022-04-20 10:01:05,445 INFO sqlalchemy.engine.Engine SELECT * FROM weather LIMIT 21\n",
      "2022-04-20 10:01:05,445 INFO sqlalchemy.engine.Engine [cached since 3.222e+04s ago] {}\n"
     ]
    },
    {
     "data": {
      "text/html": [
       "<div>\n",
       "<style scoped>\n",
       "    .dataframe tbody tr th:only-of-type {\n",
       "        vertical-align: middle;\n",
       "    }\n",
       "\n",
       "    .dataframe tbody tr th {\n",
       "        vertical-align: top;\n",
       "    }\n",
       "\n",
       "    .dataframe thead th {\n",
       "        text-align: right;\n",
       "    }\n",
       "</style>\n",
       "<table border=\"1\" class=\"dataframe\">\n",
       "  <thead>\n",
       "    <tr style=\"text-align: right;\">\n",
       "      <th></th>\n",
       "      <th>index</th>\n",
       "      <th>id</th>\n",
       "      <th>city</th>\n",
       "      <th>lat</th>\n",
       "      <th>lon</th>\n",
       "      <th>score_weather</th>\n",
       "      <th>day_plus</th>\n",
       "      <th>felt_temperature</th>\n",
       "      <th>rain_chances</th>\n",
       "      <th>humidity</th>\n",
       "    </tr>\n",
       "  </thead>\n",
       "  <tbody>\n",
       "    <tr>\n",
       "      <th>0</th>\n",
       "      <td>0</td>\n",
       "      <td>5</td>\n",
       "      <td>Paris</td>\n",
       "      <td>48.858890</td>\n",
       "      <td>2.320041</td>\n",
       "      <td>80.288571</td>\n",
       "      <td>1</td>\n",
       "      <td>15.03</td>\n",
       "      <td>0</td>\n",
       "      <td>43</td>\n",
       "    </tr>\n",
       "    <tr>\n",
       "      <th>1</th>\n",
       "      <td>1</td>\n",
       "      <td>5</td>\n",
       "      <td>Paris</td>\n",
       "      <td>48.858890</td>\n",
       "      <td>2.320041</td>\n",
       "      <td>80.288571</td>\n",
       "      <td>2</td>\n",
       "      <td>14.52</td>\n",
       "      <td>0</td>\n",
       "      <td>49</td>\n",
       "    </tr>\n",
       "    <tr>\n",
       "      <th>2</th>\n",
       "      <td>2</td>\n",
       "      <td>5</td>\n",
       "      <td>Paris</td>\n",
       "      <td>48.858890</td>\n",
       "      <td>2.320041</td>\n",
       "      <td>80.288571</td>\n",
       "      <td>3</td>\n",
       "      <td>16.94</td>\n",
       "      <td>93</td>\n",
       "      <td>52</td>\n",
       "    </tr>\n",
       "    <tr>\n",
       "      <th>3</th>\n",
       "      <td>3</td>\n",
       "      <td>5</td>\n",
       "      <td>Paris</td>\n",
       "      <td>48.858890</td>\n",
       "      <td>2.320041</td>\n",
       "      <td>80.288571</td>\n",
       "      <td>4</td>\n",
       "      <td>14.86</td>\n",
       "      <td>15</td>\n",
       "      <td>44</td>\n",
       "    </tr>\n",
       "    <tr>\n",
       "      <th>4</th>\n",
       "      <td>4</td>\n",
       "      <td>5</td>\n",
       "      <td>Paris</td>\n",
       "      <td>48.858890</td>\n",
       "      <td>2.320041</td>\n",
       "      <td>80.288571</td>\n",
       "      <td>5</td>\n",
       "      <td>15.61</td>\n",
       "      <td>26</td>\n",
       "      <td>37</td>\n",
       "    </tr>\n",
       "    <tr>\n",
       "      <th>5</th>\n",
       "      <td>5</td>\n",
       "      <td>5</td>\n",
       "      <td>Paris</td>\n",
       "      <td>48.858890</td>\n",
       "      <td>2.320041</td>\n",
       "      <td>80.288571</td>\n",
       "      <td>6</td>\n",
       "      <td>15.41</td>\n",
       "      <td>0</td>\n",
       "      <td>41</td>\n",
       "    </tr>\n",
       "    <tr>\n",
       "      <th>6</th>\n",
       "      <td>6</td>\n",
       "      <td>5</td>\n",
       "      <td>Paris</td>\n",
       "      <td>48.858890</td>\n",
       "      <td>2.320041</td>\n",
       "      <td>80.288571</td>\n",
       "      <td>7</td>\n",
       "      <td>16.87</td>\n",
       "      <td>0</td>\n",
       "      <td>47</td>\n",
       "    </tr>\n",
       "    <tr>\n",
       "      <th>7</th>\n",
       "      <td>7</td>\n",
       "      <td>6</td>\n",
       "      <td>Amiens</td>\n",
       "      <td>49.894171</td>\n",
       "      <td>2.295695</td>\n",
       "      <td>84.777143</td>\n",
       "      <td>1</td>\n",
       "      <td>14.33</td>\n",
       "      <td>0</td>\n",
       "      <td>56</td>\n",
       "    </tr>\n",
       "    <tr>\n",
       "      <th>8</th>\n",
       "      <td>8</td>\n",
       "      <td>6</td>\n",
       "      <td>Amiens</td>\n",
       "      <td>49.894171</td>\n",
       "      <td>2.295695</td>\n",
       "      <td>84.777143</td>\n",
       "      <td>2</td>\n",
       "      <td>11.49</td>\n",
       "      <td>0</td>\n",
       "      <td>65</td>\n",
       "    </tr>\n",
       "    <tr>\n",
       "      <th>9</th>\n",
       "      <td>9</td>\n",
       "      <td>6</td>\n",
       "      <td>Amiens</td>\n",
       "      <td>49.894171</td>\n",
       "      <td>2.295695</td>\n",
       "      <td>84.777143</td>\n",
       "      <td>3</td>\n",
       "      <td>13.81</td>\n",
       "      <td>15</td>\n",
       "      <td>68</td>\n",
       "    </tr>\n",
       "    <tr>\n",
       "      <th>10</th>\n",
       "      <td>10</td>\n",
       "      <td>6</td>\n",
       "      <td>Amiens</td>\n",
       "      <td>49.894171</td>\n",
       "      <td>2.295695</td>\n",
       "      <td>84.777143</td>\n",
       "      <td>4</td>\n",
       "      <td>12.52</td>\n",
       "      <td>28</td>\n",
       "      <td>60</td>\n",
       "    </tr>\n",
       "    <tr>\n",
       "      <th>11</th>\n",
       "      <td>11</td>\n",
       "      <td>6</td>\n",
       "      <td>Amiens</td>\n",
       "      <td>49.894171</td>\n",
       "      <td>2.295695</td>\n",
       "      <td>84.777143</td>\n",
       "      <td>5</td>\n",
       "      <td>10.74</td>\n",
       "      <td>20</td>\n",
       "      <td>63</td>\n",
       "    </tr>\n",
       "    <tr>\n",
       "      <th>12</th>\n",
       "      <td>12</td>\n",
       "      <td>6</td>\n",
       "      <td>Amiens</td>\n",
       "      <td>49.894171</td>\n",
       "      <td>2.295695</td>\n",
       "      <td>84.777143</td>\n",
       "      <td>6</td>\n",
       "      <td>10.48</td>\n",
       "      <td>0</td>\n",
       "      <td>63</td>\n",
       "    </tr>\n",
       "    <tr>\n",
       "      <th>13</th>\n",
       "      <td>13</td>\n",
       "      <td>6</td>\n",
       "      <td>Amiens</td>\n",
       "      <td>49.894171</td>\n",
       "      <td>2.295695</td>\n",
       "      <td>84.777143</td>\n",
       "      <td>7</td>\n",
       "      <td>14.91</td>\n",
       "      <td>0</td>\n",
       "      <td>59</td>\n",
       "    </tr>\n",
       "    <tr>\n",
       "      <th>14</th>\n",
       "      <td>14</td>\n",
       "      <td>4</td>\n",
       "      <td>Rouen</td>\n",
       "      <td>49.440459</td>\n",
       "      <td>1.093966</td>\n",
       "      <td>86.394286</td>\n",
       "      <td>1</td>\n",
       "      <td>14.58</td>\n",
       "      <td>0</td>\n",
       "      <td>57</td>\n",
       "    </tr>\n",
       "    <tr>\n",
       "      <th>15</th>\n",
       "      <td>15</td>\n",
       "      <td>4</td>\n",
       "      <td>Rouen</td>\n",
       "      <td>49.440459</td>\n",
       "      <td>1.093966</td>\n",
       "      <td>86.394286</td>\n",
       "      <td>2</td>\n",
       "      <td>13.61</td>\n",
       "      <td>0</td>\n",
       "      <td>64</td>\n",
       "    </tr>\n",
       "    <tr>\n",
       "      <th>16</th>\n",
       "      <td>16</td>\n",
       "      <td>4</td>\n",
       "      <td>Rouen</td>\n",
       "      <td>49.440459</td>\n",
       "      <td>1.093966</td>\n",
       "      <td>86.394286</td>\n",
       "      <td>3</td>\n",
       "      <td>15.52</td>\n",
       "      <td>46</td>\n",
       "      <td>67</td>\n",
       "    </tr>\n",
       "    <tr>\n",
       "      <th>17</th>\n",
       "      <td>17</td>\n",
       "      <td>4</td>\n",
       "      <td>Rouen</td>\n",
       "      <td>49.440459</td>\n",
       "      <td>1.093966</td>\n",
       "      <td>86.394286</td>\n",
       "      <td>4</td>\n",
       "      <td>12.71</td>\n",
       "      <td>33</td>\n",
       "      <td>60</td>\n",
       "    </tr>\n",
       "    <tr>\n",
       "      <th>18</th>\n",
       "      <td>18</td>\n",
       "      <td>4</td>\n",
       "      <td>Rouen</td>\n",
       "      <td>49.440459</td>\n",
       "      <td>1.093966</td>\n",
       "      <td>86.394286</td>\n",
       "      <td>5</td>\n",
       "      <td>12.44</td>\n",
       "      <td>20</td>\n",
       "      <td>58</td>\n",
       "    </tr>\n",
       "    <tr>\n",
       "      <th>19</th>\n",
       "      <td>19</td>\n",
       "      <td>4</td>\n",
       "      <td>Rouen</td>\n",
       "      <td>49.440459</td>\n",
       "      <td>1.093966</td>\n",
       "      <td>86.394286</td>\n",
       "      <td>6</td>\n",
       "      <td>13.26</td>\n",
       "      <td>0</td>\n",
       "      <td>58</td>\n",
       "    </tr>\n",
       "    <tr>\n",
       "      <th>20</th>\n",
       "      <td>20</td>\n",
       "      <td>4</td>\n",
       "      <td>Rouen</td>\n",
       "      <td>49.440459</td>\n",
       "      <td>1.093966</td>\n",
       "      <td>86.394286</td>\n",
       "      <td>7</td>\n",
       "      <td>15.75</td>\n",
       "      <td>0</td>\n",
       "      <td>59</td>\n",
       "    </tr>\n",
       "  </tbody>\n",
       "</table>\n",
       "</div>"
      ],
      "text/plain": [
       "    index  id    city        lat       lon  score_weather  day_plus  \\\n",
       "0       0   5   Paris  48.858890  2.320041      80.288571         1   \n",
       "1       1   5   Paris  48.858890  2.320041      80.288571         2   \n",
       "2       2   5   Paris  48.858890  2.320041      80.288571         3   \n",
       "3       3   5   Paris  48.858890  2.320041      80.288571         4   \n",
       "4       4   5   Paris  48.858890  2.320041      80.288571         5   \n",
       "5       5   5   Paris  48.858890  2.320041      80.288571         6   \n",
       "6       6   5   Paris  48.858890  2.320041      80.288571         7   \n",
       "7       7   6  Amiens  49.894171  2.295695      84.777143         1   \n",
       "8       8   6  Amiens  49.894171  2.295695      84.777143         2   \n",
       "9       9   6  Amiens  49.894171  2.295695      84.777143         3   \n",
       "10     10   6  Amiens  49.894171  2.295695      84.777143         4   \n",
       "11     11   6  Amiens  49.894171  2.295695      84.777143         5   \n",
       "12     12   6  Amiens  49.894171  2.295695      84.777143         6   \n",
       "13     13   6  Amiens  49.894171  2.295695      84.777143         7   \n",
       "14     14   4   Rouen  49.440459  1.093966      86.394286         1   \n",
       "15     15   4   Rouen  49.440459  1.093966      86.394286         2   \n",
       "16     16   4   Rouen  49.440459  1.093966      86.394286         3   \n",
       "17     17   4   Rouen  49.440459  1.093966      86.394286         4   \n",
       "18     18   4   Rouen  49.440459  1.093966      86.394286         5   \n",
       "19     19   4   Rouen  49.440459  1.093966      86.394286         6   \n",
       "20     20   4   Rouen  49.440459  1.093966      86.394286         7   \n",
       "\n",
       "    felt_temperature  rain_chances  humidity  \n",
       "0              15.03             0        43  \n",
       "1              14.52             0        49  \n",
       "2              16.94            93        52  \n",
       "3              14.86            15        44  \n",
       "4              15.61            26        37  \n",
       "5              15.41             0        41  \n",
       "6              16.87             0        47  \n",
       "7              14.33             0        56  \n",
       "8              11.49             0        65  \n",
       "9              13.81            15        68  \n",
       "10             12.52            28        60  \n",
       "11             10.74            20        63  \n",
       "12             10.48             0        63  \n",
       "13             14.91             0        59  \n",
       "14             14.58             0        57  \n",
       "15             13.61             0        64  \n",
       "16             15.52            46        67  \n",
       "17             12.71            33        60  \n",
       "18             12.44            20        58  \n",
       "19             13.26             0        58  \n",
       "20             15.75             0        59  "
      ]
     },
     "execution_count": 55,
     "metadata": {},
     "output_type": "execute_result"
    }
   ],
   "source": [
    "# Testing the data with a query\n",
    "query = text(\"SELECT * FROM weather LIMIT 21\")\n",
    "pd.read_sql(query, engine)"
   ]
  },
  {
   "cell_type": "code",
   "execution_count": 56,
   "metadata": {},
   "outputs": [
    {
     "name": "stdout",
     "output_type": "stream",
     "text": [
      "2022-04-20 10:01:08,572 INFO sqlalchemy.engine.Engine select relname from pg_class c join pg_namespace n on n.oid=c.relnamespace where pg_catalog.pg_table_is_visible(c.oid) and relname=%(name)s\n",
      "2022-04-20 10:01:08,574 INFO sqlalchemy.engine.Engine [cached since 3.222e+04s ago] {'name': 'SELECT * FROM hotels LIMIT 40'}\n",
      "2022-04-20 10:01:08,607 INFO sqlalchemy.engine.Engine SELECT * FROM hotels LIMIT 40\n",
      "2022-04-20 10:01:08,607 INFO sqlalchemy.engine.Engine [cached since 3.222e+04s ago] {}\n"
     ]
    },
    {
     "data": {
      "text/html": [
       "<div>\n",
       "<style scoped>\n",
       "    .dataframe tbody tr th:only-of-type {\n",
       "        vertical-align: middle;\n",
       "    }\n",
       "\n",
       "    .dataframe tbody tr th {\n",
       "        vertical-align: top;\n",
       "    }\n",
       "\n",
       "    .dataframe thead th {\n",
       "        text-align: right;\n",
       "    }\n",
       "</style>\n",
       "<table border=\"1\" class=\"dataframe\">\n",
       "  <thead>\n",
       "    <tr style=\"text-align: right;\">\n",
       "      <th></th>\n",
       "      <th>index</th>\n",
       "      <th>id</th>\n",
       "      <th>city</th>\n",
       "      <th>score_weather</th>\n",
       "      <th>name</th>\n",
       "      <th>url</th>\n",
       "      <th>lat_hotels</th>\n",
       "      <th>lon_hotels</th>\n",
       "      <th>description</th>\n",
       "      <th>score</th>\n",
       "    </tr>\n",
       "  </thead>\n",
       "  <tbody>\n",
       "    <tr>\n",
       "      <th>0</th>\n",
       "      <td>0</td>\n",
       "      <td>5</td>\n",
       "      <td>Paris</td>\n",
       "      <td>80.288571</td>\n",
       "      <td>Hôtel de Banville</td>\n",
       "      <td>https://www.booking.com/hotel/fr/hoteldebanvil...</td>\n",
       "      <td>48.886394</td>\n",
       "      <td>2.294946</td>\n",
       "      <td>Vous pouvez bénéficier d'une réduction Genius ...</td>\n",
       "      <td>8.4</td>\n",
       "    </tr>\n",
       "    <tr>\n",
       "      <th>1</th>\n",
       "      <td>1</td>\n",
       "      <td>5</td>\n",
       "      <td>Paris</td>\n",
       "      <td>80.288571</td>\n",
       "      <td>Room Mate Alain - Champs-Elysées</td>\n",
       "      <td>https://www.booking.com/hotel/fr/d-argentine.f...</td>\n",
       "      <td>48.874345</td>\n",
       "      <td>2.289776</td>\n",
       "      <td>Vous pouvez bénéficier d'une réduction Genius ...</td>\n",
       "      <td>8.5</td>\n",
       "    </tr>\n",
       "    <tr>\n",
       "      <th>2</th>\n",
       "      <td>2</td>\n",
       "      <td>5</td>\n",
       "      <td>Paris</td>\n",
       "      <td>80.288571</td>\n",
       "      <td>Westside Arc de Triomphe Hotel</td>\n",
       "      <td>https://www.booking.com/hotel/fr/westside-arc-...</td>\n",
       "      <td>48.881299</td>\n",
       "      <td>2.294803</td>\n",
       "      <td>Doté d’un bar-salon, le Westside Arc de Triomp...</td>\n",
       "      <td>8.0</td>\n",
       "    </tr>\n",
       "    <tr>\n",
       "      <th>3</th>\n",
       "      <td>3</td>\n",
       "      <td>5</td>\n",
       "      <td>Paris</td>\n",
       "      <td>80.288571</td>\n",
       "      <td>Hotel de L'Esperance</td>\n",
       "      <td>https://www.booking.com/hotel/fr/de-l-39-esper...</td>\n",
       "      <td>48.838158</td>\n",
       "      <td>2.349616</td>\n",
       "      <td>Vous pouvez bénéficier d'une réduction Genius ...</td>\n",
       "      <td>8.6</td>\n",
       "    </tr>\n",
       "    <tr>\n",
       "      <th>4</th>\n",
       "      <td>32</td>\n",
       "      <td>6</td>\n",
       "      <td>Amiens</td>\n",
       "      <td>84.777143</td>\n",
       "      <td>Studio / chambre calme prés de l'étang st pierre.</td>\n",
       "      <td>https://www.booking.com/hotel/fr/studio-chambr...</td>\n",
       "      <td>49.900350</td>\n",
       "      <td>2.312232</td>\n",
       "      <td>Doté d'une connexion Wi-Fi gratuite et offrant...</td>\n",
       "      <td>8.9</td>\n",
       "    </tr>\n",
       "    <tr>\n",
       "      <th>5</th>\n",
       "      <td>4</td>\n",
       "      <td>5</td>\n",
       "      <td>Paris</td>\n",
       "      <td>80.288571</td>\n",
       "      <td>Hotel Korner Eiffel</td>\n",
       "      <td>https://www.booking.com/hotel/fr/idealhotel.fr...</td>\n",
       "      <td>48.846590</td>\n",
       "      <td>2.288570</td>\n",
       "      <td>L’Hotel Korner Eiffel se trouve à 20 minutes d...</td>\n",
       "      <td>8.6</td>\n",
       "    </tr>\n",
       "    <tr>\n",
       "      <th>6</th>\n",
       "      <td>5</td>\n",
       "      <td>5</td>\n",
       "      <td>Paris</td>\n",
       "      <td>80.288571</td>\n",
       "      <td>Le Grey Hotel</td>\n",
       "      <td>https://www.booking.com/hotel/fr/grey.fr.html?...</td>\n",
       "      <td>48.881330</td>\n",
       "      <td>2.327415</td>\n",
       "      <td>Vous pouvez bénéficier d'une réduction Genius ...</td>\n",
       "      <td>8.9</td>\n",
       "    </tr>\n",
       "    <tr>\n",
       "      <th>7</th>\n",
       "      <td>6</td>\n",
       "      <td>5</td>\n",
       "      <td>Paris</td>\n",
       "      <td>80.288571</td>\n",
       "      <td>Austin's Arts Et Metiers Hotel</td>\n",
       "      <td>https://www.booking.com/hotel/fr/austin-s-arts...</td>\n",
       "      <td>48.866011</td>\n",
       "      <td>2.357098</td>\n",
       "      <td>Vous pouvez bénéficier d'une réduction Genius ...</td>\n",
       "      <td>8.4</td>\n",
       "    </tr>\n",
       "    <tr>\n",
       "      <th>8</th>\n",
       "      <td>7</td>\n",
       "      <td>5</td>\n",
       "      <td>Paris</td>\n",
       "      <td>80.288571</td>\n",
       "      <td>Grand Hôtel Amelot</td>\n",
       "      <td>https://www.booking.com/hotel/fr/grand-amelot-...</td>\n",
       "      <td>48.859257</td>\n",
       "      <td>2.368409</td>\n",
       "      <td>Vous pouvez bénéficier d'une réduction Genius ...</td>\n",
       "      <td>8.1</td>\n",
       "    </tr>\n",
       "    <tr>\n",
       "      <th>9</th>\n",
       "      <td>8</td>\n",
       "      <td>5</td>\n",
       "      <td>Paris</td>\n",
       "      <td>80.288571</td>\n",
       "      <td>Grand Hotel Francais</td>\n",
       "      <td>https://www.booking.com/hotel/fr/hotelfrancais...</td>\n",
       "      <td>48.851585</td>\n",
       "      <td>2.390827</td>\n",
       "      <td>Le Grand Hotel Français est un hôtel design si...</td>\n",
       "      <td>8.7</td>\n",
       "    </tr>\n",
       "    <tr>\n",
       "      <th>10</th>\n",
       "      <td>9</td>\n",
       "      <td>5</td>\n",
       "      <td>Paris</td>\n",
       "      <td>80.288571</td>\n",
       "      <td>Hotel Elysees Opera</td>\n",
       "      <td>https://www.booking.com/hotel/fr/america.fr.ht...</td>\n",
       "      <td>48.881415</td>\n",
       "      <td>2.324553</td>\n",
       "      <td>Vous pouvez bénéficier d'une réduction Genius ...</td>\n",
       "      <td>8.3</td>\n",
       "    </tr>\n",
       "    <tr>\n",
       "      <th>11</th>\n",
       "      <td>10</td>\n",
       "      <td>5</td>\n",
       "      <td>Paris</td>\n",
       "      <td>80.288571</td>\n",
       "      <td>Hotel Petit Lafayette</td>\n",
       "      <td>https://www.booking.com/hotel/fr/holiday-villa...</td>\n",
       "      <td>48.876067</td>\n",
       "      <td>2.345675</td>\n",
       "      <td>Vous pouvez bénéficier d'une réduction Genius ...</td>\n",
       "      <td>8.8</td>\n",
       "    </tr>\n",
       "    <tr>\n",
       "      <th>12</th>\n",
       "      <td>11</td>\n",
       "      <td>5</td>\n",
       "      <td>Paris</td>\n",
       "      <td>80.288571</td>\n",
       "      <td>HotelHome Paris 16</td>\n",
       "      <td>https://www.booking.com/hotel/fr/residencejasm...</td>\n",
       "      <td>48.850575</td>\n",
       "      <td>2.267432</td>\n",
       "      <td>Vous pouvez bénéficier d'une réduction Genius ...</td>\n",
       "      <td>8.6</td>\n",
       "    </tr>\n",
       "    <tr>\n",
       "      <th>13</th>\n",
       "      <td>12</td>\n",
       "      <td>5</td>\n",
       "      <td>Paris</td>\n",
       "      <td>80.288571</td>\n",
       "      <td>Sweet Inn - Turenne</td>\n",
       "      <td>https://www.booking.com/hotel/fr/sweet-inn-le-...</td>\n",
       "      <td>48.864444</td>\n",
       "      <td>2.364885</td>\n",
       "      <td>Vous pouvez bénéficier d'une réduction Genius ...</td>\n",
       "      <td>8.7</td>\n",
       "    </tr>\n",
       "    <tr>\n",
       "      <th>14</th>\n",
       "      <td>13</td>\n",
       "      <td>5</td>\n",
       "      <td>Paris</td>\n",
       "      <td>80.288571</td>\n",
       "      <td>Hotel Lutetia</td>\n",
       "      <td>https://www.booking.com/hotel/fr/lutetia-paris...</td>\n",
       "      <td>48.851244</td>\n",
       "      <td>2.327238</td>\n",
       "      <td>L’Hotel Lutetia - The Leading Hotels of the Wo...</td>\n",
       "      <td>8.9</td>\n",
       "    </tr>\n",
       "    <tr>\n",
       "      <th>15</th>\n",
       "      <td>14</td>\n",
       "      <td>5</td>\n",
       "      <td>Paris</td>\n",
       "      <td>80.288571</td>\n",
       "      <td>71 m with balcony and wifi near the Seine</td>\n",
       "      <td>https://www.booking.com/hotel/fr/71-m-with-bal...</td>\n",
       "      <td>48.846155</td>\n",
       "      <td>2.280192</td>\n",
       "      <td>Dans le 15e arr. Situé dans le quartier de Par...</td>\n",
       "      <td>5.0</td>\n",
       "    </tr>\n",
       "    <tr>\n",
       "      <th>16</th>\n",
       "      <td>15</td>\n",
       "      <td>5</td>\n",
       "      <td>Paris</td>\n",
       "      <td>80.288571</td>\n",
       "      <td>Ibis Paris Tour Eiffel Cambronne 15ème</td>\n",
       "      <td>https://www.booking.com/hotel/fr/ibis-paris-to...</td>\n",
       "      <td>48.847004</td>\n",
       "      <td>2.301413</td>\n",
       "      <td>Situé dans le 15ème arrondissement de Paris, à...</td>\n",
       "      <td>7.4</td>\n",
       "    </tr>\n",
       "    <tr>\n",
       "      <th>17</th>\n",
       "      <td>16</td>\n",
       "      <td>5</td>\n",
       "      <td>Paris</td>\n",
       "      <td>80.288571</td>\n",
       "      <td>Home Suite Home Roses 2BR</td>\n",
       "      <td>https://www.booking.com/hotel/fr/home-suite-ho...</td>\n",
       "      <td>48.893396</td>\n",
       "      <td>2.361590</td>\n",
       "      <td>Situé à Paris, à 1,6 km du Sacré-Cœur et à 2 k...</td>\n",
       "      <td>5.0</td>\n",
       "    </tr>\n",
       "    <tr>\n",
       "      <th>18</th>\n",
       "      <td>17</td>\n",
       "      <td>5</td>\n",
       "      <td>Paris</td>\n",
       "      <td>80.288571</td>\n",
       "      <td>Amazing apartment under the roof in Paris 8th</td>\n",
       "      <td>https://www.booking.com/hotel/fr/amazing-apart...</td>\n",
       "      <td>48.879111</td>\n",
       "      <td>2.327707</td>\n",
       "      <td>Offrant une vue sur la ville, l'Amazing apartm...</td>\n",
       "      <td>5.0</td>\n",
       "    </tr>\n",
       "    <tr>\n",
       "      <th>19</th>\n",
       "      <td>18</td>\n",
       "      <td>5</td>\n",
       "      <td>Paris</td>\n",
       "      <td>80.288571</td>\n",
       "      <td>Bright new apartment with wifi</td>\n",
       "      <td>https://www.booking.com/hotel/fr/bright-new-ap...</td>\n",
       "      <td>48.830280</td>\n",
       "      <td>2.341702</td>\n",
       "      <td>Situé à Paris, à 1,9 km du jardin du Luxembour...</td>\n",
       "      <td>5.0</td>\n",
       "    </tr>\n",
       "    <tr>\n",
       "      <th>20</th>\n",
       "      <td>19</td>\n",
       "      <td>5</td>\n",
       "      <td>Paris</td>\n",
       "      <td>80.288571</td>\n",
       "      <td>GuestReady - Lovely Bright Flat with Private P...</td>\n",
       "      <td>https://www.booking.com/hotel/fr/guestready-lo...</td>\n",
       "      <td>48.855231</td>\n",
       "      <td>2.326267</td>\n",
       "      <td>Situé dans le centre de Paris, à seulement 600...</td>\n",
       "      <td>9.0</td>\n",
       "    </tr>\n",
       "    <tr>\n",
       "      <th>21</th>\n",
       "      <td>20</td>\n",
       "      <td>6</td>\n",
       "      <td>Amiens</td>\n",
       "      <td>84.777143</td>\n",
       "      <td>Le Majestic Cathédrale</td>\n",
       "      <td>https://www.booking.com/hotel/fr/le-duplex-ami...</td>\n",
       "      <td>49.895383</td>\n",
       "      <td>2.297772</td>\n",
       "      <td>Vous pouvez bénéficier d'une réduction Genius ...</td>\n",
       "      <td>9.3</td>\n",
       "    </tr>\n",
       "    <tr>\n",
       "      <th>22</th>\n",
       "      <td>21</td>\n",
       "      <td>6</td>\n",
       "      <td>Amiens</td>\n",
       "      <td>84.777143</td>\n",
       "      <td>Ginkgo Maison d'hôtes</td>\n",
       "      <td>https://www.booking.com/hotel/fr/ginkgo-maison...</td>\n",
       "      <td>49.887125</td>\n",
       "      <td>2.295143</td>\n",
       "      <td>Installé à Amiens, à moins de 2,3 km du Zénith...</td>\n",
       "      <td>9.4</td>\n",
       "    </tr>\n",
       "    <tr>\n",
       "      <th>23</th>\n",
       "      <td>22</td>\n",
       "      <td>6</td>\n",
       "      <td>Amiens</td>\n",
       "      <td>84.777143</td>\n",
       "      <td>Holiday Inn Express Amiens, an IHG Hotel</td>\n",
       "      <td>https://www.booking.com/hotel/fr/express-by-ho...</td>\n",
       "      <td>49.891676</td>\n",
       "      <td>2.307754</td>\n",
       "      <td>Rénové en avril 2015, le Holiday Inn Express A...</td>\n",
       "      <td>8.1</td>\n",
       "    </tr>\n",
       "    <tr>\n",
       "      <th>24</th>\n",
       "      <td>23</td>\n",
       "      <td>6</td>\n",
       "      <td>Amiens</td>\n",
       "      <td>84.777143</td>\n",
       "      <td>ibis Styles Amiens Centre</td>\n",
       "      <td>https://www.booking.com/hotel/fr/ibis-styles-a...</td>\n",
       "      <td>49.891422</td>\n",
       "      <td>2.304996</td>\n",
       "      <td>Situé à Amiens, à 3,4 km du Zénith, l'ibis Sty...</td>\n",
       "      <td>8.7</td>\n",
       "    </tr>\n",
       "    <tr>\n",
       "      <th>25</th>\n",
       "      <td>24</td>\n",
       "      <td>6</td>\n",
       "      <td>Amiens</td>\n",
       "      <td>84.777143</td>\n",
       "      <td>ibis budget Amiens Centre Gare</td>\n",
       "      <td>https://www.booking.com/hotel/fr/ibis-budget-a...</td>\n",
       "      <td>49.891591</td>\n",
       "      <td>2.313573</td>\n",
       "      <td>L'ibis budget Amiens Centre Gare est situé dan...</td>\n",
       "      <td>8.2</td>\n",
       "    </tr>\n",
       "    <tr>\n",
       "      <th>26</th>\n",
       "      <td>25</td>\n",
       "      <td>6</td>\n",
       "      <td>Amiens</td>\n",
       "      <td>84.777143</td>\n",
       "      <td>Mercure Amiens Cathédrale</td>\n",
       "      <td>https://www.booking.com/hotel/fr/mercure-amien...</td>\n",
       "      <td>49.895711</td>\n",
       "      <td>2.299562</td>\n",
       "      <td>L’hôtel 4 étoiles Mercure Amiens Cathédrale vo...</td>\n",
       "      <td>8.3</td>\n",
       "    </tr>\n",
       "    <tr>\n",
       "      <th>27</th>\n",
       "      <td>91</td>\n",
       "      <td>3</td>\n",
       "      <td>Le Havre</td>\n",
       "      <td>99.414286</td>\n",
       "      <td>F2 - Le Havre</td>\n",
       "      <td>https://www.booking.com/hotel/fr/f2-le-havre.f...</td>\n",
       "      <td>49.484803</td>\n",
       "      <td>0.134460</td>\n",
       "      <td>Le F2 - Le Havre est situé au Havre, à 2,1 km ...</td>\n",
       "      <td>8.3</td>\n",
       "    </tr>\n",
       "    <tr>\n",
       "      <th>28</th>\n",
       "      <td>26</td>\n",
       "      <td>6</td>\n",
       "      <td>Amiens</td>\n",
       "      <td>84.777143</td>\n",
       "      <td>ibis Amiens Centre Cathedrale</td>\n",
       "      <td>https://www.booking.com/hotel/fr/ibis-amiens-c...</td>\n",
       "      <td>49.891999</td>\n",
       "      <td>2.291970</td>\n",
       "      <td>Doté d'un restaurant et d'une connexion Wi-Fi ...</td>\n",
       "      <td>7.4</td>\n",
       "    </tr>\n",
       "    <tr>\n",
       "      <th>29</th>\n",
       "      <td>27</td>\n",
       "      <td>6</td>\n",
       "      <td>Amiens</td>\n",
       "      <td>84.777143</td>\n",
       "      <td>Comfort Hotel Amiens Nord</td>\n",
       "      <td>https://www.booking.com/hotel/fr/kyriad-amiens...</td>\n",
       "      <td>49.925134</td>\n",
       "      <td>2.304573</td>\n",
       "      <td>Doté d’une terrasse, le Comfort Hotel Amiens N...</td>\n",
       "      <td>6.9</td>\n",
       "    </tr>\n",
       "    <tr>\n",
       "      <th>30</th>\n",
       "      <td>28</td>\n",
       "      <td>6</td>\n",
       "      <td>Amiens</td>\n",
       "      <td>84.777143</td>\n",
       "      <td>Appart'City Amiens Gare Cathédrale</td>\n",
       "      <td>https://www.booking.com/hotel/fr/appart-city-a...</td>\n",
       "      <td>49.894316</td>\n",
       "      <td>2.309761</td>\n",
       "      <td>Situé à 300 mètres de la cathédrale Notre-Dame...</td>\n",
       "      <td>7.4</td>\n",
       "    </tr>\n",
       "    <tr>\n",
       "      <th>31</th>\n",
       "      <td>29</td>\n",
       "      <td>6</td>\n",
       "      <td>Amiens</td>\n",
       "      <td>84.777143</td>\n",
       "      <td>Hotel Le Prieuré et La Résidence</td>\n",
       "      <td>https://www.booking.com/hotel/fr/le-prieure-am...</td>\n",
       "      <td>49.894445</td>\n",
       "      <td>2.300942</td>\n",
       "      <td>L'Hotel Le Prieuré et La Résidence est situé d...</td>\n",
       "      <td>8.4</td>\n",
       "    </tr>\n",
       "    <tr>\n",
       "      <th>32</th>\n",
       "      <td>30</td>\n",
       "      <td>6</td>\n",
       "      <td>Amiens</td>\n",
       "      <td>84.777143</td>\n",
       "      <td>Le Saint Louis</td>\n",
       "      <td>https://www.booking.com/hotel/fr/le-saint-loui...</td>\n",
       "      <td>49.889779</td>\n",
       "      <td>2.302499</td>\n",
       "      <td>Le Saint Louis est situé dans le centre-ville ...</td>\n",
       "      <td>8.1</td>\n",
       "    </tr>\n",
       "    <tr>\n",
       "      <th>33</th>\n",
       "      <td>31</td>\n",
       "      <td>6</td>\n",
       "      <td>Amiens</td>\n",
       "      <td>84.777143</td>\n",
       "      <td>Charmant T2 hyper centre. Cathédrale</td>\n",
       "      <td>https://www.booking.com/hotel/fr/charmant-t2-h...</td>\n",
       "      <td>49.893876</td>\n",
       "      <td>2.300911</td>\n",
       "      <td>Doté d'une terrasse et d'un service de concier...</td>\n",
       "      <td>9.0</td>\n",
       "    </tr>\n",
       "    <tr>\n",
       "      <th>34</th>\n",
       "      <td>33</td>\n",
       "      <td>6</td>\n",
       "      <td>Amiens</td>\n",
       "      <td>84.777143</td>\n",
       "      <td>Première Classe Amiens</td>\n",
       "      <td>https://www.booking.com/hotel/fr/premia-re-cla...</td>\n",
       "      <td>49.918568</td>\n",
       "      <td>2.293313</td>\n",
       "      <td>Le Première Classe Amiens se situe à 3 km du c...</td>\n",
       "      <td>6.3</td>\n",
       "    </tr>\n",
       "    <tr>\n",
       "      <th>35</th>\n",
       "      <td>34</td>\n",
       "      <td>6</td>\n",
       "      <td>Amiens</td>\n",
       "      <td>84.777143</td>\n",
       "      <td>LA BERGE</td>\n",
       "      <td>https://www.booking.com/hotel/fr/la-berge.fr.h...</td>\n",
       "      <td>49.896102</td>\n",
       "      <td>2.310790</td>\n",
       "      <td>Doté d'une connexion Wi-Fi et d'un parking pri...</td>\n",
       "      <td>9.3</td>\n",
       "    </tr>\n",
       "    <tr>\n",
       "      <th>36</th>\n",
       "      <td>35</td>\n",
       "      <td>6</td>\n",
       "      <td>Amiens</td>\n",
       "      <td>84.777143</td>\n",
       "      <td>Bonvallet - Studio paisible et chaleureux avec...</td>\n",
       "      <td>https://www.booking.com/hotel/fr/bonvallet-2-b...</td>\n",
       "      <td>49.900891</td>\n",
       "      <td>2.290915</td>\n",
       "      <td>Doté d'une terrasse et offrant une vue sur le ...</td>\n",
       "      <td>9.3</td>\n",
       "    </tr>\n",
       "    <tr>\n",
       "      <th>37</th>\n",
       "      <td>36</td>\n",
       "      <td>6</td>\n",
       "      <td>Amiens</td>\n",
       "      <td>84.777143</td>\n",
       "      <td>La Chambre D'Amiens</td>\n",
       "      <td>https://www.booking.com/hotel/fr/la-chambre-d-...</td>\n",
       "      <td>49.894484</td>\n",
       "      <td>2.276803</td>\n",
       "      <td>Situé à Amiens, à 900 mètres du Zénith, l'étab...</td>\n",
       "      <td>8.5</td>\n",
       "    </tr>\n",
       "    <tr>\n",
       "      <th>38</th>\n",
       "      <td>37</td>\n",
       "      <td>6</td>\n",
       "      <td>Amiens</td>\n",
       "      <td>84.777143</td>\n",
       "      <td>LA CABANE</td>\n",
       "      <td>https://www.booking.com/hotel/fr/la-cabane-ami...</td>\n",
       "      <td>49.896102</td>\n",
       "      <td>2.310790</td>\n",
       "      <td>Doté d'une connexion Wi-Fi et d'un parking pri...</td>\n",
       "      <td>9.1</td>\n",
       "    </tr>\n",
       "    <tr>\n",
       "      <th>39</th>\n",
       "      <td>38</td>\n",
       "      <td>6</td>\n",
       "      <td>Amiens</td>\n",
       "      <td>84.777143</td>\n",
       "      <td>Hotel Victor Hugo</td>\n",
       "      <td>https://www.booking.com/hotel/fr/victor-hugo-a...</td>\n",
       "      <td>49.893251</td>\n",
       "      <td>2.304545</td>\n",
       "      <td>L'Hotel Victor Hugo propose des hébergements à...</td>\n",
       "      <td>7.8</td>\n",
       "    </tr>\n",
       "  </tbody>\n",
       "</table>\n",
       "</div>"
      ],
      "text/plain": [
       "    index  id      city  score_weather  \\\n",
       "0       0   5     Paris      80.288571   \n",
       "1       1   5     Paris      80.288571   \n",
       "2       2   5     Paris      80.288571   \n",
       "3       3   5     Paris      80.288571   \n",
       "4      32   6    Amiens      84.777143   \n",
       "5       4   5     Paris      80.288571   \n",
       "6       5   5     Paris      80.288571   \n",
       "7       6   5     Paris      80.288571   \n",
       "8       7   5     Paris      80.288571   \n",
       "9       8   5     Paris      80.288571   \n",
       "10      9   5     Paris      80.288571   \n",
       "11     10   5     Paris      80.288571   \n",
       "12     11   5     Paris      80.288571   \n",
       "13     12   5     Paris      80.288571   \n",
       "14     13   5     Paris      80.288571   \n",
       "15     14   5     Paris      80.288571   \n",
       "16     15   5     Paris      80.288571   \n",
       "17     16   5     Paris      80.288571   \n",
       "18     17   5     Paris      80.288571   \n",
       "19     18   5     Paris      80.288571   \n",
       "20     19   5     Paris      80.288571   \n",
       "21     20   6    Amiens      84.777143   \n",
       "22     21   6    Amiens      84.777143   \n",
       "23     22   6    Amiens      84.777143   \n",
       "24     23   6    Amiens      84.777143   \n",
       "25     24   6    Amiens      84.777143   \n",
       "26     25   6    Amiens      84.777143   \n",
       "27     91   3  Le Havre      99.414286   \n",
       "28     26   6    Amiens      84.777143   \n",
       "29     27   6    Amiens      84.777143   \n",
       "30     28   6    Amiens      84.777143   \n",
       "31     29   6    Amiens      84.777143   \n",
       "32     30   6    Amiens      84.777143   \n",
       "33     31   6    Amiens      84.777143   \n",
       "34     33   6    Amiens      84.777143   \n",
       "35     34   6    Amiens      84.777143   \n",
       "36     35   6    Amiens      84.777143   \n",
       "37     36   6    Amiens      84.777143   \n",
       "38     37   6    Amiens      84.777143   \n",
       "39     38   6    Amiens      84.777143   \n",
       "\n",
       "                                                 name  \\\n",
       "0                                   Hôtel de Banville   \n",
       "1                    Room Mate Alain - Champs-Elysées   \n",
       "2                      Westside Arc de Triomphe Hotel   \n",
       "3                                Hotel de L'Esperance   \n",
       "4   Studio / chambre calme prés de l'étang st pierre.   \n",
       "5                                 Hotel Korner Eiffel   \n",
       "6                                       Le Grey Hotel   \n",
       "7                      Austin's Arts Et Metiers Hotel   \n",
       "8                                  Grand Hôtel Amelot   \n",
       "9                                Grand Hotel Francais   \n",
       "10                                Hotel Elysees Opera   \n",
       "11                              Hotel Petit Lafayette   \n",
       "12                                 HotelHome Paris 16   \n",
       "13                                Sweet Inn - Turenne   \n",
       "14                                      Hotel Lutetia   \n",
       "15          71 m with balcony and wifi near the Seine   \n",
       "16             Ibis Paris Tour Eiffel Cambronne 15ème   \n",
       "17                          Home Suite Home Roses 2BR   \n",
       "18      Amazing apartment under the roof in Paris 8th   \n",
       "19                     Bright new apartment with wifi   \n",
       "20  GuestReady - Lovely Bright Flat with Private P...   \n",
       "21                             Le Majestic Cathédrale   \n",
       "22                              Ginkgo Maison d'hôtes   \n",
       "23           Holiday Inn Express Amiens, an IHG Hotel   \n",
       "24                          ibis Styles Amiens Centre   \n",
       "25                     ibis budget Amiens Centre Gare   \n",
       "26                          Mercure Amiens Cathédrale   \n",
       "27                                      F2 - Le Havre   \n",
       "28                      ibis Amiens Centre Cathedrale   \n",
       "29                          Comfort Hotel Amiens Nord   \n",
       "30                 Appart'City Amiens Gare Cathédrale   \n",
       "31                   Hotel Le Prieuré et La Résidence   \n",
       "32                                     Le Saint Louis   \n",
       "33               Charmant T2 hyper centre. Cathédrale   \n",
       "34                             Première Classe Amiens   \n",
       "35                                           LA BERGE   \n",
       "36  Bonvallet - Studio paisible et chaleureux avec...   \n",
       "37                                La Chambre D'Amiens   \n",
       "38                                          LA CABANE   \n",
       "39                                  Hotel Victor Hugo   \n",
       "\n",
       "                                                  url  lat_hotels  lon_hotels  \\\n",
       "0   https://www.booking.com/hotel/fr/hoteldebanvil...   48.886394    2.294946   \n",
       "1   https://www.booking.com/hotel/fr/d-argentine.f...   48.874345    2.289776   \n",
       "2   https://www.booking.com/hotel/fr/westside-arc-...   48.881299    2.294803   \n",
       "3   https://www.booking.com/hotel/fr/de-l-39-esper...   48.838158    2.349616   \n",
       "4   https://www.booking.com/hotel/fr/studio-chambr...   49.900350    2.312232   \n",
       "5   https://www.booking.com/hotel/fr/idealhotel.fr...   48.846590    2.288570   \n",
       "6   https://www.booking.com/hotel/fr/grey.fr.html?...   48.881330    2.327415   \n",
       "7   https://www.booking.com/hotel/fr/austin-s-arts...   48.866011    2.357098   \n",
       "8   https://www.booking.com/hotel/fr/grand-amelot-...   48.859257    2.368409   \n",
       "9   https://www.booking.com/hotel/fr/hotelfrancais...   48.851585    2.390827   \n",
       "10  https://www.booking.com/hotel/fr/america.fr.ht...   48.881415    2.324553   \n",
       "11  https://www.booking.com/hotel/fr/holiday-villa...   48.876067    2.345675   \n",
       "12  https://www.booking.com/hotel/fr/residencejasm...   48.850575    2.267432   \n",
       "13  https://www.booking.com/hotel/fr/sweet-inn-le-...   48.864444    2.364885   \n",
       "14  https://www.booking.com/hotel/fr/lutetia-paris...   48.851244    2.327238   \n",
       "15  https://www.booking.com/hotel/fr/71-m-with-bal...   48.846155    2.280192   \n",
       "16  https://www.booking.com/hotel/fr/ibis-paris-to...   48.847004    2.301413   \n",
       "17  https://www.booking.com/hotel/fr/home-suite-ho...   48.893396    2.361590   \n",
       "18  https://www.booking.com/hotel/fr/amazing-apart...   48.879111    2.327707   \n",
       "19  https://www.booking.com/hotel/fr/bright-new-ap...   48.830280    2.341702   \n",
       "20  https://www.booking.com/hotel/fr/guestready-lo...   48.855231    2.326267   \n",
       "21  https://www.booking.com/hotel/fr/le-duplex-ami...   49.895383    2.297772   \n",
       "22  https://www.booking.com/hotel/fr/ginkgo-maison...   49.887125    2.295143   \n",
       "23  https://www.booking.com/hotel/fr/express-by-ho...   49.891676    2.307754   \n",
       "24  https://www.booking.com/hotel/fr/ibis-styles-a...   49.891422    2.304996   \n",
       "25  https://www.booking.com/hotel/fr/ibis-budget-a...   49.891591    2.313573   \n",
       "26  https://www.booking.com/hotel/fr/mercure-amien...   49.895711    2.299562   \n",
       "27  https://www.booking.com/hotel/fr/f2-le-havre.f...   49.484803    0.134460   \n",
       "28  https://www.booking.com/hotel/fr/ibis-amiens-c...   49.891999    2.291970   \n",
       "29  https://www.booking.com/hotel/fr/kyriad-amiens...   49.925134    2.304573   \n",
       "30  https://www.booking.com/hotel/fr/appart-city-a...   49.894316    2.309761   \n",
       "31  https://www.booking.com/hotel/fr/le-prieure-am...   49.894445    2.300942   \n",
       "32  https://www.booking.com/hotel/fr/le-saint-loui...   49.889779    2.302499   \n",
       "33  https://www.booking.com/hotel/fr/charmant-t2-h...   49.893876    2.300911   \n",
       "34  https://www.booking.com/hotel/fr/premia-re-cla...   49.918568    2.293313   \n",
       "35  https://www.booking.com/hotel/fr/la-berge.fr.h...   49.896102    2.310790   \n",
       "36  https://www.booking.com/hotel/fr/bonvallet-2-b...   49.900891    2.290915   \n",
       "37  https://www.booking.com/hotel/fr/la-chambre-d-...   49.894484    2.276803   \n",
       "38  https://www.booking.com/hotel/fr/la-cabane-ami...   49.896102    2.310790   \n",
       "39  https://www.booking.com/hotel/fr/victor-hugo-a...   49.893251    2.304545   \n",
       "\n",
       "                                          description  score  \n",
       "0   Vous pouvez bénéficier d'une réduction Genius ...    8.4  \n",
       "1   Vous pouvez bénéficier d'une réduction Genius ...    8.5  \n",
       "2   Doté d’un bar-salon, le Westside Arc de Triomp...    8.0  \n",
       "3   Vous pouvez bénéficier d'une réduction Genius ...    8.6  \n",
       "4   Doté d'une connexion Wi-Fi gratuite et offrant...    8.9  \n",
       "5   L’Hotel Korner Eiffel se trouve à 20 minutes d...    8.6  \n",
       "6   Vous pouvez bénéficier d'une réduction Genius ...    8.9  \n",
       "7   Vous pouvez bénéficier d'une réduction Genius ...    8.4  \n",
       "8   Vous pouvez bénéficier d'une réduction Genius ...    8.1  \n",
       "9   Le Grand Hotel Français est un hôtel design si...    8.7  \n",
       "10  Vous pouvez bénéficier d'une réduction Genius ...    8.3  \n",
       "11  Vous pouvez bénéficier d'une réduction Genius ...    8.8  \n",
       "12  Vous pouvez bénéficier d'une réduction Genius ...    8.6  \n",
       "13  Vous pouvez bénéficier d'une réduction Genius ...    8.7  \n",
       "14  L’Hotel Lutetia - The Leading Hotels of the Wo...    8.9  \n",
       "15  Dans le 15e arr. Situé dans le quartier de Par...    5.0  \n",
       "16  Situé dans le 15ème arrondissement de Paris, à...    7.4  \n",
       "17  Situé à Paris, à 1,6 km du Sacré-Cœur et à 2 k...    5.0  \n",
       "18  Offrant une vue sur la ville, l'Amazing apartm...    5.0  \n",
       "19  Situé à Paris, à 1,9 km du jardin du Luxembour...    5.0  \n",
       "20  Situé dans le centre de Paris, à seulement 600...    9.0  \n",
       "21  Vous pouvez bénéficier d'une réduction Genius ...    9.3  \n",
       "22  Installé à Amiens, à moins de 2,3 km du Zénith...    9.4  \n",
       "23  Rénové en avril 2015, le Holiday Inn Express A...    8.1  \n",
       "24  Situé à Amiens, à 3,4 km du Zénith, l'ibis Sty...    8.7  \n",
       "25  L'ibis budget Amiens Centre Gare est situé dan...    8.2  \n",
       "26  L’hôtel 4 étoiles Mercure Amiens Cathédrale vo...    8.3  \n",
       "27  Le F2 - Le Havre est situé au Havre, à 2,1 km ...    8.3  \n",
       "28  Doté d'un restaurant et d'une connexion Wi-Fi ...    7.4  \n",
       "29  Doté d’une terrasse, le Comfort Hotel Amiens N...    6.9  \n",
       "30  Situé à 300 mètres de la cathédrale Notre-Dame...    7.4  \n",
       "31  L'Hotel Le Prieuré et La Résidence est situé d...    8.4  \n",
       "32  Le Saint Louis est situé dans le centre-ville ...    8.1  \n",
       "33  Doté d'une terrasse et d'un service de concier...    9.0  \n",
       "34  Le Première Classe Amiens se situe à 3 km du c...    6.3  \n",
       "35  Doté d'une connexion Wi-Fi et d'un parking pri...    9.3  \n",
       "36  Doté d'une terrasse et offrant une vue sur le ...    9.3  \n",
       "37  Situé à Amiens, à 900 mètres du Zénith, l'étab...    8.5  \n",
       "38  Doté d'une connexion Wi-Fi et d'un parking pri...    9.1  \n",
       "39  L'Hotel Victor Hugo propose des hébergements à...    7.8  "
      ]
     },
     "execution_count": 56,
     "metadata": {},
     "output_type": "execute_result"
    }
   ],
   "source": [
    "query = text(\"SELECT * FROM hotels LIMIT 40\")\n",
    "pd.read_sql(query, engine)"
   ]
  },
  {
   "cell_type": "markdown",
   "metadata": {},
   "source": [
    "## Plotting Maps"
   ]
  },
  {
   "cell_type": "code",
   "execution_count": 23,
   "metadata": {},
   "outputs": [],
   "source": [
    "# Creating a new column to be used to determine the size of the points in the plot\n",
    "df_weather_full['inverted_score'] = max(df_weather_full['score_weather']) - df_weather_full['score_weather']"
   ]
  },
  {
   "cell_type": "markdown",
   "metadata": {},
   "source": [
    "### Weather Map"
   ]
  },
  {
   "cell_type": "code",
   "execution_count": 25,
   "metadata": {},
   "outputs": [
    {
     "data": {
      "application/vnd.plotly.v1+json": {
       "config": {
        "plotlyServerURL": "https://plot.ly"
       },
       "data": [
        {
         "customdata": [
          [
           42.52505,
           3.0831554,
           1,
           100,
           83,
           11.11,
           57.48571428571428
          ],
          [
           50.6365654,
           3.0635282,
           1,
           0,
           51,
           15.09,
           55.47714285714284
          ],
          [
           43.5298424,
           5.4474738,
           1,
           100,
           49,
           17.67,
           51.148571428571415
          ],
          [
           49.8941708,
           2.2956951,
           1,
           0,
           56,
           14.55,
           51.1142857142857
          ],
          [
           49.4404591,
           1.0939658,
           1,
           0,
           58,
           14.53,
           48.8685714285714
          ]
         ],
         "hovertemplate": "<b>%{hovertext}</b><br><br>Rain chances=%{customdata[3]}<br>Humidity=%{customdata[4]}<br>Felt temperature=%{marker.color}<extra></extra>",
         "hovertext": [
          "Collioure",
          "Lille",
          "Aix en Provence",
          "Amiens",
          "Rouen"
         ],
         "lat": [
          42.52505,
          50.6365654,
          43.5298424,
          49.8941708,
          49.4404591
         ],
         "legendgroup": "",
         "lon": [
          3.0831554,
          3.0635282,
          5.4474738,
          2.2956951,
          1.0939658
         ],
         "marker": {
          "color": [
           11.11,
           15.09,
           17.67,
           14.55,
           14.53
          ],
          "coloraxis": "coloraxis",
          "size": [
           57.48571428571428,
           55.47714285714284,
           51.148571428571415,
           51.1142857142857,
           48.8685714285714
          ],
          "sizemode": "area",
          "sizeref": 0.0469271137026239
         },
         "mode": "markers",
         "name": "",
         "showlegend": false,
         "subplot": "mapbox",
         "type": "scattermapbox"
        }
       ],
       "frames": [
        {
         "data": [
          {
           "customdata": [
            [
             42.52505,
             3.0831554,
             1,
             100,
             83,
             11.11,
             57.48571428571428
            ],
            [
             50.6365654,
             3.0635282,
             1,
             0,
             51,
             15.09,
             55.47714285714284
            ],
            [
             43.5298424,
             5.4474738,
             1,
             100,
             49,
             17.67,
             51.148571428571415
            ],
            [
             49.8941708,
             2.2956951,
             1,
             0,
             56,
             14.55,
             51.1142857142857
            ],
            [
             49.4404591,
             1.0939658,
             1,
             0,
             58,
             14.53,
             48.8685714285714
            ]
           ],
           "hovertemplate": "<b>%{hovertext}</b><br><br>Rain chances=%{customdata[3]}<br>Humidity=%{customdata[4]}<br>Felt temperature=%{marker.color}<extra></extra>",
           "hovertext": [
            "Collioure",
            "Lille",
            "Aix en Provence",
            "Amiens",
            "Rouen"
           ],
           "lat": [
            42.52505,
            50.6365654,
            43.5298424,
            49.8941708,
            49.4404591
           ],
           "legendgroup": "",
           "lon": [
            3.0831554,
            3.0635282,
            5.4474738,
            2.2956951,
            1.0939658
           ],
           "marker": {
            "color": [
             11.11,
             15.09,
             17.67,
             14.55,
             14.53
            ],
            "coloraxis": "coloraxis",
            "size": [
             57.48571428571428,
             55.47714285714284,
             51.148571428571415,
             51.1142857142857,
             48.8685714285714
            ],
            "sizemode": "area",
            "sizeref": 0.0469271137026239
           },
           "mode": "markers",
           "name": "",
           "showlegend": false,
           "subplot": "mapbox",
           "type": "scattermapbox"
          }
         ],
         "name": "1"
        },
        {
         "data": [
          {
           "customdata": [
            [
             42.52505,
             3.0831554,
             2,
             0,
             57,
             16.95,
             57.48571428571428
            ],
            [
             50.6365654,
             3.0635282,
             2,
             3,
             61,
             11.19,
             55.47714285714284
            ],
            [
             43.5298424,
             5.4474738,
             2,
             53,
             55,
             17.83,
             51.148571428571415
            ],
            [
             49.8941708,
             2.2956951,
             2,
             0,
             60,
             13.06,
             51.1142857142857
            ],
            [
             49.4404591,
             1.0939658,
             2,
             0,
             62,
             14.2,
             48.8685714285714
            ]
           ],
           "hovertemplate": "<b>%{hovertext}</b><br><br>Rain chances=%{customdata[3]}<br>Humidity=%{customdata[4]}<br>Felt temperature=%{marker.color}<extra></extra>",
           "hovertext": [
            "Collioure",
            "Lille",
            "Aix en Provence",
            "Amiens",
            "Rouen"
           ],
           "lat": [
            42.52505,
            50.6365654,
            43.5298424,
            49.8941708,
            49.4404591
           ],
           "legendgroup": "",
           "lon": [
            3.0831554,
            3.0635282,
            5.4474738,
            2.2956951,
            1.0939658
           ],
           "marker": {
            "color": [
             16.95,
             11.19,
             17.83,
             13.06,
             14.2
            ],
            "coloraxis": "coloraxis",
            "size": [
             57.48571428571428,
             55.47714285714284,
             51.148571428571415,
             51.1142857142857,
             48.8685714285714
            ],
            "sizemode": "area",
            "sizeref": 0.0469271137026239
           },
           "mode": "markers",
           "name": "",
           "showlegend": false,
           "subplot": "mapbox",
           "type": "scattermapbox"
          }
         ],
         "name": "2"
        },
        {
         "data": [
          {
           "customdata": [
            [
             42.52505,
             3.0831554,
             3,
             45,
             58,
             18.66,
             57.48571428571428
            ],
            [
             50.6365654,
             3.0635282,
             3,
             94,
             58,
             15.8,
             55.47714285714284
            ],
            [
             43.5298424,
             5.4474738,
             3,
             96,
             60,
             17.59,
             51.148571428571415
            ],
            [
             49.8941708,
             2.2956951,
             3,
             100,
             64,
             15.98,
             51.1142857142857
            ],
            [
             49.4404591,
             1.0939658,
             3,
             100,
             68,
             16.09,
             48.8685714285714
            ]
           ],
           "hovertemplate": "<b>%{hovertext}</b><br><br>Rain chances=%{customdata[3]}<br>Humidity=%{customdata[4]}<br>Felt temperature=%{marker.color}<extra></extra>",
           "hovertext": [
            "Collioure",
            "Lille",
            "Aix en Provence",
            "Amiens",
            "Rouen"
           ],
           "lat": [
            42.52505,
            50.6365654,
            43.5298424,
            49.8941708,
            49.4404591
           ],
           "legendgroup": "",
           "lon": [
            3.0831554,
            3.0635282,
            5.4474738,
            2.2956951,
            1.0939658
           ],
           "marker": {
            "color": [
             18.66,
             15.8,
             17.59,
             15.98,
             16.09
            ],
            "coloraxis": "coloraxis",
            "size": [
             57.48571428571428,
             55.47714285714284,
             51.148571428571415,
             51.1142857142857,
             48.8685714285714
            ],
            "sizemode": "area",
            "sizeref": 0.0469271137026239
           },
           "mode": "markers",
           "name": "",
           "showlegend": false,
           "subplot": "mapbox",
           "type": "scattermapbox"
          }
         ],
         "name": "3"
        },
        {
         "data": [
          {
           "customdata": [
            [
             42.52505,
             3.0831554,
             4,
             33,
             52,
             16.33,
             57.48571428571428
            ],
            [
             50.6365654,
             3.0635282,
             4,
             64,
             60,
             13.54,
             55.47714285714284
            ],
            [
             43.5298424,
             5.4474738,
             4,
             73,
             43,
             16.63,
             51.148571428571415
            ],
            [
             49.8941708,
             2.2956951,
             4,
             91,
             71,
             12.02,
             51.1142857142857
            ],
            [
             49.4404591,
             1.0939658,
             4,
             98,
             70,
             12.87,
             48.8685714285714
            ]
           ],
           "hovertemplate": "<b>%{hovertext}</b><br><br>Rain chances=%{customdata[3]}<br>Humidity=%{customdata[4]}<br>Felt temperature=%{marker.color}<extra></extra>",
           "hovertext": [
            "Collioure",
            "Lille",
            "Aix en Provence",
            "Amiens",
            "Rouen"
           ],
           "lat": [
            42.52505,
            50.6365654,
            43.5298424,
            49.8941708,
            49.4404591
           ],
           "legendgroup": "",
           "lon": [
            3.0831554,
            3.0635282,
            5.4474738,
            2.2956951,
            1.0939658
           ],
           "marker": {
            "color": [
             16.33,
             13.54,
             16.63,
             12.02,
             12.87
            ],
            "coloraxis": "coloraxis",
            "size": [
             57.48571428571428,
             55.47714285714284,
             51.148571428571415,
             51.1142857142857,
             48.8685714285714
            ],
            "sizemode": "area",
            "sizeref": 0.0469271137026239
           },
           "mode": "markers",
           "name": "",
           "showlegend": false,
           "subplot": "mapbox",
           "type": "scattermapbox"
          }
         ],
         "name": "4"
        },
        {
         "data": [
          {
           "customdata": [
            [
             42.52505,
             3.0831554,
             5,
             33,
             57,
             16.93,
             57.48571428571428
            ],
            [
             50.6365654,
             3.0635282,
             5,
             47,
             62,
             12.14,
             55.47714285714284
            ],
            [
             43.5298424,
             5.4474738,
             5,
             14,
             35,
             18.44,
             51.148571428571415
            ],
            [
             49.8941708,
             2.2956951,
             5,
             27,
             65,
             12.22,
             51.1142857142857
            ],
            [
             49.4404591,
             1.0939658,
             5,
             2,
             64,
             11.88,
             48.8685714285714
            ]
           ],
           "hovertemplate": "<b>%{hovertext}</b><br><br>Rain chances=%{customdata[3]}<br>Humidity=%{customdata[4]}<br>Felt temperature=%{marker.color}<extra></extra>",
           "hovertext": [
            "Collioure",
            "Lille",
            "Aix en Provence",
            "Amiens",
            "Rouen"
           ],
           "lat": [
            42.52505,
            50.6365654,
            43.5298424,
            49.8941708,
            49.4404591
           ],
           "legendgroup": "",
           "lon": [
            3.0831554,
            3.0635282,
            5.4474738,
            2.2956951,
            1.0939658
           ],
           "marker": {
            "color": [
             16.93,
             12.14,
             18.44,
             12.22,
             11.88
            ],
            "coloraxis": "coloraxis",
            "size": [
             57.48571428571428,
             55.47714285714284,
             51.148571428571415,
             51.1142857142857,
             48.8685714285714
            ],
            "sizemode": "area",
            "sizeref": 0.0469271137026239
           },
           "mode": "markers",
           "name": "",
           "showlegend": false,
           "subplot": "mapbox",
           "type": "scattermapbox"
          }
         ],
         "name": "5"
        },
        {
         "data": [
          {
           "customdata": [
            [
             42.52505,
             3.0831554,
             6,
             3,
             59,
             18.87,
             57.48571428571428
            ],
            [
             50.6365654,
             3.0635282,
             6,
             0,
             49,
             14.21,
             55.47714285714284
            ],
            [
             43.5298424,
             5.4474738,
             6,
             0,
             35,
             19.27,
             51.148571428571415
            ],
            [
             49.8941708,
             2.2956951,
             6,
             0,
             57,
             15.39,
             51.1142857142857
            ],
            [
             49.4404591,
             1.0939658,
             6,
             31,
             62,
             15.42,
             48.8685714285714
            ]
           ],
           "hovertemplate": "<b>%{hovertext}</b><br><br>Rain chances=%{customdata[3]}<br>Humidity=%{customdata[4]}<br>Felt temperature=%{marker.color}<extra></extra>",
           "hovertext": [
            "Collioure",
            "Lille",
            "Aix en Provence",
            "Amiens",
            "Rouen"
           ],
           "lat": [
            42.52505,
            50.6365654,
            43.5298424,
            49.8941708,
            49.4404591
           ],
           "legendgroup": "",
           "lon": [
            3.0831554,
            3.0635282,
            5.4474738,
            2.2956951,
            1.0939658
           ],
           "marker": {
            "color": [
             18.87,
             14.21,
             19.27,
             15.39,
             15.42
            ],
            "coloraxis": "coloraxis",
            "size": [
             57.48571428571428,
             55.47714285714284,
             51.148571428571415,
             51.1142857142857,
             48.8685714285714
            ],
            "sizemode": "area",
            "sizeref": 0.0469271137026239
           },
           "mode": "markers",
           "name": "",
           "showlegend": false,
           "subplot": "mapbox",
           "type": "scattermapbox"
          }
         ],
         "name": "6"
        },
        {
         "data": [
          {
           "customdata": [
            [
             42.52505,
             3.0831554,
             7,
             0,
             62,
             18.18,
             57.48571428571428
            ],
            [
             50.6365654,
             3.0635282,
             7,
             0,
             50,
             15.78,
             55.47714285714284
            ],
            [
             43.5298424,
             5.4474738,
             7,
             0,
             36,
             19.67,
             51.148571428571415
            ],
            [
             49.8941708,
             2.2956951,
             7,
             4,
             58,
             16.26,
             51.1142857142857
            ],
            [
             49.4404591,
             1.0939658,
             7,
             5,
             60,
             16.88,
             48.8685714285714
            ]
           ],
           "hovertemplate": "<b>%{hovertext}</b><br><br>Rain chances=%{customdata[3]}<br>Humidity=%{customdata[4]}<br>Felt temperature=%{marker.color}<extra></extra>",
           "hovertext": [
            "Collioure",
            "Lille",
            "Aix en Provence",
            "Amiens",
            "Rouen"
           ],
           "lat": [
            42.52505,
            50.6365654,
            43.5298424,
            49.8941708,
            49.4404591
           ],
           "legendgroup": "",
           "lon": [
            3.0831554,
            3.0635282,
            5.4474738,
            2.2956951,
            1.0939658
           ],
           "marker": {
            "color": [
             18.18,
             15.78,
             19.67,
             16.26,
             16.88
            ],
            "coloraxis": "coloraxis",
            "size": [
             57.48571428571428,
             55.47714285714284,
             51.148571428571415,
             51.1142857142857,
             48.8685714285714
            ],
            "sizemode": "area",
            "sizeref": 0.0469271137026239
           },
           "mode": "markers",
           "name": "",
           "showlegend": false,
           "subplot": "mapbox",
           "type": "scattermapbox"
          }
         ],
         "name": "7"
        }
       ],
       "layout": {
        "coloraxis": {
         "cmax": 19.67,
         "cmin": 11.11,
         "colorbar": {
          "title": {
           "text": "Felt temperature"
          }
         },
         "colorscale": [
          [
           0,
           "rgb(0,0,255)"
          ],
          [
           1,
           "rgb(255,0,0)"
          ]
         ]
        },
        "height": 800,
        "legend": {
         "itemsizing": "constant",
         "tracegroupgap": 0
        },
        "mapbox": {
         "accesstoken": "pk.eyJ1Ijoidm9ud2VuIiwiYSI6ImNsMWM0dmZnazA0N2gzZG8wa2N1OTM0ZDEifQ.lCZ3DFaUYPS5XIJCWi6yNA",
         "center": {
          "lat": 47.20521754,
          "lon": 2.9967636600000005
         },
         "domain": {
          "x": [
           0,
           1
          ],
          "y": [
           0,
           1
          ]
         },
         "zoom": 4.7
        },
        "margin": {
         "t": 60
        },
        "sliders": [
         {
          "active": 0,
          "currentvalue": {
           "prefix": "day_plus="
          },
          "len": 0.9,
          "pad": {
           "b": 10,
           "t": 60
          },
          "steps": [
           {
            "args": [
             [
              "1"
             ],
             {
              "frame": {
               "duration": 0,
               "redraw": true
              },
              "fromcurrent": true,
              "mode": "immediate",
              "transition": {
               "duration": 0,
               "easing": "linear"
              }
             }
            ],
            "label": "1",
            "method": "animate"
           },
           {
            "args": [
             [
              "2"
             ],
             {
              "frame": {
               "duration": 0,
               "redraw": true
              },
              "fromcurrent": true,
              "mode": "immediate",
              "transition": {
               "duration": 0,
               "easing": "linear"
              }
             }
            ],
            "label": "2",
            "method": "animate"
           },
           {
            "args": [
             [
              "3"
             ],
             {
              "frame": {
               "duration": 0,
               "redraw": true
              },
              "fromcurrent": true,
              "mode": "immediate",
              "transition": {
               "duration": 0,
               "easing": "linear"
              }
             }
            ],
            "label": "3",
            "method": "animate"
           },
           {
            "args": [
             [
              "4"
             ],
             {
              "frame": {
               "duration": 0,
               "redraw": true
              },
              "fromcurrent": true,
              "mode": "immediate",
              "transition": {
               "duration": 0,
               "easing": "linear"
              }
             }
            ],
            "label": "4",
            "method": "animate"
           },
           {
            "args": [
             [
              "5"
             ],
             {
              "frame": {
               "duration": 0,
               "redraw": true
              },
              "fromcurrent": true,
              "mode": "immediate",
              "transition": {
               "duration": 0,
               "easing": "linear"
              }
             }
            ],
            "label": "5",
            "method": "animate"
           },
           {
            "args": [
             [
              "6"
             ],
             {
              "frame": {
               "duration": 0,
               "redraw": true
              },
              "fromcurrent": true,
              "mode": "immediate",
              "transition": {
               "duration": 0,
               "easing": "linear"
              }
             }
            ],
            "label": "6",
            "method": "animate"
           },
           {
            "args": [
             [
              "7"
             ],
             {
              "frame": {
               "duration": 0,
               "redraw": true
              },
              "fromcurrent": true,
              "mode": "immediate",
              "transition": {
               "duration": 0,
               "easing": "linear"
              }
             }
            ],
            "label": "7",
            "method": "animate"
           }
          ],
          "x": 0.1,
          "xanchor": "left",
          "y": 0,
          "yanchor": "top"
         }
        ],
        "template": {
         "data": {
          "bar": [
           {
            "error_x": {
             "color": "#f2f5fa"
            },
            "error_y": {
             "color": "#f2f5fa"
            },
            "marker": {
             "line": {
              "color": "rgb(17,17,17)",
              "width": 0.5
             },
             "pattern": {
              "fillmode": "overlay",
              "size": 10,
              "solidity": 0.2
             }
            },
            "type": "bar"
           }
          ],
          "barpolar": [
           {
            "marker": {
             "line": {
              "color": "rgb(17,17,17)",
              "width": 0.5
             },
             "pattern": {
              "fillmode": "overlay",
              "size": 10,
              "solidity": 0.2
             }
            },
            "type": "barpolar"
           }
          ],
          "carpet": [
           {
            "aaxis": {
             "endlinecolor": "#A2B1C6",
             "gridcolor": "#506784",
             "linecolor": "#506784",
             "minorgridcolor": "#506784",
             "startlinecolor": "#A2B1C6"
            },
            "baxis": {
             "endlinecolor": "#A2B1C6",
             "gridcolor": "#506784",
             "linecolor": "#506784",
             "minorgridcolor": "#506784",
             "startlinecolor": "#A2B1C6"
            },
            "type": "carpet"
           }
          ],
          "choropleth": [
           {
            "colorbar": {
             "outlinewidth": 0,
             "ticks": ""
            },
            "type": "choropleth"
           }
          ],
          "contour": [
           {
            "colorbar": {
             "outlinewidth": 0,
             "ticks": ""
            },
            "colorscale": [
             [
              0,
              "#0d0887"
             ],
             [
              0.1111111111111111,
              "#46039f"
             ],
             [
              0.2222222222222222,
              "#7201a8"
             ],
             [
              0.3333333333333333,
              "#9c179e"
             ],
             [
              0.4444444444444444,
              "#bd3786"
             ],
             [
              0.5555555555555556,
              "#d8576b"
             ],
             [
              0.6666666666666666,
              "#ed7953"
             ],
             [
              0.7777777777777778,
              "#fb9f3a"
             ],
             [
              0.8888888888888888,
              "#fdca26"
             ],
             [
              1,
              "#f0f921"
             ]
            ],
            "type": "contour"
           }
          ],
          "contourcarpet": [
           {
            "colorbar": {
             "outlinewidth": 0,
             "ticks": ""
            },
            "type": "contourcarpet"
           }
          ],
          "heatmap": [
           {
            "colorbar": {
             "outlinewidth": 0,
             "ticks": ""
            },
            "colorscale": [
             [
              0,
              "#0d0887"
             ],
             [
              0.1111111111111111,
              "#46039f"
             ],
             [
              0.2222222222222222,
              "#7201a8"
             ],
             [
              0.3333333333333333,
              "#9c179e"
             ],
             [
              0.4444444444444444,
              "#bd3786"
             ],
             [
              0.5555555555555556,
              "#d8576b"
             ],
             [
              0.6666666666666666,
              "#ed7953"
             ],
             [
              0.7777777777777778,
              "#fb9f3a"
             ],
             [
              0.8888888888888888,
              "#fdca26"
             ],
             [
              1,
              "#f0f921"
             ]
            ],
            "type": "heatmap"
           }
          ],
          "heatmapgl": [
           {
            "colorbar": {
             "outlinewidth": 0,
             "ticks": ""
            },
            "colorscale": [
             [
              0,
              "#0d0887"
             ],
             [
              0.1111111111111111,
              "#46039f"
             ],
             [
              0.2222222222222222,
              "#7201a8"
             ],
             [
              0.3333333333333333,
              "#9c179e"
             ],
             [
              0.4444444444444444,
              "#bd3786"
             ],
             [
              0.5555555555555556,
              "#d8576b"
             ],
             [
              0.6666666666666666,
              "#ed7953"
             ],
             [
              0.7777777777777778,
              "#fb9f3a"
             ],
             [
              0.8888888888888888,
              "#fdca26"
             ],
             [
              1,
              "#f0f921"
             ]
            ],
            "type": "heatmapgl"
           }
          ],
          "histogram": [
           {
            "marker": {
             "pattern": {
              "fillmode": "overlay",
              "size": 10,
              "solidity": 0.2
             }
            },
            "type": "histogram"
           }
          ],
          "histogram2d": [
           {
            "colorbar": {
             "outlinewidth": 0,
             "ticks": ""
            },
            "colorscale": [
             [
              0,
              "#0d0887"
             ],
             [
              0.1111111111111111,
              "#46039f"
             ],
             [
              0.2222222222222222,
              "#7201a8"
             ],
             [
              0.3333333333333333,
              "#9c179e"
             ],
             [
              0.4444444444444444,
              "#bd3786"
             ],
             [
              0.5555555555555556,
              "#d8576b"
             ],
             [
              0.6666666666666666,
              "#ed7953"
             ],
             [
              0.7777777777777778,
              "#fb9f3a"
             ],
             [
              0.8888888888888888,
              "#fdca26"
             ],
             [
              1,
              "#f0f921"
             ]
            ],
            "type": "histogram2d"
           }
          ],
          "histogram2dcontour": [
           {
            "colorbar": {
             "outlinewidth": 0,
             "ticks": ""
            },
            "colorscale": [
             [
              0,
              "#0d0887"
             ],
             [
              0.1111111111111111,
              "#46039f"
             ],
             [
              0.2222222222222222,
              "#7201a8"
             ],
             [
              0.3333333333333333,
              "#9c179e"
             ],
             [
              0.4444444444444444,
              "#bd3786"
             ],
             [
              0.5555555555555556,
              "#d8576b"
             ],
             [
              0.6666666666666666,
              "#ed7953"
             ],
             [
              0.7777777777777778,
              "#fb9f3a"
             ],
             [
              0.8888888888888888,
              "#fdca26"
             ],
             [
              1,
              "#f0f921"
             ]
            ],
            "type": "histogram2dcontour"
           }
          ],
          "mesh3d": [
           {
            "colorbar": {
             "outlinewidth": 0,
             "ticks": ""
            },
            "type": "mesh3d"
           }
          ],
          "parcoords": [
           {
            "line": {
             "colorbar": {
              "outlinewidth": 0,
              "ticks": ""
             }
            },
            "type": "parcoords"
           }
          ],
          "pie": [
           {
            "automargin": true,
            "type": "pie"
           }
          ],
          "scatter": [
           {
            "marker": {
             "line": {
              "color": "#283442"
             }
            },
            "type": "scatter"
           }
          ],
          "scatter3d": [
           {
            "line": {
             "colorbar": {
              "outlinewidth": 0,
              "ticks": ""
             }
            },
            "marker": {
             "colorbar": {
              "outlinewidth": 0,
              "ticks": ""
             }
            },
            "type": "scatter3d"
           }
          ],
          "scattercarpet": [
           {
            "marker": {
             "colorbar": {
              "outlinewidth": 0,
              "ticks": ""
             }
            },
            "type": "scattercarpet"
           }
          ],
          "scattergeo": [
           {
            "marker": {
             "colorbar": {
              "outlinewidth": 0,
              "ticks": ""
             }
            },
            "type": "scattergeo"
           }
          ],
          "scattergl": [
           {
            "marker": {
             "line": {
              "color": "#283442"
             }
            },
            "type": "scattergl"
           }
          ],
          "scattermapbox": [
           {
            "marker": {
             "colorbar": {
              "outlinewidth": 0,
              "ticks": ""
             }
            },
            "type": "scattermapbox"
           }
          ],
          "scatterpolar": [
           {
            "marker": {
             "colorbar": {
              "outlinewidth": 0,
              "ticks": ""
             }
            },
            "type": "scatterpolar"
           }
          ],
          "scatterpolargl": [
           {
            "marker": {
             "colorbar": {
              "outlinewidth": 0,
              "ticks": ""
             }
            },
            "type": "scatterpolargl"
           }
          ],
          "scatterternary": [
           {
            "marker": {
             "colorbar": {
              "outlinewidth": 0,
              "ticks": ""
             }
            },
            "type": "scatterternary"
           }
          ],
          "surface": [
           {
            "colorbar": {
             "outlinewidth": 0,
             "ticks": ""
            },
            "colorscale": [
             [
              0,
              "#0d0887"
             ],
             [
              0.1111111111111111,
              "#46039f"
             ],
             [
              0.2222222222222222,
              "#7201a8"
             ],
             [
              0.3333333333333333,
              "#9c179e"
             ],
             [
              0.4444444444444444,
              "#bd3786"
             ],
             [
              0.5555555555555556,
              "#d8576b"
             ],
             [
              0.6666666666666666,
              "#ed7953"
             ],
             [
              0.7777777777777778,
              "#fb9f3a"
             ],
             [
              0.8888888888888888,
              "#fdca26"
             ],
             [
              1,
              "#f0f921"
             ]
            ],
            "type": "surface"
           }
          ],
          "table": [
           {
            "cells": {
             "fill": {
              "color": "#506784"
             },
             "line": {
              "color": "rgb(17,17,17)"
             }
            },
            "header": {
             "fill": {
              "color": "#2a3f5f"
             },
             "line": {
              "color": "rgb(17,17,17)"
             }
            },
            "type": "table"
           }
          ]
         },
         "layout": {
          "annotationdefaults": {
           "arrowcolor": "#f2f5fa",
           "arrowhead": 0,
           "arrowwidth": 1
          },
          "autotypenumbers": "strict",
          "coloraxis": {
           "colorbar": {
            "outlinewidth": 0,
            "ticks": ""
           }
          },
          "colorscale": {
           "diverging": [
            [
             0,
             "#8e0152"
            ],
            [
             0.1,
             "#c51b7d"
            ],
            [
             0.2,
             "#de77ae"
            ],
            [
             0.3,
             "#f1b6da"
            ],
            [
             0.4,
             "#fde0ef"
            ],
            [
             0.5,
             "#f7f7f7"
            ],
            [
             0.6,
             "#e6f5d0"
            ],
            [
             0.7,
             "#b8e186"
            ],
            [
             0.8,
             "#7fbc41"
            ],
            [
             0.9,
             "#4d9221"
            ],
            [
             1,
             "#276419"
            ]
           ],
           "sequential": [
            [
             0,
             "#0d0887"
            ],
            [
             0.1111111111111111,
             "#46039f"
            ],
            [
             0.2222222222222222,
             "#7201a8"
            ],
            [
             0.3333333333333333,
             "#9c179e"
            ],
            [
             0.4444444444444444,
             "#bd3786"
            ],
            [
             0.5555555555555556,
             "#d8576b"
            ],
            [
             0.6666666666666666,
             "#ed7953"
            ],
            [
             0.7777777777777778,
             "#fb9f3a"
            ],
            [
             0.8888888888888888,
             "#fdca26"
            ],
            [
             1,
             "#f0f921"
            ]
           ],
           "sequentialminus": [
            [
             0,
             "#0d0887"
            ],
            [
             0.1111111111111111,
             "#46039f"
            ],
            [
             0.2222222222222222,
             "#7201a8"
            ],
            [
             0.3333333333333333,
             "#9c179e"
            ],
            [
             0.4444444444444444,
             "#bd3786"
            ],
            [
             0.5555555555555556,
             "#d8576b"
            ],
            [
             0.6666666666666666,
             "#ed7953"
            ],
            [
             0.7777777777777778,
             "#fb9f3a"
            ],
            [
             0.8888888888888888,
             "#fdca26"
            ],
            [
             1,
             "#f0f921"
            ]
           ]
          },
          "colorway": [
           "#636efa",
           "#EF553B",
           "#00cc96",
           "#ab63fa",
           "#FFA15A",
           "#19d3f3",
           "#FF6692",
           "#B6E880",
           "#FF97FF",
           "#FECB52"
          ],
          "font": {
           "color": "#f2f5fa"
          },
          "geo": {
           "bgcolor": "rgb(17,17,17)",
           "lakecolor": "rgb(17,17,17)",
           "landcolor": "rgb(17,17,17)",
           "showlakes": true,
           "showland": true,
           "subunitcolor": "#506784"
          },
          "hoverlabel": {
           "align": "left"
          },
          "hovermode": "closest",
          "mapbox": {
           "style": "dark"
          },
          "paper_bgcolor": "rgb(17,17,17)",
          "plot_bgcolor": "rgb(17,17,17)",
          "polar": {
           "angularaxis": {
            "gridcolor": "#506784",
            "linecolor": "#506784",
            "ticks": ""
           },
           "bgcolor": "rgb(17,17,17)",
           "radialaxis": {
            "gridcolor": "#506784",
            "linecolor": "#506784",
            "ticks": ""
           }
          },
          "scene": {
           "xaxis": {
            "backgroundcolor": "rgb(17,17,17)",
            "gridcolor": "#506784",
            "gridwidth": 2,
            "linecolor": "#506784",
            "showbackground": true,
            "ticks": "",
            "zerolinecolor": "#C8D4E3"
           },
           "yaxis": {
            "backgroundcolor": "rgb(17,17,17)",
            "gridcolor": "#506784",
            "gridwidth": 2,
            "linecolor": "#506784",
            "showbackground": true,
            "ticks": "",
            "zerolinecolor": "#C8D4E3"
           },
           "zaxis": {
            "backgroundcolor": "rgb(17,17,17)",
            "gridcolor": "#506784",
            "gridwidth": 2,
            "linecolor": "#506784",
            "showbackground": true,
            "ticks": "",
            "zerolinecolor": "#C8D4E3"
           }
          },
          "shapedefaults": {
           "line": {
            "color": "#f2f5fa"
           }
          },
          "sliderdefaults": {
           "bgcolor": "#C8D4E3",
           "bordercolor": "rgb(17,17,17)",
           "borderwidth": 1,
           "tickwidth": 0
          },
          "ternary": {
           "aaxis": {
            "gridcolor": "#506784",
            "linecolor": "#506784",
            "ticks": ""
           },
           "baxis": {
            "gridcolor": "#506784",
            "linecolor": "#506784",
            "ticks": ""
           },
           "bgcolor": "rgb(17,17,17)",
           "caxis": {
            "gridcolor": "#506784",
            "linecolor": "#506784",
            "ticks": ""
           }
          },
          "title": {
           "x": 0.05
          },
          "updatemenudefaults": {
           "bgcolor": "#506784",
           "borderwidth": 0
          },
          "xaxis": {
           "automargin": true,
           "gridcolor": "#283442",
           "linecolor": "#506784",
           "ticks": "",
           "title": {
            "standoff": 15
           },
           "zerolinecolor": "#283442",
           "zerolinewidth": 2
          },
          "yaxis": {
           "automargin": true,
           "gridcolor": "#283442",
           "linecolor": "#506784",
           "ticks": "",
           "title": {
            "standoff": 15
           },
           "zerolinecolor": "#283442",
           "zerolinewidth": 2
          }
         }
        },
        "title": {
         "text": "The 5 cities with the best weather over the next 7 days",
         "x": 0.5
        },
        "updatemenus": [
         {
          "buttons": [
           {
            "args": [
             null,
             {
              "frame": {
               "duration": 500,
               "redraw": true
              },
              "fromcurrent": true,
              "mode": "immediate",
              "transition": {
               "duration": 500,
               "easing": "linear"
              }
             }
            ],
            "label": "&#9654;",
            "method": "animate"
           },
           {
            "args": [
             [
              null
             ],
             {
              "frame": {
               "duration": 0,
               "redraw": true
              },
              "fromcurrent": true,
              "mode": "immediate",
              "transition": {
               "duration": 0,
               "easing": "linear"
              }
             }
            ],
            "label": "&#9724;",
            "method": "animate"
           }
          ],
          "direction": "left",
          "pad": {
           "r": 10,
           "t": 70
          },
          "showactive": false,
          "type": "buttons",
          "x": 0.1,
          "xanchor": "right",
          "y": 0,
          "yanchor": "top"
         }
        ],
        "width": 1100
       }
      }
     },
     "metadata": {},
     "output_type": "display_data"
    }
   ],
   "source": [
    "# Creating a plotly scatter mapbox showing the 5 cities with the lowest weather score\n",
    "px.set_mapbox_access_token(open(\".mapbox_token\").read())\n",
    "\n",
    "fig = px.scatter_mapbox(\n",
    "    df_weather_full[:35],\n",
    "    lat='lat',\n",
    "    lon='lon',\n",
    "    color='felt_temperature',\n",
    "    size='inverted_score',\n",
    "    color_continuous_scale=px.colors.sequential.Bluered,\n",
    "    size_max=35,\n",
    "    zoom=4.7,\n",
    "    range_color = [min(df_weather_full[:35]['felt_temperature']), max(df_weather_full[:35]['felt_temperature'])],\n",
    "    hover_name='city',\n",
    "    hover_data={\n",
    "        'lat': False,\n",
    "        'lon': False,\n",
    "        'day_plus': False,\n",
    "        'rain_chances': True,\n",
    "        'humidity': True,\n",
    "        'felt_temperature': True,\n",
    "        'inverted_score': False,\n",
    "        },\n",
    "    animation_frame='day_plus',\n",
    "    labels={'felt_temperature': 'Felt Temperature', 'rain_chances': 'Rain Chances', 'humidity': 'Humidity'}\n",
    ")\n",
    "\n",
    "fig.update_layout(\n",
    "    width = 1100,\n",
    "    height = 800,\n",
    "    template='plotly_dark',\n",
    "    title_x=0.5,\n",
    "    title_text='The 5 cities with the best weather over the next 7 days')\n",
    "fig.show()"
   ]
  },
  {
   "cell_type": "markdown",
   "metadata": {},
   "source": [
    "### Hotels Map"
   ]
  },
  {
   "cell_type": "code",
   "execution_count": 26,
   "metadata": {},
   "outputs": [
    {
     "data": {
      "application/vnd.plotly.v1+json": {
       "config": {
        "plotlyServerURL": "https://plot.ly"
       },
       "data": [
        {
         "customdata": [
          [
           42.52534777,
           3.09032446,
           "Les Roches Brunes",
           "https://www.booking.com/hotel/fr/les-roches-brunes-collioure.fr.html?label=gen173nr-1FCAEoggI46AdIDVgEaBWIAQGYAQ24ARjIAQ_YAQHoAQH4AQKIAgGoAgS4Asz9_pIGwAIB0gIkNjc5NmQ4ZDctMDc4My00ZjgzLWE2MzUtZWMwZGRkM2FlMTg12AIF4AIB&sid=533e0a790980cbb34b2b3e9d594e6000&aid=304142&ucfs=1&arphpl=1&group_adults=2&req_adults=2&no_rooms=1&group_children=0&req_children=0&hpos=1&hapos=1&sr_order=popularity&srpvid=999138f314e400c3&srepoch=1650441959&from_beach_sr=1&from_sustainable_property_sr=1&from=searchresults#hotelTmpl",
           "Vous pouvez bénéficier d'une réduction Genius dans l'établissement Les Roches Brunes ! Connectez-vous pour économiser.Situé à Collioure, à 100 mètres de la plage de Balette, l'établissement Les Roches Brunes propose un restaurant, un parking privé gratuit, un bar et un jardin. Il propose des chambres familiales et une terrasse. L'hôtel possède une plage privée.Les chambres climatisées comprennent une télévision à écran plat et une salle de bains privative pourvue d'une douche. Certaines s'ouvrent sur un balcon. Elles comprennent également un coffre-fort.Un petit-déjeuner buffet et continental est servi tous les matins sur place.Vous séjournerez à proximité des plages de Boutigue, de Saint-Vincent et du château royal de Collioure. L'aéroport de Perpignan-Rivesaltes, le plus proche, est implanté à 30 km. ",
           97.70571428571428,
           27
          ],
          [
           42.52616733,
           3.08235571,
           "Hôtel La Casa Pairal",
           "https://www.booking.com/hotel/fr/hotelcasapairal.fr.html?label=gen173nr-1FCAEoggI46AdIDVgEaBWIAQGYAQ24ARjIAQ_YAQHoAQH4AQKIAgGoAgS4Asz9_pIGwAIB0gIkNjc5NmQ4ZDctMDc4My00ZjgzLWE2MzUtZWMwZGRkM2FlMTg12AIF4AIB&sid=533e0a790980cbb34b2b3e9d594e6000&aid=304142&ucfs=1&arphpl=1&group_adults=2&req_adults=2&no_rooms=1&group_children=0&req_children=0&hpos=2&hapos=2&sr_order=popularity&srpvid=999138f314e400c3&srepoch=1650441959&from_beach_sr=1&from_sustainable_property_sr=1&from=searchresults#hotelTmpl",
           "Cet établissement est à 3 minutes à pied de la plage. Situé à 250 mètres de la plage et du port de Collioure, l’Hôtel La Casa Pairal propose un jardin fleuri exotique et une piscine extérieure chauffée. Il occupe un bâtiment catalan du XIXe siècle au cœur du vieux quartier de Collioure.Les chambres à la décoration traditionnelle de l’Hôtel La Casa Pairal sont climatisées. Elles possèdent toutes une télévision par satellite à écran plat, un minibar et une connexion Wi-Fi gratuite. Certaines offrent une vue sur la ville, la cour de l’hôtel et sa fontaine, ou la place du village.A l’Hôtel La Casa Pairal, un petit-déjeuner buffet pourra vous être servi tous les jours dans la salle prévue à cet effet ou dans votre chambre sur demande. Vous pourrez également prendre un verre dans le jardin de l’hôtel.La réception est ouverte 24h/24. Des journaux gratuits et un coffre-fort sont également disponibles.La gare de Collioure se trouve à 500 mètres. Vous séjournerez à 23 km de la frontière espagnole. ",
           97.70571428571428,
           27
          ],
          [
           42.52371617,
           3.08713473,
           "Hôtel Triton",
           "https://www.booking.com/hotel/fr/triton.fr.html?label=gen173nr-1FCAEoggI46AdIDVgEaBWIAQGYAQ24ARjIAQ_YAQHoAQH4AQKIAgGoAgS4Asz9_pIGwAIB0gIkNjc5NmQ4ZDctMDc4My00ZjgzLWE2MzUtZWMwZGRkM2FlMTg12AIF4AIB&sid=533e0a790980cbb34b2b3e9d594e6000&aid=304142&ucfs=1&arphpl=1&group_adults=2&req_adults=2&no_rooms=1&group_children=0&req_children=0&hpos=3&hapos=3&sr_order=popularity&srpvid=999138f314e400c3&srepoch=1650441959&from_beach_sr=1&from=searchresults#hotelTmpl",
           "Cet établissement est à 1 minute à pied de la plage. Situé sur la plage du Boutiquet, l’Hôtel Triton propose des chambres climatisées donnant sur la baie de Collioure ou sur les Pyrénées. Une connexion Wi-Fi gratuite est disponible dans le bâtiment d’origine.Les chambres de l’Hôtel Triton sont équipées d’une télévision et d’un téléphone. Certains hébergements comprennent un balcon. La salle de bains privative est pourvue d’une douche ou d’une baignoire. Les chambres sont aménagées dans le bâtiment d’origine de l’établissement ou dans son annexe plus récente.Chaque matin, vous pourrez savourer un petit-déjeuner buffet incluant des croissants et du pain frais sur la terrasse, qui offre une vue sur la mer.L’Hôtel Triton bénéficie d’une vue magnifique sur la ville fortifiée de Collioure, le château et le clocher. Vous séjournerez à 7 km d’Argelès-sur-Mer, à 25 km de la frontière espagnole et à 30 km de Perpignan. Un parking public est à votre disposition en face de l’établissement, moyennant des frais supplémentaires. ",
           97.70571428571428,
           27
          ],
          [
           42.52708254,
           3.08026291,
           "Hotel Méditerranée",
           "https://www.booking.com/hotel/fr/mediterranee-collioure.fr.html?label=gen173nr-1FCAEoggI46AdIDVgEaBWIAQGYAQ24ARjIAQ_YAQHoAQH4AQKIAgGoAgS4Asz9_pIGwAIB0gIkNjc5NmQ4ZDctMDc4My00ZjgzLWE2MzUtZWMwZGRkM2FlMTg12AIF4AIB&sid=533e0a790980cbb34b2b3e9d594e6000&aid=304142&ucfs=1&arphpl=1&group_adults=2&req_adults=2&no_rooms=1&group_children=0&req_children=0&hpos=4&hapos=4&sr_order=popularity&srpvid=999138f314e400c3&srepoch=1650441959&from_beach_sr=1&from_sustainable_property_sr=1&from=searchresults#hotelTmpl",
           "Cet établissement est à 5 minutes à pied de la plage. Doté d'un jardin de style méditerranéen et d'une terrasse, l'Hotel Méditerranée se trouve à Collioure, à 5 minutes de marche de la plage la plus proche. Une connexion Wi-Fi gratuite et un parking privé sont mis à votre disposition sur place.Toutes les chambres sont climatisées et pourvues d'un balcon et d'une télévision par satellite à écran plat. Elles possèdent également un réfrigérateur, un téléphone et un coffre-fort. Chaque chambre dispose d'une salle de bains avec une baignoire ou une douche.Un petit-déjeuner buffet est servi tous les matins, et vous pourrez le déguster sur la terrasse par beau temps.L'établissement propose une bagagerie.Argèles-sur-Mer se situe à 7,3 km et la frontière espagnole est à 26 km. L'aéroport de Perpignan-Rivesaltes est le plus proche, à 38 km. ",
           97.70571428571428,
           27
          ],
          [
           42.52638625,
           3.08325659,
           "La Frégate",
           "https://www.booking.com/hotel/fr/la-fra-c-gate-collioure.fr.html?label=gen173nr-1FCAEoggI46AdIDVgEaBWIAQGYAQ24ARjIAQ_YAQHoAQH4AQKIAgGoAgS4Asz9_pIGwAIB0gIkNjc5NmQ4ZDctMDc4My00ZjgzLWE2MzUtZWMwZGRkM2FlMTg12AIF4AIB&sid=533e0a790980cbb34b2b3e9d594e6000&aid=304142&ucfs=1&arphpl=1&group_adults=2&req_adults=2&no_rooms=1&group_children=0&req_children=0&hpos=5&hapos=5&sr_order=popularity&srpvid=999138f314e400c3&srepoch=1650441959&from_beach_sr=1&from=searchresults#hotelTmpl",
           "Cet établissement est à 2 minutes à pied de la plage. Installé à Collioure, à 150 mètres de la plage de Boramar, L’établissement La Frégate vous propose un restaurant, un bar et un salon commun. Doté d’une terrasse, cet hôtel se trouve à proximité de plusieurs attractions prisées, comme la plage de Port d’Avall, à environ 250 mètres, la plage Nord, à 300 mètres, et le château royal de Collioure, qui vous attend à 100 mètres. Cet établissement non-fumeurs est situé à 1,5 km du casino de Collioure.Le matin, l’hôtel sert un petit-déjeuner continental.Lors de votre séjour à La Frégate, vous pourrez pratiquer des activités variées à Collioure et dans les environs, comme la randonnée.L’aéroport le plus proche, celui de Perpignan-Rivesaltes, est accessible à 29 km. ",
           97.70571428571428,
           27
          ],
          [
           42.52439,
           3.082726,
           "Les Suites de Collioure",
           "https://www.booking.com/hotel/fr/les-suites-de-collioure.fr.html?label=gen173nr-1FCAEoggI46AdIDVgEaBWIAQGYAQ24ARjIAQ_YAQHoAQH4AQKIAgGoAgS4Asz9_pIGwAIB0gIkNjc5NmQ4ZDctMDc4My00ZjgzLWE2MzUtZWMwZGRkM2FlMTg12AIF4AIB&sid=533e0a790980cbb34b2b3e9d594e6000&aid=304142&ucfs=1&arphpl=1&group_adults=2&req_adults=2&no_rooms=1&group_children=0&req_children=0&hpos=6&hapos=6&sr_order=popularity&srpvid=999138f314e400c3&srepoch=1650441959&from_beach_sr=1&from_sustainable_property_sr=1&from=searchresults#hotelTmpl",
           "Cet établissement est à 2 minutes à pied de la plage. Situé à Collioure, à 200 mètres de la plage de Port Avall et à 350 mètres de celle de Boramar, l'établissement Les Suites de Collioure propose une vue sur la ville et une connexion Wi-Fi gratuite.Les logements comprennent la climatisation, une télévision à écran plat ainsi qu'une salle de bains privative pourvue d'une douche, d'un sèche-cheveux et d'articles de toilette gratuits. Un lave-vaisselle, un micro-ondes, un réfrigérateur, une bouilloire et une machine à café sont également fournis.Vous séjournerez à proximité de la plage de Boutigue, du château royal de Collioure et du casino de Collioure. L'aéroport de Perpignan-Rivesaltes, le plus proche, est implanté à 30 km. ",
           97.70571428571428,
           27
          ],
          [
           42.52794367,
           3.07773619,
           "ROCADE DE COLLIOURE",
           "https://www.booking.com/hotel/fr/rocade-de-collioure.fr.html?label=gen173nr-1FCAEoggI46AdIDVgEaBWIAQGYAQ24ARjIAQ_YAQHoAQH4AQKIAgGoAgS4Asz9_pIGwAIB0gIkNjc5NmQ4ZDctMDc4My00ZjgzLWE2MzUtZWMwZGRkM2FlMTg12AIF4AIB&sid=533e0a790980cbb34b2b3e9d594e6000&aid=304142&ucfs=1&arphpl=1&group_adults=2&req_adults=2&no_rooms=1&group_children=0&req_children=0&hpos=7&hapos=7&sr_order=popularity&srpvid=999138f314e400c3&srepoch=1650441959&from_beach_sr=1&from=searchresults#hotelTmpl",
           "Cet établissement est à 6 minutes à pied de la plage. Situé à Collioure, à 600 mètres de la plage de Ouille et à 650 mètres de celle de Boramar, le ROCADE DE COLLIOURE propose un casino et la climatisation. Vous pourrez pratiquer diverses activités dans les environs, telles que la randonnée, la plongée avec tuba et la planche à voile.Cet appartement comprend 3 chambres, une cuisine avec un lave-vaisselle et un micro-ondes, une télévision à écran plat, un coin salon et 2 salles de bains. Pour plus de commodité, l'établissement peut fournir des serviettes et du linge de lit moyennant des frais supplémentaires.Un barbecue est à votre disposition sur place. Vous pourrez pratiquer la plongée sous-marine, la pêche et le canoë-kayak dans les environs.Vous séjournerez à proximité de la plage du Nord, du château royal de Collioure et du casino de Collioure. L'aéroport de Perpignan-Rivesaltes, le plus proche, est à 29 km. ",
           97.70571428571428,
           27
          ],
          [
           42.5271222,
           3.0765161,
           "Appartement Sous le Soleil",
           "https://www.booking.com/hotel/fr/appartement-sous-le-soleil.fr.html?label=gen173nr-1FCAEoggI46AdIDVgEaBWIAQGYAQ24ARjIAQ_YAQHoAQH4AQKIAgGoAgS4Asz9_pIGwAIB0gIkNjc5NmQ4ZDctMDc4My00ZjgzLWE2MzUtZWMwZGRkM2FlMTg12AIF4AIB&sid=533e0a790980cbb34b2b3e9d594e6000&aid=304142&ucfs=1&arphpl=1&group_adults=2&req_adults=2&no_rooms=1&group_children=0&req_children=0&hpos=8&hapos=8&sr_order=popularity&srpvid=999138f314e400c3&srepoch=1650441959&from_beach_sr=1&from_sustainable_property_sr=1&from=searchresults#hotelTmpl",
           "Cet établissement est à 7 minutes à pied de la plage. Situé à Collioure, à 700 mètres de la plage de Ouille et de celle de Boramar, l'Appartement Sous le Soleil dispose d'une terrasse et de la climatisation. Vous bénéficierez gratuitement d'un parking privé et d'une connexion Wi-Fi.Cet appartement comprend une chambre, une salle de bains, du linge de lit, des serviettes, une télévision par satellite à écran plat, un coin repas, une cuisine entièrement équipée et un balcon avec vue sur la mer. Pour plus de commodité, l'établissement peut fournir des serviettes et du linge de lit moyennant des frais supplémentaires.Vous pourrez faire de la randonnée dans les environs.Vous séjournerez à proximité de la plage de Port Avall, du château royal de Collioure et du casino de Collioure. L'aéroport le plus proche, celui de Perpignan-Rivesaltes, est situé à 37 km. Un service de navette aéroport peut être assuré moyennant des frais supplémentaires. ",
           97.70571428571428,
           27
          ],
          [
           42.5273935,
           3.0847579,
           "Au coeur de Collioure",
           "https://www.booking.com/hotel/fr/au-coeur-de-collioure.fr.html?label=gen173nr-1FCAEoggI46AdIDVgEaBWIAQGYAQ24ARjIAQ_YAQHoAQH4AQKIAgGoAgS4Asz9_pIGwAIB0gIkNjc5NmQ4ZDctMDc4My00ZjgzLWE2MzUtZWMwZGRkM2FlMTg12AIF4AIB&sid=533e0a790980cbb34b2b3e9d594e6000&aid=304142&ucfs=1&arphpl=1&group_adults=2&req_adults=2&no_rooms=1&group_children=0&req_children=0&hpos=9&hapos=9&sr_order=popularity&srpvid=999138f314e400c3&srepoch=1650441959&from_beach_sr=1&from=searchresults#hotelTmpl",
           "Situé à Collioure, à 50 mètres de la plage de Boramar et à 150 mètres de celle du Nord, l'établissement Au coeur de Collioure propose une connexion Wi-Fi gratuite et la climatisation. Installé dans un bâtiment datant du XIXe siècle, l'appartement se trouve dans une région où vous pourrez pratiquer des activités telles que la randonnée, la plongée avec tuba et la pêche.Cet appartement comprend une chambre, un salon, une télévision à écran plat, une cuisine équipée avec un coin repas ainsi qu'une salle de bains pourvue d'une douche et d'un lave-linge. Les serviettes et le linge de lit sont fournis.Vous séjournerez à 150 mètres de la plage de Saint-Vincent et à 100 mètres du château royal de Collioure. L'aéroport de Perpignan-Rivesaltes, le plus proche, est implanté à 38 km. ",
           97.70571428571428,
           27
          ],
          [
           42.5224086,
           3.0869409,
           "COLLIOURE tres bel appart a 150 metres des plages avec jardin prive et parking dans residence securisee",
           "https://www.booking.com/hotel/fr/collioure-tres-bel-appart-a-150-metres-des-belles-plages-avec-jardin.fr.html?label=gen173nr-1FCAEoggI46AdIDVgEaBWIAQGYAQ24ARjIAQ_YAQHoAQH4AQKIAgGoAgS4Asz9_pIGwAIB0gIkNjc5NmQ4ZDctMDc4My00ZjgzLWE2MzUtZWMwZGRkM2FlMTg12AIF4AIB&sid=533e0a790980cbb34b2b3e9d594e6000&aid=304142&ucfs=1&arphpl=1&group_adults=2&req_adults=2&no_rooms=1&group_children=0&req_children=0&hpos=10&hapos=10&sr_order=popularity&srpvid=999138f314e400c3&srepoch=1650441959&from_beach_sr=1&from=searchresults#hotelTmpl",
           "Cet établissement est à 2 minutes à pied de la plage. COLLIOURE tres bel appart Doté d'un jardin et d'un casino, l'établissement a 150 mètres des plages avec jardin prive et parking dans residence securisee est situé à Collioure, à 150 mètres de la plage de Port Avall, à 150 mètres de celle de Boutigue et à 300 mètres de celle de Balette. Vous bénéficierez gratuitement d'une connexion Wi-Fi et d'un parking privé.Cet appartement comprend 2 chambres, une salle de bains, du linge de lit, des serviettes, une télévision à écran plat, un coin repas, une cuisine entièrement équipée et une terrasse avec vue sur le jardin.Vous pourrez pêcher à proximité.Vous séjournerez à moins de 1 km du château royal et à 3,5 km du casino de Collioure. L'aéroport le plus proche, celui de Perpignan-Rivesaltes, est situé à 38 km. Un service de navette aéroport peut être assuré moyennant des frais supplémentaires. ",
           97.70571428571428,
           27
          ],
          [
           42.52538159,
           3.08256391,
           "Le Mas des Citronniers",
           "https://www.booking.com/hotel/fr/lesmasdescitronniers.fr.html?label=gen173nr-1FCAEoggI46AdIDVgEaBWIAQGYAQ24ARjIAQ_YAQHoAQH4AQKIAgGoAgS4Asz9_pIGwAIB0gIkNjc5NmQ4ZDctMDc4My00ZjgzLWE2MzUtZWMwZGRkM2FlMTg12AIF4AIB&sid=533e0a790980cbb34b2b3e9d594e6000&aid=304142&ucfs=1&arphpl=1&group_adults=2&req_adults=2&no_rooms=1&group_children=0&req_children=0&hpos=11&hapos=11&sr_order=popularity&srpvid=999138f314e400c3&srepoch=1650441959&from_beach_sr=1&from=searchresults#hotelTmpl",
           "Vous pouvez bénéficier d'une réduction Genius dans l'établissement Le Mas des Citronniers ! Connectez-vous pour économiser.Cet établissement est à 3 minutes à pied de la plage. Situé dans le centre de Collioure, à seulement 250 mètres de la plage, le Mas des Citronniers propose des chambres climatisées dans un bâtiment traditionnel catalan. Une connexion Wi-Fi est fournie gratuitement dans tout l'établissement.Les chambres de l'hôtel Le Mas des Citronniers sont décorées dans des tons vifs. Chacune est pourvue d'une télévision à écran plat, d'un bureau, d'un petit réfrigérateur et d'une salle de bains privative. Certaines comprennent une terrasse avec vue sur le jardin.Un petit-déjeuner buffet est servi chaque matin dans la salle de l'hôtel prévue à cet effet. Vous aurez également la possibilité d'apprécier un petit-déjeuner complet servi en chambre sur demande. Veuillez noter que le petit-déjeuner est en supplément.La réception de l'hôtel Le Mas des Citronniers est ouverte 24h/24. Vous disposerez de journaux gratuits.La gare de Collioure est implantée à 550 mètres de l'établissement, tandis que le château royal est à 300 mètres. ",
           97.70571428571428,
           27
          ],
          [
           42.5231333,
           3.0855761,
           "Ibanova",
           "https://www.booking.com/hotel/fr/ibanova.fr.html?label=gen173nr-1FCAEoggI46AdIDVgEaBWIAQGYAQ24ARjIAQ_YAQHoAQH4AQKIAgGoAgS4Asz9_pIGwAIB0gIkNjc5NmQ4ZDctMDc4My00ZjgzLWE2MzUtZWMwZGRkM2FlMTg12AIF4AIB&sid=533e0a790980cbb34b2b3e9d594e6000&aid=304142&ucfs=1&arphpl=1&group_adults=2&req_adults=2&no_rooms=1&group_children=0&req_children=0&hpos=12&hapos=12&sr_order=popularity&srpvid=999138f314e400c3&srepoch=1650441959&from_beach_sr=1&from=searchresults#hotelTmpl",
           "Cet établissement est à 1 minute à pied de la plage. Situé à Collioure, en Languedoc-Roussillon, à proximité des plages de Port d'Avall et du Boutigue, l’Ibanova met gratuitement à votre disposition une connexion Wi-Fi ainsi qu’un parking privé.Cet hébergement climatisé comprend une télévision à écran plat, une cuisine entièrement équipée dotée d'un coin repas et une salle de bains privative pourvue d’une douche ainsi que d’un sèche-cheveux. Un lave-vaisselle, un micro-ondes, un réfrigérateur, une bouilloire et une machine à café sont également fournis.Cet appartement bénéficie d’une terrasse.L’Ibanova se trouve à 300 mètres de la plage de la Balette et à 700 mètres du château royal de Collioure. L’aéroport de Perpignan-Rivesaltes, le plus proche, est accessible à 38 km. ",
           97.70571428571428,
           27
          ],
          [
           42.52591431,
           3.0826816,
           "Hôtel Princes de Catalogne",
           "https://www.booking.com/hotel/fr/princes-de-catalogne.fr.html?label=gen173nr-1FCAEoggI46AdIDVgEaBWIAQGYAQ24ARjIAQ_YAQHoAQH4AQKIAgGoAgS4Asz9_pIGwAIB0gIkNjc5NmQ4ZDctMDc4My00ZjgzLWE2MzUtZWMwZGRkM2FlMTg12AIF4AIB&sid=533e0a790980cbb34b2b3e9d594e6000&aid=304142&ucfs=1&arphpl=1&group_adults=2&req_adults=2&no_rooms=1&group_children=0&req_children=0&hpos=13&hapos=13&sr_order=popularity&srpvid=999138f314e400c3&srepoch=1650441959&from_beach_sr=1&from=searchresults#hotelTmpl",
           "Cet établissement est à 2 minutes à pied de la plage. Situated on a quiet square in picturesque Collioure, this hotel is located a 400 metres from the beach. The hotel was renovated in early 2021 and features a contemporary style.All rooms at the Hôtel Princes de Catalogne are air-conditioned and have views of the mountains, Fort Miradou or of a quiet street. They are equipped with TV and free Wi-Fi internet access.Staff at the Hôtel Princes will be happy to help you organise excursions, guided visits or other activities such as seawater therapy and climbing.Free limited parking is available at the Hôtel Princes de Catalogne and is subject to availability. There is also a paid public parking opposite the hotel. ",
           97.70571428571428,
           27
          ],
          [
           42.52510633,
           3.0904362,
           "Residence Pierre & Vacances Les Balcons de Collioure",
           "https://www.booking.com/hotel/fr/maevabalconsdecollioure.fr.html?label=gen173nr-1FCAEoggI46AdIDVgEaBWIAQGYAQ24ARjIAQ_YAQHoAQH4AQKIAgGoAgS4Asz9_pIGwAIB0gIkNjc5NmQ4ZDctMDc4My00ZjgzLWE2MzUtZWMwZGRkM2FlMTg12AIF4AIB&sid=533e0a790980cbb34b2b3e9d594e6000&aid=304142&ucfs=1&arphpl=1&group_adults=2&req_adults=2&no_rooms=1&group_children=0&req_children=0&hpos=14&hapos=14&sr_order=popularity&srpvid=999138f314e400c3&srepoch=1650441959&from_beach_sr=1&from=searchresults#hotelTmpl",
           "Cet établissement est à 2 minutes à pied de la plage. La Residence Pierre & Vacances Les Balcons de Collioure propose des hébergements indépendants et confortables à seulement 500 mètres de la plage. Elle possède un solarium offrant une vue magnifique sur la baie.Les studios disposent d'une télévision à écran plat, d'une salle de bains privative et d'une kitchenette équipée d'un lave-vaisselle. Vous pourrez emprunter gratuitement des jeux de société.Des produits de boulangerie pourront être livrés dans votre appartement sur commande effectuée auprès de la réception la veille au soir. La liste des produits disponibles est affichée dans les appartements et à la réception. Ce service entraîne des frais supplémentaires.La Residence Pierre & Vacances Les Balcons de Collioure se trouve à quelques pas du centre de Collioure, regroupant différents magasins et restaurants. Elle est située à 27 km de Perpignan. Vous pourrez profiter d'un parking couvert privé sur place moyennant des frais supplémentaires. ",
           97.70571428571428,
           27
          ],
          [
           42.5235481,
           3.08187379,
           "Les Jasmins",
           "https://www.booking.com/hotel/fr/chambre-d-39-hotes-les-jasmins.fr.html?label=gen173nr-1FCAEoggI46AdIDVgEaBWIAQGYAQ24ARjIAQ_YAQHoAQH4AQKIAgGoAgS4Asz9_pIGwAIB0gIkNjc5NmQ4ZDctMDc4My00ZjgzLWE2MzUtZWMwZGRkM2FlMTg12AIF4AIB&sid=533e0a790980cbb34b2b3e9d594e6000&aid=304142&ucfs=1&arphpl=1&group_adults=2&req_adults=2&no_rooms=1&group_children=0&req_children=0&hpos=15&hapos=15&sr_order=popularity&srpvid=999138f314e400c3&srepoch=1650441959&from_beach_sr=1&from=searchresults#hotelTmpl",
           "Vous pouvez bénéficier d'une réduction Genius dans l'établissement Les Jasmins ! Connectez-vous pour économiser.Cet établissement est à 6 minutes à pied de la plage. La Chambre d'hôtes Les Jasmins est située à Collioure, à 4 minutes à pied de la plage. Une connexion Wi-Fi est disponible gratuitement. Argeles-sur-Mer se trouve à 14 minutes en voiture.La chambre double est équipée d'une kitchenette avec réfrigérateur, plaques de cuisson et ustensiles de cuisine. Le petit-déjeuner peut être servi en chambre ou sur la terrasse privée. La salle de bains privative est pourvue d'une douche et d'un sèche-cheveux.L'aéroport de Perpignan-Rivesaltes est à 36 km. La frontière espagnole est accessible en 40 minutes de route. Le stationnement sur place est gratuit. ",
           97.70571428571428,
           27
          ],
          [
           42.52547153,
           3.0826987,
           "Hôtel la Bona Casa",
           "https://www.booking.com/hotel/fr/la-bona-casa.fr.html?label=gen173nr-1FCAEoggI46AdIDVgEaBWIAQGYAQ24ARjIAQ_YAQHoAQH4AQKIAgGoAgS4Asz9_pIGwAIB0gIkNjc5NmQ4ZDctMDc4My00ZjgzLWE2MzUtZWMwZGRkM2FlMTg12AIF4AIB&sid=533e0a790980cbb34b2b3e9d594e6000&aid=304142&ucfs=1&arphpl=1&group_adults=2&req_adults=2&no_rooms=1&group_children=0&req_children=0&hpos=16&hapos=16&sr_order=popularity&srpvid=999138f314e400c3&srepoch=1650441959&from_beach_sr=1&from=searchresults#hotelTmpl",
           "Cet établissement est à 3 minutes à pied de la plage. L'Hôtel la Bona Casa est situé dans le centre historique de Collioure, à seulement 300 mètres du château royal et de la plage. Il propose une connexion Wi-Fi gratuite et une terrasse ombragée.Les chambres offrent une vue sur la rue ou la terrasse. Certains logements sont dotés d'une terrasse privée. Les hébergements comportent une télévision à écran plat et une salle de bains privative pourvue d'articles de toilette gratuits. L'établissement est entièrement non-fumeurs.Un petit-déjeuner continental est préparé chaque matin. Vous trouverez des boutiques et des restaurants à moins de 200 mètres. Sur place, vous pourrez vous détendre dans le salon de thé de mars à octobre, ou faire du shopping au magasin de vêtements.Vous séjournerez à 3 km de Port-Vendres et à 6 km d'Argelès-sur-Mer. L'établissement est à 30 minutes de route du centre de Perpignan et de la frontière espagnole, également accessible en train. ",
           97.70571428571428,
           27
          ],
          [
           42.52328654,
           3.0813629,
           "Le Clos Saint Elme",
           "https://www.booking.com/hotel/fr/les-lauriers-roses-collioure.fr.html?label=gen173nr-1FCAEoggI46AdIDVgEaBWIAQGYAQ24ARjIAQ_YAQHoAQH4AQKIAgGoAgS4Asz9_pIGwAIB0gIkNjc5NmQ4ZDctMDc4My00ZjgzLWE2MzUtZWMwZGRkM2FlMTg12AIF4AIB&sid=533e0a790980cbb34b2b3e9d594e6000&aid=304142&ucfs=1&arphpl=1&group_adults=2&req_adults=2&no_rooms=1&group_children=0&req_children=0&hpos=17&hapos=17&sr_order=popularity&srpvid=999138f314e400c3&srepoch=1650441959&from_beach_sr=1&from=searchresults#hotelTmpl",
           "Cet établissement est à 4 minutes à pied de la plage. Situé à Collioure, à 30 km de Roses, l'établissement Le Clos Saint Elme propose des chambres climatisées et une connexion Wi-Fi gratuite dans l'ensemble de ses locaux. Un parking privé est disponible gratuitement sur place.Certains logements comprennent un coin salon propice à la détente. Il dispose également d'une télévision à écran plat.Le petit-déjeuner est inclus dans certaines chambres.Vous pourrez pratiquer de nombreuses activités, telles que le canoë-kayak et la randonnée. Cadaqués se trouve à 31 km du Clos Saint Melme, tandis que Perpignan est à 25 km. L'aéroport le plus proche, celui de Perpignan-Rivesaltes, est situé à 30 km. ",
           97.70571428571428,
           27
          ],
          [
           42.5211169,
           3.07730913,
           "La Chambre De Salome",
           "https://www.booking.com/hotel/fr/la-chambre-de-salome.fr.html?label=gen173nr-1FCAEoggI46AdIDVgEaBWIAQGYAQ24ARjIAQ_YAQHoAQH4AQKIAgGoAgS4Asz9_pIGwAIB0gIkNjc5NmQ4ZDctMDc4My00ZjgzLWE2MzUtZWMwZGRkM2FlMTg12AIF4AIB&sid=533e0a790980cbb34b2b3e9d594e6000&aid=304142&ucfs=1&arphpl=1&group_adults=2&req_adults=2&no_rooms=1&group_children=0&req_children=0&hpos=18&hapos=18&sr_order=popularity&srpvid=999138f314e400c3&srepoch=1650441959&from_beach_sr=1&from=searchresults#hotelTmpl",
           "Situé à Collioure, à 750 mètres de la plage de Port Avall et à moins de 1 km de celle de Boutigue, l'établissement La Chambre De Salome propose des hébergements avec une connexion Wi-Fi gratuite, la climatisation, une piscine extérieure ouverte en saison et un jardin.Les logements comprennent une terrasse, une télévision à écran plat ainsi qu'une salle de bains privative pourvue d'une douche et d'un sèche-cheveux. Un réfrigérateur et une bouilloire sont également fournis.Cette chambre d'hôtes sert un petit-déjeuner continental.Vous séjournerez à proximité de la plage de Boramar, du château royal de Collioure et du casino de Collioure. L'aéroport de Perpignan-Rivesaltes, le plus proche, est à 37 km. ",
           97.70571428571428,
           27
          ],
          [
           42.527007,
           3.0836656,
           "Appartement T2 centre ville de Collioure",
           "https://www.booking.com/hotel/fr/appartement-t2-centre-ville-de-collioure.fr.html?label=gen173nr-1FCAEoggI46AdIDVgEaBWIAQGYAQ24ARjIAQ_YAQHoAQH4AQKIAgGoAgS4Asz9_pIGwAIB0gIkNjc5NmQ4ZDctMDc4My00ZjgzLWE2MzUtZWMwZGRkM2FlMTg12AIF4AIB&sid=533e0a790980cbb34b2b3e9d594e6000&aid=304142&ucfs=1&arphpl=1&group_adults=2&req_adults=2&no_rooms=1&group_children=0&req_children=0&hpos=19&hapos=19&sr_order=popularity&srpvid=999138f314e400c3&srepoch=1650441959&from_beach_sr=1&from_sustainable_property_sr=1&from=searchresults#hotelTmpl",
           "Cet établissement est à 2 minutes à pied de la plage. Doté d'un balcon, l'Appartement T2 centre ville de Collioure est situé à Collioure, à seulement 150 mètres de la plage de Boramar et à 250 mètres de celle du Nord.Cet appartement comprend une chambre, une télévision à écran plat ainsi qu'une kitchenette entièrement équipée avec un micro-ondes, un réfrigérateur, un lave-linge, un four et des plaques de cuisson. Les serviettes et le linge de lit sont fournis.Vous séjournerez à proximité de la plage de Saint-Vincent, du château royal de Collioure et du casino de Collioure. L'aéroport de Perpignan-Rivesaltes, le plus proche, est implanté à 29 km. ",
           97.70571428571428,
           27
          ],
          [
           42.52182,
           3.0773047,
           "Magnifique appartement proche centre Collioure",
           "https://www.booking.com/hotel/fr/magnifique-appartement-proche-centre-collioure.fr.html?label=gen173nr-1FCAEoggI46AdIDVgEaBWIAQGYAQ24ARjIAQ_YAQHoAQH4AQKIAgGoAgS4Asz9_pIGwAIB0gIkNjc5NmQ4ZDctMDc4My00ZjgzLWE2MzUtZWMwZGRkM2FlMTg12AIF4AIB&sid=533e0a790980cbb34b2b3e9d594e6000&aid=304142&ucfs=1&arphpl=1&group_adults=2&req_adults=2&no_rooms=1&group_children=0&req_children=0&hpos=20&hapos=20&sr_order=popularity&srpvid=999138f314e400c3&srepoch=1650441959&from_beach_sr=1&from=searchresults#hotelTmpl",
           "Situé à Collioure, le Magnifique appartement proche centre Collioure propose un hébergement climatisé avec un balcon. Offrant une vue sur le jardin, il se trouve à 700 mètres de la plage de Port Avall et à moins de 1 km de celle de Boutigue.Cet appartement comprend 2 chambres, une télévision à écran plat ainsi qu'une cuisine entièrement équipée avec un micro-ondes, un réfrigérateur, un lave-linge et un four.Une terrasse est à votre disposition sur place.Vous séjournerez à proximité de la plage de Boramar, du château royal de Collioure et du casino de Collioure. L'aéroport de Perpignan-Rivesaltes, le plus proche, est à 30 km. ",
           97.70571428571428,
           27
          ],
          [
           50.63788756,
           3.072685,
           "Hotel Lille Europe",
           "https://www.booking.com/hotel/fr/lille-europe.fr.html?label=gen173nr-1FCAEoggI46AdIDVgEaBWIAQGYAQ24ARjIAQ_YAQHoAQH4AQKIAgGoAgS4Asz9_pIGwAIB0gIkNjc5NmQ4ZDctMDc4My00ZjgzLWE2MzUtZWMwZGRkM2FlMTg12AIF4AIB&sid=533e0a790980cbb34b2b3e9d594e6000&aid=304142&ucfs=1&arphpl=1&group_adults=2&req_adults=2&no_rooms=1&group_children=0&req_children=0&hpos=1&hapos=1&sr_order=popularity&srpvid=3ccb38ed949e00b9&srepoch=1650441949&from=searchresults#hotelTmpl",
           "Vous pouvez bénéficier d'une réduction Genius dans l'établissement Hotel Lille Europe ! Connectez-vous pour économiser.L'Hotel Lille Europe est un établissement 3 étoiles situé au cœur du quartier des affaires international, à seulement 250 mètres de la gare de Lille-Flandres et à 17 minutes de route du stade Pierre-Mauroy. Il propose une réception ouverte 24h/24 et une connexion Internet gratuite.Présentant une décoration colorée, les chambres sont insonorisées et disposent d'une télévision par câble. Leur salle de bains privative est pourvue d'un sèche-cheveux. Toutes les chambres sont desservies par un ascenseur.Un petit-déjeuner buffet est servi tous les matins dans la salle prévue à cet effet. Cette dernière est dotée d'un micro-ondes et d'une vue panoramique sur les environs.L'établissement est accessible par l'autoroute N356. Vous séjournerez à 750 mètres de l'Opéra de Lille, à 10 minutes de marche de la cathédrale Notre-Dame-de-la-Treille, à 1,1 km du centre de conventions Nouveau Siècle et à 1,3 km du Grand Palais. Un parking privé sur place est disponible uniquement sur demande. ",
           99.71428571428572,
           7
          ],
          [
           50.62914624,
           3.06419907,
           "NOCNOC - La Villa Cachee",
           "https://www.booking.com/hotel/fr/la-villa-cachee-prox-gare-lille-flandre-metro.fr.html?label=gen173nr-1FCAEoggI46AdIDVgEaBWIAQGYAQ24ARjIAQ_YAQHoAQH4AQKIAgGoAgS4Asz9_pIGwAIB0gIkNjc5NmQ4ZDctMDc4My00ZjgzLWE2MzUtZWMwZGRkM2FlMTg12AIF4AIB&sid=533e0a790980cbb34b2b3e9d594e6000&aid=304142&ucfs=1&arphpl=1&group_adults=2&req_adults=2&no_rooms=1&group_children=0&req_children=0&hpos=2&hapos=2&sr_order=popularity&srpvid=3ccb38ed949e00b9&srepoch=1650441949&from=searchresults#hotelTmpl",
           "Vous pouvez bénéficier d'une réduction Genius dans l'établissement NOCNOC - La Villa Cachee ! Connectez-vous pour économiser.Doté d'une connexion Wi-Fi et d'un parking privé gratuits, le NOCNOC - La Villa Cachee est situé à Lille, à seulement 400 mètres de la maison Coilliot. Cette villa se trouve à 2,2 km du Zénith de Lille et du Grand Palais.Cette villa comprend 6 chambres, une télévision à écran plat, un lave-linge et 6 salles de bains pourvues d'une douche. Sa cuisine est équipée d'un lave-vaisselle et d'un micro-ondes. Les serviettes et le linge de lit sont fournis.Vous pourrez profiter d'une terrasse.Vous séjournerez à proximité de la braderie de Lille, de l'hospice Gantois et du grand magasin Printemps. L'aéroport de Lille, le plus proche, est à 9 km. ",
           99.71428571428572,
           7
          ],
          [
           50.627831,
           3.063592,
           "Moxy Lille City",
           "https://www.booking.com/hotel/fr/moxy-lille-city-center-france.fr.html?label=gen173nr-1FCAEoggI46AdIDVgEaBWIAQGYAQ24ARjIAQ_YAQHoAQH4AQKIAgGoAgS4Asz9_pIGwAIB0gIkNjc5NmQ4ZDctMDc4My00ZjgzLWE2MzUtZWMwZGRkM2FlMTg12AIF4AIB&sid=533e0a790980cbb34b2b3e9d594e6000&aid=304142&ucfs=1&arphpl=1&group_adults=2&req_adults=2&no_rooms=1&group_children=0&req_children=0&hpos=3&hapos=3&sr_order=popularity&srpvid=3ccb38ed949e00b9&srepoch=1650441949&from=searchresults#hotelTmpl",
           "Le Moxy Lille City est situé à Lille, à 700 mètres de la braderie de Lille. Il propose des hébergements avec une terrasse et un parking privé. Doté d’un bar, cet hôtel 3 étoiles propose des chambres climatisées avec connexion Wi-Fi gratuite et salle de bains privative. En outre, vous pourrez profiter d’une salle de sport, d’animations en soirée et d’une réception ouverte 24h/24.Les chambres possèdent une télévision à écran plat et un sèche-cheveux.Un petit-déjeuner buffet est servi tous les jours au Moxy Lille City.Les sites d'intérêt à proximité de l'hébergement incluent la maison Coilliot, le grand magasin Printemps et la salle de concert l'Aéronef. L’aéroport de Lille-Lesquin, le plus proche, se trouve à 8 km du Moxy Lille City. ",
           99.71428571428572,
           7
          ],
          [
           50.63238245,
           3.06794286,
           "ibis Styles Lille Centre Gare Beffroi",
           "https://www.booking.com/hotel/fr/ibis-styles-lille-centre-gare-beffroi.fr.html?label=gen173nr-1FCAEoggI46AdIDVgEaBWIAQGYAQ24ARjIAQ_YAQHoAQH4AQKIAgGoAgS4Asz9_pIGwAIB0gIkNjc5NmQ4ZDctMDc4My00ZjgzLWE2MzUtZWMwZGRkM2FlMTg12AIF4AIB&sid=533e0a790980cbb34b2b3e9d594e6000&aid=304142&ucfs=1&arphpl=1&group_adults=2&req_adults=2&no_rooms=1&group_children=0&req_children=0&hpos=4&hapos=4&sr_order=popularity&srpvid=3ccb38ed949e00b9&srepoch=1650441949&from=searchresults#hotelTmpl",
           "L’ibis Styles Lille Centre Gare Beffroi vous accueille dans le centre-ville de Lille, à 600 mètres des gares de Lille-Europe et de Lille-Flandres. Le centre des congrès Lille Grand Palais et le complexe Nouveau Siècle se trouvent à 1 km.Toutes les chambres comprennent une télévision à écran plat, une connexion Wi-Fi gratuite et une salle d’eau privative.Chaque matin, le petit-déjeuner vous sera servi. Vous pourrez vous détendre avec une boisson dans le bar sur place. Des événements d’entreprise peuvent être organisés dans les 3 salles de réunion modernes.Le quartier commerçant et d’affaires Euralille se trouve à 10 minutes de marche. Vous rejoindrez le stade Pierre-Mauroy en 15 minutes de route. ",
           99.71428571428572,
           7
          ],
          [
           50.63528798,
           3.06970725,
           "Hôtel Calm Lille",
           "https://www.booking.com/hotel/fr/calm-lille.fr.html?label=gen173nr-1FCAEoggI46AdIDVgEaBWIAQGYAQ24ARjIAQ_YAQHoAQH4AQKIAgGoAgS4Asz9_pIGwAIB0gIkNjc5NmQ4ZDctMDc4My00ZjgzLWE2MzUtZWMwZGRkM2FlMTg12AIF4AIB&sid=533e0a790980cbb34b2b3e9d594e6000&aid=304142&ucfs=1&arphpl=1&group_adults=2&req_adults=2&no_rooms=1&group_children=0&req_children=0&hpos=5&hapos=5&sr_order=popularity&srpvid=3ccb38ed949e00b9&srepoch=1650441949&from=searchresults#hotelTmpl",
           "Vous pouvez bénéficier d'une réduction Genius dans l'établissement Hôtel Calm Lille ! Connectez-vous pour économiser.L'Hôtel Calm Lille est situé dans le centre-ville de Lille, à seulement 3 minutes à pied de la gare de Lille Flandres, ainsi qu'à 1 km du centre de conventions Grand Palais et de la salle de spectacle Le Nouveau Siècle. La connexion Wi-Fi est accessible gratuitement dans l'ensemble de l'établissement.Les chambres sont équipées d'une télévision à écran plat, d'une salle de bains privative avec baignoire ou douche, d'une armoire et d'un bureau.La réception de l'hôtel est ouverte 24h/24 et une bagagerie est à votre disposition. Vous pourrez emprunter un sèche-cheveux à la réception.L'Hôtel Calm Lille se trouve à 26 km de Courtrai, à 44 km d'Arras et à 27 km d'Ypres. Vous séjournerez aussi à 8 km de l'aéroport de Lille-Lesquin et à 16 minutes en voiture du stade Pierre-Mauroy. ",
           99.71428571428572,
           7
          ],
          [
           50.63075938,
           3.05808842,
           "Holiday Inn Express Lille Centre, an IHG Hotel",
           "https://www.booking.com/hotel/fr/expressbyholidayinnlille.fr.html?label=gen173nr-1FCAEoggI46AdIDVgEaBWIAQGYAQ24ARjIAQ_YAQHoAQH4AQKIAgGoAgS4Asz9_pIGwAIB0gIkNjc5NmQ4ZDctMDc4My00ZjgzLWE2MzUtZWMwZGRkM2FlMTg12AIF4AIB&sid=533e0a790980cbb34b2b3e9d594e6000&aid=304142&ucfs=1&arphpl=1&group_adults=2&req_adults=2&no_rooms=1&group_children=0&req_children=0&hpos=6&hapos=6&sr_order=popularity&srpvid=3ccb38ed949e00b9&srepoch=1650441949&from=searchresults#hotelTmpl",
           "L'Holiday Inn Express Lille Centre est situé dans le centre de Lille, à 350 mètres du Palais des Beaux Arts et à 9 km du stade Pierre Mauroy. Vous séjournerez à 900 mètres du centre de conventions Le Nouveau Siècle et à 2 km de Lille Grand Palais.Les chambres de l'Holiday Inn Express Lille Centre sont équipées d'une télévision à écran plat, d'un téléphone, d'un sèche-cheveux et d'un plateau/bouilloire. Elles sont toutes desservies par un ascenseur. Vous bénéficierez gratuitement d'une connexion Wi-Fi.Un petit-déjeuner buffet est servi tous les matins.L'Holiday Inn Express Lille Centre propose une réception ouverte 24h/24, un parking souterrain sécurisé (sous réserve de disponibilité), une salle de réunion et un service de nettoyage à sec.La station de métro la plus proche est celle de République Beaux Arts, qui vous permettra d'accéder directement aux gares Lille Europe et Lille Flandres. L'hôtel se trouve à 800 mètres de la grand-place et à 1,5 km de la citadelle de Lille. ",
           99.71428571428572,
           7
          ],
          [
           50.63654707,
           3.06234241,
           "Grand Hotel Bellevue - Grand Place",
           "https://www.booking.com/hotel/fr/grandhotelbellevue.fr.html?label=gen173nr-1FCAEoggI46AdIDVgEaBWIAQGYAQ24ARjIAQ_YAQHoAQH4AQKIAgGoAgS4Asz9_pIGwAIB0gIkNjc5NmQ4ZDctMDc4My00ZjgzLWE2MzUtZWMwZGRkM2FlMTg12AIF4AIB&sid=533e0a790980cbb34b2b3e9d594e6000&aid=304142&ucfs=1&arphpl=1&group_adults=2&req_adults=2&no_rooms=1&group_children=0&req_children=0&hpos=7&hapos=7&sr_order=popularity&srpvid=3ccb38ed949e00b9&srepoch=1650441949&from_sustainable_property_sr=1&from=searchresults#hotelTmpl",
           "Vous pouvez bénéficier d'une réduction Genius dans l'établissement Grand Hotel Bellevue - Grand Place ! Connectez-vous pour économiser.Situé sur la Grand-Place, dans le Vieux-Lille, le Grand Hotel Bellevue - Grand Place occupe un bâtiment à l'architecture flamande. Ses chambres disposent d'une salle de bains en marbre et de mobilier d'époque. La station de métro Rihour est accessible à 100 mètres. Vous pourrez rejoindre le centre de conventions Le Nouveau Siècle en 2 minutes à pied et le Lille Grand Palais se trouve à 1,4 km.Cet hôtel a été rénové en 2018. Toutes les chambres sont équipées de la climatisation, de la télévision par satellite et d'une connexion Wi-Fi gratuite. Élégantes et insonorisées, elles comprennent un minibar. Certaines disposent d'un plateau/bouilloire. Le personnel se tient à votre disposition 24h/24.Vous aurez droit à un petit-déjeuner buffet copieux tous les matins. Vous pourrez déguster des cocktails au bar Le Windsor et trouverez des restaurants à 50 mètres.Le centre historique est accessible en 5 minutes à pied et la gare de Lille-Flandres se trouve à 900 mètres. Le parc du Bois de Boulogne et la Citadelle vous attendent à 1,5 km tandis que l'aéroport de Lille-Lesquin se situe à 11 km. Des salles de réunions sont à votre disposition sur place. Vous trouverez un parking public à 100 mètres. ",
           99.71428571428572,
           7
          ],
          [
           50.63647023,
           3.07490923,
           "Séjours & Affaires Lille Europe",
           "https://www.booking.com/hotel/fr/residence-lille-europe.fr.html?label=gen173nr-1FCAEoggI46AdIDVgEaBWIAQGYAQ24ARjIAQ_YAQHoAQH4AQKIAgGoAgS4Asz9_pIGwAIB0gIkNjc5NmQ4ZDctMDc4My00ZjgzLWE2MzUtZWMwZGRkM2FlMTg12AIF4AIB&sid=533e0a790980cbb34b2b3e9d594e6000&aid=304142&ucfs=1&arphpl=1&group_adults=2&req_adults=2&no_rooms=1&group_children=0&req_children=0&hpos=8&hapos=8&sr_order=popularity&srpvid=3ccb38ed949e00b9&srepoch=1650441949&from=searchresults#hotelTmpl",
           "La résidence Séjours & Affaires Lille Europe est située dans le centre-ville de Lille, au cœur du quartier des affaires. Vous séjournerez entre les gares Lille-Flandres et Lille-Europe, à moins de 600 mètres de chacune. L'établissement propose des appartements avec connexion Internet gratuite à 8 km du stade Pierre Mauroy, à 1,2 km du centre de conventions Nouveau Siècle et à 850 mètres du Grand Palais de Lille.Tous les studios et appartements comprennent une télévision par câble à écran plat. Chacun dispose d'un bureau, d'un canapé-lit et d'une salle de bains privative avec baignoire ou douche.Un petit-déjeuner buffet est servi chaque matin. Vous pourrez préparer les autres repas dans votre kitchenette entièrement équipée pourvue d'un coin repas et de plaques de cuisson.La résidence Séjours & Affaires Lille Europe est facilement accessible depuis l'autoroute N356, à 12 minutes de route. Enfin, vous rejoindrez la citadelle de Lille en 30 minutes de marche et l'aéroport de Lille-Lesquin se trouve à 10,8 km. ",
           99.71428571428572,
           7
          ],
          [
           50.63883337,
           3.07668149,
           "Novotel Suites Lille Europe",
           "https://www.booking.com/hotel/fr/suitehotel-lille-europe.fr.html?label=gen173nr-1FCAEoggI46AdIDVgEaBWIAQGYAQ24ARjIAQ_YAQHoAQH4AQKIAgGoAgS4Asz9_pIGwAIB0gIkNjc5NmQ4ZDctMDc4My00ZjgzLWE2MzUtZWMwZGRkM2FlMTg12AIF4AIB&sid=533e0a790980cbb34b2b3e9d594e6000&aid=304142&ucfs=1&arphpl=1&group_adults=2&req_adults=2&no_rooms=1&group_children=0&req_children=0&hpos=9&hapos=9&sr_order=popularity&srpvid=3ccb38ed949e00b9&srepoch=1650441949&from_sustainable_property_sr=1&from=searchresults#hotelTmpl",
           "Installé dans le centre-ville de Lille, l’hôtel 4 étoiles Novotel Suites Lille Europe vous accueille à seulement 600 mètres de la gare de Lille-Flandres, à 11 minutes à pied du complexe Lille Grand Palais et à 10 km du stade Pierre-Mauroy. Cet établissement propose une salle de sport ainsi que des suites avec connexion Wi-Fi gratuite et micro-ondes.Toutes les suites modernes sont équipées d’une télévision à écran plat et d’un plateau/bouilloire. Leur salle de bains privative est pourvue d’un sèche-cheveux. Tous les logements sont desservis par un ascenseur.Chaque matin, vous pourrez déguster un petit-déjeuner buffet au Novotel Suites. Vous pourrez également savourer un verre au bar Comptoir Nomade, confortablement assis dans un fauteuil. La Boutique Gourmande de l’hôtel vend des produits d’épicerie fine.La réception est ouverte 24h/24.Le Novotel Suites Lille Europe se trouve à 800 mètres du Zénith de Lille, à 1,3 km du palais des Beaux-Arts et à 1,7 km du centre de conventions du Nouveau Siècle. ",
           99.71428571428572,
           7
          ],
          [
           50.634074,
           3.064229,
           "OKKO Hotels Lille Centre",
           "https://www.booking.com/hotel/fr/okko-hotels-lille-centre.fr.html?label=gen173nr-1FCAEoggI46AdIDVgEaBWIAQGYAQ24ARjIAQ_YAQHoAQH4AQKIAgGoAgS4Asz9_pIGwAIB0gIkNjc5NmQ4ZDctMDc4My00ZjgzLWE2MzUtZWMwZGRkM2FlMTg12AIF4AIB&sid=533e0a790980cbb34b2b3e9d594e6000&aid=304142&ucfs=1&arphpl=1&group_adults=2&req_adults=2&no_rooms=1&group_children=0&req_children=0&hpos=10&hapos=10&sr_order=popularity&srpvid=3ccb38ed949e00b9&srepoch=1650441949&from_sustainable_property_sr=1&from=searchresults#hotelTmpl",
           "Installé à Lille, l’OKKO Hotels Lille Centre possède un bar, un restaurant, un salon commun et une salle de sport. L’établissement vous propose notamment une réception ouverte 24h/24, un service d’étage et une connexion Wi-Fi gratuite dans l’ensemble de ses locaux. Vous aurez aussi la possibilité de savourer un verre au snack-bar.Les chambres climatisées de l’hôtel comportent un bureau, une machine à café, un coffre-fort, une télévision à écran plat ainsi qu’une salle de bains privative pourvue d’une douche. Chaque logement l’OKKO Hotels Lille Centre est doté de linge de lit et de serviettes de toilette.Le matin, vous pourrez savourer un petit-déjeuner buffet ou continental.Cet établissement 4 étoiles met à votre disposition un sauna et une terrasse.Vous pourrez également profiter du centre d'affaires, du télécopieur et du photocopieur de l’OKKO Hotels Lille Centre.Vous séjournerez à proximité de lieux d’intérêt prisés de la ville, comme le grand magasin Printemps, la Grand-Place et l’opéra de Lille. L’aéroport de Lille-Lesquin, le plus proche, se trouve à 8 km de l’OKKO Hotels Lille Centre. ",
           99.71428571428572,
           7
          ],
          [
           50.63359887,
           3.06328118,
           "Lille City Hotel",
           "https://www.booking.com/hotel/fr/misterbeddelille.fr.html?label=gen173nr-1FCAEoggI46AdIDVgEaBWIAQGYAQ24ARjIAQ_YAQHoAQH4AQKIAgGoAgS4Asz9_pIGwAIB0gIkNjc5NmQ4ZDctMDc4My00ZjgzLWE2MzUtZWMwZGRkM2FlMTg12AIF4AIB&sid=533e0a790980cbb34b2b3e9d594e6000&aid=304142&ucfs=1&arphpl=1&group_adults=2&req_adults=2&no_rooms=1&group_children=0&req_children=0&hpos=11&hapos=11&sr_order=popularity&srpvid=3ccb38ed949e00b9&srepoch=1650441949&from_sustainable_property_sr=1&from=searchresults#hotelTmpl",
           "Le Lille City Hotel est un établissement abordable situé dans le centre-ville de Lille, dans une rue piétonne et commerçante, à 260 mètres du Palais des Beaux Arts, à 1,2 km de Lille Grand Palais et à 9 km du stade Pierre Mauroy. Les chambres sont équipées d’une télévision par satellite et d’une connexion Internet gratuite.Toutes les chambres du Lille City Hotel sont climatisées et disposent d'un téléphone. Desservies par un ascenseur, elles sont également pourvues d’une salle de bains privative.Le Lille City Hotel sert un petit-déjeuner buffet chaque matin. Vous trouverez de nombreux restaurants à quelques minutes de marche.La gare de Lille-Flandres se situe à seulement 10 minutes à pied du Lille City Hotel. Enfin, l’opéra et le centre de conventions Le Nouveau Siècle sont à 600 mètres, tandis que le centre historique vous attend à 1 km. ",
           99.71428571428572,
           7
          ],
          [
           50.63220722,
           3.04668635,
           "Residhotel Lille Vauban",
           "https://www.booking.com/hotel/fr/residhotel-lille-vauban.fr.html?label=gen173nr-1FCAEoggI46AdIDVgEaBWIAQGYAQ24ARjIAQ_YAQHoAQH4AQKIAgGoAgS4Asz9_pIGwAIB0gIkNjc5NmQ4ZDctMDc4My00ZjgzLWE2MzUtZWMwZGRkM2FlMTg12AIF4AIB&sid=533e0a790980cbb34b2b3e9d594e6000&aid=304142&ucfs=1&arphpl=1&group_adults=2&req_adults=2&no_rooms=1&group_children=0&req_children=0&hpos=12&hapos=12&sr_order=popularity&srpvid=3ccb38ed949e00b9&srepoch=1650441949&from=searchresults#hotelTmpl",
           "Le Residhotel Lille Vauban est idéalement installé dans le quartier résidentiel de Vauban, à seulement 20 minutes de marche de la vieille ville de Lille. Il propose des hébergements avec une connexion Wi-Fi gratuite.Les studios comprennent une télévision à écran plat, un bureau et une kitchenette avec une machine à café Nespresso. Les appartements possèdent une cuisine avec une machine à café Nespresso, un coin repas et une pièce à vivre. Chaque logement dispose d'une salle de bains privative.Moyennant un supplément, vous pourrez déguster un petit-déjeuner buffet.Enfin, depuis l'appart'hôtel Residhotel Lille Vauban, vous rejoindrez les 45 hectares du bois de Boulogne en seulement 10 minutes à pied, tandis que la Grand'Place et le centre de conventions Nouveau Siècle sont accessibles à 20 minutes de marche. ",
           99.71428571428572,
           7
          ],
          [
           50.63685668,
           3.06794286,
           "Grand Hôtel Lille",
           "https://www.booking.com/hotel/fr/le-grand-hotel.fr.html?label=gen173nr-1FCAEoggI46AdIDVgEaBWIAQGYAQ24ARjIAQ_YAQHoAQH4AQKIAgGoAgS4Asz9_pIGwAIB0gIkNjc5NmQ4ZDctMDc4My00ZjgzLWE2MzUtZWMwZGRkM2FlMTg12AIF4AIB&sid=533e0a790980cbb34b2b3e9d594e6000&aid=304142&ucfs=1&arphpl=1&group_adults=2&req_adults=2&no_rooms=1&group_children=0&req_children=0&hpos=13&hapos=13&sr_order=popularity&srpvid=3ccb38ed949e00b9&srepoch=1650441949&from=searchresults#hotelTmpl",
           "Situé dans le centre de Lille, juste à côté de la gare de Lille-Flandres, le Grand Hôtel Lille dispose d'une réception ouverte 24h/24, d'une bagagerie et d'un ascenseur. L'hôtel vous accueille à 900 mètres du Grand Palais de Lille et à 650 mètres du centre de conventions Nouveau Siècle. Il se trouve à seulement 300 mètres de la Grand'Place et à 5 minutes à pied du Vieux-Lille.Toutes les chambres sont équipées d'une télévision par satellite à écran plat et d'un téléphone. Leur salle de bains privative est pourvue d'un sèche-cheveux.Un petit-déjeuner buffet est servi chaque matin sur place. Vous trouverez plusieurs restaurants à quelques minutes de marche.Le Grand Hôtel Lille met à votre disposition un service d'étage et une connexion Wi-Fi gratuite. L'établissement est à 600 mètres de la gare de Lille-Europe, tandis que la station de métro Gare Lille-Flandres vous attend à seulement 50 mètres. Enfin, vous séjournerez à 18 minutes de route du stade Pierre-Mauroy. ",
           99.71428571428572,
           7
          ],
          [
           50.62905798,
           3.08113396,
           "Appart'City Confort Lille Grand Palais",
           "https://www.booking.com/hotel/fr/appart-city-lille-grand-palais.fr.html?label=gen173nr-1FCAEoggI46AdIDVgEaBWIAQGYAQ24ARjIAQ_YAQHoAQH4AQKIAgGoAgS4Asz9_pIGwAIB0gIkNjc5NmQ4ZDctMDc4My00ZjgzLWE2MzUtZWMwZGRkM2FlMTg12AIF4AIB&sid=533e0a790980cbb34b2b3e9d594e6000&aid=304142&ucfs=1&arphpl=1&group_adults=2&req_adults=2&no_rooms=1&group_children=0&req_children=0&hpos=14&hapos=14&sr_order=popularity&srpvid=3ccb38ed949e00b9&srepoch=1650441949&from_sustainable_property_sr=1&from=searchresults#hotelTmpl",
           "Dans le centre-ville de Lille, l’établissement Appart’City Confort Lille Grand Palais vous accueille à 700 mètres du Grand Palais et à 15 minutes en voiture du centre de conventions de Lille Grand Palais. Il possède des appartements modernes dotés d'une connexion Wi-Fi gratuite et d'une télévision à écran plat. Un parking public est disponible sur place.Insonorisés et desservis par un ascenseur, les appartements comptent une kitchenette équipée d’un micro-ondes, d’un réfrigérateur et d’une cafetière. Il sont dotés d’un coin salon et d’un coin repas. Les salles de bains sont privatives.Un petit-déjeuner buffet est servi du lundi au dimanche et se compose de différents pains, dont du pain sans gluten, des viennoiseries, des boissons fraîches et chaudes. Du fromage et des yaourts sont également proposés. Des distributeurs automatiques de boissons se trouvent à la réception.Vous séjournerez à 1 km de la gare de Lille-Flandres, à 900 mètres de la station de métro Lille Grand Palais et à 12 minutes de route du stade Pierre-Mauroy. ",
           99.71428571428572,
           7
          ],
          [
           50.63557145,
           3.06783289,
           "Hôtel Saint Maurice",
           "https://www.booking.com/hotel/fr/hotelsaintmaurice.fr.html?label=gen173nr-1FCAEoggI46AdIDVgEaBWIAQGYAQ24ARjIAQ_YAQHoAQH4AQKIAgGoAgS4Asz9_pIGwAIB0gIkNjc5NmQ4ZDctMDc4My00ZjgzLWE2MzUtZWMwZGRkM2FlMTg12AIF4AIB&sid=533e0a790980cbb34b2b3e9d594e6000&aid=304142&ucfs=1&arphpl=1&group_adults=2&req_adults=2&no_rooms=1&group_children=0&req_children=0&hpos=15&hapos=15&sr_order=popularity&srpvid=3ccb38ed949e00b9&srepoch=1650441949&from=searchresults#hotelTmpl",
           "L’Hôtel Saint Maurice est situé dans une zone piétonne paisible du centre de Lille, à côté de l’église gothique Saint-Maurice. Vous bénéficierez gratuitement d’une connexion Wi-Fi dans l’ensemble des locaux. Le centre de conventions Nouveau Siècle est à moins de 1 km.L’Hôtel Saint Maurice propose 38 chambres accessibles par ascenseur. Les chambres comportent une télévision à écran plat et une connexion Wi-Fi gratuite.L’établissement est implanté à 10 minutes à pied de la vieille ville et de ses musées, à moins de 500 mètres de la Grand’Place et à 1,5 km du parc des expositions Lille Grand Palais. Un parking public est disponible moyennant un supplément à proximité de l’hôtel. ",
           99.71428571428572,
           7
          ],
          [
           50.6456983,
           3.07210967,
           "Campanile Lille Euralille",
           "https://www.booking.com/hotel/fr/campanile-lille-euralille-xml.fr.html?label=gen173nr-1FCAEoggI46AdIDVgEaBWIAQGYAQ24ARjIAQ_YAQHoAQH4AQKIAgGoAgS4Asz9_pIGwAIB0gIkNjc5NmQ4ZDctMDc4My00ZjgzLWE2MzUtZWMwZGRkM2FlMTg12AIF4AIB&sid=533e0a790980cbb34b2b3e9d594e6000&aid=304142&ucfs=1&arphpl=1&group_adults=2&req_adults=2&no_rooms=1&group_children=0&req_children=0&hpos=16&hapos=16&sr_order=popularity&srpvid=3ccb38ed949e00b9&srepoch=1650441949&from_sustainable_property_sr=1&from=searchresults#hotelTmpl",
           "Vous pouvez bénéficier d'une réduction Genius dans l'établissement Campanile Lille Euralille ! Connectez-vous pour économiser.Le Campanile Lille Euralille vous accueille à 1 km de la gare de Lille-Europe, à 2 km de la Grand-Place et à moins de 300 mètres de l'arrêt de tramway Romarin. Il possède une réception ouverte 24h/24 et un restaurant. Le stade Pierre-Mauroy est à 10 km.Les chambres comprennent une connexion Wi-Fi gratuite et une télévision par câble et satellite à écran plat. Leur salle de bains privative est pourvue d'une baignoire ou d'une douche et d'un sèche-cheveux.Chaque matin, un petit-déjeuner buffet est servi moyennant des frais supplémentaires. Vous pourrez également savourer la cuisine du restaurant de l'hôtel.Un parking extérieur est disponible moyennant des frais supplémentaires. Vous séjournerez à 2 km du centre commercial Euralille, à 2,5 km du Palais des beaux-arts et de la citadelle de Lille, à 2 km du centre de conventions Nouveau Siècle, ainsi qu'à 10 km des aéroports de Roubaix et de Lille-Lesquin. ",
           99.71428571428572,
           7
          ],
          [
           50.63786885,
           3.0546277,
           "Alliance Lille - Couvent Des Minimes",
           "https://www.booking.com/hotel/fr/alliance-lille-couvent-des-minimes.fr.html?label=gen173nr-1FCAEoggI46AdIDVgEaBWIAQGYAQ24ARjIAQ_YAQHoAQH4AQKIAgGoAgS4Asz9_pIGwAIB0gIkNjc5NmQ4ZDctMDc4My00ZjgzLWE2MzUtZWMwZGRkM2FlMTg12AIF4AIB&sid=533e0a790980cbb34b2b3e9d594e6000&aid=304142&ucfs=1&arphpl=1&group_adults=2&req_adults=2&no_rooms=1&group_children=0&req_children=0&hpos=17&hapos=17&sr_order=popularity&srpvid=3ccb38ed949e00b9&srepoch=1650441949&from_sustainable_property_sr=1&from=searchresults#hotelTmpl",
           "Vous pouvez bénéficier d'une réduction Genius dans l'établissement Alliance Lille - Couvent Des Minimes ! Connectez-vous pour économiser.L'Alliance Lille - Couvent Des Minimes occupe un ancien couvent du XVIIe siècle situé à 5 minutes du centre de Lille. Doté d'un salon luxueux et d'une terrasse surmontée d'une immense verrière, il se trouve à 450 mètres du centre de conventions Nouveau Siècle.Présentant une décoration élégante, toutes les chambres et suites sont équipées de la climatisation, d'un minibar ainsi que d'une télévision par satellite avec Canal+. Elles possèdent également une salle de bains en marbre et une connexion Wi-Fi gratuite.Le restaurant Le Jardin du Cloître propose un petit-déjeuner buffet tous les jours ainsi qu'une cuisine locale préparée avec des produits frais du marché. Des spectacles sont organisés tous les soirs au piano-bar L'Échiquier.Cet établissement est accessible à seulement 150 mètres du bois de Boulogne, un verdoyant parc de 50 hectares. Les gares SNCF/TGV de Lille-Europe et de Lille-Flandres sont implantées à 15 minutes en voiture. Vous pourrez rejoindre le parc des expositions Lille Grand Palais à 6 km de l'Alliance Lille - Couvent Des Minimes, tout comme le stade Pierre Mauroy. ",
           99.71428571428572,
           7
          ],
          [
           50.64106837,
           3.05505589,
           "MAISON VIEUX LILLE 3 chambres parking privé gratuit 24H24H Accès",
           "https://www.booking.com/hotel/fr/maison-parking-exterieur-vx-lille.fr.html?label=gen173nr-1FCAEoggI46AdIDVgEaBWIAQGYAQ24ARjIAQ_YAQHoAQH4AQKIAgGoAgS4Asz9_pIGwAIB0gIkNjc5NmQ4ZDctMDc4My00ZjgzLWE2MzUtZWMwZGRkM2FlMTg12AIF4AIB&sid=533e0a790980cbb34b2b3e9d594e6000&aid=304142&ucfs=1&arphpl=1&group_adults=2&req_adults=2&no_rooms=1&group_children=0&req_children=0&hpos=18&hapos=18&sr_order=popularity&srpvid=3ccb38ed949e00b9&srepoch=1650441949&from=searchresults#hotelTmpl",
           "Vous pouvez bénéficier d'une réduction Genius dans l'établissement MAISON VIEUX LILLE 3 chambres parking privé gratuit 24H24H Accès ! Connectez-vous pour économiser.Offrant une vue sur le jardin, l'appartement MAISON VIEUX LILLE 3 chambres parking privé gratuit 24H24H Accès est situé à Lille, à moins de 1,4 km du Parc zoologique de Lille et à 1,6 km du quartier du Vieux-Lille.Cet appartement comprend 3 chambres, une salle de bains pourvue d'une baignoire ou d'une douche, une télévision et une cuisine.Un panier petit-déjeuner est disponible dans l'appartement.Parlant français et anglais, le personnel de la réception se fera un plaisir de vous aider à tout moment de la journée. Vous pourrez aussi pratiquer le vélo et le canoë-kayak à proximité.Vous séjournerez à 1,8 km du grand magasin Printemps et à 2,1 km de l'opéra de Lille. Enfin, l'aéroport de Lille, le plus proche, se trouve à 11 km de l'appartement MAISON VIEUX LILLE 3 chambres parking privé gratuit 24H24H Accès. ",
           99.71428571428572,
           7
          ],
          [
           50.63993565,
           3.07568908,
           "Crowne Plaza Euralille, an IHG Hotel",
           "https://www.booking.com/hotel/fr/crowneplazaeuralille.fr.html?label=gen173nr-1FCAEoggI46AdIDVgEaBWIAQGYAQ24ARjIAQ_YAQHoAQH4AQKIAgGoAgS4Asz9_pIGwAIB0gIkNjc5NmQ4ZDctMDc4My00ZjgzLWE2MzUtZWMwZGRkM2FlMTg12AIF4AIB&sid=533e0a790980cbb34b2b3e9d594e6000&aid=304142&ucfs=1&arphpl=1&group_adults=2&req_adults=2&no_rooms=1&group_children=0&req_children=0&hpos=19&hapos=19&sr_order=popularity&srpvid=3ccb38ed949e00b9&srepoch=1650441949&from_sustainable_property_sr=1&from=searchresults#hotelTmpl",
           "Le Crowne Plaza Euralille est installé en face de la gare de Lille-Europe, proposant des liaisons directes vers Paris et Londres. L’hôtel est également situé à 1,6 km du Lille Grand Palais et à 1,8 km du centre de conventions du Nouveau Siècle. L’établissement dispose d’une salle de sport et d’une connexion Wi-Fi haut débit gratuite.Toutes les chambres et suites sont luxueuses et spacieuses. Offrant une vue panoramique sur la ville, chaque logement comprend une télévision ainsi qu’une salle de bains privative avec baignoire et douche.Le restaurant Le Plaza sert à la carte et sous forme de buffet des plats traditionnels et régionaux français. Au bar Le Copper sur place, vous pourrez vous détendre en savourant un verre dans un cadre chaleureux et apaisant.L’hôtel se trouve à seulement 10 minutes à pied du Vieux-Lille et à 20 minutes de marche du palais des Beaux-Arts. Le Crowne Plaza Euralille est situé à 9 km du stade Pierre-Mauroy. ",
           99.71428571428572,
           7
          ],
          [
           50.63444099,
           3.07335824,
           "Novotel Lille Centre Gares",
           "https://www.booking.com/hotel/fr/novotel-lille-centre-gares.fr.html?label=gen173nr-1FCAEoggI46AdIDVgEaBWIAQGYAQ24ARjIAQ_YAQHoAQH4AQKIAgGoAgS4Asz9_pIGwAIB0gIkNjc5NmQ4ZDctMDc4My00ZjgzLWE2MzUtZWMwZGRkM2FlMTg12AIF4AIB&sid=533e0a790980cbb34b2b3e9d594e6000&aid=304142&ucfs=1&arphpl=1&group_adults=2&req_adults=2&no_rooms=1&group_children=0&req_children=0&hpos=20&hapos=20&sr_order=popularity&srpvid=3ccb38ed949e00b9&srepoch=1650441949&from_sustainable_property_sr=1&from=searchresults#hotelTmpl",
           "Situé à seulement 300 mètres de la gare de Lille Flandres, l'hôtel 4 étoiles Novotel Lille Centre Gares se trouve à 5 minutes de marche du centre de Lille, du palais des Congrès et du Zénith.Les chambres, insonorisées et spacieuses, sont dotées d'équipements modernes, notamment d'une télévision à écran plat. Elles sont également climatisées.Vous pourrez déguster une cuisine française traditionnelle au café et bar Novotel. Pour votre confort, le café est ouvert 24h/24 et sert des collations légères sur la terrasse.Vous bénéficierez également sur place d'une salle de sport bien équipée. Le personnel multilingue du Novotel Lille Centre Gares vous propose toute une gamme de services professionnels 24h/24.Le Grand Palais vous attend à 650 mètres, tandis que le centre de conventions Nouveau Siècle est à moins de 15 minutes à pied.Deux enfants âgés de 16 ans maximum peuvent séjourner gratuitement dans la chambre de leurs parents. ",
           99.71428571428572,
           7
          ],
          [
           43.496316,
           5.342152,
           "TheCamp Hotel&Lodges - Aix en Provence",
           "https://www.booking.com/hotel/fr/thecamp-amp-lodges.fr.html?label=gen173nr-1FCAEoggI46AdIDVgEaBWIAQGYAQ24ARjIAQ_YAQHoAQH4AQKIAgGoAgS4Asz9_pIGwAIB0gIkNjc5NmQ4ZDctMDc4My00ZjgzLWE2MzUtZWMwZGRkM2FlMTg12AIF4AIB&sid=533e0a790980cbb34b2b3e9d594e6000&aid=304142&ucfs=1&arphpl=1&group_adults=2&req_adults=2&no_rooms=1&group_children=0&req_children=0&hpos=1&hapos=1&sr_order=popularity&srpvid=287e38f4d149052a&srepoch=1650441963&from_sustainable_property_sr=1&from=searchresults#hotelTmpl",
           "Vous pouvez bénéficier d'une réduction Genius dans l'établissement TheCamp Hotel&Lodges - Aix en Provence ! Connectez-vous pour économiser.Situé à Aix-en-Provence, à 9 km du cours Mirabeau, l'établissement TheCamp Hotel&Lodges - Aix en Provence propose une piscine extérieure ouverte en saison, un parking privé gratuit, une salle de sport et un jardin. Il propose des chambres familiales et une terrasse bien exposée. Certains logements possèdent un balcon avec vue sur la piscine.Toutes les chambres sont équipées de la climatisation, d'une télévision par satellite à écran plat, d'une bouilloire et d'un bureau. Certains logements disposent d'un coffre-fort. Leur salle de bains privative est pourvue d'une armoire.Un petit-déjeuner buffet ou continental est servi sur place.Vous pourrez pratiquer diverses activités à Aix-en-Provence et dans ses environs, telles que le vélo et la randonnée.Vous séjournerez à 2,7 km du parc technologique de la Duranne et à 9 km de la cathédrale Saint-Sauveur. L'aéroport de Marseille-Provence, le plus proche, est implanté à 12 km. ",
           104.04285714285714,
           21
          ],
          [
           43.52409101,
           5.45521617,
           "Odalys City Aix en Provence L'Atrium",
           "https://www.booking.com/hotel/fr/atrium-d-anaite.fr.html?label=gen173nr-1FCAEoggI46AdIDVgEaBWIAQGYAQ24ARjIAQ_YAQHoAQH4AQKIAgGoAgS4Asz9_pIGwAIB0gIkNjc5NmQ4ZDctMDc4My00ZjgzLWE2MzUtZWMwZGRkM2FlMTg12AIF4AIB&sid=533e0a790980cbb34b2b3e9d594e6000&aid=304142&ucfs=1&arphpl=1&group_adults=2&req_adults=2&no_rooms=1&group_children=0&req_children=0&hpos=2&hapos=2&sr_order=popularity&srpvid=287e38f4d149052a&srepoch=1650441963&from_sustainable_property_sr=1&from=searchresults#hotelTmpl",
           "Vous pouvez bénéficier d'une réduction Genius dans l'établissement Odalys City Aix en Provence L'Atrium ! Connectez-vous pour économiser.Situé à Aix-en-Provence, l'Odalys City Aix en Provence L'Atrium propose des appartements d'une chambre et des studios indépendants avec une connexion Wi-Fi gratuite. Le centre-ville historique et la gare sont à 10 minutes de marche, tandis que les boutiques du cours Mirabeau sont à 5 minutes à pied.Les studios et les appartements disposent d'une télévision par câble satellite à écran plat. Leur salle de bains privative comprend une baignoire ou une douche. Leur kitchenette est équipée de plaques de cuisson, d'un micro-ondes et d'un réfrigérateur.Moyennant un supplément, vous pourrez déguster un petit-déjeuner complet dans la salle prévue à cet effet.L'Odalys City Aix en Provence L'Atrium se trouve à 30 minutes de route de la montagne Sainte-Victoire. Le musée Granet est à 4 minutes de marche. L'aéroport de Marseille Provence est à 25 minutes en voiture. Un parking privé sur place est accessible moyennant un supplément et sous réserve de disponibilité. ",
           104.04285714285714,
           21
          ],
          [
           43.52524078,
           5.441266,
           "Séjours & Affaires Aix-en-Provence Mirabeau",
           "https://www.booking.com/hotel/fr/residence-mirabeau.fr.html?label=gen173nr-1FCAEoggI46AdIDVgEaBWIAQGYAQ24ARjIAQ_YAQHoAQH4AQKIAgGoAgS4Asz9_pIGwAIB0gIkNjc5NmQ4ZDctMDc4My00ZjgzLWE2MzUtZWMwZGRkM2FlMTg12AIF4AIB&sid=533e0a790980cbb34b2b3e9d594e6000&aid=304142&ucfs=1&arphpl=1&group_adults=2&req_adults=2&no_rooms=1&group_children=0&req_children=0&hpos=3&hapos=3&sr_order=popularity&srpvid=287e38f4d149052a&srepoch=1650441963&from=searchresults#hotelTmpl",
           "Vous pouvez bénéficier d'une réduction Genius dans l'établissement Séjours & Affaires Aix-en-Provence Mirabeau ! Connectez-vous pour économiser.Cette résidence Séjours & Affaires est située à Aix-en-Provence, à proximité du cours Mirabeau. Elle propose des studios meublés et une connexion Wi-Fi gratuite.Tous les studios du Séjours & Affaires Aix-en-Provence Mirabeau sont insonorisés et disposent d'une kitchenette complète équipée d'un réfrigérateur, d'un four micro-ondes, de plaques de cuisson et de vaisselle. Ils sont tous desservis par un ascenseur.Les studios comprennent un canapé-lit, et le ménage, qui inclut le changement du linge, est effectué une fois par semaine. ",
           104.04285714285714,
           21
          ],
          [
           43.51191632,
           5.43665394,
           "Campanile Aix-en-Provence Sud - Pont de l'Arc",
           "https://www.booking.com/hotel/fr/campanile-aix-en-provence-sud.fr.html?label=gen173nr-1FCAEoggI46AdIDVgEaBWIAQGYAQ24ARjIAQ_YAQHoAQH4AQKIAgGoAgS4Asz9_pIGwAIB0gIkNjc5NmQ4ZDctMDc4My00ZjgzLWE2MzUtZWMwZGRkM2FlMTg12AIF4AIB&sid=533e0a790980cbb34b2b3e9d594e6000&aid=304142&ucfs=1&arphpl=1&group_adults=2&req_adults=2&no_rooms=1&group_children=0&req_children=0&hpos=4&hapos=4&sr_order=popularity&srpvid=287e38f4d149052a&srepoch=1650441963&from_sustainable_property_sr=1&from=searchresults#hotelTmpl",
           "Installé à Aix-en-Provence, à 3 km du centre historique et du cours Mirabeau, le Campanile Aix-en-Provence Sud - Pont de l’Arc vous propose des hébergements climatisés avec une connexion Wi-Fi gratuite.Toutes les chambres sont équipées d’une télévision à écran plat. Chaque logement est doté d’un plateau/bouilloire.L’hôtel sert tous les matins un petit-déjeuner buffet. Le restaurant sur place prépare une cuisine française contemporaine, que vous pourrez savourer sur la terrasse en été. Un buffet composé de plats chauds et froids est également disponible.L’hôtel possède un ascenseur et un parking privé gratuit sur place. Un bus desservant directement le centre-ville s’arrête en face de l’hôtel.L’établissement se trouve à 13 km de la gare TGV d’Aix-en-Provence et à 8 km de la salle polyvalente Arena du Pays d’Aix. L’aéroport Marseille-Provence est accessible en 20 minutes de route. ",
           104.04285714285714,
           21
          ],
          [
           43.52461222,
           5.45375437,
           "Le Concorde",
           "https://www.booking.com/hotel/fr/le-concorde-sarl-aix-en-provence.fr.html?label=gen173nr-1FCAEoggI46AdIDVgEaBWIAQGYAQ24ARjIAQ_YAQHoAQH4AQKIAgGoAgS4Asz9_pIGwAIB0gIkNjc5NmQ4ZDctMDc4My00ZjgzLWE2MzUtZWMwZGRkM2FlMTg12AIF4AIB&sid=533e0a790980cbb34b2b3e9d594e6000&aid=304142&ucfs=1&arphpl=1&group_adults=2&req_adults=2&no_rooms=1&group_children=0&req_children=0&hpos=5&hapos=5&sr_order=popularity&srpvid=287e38f4d149052a&srepoch=1650441963&from=searchresults#hotelTmpl",
           "Le Concorde est idéalement situé dans le centre d’Aix-en-Provence, à seulement 5 minutes à pied du célèbre cours Mirabeau et à proximité du musée Granet. Cet établissement possède un jardin fleuri.Les chambres sont toutes équipées d'une télévision, de la climatisation et d'une connexion Wi-Fi.Le matin, un petit-déjeuner copieux est servi dans la salle dédiée ou dans la cour.Si vous arrivez en voiture, vous pourrez accéder à un grand garage privé en sous-sol disponible moyennant un supplément, pour vous permettre de partir à la découverte de la ville sans vous inquiéter du stationnement. ",
           104.04285714285714,
           21
          ],
          [
           43.52693137,
           5.44626698,
           "Hôtel de France",
           "https://www.booking.com/hotel/fr/de-france-aix-en-provence.fr.html?label=gen173nr-1FCAEoggI46AdIDVgEaBWIAQGYAQ24ARjIAQ_YAQHoAQH4AQKIAgGoAgS4Asz9_pIGwAIB0gIkNjc5NmQ4ZDctMDc4My00ZjgzLWE2MzUtZWMwZGRkM2FlMTg12AIF4AIB&sid=533e0a790980cbb34b2b3e9d594e6000&aid=304142&ucfs=1&arphpl=1&group_adults=2&req_adults=2&no_rooms=1&group_children=0&req_children=0&hpos=6&hapos=6&sr_order=popularity&srpvid=287e38f4d149052a&srepoch=1650441963&from_sustainable_property_sr=1&from=searchresults#hotelTmpl",
           "Vous pouvez bénéficier d'une réduction Genius dans l'établissement Hôtel de France ! Connectez-vous pour économiser.Situé au cœur d'Aix-en-Provence, dans une rue parallèle au cours Mirabeau, l'Hôtel de France est à seulement 50 mètres de la célèbre fontaine de la Rotonde. Cet établissement propose des hébergements climatisés dotés d'une connexion Wi-Fi gratuite.Décorées dans des tons beiges et blancs, toutes les chambres de l'Hôtel de France disposent d'un bureau, d'un minibar et d'une télévision par satellite. Leur salle de bains privative est pourvue d'une baignoire ou d'une douche et d'articles de toilette Nuxe.Un petit-déjeuner est servi tous les matins dans la salle à manger ou en chambre. Vous trouverez par ailleurs de nombreux restaurants, bars et marchés à proximité.L'établissement possède une réception ouverte 24h/24 et un salon commun. Il bénéficie d'un emplacement idéal pour partir à la découverte d'Aix-en-Provence, et vous pourrez vous rendre à la gare en seulement 10 minutes à pied. ",
           104.04285714285714,
           21
          ],
          [
           43.52356201,
           5.44593707,
           "Hôtel Cézanne Boutique-Hôtel",
           "https://www.booking.com/hotel/fr/cezanne-aix-en-provence.fr.html?label=gen173nr-1FCAEoggI46AdIDVgEaBWIAQGYAQ24ARjIAQ_YAQHoAQH4AQKIAgGoAgS4Asz9_pIGwAIB0gIkNjc5NmQ4ZDctMDc4My00ZjgzLWE2MzUtZWMwZGRkM2FlMTg12AIF4AIB&sid=533e0a790980cbb34b2b3e9d594e6000&aid=304142&ucfs=1&arphpl=1&group_adults=2&req_adults=2&no_rooms=1&group_children=0&req_children=0&hpos=7&hapos=7&sr_order=popularity&srpvid=287e38f4d149052a&srepoch=1650441963&from_sustainable_property_sr=1&from=searchresults#hotelTmpl",
           "L’Hôtel Cézanne Boutique-Hôtel, situé dans le centre d’Aix-en-Provence, propose 55 chambres. L’établissement possède également une terrasse et un salon.Les chambres climatisées de l'Hotel Cézanne disposent d'une connexion Wi-Fi gratuite. Toutes les chambres sont munies d'une télévision par satellite avec plus de 50 chaînes. Certaines offrent une vue sur la ville.L’Hôtel Cézanne comporte une terrasse avec un bar en plein air, où vous pourrez savourer votre apéritif. Une salle de réunion est également à votre disposition.Le petit-déjeuner est servi jusqu'à 11h00. Il se compose de plats salés maison, de viennoiseries, de crêpes, de brioche, de plateaux de charcuterie artisanale, de confiture des Hautes-Alpes et d'une sélection de produits sans gluten. Un bar à jus de fruits frais est également disponible. Vous pourrez prendre votre petit-déjeuner au bar en plein air par beau temps.L’établissement se trouve à 200 mètres du cours Mirabeau et à 300 mètres d’une gare routière avec des liaisons vers l’aéroport et la gare TGV. La gare TGV d’Aix-en-Provence est implantée à 12 km.Un parking privé est accessible sur place, moyennant des frais supplémentaires. ",
           104.04285714285714,
           21
          ],
          [
           43.5312636,
           5.44507004,
           "Aquabella Hôtel & Spa",
           "https://www.booking.com/hotel/fr/hotel-aquabella.fr.html?label=gen173nr-1FCAEoggI46AdIDVgEaBWIAQGYAQ24ARjIAQ_YAQHoAQH4AQKIAgGoAgS4Asz9_pIGwAIB0gIkNjc5NmQ4ZDctMDc4My00ZjgzLWE2MzUtZWMwZGRkM2FlMTg12AIF4AIB&sid=533e0a790980cbb34b2b3e9d594e6000&aid=304142&ucfs=1&arphpl=1&group_adults=2&req_adults=2&no_rooms=1&group_children=0&req_children=0&hpos=8&hapos=8&sr_order=popularity&srpvid=287e38f4d149052a&srepoch=1650441963&from=searchresults#hotelTmpl",
           "Entouré d'un magnifique jardin, l'Aquabella propose des chambres de style provençal ainsi qu'un accès gratuit au spa. Il est situé dans le centre d'Aix-en-Provence, à quelques pas de la vieille ville.Les chambres de l'Aquabella sont toutes climatisées et équipées d'une connexion Wi-Fi gratuite ainsi que d'un minibar. Des peignoirs sont également fournis.Vous pourrez déguster une cuisine méditerranéenne au restaurant de l'hôtel, L'Orangerie. Pendant les mois d'été, La Terrasse de la Tour, le restaurant-gril de l'établissement situé en plein air, sert des grillades et des salades au bord de la piscine extérieure.Vous pourrez vous détendre au spa Sensoriel de l'Aquabella. Vous aurez accès au sauna, au hammam et au bain à remous. Vous y trouverez également une douche Kneipp et une fontaine de glace.Vous trouverez un parking public à seulement 50 mètres, accessible moyennant un supplément. ",
           104.04285714285714,
           21
          ],
          [
           43.52890621,
           5.44086903,
           "Aparthotel Adagio Aix-en-Provence Centre",
           "https://www.booking.com/hotel/fr/pierre-vacances-city-centre.fr.html?label=gen173nr-1FCAEoggI46AdIDVgEaBWIAQGYAQ24ARjIAQ_YAQHoAQH4AQKIAgGoAgS4Asz9_pIGwAIB0gIkNjc5NmQ4ZDctMDc4My00ZjgzLWE2MzUtZWMwZGRkM2FlMTg12AIF4AIB&sid=533e0a790980cbb34b2b3e9d594e6000&aid=304142&ucfs=1&arphpl=1&group_adults=2&req_adults=2&no_rooms=1&group_children=0&req_children=0&hpos=9&hapos=9&sr_order=popularity&srpvid=287e38f4d149052a&srepoch=1650441963&from_sustainable_property_sr=1&from=searchresults#hotelTmpl",
           "L'Aparthotel Adagio Aix-en-Provence Centre se situe dans une rue paisible du centre de la commune d'Aix-en-Provence, à 10 minutes à pied des cafés et des fontaines du cours Mirabeau. La gare ferroviaire d'Aix-en-Provence se trouve à 900 mètres. Vous bénéficierez gracieusement d'une connexion Wi-Fi disponible dans l'ensemble de l'établissement.Affichant un style contemporain, les appartements et les studios possèdent une télévision à écran LCD. Leur cuisine est équipée de plaques de cuisson. Certains hébergements sont dotés d'une chambre séparée.Un petit-déjeuner est servi à l'Aparthotel Adagio Aix-en-Provence Centre. L'établissement comporte un parking privé couvert sur place attribué selon disponibilité, des distributeurs automatiques de boissons et/ou collations, une réception ouverte 24h/24, une bagagerie et assure un service de nettoyage à sec.La place de la Rotonde est à 5 minutes à pied et le musée d'histoire naturelle d'Aix-en-Provence à seulement 850 mètres. L'autoroute A8 se situe à 2,5 km. ",
           104.04285714285714,
           21
          ],
          [
           43.52191762,
           5.45787156,
           "Hôtel Le Mozart",
           "https://www.booking.com/hotel/fr/le-mozart.fr.html?label=gen173nr-1FCAEoggI46AdIDVgEaBWIAQGYAQ24ARjIAQ_YAQHoAQH4AQKIAgGoAgS4Asz9_pIGwAIB0gIkNjc5NmQ4ZDctMDc4My00ZjgzLWE2MzUtZWMwZGRkM2FlMTg12AIF4AIB&sid=533e0a790980cbb34b2b3e9d594e6000&aid=304142&ucfs=1&arphpl=1&group_adults=2&req_adults=2&no_rooms=1&group_children=0&req_children=0&hpos=10&hapos=10&sr_order=popularity&srpvid=287e38f4d149052a&srepoch=1650441963&from=searchresults#hotelTmpl",
           "Situé à 500 mètres du musée Granet, l'Hôtel Le Mozart propose des chambres climatisées avec connexion Wi-Fi gratuite. Il est facilement accessible depuis l'autoroute A8, à 3 minutes de route.Les chambres comprennent une télévision par satellite à écran LCD. Elles disposent également d'un téléphone et d'une salle de bains privative avec baignoire ou douche.Le petit-déjeuner buffet est servi dans la salle à manger ou sur la terrasse.Un parking privé est accessible gratuitement sur place. Vous pourrez garer votre véhicule dans le parking intérieur surveillé moyennant des frais supplémentaires et sur réservation. Vous trouverez des journaux à la réception ouverte 24h/24. ",
           104.04285714285714,
           21
          ],
          [
           43.52891205,
           5.43827534,
           "Hôtel Vendôme",
           "https://www.booking.com/hotel/fr/ha-tel-vendome.fr.html?label=gen173nr-1FCAEoggI46AdIDVgEaBWIAQGYAQ24ARjIAQ_YAQHoAQH4AQKIAgGoAgS4Asz9_pIGwAIB0gIkNjc5NmQ4ZDctMDc4My00ZjgzLWE2MzUtZWMwZGRkM2FlMTg12AIF4AIB&sid=533e0a790980cbb34b2b3e9d594e6000&aid=304142&ucfs=1&arphpl=1&group_adults=2&req_adults=2&no_rooms=1&group_children=0&req_children=0&hpos=11&hapos=11&sr_order=popularity&srpvid=287e38f4d149052a&srepoch=1650441963&from=searchresults#hotelTmpl",
           "Vous pouvez bénéficier d'une réduction Genius dans l'établissement Hôtel Vendôme ! Connectez-vous pour économiser.Situé à deux pas du centre historique d'Aix-en-Provence et du magnifique Pavillon de Vendôme, cet hôtel propose des chambres insonorisées, climatisées et équipées d'une télévision à écran plat avec chaînes satellite. Elles s'ouvrent sur une cour.Toutes les chambres de l'Hôtel Vendôme comportent une salle de bains privative avec peignoirs. Elles disposent également d'un bureau et d'un téléphone ; une connexion Wi-Fi est disponible gratuitement dans l'ensemble de l'établissement.Un petit-déjeuner continental est servi tous les matins et peut être savouré dans le confort de votre chambre. La réception est ouverte 24h/24 et des journaux quotidiens sont également à votre disposition.L'Hôtel Vendôme se trouve à seulement 800 mètres du service de navette, qui pourra vous conduire à la gare TGV d'Aix-en-Provence. ",
           104.04285714285714,
           21
          ],
          [
           43.52688664,
           5.44727147,
           "Hôtel des Augustins",
           "https://www.booking.com/hotel/fr/les-augustins.fr.html?label=gen173nr-1FCAEoggI46AdIDVgEaBWIAQGYAQ24ARjIAQ_YAQHoAQH4AQKIAgGoAgS4Asz9_pIGwAIB0gIkNjc5NmQ4ZDctMDc4My00ZjgzLWE2MzUtZWMwZGRkM2FlMTg12AIF4AIB&sid=533e0a790980cbb34b2b3e9d594e6000&aid=304142&ucfs=1&arphpl=1&group_adults=2&req_adults=2&no_rooms=1&group_children=0&req_children=0&hpos=12&hapos=12&sr_order=popularity&srpvid=287e38f4d149052a&srepoch=1650441963&from=searchresults#hotelTmpl",
           "Vous pouvez bénéficier d'une réduction Genius dans l'établissement Hôtel des Augustins ! Connectez-vous pour économiser.Situé à côté du célèbre cours Mirabeau, au cœur de la vieille ville d'Aix-en-Provence, l'Hôtel Les Augustins se trouve dans les murs d'un couvent datant du XIIe siècle.L'Hôtel Les Augustins, subtil mélange d'architecture historique et moderne, bénéficie d'un magnifique hall d'entrée.L'hôtel propose des chambres spacieuses alliant l’architecture traditionnelle aux équipements modernes. Toutes les chambres sont climatisées et équipées d’une télévision et d’un minibar.Le petit-déjeuner est servi tous les matins dans la salle à manger ou dans le confort de votre chambre. Vous pourrez profiter d’une connexion Wi-Fi gratuite dans l’ensemble des locaux, et d’une réception ouverte 24h/24. ",
           104.04285714285714,
           21
          ],
          [
           43.52624048,
           5.43820493,
           "Renaissance Aix-en-Provence Hotel",
           "https://www.booking.com/hotel/fr/renaissance-aix-en-provence.fr.html?label=gen173nr-1FCAEoggI46AdIDVgEaBWIAQGYAQ24ARjIAQ_YAQHoAQH4AQKIAgGoAgS4Asz9_pIGwAIB0gIkNjc5NmQ4ZDctMDc4My00ZjgzLWE2MzUtZWMwZGRkM2FlMTg12AIF4AIB&sid=533e0a790980cbb34b2b3e9d594e6000&aid=304142&ucfs=1&arphpl=1&group_adults=2&req_adults=2&no_rooms=1&group_children=0&req_children=0&hpos=13&hapos=13&sr_order=popularity&srpvid=287e38f4d149052a&srepoch=1650441963&from=searchresults#hotelTmpl",
           "Situé à moins de 10 minutes à pied du centre d'Aix-en-Provence, le Renaissance Aix-en-Provence Hotel propose une réception ouverte 24h/24, des journaux et une connexion Wi-Fi gratuite. Vous bénéficierez d'un accès gratuit au spa doté d'une piscine intérieure chauffée, d'un hammam, d'une salle de sport et de 2 cabines de soins. Offrant toutes une vue sur le jardin ou la ville, les chambres spacieuses comprennent une salle de bains privative pourvue d'une baignoire ou d'une douche.Vous pourrez déguster un petit-déjeuner buffet, américain ou continental. Vous disposerez aussi d'un bistro et d'un bar sur place.Vous séjournerez à 200 mètres du Grand Théâtre. Par ailleurs, vous aurez la possibilité de jouer au bowling à 1 km et au golf à 3 km ou de pratiquer l'équitation à 1,9 km. Enfin, l’aéroport Marseille-Provence est accessible à 25 minutes en voiture du Renaissance Aix-en-Provence Hotel. ",
           104.04285714285714,
           21
          ],
          [
           43.52879731,
           5.42567968,
           "Golden Tulip Aix en Provence",
           "https://www.booking.com/hotel/fr/golden-tulip-aix-en-provence.fr.html?label=gen173nr-1FCAEoggI46AdIDVgEaBWIAQGYAQ24ARjIAQ_YAQHoAQH4AQKIAgGoAgS4Asz9_pIGwAIB0gIkNjc5NmQ4ZDctMDc4My00ZjgzLWE2MzUtZWMwZGRkM2FlMTg12AIF4AIB&sid=533e0a790980cbb34b2b3e9d594e6000&aid=304142&ucfs=1&arphpl=1&group_adults=2&req_adults=2&no_rooms=1&group_children=0&req_children=0&hpos=14&hapos=14&sr_order=popularity&srpvid=287e38f4d149052a&srepoch=1650441963&from_sustainable_property_sr=1&from=searchresults#hotelTmpl",
           "Le Golden Tulip Aix en Provence est situé à la sortie des autoroutes A8 et A51. Il est implanté à seulement 10 minutes de route du centre d'Aix-en-Provence et de la maison de Paul Cézanne. Cet établissement vous propose une connexion Wi-Fi gratuite et une piscine extérieure ouverte en saison. Il a été entièrement rénové en avril 2019.Décorées dans un style contemporain, toutes les chambres du Golden Tulip Aix en Provence comprennent une salle de bains privative et une télévision par satellite à écran plat avec les chaînes du bouquet Canal+. Elles affichent une décoration de style contemporain.Le restaurant « Tulipe » vous accueille tous les jours. Vous y apprécierez une cuisine traditionnelle, gastronomique et locale.Vous pourrez vous détendre sur la terrasse dotée de chiliennes et d'un barbecue. L’hôtel compte aussi une salle de sport et un espace détente climatisé pouvant être privatisé, incluant un sauna sec ainsi qu’une douche.Vous trouverez des théâtres, un parcours de golf et un cinéma à proximité de l’établissement. Le Golden Tulip Aix en Provence est installé à la périphérie ouest de la ville, à 2 km du cours Mirabeau. Un parking souterrain est disponible moyennant des frais supplémentaires. ",
           104.04285714285714,
           21
          ],
          [
           43.5211698,
           5.49659729,
           "Les Lodges Sainte-Victoire Hotel & Spa",
           "https://www.booking.com/hotel/fr/les-lodges-sainte-victoire.fr.html?label=gen173nr-1FCAEoggI46AdIDVgEaBWIAQGYAQ24ARjIAQ_YAQHoAQH4AQKIAgGoAgS4Asz9_pIGwAIB0gIkNjc5NmQ4ZDctMDc4My00ZjgzLWE2MzUtZWMwZGRkM2FlMTg12AIF4AIB&sid=533e0a790980cbb34b2b3e9d594e6000&aid=304142&ucfs=1&arphpl=1&group_adults=2&req_adults=2&no_rooms=1&group_children=0&req_children=0&hpos=15&hapos=15&sr_order=popularity&srpvid=287e38f4d149052a&srepoch=1650441963&from=searchresults#hotelTmpl",
           "Vous pouvez bénéficier d'une réduction Genius dans l'établissement Les Lodges Sainte-Victoire Hotel & Spa ! Connectez-vous pour économiser.Installé dans un parc de 5 hectares comprenant des vignobles et des oliviers, l'hôtel décoré avec élégance Les Lodges Sainte-Victoire Hotel & Spa est aménagé dans un bâtiment datant du XVIIIe siècle. Il dispose d'installations de spa et de 2 piscines.Les chambres et suites possèdent un minibar, une bouilloire et une télévision par câble à écran LCD. Leur salle de bains privative est pourvue d’articles de toilette gratuits et d’un sèche-cheveux.Sur place, le restaurant gastronomique sert des repas préparés avec des produits locaux de saison. De plus, vous pourrez prendre un petit-déjeuner buffet fait maison chaque matin ainsi qu'un verre au bar. Le petit-déjeuner est gratuit pour les enfants de moins de 8 ans.Lors de votre séjour, vous profiterez d'une terrasse bien exposée, d'une bagagerie et d'une connexion Wi-Fi gratuite dans tout l'établissement. Les installations du spa incluent un hammam, un sauna et une salle de sport.L'hôtel est situé à 6 km du centre d'Aix-en-Provence et à 10 km de la montagne Sainte-Victoire. Le parking privé sur place est gratuit et accessible sans réservation préalable. Une borne de recharge pour voitures électriques est par ailleurs disponible au sein de l'établissement. ",
           104.04285714285714,
           21
          ],
          [
           43.51126943,
           5.48701439,
           "B&B Hôtel Aix-en-Provence Le Tholonet",
           "https://www.booking.com/hotel/fr/le-tholonet.fr.html?label=gen173nr-1FCAEoggI46AdIDVgEaBWIAQGYAQ24ARjIAQ_YAQHoAQH4AQKIAgGoAgS4Asz9_pIGwAIB0gIkNjc5NmQ4ZDctMDc4My00ZjgzLWE2MzUtZWMwZGRkM2FlMTg12AIF4AIB&sid=533e0a790980cbb34b2b3e9d594e6000&aid=304142&ucfs=1&arphpl=1&group_adults=2&req_adults=2&no_rooms=1&group_children=0&req_children=0&hpos=16&hapos=16&sr_order=popularity&srpvid=287e38f4d149052a&srepoch=1650441963&from=searchresults#hotelTmpl",
           "Doté d'une connexion Wi-Fi gratuite, le B&B Hotel Aix en Provence Le Tholonet est situé aux Artauds, à 25 km de Marseille. Un parking privé est disponible gratuitement sur place.Chaque chambre de cet hôtel est climatisée et équipée d'une télévision à écran plat. La salle de bains privative est pourvue d'une douche.Vous séjournerez à 3,5 km d'Aix-en-Provence et à 33 km de Cassis. L’aéroport de Marseille Provence, le plus proche, se trouve à 23 km du B&B Hotel Aix en Provence Le Tholonet. ",
           104.04285714285714,
           21
          ],
          [
           43.5255987,
           5.4517208,
           "Hotel Cardinal",
           "https://www.booking.com/hotel/fr/cardinal.fr.html?label=gen173nr-1FCAEoggI46AdIDVgEaBWIAQGYAQ24ARjIAQ_YAQHoAQH4AQKIAgGoAgS4Asz9_pIGwAIB0gIkNjc5NmQ4ZDctMDc4My00ZjgzLWE2MzUtZWMwZGRkM2FlMTg12AIF4AIB&sid=533e0a790980cbb34b2b3e9d594e6000&aid=304142&ucfs=1&arphpl=1&group_adults=2&req_adults=2&no_rooms=1&group_children=0&req_children=0&hpos=17&hapos=17&sr_order=popularity&srpvid=287e38f4d149052a&srepoch=1650441963&from=searchresults#hotelTmpl",
           "L'Hotel Cardinal vous propose des chambres dotées de la climatisation et d'une salle de bains privative à Aix-en-Provence, à moins de 800 mètres du cours Mirabeau et de la cathédrale Saint-Sauveur, ainsi qu'à 3 minutes à pied de sites d'intérêt tels que le centre de Congrès d'Aix-en-Provence.Les chambres et suites présentent une décoration individuelle, et disposent d'une machine à café et d'un bureau. Certaines comprennent également une kitchenette équipée d'un micro-ondes, d'un réfrigérateur et d'une plaque de cuisson.Le personnel de la réception de l'Hotel Cardinal parle par ailleurs anglais et français.Enfin, l'aéroport Marseille-Provence est installé à 21 km de l'établissement. ",
           104.04285714285714,
           21
          ],
          [
           43.5285445,
           5.42601228,
           "City Résidence Aix-en-Provence",
           "https://www.booking.com/hotel/fr/appart-valley-aix-en-provence.fr.html?label=gen173nr-1FCAEoggI46AdIDVgEaBWIAQGYAQ24ARjIAQ_YAQHoAQH4AQKIAgGoAgS4Asz9_pIGwAIB0gIkNjc5NmQ4ZDctMDc4My00ZjgzLWE2MzUtZWMwZGRkM2FlMTg12AIF4AIB&sid=533e0a790980cbb34b2b3e9d594e6000&aid=304142&ucfs=1&arphpl=1&group_adults=2&req_adults=2&no_rooms=1&group_children=0&req_children=0&hpos=18&hapos=18&sr_order=popularity&srpvid=287e38f4d149052a&srepoch=1650441963&from=searchresults#hotelTmpl",
           "Situé à 10 minutes en voiture du centre historique, l'établissement City Residence Aix-en-Provence propose des appartements et des studios indépendants dotés d'une télévision par satellite à écran plat et offrant une vue sur le jardin. Une connexion Wi-Fi gratuite est disponible dans tout l'hébergement.Chaque studio ou appartement climatisé et insonorisé dispose d'une kitchenette avec des plaques de cuisson, un micro-ondes et une machine à café. Ils comprennent également un coin salon et un coin repas. Leur salle de bains privative est dotée d'une baignoire et d'une douche.Le petit-déjeuner pourra vous être servi moyennant des frais supplémentaires. L'établissement comprend également une terrasse, un distributeur automatique et une laverie en libre-service. Un ensemble de serviettes de toilette et de linge de lit est fourni à l'arrivée.L'établissement se trouve à 2 km du quartier animé du Cours Mirabeau et à 3 minutes en voiture de l'autoroute A51. L'aéroport de Marseille Provence, le plus proche, est quant à lui accessible à 26,4 km. Un parking souterrain privatif est disponible. ",
           104.04285714285714,
           21
          ],
          [
           43.555131,
           5.461814,
           "Bastide Aixoise",
           "https://www.booking.com/hotel/fr/bastide-aixoise.fr.html?label=gen173nr-1FCAEoggI46AdIDVgEaBWIAQGYAQ24ARjIAQ_YAQHoAQH4AQKIAgGoAgS4Asz9_pIGwAIB0gIkNjc5NmQ4ZDctMDc4My00ZjgzLWE2MzUtZWMwZGRkM2FlMTg12AIF4AIB&sid=533e0a790980cbb34b2b3e9d594e6000&aid=304142&ucfs=1&arphpl=1&group_adults=2&req_adults=2&no_rooms=1&group_children=0&req_children=0&hpos=19&hapos=19&sr_order=popularity&srpvid=287e38f4d149052a&srepoch=1650441963&from_sustainable_property_sr=1&from=searchresults#hotelTmpl",
           "Vous pouvez bénéficier d'une réduction Genius dans l'établissement Bastide Aixoise ! Connectez-vous pour économiser.Doté d'une terrasse et offrant une vue sur la piscine, le Bastide Aixoise est situé à Aix-en-Provence, à 2,9 km de la cathédrale Saint-Sauveur et à 3,3 km du cours Mirabeau. Cette villa dispose d'une piscine privée, d'un jardin, d'un barbecue ainsi que d'une connexion Wi-Fi et d'un parking privé gratuits.Cette villa climatisée comprend une chambre, un salon, une cuisine entièrement équipée avec un lave-vaisselle et une machine à café ainsi qu'une salle de bains pourvue d'une douche et d'articles de toilette gratuits. Les serviettes et le linge de lit sont fournis.Un petit-déjeuner continental ou à la carte est servi sur place.Une piscine extérieure est disponible sur place et vous pourrez faire de la randonnée à proximité du Bastide Aixoise.Vous séjournerez à 2,2 km du studio de Cézanne et à 2,9 km de l'université Sciences Po Aix. L'aéroport de Marseille-Provence, le plus proche, est à 23 km du Bastide Aixoise. Un service de navette aéroport est assuré moyennant des frais supplémentaires. ",
           104.04285714285714,
           21
          ],
          [
           43.52485921,
           5.45370072,
           "La Caravelle",
           "https://www.booking.com/hotel/fr/la-caravelle-aix-en-provence.fr.html?label=gen173nr-1FCAEoggI46AdIDVgEaBWIAQGYAQ24ARjIAQ_YAQHoAQH4AQKIAgGoAgS4Asz9_pIGwAIB0gIkNjc5NmQ4ZDctMDc4My00ZjgzLWE2MzUtZWMwZGRkM2FlMTg12AIF4AIB&sid=533e0a790980cbb34b2b3e9d594e6000&aid=304142&ucfs=1&arphpl=1&group_adults=2&req_adults=2&no_rooms=1&group_children=0&req_children=0&hpos=20&hapos=20&sr_order=popularity&srpvid=287e38f4d149052a&srepoch=1650441963&from=searchresults#hotelTmpl",
           "Vous pouvez bénéficier d'une réduction Genius dans l'établissement La Caravelle ! Connectez-vous pour économiser.Au cœur d'Aix-en-Provence, l'hôtel La Caravelle vous accueille à moins de 8 minutes à pied du cours Mirabeau, du musée Granet et du palais des congrès.Toutes les chambres disposent d'un ventilateur ou de la climatisation, d'un bureau, ainsi que d'une salle de bains privative munie d'une baignoire ou d'une douche.Un petit-déjeuner buffet vous sera servi tous les matins lors de votre séjour dans l'établissement La Caravelle. Un petit-déjeuner continental est également disponible à un tarif réduit. Il comprend une boisson chaude, un croissant et un verre de jus d'orange. Vous pourrez le déguster dans votre chambre.Doté d'un système de surveillance vidéo, l'hôtel La Caravelle propose l'accès gratuit aux ordinateurs dans les parties communes. Enfin, un parking public est accessible à proximité. ",
           104.04285714285714,
           21
          ],
          [
           49.8916762,
           2.30775386,
           "Holiday Inn Express Amiens, an IHG Hotel",
           "https://www.booking.com/hotel/fr/express-by-holiday-inn.fr.html?label=gen173nr-1FCAEoggI46AdIDVgEaBWIAQGYAQ24ARjIAQ_YAQHoAQH4AQKIAgGoAgS4Asz9_pIGwAIB0gIkNjc5NmQ4ZDctMDc4My00ZjgzLWE2MzUtZWMwZGRkM2FlMTg12AIF4AIB&sid=533e0a790980cbb34b2b3e9d594e6000&aid=304142&ucfs=1&arphpl=1&group_adults=2&req_adults=2&no_rooms=1&group_children=0&req_children=0&hpos=1&hapos=1&sr_order=popularity&srpvid=549838edab2a02b6&srepoch=1650441948&from_sustainable_property_sr=1&from=searchresults#hotelTmpl",
           "Rénové en avril 2015, le Holiday Inn Express Amiens comprend des chambres confortables avec une connexion Wi-Fi gratuite. Vous séjournerez dans le centre d’Amiens, à seulement 50 mètres de la gare et à 10 minutes à pied de la cathédrale.Desservis par un ascenseur, tous les hébergements incluent la climatisation, un coffre-fort, une machine à expresso et une télévision haute définition par satellite à écran plat.Chaque matin, le Holiday Inn Express Amiens sert gratuitement un petit-déjeuner buffet. Vous trouverez de nombreux restaurants dans les environs.Cet établissement non-fumeurs propose un bar, une salle de sport ainsi que des services de repassage et de blanchisserie. Situé dans les environs, un parking public souterrain est accessible aux voitures d’une hauteur maximale de 1,80 mètre. ",
           104.07714285714286,
           6
          ],
          [
           49.8953831,
           2.297772,
           "Le Majestic Cathédrale",
           "https://www.booking.com/hotel/fr/le-duplex-amiens-pleine-vue-cathedrale.fr.html?label=gen173nr-1FCAEoggI46AdIDVgEaBWIAQGYAQ24ARjIAQ_YAQHoAQH4AQKIAgGoAgS4Asz9_pIGwAIB0gIkNjc5NmQ4ZDctMDc4My00ZjgzLWE2MzUtZWMwZGRkM2FlMTg12AIF4AIB&sid=533e0a790980cbb34b2b3e9d594e6000&aid=304142&ucfs=1&arphpl=1&group_adults=2&req_adults=2&no_rooms=1&group_children=0&req_children=0&hpos=2&hapos=2&sr_order=popularity&srpvid=549838edab2a02b6&srepoch=1650441948&from=searchresults#hotelTmpl",
           "Vous pouvez bénéficier d'une réduction Genius dans l'établissement Le Majestic Cathédrale ! Connectez-vous pour économiser.Situé à Amiens, à 1,7 km du Zénith, l'établissement Le Majestic Cathédrale propose un salon commun, une connexion Wi-Fi gratuite, une cuisine commune et un service d'étage. Offrant une vue sur la ville, il se trouve à 500 mètres du musée de Berny et à moins de 1 km du parc des jardins flottants.Cet appartement comprend 2 chambres, une cuisine avec lave-vaisselle, une télévision à écran plat, un coin salon et une salle de bains avec douche. Les serviettes et le linge de lit sont fournis.Un service de location de voitures est assuré sur place. La région est prisée pour pratiquer la randonnée.Vous séjournerez à 400 mètres du tribunal de grande instance d'Amiens et à 3,2 km de l'université de Picardie Jules Verne. L'aéroport de Beauvais-Tillé, le plus proche, est à 50 km. ",
           104.07714285714286,
           6
          ],
          [
           49.92513403,
           2.30457276,
           "Comfort Hotel Amiens Nord",
           "https://www.booking.com/hotel/fr/kyriad-amiens-nord-xml.fr.html?label=gen173nr-1FCAEoggI46AdIDVgEaBWIAQGYAQ24ARjIAQ_YAQHoAQH4AQKIAgGoAgS4Asz9_pIGwAIB0gIkNjc5NmQ4ZDctMDc4My00ZjgzLWE2MzUtZWMwZGRkM2FlMTg12AIF4AIB&sid=533e0a790980cbb34b2b3e9d594e6000&aid=304142&ucfs=1&arphpl=1&group_adults=2&req_adults=2&no_rooms=1&group_children=0&req_children=0&hpos=3&hapos=3&sr_order=popularity&srpvid=549838edab2a02b6&srepoch=1650441948&from=searchresults#hotelTmpl",
           "Doté d’une terrasse, le Comfort Hotel Amiens Nord propose des hébergements à seulement 4 km du centre-ville d’Amiens. Des salles de réunion sont à votre disposition sur place. Un parking privé et une connexion Wi-Fi sont disponibles gratuitement.Les chambres disposent d’une télévision par satellite à écran plat. Leur salle de bains privative est pourvue d’une baignoire, d’un sèche-cheveux et d’articles de toilette gratuits.Un petit-déjeuner buffet est servi tous les matins.L’établissement se trouve à seulement 5 km du zoo, de la cathédrale et du centre historique d’Amiens. La gare d’Amiens est située à 4,5 km, et l’autoroute A16 est accessible à 20 km. ",
           104.07714285714286,
           6
          ],
          [
           49.89444519,
           2.30094239,
           "Hotel Le Prieuré et La Résidence",
           "https://www.booking.com/hotel/fr/le-prieure-amiens.fr.html?label=gen173nr-1FCAEoggI46AdIDVgEaBWIAQGYAQ24ARjIAQ_YAQHoAQH4AQKIAgGoAgS4Asz9_pIGwAIB0gIkNjc5NmQ4ZDctMDc4My00ZjgzLWE2MzUtZWMwZGRkM2FlMTg12AIF4AIB&sid=533e0a790980cbb34b2b3e9d594e6000&aid=304142&ucfs=1&arphpl=1&group_adults=2&req_adults=2&no_rooms=1&group_children=0&req_children=0&hpos=4&hapos=4&sr_order=popularity&srpvid=549838edab2a02b6&srepoch=1650441948&from=searchresults#hotelTmpl",
           "L'Hotel Le Prieuré et La Résidence est situé dans le centre-ville d'Amiens, au pied de la cathédrale. Il propose une connexion Wi-Fi gratuite et des chambres décorées de manière personnalisée avec un mobilier d'époque.Les chambres du Prieuré et La Résidence comprennent une salle de bains privative munie d'une baignoire ou d'une douche. Elles comportent également une télévision et un sèche-cheveux.Un petit-déjeuner buffet est servi tous les matins dans la salle à manger du Prieuré ornée de lustres en cristal. Vous pourrez vous détendre sur la terrasse et dans la cour de l'établissement.L'Hotel Le Prieuré et La Résidence se trouve à seulement 900 mètres de la gare SNCF d'Amiens. L'aéroport d'Amiens-Glisy est à 15 minutes en voiture. ",
           104.07714285714286,
           6
          ],
          [
           49.88714842,
           2.3116109,
           "Odalys City Amiens Blamont",
           "https://www.booking.com/hotel/fr/appart-39-odalys-blamont.fr.html?label=gen173nr-1FCAEoggI46AdIDVgEaBWIAQGYAQ24ARjIAQ_YAQHoAQH4AQKIAgGoAgS4Asz9_pIGwAIB0gIkNjc5NmQ4ZDctMDc4My00ZjgzLWE2MzUtZWMwZGRkM2FlMTg12AIF4AIB&sid=533e0a790980cbb34b2b3e9d594e6000&aid=304142&ucfs=1&arphpl=1&group_adults=2&req_adults=2&no_rooms=1&group_children=0&req_children=0&hpos=5&hapos=5&sr_order=popularity&srpvid=549838edab2a02b6&srepoch=1650441948&from_sustainable_property_sr=1&from=searchresults#hotelTmpl",
           "Vous pouvez bénéficier d'une réduction Genius dans l'établissement Odalys City Amiens Blamont ! Connectez-vous pour économiser.Situé à 2,8 km du Zénith d'Amiens et à 900 mètres du musée Berny à Amiens, l'Odalys City Amiens Blamont propose des hébergements avec une connexion Wi-Fi gratuite.Tous les studios comprennent une kitchenette entièrement équipée avec micro-ondes, une bouilloire et un réfrigérateur. Vous profiterez d'une télévision à écran plat.À pied, vous rejoindrez les jardins flottants d'Amiens en 13 minutes et le tribunal de grande instance d'Amiens en 11 minutes. L'aéroport de Paris-Beauvais-Tillé est situé à 50 km. ",
           104.07714285714286,
           6
          ],
          [
           49.894229,
           2.305778,
           "Les Augustins",
           "https://www.booking.com/hotel/fr/les-augustins-amiens.fr.html?label=gen173nr-1FCAEoggI46AdIDVgEaBWIAQGYAQ24ARjIAQ_YAQHoAQH4AQKIAgGoAgS4Asz9_pIGwAIB0gIkNjc5NmQ4ZDctMDc4My00ZjgzLWE2MzUtZWMwZGRkM2FlMTg12AIF4AIB&sid=533e0a790980cbb34b2b3e9d594e6000&aid=304142&ucfs=1&arphpl=1&group_adults=2&req_adults=2&no_rooms=1&group_children=0&req_children=0&hpos=6&hapos=6&sr_order=popularity&srpvid=549838edab2a02b6&srepoch=1650441948&from=searchresults#hotelTmpl",
           "Vous pouvez bénéficier d'une réduction Genius dans l'établissement Les Augustins ! Connectez-vous pour économiser.Situé à Amiens, à proximité du musée Berny, du parc des jardins flottants et du tribunal de grande instance d'Amiens, l'établissement Les Augustins propose une connexion Wi-Fi gratuite.Tous les logements disposent d'une télévision par câble à écran plat, de matériel de repassage, d'une armoire et d'un coin salon avec un canapé. Leur cuisine est équipée d'un micro-ondes et d'un réfrigérateur. Leur salle de bains privative est pourvue d'une douche, d'un sèche-cheveux et d'articles de toilette gratuits.Vous séjournerez à 3 km du Zénith d'Amiens et à 5 km de l'université de Picardie Jules Verne. L'aéroport le plus proche, celui de Beauvais-Tillé, est situé à 64 km. ",
           104.07714285714286,
           6
          ],
          [
           49.89183258,
           2.30599433,
           "Hotel Central Anzac",
           "https://www.booking.com/hotel/fr/central-anzac.fr.html?label=gen173nr-1FCAEoggI46AdIDVgEaBWIAQGYAQ24ARjIAQ_YAQHoAQH4AQKIAgGoAgS4Asz9_pIGwAIB0gIkNjc5NmQ4ZDctMDc4My00ZjgzLWE2MzUtZWMwZGRkM2FlMTg12AIF4AIB&sid=533e0a790980cbb34b2b3e9d594e6000&aid=304142&ucfs=1&arphpl=1&group_adults=2&req_adults=2&no_rooms=1&group_children=0&req_children=0&hpos=7&hapos=7&sr_order=popularity&srpvid=549838edab2a02b6&srepoch=1650441948&from=searchresults#hotelTmpl",
           "Bénéficiant d'un emplacement central, l'Hotel Central Anzac propose un hébergement moderne et un petit-déjeuner continental, à 2 minutes à pied de la gare et à 7 minutes de marche de la cathédrale d'Amiens.Décorées de tons chauds leur octroyant une atmosphère chaleureuse, les chambres comprennent une télévision par satellite et une connexion Wi-Fi.Chaque matin, le petit-déjeuner est servi dans le coin repas. Il est composé d'une sélection de pâtisseries fraîches faites maison et de confitures préparées à partir de produits de saison. Vous aurez la possibilité de choisir entre un petit-déjeuner continental et anglais complet. En outre, des journaux sont fournis à la réception.Enfin, l'hôtel est à 10 minutes à pied du quartier de Saint Leu et à 15 minutes des célèbres canaux. ",
           104.07714285714286,
           6
          ],
          [
           49.887694,
           2.294524,
           "Maison Longuevie",
           "https://www.booking.com/hotel/fr/longuevie.fr.html?label=gen173nr-1FCAEoggI46AdIDVgEaBWIAQGYAQ24ARjIAQ_YAQHoAQH4AQKIAgGoAgS4Asz9_pIGwAIB0gIkNjc5NmQ4ZDctMDc4My00ZjgzLWE2MzUtZWMwZGRkM2FlMTg12AIF4AIB&sid=533e0a790980cbb34b2b3e9d594e6000&aid=304142&ucfs=1&arphpl=1&group_adults=2&req_adults=2&no_rooms=1&group_children=0&req_children=0&hpos=8&hapos=8&sr_order=popularity&srpvid=549838edab2a02b6&srepoch=1650441948&from=searchresults#hotelTmpl",
           "Vous pouvez bénéficier d'une réduction Genius dans l'établissement Maison Longuevie ! Connectez-vous pour économiser.Doté d’un jardin et d’une terrasse, le Maison Longuevie propose des hébergements avec une télévision à écran plat et une connexion Wi-Fi gratuite à Amiens, à 400 mètres du musée de Picardie.Un petit-déjeuner continental est servi sur place.Cette chambre d’hôtes se trouve à 1,9 km des hortillonnages et du Zénith d'Amiens. L’aéroport le plus proche, celui de Beauvais-Tillé, est situé à 62 km. ",
           104.07714285714286,
           6
          ],
          [
           49.90235783,
           2.31428465,
           "Gite Amiens",
           "https://www.booking.com/hotel/fr/gite-amiens.fr.html?label=gen173nr-1FCAEoggI46AdIDVgEaBWIAQGYAQ24ARjIAQ_YAQHoAQH4AQKIAgGoAgS4Asz9_pIGwAIB0gIkNjc5NmQ4ZDctMDc4My00ZjgzLWE2MzUtZWMwZGRkM2FlMTg12AIF4AIB&sid=533e0a790980cbb34b2b3e9d594e6000&aid=304142&ucfs=1&arphpl=1&group_adults=2&req_adults=2&no_rooms=1&group_children=0&req_children=0&hpos=9&hapos=9&sr_order=popularity&srpvid=549838edab2a02b6&srepoch=1650441948&from=searchresults#hotelTmpl",
           "Vous pouvez bénéficier d'une réduction Genius dans l'établissement Gite Amiens ! Connectez-vous pour économiser.Situé à Amiens, à seulement 5 minutes à pied du parc Saint-Pierre, le Gite Amiens dispose d'une terrasse avec mobilier de jardin. La gare d'Amiens est idéalement située à 1,4 km.Cette maison de vacances mitoyenne dispose d'un coin salon, d'une télévision, d'une salle de bains avec douche et de 3 chambres. La cuisine est entièrement équipée avec un four, un four micro-ondes et un lave-vaisselle.Vous trouverez des épiceries et des restaurants à quelques minutes de marche. Une connexion Wi-Fi est disponible gratuitement. Le centre-ville est à 2 km et la salle de concert Zénith d'Amiens à 3 km. ",
           104.07714285714286,
           6
          ],
          [
           49.8965252,
           2.2825902,
           "Le toit des Fédérés",
           "https://www.booking.com/hotel/fr/le-toit-des-federes.fr.html?label=gen173nr-1FCAEoggI46AdIDVgEaBWIAQGYAQ24ARjIAQ_YAQHoAQH4AQKIAgGoAgS4Asz9_pIGwAIB0gIkNjc5NmQ4ZDctMDc4My00ZjgzLWE2MzUtZWMwZGRkM2FlMTg12AIF4AIB&sid=533e0a790980cbb34b2b3e9d594e6000&aid=304142&ucfs=1&arphpl=1&group_adults=2&req_adults=2&no_rooms=1&group_children=0&req_children=0&hpos=10&hapos=10&sr_order=popularity&srpvid=549838edab2a02b6&srepoch=1650441948&from=searchresults#hotelTmpl",
           "Vous pouvez bénéficier d'une réduction Genius dans l'établissement Le toit des Fédérés ! Connectez-vous pour économiser.Situé à Amiens, à seulement 1 km du Zénith, l'établissement Le toit des Fédérés propose un hébergement avec vue sur la ville. Vous bénéficierez gratuitement d'une connexion Wi-Fi et d'un parking privé. Cet appartement se trouve à 1,7 km du tribunal de grande instance d'Amiens et à 3,5 km de l'université de Picardie Jules Verne.Cet appartement comprend 2 chambres, une télévision à écran plat, un coin salon et une salle de bains. Sa cuisine est équipée d'un micro-ondes et d'un réfrigérateur. Les serviettes et le linge de lit sont fournis.Vous séjournerez à 3 km du musée Berny et du parc des jardins flottants. L'aéroport le plus proche, celui de Beauvais-Tillé, est situé à 53 km. ",
           104.07714285714286,
           6
          ],
          [
           49.89193885,
           2.30575562,
           "Au Spatial",
           "https://www.booking.com/hotel/fr/au-spatial.fr.html?label=gen173nr-1FCAEoggI46AdIDVgEaBWIAQGYAQ24ARjIAQ_YAQHoAQH4AQKIAgGoAgS4Asz9_pIGwAIB0gIkNjc5NmQ4ZDctMDc4My00ZjgzLWE2MzUtZWMwZGRkM2FlMTg12AIF4AIB&sid=533e0a790980cbb34b2b3e9d594e6000&aid=304142&ucfs=1&arphpl=1&group_adults=2&req_adults=2&no_rooms=1&group_children=0&req_children=0&hpos=11&hapos=11&sr_order=popularity&srpvid=549838edab2a02b6&srepoch=1650441948&from_sustainable_property_sr=1&from=searchresults#hotelTmpl",
           "L'établissement Au Spatial est situé au cœur d'Amiens. La gare et la cathédrale de la ville se trouvent respectivement à 2 minutes et 6 minutes de marche. Une connexion Wi-Fi est disponible gratuitement.Toutes les chambres comportent une télévision à écran plat avec les chaînes Canal + et BBC. Leur salle de bains privative est pourvue d'une douche ou d'une baignoire.Un petit-déjeuner buffet est servi chaque matin dans la salle prévue à cette effet. Le buffet comprend des confitures maison, des céréales, des viennoiseries, du pain, du fromage, de la charcuterie et des yaourts.Le zoo d'Amiens est situé à 3 km de l'hôtel Au Spatial. Un parking privé est à votre disposition sur place, moyennant un supplément journalier et sous réserve de disponibilité. ",
           104.07714285714286,
           6
          ],
          [
           49.89013675,
           2.29853201,
           "Charmant T2 Hyper-centre, Netflix, Gare",
           "https://www.booking.com/hotel/fr/charmant-t2-hyper-centre-netflix-gare.fr.html?label=gen173nr-1FCAEoggI46AdIDVgEaBWIAQGYAQ24ARjIAQ_YAQHoAQH4AQKIAgGoAgS4Asz9_pIGwAIB0gIkNjc5NmQ4ZDctMDc4My00ZjgzLWE2MzUtZWMwZGRkM2FlMTg12AIF4AIB&sid=533e0a790980cbb34b2b3e9d594e6000&aid=304142&ucfs=1&arphpl=1&group_adults=2&req_adults=2&no_rooms=1&group_children=0&req_children=0&hpos=12&hapos=12&sr_order=popularity&srpvid=549838edab2a02b6&srepoch=1650441948&from=searchresults#hotelTmpl",
           "Situé à Amiens, à 400 mètres du musée Berny, le Charmant T2 Hyper-centre, Netflix, Gare dispose d'un salon avec une télévision. Il se trouve à 1,9 km du Zénith d'Amiens et dispose d'une connexion Wi-Fi gratuite ainsi que d'une réception ouverte 24h/24.Cet appartement comprend une chambre, un lave-linge et une salle de bains pourvue d'un sèche-cheveux. Sa cuisine est équipée d'un micro-ondes et d'un réfrigérateur.Vous séjournerez à 1,2 km du parc des jardins flottants et à 400 mètres du tribunal de grande instance d'Amiens. L'aéroport de Beauvais-Tillé, le plus proche, est à 50 km. ",
           104.07714285714286,
           6
          ],
          [
           49.889702,
           2.2984392,
           "Une Maison en ville, Chambre d'hôtes, Hyper centre d'Amiens",
           "https://www.booking.com/hotel/fr/une-maison-en-ville-amiens.fr.html?label=gen173nr-1FCAEoggI46AdIDVgEaBWIAQGYAQ24ARjIAQ_YAQHoAQH4AQKIAgGoAgS4Asz9_pIGwAIB0gIkNjc5NmQ4ZDctMDc4My00ZjgzLWE2MzUtZWMwZGRkM2FlMTg12AIF4AIB&sid=533e0a790980cbb34b2b3e9d594e6000&aid=304142&ucfs=1&arphpl=1&group_adults=2&req_adults=2&no_rooms=1&group_children=0&req_children=0&hpos=13&hapos=13&sr_order=popularity&srpvid=549838edab2a02b6&srepoch=1650441948&from=searchresults#hotelTmpl",
           "Vous pouvez bénéficier d'une réduction Genius dans l'établissement Une Maison en ville, Chambre d'hôtes, Hyper centre d'Amiens ! Connectez-vous pour économiser.Doté d’un jardin, d’un salon commun et d’une connexion Wi-Fi gratuite, l’établissement Une Maison En Ville Chambre d’hotes propose des hébergements à Amiens, à 1,7 km des Hortillonnages et à 2,5 km du Zénith d'Amiens.Toutes les chambres comprennent une salle de bains privative pourvue d’une douche, d’un sèche-cheveux et d’articles de toilette gratuits.Cette chambre d'hôtes sert un petit-déjeuner continental tous les matins.Vous pourrez également profiter d’une terrasse.L'établissement Une Maison En Ville Chambre d’hotes se trouve à 700 mètres de la cathédrale Notre-Dame d’Amiens et à 2,2 km du musée de l’Hôtel de Berny ainsi que du tribunal de grande instance d’Amiens. L’aéroport le plus proche, celui de Beauvais-Tillé, est situé à 62 km. ",
           104.07714285714286,
           6
          ],
          [
           49.887125,
           2.295143,
           "Ginkgo Maison d'hôtes",
           "https://www.booking.com/hotel/fr/ginkgo-maison-d-39-hotes.fr.html?label=gen173nr-1FCAEoggI46AdIDVgEaBWIAQGYAQ24ARjIAQ_YAQHoAQH4AQKIAgGoAgS4Asz9_pIGwAIB0gIkNjc5NmQ4ZDctMDc4My00ZjgzLWE2MzUtZWMwZGRkM2FlMTg12AIF4AIB&sid=533e0a790980cbb34b2b3e9d594e6000&aid=304142&ucfs=1&arphpl=1&group_adults=2&req_adults=2&no_rooms=1&group_children=0&req_children=0&hpos=14&hapos=14&sr_order=popularity&srpvid=549838edab2a02b6&srepoch=1650441948&from=searchresults#hotelTmpl",
           "Installé à Amiens, à moins de 2,3 km du Zénith, le Ginkgo Maison d’hôtes propose un service de concierge, des chambres non-fumeurs, un salon commun, un jardin et une connexion Wi-Fi gratuite dans l’ensemble des locaux. Cet établissement possède des chambres familiales et une terrasse bien exposée. Vous séjournerez à 2,2 km du tribunal de grande instance d’Amiens et à 3,5 km de l’université de Picardie Jules Verne.Les chambres de la maison d'hôtes disposent d’un bureau, d’une télévision à écran plat et d’une salle de bains privative. Le linge de lit et les serviettes de toilette sont fournis. Certaines chambres offrent une vue sur la ville et toutes sont équipées d'une machine à café. Les logements comportent une armoire et une bouilloire.Un petit-déjeuner continental est servi le matin.Les hortillonnages se trouvent à 1,8 km du Ginkgo Maison d'hôtes, tandis que le musée de Berny est à 2,1 km. L’aéroport de Paris-Beauvais-Tillé, le plus proche, est situé à 53 km de la maison d'hôtes. ",
           104.07714285714286,
           6
          ],
          [
           49.888542,
           2.331349,
           "Comme une parenthèse au coeur des hortillonnages",
           "https://www.booking.com/hotel/fr/comme-une-parenthese-au-coeur-des-hortillonnages.fr.html?label=gen173nr-1FCAEoggI46AdIDVgEaBWIAQGYAQ24ARjIAQ_YAQHoAQH4AQKIAgGoAgS4Asz9_pIGwAIB0gIkNjc5NmQ4ZDctMDc4My00ZjgzLWE2MzUtZWMwZGRkM2FlMTg12AIF4AIB&sid=533e0a790980cbb34b2b3e9d594e6000&aid=304142&ucfs=1&arphpl=1&group_adults=2&req_adults=2&no_rooms=1&group_children=0&req_children=0&hpos=15&hapos=15&sr_order=popularity&srpvid=549838edab2a02b6&srepoch=1650441948&from=searchresults#hotelTmpl",
           "Vous pouvez bénéficier d'une réduction Genius dans l'établissement Comme une parenthèse au coeur des hortillonnages ! Connectez-vous pour économiser.Situé à Amiens, à moins de 5 km du Zénith d'Amiens et à 2 km du parc des jardins flottants, l'établissement Comme une parenthèse au coeur des hortillonnages propose des hébergements avec un jardin. Vous bénéficierez gratuitement d'une connexion Wi-Fi et d'un parking privé. Il propose des chambres familiales et un barbecue. Vous pourrez profiter d'une vue sur le jardin.Toutes les chambres de cette maison d'hôtes comprennent une armoire, une terrasse avec vue sur la rivière, une salle de bains privative, une télévision, du linge de lit et des serviettes. Toutes les chambres du Comme une parenthèse au coeur des hortillonnages comprennent un coin salon.Un petit-déjeuner continental est servi sur place.Vous pourrez pratiquer diverses activités à Amiens et dans ses environs, telles que le vélo, la pêche et le canoë-kayak.Vous séjournerez à 2,5 km du musée Berny et à 2,6 km du tribunal de grande instance d'Amiens. L'aéroport le plus proche, celui de Beauvais-Tillé, est situé à 65 km. ",
           104.07714285714286,
           6
          ],
          [
           49.891422,
           2.304996,
           "ibis Styles Amiens Centre",
           "https://www.booking.com/hotel/fr/ibis-styles-amiens-centre.fr.html?label=gen173nr-1FCAEoggI46AdIDVgEaBWIAQGYAQ24ARjIAQ_YAQHoAQH4AQKIAgGoAgS4Asz9_pIGwAIB0gIkNjc5NmQ4ZDctMDc4My00ZjgzLWE2MzUtZWMwZGRkM2FlMTg12AIF4AIB&sid=533e0a790980cbb34b2b3e9d594e6000&aid=304142&ucfs=1&arphpl=1&group_adults=2&req_adults=2&no_rooms=1&group_children=0&req_children=0&hpos=16&hapos=16&sr_order=popularity&srpvid=549838edab2a02b6&srepoch=1650441948&from_sustainable_property_sr=1&from=searchresults#hotelTmpl",
           "Situé à Amiens, à 3,4 km du Zénith, l'ibis Styles Amiens Centre propose des chambres climatisées et un bar. Il propose une réception ouverte 24h/24, un salon commun et une connexion Wi-Fi gratuite dans l'ensemble de ses locaux. L'hôtel propose des chambres familiales.Toutes les chambres comprennent une armoire, une télévision à écran plat, une salle de bains privative, du linge de lit et des serviettes.L'ibis Styles Amiens Centre sert un petit-déjeuner continental ou buffet.Une terrasse bien exposée est présente.Vous séjournerez à proximité du musée Berny, du parc des jardins flottants et du tribunal de grande instance d'Amiens. L'aéroport de Beauvais-Tillé, le plus proche, est implanté à 64 km. ",
           104.07714285714286,
           6
          ],
          [
           49.891591,
           2.313573,
           "ibis budget Amiens Centre Gare",
           "https://www.booking.com/hotel/fr/ibis-budget-amiens-centre-gare.fr.html?label=gen173nr-1FCAEoggI46AdIDVgEaBWIAQGYAQ24ARjIAQ_YAQHoAQH4AQKIAgGoAgS4Asz9_pIGwAIB0gIkNjc5NmQ4ZDctMDc4My00ZjgzLWE2MzUtZWMwZGRkM2FlMTg12AIF4AIB&sid=533e0a790980cbb34b2b3e9d594e6000&aid=304142&ucfs=1&arphpl=1&group_adults=2&req_adults=2&no_rooms=1&group_children=0&req_children=0&hpos=17&hapos=17&sr_order=popularity&srpvid=549838edab2a02b6&srepoch=1650441948&from_sustainable_property_sr=1&from=searchresults#hotelTmpl",
           "L'ibis budget Amiens Centre Gare est situé dans le centre-ville d'Amiens, à 5 minutes à pied de la gare d'Amiens et à 15 minutes à pied de la cathédrale Notre-Dame d'Amiens. L'hôtel propose une connexion Wi-Fi gratuite.Toutes les chambres climatisées disposent d'une télévision à écran plat et d'une salle de bains privative équipée d'une douche.Un petit-déjeuner buffet est servi sur place tous les matins.Enfin, l'aéroport de Paris Beauvais-Tillé, le plus proche, est implanté à 50 km. ",
           104.07714285714286,
           6
          ],
          [
           49.89571084,
           2.29956239,
           "Mercure Amiens Cathédrale",
           "https://www.booking.com/hotel/fr/mercure-amiens-cathdrale.fr.html?label=gen173nr-1FCAEoggI46AdIDVgEaBWIAQGYAQ24ARjIAQ_YAQHoAQH4AQKIAgGoAgS4Asz9_pIGwAIB0gIkNjc5NmQ4ZDctMDc4My00ZjgzLWE2MzUtZWMwZGRkM2FlMTg12AIF4AIB&sid=533e0a790980cbb34b2b3e9d594e6000&aid=304142&ucfs=1&arphpl=1&group_adults=2&req_adults=2&no_rooms=1&group_children=0&req_children=0&hpos=18&hapos=18&sr_order=popularity&srpvid=549838edab2a02b6&srepoch=1650441948&from_sustainable_property_sr=1&from=searchresults#hotelTmpl",
           "L’hôtel 4 étoiles Mercure Amiens Cathédrale vous accueille en face de la plus grande cathédrale médiévale de France, classée au patrimoine mondial de l'Unesco.D’une superficie comprise entre 25 et 41m2, toutes les chambres et suites ont été récemment rénovées. Spacieuses et insonorisées, elles bénéficient de la climatisation en été. Les hébergements sont équipés d'une connexion Wi-Fi gratuite et d'une télévision par satellite à écran plat recevant des chaînes françaises et internationales. Vous bénéficierez également d’un plateau/bouilloire et d’un minibar comportant une bouteille d'eau gratuite.Sur place, le restaurant l'Échanson sert une large gamme de plats raffinés ainsi que des spécialités à base de produits locaux et régionaux. ",
           104.07714285714286,
           6
          ],
          [
           49.8943163,
           2.3097612,
           "Appart'City Amiens Gare Cathédrale",
           "https://www.booking.com/hotel/fr/appart-city-amiens.fr.html?label=gen173nr-1FCAEoggI46AdIDVgEaBWIAQGYAQ24ARjIAQ_YAQHoAQH4AQKIAgGoAgS4Asz9_pIGwAIB0gIkNjc5NmQ4ZDctMDc4My00ZjgzLWE2MzUtZWMwZGRkM2FlMTg12AIF4AIB&sid=533e0a790980cbb34b2b3e9d594e6000&aid=304142&ucfs=1&arphpl=1&group_adults=2&req_adults=2&no_rooms=1&group_children=0&req_children=0&hpos=19&hapos=19&sr_order=popularity&srpvid=549838edab2a02b6&srepoch=1650441948&from_sustainable_property_sr=1&from=searchresults#hotelTmpl",
           "Situé à 300 mètres de la cathédrale Notre-Dame d'Amiens et des Hortillonnages, l'Appart'City Amiens Gare Cathédrale propose des studios indépendants avec une télévision à écran LCD et une kitchenette entièrement équipée. Il se trouve à 1 km du musée de Picardie et à 5 minutes de marche de la gare.Les hébergements comprennent une salle de bains pourvue d'une douche à l'italienne, un téléphone et un bureau. Vous bénéficierez gratuitement d'une connexion Internet par câble et Wi-Fi.Un petit-déjeuner buffet est proposé tous les matins. Il se compose d'une variété de pains (pain sans gluten etc.), de viennoiseries, de boissons chaudes et froides, de salade de fruits, de fruits frais, de fromages et de yaourts.Vous pourrez visiter le beffroi d'Amiens, à 1,5 km, ou jouer au golf à 8 km. L'autoroute A29 est accessible à 3,2 km. ",
           104.07714285714286,
           6
          ],
          [
           49.88977885,
           2.30249941,
           "Le Saint Louis",
           "https://www.booking.com/hotel/fr/le-saint-louis-amienq.fr.html?label=gen173nr-1FCAEoggI46AdIDVgEaBWIAQGYAQ24ARjIAQ_YAQHoAQH4AQKIAgGoAgS4Asz9_pIGwAIB0gIkNjc5NmQ4ZDctMDc4My00ZjgzLWE2MzUtZWMwZGRkM2FlMTg12AIF4AIB&sid=533e0a790980cbb34b2b3e9d594e6000&aid=304142&ucfs=1&arphpl=1&group_adults=2&req_adults=2&no_rooms=1&group_children=0&req_children=0&hpos=20&hapos=20&sr_order=popularity&srpvid=549838edab2a02b6&srepoch=1650441948&from=searchresults#hotelTmpl",
           "Le Saint Louis est situé dans le centre-ville d'Amiens, à 300 mètres de la gare et de la cathédrale. Il propose des chambres avec télévision par satellite et connexion Wi-Fi gratuite.Les chambres de l'Hôtel Le Saint-Louis sont personnalisées et comprennent une salle de bains privée.Le Saint Louis se trouve à proximité des principaux sites touristiques de la ville comme la rue des Piétons, la maison de Jules Verne et la Tour Perret.Un parking public gratuit est disponible à côté de l'hôtel. ",
           104.07714285714286,
           6
          ],
          [
           49.4446518,
           1.0913262,
           "Maison hypercentre Rouen tout confort",
           "https://www.booking.com/hotel/fr/maison-hypercentre-rouen-tout-confort.fr.html?label=gen173nr-1FCAEoggI46AdIDVgEaBWIAQGYAQ24ARjIAQ_YAQHoAQH4AQKIAgGoAgS4Asz9_pIGwAIB0gIkNjc5NmQ4ZDctMDc4My00ZjgzLWE2MzUtZWMwZGRkM2FlMTg12AIF4AIB&sid=533e0a790980cbb34b2b3e9d594e6000&aid=304142&ucfs=1&arphpl=1&group_adults=2&req_adults=2&no_rooms=1&group_children=0&req_children=0&hpos=1&hapos=1&sr_order=popularity&srpvid=480438ec5837014d&srepoch=1650441946&from=searchresults#hotelTmpl",
           "Vous pouvez bénéficier d'une réduction Genius dans l'établissement Maison hypercentre Rouen tout confort ! Connectez-vous pour économiser.Située dans le centre de Rouen, à seulement 700 mètres de la cathédrale Notre-Dame, la Maison hypercentre Rouen tout confort offre une vue sur la ville et propose une connexion Wi-Fi gratuite.Cet appartement comprend 2 chambres, une télévision par satellite à écran plat, une cuisine équipée d'un lave-vaisselle et d'un micro-ondes ainsi qu'une salle de bains pourvue d'une douche.Enfin, l'aéroport de Deauville-Normandie, le plus proche, est implanté à 68 km de la Maison hypercentre Rouen tout confort. ",
           106.32285714285716,
           4
          ],
          [
           49.44306423,
           1.08660311,
           "Best Western Plus Hotel Litteraire Gustave Flaubert",
           "https://www.booking.com/hotel/fr/hotellitterairegustaveflaubert.fr.html?label=gen173nr-1FCAEoggI46AdIDVgEaBWIAQGYAQ24ARjIAQ_YAQHoAQH4AQKIAgGoAgS4Asz9_pIGwAIB0gIkNjc5NmQ4ZDctMDc4My00ZjgzLWE2MzUtZWMwZGRkM2FlMTg12AIF4AIB&sid=533e0a790980cbb34b2b3e9d594e6000&aid=304142&ucfs=1&arphpl=1&group_adults=2&req_adults=2&no_rooms=1&group_children=0&req_children=0&hpos=2&hapos=2&sr_order=popularity&srpvid=480438ec5837014d&srepoch=1650441946&from_sustainable_property_sr=1&from=searchresults#hotelTmpl",
           "Vous pouvez bénéficier d'une réduction Genius dans l'établissement Best Western Plus Hotel Litteraire Gustave Flaubert ! Connectez-vous pour économiser.Situé dans le centre historique de Rouen, à 3 km du Kindarena, le Best Western Plus Hotel Litteraire Gustave Flaubert propose des hébergements à la décoration inspirée par l’œuvre littéraire de Gustave Flaubert. Une connexion Wi-Fi gratuite est accessible dans l’ensemble de l’établissement.Les chambres élégantes disposent d’une télévision par satellite à écran plat. Chacune est également pourvue d’une salle de bains privative. Certaines possèdent une station d'accueil pour iPod.Chaque matin, le petit-déjeuner vous sera servi dans la salle dédiée ou dans le confort de votre chambre. Après une journée bien remplie, vous pourrez vous détendre en savourant un verre dans le salon à cocktails de l’hôtel. Par ailleurs, vous trouverez de nombreux restaurants français et internationaux dans les environs.Vous séjournerez à seulement 10 minutes de marche de la cathédrale Notre-Dame de Rouen et à 800 mètres du musée des Beaux-Arts. Un parking privé est accessible sur réservation et moyennant des frais supplémentaires. Des places de stationnement publiques sont également disponibles autour du BEST WESTERN Hôtel Littéraire Gustave Flaubert. ",
           106.32285714285716,
           4
          ],
          [
           49.44332714,
           1.09457396,
           "Le Vieux Carré",
           "https://www.booking.com/hotel/fr/le-vieux-carre.fr.html?label=gen173nr-1FCAEoggI46AdIDVgEaBWIAQGYAQ24ARjIAQ_YAQHoAQH4AQKIAgGoAgS4Asz9_pIGwAIB0gIkNjc5NmQ4ZDctMDc4My00ZjgzLWE2MzUtZWMwZGRkM2FlMTg12AIF4AIB&sid=533e0a790980cbb34b2b3e9d594e6000&aid=304142&ucfs=1&arphpl=1&group_adults=2&req_adults=2&no_rooms=1&group_children=0&req_children=0&hpos=3&hapos=3&sr_order=popularity&srpvid=480438ec5837014d&srepoch=1650441946&from=searchresults#hotelTmpl",
           "L'hôtel Le Vieux Carré est situé dans le centre de Rouen, dans une zone piétonne, à seulement 850 mètres de la gare de Rouen-Rive-Droite. Il dispose de chambres avec salle de bains privative ainsi que d'une cour intérieure fleurie et arborée.Le restaurant du Vieux Carré sert tous les jours un petit-déjeuner continental et le déjeuner. Dans l'après-midi, il se transforme en salon de thé servant des pâtisseries gastronomiques. Vous pourrez prendre vos repas en plein air, dans la cour.Chaque chambre du Vieux Carré est équipée d'une télévision et d'un téléphone. Leur salles de bains privatives sont pourvues d'une baignoire. De plus, une connexion Wi-Fi est mise gratuitement à votre disposition dans l'ensemble de l'établissement.La salon commun est agrémenté de poutres apparentes et d'un mobilier en bois. Vous apprécierez de vous détendre dans les fauteuils au coin du feu.Le Vieux Carré se trouve à 400 mètres de la cathédrale Notre-Dame et à 450 mètres du musée des Beaux-Arts de Rouen. Vous trouverez un parking public à proximité. ",
           106.32285714285716,
           4
          ],
          [
           49.44117285,
           1.09517545,
           "Mercure Rouen Centre Cathédrale",
           "https://www.booking.com/hotel/fr/mercure-rouen-centre.fr.html?label=gen173nr-1FCAEoggI46AdIDVgEaBWIAQGYAQ24ARjIAQ_YAQHoAQH4AQKIAgGoAgS4Asz9_pIGwAIB0gIkNjc5NmQ4ZDctMDc4My00ZjgzLWE2MzUtZWMwZGRkM2FlMTg12AIF4AIB&sid=533e0a790980cbb34b2b3e9d594e6000&aid=304142&ucfs=1&arphpl=1&group_adults=2&req_adults=2&no_rooms=1&group_children=0&req_children=0&hpos=4&hapos=4&sr_order=popularity&srpvid=480438ec5837014d&srepoch=1650441946&from_sustainable_property_sr=1&from=searchresults#hotelTmpl",
           "Le Mercure Rouen Centre Cathédrale propose des chambres climatisées dotées d'une télévision par satellite, d'une connexion Wi-Fi gratuite et d'une salle de bains privative dans le centre de Rouen, à 160 mètres de la cathédrale Notre-Dame et à 3 km du palais des sports de Rouen.L'établissement sert un petit-déjeuner complet que vous pourrez déguster dans le confort de votre chambre. Un petit-déjeuner express est également disponible. Vous pourrez par ailleurs prendre un verre au bar de l'hôtel.Le Mercure Rouen Centre se trouve à seulement quelques pas de la place du Vieux Marché et du Gros-Horloge. La gare de Rouen est située à seulement 1 km. L'établissement met un parking privé souterrain à votre disposition. ",
           106.32285714285716,
           4
          ],
          [
           49.44197641,
           1.09243892,
           "Les Initiés",
           "https://www.booking.com/hotel/fr/les-inities-rouen.fr.html?label=gen173nr-1FCAEoggI46AdIDVgEaBWIAQGYAQ24ARjIAQ_YAQHoAQH4AQKIAgGoAgS4Asz9_pIGwAIB0gIkNjc5NmQ4ZDctMDc4My00ZjgzLWE2MzUtZWMwZGRkM2FlMTg12AIF4AIB&sid=533e0a790980cbb34b2b3e9d594e6000&aid=304142&ucfs=1&arphpl=1&group_adults=2&req_adults=2&no_rooms=1&group_children=0&req_children=0&hpos=5&hapos=5&sr_order=popularity&srpvid=480438ec5837014d&srepoch=1650441946&from=searchresults#hotelTmpl",
           "Installé au cœur du centre historique de Rouen, l'établissement Les Initiés est situé à seulement 10 minutes à pied de la gare de Rouen-Rive-Droite et à 3 km du stade Kindarena. En face du palais de justice, il propose des chambres décorées de façon personnalisée avec une connexion Wi-Fi gratuite et une salle de bains privative.Un petit-déjeuner continental vous sera servi tous les matins du lundi au samedi. Il est disponible le dimanche sur réservation. Offrant une vue sur le palais de justice, le bar-brasserie des Initiés prépare une cuisine régionale.Le Gros-Horloge vous attend à seulement 150 mètres de l'Hôtel Les Initiés, tandis que la cathédrale Notre-Dame se trouve à 5 minutes à pied. L'emplacement de l'établissement est idéal pour découvrir la capitale historique de Normandie. ",
           106.32285714285716,
           4
          ],
          [
           49.44011681,
           1.09693363,
           "Hôtel De La Cathédrale",
           "https://www.booking.com/hotel/fr/de-la-cathedrale.fr.html?label=gen173nr-1FCAEoggI46AdIDVgEaBWIAQGYAQ24ARjIAQ_YAQHoAQH4AQKIAgGoAgS4Asz9_pIGwAIB0gIkNjc5NmQ4ZDctMDc4My00ZjgzLWE2MzUtZWMwZGRkM2FlMTg12AIF4AIB&sid=533e0a790980cbb34b2b3e9d594e6000&aid=304142&ucfs=1&arphpl=1&group_adults=2&req_adults=2&no_rooms=1&group_children=0&req_children=0&hpos=6&hapos=6&sr_order=popularity&srpvid=480438ec5837014d&srepoch=1650441946&from=searchresults#hotelTmpl",
           "Arborant une façade à colombages datant du XVIIe siècle, l'Hôtel De La Cathédrale est situé à seulement 50 mètres de la cathédrale de Rouen, en plein cœur du centre historique de la ville. Cet établissement vous accueille à 4 km de la salle omnisports Kindarena. Lors de votre séjour, vous pourrez prendre un goûter dans une salle s'ouvrant sur la terrasse. Un parking public sécurisé et payant est accessible à proximité.Les chambres à la décoration personnalisée comprennent toutes une télévision par câble à écran plat. Certaines possèdent un coin salon. Leur salle de bains privative est pourvue d'un sèche-cheveux.Chaque matin, un petit-déjeuner buffet est servi dans la salle à manger, décorée dans un style normand traditionnel.Vous séjournerez à 5 minutes à pied de l'église de Saint-Ouen. Enfin, l'Hôtel De La Cathédrale se trouve à seulement 1,6 km de la gare de Rouen-Rive-Droite. ",
           106.32285714285716,
           4
          ],
          [
           49.429988,
           1.072398,
           "Holiday Inn Express - Rouen Centre - Rive Gauche, an IHG Hotel",
           "https://www.booking.com/hotel/fr/holiday-inn-express-rouen-centre-rive-gauche.fr.html?label=gen173nr-1FCAEoggI46AdIDVgEaBWIAQGYAQ24ARjIAQ_YAQHoAQH4AQKIAgGoAgS4Asz9_pIGwAIB0gIkNjc5NmQ4ZDctMDc4My00ZjgzLWE2MzUtZWMwZGRkM2FlMTg12AIF4AIB&sid=533e0a790980cbb34b2b3e9d594e6000&aid=304142&ucfs=1&arphpl=1&group_adults=2&req_adults=2&no_rooms=1&group_children=0&req_children=0&hpos=7&hapos=7&sr_order=popularity&srpvid=480438ec5837014d&srepoch=1650441946&from=searchresults#hotelTmpl",
           "Installé à 3,1 km de la cathédrale Notre-Dame de Rouen, l’Holiday Inn Express - Rouen Centre - Rive Gauche, an IHG Hotel vous propose un restaurant, un parking privé, un bar et un salon commun. L’établissement dispose d’une réception ouverte 24h/24 et d’une connexion Wi-Fi gratuite.Les chambres de l’hôtel comprennent la climatisation, un bureau, une bouilloire, un coffre-fort et une télévision à écran plat. Leur salle de bains privative est pourvue d’une douche. Les serviettes de toilette et le linge de lit sont fournis dans chaque hébergement.Le matin, vous pourrez déguster un petit-déjeuner buffet ou continental sur place.L’Holiday Inn Express - Rouen Centre - Rive Gauche, an IHG Hotel se trouve à 3,2 km du Kindarena, le palais des sports de Rouen. L’aéroport de Deauville-Normandie, le plus proche, est accessible à 86 km. ",
           106.32285714285716,
           4
          ],
          [
           49.43783419,
           1.09725282,
           "Hotel De Quebec",
           "https://www.booking.com/hotel/fr/alive-hotel-de-quebec.fr.html?label=gen173nr-1FCAEoggI46AdIDVgEaBWIAQGYAQ24ARjIAQ_YAQHoAQH4AQKIAgGoAgS4Asz9_pIGwAIB0gIkNjc5NmQ4ZDctMDc4My00ZjgzLWE2MzUtZWMwZGRkM2FlMTg12AIF4AIB&sid=533e0a790980cbb34b2b3e9d594e6000&aid=304142&ucfs=1&arphpl=1&group_adults=2&req_adults=2&no_rooms=1&group_children=0&req_children=0&hpos=8&hapos=8&sr_order=popularity&srpvid=480438ec5837014d&srepoch=1650441946&from=searchresults#hotelTmpl",
           "L'Alive Hôtel de Québec vous accueille dans un quartier paisible au cœur de Rouen. Situé à 3 km de la salle omnisports Kindarena et à 5 minutes de marche de la vieille ville et de la cathédrale de Rouen, l'établissement fournit une connexion Wi-Fi gratuite.Durant votre séjour, vous pourrez commencer la journée avec un petit-déjeuner buffet. Moyennant des frais supplémentaires, vous aurez aussi la possibilité de déguster le petit-déjeuner dans le confort de votre chambre.L'hôtel met à votre disposition un salon commun pour vos moments de détente. De plus, son emplacement proche de la vieille ville vous permettra de découvrir ses rues étroites, ses antiquaires et ses jolies églises.L'Alive Hôtel de Québec se trouve à 20 minutes de marche de la gare de Rouen Rive Droite et à 800 mètres de l'arrêt de tramway Théâtre des Arts. ",
           106.32285714285716,
           4
          ],
          [
           49.4385349,
           1.09345078,
           "The Originals City, Hôtel Notre Dame, Rouen",
           "https://www.booking.com/hotel/fr/hotel-notre-dame.fr.html?label=gen173nr-1FCAEoggI46AdIDVgEaBWIAQGYAQ24ARjIAQ_YAQHoAQH4AQKIAgGoAgS4Asz9_pIGwAIB0gIkNjc5NmQ4ZDctMDc4My00ZjgzLWE2MzUtZWMwZGRkM2FlMTg12AIF4AIB&sid=533e0a790980cbb34b2b3e9d594e6000&aid=304142&ucfs=1&arphpl=1&group_adults=2&req_adults=2&no_rooms=1&group_children=0&req_children=0&hpos=9&hapos=9&sr_order=popularity&srpvid=480438ec5837014d&srepoch=1650441946&from_sustainable_property_sr=1&from=searchresults#hotelTmpl",
           "Inter-Hotel Rouen Notre Dame is in the centre of Rouen, between the cathedral and the River Seine. It is 3 km from the Kindarena Stadium.The rooms have a TV and free WiFi internet access. Many rooms were renovated in 2019.Breakfast can be enjoyed every morning at an extra cost.The Gothic Notre Dame Cathedral, Gros Horloge astronomical clock and the modern St Joan of Arc Church are within walking distance of Hotel Notre Dame.Please note our establishment is not suitable for people with reduced mobility. ",
           106.32285714285716,
           4
          ],
          [
           49.437454,
           1.096183,
           "Ibis Styles Rouen Centre Cathédrale",
           "https://www.booking.com/hotel/fr/ibis-styles-rouen-centre-cathedrale.fr.html?label=gen173nr-1FCAEoggI46AdIDVgEaBWIAQGYAQ24ARjIAQ_YAQHoAQH4AQKIAgGoAgS4Asz9_pIGwAIB0gIkNjc5NmQ4ZDctMDc4My00ZjgzLWE2MzUtZWMwZGRkM2FlMTg12AIF4AIB&sid=533e0a790980cbb34b2b3e9d594e6000&aid=304142&ucfs=1&arphpl=1&group_adults=2&req_adults=2&no_rooms=1&group_children=0&req_children=0&hpos=10&hapos=10&sr_order=popularity&srpvid=480438ec5837014d&srepoch=1650441946&from_sustainable_property_sr=1&from=searchresults#hotelTmpl",
           "Doté d'une connexion Wi-Fi gratuite et d'une terrasse, l'Ibis Styles Rouen Centre Cathédrale propose des hébergements à Rouen, à 1,6 km de la gare de la ville ainsi qu'à 3 km du palais des sports du Kindarena. Les animaux domestiques sont les bienvenus. De plus, un parking public est accessible à proximité de l'établissement moyennant des frais supplémentaires.Certaines chambres offrent une vue sur le fleuve ou la ville, tandis que d'autres disposent d'un balcon. Chacune d'entre elles comprend une salle de bains privative et une télévision à écran plat.Lors de votre séjour, vous pourrez déguster un petit-déjeuner buffet sur place.La cathédrale Notre-Dame de Rouen se trouve à 200 mètres de l'ibis Styles Rouen Centre Cathédrale, tandis que l'hôpital universitaire de Rouen est à 900 mètres. Enfin, l'aéroport de Beauvais-Tillé, le plus proche, se situe à 73 km. ",
           106.32285714285716,
           4
          ],
          [
           49.442178,
           1.088876,
           "Hôtel de Bourgtheroulde, Autograph Collection",
           "https://www.booking.com/hotel/fr/de-bourgtheroulde.fr.html?label=gen173nr-1FCAEoggI46AdIDVgEaBWIAQGYAQ24ARjIAQ_YAQHoAQH4AQKIAgGoAgS4Asz9_pIGwAIB0gIkNjc5NmQ4ZDctMDc4My00ZjgzLWE2MzUtZWMwZGRkM2FlMTg12AIF4AIB&sid=533e0a790980cbb34b2b3e9d594e6000&aid=304142&ucfs=1&arphpl=1&group_adults=2&req_adults=2&no_rooms=1&group_children=0&req_children=0&hpos=11&hapos=11&sr_order=popularity&srpvid=480438ec5837014d&srepoch=1650441946&from_sustainable_property_sr=1&from=searchresults#hotelTmpl",
           "Ce boutique hôtel vous accueille dans le centre historique de Rouen, à côté du Gros-Horloge et à 2 km de la salle omnisports Kindarena. Vous bénéficierez d’un accès gratuit à la piscine intérieure, à la salle de sport et au spa où sont proposés un sauna, un hammam et une gamme de soins.Toutes les chambres climatisées de l’Hotel de Bourgtheroulde comprennent une connexion Wi-Fi gratuite, une télévision à écran plat et une salle de bains privative. Certains hébergements donnent sur la galerie d’Aumale, la place de la Pucelle ou le temple Saint-Éloi.Le restaurant L’Aumale sert une cuisine traditionnelle préparée à base de produits régionaux. L’établissement propose également un petit-déjeuner buffet. Vous aurez la possibilité de prendre un verre au bar ou sur la terrasse.Lors de votre séjour, vous pourrez visiter la ville et ses sites d’intérêt, comme la cathédrale Notre-Dame et la place du Vieux-Marché. Vous séjournerez à 1 km de la gare de Rouen-Rive-Droite. Un parking privé est disponible sur place, sur réservation. ",
           106.32285714285716,
           4
          ],
          [
           49.44569975,
           1.094523,
           "Hotel Morand",
           "https://www.booking.com/hotel/fr/lemorand.fr.html?label=gen173nr-1FCAEoggI46AdIDVgEaBWIAQGYAQ24ARjIAQ_YAQHoAQH4AQKIAgGoAgS4Asz9_pIGwAIB0gIkNjc5NmQ4ZDctMDc4My00ZjgzLWE2MzUtZWMwZGRkM2FlMTg12AIF4AIB&sid=533e0a790980cbb34b2b3e9d594e6000&aid=304142&ucfs=1&arphpl=1&group_adults=2&req_adults=2&no_rooms=1&group_children=0&req_children=0&hpos=12&hapos=12&sr_order=popularity&srpvid=480438ec5837014d&srepoch=1650441946&from=searchresults#hotelTmpl",
           "L’Hotel Morand est un ancien relais de poste rénové, datant du XVIIe siècle. Cet établissement vous accueille dans le centre historique de Rouen, à 400 mètres de la gare SNCF de Saint-Paul. Une connexion Wi-Fi est disponible gratuitement dans l’ensemble des locaux.Toutes les chambres de l'Hotel Morand sont équipées d'un plateau/bouilloire et d'une télévision à écran plat. Leur salle de bains privative est pourvue d’une douche et d’un sèche-cheveux.Un petit-déjeuner continental est servi tous les matins sur place. Vous pourrez vous détendre dans le salon muni d’une cheminée et de poutres apparentes.Le Morand se trouve en face du musée des Beaux-Arts et à 2 minutes à pied de la cathédrale de Rouen. ",
           106.32285714285716,
           4
          ],
          [
           49.443658,
           1.090557,
           "studi'home",
           "https://www.booking.com/hotel/fr/studi-39-home.fr.html?label=gen173nr-1FCAEoggI46AdIDVgEaBWIAQGYAQ24ARjIAQ_YAQHoAQH4AQKIAgGoAgS4Asz9_pIGwAIB0gIkNjc5NmQ4ZDctMDc4My00ZjgzLWE2MzUtZWMwZGRkM2FlMTg12AIF4AIB&sid=533e0a790980cbb34b2b3e9d594e6000&aid=304142&ucfs=1&arphpl=1&group_adults=2&req_adults=2&no_rooms=1&group_children=0&req_children=0&hpos=13&hapos=13&sr_order=popularity&srpvid=480438ec5837014d&srepoch=1650441946&from=searchresults#hotelTmpl",
           "Vous pouvez bénéficier d'une réduction Genius dans l'établissement studi'home ! Connectez-vous pour économiser.Situé dans le centre de Rouen, à 600 mètres de la cathédrale Notre-Dame, le studi'home propose des hébergements bien équipés avec connexion Wi-Fi gratuite.Tous les logements comprennent un coin salon avec un canapé ainsi qu'une cuisine entièrement équipée avec un micro-ondes, un réfrigérateur, un four et des plaques de cuisson. Un grille-pain et une machine à café sont également fournis.L'aéroport de Deauville-Normandie, le plus proche, est à 80 km. ",
           106.32285714285716,
           4
          ],
          [
           49.444266,
           1.096321,
           "Nuit Zen Rouen - Jacuzzi - Centre Historique",
           "https://www.booking.com/hotel/fr/nuit-zen-rouen.fr.html?label=gen173nr-1FCAEoggI46AdIDVgEaBWIAQGYAQ24ARjIAQ_YAQHoAQH4AQKIAgGoAgS4Asz9_pIGwAIB0gIkNjc5NmQ4ZDctMDc4My00ZjgzLWE2MzUtZWMwZGRkM2FlMTg12AIF4AIB&sid=533e0a790980cbb34b2b3e9d594e6000&aid=304142&ucfs=1&arphpl=1&group_adults=2&req_adults=2&no_rooms=1&group_children=0&req_children=0&hpos=14&hapos=14&sr_order=popularity&srpvid=480438ec5837014d&srepoch=1650441946&from=searchresults#hotelTmpl",
           "Vous pouvez bénéficier d'une réduction Genius dans l'établissement Nuit Zen Rouen - Jacuzzi - Centre Historique ! Connectez-vous pour économiser.Situé à 500 mètres de la cathédrale Notre-Dame de Rouen, le Nuit Zen Rouen - Jacuzzi - Centre Historique propose un hébergement avec accès à un jacuzzi. Vous bénéficierez gratuitement d'un parking privé et d'une connexion Wi-Fi.Cet appartement comprend 3 chambres, une télévision par câble à écran plat, un lave-linge et une salle de bains pourvue d'une douche. Sa cuisine est équipée d'un micro-ondes et d'un lave-vaisselle. Les serviettes et le linge de lit sont fournis.L'aéroport de Beauvais-Tillé, le plus proche, est à 85 km. ",
           106.32285714285716,
           4
          ],
          [
           49.44530171,
           1.09545842,
           "Gîte Beffroy",
           "https://www.booking.com/hotel/fr/gite-beffroy.fr.html?label=gen173nr-1FCAEoggI46AdIDVgEaBWIAQGYAQ24ARjIAQ_YAQHoAQH4AQKIAgGoAgS4Asz9_pIGwAIB0gIkNjc5NmQ4ZDctMDc4My00ZjgzLWE2MzUtZWMwZGRkM2FlMTg12AIF4AIB&sid=533e0a790980cbb34b2b3e9d594e6000&aid=304142&ucfs=1&arphpl=1&group_adults=2&req_adults=2&no_rooms=1&group_children=0&req_children=0&hpos=15&hapos=15&sr_order=popularity&srpvid=480438ec5837014d&srepoch=1650441946&from=searchresults#hotelTmpl",
           "Le Gîte Beffroy est un appartement indépendant situé au cœur de Rouen, à seulement 160 mètres du musée des beaux-arts de Rouen. Cet appartement 1 chambre est installé dans un gîte avec un jardin et dispose d'une connexion Wi-Fi gratuite.Il comprend un salon muni d'une télévision à écran plat et d'un lecteur DVD ainsi qu'une cuisine équipée d'un four micro-ondes, d'un four et d'ustensiles de cuisine. Vous disposerez d'un lave-linge et la salle de bains est pourvue d'une douche et d'un sèche-cheveux.Vous trouverez un parking privé gratuit sur place ainsi que des boutiques et des restaurants dans les environs. L'appartement se situe à 600 mètres de l'église de Saint-Ouen et à 750 mètres de la cathédrale de Rouen. ",
           106.32285714285716,
           4
          ],
          [
           49.4462806,
           1.0868884,
           "Cosy'Appart - LA CAUCHOISE",
           "https://www.booking.com/hotel/fr/la-cauchoise-appart-spacieux-moderne.fr.html?label=gen173nr-1FCAEoggI46AdIDVgEaBWIAQGYAQ24ARjIAQ_YAQHoAQH4AQKIAgGoAgS4Asz9_pIGwAIB0gIkNjc5NmQ4ZDctMDc4My00ZjgzLWE2MzUtZWMwZGRkM2FlMTg12AIF4AIB&sid=533e0a790980cbb34b2b3e9d594e6000&aid=304142&ucfs=1&arphpl=1&group_adults=2&req_adults=2&no_rooms=1&group_children=0&req_children=0&hpos=16&hapos=16&sr_order=popularity&srpvid=480438ec5837014d&srepoch=1650441946&from=searchresults#hotelTmpl",
           "Vous pouvez bénéficier d'une réduction Genius dans l'établissement Cosy'Appart - LA CAUCHOISE ! Connectez-vous pour économiser.Situé à Rouen, à seulement 2,1 km de la cathédrale Notre-Dame, le Cosy'Appart - LA CAUCHOISE propose un hébergement avec vue sur la ville, connexion Wi-Fi et parking privé gratuits.Cet appartement comprend 2 chambres, une télévision par satellite à écran plat, un lave-linge et une salle de bains pourvue d'une douche. Sa cuisine est équipée d'un micro-ondes et d'un réfrigérateur. Les serviettes et le linge de lit sont fournis.L'aéroport de Beauvais-Tillé, le plus proche, est à 86 km. ",
           106.32285714285716,
           4
          ],
          [
           49.4502853,
           1.0890898,
           "La Villa",
           "https://www.booking.com/hotel/fr/ermitage-bouquet-rouen.fr.html?label=gen173nr-1FCAEoggI46AdIDVgEaBWIAQGYAQ24ARjIAQ_YAQHoAQH4AQKIAgGoAgS4Asz9_pIGwAIB0gIkNjc5NmQ4ZDctMDc4My00ZjgzLWE2MzUtZWMwZGRkM2FlMTg12AIF4AIB&sid=533e0a790980cbb34b2b3e9d594e6000&aid=304142&ucfs=1&arphpl=1&group_adults=2&req_adults=2&no_rooms=1&group_children=0&req_children=0&hpos=17&hapos=17&sr_order=popularity&srpvid=480438ec5837014d&srepoch=1650441946&from_sustainable_property_sr=1&from=searchresults#hotelTmpl",
           "Vous pouvez bénéficier d'une réduction Genius dans l'établissement La Villa ! Connectez-vous pour économiser.Située à 2,2 km de la cathédrale Notre-Dame de Rouen, La Villa propose des hébergements avec connexion Wi-Fi et parking privé gratuits.Un micro-ondes, un réfrigérateur, une bouilloire et une machine à café sont également fournis.L'aéroport de Beauvais-Tillé, le plus proche, est à 86 km. ",
           106.32285714285716,
           4
          ],
          [
           49.4416499,
           1.1106108,
           "Welk'Home Loft Rouen CHU - Coeur Historique",
           "https://www.booking.com/hotel/fr/welk-39-home-armada-loft-chu-coeur-historique-47-4p.fr.html?label=gen173nr-1FCAEoggI46AdIDVgEaBWIAQGYAQ24ARjIAQ_YAQHoAQH4AQKIAgGoAgS4Asz9_pIGwAIB0gIkNjc5NmQ4ZDctMDc4My00ZjgzLWE2MzUtZWMwZGRkM2FlMTg12AIF4AIB&sid=533e0a790980cbb34b2b3e9d594e6000&aid=304142&ucfs=1&arphpl=1&group_adults=2&req_adults=2&no_rooms=1&group_children=0&req_children=0&hpos=18&hapos=18&sr_order=popularity&srpvid=480438ec5837014d&srepoch=1650441946&from=searchresults#hotelTmpl",
           "Vous pouvez bénéficier d'une réduction Genius dans l'établissement Welk'Home Loft Rouen CHU - Coeur Historique ! Connectez-vous pour économiser.Situé à Rouen, à 1,8 km de la cathédrale Notre-Dame, le Welk'Home Loft Rouen CHU - Coeur Historique propose des hébergements avec un salon commun, une connexion Wi-Fi gratuite et une cuisine commune. Il offre une vue sur le jardin.Cet appartement comprend une chambre, une télévision par câble à écran plat, un lave-linge et une salle de bains pourvue d'une douche. Sa cuisine est équipée d'un micro-ondes et d'un lave-vaisselle. Les serviettes et le linge de lit sont fournis.Vous pourrez faire du vélo dans les environs.L'aéroport de Beauvais-Tillé, le plus proche, est à 84 km. ",
           106.32285714285716,
           4
          ],
          [
           49.44358481,
           1.09777585,
           "Hôtel 1er Consul Rouen",
           "https://www.booking.com/hotel/fr/brit-versan.fr.html?label=gen173nr-1FCAEoggI46AdIDVgEaBWIAQGYAQ24ARjIAQ_YAQHoAQH4AQKIAgGoAgS4Asz9_pIGwAIB0gIkNjc5NmQ4ZDctMDc4My00ZjgzLWE2MzUtZWMwZGRkM2FlMTg12AIF4AIB&sid=533e0a790980cbb34b2b3e9d594e6000&aid=304142&ucfs=1&arphpl=1&group_adults=2&req_adults=2&no_rooms=1&group_children=0&req_children=0&hpos=19&hapos=19&sr_order=popularity&srpvid=480438ec5837014d&srepoch=1650441946&from_sustainable_property_sr=1&from=searchresults#hotelTmpl",
           "L'Hôtel 1er Consul Rouen vous accueille dans le centre-ville de la capitale normande. L'établissement se situe juste en face de la mairie de Rouen et à 3 km du stade Kindarena. Ses chambres sont desservies par un ascenseur et disposent d'une télévision par satellite et d'une connexion Wi-Fi gratuite.Un petit-déjeuner buffet composé de viennoiseries, de charcuterie et d'œufs est servi tous les jours dans la salle à manger de l'hôtel. Vous pourrez également vous détendre devant un verre dans le bar ou dans le salon.L'Hôtel 1er Consul Rouen se trouve à 12 minutes à pied de la gare ferroviaire, à 650 mètres de la cathédrale de Rouen et à 240 mètres de l'église Saint-Maclou. ",
           106.32285714285716,
           4
          ],
          [
           49.444804,
           1.107645,
           "Cosy'Appart - COEUR DE SEINE",
           "https://www.booking.com/hotel/fr/coeur-de-seine-rouen.fr.html?label=gen173nr-1FCAEoggI46AdIDVgEaBWIAQGYAQ24ARjIAQ_YAQHoAQH4AQKIAgGoAgS4Asz9_pIGwAIB0gIkNjc5NmQ4ZDctMDc4My00ZjgzLWE2MzUtZWMwZGRkM2FlMTg12AIF4AIB&sid=533e0a790980cbb34b2b3e9d594e6000&aid=304142&ucfs=1&arphpl=1&group_adults=2&req_adults=2&no_rooms=1&group_children=0&req_children=0&hpos=20&hapos=20&sr_order=popularity&srpvid=480438ec5837014d&srepoch=1650441946&from_sustainable_property_sr=1&from=searchresults#hotelTmpl",
           "Vous pouvez bénéficier d'une réduction Genius dans l'établissement Cosy'Appart - COEUR DE SEINE ! Connectez-vous pour économiser.Situé dans le centre de Rouen, à seulement 1,3 km de la cathédrale Notre-Dame, le Cosy'Appart - COEUR DE SEINE offre une vue sur la ville et dispose d'une connexion Wi-Fi gratuite.Cet appartement comprend une chambre, une télévision par satellite à écran plat, un lave-linge et une salle de bains pourvue d'une douche. Sa cuisine est équipée d'un micro-ondes et d'un lave-vaisselle. Les serviettes et le linge de lit sont fournis.L'aéroport de Beauvais-Tillé, le plus proche, est à 85 km. ",
           106.32285714285716,
           4
          ]
         ],
         "hovertemplate": "<b>%{hovertext}</b><br><br>Score=%{marker.color}<br>Hotel Name=%{customdata[2]}<extra></extra>",
         "hovertext": [
          "Collioure",
          "Collioure",
          "Collioure",
          "Collioure",
          "Collioure",
          "Collioure",
          "Collioure",
          "Collioure",
          "Collioure",
          "Collioure",
          "Collioure",
          "Collioure",
          "Collioure",
          "Collioure",
          "Collioure",
          "Collioure",
          "Collioure",
          "Collioure",
          "Collioure",
          "Collioure",
          "Lille",
          "Lille",
          "Lille",
          "Lille",
          "Lille",
          "Lille",
          "Lille",
          "Lille",
          "Lille",
          "Lille",
          "Lille",
          "Lille",
          "Lille",
          "Lille",
          "Lille",
          "Lille",
          "Lille",
          "Lille",
          "Lille",
          "Lille",
          "Aix en Provence",
          "Aix en Provence",
          "Aix en Provence",
          "Aix en Provence",
          "Aix en Provence",
          "Aix en Provence",
          "Aix en Provence",
          "Aix en Provence",
          "Aix en Provence",
          "Aix en Provence",
          "Aix en Provence",
          "Aix en Provence",
          "Aix en Provence",
          "Aix en Provence",
          "Aix en Provence",
          "Aix en Provence",
          "Aix en Provence",
          "Aix en Provence",
          "Aix en Provence",
          "Aix en Provence",
          "Amiens",
          "Amiens",
          "Amiens",
          "Amiens",
          "Amiens",
          "Amiens",
          "Amiens",
          "Amiens",
          "Amiens",
          "Amiens",
          "Amiens",
          "Amiens",
          "Amiens",
          "Amiens",
          "Amiens",
          "Amiens",
          "Amiens",
          "Amiens",
          "Amiens",
          "Amiens",
          "Rouen",
          "Rouen",
          "Rouen",
          "Rouen",
          "Rouen",
          "Rouen",
          "Rouen",
          "Rouen",
          "Rouen",
          "Rouen",
          "Rouen",
          "Rouen",
          "Rouen",
          "Rouen",
          "Rouen",
          "Rouen",
          "Rouen",
          "Rouen",
          "Rouen",
          "Rouen"
         ],
         "lat": [
          42.52534777,
          42.52616733,
          42.52371617,
          42.52708254,
          42.52638625,
          42.52439,
          42.52794367,
          42.5271222,
          42.5273935,
          42.5224086,
          42.52538159,
          42.5231333,
          42.52591431,
          42.52510633,
          42.5235481,
          42.52547153,
          42.52328654,
          42.5211169,
          42.527007,
          42.52182,
          50.63788756,
          50.62914624,
          50.627831,
          50.63238245,
          50.63528798,
          50.63075938,
          50.63654707,
          50.63647023,
          50.63883337,
          50.634074,
          50.63359887,
          50.63220722,
          50.63685668,
          50.62905798,
          50.63557145,
          50.6456983,
          50.63786885,
          50.64106837,
          50.63993565,
          50.63444099,
          43.496316,
          43.52409101,
          43.52524078,
          43.51191632,
          43.52461222,
          43.52693137,
          43.52356201,
          43.5312636,
          43.52890621,
          43.52191762,
          43.52891205,
          43.52688664,
          43.52624048,
          43.52879731,
          43.5211698,
          43.51126943,
          43.5255987,
          43.5285445,
          43.555131,
          43.52485921,
          49.8916762,
          49.8953831,
          49.92513403,
          49.89444519,
          49.88714842,
          49.894229,
          49.89183258,
          49.887694,
          49.90235783,
          49.8965252,
          49.89193885,
          49.89013675,
          49.889702,
          49.887125,
          49.888542,
          49.891422,
          49.891591,
          49.89571084,
          49.8943163,
          49.88977885,
          49.4446518,
          49.44306423,
          49.44332714,
          49.44117285,
          49.44197641,
          49.44011681,
          49.429988,
          49.43783419,
          49.4385349,
          49.437454,
          49.442178,
          49.44569975,
          49.443658,
          49.444266,
          49.44530171,
          49.4462806,
          49.4502853,
          49.4416499,
          49.44358481,
          49.444804
         ],
         "legendgroup": "",
         "lon": [
          3.09032446,
          3.08235571,
          3.08713473,
          3.08026291,
          3.08325659,
          3.082726,
          3.07773619,
          3.0765161,
          3.0847579,
          3.0869409,
          3.08256391,
          3.0855761,
          3.0826816,
          3.0904362,
          3.08187379,
          3.0826987,
          3.0813629,
          3.07730913,
          3.0836656,
          3.0773047,
          3.072685,
          3.06419907,
          3.063592,
          3.06794286,
          3.06970725,
          3.05808842,
          3.06234241,
          3.07490923,
          3.07668149,
          3.064229,
          3.06328118,
          3.04668635,
          3.06794286,
          3.08113396,
          3.06783289,
          3.07210967,
          3.0546277,
          3.05505589,
          3.07568908,
          3.07335824,
          5.342152,
          5.45521617,
          5.441266,
          5.43665394,
          5.45375437,
          5.44626698,
          5.44593707,
          5.44507004,
          5.44086903,
          5.45787156,
          5.43827534,
          5.44727147,
          5.43820493,
          5.42567968,
          5.49659729,
          5.48701439,
          5.4517208,
          5.42601228,
          5.461814,
          5.45370072,
          2.30775386,
          2.297772,
          2.30457276,
          2.30094239,
          2.3116109,
          2.305778,
          2.30599433,
          2.294524,
          2.31428465,
          2.2825902,
          2.30575562,
          2.29853201,
          2.2984392,
          2.295143,
          2.331349,
          2.304996,
          2.313573,
          2.29956239,
          2.3097612,
          2.30249941,
          1.0913262,
          1.08660311,
          1.09457396,
          1.09517545,
          1.09243892,
          1.09693363,
          1.072398,
          1.09725282,
          1.09345078,
          1.096183,
          1.088876,
          1.094523,
          1.090557,
          1.096321,
          1.09545842,
          1.0868884,
          1.0890898,
          1.1106108,
          1.09777585,
          1.107645
         ],
         "marker": {
          "color": [
           9,
           8.7,
           7.4,
           7.9,
           8.1,
           9.4,
           5,
           9.4,
           9.1,
           9,
           8,
           8.3,
           8,
           8,
           8.5,
           8.4,
           8.2,
           8.9,
           5,
           8.5,
           8.1,
           8.4,
           8.7,
           7.8,
           7.8,
           8.1,
           8.5,
           7.4,
           8.2,
           8.8,
           7,
           8,
           8.1,
           7.3,
           7.7,
           8.2,
           7.8,
           8.5,
           8,
           8.1,
           8.5,
           7.4,
           8.2,
           7.4,
           8,
           7.9,
           8.2,
           8.4,
           8.6,
           8.6,
           7.8,
           8.2,
           8.2,
           8.2,
           9,
           7.4,
           8.4,
           7.1,
           9.4,
           7.9,
           8.1,
           9.3,
           6.9,
           8.4,
           8.2,
           7.9,
           7.7,
           9.5,
           8.7,
           7.9,
           7.3,
           9,
           9.2,
           9.4,
           9,
           8.7,
           8.2,
           8.3,
           7.4,
           8.1,
           8.8,
           8.6,
           8.2,
           8.2,
           8.2,
           7.9,
           8.5,
           8.4,
           7.4,
           7.4,
           8.5,
           7.4,
           8.6,
           9.2,
           9.2,
           8.6,
           8.7,
           8.9,
           7.8,
           8.8
          ],
          "coloraxis": "coloraxis",
          "size": [
           9,
           8.7,
           7.4,
           7.9,
           8.1,
           9.4,
           5,
           9.4,
           9.1,
           9,
           8,
           8.3,
           8,
           8,
           8.5,
           8.4,
           8.2,
           8.9,
           5,
           8.5,
           8.1,
           8.4,
           8.7,
           7.8,
           7.8,
           8.1,
           8.5,
           7.4,
           8.2,
           8.8,
           7,
           8,
           8.1,
           7.3,
           7.7,
           8.2,
           7.8,
           8.5,
           8,
           8.1,
           8.5,
           7.4,
           8.2,
           7.4,
           8,
           7.9,
           8.2,
           8.4,
           8.6,
           8.6,
           7.8,
           8.2,
           8.2,
           8.2,
           9,
           7.4,
           8.4,
           7.1,
           9.4,
           7.9,
           8.1,
           9.3,
           6.9,
           8.4,
           8.2,
           7.9,
           7.7,
           9.5,
           8.7,
           7.9,
           7.3,
           9,
           9.2,
           9.4,
           9,
           8.7,
           8.2,
           8.3,
           7.4,
           8.1,
           8.8,
           8.6,
           8.2,
           8.2,
           8.2,
           7.9,
           8.5,
           8.4,
           7.4,
           7.4,
           8.5,
           7.4,
           8.6,
           9.2,
           9.2,
           8.6,
           8.7,
           8.9,
           7.8,
           8.8
          ],
          "sizemode": "area",
          "sizeref": 0.0152
         },
         "mode": "markers",
         "name": "",
         "showlegend": false,
         "subplot": "mapbox",
         "type": "scattermapbox"
        }
       ],
       "layout": {
        "coloraxis": {
         "cmax": 9.5,
         "cmin": 5,
         "colorbar": {
          "title": {
           "text": "Score"
          }
         },
         "colorscale": [
          [
           0,
           "rgb(165,0,38)"
          ],
          [
           0.1,
           "rgb(215,48,39)"
          ],
          [
           0.2,
           "rgb(244,109,67)"
          ],
          [
           0.3,
           "rgb(253,174,97)"
          ],
          [
           0.4,
           "rgb(254,224,139)"
          ],
          [
           0.5,
           "rgb(255,255,191)"
          ],
          [
           0.6,
           "rgb(217,239,139)"
          ],
          [
           0.7,
           "rgb(166,217,106)"
          ],
          [
           0.8,
           "rgb(102,189,99)"
          ],
          [
           0.9,
           "rgb(26,152,80)"
          ],
          [
           1,
           "rgb(0,104,55)"
          ]
         ]
        },
        "height": 800,
        "legend": {
         "itemsizing": "constant",
         "tracegroupgap": 0
        },
        "mapbox": {
         "accesstoken": "pk.eyJ1Ijoidm9ud2VuIiwiYSI6ImNsMWM0dmZnazA0N2gzZG8wa2N1OTM0ZDEifQ.lCZ3DFaUYPS5XIJCWi6yNA",
         "center": {
          "lat": 47.2041995107,
          "lon": 2.9984044179000007
         },
         "domain": {
          "x": [
           0,
           1
          ],
          "y": [
           0,
           1
          ]
         },
         "zoom": 4.7
        },
        "margin": {
         "t": 60
        },
        "template": {
         "data": {
          "bar": [
           {
            "error_x": {
             "color": "#f2f5fa"
            },
            "error_y": {
             "color": "#f2f5fa"
            },
            "marker": {
             "line": {
              "color": "rgb(17,17,17)",
              "width": 0.5
             },
             "pattern": {
              "fillmode": "overlay",
              "size": 10,
              "solidity": 0.2
             }
            },
            "type": "bar"
           }
          ],
          "barpolar": [
           {
            "marker": {
             "line": {
              "color": "rgb(17,17,17)",
              "width": 0.5
             },
             "pattern": {
              "fillmode": "overlay",
              "size": 10,
              "solidity": 0.2
             }
            },
            "type": "barpolar"
           }
          ],
          "carpet": [
           {
            "aaxis": {
             "endlinecolor": "#A2B1C6",
             "gridcolor": "#506784",
             "linecolor": "#506784",
             "minorgridcolor": "#506784",
             "startlinecolor": "#A2B1C6"
            },
            "baxis": {
             "endlinecolor": "#A2B1C6",
             "gridcolor": "#506784",
             "linecolor": "#506784",
             "minorgridcolor": "#506784",
             "startlinecolor": "#A2B1C6"
            },
            "type": "carpet"
           }
          ],
          "choropleth": [
           {
            "colorbar": {
             "outlinewidth": 0,
             "ticks": ""
            },
            "type": "choropleth"
           }
          ],
          "contour": [
           {
            "colorbar": {
             "outlinewidth": 0,
             "ticks": ""
            },
            "colorscale": [
             [
              0,
              "#0d0887"
             ],
             [
              0.1111111111111111,
              "#46039f"
             ],
             [
              0.2222222222222222,
              "#7201a8"
             ],
             [
              0.3333333333333333,
              "#9c179e"
             ],
             [
              0.4444444444444444,
              "#bd3786"
             ],
             [
              0.5555555555555556,
              "#d8576b"
             ],
             [
              0.6666666666666666,
              "#ed7953"
             ],
             [
              0.7777777777777778,
              "#fb9f3a"
             ],
             [
              0.8888888888888888,
              "#fdca26"
             ],
             [
              1,
              "#f0f921"
             ]
            ],
            "type": "contour"
           }
          ],
          "contourcarpet": [
           {
            "colorbar": {
             "outlinewidth": 0,
             "ticks": ""
            },
            "type": "contourcarpet"
           }
          ],
          "heatmap": [
           {
            "colorbar": {
             "outlinewidth": 0,
             "ticks": ""
            },
            "colorscale": [
             [
              0,
              "#0d0887"
             ],
             [
              0.1111111111111111,
              "#46039f"
             ],
             [
              0.2222222222222222,
              "#7201a8"
             ],
             [
              0.3333333333333333,
              "#9c179e"
             ],
             [
              0.4444444444444444,
              "#bd3786"
             ],
             [
              0.5555555555555556,
              "#d8576b"
             ],
             [
              0.6666666666666666,
              "#ed7953"
             ],
             [
              0.7777777777777778,
              "#fb9f3a"
             ],
             [
              0.8888888888888888,
              "#fdca26"
             ],
             [
              1,
              "#f0f921"
             ]
            ],
            "type": "heatmap"
           }
          ],
          "heatmapgl": [
           {
            "colorbar": {
             "outlinewidth": 0,
             "ticks": ""
            },
            "colorscale": [
             [
              0,
              "#0d0887"
             ],
             [
              0.1111111111111111,
              "#46039f"
             ],
             [
              0.2222222222222222,
              "#7201a8"
             ],
             [
              0.3333333333333333,
              "#9c179e"
             ],
             [
              0.4444444444444444,
              "#bd3786"
             ],
             [
              0.5555555555555556,
              "#d8576b"
             ],
             [
              0.6666666666666666,
              "#ed7953"
             ],
             [
              0.7777777777777778,
              "#fb9f3a"
             ],
             [
              0.8888888888888888,
              "#fdca26"
             ],
             [
              1,
              "#f0f921"
             ]
            ],
            "type": "heatmapgl"
           }
          ],
          "histogram": [
           {
            "marker": {
             "pattern": {
              "fillmode": "overlay",
              "size": 10,
              "solidity": 0.2
             }
            },
            "type": "histogram"
           }
          ],
          "histogram2d": [
           {
            "colorbar": {
             "outlinewidth": 0,
             "ticks": ""
            },
            "colorscale": [
             [
              0,
              "#0d0887"
             ],
             [
              0.1111111111111111,
              "#46039f"
             ],
             [
              0.2222222222222222,
              "#7201a8"
             ],
             [
              0.3333333333333333,
              "#9c179e"
             ],
             [
              0.4444444444444444,
              "#bd3786"
             ],
             [
              0.5555555555555556,
              "#d8576b"
             ],
             [
              0.6666666666666666,
              "#ed7953"
             ],
             [
              0.7777777777777778,
              "#fb9f3a"
             ],
             [
              0.8888888888888888,
              "#fdca26"
             ],
             [
              1,
              "#f0f921"
             ]
            ],
            "type": "histogram2d"
           }
          ],
          "histogram2dcontour": [
           {
            "colorbar": {
             "outlinewidth": 0,
             "ticks": ""
            },
            "colorscale": [
             [
              0,
              "#0d0887"
             ],
             [
              0.1111111111111111,
              "#46039f"
             ],
             [
              0.2222222222222222,
              "#7201a8"
             ],
             [
              0.3333333333333333,
              "#9c179e"
             ],
             [
              0.4444444444444444,
              "#bd3786"
             ],
             [
              0.5555555555555556,
              "#d8576b"
             ],
             [
              0.6666666666666666,
              "#ed7953"
             ],
             [
              0.7777777777777778,
              "#fb9f3a"
             ],
             [
              0.8888888888888888,
              "#fdca26"
             ],
             [
              1,
              "#f0f921"
             ]
            ],
            "type": "histogram2dcontour"
           }
          ],
          "mesh3d": [
           {
            "colorbar": {
             "outlinewidth": 0,
             "ticks": ""
            },
            "type": "mesh3d"
           }
          ],
          "parcoords": [
           {
            "line": {
             "colorbar": {
              "outlinewidth": 0,
              "ticks": ""
             }
            },
            "type": "parcoords"
           }
          ],
          "pie": [
           {
            "automargin": true,
            "type": "pie"
           }
          ],
          "scatter": [
           {
            "marker": {
             "line": {
              "color": "#283442"
             }
            },
            "type": "scatter"
           }
          ],
          "scatter3d": [
           {
            "line": {
             "colorbar": {
              "outlinewidth": 0,
              "ticks": ""
             }
            },
            "marker": {
             "colorbar": {
              "outlinewidth": 0,
              "ticks": ""
             }
            },
            "type": "scatter3d"
           }
          ],
          "scattercarpet": [
           {
            "marker": {
             "colorbar": {
              "outlinewidth": 0,
              "ticks": ""
             }
            },
            "type": "scattercarpet"
           }
          ],
          "scattergeo": [
           {
            "marker": {
             "colorbar": {
              "outlinewidth": 0,
              "ticks": ""
             }
            },
            "type": "scattergeo"
           }
          ],
          "scattergl": [
           {
            "marker": {
             "line": {
              "color": "#283442"
             }
            },
            "type": "scattergl"
           }
          ],
          "scattermapbox": [
           {
            "marker": {
             "colorbar": {
              "outlinewidth": 0,
              "ticks": ""
             }
            },
            "type": "scattermapbox"
           }
          ],
          "scatterpolar": [
           {
            "marker": {
             "colorbar": {
              "outlinewidth": 0,
              "ticks": ""
             }
            },
            "type": "scatterpolar"
           }
          ],
          "scatterpolargl": [
           {
            "marker": {
             "colorbar": {
              "outlinewidth": 0,
              "ticks": ""
             }
            },
            "type": "scatterpolargl"
           }
          ],
          "scatterternary": [
           {
            "marker": {
             "colorbar": {
              "outlinewidth": 0,
              "ticks": ""
             }
            },
            "type": "scatterternary"
           }
          ],
          "surface": [
           {
            "colorbar": {
             "outlinewidth": 0,
             "ticks": ""
            },
            "colorscale": [
             [
              0,
              "#0d0887"
             ],
             [
              0.1111111111111111,
              "#46039f"
             ],
             [
              0.2222222222222222,
              "#7201a8"
             ],
             [
              0.3333333333333333,
              "#9c179e"
             ],
             [
              0.4444444444444444,
              "#bd3786"
             ],
             [
              0.5555555555555556,
              "#d8576b"
             ],
             [
              0.6666666666666666,
              "#ed7953"
             ],
             [
              0.7777777777777778,
              "#fb9f3a"
             ],
             [
              0.8888888888888888,
              "#fdca26"
             ],
             [
              1,
              "#f0f921"
             ]
            ],
            "type": "surface"
           }
          ],
          "table": [
           {
            "cells": {
             "fill": {
              "color": "#506784"
             },
             "line": {
              "color": "rgb(17,17,17)"
             }
            },
            "header": {
             "fill": {
              "color": "#2a3f5f"
             },
             "line": {
              "color": "rgb(17,17,17)"
             }
            },
            "type": "table"
           }
          ]
         },
         "layout": {
          "annotationdefaults": {
           "arrowcolor": "#f2f5fa",
           "arrowhead": 0,
           "arrowwidth": 1
          },
          "autotypenumbers": "strict",
          "coloraxis": {
           "colorbar": {
            "outlinewidth": 0,
            "ticks": ""
           }
          },
          "colorscale": {
           "diverging": [
            [
             0,
             "#8e0152"
            ],
            [
             0.1,
             "#c51b7d"
            ],
            [
             0.2,
             "#de77ae"
            ],
            [
             0.3,
             "#f1b6da"
            ],
            [
             0.4,
             "#fde0ef"
            ],
            [
             0.5,
             "#f7f7f7"
            ],
            [
             0.6,
             "#e6f5d0"
            ],
            [
             0.7,
             "#b8e186"
            ],
            [
             0.8,
             "#7fbc41"
            ],
            [
             0.9,
             "#4d9221"
            ],
            [
             1,
             "#276419"
            ]
           ],
           "sequential": [
            [
             0,
             "#0d0887"
            ],
            [
             0.1111111111111111,
             "#46039f"
            ],
            [
             0.2222222222222222,
             "#7201a8"
            ],
            [
             0.3333333333333333,
             "#9c179e"
            ],
            [
             0.4444444444444444,
             "#bd3786"
            ],
            [
             0.5555555555555556,
             "#d8576b"
            ],
            [
             0.6666666666666666,
             "#ed7953"
            ],
            [
             0.7777777777777778,
             "#fb9f3a"
            ],
            [
             0.8888888888888888,
             "#fdca26"
            ],
            [
             1,
             "#f0f921"
            ]
           ],
           "sequentialminus": [
            [
             0,
             "#0d0887"
            ],
            [
             0.1111111111111111,
             "#46039f"
            ],
            [
             0.2222222222222222,
             "#7201a8"
            ],
            [
             0.3333333333333333,
             "#9c179e"
            ],
            [
             0.4444444444444444,
             "#bd3786"
            ],
            [
             0.5555555555555556,
             "#d8576b"
            ],
            [
             0.6666666666666666,
             "#ed7953"
            ],
            [
             0.7777777777777778,
             "#fb9f3a"
            ],
            [
             0.8888888888888888,
             "#fdca26"
            ],
            [
             1,
             "#f0f921"
            ]
           ]
          },
          "colorway": [
           "#636efa",
           "#EF553B",
           "#00cc96",
           "#ab63fa",
           "#FFA15A",
           "#19d3f3",
           "#FF6692",
           "#B6E880",
           "#FF97FF",
           "#FECB52"
          ],
          "font": {
           "color": "#f2f5fa"
          },
          "geo": {
           "bgcolor": "rgb(17,17,17)",
           "lakecolor": "rgb(17,17,17)",
           "landcolor": "rgb(17,17,17)",
           "showlakes": true,
           "showland": true,
           "subunitcolor": "#506784"
          },
          "hoverlabel": {
           "align": "left"
          },
          "hovermode": "closest",
          "mapbox": {
           "style": "dark"
          },
          "paper_bgcolor": "rgb(17,17,17)",
          "plot_bgcolor": "rgb(17,17,17)",
          "polar": {
           "angularaxis": {
            "gridcolor": "#506784",
            "linecolor": "#506784",
            "ticks": ""
           },
           "bgcolor": "rgb(17,17,17)",
           "radialaxis": {
            "gridcolor": "#506784",
            "linecolor": "#506784",
            "ticks": ""
           }
          },
          "scene": {
           "xaxis": {
            "backgroundcolor": "rgb(17,17,17)",
            "gridcolor": "#506784",
            "gridwidth": 2,
            "linecolor": "#506784",
            "showbackground": true,
            "ticks": "",
            "zerolinecolor": "#C8D4E3"
           },
           "yaxis": {
            "backgroundcolor": "rgb(17,17,17)",
            "gridcolor": "#506784",
            "gridwidth": 2,
            "linecolor": "#506784",
            "showbackground": true,
            "ticks": "",
            "zerolinecolor": "#C8D4E3"
           },
           "zaxis": {
            "backgroundcolor": "rgb(17,17,17)",
            "gridcolor": "#506784",
            "gridwidth": 2,
            "linecolor": "#506784",
            "showbackground": true,
            "ticks": "",
            "zerolinecolor": "#C8D4E3"
           }
          },
          "shapedefaults": {
           "line": {
            "color": "#f2f5fa"
           }
          },
          "sliderdefaults": {
           "bgcolor": "#C8D4E3",
           "bordercolor": "rgb(17,17,17)",
           "borderwidth": 1,
           "tickwidth": 0
          },
          "ternary": {
           "aaxis": {
            "gridcolor": "#506784",
            "linecolor": "#506784",
            "ticks": ""
           },
           "baxis": {
            "gridcolor": "#506784",
            "linecolor": "#506784",
            "ticks": ""
           },
           "bgcolor": "rgb(17,17,17)",
           "caxis": {
            "gridcolor": "#506784",
            "linecolor": "#506784",
            "ticks": ""
           }
          },
          "title": {
           "x": 0.05
          },
          "updatemenudefaults": {
           "bgcolor": "#506784",
           "borderwidth": 0
          },
          "xaxis": {
           "automargin": true,
           "gridcolor": "#283442",
           "linecolor": "#506784",
           "ticks": "",
           "title": {
            "standoff": 15
           },
           "zerolinecolor": "#283442",
           "zerolinewidth": 2
          },
          "yaxis": {
           "automargin": true,
           "gridcolor": "#283442",
           "linecolor": "#506784",
           "ticks": "",
           "title": {
            "standoff": 15
           },
           "zerolinecolor": "#283442",
           "zerolinewidth": 2
          }
         }
        },
        "title": {
         "text": "20 best hotels from the 5 cities with the best weather",
         "x": 0.5
        },
        "width": 1100
       }
      }
     },
     "metadata": {},
     "output_type": "display_data"
    }
   ],
   "source": [
    "# Creating a plotly scatter mapbox showing the 20 hotels from the previous 5 top cities\n",
    "px.set_mapbox_access_token(open(\".mapbox_token\").read())\n",
    "\n",
    "fig = px.scatter_mapbox(\n",
    "    df_hotels_full[:100],\n",
    "    lat='lat_hotels',\n",
    "    lon='lon_hotels',\n",
    "    color='score',\n",
    "    color_continuous_scale=px.colors.diverging.RdYlGn,\n",
    "    size='score',\n",
    "    size_max=25,\n",
    "    zoom=4.7,\n",
    "    range_color = [min(df_hotels_full[:100]['score']), max(df_hotels_full[:100]['score'])],\n",
    "    hover_name='city',\n",
    "    hover_data={\n",
    "        'lat_hotels': False,\n",
    "        'lon_hotels': False,\n",
    "        'name': True,\n",
    "        'url': False,\n",
    "        'description': False,\n",
    "        'score_weather': False,\n",
    "        'id': False,\n",
    "        },\n",
    "    labels={'score': 'Score', 'city': 'City'}\n",
    ")\n",
    "\n",
    "fig.update_layout(\n",
    "    width = 1100,\n",
    "    height = 800,\n",
    "    template='plotly_dark',\n",
    "    title_x=0.5,\n",
    "    title_text='20 best hotels from the 5 cities with the best weather')\n",
    "fig.show()"
   ]
  }
 ],
 "metadata": {
  "interpreter": {
   "hash": "398748c372d42d99dcfa9ac8f694c5d292e22baf2e524ae29249ce2ce8b32818"
  },
  "kernelspec": {
   "display_name": "Python 3.9.10 ('base')",
   "language": "python",
   "name": "python3"
  },
  "language_info": {
   "codemirror_mode": {
    "name": "ipython",
    "version": 3
   },
   "file_extension": ".py",
   "mimetype": "text/x-python",
   "name": "python",
   "nbconvert_exporter": "python",
   "pygments_lexer": "ipython3",
   "version": "3.9.12"
  },
  "orig_nbformat": 4
 },
 "nbformat": 4,
 "nbformat_minor": 2
}
